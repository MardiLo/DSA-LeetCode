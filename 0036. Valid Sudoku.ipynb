{
 "cells": [
  {
   "cell_type": "markdown",
   "source": [
    "`# Hash Table`"
   ],
   "metadata": {}
  },
  {
   "cell_type": "markdown",
   "source": [
    "Determine if a `9 x 9` Sudoku board is valid. Only the filled cells need to be validated **according to the following rules**:\n",
    "\n",
    "Each row must contain the digits `1-9` without repetition.\n",
    "Each column must contain the digits `1-9` without repetition.\n",
    "Each of the nine `3 x 3` sub-boxes of the grid must contain the digits 1-9 without repetition.\n",
    "Note:\n",
    "\n",
    "A Sudoku board (partially filled) could be valid but is not necessarily solvable.\n",
    "Only the filled cells need to be validated according to the mentioned rules."
   ],
   "metadata": {}
  },
  {
   "cell_type": "markdown",
   "source": [
    "**Example 1:**  \r\n",
    "![Image of leetcode 0036 problem example 1](https://upload.wikimedia.org/wikipedia/commons/thumb/f/ff/Sudoku-by-L2G-20050714.svg/250px-Sudoku-by-L2G-20050714.svg.png)\r\n",
    "> Input: board =   \r\n",
    "[[\"5\",\"3\",\".\",\".\",\"7\",\".\",\".\",\".\",\".\"]  \r\n",
    ",[\"6\",\".\",\".\",\"1\",\"9\",\"5\",\".\",\".\",\".\"]  \r\n",
    ",[\".\",\"9\",\"8\",\".\",\".\",\".\",\".\",\"6\",\".\"]  \r\n",
    ",[\"8\",\".\",\".\",\".\",\"6\",\".\",\".\",\".\",\"3\"]  \r\n",
    ",[\"4\",\".\",\".\",\"8\",\".\",\"3\",\".\",\".\",\"1\"]  \r\n",
    ",[\"7\",\".\",\".\",\".\",\"2\",\".\",\".\",\".\",\"6\"]  \r\n",
    ",[\".\",\"6\",\".\",\".\",\".\",\".\",\"2\",\"8\",\".\"]  \r\n",
    ",[\".\",\".\",\".\",\"4\",\"1\",\"9\",\".\",\".\",\"5\"]  \r\n",
    ",[\".\",\".\",\".\",\".\",\"8\",\".\",\".\",\"7\",\"9\"]]  \r\n",
    "Output: true\r\n",
    "\r\n",
    "**Example 2:**\r\n",
    "\r\n",
    "> Input: board =   \r\n",
    "[[\"8\",\"3\",\".\",\".\",\"7\",\".\",\".\",\".\",\".\"]  \r\n",
    ",[\"6\",\".\",\".\",\"1\",\"9\",\"5\",\".\",\".\",\".\"]  \r\n",
    ",[\".\",\"9\",\"8\",\".\",\".\",\".\",\".\",\"6\",\".\"]  \r\n",
    ",[\"8\",\".\",\".\",\".\",\"6\",\".\",\".\",\".\",\"3\"]  \r\n",
    ",[\"4\",\".\",\".\",\"8\",\".\",\"3\",\".\",\".\",\"1\"]  \r\n",
    ",[\"7\",\".\",\".\",\".\",\"2\",\".\",\".\",\".\",\"6\"]  \r\n",
    ",[\".\",\"6\",\".\",\".\",\".\",\".\",\"2\",\"8\",\".\"]  \r\n",
    ",[\".\",\".\",\".\",\"4\",\"1\",\"9\",\".\",\".\",\"5\"]  \r\n",
    ",[\".\",\".\",\".\",\".\",\"8\",\".\",\".\",\"7\",\"9\"]]  \r\n",
    "Output: false  \r\n",
    "Explanation: Same as Example 1, except with the 5 in the top left corner being modified to 8. Since there are two 8's in the top left 3x3 sub-box, it is invalid."
   ],
   "metadata": {}
  },
  {
   "cell_type": "code",
   "execution_count": 33,
   "source": [
    "class Solution:\r\n",
    "    \r\n",
    "    # Time Complexity： O(mn)\r\n",
    "    # Space Complexity： O(mn)      \r\n",
    "    def isValidSudoku(self, board: 'List[List[str]]') -> 'bool':\r\n",
    "        sudoku = []\r\n",
    "        for i, row in enumerate(board):\r\n",
    "            for j, c in enumerate(row):\r\n",
    "                if c != '.':\r\n",
    "                    sudoku += [(c, j), (i, c), (i//3, j//3, c)]\r\n",
    "        return len(sudoku) == len(set(sudoku))"
   ],
   "outputs": [],
   "metadata": {}
  },
  {
   "cell_type": "code",
   "execution_count": 34,
   "source": [
    "# Test on Cases\r\n",
    "S = Solution()\r\n",
    "\r\n",
    "print(f\"\"\"Case 1: {S.isValidSudoku([['5','3','.','.','7','.','.','.','.'],\r\n",
    "                                    ['6','.','.','1','9','5','.','.','.'],\r\n",
    "                                    ['.','9','8','.','.','.','.','6','.'],\r\n",
    "                                    ['8','.','.','.','6','.','.','.','3'],\r\n",
    "                                    ['4','.','.','8','.','3','.','.','1'],\r\n",
    "                                    ['7','.','.','.','2','.','.','.','6'],\r\n",
    "                                    ['.','6','.','.','.','.','2','8','.'],\r\n",
    "                                    ['.','.','.','4','1','9','.','.','5'],\r\n",
    "                                    ['.','.','.','.','8','.','.','7','9']])}\"\"\")\r\n",
    "print(f\"\"\"Case 2: {S.isValidSudoku([['8','3','.','.','7','.','.','.','.'],\r\n",
    "                                    ['6','.','.','1','9','5','.','.','.'],\r\n",
    "                                    ['.','9','8','.','.','.','.','6','.'],\r\n",
    "                                    ['8','.','.','.','6','.','.','.','3'],\r\n",
    "                                    ['4','.','.','8','.','3','.','.','1'],\r\n",
    "                                    ['7','.','.','.','2','.','.','.','6'],\r\n",
    "                                    ['.','6','.','.','.','.','2','8','.'],\r\n",
    "                                    ['.','.','.','4','1','9','.','.','5'],\r\n",
    "                                    ['.','.','.','.','8','.','.','7','9']])}\"\"\")"
   ],
   "outputs": [
    {
     "output_type": "stream",
     "name": "stdout",
     "text": [
      "Case 1: True\n",
      "Case 2: False\n"
     ]
    }
   ],
   "metadata": {}
  }
 ],
 "metadata": {
  "kernelspec": {
   "display_name": "Python 3",
   "language": "python",
   "name": "python3"
  },
  "language_info": {
   "codemirror_mode": {
    "name": "ipython",
    "version": 3
   },
   "file_extension": ".py",
   "mimetype": "text/x-python",
   "name": "python",
   "nbconvert_exporter": "python",
   "pygments_lexer": "ipython3",
   "version": "3.7.7"
  }
 },
 "nbformat": 4,
 "nbformat_minor": 4
}