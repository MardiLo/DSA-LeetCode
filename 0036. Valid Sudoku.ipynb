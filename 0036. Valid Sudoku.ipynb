{
 "cells": [
  {
   "cell_type": "markdown",
   "metadata": {},
   "source": [
    "`# Array` `# Hash Table` `# Matrix`"
   ]
  },
  {
   "cell_type": "markdown",
   "metadata": {},
   "source": [
    "Determine if a `9 x 9` Sudoku board is valid. Only the filled cells need to be validated **according to the following rules**:\n",
    "\n",
    "Each row must contain the digits `1-9` without repetition.\n",
    "Each column must contain the digits `1-9` without repetition.\n",
    "Each of the nine `3 x 3` sub-boxes of the grid must contain the digits 1-9 without repetition.\n",
    "Note:\n",
    "\n",
    "A Sudoku board (partially filled) could be valid but is not necessarily solvable.\n",
    "Only the filled cells need to be validated according to the mentioned rules."
   ]
  },
  {
   "cell_type": "markdown",
   "metadata": {},
   "source": [
    "**Example 1:**  \n",
    "![Image of leetcode 0036 problem example 1](https://upload.wikimedia.org/wikipedia/commons/thumb/f/ff/Sudoku-by-L2G-20050714.svg/250px-Sudoku-by-L2G-20050714.svg.png)\n",
    "> Input: board =   \n",
    "[[\"5\",\"3\",\".\",\".\",\"7\",\".\",\".\",\".\",\".\"]  \n",
    ",[\"6\",\".\",\".\",\"1\",\"9\",\"5\",\".\",\".\",\".\"]  \n",
    ",[\".\",\"9\",\"8\",\".\",\".\",\".\",\".\",\"6\",\".\"]  \n",
    ",[\"8\",\".\",\".\",\".\",\"6\",\".\",\".\",\".\",\"3\"]  \n",
    ",[\"4\",\".\",\".\",\"8\",\".\",\"3\",\".\",\".\",\"1\"]  \n",
    ",[\"7\",\".\",\".\",\".\",\"2\",\".\",\".\",\".\",\"6\"]  \n",
    ",[\".\",\"6\",\".\",\".\",\".\",\".\",\"2\",\"8\",\".\"]  \n",
    ",[\".\",\".\",\".\",\"4\",\"1\",\"9\",\".\",\".\",\"5\"]  \n",
    ",[\".\",\".\",\".\",\".\",\"8\",\".\",\".\",\"7\",\"9\"]]  \n",
    "Output: true\n",
    "\n",
    "**Example 2:**\n",
    "\n",
    "> Input: board =   \n",
    "[[\"8\",\"3\",\".\",\".\",\"7\",\".\",\".\",\".\",\".\"]  \n",
    ",[\"6\",\".\",\".\",\"1\",\"9\",\"5\",\".\",\".\",\".\"]  \n",
    ",[\".\",\"9\",\"8\",\".\",\".\",\".\",\".\",\"6\",\".\"]  \n",
    ",[\"8\",\".\",\".\",\".\",\"6\",\".\",\".\",\".\",\"3\"]  \n",
    ",[\"4\",\".\",\".\",\"8\",\".\",\"3\",\".\",\".\",\"1\"]  \n",
    ",[\"7\",\".\",\".\",\".\",\"2\",\".\",\".\",\".\",\"6\"]  \n",
    ",[\".\",\"6\",\".\",\".\",\".\",\".\",\"2\",\"8\",\".\"]  \n",
    ",[\".\",\".\",\".\",\"4\",\"1\",\"9\",\".\",\".\",\"5\"]  \n",
    ",[\".\",\".\",\".\",\".\",\"8\",\".\",\".\",\"7\",\"9\"]]  \n",
    "Output: false  \n",
    "Explanation: Same as Example 1, except with the 5 in the top left corner being modified to 8. Since there are two 8's in the top left 3x3 sub-box, it is invalid."
   ]
  },
  {
   "cell_type": "code",
   "execution_count": 33,
   "metadata": {},
   "outputs": [],
   "source": [
    "class Solution:\n",
    "    \n",
    "    # Time Complexity： O(mn)\n",
    "    # Space Complexity： O(mn)      \n",
    "    def isValidSudoku(self, board: 'List[List[str]]') -> 'bool':\n",
    "        sudoku = []\n",
    "        \n",
    "        for i, row in enumerate(board):\n",
    "            for j, c in enumerate(row):\n",
    "                if c != '.':\n",
    "                    sudoku += [(c, j), (i, c), (i//3, j//3, c)]\n",
    "\n",
    "        return len(sudoku) == len(set(sudoku))"
   ]
  },
  {
   "cell_type": "code",
   "execution_count": 34,
   "metadata": {},
   "outputs": [
    {
     "name": "stdout",
     "output_type": "stream",
     "text": [
      "Case 1: True\n",
      "Case 2: False\n"
     ]
    }
   ],
   "source": [
    "# Test on Cases\n",
    "S = Solution()\n",
    "\n",
    "print(f\"\"\"Case 1: {S.isValidSudoku([['5','3','.','.','7','.','.','.','.'],\n",
    "                                    ['6','.','.','1','9','5','.','.','.'],\n",
    "                                    ['.','9','8','.','.','.','.','6','.'],\n",
    "                                    ['8','.','.','.','6','.','.','.','3'],\n",
    "                                    ['4','.','.','8','.','3','.','.','1'],\n",
    "                                    ['7','.','.','.','2','.','.','.','6'],\n",
    "                                    ['.','6','.','.','.','.','2','8','.'],\n",
    "                                    ['.','.','.','4','1','9','.','.','5'],\n",
    "                                    ['.','.','.','.','8','.','.','7','9']])}\"\"\")\n",
    "print(f\"\"\"Case 2: {S.isValidSudoku([['8','3','.','.','7','.','.','.','.'],\n",
    "                                    ['6','.','.','1','9','5','.','.','.'],\n",
    "                                    ['.','9','8','.','.','.','.','6','.'],\n",
    "                                    ['8','.','.','.','6','.','.','.','3'],\n",
    "                                    ['4','.','.','8','.','3','.','.','1'],\n",
    "                                    ['7','.','.','.','2','.','.','.','6'],\n",
    "                                    ['.','6','.','.','.','.','2','8','.'],\n",
    "                                    ['.','.','.','4','1','9','.','.','5'],\n",
    "                                    ['.','.','.','.','8','.','.','7','9']])}\"\"\")"
   ]
  }
 ],
 "metadata": {
  "kernelspec": {
   "display_name": "Python 3",
   "language": "python",
   "name": "python3"
  },
  "language_info": {
   "codemirror_mode": {
    "name": "ipython",
    "version": 3
   },
   "file_extension": ".py",
   "mimetype": "text/x-python",
   "name": "python",
   "nbconvert_exporter": "python",
   "pygments_lexer": "ipython3",
   "version": "3.7.7"
  }
 },
 "nbformat": 4,
 "nbformat_minor": 4
}
