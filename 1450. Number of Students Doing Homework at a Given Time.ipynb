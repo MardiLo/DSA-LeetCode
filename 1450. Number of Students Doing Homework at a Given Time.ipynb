{
 "cells": [
  {
   "cell_type": "markdown",
   "metadata": {},
   "source": [
    "`# Array`"
   ]
  },
  {
   "cell_type": "markdown",
   "metadata": {},
   "source": [
    "Given two integer arrays `startTime` and `endTime` and given an integer `queryTime`.\n",
    "\n",
    "The `i`<sup>`th`</sup> student started doing their homework at the time `startTime[i]` and finished it at time `endTime[i]`.\n",
    "\n",
    "Return *the number of students* doing their homework at time `queryTime`. More formally, return the number of students where `queryTime` lays in the interval `[startTime[i], endTime[i]]` inclusive."
   ]
  },
  {
   "cell_type": "markdown",
   "metadata": {},
   "source": [
    "**Example 1:**\n",
    "\n",
    "> Input: startTime = [1,2,3], endTime = [3,2,7], queryTime = 4  \n",
    "> Output: 1  \n",
    "> Explanation: We have 3 students where:  \n",
    "> The first student started doing homework at time 1 and finished at time 3 and wasn't doing anything at time 4.  \n",
    "> The second student started doing homework at time 2 and finished at time 2 and also wasn't doing anything at time 4.  \n",
    "> The third student started doing homework at time 3 and finished at time 7 and was the only student doing homework at time 4.\n",
    "\n",
    "**Example 2:**\n",
    "\n",
    "> Input: startTime = [4], endTime = [4], queryTime = 4  \n",
    "> Output: 1  \n",
    "> Explanation: The only student was doing their homework at the queryTime."
   ]
  },
  {
   "cell_type": "code",
   "execution_count": 1,
   "metadata": {},
   "outputs": [],
   "source": [
    "class Solution:\n",
    "\n",
    "    # Time Complexity： O(n)\n",
    "    # Space Complexity： O(1)\n",
    "    def busyStudent(self, startTime: list[int], endTime: list[int], queryTime: int) -> int:\n",
    "        return sum(start <= queryTime <= end for start, end in zip(startTime, endTime))"
   ]
  },
  {
   "cell_type": "code",
   "execution_count": 2,
   "metadata": {},
   "outputs": [
    {
     "name": "stdout",
     "output_type": "stream",
     "text": [
      "Case 1: 1\n",
      "Case 2: 1\n"
     ]
    }
   ],
   "source": [
    "# Test on Cases\n",
    "S = Solution()\n",
    "\n",
    "print(f\"Case 1: {S.busyStudent(startTime=[1,2,3], endTime=[3,2,7], queryTime=4)}\")\n",
    "print(f\"Case 2: {S.busyStudent(startTime=[4], endTime=[4], queryTime=4)}\")"
   ]
  }
 ],
 "metadata": {
  "kernelspec": {
   "display_name": "Python 3 (ipykernel)",
   "language": "python",
   "name": "python3"
  },
  "language_info": {
   "codemirror_mode": {
    "name": "ipython",
    "version": 3
   },
   "file_extension": ".py",
   "mimetype": "text/x-python",
   "name": "python",
   "nbconvert_exporter": "python",
   "pygments_lexer": "ipython3",
   "version": "3.10.4"
  },
  "vscode": {
   "interpreter": {
    "hash": "21d8332eb27bea95342760850bd7426f517b6a483537194bbba87e10eeabf6ff"
   }
  }
 },
 "nbformat": 4,
 "nbformat_minor": 4
}
