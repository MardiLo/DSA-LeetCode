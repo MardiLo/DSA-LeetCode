{
 "cells": [
  {
   "cell_type": "markdown",
   "metadata": {},
   "source": [
    "`# Math`"
   ]
  },
  {
   "cell_type": "markdown",
   "metadata": {},
   "source": [
    "Given two positive integers `a` and `b`, return *the number of ***common*** factors of* `a` *and* `b`.\n",
    "\n",
    "An integer `x` is a **common factor** of `a` and `b` if `x` divides both `a` and `b`."
   ]
  },
  {
   "cell_type": "markdown",
   "metadata": {},
   "source": [
    "**Example 1:**\n",
    "\n",
    "> Input: a = 12, b = 6  \n",
    "> Output: 4  \n",
    "> Explanation: The common factors of 12 and 6 are 1, 2, 3, 6.\n",
    "\n",
    "**Example 2:**\n",
    "\n",
    "> Input: a = 25, b = 30  \n",
    "> Output: 2  \n",
    "> Explanation: The common factors of 25 and 30 are 1, 5."
   ]
  },
  {
   "cell_type": "code",
   "execution_count": 1,
   "metadata": {},
   "outputs": [],
   "source": [
    "class Solution:\n",
    "\n",
    "    # Time Complexity： O(min(a, b))\n",
    "    # Space Complexity： O(1)\n",
    "    def commonFactors(self, a: int, b: int) -> int:\n",
    "        return sum(not a % f and not b % f for f in range(1, min(a, b)+1))"
   ]
  },
  {
   "cell_type": "code",
   "execution_count": 2,
   "metadata": {},
   "outputs": [
    {
     "name": "stdout",
     "output_type": "stream",
     "text": [
      "Case 1: 4\n",
      "Case 2: 2\n"
     ]
    }
   ],
   "source": [
    "# Test on Cases\n",
    "S = Solution()\n",
    "\n",
    "print(f\"Case 1: {S.commonFactors(12, 6)}\")\n",
    "print(f\"Case 2: {S.commonFactors(25, 30)}\")"
   ]
  }
 ],
 "metadata": {
  "kernelspec": {
   "display_name": "Python 3 (ipykernel)",
   "language": "python",
   "name": "python3"
  },
  "language_info": {
   "codemirror_mode": {
    "name": "ipython",
    "version": 3
   },
   "file_extension": ".py",
   "mimetype": "text/x-python",
   "name": "python",
   "nbconvert_exporter": "python",
   "pygments_lexer": "ipython3",
   "version": "3.10.4"
  },
  "vscode": {
   "interpreter": {
    "hash": "21d8332eb27bea95342760850bd7426f517b6a483537194bbba87e10eeabf6ff"
   }
  }
 },
 "nbformat": 4,
 "nbformat_minor": 4
}
