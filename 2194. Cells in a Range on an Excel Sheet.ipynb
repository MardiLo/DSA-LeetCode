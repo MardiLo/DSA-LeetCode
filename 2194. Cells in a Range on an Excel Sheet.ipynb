{
 "cells": [
  {
   "cell_type": "markdown",
   "metadata": {},
   "source": [
    "`# String`"
   ]
  },
  {
   "cell_type": "markdown",
   "metadata": {},
   "source": [
    "A cell `(r, c)` of an excel sheet is represented as a string `\"<col><row>\"` where:\n",
    "\n",
    "- `<col>` denotes the column number `c` of the cell. It is represented by **alphabetical letters**.\n",
    "    - For example, the `1`<sup>`st`</sup> column is denoted by `'A'`, the `2`<sup>`nd`</sup> by `'B'`, the `3`<sup>`rd`</sup> by `'C'`, and so on.\n",
    "`<row>` is the row number `r` of the cell. The `r`<sup>`th`</sup> row is represented by the **integer** `r`.\n",
    "\n",
    "You are given a string `s` in the format `\"<col1><row1>:<col2><row2>\"`, where `<col1>` represents the column `c1`, `<row1>` represents the row `r1`, `<col2>` represents the column `c2`, and `<row2>` represents the row `r2`, such that `r1 <= r2` and `c1 <= c2`.\n",
    "\n",
    "Return *the* ***list of cells*** `(x, y)` *such that* `r1 <= x <= r2` *and* `c1 <= y <= c2`. The cells should be represented as **strings** in the format mentioned above and be sorted in **non-decreasing** order first by columns and then by rows."
   ]
  },
  {
   "attachments": {},
   "cell_type": "markdown",
   "metadata": {},
   "source": [
    "**Example 1:**\n",
    "![Image of leetcode 2194 problem example 1](https://assets.leetcode.com/uploads/2022/02/08/ex1drawio.png)\n",
    "> Input: s = \"K1:L2\"  \n",
    "Output: [\"K1\",\"K2\",\"L1\",\"L2\"]  \n",
    "Explanation:  \n",
    "The above diagram shows the cells which should be present in the list.  \n",
    "The red arrows denote the order in which the cells should be presented.  \n",
    "\n",
    "**Example 2:**\n",
    "![Image of leetcode 2194 problem example 2](https://assets.leetcode.com/uploads/2022/02/09/exam2drawio.png)\n",
    "> Input: s = \"A1:F1\"  \n",
    "Output: [\"A1\",\"B1\",\"C1\",\"D1\",\"E1\",\"F1\"]  \n",
    "Explanation:  \n",
    "The above diagram shows the cells which should be present in the list.  \n",
    "The red arrow denotes the order in which the cells should be presented."
   ]
  },
  {
   "cell_type": "code",
   "execution_count": 1,
   "metadata": {},
   "outputs": [],
   "source": [
    "class Solution:\n",
    "    \n",
    "    # Time Complexity： O(mn), where 1 <= m <= 26 for 'A' ~ 'Z', 1 <= n <= 9 for '1' ~ '9'\n",
    "    # Space Complexity： O(m+n)    \n",
    "    def cellsInRange(self, s: str) -> list[str]:\n",
    "        from itertools import product\n",
    "\n",
    "        return [col+row for col, row in product([chr(c) for c in range(ord(s[0]), ord(s[3])+1)], [str(r) for r in range(int(s[1]), int(s[4])+1)])]"
   ]
  },
  {
   "cell_type": "code",
   "execution_count": 2,
   "metadata": {},
   "outputs": [
    {
     "name": "stdout",
     "output_type": "stream",
     "text": [
      "Case 1: ['K1', 'K2', 'L1', 'L2']\n",
      "Case 2: ['A1', 'B1', 'C1', 'D1', 'E1', 'F1']\n"
     ]
    }
   ],
   "source": [
    "# Test on Cases\n",
    "S = Solution()\n",
    "\n",
    "print(f\"Case 1: {S.cellsInRange('K1:L2')}\")\n",
    "print(f\"Case 2: {S.cellsInRange('A1:F1')}\")"
   ]
  }
 ],
 "metadata": {
  "interpreter": {
   "hash": "21d8332eb27bea95342760850bd7426f517b6a483537194bbba87e10eeabf6ff"
  },
  "kernelspec": {
   "display_name": "Python 3.10.4 ('leetcode')",
   "language": "python",
   "name": "python3"
  },
  "language_info": {
   "codemirror_mode": {
    "name": "ipython",
    "version": 3
   },
   "file_extension": ".py",
   "mimetype": "text/x-python",
   "name": "python",
   "nbconvert_exporter": "python",
   "pygments_lexer": "ipython3",
   "version": "3.10.4 | packaged by conda-forge | (main, Mar 30 2022, 08:38:02) [MSC v.1916 64 bit (AMD64)]"
  }
 },
 "nbformat": 4,
 "nbformat_minor": 4
}
