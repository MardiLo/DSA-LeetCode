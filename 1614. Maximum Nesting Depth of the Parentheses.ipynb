{
 "cells": [
  {
   "cell_type": "markdown",
   "metadata": {},
   "source": [
    "`# Stack` `# String`"
   ]
  },
  {
   "cell_type": "markdown",
   "metadata": {},
   "source": [
    "A string is a **valid parentheses string** (denoted **VPS**) if it meets one of the following:\n",
    "\n",
    "It is an empty string `\"\"`, or a single character not equal to `\"(\"` or `\")\"`,\n",
    "It can be written as `AB` (`A` concatenated with `B`), where `A` and `B` are **VPS**'s, or\n",
    "It can be written as `(A)`, where `A` is a **VPS**.\n",
    "We can similarly define the **nesting depth** `depth(S)` of any VPS `S` as follows:\n",
    "\n",
    "`depth(\"\") = 0`\n",
    "`depth(C) = 0`, where `C` is a string with a single character not equal to `\"(\"` or `\")\"`.\n",
    "`depth(A + B) = max(depth(A), depth(B))`, where `A` and `B` are **VPS**'s.\n",
    "`depth(\"(\" + A + \")\") = 1 + depth(A)`, where `A` is a **VPS**.\n",
    "For example, `\"\"`, `\"()()\"`, and `\"()(()())\"` are **VPS**'s (with nesting depths 0, 1, and 2), and `\")(\"` and `\"(()\"` are not **VPS**'s.\n",
    "\n",
    "Given a **VPS** represented as string `s`, return *the ***nesting depth*** of* `s`."
   ]
  },
  {
   "cell_type": "markdown",
   "metadata": {},
   "source": [
    "**Example 1:**\n",
    "\n",
    "> Input: s = \"(1+(2*3)+((8)/4))+1\"  \n",
    "Output: 3  \n",
    "Explanation: Digit 8 is inside of 3 nested parentheses in the string.\n",
    "\n",
    "**Example 2:**\n",
    "\n",
    "> Input: s = \"(1)+((2))+(((3)))\"  \n",
    "Output: 3"
   ]
  },
  {
   "cell_type": "code",
   "execution_count": 1,
   "metadata": {},
   "outputs": [],
   "source": [
    "class Solution:\n",
    "    \n",
    "    # Time Complexity： O(n)\n",
    "    # Space Complexity： O(n)    \n",
    "    def maxDepth(self, s: str) -> int:\n",
    "        from itertools import accumulate\n",
    "\n",
    "        return max(accumulate({'(': 1, ')': -1}.get(c, 0) for c in s))"
   ]
  },
  {
   "cell_type": "code",
   "execution_count": 2,
   "metadata": {},
   "outputs": [
    {
     "name": "stdout",
     "output_type": "stream",
     "text": [
      "Case 1: 3\n",
      "Case 2: 3\n"
     ]
    }
   ],
   "source": [
    "# Test on Cases\n",
    "S = Solution()\n",
    "\n",
    "print(f\"Case 1: {S.maxDepth('(1+(2*3)+((8)/4))+1')}\")\n",
    "print(f\"Case 2: {S.maxDepth('(1)+((2))+(((3)))')}\")"
   ]
  }
 ],
 "metadata": {
  "kernelspec": {
   "display_name": "Python 3.10.4 ('leetcode')",
   "language": "python",
   "name": "python3"
  },
  "language_info": {
   "codemirror_mode": {
    "name": "ipython",
    "version": 3
   },
   "file_extension": ".py",
   "mimetype": "text/x-python",
   "name": "python",
   "nbconvert_exporter": "python",
   "pygments_lexer": "ipython3",
   "version": "3.10.4"
  },
  "vscode": {
   "interpreter": {
    "hash": "21d8332eb27bea95342760850bd7426f517b6a483537194bbba87e10eeabf6ff"
   }
  }
 },
 "nbformat": 4,
 "nbformat_minor": 4
}
