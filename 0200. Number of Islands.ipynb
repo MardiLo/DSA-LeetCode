{
 "cells": [
  {
   "cell_type": "markdown",
   "metadata": {},
   "source": [
    "`# Array` `# Breadth-First Search` `# Depth-First Search` `# Matrix` `# Union Find`"
   ]
  },
  {
   "cell_type": "markdown",
   "metadata": {},
   "source": [
    "Given an `m x n` 2D binary grid `grid` which represents a map of `'1'`s (land) and `'0'`s (water), return *the number of islands*.\n",
    "\n",
    "An **island** is surrounded by water and is formed by connecting adjacent lands horizontally or vertically. You may assume all four edges of the grid are all surrounded by water."
   ]
  },
  {
   "cell_type": "markdown",
   "metadata": {},
   "source": [
    "**Example 1:**\n",
    "\n",
    "> Input: grid =  \n",
    "     [[\"1\",\"1\",\"1\",\"1\",\"0\"],  \n",
    "&nbsp;[\"1\",\"1\",\"0\",\"1\",\"0\"],  \n",
    "&nbsp;[\"1\",\"1\",\"0\",\"0\",\"0\"],  \n",
    "&nbsp;[\"0\",\"0\",\"0\",\"0\",\"0\"]]  \n",
    "Output: 1  \n",
    "\n",
    "**Example 2**\n",
    "\n",
    "> Input: grid =   \n",
    "     [[\"1\",\"1\",\"0\",\"0\",\"0\"],  \n",
    "&nbsp;[\"1\",\"1\",\"0\",\"0\",\"0\"],  \n",
    "&nbsp;[\"0\",\"0\",\"1\",\"0\",\"0\"],  \n",
    "&nbsp;[\"0\",\"0\",\"0\",\"1\",\"1\"]]  \n",
    "Output: 3  "
   ]
  },
  {
   "cell_type": "code",
   "execution_count": 11,
   "metadata": {},
   "outputs": [],
   "source": [
    "class Solution:\n",
    "    \n",
    "    # Time Complexity： O(mn)\n",
    "    # Space Complexity： O(mn)\n",
    "    def numIslands(self, grid: 'List[List[str]]') -> 'int':\n",
    "        from itertools import product\n",
    "        \n",
    "        def dfs(i: 'int', j: 'int') -> 'int':\n",
    "            if 0 <= i < self.m and 0 <= j < self.n and grid[i][j] == '1':\n",
    "                grid[i][j] = '0'\n",
    "                list(map(dfs, (i-1, i+1, i, i), (j, j, j-1, j+1)))\n",
    "\n",
    "            return 1\n",
    "        \n",
    "        self.m, self.n = len(grid), len(grid[0])\n",
    "        cnt = 0\n",
    "        for i, j in product(range(self.m), range(self.n)):\n",
    "            if grid[i][j] == '1':\n",
    "                cnt += dfs(i, j)\n",
    "        \n",
    "        return cnt"
   ]
  },
  {
   "cell_type": "code",
   "execution_count": 12,
   "metadata": {},
   "outputs": [
    {
     "name": "stdout",
     "output_type": "stream",
     "text": [
      "Case 1: 1\n",
      "Case 2: 3\n"
     ]
    }
   ],
   "source": [
    "# Test on Cases\n",
    "S = Solution()\n",
    "\n",
    "print(f\"\"\"Case 1: {S.numIslands([['1','1','1','1','0'],\n",
    "                                 ['1','1','0','1','0'],\n",
    "                                 ['1','1','0','0','0'],\n",
    "                                 ['0','0','0','0','0']])}\"\"\")\n",
    "print(f\"\"\"Case 2: {S.numIslands([['1','1','0','0','0'],\n",
    "                                 ['1','1','0','0','0'],\n",
    "                                 ['0','0','1','0','0'],\n",
    "                                 ['0','0','0','1','1']])}\"\"\")"
   ]
  },
  {
   "cell_type": "markdown",
   "metadata": {},
   "source": [
    "**Ref**\n",
    "1. [7 lines Python, ~14 lines Java](https://leetcode.com/problems/number-of-islands/discuss/56349/7-lines-Python-~14-lines-Java)\n",
    "2. [Python Simple DFS Solution](https://leetcode.com/problems/number-of-islands/discuss/56340/Python-Simple-DFS-Solution)\n",
    "3. [[Python3]Number of Islands BFS + DFS](https://leetcode.com/problems/number-of-islands/discuss/345981/Python3Number-of-Islands-BFS-%2B-DFS)"
   ]
  }
 ],
 "metadata": {
  "kernelspec": {
   "display_name": "Python 3",
   "language": "python",
   "name": "python3"
  },
  "language_info": {
   "codemirror_mode": {
    "name": "ipython",
    "version": 3
   },
   "file_extension": ".py",
   "mimetype": "text/x-python",
   "name": "python",
   "nbconvert_exporter": "python",
   "pygments_lexer": "ipython3",
   "version": "3.8.3"
  }
 },
 "nbformat": 4,
 "nbformat_minor": 4
}
