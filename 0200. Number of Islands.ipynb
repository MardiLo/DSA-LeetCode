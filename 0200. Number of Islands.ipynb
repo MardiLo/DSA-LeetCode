{
 "cells": [
  {
   "cell_type": "markdown",
   "source": [
    "`# Array` `# Breadth-First Search` `# Depth-First Search` `# Matrix` `# Union Find`"
   ],
   "metadata": {}
  },
  {
   "cell_type": "markdown",
   "source": [
    "Given an `m x n` 2D binary grid `grid` which represents a map of `'1'`s (land) and `'0'`s (water), return *the number of islands*.\n",
    "\n",
    "An **island** is surrounded by water and is formed by connecting adjacent lands horizontally or vertically. You may assume all four edges of the grid are all surrounded by water."
   ],
   "metadata": {}
  },
  {
   "cell_type": "markdown",
   "source": [
    "**Example 1:**\n",
    "\n",
    "> Input: grid =  \n",
    "     [[\"1\",\"1\",\"1\",\"1\",\"0\"],  \n",
    "&nbsp;[\"1\",\"1\",\"0\",\"1\",\"0\"],  \n",
    "&nbsp;[\"1\",\"1\",\"0\",\"0\",\"0\"],  \n",
    "&nbsp;[\"0\",\"0\",\"0\",\"0\",\"0\"]]  \n",
    "Output: 1  \n",
    "\n",
    "**Example 2**\n",
    "\n",
    "> Input: grid =   \n",
    "     [[\"1\",\"1\",\"0\",\"0\",\"0\"],  \n",
    "&nbsp;[\"1\",\"1\",\"0\",\"0\",\"0\"],  \n",
    "&nbsp;[\"0\",\"0\",\"1\",\"0\",\"0\"],  \n",
    "&nbsp;[\"0\",\"0\",\"0\",\"1\",\"1\"]]  \n",
    "Output: 3  "
   ],
   "metadata": {}
  },
  {
   "cell_type": "code",
   "execution_count": 13,
   "source": [
    "class Solution:\r\n",
    "    \r\n",
    "    # Time Complexity： O(mn)\r\n",
    "    # Space Complexity： O(mn)\r\n",
    "    def numIslands_DFS(self, grid: 'List[List[str]]') -> 'int':\r\n",
    "        from itertools import product\r\n",
    "        \r\n",
    "        def sink(i, j):\r\n",
    "            if 0 <= i < len(grid) and 0 <= j < len(grid[i]) and grid[i][j] == '1':\r\n",
    "                grid[i][j] = '0'\r\n",
    "                list(map(sink, (i-1, i+1, i, i), (j, j, j-1, j+1)))\r\n",
    "            return\r\n",
    "        \r\n",
    "        cnt = 0\r\n",
    "        for i, j in product(range(len(grid)), range(len(grid[0]))):\r\n",
    "            if grid[i][j] == '1':\r\n",
    "                sink(i, j)\r\n",
    "                cnt += 1\r\n",
    "        \r\n",
    "        return cnt"
   ],
   "outputs": [],
   "metadata": {}
  },
  {
   "cell_type": "code",
   "execution_count": 15,
   "source": [
    "# Test on Cases\r\n",
    "S = Solution()\r\n",
    "\r\n",
    "print(\"---numIslands_DFS---\")\r\n",
    "print(f\"\"\"Case 1: {S.numIslands_DFS([['1','1','1','1','0'],\r\n",
    "                                     ['1','1','0','1','0'],\r\n",
    "                                     ['1','1','0','0','0'],\r\n",
    "                                     ['0','0','0','0','0']])}\"\"\")\r\n",
    "print(f\"\"\"Case 2: {S.numIslands_DFS([['1','1','0','0','0'],\r\n",
    "                                     ['1','1','0','0','0'],\r\n",
    "                                     ['0','0','1','0','0'],\r\n",
    "                                     ['0','0','0','1','1']])}\\n\"\"\")"
   ],
   "outputs": [
    {
     "output_type": "stream",
     "name": "stdout",
     "text": [
      "---numIslands_DFS---\n",
      "Case 1: 1\n",
      "Case 2: 3\n",
      "\n"
     ]
    }
   ],
   "metadata": {}
  },
  {
   "cell_type": "markdown",
   "source": [
    "**Ref**\n",
    "1. [7 lines Python, ~14 lines Java](https://leetcode.com/problems/number-of-islands/discuss/56349/7-lines-Python-~14-lines-Java)\n",
    "2. [Python Simple DFS Solution](https://leetcode.com/problems/number-of-islands/discuss/56340/Python-Simple-DFS-Solution)\n",
    "3. [[Python3]Number of Islands BFS + DFS](https://leetcode.com/problems/number-of-islands/discuss/345981/Python3Number-of-Islands-BFS-%2B-DFS)"
   ],
   "metadata": {}
  }
 ],
 "metadata": {
  "kernelspec": {
   "display_name": "Python 3",
   "language": "python",
   "name": "python3"
  },
  "language_info": {
   "codemirror_mode": {
    "name": "ipython",
    "version": 3
   },
   "file_extension": ".py",
   "mimetype": "text/x-python",
   "name": "python",
   "nbconvert_exporter": "python",
   "pygments_lexer": "ipython3",
   "version": "3.7.7"
  }
 },
 "nbformat": 4,
 "nbformat_minor": 4
}