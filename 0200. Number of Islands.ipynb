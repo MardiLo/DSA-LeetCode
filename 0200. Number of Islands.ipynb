{
 "cells": [
  {
   "cell_type": "markdown",
   "metadata": {},
   "source": [
    "`# Array` `# Breadth-First Search` `# Depth-First Search` `# Matrix` `# Union Find`"
   ]
  },
  {
   "cell_type": "markdown",
   "metadata": {},
   "source": [
    "Given an `m x n` 2D binary grid `grid` which represents a map of `'1'`s (land) and `'0'`s (water), return *the number of islands*.\n",
    "\n",
    "An **island** is surrounded by water and is formed by connecting adjacent lands horizontally or vertically. You may assume all four edges of the grid are all surrounded by water."
   ]
  },
  {
   "cell_type": "markdown",
   "metadata": {},
   "source": [
    "**Example 1:**\n",
    "\n",
    "> Input: grid =  \n",
    ">      [[\"1\",\"1\",\"1\",\"1\",\"0\"],  \n",
    "> &nbsp;[\"1\",\"1\",\"0\",\"1\",\"0\"],  \n",
    "> &nbsp;[\"1\",\"1\",\"0\",\"0\",\"0\"],  \n",
    "> &nbsp;[\"0\",\"0\",\"0\",\"0\",\"0\"]]  \n",
    "> Output: 1  \n",
    "\n",
    "**Example 2**\n",
    "\n",
    "> Input: grid =   \n",
    ">      [[\"1\",\"1\",\"0\",\"0\",\"0\"],  \n",
    "> &nbsp;[\"1\",\"1\",\"0\",\"0\",\"0\"],  \n",
    "> &nbsp;[\"0\",\"0\",\"1\",\"0\",\"0\"],  \n",
    "> &nbsp;[\"0\",\"0\",\"0\",\"1\",\"1\"]]  \n",
    "> Output: 3  "
   ]
  },
  {
   "cell_type": "code",
   "execution_count": 3,
   "metadata": {},
   "outputs": [],
   "source": [
    "class Solution:\n",
    "    \n",
    "    # Time Complexity： O(mn)\n",
    "    # Space Complexity： O(mn)\n",
    "    def numIslands_DFS_recursion(self, grid: list[list[str]]) -> int:    \n",
    "        from itertools import product\n",
    "\n",
    "        m, n, direction = len(grid), len(grid[0]), [(-1, 0), (1, 0), (0, -1), (0, 1)]\n",
    "\n",
    "        def dfs(i: int, j: int) -> int:\n",
    "            if not (0 <= i < m and 0 <= j < n and grid[i][j] == '1'): return 0\n",
    "\n",
    "            grid[i][j] = '0'                                                           # mark as visited\n",
    "            [dfs(i+dx, j+dy) for dx, dy in direction]\n",
    "\n",
    "            return 1                                                                   # when a run of dfs finishes, return 1\n",
    "        \n",
    "        return sum(dfs(i, j) for i, j in product(range(m), range(n)))\n",
    "\n",
    "    # Time Complexity： O(mn)\n",
    "    # Space Complexity： O(mn)\n",
    "    def numIslands_BFS(self, grid: list[list[str]]) -> int:\n",
    "        from itertools import product\n",
    "        from collections import deque\n",
    "\n",
    "        m, n, direction = len(grid), len(grid[0]), [(-1, 0), (1, 0), (0, -1), (0, 1)]\n",
    "\n",
    "        def bfs(i: int, j: int) -> int:\n",
    "            if grid[i][j] == '0': return 0\n",
    "\n",
    "            queue = deque([(i, j)])\n",
    "            \n",
    "            while queue:\n",
    "                i, j = queue.popleft()\n",
    "\n",
    "                grid[i][j] = '0' \n",
    "\n",
    "                for dx, dy in direction:\n",
    "                    if 0 <= (neb_i := i+dx) < m and 0 <= (neb_j := j+dy) < n and grid[neb_i][neb_j] == '1':\n",
    "                        queue.append((neb_i, neb_j))\n",
    "\n",
    "            return 1\n",
    "        \n",
    "        return sum(bfs(i, j) for i, j in product(range(m), range(n)))\n",
    "\n",
    "    # Time Complexity： O(mn)\n",
    "    # Space Complexity： O(mn)\n",
    "    def numIslands_DFS_iteration(self, grid: list[list[str]]) -> int:\n",
    "        from itertools import product\n",
    "        \n",
    "        m, n, direction = len(grid), len(grid[0]), [(-1, 0), (1, 0), (0, -1), (0, 1)]\n",
    "\n",
    "        def dfs(i: int, j: int) -> int:\n",
    "            if grid[i][j] == '0': return 0\n",
    "\n",
    "            stack = [(i, j)]\n",
    "\n",
    "            while stack:\n",
    "                i, j = stack.pop()\n",
    "\n",
    "                grid[i][j] = '0' \n",
    "\n",
    "                for dx, dy in direction:\n",
    "                    if 0 <= (neb_i := i+dx) < m and 0 <= (neb_j := j+dy) < n and grid[neb_i][neb_j] == '1':\n",
    "                        stack.append((neb_i, neb_j))\n",
    "\n",
    "            return 1\n",
    "        \n",
    "        return sum(dfs(i, j) for i, j in product(range(m), range(n)))"
   ]
  },
  {
   "cell_type": "code",
   "execution_count": 4,
   "metadata": {},
   "outputs": [
    {
     "name": "stdout",
     "output_type": "stream",
     "text": [
      "---numIslands_DFS_recursion---\n",
      "Case 1: 1\n",
      "Case 2: 3\n",
      "\n",
      "---numIslands_BFS---\n",
      "Case 1: 1\n",
      "Case 2: 3\n",
      "\n",
      "---numIslands_DFS_iteration---\n",
      "Case 1: 1\n",
      "Case 2: 3\n"
     ]
    }
   ],
   "source": [
    "# Test on Cases\n",
    "S = Solution()\n",
    "\n",
    "print(\"---numIslands_DFS_recursion---\")\n",
    "print(f\"\"\"Case 1: {S.numIslands_DFS_recursion([['1','1','1','1','0'],\n",
    "                                               ['1','1','0','1','0'],\n",
    "                                               ['1','1','0','0','0'],\n",
    "                                               ['0','0','0','0','0']])}\"\"\")\n",
    "print(f\"\"\"Case 2: {S.numIslands_DFS_recursion([['1','1','0','0','0'],\n",
    "                                               ['1','1','0','0','0'],\n",
    "                                               ['0','0','1','0','0'],\n",
    "                                               ['0','0','0','1','1']])}\\n\"\"\")\n",
    "\n",
    "print(\"---numIslands_BFS---\")\n",
    "print(f\"\"\"Case 1: {S.numIslands_BFS([['1','1','1','1','0'],\n",
    "                                     ['1','1','0','1','0'],\n",
    "                                     ['1','1','0','0','0'],\n",
    "                                     ['0','0','0','0','0']])}\"\"\")\n",
    "print(f\"\"\"Case 2: {S.numIslands_BFS([['1','1','0','0','0'],\n",
    "                                     ['1','1','0','0','0'],\n",
    "                                     ['0','0','1','0','0'],\n",
    "                                     ['0','0','0','1','1']])}\\n\"\"\")\n",
    "\n",
    "print(\"---numIslands_DFS_iteration---\")\n",
    "print(f\"\"\"Case 1: {S.numIslands_DFS_iteration([['1','1','1','1','0'],\n",
    "                                               ['1','1','0','1','0'],\n",
    "                                               ['1','1','0','0','0'],\n",
    "                                               ['0','0','0','0','0']])}\"\"\")\n",
    "print(f\"\"\"Case 2: {S.numIslands_DFS_iteration([['1','1','0','0','0'],\n",
    "                                               ['1','1','0','0','0'],\n",
    "                                               ['0','0','1','0','0'],\n",
    "                                               ['0','0','0','1','1']])}\"\"\")"
   ]
  },
  {
   "cell_type": "markdown",
   "metadata": {},
   "source": [
    "**Ref**\n",
    "1. [7 lines Python, ~14 lines Java](https://leetcode.com/problems/number-of-islands/discuss/56349/7-lines-Python-~14-lines-Java)\n",
    "2. [Python Simple DFS Solution](https://leetcode.com/problems/number-of-islands/discuss/56340/Python-Simple-DFS-Solution)\n",
    "3. [[Python3]Number of Islands BFS + DFS](https://leetcode.com/problems/number-of-islands/discuss/345981/Python3Number-of-Islands-BFS-%2B-DFS)"
   ]
  }
 ],
 "metadata": {
  "kernelspec": {
   "display_name": "Python 3 (ipykernel)",
   "language": "python",
   "name": "python3"
  },
  "language_info": {
   "codemirror_mode": {
    "name": "ipython",
    "version": 3
   },
   "file_extension": ".py",
   "mimetype": "text/x-python",
   "name": "python",
   "nbconvert_exporter": "python",
   "pygments_lexer": "ipython3",
   "version": "3.10.4"
  },
  "vscode": {
   "interpreter": {
    "hash": "21d8332eb27bea95342760850bd7426f517b6a483537194bbba87e10eeabf6ff"
   }
  }
 },
 "nbformat": 4,
 "nbformat_minor": 4
}
