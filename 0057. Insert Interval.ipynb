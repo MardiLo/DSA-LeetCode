{
 "cells": [
  {
   "attachments": {},
   "cell_type": "markdown",
   "metadata": {},
   "source": [
    "`# Array`"
   ]
  },
  {
   "attachments": {},
   "cell_type": "markdown",
   "metadata": {},
   "source": [
    "You are given an array of non-overlapping intervals intervals where `intervals[i] = [start`<sub>`i`</sub>`, end`<sub>`i`</sub>`]` represent the start and the end of the `i`<sup>`th`</sup> interval and `intervals` is sorted in ascending order by `start`<sub>`i`</sub>. You are also given an interval `newInterval = [start, end]` that represents the start and end of another interval.\n",
    "\n",
    "Insert `newInterval` into `intervals` such that `intervals` is still sorted in ascending order by `start`<sub>`i`</sub> and `intervals` still does not have any overlapping intervals (merge overlapping intervals if necessary).\n",
    "\n",
    "Return `intervals` *after the insertion.*"
   ]
  },
  {
   "attachments": {},
   "cell_type": "markdown",
   "metadata": {},
   "source": [
    "**Example 1:**\n",
    "\n",
    "> Input: intervals = [[1,3],[6,9]], newInterval = [2,5]  \n",
    "> Output: [[1,5],[6,9]]\n",
    "\n",
    "**Example 2:**\n",
    "\n",
    "> Input: intervals = [[1,2],[3,5],[6,7],[8,10],[12,16]], newInterval = [4,8]  \n",
    "> Output: [[1,2],[3,10],[12,16]]  \n",
    "> Explanation: Because the new interval [4,8] overlaps with [3,5],[6,7],[8,10]."
   ]
  },
  {
   "cell_type": "code",
   "execution_count": 1,
   "metadata": {},
   "outputs": [],
   "source": [
    "class Solution:\n",
    "    \n",
    "    # Time Complexity： O(nlogn)\n",
    "    # Space Complexity： O(n)      \n",
    "    def insert(self, intervals: list[list[int]], newInterval: list[int]) -> list[list[int]]:\n",
    "        from bisect import insort_left\n",
    "\n",
    "        insort_left(intervals, newInterval, key=lambda x: x[0]); res = [intervals[0]]\n",
    "\n",
    "        for i in range(1, len(intervals)):\n",
    "            if intervals[i][0] <= res[-1][-1]: \n",
    "                res[-1][-1] = max(res[-1][-1], intervals[i][-1])\n",
    "            else:\n",
    "                res.append(intervals[i])\n",
    "        \n",
    "        return res"
   ]
  },
  {
   "cell_type": "code",
   "execution_count": 2,
   "metadata": {},
   "outputs": [
    {
     "name": "stdout",
     "output_type": "stream",
     "text": [
      "Case 1: [[1, 5], [6, 9]]\n",
      "Case 2: [[1, 2], [3, 10], [12, 16]]\n"
     ]
    }
   ],
   "source": [
    "# Test on Cases\n",
    "S = Solution()\n",
    "\n",
    "print(f\"Case 1: {S.insert([[1,3],[6,9]], [2,5])}\")\n",
    "print(f\"Case 2: {S.insert([[1,2],[3,5],[6,7],[8,10],[12,16]], [4,8])}\")"
   ]
  }
 ],
 "metadata": {
  "interpreter": {
   "hash": "21d8332eb27bea95342760850bd7426f517b6a483537194bbba87e10eeabf6ff"
  },
  "kernelspec": {
   "display_name": "Python 3 (ipykernel)",
   "language": "python",
   "name": "python3"
  },
  "language_info": {
   "codemirror_mode": {
    "name": "ipython",
    "version": 3
   },
   "file_extension": ".py",
   "mimetype": "text/x-python",
   "name": "python",
   "nbconvert_exporter": "python",
   "pygments_lexer": "ipython3",
   "version": "3.10.4"
  }
 },
 "nbformat": 4,
 "nbformat_minor": 4
}
