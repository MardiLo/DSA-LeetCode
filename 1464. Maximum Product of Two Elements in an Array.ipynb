{
 "cells": [
  {
   "cell_type": "markdown",
   "metadata": {},
   "source": [
    "`# Array` `# Prefix Sum`"
   ]
  },
  {
   "cell_type": "markdown",
   "metadata": {},
   "source": [
    "Given the array of integers `nums`, you will choose two different indices `i` and `j` of that array. Return *the maximum value of* `(nums[i]-1)*(nums[j]-1)`."
   ]
  },
  {
   "cell_type": "markdown",
   "metadata": {},
   "source": [
    "**Example 1:**\n",
    "\n",
    "> Input: nums = [3,4,5,2]  \n",
    "> Output: 12   \n",
    "> Explanation: If you choose the indices i=1 and j=2 (indexed from 0), you will get the maximum value, that is, (nums[1]-1)\\*(nums[2]-1) = (4-1)\\*(5-1) = 3\\*4 = 12. \n",
    "\n",
    "**Example 2:**\n",
    "\n",
    "> Input: nums = [1,5,4,5]  \n",
    "> Output: 16  \n",
    "> Explanation: Choosing the indices i=1 and j=3 (indexed from 0), you will get the maximum value of (5-1)*(5-1) = 16.\n",
    "\n",
    "**Example 3:**\n",
    "\n",
    "> Input: nums = [3,7]  \n",
    "> Output: 12"
   ]
  },
  {
   "cell_type": "code",
   "execution_count": 7,
   "metadata": {},
   "outputs": [],
   "source": [
    "class Solution:\n",
    "\n",
    "    # Time Complexity： O(n)\n",
    "    # Space Complexity： O(1)\n",
    "    def maxProduct_placeHolder(self, nums: list[int]) -> int:\n",
    "        first = second = float('-inf')\n",
    "        \n",
    "        for num in nums:\n",
    "            if num >= first: first, second = num, first\n",
    "            elif second <= num < first: second = num\n",
    "        \n",
    "        return (first-1) * (second-1)\n",
    "\n",
    "    # Time Complexity： O(n)\n",
    "    # Space Complexity： O(n)\n",
    "    def maxProduct_heap(self, nums: list[int]) -> int:\n",
    "        from heapq import heapify, heappop\n",
    "\n",
    "        heapify(nums := [-num for num in nums])\n",
    "\n",
    "        return (-heappop(nums)-1) * (-heappop(nums)-1)\n",
    "\n",
    "    # Time Complexity： O(nlogn)\n",
    "    # Space Complexity： O(n)\n",
    "    def maxProduct_sorting(self, nums: list[int]) -> int:\n",
    "        from functools import reduce\n",
    "\n",
    "        return reduce(lambda x, y: x * (y-1), sorted(nums, reverse=True)[:2], 1)"
   ]
  },
  {
   "cell_type": "code",
   "execution_count": 8,
   "metadata": {},
   "outputs": [
    {
     "name": "stdout",
     "output_type": "stream",
     "text": [
      "---maxProduct_placeHolder---\n",
      "Case 1: 12\n",
      "Case 2: 16\n",
      "Case 3: 72\n",
      "\n",
      "---maxProduct_heap---\n",
      "Case 1: 12\n",
      "Case 2: 16\n",
      "Case 3: 72\n",
      "\n",
      "---maxProduct_sorting---\n",
      "Case 1: 12\n",
      "Case 2: 16\n",
      "Case 3: 72\n"
     ]
    }
   ],
   "source": [
    "# Test on Cases\n",
    "S = Solution()\n",
    "\n",
    "print(\"---maxProduct_placeHolder---\")\n",
    "print(f\"Case 1: {S.maxProduct_placeHolder([3,4,5,2])}\")\n",
    "print(f\"Case 2: {S.maxProduct_placeHolder([1,5,4,5])}\")\n",
    "print(f\"Case 3: {S.maxProduct_placeHolder([13,7])}\\n\")\n",
    "\n",
    "print(\"---maxProduct_heap---\")\n",
    "print(f\"Case 1: {S.maxProduct_heap([3,4,5,2])}\")\n",
    "print(f\"Case 2: {S.maxProduct_heap([1,5,4,5])}\")\n",
    "print(f\"Case 3: {S.maxProduct_heap([13,7])}\\n\")\n",
    "\n",
    "print(\"---maxProduct_sorting---\")\n",
    "print(f\"Case 1: {S.maxProduct_sorting([3,4,5,2])}\")\n",
    "print(f\"Case 2: {S.maxProduct_sorting([1,5,4,5])}\")\n",
    "print(f\"Case 3: {S.maxProduct_sorting([13,7])}\")"
   ]
  }
 ],
 "metadata": {
  "kernelspec": {
   "display_name": "Python 3 (ipykernel)",
   "language": "python",
   "name": "python3"
  },
  "language_info": {
   "codemirror_mode": {
    "name": "ipython",
    "version": 3
   },
   "file_extension": ".py",
   "mimetype": "text/x-python",
   "name": "python",
   "nbconvert_exporter": "python",
   "pygments_lexer": "ipython3",
   "version": "3.10.4"
  },
  "vscode": {
   "interpreter": {
    "hash": "21d8332eb27bea95342760850bd7426f517b6a483537194bbba87e10eeabf6ff"
   }
  }
 },
 "nbformat": 4,
 "nbformat_minor": 4
}
