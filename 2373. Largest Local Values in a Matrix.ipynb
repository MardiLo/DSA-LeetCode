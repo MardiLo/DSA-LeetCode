{
 "cells": [
  {
   "cell_type": "markdown",
   "metadata": {},
   "source": [
    "`# Array` `# Matrix`"
   ]
  },
  {
   "cell_type": "markdown",
   "metadata": {},
   "source": [
    "You are given an `n x n` integer matrix `grid`.\n",
    "\n",
    "Generate an integer matrix `maxLocal` of size `(n - 2) x (n - 2)` such that:\n",
    "\n",
    "- `maxLocal[i][j]` is equal to the **largest** value of the `3 x 3` matrix in `grid` centered around row `i + 1` and column `j + 1`.\n",
    "In other words, we want to find the largest value in every contiguous `3 x 3` matrix in `grid`.\n",
    "\n",
    "Return *the generated matrix.*"
   ]
  },
  {
   "cell_type": "markdown",
   "metadata": {},
   "source": [
    "**Example 1:**  \n",
    "![Image of leetcode 2373 problem example 1](https://assets.leetcode.com/uploads/2022/06/21/ex1.png)\n",
    "> Input: grid = [[9,9,8,1],[5,6,2,6],[8,2,6,4],[6,2,2,2]]  \n",
    "Output: [[9,9],[8,6]]  \n",
    "Explanation: The diagram above shows the original matrix and the generated matrix.  \n",
    "Notice that each value in the generated matrix corresponds to the largest value of a contiguous 3 x 3 matrix in grid.\n",
    "\n",
    "**Example 2:**  \n",
    "![Image of leetcode 2373 problem example 2](https://assets.leetcode.com/uploads/2022/07/02/ex2new2.png)\n",
    "> Input: grid = [[1,1,1,1,1],[1,1,1,1,1],[1,1,2,1,1],[1,1,1,1,1],[1,1,1,1,1]]  \n",
    "Output: [[2,2,2],[2,2,2],[2,2,2]]  \n",
    "Explanation: Notice that the 2 is contained within every contiguous 3 x 3 matrix in grid."
   ]
  },
  {
   "cell_type": "code",
   "execution_count": 3,
   "metadata": {},
   "outputs": [],
   "source": [
    "class Solution:\n",
    "    \n",
    "    # Time Complexity： O(mn)\n",
    "    # Space Complexity： O(mn)    \n",
    "    def largestLocal(self, grid: list[list[int]]) -> list[list[int]]:\n",
    "        from itertools import product\n",
    "\n",
    "        n, m = len(grid)-2, len(grid[0])-2\n",
    "        res = [[0] * m for _ in range(n)]\n",
    "\n",
    "        for i, j in product(range(n), range(m)):\n",
    "            res[i][j] = max(sum([row[j:j+3] for row in grid[i:i+3]], []))\n",
    "            \n",
    "        return res\n"
   ]
  },
  {
   "cell_type": "code",
   "execution_count": 4,
   "metadata": {},
   "outputs": [
    {
     "name": "stdout",
     "output_type": "stream",
     "text": [
      "Case 1: [[9, 9], [8, 6]]\n",
      "Case 2: [[2, 2, 2], [2, 2, 2], [2, 2, 2]]\n"
     ]
    }
   ],
   "source": [
    "# Test on Cases\n",
    "S = Solution()\n",
    "\n",
    "print(f\"Case 1: {S.largestLocal([[9,9,8,1],[5,6,2,6],[8,2,6,4],[6,2,2,2]])}\")\n",
    "print(f\"Case 2: {S.largestLocal([[1,1,1,1,1],[1,1,1,1,1],[1,1,2,1,1],[1,1,1,1,1],[1,1,1,1,1]])}\")"
   ]
  }
 ],
 "metadata": {
  "kernelspec": {
   "display_name": "Python 3.10.4 ('leetcode')",
   "language": "python",
   "name": "python3"
  },
  "language_info": {
   "codemirror_mode": {
    "name": "ipython",
    "version": 3
   },
   "file_extension": ".py",
   "mimetype": "text/x-python",
   "name": "python",
   "nbconvert_exporter": "python",
   "pygments_lexer": "ipython3",
   "version": "3.10.4"
  },
  "vscode": {
   "interpreter": {
    "hash": "21d8332eb27bea95342760850bd7426f517b6a483537194bbba87e10eeabf6ff"
   }
  }
 },
 "nbformat": 4,
 "nbformat_minor": 4
}
