{
 "cells": [
  {
   "cell_type": "markdown",
   "metadata": {},
   "source": [
    "`# Array` `# Counting` `# Hash Table` `# Math` `# Number Theory`"
   ]
  },
  {
   "cell_type": "markdown",
   "metadata": {},
   "source": [
    "You are given an integer array `deck` where `deck[i]` represents the number written on the `i`<sup>`th`</sup> card.\n",
    "\n",
    "Partition the cards into **one or more groups** such that:\n",
    "\n",
    "- Each group has exactly `x` cards where `x > 1`, and  \n",
    "- All the cards in one group have the same integer written on them.\n",
    "\n",
    "Return `true` *if such partition is possible, or* `false` *otherwise.*"
   ]
  },
  {
   "cell_type": "markdown",
   "metadata": {},
   "source": [
    "**Example 1:**\n",
    "\n",
    "> Input: deck = [1,2,3,4,4,3,2,1]  \n",
    "> Output: true  \n",
    "> Explanation: Possible partition [1,1],[2,2],[3,3],[4,4].\n",
    "\n",
    "**Example 2:**\n",
    "\n",
    "> Input: deck = [1,1,1,2,2,2,3,3]  \n",
    "> Output: false  \n",
    "> Explanation: No possible partition."
   ]
  },
  {
   "cell_type": "code",
   "execution_count": 1,
   "metadata": {},
   "outputs": [],
   "source": [
    "class Solution:\n",
    "\n",
    "    # Time Complexity： O(n)\n",
    "    # Space Complexity： O(n)       \n",
    "    def hasGroupsSizeX(self, deck: list[int]) -> bool:\n",
    "        from functools import reduce\n",
    "        from math import gcd\n",
    "        from collections import Counter\n",
    "        \n",
    "        return reduce(gcd, Counter(deck).values()) > 1"
   ]
  },
  {
   "cell_type": "code",
   "execution_count": 2,
   "metadata": {},
   "outputs": [
    {
     "name": "stdout",
     "output_type": "stream",
     "text": [
      "Case 1: True\n",
      "Case 2: False\n"
     ]
    }
   ],
   "source": [
    "# Test on Cases\n",
    "S = Solution()\n",
    "\n",
    "print(f\"Case 1: {S.hasGroupsSizeX([1,2,3,4,4,3,2,1])}\")\n",
    "print(f\"Case 2: {S.hasGroupsSizeX([1,1,1,2,2,2,3,3])}\")"
   ]
  }
 ],
 "metadata": {
  "kernelspec": {
   "display_name": "Python 3 (ipykernel)",
   "language": "python",
   "name": "python3"
  },
  "language_info": {
   "codemirror_mode": {
    "name": "ipython",
    "version": 3
   },
   "file_extension": ".py",
   "mimetype": "text/x-python",
   "name": "python",
   "nbconvert_exporter": "python",
   "pygments_lexer": "ipython3",
   "version": "3.11.9"
  },
  "vscode": {
   "interpreter": {
    "hash": "21d8332eb27bea95342760850bd7426f517b6a483537194bbba87e10eeabf6ff"
   }
  }
 },
 "nbformat": 4,
 "nbformat_minor": 4
}
