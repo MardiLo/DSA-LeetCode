{
 "cells": [
  {
   "attachments": {},
   "cell_type": "markdown",
   "metadata": {},
   "source": [
    "`# Array` `# Breadth-First Search` `# Matrix`"
   ]
  },
  {
   "attachments": {},
   "cell_type": "markdown",
   "metadata": {},
   "source": [
    "You are given an `m x n` `grid` where each cell can have one of three values:\n",
    "\n",
    "- `0` representing an empty cell,\n",
    "- `1` representing a fresh orange, or\n",
    "- `2` representing a rotten orange.\n",
    "\n",
    "Every minute, any fresh orange that is **4-directionally adjacent** to a rotten orange becomes rotten.\n",
    "\n",
    "Return *the minimum number of minutes that must elapse until no cell has a fresh orange. If this is impossible, return* `-1`."
   ]
  },
  {
   "attachments": {},
   "cell_type": "markdown",
   "metadata": {},
   "source": [
    "**Example 1:**  \n",
    "![Image of leetcode 0994 problem example 1](https://assets.leetcode.com/uploads/2019/02/16/oranges.png)\n",
    "> Input: grid = [[2,1,1],[1,1,0],[0,1,1]]  \n",
    "> Output: 4\n",
    "\n",
    "**Example 2**\n",
    "\n",
    "> Input: grid = [[2,1,1],[0,1,1],[1,0,1]]  \n",
    "> Output: -1  \n",
    "> Explanation: The orange in the bottom left corner (row 2, column 0) is never rotten, because rotting only happens 4-directionally.\n",
    "\n",
    "**Example 3**\n",
    "\n",
    "> Input: grid = [[0,2]]  \n",
    "> Output: 0  \n",
    "> Explanation: Since there are already no fresh oranges at minute 0, the answer is just 0."
   ]
  },
  {
   "cell_type": "code",
   "execution_count": 1,
   "metadata": {},
   "outputs": [],
   "source": [
    "class Solution:\n",
    "    \n",
    "    # Time Complexity： O(mn)\n",
    "    # Space Complexity： O(mn)\n",
    "    def orangesRotting(self, grid: list[list[int]]) -> int:\n",
    "        from collections import deque\n",
    "        from itertools import product\n",
    "        \n",
    "        m, n, direction, time = len(grid), len(grid[0]), [(-1, 0), (1, 0), (0, -1), (0, 1)], -1\n",
    "        queue = deque([(i, j) for i, j in product(range(m), range(n)) if grid[i][j] == 2])\n",
    "        \n",
    "        while queue:\n",
    "            for _ in range(len(queue)):\n",
    "                i, j = queue.popleft()\n",
    "\n",
    "                for dx, dy in direction:\n",
    "                    if not (0 <= (neb_i := i+dx) < m and 0 <= (neb_j := j+dy) < n and grid[neb_i][neb_j] == 1): continue\n",
    "\n",
    "                    grid[neb_i][neb_j] = 2 \n",
    "                    queue.append((neb_i, neb_j))\n",
    "            \n",
    "            time += 1\n",
    "        \n",
    "        return -1 if any(grid[i][j] == 1 for i, j in product(range(m), range(n))) else max(time, 0)"
   ]
  },
  {
   "cell_type": "code",
   "execution_count": 2,
   "metadata": {},
   "outputs": [
    {
     "name": "stdout",
     "output_type": "stream",
     "text": [
      "Case 1: 4\n",
      "Case 2: -1\n",
      "Case 3: 0\n"
     ]
    }
   ],
   "source": [
    "# Test on Cases\n",
    "S = Solution()\n",
    "\n",
    "print(f\"Case 1: {S.orangesRotting([[2,1,1],[1,1,0],[0,1,1]])}\")\n",
    "print(f\"Case 2: {S.orangesRotting([[2,1,1],[0,1,1],[1,0,1]])}\")\n",
    "print(f\"Case 3: {S.orangesRotting([[0,2]])}\")"
   ]
  }
 ],
 "metadata": {
  "kernelspec": {
   "display_name": "Python 3 (ipykernel)",
   "language": "python",
   "name": "python3"
  },
  "language_info": {
   "codemirror_mode": {
    "name": "ipython",
    "version": 3
   },
   "file_extension": ".py",
   "mimetype": "text/x-python",
   "name": "python",
   "nbconvert_exporter": "python",
   "pygments_lexer": "ipython3",
   "version": "3.10.4"
  },
  "vscode": {
   "interpreter": {
    "hash": "21d8332eb27bea95342760850bd7426f517b6a483537194bbba87e10eeabf6ff"
   }
  }
 },
 "nbformat": 4,
 "nbformat_minor": 4
}
