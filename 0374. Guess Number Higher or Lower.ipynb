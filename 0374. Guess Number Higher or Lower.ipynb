{
 "cells": [
  {
   "cell_type": "markdown",
   "metadata": {},
   "source": [
    "`# Binary Search` `# Interactive`"
   ]
  },
  {
   "cell_type": "markdown",
   "metadata": {},
   "source": [
    "We are playing the Guess Game. The game is as follows:\n",
    "\n",
    "I pick a number from `1` to `n`. You have to guess which number I picked.\n",
    "\n",
    "Every time you guess wrong, I will tell you whether the number I picked is higher or lower than your guess.\n",
    "\n",
    "You call a pre-defined API `int guess(int num)`, which returns three possible results:\n",
    "\n",
    "`-1`: Your guess is higher than the number I picked (i.e. `num > pick`).  \n",
    "`1`: Your guess is lower than the number I picked (i.e. `num < pick`).  \n",
    "`0`: your guess is equal to the number I picked (i.e. `num == pick`).  \n",
    "Return *the number that I picked.*"
   ]
  },
  {
   "cell_type": "markdown",
   "metadata": {},
   "source": [
    "**Example 1:**\n",
    "\n",
    "> Input: n = 10, pick = 6  \n",
    "> Output: 6\n",
    "\n",
    "**Example 2:**\n",
    "\n",
    "> Input: n = 1, pick = 1  \n",
    "> Output: 1\n",
    "\n",
    "**Example 3:**\n",
    "\n",
    "> Input: n = 2, pick = 1  \n",
    "> Output: 1"
   ]
  },
  {
   "cell_type": "code",
   "execution_count": 1,
   "metadata": {},
   "outputs": [],
   "source": [
    "class Solution:\n",
    "    \n",
    "    # Time Complexity： O(logn)\n",
    "    # Space Complexity： O(1)     \n",
    "    def guessNumber(self, n: int) -> int:\n",
    "        l, r = 1, n\n",
    "        \n",
    "        while l <= r:\n",
    "            if not (result := guess(m := (l+r) // 2)):\n",
    "                return m\n",
    "            elif result == -1:\n",
    "                r = m - 1\n",
    "            else:\n",
    "                l = m + 1\n",
    "        \n",
    "        return l\n",
    "    \n",
    "    # Time Complexity： O(logn)\n",
    "    # Space Complexity： O(1)\n",
    "    def guessNumber_lib(self, n: int) -> int:\n",
    "        from bisect import bisect_left\n",
    "\n",
    "        return bisect_left(range(n+1), 0, lo=1, key=lambda m: -guess(m)) "
   ]
  }
 ],
 "metadata": {
  "kernelspec": {
   "display_name": "Python 3 (ipykernel)",
   "language": "python",
   "name": "python3"
  },
  "language_info": {
   "codemirror_mode": {
    "name": "ipython",
    "version": 3
   },
   "file_extension": ".py",
   "mimetype": "text/x-python",
   "name": "python",
   "nbconvert_exporter": "python",
   "pygments_lexer": "ipython3",
   "version": "3.10.4"
  },
  "vscode": {
   "interpreter": {
    "hash": "21d8332eb27bea95342760850bd7426f517b6a483537194bbba87e10eeabf6ff"
   }
  }
 },
 "nbformat": 4,
 "nbformat_minor": 4
}
