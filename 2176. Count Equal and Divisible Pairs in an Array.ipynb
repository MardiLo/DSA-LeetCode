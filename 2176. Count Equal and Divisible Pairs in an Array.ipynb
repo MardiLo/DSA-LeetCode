{
 "cells": [
  {
   "cell_type": "markdown",
   "metadata": {},
   "source": [
    "`# Array`"
   ]
  },
  {
   "cell_type": "markdown",
   "metadata": {},
   "source": [
    "Given a **0-indexed** integer array `nums` of length `n` and an integer `k`, return *the ***number of pairs**** `(i, j)` *where* `0 <= i < j < n`*, such that* `nums[i] == nums[j]` *and* `(i * j)` *is divisible by* `k`."
   ]
  },
  {
   "cell_type": "markdown",
   "metadata": {},
   "source": [
    "**Example 1:**\n",
    "\n",
    "> Input: nums = [3,1,2,2,2,1,3], k = 2  \n",
    "Output: 4  \n",
    "Explanation:  \n",
    "There are 4 pairs that meet all the requirements:  \n",
    "    - nums[0] == nums[6], and 0 * 6 == 0, which is divisible by 2.  \n",
    "    - nums[2] == nums[3], and 2 * 3 == 6, which is divisible by 2.  \n",
    "    - nums[2] == nums[4], and 2 * 4 == 8, which is divisible by 2.  \n",
    "    - nums[3] == nums[4], and 3 * 4 == 12, which is divisible by 2.\n",
    "\n",
    "**Example 2**\n",
    "\n",
    "> Input: nums = [1,2,3,4], k = 1  \n",
    "Output: 0  \n",
    "Explanation: Since no value in nums is repeated, there are no pairs (i,j) that meet all the requirements.\n"
   ]
  },
  {
   "cell_type": "code",
   "execution_count": 5,
   "metadata": {},
   "outputs": [],
   "source": [
    "class Solution:\n",
    "    \n",
    "    # Time Complexity： O(n^2)\n",
    "    # Space Complexity： O(n)\n",
    "    def countPairs_hashTable(self, nums: list[int], k: int) -> int:\n",
    "        from collections import defaultdict\n",
    "        from itertools import combinations\n",
    "\n",
    "        dic, cnt = defaultdict(list), 0\n",
    "        \n",
    "        for i, num in enumerate(nums):\n",
    "            dic[num].append(i)\n",
    "        \n",
    "        for idxList in dic.values():\n",
    "            if len(idxList) > 1: \n",
    "                cnt += sum(not idxList[i] * idxList[j] % k for i, j in combinations(range(len(idxList)), 2))\n",
    " \n",
    "        return cnt\n",
    "\n",
    "    # Time Complexity： O(n^2)\n",
    "    # Space Complexity： O(1)\n",
    "    def countPairs_bruteForce(self, nums: list[int], k: int) -> int:\n",
    "        from itertools import combinations\n",
    "\n",
    "        return sum(nums[i] == nums[j] and not i * j % k for i, j in combinations(range(len(nums)), 2))\n",
    "        "
   ]
  },
  {
   "cell_type": "code",
   "execution_count": 6,
   "metadata": {},
   "outputs": [
    {
     "name": "stdout",
     "output_type": "stream",
     "text": [
      "---countPairs_hashTable---\n",
      "Case 1: 4\n",
      "Case 2: 0\n",
      "\n",
      "---countPairs_bruteForce---\n",
      "Case 1: 4\n",
      "Case 2: 0\n"
     ]
    }
   ],
   "source": [
    "# Test on Cases\n",
    "S = Solution()\n",
    "\n",
    "print(\"---countPairs_hashTable---\")\n",
    "print(f\"Case 1: {S.countPairs_hashTable([3,1,2,2,2,1,3], 2)}\")\n",
    "print(f\"Case 2: {S.countPairs_hashTable([1,2,3,4], 1)}\\n\")\n",
    "\n",
    "print(\"---countPairs_bruteForce---\")\n",
    "print(f\"Case 1: {S.countPairs_bruteForce([3,1,2,2,2,1,3], 2)}\")\n",
    "print(f\"Case 2: {S.countPairs_bruteForce([1,2,3,4], 1)}\")"
   ]
  }
 ],
 "metadata": {
  "kernelspec": {
   "display_name": "Python 3.10.4 ('leetcode')",
   "language": "python",
   "name": "python3"
  },
  "language_info": {
   "codemirror_mode": {
    "name": "ipython",
    "version": 3
   },
   "file_extension": ".py",
   "mimetype": "text/x-python",
   "name": "python",
   "nbconvert_exporter": "python",
   "pygments_lexer": "ipython3",
   "version": "3.10.4"
  },
  "vscode": {
   "interpreter": {
    "hash": "21d8332eb27bea95342760850bd7426f517b6a483537194bbba87e10eeabf6ff"
   }
  }
 },
 "nbformat": 4,
 "nbformat_minor": 4
}
