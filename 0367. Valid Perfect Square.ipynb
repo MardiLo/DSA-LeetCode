{
 "cells": [
  {
   "cell_type": "markdown",
   "metadata": {},
   "source": [
    "`# Math` `# Binary Search`"
   ]
  },
  {
   "cell_type": "markdown",
   "metadata": {},
   "source": [
    "Given a positive integer `num`, write a function which returns `True` *if* `num` *is a perfect square else* `False`.\n",
    "\n",
    "Follow up: **Do not** use any built-in library function such as `sqrt`."
   ]
  },
  {
   "cell_type": "markdown",
   "metadata": {},
   "source": [
    "**Example 1:**\n",
    "\n",
    "> Input: num = 16  \n",
    "> Output: true\n",
    "\n",
    "**Example 2:**\n",
    "\n",
    "> Input: num = 14  \n",
    "> Output: false"
   ]
  },
  {
   "cell_type": "code",
   "execution_count": 5,
   "metadata": {},
   "outputs": [],
   "source": [
    "class Solution:\n",
    "    \n",
    "    # Time Complexity： O(log(n))\n",
    "    # Space Complexity： O(1)    \n",
    "    def isPerfectSquare(self, num: int) -> bool:\n",
    "        def mySqrt(x: int) -> int:   \n",
    "            l, r = 0, x\n",
    "            \n",
    "            while l <= r:\n",
    "                if (m := (l+r) // 2)*m <= x < (m+1)*(m+1): return m\n",
    "                elif m*m > x: r = m - 1\n",
    "                else: l = m + 1\n",
    "        \n",
    "        return (sq := mySqrt(num))*sq == num"
   ]
  },
  {
   "cell_type": "code",
   "execution_count": 6,
   "metadata": {},
   "outputs": [
    {
     "name": "stdout",
     "output_type": "stream",
     "text": [
      "Case 1: True\n",
      "Case 2: False\n"
     ]
    }
   ],
   "source": [
    "# Test on Cases\n",
    "S = Solution()\n",
    "\n",
    "print(f\"Case 1: {S.isPerfectSquare(16)}\")\n",
    "print(f\"Case 2: {S.isPerfectSquare(14)}\")"
   ]
  }
 ],
 "metadata": {
  "kernelspec": {
   "display_name": "Python 3 (ipykernel)",
   "language": "python",
   "name": "python3"
  },
  "language_info": {
   "codemirror_mode": {
    "name": "ipython",
    "version": 3
   },
   "file_extension": ".py",
   "mimetype": "text/x-python",
   "name": "python",
   "nbconvert_exporter": "python",
   "pygments_lexer": "ipython3",
   "version": "3.10.4"
  },
  "vscode": {
   "interpreter": {
    "hash": "21d8332eb27bea95342760850bd7426f517b6a483537194bbba87e10eeabf6ff"
   }
  }
 },
 "nbformat": 4,
 "nbformat_minor": 4
}
