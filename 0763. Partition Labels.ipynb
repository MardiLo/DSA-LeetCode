{
 "cells": [
  {
   "cell_type": "markdown",
   "metadata": {},
   "source": [
    "`# Greedy` `# Hash Table` `# String` `# Two Pointers`"
   ]
  },
  {
   "cell_type": "markdown",
   "metadata": {},
   "source": [
    "You are given a string `s`. We want to partition the string into as many parts as possible so that each letter appears in at most one part.\n",
    "\n",
    "Return *a list of integers representing the size of these parts*."
   ]
  },
  {
   "cell_type": "markdown",
   "metadata": {},
   "source": [
    "**Example 1:**\n",
    "\n",
    "> Input: s = \"ababcbacadefegdehijhklij\"  \n",
    "Output: [9,7,8]  \n",
    "Explanation:  \n",
    "The partition is \"ababcbaca\", \"defegde\", \"hijhklij\".  \n",
    "This is a partition so that each letter appears in at most one part.  \n",
    "A partition like \"ababcbacadefegde\", \"hijhklij\" is incorrect, because it splits s into less parts.  \n",
    "\n",
    "**Example 2:**\n",
    "\n",
    "> Input: s = \"eccbbbbdec\"  \n",
    "Output: [10]  "
   ]
  },
  {
   "cell_type": "code",
   "execution_count": 1,
   "metadata": {},
   "outputs": [],
   "source": [
    "class Solution:\n",
    "    \n",
    "    # Time Complexity： O(n)\n",
    "    # Space Complexity： O(26)    \n",
    "    def partitionLabels(self, s: 'str') -> 'List[int]':\n",
    "        charEnds = {c: i for i, c in enumerate(s)}  \n",
    "        curr, partition = 0, [0]\n",
    "\n",
    "        while curr < len(s):\n",
    "            c = s[curr]\n",
    "            last = charEnds[c]\n",
    "\n",
    "            while curr <= last:\n",
    "                c = s[curr]\n",
    "                last = max(last, charEnds[c])\n",
    "                curr += 1\n",
    "\n",
    "            partition.append(curr)\n",
    "        \n",
    "        return [partition[i] - partition[i-1] for i in range(1, len(partition))]"
   ]
  },
  {
   "cell_type": "code",
   "execution_count": 2,
   "metadata": {},
   "outputs": [
    {
     "name": "stdout",
     "output_type": "stream",
     "text": [
      "Case 1: [9, 7, 8]\n",
      "Case 2: [10]\n"
     ]
    }
   ],
   "source": [
    "# Test on Cases\n",
    "S = Solution()\n",
    "\n",
    "print(f\"Case 1: {S.partitionLabels('ababcbacadefegdehijhklij')}\")\n",
    "print(f\"Case 2: {S.partitionLabels('eccbbbbdec')}\")"
   ]
  },
  {
   "cell_type": "markdown",
   "metadata": {},
   "source": [
    "**Ref**\n",
    "1. [[Python] Greedy O(n) solution, explained](https://leetcode.com/problems/partition-labels/discuss/828031/Python-Greedy-O(n)-solution-explained)"
   ]
  }
 ],
 "metadata": {
  "interpreter": {
   "hash": "ba9359eadc070f03edd6183a4af22ffcaf60363daf070b8f22fbedba67666dbe"
  },
  "kernelspec": {
   "display_name": "Python 3.7.7 64-bit ('flask': conda)",
   "name": "python3"
  },
  "language_info": {
   "codemirror_mode": {
    "name": "ipython",
    "version": 3
   },
   "file_extension": ".py",
   "mimetype": "text/x-python",
   "name": "python",
   "nbconvert_exporter": "python",
   "pygments_lexer": "ipython3",
   "version": "3.7.7"
  }
 },
 "nbformat": 4,
 "nbformat_minor": 4
}
