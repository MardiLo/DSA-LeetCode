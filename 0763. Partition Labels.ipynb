{
 "cells": [
  {
   "cell_type": "markdown",
   "metadata": {},
   "source": [
    "`# Greedy` `# Hash Table` `# String` `# Two Pointers`"
   ]
  },
  {
   "cell_type": "markdown",
   "metadata": {},
   "source": [
    "You are given a string `s`. We want to partition the string into as many parts as possible so that each letter appears in at most one part.\n",
    "\n",
    "Return *a list of integers representing the size of these parts*."
   ]
  },
  {
   "cell_type": "markdown",
   "metadata": {},
   "source": [
    "**Example 1:**\n",
    "\n",
    "> Input: s = \"ababcbacadefegdehijhklij\"  \n",
    "> Output: [9,7,8]  \n",
    "> Explanation:  \n",
    "> The partition is \"ababcbaca\", \"defegde\", \"hijhklij\".  \n",
    "> This is a partition so that each letter appears in at most one part.  \n",
    "> A partition like \"ababcbacadefegde\", \"hijhklij\" is incorrect, because it splits s into less parts.  \n",
    "\n",
    "**Example 2:**\n",
    "\n",
    "> Input: s = \"eccbbbbdec\"  \n",
    "> Output: [10]  "
   ]
  },
  {
   "cell_type": "code",
   "execution_count": 1,
   "metadata": {},
   "outputs": [],
   "source": [
    "class Solution:\n",
    "    \n",
    "    # Time Complexity： O(n)\n",
    "    # Space Complexity： O(26)    \n",
    "    def partitionLabels(self, s: str) -> list[int]:\n",
    "        charEnds = {c: i for i, c in enumerate(s)}  \n",
    "        curr, partition = 0, [0]\n",
    "\n",
    "        while curr < len(s):\n",
    "            last = charEnds[s[curr]]\n",
    "\n",
    "            while curr <= last:\n",
    "                last = max(last, charEnds[s[curr]])\n",
    "                curr += 1\n",
    "\n",
    "            partition.append(curr)\n",
    "        \n",
    "        return [partition[i] - partition[i-1] for i in range(1, len(partition))]"
   ]
  },
  {
   "cell_type": "code",
   "execution_count": 2,
   "metadata": {},
   "outputs": [
    {
     "name": "stdout",
     "output_type": "stream",
     "text": [
      "Case 1: [9, 7, 8]\n",
      "Case 2: [10]\n"
     ]
    }
   ],
   "source": [
    "# Test on Cases\n",
    "S = Solution()\n",
    "\n",
    "print(f\"Case 1: {S.partitionLabels('ababcbacadefegdehijhklij')}\")\n",
    "print(f\"Case 2: {S.partitionLabels('eccbbbbdec')}\")"
   ]
  },
  {
   "cell_type": "markdown",
   "metadata": {},
   "source": [
    "**Ref**\n",
    "1. [[Python] Greedy O(n) solution, explained](https://leetcode.com/problems/partition-labels/discuss/828031/Python-Greedy-O(n)-solution-explained)"
   ]
  }
 ],
 "metadata": {
  "kernelspec": {
   "display_name": "Python 3 (ipykernel)",
   "language": "python",
   "name": "python3"
  },
  "language_info": {
   "codemirror_mode": {
    "name": "ipython",
    "version": 3
   },
   "file_extension": ".py",
   "mimetype": "text/x-python",
   "name": "python",
   "nbconvert_exporter": "python",
   "pygments_lexer": "ipython3",
   "version": "3.10.4"
  },
  "vscode": {
   "interpreter": {
    "hash": "21d8332eb27bea95342760850bd7426f517b6a483537194bbba87e10eeabf6ff"
   }
  }
 },
 "nbformat": 4,
 "nbformat_minor": 4
}
