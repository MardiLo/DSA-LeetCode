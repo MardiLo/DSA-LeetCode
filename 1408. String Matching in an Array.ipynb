{
 "cells": [
  {
   "cell_type": "markdown",
   "metadata": {},
   "source": [
    "`# Array` `# String` `# String Matching`"
   ]
  },
  {
   "cell_type": "markdown",
   "metadata": {},
   "source": [
    "Given an array of string `words`. Return all strings in `words` which is substring of another word in any order. \n",
    "\n",
    "String `words[i]` is substring of `words[j]`, if can be obtained removing some characters to left and/or right side of `words[j]`."
   ]
  },
  {
   "cell_type": "markdown",
   "metadata": {},
   "source": [
    "**Example 1:**\n",
    "\n",
    "> Input: words = [\"mass\",\"as\",\"hero\",\"superhero\"]  \n",
    "Output: [\"as\",\"hero\"]  \n",
    "Explanation: \"as\" is substring of \"mass\" and \"hero\" is substring of \"superhero\".  \n",
    "[\"hero\",\"as\"] is also a valid answer.\n",
    "\n",
    "**Example 2:**\n",
    "\n",
    "> Input: words = [\"leetcode\",\"et\",\"code\"]  \n",
    "Output: [\"et\",\"code\"]  \n",
    "Explanation: \"et\", \"code\" are substring of \"leetcode\".  \n",
    "\n",
    "**Example 3:**\n",
    "\n",
    "> Input: words = [\"blue\",\"green\",\"bu\"]  \n",
    "Output: []"
   ]
  },
  {
   "cell_type": "code",
   "execution_count": 3,
   "metadata": {},
   "outputs": [],
   "source": [
    "class Solution:\n",
    "\n",
    "    # Time Complexity： O(mn^2), where n is len(words), m is the length of word\n",
    "    # Space Complexity： O(n)\n",
    "    def stringMatching(self, words: list[str]) -> list[str]:\n",
    "        words, res = sorted(words, key=len), set()\n",
    "        \n",
    "        for i in range(len(words)-1):\n",
    "            for j in range(i+1, len(words)):\n",
    "                if words[i] in words[j]: res.add(words[i])\n",
    "                    \n",
    "        return res"
   ]
  },
  {
   "cell_type": "code",
   "execution_count": 4,
   "metadata": {},
   "outputs": [
    {
     "name": "stdout",
     "output_type": "stream",
     "text": [
      "Case 1: {'as', 'hero'}\n",
      "Case 2: {'et', 'code'}\n",
      "Case 3: set()\n"
     ]
    }
   ],
   "source": [
    "# Test on Cases\n",
    "S = Solution()\n",
    "\n",
    "print(f\"Case 1: {S.stringMatching(['mass','as','hero','superhero'])}\")\n",
    "print(f\"Case 2: {S.stringMatching(['leetcode','et','code'])}\")\n",
    "print(f\"Case 3: {S.stringMatching(['blue','green','bu'])}\")"
   ]
  }
 ],
 "metadata": {
  "kernelspec": {
   "display_name": "Python 3.10.4 ('leetcode')",
   "language": "python",
   "name": "python3"
  },
  "language_info": {
   "codemirror_mode": {
    "name": "ipython",
    "version": 3
   },
   "file_extension": ".py",
   "mimetype": "text/x-python",
   "name": "python",
   "nbconvert_exporter": "python",
   "pygments_lexer": "ipython3",
   "version": "3.10.4"
  },
  "vscode": {
   "interpreter": {
    "hash": "21d8332eb27bea95342760850bd7426f517b6a483537194bbba87e10eeabf6ff"
   }
  }
 },
 "nbformat": 4,
 "nbformat_minor": 4
}
