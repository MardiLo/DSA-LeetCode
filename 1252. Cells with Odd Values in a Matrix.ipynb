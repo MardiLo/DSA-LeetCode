{
 "cells": [
  {
   "attachments": {},
   "cell_type": "markdown",
   "metadata": {},
   "source": [
    "`# Array` `# Math` `# Simulation`"
   ]
  },
  {
   "attachments": {},
   "cell_type": "markdown",
   "metadata": {},
   "source": [
    "There is an `m x n` matrix that is initialized to all `0`'s. There is also a 2D array `indices` where each `indices[i] = [r`<sub>`i`</sub>`, c`<sub>`i`</sub>`]` represents a **0-indexed location** to perform some increment operations on the matrix.\n",
    "\n",
    "For each location `indices[i]`, do both of the following:\n",
    "\n",
    "Increment **all** the cells on row `r`<sub>`i`</sub>.  \n",
    "Increment **all** the cells on column `c`<sub>`i`</sub>.  \n",
    "\n",
    "Given `m`, `n`, and `indices`, return *the ***number of odd-valued cells*** in the matrix after applying the increment to all locations in* `indices`."
   ]
  },
  {
   "attachments": {},
   "cell_type": "markdown",
   "metadata": {},
   "source": [
    "**Example 1:**  \n",
    "![Image of leetcode 1252 problem example 1](https://assets.leetcode.com/uploads/2019/10/30/e1.png)\n",
    "> Input: m = 2, n = 3, indices = [[0,1],[1,1]]  \n",
    "> Output: 6  \n",
    "> Explanation: Initial matrix = [[0,0,0],[0,0,0]].  \n",
    "> After applying first increment it becomes [[1,2,1],[0,1,0]].  \n",
    "> The final matrix is [[1,3,1],[1,3,1]], which contains 6 odd numbers.\n",
    "\n",
    "**Example 2:**  \n",
    "![Image of leetcode 1252 problem example 2](https://assets.leetcode.com/uploads/2019/10/30/e2.png)\n",
    "> Input: m = 2, n = 2, indices = [[1,1],[0,0]]  \n",
    "> Output: 0  \n",
    "> Explanation: Final matrix = [[2,2],[2,2]]. There are no odd numbers in the final matrix."
   ]
  },
  {
   "cell_type": "code",
   "execution_count": 5,
   "metadata": {},
   "outputs": [],
   "source": [
    "class Solution:\n",
    "    \n",
    "    # Time Complexity： O(mn)\n",
    "    # Space Complexity： O(m+n)    \n",
    "    def oddCells(self, m: int, n: int, indices: list[list[int]]) -> int:\n",
    "        from collections import Counter\n",
    "        from itertools import product\n",
    "\n",
    "        rowCnt, colCnt = map(Counter, zip(*indices))\n",
    "        \n",
    "        return sum((rowCnt[i]+colCnt[j]) % 2 for i, j in product(range(m), range(n)))"
   ]
  },
  {
   "cell_type": "code",
   "execution_count": 6,
   "metadata": {},
   "outputs": [
    {
     "name": "stdout",
     "output_type": "stream",
     "text": [
      "Case 1: 6\n",
      "Case 2: 0\n"
     ]
    }
   ],
   "source": [
    "# Test on Cases\n",
    "S = Solution()\n",
    "\n",
    "print(f\"Case 1: {S.oddCells(m=2, n=3, indices=[[0,1],[1,1]])}\")\n",
    "print(f\"Case 2: {S.oddCells(m=2, n=2, indices=[[1,1],[0,0]])}\")"
   ]
  }
 ],
 "metadata": {
  "interpreter": {
   "hash": "21d8332eb27bea95342760850bd7426f517b6a483537194bbba87e10eeabf6ff"
  },
  "kernelspec": {
   "display_name": "Python 3 (ipykernel)",
   "language": "python",
   "name": "python3"
  },
  "language_info": {
   "codemirror_mode": {
    "name": "ipython",
    "version": 3
   },
   "file_extension": ".py",
   "mimetype": "text/x-python",
   "name": "python",
   "nbconvert_exporter": "python",
   "pygments_lexer": "ipython3",
   "version": "3.10.4"
  }
 },
 "nbformat": 4,
 "nbformat_minor": 4
}
