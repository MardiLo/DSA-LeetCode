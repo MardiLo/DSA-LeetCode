{
 "cells": [
  {
   "cell_type": "markdown",
   "metadata": {},
   "source": [
    "`# Sorting` `# String`"
   ]
  },
  {
   "cell_type": "markdown",
   "metadata": {},
   "source": [
    "A **sentence** is a list of words that are separated by a single space with no leading or trailing spaces. Each word consists of lowercase and uppercase English letters.\n",
    "\n",
    "A sentence can be **shuffled** by appending the **1-indexed word position** to each word then rearranging the words in the sentence.\n",
    "\n",
    "- For example, the sentence `\"This is a sentence\"` can be shuffled as `\"sentence4 a3 is2 This1\"` or `\"is2 sentence4 This1 a3\"`.\n",
    "\n",
    "Given a **shuffled sentence** `s` containing no more than `9` words, reconstruct and return *the original sentence*."
   ]
  },
  {
   "cell_type": "markdown",
   "metadata": {},
   "source": [
    "**Example 1:**  \n",
    "\n",
    "> Input: s = \"is2 sentence4 This1 a3\"  \n",
    "Output: \"This is a sentence\"  \n",
    "Explanation: Sort the words in s to their original positions \"This1 is2 a3 sentence4\", then remove the numbers.\n",
    "\n",
    "**Example 2:**\n",
    "\n",
    "> Input: s = \"Myself2 Me1 I4 and3\"  \n",
    "Output: \"Me Myself and I\"  \n",
    "Explanation: Sort the words in s to their original positions \"Me1 Myself2 and3 I4\", then remove the numbers."
   ]
  },
  {
   "cell_type": "code",
   "execution_count": 9,
   "metadata": {},
   "outputs": [],
   "source": [
    "class Solution:\n",
    "    \n",
    "    # Time Complexity： O(n)\n",
    "    # Space Complexity： O(n)    \n",
    "    def sortSentence(self, s: str) -> str:\n",
    "        s = s.split(' ')\n",
    "        bucket = [''] * len(s)\n",
    "        \n",
    "        for word in s:\n",
    "            bucket[int(word[-1])-1] = word[:-1]\n",
    "            \n",
    "        return ' '.join(bucket)\n",
    "\n",
    "    # Time Complexity： O(nlogn)\n",
    "    # Space Complexity： O(n)    \n",
    "    def sortSentence_sorting(self, s: str) -> str:\n",
    "        return ' '.join(word[:-1] for word in sorted(s.split(' '), key=lambda x: x[-1]))"
   ]
  },
  {
   "cell_type": "code",
   "execution_count": 10,
   "metadata": {},
   "outputs": [
    {
     "name": "stdout",
     "output_type": "stream",
     "text": [
      "---sortSentence---\n",
      "Case 1: This is a sentence\n",
      "Case 2: Me Myself and I\n",
      "\n",
      "---restoreString_sorting---\n",
      "Case 1: This is a sentence\n",
      "Case 2: Me Myself and I\n"
     ]
    }
   ],
   "source": [
    "# Test on Cases\n",
    "S = Solution()\n",
    "\n",
    "print(\"---sortSentence---\")\n",
    "print(f\"Case 1: {S.sortSentence('is2 sentence4 This1 a3')}\")\n",
    "print(f\"Case 2: {S.sortSentence('Myself2 Me1 I4 and3')}\\n\")\n",
    "\n",
    "print(\"---restoreString_sorting---\")\n",
    "print(f\"Case 1: {S.sortSentence_sorting('is2 sentence4 This1 a3')}\")\n",
    "print(f\"Case 2: {S.sortSentence_sorting('Myself2 Me1 I4 and3')}\")"
   ]
  }
 ],
 "metadata": {
  "kernelspec": {
   "display_name": "Python 3.10.4 ('leetcode')",
   "language": "python",
   "name": "python3"
  },
  "language_info": {
   "codemirror_mode": {
    "name": "ipython",
    "version": 3
   },
   "file_extension": ".py",
   "mimetype": "text/x-python",
   "name": "python",
   "nbconvert_exporter": "python",
   "pygments_lexer": "ipython3",
   "version": "3.10.4"
  },
  "vscode": {
   "interpreter": {
    "hash": "21d8332eb27bea95342760850bd7426f517b6a483537194bbba87e10eeabf6ff"
   }
  }
 },
 "nbformat": 4,
 "nbformat_minor": 4
}
