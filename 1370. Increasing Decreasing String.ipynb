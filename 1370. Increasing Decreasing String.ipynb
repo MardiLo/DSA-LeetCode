{
 "cells": [
  {
   "attachments": {},
   "cell_type": "markdown",
   "metadata": {},
   "source": [
    "`# Math`"
   ]
  },
  {
   "attachments": {},
   "cell_type": "markdown",
   "metadata": {},
   "source": [
    "You are given a string `s`. Reorder the string using the following algorithm:\n",
    "\n",
    "Pick the smallest character from `s` and append it to the result.  \n",
    "Pick the smallest character from `s` which is greater than the last appended character to the result and append it.  \n",
    "Repeat step 2 until you cannot pick more characters.  \n",
    "Pick the largest character from `s` and append it to the result.  \n",
    "Pick the largest character from `s` which is smaller than the last appended character to the result and append it.  \n",
    "Repeat step 5 until you cannot pick more characters.  \n",
    "Repeat the steps from 1 to 6 until you pick all characters from `s`.  \n",
    "In each step, If the smallest or the largest character appears more than once you can choose any occurrence and append it to the result.\n",
    "\n",
    "Return *the result string after sorting* `s` *with this algorithm.*"
   ]
  },
  {
   "attachments": {},
   "cell_type": "markdown",
   "metadata": {},
   "source": [
    "**Example 1:**\n",
    "\n",
    "> Input: s = \"aaaabbbbcccc\"  \n",
    "> Output: \"abccbaabccba\"  \n",
    "> Explanation: After steps 1, 2 and 3 of the first iteration, result = \"abc\"  \n",
    "> After steps 4, 5 and 6 of the first iteration, result = \"abccba\"  \n",
    "> First iteration is done. Now s = \"aabbcc\" and we go back to step 1  \n",
    "> After steps 1, 2 and 3 of the second iteration, result = \"abccbaabc\"  \n",
    "> After steps 4, 5 and 6 of the second iteration, result = \"abccbaabccba\"\n",
    "\n",
    "**Example 2:**\n",
    "\n",
    "> Input: s = \"rat\"  \n",
    "> Output: \"art\"  \n",
    "> Explanation: The word \"rat\" becomes \"art\" after re-ordering it with the mentioned algorithm."
   ]
  },
  {
   "cell_type": "code",
   "execution_count": 1,
   "metadata": {},
   "outputs": [],
   "source": [
    "class Solution:\n",
    "\n",
    "    # Time Complexity： O(n+26log26), where n = len(s)\n",
    "    # Space Complexity： O(26)\n",
    "    def sortString(self, s: str) -> str:\n",
    "        from collections import Counter\n",
    "\n",
    "        res, cnt, asc = '', Counter(s), True\n",
    "\n",
    "        while cnt:\n",
    "            for c in (sorted(Counter(s)) if asc else sorted(Counter(s), reverse=True)):\n",
    "                if cnt[c]: res += c; cnt[c] -= 1\n",
    "                else: cnt.pop(c, None)\n",
    "            \n",
    "            asc = not asc\n",
    "        \n",
    "        return res"
   ]
  },
  {
   "cell_type": "code",
   "execution_count": 2,
   "metadata": {},
   "outputs": [
    {
     "name": "stdout",
     "output_type": "stream",
     "text": [
      "Case 1: abccbaabccba\n",
      "Case 2: art\n"
     ]
    }
   ],
   "source": [
    "# Test on Cases\n",
    "S = Solution()\n",
    "\n",
    "print(f\"Case 1: {S.sortString('aaaabbbbcccc')}\")\n",
    "print(f\"Case 2: {S.sortString('rat')}\")"
   ]
  }
 ],
 "metadata": {
  "kernelspec": {
   "display_name": "Python 3 (ipykernel)",
   "language": "python",
   "name": "python3"
  },
  "language_info": {
   "codemirror_mode": {
    "name": "ipython",
    "version": 3
   },
   "file_extension": ".py",
   "mimetype": "text/x-python",
   "name": "python",
   "nbconvert_exporter": "python",
   "pygments_lexer": "ipython3",
   "version": "3.10.4"
  },
  "vscode": {
   "interpreter": {
    "hash": "21d8332eb27bea95342760850bd7426f517b6a483537194bbba87e10eeabf6ff"
   }
  }
 },
 "nbformat": 4,
 "nbformat_minor": 4
}
