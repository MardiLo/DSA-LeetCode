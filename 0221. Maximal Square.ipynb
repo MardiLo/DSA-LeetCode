{
 "cells": [
  {
   "cell_type": "markdown",
   "metadata": {},
   "source": [
    "`# Array` `# Dynamic Programming` `# Matrix`"
   ]
  },
  {
   "cell_type": "markdown",
   "metadata": {},
   "source": [
    "Given an `m x n` binary matrix filled with `0`'s and `1`'s, find the largest square containing only `1`'s and return *its area*."
   ]
  },
  {
   "cell_type": "markdown",
   "metadata": {},
   "source": [
    "**Example 1:**  \n",
    "![Image of leetcode 0221 problem example 1](https://assets.leetcode.com/uploads/2020/11/26/max1grid.jpg)\n",
    "> Input: matrix = [['1','0','1','0','0'],['1','0','1','1','1'],['1','1','1','1','1'],['1','0','0','1','0']]  \n",
    "Output: 4  \n",
    "\n",
    "**Example 2:**  \n",
    "![Image of leetcode 0221 problem example 2](https://assets.leetcode.com/uploads/2020/11/26/max2grid.jpg)\n",
    "> Input: matrix = [['0','1'],['1','0']]  \n",
    "Output: 1  \n",
    "\n",
    "**Example 3:**\n",
    "\n",
    "> Input: matrix = [['0']]  \n",
    "Output: 0  "
   ]
  },
  {
   "cell_type": "code",
   "execution_count": 1,
   "metadata": {},
   "outputs": [],
   "source": [
    "class Solution:\n",
    "    \n",
    "    # Time Complexity： O(mn)\n",
    "    # Space Complexity： O(1)      \n",
    "    def maximalSquare(self, matrix: list[list[str]]) -> int:\n",
    "        from itertools import product\n",
    "\n",
    "        sideLen = 0\n",
    "        \n",
    "        for i, j in product(range(len(matrix)), range(len(matrix[0]))):\n",
    "            matrix[i][j] = int(matrix[i][j])\n",
    "            \n",
    "            if all((i, j, matrix[i][j], matrix[i-1][j], matrix[i][j-1], matrix[i-1][j-1])):\n",
    "                matrix[i][j] = min(matrix[i-1][j], matrix[i][j-1], matrix[i-1][j-1]) + 1\n",
    "                    \n",
    "            sideLen = max(sideLen, matrix[i][j])\n",
    "        \n",
    "        return sideLen**2"
   ]
  },
  {
   "cell_type": "code",
   "execution_count": 2,
   "metadata": {},
   "outputs": [
    {
     "name": "stdout",
     "output_type": "stream",
     "text": [
      "Case 1: 4\n",
      "Case 2: 1\n",
      "Case 3: 0\n"
     ]
    }
   ],
   "source": [
    "# Test on Cases\n",
    "S = Solution()\n",
    "\n",
    "print(f\"Case 1: {S.maximalSquare([['1','0','1','0','0'],['1','0','1','1','1'],['1','1','1','1','1'],['1','0','0','1','0']])}\")\n",
    "print(f\"Case 2: {S.maximalSquare([['0','1'],['1','0']])}\")\n",
    "print(f\"Case 3: {S.maximalSquare([['0']])}\")"
   ]
  },
  {
   "cell_type": "markdown",
   "metadata": {},
   "source": [
    "**Ref**\n",
    "1. [[Python] Top down DP - Clean & Concise](https://leetcode.com/problems/maximal-square/discuss/1467253/Python-Top-down-DP-Clean-and-Concise)\n",
    "2. [Maximal Square - Top Down Memoization - Leetcode 221](https://www.youtube.com/watch?v=6X7Ha2PrDmM&t=654s&ab_channel=NeetCode)"
   ]
  }
 ],
 "metadata": {
  "kernelspec": {
   "display_name": "Python 3.10.4 ('leetcode')",
   "language": "python",
   "name": "python3"
  },
  "language_info": {
   "codemirror_mode": {
    "name": "ipython",
    "version": 3
   },
   "file_extension": ".py",
   "mimetype": "text/x-python",
   "name": "python",
   "nbconvert_exporter": "python",
   "pygments_lexer": "ipython3",
   "version": "3.10.4"
  },
  "vscode": {
   "interpreter": {
    "hash": "21d8332eb27bea95342760850bd7426f517b6a483537194bbba87e10eeabf6ff"
   }
  }
 },
 "nbformat": 4,
 "nbformat_minor": 4
}
