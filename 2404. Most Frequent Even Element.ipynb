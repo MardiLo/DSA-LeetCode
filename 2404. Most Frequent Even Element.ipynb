{
 "cells": [
  {
   "cell_type": "markdown",
   "metadata": {},
   "source": [
    "`# Array` `# Counting` `# Hash Table`"
   ]
  },
  {
   "cell_type": "markdown",
   "metadata": {},
   "source": [
    "Given an integer array `nums`, return *the most frequent even element.*\n",
    "\n",
    "If there is a tie, return the **smallest** one. If there is no such element, return `-1`."
   ]
  },
  {
   "cell_type": "markdown",
   "metadata": {},
   "source": [
    "**Example 1:**\n",
    "\n",
    "> Input: nums = [0,1,2,2,4,4,1]  \n",
    "Output: 2  \n",
    "Explanation:  \n",
    "The even elements are 0, 2, and 4. Of these, 2 and 4 appear the most.  \n",
    "We return the smallest one, which is 2.\n",
    "\n",
    "**Example 2:**\n",
    "\n",
    "> Input: nums = [4,4,4,9,2,4]  \n",
    "Output: 4  \n",
    "Explanation: 4 is the even element appears the most.\n",
    "\n",
    "**Example 3:**\n",
    "\n",
    "> Input: nums = [29,47,21,41,13,37,25,7]  \n",
    "Output: -1  \n",
    "Explanation: There is no even element."
   ]
  },
  {
   "cell_type": "code",
   "execution_count": 1,
   "metadata": {},
   "outputs": [],
   "source": [
    "class Solution:\n",
    "\n",
    "    # Time Complexity： O(n)\n",
    "    # Space Complexity： O(n)\n",
    "    def mostFrequentEven(self, nums: list[int]) -> int:\n",
    "        from collections import Counter\n",
    "\n",
    "        return max(cnt := Counter(num for num in nums if not num % 2), key=lambda x: (cnt[x], -x), default=-1)"
   ]
  },
  {
   "cell_type": "code",
   "execution_count": 2,
   "metadata": {},
   "outputs": [
    {
     "name": "stdout",
     "output_type": "stream",
     "text": [
      "Case 1: 2\n",
      "Case 2: 4\n",
      "Case 3: -1\n"
     ]
    }
   ],
   "source": [
    "# Test on Cases\n",
    "S = Solution()\n",
    "\n",
    "print(f\"Case 1: {S.mostFrequentEven([0,1,2,2,4,4,1])}\")\n",
    "print(f\"Case 2: {S.mostFrequentEven([4,4,4,9,2,4])}\")\n",
    "print(f\"Case 3: {S.mostFrequentEven([29,47,21,41,13,37,25,7])}\")"
   ]
  }
 ],
 "metadata": {
  "kernelspec": {
   "display_name": "Python 3.10.4 ('leetcode')",
   "language": "python",
   "name": "python3"
  },
  "language_info": {
   "codemirror_mode": {
    "name": "ipython",
    "version": 3
   },
   "file_extension": ".py",
   "mimetype": "text/x-python",
   "name": "python",
   "nbconvert_exporter": "python",
   "pygments_lexer": "ipython3",
   "version": "3.10.4 | packaged by conda-forge | (main, Mar 30 2022, 08:38:02) [MSC v.1916 64 bit (AMD64)]"
  },
  "vscode": {
   "interpreter": {
    "hash": "21d8332eb27bea95342760850bd7426f517b6a483537194bbba87e10eeabf6ff"
   }
  }
 },
 "nbformat": 4,
 "nbformat_minor": 4
}
