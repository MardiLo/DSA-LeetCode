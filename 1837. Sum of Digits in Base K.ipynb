{
 "cells": [
  {
   "attachments": {},
   "cell_type": "markdown",
   "metadata": {},
   "source": [
    "`# Math`"
   ]
  },
  {
   "attachments": {},
   "cell_type": "markdown",
   "metadata": {},
   "source": [
    "Given an integer `n` (in base `10`) and a base `k`, return *the ***sum*** of the digits of* `n` ***after*** *converting* `n` *from base* `10` *to base* `k`.\n",
    "\n",
    "After converting, each digit should be interpreted as a base `10` number, and the sum should be returned in base `10`."
   ]
  },
  {
   "attachments": {},
   "cell_type": "markdown",
   "metadata": {},
   "source": [
    "**Example 1:**\n",
    "\n",
    "> Input: n = 34, k = 6  \n",
    "> Output: 9  \n",
    "> Explanation: 34 (base 10) expressed in base 6 is 54. 5 + 4 = 9.\n",
    "\n",
    "**Example 2:**\n",
    "\n",
    "> Input: n = 10, k = 10  \n",
    "> Output: 1  \n",
    "> Explanation: n is already in base 10. 1 + 0 = 1."
   ]
  },
  {
   "cell_type": "code",
   "execution_count": 1,
   "metadata": {},
   "outputs": [],
   "source": [
    "class Solution:\n",
    "\n",
    "    # Time Complexity： O(logn), where the log here is base k\n",
    "    # Space Complexity： O(1)\n",
    "    def sumBase(self, n: int, k: int) -> int:\n",
    "        res = 0\n",
    "\n",
    "        while n:\n",
    "            n, remainder = divmod(n, k)\n",
    "            res += remainder\n",
    "\n",
    "        return res"
   ]
  },
  {
   "cell_type": "code",
   "execution_count": 2,
   "metadata": {},
   "outputs": [
    {
     "name": "stdout",
     "output_type": "stream",
     "text": [
      "Case 1: 9\n",
      "Case 2: 1\n"
     ]
    }
   ],
   "source": [
    "# Test on Cases\n",
    "S = Solution()\n",
    "\n",
    "print(f\"Case 1: {S.sumBase(34, 6)}\")\n",
    "print(f\"Case 2: {S.sumBase(10, 10)}\")"
   ]
  }
 ],
 "metadata": {
  "kernelspec": {
   "display_name": "Python 3 (ipykernel)",
   "language": "python",
   "name": "python3"
  },
  "language_info": {
   "codemirror_mode": {
    "name": "ipython",
    "version": 3
   },
   "file_extension": ".py",
   "mimetype": "text/x-python",
   "name": "python",
   "nbconvert_exporter": "python",
   "pygments_lexer": "ipython3",
   "version": "3.10.4"
  },
  "vscode": {
   "interpreter": {
    "hash": "21d8332eb27bea95342760850bd7426f517b6a483537194bbba87e10eeabf6ff"
   }
  }
 },
 "nbformat": 4,
 "nbformat_minor": 4
}
