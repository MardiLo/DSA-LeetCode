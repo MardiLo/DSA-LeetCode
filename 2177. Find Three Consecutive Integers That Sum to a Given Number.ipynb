{
 "cells": [
  {
   "cell_type": "markdown",
   "metadata": {},
   "source": [
    "`# Math` `# Simulation`"
   ]
  },
  {
   "cell_type": "markdown",
   "metadata": {},
   "source": [
    "Given an integer `num`, return *three consecutive integers (as a sorted array) that ***sum*** to* `num`. If `num` cannot be expressed as the sum of three consecutive integers, return *an ***empty*** array*."
   ]
  },
  {
   "cell_type": "markdown",
   "metadata": {},
   "source": [
    "**Example 1:**\n",
    "\n",
    "> Input: num = 33  \n",
    "> Output: [10,11,12]  \n",
    "> Explanation: 33 can be expressed as 10 + 11 + 12 = 33.  \n",
    "> 10, 11, 12 are 3 consecutive integers, so we return [10, 11, 12].\n",
    "\n",
    "**Example 2**\n",
    "\n",
    "> Input: num = 4  \n",
    "> Output: []  \n",
    "> Explanation: There is no way to express 4 as the sum of 3 consecutive integers.\n"
   ]
  },
  {
   "cell_type": "code",
   "execution_count": 1,
   "metadata": {},
   "outputs": [],
   "source": [
    "class Solution:\n",
    "    \n",
    "    # Time Complexity： O(1)\n",
    "    # Space Complexity： O(1)\n",
    "    def sumOfThree(self, num: int) -> list[int]:\n",
    "        return [num//3-1, num//3, num//3+1] if not num % 3 else []"
   ]
  },
  {
   "cell_type": "code",
   "execution_count": 2,
   "metadata": {},
   "outputs": [
    {
     "name": "stdout",
     "output_type": "stream",
     "text": [
      "Case 1: [10, 11, 12]\n",
      "Case 2: []\n"
     ]
    }
   ],
   "source": [
    "# Test on Cases\n",
    "S = Solution()\n",
    "\n",
    "print(f\"Case 1: {S.sumOfThree(33)}\")\n",
    "print(f\"Case 2: {S.sumOfThree(4)}\")"
   ]
  }
 ],
 "metadata": {
  "kernelspec": {
   "display_name": "leetcode",
   "language": "python",
   "name": "python3"
  },
  "language_info": {
   "codemirror_mode": {
    "name": "ipython",
    "version": 3
   },
   "file_extension": ".py",
   "mimetype": "text/x-python",
   "name": "python",
   "nbconvert_exporter": "python",
   "pygments_lexer": "ipython3",
   "version": "3.10.4"
  }
 },
 "nbformat": 4,
 "nbformat_minor": 4
}
