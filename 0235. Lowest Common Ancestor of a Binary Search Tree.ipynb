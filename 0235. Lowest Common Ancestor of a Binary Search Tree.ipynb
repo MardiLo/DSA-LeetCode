{
 "cells": [
  {
   "cell_type": "markdown",
   "metadata": {},
   "source": [
    "`# Binary Search Tree` `# Binary Tree` `# Depth-First Search` `# Tree`"
   ]
  },
  {
   "cell_type": "markdown",
   "metadata": {},
   "source": [
    "Given a binary search tree (BST), find the lowest common ancestor (LCA) of two given nodes in the BST.\n",
    "\n",
    "According to the definition of LCA on Wikipedia: “The lowest common ancestor is defined between two nodes `p` and `q` as the lowest node in T that has both `p` and `q` as descendants (where we allow a node to be a descendant of itself).”"
   ]
  },
  {
   "cell_type": "markdown",
   "metadata": {},
   "source": [
    "**Example 1:**  \n",
    "![Image of leetcode 0235 problem example 1](https://assets.leetcode.com/uploads/2018/12/14/binarysearchtree_improved.png)\n",
    "> Input: root = [3,5,1,6,2,0,8,null,null,7,4], p = 5, q = 1  \n",
    "Output: 3  \n",
    "Explanation: The LCA of nodes 5 and 1 is 3.  \n",
    "\n",
    "**Example 2:**  \n",
    "![Image of leetcode 0235 problem example 2](https://assets.leetcode.com/uploads/2018/12/14/binarysearchtree_improved.png)\n",
    "> Input: root = [3,5,1,6,2,0,8,null,null,7,4], p = 5, q = 4  \n",
    "Output: 5  \n",
    "Explanation: The LCA of nodes 5 and 4 is 5, since a node can be a descendant of itself according to the LCA definition.  \n",
    "\n",
    "**Example 3:**  \n",
    "\n",
    "> Input: root = [1,2], p = 1, q = 2  \n",
    "Output: 1  "
   ]
  },
  {
   "cell_type": "code",
   "execution_count": 1,
   "metadata": {},
   "outputs": [],
   "source": [
    "class TreeNode:\n",
    "    def __init__(self, x):\n",
    "        self.val = x\n",
    "        self.left = None\n",
    "        self.right = None\n",
    "\n",
    "class Solution:\n",
    "    \n",
    "    # Time Complexity： O(logn)\n",
    "    # Space Complexity： O(logn)  \n",
    "    def lowestCommonAncestor(self, root: 'TreeNode', p: 'TreeNode', q: 'TreeNode') -> 'TreeNode':\n",
    "        while root:\n",
    "            if p.val < root.val and q.val < root.val: \n",
    "                root = root.left\n",
    "            elif p.val > root.val and q.val > root.val: \n",
    "                root = root.right\n",
    "            else:\n",
    "                return root"
   ]
  },
  {
   "cell_type": "markdown",
   "metadata": {},
   "source": [
    "**Ref**\n",
    "1. [Lowest Common Ancestor of a Binary Search Tree - Leetcode 235 - Python](https://www.youtube.com/watch?v=gs2LMfuOR9k&ab_channel=NeetCode)"
   ]
  }
 ],
 "metadata": {
  "interpreter": {
   "hash": "ba9359eadc070f03edd6183a4af22ffcaf60363daf070b8f22fbedba67666dbe"
  },
  "kernelspec": {
   "display_name": "Python 3.7.7 64-bit ('flask': conda)",
   "name": "python3"
  },
  "language_info": {
   "codemirror_mode": {
    "name": "ipython",
    "version": 3
   },
   "file_extension": ".py",
   "mimetype": "text/x-python",
   "name": "python",
   "nbconvert_exporter": "python",
   "pygments_lexer": "ipython3",
   "version": "3.8.3"
  }
 },
 "nbformat": 4,
 "nbformat_minor": 4
}
