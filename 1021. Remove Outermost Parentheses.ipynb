{
 "cells": [
  {
   "cell_type": "markdown",
   "metadata": {},
   "source": [
    "`# Stack` `# String` "
   ]
  },
  {
   "cell_type": "markdown",
   "metadata": {},
   "source": [
    "A valid parentheses string is either empty `\"\"`, `\"(\" + A + \")\"`, or `A + B`, where `A` and `B` are valid parentheses strings, and `+` represents string concatenation.\n",
    "\n",
    "- For example, `\"\"`, `\"()\"`, `\"(())()\"`, and `\"(()(()))\"` are all valid parentheses strings.\n",
    "A valid parentheses string `s` is primitive if it is nonempty, and there does not exist a way to split it into `s = A + B`, with A and B nonempty valid parentheses strings.\n",
    "\n",
    "Given a valid parentheses string `s`, consider its primitive decomposition: `s = P`<sub>`1`</sub>` + P`<sub>`2`</sub>` + ... + P`<sub>`k`</sub>, where `P`<sub>`i`</sub> are primitive valid parentheses strings.\n",
    "\n",
    "Return `s` *after removing the outermost parentheses of every primitive string in the primitive decomposition of* `s`."
   ]
  },
  {
   "cell_type": "markdown",
   "metadata": {},
   "source": [
    "**Example 1:**\n",
    "\n",
    "> Input: s = \"(()())(())\"  \n",
    "> Output: \"()()()\"  \n",
    "> Explanation:   \n",
    "> The input string is \"(()())(())\", with primitive decomposition \"(()())\" + \"(())\".  \n",
    "> After removing outer parentheses of each part, this is \"()()\" + \"()\" = \"()()()\".\n",
    "\n",
    "**Example 2:**\n",
    "\n",
    "> Input: s = \"(()())(())(()(()))\"  \n",
    "> Output: \"()()()()(())\"  \n",
    "> Explanation:   \n",
    "> The input string is \"(()())(())(()(()))\", with primitive decomposition \"(()())\" + \"(())\" + \"(()(()))\".  \n",
    "> After removing outer parentheses of each part, this is \"()()\" + \"()\" + \"()(())\" = \"()()()()(())\".\n",
    "\n",
    "**Example 3:**\n",
    "> Input: s = \"()()\"  \n",
    "> Output: \"\"  \n",
    "> Explanation:   \n",
    "> The input string is \"()()\", with primitive decomposition \"()\" + \"()\".  \n",
    "> After removing outer parentheses of each part, this is \"\" + \"\" = \"\"."
   ]
  },
  {
   "cell_type": "code",
   "execution_count": 1,
   "metadata": {},
   "outputs": [],
   "source": [
    "class Solution:\n",
    "\n",
    "    # Time Complexity： O(n)\n",
    "    # Space Complexity： O(1)\n",
    "    def removeOuterParentheses(self, s: str) -> str:\n",
    "        res, gate = '', 0\n",
    "        \n",
    "        for c in s:\n",
    "            if c == ')': gate -= 1\n",
    "            if gate: res += c\n",
    "            if c == '(': gate += 1\n",
    "        \n",
    "        return res"
   ]
  },
  {
   "cell_type": "code",
   "execution_count": 2,
   "metadata": {},
   "outputs": [
    {
     "name": "stdout",
     "output_type": "stream",
     "text": [
      "Case 1: ()()()\n",
      "Case 2: ()()()()(())\n",
      "Case 3: \n"
     ]
    }
   ],
   "source": [
    "# Test on Cases\n",
    "S = Solution()\n",
    "\n",
    "print(f\"Case 1: {S.removeOuterParentheses('(()())(())')}\")\n",
    "print(f\"Case 2: {S.removeOuterParentheses('(()())(())(()(()))')}\")\n",
    "print(f\"Case 3: {S.removeOuterParentheses('()()')}\")"
   ]
  }
 ],
 "metadata": {
  "kernelspec": {
   "display_name": "Python 3 (ipykernel)",
   "language": "python",
   "name": "python3"
  },
  "language_info": {
   "codemirror_mode": {
    "name": "ipython",
    "version": 3
   },
   "file_extension": ".py",
   "mimetype": "text/x-python",
   "name": "python",
   "nbconvert_exporter": "python",
   "pygments_lexer": "ipython3",
   "version": "3.10.4"
  },
  "vscode": {
   "interpreter": {
    "hash": "21d8332eb27bea95342760850bd7426f517b6a483537194bbba87e10eeabf6ff"
   }
  }
 },
 "nbformat": 4,
 "nbformat_minor": 4
}
