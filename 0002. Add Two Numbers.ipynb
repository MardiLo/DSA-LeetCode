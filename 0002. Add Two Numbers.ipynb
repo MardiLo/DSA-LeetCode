{
 "cells": [
  {
   "cell_type": "markdown",
   "source": [
    "`# Linked List` `# Math` `# Recursion`"
   ],
   "metadata": {}
  },
  {
   "cell_type": "markdown",
   "source": [
    "You are given two **non-empty linked** lists representing two non-negative integers. The digits are stored in **reverse order**, and each of their nodes contains a single digit. Add the two numbers and return *the sum as a linked list*.\n",
    "\n",
    "You may assume the two numbers do not contain any leading zero, except the number 0 itself."
   ],
   "metadata": {}
  },
  {
   "cell_type": "markdown",
   "source": [
    "**Example 1:**  \r\n",
    "![Image of leetcode 0002 problem example 1](https://assets.leetcode.com/uploads/2020/10/02/addtwonumber1.jpg)\r\n",
    "> Input: l1 = [2,4,3], l2 = [5,6,4]  \r\n",
    "Output: [7,0,8]  \r\n",
    "Explanation: 342 + 465 = 807.\r\n",
    "\r\n",
    "**Example 2:**\r\n",
    "\r\n",
    "> Input: l1 = [0], l2 = [0]  \r\n",
    "Output: [0]\r\n",
    "\r\n",
    "**Example 3:**\r\n",
    "\r\n",
    "> Input: l1 = [9,9,9,9,9,9,9], l2 = [9,9,9,9]  \r\n",
    "Output: [8,9,9,9,0,0,0,1]"
   ],
   "metadata": {}
  },
  {
   "cell_type": "code",
   "execution_count": 1,
   "source": [
    "class ListNode:\r\n",
    "    def __init__(self, val=0, next=None):\r\n",
    "        self.val = val\r\n",
    "        self.next = next\r\n",
    "\r\n",
    "class Solution:\r\n",
    "    \r\n",
    "    # Time Complexity： O(n)\r\n",
    "    # Space Complexity： O(1)      \r\n",
    "    def addTwoNumbers(self, l1: 'ListNode', l2: 'ListNode') -> 'ListNode':\r\n",
    "        dummy = cur = ListNode(0)\r\n",
    "        carry = 0\r\n",
    "        \r\n",
    "        while l1 or l2 or carry:\r\n",
    "            if l1:\r\n",
    "                carry += l1.val\r\n",
    "                l1 = l1.next\r\n",
    "            if l2:\r\n",
    "                carry += l2.val\r\n",
    "                l2 = l2.next\r\n",
    "            cur.next = ListNode(carry%10)\r\n",
    "            cur = cur.next\r\n",
    "            carry //= 10\r\n",
    "            \r\n",
    "        return dummy.next"
   ],
   "outputs": [],
   "metadata": {}
  },
  {
   "cell_type": "code",
   "execution_count": 2,
   "source": [
    "# Test on Cases\r\n",
    "from leetcodepractice import Print\r\n",
    "\r\n",
    "S, P = Solution(), Print()\r\n",
    "\r\n",
    "print(f\"Case 1: {P.LinkedListTraversal(S.addTwoNumbers(ListNode(2, ListNode(4, ListNode(3))), ListNode(5, ListNode(6, ListNode(4)))))}\")\r\n",
    "print(f\"Case 2: {P.LinkedListTraversal(S.addTwoNumbers(ListNode(0), ListNode(0)))}\")\r\n",
    "print(f\"Case 3: {P.LinkedListTraversal(S.addTwoNumbers(ListNode(9, ListNode(9, ListNode(9, ListNode(9, ListNode(9, ListNode(9, ListNode(9))))))), ListNode(9, ListNode(9, ListNode(9, ListNode(9))))))}\")"
   ],
   "outputs": [
    {
     "output_type": "stream",
     "name": "stdout",
     "text": [
      "Case 1: [7, 0, 8]\n",
      "Case 2: [0]\n",
      "Case 3: [8, 9, 9, 9, 0, 0, 0, 1]\n"
     ]
    }
   ],
   "metadata": {}
  }
 ],
 "metadata": {
  "kernelspec": {
   "name": "python3",
   "display_name": "Python 3.7.7 64-bit ('spark': conda)"
  },
  "language_info": {
   "codemirror_mode": {
    "name": "ipython",
    "version": 3
   },
   "file_extension": ".py",
   "mimetype": "text/x-python",
   "name": "python",
   "nbconvert_exporter": "python",
   "pygments_lexer": "ipython3",
   "version": "3.7.7"
  },
  "interpreter": {
   "hash": "6ab137a14910b4ee65d0ea442464c53c8571f8241496146388c5db8c59915964"
  }
 },
 "nbformat": 4,
 "nbformat_minor": 4
}