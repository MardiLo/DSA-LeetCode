{
 "cells": [
  {
   "cell_type": "markdown",
   "metadata": {},
   "source": [
    "`# Array` `# Binary Search` `# Matrix`"
   ]
  },
  {
   "cell_type": "markdown",
   "metadata": {},
   "source": [
    "Given a `m x n` matrix `grid` which is sorted in non-increasing order both row-wise and column-wise, return *the number of ***negative*** numbers in* `grid`."
   ]
  },
  {
   "cell_type": "markdown",
   "metadata": {},
   "source": [
    "**Example 1:**  \n",
    "\n",
    "> Input: grid = [[4,3,2,-1],[3,2,1,-1],[1,1,-1,-2],[-1,-1,-2,-3]]  \n",
    "> Output: 8  \n",
    "> Explanation: There are 8 negatives number in the matrix.\n",
    "\n",
    "**Example 2:**  \n",
    "\n",
    "> Input: grid = [[3,2],[1,0]]  \n",
    "> Output: 0"
   ]
  },
  {
   "cell_type": "code",
   "execution_count": 1,
   "metadata": {},
   "outputs": [],
   "source": [
    "class Solution:\n",
    "    \n",
    "    # Time Complexity： O(m+n)\n",
    "    # Space Complexity： O(1)    \n",
    "    def countNegatives(self, grid: list[list[int]]) -> int:\n",
    "        j, cnt = len(grid[0])-1, 0\n",
    "\n",
    "        for row in grid:\n",
    "            while j >= 0 and row[j] < 0:\n",
    "                j -= 1\n",
    "                \n",
    "            cnt += len(row) - 1 - j \n",
    "\n",
    "        return cnt\n",
    "    \n",
    "    # Time Complexity： O(mlogn)\n",
    "    # Space Complexity： O(1)  \n",
    "    def countNegatives_binarySearch(self, grid: list[list[int]]) -> int:\n",
    "        from bisect import bisect_left\n",
    "        \n",
    "        return sum(len(row)-bisect_left(row, 1, key=lambda m: -m) for row in grid)\n",
    "    \n",
    "    # Time Complexity： O(mn)\n",
    "    # Space Complexity： O(1)  \n",
    "    def countNegatives_bruteForce(self, grid: list[list[int]]) -> int:\n",
    "        from itertools import product\n",
    "        \n",
    "        return sum(grid[i][j] < 0 for i, j in product(range(len(grid)), range(len(grid[0]))))"
   ]
  },
  {
   "cell_type": "code",
   "execution_count": 2,
   "metadata": {},
   "outputs": [
    {
     "name": "stdout",
     "output_type": "stream",
     "text": [
      "---countNegatives---\n",
      "Case 1: 8\n",
      "Case 2: 0\n",
      "\n",
      "---countNegatives_binarySearch---\n",
      "Case 1: 8\n",
      "Case 2: 0\n",
      "\n",
      "---countNegatives_bruteForce---\n",
      "Case 1: 8\n",
      "Case 2: 0\n"
     ]
    }
   ],
   "source": [
    "# Test on Cases\n",
    "S = Solution()\n",
    "\n",
    "print(\"---countNegatives---\")\n",
    "print(f\"Case 1: {S.countNegatives([[4,3,2,-1],[3,2,1,-1],[1,1,-1,-2],[-1,-1,-2,-3]])}\")\n",
    "print(f\"Case 2: {S.countNegatives([[3,2],[1,0]])}\\n\")\n",
    "\n",
    "print(\"---countNegatives_binarySearch---\")\n",
    "print(f\"Case 1: {S.countNegatives_binarySearch([[4,3,2,-1],[3,2,1,-1],[1,1,-1,-2],[-1,-1,-2,-3]])}\")\n",
    "print(f\"Case 2: {S.countNegatives_binarySearch([[3,2],[1,0]])}\\n\")\n",
    "\n",
    "print(\"---countNegatives_bruteForce---\")\n",
    "print(f\"Case 1: {S.countNegatives_bruteForce([[4,3,2,-1],[3,2,1,-1],[1,1,-1,-2],[-1,-1,-2,-3]])}\")\n",
    "print(f\"Case 2: {S.countNegatives_bruteForce([[3,2],[1,0]])}\")"
   ]
  }
 ],
 "metadata": {
  "interpreter": {
   "hash": "21d8332eb27bea95342760850bd7426f517b6a483537194bbba87e10eeabf6ff"
  },
  "kernelspec": {
   "display_name": "Python 3 (ipykernel)",
   "language": "python",
   "name": "python3"
  },
  "language_info": {
   "codemirror_mode": {
    "name": "ipython",
    "version": 3
   },
   "file_extension": ".py",
   "mimetype": "text/x-python",
   "name": "python",
   "nbconvert_exporter": "python",
   "pygments_lexer": "ipython3",
   "version": "3.10.4"
  }
 },
 "nbformat": 4,
 "nbformat_minor": 4
}
