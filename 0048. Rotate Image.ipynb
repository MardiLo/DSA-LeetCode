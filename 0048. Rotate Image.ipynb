{
 "cells": [
  {
   "cell_type": "markdown",
   "source": [
    "`# Array`"
   ],
   "metadata": {}
  },
  {
   "cell_type": "markdown",
   "source": [
    "You are given an n x n 2D `matrix` representing an image, rotate the image by 90 degrees (clockwise).\n",
    "\n",
    "You have to rotate the image **in-place**, which means you have to modify the input 2D matrix directly. DO NOT allocate another 2D matrix and do the rotation."
   ],
   "metadata": {}
  },
  {
   "cell_type": "markdown",
   "source": [
    "**Example 1:**  \r\n",
    "![Image of leetcode 0048 problem example 1](https://assets.leetcode.com/uploads/2020/08/28/mat1.jpg)\r\n",
    "> Input: matrix = [[1,2,3],[4,5,6],[7,8,9]]  \r\n",
    "Output: [[7,4,1],[8,5,2],[9,6,3]]\r\n",
    "\r\n",
    "**Example 2:**  \r\n",
    "![Image of leetcode 0048 problem example 2](https://assets.leetcode.com/uploads/2020/08/28/mat2.jpg)\r\n",
    "> Input: matrix = [[5,1,9,11],[2,4,8,10],[13,3,6,7],[15,14,12,16]]  \r\n",
    "Output: [[15,13,2,5],[14,3,4,1],[12,6,8,9],[16,7,10,11]]\r\n",
    "\r\n",
    "**Example 3:**\r\n",
    "\r\n",
    "> Input: matrix = [[1]]  \r\n",
    "Output: [[1]]\r\n",
    "\r\n",
    "**Example 4:**\r\n",
    "\r\n",
    "> Input: matrix = [[1,2],[3,4]]  \r\n",
    "Output: [[3,1],[4,2]]"
   ],
   "metadata": {}
  },
  {
   "cell_type": "code",
   "execution_count": 1,
   "source": [
    "class Solution:\r\n",
    "    \r\n",
    "    # Time Complexity： O(n^2)\r\n",
    "    # Space Complexity： O(1)       \r\n",
    "    def rotate(self, matrix: 'List[List[int]]') -> 'None':\r\n",
    "        \"\"\"\r\n",
    "        Do not return anything, modify matrix in-place instead.\r\n",
    "        \"\"\"\r\n",
    "        \r\n",
    "        n = len(matrix)\r\n",
    "        \r\n",
    "        # swap (Aij, Aji)\r\n",
    "        for i in range(n):\r\n",
    "            for j in range(i):\r\n",
    "                matrix[i][j], matrix[j][i] = matrix[j][i], matrix[i][j]\r\n",
    "        \r\n",
    "        # swap (Aij, Ai~j)\r\n",
    "        for row in matrix:\r\n",
    "            for j in range(n//2):\r\n",
    "                row[j], row[~j] = row[~j], row[j]\r\n",
    "                \r\n",
    "        return matrix"
   ],
   "outputs": [],
   "metadata": {}
  },
  {
   "cell_type": "code",
   "execution_count": 2,
   "source": [
    "# Test on Cases\r\n",
    "S = Solution()\r\n",
    "\r\n",
    "print(f\"Case 1: {S.rotate([[1,2,3],[4,5,6],[7,8,9]])}\")\r\n",
    "print(f\"Case 2: {S.rotate([[5,1,9,11],[2,4,8,10],[13,3,6,7],[15,14,12,16]])}\")\r\n",
    "print(f\"Case 3: {S.rotate([[1]])}\")\r\n",
    "print(f\"Case 3: {S.rotate([[1,2],[3,4]])}\")"
   ],
   "outputs": [
    {
     "output_type": "stream",
     "name": "stdout",
     "text": [
      "Case 1: [[7, 4, 1], [8, 5, 2], [9, 6, 3]]\n",
      "Case 2: [[15, 13, 2, 5], [14, 3, 4, 1], [12, 6, 8, 9], [16, 7, 10, 11]]\n",
      "Case 3: [[1]]\n",
      "Case 3: [[3, 1], [4, 2]]\n"
     ]
    }
   ],
   "metadata": {}
  }
 ],
 "metadata": {
  "kernelspec": {
   "name": "python3",
   "display_name": "Python 3.7.7 64-bit ('spark': conda)"
  },
  "language_info": {
   "codemirror_mode": {
    "name": "ipython",
    "version": 3
   },
   "file_extension": ".py",
   "mimetype": "text/x-python",
   "name": "python",
   "nbconvert_exporter": "python",
   "pygments_lexer": "ipython3",
   "version": "3.7.7"
  },
  "interpreter": {
   "hash": "6ab137a14910b4ee65d0ea442464c53c8571f8241496146388c5db8c59915964"
  }
 },
 "nbformat": 4,
 "nbformat_minor": 4
}