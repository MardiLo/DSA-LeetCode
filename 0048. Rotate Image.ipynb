{
 "cells": [
  {
   "cell_type": "markdown",
   "metadata": {},
   "source": [
    "`# Array` `# Math` `# Matrix`"
   ]
  },
  {
   "cell_type": "markdown",
   "metadata": {},
   "source": [
    "You are given an n x n 2D `matrix` representing an image, rotate the image by 90 degrees (clockwise).\n",
    "\n",
    "You have to rotate the image **in-place**, which means you have to modify the input 2D matrix directly. DO NOT allocate another 2D matrix and do the rotation."
   ]
  },
  {
   "cell_type": "markdown",
   "metadata": {},
   "source": [
    "**Example 1:**  \n",
    "![Image of leetcode 0048 problem example 1](https://assets.leetcode.com/uploads/2020/08/28/mat1.jpg)\n",
    "> Input: matrix = [[1,2,3],[4,5,6],[7,8,9]]  \n",
    "Output: [[7,4,1],[8,5,2],[9,6,3]]\n",
    "\n",
    "**Example 2:**  \n",
    "![Image of leetcode 0048 problem example 2](https://assets.leetcode.com/uploads/2020/08/28/mat2.jpg)\n",
    "> Input: matrix = [[5,1,9,11],[2,4,8,10],[13,3,6,7],[15,14,12,16]]  \n",
    "Output: [[15,13,2,5],[14,3,4,1],[12,6,8,9],[16,7,10,11]]\n",
    "\n",
    "**Example 3:**\n",
    "\n",
    "> Input: matrix = [[1]]  \n",
    "Output: [[1]]\n",
    "\n",
    "**Example 4:**\n",
    "\n",
    "> Input: matrix = [[1,2],[3,4]]  \n",
    "Output: [[3,1],[4,2]]"
   ]
  },
  {
   "cell_type": "code",
   "execution_count": 11,
   "metadata": {},
   "outputs": [],
   "source": [
    "class Solution:\n",
    "    \n",
    "    # Time Complexity： O(n^2)\n",
    "    # Space Complexity： O(1)       \n",
    "    def rotate(self, matrix: list[list[int]]) -> None:\n",
    "        \"\"\"Do not return anything, modify matrix in-place instead.\"\"\"\n",
    "        for i in range(len(matrix)):\n",
    "            for j in range(i):\n",
    "                matrix[i][j], matrix[j][i] = matrix[j][i], matrix[i][j]\n",
    "        \n",
    "        for row in matrix: row.reverse()\n",
    "\n",
    "        return matrix"
   ]
  },
  {
   "cell_type": "code",
   "execution_count": 12,
   "metadata": {},
   "outputs": [
    {
     "name": "stdout",
     "output_type": "stream",
     "text": [
      "Case 1: [[7, 4, 1], [8, 5, 2], [9, 6, 3]]\n",
      "Case 2: [[15, 13, 2, 5], [14, 3, 4, 1], [12, 6, 8, 9], [16, 7, 10, 11]]\n",
      "Case 3: [[1]]\n",
      "Case 4: [[3, 1], [4, 2]]\n"
     ]
    }
   ],
   "source": [
    "# Test on Cases\n",
    "S = Solution()\n",
    "\n",
    "print(f\"Case 1: {S.rotate([[1,2,3],[4,5,6],[7,8,9]])}\")\n",
    "print(f\"Case 2: {S.rotate([[5,1,9,11],[2,4,8,10],[13,3,6,7],[15,14,12,16]])}\")\n",
    "print(f\"Case 3: {S.rotate([[1]])}\")\n",
    "print(f\"Case 4: {S.rotate([[1,2],[3,4]])}\")"
   ]
  }
 ],
 "metadata": {
  "interpreter": {
   "hash": "21d8332eb27bea95342760850bd7426f517b6a483537194bbba87e10eeabf6ff"
  },
  "kernelspec": {
   "display_name": "Python 3.10.4 ('leetcode')",
   "language": "python",
   "name": "python3"
  },
  "language_info": {
   "codemirror_mode": {
    "name": "ipython",
    "version": 3
   },
   "file_extension": ".py",
   "mimetype": "text/x-python",
   "name": "python",
   "nbconvert_exporter": "python",
   "pygments_lexer": "ipython3",
   "version": "3.10.4"
  }
 },
 "nbformat": 4,
 "nbformat_minor": 4
}
