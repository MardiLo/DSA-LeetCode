{
 "cells": [
  {
   "attachments": {},
   "cell_type": "markdown",
   "metadata": {},
   "source": [
    "`# Counting` `# Hash Table` `# String`"
   ]
  },
  {
   "attachments": {},
   "cell_type": "markdown",
   "metadata": {},
   "source": [
    "Given a string `paragraph` and a string array of the banned words `banned`, return *the most frequent word that is not banned.* It is **guaranteed** there is **at least one word** that is not banned, and that the answer is **unique**.\n",
    "\n",
    "The words in `paragraph` are **case-insensitive** and the answer should be returned in **lowercase**."
   ]
  },
  {
   "attachments": {},
   "cell_type": "markdown",
   "metadata": {},
   "source": [
    "**Example 1:**\n",
    "\n",
    "> Input: paragraph = \"Bob hit a ball, the hit BALL flew far after it was hit.\", banned = [\"hit\"]  \n",
    "> Output: \"ball\"  \n",
    "> Explanation:   \n",
    "> \"hit\" occurs 3 times, but it is a banned word.  \n",
    "> \"ball\" occurs twice (and no other word does), so it is the most frequent non-banned word in the paragraph.   \n",
    "> Note that words in the paragraph are not case sensitive,  \n",
    "> that punctuation is ignored (even if adjacent to words, such as \"ball,\"),   \n",
    "> and that \"hit\" isn't the answer even though it occurs more because it is banned.  \n",
    "\n",
    "**Example 2:**\n",
    "\n",
    "> Input: paragraph = \"a.\", banned = []  \n",
    "> Output: \"a\""
   ]
  },
  {
   "cell_type": "code",
   "execution_count": 5,
   "metadata": {},
   "outputs": [],
   "source": [
    "class Solution:\n",
    "    \n",
    "    # Time Complexity： O(n+m+nlogn), where n is the no. of word in the paragraph, and m is the length of banned\n",
    "    # Space Complexity： O(n+m)\n",
    "    def mostCommonWord(self, paragraph: str, banned: list[str]) -> str:\n",
    "        import re\n",
    "        from collections import Counter\n",
    "        \n",
    "        banned = set(banned)\n",
    "\n",
    "        return Counter(word for word in re.findall(r'\\w+', paragraph.lower()) if word not in banned).most_common()[0][0]"
   ]
  },
  {
   "cell_type": "code",
   "execution_count": 6,
   "metadata": {},
   "outputs": [
    {
     "name": "stdout",
     "output_type": "stream",
     "text": [
      "Case 1: ball\n",
      "Case 2: a\n"
     ]
    }
   ],
   "source": [
    "# Test on Cases\n",
    "S = Solution()\n",
    "\n",
    "print(f\"Case 1: {S.mostCommonWord('Bob hit a ball, the hit BALL flew far after it was hit.', ['hit'])}\")\n",
    "print(f\"Case 2: {S.mostCommonWord('a.', [])}\")"
   ]
  }
 ],
 "metadata": {
  "kernelspec": {
   "display_name": "Python 3 (ipykernel)",
   "language": "python",
   "name": "python3"
  },
  "language_info": {
   "codemirror_mode": {
    "name": "ipython",
    "version": 3
   },
   "file_extension": ".py",
   "mimetype": "text/x-python",
   "name": "python",
   "nbconvert_exporter": "python",
   "pygments_lexer": "ipython3",
   "version": "3.10.4"
  },
  "vscode": {
   "interpreter": {
    "hash": "21d8332eb27bea95342760850bd7426f517b6a483537194bbba87e10eeabf6ff"
   }
  }
 },
 "nbformat": 4,
 "nbformat_minor": 4
}
