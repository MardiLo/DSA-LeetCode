{
 "cells": [
  {
   "cell_type": "markdown",
   "metadata": {},
   "source": [
    "`# Array` `# Monotonic Stack` `# Stack`"
   ]
  },
  {
   "attachments": {},
   "cell_type": "markdown",
   "metadata": {},
   "source": [
    "You are given an integer array `prices` where `prices[i]` is the price of the `i`<sup>`th`</sup> item in a shop.\n",
    "\n",
    "There is a special discount for items in the shop. If you buy the `i`<sup>`th`</sup> item, then you will receive a discount equivalent to `prices[j]` where `j` is the minimum index such that `j > i` and `prices[j] <= prices[i]`. Otherwise, you will not receive any discount at all.\n",
    "\n",
    "Return an integer array `answer` where `answer[i]` is the final price you will pay for the `i`<sup>`th`</sup> item of the shop, considering the special discount."
   ]
  },
  {
   "attachments": {},
   "cell_type": "markdown",
   "metadata": {},
   "source": [
    "**Example 1:**\n",
    "\n",
    "> Input: prices = [8,4,6,2,3]  \n",
    "> Output: [4,2,4,2,3]  \n",
    "> Explanation:   \n",
    "> For item 0 with price[0]=8 you will receive a discount equivalent to prices[1]=4, therefore, the final price you will pay is 8 - 4 = 4.  \n",
    "> For item 1 with price[1]=4 you will receive a discount equivalent to prices[3]=2, therefore, the final price you will pay is 4 - 2 = 2.  \n",
    "> For item 2 with price[2]=6 you will receive a discount equivalent to prices[3]=2, therefore, the final price you will pay is 6 - 2 = 4.  \n",
    "> For items 3 and 4 you will not receive any discount at all.\n",
    "\n",
    "**Example 2:**\n",
    "\n",
    "> Input: prices = [1,2,3,4,5]  \n",
    "> Output: [1,2,3,4,5]  \n",
    "> Explanation: In this case, for all items, you will not receive any discount at all.\n",
    "\n",
    "**Example 3:**\n",
    "\n",
    "> Input: prices = [10,1,1,6]  \n",
    "> Output: [9,0,1,6]"
   ]
  },
  {
   "cell_type": "code",
   "execution_count": 5,
   "metadata": {},
   "outputs": [],
   "source": [
    "class Solution:\n",
    "    \n",
    "    # Time Complexity： O(n)\n",
    "    # Space Complexity： O(n)    \n",
    "    def finalPrices(self, prices: list[int]) -> list[int]:\n",
    "        stack = []\n",
    "\n",
    "        for i, price in enumerate(prices):\n",
    "            while stack and prices[stack[-1]] >= price:\n",
    "                prices[stack.pop()] -= price\n",
    "\n",
    "            stack.append(i)\n",
    "        \n",
    "        return prices"
   ]
  },
  {
   "cell_type": "code",
   "execution_count": 6,
   "metadata": {},
   "outputs": [
    {
     "name": "stdout",
     "output_type": "stream",
     "text": [
      "Case 1: [4, 2, 4, 2, 3]\n",
      "Case 2: [1, 2, 3, 4, 5]\n",
      "Case 3: [9, 0, 1, 6]\n"
     ]
    }
   ],
   "source": [
    "# Test on Cases\n",
    "S = Solution()\n",
    "\n",
    "print(f\"Case 1: {S.finalPrices([8,4,6,2,3])}\")\n",
    "print(f\"Case 2: {S.finalPrices([1,2,3,4,5])}\")\n",
    "print(f\"Case 3: {S.finalPrices([10,1,1,6])}\")"
   ]
  },
  {
   "cell_type": "markdown",
   "metadata": {},
   "source": [
    "**Ref**\n",
    "1. [Elegant Python Solution with Stack](https://leetcode.com/problems/daily-temperatures/discuss/136017/Elegant-Python-Solution-with-Stack)"
   ]
  }
 ],
 "metadata": {
  "kernelspec": {
   "display_name": "Python 3 (ipykernel)",
   "language": "python",
   "name": "python3"
  },
  "language_info": {
   "codemirror_mode": {
    "name": "ipython",
    "version": 3
   },
   "file_extension": ".py",
   "mimetype": "text/x-python",
   "name": "python",
   "nbconvert_exporter": "python",
   "pygments_lexer": "ipython3",
   "version": "3.10.4"
  },
  "vscode": {
   "interpreter": {
    "hash": "21d8332eb27bea95342760850bd7426f517b6a483537194bbba87e10eeabf6ff"
   }
  }
 },
 "nbformat": 4,
 "nbformat_minor": 4
}
