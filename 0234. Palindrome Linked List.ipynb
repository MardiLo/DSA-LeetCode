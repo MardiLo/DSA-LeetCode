{
 "cells": [
  {
   "cell_type": "markdown",
   "metadata": {},
   "source": [
    "`# Linked List` `# Two Pointers`"
   ]
  },
  {
   "cell_type": "markdown",
   "metadata": {},
   "source": [
    "Given a singly `linked list`, determine if *it is a palindrome*."
   ]
  },
  {
   "cell_type": "markdown",
   "metadata": {},
   "source": [
    "**Example 1:**  \n",
    "![Image of leetcode 0234 problem example 1](https://assets.leetcode.com/uploads/2021/03/03/pal1linked-list.jpg)\n",
    "> Input: 1->2->2->1  \n",
    "Output: true\n",
    "\n",
    "**Example 2:**  \n",
    "![Image of leetcode 0234 problem example 2](https://assets.leetcode.com/uploads/2021/03/03/pal2linked-list.jpg)\n",
    "> Input: 1->2  \n",
    "Output: false"
   ]
  },
  {
   "cell_type": "code",
   "execution_count": 5,
   "metadata": {},
   "outputs": [],
   "source": [
    "class ListNode:\n",
    "    def __init__(self, val=0, next=None):\n",
    "        self.val = val\n",
    "        self.next = next\n",
    "        \n",
    "    def list2LinkedList(self, lst):\n",
    "        cur = dummy = ListNode(0)\n",
    "        for node in lst:\n",
    "            cur.next = ListNode(node)\n",
    "            cur = cur.next\n",
    "        return dummy.next\n",
    "\n",
    "class Solution:\n",
    "    \n",
    "    # Time Complexity： O(n)\n",
    "    # Space Complexity： O(n)\n",
    "    def isPalindrome_slicing(self, head: 'ListNode') -> 'bool':\n",
    "        val = []\n",
    "        \n",
    "        while head:\n",
    "            val.append(head.val)\n",
    "            head = head.next\n",
    "        \n",
    "        return val[:] == val[::-1]\n",
    "    \n",
    "    \n",
    "    # Time Complexity： O(n)\n",
    "    # Space Complexity： O(1)\n",
    "    def isPalindrome_twoPointers(self, head: 'ListNode') -> 'bool':\n",
    "        # Initialize variables\n",
    "        rev = None\n",
    "        slow = fast = head\n",
    "        \n",
    "        # Get the midpoint (where the slow position when the loop ends)\n",
    "        # Note that rev follows behind slow by a step, and rev.next follows behind rev by a step\n",
    "        while fast and fast.next:\n",
    "            fast = fast.next.next\n",
    "            slow, rev, rev.next = slow.next, slow, rev\n",
    "        \n",
    "        # If the len. of linked list is odd, then slow should take a step further\n",
    "        if fast: slow = slow.next\n",
    "        \n",
    "        # Compare the reversed first half with the second half\n",
    "        while rev and slow.val == rev.val:\n",
    "            slow = slow.next\n",
    "            rev = rev.next\n",
    "        \n",
    "        return not rev"
   ]
  },
  {
   "cell_type": "code",
   "execution_count": 6,
   "metadata": {},
   "outputs": [
    {
     "name": "stdout",
     "output_type": "stream",
     "text": [
      "---isPalindrome_slicing---\n",
      "Case 1: True\n",
      "Case 2: False\n",
      "\n",
      "---isPalindrome_twoPointers---\n",
      "Case 1: True\n",
      "Case 2: False\n",
      "\n"
     ]
    }
   ],
   "source": [
    "# Test on Cases\n",
    "S, L = Solution(), ListNode()\n",
    "\n",
    "print(\"---isPalindrome_slicing---\")\n",
    "print(f\"Case 1: {S.isPalindrome_slicing(L.list2LinkedList([1,2,2,1]))}\")\n",
    "print(f\"Case 2: {S.isPalindrome_slicing(L.list2LinkedList([1,2]))}\\n\")\n",
    "\n",
    "print(\"---isPalindrome_twoPointers---\")\n",
    "print(f\"Case 1: {S.isPalindrome_twoPointers(L.list2LinkedList([1,2,2,1]))}\")\n",
    "print(f\"Case 2: {S.isPalindrome_twoPointers(L.list2LinkedList([1,2]))}\\n\")"
   ]
  }
 ],
 "metadata": {
  "kernelspec": {
   "display_name": "Python 3",
   "language": "python",
   "name": "python3"
  },
  "language_info": {
   "codemirror_mode": {
    "name": "ipython",
    "version": 3
   },
   "file_extension": ".py",
   "mimetype": "text/x-python",
   "name": "python",
   "nbconvert_exporter": "python",
   "pygments_lexer": "ipython3",
   "version": "3.7.7"
  }
 },
 "nbformat": 4,
 "nbformat_minor": 4
}
