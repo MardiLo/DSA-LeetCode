{
 "cells": [
  {
   "cell_type": "markdown",
   "source": [
    "`# Linked List` `# Two Pointers`"
   ],
   "metadata": {}
  },
  {
   "cell_type": "markdown",
   "source": [
    "Given a singly `linked list`, determine if *it is a palindrome*."
   ],
   "metadata": {}
  },
  {
   "cell_type": "markdown",
   "source": [
    "**Example 1:**  \r\n",
    "![Image of leetcode 0234 problem example 1](https://assets.leetcode.com/uploads/2021/03/03/pal1linked-list.jpg)\r\n",
    "> Input: 1->2->2->1  \r\n",
    "Output: true\r\n",
    "\r\n",
    "**Example 2:**  \r\n",
    "![Image of leetcode 0234 problem example 2](https://assets.leetcode.com/uploads/2021/03/03/pal2linked-list.jpg)\r\n",
    "> Input: 1->2  \r\n",
    "Output: false"
   ],
   "metadata": {}
  },
  {
   "cell_type": "code",
   "execution_count": 5,
   "source": [
    "class ListNode:\r\n",
    "    def __init__(self, val=0, next=None):\r\n",
    "        self.val = val\r\n",
    "        self.next = next\r\n",
    "        \r\n",
    "    def list2LinkedList(self, lst):\r\n",
    "        cur = dummy = ListNode(0)\r\n",
    "        for node in lst:\r\n",
    "            cur.next = ListNode(node)\r\n",
    "            cur = cur.next\r\n",
    "        return dummy.next\r\n",
    "\r\n",
    "class Solution:\r\n",
    "    \r\n",
    "    # Time Complexity： O(n)\r\n",
    "    # Space Complexity： O(n)\r\n",
    "    def isPalindrome_slicing(self, head: 'ListNode') -> 'bool':\r\n",
    "        val = []\r\n",
    "        \r\n",
    "        while head:\r\n",
    "            val.append(head.val)\r\n",
    "            head = head.next\r\n",
    "        \r\n",
    "        return val[:] == val[::-1]\r\n",
    "    \r\n",
    "    \r\n",
    "    # Time Complexity： O(n)\r\n",
    "    # Space Complexity： O(1)\r\n",
    "    def isPalindrome_twoPointers(self, head: 'ListNode') -> 'bool':\r\n",
    "        # Initialize variables\r\n",
    "        rev = None\r\n",
    "        slow = fast = head\r\n",
    "        \r\n",
    "        # Get the midpoint (where the slow position when the loop ends)\r\n",
    "        # Note that rev follows behind slow by a step, and rev.next follows behind rev by a step\r\n",
    "        while fast and fast.next:\r\n",
    "            fast = fast.next.next\r\n",
    "            slow, rev, rev.next = slow.next, slow, rev\r\n",
    "        \r\n",
    "        # If the len. of linked list is odd, then slow should take a step further\r\n",
    "        if fast:\r\n",
    "            slow = slow.next\r\n",
    "        \r\n",
    "        # Compare the reversed first half with the second half\r\n",
    "        while rev and slow.val == rev.val:\r\n",
    "            slow = slow.next\r\n",
    "            rev = rev.next\r\n",
    "        \r\n",
    "        return not rev"
   ],
   "outputs": [],
   "metadata": {}
  },
  {
   "cell_type": "code",
   "execution_count": 6,
   "source": [
    "# Test on Cases\n",
    "S, L = Solution(), ListNode()\n",
    "\n",
    "print(\"---isPalindrome_slicing---\")\n",
    "print(f\"Case 1: {S.isPalindrome_slicing(L.list2LinkedList([1,2,2,1]))}\")\n",
    "print(f\"Case 2: {S.isPalindrome_slicing(L.list2LinkedList([1,2]))}\\n\")\n",
    "\n",
    "print(\"---isPalindrome_twoPointers---\")\n",
    "print(f\"Case 1: {S.isPalindrome_twoPointers(L.list2LinkedList([1,2,2,1]))}\")\n",
    "print(f\"Case 2: {S.isPalindrome_twoPointers(L.list2LinkedList([1,2]))}\\n\")"
   ],
   "outputs": [
    {
     "output_type": "stream",
     "name": "stdout",
     "text": [
      "---isPalindrome_slicing---\n",
      "Case 1: True\n",
      "Case 2: False\n",
      "\n",
      "---isPalindrome_twoPointers---\n",
      "Case 1: True\n",
      "Case 2: False\n",
      "\n"
     ]
    }
   ],
   "metadata": {}
  }
 ],
 "metadata": {
  "kernelspec": {
   "display_name": "Python 3",
   "language": "python",
   "name": "python3"
  },
  "language_info": {
   "codemirror_mode": {
    "name": "ipython",
    "version": 3
   },
   "file_extension": ".py",
   "mimetype": "text/x-python",
   "name": "python",
   "nbconvert_exporter": "python",
   "pygments_lexer": "ipython3",
   "version": "3.7.7"
  }
 },
 "nbformat": 4,
 "nbformat_minor": 4
}