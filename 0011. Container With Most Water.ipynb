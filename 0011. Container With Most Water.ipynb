{
 "cells": [
  {
   "cell_type": "markdown",
   "source": [
    "`# Array` `# Two Pointers`"
   ],
   "metadata": {}
  },
  {
   "cell_type": "markdown",
   "source": [
    "Given n non-negative integers `a1, a2, ..., an` , where each represents a point at coordinate `(i, ai)`. `n` vertical lines are drawn such that the two endpoints of the line `i` is at `(i, ai)` and `(i, 0)`. Find two lines, which, together with the x-axis forms a container, such that the container contains the most water.\n",
    "\n",
    "Notice that you may not slant the container."
   ],
   "metadata": {}
  },
  {
   "cell_type": "markdown",
   "source": [
    "**Example 1:**  \r\n",
    "![Image of leetcode 0011 problem example 1](https://s3-lc-upload.s3.amazonaws.com/uploads/2018/07/17/question_11.jpg)\r\n",
    "> Input: height = [1,8,6,2,5,4,8,3,7]  \r\n",
    "Output: 49  \r\n",
    "Explanation: The above vertical lines are represented by array [1,8,6,2,5,4,8,3,7]. In this case, the max area of water (blue section) the container can contain is 49.\r\n",
    "\r\n",
    "**Example 2:**\r\n",
    "\r\n",
    "> Input: height = [1,1]  \r\n",
    "Output: 1\r\n",
    "\r\n",
    "**Example 3:**\r\n",
    "\r\n",
    "> Input: height = [4,3,2,1,4]  \r\n",
    "Output: 16\r\n",
    "\r\n",
    "**Example 4:**\r\n",
    "\r\n",
    "> Input: height = [1,2,1]  \r\n",
    "Output: 2"
   ],
   "metadata": {}
  },
  {
   "cell_type": "code",
   "execution_count": 1,
   "source": [
    "class Solution:\r\n",
    "\r\n",
    "    # Time Complexity： O(n)\r\n",
    "    # Space Complexity： O(1)\r\n",
    "    def maxArea(self, height: 'List[int]') -> 'int':       \r\n",
    "        l, r = 0, len(height) - 1\r\n",
    "        maxVolume = 0\r\n",
    "        \r\n",
    "        while l <= r:\r\n",
    "            vol = min(height[l], height[r]) * (r-l)\r\n",
    "            maxVolume = max(maxVolume, vol)\r\n",
    "            \r\n",
    "            if height[l] > height[r]:\r\n",
    "                r -= 1\r\n",
    "            else:\r\n",
    "                l += 1\r\n",
    "                \r\n",
    "        return maxVolume"
   ],
   "outputs": [],
   "metadata": {}
  },
  {
   "cell_type": "code",
   "execution_count": 2,
   "source": [
    "# Test on Cases\r\n",
    "S = Solution()\r\n",
    "\r\n",
    "print(f\"Case 1: {S.maxArea([1,8,6,2,5,4,8,3,7])}\")\r\n",
    "print(f\"Case 2: {S.maxArea([1,1])}\")\r\n",
    "print(f\"Case 3: {S.maxArea([4,3,2,1,4])}\")\r\n",
    "print(f\"Case 4: {S.maxArea([1,2,1])}\")"
   ],
   "outputs": [
    {
     "output_type": "stream",
     "name": "stdout",
     "text": [
      "Case 1: 49\n",
      "Case 2: 1\n",
      "Case 3: 16\n",
      "Case 4: 2\n"
     ]
    }
   ],
   "metadata": {}
  }
 ],
 "metadata": {
  "kernelspec": {
   "display_name": "Python 3",
   "language": "python",
   "name": "python3"
  },
  "language_info": {
   "codemirror_mode": {
    "name": "ipython",
    "version": 3
   },
   "file_extension": ".py",
   "mimetype": "text/x-python",
   "name": "python",
   "nbconvert_exporter": "python",
   "pygments_lexer": "ipython3",
   "version": "3.7.7"
  }
 },
 "nbformat": 4,
 "nbformat_minor": 4
}