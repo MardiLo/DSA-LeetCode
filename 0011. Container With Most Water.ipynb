{
 "cells": [
  {
   "cell_type": "markdown",
   "metadata": {},
   "source": [
    "`# Array` `# Two Pointers`"
   ]
  },
  {
   "cell_type": "markdown",
   "metadata": {},
   "source": [
    "Given n non-negative integers `a1, a2, ..., an` , where each represents a point at coordinate `(i, ai)`. `n` vertical lines are drawn such that the two endpoints of the line `i` is at `(i, ai)` and `(i, 0)`. Find two lines, which, together with the x-axis forms a container, such that the container contains the most water.\n",
    "\n",
    "Notice that you may not slant the container."
   ]
  },
  {
   "cell_type": "markdown",
   "metadata": {},
   "source": [
    "**Example 1:**  \n",
    "![Image of leetcode 0011 problem example 1](https://s3-lc-upload.s3.amazonaws.com/uploads/2018/07/17/question_11.jpg)\n",
    "> Input: height = [1,8,6,2,5,4,8,3,7]  \n",
    "Output: 49  \n",
    "Explanation: The above vertical lines are represented by array [1,8,6,2,5,4,8,3,7]. In this case, the max area of water (blue section) the container can contain is 49.\n",
    "\n",
    "**Example 2:**\n",
    "\n",
    "> Input: height = [1,1]  \n",
    "Output: 1\n",
    "\n",
    "**Example 3:**\n",
    "\n",
    "> Input: height = [4,3,2,1,4]  \n",
    "Output: 16\n",
    "\n",
    "**Example 4:**\n",
    "\n",
    "> Input: height = [1,2,1]  \n",
    "Output: 2"
   ]
  },
  {
   "cell_type": "code",
   "execution_count": 3,
   "metadata": {},
   "outputs": [],
   "source": [
    "class Solution:\n",
    "\n",
    "    # Time Complexity： O(n)\n",
    "    # Space Complexity： O(1)\n",
    "    def maxArea(self, height: list[int]) -> int:\n",
    "        l, r = 0, len(height)-1\n",
    "        maxVolume = 0\n",
    "        \n",
    "        while l <= r:\n",
    "            vol = min(height[l], height[r]) * (r-l)\n",
    "            maxVolume = max(maxVolume, vol)\n",
    "            \n",
    "            if height[l] > height[r]: r -= 1\n",
    "            else: l += 1\n",
    "                \n",
    "        return maxVolume"
   ]
  },
  {
   "cell_type": "code",
   "execution_count": 7,
   "metadata": {},
   "outputs": [
    {
     "name": "stdout",
     "output_type": "stream",
     "text": [
      "Case 2: 1\n",
      "Case 3: 16\n",
      "Case 4: 2\n"
     ]
    }
   ],
   "source": [
    "# Test on Cases\n",
    "S = Solution()\n",
    "\n",
    "print(f\"Case 1: {S.maxArea([1,8,6,2,5,4,8,3,7])}\")\n",
    "print(f\"Case 2: {S.maxArea([1,1])}\")\n",
    "print(f\"Case 3: {S.maxArea([4,3,2,1,4])}\")\n",
    "print(f\"Case 4: {S.maxArea([1,2,1])}\")"
   ]
  }
 ],
 "metadata": {
  "kernelspec": {
   "display_name": "Python 3",
   "language": "python",
   "name": "python3"
  },
  "language_info": {
   "codemirror_mode": {
    "name": "ipython",
    "version": 3
   },
   "file_extension": ".py",
   "mimetype": "text/x-python",
   "name": "python",
   "nbconvert_exporter": "python",
   "pygments_lexer": "ipython3",
   "version": "3.10.4"
  }
 },
 "nbformat": 4,
 "nbformat_minor": 4
}
