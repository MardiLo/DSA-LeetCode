{
 "cells": [
  {
   "cell_type": "markdown",
   "metadata": {},
   "source": [
    "`# Array` `# String`"
   ]
  },
  {
   "cell_type": "markdown",
   "metadata": {},
   "source": [
    "A **sentence** is a list of words that are separated by a single space with no leading or trailing spaces. Each of the words consists of **only** uppercase and lowercase English letters (no punctuation).\n",
    "\n",
    "For example, `\"Hello World\"`, `\"HELLO\"`, and `\"hello world hello world\"` are all sentences.\n",
    "You are given a sentence `s​​​​​​` and an integer `k​​​​​​`. You want to **truncate** `s​​​​​​` such that it contains only the **first** `k​​​​​`​ words. Return `s​​​​​​` *after ***truncating*** it*."
   ]
  },
  {
   "cell_type": "markdown",
   "metadata": {},
   "source": [
    "**Example 1:**\n",
    "\n",
    "> Input: s = \"Hello how are you Contestant\", k = 4  \n",
    "> Output: \"Hello how are you\"  \n",
    "> Explanation:  \n",
    "> The words in s are [\"Hello\", \"how\" \"are\", \"you\", \"Contestant\"].  \n",
    "> The first 4 words are [\"Hello\", \"how\", \"are\", \"you\"].  \n",
    "> Hence, you should return \"Hello how are you\".\n",
    "\n",
    "**Example 2:**\n",
    "\n",
    "> Input: s = \"What is the solution to this problem\", k = 4  \n",
    "> Output: \"What is the solution\"  \n",
    "> Explanation:  \n",
    "> The words in s are [\"What\", \"is\" \"the\", \"solution\", \"to\", \"this\", \"problem\"].  \n",
    "> The first 4 words are [\"What\", \"is\", \"the\", \"solution\"].  \n",
    "> Hence, you should return \"What is the solution\".\n",
    "\n",
    "**Example 3:**  \n",
    "\n",
    "> Input: s = \"chopper is not a tanuki\", k = 5  \n",
    "> Output: \"chopper is not a tanuki\""
   ]
  },
  {
   "cell_type": "code",
   "execution_count": 3,
   "metadata": {},
   "outputs": [],
   "source": [
    "class Solution:\n",
    "\n",
    "    # Time Complexity： O(n)\n",
    "    # Space Complexity： O(n)\n",
    "    def truncateSentence(self, s: str, k: int) -> str:\n",
    "        return ' '.join(s.split(' ')[:k])"
   ]
  },
  {
   "cell_type": "code",
   "execution_count": 4,
   "metadata": {},
   "outputs": [
    {
     "name": "stdout",
     "output_type": "stream",
     "text": [
      "Case 1: Hello how are you\n",
      "Case 2: What is the solution\n",
      "Case 3: chopper is not a tanuki\n"
     ]
    }
   ],
   "source": [
    "# Test on Cases\n",
    "S = Solution()\n",
    "\n",
    "print(f\"Case 1: {S.truncateSentence('Hello how are you Contestant', 4)}\")\n",
    "print(f\"Case 2: {S.truncateSentence('What is the solution to this problem', 4)}\")\n",
    "print(f\"Case 3: {S.truncateSentence('chopper is not a tanuki', 5)}\")"
   ]
  }
 ],
 "metadata": {
  "kernelspec": {
   "display_name": "Python 3 (ipykernel)",
   "language": "python",
   "name": "python3"
  },
  "language_info": {
   "codemirror_mode": {
    "name": "ipython",
    "version": 3
   },
   "file_extension": ".py",
   "mimetype": "text/x-python",
   "name": "python",
   "nbconvert_exporter": "python",
   "pygments_lexer": "ipython3",
   "version": "3.10.4"
  },
  "vscode": {
   "interpreter": {
    "hash": "21d8332eb27bea95342760850bd7426f517b6a483537194bbba87e10eeabf6ff"
   }
  }
 },
 "nbformat": 4,
 "nbformat_minor": 4
}
