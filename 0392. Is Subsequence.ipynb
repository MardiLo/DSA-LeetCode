{
 "cells": [
  {
   "cell_type": "markdown",
   "metadata": {},
   "source": [
    "`# Dynamic Programming` `# String` `# Two Pointers`"
   ]
  },
  {
   "cell_type": "markdown",
   "metadata": {},
   "source": [
    "Given two strings `s` and `t`, return `true` *if `s` is a **subsequence** of `t`, or `false` otherwise.*\n",
    "\n",
    "A **subsequence** of a string is a new string that is formed from the original string by deleting some (can be none) of the characters without disturbing the relative positions of the remaining characters. (i.e., `\"ace\"` is a subsequence of `\"abcde\"` while `\"aec\"` is not)."
   ]
  },
  {
   "cell_type": "markdown",
   "metadata": {},
   "source": [
    "**Example 1:**\n",
    "\n",
    "> Input: s = \"abc\", t = \"ahbgdc\"     \n",
    "> Output: true\n",
    "\n",
    "**Example 2:**\n",
    "> Input: s = \"axc\", t = \"ahbgdc\"    \n",
    "> Output: false"
   ]
  },
  {
   "cell_type": "code",
   "execution_count": 5,
   "metadata": {},
   "outputs": [],
   "source": [
    "class Solution:\n",
    "    \n",
    "    # Time Complexity： O(m), where m = len(t)\n",
    "    # Space Complexity： O(1)\n",
    "    def isSubsequence(self, s: str, t: str) -> bool:\n",
    "        p1 = p2 = 0\n",
    "\n",
    "        while p1 < len(s) and p2 < len(t):\n",
    "            if s[p1] == t[p2]: p1 += 1\n",
    "            p2 += 1\n",
    "\n",
    "        return p1 == len(s)\n",
    "    \n",
    "    # Time Complexity： O(|s| + |t|)\n",
    "    # Space Complexity： O(1)\n",
    "    def isSubsequence_iterator(self, s: str, t: str) -> bool:\n",
    "        t = iter(t)\n",
    "\n",
    "        # for \"c in t\", the pointer will stop at the first character meets the condition \n",
    "        return all(c in t for c in s)"
   ]
  },
  {
   "cell_type": "code",
   "execution_count": 6,
   "metadata": {},
   "outputs": [
    {
     "name": "stdout",
     "output_type": "stream",
     "text": [
      "---isSubsequence---\n",
      "Case 1: True\n",
      "Case 2: False\n",
      "\n",
      "---isSubsequence_iterator---\n",
      "Case 1: True\n",
      "Case 2: False\n"
     ]
    }
   ],
   "source": [
    "# Test on Cases\n",
    "S = Solution()\n",
    "\n",
    "print(\"---isSubsequence---\")\n",
    "print(f\"Case 1: {S.isSubsequence('abc', 'ahbgdc')}\")\n",
    "print(f\"Case 2: {S.isSubsequence('axc', 'ahbgdc')}\\n\")\n",
    "\n",
    "print(\"---isSubsequence_iterator---\")\n",
    "print(f\"Case 1: {S.isSubsequence_iterator('abc', 'ahbgdc')}\")\n",
    "print(f\"Case 2: {S.isSubsequence_iterator('axc', 'ahbgdc')}\")"
   ]
  }
 ],
 "metadata": {
  "kernelspec": {
   "display_name": "Python 3 (ipykernel)",
   "language": "python",
   "name": "python3"
  },
  "language_info": {
   "codemirror_mode": {
    "name": "ipython",
    "version": 3
   },
   "file_extension": ".py",
   "mimetype": "text/x-python",
   "name": "python",
   "nbconvert_exporter": "python",
   "pygments_lexer": "ipython3",
   "version": "3.11.9"
  },
  "vscode": {
   "interpreter": {
    "hash": "21d8332eb27bea95342760850bd7426f517b6a483537194bbba87e10eeabf6ff"
   }
  }
 },
 "nbformat": 4,
 "nbformat_minor": 4
}
