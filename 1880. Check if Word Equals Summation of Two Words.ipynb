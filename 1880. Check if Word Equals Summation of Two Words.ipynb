{
 "cells": [
  {
   "cell_type": "markdown",
   "metadata": {},
   "source": [
    "`# String`"
   ]
  },
  {
   "cell_type": "markdown",
   "metadata": {},
   "source": [
    "The **letter value** of a letter is its position in the alphabet **starting from 0** (i.e. `'a' -> 0`, `'b' -> 1`, `'c' -> 2`, etc.).\n",
    "\n",
    "The **numerical value** of some string of lowercase English letters `s` is the **concatenation** of the **letter values** of each letter in `s`, which is then **converted** into an integer.\n",
    "\n",
    "For example, if `s = \"acb\"`, we concatenate each letter's letter value, resulting in `\"021\"`. After converting it, we get `21`.\n",
    "\n",
    "You are given three strings `firstWord`, `secondWord`, and `targetWord`, each consisting of lowercase English letters `'a'` through `'j'` **inclusive**.\n",
    "\n",
    "Return `true` *if the ***summation*** of the ***numerical values*** of* `firstWord` *and* `secondWord` *equals the ***numerical value*** of* `targetWord`*, or false otherwise.*"
   ]
  },
  {
   "cell_type": "markdown",
   "metadata": {},
   "source": [
    "**Example 1:**\n",
    "\n",
    "> Input: firstWord = \"acb\", secondWord = \"cba\", targetWord = \"cdb\"  \n",
    "Output: true  \n",
    "Explanation:  \n",
    "The numerical value of firstWord is \"acb\" -> \"021\" -> 21.  \n",
    "The numerical value of secondWord is \"cba\" -> \"210\" -> 210.  \n",
    "The numerical value of targetWord is \"cdb\" -> \"231\" -> 231.  \n",
    "We return true because 21 + 210 == 231.\n",
    "\n",
    "**Example 2:**\n",
    "\n",
    "> Input: firstWord = \"aaa\", secondWord = \"a\", targetWord = \"aab\"  \n",
    "Output: false  \n",
    "Explanation:   \n",
    "The numerical value of firstWord is \"aaa\" -> \"000\" -> 0.  \n",
    "The numerical value of secondWord is \"a\" -> \"0\" -> 0.  \n",
    "The numerical value of targetWord is \"aab\" -> \"001\" -> 1.  \n",
    "We return false because 0 + 0 != 1.\n",
    "\n",
    "**Example 3:**  \n",
    "\n",
    "> Input: firstWord = \"aaa\", secondWord = \"a\", targetWord = \"aaaa\"  \n",
    "Output: true  \n",
    "Explanation:   \n",
    "The numerical value of firstWord is \"aaa\" -> \"000\" -> 0.  \n",
    "The numerical value of secondWord is \"a\" -> \"0\" -> 0.  \n",
    "The numerical value of targetWord is \"aaaa\" -> \"0000\" -> 0.  \n",
    "We return true because 0 + 0 == 0.\n"
   ]
  },
  {
   "cell_type": "code",
   "execution_count": 3,
   "metadata": {},
   "outputs": [],
   "source": [
    "class Solution:\n",
    "\n",
    "    # Time Complexity： O(m+n+k)\n",
    "    # Space Complexity： O(1)\n",
    "    def isSumEqual(self, firstWord: str, secondWord: str, targetWord: str) -> bool:\n",
    "        return (str2Num := lambda s: int(''.join(str(ord(c) - ord('a')) for c in s)))(firstWord) + str2Num(secondWord) == str2Num(targetWord)    # IIFE for lambda function"
   ]
  },
  {
   "cell_type": "code",
   "execution_count": 4,
   "metadata": {},
   "outputs": [
    {
     "name": "stdout",
     "output_type": "stream",
     "text": [
      "Case 1: True\n",
      "Case 2: False\n",
      "Case 3: True\n"
     ]
    }
   ],
   "source": [
    "# Test on Cases\n",
    "S = Solution()\n",
    "\n",
    "print(f\"Case 1: {S.isSumEqual(firstWord='acb', secondWord='cba', targetWord='cdb')}\")\n",
    "print(f\"Case 2: {S.isSumEqual(firstWord='aaa', secondWord='a', targetWord='aab')}\")\n",
    "print(f\"Case 3: {S.isSumEqual(firstWord='aaa', secondWord='a', targetWord='aaaa')}\")"
   ]
  }
 ],
 "metadata": {
  "kernelspec": {
   "display_name": "Python 3.10.4 ('leetcode')",
   "language": "python",
   "name": "python3"
  },
  "language_info": {
   "codemirror_mode": {
    "name": "ipython",
    "version": 3
   },
   "file_extension": ".py",
   "mimetype": "text/x-python",
   "name": "python",
   "nbconvert_exporter": "python",
   "pygments_lexer": "ipython3",
   "version": "3.10.4"
  },
  "vscode": {
   "interpreter": {
    "hash": "21d8332eb27bea95342760850bd7426f517b6a483537194bbba87e10eeabf6ff"
   }
  }
 },
 "nbformat": 4,
 "nbformat_minor": 4
}
