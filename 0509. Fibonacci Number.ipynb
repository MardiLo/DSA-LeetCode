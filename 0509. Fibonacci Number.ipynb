{
 "cells": [
  {
   "cell_type": "markdown",
   "source": [
    "`# Dynamic Programming` `# Math` `# Memoization` `# Recursion`"
   ],
   "metadata": {}
  },
  {
   "cell_type": "markdown",
   "source": [
    "The **Fibonacci numbers**, commonly denoted `F(n)` form a sequence, called the **Fibonacci sequence**, such that each number is the sum of the two preceding ones, starting from `0` and `1`. That is,\r\n",
    "\r\n",
    "```\r\n",
    "F(0) = 0, F(1) = 1\r\n",
    "F(n) = F(n - 1) + F(n - 2), for n > 1.\r\n",
    "```\r\n",
    "\r\n",
    "Given `n`, *calculate* `F(n)`."
   ],
   "metadata": {}
  },
  {
   "cell_type": "markdown",
   "source": [
    "**Example 1:**\r\n",
    "\r\n",
    "> Input: n = 2  \r\n",
    "Output: 1  \r\n",
    "Explanation: F(2) = F(1) + F(0) = 1 + 0 = 1.  \r\n",
    "\r\n",
    "**Example 2:**\r\n",
    "\r\n",
    "> Input: n = 3  \r\n",
    "Output: 2  \r\n",
    "Explanation: F(3) = F(2) + F(1) = 1 + 1 = 2.  \r\n",
    "\r\n",
    "**Example 3:**\r\n",
    "\r\n",
    "> Input: n = 4  \r\n",
    "Output: 3  \r\n",
    "Explanation: F(4) = F(3) + F(2) = 2 + 1 = 3.  "
   ],
   "metadata": {}
  },
  {
   "cell_type": "code",
   "execution_count": 3,
   "source": [
    "class Solution:\r\n",
    "    \r\n",
    "    # Time Complexity： O(n)\r\n",
    "    # Space Complexity： O(1)    \r\n",
    "    def fib(self, n: 'int') -> 'int':\r\n",
    "        a, b = 0, 1                    # SC: O(1)\r\n",
    "        \r\n",
    "        for _ in range(n):             # TC: O(n)\r\n",
    "            a, b = b, a+b\r\n",
    "        \r\n",
    "        return a\r\n",
    "    \r\n",
    "    \r\n",
    "    # Time Complexity： O(n)\r\n",
    "    # Space Complexity： O(n)       \r\n",
    "    def fib_dp(self, n: 'int') -> 'int':\r\n",
    "        dp = [0, 1]                    # SC: O(n)\r\n",
    "        \r\n",
    "        for i in range(2, n+1):        # TC: O(n)\r\n",
    "            dp.append(dp[i-1] + dp[i-2])\r\n",
    "            \r\n",
    "        return dp[n]"
   ],
   "outputs": [],
   "metadata": {}
  },
  {
   "cell_type": "code",
   "execution_count": 4,
   "source": [
    "# Test on Cases\r\n",
    "S = Solution()\r\n",
    "\r\n",
    "print(\"---fib---\")\r\n",
    "print(f\"Case 1: {S.fib(2)}\")\r\n",
    "print(f\"Case 2: {S.fib(3)}\")\r\n",
    "print(f\"Case 3: {S.fib(4)}\\n\")\r\n",
    "\r\n",
    "print(\"---fib_dp---\")\r\n",
    "print(f\"Case 1: {S.fib_dp(2)}\")\r\n",
    "print(f\"Case 2: {S.fib_dp(3)}\")\r\n",
    "print(f\"Case 3: {S.fib_dp(4)}\\n\")"
   ],
   "outputs": [
    {
     "output_type": "stream",
     "name": "stdout",
     "text": [
      "---fib---\n",
      "Case 1: 1\n",
      "Case 2: 2\n",
      "Case 3: 3\n",
      "\n",
      "---fib_dp---\n",
      "Case 1: 1\n",
      "Case 2: 2\n",
      "Case 3: 3\n",
      "\n"
     ]
    }
   ],
   "metadata": {}
  }
 ],
 "metadata": {
  "kernelspec": {
   "name": "python3",
   "display_name": "Python 3.7.7 64-bit ('spark': conda)"
  },
  "language_info": {
   "codemirror_mode": {
    "name": "ipython",
    "version": 3
   },
   "file_extension": ".py",
   "mimetype": "text/x-python",
   "name": "python",
   "nbconvert_exporter": "python",
   "pygments_lexer": "ipython3",
   "version": "3.7.7"
  },
  "interpreter": {
   "hash": "6ab137a14910b4ee65d0ea442464c53c8571f8241496146388c5db8c59915964"
  }
 },
 "nbformat": 4,
 "nbformat_minor": 4
}