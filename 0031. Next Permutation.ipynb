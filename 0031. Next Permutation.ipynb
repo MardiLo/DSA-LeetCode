{
 "cells": [
  {
   "cell_type": "markdown",
   "metadata": {},
   "source": [
    "`# Array` `# Two Pointers`"
   ]
  },
  {
   "cell_type": "markdown",
   "metadata": {},
   "source": [
    "Implement *next permutation*, which rearranges numbers into the **lexicographically** next greater permutation of numbers.\n",
    "\n",
    "If such an arrangement is not possible, it must rearrange it as the lowest possible order (i.e., sorted in ascending order).\n",
    "\n",
    "The replacement must be in place and use only constant extra memory."
   ]
  },
  {
   "cell_type": "markdown",
   "metadata": {},
   "source": [
    "**Example 1:**  \n",
    "\n",
    "> Input: nums = [1,2,3]  \n",
    "Output: [1,3,2]  \n",
    "Explanation: The permutations of [1,2,3] are [[1,2,3],[1,3,2],[2,1,3],[2,3,1],[3,1,2],[3,2,1]], so the next permutation of [1,2,3] is [1,3,2]  \n",
    "\n",
    "**Example 2:**  \n",
    "\n",
    "> Input: nums = [3,2,1]  \n",
    "Output: [1,2,3]  \n",
    "\n",
    "**Example 3:**  \n",
    "\n",
    "> Input: nums = [1,1,5]  \n",
    "Output: [1,5,1]  \n",
    "\n",
    "**Example 4:**  \n",
    "\n",
    "> Input: nums = [1]  \n",
    "Output: [1]  "
   ]
  },
  {
   "cell_type": "code",
   "execution_count": 1,
   "metadata": {},
   "outputs": [],
   "source": [
    "class Solution:\n",
    "    \n",
    "    # Time Complexity： O(n)\n",
    "    # Space Complexity： O(1)       \n",
    "    def nextPermutation(self, nums: list[int]) -> None:\n",
    "        \"\"\"\n",
    "        Do not return anything, modify nums in-place instead.\n",
    "        \"\"\"\n",
    "        from bisect import bisect_right\n",
    "\n",
    "        def reverse(arr: list[int], start: int, end: int) -> None:\n",
    "            while start <= end:\n",
    "                arr[start], arr[end] = arr[end], arr[start]\n",
    "                start, end = start + 1, end - 1\n",
    "\n",
    "        i = len(nums) - 2\n",
    "        while i >= 0 and nums[i] >= nums[i+1]:                 # TC: O(n), identify pivot\n",
    "            i -= 1\n",
    "        \n",
    "        reverse(nums, i+1, len(nums)-1)                        # TC: O(n), reverse all elements after pivot\n",
    "\n",
    "        if i >= 0:\n",
    "            j = bisect_right(nums, nums[i], i+1, len(nums))    # TC: O(logn), find the element which is the first element greater than pivot\n",
    "            nums[i], nums[j] = nums[j], nums[i]\n",
    "        \n",
    "        return nums"
   ]
  },
  {
   "cell_type": "code",
   "execution_count": 2,
   "metadata": {},
   "outputs": [
    {
     "name": "stdout",
     "output_type": "stream",
     "text": [
      "Case 1: [1, 3, 2]\n",
      "Case 2: [1, 2, 3]\n",
      "Case 3: [1, 5, 1]\n",
      "Case 4: [1]\n"
     ]
    }
   ],
   "source": [
    "# Test on Cases\n",
    "S = Solution()\n",
    "\n",
    "print(f\"Case 1: {S.nextPermutation([1,2,3])}\")\n",
    "print(f\"Case 2: {S.nextPermutation([3,2,1])}\")\n",
    "print(f\"Case 3: {S.nextPermutation([1,1,5])}\")\n",
    "print(f\"Case 4: {S.nextPermutation([1])}\")"
   ]
  },
  {
   "cell_type": "markdown",
   "metadata": {},
   "source": [
    "**Ref**  \n",
    "1. [[Python] O(n) inplace solution, explained](https://leetcode.com/problems/next-permutation/discuss/1043577/Python-O(n)-inplace-solution-explained)\n",
    "2. [Readable code without confusing i/j, and with explanation](https://leetcode.com/problems/next-permutation/discuss/13994/Readable-code-without-confusing-ij-and-with-explanation)"
   ]
  }
 ],
 "metadata": {
  "interpreter": {
   "hash": "ba9359eadc070f03edd6183a4af22ffcaf60363daf070b8f22fbedba67666dbe"
  },
  "kernelspec": {
   "display_name": "Python 3.7.7 64-bit ('flask': conda)",
   "name": "python3"
  },
  "language_info": {
   "codemirror_mode": {
    "name": "ipython",
    "version": 3
   },
   "file_extension": ".py",
   "mimetype": "text/x-python",
   "name": "python",
   "nbconvert_exporter": "python",
   "pygments_lexer": "ipython3",
   "version": "3.10.4"
  }
 },
 "nbformat": 4,
 "nbformat_minor": 4
}
