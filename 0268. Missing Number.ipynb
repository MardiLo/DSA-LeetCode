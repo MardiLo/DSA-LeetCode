{
 "cells": [
  {
   "cell_type": "markdown",
   "source": [
    "`# Array` `# Math`"
   ],
   "metadata": {}
  },
  {
   "cell_type": "markdown",
   "source": [
    "Given an array `nums` containing `n` distinct numbers in the range `[0, n]`, *return the only number in the range that is missing from the array.*\n",
    "\n",
    "Follow up: Could you implement a solution using only `O(1)` extra space complexity and `O(n)` runtime complexity?"
   ],
   "metadata": {}
  },
  {
   "cell_type": "markdown",
   "source": [
    "**Example 1:**\n",
    "\n",
    "> Input: nums = [3,0,1]  \n",
    "Output: 2  \n",
    "Explanation: n = 3 since there are 3 numbers, so all numbers are in the range [0,3]. 2 is the missing number in the range since it does not appear in nums.\n",
    "\n",
    "**Example 2:**\n",
    "\n",
    "> Input: nums = [0,1]  \n",
    "Output: 2  \n",
    "Explanation: n = 2 since there are 2 numbers, so all numbers are in the range [0,2]. 2 is the missing number in the range since it does not appear in nums.\n",
    "\n",
    "**Example 3:**\n",
    "\n",
    "> Input: nums = [9,6,4,2,3,5,7,0,1]  \n",
    "Output: 8  \n",
    "Explanation: n = 9 since there are 9 numbers, so all numbers are in the range [0,9]. 8 is the missing number in the range since it does not appear in nums.\n",
    "\n",
    "**Example 4:**\n",
    "\n",
    "> Input: nums = [0]  \n",
    "Output: 1  \n",
    "Explanation: n = 1 since there is 1 number, so all numbers are in the range [0,1]. 1 is the missing number in the range since it does not appear in nums."
   ],
   "metadata": {}
  },
  {
   "cell_type": "code",
   "execution_count": 2,
   "source": [
    "class Solution:\r\n",
    "    \r\n",
    "    # Time Complexity： O(n)\r\n",
    "    # Space Complexity： O(1)\r\n",
    "    def missingNumber_math(self, nums: 'List[int]') -> 'int':\r\n",
    "        n = len(nums)\r\n",
    "        return int((n*(n+1)/2) - sum(nums))\r\n",
    "    \r\n",
    "    \r\n",
    "    # Time Complexity： O(n)\r\n",
    "    # Space Complexity： O(1)\r\n",
    "    def missingNumber_loop(self, nums: 'List[int]') -> 'int':\r\n",
    "        res = 0\r\n",
    "\r\n",
    "        for i in range(len(nums)):\r\n",
    "            res += (i + 1) - nums[i]\r\n",
    "\r\n",
    "        return res"
   ],
   "outputs": [],
   "metadata": {}
  },
  {
   "cell_type": "code",
   "execution_count": 3,
   "source": [
    "# Test on Cases\r\n",
    "S = Solution()\r\n",
    "\r\n",
    "print(\"---missingNumber_math---\")\r\n",
    "print(f\"Case 1: {S.missingNumber_math([3,0,1])}\")\r\n",
    "print(f\"Case 2: {S.missingNumber_math([0,1])}\")\r\n",
    "print(f\"Case 3: {S.missingNumber_math([9,6,4,2,3,5,7,0,1])}\")\r\n",
    "print(f\"Case 4: {S.missingNumber_math([0])}\\n\")\r\n",
    "\r\n",
    "print(\"---missingNumber_loop---\")\r\n",
    "print(f\"Case 1: {S.missingNumber_loop([3,0,1])}\")\r\n",
    "print(f\"Case 2: {S.missingNumber_loop([0,1])}\")\r\n",
    "print(f\"Case 3: {S.missingNumber_loop([9,6,4,2,3,5,7,0,1])}\")\r\n",
    "print(f\"Case 4: {S.missingNumber_loop([0])}\")"
   ],
   "outputs": [
    {
     "output_type": "stream",
     "name": "stdout",
     "text": [
      "---missingNumber_math---\n",
      "Case 1: 2\n",
      "Case 2: 2\n",
      "Case 3: 8\n",
      "Case 4: 1\n",
      "\n",
      "---missingNumber_loop---\n",
      "Case 1: 2\n",
      "Case 2: 2\n",
      "Case 3: 8\n",
      "Case 4: 1\n",
      "\n"
     ]
    }
   ],
   "metadata": {}
  }
 ],
 "metadata": {
  "kernelspec": {
   "display_name": "Python 3",
   "language": "python",
   "name": "python3"
  },
  "language_info": {
   "codemirror_mode": {
    "name": "ipython",
    "version": 3
   },
   "file_extension": ".py",
   "mimetype": "text/x-python",
   "name": "python",
   "nbconvert_exporter": "python",
   "pygments_lexer": "ipython3",
   "version": "3.7.7"
  }
 },
 "nbformat": 4,
 "nbformat_minor": 4
}