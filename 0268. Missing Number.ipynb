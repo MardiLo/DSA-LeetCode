{
 "cells": [
  {
   "cell_type": "markdown",
   "metadata": {},
   "source": [
    "`# Array` `# Math`"
   ]
  },
  {
   "cell_type": "markdown",
   "metadata": {},
   "source": [
    "Given an array `nums` containing `n` distinct numbers in the range `[0, n]`, *return the only number in the range that is missing from the array.*\n",
    "\n",
    "Follow up: Could you implement a solution using only `O(1)` extra space complexity and `O(n)` runtime complexity?"
   ]
  },
  {
   "cell_type": "markdown",
   "metadata": {},
   "source": [
    "**Example 1:**\n",
    "\n",
    "> Input: nums = [3,0,1]  \n",
    "Output: 2  \n",
    "Explanation: n = 3 since there are 3 numbers, so all numbers are in the range [0,3]. 2 is the missing number in the range since it does not appear in nums.\n",
    "\n",
    "**Example 2:**\n",
    "\n",
    "> Input: nums = [0,1]  \n",
    "Output: 2  \n",
    "Explanation: n = 2 since there are 2 numbers, so all numbers are in the range [0,2]. 2 is the missing number in the range since it does not appear in nums.\n",
    "\n",
    "**Example 3:**\n",
    "\n",
    "> Input: nums = [9,6,4,2,3,5,7,0,1]  \n",
    "Output: 8  \n",
    "Explanation: n = 9 since there are 9 numbers, so all numbers are in the range [0,9]. 8 is the missing number in the range since it does not appear in nums.\n",
    "\n",
    "**Example 4:**\n",
    "\n",
    "> Input: nums = [0]  \n",
    "Output: 1  \n",
    "Explanation: n = 1 since there is 1 number, so all numbers are in the range [0,1]. 1 is the missing number in the range since it does not appear in nums."
   ]
  },
  {
   "cell_type": "code",
   "execution_count": 2,
   "metadata": {},
   "outputs": [],
   "source": [
    "class Solution:\n",
    "    \n",
    "    # Time Complexity： O(n)\n",
    "    # Space Complexity： O(1)\n",
    "    def missingNumber_math(self, nums: 'List[int]') -> 'int':\n",
    "        n = len(nums)\n",
    "        return int((n*(n+1)/2) - sum(nums))\n",
    "    \n",
    "    \n",
    "    # Time Complexity： O(n)\n",
    "    # Space Complexity： O(1)\n",
    "    def missingNumber_loop(self, nums: 'List[int]') -> 'int':\n",
    "        res = 0\n",
    "\n",
    "        for i in range(len(nums)):\n",
    "            res += (i + 1) - nums[i]\n",
    "\n",
    "        return res"
   ]
  },
  {
   "cell_type": "code",
   "execution_count": 3,
   "metadata": {},
   "outputs": [
    {
     "name": "stdout",
     "output_type": "stream",
     "text": [
      "---missingNumber_math---\n",
      "Case 1: 2\n",
      "Case 2: 2\n",
      "Case 3: 8\n",
      "Case 4: 1\n",
      "\n",
      "---missingNumber_loop---\n",
      "Case 1: 2\n",
      "Case 2: 2\n",
      "Case 3: 8\n",
      "Case 4: 1\n",
      "\n"
     ]
    }
   ],
   "source": [
    "# Test on Cases\n",
    "S = Solution()\n",
    "\n",
    "print(\"---missingNumber_math---\")\n",
    "print(f\"Case 1: {S.missingNumber_math([3,0,1])}\")\n",
    "print(f\"Case 2: {S.missingNumber_math([0,1])}\")\n",
    "print(f\"Case 3: {S.missingNumber_math([9,6,4,2,3,5,7,0,1])}\")\n",
    "print(f\"Case 4: {S.missingNumber_math([0])}\\n\")\n",
    "\n",
    "print(\"---missingNumber_loop---\")\n",
    "print(f\"Case 1: {S.missingNumber_loop([3,0,1])}\")\n",
    "print(f\"Case 2: {S.missingNumber_loop([0,1])}\")\n",
    "print(f\"Case 3: {S.missingNumber_loop([9,6,4,2,3,5,7,0,1])}\")\n",
    "print(f\"Case 4: {S.missingNumber_loop([0])}\")"
   ]
  },
  {
   "cell_type": "code",
   "execution_count": null,
   "metadata": {},
   "outputs": [],
   "source": []
  }
 ],
 "metadata": {
  "kernelspec": {
   "display_name": "Python 3",
   "language": "python",
   "name": "python3"
  },
  "language_info": {
   "codemirror_mode": {
    "name": "ipython",
    "version": 3
   },
   "file_extension": ".py",
   "mimetype": "text/x-python",
   "name": "python",
   "nbconvert_exporter": "python",
   "pygments_lexer": "ipython3",
   "version": "3.7.7"
  }
 },
 "nbformat": 4,
 "nbformat_minor": 4
}
