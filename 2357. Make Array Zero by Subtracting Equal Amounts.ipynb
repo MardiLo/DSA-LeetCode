{
 "cells": [
  {
   "cell_type": "markdown",
   "metadata": {},
   "source": [
    "`# Array` `# Hash Table` `# Heap (Priority Queue)` `# Simulation` `# Sorting` "
   ]
  },
  {
   "cell_type": "markdown",
   "metadata": {},
   "source": [
    "You are given a non-negative integer array `nums`. In one operation, you must:\n",
    "\n",
    "- Choose a positive integer `x` such that `x` is less than or equal to the **smallest non-zero** element in `nums`.\n",
    "- Subtract `x` from every **positive** element in `nums`.\n",
    "\n",
    "Return *the ***minimum number*** of operations to make every element in* `nums` *equal to* `0`."
   ]
  },
  {
   "cell_type": "markdown",
   "metadata": {},
   "source": [
    "**Example 1:**\n",
    "\n",
    "> Input: nums = [1,5,0,3,5]  \n",
    "Output: 3  \n",
    "Explanation:  \n",
    "In the first operation, choose x = 1. Now, nums = [0,4,0,2,4].  \n",
    "In the second operation, choose x = 2. Now, nums = [0,2,0,0,2].  \n",
    "In the third operation, choose x = 2. Now, nums = [0,0,0,0,0].\n",
    "\n",
    "**Example 2:**\n",
    "\n",
    "> Input: nums = [0]  \n",
    "Output: 0  \n",
    "Explanation: Each element in nums is already 0 so no operations are needed."
   ]
  },
  {
   "cell_type": "code",
   "execution_count": 1,
   "metadata": {},
   "outputs": [],
   "source": [
    "class Solution:\n",
    "    \n",
    "    # Time Complexity： O(n)\n",
    "    # Space Complexity： O(n)    \n",
    "    def minimumOperations(self, nums: list[int]) -> int:\n",
    "        return len({num for num in nums if num})"
   ]
  },
  {
   "cell_type": "code",
   "execution_count": 2,
   "metadata": {},
   "outputs": [
    {
     "name": "stdout",
     "output_type": "stream",
     "text": [
      "Case 1: 3\n",
      "Case 2: 0\n"
     ]
    }
   ],
   "source": [
    "# Test on Cases\n",
    "S = Solution()\n",
    "\n",
    "print(f\"Case 1: {S.minimumOperations([1,5,0,3,5])}\")\n",
    "print(f\"Case 2: {S.minimumOperations([0])}\")"
   ]
  }
 ],
 "metadata": {
  "interpreter": {
   "hash": "21d8332eb27bea95342760850bd7426f517b6a483537194bbba87e10eeabf6ff"
  },
  "kernelspec": {
   "display_name": "Python 3.10.4 ('leetcode')",
   "language": "python",
   "name": "python3"
  },
  "language_info": {
   "codemirror_mode": {
    "name": "ipython",
    "version": 3
   },
   "file_extension": ".py",
   "mimetype": "text/x-python",
   "name": "python",
   "nbconvert_exporter": "python",
   "pygments_lexer": "ipython3",
   "version": "3.10.4"
  }
 },
 "nbformat": 4,
 "nbformat_minor": 4
}
