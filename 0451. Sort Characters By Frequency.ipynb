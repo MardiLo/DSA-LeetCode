{
 "cells": [
  {
   "attachments": {},
   "cell_type": "markdown",
   "metadata": {},
   "source": [
    "`# Bucket Sort` `# Counting` `# Hash Table` `# Heap (Priority Queue)` `# Sorting` `# String`"
   ]
  },
  {
   "attachments": {},
   "cell_type": "markdown",
   "metadata": {},
   "source": [
    "Given a string `s`, sort it in **decreasing order** based on the **frequency** of the characters. The **frequency** of a character is the number of times it appears in the string.\n",
    "\n",
    "Return *the sorted string*. If there are multiple answers, return *any of them.*"
   ]
  },
  {
   "attachments": {},
   "cell_type": "markdown",
   "metadata": {},
   "source": [
    "**Example 1:**\n",
    "\n",
    "> Input: s = \"tree\"  \n",
    "> Output: \"eert\"  \n",
    "> Explanation: 'e' appears twice while 'r' and 't' both appear once.  \n",
    "> So 'e' must appear before both 'r' and 't'. Therefore \"eetr\" is also a valid answer.\n",
    "\n",
    "**Example 2:**\n",
    "\n",
    "> Input: s = \"cccaaa\"  \n",
    "> Output: \"aaaccc\"  \n",
    "> Explanation: Both 'c' and 'a' appear three times, so both \"cccaaa\" and \"aaaccc\" are valid answers.  \n",
    "> Note that \"cacaca\" is incorrect, as the same characters must be together.  \n",
    "\n",
    "**Example 3:**\n",
    "\n",
    "> Input: s = \"Aabb\"  \n",
    "> Output: \"bbAa\"  \n",
    "> Explanation: \"bbaA\" is also a valid answer, but \"Aabb\" is incorrect.  \n",
    "> Note that 'A' and 'a' are treated as two different characters."
   ]
  },
  {
   "cell_type": "code",
   "execution_count": 1,
   "metadata": {},
   "outputs": [],
   "source": [
    "class Solution:\n",
    "    \n",
    "    # Time Complexity： O(n)\n",
    "    # Space Complexity： O(n)    \n",
    "    def frequencySort_bucketSort(self, s: str) -> str:\n",
    "        from collections import Counter\n",
    "        from itertools import chain\n",
    "\n",
    "        buckets = [[] for _ in range(len(s)+1)]\n",
    "\n",
    "        for c, freq in Counter(s).items():\n",
    "            buckets[freq].append(c * freq)\n",
    "        \n",
    "        return ''.join(chain.from_iterable(buckets))[::-1]\n",
    "\n",
    "    # Time Complexity： O(nlogn) \n",
    "    # Space Complexity： O(n)    \n",
    "    def frequencySort_heap(self, s: str) -> str:\n",
    "        from collections import Counter \n",
    "        from heapq import heapify, heappop\n",
    "        \n",
    "        heapify(maxHeap := [(-freq, c) for c, freq in Counter(s).items()])\n",
    "\n",
    "        return ''.join(map(lambda x: -x[0] * x[1], (heappop(maxHeap) for _ in range(len(maxHeap)))))\n",
    "\n",
    "    # Time Complexity： O(nlogn) \n",
    "    # Space Complexity： O(n)    \n",
    "    def frequencySort_sorting(self, s: str) -> str:  \n",
    "        from collections import Counter \n",
    "\n",
    "        return ''.join(c * freq for c, freq in Counter(s).most_common())"
   ]
  },
  {
   "cell_type": "code",
   "execution_count": 2,
   "metadata": {},
   "outputs": [
    {
     "name": "stdout",
     "output_type": "stream",
     "text": [
      "---frequencySort_bucketSort---\n",
      "Case 1: eert\n",
      "Case 2: aaaccc\n",
      "Case 3: bbaA\n",
      "\n",
      "---frequencySort_heap---\n",
      "Case 1: eert\n",
      "Case 2: aaaccc\n",
      "Case 3: bbAa\n",
      "\n",
      "---frequencySort_sorting---\n",
      "Case 1: eetr\n",
      "Case 2: cccaaa\n",
      "Case 3: bbAa\n"
     ]
    }
   ],
   "source": [
    "# Test on Cases\n",
    "S = Solution()\n",
    "\n",
    "print(\"---frequencySort_bucketSort---\")\n",
    "print(f\"Case 1: {S.frequencySort_bucketSort('tree')}\")\n",
    "print(f\"Case 2: {S.frequencySort_bucketSort('cccaaa')}\")\n",
    "print(f\"Case 3: {S.frequencySort_bucketSort('Aabb')}\\n\")\n",
    "\n",
    "print(\"---frequencySort_heap---\")\n",
    "print(f\"Case 1: {S.frequencySort_heap('tree')}\")\n",
    "print(f\"Case 2: {S.frequencySort_heap('cccaaa')}\")\n",
    "print(f\"Case 3: {S.frequencySort_heap('Aabb')}\\n\")\n",
    "\n",
    "print(\"---frequencySort_sorting---\")\n",
    "print(f\"Case 1: {S.frequencySort_sorting('tree')}\")\n",
    "print(f\"Case 2: {S.frequencySort_sorting('cccaaa')}\")\n",
    "print(f\"Case 3: {S.frequencySort_sorting('Aabb')}\")"
   ]
  }
 ],
 "metadata": {
  "kernelspec": {
   "display_name": "Python 3 (ipykernel)",
   "language": "python",
   "name": "python3"
  },
  "language_info": {
   "codemirror_mode": {
    "name": "ipython",
    "version": 3
   },
   "file_extension": ".py",
   "mimetype": "text/x-python",
   "name": "python",
   "nbconvert_exporter": "python",
   "pygments_lexer": "ipython3",
   "version": "3.11.9"
  },
  "vscode": {
   "interpreter": {
    "hash": "21d8332eb27bea95342760850bd7426f517b6a483537194bbba87e10eeabf6ff"
   }
  }
 },
 "nbformat": 4,
 "nbformat_minor": 4
}
