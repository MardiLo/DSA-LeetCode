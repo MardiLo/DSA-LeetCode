{
 "cells": [
  {
   "cell_type": "markdown",
   "metadata": {},
   "source": [
    "`# Array` `# Bucket Sort` `# Counting` `# Divide and Conquer` `# Hash Table` `# Heap (Priority Queue)` `# Quickselect` `# Sorting`"
   ]
  },
  {
   "cell_type": "markdown",
   "metadata": {},
   "source": [
    "Given an integer array `nums` and an integer `k`, return *the* `k` *most frequent elements*. You may return the answer in **any order**."
   ]
  },
  {
   "cell_type": "markdown",
   "metadata": {},
   "source": [
    "**Example 1:**\n",
    "\n",
    "> Input: nums = [1,1,1,2,2,3], k = 2  \n",
    "Output: [1,2]  \n",
    "\n",
    "**Example 2:**\n",
    "\n",
    "> Input: nums = [1], k = 1  \n",
    "Output: [1]"
   ]
  },
  {
   "cell_type": "code",
   "execution_count": 1,
   "metadata": {},
   "outputs": [],
   "source": [
    "class Solution:\n",
    "    \n",
    "    # Time Complexity： O(n)\n",
    "    # Space Complexity： O(n)    \n",
    "    def topKFrequent_bucketSort(self, nums: 'List[int]', k: 'int') -> 'List[int]':\n",
    "        from collections import Counter \n",
    "        \n",
    "        buckets = [[] for _ in range(len(nums))]                    # SC: O(n); TC: O(n)  \n",
    "        dic = Counter(nums)                                         # SC: O(n); TC: O(n) \n",
    "        \n",
    "        for num, freq in dic.items():                               # TC: O(n) \n",
    "            buckets[freq-1].append(num)\n",
    "            \n",
    "        flatList = [num for bucket in buckets for num in bucket]    # SC: O(n); TC: O(n)\n",
    "        \n",
    "        return flatList[::-1][:k]"
   ]
  },
  {
   "cell_type": "code",
   "execution_count": 2,
   "metadata": {},
   "outputs": [
    {
     "name": "stdout",
     "output_type": "stream",
     "text": [
      "Case 1: [1, 2]\n",
      "Case 2: [1]\n"
     ]
    }
   ],
   "source": [
    "# Test on Cases\n",
    "S = Solution()\n",
    "\n",
    "print(f\"Case 1: {S.topKFrequent_bucketSort([1,1,1,2,2,3], 2)}\")\n",
    "print(f\"Case 2: {S.topKFrequent_bucketSort([1], 1)}\")"
   ]
  }
 ],
 "metadata": {
  "kernelspec": {
   "display_name": "Python 3",
   "language": "python",
   "name": "python3"
  },
  "language_info": {
   "codemirror_mode": {
    "name": "ipython",
    "version": 3
   },
   "file_extension": ".py",
   "mimetype": "text/x-python",
   "name": "python",
   "nbconvert_exporter": "python",
   "pygments_lexer": "ipython3",
   "version": "3.7.7"
  }
 },
 "nbformat": 4,
 "nbformat_minor": 4
}
