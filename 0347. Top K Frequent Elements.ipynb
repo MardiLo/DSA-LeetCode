{
 "cells": [
  {
   "cell_type": "markdown",
   "source": [
    "`# Array` `# Bucket Sort` `# Counting` `# Divide and Conquer` `# Hash Table` `# Heap (Priority Queue)` `# Quickselect` `# Sorting`"
   ],
   "metadata": {}
  },
  {
   "cell_type": "markdown",
   "source": [
    "Given an integer array `nums` and an integer `k`, return *the* `k` *most frequent elements*. You may return the answer in **any order**."
   ],
   "metadata": {}
  },
  {
   "cell_type": "markdown",
   "source": [
    "**Example 1:**\n",
    "\n",
    "> Input: nums = [1,1,1,2,2,3], k = 2  \n",
    "Output: [1,2]  \n",
    "\n",
    "**Example 2:**\n",
    "\n",
    "> Input: nums = [1], k = 1  \n",
    "Output: [1]"
   ],
   "metadata": {}
  },
  {
   "cell_type": "code",
   "execution_count": 1,
   "source": [
    "class Solution:\r\n",
    "    \r\n",
    "    # Time Complexity： O(n)\r\n",
    "    # Space Complexity： O(n)    \r\n",
    "    def topKFrequent_bucketSort(self, nums: 'List[int]', k: 'int') -> 'List[int]':\r\n",
    "        from collections import Counter \r\n",
    "        \r\n",
    "        buckets = [[] for _ in range(len(nums))]                    # SC: O(n); TC: O(n)  \r\n",
    "        dic = Counter(nums)                                         # SC: O(n); TC: O(n) \r\n",
    "        \r\n",
    "        for num, freq in dic.items():                               # TC: O(n) \r\n",
    "            buckets[freq-1].append(num)\r\n",
    "            \r\n",
    "        flatList = [num for bucket in buckets for num in bucket]    # SC: O(n); TC: O(n)\r\n",
    "        return flatList[::-1][:k]"
   ],
   "outputs": [],
   "metadata": {}
  },
  {
   "cell_type": "code",
   "execution_count": 2,
   "source": [
    "# Test on Cases\r\n",
    "S = Solution()\r\n",
    "\r\n",
    "print(f\"Case 1: {S.topKFrequent_bucketSort([1,1,1,2,2,3], 2)}\")\r\n",
    "print(f\"Case 2: {S.topKFrequent_bucketSort([1], 1)}\")"
   ],
   "outputs": [
    {
     "output_type": "stream",
     "name": "stdout",
     "text": [
      "Case 1: [1, 2]\n",
      "Case 2: [1]\n"
     ]
    }
   ],
   "metadata": {}
  }
 ],
 "metadata": {
  "kernelspec": {
   "display_name": "Python 3",
   "language": "python",
   "name": "python3"
  },
  "language_info": {
   "codemirror_mode": {
    "name": "ipython",
    "version": 3
   },
   "file_extension": ".py",
   "mimetype": "text/x-python",
   "name": "python",
   "nbconvert_exporter": "python",
   "pygments_lexer": "ipython3",
   "version": "3.7.7"
  }
 },
 "nbformat": 4,
 "nbformat_minor": 4
}