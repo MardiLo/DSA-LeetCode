{
 "cells": [
  {
   "cell_type": "markdown",
   "metadata": {},
   "source": [
    "`# Array` `# Bucket Sort` `# Counting` `# Divide and Conquer` `# Hash Table` `# Heap (Priority Queue)` `# Quickselect` `# Sorting`"
   ]
  },
  {
   "cell_type": "markdown",
   "metadata": {},
   "source": [
    "Given an integer array `nums` and an integer `k`, return *the* `k` *most frequent elements*. You may return the answer in **any order**."
   ]
  },
  {
   "cell_type": "markdown",
   "metadata": {},
   "source": [
    "**Example 1:**\n",
    "\n",
    "> Input: nums = [1,1,1,2,2,3], k = 2  \n",
    "> Output: [1,2]  \n",
    "\n",
    "**Example 2:**\n",
    "\n",
    "> Input: nums = [1], k = 1  \n",
    "> Output: [1]"
   ]
  },
  {
   "cell_type": "code",
   "execution_count": 1,
   "metadata": {},
   "outputs": [],
   "source": [
    "class Solution:\n",
    "    \n",
    "    # Time Complexity： O(n)\n",
    "    # Space Complexity： O(n)    \n",
    "    def topKFrequent_bucketSort(self, nums: list[int], k: int) -> list[int]:\n",
    "        from collections import Counter\n",
    "        from itertools import chain\n",
    "        \n",
    "        cnt = Counter(nums)\n",
    "        buckets = [[] for _ in range(max(cnt.values())+1)]                              # TC: O(n); SC: O(n)\n",
    "        \n",
    "        for num, freq in cnt.items():                                                   # TC: O(n) \n",
    "            buckets[freq].append(num)\n",
    "        \n",
    "        return list(chain.from_iterable(buckets))[-k::]\n",
    "\n",
    "    # Time Complexity： O(2n + klogn) \n",
    "    # Space Complexity： O(n)    \n",
    "    def topKFrequent_heap(self, nums: list[int], k: int) -> list[int]:\n",
    "        from collections import Counter \n",
    "        from heapq import heapify, heappop\n",
    "             \n",
    "        heapify(maxHeap := [(-freq, num) for num, freq in Counter(nums).items()])       # TC: O(n); SC: O(n)\n",
    "\n",
    "        return [heappop(maxHeap)[1] for _ in range(k)]                                  # TC: O(klogn) \n",
    "\n",
    "        # Solution by using lib:\n",
    "        # from heapq import nlargest\n",
    "        # return nlargest(k, (cnt := Counter(nums)).keys(), key=lambda x: cnt[x])       # TC: O(nlogk)\n",
    "\n",
    "    # Time Complexity： O(n + nlogn) \n",
    "    # Space Complexity： O(n)    \n",
    "    def topKFrequent_sorting(self, nums: list[int], k: int) -> list[int]:    \n",
    "        from collections import Counter \n",
    "\n",
    "        return [num for num, _ in Counter(nums).most_common(k)]"
   ]
  },
  {
   "cell_type": "code",
   "execution_count": 2,
   "metadata": {},
   "outputs": [
    {
     "name": "stdout",
     "output_type": "stream",
     "text": [
      "---topKFrequent_bucketSort---\n",
      "Case 1: [2, 1]\n",
      "Case 2: [1]\n",
      "\n",
      "---topKFrequent_heap---\n",
      "Case 1: [1, 2]\n",
      "Case 2: [1]\n",
      "\n",
      "---topKFrequent_sorting---\n",
      "Case 1: [1, 2]\n",
      "Case 2: [1]\n"
     ]
    }
   ],
   "source": [
    "# Test on Cases\n",
    "S = Solution()\n",
    "\n",
    "print(\"---topKFrequent_bucketSort---\")\n",
    "print(f\"Case 1: {S.topKFrequent_bucketSort([1,1,1,2,2,3], 2)}\")\n",
    "print(f\"Case 2: {S.topKFrequent_bucketSort([1], 1)}\\n\")\n",
    "\n",
    "print(\"---topKFrequent_heap---\")\n",
    "print(f\"Case 1: {S.topKFrequent_heap([1,1,1,2,2,3], 2)}\")\n",
    "print(f\"Case 2: {S.topKFrequent_heap([1], 1)}\\n\")\n",
    "\n",
    "print(\"---topKFrequent_sorting---\")\n",
    "print(f\"Case 1: {S.topKFrequent_sorting([1,1,1,2,2,3], 2)}\")\n",
    "print(f\"Case 2: {S.topKFrequent_sorting([1], 1)}\")"
   ]
  }
 ],
 "metadata": {
  "kernelspec": {
   "display_name": "Python 3 (ipykernel)",
   "language": "python",
   "name": "python3"
  },
  "language_info": {
   "codemirror_mode": {
    "name": "ipython",
    "version": 3
   },
   "file_extension": ".py",
   "mimetype": "text/x-python",
   "name": "python",
   "nbconvert_exporter": "python",
   "pygments_lexer": "ipython3",
   "version": "3.11.9"
  },
  "vscode": {
   "interpreter": {
    "hash": "21d8332eb27bea95342760850bd7426f517b6a483537194bbba87e10eeabf6ff"
   }
  }
 },
 "nbformat": 4,
 "nbformat_minor": 4
}
