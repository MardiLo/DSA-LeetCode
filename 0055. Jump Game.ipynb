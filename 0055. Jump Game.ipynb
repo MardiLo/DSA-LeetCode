{
 "cells": [
  {
   "cell_type": "markdown",
   "metadata": {},
   "source": [
    "`# Array` `# Dynamic` `# Greedy`"
   ]
  },
  {
   "cell_type": "markdown",
   "metadata": {},
   "source": [
    "You are given an integer array `nums`. You are initially positioned at the array's **first index (index = 0)**, and each element in the array represents your maximum jump length at that position.\n",
    "\n",
    "Return `true` if you can reach the last index, or `false` otherwise."
   ]
  },
  {
   "cell_type": "markdown",
   "metadata": {},
   "source": [
    "**Example 1:**\n",
    "\n",
    "> Input: nums = [2,3,1,1,4]  \n",
    "Output: true  \n",
    "\n",
    "**Example 2:**\n",
    "\n",
    "> Input: nums = [3,2,1,0,4]  \n",
    "Output: false"
   ]
  },
  {
   "cell_type": "code",
   "execution_count": 7,
   "metadata": {},
   "outputs": [],
   "source": [
    "class Solution:\n",
    "    \n",
    "    # Time Complexity： O(n)\n",
    "    # Space Complexity： O(1)      \n",
    "    def canJump(self, nums: 'List[int]') -> 'bool':\n",
    "        farthest = 0\n",
    "        \n",
    "        while farthest < len(nums) - 1:\n",
    "            for i, num in enumerate(nums):\n",
    "                if i > farthest: return False          \n",
    "                farthest = max(farthest, i+num)\n",
    "    \n",
    "        return True"
   ]
  },
  {
   "cell_type": "code",
   "execution_count": 8,
   "metadata": {},
   "outputs": [
    {
     "name": "stdout",
     "output_type": "stream",
     "text": [
      "Case 1: True\n",
      "Case 2: False\n"
     ]
    }
   ],
   "source": [
    "# Test on Cases\n",
    "S = Solution()\n",
    "\n",
    "print(f\"Case 1: {S.canJump([2,3,1,1,4])}\")\n",
    "print(f\"Case 2: {S.canJump([3,2,1,0,4])}\")"
   ]
  }
 ],
 "metadata": {
  "interpreter": {
   "hash": "a1465031eeae0bed8511463faaa157119e7e6b7b1fbf4ef49fce31064cee3326"
  },
  "kernelspec": {
   "display_name": "Python 3.8.3 64-bit ('base': conda)",
   "name": "python3"
  },
  "language_info": {
   "codemirror_mode": {
    "name": "ipython",
    "version": 3
   },
   "file_extension": ".py",
   "mimetype": "text/x-python",
   "name": "python",
   "nbconvert_exporter": "python",
   "pygments_lexer": "ipython3",
   "version": "3.8.3"
  }
 },
 "nbformat": 4,
 "nbformat_minor": 4
}
