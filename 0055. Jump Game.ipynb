{
 "cells": [
  {
   "cell_type": "markdown",
   "source": [
    "`# Array` `# Dynamic` `# Greedy`"
   ],
   "metadata": {}
  },
  {
   "cell_type": "markdown",
   "source": [
    "You are given an integer array `nums`. You are initially positioned at the array's **first index (index = 0)**, and each element in the array represents your maximum jump length at that position.\n",
    "\n",
    "Return `true` if you can reach the last index, or `false` otherwise."
   ],
   "metadata": {}
  },
  {
   "cell_type": "markdown",
   "source": [
    "**Example 1:**\n",
    "\n",
    "> Input: nums = [2,3,1,1,4]  \n",
    "Output: true  \n",
    "\n",
    "**Example 2:**\n",
    "\n",
    "> Input: nums = [3,2,1,0,4]  \n",
    "Output: false"
   ],
   "metadata": {}
  },
  {
   "cell_type": "code",
   "execution_count": 3,
   "source": [
    "class Solution:\r\n",
    "    \r\n",
    "    # Time Complexity： O(n)\r\n",
    "    # Space Complexity： O(1)      \r\n",
    "    def canJump(self, nums: 'List[int]') -> 'bool':\r\n",
    "        maxJumpPos = 0\r\n",
    "        \r\n",
    "        for i, num in enumerate(nums):\r\n",
    "            if i > maxJumpPos:\r\n",
    "                return False\r\n",
    "            \r\n",
    "            maxJumpPos = max(maxJumpPos, i+num)\r\n",
    "            \r\n",
    "            if maxJumpPos >= len(nums):\r\n",
    "                return True\r\n",
    "            \r\n",
    "        return True"
   ],
   "outputs": [],
   "metadata": {}
  },
  {
   "cell_type": "code",
   "execution_count": 4,
   "source": [
    "# Test on Cases\r\n",
    "S = Solution()\r\n",
    "\r\n",
    "print(f\"Case 1: {S.canJump([2,3,1,1,4])}\")\r\n",
    "print(f\"Case 2: {S.canJump([3,2,1,0,4])}\")"
   ],
   "outputs": [
    {
     "output_type": "stream",
     "name": "stdout",
     "text": [
      "Case 1: True\n",
      "Case 2: False\n"
     ]
    }
   ],
   "metadata": {}
  }
 ],
 "metadata": {
  "kernelspec": {
   "display_name": "Python 3",
   "language": "python",
   "name": "python3"
  },
  "language_info": {
   "codemirror_mode": {
    "name": "ipython",
    "version": 3
   },
   "file_extension": ".py",
   "mimetype": "text/x-python",
   "name": "python",
   "nbconvert_exporter": "python",
   "pygments_lexer": "ipython3",
   "version": "3.7.7"
  }
 },
 "nbformat": 4,
 "nbformat_minor": 4
}