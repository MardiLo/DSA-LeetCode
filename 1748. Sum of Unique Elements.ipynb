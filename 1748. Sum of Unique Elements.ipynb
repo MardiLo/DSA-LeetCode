{
 "cells": [
  {
   "cell_type": "markdown",
   "metadata": {},
   "source": [
    "`# Array` `# Counting` `# Hash Table`"
   ]
  },
  {
   "cell_type": "markdown",
   "metadata": {},
   "source": [
    "You are given an integer array `nums`. The unique elements of an array are the elements that appear **exactly once** in the array.\n",
    "\n",
    "Return *the ***sum*** of all the unique elements of* `nums`."
   ]
  },
  {
   "cell_type": "markdown",
   "metadata": {},
   "source": [
    "**Example 1:**\n",
    "\n",
    "> Input: nums = [1,2,3,2]  \n",
    "> Output: 4  \n",
    "> Explanation: The unique elements are [1,3], and the sum is 4.\n",
    "\n",
    "**Example 2:**\n",
    "\n",
    "> Input: nums = [1,1,1,1,1]  \n",
    "> Output: 0  \n",
    "> Explanation: There are no unique elements, and the sum is 0.\n",
    "\n",
    "**Example 3:**  \n",
    "\n",
    "> Input: nums = [1,2,3,4,5]  \n",
    "> Output: 15  \n",
    "> Explanation: The unique elements are [1,2,3,4,5], and the sum is 15."
   ]
  },
  {
   "cell_type": "code",
   "execution_count": 5,
   "metadata": {},
   "outputs": [],
   "source": [
    "class Solution:\n",
    "    \n",
    "    # Time Complexity： O(n)\n",
    "    # Space Complexity： O(n)\n",
    "    def sumOfUnique(self, nums: list[int]) -> int:\n",
    "        from collections import Counter\n",
    "        \n",
    "        return sum(num for num, freq in Counter(nums).items() if freq == 1)"
   ]
  },
  {
   "cell_type": "code",
   "execution_count": 6,
   "metadata": {},
   "outputs": [
    {
     "name": "stdout",
     "output_type": "stream",
     "text": [
      "Case 1: 4\n",
      "Case 2: 0\n",
      "Case 3: 15\n"
     ]
    }
   ],
   "source": [
    "# Test on Cases\n",
    "S = Solution()\n",
    "\n",
    "print(f\"Case 1: {S.sumOfUnique([1,2,3,2])}\")\n",
    "print(f\"Case 2: {S.sumOfUnique([1,1,1,1,1])}\")\n",
    "print(f\"Case 3: {S.sumOfUnique([1,2,3,4,5])}\")"
   ]
  }
 ],
 "metadata": {
  "kernelspec": {
   "display_name": "Python 3 (ipykernel)",
   "language": "python",
   "name": "python3"
  },
  "language_info": {
   "codemirror_mode": {
    "name": "ipython",
    "version": 3
   },
   "file_extension": ".py",
   "mimetype": "text/x-python",
   "name": "python",
   "nbconvert_exporter": "python",
   "pygments_lexer": "ipython3",
   "version": "3.10.4"
  },
  "vscode": {
   "interpreter": {
    "hash": "21d8332eb27bea95342760850bd7426f517b6a483537194bbba87e10eeabf6ff"
   }
  }
 },
 "nbformat": 4,
 "nbformat_minor": 4
}
