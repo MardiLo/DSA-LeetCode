{
 "cells": [
  {
   "cell_type": "markdown",
   "metadata": {},
   "source": [
    "`# Math` `# Hash Table`"
   ]
  },
  {
   "cell_type": "markdown",
   "metadata": {},
   "source": [
    "Count the number of prime numbers less than a non-negative number, `n`."
   ]
  },
  {
   "cell_type": "markdown",
   "metadata": {},
   "source": [
    "**Example 1:**\n",
    "\n",
    "> Input: n = 10  \n",
    "Output: 4  \n",
    "Explanation: There are 4 prime numbers less than 10, they are 2, 3, 5, 7.\n",
    "\n",
    "**Example 2:**\n",
    "\n",
    "> Input: n = 0  \n",
    "Output: 0\n",
    "\n",
    "**Example 3:**\n",
    "\n",
    "> Input: n = 1  \n",
    "Output: 0"
   ]
  },
  {
   "cell_type": "code",
   "execution_count": 7,
   "metadata": {},
   "outputs": [],
   "source": [
    "class Solution:\n",
    "    \n",
    "    # Time Complexity： O(nloglogn)\n",
    "    # Space Complexity： O(n)\n",
    "    def countPrimes(self, n: 'int') -> 'int':\n",
    "        '''\n",
    "        Sieve of Eratosthenes\n",
    "        '''\n",
    "        if n < 2:\n",
    "            return 0\n",
    "        \n",
    "        strikes = [1] * n\n",
    "        strikes[0] = strikes[1] = 0\n",
    "        \n",
    "        for i in range(2, int(n**0.5)+1):\n",
    "            if strikes[i] == 1:\n",
    "                strikes[i*i:n:i] = [0] * len(strikes[i*i:n:i])\n",
    "        \n",
    "        return sum(strikes)"
   ]
  },
  {
   "cell_type": "code",
   "execution_count": 8,
   "metadata": {},
   "outputs": [
    {
     "name": "stdout",
     "output_type": "stream",
     "text": [
      "Case 1: 4\n",
      "Case 2: 0\n",
      "Case 3: 0\n"
     ]
    }
   ],
   "source": [
    "# Test on Cases\n",
    "S = Solution()\n",
    "\n",
    "print(f\"Case 1: {S.countPrimes(10)}\")\n",
    "print(f\"Case 2: {S.countPrimes(0)}\")\n",
    "print(f\"Case 3: {S.countPrimes(1)}\")"
   ]
  },
  {
   "cell_type": "code",
   "execution_count": null,
   "metadata": {},
   "outputs": [],
   "source": []
  }
 ],
 "metadata": {
  "kernelspec": {
   "display_name": "Python 3",
   "language": "python",
   "name": "python3"
  },
  "language_info": {
   "codemirror_mode": {
    "name": "ipython",
    "version": 3
   },
   "file_extension": ".py",
   "mimetype": "text/x-python",
   "name": "python",
   "nbconvert_exporter": "python",
   "pygments_lexer": "ipython3",
   "version": "3.7.7"
  }
 },
 "nbformat": 4,
 "nbformat_minor": 4
}
