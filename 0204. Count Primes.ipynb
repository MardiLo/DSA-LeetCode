{
 "cells": [
  {
   "cell_type": "markdown",
   "metadata": {},
   "source": [
    "`# Math` `# Hash Table`"
   ]
  },
  {
   "cell_type": "markdown",
   "metadata": {},
   "source": [
    "Count the number of prime numbers less than a non-negative number, `n`."
   ]
  },
  {
   "cell_type": "markdown",
   "metadata": {},
   "source": [
    "**Example 1:**\n",
    "\n",
    "> Input: n = 10  \n",
    "Output: 4  \n",
    "Explanation: There are 4 prime numbers less than 10, they are 2, 3, 5, 7.\n",
    "\n",
    "**Example 2:**\n",
    "\n",
    "> Input: n = 0  \n",
    "Output: 0\n",
    "\n",
    "**Example 3:**\n",
    "\n",
    "> Input: n = 1  \n",
    "Output: 0"
   ]
  },
  {
   "cell_type": "code",
   "execution_count": 5,
   "metadata": {},
   "outputs": [],
   "source": [
    "class Solution:\n",
    "    \n",
    "    # Time Complexity： O(nlog(log(n)))\n",
    "    # Space Complexity： O(n)\n",
    "    def countPrimes(self, n: 'int') -> 'int':\n",
    "        '''Sieve of Eratosthenes'''\n",
    "        isPrime = [0, 0] + [1] * (n - 2)\n",
    "        \n",
    "        for i in range(2, int(n**0.5)+1):\n",
    "            if isPrime[i]:\n",
    "                for j in range(i*i, n, i):\n",
    "                    isPrime[j] = 0\n",
    "        \n",
    "        return sum(isPrime)"
   ]
  },
  {
   "cell_type": "code",
   "execution_count": 6,
   "metadata": {},
   "outputs": [
    {
     "name": "stdout",
     "output_type": "stream",
     "text": [
      "Case 1: 4\n",
      "Case 2: 0\n",
      "Case 3: 0\n"
     ]
    }
   ],
   "source": [
    "# Test on Cases\n",
    "S = Solution()\n",
    "\n",
    "print(f\"Case 1: {S.countPrimes(10)}\")\n",
    "print(f\"Case 2: {S.countPrimes(0)}\")\n",
    "print(f\"Case 3: {S.countPrimes(1)}\")"
   ]
  }
 ],
 "metadata": {
  "kernelspec": {
   "display_name": "Python 3.10.4 ('leetcode')",
   "language": "python",
   "name": "python3"
  },
  "language_info": {
   "codemirror_mode": {
    "name": "ipython",
    "version": 3
   },
   "file_extension": ".py",
   "mimetype": "text/x-python",
   "name": "python",
   "nbconvert_exporter": "python",
   "pygments_lexer": "ipython3",
   "version": "3.10.4"
  },
  "vscode": {
   "interpreter": {
    "hash": "21d8332eb27bea95342760850bd7426f517b6a483537194bbba87e10eeabf6ff"
   }
  }
 },
 "nbformat": 4,
 "nbformat_minor": 4
}
