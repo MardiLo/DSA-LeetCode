{
 "cells": [
  {
   "cell_type": "markdown",
   "metadata": {},
   "source": [
    "`# Array` `# Hash Table`"
   ]
  },
  {
   "cell_type": "markdown",
   "metadata": {},
   "source": [
    "Given an array of integers `arr`, return `true` if the number of occurrences of each value in the array is **unique**, or `false` otherwise."
   ]
  },
  {
   "cell_type": "markdown",
   "metadata": {},
   "source": [
    "**Example 1:**\n",
    "\n",
    "> Input: arr = [1,2,2,1,1,3]  \n",
    "Output: true  \n",
    "Explanation: The value 1 has 3 occurrences, 2 has 2 and 3 has 1. No two values have the same number of occurrences.\n",
    "\n",
    "**Example 2:**\n",
    "\n",
    "> Input: arr = [1,2]  \n",
    "Output: false\n",
    "\n",
    "**Example 3:**\n",
    "\n",
    "> Input: arr = [-3,0,1,-3,1,1,1,-3,10,0]  \n",
    "Output: true"
   ]
  },
  {
   "cell_type": "code",
   "execution_count": 1,
   "metadata": {},
   "outputs": [],
   "source": [
    "class Solution:\n",
    "    \n",
    "    # Time Complexity： O(n)\n",
    "    # Space Complexity： O(n)    \n",
    "    def uniqueOccurrences(self, arr: list[int]) -> bool:\n",
    "        from collections import Counter\n",
    "\n",
    "        return len(cnt := Counter(arr)) == len(set(cnt.values()))"
   ]
  },
  {
   "cell_type": "code",
   "execution_count": 2,
   "metadata": {},
   "outputs": [
    {
     "name": "stdout",
     "output_type": "stream",
     "text": [
      "Case 1: True\n",
      "Case 2: False\n",
      "Case 3: True\n"
     ]
    }
   ],
   "source": [
    "# Test on Cases\n",
    "S = Solution()\n",
    "\n",
    "print(f\"Case 1: {S.uniqueOccurrences([1,2,2,1,1,3])}\")\n",
    "print(f\"Case 2: {S.uniqueOccurrences([1,2])}\")\n",
    "print(f\"Case 3: {S.uniqueOccurrences([-3,0,1,-3,1,1,1,-3,10,0])}\")"
   ]
  }
 ],
 "metadata": {
  "interpreter": {
   "hash": "21d8332eb27bea95342760850bd7426f517b6a483537194bbba87e10eeabf6ff"
  },
  "kernelspec": {
   "display_name": "Python 3.10.4 ('leetcode')",
   "language": "python",
   "name": "python3"
  },
  "language_info": {
   "codemirror_mode": {
    "name": "ipython",
    "version": 3
   },
   "file_extension": ".py",
   "mimetype": "text/x-python",
   "name": "python",
   "nbconvert_exporter": "python",
   "pygments_lexer": "ipython3",
   "version": "3.10.4"
  }
 },
 "nbformat": 4,
 "nbformat_minor": 4
}
