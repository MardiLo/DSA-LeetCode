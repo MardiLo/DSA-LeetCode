{
 "cells": [
  {
   "cell_type": "markdown",
   "source": [
    "`# Binary Tree` `# Breadth-First Search` `# Depth-First Search` `# Tree`"
   ],
   "metadata": {}
  },
  {
   "cell_type": "markdown",
   "source": [
    "You are given two binary trees `root1` and `root2`.\n",
    "\n",
    "Imagine that when you put one of them to cover the other, some nodes of the two trees are overlapped while the others are not. You need to merge the two trees into a new binary tree. The merge rule is that if two nodes overlap, then sum node values up as the new value of the merged node. Otherwise, the NOT null node will be used as the node of the new tree.\n",
    "\n",
    "Return *the merged tree*.\n",
    "\n",
    "Note: The merging process must start from the root nodes of both trees."
   ],
   "metadata": {}
  },
  {
   "cell_type": "markdown",
   "source": [
    "**Example 1:**  \r\n",
    "![Image of leetcode 0617 problem example 1](https://assets.leetcode.com/uploads/2021/02/05/merge.jpg)  \r\n",
    "> Input: root1 = [1,3,2,5], root2 = [2,1,3,null,4,null,7]  \r\n",
    "Output: [3,4,5,5,4,null,7]\r\n",
    "\r\n",
    "**Example 2:**\r\n",
    "\r\n",
    "> Input: root1 = [1], root2 = [1,2]  \r\n",
    "Output: [2,2]"
   ],
   "metadata": {}
  },
  {
   "cell_type": "code",
   "execution_count": 1,
   "source": [
    "class TreeNode:\r\n",
    "    def __init__(self, val=0, left=None, right=None):\r\n",
    "        self.val = val\r\n",
    "        self.left = left\r\n",
    "        self.right = right\r\n",
    "\r\n",
    "class Solution:\r\n",
    "    \r\n",
    "    # Time Complexity： O(n)\r\n",
    "    # Space Complexity： O(n)     \r\n",
    "    def mergeTrees_BFS(self, root1: 'TreeNode', root2: 'TreeNode') -> 'TreeNode':\r\n",
    "        from collections import deque\r\n",
    "        \r\n",
    "        if not root1:\r\n",
    "            if not root2:\r\n",
    "                return None\r\n",
    "            else:\r\n",
    "                root1, root2 = root2, root1\r\n",
    "        \r\n",
    "        queue = deque([(root1, root2)])          \r\n",
    "        while queue:\r\n",
    "            node1, node2 = queue.popleft()    # TC: deque.popleft(): O(1); list.pop(0): O(n)\r\n",
    "            \r\n",
    "            if not node2:\r\n",
    "                continue\r\n",
    "            else:\r\n",
    "                node1.val += node2.val\r\n",
    "                \r\n",
    "                if not node1.left and node2.left:\r\n",
    "                    node1.left = TreeNode(0)\r\n",
    "                if not node1.right and node2.right:\r\n",
    "                    node1.right = TreeNode(0)\r\n",
    "                \r\n",
    "                queue.append((node1.left, node2.left))\r\n",
    "                queue.append((node1.right, node2.right))\r\n",
    "                \r\n",
    "        return root1"
   ],
   "outputs": [],
   "metadata": {}
  },
  {
   "cell_type": "code",
   "execution_count": 2,
   "source": [
    "# Test on Cases\r\n",
    "from leetcodepractice import Print\r\n",
    "\r\n",
    "S, P = Solution(), Print()\r\n",
    "\r\n",
    "print(f\"Case 1: {P.TreeTraversalBFS(S.mergeTrees_BFS(TreeNode(1, TreeNode(3, TreeNode(5)), TreeNode(2)), TreeNode(2, TreeNode(1, None, TreeNode(4)), TreeNode(3, None, TreeNode(7)))))}\")\r\n",
    "print(f\"Case 2: {P.TreeTraversalBFS(S.mergeTrees_BFS(TreeNode(1), TreeNode(1, TreeNode(2))))}\")"
   ],
   "outputs": [
    {
     "output_type": "stream",
     "name": "stdout",
     "text": [
      "Case 1: [3, 4, 5, 5, 4, 7]\n",
      "Case 2: [2, 2]\n"
     ]
    }
   ],
   "metadata": {}
  }
 ],
 "metadata": {
  "kernelspec": {
   "display_name": "Python 3",
   "language": "python",
   "name": "python3"
  },
  "language_info": {
   "codemirror_mode": {
    "name": "ipython",
    "version": 3
   },
   "file_extension": ".py",
   "mimetype": "text/x-python",
   "name": "python",
   "nbconvert_exporter": "python",
   "pygments_lexer": "ipython3",
   "version": "3.7.7"
  }
 },
 "nbformat": 4,
 "nbformat_minor": 4
}