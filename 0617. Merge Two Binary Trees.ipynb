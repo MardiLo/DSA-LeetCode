{
 "cells": [
  {
   "cell_type": "markdown",
   "metadata": {},
   "source": [
    "`# Binary Tree` `# Breadth-First Search` `# Depth-First Search` `# Tree`"
   ]
  },
  {
   "cell_type": "markdown",
   "metadata": {},
   "source": [
    "You are given two binary trees `root1` and `root2`.\n",
    "\n",
    "Imagine that when you put one of them to cover the other, some nodes of the two trees are overlapped while the others are not. You need to merge the two trees into a new binary tree. The merge rule is that if two nodes overlap, then sum node values up as the new value of the merged node. Otherwise, the NOT null node will be used as the node of the new tree.\n",
    "\n",
    "Return *the merged tree*.\n",
    "\n",
    "Note: The merging process must start from the root nodes of both trees."
   ]
  },
  {
   "cell_type": "markdown",
   "metadata": {},
   "source": [
    "**Example 1:**\n",
    "![Image of leetcode 0617 problem example 1](https://assets.leetcode.com/uploads/2021/02/05/merge.jpg)  \n",
    "> Input: root1 = [1,3,2,5], root2 = [2,1,3,null,4,null,7]  \n",
    "Output: [3,4,5,5,4,null,7]\n",
    "\n",
    "**Example 2:**\n",
    "\n",
    "> Input: root1 = [1], root2 = [1,2]  \n",
    "Output: [2,2]"
   ]
  },
  {
   "cell_type": "code",
   "execution_count": 1,
   "metadata": {},
   "outputs": [],
   "source": [
    "class TreeNode:\n",
    "    def __init__(self, val=0, left=None, right=None):\n",
    "        self.val = val\n",
    "        self.left = left\n",
    "        self.right = right\n",
    "\n",
    "class Solution:\n",
    "    \n",
    "    # Time Complexity： O(n)\n",
    "    # Space Complexity： O(n)     \n",
    "    def mergeTrees_BFS(self, root1: 'Optional[TreeNode]', root2: 'Optional[TreeNode]') -> 'Optional[TreeNode]':\n",
    "        from collections import deque\n",
    "        \n",
    "        if not root1:\n",
    "            if not root2:\n",
    "                return None\n",
    "            else:\n",
    "                root1, root2 = root2, root1\n",
    "        \n",
    "        queue = deque([(root1, root2)])          \n",
    "        while queue:\n",
    "            node1, node2 = queue.popleft()    # TC: deque.popleft(): O(1); list.pop(0): O(n)\n",
    "            \n",
    "            if not node2:\n",
    "                continue\n",
    "            else:\n",
    "                node1.val += node2.val\n",
    "                \n",
    "                if not node1.left and node2.left:\n",
    "                    node1.left = TreeNode(0)\n",
    "                if not node1.right and node2.right:\n",
    "                    node1.right = TreeNode(0)\n",
    "                \n",
    "                queue.append((node1.left, node2.left))\n",
    "                queue.append((node1.right, node2.right))\n",
    "                \n",
    "        return root1"
   ]
  },
  {
   "cell_type": "code",
   "execution_count": 2,
   "metadata": {},
   "outputs": [
    {
     "name": "stdout",
     "output_type": "stream",
     "text": [
      "Case 1: [3, 4, 5, 5, 4, 7]\n",
      "Case 2: [2, 2]\n"
     ]
    }
   ],
   "source": [
    "# Test on Cases\n",
    "from leetcodepractice import Print\n",
    "\n",
    "S, P = Solution(), Print()\n",
    "\n",
    "print(f\"Case 1: {P.TreeTraversalBFS(S.mergeTrees_BFS(TreeNode(1, TreeNode(3, TreeNode(5)), TreeNode(2)), TreeNode(2, TreeNode(1, None, TreeNode(4)), TreeNode(3, None, TreeNode(7)))))}\")\n",
    "print(f\"Case 2: {P.TreeTraversalBFS(S.mergeTrees_BFS(TreeNode(1), TreeNode(1, TreeNode(2))))}\")"
   ]
  },
  {
   "cell_type": "code",
   "execution_count": null,
   "metadata": {},
   "outputs": [],
   "source": []
  }
 ],
 "metadata": {
  "kernelspec": {
   "display_name": "Python 3",
   "language": "python",
   "name": "python3"
  },
  "language_info": {
   "codemirror_mode": {
    "name": "ipython",
    "version": 3
   },
   "file_extension": ".py",
   "mimetype": "text/x-python",
   "name": "python",
   "nbconvert_exporter": "python",
   "pygments_lexer": "ipython3",
   "version": "3.7.7"
  }
 },
 "nbformat": 4,
 "nbformat_minor": 4
}
