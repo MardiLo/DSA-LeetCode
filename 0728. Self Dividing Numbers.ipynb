{
 "cells": [
  {
   "cell_type": "markdown",
   "metadata": {},
   "source": [
    "`# Math`"
   ]
  },
  {
   "cell_type": "markdown",
   "metadata": {},
   "source": [
    "A **self-dividing number** is a number that is divisible by every digit it contains.\n",
    "\n",
    "For example, `128` is a **self-dividing number** because `128 % 1 == 0`, `128 % 2 == 0`, and `128 % 8 == 0`.\n",
    "A **self-dividing number** is not allowed to contain the digit zero.\n",
    "\n",
    "Given two integers `left` and `right`, return *a list of all the ***self-dividing numbers*** in the range* `[left, right]`."
   ]
  },
  {
   "cell_type": "markdown",
   "metadata": {},
   "source": [
    "**Example 1:**\n",
    "\n",
    "> Input: left = 1, right = 22  \n",
    "Output: [1,2,3,4,5,6,7,8,9,11,12,15,22]  \n",
    "\n",
    "**Example 2:**\n",
    "\n",
    "> Input: left = 47, right = 85  \n",
    "Output: [48,55,66,77]  "
   ]
  },
  {
   "cell_type": "code",
   "execution_count": 1,
   "metadata": {},
   "outputs": [],
   "source": [
    "class Solution:\n",
    "    \n",
    "    # Time Complexity： O((r-l)n), where, l = left, r = right, and n is the digit count between l and r\n",
    "    # Space Complexity： O(n)\n",
    "    def selfDividingNumbers(self, left: int, right: int) -> list[int]:\n",
    "        return [num for num in range(left, right+1) if all(c != '0' and not num % int(c) for c in str(num))]"
   ]
  },
  {
   "cell_type": "code",
   "execution_count": 2,
   "metadata": {},
   "outputs": [
    {
     "name": "stdout",
     "output_type": "stream",
     "text": [
      "Case 1: [1, 2, 3, 4, 5, 6, 7, 8, 9, 11, 12, 15, 22]\n",
      "Case 2: [48, 55, 66, 77]\n"
     ]
    }
   ],
   "source": [
    "# Test on Cases\n",
    "S = Solution()\n",
    "\n",
    "print(f\"Case 1: {S.selfDividingNumbers(1, 22)}\")\n",
    "print(f\"Case 2: {S.selfDividingNumbers(47, 85)}\")"
   ]
  }
 ],
 "metadata": {
  "kernelspec": {
   "display_name": "Python 3.10.4 ('leetcode')",
   "language": "python",
   "name": "python3"
  },
  "language_info": {
   "codemirror_mode": {
    "name": "ipython",
    "version": 3
   },
   "file_extension": ".py",
   "mimetype": "text/x-python",
   "name": "python",
   "nbconvert_exporter": "python",
   "pygments_lexer": "ipython3",
   "version": "3.10.4"
  },
  "vscode": {
   "interpreter": {
    "hash": "21d8332eb27bea95342760850bd7426f517b6a483537194bbba87e10eeabf6ff"
   }
  }
 },
 "nbformat": 4,
 "nbformat_minor": 4
}
