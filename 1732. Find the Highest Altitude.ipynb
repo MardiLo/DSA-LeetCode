{
 "cells": [
  {
   "cell_type": "markdown",
   "metadata": {},
   "source": [
    "`# Array` `# Prefix Sum`"
   ]
  },
  {
   "cell_type": "markdown",
   "metadata": {},
   "source": [
    "There is a biker going on a road trip. The road trip consists of `n + 1` points at different altitudes. The biker starts his trip on point `0` with altitude equal `0`.\n",
    "\n",
    "You are given an integer array `gain` of length `n` where `gain[i]` is the **net gain in altitude** between points `i​​​​​​` and `i + 1` for `all (0 <= i < n)`. Return *the ***highest altitude*** of a point.*"
   ]
  },
  {
   "cell_type": "markdown",
   "metadata": {},
   "source": [
    "**Example 1:**\n",
    "\n",
    "> Input: gain = [-5,1,5,0,-7]  \n",
    "Output: 1  \n",
    "Explanation: The altitudes are [0,-5,-4,1,1,-6]. The highest is 1.\n",
    "\n",
    "**Example 2:**\n",
    "\n",
    "> Input: gain = [-4,-3,-2,-1,4,3,2]  \n",
    "Output: 0  \n",
    "Explanation: The altitudes are [0,-4,-7,-9,-10,-6,-3,-1]. The highest is 0."
   ]
  },
  {
   "cell_type": "code",
   "execution_count": 1,
   "metadata": {},
   "outputs": [],
   "source": [
    "class Solution:\n",
    "\n",
    "    # Time Complexity： O(n)\n",
    "    # Space Complexity： O(1)\n",
    "    def largestAltitude(self, gain: list[int]) -> int:\n",
    "        from itertools import accumulate\n",
    "\n",
    "        return max(accumulate(gain, initial=0))"
   ]
  },
  {
   "cell_type": "code",
   "execution_count": 2,
   "metadata": {},
   "outputs": [
    {
     "name": "stdout",
     "output_type": "stream",
     "text": [
      "Case 1: 1\n",
      "Case 2: 0\n"
     ]
    }
   ],
   "source": [
    "# Test on Cases\n",
    "S = Solution()\n",
    "\n",
    "print(f\"Case 1: {S.largestAltitude([-5,1,5,0,-7])}\")\n",
    "print(f\"Case 2: {S.largestAltitude([-4,-3,-2,-1,4,3,2])}\")"
   ]
  }
 ],
 "metadata": {
  "kernelspec": {
   "display_name": "Python 3.10.4 ('leetcode')",
   "language": "python",
   "name": "python3"
  },
  "language_info": {
   "codemirror_mode": {
    "name": "ipython",
    "version": 3
   },
   "file_extension": ".py",
   "mimetype": "text/x-python",
   "name": "python",
   "nbconvert_exporter": "python",
   "pygments_lexer": "ipython3",
   "version": "3.10.4"
  },
  "vscode": {
   "interpreter": {
    "hash": "21d8332eb27bea95342760850bd7426f517b6a483537194bbba87e10eeabf6ff"
   }
  }
 },
 "nbformat": 4,
 "nbformat_minor": 4
}
