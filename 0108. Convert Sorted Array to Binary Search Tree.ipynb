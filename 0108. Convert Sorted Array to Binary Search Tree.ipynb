{
 "cells": [
  {
   "cell_type": "markdown",
   "metadata": {},
   "source": [
    "`# Array` `# Binary Search Tree` `# Binary Tree` `# Divide and Conquer` `# Tree`"
   ]
  },
  {
   "cell_type": "markdown",
   "metadata": {},
   "source": [
    "Given an integer array `nums` where the elements are sorted in **ascending order**, convert *it to a* ***height-balanced*** *binary search tree*.\n",
    "\n",
    "A **height-balanced** binary tree is a binary tree in which the depth of the two subtrees of every node never differs by more than one."
   ]
  },
  {
   "cell_type": "markdown",
   "metadata": {},
   "source": [
    "**Example 1:**  \n",
    "![Image of leetcode 0108 problem example 1](https://assets.leetcode.com/uploads/2021/02/18/btree1.jpg)\n",
    "> Input: nums = [-10,-3,0,5,9]  \n",
    "> Output: [0,-3,9,-10,null,5]  \n",
    "> Explanation: [0,-10,5,null,-3,null,9] is also accepted:\n",
    "\n",
    "**Example 2:**  \n",
    "![Image of leetcode 0108 problem example 2](https://assets.leetcode.com/uploads/2021/02/18/btree.jpg)\n",
    "> Input: nums = [1,3]  \n",
    "> Output: [3,1]  \n",
    "> Explanation: [1,3] and [3,1] are both a height-balanced BSTs."
   ]
  },
  {
   "cell_type": "code",
   "execution_count": 15,
   "metadata": {},
   "outputs": [],
   "source": [
    "class TreeNode:\n",
    "    def __init__(self, val=0, left=None, right=None):\n",
    "        self.val = val\n",
    "        self.left = left\n",
    "        self.right = right\n",
    "\n",
    "class Solution:\n",
    "    \n",
    "    # Time Complexity： O(n)\n",
    "    # Space Complexity： O(h)\n",
    "    def sortedArrayToBST(self, nums: list[int]) -> TreeNode:\n",
    "        def dfs(l: int, r: int) -> TreeNode:\n",
    "            if l > r: return\n",
    "\n",
    "            return TreeNode(nums[m := (l+r) // 2], dfs(l, m-1), dfs(m+1, r))\n",
    "        \n",
    "        return dfs(0, len(nums)-1)"
   ]
  },
  {
   "cell_type": "code",
   "execution_count": 16,
   "metadata": {},
   "outputs": [
    {
     "name": "stdout",
     "output_type": "stream",
     "text": [
      "Case 1: [0, -10, 5, -3, 9]\n",
      "Case 2: [1, 3]\n"
     ]
    }
   ],
   "source": [
    "# Test on Cases\n",
    "from leetcodepractice import Print\n",
    "\n",
    "S, P = Solution(), Print()\n",
    "\n",
    "print(f\"Case 1: {P.TreeTraversalBFS(S.sortedArrayToBST([-10,-3,0,5,9]))}\")\n",
    "print(f\"Case 2: {P.TreeTraversalBFS(S.sortedArrayToBST([1,3]))}\")"
   ]
  }
 ],
 "metadata": {
  "kernelspec": {
   "display_name": "Python 3 (ipykernel)",
   "language": "python",
   "name": "python3"
  },
  "language_info": {
   "codemirror_mode": {
    "name": "ipython",
    "version": 3
   },
   "file_extension": ".py",
   "mimetype": "text/x-python",
   "name": "python",
   "nbconvert_exporter": "python",
   "pygments_lexer": "ipython3",
   "version": "3.10.4"
  },
  "vscode": {
   "interpreter": {
    "hash": "21d8332eb27bea95342760850bd7426f517b6a483537194bbba87e10eeabf6ff"
   }
  }
 },
 "nbformat": 4,
 "nbformat_minor": 4
}
