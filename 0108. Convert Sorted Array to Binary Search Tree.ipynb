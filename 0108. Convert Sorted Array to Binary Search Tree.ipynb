{
 "cells": [
  {
   "cell_type": "markdown",
   "source": [
    "`# Array` `# Binary Search Tree` `# Binary Tree` `# Divide and Conquer` `# Tree`"
   ],
   "metadata": {}
  },
  {
   "cell_type": "markdown",
   "source": [
    "Given an integer array `nums` where the elements are sorted in **ascending order**, convert *it to a* ***height-balanced*** *binary search tree*.\n",
    "\n",
    "A **height-balanced** binary tree is a binary tree in which the depth of the two subtrees of every node never differs by more than one."
   ],
   "metadata": {}
  },
  {
   "cell_type": "markdown",
   "source": [
    "**Example 1:**  \r\n",
    "![Image of leetcode 0108 problem example 1](https://assets.leetcode.com/uploads/2021/02/18/btree1.jpg)\r\n",
    "> Input: nums = [-10,-3,0,5,9]  \r\n",
    "Output: [0,-3,9,-10,null,5]  \r\n",
    "Explanation: [0,-10,5,null,-3,null,9] is also accepted:\r\n",
    "\r\n",
    "**Example 2:**  \r\n",
    "![Image of leetcode 0108 problem example 2](https://assets.leetcode.com/uploads/2021/02/18/btree.jpg)\r\n",
    "> Input: nums = [1,3]  \r\n",
    "Output: [3,1]  \r\n",
    "Explanation: [1,3] and [3,1] are both a height-balanced BSTs."
   ],
   "metadata": {}
  },
  {
   "cell_type": "code",
   "execution_count": 9,
   "source": [
    "class TreeNode:\r\n",
    "    def __init__(self, val=0, left=None, right=None):\r\n",
    "        self.val = val\r\n",
    "        self.left = left\r\n",
    "        self.right = right\r\n",
    "\r\n",
    "class Solution:\r\n",
    "    \r\n",
    "    # Time Complexity： O(nlog(n))\r\n",
    "    # Space Complexity： O(n)\r\n",
    "    def sortedArrayToBST(self, nums: 'List[int]') -> 'TreeNode':\r\n",
    "        if not nums:\r\n",
    "            return None\r\n",
    "        \r\n",
    "        mid = len(nums) // 2\r\n",
    "        root = TreeNode(nums[mid])\r\n",
    "        root.left = self.sortedArrayToBST(nums[:mid])\r\n",
    "        root.right = self.sortedArrayToBST(nums[mid+1:])\r\n",
    "        return root"
   ],
   "outputs": [],
   "metadata": {}
  },
  {
   "cell_type": "code",
   "execution_count": 10,
   "source": [
    "# Test on Cases\r\n",
    "from leetcodepractice import Print\r\n",
    "\r\n",
    "S, P = Solution(), Print()\r\n",
    "\r\n",
    "print(f\"Case 1: {P.TreeTraversalBFS(S.sortedArrayToBST([-10,-3,0,5,9]))}\")\r\n",
    "print(f\"Case 2: {P.TreeTraversalBFS(S.sortedArrayToBST([1,3]))}\")"
   ],
   "outputs": [
    {
     "output_type": "stream",
     "name": "stdout",
     "text": [
      "Case 1: [0, -3, 9, -10, 5]\n",
      "Case 2: [3, 1]\n"
     ]
    }
   ],
   "metadata": {}
  }
 ],
 "metadata": {
  "kernelspec": {
   "display_name": "Python 3",
   "language": "python",
   "name": "python3"
  },
  "language_info": {
   "codemirror_mode": {
    "name": "ipython",
    "version": 3
   },
   "file_extension": ".py",
   "mimetype": "text/x-python",
   "name": "python",
   "nbconvert_exporter": "python",
   "pygments_lexer": "ipython3",
   "version": "3.7.7"
  }
 },
 "nbformat": 4,
 "nbformat_minor": 4
}