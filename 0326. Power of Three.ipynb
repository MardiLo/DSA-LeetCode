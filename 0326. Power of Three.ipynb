{
 "cells": [
  {
   "cell_type": "markdown",
   "source": [
    "`# Math`"
   ],
   "metadata": {}
  },
  {
   "cell_type": "markdown",
   "source": [
    "Given an integer `n`, return `true` *if it is a power of three*. Otherwise, return `false`.\n",
    "\n",
    "An integer `n` is a power of three, if there exists an integer `x` such that `n == 3^x`."
   ],
   "metadata": {}
  },
  {
   "cell_type": "markdown",
   "source": [
    "**Example 1:**\n",
    "\n",
    "> Input: n = 27  \n",
    "Output: true\n",
    "\n",
    "**Example 2:**\n",
    "\n",
    "> Input: n = 0  \n",
    "Output: false\n",
    "\n",
    "**Example 3:**\n",
    "\n",
    "> Input: n = 9  \n",
    "Output: true\n",
    "\n",
    "**Example 4:**\n",
    "\n",
    "> Input: n = 45  \n",
    "Output: false"
   ],
   "metadata": {}
  },
  {
   "cell_type": "code",
   "execution_count": 2,
   "source": [
    "class Solution:\r\n",
    "    \r\n",
    "    # Time Complexity： O(n)\r\n",
    "    # Space Complexity： O(1)\r\n",
    "    def isPowerOfThree(self, n: 'int') -> 'bool':\r\n",
    "        if n == 1:\r\n",
    "            return True\r\n",
    "        elif n < 1:\r\n",
    "            return False\r\n",
    "        \r\n",
    "        while n > 1:\r\n",
    "            if n % 3 != 0:\r\n",
    "                return False\r\n",
    "            n /= 3\r\n",
    "        \r\n",
    "        return True"
   ],
   "outputs": [],
   "metadata": {}
  },
  {
   "cell_type": "code",
   "execution_count": 3,
   "source": [
    "# Test on Cases\r\n",
    "S = Solution()\r\n",
    "\r\n",
    "print(f\"Case 1: {S.isPowerOfThree(27)}\")\r\n",
    "print(f\"Case 2: {S.isPowerOfThree(0)}\")\r\n",
    "print(f\"Case 3: {S.isPowerOfThree(9)}\")\r\n",
    "print(f\"Case 4: {S.isPowerOfThree(45)}\")"
   ],
   "outputs": [
    {
     "output_type": "stream",
     "name": "stdout",
     "text": [
      "Case 1: True\n",
      "Case 2: False\n",
      "Case 3: True\n",
      "Case 4: False\n"
     ]
    }
   ],
   "metadata": {}
  }
 ],
 "metadata": {
  "kernelspec": {
   "display_name": "Python 3",
   "language": "python",
   "name": "python3"
  },
  "language_info": {
   "codemirror_mode": {
    "name": "ipython",
    "version": 3
   },
   "file_extension": ".py",
   "mimetype": "text/x-python",
   "name": "python",
   "nbconvert_exporter": "python",
   "pygments_lexer": "ipython3",
   "version": "3.7.7"
  }
 },
 "nbformat": 4,
 "nbformat_minor": 4
}