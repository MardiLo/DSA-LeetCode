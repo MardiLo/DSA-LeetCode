{
 "cells": [
  {
   "attachments": {},
   "cell_type": "markdown",
   "metadata": {},
   "source": [
    "`# Math` `# Recursion`"
   ]
  },
  {
   "attachments": {},
   "cell_type": "markdown",
   "metadata": {},
   "source": [
    "Given an integer `n`, return `true` *if it is a power of three*. Otherwise, return `false`.\n",
    "\n",
    "An integer `n` is a power of three, if there exists an integer `x` such that `n == 3^x`."
   ]
  },
  {
   "attachments": {},
   "cell_type": "markdown",
   "metadata": {},
   "source": [
    "**Example 1:**\n",
    "\n",
    "> Input: n = 27  \n",
    "> Output: true\n",
    "\n",
    "**Example 2:**\n",
    "\n",
    "> Input: n = 0  \n",
    "> Output: false\n",
    "\n",
    "**Example 3:**\n",
    "\n",
    "> Input: n = 9  \n",
    "> Output: true\n",
    "\n",
    "**Example 4:**\n",
    "\n",
    "> Input: n = 45  \n",
    "> Output: false"
   ]
  },
  {
   "cell_type": "code",
   "execution_count": 1,
   "metadata": {},
   "outputs": [],
   "source": [
    "class Solution:\n",
    "\n",
    "    # Time Complexity： O(logn), where this log is log base 3\n",
    "    # Space Complexity： O(logn)\n",
    "    def isPowerOfThree_recursion(self, n: int) -> bool:\n",
    "        return self.isPowerOfThree_recursion(n / 3) if n > 1 and int(n) == n else n == 1\n",
    "\n",
    "    # Time Complexity： O(logn), where this log is log base 3\n",
    "    # Space Complexity： O(1)\n",
    "    def isPowerOfThree_iteration(self, n: int) -> bool:\n",
    "        while n > 1 and int(n) == n:\n",
    "            n /= 3\n",
    "        \n",
    "        return n == 1\n",
    "\n",
    "    # Time Complexity： O(1)\n",
    "    # Space Complexity： O(1)\n",
    "    def isPowerOfThree_magicNumber(self, n: int) -> bool:\n",
    "        return n > 0 and 3**19 % n == 0"
   ]
  },
  {
   "cell_type": "code",
   "execution_count": 2,
   "metadata": {},
   "outputs": [
    {
     "name": "stdout",
     "output_type": "stream",
     "text": [
      "---isPowerOfThree_recursion---\n",
      "Case 1: True\n",
      "Case 2: False\n",
      "Case 3: True\n",
      "Case 4: False\n",
      "\n",
      "---isPowerOfThree_iteration---\n",
      "Case 1: True\n",
      "Case 2: False\n",
      "Case 3: True\n",
      "Case 4: False\n",
      "\n",
      "---isPowerOfThree_magicNumber---\n",
      "Case 1: True\n",
      "Case 2: False\n",
      "Case 3: True\n",
      "Case 4: False\n"
     ]
    }
   ],
   "source": [
    "# Test on Cases\n",
    "S = Solution()\n",
    "\n",
    "print(\"---isPowerOfThree_recursion---\")\n",
    "print(f\"Case 1: {S.isPowerOfThree_recursion(27)}\")\n",
    "print(f\"Case 2: {S.isPowerOfThree_recursion(0)}\")\n",
    "print(f\"Case 3: {S.isPowerOfThree_recursion(9)}\")\n",
    "print(f\"Case 4: {S.isPowerOfThree_recursion(45)}\\n\")\n",
    "\n",
    "print(\"---isPowerOfThree_iteration---\")\n",
    "print(f\"Case 1: {S.isPowerOfThree_iteration(27)}\")\n",
    "print(f\"Case 2: {S.isPowerOfThree_iteration(0)}\")\n",
    "print(f\"Case 3: {S.isPowerOfThree_iteration(9)}\")\n",
    "print(f\"Case 4: {S.isPowerOfThree_iteration(45)}\\n\")\n",
    "\n",
    "print(\"---isPowerOfThree_magicNumber---\")\n",
    "print(f\"Case 1: {S.isPowerOfThree_magicNumber(27)}\")\n",
    "print(f\"Case 2: {S.isPowerOfThree_magicNumber(0)}\")\n",
    "print(f\"Case 3: {S.isPowerOfThree_magicNumber(9)}\")\n",
    "print(f\"Case 4: {S.isPowerOfThree_magicNumber(45)}\")"
   ]
  }
 ],
 "metadata": {
  "kernelspec": {
   "display_name": "Python 3 (ipykernel)",
   "language": "python",
   "name": "python3"
  },
  "language_info": {
   "codemirror_mode": {
    "name": "ipython",
    "version": 3
   },
   "file_extension": ".py",
   "mimetype": "text/x-python",
   "name": "python",
   "nbconvert_exporter": "python",
   "pygments_lexer": "ipython3",
   "version": "3.10.4"
  },
  "vscode": {
   "interpreter": {
    "hash": "21d8332eb27bea95342760850bd7426f517b6a483537194bbba87e10eeabf6ff"
   }
  }
 },
 "nbformat": 4,
 "nbformat_minor": 4
}
