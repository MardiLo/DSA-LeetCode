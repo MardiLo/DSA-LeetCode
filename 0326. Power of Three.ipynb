{
 "cells": [
  {
   "cell_type": "markdown",
   "metadata": {},
   "source": [
    "`# Math`"
   ]
  },
  {
   "cell_type": "markdown",
   "metadata": {},
   "source": [
    "Given an integer `n`, return `true` *if it is a power of three*. Otherwise, return `false`.\n",
    "\n",
    "An integer `n` is a power of three, if there exists an integer `x` such that `n == 3^x`."
   ]
  },
  {
   "cell_type": "markdown",
   "metadata": {},
   "source": [
    "**Example 1:**\n",
    "\n",
    "> Input: n = 27  \n",
    "Output: true\n",
    "\n",
    "**Example 2:**\n",
    "\n",
    "> Input: n = 0  \n",
    "Output: false\n",
    "\n",
    "**Example 3:**\n",
    "\n",
    "> Input: n = 9  \n",
    "Output: true\n",
    "\n",
    "**Example 4:**\n",
    "\n",
    "> Input: n = 45  \n",
    "Output: false"
   ]
  },
  {
   "cell_type": "code",
   "execution_count": 1,
   "metadata": {},
   "outputs": [],
   "source": [
    "class Solution:\n",
    "    \n",
    "    # Time Complexity： O(n)\n",
    "    # Space Complexity： O(1)\n",
    "    def isPowerOfThree(self, n: 'int') -> 'bool':       \n",
    "        while n > 1:\n",
    "            if n % 3 != 0: return False\n",
    "            n /= 3\n",
    "        else:\n",
    "            return True if n == 1 else False"
   ]
  },
  {
   "cell_type": "code",
   "execution_count": 2,
   "metadata": {},
   "outputs": [
    {
     "name": "stdout",
     "output_type": "stream",
     "text": [
      "Case 1: True\n",
      "Case 2: False\n",
      "Case 3: True\n",
      "Case 4: False\n"
     ]
    }
   ],
   "source": [
    "# Test on Cases\n",
    "S = Solution()\n",
    "\n",
    "print(f\"Case 1: {S.isPowerOfThree(27)}\")\n",
    "print(f\"Case 2: {S.isPowerOfThree(0)}\")\n",
    "print(f\"Case 3: {S.isPowerOfThree(9)}\")\n",
    "print(f\"Case 4: {S.isPowerOfThree(45)}\")"
   ]
  }
 ],
 "metadata": {
  "kernelspec": {
   "display_name": "Python 3",
   "language": "python",
   "name": "python3"
  },
  "language_info": {
   "codemirror_mode": {
    "name": "ipython",
    "version": 3
   },
   "file_extension": ".py",
   "mimetype": "text/x-python",
   "name": "python",
   "nbconvert_exporter": "python",
   "pygments_lexer": "ipython3",
   "version": "3.8.3"
  }
 },
 "nbformat": 4,
 "nbformat_minor": 4
}
