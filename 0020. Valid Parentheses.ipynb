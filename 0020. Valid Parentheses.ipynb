{
 "cells": [
  {
   "cell_type": "markdown",
   "metadata": {},
   "source": [
    "`# Stack` `# String`"
   ]
  },
  {
   "cell_type": "markdown",
   "metadata": {},
   "source": [
    "Given a string s containing just the characters `'('`, `')'`, `'{'`, `'}'`, `'['` and `']'`, determine if the input string is valid.\n",
    "\n",
    "An input string is valid if:\n",
    "\n",
    "- Open brackets must be closed by the same type of brackets.\n",
    "- Open brackets must be closed in the correct order."
   ]
  },
  {
   "cell_type": "markdown",
   "metadata": {},
   "source": [
    "**Example 1:**\n",
    "\n",
    "> Input: s = \"()\"  \n",
    "Output: true\n",
    "\n",
    "**Example 2:**\n",
    "\n",
    "> Input: s = \"()[]{}\"  \n",
    "Output: true\n",
    "\n",
    "**Example 3:**\n",
    "\n",
    "> Input: s = \"(]\"  \n",
    "Output: false\n",
    "\n",
    "**Example 4:**\n",
    "\n",
    "> Input: s = \"([)]\"  \n",
    "Output: false\n",
    "\n",
    "**Example 5:**\n",
    "\n",
    "> Input: s = \"{[]}\"  \n",
    "Output: true"
   ]
  },
  {
   "cell_type": "code",
   "execution_count": 3,
   "metadata": {},
   "outputs": [],
   "source": [
    "class Solution:\n",
    "    \n",
    "    # Time Complexity： O(n)\n",
    "    # Space Complexity： O(n)\n",
    "    def isValid(self, s: 'str') -> 'bool':\n",
    "        pattern = {'(' : ')', '{' : '}', '[' : ']'}\n",
    "        stack = []\n",
    "        \n",
    "        for p in s:\n",
    "            if p in pattern:\n",
    "                stack.append(p)\n",
    "            else:\n",
    "                if stack and pattern[stack.pop()] == p:\n",
    "                    continue\n",
    "                else:\n",
    "                    return False\n",
    "                \n",
    "        return not stack"
   ]
  },
  {
   "cell_type": "code",
   "execution_count": 4,
   "metadata": {},
   "outputs": [
    {
     "name": "stdout",
     "output_type": "stream",
     "text": [
      "Case 1: True\n",
      "Case 2: True\n",
      "Case 3: False\n",
      "Case 4: False\n",
      "Case 5: True\n"
     ]
    }
   ],
   "source": [
    "# Test on Cases\n",
    "S = Solution()\n",
    "\n",
    "print(f\"Case 1: {S.isValid('()')}\")\n",
    "print(f\"Case 2: {S.isValid('()[]{}')}\")\n",
    "print(f\"Case 3: {S.isValid('(]')}\")\n",
    "print(f\"Case 4: {S.isValid('([)]')}\")\n",
    "print(f\"Case 5: {S.isValid('{[]}')}\")"
   ]
  },
  {
   "cell_type": "code",
   "execution_count": null,
   "metadata": {},
   "outputs": [],
   "source": []
  }
 ],
 "metadata": {
  "kernelspec": {
   "display_name": "Python 3",
   "language": "python",
   "name": "python3"
  },
  "language_info": {
   "codemirror_mode": {
    "name": "ipython",
    "version": 3
   },
   "file_extension": ".py",
   "mimetype": "text/x-python",
   "name": "python",
   "nbconvert_exporter": "python",
   "pygments_lexer": "ipython3",
   "version": "3.7.7"
  }
 },
 "nbformat": 4,
 "nbformat_minor": 4
}
