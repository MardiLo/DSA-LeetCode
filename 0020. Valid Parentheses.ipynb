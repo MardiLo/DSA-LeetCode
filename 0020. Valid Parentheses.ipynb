{
 "cells": [
  {
   "cell_type": "markdown",
   "source": [
    "`# Stack` `# String`"
   ],
   "metadata": {}
  },
  {
   "cell_type": "markdown",
   "source": [
    "Given a string s containing just the characters `'('`, `')'`, `'{'`, `'}'`, `'['` and `']'`, determine *if the input string is* ***valid***.\r\n",
    "\r\n",
    "An input string is valid if:\r\n",
    "\r\n",
    "- Open brackets must be closed by the **same type** of brackets.\r\n",
    "- Open brackets must be closed in the **correct order**."
   ],
   "metadata": {}
  },
  {
   "cell_type": "markdown",
   "source": [
    "**Example 1:**\n",
    "\n",
    "> Input: s = \"()\"  \n",
    "Output: true\n",
    "\n",
    "**Example 2:**\n",
    "\n",
    "> Input: s = \"()[]{}\"  \n",
    "Output: true\n",
    "\n",
    "**Example 3:**\n",
    "\n",
    "> Input: s = \"(]\"  \n",
    "Output: false\n",
    "\n",
    "**Example 4:**\n",
    "\n",
    "> Input: s = \"([)]\"  \n",
    "Output: false\n",
    "\n",
    "**Example 5:**\n",
    "\n",
    "> Input: s = \"{[]}\"  \n",
    "Output: true"
   ],
   "metadata": {}
  },
  {
   "cell_type": "code",
   "execution_count": 1,
   "source": [
    "class Solution:\r\n",
    "    \r\n",
    "    # Time Complexity： O(n)\r\n",
    "    # Space Complexity： O(n)\r\n",
    "    def isValid(self, s: 'str') -> 'bool':\r\n",
    "        pattern = {'(' : ')', '{' : '}', '[' : ']'}    # SC: O(1)\r\n",
    "        stack = []\r\n",
    "        \r\n",
    "        for p in s:                                    # TC: O(n)\r\n",
    "            if p in pattern:\r\n",
    "                stack.append(p)                        # SC: O(n)\r\n",
    "            else:\r\n",
    "                if not stack or pattern[stack.pop()] != p:\r\n",
    "                    return False\r\n",
    "                \r\n",
    "        return not stack"
   ],
   "outputs": [],
   "metadata": {}
  },
  {
   "cell_type": "code",
   "execution_count": 2,
   "source": [
    "# Test on Cases\r\n",
    "S = Solution()\r\n",
    "\r\n",
    "print(f\"Case 1: {S.isValid('()')}\")\r\n",
    "print(f\"Case 2: {S.isValid('()[]{}')}\")\r\n",
    "print(f\"Case 3: {S.isValid('(]')}\")\r\n",
    "print(f\"Case 4: {S.isValid('([)]')}\")\r\n",
    "print(f\"Case 5: {S.isValid('{[]}')}\")"
   ],
   "outputs": [
    {
     "output_type": "stream",
     "name": "stdout",
     "text": [
      "Case 1: True\n",
      "Case 2: True\n",
      "Case 3: False\n",
      "Case 4: False\n",
      "Case 5: True\n"
     ]
    }
   ],
   "metadata": {}
  }
 ],
 "metadata": {
  "kernelspec": {
   "name": "python3",
   "display_name": "Python 3.7.7 64-bit ('spark': conda)"
  },
  "language_info": {
   "codemirror_mode": {
    "name": "ipython",
    "version": 3
   },
   "file_extension": ".py",
   "mimetype": "text/x-python",
   "name": "python",
   "nbconvert_exporter": "python",
   "pygments_lexer": "ipython3",
   "version": "3.7.7"
  },
  "interpreter": {
   "hash": "6ab137a14910b4ee65d0ea442464c53c8571f8241496146388c5db8c59915964"
  }
 },
 "nbformat": 4,
 "nbformat_minor": 4
}