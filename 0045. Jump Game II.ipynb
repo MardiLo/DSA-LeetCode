{
 "cells": [
  {
   "cell_type": "markdown",
   "metadata": {},
   "source": [
    "`# Array` `# Dynamic` `# Greedy`"
   ]
  },
  {
   "cell_type": "markdown",
   "metadata": {},
   "source": [
    "Given an array of non-negative integers `nums`, you are initially positioned at the first index of the array.\n",
    "\n",
    "Each element in the array represents your maximum jump length at that position.\n",
    "\n",
    "*Your goal is to reach the last index in the minimum number of jumps.*\n",
    "\n",
    "You can assume that you can always reach the last index."
   ]
  },
  {
   "cell_type": "markdown",
   "metadata": {},
   "source": [
    "**Example 1:**\n",
    "\n",
    "> Input: nums = [2,3,1,1,4]  \n",
    "Output: 2  \n",
    "Explanation: The minimum number of jumps to reach the last index is 2. Jump 1 step from index 0 to 1, then 3 steps to the last index.  \n",
    "\n",
    "**Example 2:**\n",
    "\n",
    "> Input: nums = [2,3,0,1,4]  \n",
    "Output: 2  "
   ]
  },
  {
   "cell_type": "code",
   "execution_count": 17,
   "metadata": {},
   "outputs": [],
   "source": [
    "class Solution:\n",
    "    \n",
    "    # Time Complexity： O(n)\n",
    "    # Space Complexity： O(1)      \n",
    "    def jump(self, nums: 'List[int]') -> 'int':\n",
    "        cnt, farthest = 0, 0\n",
    "        l, r = 0, 0\n",
    "\n",
    "        while r < len(nums) - 1:\n",
    "            for i in range(l, r+1):\n",
    "                farthest = max(farthest, i+nums[i])\n",
    "                \n",
    "            l = r + 1; r = farthest\n",
    "            cnt += 1\n",
    "        \n",
    "        return cnt\n"
   ]
  },
  {
   "cell_type": "code",
   "execution_count": 18,
   "metadata": {},
   "outputs": [
    {
     "name": "stdout",
     "output_type": "stream",
     "text": [
      "Case 1: 2\n",
      "Case 2: 2\n"
     ]
    }
   ],
   "source": [
    "# Test on Cases\n",
    "S = Solution()\n",
    "\n",
    "print(f\"Case 1: {S.jump([2,3,1,1,4])}\")\n",
    "print(f\"Case 2: {S.jump([2,3,0,1,4])}\")"
   ]
  },
  {
   "cell_type": "markdown",
   "metadata": {},
   "source": [
    "**Ref**\n",
    "1. [[Java/Python] DP, Greedy Solutions - Time: O(N), Space: O(1)](https://leetcode.com/problems/jump-game-ii/discuss/1192457/JavaPython-DP-Greedy-Solutions-Time%3A-O(N)-Space%3A-O(1))"
   ]
  }
 ],
 "metadata": {
  "interpreter": {
   "hash": "a1465031eeae0bed8511463faaa157119e7e6b7b1fbf4ef49fce31064cee3326"
  },
  "kernelspec": {
   "display_name": "Python 3.8.3 64-bit ('base': conda)",
   "name": "python3"
  },
  "language_info": {
   "codemirror_mode": {
    "name": "ipython",
    "version": 3
   },
   "file_extension": ".py",
   "mimetype": "text/x-python",
   "name": "python",
   "nbconvert_exporter": "python",
   "pygments_lexer": "ipython3",
   "version": "3.7.7"
  }
 },
 "nbformat": 4,
 "nbformat_minor": 4
}
