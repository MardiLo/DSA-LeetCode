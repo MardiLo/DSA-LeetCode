{
 "cells": [
  {
   "cell_type": "markdown",
   "metadata": {},
   "source": [
    "`# Array` `# Matrix`"
   ]
  },
  {
   "cell_type": "markdown",
   "metadata": {},
   "source": [
    "Given a square matrix `mat`, return the sum of the matrix diagonals.\n",
    "\n",
    "Only include the sum of all the elements on the primary diagonal and all the elements on the secondary diagonal that are not part of the primary diagonal."
   ]
  },
  {
   "cell_type": "markdown",
   "metadata": {},
   "source": [
    "**Example 1:**  \n",
    "![Image of leetcode 1572 problem example 1](https://assets.leetcode.com/uploads/2020/08/14/sample_1911.png)\n",
    "> Input: mat =   \n",
    "> [[1,2,3],  \n",
    "> &nbsp;[4,5,6],  \n",
    "> &nbsp;[7,8,9]]  \n",
    "> Output: 25  \n",
    "> Explanation: Diagonals sum: 1 + 5 + 9 + 3 + 7 = 25  \n",
    "> Notice that element mat[1][1] = 5 is counted only once.  \n",
    "\n",
    "**Example 2:**  \n",
    "\n",
    "> Input: mat =   \n",
    "> [[1,1,1,1],  \n",
    "> &nbsp;[1,1,1,1],  \n",
    "> &nbsp;[1,1,1,1],  \n",
    "> &nbsp;[1,1,1,1]]  \n",
    "> Output: 8\n",
    "\n",
    "**Example 3:** \n",
    "\n",
    "> Input: mat = [[5]]  \n",
    "> Output: 5"
   ]
  },
  {
   "cell_type": "code",
   "execution_count": 2,
   "metadata": {},
   "outputs": [],
   "source": [
    "class Solution:\n",
    "\n",
    "    # Time Complexity： O(n)\n",
    "    # Space Complexity： O(1)\n",
    "    def diagonalSum(self, mat: list[list[int]]) -> int:\n",
    "        return sum(row[l] + row[r] if l != (r := len(row)-1-l) else row[l] for l, row in enumerate(mat))"
   ]
  },
  {
   "cell_type": "code",
   "execution_count": 3,
   "metadata": {},
   "outputs": [
    {
     "name": "stdout",
     "output_type": "stream",
     "text": [
      "Case 1: 25\n",
      "Case 2: 8\n",
      "Case 3: 5\n"
     ]
    }
   ],
   "source": [
    "# Test on Cases\n",
    "S = Solution()\n",
    "\n",
    "print(f\"Case 1: {S.diagonalSum([[1,2,3],[4,5,6],[7,8,9]])}\")\n",
    "print(f\"Case 2: {S.diagonalSum([[1,1,1,1],[1,1,1,1],[1,1,1,1],[1,1,1,1]])}\")\n",
    "print(f\"Case 3: {S.diagonalSum([[5]])}\")"
   ]
  }
 ],
 "metadata": {
  "kernelspec": {
   "display_name": "Python 3 (ipykernel)",
   "language": "python",
   "name": "python3"
  },
  "language_info": {
   "codemirror_mode": {
    "name": "ipython",
    "version": 3
   },
   "file_extension": ".py",
   "mimetype": "text/x-python",
   "name": "python",
   "nbconvert_exporter": "python",
   "pygments_lexer": "ipython3",
   "version": "3.10.4"
  },
  "vscode": {
   "interpreter": {
    "hash": "21d8332eb27bea95342760850bd7426f517b6a483537194bbba87e10eeabf6ff"
   }
  }
 },
 "nbformat": 4,
 "nbformat_minor": 4
}
