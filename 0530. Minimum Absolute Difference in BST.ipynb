{
 "cells": [
  {
   "cell_type": "markdown",
   "metadata": {},
   "source": [
    "`# Binary Search Tree` `# Binary Tree` `# Breadth-First Search` `# Depth-First Search` `# Tree` "
   ]
  },
  {
   "cell_type": "markdown",
   "metadata": {},
   "source": [
    "Given the `root` of a Binary Search Tree (BST), return *the minimum absolute difference between the values of any two different nodes in the tree.*"
   ]
  },
  {
   "cell_type": "markdown",
   "metadata": {},
   "source": [
    "**Example 1:**  \n",
    "![Image of leetcode 0530 problem example 1](https://assets.leetcode.com/uploads/2021/02/05/bst1.jpg) \n",
    "> Input: root = [4,2,6,1,3]  \n",
    "> Output: 1  \n",
    "\n",
    "**Example 2**  \n",
    "![Image of leetcode 0530 problem example 2](https://assets.leetcode.com/uploads/2021/02/05/bst2.jpg) \n",
    "> Input: root = [1,0,48,null,null,12,49]  \n",
    "> Output: 1  "
   ]
  },
  {
   "cell_type": "code",
   "execution_count": 1,
   "metadata": {},
   "outputs": [],
   "source": [
    "class TreeNode:\n",
    "    def __init__(self, val=0, left=None, right=None):\n",
    "        self.val = val\n",
    "        self.left = left\n",
    "        self.right = right\n",
    "        \n",
    "class Solution:\n",
    "\n",
    "    # Time Complexity： O(n)\n",
    "    # Space Complexity： O(n)\n",
    "    def getMinimumDifference(self, root: TreeNode) -> int:\n",
    "        from itertools import pairwise\n",
    "\n",
    "        def inorderTraversal(root: TreeNode) -> list[int]:\n",
    "            return inorderTraversal(root.left) + [root.val] + inorderTraversal(root.right) if root else []\n",
    "\n",
    "        return min(abs(x-y) for x, y in pairwise(inorderTraversal(root)))"
   ]
  },
  {
   "cell_type": "code",
   "execution_count": 2,
   "metadata": {},
   "outputs": [
    {
     "name": "stdout",
     "output_type": "stream",
     "text": [
      "Case 1: 1\n",
      "Case 2: 1\n"
     ]
    }
   ],
   "source": [
    "# Test on Cases\n",
    "S = Solution()\n",
    "\n",
    "print(f\"Case 1: {S.getMinimumDifference(TreeNode(4, TreeNode(2, TreeNode(1), TreeNode(3)), TreeNode(6)))}\")\n",
    "print(f\"Case 2: {S.getMinimumDifference(TreeNode(1, TreeNode(0), TreeNode(48, TreeNode(12), TreeNode(49))))}\")"
   ]
  }
 ],
 "metadata": {
  "kernelspec": {
   "display_name": "leetcode",
   "language": "python",
   "name": "python3"
  },
  "language_info": {
   "codemirror_mode": {
    "name": "ipython",
    "version": 3
   },
   "file_extension": ".py",
   "mimetype": "text/x-python",
   "name": "python",
   "nbconvert_exporter": "python",
   "pygments_lexer": "ipython3",
   "version": "3.10.4"
  }
 },
 "nbformat": 4,
 "nbformat_minor": 4
}
