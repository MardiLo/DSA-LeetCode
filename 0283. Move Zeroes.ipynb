{
 "cells": [
  {
   "cell_type": "markdown",
   "source": [
    "`# Array` `# Two Pointers`"
   ],
   "metadata": {}
  },
  {
   "cell_type": "markdown",
   "source": [
    "Given an array `nums`, write *a function to move all* `0`'s *to the end of it while maintaining the relative order of the non-zero elements*."
   ],
   "metadata": {}
  },
  {
   "cell_type": "markdown",
   "source": [
    "**Example:**\n",
    "\n",
    "> Input: [0,1,0,3,12]  \n",
    "Output: [1,3,12,0,0]"
   ],
   "metadata": {}
  },
  {
   "cell_type": "code",
   "execution_count": 3,
   "source": [
    "class Solution:\r\n",
    "    \r\n",
    "    # Time Complexity： O(n)\r\n",
    "    # Space Complexity： O(1)\r\n",
    "    def moveZeroes(self, nums: 'List[int]') -> 'None':\r\n",
    "        \"\"\"\r\n",
    "        Do not return anything, modify nums in-place instead.\r\n",
    "        \"\"\"\r\n",
    "        zero = 0\r\n",
    "        \r\n",
    "        for i in range(len(nums)):\r\n",
    "            if nums[i] != 0:\r\n",
    "                nums[i], nums[zero] = nums[zero], nums[i]\r\n",
    "                zero += 1\r\n",
    "        return nums"
   ],
   "outputs": [],
   "metadata": {}
  },
  {
   "cell_type": "code",
   "execution_count": 4,
   "source": [
    "# Test on Cases\r\n",
    "S = Solution()\r\n",
    "\r\n",
    "print(f\"Case 1: {S.moveZeroes([0,1,0,3,12])}\")"
   ],
   "outputs": [
    {
     "output_type": "stream",
     "name": "stdout",
     "text": [
      "Case 1: [1, 3, 12, 0, 0]\n"
     ]
    }
   ],
   "metadata": {}
  }
 ],
 "metadata": {
  "kernelspec": {
   "display_name": "Python 3",
   "language": "python",
   "name": "python3"
  },
  "language_info": {
   "codemirror_mode": {
    "name": "ipython",
    "version": 3
   },
   "file_extension": ".py",
   "mimetype": "text/x-python",
   "name": "python",
   "nbconvert_exporter": "python",
   "pygments_lexer": "ipython3",
   "version": "3.7.7"
  }
 },
 "nbformat": 4,
 "nbformat_minor": 4
}