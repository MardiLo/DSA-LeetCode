{
 "cells": [
  {
   "cell_type": "markdown",
   "metadata": {},
   "source": [
    "`# String`"
   ]
  },
  {
   "cell_type": "markdown",
   "metadata": {},
   "source": [
    "*Implement the* `myAtoi(string s)` *function, which converts a string to a 32-bit signed integer* (similar to C/C++'s `atoi` function).\n",
    "\n",
    "The algorithm for `myAtoi(string s)` is as follows:\n",
    "\n",
    "1. Read in and ignore any leading whitespace.\n",
    "2. Check if the next character (if not already at the end of the string) is `'-'` or `'+'`. Read this character in if it is either. This determines if the final result is negative or positive respectively. Assume the result is positive if neither is present.\n",
    "3. Read in next the characters until the next non-digit charcter or the end of the input is reached. The rest of the string is ignored.\n",
    "4. Convert these digits into an integer (i.e. `\"123\"` -> `123`, `\"0032\"` -> `32`). If no digits were read, then the integer is `0`. Change the sign as necessary (from step 2).\n",
    "5. If the integer is out of the 32-bit signed integer range `[-2`<sup>`31`</sup>`, 2`<sup>`31`</sup> `- 1]`, then clamp the integer so that it remains in the range. Specifically, integers less than  `-2`<sup>`31`</sup> should be clamped to `-2`<sup>`31`</sup>, and integers greater than `2`<sup>`31`</sup> `- 1` should be clamped to `2`<sup>`31`</sup> `- 1`.\n",
    "6. Return the integer as the final result.\n",
    "Note:\n",
    "\n",
    "Only the space character `' '` is considered a whitespace character.  \n",
    "**Do not ignore** any characters other than the leading whitespace or the rest of the string after the digits."
   ]
  },
  {
   "cell_type": "markdown",
   "metadata": {},
   "source": [
    "**Example 1:**\n",
    "\n",
    "> Input: s = \"42\"  \n",
    "> Output: 42  \n",
    "> Explanation: The underlined characters are what is read in, the caret is the current reader position.  \n",
    "> Step 1: \"42\" (no characters read because there is no leading whitespace)  \n",
    "> Step 2: \"42\" (no characters read because there is neither a '-' nor '+')  \n",
    "> Step 3: \"42\" (\"42\" is read in)  \n",
    "> The parsed integer is 42.  \n",
    "> Since 42 is in the range [-2<sup>31</sup>, 2<sup>31</sup> - 1], the final result is 42.   \n",
    "\n",
    "**Example 2:**\n",
    "\n",
    "> Input: s = \"   -42\"  \n",
    "> Output: -42  \n",
    "> Explanation:  \n",
    "> Step 1: \"   -42\" (leading whitespace is read and ignored)  \n",
    "> Step 2: \"   -42\" ('-' is read, so the result should be negative)  \n",
    "> Step 3: \"   -42\" (\"42\" is read in)  \n",
    "> The parsed integer is -42.  \n",
    "> Since -42 is in the range [-2<sup>31</sup>, 2<sup>31</sup> - 1], the final result is -42.  \n",
    "\n",
    "**Example 3:**\n",
    "\n",
    "> Input: s = \"4193 with words\"  \n",
    "> Output: 4193  \n",
    "> Explanation:  \n",
    "> Step 1: \"4193 with words\" (no characters read because there is no leading whitespace)  \n",
    "> Step 2: \"4193 with words\" (no characters read because there is neither a '-' nor '+')  \n",
    "> Step 3: \"4193 with words\" (\"4193\" is read in; reading stops because the next character is a non-digit)  \n",
    "> The parsed integer is 4193.  \n",
    "> Since 4193 is in the range [-2<sup>31</sup>, 2<sup>31</sup> - 1], the final result is 4193.  \n",
    "\n",
    "**Example 4:**\n",
    "\n",
    "> Input: s = \"words and 987\"  \n",
    "> Output: 0  \n",
    "> Explanation:  \n",
    "> Step 1: \"words and 987\" (no characters read because there is no leading whitespace)  \n",
    "> Step 2: \"words and 987\" (no characters read because there is neither a '-' nor '+')  \n",
    "> Step 3: \"words and 987\" (reading stops immediately because there is a non-digit 'w')  \n",
    "> The parsed integer is 0 because no digits were read.  \n",
    "> Since 0 is in the range [-2<sup>31</sup>, 2<sup>31</sup> - 1], the final result is 0.  \n",
    "\n",
    "**Example 5:**\n",
    "\n",
    "> Input: s = \"-91283472332\"  \n",
    "> Output: -2147483648  \n",
    "> Explanation:  \n",
    "> Step 1: \"-91283472332\" (no characters read because there is no leading whitespace)  \n",
    "> Step 2: \"-91283472332\" ('-' is read, so the result should be negative)  \n",
    "> Step 3: \"-91283472332\" (\"91283472332\" is read in)  \n",
    "> The parsed integer is -91283472332.  \n",
    "> Since -91283472332 is less than the lower bound of the range [-2<sup>31</sup>, 2<sup>31</sup> - 1], the final result is clamped to -231 = -2147483648.  "
   ]
  },
  {
   "cell_type": "code",
   "execution_count": 1,
   "metadata": {},
   "outputs": [],
   "source": [
    "class Solution:\n",
    "    \n",
    "    # Time Complexity： O(n), for using the regex lib\n",
    "    # Space Complexity： O(n)\n",
    "    def myAtoi(self, s: str) -> int:\n",
    "        import re\n",
    "\n",
    "        # ^[\\+\\-]? : a string starts with 1 or 0 occurrences of the \"+\" or \"-\"\n",
    "        # [0-9]+   : followed with 1 or 1+ occurrences digit number\n",
    "        num = re.findall('^[\\+\\-]?[0-9]+', s.strip())\n",
    "        \n",
    "        return max(-2**31, min(int(num[0]), 2**31 - 1)) if num else 0"
   ]
  },
  {
   "cell_type": "code",
   "execution_count": 2,
   "metadata": {},
   "outputs": [
    {
     "name": "stdout",
     "output_type": "stream",
     "text": [
      "Case 1: 42\n",
      "Case 2: -42\n",
      "Case 3: 4193\n",
      "Case 4: 0\n",
      "Case 5: -2147483648\n"
     ]
    }
   ],
   "source": [
    "# Test on Cases\n",
    "S = Solution()\n",
    "\n",
    "print(f\"Case 1: {S.myAtoi('42')}\")\n",
    "print(f\"Case 2: {S.myAtoi('   -42')}\")\n",
    "print(f\"Case 3: {S.myAtoi('4193 with words')}\")\n",
    "print(f\"Case 4: {S.myAtoi('words and 987')}\")\n",
    "print(f\"Case 5: {S.myAtoi('-91283472332')}\")"
   ]
  }
 ],
 "metadata": {
  "kernelspec": {
   "display_name": "Python 3 (ipykernel)",
   "language": "python",
   "name": "python3"
  },
  "language_info": {
   "codemirror_mode": {
    "name": "ipython",
    "version": 3
   },
   "file_extension": ".py",
   "mimetype": "text/x-python",
   "name": "python",
   "nbconvert_exporter": "python",
   "pygments_lexer": "ipython3",
   "version": "3.10.4"
  },
  "vscode": {
   "interpreter": {
    "hash": "21d8332eb27bea95342760850bd7426f517b6a483537194bbba87e10eeabf6ff"
   }
  }
 },
 "nbformat": 4,
 "nbformat_minor": 4
}
