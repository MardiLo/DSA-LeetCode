{
 "cells": [
  {
   "cell_type": "markdown",
   "metadata": {},
   "source": [
    "`# Math`"
   ]
  },
  {
   "cell_type": "markdown",
   "metadata": {},
   "source": [
    "Given a column title as appear in an Excel sheet, return its corresponding column number.\n",
    "\n",
    "For example:\n",
    "> A -> 1  \n",
    "> B -> 2  \n",
    "> C -> 3  \n",
    "> ...  \n",
    "> Z -> 26  \n",
    "> AA -> 27  \n",
    "> AB -> 28   \n",
    "> ..."
   ]
  },
  {
   "cell_type": "markdown",
   "metadata": {},
   "source": [
    "**Example 1:**\n",
    "\n",
    "> Input: \"A\"  \n",
    "> Output: 1\n",
    "\n",
    "**Example 2:**\n",
    "\n",
    "> Input: \"AB\"  \n",
    "> Output: 28\n",
    "\n",
    "**Example 3:**\n",
    "\n",
    "> Input: \"ZY\"  \n",
    "> Output: 701"
   ]
  },
  {
   "cell_type": "code",
   "execution_count": 1,
   "metadata": {},
   "outputs": [],
   "source": [
    "class Solution:\n",
    "    \n",
    "    # Time Complexity： O(n)\n",
    "    # Space Complexity： O(1)\n",
    "    def titleToNumber(self, columnTitle: str) -> int:\n",
    "        res = 0\n",
    "        \n",
    "        for c in columnTitle:                       # another way: return sum((ord(c)-ord(\"A\")+1) * 26**(len(columnTitle)-i-1) for i, c in enumerate(columnTitle))\n",
    "            res = 26*res + (ord(c)-ord(\"A\")+1)\n",
    "            \n",
    "        return res          "
   ]
  },
  {
   "cell_type": "code",
   "execution_count": 2,
   "metadata": {},
   "outputs": [
    {
     "name": "stdout",
     "output_type": "stream",
     "text": [
      "Case 1: 1\n",
      "Case 2: 28\n",
      "Case 3: 701\n"
     ]
    }
   ],
   "source": [
    "# Test on Cases\n",
    "S = Solution()\n",
    "\n",
    "print(f\"Case 1: {S.titleToNumber('A')}\")\n",
    "print(f\"Case 2: {S.titleToNumber('AB')}\")\n",
    "print(f\"Case 3: {S.titleToNumber('ZY')}\")"
   ]
  }
 ],
 "metadata": {
  "kernelspec": {
   "display_name": "Python 3 (ipykernel)",
   "language": "python",
   "name": "python3"
  },
  "language_info": {
   "codemirror_mode": {
    "name": "ipython",
    "version": 3
   },
   "file_extension": ".py",
   "mimetype": "text/x-python",
   "name": "python",
   "nbconvert_exporter": "python",
   "pygments_lexer": "ipython3",
   "version": "3.10.4"
  },
  "vscode": {
   "interpreter": {
    "hash": "21d8332eb27bea95342760850bd7426f517b6a483537194bbba87e10eeabf6ff"
   }
  }
 },
 "nbformat": 4,
 "nbformat_minor": 4
}
