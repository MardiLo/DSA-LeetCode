{
 "cells": [
  {
   "cell_type": "markdown",
   "metadata": {},
   "source": [
    "`# Array` `# Hash Table` `# String`"
   ]
  },
  {
   "cell_type": "markdown",
   "metadata": {},
   "source": [
    "Given an array of strings `words`, return *the words that can be typed using letters of the alphabet on only one row of American keyboard like the image below.*\n",
    "\n",
    "In the **American keyboard**:\n",
    "\n",
    "- the first row consists of the characters `\"qwertyuiop\"`,  \n",
    "- the second row consists of the characters `\"asdfghjkl\"`, and  \n",
    "- the third row consists of the characters `\"zxcvbnm\"`.\n",
    "\n",
    "![Image of leetcode 0500 problem](https://assets.leetcode.com/uploads/2018/10/12/keyboard.png)"
   ]
  },
  {
   "cell_type": "markdown",
   "metadata": {},
   "source": [
    "**Example 1:**\n",
    "\n",
    "> Input: words = [\"Hello\",\"Alaska\",\"Dad\",\"Peace\"]  \n",
    ">  Output: [\"Alaska\",\"Dad\"]  \n",
    "\n",
    "**Example 2**\n",
    "\n",
    "> Input: words = [\"omk\"]  \n",
    "> Output: []  \n",
    "\n",
    "**Example 3**\n",
    "\n",
    "> Input: words = [\"adsdf\",\"sfd\"]  \n",
    "> Output: [\"adsdf\",\"sfd\"] "
   ]
  },
  {
   "cell_type": "code",
   "execution_count": 1,
   "metadata": {},
   "outputs": [],
   "source": [
    "class Solution:\n",
    "    \n",
    "    # Time Complexity： O(mn), where m is the length of a word and n is the length od words list\n",
    "    # Space Complexity： O(m)\n",
    "    def findWords(self, words: list[str]) -> list[str]:\n",
    "        line1, line2, line3 = set('qwertyuiopQWERTYUIOP'), set('asdfghjklASDFGHJKL'), set('zxcvbnmZXCVBNM')\n",
    "        \n",
    "        return [word for word in words if (w := set(word)) <= line1 or w <= line2 or w <= line3]"
   ]
  },
  {
   "cell_type": "code",
   "execution_count": 2,
   "metadata": {},
   "outputs": [
    {
     "name": "stdout",
     "output_type": "stream",
     "text": [
      "Case 1: ['Alaska', 'Dad']\n",
      "Case 2: []\n",
      "Case 3: ['adsdf', 'sfd']\n"
     ]
    }
   ],
   "source": [
    "# Test on Cases\n",
    "S = Solution()\n",
    "\n",
    "print(f\"Case 1: {S.findWords(['Hello','Alaska','Dad','Peace'])}\")\n",
    "print(f\"Case 2: {S.findWords(['omk'])}\")\n",
    "print(f\"Case 3: {S.findWords(['adsdf','sfd'])}\")"
   ]
  }
 ],
 "metadata": {
  "kernelspec": {
   "display_name": "Python 3 (ipykernel)",
   "language": "python",
   "name": "python3"
  },
  "language_info": {
   "codemirror_mode": {
    "name": "ipython",
    "version": 3
   },
   "file_extension": ".py",
   "mimetype": "text/x-python",
   "name": "python",
   "nbconvert_exporter": "python",
   "pygments_lexer": "ipython3",
   "version": "3.11.9"
  },
  "vscode": {
   "interpreter": {
    "hash": "21d8332eb27bea95342760850bd7426f517b6a483537194bbba87e10eeabf6ff"
   }
  }
 },
 "nbformat": 4,
 "nbformat_minor": 4
}
