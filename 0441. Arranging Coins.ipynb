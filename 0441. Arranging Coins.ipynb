{
 "cells": [
  {
   "cell_type": "markdown",
   "metadata": {},
   "source": [
    "`# Binary Search` `# Math`"
   ]
  },
  {
   "cell_type": "markdown",
   "metadata": {},
   "source": [
    "You have `n` coins and you want to build a staircase with these coins. The staircase consists of `k` rows where the `i`<sup>`th`</sup> row has exactly `i` coins. The last row of the staircase **may be** incomplete.\n",
    "\n",
    "Given the integer `n`, return *the number of **complete** rows of the staircase you will build.*"
   ]
  },
  {
   "cell_type": "markdown",
   "metadata": {},
   "source": [
    "**Example 1:**  \n",
    "![Image of leetcode 0441 problem example 1](https://assets.leetcode.com/uploads/2021/04/09/arrangecoins1-grid.jpg)\n",
    "> Input: n = 5  \n",
    "> Output: 2  \n",
    "> Explanation: Because the 3rd row is incomplete, we return 2.\n",
    "\n",
    "**Example 2:**  \n",
    "![Image of leetcode 0441 problem example 2](https://assets.leetcode.com/uploads/2021/04/09/arrangecoins2-grid.jpg)\n",
    "> Input: n = 8  \n",
    "> Output: 3  \n",
    "> Explanation: Because the 4th row is incomplete, we return 3."
   ]
  },
  {
   "cell_type": "code",
   "execution_count": 1,
   "metadata": {},
   "outputs": [],
   "source": [
    "class Solution:\n",
    "    \n",
    "    # Time Complexity： O(1)\n",
    "    # Space Complexity： O(1)     \n",
    "    def arrangeCoins(self, n: int) -> int:\n",
    "        \"\"\"\n",
    "        The positive root of equation: a*x^2 + b*x - 2n = 0 is (-b + sqrt(b^2 - 4ac)) / 2\n",
    "        \"\"\"\n",
    "        return int((-1 + (1+8*n) ** 0.5) // 2)"
   ]
  },
  {
   "cell_type": "code",
   "execution_count": 2,
   "metadata": {},
   "outputs": [
    {
     "name": "stdout",
     "output_type": "stream",
     "text": [
      "Case 1: 2\n",
      "Case 2: 3\n"
     ]
    }
   ],
   "source": [
    "# Test on Cases\n",
    "S = Solution()\n",
    "\n",
    "print(f\"Case 1: {S.arrangeCoins(5)}\")\n",
    "print(f\"Case 2: {S.arrangeCoins(8)}\")"
   ]
  }
 ],
 "metadata": {
  "kernelspec": {
   "display_name": "Python 3 (ipykernel)",
   "language": "python",
   "name": "python3"
  },
  "language_info": {
   "codemirror_mode": {
    "name": "ipython",
    "version": 3
   },
   "file_extension": ".py",
   "mimetype": "text/x-python",
   "name": "python",
   "nbconvert_exporter": "python",
   "pygments_lexer": "ipython3",
   "version": "3.11.9"
  },
  "vscode": {
   "interpreter": {
    "hash": "21d8332eb27bea95342760850bd7426f517b6a483537194bbba87e10eeabf6ff"
   }
  }
 },
 "nbformat": 4,
 "nbformat_minor": 4
}
