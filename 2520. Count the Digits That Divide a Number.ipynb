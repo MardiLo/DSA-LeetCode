{
 "cells": [
  {
   "cell_type": "markdown",
   "metadata": {},
   "source": [
    "`# Math`"
   ]
  },
  {
   "cell_type": "markdown",
   "metadata": {},
   "source": [
    "Given an integer `num`, return *the number of digits in* `num` *that divide* `num`.\n",
    "\n",
    "An integer `val` divides `nums` if `nums % val == 0`."
   ]
  },
  {
   "cell_type": "markdown",
   "metadata": {},
   "source": [
    "**Example 1:**\n",
    "\n",
    "> Input: num = 7  \n",
    "> Output: 1  \n",
    "> Explanation: 7 divides itself, hence the answer is 1.\n",
    "\n",
    "**Example 2:**\n",
    "\n",
    "> Input: num = 121  \n",
    "> Output: 2  \n",
    "> Explanation: 121 is divisible by 1, but not 2. Since 1 occurs twice as a digit, we return 2.\n",
    "\n",
    "**Example 3:**\n",
    "\n",
    "> Input: num = 1248  \n",
    "> Output: 4  \n",
    "> Explanation: 1248 is divisible by all of its digits, hence the answer is 4."
   ]
  },
  {
   "cell_type": "code",
   "execution_count": 3,
   "metadata": {},
   "outputs": [],
   "source": [
    "class Solution:\n",
    "\n",
    "    # Time Complexity： O(n), where n is the digits of num\n",
    "    # Space Complexity： O(1)\n",
    "    def countDigits(self, num: int) -> int:\n",
    "        return sum(not num % int(digit) for digit in str(num))"
   ]
  },
  {
   "cell_type": "code",
   "execution_count": 4,
   "metadata": {},
   "outputs": [
    {
     "name": "stdout",
     "output_type": "stream",
     "text": [
      "Case 1: 1\n",
      "Case 2: 2\n",
      "Case 3: 4\n"
     ]
    }
   ],
   "source": [
    "# Test on Cases\n",
    "S = Solution()\n",
    "\n",
    "print(f\"Case 1: {S.countDigits(7)}\")\n",
    "print(f\"Case 2: {S.countDigits(121)}\")\n",
    "print(f\"Case 3: {S.countDigits(1248)}\")"
   ]
  }
 ],
 "metadata": {
  "kernelspec": {
   "display_name": "Python 3 (ipykernel)",
   "language": "python",
   "name": "python3"
  },
  "language_info": {
   "codemirror_mode": {
    "name": "ipython",
    "version": 3
   },
   "file_extension": ".py",
   "mimetype": "text/x-python",
   "name": "python",
   "nbconvert_exporter": "python",
   "pygments_lexer": "ipython3",
   "version": "3.10.4"
  },
  "vscode": {
   "interpreter": {
    "hash": "21d8332eb27bea95342760850bd7426f517b6a483537194bbba87e10eeabf6ff"
   }
  }
 },
 "nbformat": 4,
 "nbformat_minor": 4
}
