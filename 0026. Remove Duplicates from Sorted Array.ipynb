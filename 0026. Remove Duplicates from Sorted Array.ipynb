{
 "cells": [
  {
   "cell_type": "markdown",
   "source": [
    "`# Array` `# Two Pointers`"
   ],
   "metadata": {}
  },
  {
   "cell_type": "markdown",
   "source": [
    "Given an integer array `nums` sorted in **non-decreasing order**, remove the duplicates **in-place** such that each unique element appears only **once**. The **relative order** of the elements should be kept the **same**.\r\n",
    "\r\n",
    "Since it is impossible to change the length of the array in some languages, you must instead have the result be placed in the **first part** of the array `nums`. More formally, if there are `k` elements after removing the duplicates, then the first `k` elements of `nums` should hold the final result. It does not matter what you leave beyond the first `k` elements.\r\n",
    "\r\n",
    "Return `k` *after placing the final result in the first* `k` *slots of* `nums`.\r\n",
    "\r\n",
    "**Do not** allocate extra space for another array. You must do this by **modifying the input array in-place** with **O(1)** extra memory.\r\n",
    "\r\n",
    "Custom Judge:\r\n",
    "\r\n",
    "The judge will test your solution with the following code:\r\n",
    "\r\n",
    "``` cpp\r\n",
    "int[] nums = [...]; // Input array\r\n",
    "int[] expectedNums = [...]; // The expected answer with correct length\r\n",
    "\r\n",
    "int k = removeDuplicates(nums); // Calls your implementation\r\n",
    "\r\n",
    "assert k == expectedNums.length;\r\n",
    "for (int i = 0; i < k; i++) {\r\n",
    "    assert nums[i] == expectedNums[i];\r\n",
    "}\r\n",
    "```\r\n",
    "If all assertions pass, then your solution will be accepted.\r\n"
   ],
   "metadata": {}
  },
  {
   "cell_type": "markdown",
   "source": [
    "**Example 1:**\r\n",
    "\r\n",
    "> Input: nums = [1,1,2]  \r\n",
    "Output: 2, nums = [1,2,_]  \r\n",
    "Explanation: Your function should return k = 2, with the first two elements of nums being 1 and 2 respectively.  \r\n",
    "It does not matter what you leave beyond the returned k (hence they are underscores).  \r\n",
    "\r\n",
    "**Example 2:**\r\n",
    "\r\n",
    "> Input: nums = [0,0,1,1,1,2,2,3,3,4]  \r\n",
    "Output: 5, nums = [0,1,2,3,4,_,_,_,_,_]  \r\n",
    "Explanation: Your function should return k = 5, with the first five elements of nums being 0, 1, 2, 3, and 4 respectively.  \r\n",
    "It does not matter what you leave beyond the returned k (hence they are underscores).  "
   ],
   "metadata": {}
  },
  {
   "cell_type": "code",
   "execution_count": 1,
   "source": [
    "class Solution:\r\n",
    "    \r\n",
    "    # Time Complexity： O(n)\r\n",
    "    # Space Complexity： O(1)\r\n",
    "    def removeDuplicates(self, nums: 'List[int]') -> 'int':\r\n",
    "        if not nums: return 0\r\n",
    "\r\n",
    "        slow = 0                            # SC: O(1)\r\n",
    "        \r\n",
    "        for fast in range(1, len(nums)):    # TC: O(n)\r\n",
    "            if nums[slow] != nums[fast]:\r\n",
    "                nums[slow+1] = nums[fast]\r\n",
    "                slow += 1\r\n",
    "                \r\n",
    "        return slow + 1"
   ],
   "outputs": [],
   "metadata": {}
  },
  {
   "cell_type": "code",
   "execution_count": 2,
   "source": [
    "# Test on Cases\r\n",
    "S = Solution()\r\n",
    "\r\n",
    "print(f\"Case 1: {S.removeDuplicates([1,1,2])}\")\r\n",
    "print(f\"Case 2: {S.removeDuplicates([0,0,1,1,1,2,2,3,3,4])}\")"
   ],
   "outputs": [
    {
     "output_type": "stream",
     "name": "stdout",
     "text": [
      "Case 1: 2\n",
      "Case 2: 5\n"
     ]
    }
   ],
   "metadata": {}
  }
 ],
 "metadata": {
  "kernelspec": {
   "name": "python3",
   "display_name": "Python 3.7.7 64-bit ('spark': conda)"
  },
  "language_info": {
   "codemirror_mode": {
    "name": "ipython",
    "version": 3
   },
   "file_extension": ".py",
   "mimetype": "text/x-python",
   "name": "python",
   "nbconvert_exporter": "python",
   "pygments_lexer": "ipython3",
   "version": "3.7.7"
  },
  "interpreter": {
   "hash": "6ab137a14910b4ee65d0ea442464c53c8571f8241496146388c5db8c59915964"
  }
 },
 "nbformat": 4,
 "nbformat_minor": 4
}