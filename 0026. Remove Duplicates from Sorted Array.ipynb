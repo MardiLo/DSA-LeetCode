{
 "cells": [
  {
   "cell_type": "markdown",
   "metadata": {},
   "source": [
    "`# Array` `# Two Pointers`"
   ]
  },
  {
   "cell_type": "markdown",
   "metadata": {},
   "source": [
    "Given an integer array `nums` sorted in **non-decreasing order**, remove the duplicates **in-place** such that each unique element appears only **once**. The **relative order** of the elements should be kept the **same**.\n",
    "\n",
    "Since it is impossible to change the length of the array in some languages, you must instead have the result be placed in the **first part** of the array `nums`. More formally, if there are `k` elements after removing the duplicates, then the first `k` elements of `nums` should hold the final result. It does not matter what you leave beyond the first `k` elements.\n",
    "\n",
    "Return `k` *after placing the final result in the first* `k` *slots of* `nums`.\n",
    "\n",
    "**Do not** allocate extra space for another array. You must do this by **modifying the input array in-place** with **O(1)** extra memory.\n",
    "\n",
    "Custom Judge:\n",
    "\n",
    "The judge will test your solution with the following code:\n",
    "\n",
    "``` cpp\n",
    "int[] nums = [...]; // Input array\n",
    "int[] expectedNums = [...]; // The expected answer with correct length\n",
    "\n",
    "int k = removeDuplicates(nums); // Calls your implementation\n",
    "\n",
    "assert k == expectedNums.length;\n",
    "for (int i = 0; i < k; i++) {\n",
    "    assert nums[i] == expectedNums[i];\n",
    "}\n",
    "```\n",
    "If all assertions pass, then your solution will be accepted.\n"
   ]
  },
  {
   "cell_type": "markdown",
   "metadata": {},
   "source": [
    "**Example 1:**\n",
    "\n",
    "> Input: nums = [1,1,2]  \n",
    "> Output: 2, nums = [1,2, _]  \n",
    "> Explanation: Your function should return k = 2, with the first two elements of nums being 1 and 2 respectively.  \n",
    "> It does not matter what you leave beyond the returned k (hence they are underscores).  \n",
    "\n",
    "**Example 2:**\n",
    "\n",
    "> Input: nums = [0,0,1,1,1,2,2,3,3,4]  \n",
    "> Output: 5, nums = [0,1,2,3,4, _, _, _, _, _]  \n",
    "> Explanation: Your function should return k = 5, with the first five elements of nums being 0, 1, 2, 3, and 4 respectively.  \n",
    "> It does not matter what you leave beyond the returned k (hence they are underscores).  "
   ]
  },
  {
   "cell_type": "code",
   "execution_count": 1,
   "metadata": {},
   "outputs": [],
   "source": [
    "class Solution:\n",
    "    \n",
    "    # Time Complexity： O(n)\n",
    "    # Space Complexity： O(1)\n",
    "    def removeDuplicates(self, nums: list[int]) -> int:\n",
    "        slow = 0 \n",
    "        \n",
    "        for fast in range(len(nums)):\n",
    "            if nums[fast] != nums[slow]: \n",
    "                nums[slow+1] = nums[fast]\n",
    "                slow += 1\n",
    "                \n",
    "        return slow + 1"
   ]
  },
  {
   "cell_type": "code",
   "execution_count": 2,
   "metadata": {},
   "outputs": [
    {
     "name": "stdout",
     "output_type": "stream",
     "text": [
      "Case 1: 2\n",
      "Case 2: 5\n"
     ]
    }
   ],
   "source": [
    "# Test on Cases\n",
    "S = Solution()\n",
    "\n",
    "print(f\"Case 1: {S.removeDuplicates([1,1,2])}\")\n",
    "print(f\"Case 2: {S.removeDuplicates([0,0,1,1,1,2,2,3,3,4])}\")"
   ]
  }
 ],
 "metadata": {
  "kernelspec": {
   "display_name": "Python 3 (ipykernel)",
   "language": "python",
   "name": "python3"
  },
  "language_info": {
   "codemirror_mode": {
    "name": "ipython",
    "version": 3
   },
   "file_extension": ".py",
   "mimetype": "text/x-python",
   "name": "python",
   "nbconvert_exporter": "python",
   "pygments_lexer": "ipython3",
   "version": "3.10.4"
  },
  "vscode": {
   "interpreter": {
    "hash": "21d8332eb27bea95342760850bd7426f517b6a483537194bbba87e10eeabf6ff"
   }
  }
 },
 "nbformat": 4,
 "nbformat_minor": 4
}
