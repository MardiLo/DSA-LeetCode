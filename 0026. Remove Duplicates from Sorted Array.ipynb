{
 "cells": [
  {
   "cell_type": "markdown",
   "metadata": {},
   "source": [
    "`# Array` `# Two Pointers`"
   ]
  },
  {
   "cell_type": "markdown",
   "metadata": {},
   "source": [
    "Given a sorted array `nums`, remove the duplicates **in-place** such that each element appears only once and returns the new length.\n",
    "\n",
    "Do not allocate extra space for another array, you must do this by **modifying the input array in-place** with `O(1)` extra memory.\n",
    "\n",
    "Clarification:\n",
    "\n",
    "Confused why the returned value is an integer but your answer is an array?\n",
    "\n",
    "Note that the input array is passed in by **reference**, which means a modification to the input array will be known to the caller as well.\n",
    "\n",
    "Internally you can think of this:\n",
    "\n",
    "> // nums is passed in by reference. (i.e., without making a copy)  \n",
    "**len = removeDuplicates(nums);**  \n",
    "<br>\n",
    "// any modification to nums in your function would be known by the caller.  \n",
    "// using the length returned by your function, it prints the first len elements.  \n",
    "**for i in range(len):**  \n",
    "    **print(nums[i])**  \n"
   ]
  },
  {
   "cell_type": "markdown",
   "metadata": {},
   "source": [
    "**Example 1:**\n",
    "\n",
    "> Input: nums = [1,1,2]  \n",
    "Output: 2, nums = [1,2]  \n",
    "\n",
    "**Example 2:**\n",
    "\n",
    "> Input: nums = [0,0,1,1,1,2,2,3,3,4]  \n",
    "Output: 5, nums = [0,1,2,3,4]"
   ]
  },
  {
   "cell_type": "code",
   "execution_count": 3,
   "metadata": {},
   "outputs": [],
   "source": [
    "class Solution:\n",
    "    \n",
    "    # Time Complexity： O(n)\n",
    "    # Space Complexity： O(1)\n",
    "    def removeDuplicates(self, nums: 'List[int]') -> 'int':\n",
    "        slow = 0\n",
    "        \n",
    "        for fast in range(1, len(nums)):\n",
    "            if nums[slow] != nums[fast]:\n",
    "                nums[slow+1] = nums[fast]\n",
    "                slow += 1\n",
    "                \n",
    "        return slow + 1"
   ]
  },
  {
   "cell_type": "code",
   "execution_count": 4,
   "metadata": {},
   "outputs": [
    {
     "name": "stdout",
     "output_type": "stream",
     "text": [
      "Case 1: 2\n",
      "Case 2: 5\n"
     ]
    }
   ],
   "source": [
    "# Test on Cases\n",
    "S = Solution()\n",
    "\n",
    "print(f\"Case 1: {S.removeDuplicates([1,1,2])}\")\n",
    "print(f\"Case 2: {S.removeDuplicates([0,0,1,1,1,2,2,3,3,4])}\")"
   ]
  },
  {
   "cell_type": "code",
   "execution_count": null,
   "metadata": {},
   "outputs": [],
   "source": []
  }
 ],
 "metadata": {
  "kernelspec": {
   "display_name": "Python 3",
   "language": "python",
   "name": "python3"
  },
  "language_info": {
   "codemirror_mode": {
    "name": "ipython",
    "version": 3
   },
   "file_extension": ".py",
   "mimetype": "text/x-python",
   "name": "python",
   "nbconvert_exporter": "python",
   "pygments_lexer": "ipython3",
   "version": "3.7.7"
  }
 },
 "nbformat": 4,
 "nbformat_minor": 4
}
