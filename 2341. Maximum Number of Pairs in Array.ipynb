{
 "cells": [
  {
   "cell_type": "markdown",
   "metadata": {},
   "source": [
    "`# Array` `# Counting` `# Hash Table`"
   ]
  },
  {
   "attachments": {},
   "cell_type": "markdown",
   "metadata": {},
   "source": [
    "You are given a **0-indexed** integer array `nums`. In one operation, you may do the following:\n",
    "\n",
    "- Choose **two** integers in `nums` that are **equal**.\n",
    "- Remove both integers from `nums`, forming a **pair**.\n",
    "\n",
    "The operation is done on `nums` as many times as possible.\n",
    "\n",
    "Return *a **0-indexed** integer array answer of size* `2` *where* `answer[0]` *is the number of pairs that are formed and* `answer[1]` *is the number of leftover integers in* `nums` *after doing the operation as many times as possible.*"
   ]
  },
  {
   "cell_type": "markdown",
   "metadata": {},
   "source": [
    "**Example 1:**\n",
    "\n",
    "> Input: nums = [1,3,2,1,3,2,2]  \n",
    "> Output: [3,1]  \n",
    "> Explanation:  \n",
    "> Form a pair with nums[0] and nums[3] and remove them from nums. Now, nums = [3,2,3,2,2].  \n",
    "> Form a pair with nums[0] and nums[2] and remove them from nums. Now, nums = [2,2,2].  \n",
    "> Form a pair with nums[0] and nums[1] and remove them from nums. Now, nums = [2].  \n",
    "> No more pairs can be formed. A total of 3 pairs have been formed, and there is 1 number leftover in nums.\n",
    "\n",
    "**Example 2:**\n",
    "\n",
    "> Input: nums = [1,1]  \n",
    "> Output: [1,0]  \n",
    "> Explanation: Form a pair with nums[0] and nums[1] and remove them from nums. Now, nums = [].  \n",
    "> No more pairs can be formed. A total of 1 pair has been formed, and there are 0 numbers leftover in nums.\n",
    "\n",
    "**Example 3:**\n",
    "\n",
    "> Input: nums = [0]  \n",
    "> Output: [0,1]  \n",
    "> Explanation: No pairs can be formed, and there is 1 number leftover in nums."
   ]
  },
  {
   "cell_type": "code",
   "execution_count": 9,
   "metadata": {},
   "outputs": [],
   "source": [
    "class Solution:\n",
    "    \n",
    "    # Time Complexity： O(n)\n",
    "    # Space Complexity： O(n)\n",
    "    def numberOfPairs(self, nums: list[int]) -> list[int]:\n",
    "        from collections import Counter\n",
    "        from functools import reduce\n",
    "        \n",
    "        return list(reduce(lambda x, y: (x[0] + y//2, x[1] + y%2), Counter(nums).values(), (0, 0)))"
   ]
  },
  {
   "cell_type": "code",
   "execution_count": 10,
   "metadata": {},
   "outputs": [
    {
     "name": "stdout",
     "output_type": "stream",
     "text": [
      "Case 1: [3, 1]\n",
      "Case 2: [1, 0]\n",
      "Case 3: [0, 1]\n"
     ]
    }
   ],
   "source": [
    "# Test on Cases\n",
    "S = Solution()\n",
    "\n",
    "print(f\"Case 1: {S.numberOfPairs([1,3,2,1,3,2,2])}\")\n",
    "print(f\"Case 2: {S.numberOfPairs([1,1])}\")\n",
    "print(f\"Case 3: {S.numberOfPairs([0])}\")"
   ]
  }
 ],
 "metadata": {
  "kernelspec": {
   "display_name": "Python 3 (ipykernel)",
   "language": "python",
   "name": "python3"
  },
  "language_info": {
   "codemirror_mode": {
    "name": "ipython",
    "version": 3
   },
   "file_extension": ".py",
   "mimetype": "text/x-python",
   "name": "python",
   "nbconvert_exporter": "python",
   "pygments_lexer": "ipython3",
   "version": "3.10.4 | packaged by conda-forge | (main, Mar 30 2022, 08:38:02) [MSC v.1916 64 bit (AMD64)]"
  },
  "vscode": {
   "interpreter": {
    "hash": "21d8332eb27bea95342760850bd7426f517b6a483537194bbba87e10eeabf6ff"
   }
  }
 },
 "nbformat": 4,
 "nbformat_minor": 4
}
