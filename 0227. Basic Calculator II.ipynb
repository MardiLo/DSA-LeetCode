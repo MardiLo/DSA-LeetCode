{
 "cells": [
  {
   "cell_type": "markdown",
   "metadata": {},
   "source": [
    "`# Math` `# Stack` `# String`"
   ]
  },
  {
   "cell_type": "markdown",
   "metadata": {},
   "source": [
    "Given a string `s` which represents an expression, evaluate this expression and return *its value*. \n",
    "\n",
    "The integer division should **truncate toward zero**.\n",
    "\n",
    "You may assume that the given expression is **always valid**. All intermediate results will be in the range of `[-231, 231 - 1]`.\n",
    "\n",
    "Note: You are **not allowed** to use any built-in function which evaluates strings as mathematical expressions, such as `eval()`."
   ]
  },
  {
   "cell_type": "markdown",
   "metadata": {},
   "source": [
    "**Example 1:**\n",
    "\n",
    "> Input: s = \"3+2*2\"  \n",
    "Output: 7  \n",
    "\n",
    "**Example 2:**\n",
    "\n",
    "> Input: s = \" 3/2 \"  \n",
    "Output: 1  \n",
    "\n",
    "**Example 3:**\n",
    "\n",
    "> Input: s = \" 3+5 / 2 \"  \n",
    "Output: 5  "
   ]
  },
  {
   "cell_type": "code",
   "execution_count": 3,
   "metadata": {},
   "outputs": [],
   "source": [
    "class Solution:\n",
    "    \n",
    "    # Time Complexity： O(n)\n",
    "    # Space Complexity： O(n)\n",
    "    def calculate(self, s: 'str') -> 'int':\n",
    "        s, operators, num, stack, preOp = s+'+', set(['+', '-', '*', '/']), 0, [], '+'\n",
    "        \n",
    "        for c in s:\n",
    "            if c.isdigit():\n",
    "                num = num * 10 + int(c)    # for numbers larger than 9\n",
    "            elif c in operators:\n",
    "                if preOp == '+': stack.append(num)\n",
    "                elif preOp == '-': stack.append(-num)\n",
    "                elif preOp == '*': stack.append(stack.pop()*num)\n",
    "                elif preOp == '/': stack.append(int(stack.pop()/num))\n",
    "\n",
    "                num, preOp = 0, c\n",
    "        \n",
    "        return sum(stack)"
   ]
  },
  {
   "cell_type": "code",
   "execution_count": 4,
   "metadata": {},
   "outputs": [
    {
     "name": "stdout",
     "output_type": "stream",
     "text": [
      "Case 1: 7\n",
      "Case 2: 1\n",
      "Case 3: 5\n"
     ]
    }
   ],
   "source": [
    "# Test on Cases\n",
    "S = Solution()\n",
    "\n",
    "print(f\"Case 1: {S.calculate('3+2*2')}\")\n",
    "print(f\"Case 2: {S.calculate(' 3/2 ')}\")\n",
    "print(f\"Case 3: {S.calculate(' 3+5 / 2 ')}\")"
   ]
  },
  {
   "cell_type": "markdown",
   "metadata": {},
   "source": [
    "**Ref**\n",
    "1. [Python short solution with stack.](https://leetcode.com/problems/basic-calculator-ii/discuss/63076/Python-short-solution-with-stack.)"
   ]
  }
 ],
 "metadata": {
  "interpreter": {
   "hash": "ba9359eadc070f03edd6183a4af22ffcaf60363daf070b8f22fbedba67666dbe"
  },
  "kernelspec": {
   "display_name": "Python 3.7.7 64-bit ('flask': conda)",
   "name": "python3"
  },
  "language_info": {
   "codemirror_mode": {
    "name": "ipython",
    "version": 3
   },
   "file_extension": ".py",
   "mimetype": "text/x-python",
   "name": "python",
   "nbconvert_exporter": "python",
   "pygments_lexer": "ipython3",
   "version": "3.7.7"
  }
 },
 "nbformat": 4,
 "nbformat_minor": 4
}
