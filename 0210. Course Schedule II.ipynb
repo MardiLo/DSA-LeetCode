{
 "cells": [
  {
   "cell_type": "markdown",
   "metadata": {},
   "source": [
    "`# Breadth-First Search` `# Depth-First Search` `# Graph` `# Topological Sort`"
   ]
  },
  {
   "cell_type": "markdown",
   "metadata": {},
   "source": [
    "There are a total of `numCourses` courses you have to take, labeled from `0` to `numCourses - 1`. You are given an array prerequisites where `prerequisites[i] = [a`<sub>`i`</sub>`, b`<sub>`i`</sub>`]` indicates that you must take cours `b`<sub>`i`</sub> first if you want to take course `a`<sub>`i`</sub>.\n",
    "\n",
    "For example, the pair `[0, 1]`, indicates that to take course `0` you have to first take course `1`.\n",
    "\n",
    "Return *the ordering of courses you should take to finish all courses. If there are many valid answers,* return ***any*** *of them*. *If it is impossible to finish all courses*, return *an* ***empty array***."
   ]
  },
  {
   "cell_type": "markdown",
   "metadata": {},
   "source": [
    "**Example 1:**\n",
    "\n",
    "> Input: numCourses = 2, prerequisites = [[1,0]]  \n",
    "Output: [0,1]  \n",
    "Explanation: There are a total of 2 courses to take. To take course 1 you should have finished course 0. So the correct course order is [0,1].  \n",
    "\n",
    "**Example 2:**\n",
    "\n",
    "> Input: numCourses = 4, prerequisites = [[1,0],[2,0],[3,1],[3,2]]  \n",
    "Output: [0,2,1,3]  \n",
    "Explanation: There are a total of 4 courses to take. To take course 3 you should have finished both courses 1 and 2. Both courses 1 and 2 should be taken after you finished course 0.  \n",
    "So one correct course order is [0,1,2,3]. Another correct ordering is [0,2,1,3].  \n",
    "\n",
    "**Example 3:**\n",
    "\n",
    "> Input: numCourses = 1, prerequisites = []  \n",
    "Output: [0]  "
   ]
  },
  {
   "cell_type": "code",
   "execution_count": 1,
   "metadata": {},
   "outputs": [],
   "source": [
    "class Solution:\n",
    "    \n",
    "    # Time Complexity： O(E+V), where E is number of edges and V is number of vertices\n",
    "    # Space Complexity： O(E+V)\n",
    "    def findOrder(self, numCourses: int, prerequisites: 'List[List[int]]') -> 'List[int]':\n",
    "        from collections import deque, defaultdict\n",
    "\n",
    "        edges = defaultdict(list)\n",
    "        degrees = defaultdict(int)\n",
    "        for course, preCourse in prerequisites:\n",
    "            edges[preCourse].append(course)\n",
    "            degrees[course] += 1\n",
    "\n",
    "        res = []\n",
    "        queue = deque(course for course in range(numCourses) if not degrees[course])\n",
    "        while queue:\n",
    "            preCourse = queue.popleft()\n",
    "            res.append(preCourse)\n",
    "\n",
    "            for course in edges[preCourse]:\n",
    "                degrees[course] -= 1\n",
    "                if not degrees[course]: queue.append(course)\n",
    "\n",
    "        for course in degrees:\n",
    "            if degrees[course]: return []\n",
    "        \n",
    "        return res"
   ]
  },
  {
   "cell_type": "code",
   "execution_count": 2,
   "metadata": {},
   "outputs": [
    {
     "name": "stdout",
     "output_type": "stream",
     "text": [
      "Case 1: [0, 1]\n",
      "Case 2: [0, 1, 2, 3]\n",
      "Case 2: [0]\n"
     ]
    }
   ],
   "source": [
    "# Test on Cases\n",
    "S = Solution()\n",
    "\n",
    "print(f\"Case 1: {S.findOrder(2, [[1,0]])}\")\n",
    "print(f\"Case 2: {S.findOrder(4, [[1,0],[2,0],[3,1],[3,2]])}\")\n",
    "print(f\"Case 2: {S.findOrder(1, [])}\")"
   ]
  }
 ],
 "metadata": {
  "kernelspec": {
   "display_name": "Python 3",
   "language": "python",
   "name": "python3"
  },
  "language_info": {
   "codemirror_mode": {
    "name": "ipython",
    "version": 3
   },
   "file_extension": ".py",
   "mimetype": "text/x-python",
   "name": "python",
   "nbconvert_exporter": "python",
   "pygments_lexer": "ipython3",
   "version": "3.8.3"
  }
 },
 "nbformat": 4,
 "nbformat_minor": 4
}
