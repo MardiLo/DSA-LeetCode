{
 "cells": [
  {
   "cell_type": "markdown",
   "metadata": {},
   "source": [
    "`# Counting` `# Hash Table` `# String`"
   ]
  },
  {
   "cell_type": "markdown",
   "metadata": {},
   "source": [
    "Given two strings `ransomNote` and `magazine`, return `true` **if `ransomNote` can be constructed by using the letters from `magazine` and `false` otherwise.**\n",
    "\n",
    "Each letter in `magazine` can only be used once in `ransomNote`."
   ]
  },
  {
   "cell_type": "markdown",
   "metadata": {},
   "source": [
    "**Example 1:**\n",
    "\n",
    "> Input: ransomNote = \"a\", magazine = \"b\"   \n",
    "> Output: false\n",
    "\n",
    "**Example 2:**\n",
    "> Input: ransomNote = \"aa\", magazine = \"ab\"  \n",
    "> Output: false\n",
    "\n",
    "**Example 3:**\n",
    "> Input: ransomNote = \"aa\", magazine = \"aab\"  \n",
    "> Output: ture"
   ]
  },
  {
   "cell_type": "code",
   "execution_count": 2,
   "metadata": {},
   "outputs": [],
   "source": [
    "class Solution:\n",
    "    \n",
    "    # Time Complexity： O(max(m, n))\n",
    "    # Space Complexity： O(m+n)\n",
    "    def canConstruct(self, ransomNote: str, magazine: str) -> bool:\n",
    "        from collections import Counter\n",
    "\n",
    "        return Counter(magazine) >= Counter(ransomNote)"
   ]
  },
  {
   "cell_type": "code",
   "execution_count": 3,
   "metadata": {},
   "outputs": [
    {
     "name": "stdout",
     "output_type": "stream",
     "text": [
      "Case 1: False\n",
      "Case 2: False\n",
      "Case 3: True\n"
     ]
    }
   ],
   "source": [
    "# Test on Cases\n",
    "S = Solution()\n",
    "\n",
    "print(f\"Case 1: {S.canConstruct('a', 'b')}\")\n",
    "print(f\"Case 2: {S.canConstruct('aa', 'ab')}\")\n",
    "print(f\"Case 3: {S.canConstruct('aa', 'aab')}\")"
   ]
  }
 ],
 "metadata": {
  "kernelspec": {
   "display_name": "Python 3 (ipykernel)",
   "language": "python",
   "name": "python3"
  },
  "language_info": {
   "codemirror_mode": {
    "name": "ipython",
    "version": 3
   },
   "file_extension": ".py",
   "mimetype": "text/x-python",
   "name": "python",
   "nbconvert_exporter": "python",
   "pygments_lexer": "ipython3",
   "version": "3.11.9"
  },
  "vscode": {
   "interpreter": {
    "hash": "21d8332eb27bea95342760850bd7426f517b6a483537194bbba87e10eeabf6ff"
   }
  }
 },
 "nbformat": 4,
 "nbformat_minor": 4
}
