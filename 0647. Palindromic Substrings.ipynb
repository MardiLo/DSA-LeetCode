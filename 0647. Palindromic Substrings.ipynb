{
 "cells": [
  {
   "cell_type": "markdown",
   "metadata": {},
   "source": [
    "`# Dynamic Programming` `# String` "
   ]
  },
  {
   "cell_type": "markdown",
   "metadata": {},
   "source": [
    "Given a string `s`, return *the number of palindromic substrings in it*.\n",
    "\n",
    "A string is a palindrome when it reads the same backward as forward.\n",
    "\n",
    "A substring is a contiguous sequence of characters within the string."
   ]
  },
  {
   "cell_type": "markdown",
   "metadata": {},
   "source": [
    "**Example 1:**  \n",
    "\n",
    "> Input: s = \"abc\"  \n",
    "Output: 3  \n",
    "Explanation: Three palindromic strings: \"a\", \"b\", \"c\".  \n",
    "\n",
    "**Example 2:**  \n",
    "\n",
    "> Input: s = \"aaa\"  \n",
    "Output: 6  \n",
    "Explanation: Six palindromic strings: \"a\", \"a\", \"a\", \"aa\", \"aa\", \"aaa\".  "
   ]
  },
  {
   "cell_type": "code",
   "execution_count": 1,
   "metadata": {},
   "outputs": [],
   "source": [
    "class Solution:\n",
    "\n",
    "    # Time Complexity： O(n^2)\n",
    "    # Space Complexity： O(1)\n",
    "    def countSubstrings(self, s: str) -> int:\n",
    "        def countPalindrome(l: int, r: int) -> str:    # TC: O(n)\n",
    "            cnt = 0\n",
    "            \n",
    "            while l >= 0 and r < len(s) and s[l] == s[r]:\n",
    "                l -= 1; r += 1; cnt += 1; \n",
    "        \n",
    "            return cnt\n",
    "\n",
    "        cnt = 0\n",
    "        for i in range(len(s)):\n",
    "            odd, even = countPalindrome(i, i), countPalindrome(i, i+1)    # for odd & even expansion: (1 -> 3 -> 5... ), (2 -> 4 -> 6... )\n",
    "            cnt += odd + even\n",
    "\n",
    "        return cnt"
   ]
  },
  {
   "cell_type": "code",
   "execution_count": 2,
   "metadata": {},
   "outputs": [
    {
     "name": "stdout",
     "output_type": "stream",
     "text": [
      "Case 1: 3\n",
      "Case 2: 6\n"
     ]
    }
   ],
   "source": [
    "# Test on Cases\n",
    "S = Solution()\n",
    "\n",
    "print(f\"Case 1: {S.countSubstrings('abc')}\")\n",
    "print(f\"Case 2: {S.countSubstrings('aaa')}\")"
   ]
  },
  {
   "cell_type": "markdown",
   "metadata": {},
   "source": [
    "**Ref**  \n",
    "1. [Straightforward Python Solution O(1) space (no tricky arithmetic)](https://leetcode.com/problems/palindromic-substrings/discuss/403603/Straightforward-Python-Solution-O(1)-space-(no-tricky-arithmetic))\n",
    "2. [Palindromic Substrings - Leetcode 647 - Python](https://www.youtube.com/watch?v=4RACzI5-du8)"
   ]
  }
 ],
 "metadata": {
  "kernelspec": {
   "display_name": "Python 3.10.4 ('leetcode')",
   "language": "python",
   "name": "python3"
  },
  "language_info": {
   "codemirror_mode": {
    "name": "ipython",
    "version": 3
   },
   "file_extension": ".py",
   "mimetype": "text/x-python",
   "name": "python",
   "nbconvert_exporter": "python",
   "pygments_lexer": "ipython3",
   "version": "3.10.4"
  },
  "vscode": {
   "interpreter": {
    "hash": "21d8332eb27bea95342760850bd7426f517b6a483537194bbba87e10eeabf6ff"
   }
  }
 },
 "nbformat": 4,
 "nbformat_minor": 4
}
