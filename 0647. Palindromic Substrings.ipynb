{
 "cells": [
  {
   "cell_type": "markdown",
   "metadata": {},
   "source": [
    "`# Dynamic Programming` `# String` "
   ]
  },
  {
   "cell_type": "markdown",
   "metadata": {},
   "source": [
    "Given a string `s`, return *the number of palindromic substrings in it*.\n",
    "\n",
    "A string is a palindrome when it reads the same backward as forward.\n",
    "\n",
    "A substring is a contiguous sequence of characters within the string."
   ]
  },
  {
   "cell_type": "markdown",
   "metadata": {},
   "source": [
    "**Example 1:**  \n",
    "\n",
    "> Input: s = \"abc\"  \n",
    "Output: 3  \n",
    "Explanation: Three palindromic strings: \"a\", \"b\", \"c\".  \n",
    "\n",
    "**Example 2:**  \n",
    "\n",
    "> Input: s = \"aaa\"  \n",
    "Output: 6  \n",
    "Explanation: Six palindromic strings: \"a\", \"a\", \"a\", \"aa\", \"aa\", \"aaa\".  "
   ]
  },
  {
   "cell_type": "code",
   "execution_count": 1,
   "metadata": {},
   "outputs": [],
   "source": [
    "class Solution:\n",
    "\n",
    "    # Time Complexity： O(n^2)\n",
    "    # Space Complexity： O(1)\n",
    "    def countSubstrings(self, s: 'str') -> 'int':\n",
    "        def countPalindrome(s: 'str', l: 'int', r: 'int') -> 'int':    # TC: O(n)\n",
    "            cnt = 0\n",
    "            while l >= 0 and r < len(s) and s[l] == s[r]:\n",
    "                cnt += 1; l -= 1; r += 1\n",
    "        \n",
    "            return cnt\n",
    "\n",
    "        res = 0\n",
    "        for i in range(len(s)):\n",
    "            l = r = i\n",
    "            res += countPalindrome(s, l, r)     # for odd expansion (1 -> 3 -> 5... )\n",
    "            res += countPalindrome(s, l, r+1)   # for even expansion (2 -> 4 -> 6... )\n",
    "\n",
    "        return res"
   ]
  },
  {
   "cell_type": "code",
   "execution_count": 2,
   "metadata": {},
   "outputs": [
    {
     "name": "stdout",
     "output_type": "stream",
     "text": [
      "Case 1: 3\n",
      "Case 2: 6\n"
     ]
    }
   ],
   "source": [
    "# Test on Cases\n",
    "S = Solution()\n",
    "\n",
    "print(f\"Case 1: {S.countSubstrings('abc')}\")\n",
    "print(f\"Case 2: {S.countSubstrings('aaa')}\")"
   ]
  },
  {
   "cell_type": "markdown",
   "metadata": {},
   "source": [
    "**Ref**  \n",
    "1. [Straightforward Python Solution O(1) space (no tricky arithmetic)](https://leetcode.com/problems/palindromic-substrings/discuss/403603/Straightforward-Python-Solution-O(1)-space-(no-tricky-arithmetic))\n",
    "2. [Palindromic Substrings - Leetcode 647 - Python](https://www.youtube.com/watch?v=4RACzI5-du8)"
   ]
  }
 ],
 "metadata": {
  "interpreter": {
   "hash": "a1465031eeae0bed8511463faaa157119e7e6b7b1fbf4ef49fce31064cee3326"
  },
  "kernelspec": {
   "display_name": "Python 3.8.3 64-bit ('base': conda)",
   "name": "python3"
  },
  "language_info": {
   "codemirror_mode": {
    "name": "ipython",
    "version": 3
   },
   "file_extension": ".py",
   "mimetype": "text/x-python",
   "name": "python",
   "nbconvert_exporter": "python",
   "pygments_lexer": "ipython3",
   "version": "3.8.3"
  }
 },
 "nbformat": 4,
 "nbformat_minor": 4
}
