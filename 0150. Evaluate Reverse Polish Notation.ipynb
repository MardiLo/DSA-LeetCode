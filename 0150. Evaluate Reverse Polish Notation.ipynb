{
 "cells": [
  {
   "cell_type": "markdown",
   "metadata": {},
   "source": [
    "`# Array` `# Math` `# Stack`"
   ]
  },
  {
   "cell_type": "markdown",
   "metadata": {},
   "source": [
    "*Evaluate the value of an arithmetic expression in* *[Reverse Polish Notation](https://en.wikipedia.org/wiki/Reverse_Polish_notation)*.\n",
    "\n",
    "Valid operators are `+`, `-`, `*`, and `/`. Each operand may be an integer or another expression.\n",
    "\n",
    "Note that division between two integers should **truncate toward zero**.\n",
    "\n",
    "It is guaranteed that the given RPN expression is **always valid**. That means the expression would always evaluate to a result, and there will not be any division by zero operation."
   ]
  },
  {
   "cell_type": "markdown",
   "metadata": {},
   "source": [
    "**Example 1:**\n",
    "\n",
    "> Input: tokens = [\"2\",\"1\",\"+\",\"3\",\"*\"]  \n",
    "Output: 9  \n",
    "Explanation: ((2 + 1) * 3) = 9  \n",
    "\n",
    "**Example 2:**\n",
    "\n",
    "> Input: tokens = [\"4\",\"13\",\"5\",\"/\",\"+\"]  \n",
    "Output: 6  \n",
    "Explanation: (4 + (13 / 5)) = 6  \n",
    "\n",
    "**Example 3:**\n",
    "\n",
    "> Input: tokens = [\"10\",\"6\",\"9\",\"3\",\"+\",\"-11\",\"*\",\"/\",\"*\",\"17\",\"+\",\"5\",\"+\"]  \n",
    "Output: 22  \n",
    "Explanation: ((10 * (6 / ((9 + 3) * -11))) + 17) + 5  \n",
    "= ((10 * (6 / (12 * -11))) + 17) + 5  \n",
    "= ((10 * (6 / -132)) + 17) + 5  \n",
    "= ((10 * 0) + 17) + 5  \n",
    "= (0 + 17) + 5  \n",
    "= 17 + 5  \n",
    "= 22  "
   ]
  },
  {
   "cell_type": "code",
   "execution_count": 1,
   "metadata": {},
   "outputs": [],
   "source": [
    "class Solution:\n",
    "    \n",
    "    # Time Complexity： O(n)\n",
    "    # Space Complexity： O(n)\n",
    "    def evalRPN(self, tokens: list[str]) -> int:\n",
    "        stack, operators = [], {\"+\", \"-\", \"*\", \"/\"}\n",
    "        \n",
    "        for t in tokens:                         # TC: O(n)\n",
    "            if t in operators:                   # TC: O(1)\n",
    "                right = stack.pop(); left = stack.pop()\n",
    "                \n",
    "                match t:\n",
    "                    case \"+\": stack.append(left + right)\n",
    "                    case \"-\": stack.append(left - right)\n",
    "                    case \"*\": stack.append(left * right)\n",
    "                    case \"/\": stack.append(int(left / right))\n",
    "            else:\n",
    "                stack.append(int(t))\n",
    "            \n",
    "        return stack.pop()"
   ]
  },
  {
   "cell_type": "code",
   "execution_count": 2,
   "metadata": {},
   "outputs": [
    {
     "name": "stdout",
     "output_type": "stream",
     "text": [
      "Case 1: 9\n",
      "Case 2: 6\n",
      "Case 3: 22\n"
     ]
    }
   ],
   "source": [
    "# Test on Cases\n",
    "S = Solution()\n",
    "\n",
    "print(f\"Case 1: {S.evalRPN(['2','1','+','3','*'])}\")\n",
    "print(f\"Case 2: {S.evalRPN(['4','13','5','/','+'])}\")\n",
    "print(f\"Case 3: {S.evalRPN(['10','6','9','3','+','-11','*','/','*','17','+','5','+'])}\")"
   ]
  },
  {
   "cell_type": "markdown",
   "metadata": {},
   "source": [
    "**Ref**\n",
    "1. [Python easy to understand solution](https://leetcode.com/problems/evaluate-reverse-polish-notation/discuss/47444/Python-easy-to-understand-solution)"
   ]
  }
 ],
 "metadata": {
  "interpreter": {
   "hash": "ba9359eadc070f03edd6183a4af22ffcaf60363daf070b8f22fbedba67666dbe"
  },
  "kernelspec": {
   "display_name": "Python 3.7.7 64-bit ('flask': conda)",
   "name": "python3"
  },
  "language_info": {
   "codemirror_mode": {
    "name": "ipython",
    "version": 3
   },
   "file_extension": ".py",
   "mimetype": "text/x-python",
   "name": "python",
   "nbconvert_exporter": "python",
   "pygments_lexer": "ipython3",
   "version": "3.7.7"
  }
 },
 "nbformat": 4,
 "nbformat_minor": 4
}
