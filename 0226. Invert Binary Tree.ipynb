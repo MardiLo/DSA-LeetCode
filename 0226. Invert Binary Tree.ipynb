{
 "cells": [
  {
   "cell_type": "markdown",
   "metadata": {},
   "source": [
    "`# Binary Tree` `# Breadth-First Search` `# Depth-First Search` `# Tree`"
   ]
  },
  {
   "cell_type": "markdown",
   "metadata": {},
   "source": [
    "Given the `root` of a binary tree, invert the tree, and return *its root*."
   ]
  },
  {
   "cell_type": "markdown",
   "metadata": {},
   "source": [
    "**Example 1:**  \n",
    "![Image of leetcode 0226 problem example 1](https://assets.leetcode.com/uploads/2021/03/14/invert1-tree.jpg)\n",
    "> Input: root = [4,2,7,1,3,6,9]  \n",
    "> Output: [4,7,2,9,6,3,1]  \n",
    "\n",
    "**Example 2:**  \n",
    "![Image of leetcode 0226 problem example 2](https://assets.leetcode.com/uploads/2021/03/14/invert2-tree.jpg)\n",
    "> Input: root = [2,1,3]  \n",
    "> Output: [2,3,1]  \n",
    "\n",
    "**Example 3:**\n",
    "\n",
    "> Input: root = []  \n",
    "> Output: []  "
   ]
  },
  {
   "cell_type": "code",
   "execution_count": 1,
   "metadata": {},
   "outputs": [],
   "source": [
    "class TreeNode:\n",
    "    def __init__(self, val=0, left=None, right=None):\n",
    "        self.val = val\n",
    "        self.left = left\n",
    "        self.right = right\n",
    "\n",
    "class Solution:\n",
    "\n",
    "    # Time Complexity： O(n)\n",
    "    # Space Complexity： O(h)  \n",
    "    def invertTree_DFS_recursion(self, root: TreeNode) -> TreeNode:\n",
    "        if root: root.left, root.right = self.invertTree_DFS_recursion(root.right), self.invertTree_DFS_recursion(root.left)\n",
    "        return root\n",
    "\n",
    "    # Time Complexity： O(n)\n",
    "    # Space Complexity： O(w)     \n",
    "    def invertTree_BFS(self, root: TreeNode) -> TreeNode:\n",
    "        from collections import deque\n",
    "        \n",
    "        if not root: return None\n",
    "        \n",
    "        queue = deque([root])\n",
    "        while queue:\n",
    "            node = queue.popleft()\n",
    "            \n",
    "            if node:\n",
    "                node.left, node.right = node.right, node.left    \n",
    "                queue.extend([node.left, node.right])\n",
    "                \n",
    "        return root\n",
    "\n",
    "    # Time Complexity： O(n)\n",
    "    # Space Complexity： O(h)     \n",
    "    def invertTree_DFS_iteration(self, root: TreeNode) -> TreeNode:\n",
    "        if not root: return None\n",
    "        \n",
    "        stack = [root]\n",
    "        while stack:\n",
    "            node = stack.pop()\n",
    "            \n",
    "            if node:\n",
    "                node.left, node.right = node.right, node.left    \n",
    "                stack.extend([node.left, node.right])\n",
    "                \n",
    "        return root\n"
   ]
  },
  {
   "cell_type": "code",
   "execution_count": 2,
   "metadata": {},
   "outputs": [
    {
     "name": "stdout",
     "output_type": "stream",
     "text": [
      "---invertTree_DFS_recursion---\n",
      "Case 1: [4, 7, 2, 9, 6, 3, 1]\n",
      "Case 2: [2, 3, 1]\n",
      "Case 3: []\n",
      "\n",
      "---invertTree_BFS---\n",
      "Case 1: [4, 7, 2, 9, 6, 3, 1]\n",
      "Case 2: [2, 3, 1]\n",
      "Case 3: []\n",
      "\n",
      "---invertTree_DFS_iteration---\n",
      "Case 1: [4, 7, 2, 9, 6, 3, 1]\n",
      "Case 2: [2, 3, 1]\n",
      "Case 3: []\n"
     ]
    }
   ],
   "source": [
    "# Test on Cases\n",
    "from leetcodepractice import Print\n",
    "\n",
    "S, P = Solution(), Print()\n",
    "\n",
    "print(\"---invertTree_DFS_recursion---\")\n",
    "print(f\"Case 1: {P.TreeTraversalBFS(S.invertTree_DFS_recursion(TreeNode(4, TreeNode(2, TreeNode(1), TreeNode(3)), TreeNode(7, TreeNode(6), TreeNode(9)))))}\")\n",
    "print(f\"Case 2: {P.TreeTraversalBFS(S.invertTree_DFS_recursion(TreeNode(2, TreeNode(1), TreeNode(3))))}\")\n",
    "print(f\"Case 3: {P.TreeTraversalBFS(S.invertTree_DFS_recursion([]))}\\n\")\n",
    "\n",
    "print(\"---invertTree_BFS---\")\n",
    "print(f\"Case 1: {P.TreeTraversalBFS(S.invertTree_BFS(TreeNode(4, TreeNode(2, TreeNode(1), TreeNode(3)), TreeNode(7, TreeNode(6), TreeNode(9)))))}\")\n",
    "print(f\"Case 2: {P.TreeTraversalBFS(S.invertTree_BFS(TreeNode(2, TreeNode(1), TreeNode(3))))}\")\n",
    "print(f\"Case 3: {P.TreeTraversalBFS(S.invertTree_BFS([]))}\\n\")\n",
    "\n",
    "print(\"---invertTree_DFS_iteration---\")\n",
    "print(f\"Case 1: {P.TreeTraversalBFS(S.invertTree_DFS_iteration(TreeNode(4, TreeNode(2, TreeNode(1), TreeNode(3)), TreeNode(7, TreeNode(6), TreeNode(9)))))}\")\n",
    "print(f\"Case 2: {P.TreeTraversalBFS(S.invertTree_DFS_iteration(TreeNode(2, TreeNode(1), TreeNode(3))))}\")\n",
    "print(f\"Case 3: {P.TreeTraversalBFS(S.invertTree_DFS_iteration([]))}\")"
   ]
  }
 ],
 "metadata": {
  "kernelspec": {
   "display_name": "Python 3 (ipykernel)",
   "language": "python",
   "name": "python3"
  },
  "language_info": {
   "codemirror_mode": {
    "name": "ipython",
    "version": 3
   },
   "file_extension": ".py",
   "mimetype": "text/x-python",
   "name": "python",
   "nbconvert_exporter": "python",
   "pygments_lexer": "ipython3",
   "version": "3.10.4"
  },
  "vscode": {
   "interpreter": {
    "hash": "21d8332eb27bea95342760850bd7426f517b6a483537194bbba87e10eeabf6ff"
   }
  }
 },
 "nbformat": 4,
 "nbformat_minor": 4
}
