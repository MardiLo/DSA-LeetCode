{
 "cells": [
  {
   "cell_type": "markdown",
   "source": [
    "`# Binary Tree` `# Breadth-First Search` `# Depth-First Search` `# Tree`"
   ],
   "metadata": {}
  },
  {
   "cell_type": "markdown",
   "source": [
    "Given the `root` of a binary tree, invert the tree, and return *its root*."
   ],
   "metadata": {}
  },
  {
   "cell_type": "markdown",
   "source": [
    "**Example 1:**  \r\n",
    "![Image of leetcode 0226 problem example 1](https://assets.leetcode.com/uploads/2021/03/14/invert1-tree.jpg)\r\n",
    "> Input: root = [4,2,7,1,3,6,9]  \r\n",
    "Output: [4,7,2,9,6,3,1]  \r\n",
    "\r\n",
    "**Example 2:**  \r\n",
    "![Image of leetcode 0226 problem example 2](https://assets.leetcode.com/uploads/2021/03/14/invert2-tree.jpg)\r\n",
    "> Input: root = [2,1,3]  \r\n",
    "Output: [2,3,1]  \r\n",
    "\r\n",
    "**Example 3:**\r\n",
    "\r\n",
    "> Input: root = []  \r\n",
    "Output: []  "
   ],
   "metadata": {}
  },
  {
   "cell_type": "code",
   "execution_count": 23,
   "source": [
    "class TreeNode:\r\n",
    "    def __init__(self, val=0, left=None, right=None):\r\n",
    "        self.val = val\r\n",
    "        self.left = left\r\n",
    "        self.right = right\r\n",
    "\r\n",
    "class Solution:\r\n",
    "    \r\n",
    "    # Time Complexity： O(n)\r\n",
    "    # Space Complexity： O(n)     \r\n",
    "    def invertTree_BFS(self, root: 'Optional[TreeNode]') -> 'Optional[TreeNode]':\r\n",
    "        from collections import deque\r\n",
    "        \r\n",
    "        if not root:\r\n",
    "            return None\r\n",
    "        \r\n",
    "        queue = deque([root])\r\n",
    "        while queue:\r\n",
    "            node = queue.popleft()\r\n",
    "            \r\n",
    "            if node:\r\n",
    "                node.left, node.right = node.right, node.left    \r\n",
    "                queue.append(node.left)\r\n",
    "                queue.append(node.right)\r\n",
    "                \r\n",
    "        return root"
   ],
   "outputs": [],
   "metadata": {}
  },
  {
   "cell_type": "code",
   "execution_count": 24,
   "source": [
    "# Test on Cases\n",
    "from leetcodepractice import Print\n",
    "\n",
    "S, P = Solution(), Print()\n",
    "\n",
    "print(f\"Case 1: {P.TreeTraversalBFS(S.invertTree_BFS(TreeNode(4, TreeNode(2, TreeNode(1), TreeNode(3)), TreeNode(7, TreeNode(6), TreeNode(9)))))}\")\n",
    "print(f\"Case 2: {P.TreeTraversalBFS(S.invertTree_BFS(TreeNode(2, TreeNode(1), TreeNode(3))))}\")\n",
    "print(f\"Case 3: {P.TreeTraversalBFS(S.invertTree_BFS([]))}\")"
   ],
   "outputs": [
    {
     "output_type": "stream",
     "name": "stdout",
     "text": [
      "Case 1: [4, 7, 2, 9, 6, 3, 1]\n",
      "Case 2: [2, 3, 1]\n",
      "Case 3: []\n"
     ]
    }
   ],
   "metadata": {}
  },
  {
   "cell_type": "code",
   "execution_count": null,
   "source": [],
   "outputs": [],
   "metadata": {}
  }
 ],
 "metadata": {
  "kernelspec": {
   "display_name": "Python 3",
   "language": "python",
   "name": "python3"
  },
  "language_info": {
   "codemirror_mode": {
    "name": "ipython",
    "version": 3
   },
   "file_extension": ".py",
   "mimetype": "text/x-python",
   "name": "python",
   "nbconvert_exporter": "python",
   "pygments_lexer": "ipython3",
   "version": "3.7.7"
  }
 },
 "nbformat": 4,
 "nbformat_minor": 4
}