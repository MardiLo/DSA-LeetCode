{
 "cells": [
  {
   "cell_type": "markdown",
   "metadata": {},
   "source": [
    "`# Array` `# Prefix Sum`"
   ]
  },
  {
   "cell_type": "markdown",
   "metadata": {},
   "source": [
    "Given an integer array `nums`, return an array answer such that `answer[i]` is equal to the product of all the elements of `nums` except `nums[i]`.\n",
    "\n",
    "The product of any prefix or suffix of nums is guaranteed to fit in a 32-bit integer.\n",
    "\n",
    "You must write an algorithm that runs in **O(n)** time and without using the division operation."
   ]
  },
  {
   "cell_type": "markdown",
   "metadata": {},
   "source": [
    "**Example 1:**  \n",
    "\n",
    "> Input: nums = [1,2,3,4]  \n",
    "> Output: [24,12,8,6]   \n",
    "\n",
    "**Example 2:**  \n",
    "\n",
    "> Input: nums = [-1,1,0,-3,3]  \n",
    "> Output: [0,0,9,0,0]  "
   ]
  },
  {
   "cell_type": "code",
   "execution_count": 5,
   "metadata": {},
   "outputs": [],
   "source": [
    "class Solution:\n",
    "    \n",
    "    # Time Complexity： O(n)\n",
    "    # Space Complexity： O(n)       \n",
    "    def productExceptSelf(self, nums: list[int]) -> list[int]:\n",
    "        n = len(nums)\n",
    "        leftProd, rightProd = [1] * n, [1] * n\n",
    "\n",
    "        for i in range(1, n):\n",
    "            leftProd[i], rightProd[~i] = leftProd[i-1] * nums[i-1], rightProd[~i+1] * nums[~i+1]\n",
    "        \n",
    "        return [lp * rp for lp, rp in zip(leftProd, rightProd)]\n",
    "\n",
    "    # Time Complexity： O(n)\n",
    "    # Space Complexity： O(1)       \n",
    "    def productExceptSelf_spaceOpt(self, nums: list[int]) -> list[int]:\n",
    "        res = [1] * (n := len(nums))\n",
    "        lProd = rProd = 1\n",
    "        \n",
    "        for i in range(n):\n",
    "            res[i] *= lProd; res[~i] *= rProd\n",
    "            lProd *= nums[i]; rProd *= nums[~i]\n",
    "        \n",
    "        return res"
   ]
  },
  {
   "cell_type": "code",
   "execution_count": 6,
   "metadata": {},
   "outputs": [
    {
     "name": "stdout",
     "output_type": "stream",
     "text": [
      "---productExceptSelf---\n",
      "Case 1: [24, 12, 8, 6]\n",
      "Case 2: [0, 0, 9, 0, 0]\n",
      "\n",
      "---productExceptSelf_spaceOpt---\n",
      "Case 1: [24, 12, 8, 6]\n",
      "Case 2: [0, 0, 9, 0, 0]\n"
     ]
    }
   ],
   "source": [
    "# Test on Cases\n",
    "S = Solution()\n",
    "\n",
    "print(\"---productExceptSelf---\")\n",
    "print(f\"Case 1: {S.productExceptSelf([1,2,3,4])}\")\n",
    "print(f\"Case 2: {S.productExceptSelf([-1,1,0,-3,3])}\\n\")\n",
    "\n",
    "print(\"---productExceptSelf_spaceOpt---\")\n",
    "print(f\"Case 1: {S.productExceptSelf_spaceOpt([1,2,3,4])}\")\n",
    "print(f\"Case 2: {S.productExceptSelf_spaceOpt([-1,1,0,-3,3])}\")"
   ]
  }
 ],
 "metadata": {
  "kernelspec": {
   "display_name": "Python 3 (ipykernel)",
   "language": "python",
   "name": "python3"
  },
  "language_info": {
   "codemirror_mode": {
    "name": "ipython",
    "version": 3
   },
   "file_extension": ".py",
   "mimetype": "text/x-python",
   "name": "python",
   "nbconvert_exporter": "python",
   "pygments_lexer": "ipython3",
   "version": "3.10.4"
  },
  "vscode": {
   "interpreter": {
    "hash": "21d8332eb27bea95342760850bd7426f517b6a483537194bbba87e10eeabf6ff"
   }
  }
 },
 "nbformat": 4,
 "nbformat_minor": 4
}
