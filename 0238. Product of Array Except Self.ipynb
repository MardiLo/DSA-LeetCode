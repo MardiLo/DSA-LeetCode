{
 "cells": [
  {
   "cell_type": "markdown",
   "source": [
    "`# Array` `# Prefix Sum`"
   ],
   "metadata": {}
  },
  {
   "cell_type": "markdown",
   "source": [
    "Given an integer array `nums`, return an array answer such that `answer[i]` is equal to the product of all the elements of `nums` except `nums[i]`.\n",
    "\n",
    "The product of any prefix or suffix of nums is guaranteed to fit in a 32-bit integer.\n",
    "\n",
    "You must write an algorithm that runs in **O(n)** time and without using the division operation."
   ],
   "metadata": {}
  },
  {
   "cell_type": "markdown",
   "source": [
    "**Example 1:**  \n",
    "\n",
    "> Input: nums = [1,2,3,4]  \n",
    "Output: [24,12,8,6]   \n",
    "\n",
    "**Example 2:**  \n",
    "\n",
    "> Input: nums = [-1,1,0,-3,3]  \n",
    "Output: [0,0,9,0,0]  "
   ],
   "metadata": {}
  },
  {
   "cell_type": "code",
   "execution_count": 3,
   "source": [
    "class Solution:\r\n",
    "    \r\n",
    "    # Time Complexity： O(n)\r\n",
    "    # Space Complexity： O(1)       \r\n",
    "    def productExceptSelf(self, nums: 'List[int]') -> 'List[int]':\r\n",
    "        prod = 1\r\n",
    "        res = [0] * len(nums)\r\n",
    "        for i in range(len(nums)):\r\n",
    "            res[i] = prod\r\n",
    "            prod *= nums[i]\r\n",
    "            \r\n",
    "        prod = 1\r\n",
    "        for i in range(len(nums)-1, -1, -1):\r\n",
    "            res[i] *= prod\r\n",
    "            prod *= nums[i]\r\n",
    "            \r\n",
    "        return res"
   ],
   "outputs": [],
   "metadata": {}
  },
  {
   "cell_type": "code",
   "execution_count": 4,
   "source": [
    "# Test on Cases\r\n",
    "S = Solution()\r\n",
    "\r\n",
    "print(f\"Case 1: {S.productExceptSelf([1,2,3,4])}\")\r\n",
    "print(f\"Case 2: {S.productExceptSelf([-1,1,0,-3,3])}\")"
   ],
   "outputs": [
    {
     "output_type": "stream",
     "name": "stdout",
     "text": [
      "Case 1: [24, 12, 8, 6]\n",
      "Case 2: [0, 0, 9, 0, 0]\n"
     ]
    }
   ],
   "metadata": {}
  }
 ],
 "metadata": {
  "kernelspec": {
   "display_name": "Python 3",
   "language": "python",
   "name": "python3"
  },
  "language_info": {
   "codemirror_mode": {
    "name": "ipython",
    "version": 3
   },
   "file_extension": ".py",
   "mimetype": "text/x-python",
   "name": "python",
   "nbconvert_exporter": "python",
   "pygments_lexer": "ipython3",
   "version": "3.7.7"
  }
 },
 "nbformat": 4,
 "nbformat_minor": 4
}