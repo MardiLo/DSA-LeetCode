{
 "cells": [
  {
   "cell_type": "markdown",
   "metadata": {},
   "source": [
    "`# Array` `# Prefix Sum`"
   ]
  },
  {
   "cell_type": "markdown",
   "metadata": {},
   "source": [
    "Given an integer array `nums`, return an array answer such that `answer[i]` is equal to the product of all the elements of `nums` except `nums[i]`.\n",
    "\n",
    "The product of any prefix or suffix of nums is guaranteed to fit in a 32-bit integer.\n",
    "\n",
    "You must write an algorithm that runs in **O(n)** time and without using the division operation."
   ]
  },
  {
   "cell_type": "markdown",
   "metadata": {},
   "source": [
    "**Example 1:**  \n",
    "\n",
    "> Input: nums = [1,2,3,4]  \n",
    "Output: [24,12,8,6]   \n",
    "\n",
    "**Example 2:**  \n",
    "\n",
    "> Input: nums = [-1,1,0,-3,3]  \n",
    "Output: [0,0,9,0,0]  "
   ]
  },
  {
   "cell_type": "code",
   "execution_count": 3,
   "metadata": {},
   "outputs": [],
   "source": [
    "class Solution:\n",
    "    \n",
    "    # Time Complexity： O(n)\n",
    "    # Space Complexity： O(1)       \n",
    "    def productExceptSelf(self, nums: 'List[int]') -> 'List[int]':\n",
    "        prod = 1\n",
    "        res = [0] * len(nums)\n",
    "        for i in range(len(nums)):\n",
    "            res[i] = prod\n",
    "            prod *= nums[i]\n",
    "            \n",
    "        prod = 1\n",
    "        for i in range(len(nums)-1, -1, -1):\n",
    "            res[i] *= prod\n",
    "            prod *= nums[i]\n",
    "            \n",
    "        return res"
   ]
  },
  {
   "cell_type": "code",
   "execution_count": 4,
   "metadata": {},
   "outputs": [
    {
     "name": "stdout",
     "output_type": "stream",
     "text": [
      "Case 1: [24, 12, 8, 6]\n",
      "Case 2: [0, 0, 9, 0, 0]\n"
     ]
    }
   ],
   "source": [
    "# Test on Cases\n",
    "S = Solution()\n",
    "\n",
    "print(f\"Case 1: {S.productExceptSelf([1,2,3,4])}\")\n",
    "print(f\"Case 2: {S.productExceptSelf([-1,1,0,-3,3])}\")"
   ]
  },
  {
   "cell_type": "code",
   "execution_count": null,
   "metadata": {},
   "outputs": [],
   "source": []
  }
 ],
 "metadata": {
  "kernelspec": {
   "display_name": "Python 3",
   "language": "python",
   "name": "python3"
  },
  "language_info": {
   "codemirror_mode": {
    "name": "ipython",
    "version": 3
   },
   "file_extension": ".py",
   "mimetype": "text/x-python",
   "name": "python",
   "nbconvert_exporter": "python",
   "pygments_lexer": "ipython3",
   "version": "3.7.7"
  }
 },
 "nbformat": 4,
 "nbformat_minor": 4
}
