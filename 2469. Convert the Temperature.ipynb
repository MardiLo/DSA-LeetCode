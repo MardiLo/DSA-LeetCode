{
 "cells": [
  {
   "cell_type": "markdown",
   "metadata": {},
   "source": [
    "`# Math`"
   ]
  },
  {
   "cell_type": "markdown",
   "metadata": {},
   "source": [
    "You are given a non-negative floating point number rounded to two decimal places `celsius`, that denotes the **temperature in Celsius**.\n",
    "\n",
    "You should convert Celsius into **Kelvin** and **Fahrenheit** and return it as an array `ans = [kelvin, fahrenheit]`.\n",
    "\n",
    "Return *the array* `ans`. Answers within `10`<sup>`-5`</sup> of the actual answer will be accepted.\n",
    "\n",
    "Note that:\n",
    "\n",
    "- Kelvin = Celsius + 273.15\n",
    "- Fahrenheit = Celsius * 1.80 + 32.00"
   ]
  },
  {
   "cell_type": "markdown",
   "metadata": {},
   "source": [
    "**Example 1:**\n",
    "\n",
    "> Input: celsius = 36.50  \n",
    "> Output: [309.65000,97.70000]  \n",
    "> Explanation: Temperature at 36.50 Celsius converted in Kelvin is 309.65 and converted in Fahrenheit is 97.70.\n",
    "\n",
    "**Example 2:**\n",
    "\n",
    "> Input: celsius = 122.11  \n",
    "> Output: [395.26000,251.79800]  \n",
    "> Explanation: Temperature at 122.11 Celsius converted in Kelvin is 395.26 and converted in Fahrenheit is 251.798."
   ]
  },
  {
   "cell_type": "code",
   "execution_count": 1,
   "metadata": {},
   "outputs": [],
   "source": [
    "class Solution:\n",
    "\n",
    "    # Time Complexity： O(1)\n",
    "    # Space Complexity： O(1)\n",
    "    def convertTemperature(self, celsius: float) -> list[float]:\n",
    "        return [celsius + 273.15, celsius*1.8 + 32]"
   ]
  },
  {
   "cell_type": "code",
   "execution_count": 2,
   "metadata": {},
   "outputs": [
    {
     "name": "stdout",
     "output_type": "stream",
     "text": [
      "Case 1: [309.65, 97.7]\n",
      "Case 2: [395.26, 251.798]\n"
     ]
    }
   ],
   "source": [
    "# Test on Cases\n",
    "S = Solution()\n",
    "\n",
    "print(f\"Case 1: {S.convertTemperature(36.50)}\")\n",
    "print(f\"Case 2: {S.convertTemperature(122.11)}\")"
   ]
  }
 ],
 "metadata": {
  "kernelspec": {
   "display_name": "Python 3 (ipykernel)",
   "language": "python",
   "name": "python3"
  },
  "language_info": {
   "codemirror_mode": {
    "name": "ipython",
    "version": 3
   },
   "file_extension": ".py",
   "mimetype": "text/x-python",
   "name": "python",
   "nbconvert_exporter": "python",
   "pygments_lexer": "ipython3",
   "version": "3.10.4"
  },
  "vscode": {
   "interpreter": {
    "hash": "21d8332eb27bea95342760850bd7426f517b6a483537194bbba87e10eeabf6ff"
   }
  }
 },
 "nbformat": 4,
 "nbformat_minor": 4
}
