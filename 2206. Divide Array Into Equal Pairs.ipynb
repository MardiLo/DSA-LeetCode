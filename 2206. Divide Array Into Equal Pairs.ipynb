{
 "cells": [
  {
   "cell_type": "markdown",
   "metadata": {},
   "source": [
    "`# Array` `# Bit Manipulation` `# Counting` `# Hash Table`"
   ]
  },
  {
   "cell_type": "markdown",
   "metadata": {},
   "source": [
    "You are given an integer array `nums` consisting of `2 * n` integers.\n",
    "\n",
    "You need to divide `nums` into n pairs such that:\n",
    "\n",
    "Each element belongs to **exactly one** pair.\n",
    "The elements present in a pair are **equal**.\n",
    "Return `true` *if nums can be divided into n pairs, otherwise return* `false`."
   ]
  },
  {
   "cell_type": "markdown",
   "metadata": {},
   "source": [
    "**Example 1:**\n",
    "\n",
    "> Input: nums = [3,2,3,2,2,2]  \n",
    "> Output: true  \n",
    "> Explanation:   \n",
    "> There are 6 elements in nums, so they should be divided into 6 / 2 = 3 pairs.  \n",
    "> If nums is divided into the pairs (2, 2), (3, 3), and (2, 2), it will satisfy all the conditions.\n",
    "\n",
    "**Example 2:**\n",
    "\n",
    "> Input: nums = [1,2,3,4]  \n",
    "> Output: false  \n",
    "> Explanation:   \n",
    "> There is no way to divide nums into 4 / 2 = 2 pairs such that the pairs satisfy every condition."
   ]
  },
  {
   "cell_type": "code",
   "execution_count": 1,
   "metadata": {},
   "outputs": [],
   "source": [
    "class Solution:\n",
    "\n",
    "    # Time Complexity： O(n)\n",
    "    # Space Complexity： O(n)\n",
    "    def divideArray(self, nums: list[int]) -> bool:\n",
    "        seen = set()\n",
    "        \n",
    "        for num in nums:\n",
    "            seen.add(num) if num not in seen else seen.remove(num)\n",
    "        \n",
    "        return not seen\n",
    "        \n",
    "    # Time Complexity： O(n)\n",
    "    # Space Complexity： O(n)\n",
    "    def divideArray_counting(self, nums: list[int]) -> bool:\n",
    "        from collections import Counter\n",
    "\n",
    "        return all(not v % 2 for v in Counter(nums).values())"
   ]
  },
  {
   "cell_type": "code",
   "execution_count": 2,
   "metadata": {},
   "outputs": [
    {
     "name": "stdout",
     "output_type": "stream",
     "text": [
      "---divideArray---\n",
      "Case 1: True\n",
      "Case 2: False\n",
      "\n",
      "---divideArray_counting---\n",
      "Case 1: True\n",
      "Case 2: False\n"
     ]
    }
   ],
   "source": [
    "# Test on Cases\n",
    "S = Solution()\n",
    "\n",
    "print(\"---divideArray---\")\n",
    "print(f\"Case 1: {S.divideArray([3,2,3,2,2,2])}\")\n",
    "print(f\"Case 2: {S.divideArray([1,2,3,4])}\\n\")\n",
    "\n",
    "print(\"---divideArray_counting---\")\n",
    "print(f\"Case 1: {S.divideArray_counting([3,2,3,2,2,2])}\")\n",
    "print(f\"Case 2: {S.divideArray_counting([1,2,3,4])}\")"
   ]
  }
 ],
 "metadata": {
  "kernelspec": {
   "display_name": "Python 3 (ipykernel)",
   "language": "python",
   "name": "python3"
  },
  "language_info": {
   "codemirror_mode": {
    "name": "ipython",
    "version": 3
   },
   "file_extension": ".py",
   "mimetype": "text/x-python",
   "name": "python",
   "nbconvert_exporter": "python",
   "pygments_lexer": "ipython3",
   "version": "3.10.4"
  },
  "vscode": {
   "interpreter": {
    "hash": "21d8332eb27bea95342760850bd7426f517b6a483537194bbba87e10eeabf6ff"
   }
  }
 },
 "nbformat": 4,
 "nbformat_minor": 4
}
