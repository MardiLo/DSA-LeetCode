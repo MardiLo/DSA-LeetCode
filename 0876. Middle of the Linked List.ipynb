{
 "cells": [
  {
   "cell_type": "markdown",
   "metadata": {},
   "source": [
    "`# Linked List` `# Two Pointers`"
   ]
  },
  {
   "cell_type": "markdown",
   "metadata": {},
   "source": [
    "Given the `head` of a singly linked list, return *the middle node of the linked list.*\n",
    "\n",
    "If there are two middle nodes, return **the second middle** node."
   ]
  },
  {
   "cell_type": "markdown",
   "metadata": {},
   "source": [
    "**Example 1:**  \n",
    "![Image of leetcode 0876 problem example 1](https://assets.leetcode.com/uploads/2021/07/23/lc-midlist1.jpg)\n",
    "> Input: head = [1,2,3,4,5]  \n",
    "Output: [3,4,5]  \n",
    "Explanation: The middle node of the list is node 3.\n",
    "\n",
    "**Example 2:**  \n",
    "![Image of leetcode 0876 problem example 2](https://assets.leetcode.com/uploads/2021/07/23/lc-midlist2.jpg)\n",
    "> Input: head = [1,2,3,4,5,6]  \n",
    "Output: [4,5,6]  \n",
    "Explanation: Since the list has two middle nodes with values 3 and 4, we return the second one."
   ]
  },
  {
   "cell_type": "code",
   "execution_count": 5,
   "metadata": {},
   "outputs": [],
   "source": [
    "class ListNode:\n",
    "    def __init__(self, val=0, next=None):\n",
    "        self.val = val\n",
    "        self.next = next\n",
    "\n",
    "    def list2LinkedList(self, lst):\n",
    "        cur = dummy = ListNode(0)\n",
    "        for node in lst:\n",
    "            cur.next = ListNode(node)\n",
    "            cur = cur.next\n",
    "        return dummy.next\n",
    "\n",
    "class Solution:\n",
    "\n",
    "    # Time Complexity： O(n)\n",
    "    # Space Complexity： O(1)   \n",
    "    def middleNode(self, head: ListNode) -> ListNode:\n",
    "        slow = fast = head\n",
    "        \n",
    "        while fast and fast.next:\n",
    "            slow, fast = slow.next, fast.next.next\n",
    "            \n",
    "        return slow"
   ]
  },
  {
   "cell_type": "code",
   "execution_count": 6,
   "metadata": {},
   "outputs": [
    {
     "name": "stdout",
     "output_type": "stream",
     "text": [
      "Case 1: [3, 4, 5]\n",
      "Case 2: [4, 5, 6]\n"
     ]
    }
   ],
   "source": [
    "# Test on Cases\n",
    "from leetcodepractice import Print\n",
    "\n",
    "S, P, L = Solution(), Print(), ListNode()\n",
    "\n",
    "print(f\"Case 1: {P.LinkedListTraversal(S.middleNode(L.list2LinkedList([1,2,3,4,5])))}\")\n",
    "print(f\"Case 2: {P.LinkedListTraversal(S.middleNode(L.list2LinkedList([1,2,3,4,5,6])))}\")"
   ]
  }
 ],
 "metadata": {
  "kernelspec": {
   "display_name": "Python 3.10.4 ('leetcode')",
   "language": "python",
   "name": "python3"
  },
  "language_info": {
   "codemirror_mode": {
    "name": "ipython",
    "version": 3
   },
   "file_extension": ".py",
   "mimetype": "text/x-python",
   "name": "python",
   "nbconvert_exporter": "python",
   "pygments_lexer": "ipython3",
   "version": "3.10.4"
  },
  "vscode": {
   "interpreter": {
    "hash": "21d8332eb27bea95342760850bd7426f517b6a483537194bbba87e10eeabf6ff"
   }
  }
 },
 "nbformat": 4,
 "nbformat_minor": 4
}
