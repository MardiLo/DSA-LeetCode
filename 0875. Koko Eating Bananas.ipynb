{
 "cells": [
  {
   "cell_type": "markdown",
   "metadata": {},
   "source": [
    "`# Array` `# Binary Search`"
   ]
  },
  {
   "attachments": {},
   "cell_type": "markdown",
   "metadata": {},
   "source": [
    "Koko loves to eat bananas. There are `n` piles of bananas, the `i`<sup>`th`</sup> pile has `piles[i]` bananas. The guards have gone and will come back in `h` hours.\n",
    "\n",
    "Koko can decide her bananas-per-hour eating speed of `k`. Each hour, she chooses some pile of bananas and eats `k` bananas from that pile. If the pile has less than `k` bananas, she eats all of them instead and will not eat any more bananas during this hour.\n",
    "\n",
    "Koko likes to eat slowly but still wants to finish eating all the bananas before the guards return.\n",
    "\n",
    "Return *the minimum integer* `k` *such that she can eat all the bananas within* `h` *hours.*"
   ]
  },
  {
   "attachments": {},
   "cell_type": "markdown",
   "metadata": {},
   "source": [
    "**Example 1:**\n",
    "\n",
    "> Input: piles = [3,6,7,11], h = 8  \n",
    "> Output: 4  \n",
    "\n",
    "**Example 2:**\n",
    "\n",
    "> Input: piles = [30,11,23,4,20], h = 5  \n",
    "> Output: 30  \n",
    "\n",
    "**Example 3:**\n",
    "\n",
    "> Input: piles = [30,11,23,4,20], h = 6  \n",
    "> Output: 23"
   ]
  },
  {
   "cell_type": "code",
   "execution_count": 1,
   "metadata": {},
   "outputs": [],
   "source": [
    "class Solution:\n",
    "\n",
    "    # Time Complexity： O(nlogp) where n = len(piles), p = max(piles)\n",
    "    # Space Complexity： O(1) \n",
    "    def minEatingSpeed(self, piles: list[int], h: int) -> int:\n",
    "        from math import ceil\n",
    "\n",
    "        l, r = 1, max(piles)\n",
    "\n",
    "        while l <= r:\n",
    "            m = (l+r) // 2\n",
    "\n",
    "            if sum(ceil(p/m) for p in piles) <= h: r = m - 1           # or reduce(lambda x, y: x + ceil(y/m), piles, 0)\n",
    "            else: l = m + 1\n",
    "\n",
    "        return l\n",
    "     \n",
    "    # Time Complexity： O(nlogp)\n",
    "    # Space Complexity： O(1) \n",
    "    def minEatingSpeed_lib(self, piles: list[int], h: int) -> int:\n",
    "        from bisect import bisect_left\n",
    "        from math import ceil\n",
    "\n",
    "        return bisect_left(range(max(piles)+1), -h, lo=1, key=lambda m: -sum(ceil(p/m) for p in piles))"
   ]
  },
  {
   "cell_type": "code",
   "execution_count": 2,
   "metadata": {},
   "outputs": [
    {
     "name": "stdout",
     "output_type": "stream",
     "text": [
      "---minEatingSpeed---\n",
      "Case 1: 4\n",
      "Case 2: 30\n",
      "Case 3: 23\n",
      "\n",
      "---minEatingSpeed_lib---\n",
      "Case 1: 4\n",
      "Case 2: 30\n",
      "Case 3: 23\n"
     ]
    }
   ],
   "source": [
    "# Test on Cases\n",
    "S = Solution()\n",
    "\n",
    "print(\"---minEatingSpeed---\")\n",
    "print(f\"Case 1: {S.minEatingSpeed([3,6,7,11], 8)}\")\n",
    "print(f\"Case 2: {S.minEatingSpeed([30,11,23,4,20], 5)}\")\n",
    "print(f\"Case 3: {S.minEatingSpeed([30,11,23,4,20], 6)}\\n\")\n",
    "\n",
    "print(\"---minEatingSpeed_lib---\")\n",
    "print(f\"Case 1: {S.minEatingSpeed_lib([3,6,7,11], 8)}\")\n",
    "print(f\"Case 2: {S.minEatingSpeed_lib([30,11,23,4,20], 5)}\")\n",
    "print(f\"Case 3: {S.minEatingSpeed_lib([30,11,23,4,20], 6)}\")"
   ]
  }
 ],
 "metadata": {
  "kernelspec": {
   "display_name": "Python 3 (ipykernel)",
   "language": "python",
   "name": "python3"
  },
  "language_info": {
   "codemirror_mode": {
    "name": "ipython",
    "version": 3
   },
   "file_extension": ".py",
   "mimetype": "text/x-python",
   "name": "python",
   "nbconvert_exporter": "python",
   "pygments_lexer": "ipython3",
   "version": "3.10.4"
  },
  "vscode": {
   "interpreter": {
    "hash": "21d8332eb27bea95342760850bd7426f517b6a483537194bbba87e10eeabf6ff"
   }
  }
 },
 "nbformat": 4,
 "nbformat_minor": 4
}
