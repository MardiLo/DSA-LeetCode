{
 "cells": [
  {
   "cell_type": "markdown",
   "metadata": {},
   "source": [
    "`# Breadth-first Search` `# Depth-first Search` `# Tree`"
   ]
  },
  {
   "cell_type": "markdown",
   "metadata": {},
   "source": [
    "Given the `root` of a binary tree, check *whether it is a mirror of itself* (i.e., symmetric around its center)."
   ]
  },
  {
   "cell_type": "markdown",
   "metadata": {},
   "source": [
    "**Example 1:**  \n",
    "![Image of leetcode 0101 problem example 1](https://assets.leetcode.com/uploads/2021/02/19/symtree1.jpg)\n",
    "> Input: root = [1,2,2,3,4,4,3]  \n",
    "Output: true\n",
    "    \n",
    "**Example 2:**  \n",
    "![Image of leetcode 0101 problem example 2](https://assets.leetcode.com/uploads/2021/02/19/symtree2.jpg)\n",
    "> Input: root = [1,2,2,null,3,null,3]  \n",
    "Output: false"
   ]
  },
  {
   "cell_type": "code",
   "execution_count": 1,
   "metadata": {},
   "outputs": [],
   "source": [
    "class TreeNode:\n",
    "    def __init__(self, val=0, left=None, right=None):\n",
    "        self.val = val\n",
    "        self.left = left\n",
    "        self.right = right\n",
    "\n",
    "class Solution:\n",
    "    \n",
    "    # Time Complexity： O(n)\n",
    "    # Space Complexity： O(n)    \n",
    "    def isSymmetric_DFS(self, root: 'TreeNode') -> 'bool':\n",
    "        if not root: return True\n",
    "            \n",
    "        stack = [(root.left, root.right)]\n",
    "        while stack:\n",
    "            l, r = stack.pop()      # TC: list.pop(): O(1); list.pop(0): O(n)\n",
    "            \n",
    "            if not l and not r:\n",
    "                continue\n",
    "            elif not l or not r or l.val != r.val:\n",
    "                return False\n",
    "            else:\n",
    "                stack.append((l.left, r.right))\n",
    "                stack.append((r.left, l.right))\n",
    "        \n",
    "        return True\n",
    "    \n",
    "    \n",
    "    # Time Complexity： O(n)\n",
    "    # Space Complexity： O(n)        \n",
    "    def isSymmetric_BFS(self, root: 'TreeNode') -> 'bool':\n",
    "        from collections import deque \n",
    "        \n",
    "        if not root: return True\n",
    "        \n",
    "        queue = deque([(root.left, root.right)])\n",
    "        while queue:\n",
    "            l, r = queue.popleft()    # TC: deque.popleft(): O(1)\n",
    "\n",
    "            if not l and not r:\n",
    "                continue\n",
    "            elif not l or not r or l.val != r.val:\n",
    "                return False\n",
    "            else:\n",
    "                queue.append((l.left, r.right))\n",
    "                queue.append((r.left, l.right))\n",
    "        \n",
    "        return True"
   ]
  },
  {
   "cell_type": "code",
   "execution_count": 2,
   "metadata": {},
   "outputs": [
    {
     "name": "stdout",
     "output_type": "stream",
     "text": [
      "---isSymmetric_DFS---\n",
      "Case 1: True\n",
      "Case 2: False\n",
      "\n",
      "---isSymmetric_BFS---\n",
      "Case 1: True\n",
      "Case 2: False\n",
      "\n"
     ]
    }
   ],
   "source": [
    "# Test on Cases\n",
    "S = Solution()\n",
    "\n",
    "print(\"---isSymmetric_DFS---\")\n",
    "print(f\"Case 1: {S.isSymmetric_DFS(TreeNode(1, TreeNode(2, TreeNode(3), TreeNode(4)), TreeNode(2, TreeNode(4), TreeNode(3))))}\")\n",
    "print(f\"Case 2: {S.isSymmetric_DFS(TreeNode(1, TreeNode(2, None, TreeNode(3)), TreeNode(2, None, TreeNode(3))))}\\n\")\n",
    "\n",
    "print(\"---isSymmetric_BFS---\")\n",
    "print(f\"Case 1: {S.isSymmetric_BFS(TreeNode(1, TreeNode(2, TreeNode(3), TreeNode(4)), TreeNode(2, TreeNode(4), TreeNode(3))))}\")\n",
    "print(f\"Case 2: {S.isSymmetric_BFS(TreeNode(1, TreeNode(2, None, TreeNode(3)), TreeNode(2, None, TreeNode(3))))}\\n\")"
   ]
  }
 ],
 "metadata": {
  "interpreter": {
   "hash": "6ab137a14910b4ee65d0ea442464c53c8571f8241496146388c5db8c59915964"
  },
  "kernelspec": {
   "display_name": "Python 3.7.7 64-bit ('spark': conda)",
   "name": "python3"
  },
  "language_info": {
   "codemirror_mode": {
    "name": "ipython",
    "version": 3
   },
   "file_extension": ".py",
   "mimetype": "text/x-python",
   "name": "python",
   "nbconvert_exporter": "python",
   "pygments_lexer": "ipython3",
   "version": "3.7.7"
  }
 },
 "nbformat": 4,
 "nbformat_minor": 4
}
