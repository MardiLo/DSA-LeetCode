{
 "cells": [
  {
   "cell_type": "markdown",
   "source": [
    "`# Breadth-first Search` `# Depth-first Search` `# Tree`"
   ],
   "metadata": {}
  },
  {
   "cell_type": "markdown",
   "source": [
    "Given the `root` of a binary tree, check *whether it is a mirror of itself* (i.e., symmetric around its center)."
   ],
   "metadata": {}
  },
  {
   "cell_type": "markdown",
   "source": [
    "**Example 1:**\n",
    "![Image of leetcode 0101 problem example 1](https://assets.leetcode.com/uploads/2021/02/19/symtree1.jpg)\n",
    "> Input: root = [1,2,2,3,4,4,3]  \n",
    "Output: true\n",
    "    \n",
    "**Example 2:**\n",
    "![Image of leetcode 0101 problem example 2](https://assets.leetcode.com/uploads/2021/02/19/symtree2.jpg)\n",
    "> Input: root = [1,2,2,null,3,null,3]  \n",
    "Output: false"
   ],
   "metadata": {}
  },
  {
   "cell_type": "code",
   "execution_count": 1,
   "source": [
    "class TreeNode:\r\n",
    "    def __init__(self, val=0, left=None, right=None):\r\n",
    "        self.val = val\r\n",
    "        self.left = left\r\n",
    "        self.right = right\r\n",
    "\r\n",
    "class Solution:\r\n",
    "    \r\n",
    "    # Time Complexity： O(n)\r\n",
    "    # Space Complexity： O(n)    \r\n",
    "    def isSymmetric_DFS(self, root: 'TreeNode') -> 'bool':\r\n",
    "        if not root:\r\n",
    "            return True\r\n",
    "        \r\n",
    "        stack = [(root.left, root.right)]\r\n",
    "        while stack:\r\n",
    "            l, r = stack.pop()    # TC: list.pop(0): O(n)\r\n",
    "            \r\n",
    "            if not l and not r:\r\n",
    "                continue\r\n",
    "            elif (not l or not r) or (l.val != r.val):\r\n",
    "                return False\r\n",
    "            else:\r\n",
    "                stack.append((l.left, r.right))\r\n",
    "                stack.append((l.right, r.left))\r\n",
    "        \r\n",
    "        return True\r\n",
    "    \r\n",
    "    # Time Complexity： O(n)\r\n",
    "    # Space Complexity： O(n)        \r\n",
    "    def isSymmetric_BFS(self, root: 'TreeNode') -> 'bool':\r\n",
    "        from collections import deque \r\n",
    "        \r\n",
    "        if not root:\r\n",
    "            return True\r\n",
    "        \r\n",
    "        queue = deque([(root.left, root.right)])\r\n",
    "        while queue:\r\n",
    "            l, r = queue.popleft()    # TC: deque.popleft(): O(1)\r\n",
    "\r\n",
    "            if not l and not r:\r\n",
    "                continue\r\n",
    "            elif (not l or not r) or (l.val != r.val):\r\n",
    "                return False\r\n",
    "            else:\r\n",
    "                queue.append((l.left, r.right))\r\n",
    "                queue.append((l.right, r.left))\r\n",
    "        \r\n",
    "        return True"
   ],
   "outputs": [],
   "metadata": {}
  },
  {
   "cell_type": "code",
   "execution_count": 2,
   "source": [
    "# Test on Cases\r\n",
    "S = Solution()\r\n",
    "\r\n",
    "print(\"---isSymmetric_DFS---\")\r\n",
    "print(f\"Case 1: {S.isSymmetric_DFS(TreeNode(1, TreeNode(2, TreeNode(3), TreeNode(4)), TreeNode(2, TreeNode(4), TreeNode(3))))}\")\r\n",
    "print(f\"Case 2: {S.isSymmetric_DFS(TreeNode(1, TreeNode(2, None, TreeNode(3)), TreeNode(2, None, TreeNode(3))))}\\n\")\r\n",
    "\r\n",
    "print(\"---isSymmetric_BFS---\")\r\n",
    "print(f\"Case 1: {S.isSymmetric_BFS(TreeNode(1, TreeNode(2, TreeNode(3), TreeNode(4)), TreeNode(2, TreeNode(4), TreeNode(3))))}\")\r\n",
    "print(f\"Case 2: {S.isSymmetric_BFS(TreeNode(1, TreeNode(2, None, TreeNode(3)), TreeNode(2, None, TreeNode(3))))}\\n\")"
   ],
   "outputs": [
    {
     "output_type": "stream",
     "name": "stdout",
     "text": [
      "---isSymmetric_DFS---\n",
      "Case 1: True\n",
      "Case 2: False\n",
      "\n",
      "---isSymmetric_BFS---\n",
      "Case 1: True\n",
      "Case 2: False\n",
      "\n"
     ]
    }
   ],
   "metadata": {}
  }
 ],
 "metadata": {
  "kernelspec": {
   "display_name": "Python 3",
   "language": "python",
   "name": "python3"
  },
  "language_info": {
   "codemirror_mode": {
    "name": "ipython",
    "version": 3
   },
   "file_extension": ".py",
   "mimetype": "text/x-python",
   "name": "python",
   "nbconvert_exporter": "python",
   "pygments_lexer": "ipython3",
   "version": "3.7.7"
  }
 },
 "nbformat": 4,
 "nbformat_minor": 4
}