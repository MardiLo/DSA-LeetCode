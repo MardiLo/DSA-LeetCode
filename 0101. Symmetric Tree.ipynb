{
 "cells": [
  {
   "cell_type": "markdown",
   "metadata": {},
   "source": [
    "`# Breadth-first Search` `# Depth-first Search` `# Tree`"
   ]
  },
  {
   "cell_type": "markdown",
   "metadata": {},
   "source": [
    "Given the `root` of a binary tree, check *whether it is a mirror of itself* (i.e., symmetric around its center)."
   ]
  },
  {
   "cell_type": "markdown",
   "metadata": {},
   "source": [
    "**Example 1:**  \n",
    "![Image of leetcode 0101 problem example 1](https://assets.leetcode.com/uploads/2021/02/19/symtree1.jpg)\n",
    "> Input: root = [1,2,2,3,4,4,3]  \n",
    "> Output: true\n",
    "    \n",
    "**Example 2:**  \n",
    "![Image of leetcode 0101 problem example 2](https://assets.leetcode.com/uploads/2021/02/19/symtree2.jpg)\n",
    "> Input: root = [1,2,2,null,3,null,3]  \n",
    "> Output: false"
   ]
  },
  {
   "cell_type": "code",
   "execution_count": 1,
   "metadata": {},
   "outputs": [],
   "source": [
    "class TreeNode:\n",
    "    def __init__(self, val=0, left=None, right=None):\n",
    "        self.val = val\n",
    "        self.left = left\n",
    "        self.right = right\n",
    "\n",
    "class Solution:\n",
    "    \n",
    "    # Time Complexity： O(n)\n",
    "    # Space Complexity： O(h)    \n",
    "    def isSymmetric_DFS_recursion(self, root: TreeNode) -> bool:\n",
    "        def dfs(l: TreeNode, r: TreeNode) -> bool:\n",
    "            return l.val == r.val and dfs(l.left, r.right) and dfs(l.right, r.left) if l and r else l == r\n",
    "\n",
    "        return dfs(root.left, root.right)\n",
    "\n",
    "    # Time Complexity： O(n)\n",
    "    # Space Complexity： O(w)        \n",
    "    def isSymmetric_BFS(self, root: TreeNode) -> bool:\n",
    "        from collections import deque \n",
    "        \n",
    "        queue = deque([(root.left, root.right)])\n",
    "        while queue:\n",
    "            l, r = queue.popleft()\n",
    "            \n",
    "            if l and r and l.val == r.val: queue.extend([(l.left, r.right), (l.right, r.left)])\n",
    "            elif not l and not r: continue\n",
    "            else: return False\n",
    "                \n",
    "        return True\n",
    "\n",
    "    # Time Complexity： O(n)\n",
    "    # Space Complexity： O(h)    \n",
    "    def isSymmetric_DFS_iteration(self, root: TreeNode) -> bool:\n",
    "        stack = [(root.left, root.right)]\n",
    "        while stack:\n",
    "            l, r = stack.pop()\n",
    "            \n",
    "            if l and r and l.val == r.val: stack.extend([(l.left, r.right), (l.right, r.left)])\n",
    "            elif not l and not r: continue\n",
    "            else: return False\n",
    "                \n",
    "        return True"
   ]
  },
  {
   "cell_type": "code",
   "execution_count": 2,
   "metadata": {},
   "outputs": [
    {
     "name": "stdout",
     "output_type": "stream",
     "text": [
      "---isSymmetric_DFS_recursion---\n",
      "Case 1: True\n",
      "Case 2: False\n",
      "\n",
      "---isSymmetric_BFS---\n",
      "Case 1: True\n",
      "Case 2: False\n",
      "\n",
      "---isSymmetric_DFS_iteration---\n",
      "Case 1: True\n",
      "Case 2: False\n"
     ]
    }
   ],
   "source": [
    "# Test on Cases\n",
    "S = Solution()\n",
    "\n",
    "print(\"---isSymmetric_DFS_recursion---\")\n",
    "print(f\"Case 1: {S.isSymmetric_DFS_recursion(TreeNode(1, TreeNode(2, TreeNode(3), TreeNode(4)), TreeNode(2, TreeNode(4), TreeNode(3))))}\")\n",
    "print(f\"Case 2: {S.isSymmetric_DFS_recursion(TreeNode(1, TreeNode(2, None, TreeNode(3)), TreeNode(2, None, TreeNode(3))))}\\n\")\n",
    "\n",
    "print(\"---isSymmetric_BFS---\")\n",
    "print(f\"Case 1: {S.isSymmetric_BFS(TreeNode(1, TreeNode(2, TreeNode(3), TreeNode(4)), TreeNode(2, TreeNode(4), TreeNode(3))))}\")\n",
    "print(f\"Case 2: {S.isSymmetric_BFS(TreeNode(1, TreeNode(2, None, TreeNode(3)), TreeNode(2, None, TreeNode(3))))}\\n\")\n",
    "\n",
    "print(\"---isSymmetric_DFS_iteration---\")\n",
    "print(f\"Case 1: {S.isSymmetric_DFS_iteration(TreeNode(1, TreeNode(2, TreeNode(3), TreeNode(4)), TreeNode(2, TreeNode(4), TreeNode(3))))}\")\n",
    "print(f\"Case 2: {S.isSymmetric_DFS_iteration(TreeNode(1, TreeNode(2, None, TreeNode(3)), TreeNode(2, None, TreeNode(3))))}\")"
   ]
  }
 ],
 "metadata": {
  "kernelspec": {
   "display_name": "Python 3 (ipykernel)",
   "language": "python",
   "name": "python3"
  },
  "language_info": {
   "codemirror_mode": {
    "name": "ipython",
    "version": 3
   },
   "file_extension": ".py",
   "mimetype": "text/x-python",
   "name": "python",
   "nbconvert_exporter": "python",
   "pygments_lexer": "ipython3",
   "version": "3.10.4"
  },
  "vscode": {
   "interpreter": {
    "hash": "21d8332eb27bea95342760850bd7426f517b6a483537194bbba87e10eeabf6ff"
   }
  }
 },
 "nbformat": 4,
 "nbformat_minor": 4
}
