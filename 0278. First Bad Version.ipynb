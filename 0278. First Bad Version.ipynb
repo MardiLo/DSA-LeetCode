{
 "cells": [
  {
   "cell_type": "markdown",
   "metadata": {},
   "source": [
    "`# Binary Search` `# Interactive`"
   ]
  },
  {
   "cell_type": "markdown",
   "metadata": {},
   "source": [
    "You are a product manager and currently leading a team to develop a new product. Unfortunately, the latest version of your product fails the quality check. Since each version is developed based on the previous version, all the versions after a bad version are also bad.\n",
    "\n",
    "Suppose you have `n` versions `[1, 2, ..., n]` and you want to find out the first bad one, which causes all the following ones to be bad.\n",
    "\n",
    "You are given an API `bool isBadVersion(version)` which returns whether `version` is bad. Implement a function to find the first bad version. You should minimize the number of calls to the API."
   ]
  },
  {
   "cell_type": "markdown",
   "metadata": {},
   "source": [
    "**Example 1:**\n",
    "\n",
    "> Input: n = 5, bad = 4  \n",
    "> Output: 4  \n",
    "> Explanation:  \n",
    "> call isBadVersion(3) -> false  \n",
    "> call isBadVersion(5) -> true  \n",
    "> call isBadVersion(4) -> true  \n",
    "> Then 4 is the first bad version.  \n",
    "\n",
    "**Example 2:**\n",
    "\n",
    "> Input: n = 1, bad = 1  \n",
    "> Output: 1  "
   ]
  },
  {
   "cell_type": "code",
   "execution_count": 1,
   "metadata": {},
   "outputs": [],
   "source": [
    "class Solution:\n",
    "\n",
    "    # Time Complexity： O(logn)\n",
    "    # Space Complexity： O(1)\n",
    "    def firstBadVersion(self, n: int) -> int:\n",
    "        l, r = 1, n\n",
    "        \n",
    "        while l <= r:            \n",
    "            if isBadVersion((m := (l+r) // 2)): r = m - 1\n",
    "            else: l = m + 1\n",
    "            \n",
    "        return l\n",
    "        \n",
    "    # Time Complexity： O(logn)\n",
    "    # Space Complexity： O(1)\n",
    "    def firstBadVersion_lib(self, n: int) -> int:\n",
    "        from bisect import bisect_left\n",
    "\n",
    "        return bisect_left(range(n), True, lo=1, key=lambda m: isBadVersion(m))  # use lo key to specify a subset, so the index will be perfectly matched to the value in the list"
   ]
  }
 ],
 "metadata": {
  "kernelspec": {
   "display_name": "Python 3 (ipykernel)",
   "language": "python",
   "name": "python3"
  },
  "language_info": {
   "codemirror_mode": {
    "name": "ipython",
    "version": 3
   },
   "file_extension": ".py",
   "mimetype": "text/x-python",
   "name": "python",
   "nbconvert_exporter": "python",
   "pygments_lexer": "ipython3",
   "version": "3.10.4"
  },
  "vscode": {
   "interpreter": {
    "hash": "21d8332eb27bea95342760850bd7426f517b6a483537194bbba87e10eeabf6ff"
   }
  }
 },
 "nbformat": 4,
 "nbformat_minor": 4
}
