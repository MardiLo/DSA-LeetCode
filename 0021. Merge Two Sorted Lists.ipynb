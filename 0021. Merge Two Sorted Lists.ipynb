{
 "cells": [
  {
   "cell_type": "markdown",
   "source": [
    "`# Linked List` `# Recursion`"
   ],
   "metadata": {}
  },
  {
   "cell_type": "markdown",
   "source": [
    "Merge two sorted linked lists and return *it as a **sorted** list*. The list should be made by splicing together the nodes of the first two lists."
   ],
   "metadata": {}
  },
  {
   "cell_type": "markdown",
   "source": [
    "**Example 1:**  \r\n",
    "![Image of leetcode 0021 problem example 1](https://assets.leetcode.com/uploads/2020/10/03/merge_ex1.jpg)\r\n",
    "> Input: Input: l1 = [1,2,4], l2 = [1,3,4]  \r\n",
    "Output: [1,1,2,3,4,4]\r\n",
    "\r\n",
    "**Example 2:**\r\n",
    "\r\n",
    "> Input: l1 = [], l2 = []  \r\n",
    "Output: []\r\n",
    "\r\n",
    "**Example 3:**\r\n",
    "\r\n",
    "> Input: Input: l1 = [], l2 = [0]  \r\n",
    "Output: [0]"
   ],
   "metadata": {}
  },
  {
   "cell_type": "code",
   "execution_count": 5,
   "source": [
    "class ListNode:\r\n",
    "    def __init__(self, val=0, next=None):\r\n",
    "        self.val = val\r\n",
    "        self.next = next\r\n",
    "        \r\n",
    "    def list2LinkedList(self, lst):\r\n",
    "        cur = dummy = ListNode(0)\r\n",
    "\r\n",
    "        for node in lst:\r\n",
    "            cur.next = ListNode(node)\r\n",
    "            cur = cur.next\r\n",
    "\r\n",
    "        return dummy.next\r\n",
    "\r\n",
    "class Solution:\r\n",
    "    \r\n",
    "    # Time Complexity： O(m+n)\r\n",
    "    # Space Complexity： O(m+n+1)\r\n",
    "    def mergeTwoLists(self, l1: 'ListNode', l2: 'ListNode') -> 'ListNode':\r\n",
    "        dummy = cur = ListNode(0)\r\n",
    "        \r\n",
    "        while l1 and l2:           # TC: O(m+n), where m = len(l1); n = len(l2)\r\n",
    "            if l1.val <= l2.val:\r\n",
    "                cur.next = l1\r\n",
    "                l1 = l1.next\r\n",
    "            else:\r\n",
    "                cur.next = l2\r\n",
    "                l2 = l2.next\r\n",
    "            cur = cur.next\r\n",
    "\r\n",
    "        # get the remaining segment of l1 or l2    \r\n",
    "        cur.next = l1 or l2        # SC: O(m+n+1)\r\n",
    "        \r\n",
    "        return dummy.next"
   ],
   "outputs": [],
   "metadata": {}
  },
  {
   "cell_type": "code",
   "execution_count": 6,
   "source": [
    "# Test on Cases\r\n",
    "from leetcodepractice import Print\r\n",
    "\r\n",
    "S, P, L = Solution(), Print(), ListNode()\r\n",
    "\r\n",
    "print(f\"Case 1: {P.LinkedListTraversal(S.mergeTwoLists(L.list2LinkedList([1,2,4]), L.list2LinkedList([1,3,4])))}\")\r\n",
    "print(f\"Case 2: {P.LinkedListTraversal(S.mergeTwoLists([], []))}\")\r\n",
    "print(f\"Case 3: {P.LinkedListTraversal(S.mergeTwoLists([], L.list2LinkedList([0])))}\")"
   ],
   "outputs": [
    {
     "output_type": "stream",
     "name": "stdout",
     "text": [
      "Case 1: [1, 1, 2, 3, 4, 4]\n",
      "Case 2: []\n",
      "Case 3: [0]\n"
     ]
    }
   ],
   "metadata": {}
  }
 ],
 "metadata": {
  "kernelspec": {
   "name": "python3",
   "display_name": "Python 3.7.7 64-bit ('spark': conda)"
  },
  "language_info": {
   "codemirror_mode": {
    "name": "ipython",
    "version": 3
   },
   "file_extension": ".py",
   "mimetype": "text/x-python",
   "name": "python",
   "nbconvert_exporter": "python",
   "pygments_lexer": "ipython3",
   "version": "3.7.7"
  },
  "interpreter": {
   "hash": "6ab137a14910b4ee65d0ea442464c53c8571f8241496146388c5db8c59915964"
  }
 },
 "nbformat": 4,
 "nbformat_minor": 4
}