{
 "cells": [
  {
   "cell_type": "markdown",
   "metadata": {},
   "source": [
    "`# Linked List` `# Recursion`"
   ]
  },
  {
   "cell_type": "markdown",
   "metadata": {},
   "source": [
    "Merge two sorted linked lists and return *it as a **sorted** list*. The list should be made by splicing together the nodes of the first two lists."
   ]
  },
  {
   "cell_type": "markdown",
   "metadata": {},
   "source": [
    "**Example 1:**  \n",
    "![Image of leetcode 0021 problem example 1](https://assets.leetcode.com/uploads/2020/10/03/merge_ex1.jpg)\n",
    "> Input: Input: l1 = [1,2,4], l2 = [1,3,4]  \n",
    "Output: [1,1,2,3,4,4]\n",
    "\n",
    "**Example 2:**\n",
    "\n",
    "> Input: l1 = [], l2 = []  \n",
    "Output: []\n",
    "\n",
    "**Example 3:**\n",
    "\n",
    "> Input: Input: l1 = [], l2 = [0]  \n",
    "Output: [0]"
   ]
  },
  {
   "cell_type": "code",
   "execution_count": 5,
   "metadata": {},
   "outputs": [],
   "source": [
    "class ListNode:\n",
    "    def __init__(self, val=0, next=None):\n",
    "        self.val = val\n",
    "        self.next = next\n",
    "        \n",
    "    def list2LinkedList(self, lst):\n",
    "        if not lst: return []\n",
    "\n",
    "        cur = dummy = ListNode(0)\n",
    "        for node in lst:\n",
    "            cur.next = ListNode(node)\n",
    "            cur = cur.next\n",
    "\n",
    "        return dummy.next\n",
    "\n",
    "\n",
    "class Solution:\n",
    "    \n",
    "    # Time Complexity： O(m+n)\n",
    "    # Space Complexity： O(m+n+1)\n",
    "    def mergeTwoLists(self, l1: 'ListNode', l2: 'ListNode') -> 'ListNode':\n",
    "        dummy = cur = ListNode(0)\n",
    "        \n",
    "        while l1 and l2:           # TC: O(m+n), where m = len(l1); n = len(l2)\n",
    "            if l1.val <= l2.val:\n",
    "                cur.next = l1\n",
    "                l1 = l1.next\n",
    "            else:\n",
    "                cur.next = l2\n",
    "                l2 = l2.next\n",
    "            cur = cur.next\n",
    "\n",
    "        # get the remaining segment of l1 or l2    \n",
    "        cur.next = l1 or l2        # SC: O(m+n+1)\n",
    "        \n",
    "        return dummy.next"
   ]
  },
  {
   "cell_type": "code",
   "execution_count": 6,
   "metadata": {},
   "outputs": [
    {
     "name": "stdout",
     "output_type": "stream",
     "text": [
      "Case 1: [1, 1, 2, 3, 4, 4]\n",
      "Case 2: []\n",
      "Case 3: [0]\n"
     ]
    }
   ],
   "source": [
    "# Test on Cases\n",
    "from leetcodepractice import Print\n",
    "\n",
    "S, P, L = Solution(), Print(), ListNode()\n",
    "\n",
    "print(f\"Case 1: {P.LinkedListTraversal(S.mergeTwoLists(L.list2LinkedList([1,2,4]), L.list2LinkedList([1,3,4])))}\")\n",
    "print(f\"Case 2: {P.LinkedListTraversal(S.mergeTwoLists(L.list2LinkedList([]), L.list2LinkedList([])))}\")\n",
    "print(f\"Case 3: {P.LinkedListTraversal(S.mergeTwoLists(L.list2LinkedList([]), L.list2LinkedList([0])))}\")"
   ]
  }
 ],
 "metadata": {
  "interpreter": {
   "hash": "6ab137a14910b4ee65d0ea442464c53c8571f8241496146388c5db8c59915964"
  },
  "kernelspec": {
   "display_name": "Python 3.7.7 64-bit ('spark': conda)",
   "name": "python3"
  },
  "language_info": {
   "codemirror_mode": {
    "name": "ipython",
    "version": 3
   },
   "file_extension": ".py",
   "mimetype": "text/x-python",
   "name": "python",
   "nbconvert_exporter": "python",
   "pygments_lexer": "ipython3",
   "version": "3.7.7"
  }
 },
 "nbformat": 4,
 "nbformat_minor": 4
}
