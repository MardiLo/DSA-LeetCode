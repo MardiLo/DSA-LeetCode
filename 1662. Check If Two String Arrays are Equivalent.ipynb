{
 "cells": [
  {
   "cell_type": "markdown",
   "metadata": {},
   "source": [
    "`# Array` `# String`"
   ]
  },
  {
   "cell_type": "markdown",
   "metadata": {},
   "source": [
    "Given two string arrays `word1` and `word2`, return `true` *if the two arrays ***represent*** the same string, and* `false` *otherwise*.\n",
    "\n",
    "A string is **represented** by an array if the array elements concatenated **in order** forms the string."
   ]
  },
  {
   "cell_type": "markdown",
   "metadata": {},
   "source": [
    "**Example 1:**\n",
    "\n",
    "> Input: word1 = [\"ab\", \"c\"], word2 = [\"a\", \"bc\"]  \n",
    "> Output: true  \n",
    "> Explanation:  \n",
    "> word1 represents string \"ab\" + \"c\" -> \"abc\"  \n",
    "> word2 represents string \"a\" + \"bc\" -> \"abc\"  \n",
    "> The strings are the same, so return true.  \n",
    "\n",
    "**Example 2:**\n",
    "\n",
    "> Input: word1 = [\"a\", \"cb\"], word2 = [\"ab\", \"c\"]  \n",
    "> Output: false  \n",
    "\n",
    "**Example 3:**\n",
    "\n",
    "> Input: word1  = [\"abc\", \"d\", \"defg\"], word2 = [\"abcddefg\"]  \n",
    "> Output: true"
   ]
  },
  {
   "cell_type": "code",
   "execution_count": 1,
   "metadata": {},
   "outputs": [],
   "source": [
    "from typing import Generator\n",
    "\n",
    "class Solution:\n",
    "\n",
    "    # Time Complexity： O(n)\n",
    "    # Space Complexity： O(1)\n",
    "    def arrayStringsAreEqual(self, word1: list[str], word2: list[str]) -> bool:\n",
    "        from itertools import zip_longest\n",
    "\n",
    "        def generator(words: list[str]) -> Generator[str, None, None]:\n",
    "            for word in words:\n",
    "                for c in word:\n",
    "                    yield c\n",
    "            \n",
    "        return all(c1 == c2 for c1, c2 in zip_longest(*map(generator, (word1, word2)), fillvalue=''))"
   ]
  },
  {
   "cell_type": "code",
   "execution_count": 2,
   "metadata": {},
   "outputs": [
    {
     "name": "stdout",
     "output_type": "stream",
     "text": [
      "Case 1: True\n",
      "Case 2: False\n",
      "Case 3: True\n"
     ]
    }
   ],
   "source": [
    "# Test on Cases\n",
    "S = Solution()\n",
    "\n",
    "print(f\"Case 1: {S.arrayStringsAreEqual(word1=['ab', 'c'], word2=['a', 'bc'])}\")\n",
    "print(f\"Case 2: {S.arrayStringsAreEqual(word1=['a', 'cb'], word2=['ab', 'c'])}\")\n",
    "print(f\"Case 3: {S.arrayStringsAreEqual(word1=['abc', 'd', 'defg'], word2=['abcddefg'])}\")"
   ]
  }
 ],
 "metadata": {
  "kernelspec": {
   "display_name": "Python 3 (ipykernel)",
   "language": "python",
   "name": "python3"
  },
  "language_info": {
   "codemirror_mode": {
    "name": "ipython",
    "version": 3
   },
   "file_extension": ".py",
   "mimetype": "text/x-python",
   "name": "python",
   "nbconvert_exporter": "python",
   "pygments_lexer": "ipython3",
   "version": "3.10.4"
  },
  "vscode": {
   "interpreter": {
    "hash": "21d8332eb27bea95342760850bd7426f517b6a483537194bbba87e10eeabf6ff"
   }
  }
 },
 "nbformat": 4,
 "nbformat_minor": 4
}
