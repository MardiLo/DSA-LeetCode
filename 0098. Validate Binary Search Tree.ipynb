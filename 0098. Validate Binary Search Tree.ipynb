{
 "cells": [
  {
   "cell_type": "markdown",
   "metadata": {},
   "source": [
    "`# Binary Search Tree` `# Binary Tree` `# Depth-First Search` `# Tree`"
   ]
  },
  {
   "cell_type": "markdown",
   "metadata": {},
   "source": [
    "Given the `root` of a binary tree, determine *if it is a valid binary search tree (BST)*.\n",
    "\n",
    "A valid BST is defined as follows:\n",
    "\n",
    "- The left subtree of a node contains only nodes with keys **less than** the node's key.\n",
    "- The right subtree of a node contains only nodes with keys **greater than** the node's key.\n",
    "- Both the left and right subtrees must also be binary search trees."
   ]
  },
  {
   "cell_type": "markdown",
   "metadata": {},
   "source": [
    "**Example 1:**  \n",
    "![Image of leetcode 0098 problem example 1](https://assets.leetcode.com/uploads/2020/12/01/tree1.jpg)\n",
    "> Input: root = [2,1,3]  \n",
    "Output: true  \n",
    "\n",
    "**Example 2:**  \n",
    "![Image of leetcode 0098 problem example 2](https://assets.leetcode.com/uploads/2020/12/01/tree2.jpg)  \n",
    "> Input: root = [5,1,4,null,null,3,6]  \n",
    "Output: false  \n",
    "Explanation: The root node's value is 5 but its right child's value is 4.  "
   ]
  },
  {
   "cell_type": "code",
   "execution_count": 9,
   "metadata": {},
   "outputs": [],
   "source": [
    "class TreeNode:\n",
    "    def __init__(self, val=0, left=None, right=None):\n",
    "        self.val = val\n",
    "        self.left = left\n",
    "        self.right = right\n",
    "\n",
    "class Solution:\n",
    "    \n",
    "    # Time Complexity： O(n)\n",
    "    # Space Complexity： O(h)\n",
    "    def isValidBST_DFS_recursion(self, root: TreeNode) -> bool:\n",
    "        def dfs(root: TreeNode, floor: int, ceil: int) -> bool:\n",
    "            return floor < root.val < ceil and dfs(root.left, floor, root.val) and dfs(root.right, root.val, ceil) if root else True\n",
    "        \n",
    "        return dfs(root, float('-inf'), float('inf'))\n",
    "\n",
    "    # Time Complexity： O(n)\n",
    "    # Space Complexity： O(h)     \n",
    "    def isValidBST_DFS_iteration(self, root: TreeNode) -> list[int]:\n",
    "        \"\"\"If a tree is a BST, then each node value we visit by inorder traversal is grater than the previous node\"\"\"\n",
    "\n",
    "        stack, lastVisited = [(0, root)], float('-inf')\n",
    "        while stack:\n",
    "            visited, root = stack.pop()\n",
    "\n",
    "            if root:\n",
    "                if not visited: \n",
    "                    stack.extend([(0, root.right), (1, root), (0, root.left)])\n",
    "                else: \n",
    "                    if root.val <= lastVisited: return False\n",
    "                    lastVisited = root.val\n",
    "\n",
    "        return True"
   ]
  },
  {
   "cell_type": "code",
   "execution_count": 10,
   "metadata": {},
   "outputs": [
    {
     "name": "stdout",
     "output_type": "stream",
     "text": [
      "---isValidBST_DFS_recursion---\n",
      "Case 1: True\n",
      "Case 2: False\n",
      "\n",
      "---isValidBST_DFS_iteration---\n",
      "Case 1: True\n",
      "Case 2: False\n"
     ]
    }
   ],
   "source": [
    "# Test on Cases\n",
    "S = Solution()\n",
    "\n",
    "print(\"---isValidBST_DFS_recursion---\")\n",
    "print(f\"Case 1: {S.isValidBST_DFS_recursion(TreeNode(2, TreeNode(1), TreeNode(3)))}\")\n",
    "print(f\"Case 2: {S.isValidBST_DFS_recursion(TreeNode(5, TreeNode(1), TreeNode(4, TreeNode(3), TreeNode(6))))}\\n\")\n",
    "\n",
    "print(\"---isValidBST_DFS_iteration---\")\n",
    "print(f\"Case 1: {S.isValidBST_DFS_iteration(TreeNode(2, TreeNode(1), TreeNode(3)))}\")\n",
    "print(f\"Case 2: {S.isValidBST_DFS_iteration(TreeNode(5, TreeNode(1), TreeNode(4, TreeNode(3), TreeNode(6))))}\")"
   ]
  }
 ],
 "metadata": {
  "kernelspec": {
   "display_name": "Python 3.10.4 ('leetcode')",
   "language": "python",
   "name": "python3"
  },
  "language_info": {
   "codemirror_mode": {
    "name": "ipython",
    "version": 3
   },
   "file_extension": ".py",
   "mimetype": "text/x-python",
   "name": "python",
   "nbconvert_exporter": "python",
   "pygments_lexer": "ipython3",
   "version": "3.10.4"
  },
  "vscode": {
   "interpreter": {
    "hash": "21d8332eb27bea95342760850bd7426f517b6a483537194bbba87e10eeabf6ff"
   }
  }
 },
 "nbformat": 4,
 "nbformat_minor": 2
}
