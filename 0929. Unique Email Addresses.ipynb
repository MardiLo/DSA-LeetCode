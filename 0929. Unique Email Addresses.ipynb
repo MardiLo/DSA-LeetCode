{
 "cells": [
  {
   "cell_type": "markdown",
   "metadata": {},
   "source": [
    "`# Array` `# Hash Table` `# String`"
   ]
  },
  {
   "cell_type": "markdown",
   "metadata": {},
   "source": [
    "Every **valid email** consists of a **local name** and a **domain name**, separated by the `'@'` sign. Besides lowercase letters, the email may contain one or more `'.'` or `'+'`.\n",
    "\n",
    "- For example, in `\"alice@leetcode.com\"`, `\"alice\"` is the **local name**, and `\"leetcode.com\"` is the **domain name**.  \n",
    "\n",
    "If you add periods `'.'` between some characters in the **local name** part of an email address, mail sent there will be forwarded to the same address without dots in the local name. Note that this rule **does not apply** to **domain names**.\n",
    "\n",
    "- For example, `\"alice.z@leetcode.com\"` and `\"alicez@leetcode.com\"` forward to the same email address.  \n",
    "\n",
    "If you add a plus `'+'` in the **local name**, everything after the first plus sign **will be ignored**. This allows certain emails to be filtered. Note that this rule **does not apply** to **domain names**.\n",
    "\n",
    "- For example, `\"m.y+name@email.com\"` will be forwarded to `\"my@email.com\"`.  \n",
    "\n",
    "It is possible to use both of these rules at the same time.\n",
    "\n",
    "Given an array of strings `emails` where we send one email to each `emails[i]`, return *the number of different addresses that actually receive mails.*"
   ]
  },
  {
   "cell_type": "markdown",
   "metadata": {},
   "source": [
    "**Example 1:**\n",
    "\n",
    "> Input: emails = [\"test.email+alex@leetcode.com\",\"test.e.mail+bob.cathy@leetcode.com\",\"testemail+david@lee.tcode.com\"]  \n",
    "> Output: 2  \n",
    "> Explanation: \"testemail@leetcode.com\" and \"testemail@lee.tcode.com\" actually receive mails.\n",
    "\n",
    "**Example 2**\n",
    "\n",
    "> Input: emails = [\"a@leetcode.com\",\"b@leetcode.com\",\"c@leetcode.com\"]  \n",
    "> Output: 3"
   ]
  },
  {
   "cell_type": "code",
   "execution_count": 1,
   "metadata": {},
   "outputs": [],
   "source": [
    "class Solution:\n",
    "    \n",
    "    # Time Complexity： O(mn), where m is the length of email and n is the number of emails list\n",
    "    # Space Complexity： O(n)\n",
    "    def numUniqueEmails(self, emails: list[str]) -> int:\n",
    "        return len({self.__clean_email(email) for email in emails})\n",
    "    \n",
    "    def __clean_email(self, email: str) -> str:\n",
    "        s = email.split('@')\n",
    "        \n",
    "        if (i := s[0].find('+')) != -1:\n",
    "            s[0] = s[0][:i]\n",
    "\n",
    "        s[0] = s[0].replace('.', '')\n",
    "\n",
    "        return '@'.join(s)\n"
   ]
  },
  {
   "cell_type": "code",
   "execution_count": 2,
   "metadata": {},
   "outputs": [
    {
     "name": "stdout",
     "output_type": "stream",
     "text": [
      "Case 1: 2\n",
      "Case 2: 3\n"
     ]
    }
   ],
   "source": [
    "# Test on Cases\n",
    "S = Solution()\n",
    "\n",
    "print(f\"Case 1: {S.numUniqueEmails(['test.email+alex@leetcode.com','test.e.mail+bob.cathy@leetcode.com','testemail+david@lee.tcode.com'])}\")\n",
    "print(f\"Case 2: {S.numUniqueEmails(['a@leetcode.com','b@leetcode.com','c@leetcode.com'])}\")"
   ]
  }
 ],
 "metadata": {
  "kernelspec": {
   "display_name": "Python 3 (ipykernel)",
   "language": "python",
   "name": "python3"
  },
  "language_info": {
   "codemirror_mode": {
    "name": "ipython",
    "version": 3
   },
   "file_extension": ".py",
   "mimetype": "text/x-python",
   "name": "python",
   "nbconvert_exporter": "python",
   "pygments_lexer": "ipython3",
   "version": "3.11.9"
  },
  "vscode": {
   "interpreter": {
    "hash": "21d8332eb27bea95342760850bd7426f517b6a483537194bbba87e10eeabf6ff"
   }
  }
 },
 "nbformat": 4,
 "nbformat_minor": 4
}
