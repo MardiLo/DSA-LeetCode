{
 "cells": [
  {
   "cell_type": "markdown",
   "metadata": {},
   "source": [
    "`# Array` `# Hash Table`"
   ]
  },
  {
   "cell_type": "markdown",
   "metadata": {},
   "source": [
    "Given an integer array `nums`, return `true` if any value appears at least twice in the array, and return `false` if every element is distinct."
   ]
  },
  {
   "cell_type": "markdown",
   "metadata": {},
   "source": [
    "**Example 1:**\n",
    "\n",
    "> Input: nums = [1,2,3,1]  \n",
    "Output: true\n",
    "\n",
    "**Example 2:**\n",
    "\n",
    "> Input: nums = [1,2,3,4]  \n",
    "Output: false\n",
    "\n",
    "**Example 3:**\n",
    "\n",
    "> Input: nums = [1,1,1,3,3,4,3,2,4,2]  \n",
    "Output: true"
   ]
  },
  {
   "cell_type": "code",
   "execution_count": 1,
   "metadata": {},
   "outputs": [],
   "source": [
    "class Solution:\n",
    "\n",
    "    # Time Complexity： O(n)\n",
    "    # Space Complexity： O(n)\n",
    "    def containsDuplicate_hashTable(self, nums: list[int]) -> bool:\n",
    "        seen = set()\n",
    "        \n",
    "        for num in nums:\n",
    "            if num in seen: return True\n",
    "            seen.add(num)\n",
    "            \n",
    "        return False\n",
    "\n",
    "    # Time Complexity： O(n)\n",
    "    # Space Complexity： O(n)\n",
    "    def containsDuplicate_unEqualSet(self, nums: list[int]) -> bool:\n",
    "        return len(nums) != len(set(nums))\n"
   ]
  },
  {
   "cell_type": "code",
   "execution_count": 2,
   "metadata": {},
   "outputs": [
    {
     "name": "stdout",
     "output_type": "stream",
     "text": [
      "---containsDuplicate_hashTable---\n",
      "Case 1: True\n",
      "Case 2: False\n",
      "Case 3: True\n",
      "\n",
      "---containsDuplicate_unEqualSet---\n",
      "Case 1: True\n",
      "Case 2: False\n",
      "Case 3: True\n"
     ]
    }
   ],
   "source": [
    "# Test on Cases\n",
    "S = Solution()\n",
    "\n",
    "print(\"---containsDuplicate_hashTable---\")\n",
    "print(f\"Case 1: {S.containsDuplicate_hashTable([1,2,3,1])}\")\n",
    "print(f\"Case 2: {S.containsDuplicate_hashTable([1,2,3,4])}\")\n",
    "print(f\"Case 3: {S.containsDuplicate_hashTable([1,1,1,3,3,4,3,2,4,2])}\\n\")\n",
    "\n",
    "print(\"---containsDuplicate_unEqualSet---\")\n",
    "print(f\"Case 1: {S.containsDuplicate_unEqualSet([1,2,3,1])}\")\n",
    "print(f\"Case 2: {S.containsDuplicate_unEqualSet([1,2,3,4])}\")\n",
    "print(f\"Case 3: {S.containsDuplicate_unEqualSet([1,1,1,3,3,4,3,2,4,2])}\")"
   ]
  }
 ],
 "metadata": {
  "kernelspec": {
   "display_name": "Python 3.10.4 ('leetcode')",
   "language": "python",
   "name": "python3"
  },
  "language_info": {
   "codemirror_mode": {
    "name": "ipython",
    "version": 3
   },
   "file_extension": ".py",
   "mimetype": "text/x-python",
   "name": "python",
   "nbconvert_exporter": "python",
   "pygments_lexer": "ipython3",
   "version": "3.10.4"
  },
  "vscode": {
   "interpreter": {
    "hash": "21d8332eb27bea95342760850bd7426f517b6a483537194bbba87e10eeabf6ff"
   }
  }
 },
 "nbformat": 4,
 "nbformat_minor": 4
}
