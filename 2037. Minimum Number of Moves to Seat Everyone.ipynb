{
 "cells": [
  {
   "cell_type": "markdown",
   "metadata": {},
   "source": [
    "`# Array` `# Sorting`"
   ]
  },
  {
   "cell_type": "markdown",
   "metadata": {},
   "source": [
    "There are `n` seats and `n` students in a room. You are given an array `seats` of length `n`, where `seats[i]` is the position of the `i`<sup>`th`</sup> seat. You are also given the array `students` of length `n`, where `students[j]` is the position of the `j`<sup>`th`</sup> student.\n",
    "\n",
    "You may perform the following move any number of times:\n",
    "\n",
    "- Increase or decrease the position of the `i`<sup>`th`</sup> student by `1` (i.e., moving the `i`<sup>`th`</sup> student from position `x` to `x + 1` or `x - 1`)\n",
    "Return *the ***minimum number of moves*** required to move each student to a seat such that no two students are in the same seat.*\n",
    "\n",
    "Note that there may be **multiple** seats or students in the **same** position at the beginning."
   ]
  },
  {
   "cell_type": "markdown",
   "metadata": {},
   "source": [
    "**Example 1:**\n",
    "\n",
    "> Input: seats = [3,1,5], students = [2,7,4]  \n",
    "Output: 4  \n",
    "Explanation: The students are moved as follows:  \n",
    "    - The first student is moved from from position 2 to position 1 using 1 move.  \n",
    "    - The second student is moved from from position 7 to position 5 using 2 moves.  \n",
    "    - The third student is moved from from position 4 to position 3 using 1 move.  \n",
    "In total, 1 + 2 + 1 = 4 moves were used.\n",
    "\n",
    "**Example 2:**\n",
    "\n",
    "> Input: seats = [4,1,5,9], students = [1,3,2,6]  \n",
    "Output: 7  \n",
    "Explanation: The students are moved as follows:  \n",
    "    - The first student is not moved.  \n",
    "    - The second student is moved from from position 3 to position 4 using 1 move.  \n",
    "    - The third student is moved from from position 2 to position 5 using 3 moves.  \n",
    "    - The fourth student is moved from from position 6 to position 9 using 3 moves.  \n",
    "In total, 0 + 1 + 3 + 3 = 7 moves were used.\n",
    "\n",
    "\n",
    "**Example 3:**\n",
    "\n",
    "> Input: seats = [2,2,6,6], students = [1,3,2,6]  \n",
    "Output: 4  \n",
    "Explanation: Note that there are two seats at position 2 and two seats at position 6.  \n",
    "The students are moved as follows:  \n",
    "    - The first student is moved from from position 1 to position 2 using 1 move.  \n",
    "    - The second student is moved from from position 3 to position 6 using 3 moves.  \n",
    "    - The third student is not moved.  \n",
    "    - The fourth student is not moved.  \n",
    "In total, 1 + 3 + 0 + 0 = 4 moves were used.\n"
   ]
  },
  {
   "cell_type": "code",
   "execution_count": 3,
   "metadata": {},
   "outputs": [],
   "source": [
    "class Solution:\n",
    "\n",
    "    # Time Complexity： O(nlogn)\n",
    "    # Space Complexity： O(n)\n",
    "    def minMovesToSeat(self, seats: list[int], students: list[int]) -> int:\n",
    "        return sum(abs(seat - student) for seat, student in zip(sorted(seats), sorted(students)))\n"
   ]
  },
  {
   "cell_type": "code",
   "execution_count": 4,
   "metadata": {},
   "outputs": [
    {
     "name": "stdout",
     "output_type": "stream",
     "text": [
      "Case 1: 4\n",
      "Case 2: 7\n",
      "Case 3: 4\n"
     ]
    }
   ],
   "source": [
    "# Test on Cases\n",
    "S = Solution()\n",
    "\n",
    "print(f\"Case 1: {S.minMovesToSeat(seats=[3,1,5], students=[2,7,4])}\")\n",
    "print(f\"Case 2: {S.minMovesToSeat(seats=[4,1,5,9], students=[1,3,2,6])}\")\n",
    "print(f\"Case 3: {S.minMovesToSeat(seats=[2,2,6,6], students=[1,3,2,6])}\")"
   ]
  }
 ],
 "metadata": {
  "kernelspec": {
   "display_name": "Python 3.10.4 ('leetcode')",
   "language": "python",
   "name": "python3"
  },
  "language_info": {
   "codemirror_mode": {
    "name": "ipython",
    "version": 3
   },
   "file_extension": ".py",
   "mimetype": "text/x-python",
   "name": "python",
   "nbconvert_exporter": "python",
   "pygments_lexer": "ipython3",
   "version": "3.10.4"
  },
  "vscode": {
   "interpreter": {
    "hash": "21d8332eb27bea95342760850bd7426f517b6a483537194bbba87e10eeabf6ff"
   }
  }
 },
 "nbformat": 4,
 "nbformat_minor": 4
}
