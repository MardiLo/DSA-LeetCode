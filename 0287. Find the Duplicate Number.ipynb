{
 "cells": [
  {
   "cell_type": "markdown",
   "source": [
    "`# Array` `# Two Pointers` `# Binary Search` `# Bit Manipulation`"
   ],
   "metadata": {}
  },
  {
   "cell_type": "markdown",
   "source": [
    "Given an array of integers `nums` containing `n + 1` integers where each integer is in the range `[1, n]` inclusive.\n",
    "\n",
    "There is **only one repeated number in nums**, return this repeated number.\n",
    "\n",
    "You must solve the problem **without modifying the array nums** and uses only **constant extra space**."
   ],
   "metadata": {}
  },
  {
   "cell_type": "markdown",
   "source": [
    "**Example 1:**\n",
    "\n",
    "> Input: nums = [1,3,4,2,2]  \n",
    "Output: 2  \n",
    "\n",
    "**Example 2:**\n",
    "\n",
    "> Input: nums = [3,1,3,4,2]  \n",
    "Output: 3\n",
    "\n",
    "**Example 3:**\n",
    "\n",
    "> Input: nums = [1,1]  \n",
    "Output: 1  \n",
    "\n",
    "**Example 4:**\n",
    "\n",
    "> Input: nums = [1,1,2]  \n",
    "Output: 1  "
   ],
   "metadata": {}
  },
  {
   "cell_type": "code",
   "execution_count": 1,
   "source": [
    "class Solution:\r\n",
    "    \r\n",
    "    # Time Complexity： O(n)\r\n",
    "    # Space Complexity： O(1)\r\n",
    "    def findDuplicate(self, nums: 'List[int]') -> 'int':\r\n",
    "        slow = fast = nums[0]\r\n",
    "        \r\n",
    "        while True:\r\n",
    "            slow, fast = nums[slow], nums[nums[fast]]\r\n",
    "            if slow == fast:\r\n",
    "                break\r\n",
    "                \r\n",
    "        slow = nums[0]\r\n",
    "        while slow != fast:\r\n",
    "            slow, fast = nums[slow], nums[fast]\r\n",
    "            \r\n",
    "        return slow"
   ],
   "outputs": [],
   "metadata": {}
  },
  {
   "cell_type": "code",
   "execution_count": 2,
   "source": [
    "# Test on Cases\r\n",
    "S = Solution()\r\n",
    "\r\n",
    "print(f\"Case 1: {S.findDuplicate([1,3,4,2,2])}\")\r\n",
    "print(f\"Case 2: {S.findDuplicate([3,1,3,4,2])}\")\r\n",
    "print(f\"Case 3: {S.findDuplicate([1,1])}\")\r\n",
    "print(f\"Case 4: {S.findDuplicate([1,1,2])}\")"
   ],
   "outputs": [
    {
     "output_type": "stream",
     "name": "stdout",
     "text": [
      "Case 1: 2\n",
      "Case 2: 3\n",
      "Case 3: 1\n",
      "Case 4: 1\n"
     ]
    }
   ],
   "metadata": {}
  }
 ],
 "metadata": {
  "kernelspec": {
   "display_name": "Python 3",
   "language": "python",
   "name": "python3"
  },
  "language_info": {
   "codemirror_mode": {
    "name": "ipython",
    "version": 3
   },
   "file_extension": ".py",
   "mimetype": "text/x-python",
   "name": "python",
   "nbconvert_exporter": "python",
   "pygments_lexer": "ipython3",
   "version": "3.7.7"
  }
 },
 "nbformat": 4,
 "nbformat_minor": 4
}