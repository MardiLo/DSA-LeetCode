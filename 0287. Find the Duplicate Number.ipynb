{
 "cells": [
  {
   "cell_type": "markdown",
   "metadata": {},
   "source": [
    "`# Array` `# Two Pointers` `# Binary Search` `# Bit Manipulation`"
   ]
  },
  {
   "cell_type": "markdown",
   "metadata": {},
   "source": [
    "Given an array of integers `nums` containing `n + 1` integers where each integer is in the range `[1, n]` inclusive.\n",
    "\n",
    "There is **only one repeated number in nums**, return this repeated number.\n",
    "\n",
    "You must solve the problem **without modifying the array nums** and uses only **constant extra space**."
   ]
  },
  {
   "cell_type": "markdown",
   "metadata": {},
   "source": [
    "**Example 1:**\n",
    "\n",
    "> Input: nums = [1,3,4,2,2]  \n",
    "Output: 2  \n",
    "\n",
    "**Example 2:**\n",
    "\n",
    "> Input: nums = [3,1,3,4,2]  \n",
    "Output: 3\n",
    "\n",
    "**Example 3:**\n",
    "\n",
    "> Input: nums = [1,1]  \n",
    "Output: 1  \n",
    "\n",
    "**Example 4:**\n",
    "\n",
    "> Input: nums = [1,1,2]  \n",
    "Output: 1  "
   ]
  },
  {
   "cell_type": "code",
   "execution_count": 1,
   "metadata": {},
   "outputs": [],
   "source": [
    "class Solution:\n",
    "    \n",
    "    # Time Complexity： O(n)\n",
    "    # Space Complexity： O(1)\n",
    "    def findDuplicate(self, nums: 'List[int]') -> 'int':\n",
    "        slow = fast = nums[0]\n",
    "        \n",
    "        # check if there's a loop\n",
    "        while True:\n",
    "            slow, fast = nums[slow], nums[nums[fast]]\n",
    "            if slow == fast: break\n",
    "\n",
    "        # if there's a loop, we could use Tortoise and Hare Algorithm to find where's the knot\n",
    "        slow = nums[0]\n",
    "        while slow != fast:\n",
    "            slow, fast = nums[slow], nums[fast]\n",
    "            \n",
    "        return slow"
   ]
  },
  {
   "cell_type": "code",
   "execution_count": 2,
   "metadata": {},
   "outputs": [
    {
     "name": "stdout",
     "output_type": "stream",
     "text": [
      "Case 1: 2\n",
      "Case 2: 3\n",
      "Case 3: 1\n",
      "Case 4: 1\n"
     ]
    }
   ],
   "source": [
    "# Test on Cases\n",
    "S = Solution()\n",
    "\n",
    "print(f\"Case 1: {S.findDuplicate([1,3,4,2,2])}\")\n",
    "print(f\"Case 2: {S.findDuplicate([3,1,3,4,2])}\")\n",
    "print(f\"Case 3: {S.findDuplicate([1,1])}\")\n",
    "print(f\"Case 4: {S.findDuplicate([1,1,2])}\")"
   ]
  }
 ],
 "metadata": {
  "kernelspec": {
   "display_name": "Python 3",
   "language": "python",
   "name": "python3"
  },
  "language_info": {
   "codemirror_mode": {
    "name": "ipython",
    "version": 3
   },
   "file_extension": ".py",
   "mimetype": "text/x-python",
   "name": "python",
   "nbconvert_exporter": "python",
   "pygments_lexer": "ipython3",
   "version": "3.7.7"
  }
 },
 "nbformat": 4,
 "nbformat_minor": 4
}
