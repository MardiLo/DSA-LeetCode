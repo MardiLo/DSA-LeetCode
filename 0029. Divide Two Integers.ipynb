{
 "cells": [
  {
   "cell_type": "markdown",
   "metadata": {},
   "source": [
    "`# Bit Manipulation` `# Math`"
   ]
  },
  {
   "cell_type": "markdown",
   "metadata": {},
   "source": [
    "Given two integers `dividend` and `divisor`, divide two integers without using multiplication, division, and mod operator.\n",
    "\n",
    "The integer division should truncate toward zero, which means losing its fractional part. For example, `8.345` would be truncated to `8`, and `-2.7335` would be truncated to `-2`.\n",
    "\n",
    "Return *the quotient after* `dividing` *dividend by* `divisor`.\n",
    "\n",
    "Note: Assume we are dealing with an environment that could only store integers within the **32-bit signed** integer range: `[2`<sup>`-31`</sup>`, 2`<sup>`31`</sup>` - 1]`. For this problem, if the quotient is strictly greater than `2`<sup>`31`</sup>` - 1`, then return `2`<sup>`31`</sup> `- 1`, and if the quotient is strictly less than `-2`<sup>`31`</sup>, then return `-2`<sup>`31`</sup>."
   ]
  },
  {
   "cell_type": "markdown",
   "metadata": {},
   "source": [
    "**Example 1:**\n",
    "\n",
    "> Input: dividend = 10, divisor = 3  \n",
    "Output: 3   \n",
    "Explanation: 10/3 = 3.33333.. which is truncated to 3.  \n",
    "\n",
    "**Example 2:**\n",
    "\n",
    "> Input: dividend = 7, divisor = -3  \n",
    "Output: -2  \n",
    "Explanation: 7/-3 = -2.33333.. which is truncated to -2.  \n",
    "\n",
    "**Example 3:**\n",
    "\n",
    "> Input: dividend = 0, divisor = 1  \n",
    "Output: 0  \n",
    "\n",
    "**Example 4:**\n",
    "\n",
    "> Input: dividend = 1, divisor = 1  \n",
    "Output: 1  "
   ]
  },
  {
   "cell_type": "code",
   "execution_count": 3,
   "metadata": {},
   "outputs": [],
   "source": [
    "class Solution:\n",
    "    \n",
    "    # Time Complexity： O(logn)\n",
    "    # Space Complexity： O(1)\n",
    "    def divide(self, dividend: int, divisor: int) -> int:\n",
    "        sign = -1 if (dividend < 0) != (divisor < 0) else 1\n",
    "        divisor, dividend = abs(divisor), abs(dividend)\n",
    "        totalQuotient, divisorMultiply2 = 0, divisor\n",
    "\n",
    "        while dividend >= divisor:\n",
    "            quotient = 1\n",
    "            while dividend >= (divisorMultiply2 + divisorMultiply2):\n",
    "                divisorMultiply2 += divisorMultiply2      # divisorMultiply2 *= 2\n",
    "                quotient += quotient                      # quotient *= 2\n",
    "            dividend -= divisorMultiply2\n",
    "            totalQuotient += quotient\n",
    "            divisorMultiply2 = divisor                    # set divisorMultiply2 back to divisor\n",
    "\n",
    "        return max(min(sign*totalQuotient, pow(2, 31)-1),  pow(-2, 31))"
   ]
  },
  {
   "cell_type": "code",
   "execution_count": 4,
   "metadata": {},
   "outputs": [
    {
     "name": "stdout",
     "output_type": "stream",
     "text": [
      "Case 1: 3\n",
      "Case 2: -2\n",
      "Case 3: 0\n",
      "Case 4: 1\n"
     ]
    }
   ],
   "source": [
    "# Test on Cases\n",
    "S = Solution()\n",
    "\n",
    "print(f\"Case 1: {S.divide(10, 3)}\")\n",
    "print(f\"Case 2: {S.divide(7, -3)}\")\n",
    "print(f\"Case 3: {S.divide(0, 1)}\")\n",
    "print(f\"Case 4: {S.divide(1, 1)}\")"
   ]
  }
 ],
 "metadata": {
  "interpreter": {
   "hash": "6ab137a14910b4ee65d0ea442464c53c8571f8241496146388c5db8c59915964"
  },
  "kernelspec": {
   "display_name": "Python 3.7.7 64-bit ('spark': conda)",
   "name": "python3"
  },
  "language_info": {
   "codemirror_mode": {
    "name": "ipython",
    "version": 3
   },
   "file_extension": ".py",
   "mimetype": "text/x-python",
   "name": "python",
   "nbconvert_exporter": "python",
   "pygments_lexer": "ipython3",
   "version": "3.8.3"
  }
 },
 "nbformat": 4,
 "nbformat_minor": 4
}
