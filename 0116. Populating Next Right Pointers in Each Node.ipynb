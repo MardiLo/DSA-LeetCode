{
 "cells": [
  {
   "cell_type": "markdown",
   "metadata": {},
   "source": [
    "`# Binary Tree` `# Breadth-First Search` `# Depth-First Search` `# Tree`"
   ]
  },
  {
   "cell_type": "markdown",
   "metadata": {},
   "source": [
    "You are given a **perfect binary tree** where all leaves are on the same level, and every parent has two children. The binary tree has the following definition:\n",
    "``` cpp\n",
    "struct Node {\n",
    "  int val;\n",
    "  Node *left;\n",
    "  Node *right;\n",
    "  Node *next;\n",
    "}\n",
    "```\n",
    "\n",
    "*Populate each next pointer to point to its next right node. If there is no next right node, the next pointer should be set to* `NULL`.\n",
    "\n",
    "Initially, all next pointers are set to `NULL`."
   ]
  },
  {
   "cell_type": "markdown",
   "metadata": {},
   "source": [
    "**Example 1:**  \n",
    "![Image of leetcode 0116 problem example 1](https://assets.leetcode.com/uploads/2019/02/14/116_sample.png)\n",
    "> Input: root = [1,2,3,4,5,6,7]  \n",
    "Output: [1,#,2,3,#,4,5,6,7,#]  \n",
    "Explanation: Given the above perfect binary tree (Figure A), your function should populate each next pointer to point to its next right node, just like in Figure B. The serialized output is in level order as connected by the next pointers, with '#' signifying the end of each level.  \n",
    "\n",
    "**Example 2:**  \n",
    "\n",
    "> Input: root = []\n",
    "Output: []"
   ]
  },
  {
   "cell_type": "code",
   "execution_count": 3,
   "metadata": {},
   "outputs": [],
   "source": [
    "class Node:\n",
    "    def __init__(self, val: int = 0, left: 'Node' = None, right: 'Node' = None, next: 'Node' = None):\n",
    "        self.val = val\n",
    "        self.left = left\n",
    "        self.right = right\n",
    "        self.next = next\n",
    "\n",
    "class Solution:\n",
    "    \n",
    "    # Time Complexity： O(n)\n",
    "    # Space Complexity： O(logn), a perfect binary tree height = logn\n",
    "    def connect(self, root: 'Node') -> 'Node':\n",
    "        if not root or not root.left or not root.right: return root\n",
    "        \n",
    "        root.left.next = root.right\n",
    "        if root.next:\n",
    "            root.right.next = root.next.left\n",
    "            \n",
    "        self.connect(root.left)\n",
    "        self.connect(root.right)\n",
    "        \n",
    "        return root"
   ]
  },
  {
   "cell_type": "code",
   "execution_count": 4,
   "metadata": {},
   "outputs": [
    {
     "name": "stdout",
     "output_type": "stream",
     "text": [
      "Case 1: [1, 2, 3, 4, 5, 6, 7]\n",
      "Case 2: []\n"
     ]
    }
   ],
   "source": [
    "# Test on Cases\n",
    "from leetcodepractice import Print\n",
    "\n",
    "S, P = Solution(), Print()\n",
    "\n",
    "print(f\"Case 1: {P.TreeTraversalBFS(S.connect(Node(1, Node(2, Node(4), Node(5)), Node(3, Node(6), Node(7)))))}\")\n",
    "print(f\"Case 2: {P.TreeTraversalBFS(S.connect([]))}\")"
   ]
  }
 ],
 "metadata": {
  "interpreter": {
   "hash": "a1465031eeae0bed8511463faaa157119e7e6b7b1fbf4ef49fce31064cee3326"
  },
  "kernelspec": {
   "display_name": "Python 3.8.3 64-bit ('base': conda)",
   "name": "python3"
  },
  "language_info": {
   "codemirror_mode": {
    "name": "ipython",
    "version": 3
   },
   "file_extension": ".py",
   "mimetype": "text/x-python",
   "name": "python",
   "nbconvert_exporter": "python",
   "pygments_lexer": "ipython3",
   "version": "3.8.3"
  }
 },
 "nbformat": 4,
 "nbformat_minor": 4
}
