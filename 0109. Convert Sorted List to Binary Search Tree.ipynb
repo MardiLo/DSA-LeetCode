{
 "cells": [
  {
   "cell_type": "markdown",
   "metadata": {},
   "source": [
    "`# Binary Search Tree` `# Binary Tree` `# Divide and Conquer` `# Linked List` `# Tree`"
   ]
  },
  {
   "cell_type": "markdown",
   "metadata": {},
   "source": [
    "Given the `head` of a singly linked list where elements are **sorted in ascending order**, *convert it to a height balanced BST*.\n",
    "\n",
    "For this problem, a height-balanced binary tree is defined as a binary tree in which the depth of the two subtrees of **every node never differ by more than 1**."
   ]
  },
  {
   "cell_type": "markdown",
   "metadata": {},
   "source": [
    "**Example 1:**  \n",
    "![Image of leetcode 0109 problem example 1](https://assets.leetcode.com/uploads/2020/08/17/linked.jpg)\n",
    "> Input: head = [-10,-3,0,5,9]  \n",
    "Output: [0,-3,9,-10,null,5]  \n",
    "Explanation: One possible answer is [0,-3,9,-10,null,5], which represents the shown height balanced BST.  \n",
    "\n",
    "**Example 2:**  \n",
    "\n",
    "> Input: head = []  \n",
    "Output: []  \n",
    "\n",
    "**Example 3:**  \n",
    "\n",
    "> Input: head = [0]  \n",
    "Output: [0]  \n",
    "\n",
    "**Example 4:**  \n",
    "\n",
    "> Input: head = [1,3]  \n",
    "Output: [3,1]  "
   ]
  },
  {
   "cell_type": "code",
   "execution_count": 5,
   "metadata": {},
   "outputs": [],
   "source": [
    "class ListNode:\n",
    "    def __init__(self, val=0, next=None):\n",
    "        self.val = val\n",
    "        self.next = next\n",
    "\n",
    "    def list2LinkedList(self, lst):\n",
    "        cur = dummy = ListNode(0)\n",
    "        for node in lst:\n",
    "            cur.next = ListNode(node)\n",
    "            cur = cur.next\n",
    "        return dummy.next\n",
    "\n",
    "class TreeNode:\n",
    "    def __init__(self, val=0, left=None, right=None):\n",
    "        self.val = val\n",
    "        self.left = left\n",
    "        self.right = right\n",
    "\n",
    "class Solution:\n",
    "    \n",
    "    # Time Complexity： O(n)\n",
    "    # Space Complexity： O(n)\n",
    "    def sortedListToBST(self, head: 'ListNode') -> 'TreeNode':\n",
    "        def linkedList2List(head: 'ListNode') -> 'List[int]':\n",
    "            nums = []\n",
    "            \n",
    "            while head:                  # TC: O(n)\n",
    "                nums.append(head.val)    # SC: O(n)\n",
    "                head = head.next\n",
    "                \n",
    "            return nums\n",
    "        \n",
    "        def dfs(left: 'int', right: 'int') -> 'TreeNode':    # TC: O(n); SC: O(logn), in memory stack\n",
    "            if left > right: return\n",
    "            \n",
    "            mid = (left + right) // 2\n",
    "            root = TreeNode(nums[mid], dfs(left, mid-1), dfs(mid+1, right))\n",
    "            \n",
    "            return root\n",
    "        \n",
    "        nums = linkedList2List(head)\n",
    "        return dfs(0, len(nums)-1)"
   ]
  },
  {
   "cell_type": "code",
   "execution_count": 6,
   "metadata": {},
   "outputs": [
    {
     "name": "stdout",
     "output_type": "stream",
     "text": [
      "Case 1: [0, -10, 5, -3, 9]\n",
      "Case 2: []\n",
      "Case 3: [0]\n",
      "Case 4: [1, 3]\n"
     ]
    }
   ],
   "source": [
    "# Test on Cases\n",
    "from leetcodepractice import Print\n",
    "\n",
    "S, P, L = Solution(), Print(), ListNode()\n",
    "\n",
    "print(f\"Case 1: {P.TreeTraversalBFS(S.sortedListToBST(L.list2LinkedList([-10,-3,0,5,9])))}\")\n",
    "print(f\"Case 2: {P.TreeTraversalBFS(S.sortedListToBST(L.list2LinkedList([])))}\")\n",
    "print(f\"Case 3: {P.TreeTraversalBFS(S.sortedListToBST(L.list2LinkedList([0])))}\")\n",
    "print(f\"Case 4: {P.TreeTraversalBFS(S.sortedListToBST(L.list2LinkedList([1,3])))}\")"
   ]
  }
 ],
 "metadata": {
  "interpreter": {
   "hash": "ba9359eadc070f03edd6183a4af22ffcaf60363daf070b8f22fbedba67666dbe"
  },
  "kernelspec": {
   "display_name": "Python 3.7.7 64-bit ('flask': conda)",
   "name": "python3"
  },
  "language_info": {
   "codemirror_mode": {
    "name": "ipython",
    "version": 3
   },
   "file_extension": ".py",
   "mimetype": "text/x-python",
   "name": "python",
   "nbconvert_exporter": "python",
   "pygments_lexer": "ipython3",
   "version": "3.7.7"
  }
 },
 "nbformat": 4,
 "nbformat_minor": 4
}
