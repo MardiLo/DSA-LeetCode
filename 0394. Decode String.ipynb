{
 "cells": [
  {
   "cell_type": "markdown",
   "metadata": {},
   "source": [
    "`# Stack` `# String` `# Recursion`"
   ]
  },
  {
   "cell_type": "markdown",
   "metadata": {},
   "source": [
    "Given an encoded string, return *its decoded string*.\n",
    "\n",
    "The encoding rule is: `k[encoded_string]`, where the `encoded_string` inside the square brackets is being repeated exactly `k` times. Note that `k` is **guaranteed to be a positive integer**.\n",
    "\n",
    "You may assume that the input string is **always valid**; No extra white spaces, square brackets are well-formed, etc.\n",
    "\n",
    "Furthermore, you may assume that the original data does not contain any digits and that digits are only for those repeat numbers, `k`. For example, there won't be input like `3a` or `2[4]`."
   ]
  },
  {
   "cell_type": "markdown",
   "metadata": {},
   "source": [
    "**Example 1:**  \n",
    "\n",
    "> Input: s = \"3[a]2[bc]\"  \n",
    "Output: \"aaabcbc\"  \n",
    "\n",
    "**Example 2:**\n",
    "\n",
    "> Input: s = \"3[a2[c]]\"  \n",
    "Output: \"accaccacc\"  \n",
    "\n",
    "**Example 3:**\n",
    "\n",
    "> Input: s = \"2[abc]3[cd]ef\"  \n",
    "Output: \"abcabccdcdcdef\"  \n",
    "\n",
    "**Example 4:**\n",
    "\n",
    "> Input: s = \"abc3[cd]xyz\"  \n",
    "Output: \"abccdcdcdxyz\"  "
   ]
  },
  {
   "cell_type": "code",
   "execution_count": 3,
   "metadata": {},
   "outputs": [],
   "source": [
    "class Solution:\n",
    "    \n",
    "    # Time Complexity： O(m), where m is size of our answer\n",
    "    # Space Complexity： O(m)      \n",
    "    def decodeString(self, s: str) -> str:\n",
    "        num, stack = 0, [\"\"]\n",
    "\n",
    "        for c in s:\n",
    "            if c.isdigit():\n",
    "                num = 10 * num + int(c)\n",
    "            elif c == \"[\":\n",
    "                stack.append(num); num = 0; stack.append(\"\")\n",
    "            elif c == \"]\":\n",
    "                str2, multiplier, str1 = stack.pop(), stack.pop(), stack.pop()\n",
    "                stack.append(str1 + multiplier * str2)\n",
    "            else:\n",
    "                stack[-1] += c\n",
    "            \n",
    "        return stack.pop()"
   ]
  },
  {
   "cell_type": "code",
   "execution_count": 4,
   "metadata": {},
   "outputs": [
    {
     "name": "stdout",
     "output_type": "stream",
     "text": [
      "Case 1: aaabcbc\n",
      "Case 2: accaccacc\n",
      "Case 3: abcabccdcdcdef\n",
      "Case 4: abccdcdcdxyz\n"
     ]
    }
   ],
   "source": [
    "# Test on Cases\n",
    "S = Solution()\n",
    "\n",
    "print(f\"Case 1: {S.decodeString('3[a]2[bc]')}\")\n",
    "print(f\"Case 2: {S.decodeString('3[a2[c]]')}\")\n",
    "print(f\"Case 3: {S.decodeString('2[abc]3[cd]ef')}\")\n",
    "print(f\"Case 4: {S.decodeString('abc3[cd]xyz')}\")"
   ]
  },
  {
   "cell_type": "markdown",
   "metadata": {},
   "source": [
    "**Ref**\n",
    "1. [[Python] Stack solution, explained](https://leetcode.com/problems/decode-string/discuss/941309/Python-Stack-solution-explained)"
   ]
  }
 ],
 "metadata": {
  "kernelspec": {
   "display_name": "Python 3.10.4 ('leetcode')",
   "language": "python",
   "name": "python3"
  },
  "language_info": {
   "codemirror_mode": {
    "name": "ipython",
    "version": 3
   },
   "file_extension": ".py",
   "mimetype": "text/x-python",
   "name": "python",
   "nbconvert_exporter": "python",
   "pygments_lexer": "ipython3",
   "version": "3.10.4"
  },
  "vscode": {
   "interpreter": {
    "hash": "21d8332eb27bea95342760850bd7426f517b6a483537194bbba87e10eeabf6ff"
   }
  }
 },
 "nbformat": 4,
 "nbformat_minor": 4
}
