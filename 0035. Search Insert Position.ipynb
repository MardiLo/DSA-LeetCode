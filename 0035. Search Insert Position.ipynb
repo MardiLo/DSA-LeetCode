{
 "cells": [
  {
   "cell_type": "markdown",
   "metadata": {},
   "source": [
    "`# Array` `# Binary Search`"
   ]
  },
  {
   "cell_type": "markdown",
   "metadata": {},
   "source": [
    "Given a **sorted array** of distinct integers and a target value, return the index if the target is found. If not, return *the index where it would be if it were inserted in order*.\n",
    "\n",
    "You must write an algorithm with `O(log n)` runtime complexity."
   ]
  },
  {
   "cell_type": "markdown",
   "metadata": {},
   "source": [
    "**Example 1:**\n",
    "\n",
    "> Input: nums = [1,3,5,6], target = 5  \n",
    "Output: 2  \n",
    "\n",
    "**Example 2:**\n",
    "\n",
    "> Input: nums = [1,3,5,6], target = 2  \n",
    "Output: 1  \n",
    "\n",
    "**Example 3:**\n",
    "\n",
    "> Input: nums = [1,3,5,6], target = 7  \n",
    "Output: 4  \n",
    "\n",
    "**Example 4:**\n",
    "\n",
    "> Input: nums = [1,3,5,6], target = 0  \n",
    "Output: 0  \n",
    "\n",
    "**Example 5:**\n",
    "\n",
    "> Input: nums = [1], target = 0  \n",
    "Output: 0  "
   ]
  },
  {
   "cell_type": "code",
   "execution_count": 3,
   "metadata": {},
   "outputs": [],
   "source": [
    "class Solution:\n",
    "    \n",
    "    # Time Complexity： O(logn)\n",
    "    # Space Complexity： O(1)\n",
    "    def searchInsert(self, nums: list[int], target: int) -> int:\n",
    "        l, r = 0, len(nums)-1\n",
    "        \n",
    "        while l <= r:\n",
    "            if nums[(m := (l+r) // 2)] >= target: r = m - 1\n",
    "            else: l = m + 1\n",
    "            \n",
    "        return l\n",
    "\n",
    "    # Time Complexity： O(logn)\n",
    "    # Space Complexity： O(1)\n",
    "    def searchInsert_lib(self, nums: list[int], target: int) -> int:\n",
    "        from bisect import bisect_left\n",
    "\n",
    "        return bisect_left(nums, target)"
   ]
  },
  {
   "cell_type": "code",
   "execution_count": 4,
   "metadata": {},
   "outputs": [
    {
     "name": "stdout",
     "output_type": "stream",
     "text": [
      "---searchInsert---\n",
      "Case 1: 2\n",
      "Case 2: 1\n",
      "Case 3: 4\n",
      "Case 4: 0\n",
      "Case 5: 0\n",
      "\n",
      "---searchInsert_lib---\n",
      "Case 1: 2\n",
      "Case 2: 1\n",
      "Case 3: 4\n",
      "Case 4: 0\n",
      "Case 5: 0\n"
     ]
    }
   ],
   "source": [
    "# Test on Cases\n",
    "S = Solution()\n",
    "\n",
    "print(\"---searchInsert---\")\n",
    "print(f\"Case 1: {S.searchInsert([1,3,5,6], 5)}\")\n",
    "print(f\"Case 2: {S.searchInsert([1,3,5,6], 2)}\")\n",
    "print(f\"Case 3: {S.searchInsert([1,3,5,6], 7)}\")\n",
    "print(f\"Case 4: {S.searchInsert([1,3,5,6], 0)}\")\n",
    "print(f\"Case 5: {S.searchInsert([1], 0)}\\n\")\n",
    "\n",
    "print(\"---searchInsert_lib---\")\n",
    "print(f\"Case 1: {S.searchInsert_lib([1,3,5,6], 5)}\")\n",
    "print(f\"Case 2: {S.searchInsert_lib([1,3,5,6], 2)}\")\n",
    "print(f\"Case 3: {S.searchInsert_lib([1,3,5,6], 7)}\")\n",
    "print(f\"Case 4: {S.searchInsert_lib([1,3,5,6], 0)}\")\n",
    "print(f\"Case 5: {S.searchInsert_lib([1], 0)}\")"
   ]
  },
  {
   "cell_type": "markdown",
   "metadata": {},
   "source": [
    "**Ref**\n",
    "1. [[Python/ Clear explanation] Powerful Ultimate Binary Search Template. Solved many problems.](https://leetcode.com/problems/first-bad-version/discuss/769685/Python-Clear-explanation-Powerful-Ultimate-Binary-Search-Template.-Solved-many-problems.)"
   ]
  }
 ],
 "metadata": {
  "kernelspec": {
   "display_name": "Python 3.10.4 ('leetcode')",
   "language": "python",
   "name": "python3"
  },
  "language_info": {
   "codemirror_mode": {
    "name": "ipython",
    "version": 3
   },
   "file_extension": ".py",
   "mimetype": "text/x-python",
   "name": "python",
   "nbconvert_exporter": "python",
   "pygments_lexer": "ipython3",
   "version": "3.10.4 | packaged by conda-forge | (main, Mar 30 2022, 08:38:02) [MSC v.1916 64 bit (AMD64)]"
  },
  "vscode": {
   "interpreter": {
    "hash": "21d8332eb27bea95342760850bd7426f517b6a483537194bbba87e10eeabf6ff"
   }
  }
 },
 "nbformat": 4,
 "nbformat_minor": 4
}
