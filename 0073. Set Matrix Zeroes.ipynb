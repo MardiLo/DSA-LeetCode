{
 "cells": [
  {
   "cell_type": "markdown",
   "metadata": {},
   "source": [
    "`# Array` `# Hash Table` `# Matrix`"
   ]
  },
  {
   "cell_type": "markdown",
   "metadata": {},
   "source": [
    "Given an `m x n` integer matrix `matrix`, if an element is `0`, set its entire row and column to `0`'s, and return the matrix.\n",
    "\n",
    "You must do it **in place**."
   ]
  },
  {
   "cell_type": "markdown",
   "metadata": {},
   "source": [
    "**Example 1:**  \n",
    "![Image of leetcode 0073 problem example 1](https://assets.leetcode.com/uploads/2020/08/17/mat1.jpg)\n",
    "> Input: matrix = [[1,1,1],[1,0,1],[1,1,1]]  \n",
    "Output: [[1,0,1],[0,0,0],[1,0,1]]  \n",
    "\n",
    "**Example 2:**  \n",
    "![Image of leetcode 0073 problem example 2](https://assets.leetcode.com/uploads/2020/08/17/mat2.jpg)\n",
    "> Input: matrix = [[0,1,2,0],[3,4,5,2],[1,3,1,5]]  \n",
    "Output: [[0,0,0,0],[0,4,5,0],[0,3,1,0]]  "
   ]
  },
  {
   "cell_type": "code",
   "execution_count": 5,
   "metadata": {},
   "outputs": [],
   "source": [
    "class Solution:\n",
    "    \n",
    "    # Time Complexity： O(mn)\n",
    "    # Space Complexity： O(1)       \n",
    "    def setZeroes(self, matrix: 'List[List[int]]') -> 'None':\n",
    "        \"\"\"\n",
    "        Do not return anything, modify matrix in-place instead.\n",
    "        \"\"\"\n",
    "        n = len(matrix)\n",
    "        m = len(matrix[0])\n",
    "        zeroInRow1 = any(matrix[0][j] == 0 for j in range(m))\n",
    "        zeroInCol1 = any(matrix[i][0] == 0 for i in range(n))\n",
    "        \n",
    "        for i in range(1, n):\n",
    "            for j in range(1, m):\n",
    "                if matrix[i][j] == 0:\n",
    "                    matrix[i][0] = matrix[0][j] = 0\n",
    "        \n",
    "        for i in range(1, n):\n",
    "            for j in range(1, m):\n",
    "                if matrix[i][0] * matrix[0][j] == 0:\n",
    "                    matrix[i][j] = 0\n",
    "        \n",
    "        if zeroInRow1:\n",
    "            for j in range(m):\n",
    "                matrix[0][j] = 0\n",
    "                \n",
    "        if zeroInCol1:\n",
    "            for i in range(n):\n",
    "                matrix[i][0] = 0\n",
    "                \n",
    "        \n",
    "    def returnSetZeroes(self, matrix):\n",
    "        self.setZeroes(matrix)\n",
    "        \n",
    "        return matrix"
   ]
  },
  {
   "cell_type": "code",
   "execution_count": 6,
   "metadata": {},
   "outputs": [
    {
     "name": "stdout",
     "output_type": "stream",
     "text": [
      "Case 1: [[1, 0, 1], [0, 0, 0], [1, 0, 1]]\n",
      "Case 2: [[0, 0, 0, 0], [0, 4, 5, 0], [0, 3, 1, 0]]\n"
     ]
    }
   ],
   "source": [
    "# Test on Cases\n",
    "S = Solution()\n",
    "\n",
    "print(f\"Case 1: {S.returnSetZeroes([[1,1,1],[1,0,1],[1,1,1]])}\")\n",
    "print(f\"Case 2: {S.returnSetZeroes([[0,1,2,0],[3,4,5,2],[1,3,1,5]])}\")"
   ]
  },
  {
   "cell_type": "code",
   "execution_count": null,
   "metadata": {},
   "outputs": [],
   "source": []
  }
 ],
 "metadata": {
  "kernelspec": {
   "display_name": "Python 3",
   "language": "python",
   "name": "python3"
  },
  "language_info": {
   "codemirror_mode": {
    "name": "ipython",
    "version": 3
   },
   "file_extension": ".py",
   "mimetype": "text/x-python",
   "name": "python",
   "nbconvert_exporter": "python",
   "pygments_lexer": "ipython3",
   "version": "3.7.7"
  }
 },
 "nbformat": 4,
 "nbformat_minor": 4
}
