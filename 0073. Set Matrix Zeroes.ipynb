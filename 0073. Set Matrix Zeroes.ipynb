{
 "cells": [
  {
   "cell_type": "markdown",
   "source": [
    "`# Array` `# Hash Table` `# Matrix`"
   ],
   "metadata": {}
  },
  {
   "cell_type": "markdown",
   "source": [
    "Given an `m x n` integer matrix `matrix`, if an element is `0`, set its entire row and column to `0`'s, and return the matrix.\n",
    "\n",
    "You must do it **in place**."
   ],
   "metadata": {}
  },
  {
   "cell_type": "markdown",
   "source": [
    "**Example 1:**  \n",
    "![Image of leetcode 0073 problem example 1](https://assets.leetcode.com/uploads/2020/08/17/mat1.jpg)\n",
    "> Input: matrix = [[1,1,1],[1,0,1],[1,1,1]]  \n",
    "Output: [[1,0,1],[0,0,0],[1,0,1]]  \n",
    "\n",
    "**Example 2:**  \n",
    "![Image of leetcode 0073 problem example 2](https://assets.leetcode.com/uploads/2020/08/17/mat2.jpg)\n",
    "> Input: matrix = [[0,1,2,0],[3,4,5,2],[1,3,1,5]]  \n",
    "Output: [[0,0,0,0],[0,4,5,0],[0,3,1,0]]  "
   ],
   "metadata": {}
  },
  {
   "cell_type": "code",
   "execution_count": 1,
   "source": [
    "class Solution:\r\n",
    "    \r\n",
    "    # Time Complexity： O(mn)\r\n",
    "    # Space Complexity： O(1)       \r\n",
    "    def setZeroes(self, matrix: 'List[List[int]]') -> 'None':\r\n",
    "        \"\"\"\r\n",
    "        Do not return anything, modify matrix in-place instead.\r\n",
    "        \"\"\"\r\n",
    "        m, n = len(matrix), len(matrix[0])\r\n",
    "        zeroInRow1 = any(matrix[0][j] == 0 for j in range(n))\r\n",
    "        zeroInCol1 = any(matrix[i][0] == 0 for i in range(m))\r\n",
    "        \r\n",
    "        for i in range(1, m):\r\n",
    "            for j in range(1, n):\r\n",
    "                if matrix[i][j] == 0:\r\n",
    "                    matrix[i][0] = matrix[0][j] = 0\r\n",
    "        \r\n",
    "        for i in range(1, m):\r\n",
    "            for j in range(1, n):\r\n",
    "                if matrix[i][0] * matrix[0][j] == 0:\r\n",
    "                    matrix[i][j] = 0\r\n",
    "        \r\n",
    "        if zeroInRow1:\r\n",
    "            for j in range(n):\r\n",
    "                matrix[0][j] = 0\r\n",
    "                \r\n",
    "        if zeroInCol1:\r\n",
    "            for i in range(m):\r\n",
    "                matrix[i][0] = 0\r\n",
    "                \r\n",
    "        \r\n",
    "    def returnSetZeroes(self, matrix):\r\n",
    "        self.setZeroes(matrix)\r\n",
    "        \r\n",
    "        return matrix"
   ],
   "outputs": [],
   "metadata": {}
  },
  {
   "cell_type": "code",
   "execution_count": 2,
   "source": [
    "# Test on Cases\r\n",
    "S = Solution()\r\n",
    "\r\n",
    "print(f\"Case 1: {S.returnSetZeroes([[1,1,1],[1,0,1],[1,1,1]])}\")\r\n",
    "print(f\"Case 2: {S.returnSetZeroes([[0,1,2,0],[3,4,5,2],[1,3,1,5]])}\")"
   ],
   "outputs": [
    {
     "output_type": "stream",
     "name": "stdout",
     "text": [
      "Case 1: [[1, 0, 1], [0, 0, 0], [1, 0, 1]]\n",
      "Case 2: [[0, 0, 0, 0], [0, 4, 5, 0], [0, 3, 1, 0]]\n"
     ]
    }
   ],
   "metadata": {}
  }
 ],
 "metadata": {
  "kernelspec": {
   "name": "python3",
   "display_name": "Python 3.7.7 64-bit ('spark': conda)"
  },
  "language_info": {
   "codemirror_mode": {
    "name": "ipython",
    "version": 3
   },
   "file_extension": ".py",
   "mimetype": "text/x-python",
   "name": "python",
   "nbconvert_exporter": "python",
   "pygments_lexer": "ipython3",
   "version": "3.7.7"
  },
  "interpreter": {
   "hash": "6ab137a14910b4ee65d0ea442464c53c8571f8241496146388c5db8c59915964"
  }
 },
 "nbformat": 4,
 "nbformat_minor": 4
}