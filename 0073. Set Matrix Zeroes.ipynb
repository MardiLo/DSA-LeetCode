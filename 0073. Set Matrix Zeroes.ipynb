{
 "cells": [
  {
   "cell_type": "markdown",
   "metadata": {},
   "source": [
    "`# Array` `# Hash Table` `# Matrix`"
   ]
  },
  {
   "cell_type": "markdown",
   "metadata": {},
   "source": [
    "Given an `m x n` integer matrix `matrix`, if an element is `0`, set its entire row and column to `0`'s, and return the matrix.\n",
    "\n",
    "You must do it **in place**."
   ]
  },
  {
   "cell_type": "markdown",
   "metadata": {},
   "source": [
    "**Example 1:**  \n",
    "![Image of leetcode 0073 problem example 1](https://assets.leetcode.com/uploads/2020/08/17/mat1.jpg)\n",
    "> Input: matrix = [[1,1,1],[1,0,1],[1,1,1]]  \n",
    "> Output: [[1,0,1],[0,0,0],[1,0,1]]  \n",
    "\n",
    "**Example 2:**  \n",
    "![Image of leetcode 0073 problem example 2](https://assets.leetcode.com/uploads/2020/08/17/mat2.jpg)\n",
    "> Input: matrix = [[0,1,2,0],[3,4,5,2],[1,3,1,5]]  \n",
    "> Output: [[0,0,0,0],[0,4,5,0],[0,3,1,0]]  "
   ]
  },
  {
   "cell_type": "code",
   "execution_count": 1,
   "metadata": {},
   "outputs": [],
   "source": [
    "class Solution:\n",
    "    \n",
    "    # Time Complexity： O(mn)\n",
    "    # Space Complexity： O(m+n)       \n",
    "    def setZeroes(self, matrix: list[list[int]]) -> None:\n",
    "        \"\"\"Do not return anything, modify matrix in-place instead.\"\"\"\n",
    "        from itertools import product\n",
    "        \n",
    "        m, n = len(matrix), len(matrix[0])\n",
    "        zeroRow, zeroCol = set(), set()\n",
    "        \n",
    "        for i, j in product(range(m), range(n)):\n",
    "            if not matrix[i][j]: zeroRow.add(i); zeroCol.add(j)\n",
    "                \n",
    "        for i, j in product(range(m), range(n)):\n",
    "            if i in zeroRow or j in zeroCol: matrix[i][j] = 0\n",
    "            \n",
    "        return matrix\n",
    "\n",
    "    # Time Complexity： O(mn)\n",
    "    # Space Complexity： O(1)       \n",
    "    def setZeroes_spaceOpt(self, matrix: list[list[int]]) -> None:\n",
    "        \"\"\"Do not return anything, modify matrix in-place instead.\"\"\"\n",
    "        from itertools import product\n",
    "        \n",
    "        m, n = len(matrix), len(matrix[0])\n",
    "        first_row_has_zero = first_col_has_zero = False\n",
    "        \n",
    "        # iterate through matrix to mark the zero row and cols\n",
    "        for i, j in product(range(m), range(n)):\n",
    "            if not matrix[i][j]:\n",
    "                if not i: first_row_has_zero = True\n",
    "                if not j: first_col_has_zero = True\n",
    "                matrix[i][0] = matrix[0][j] = 0\n",
    "    \n",
    "        # iterate through matrix to update the cell to be zero if it's in a zero row or col\n",
    "        for i, j in product(range(1, m), range(1, n)):\n",
    "            if not matrix[i][0] or not matrix[0][j]: matrix[i][j] = 0\n",
    "\n",
    "        # update the first row and col if they're zero\n",
    "        if first_col_has_zero: \n",
    "            for i in range(m): \n",
    "                matrix[i][0] = 0\n",
    "        \n",
    "        if first_row_has_zero:\n",
    "            for j in range(n): \n",
    "                matrix[0][j] = 0\n",
    "    \n",
    "        return matrix"
   ]
  },
  {
   "cell_type": "code",
   "execution_count": 2,
   "metadata": {},
   "outputs": [
    {
     "name": "stdout",
     "output_type": "stream",
     "text": [
      "---setZeroes---\n",
      "Case 1: [[1, 0, 1], [0, 0, 0], [1, 0, 1]]\n",
      "Case 2: [[0, 0, 0, 0], [0, 4, 5, 0], [0, 3, 1, 0]]\n",
      "\n",
      "---setZeroes_spaceOpt---\n",
      "Case 1: [[1, 0, 1], [0, 0, 0], [1, 0, 1]]\n",
      "Case 2: [[0, 0, 0, 0], [0, 4, 5, 0], [0, 3, 1, 0]]\n"
     ]
    }
   ],
   "source": [
    "# Test on Cases\n",
    "S = Solution()\n",
    "\n",
    "print(\"---setZeroes---\")\n",
    "print(f\"Case 1: {S.setZeroes([[1,1,1],[1,0,1],[1,1,1]])}\")\n",
    "print(f\"Case 2: {S.setZeroes([[0,1,2,0],[3,4,5,2],[1,3,1,5]])}\\n\")\n",
    "\n",
    "print(\"---setZeroes_spaceOpt---\")\n",
    "print(f\"Case 1: {S.setZeroes_spaceOpt([[1,1,1],[1,0,1],[1,1,1]])}\")\n",
    "print(f\"Case 2: {S.setZeroes_spaceOpt([[0,1,2,0],[3,4,5,2],[1,3,1,5]])}\")"
   ]
  }
 ],
 "metadata": {
  "kernelspec": {
   "display_name": "Python 3 (ipykernel)",
   "language": "python",
   "name": "python3"
  },
  "language_info": {
   "codemirror_mode": {
    "name": "ipython",
    "version": 3
   },
   "file_extension": ".py",
   "mimetype": "text/x-python",
   "name": "python",
   "nbconvert_exporter": "python",
   "pygments_lexer": "ipython3",
   "version": "3.10.4"
  },
  "vscode": {
   "interpreter": {
    "hash": "21d8332eb27bea95342760850bd7426f517b6a483537194bbba87e10eeabf6ff"
   }
  }
 },
 "nbformat": 4,
 "nbformat_minor": 4
}
