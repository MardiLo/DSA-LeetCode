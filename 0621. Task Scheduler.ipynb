{
 "cells": [
  {
   "attachments": {},
   "cell_type": "markdown",
   "metadata": {},
   "source": [
    "`# Array` `# Counting` `# Greedy` `# Hash Table` `# Heap (Priority Queue)` `# Sorting`"
   ]
  },
  {
   "attachments": {},
   "cell_type": "markdown",
   "metadata": {},
   "source": [
    "You are given an array of CPU `tasks`, each represented by letters A to Z, and a cooling time, `n`. Each cycle or interval allows the completion of one task. Tasks can be completed in any order, but there's a constraint: **identical** tasks must be separated by at least `n` intervals due to cooling time.\n",
    "\n",
    "​Return the *minimum number of intervals required to complete all tasks*"
   ]
  },
  {
   "attachments": {},
   "cell_type": "markdown",
   "metadata": {},
   "source": [
    "**Example 1:**\n",
    "\n",
    "> Input: tasks = [\"A\",\"A\",\"A\",\"B\",\"B\",\"B\"], n = 2  \n",
    "> Output: 8  \n",
    "> Explanation: A possible sequence is: A -> B -> idle -> A -> B -> idle -> A -> B.  \n",
    "> After completing task A, you must wait two cycles before doing A again. The same applies to task B. In the 3rd interval, neither A nor B can be done, so you idle. By the 4th cycle, you can do A again as 2 intervals have passed.\n",
    "\n",
    "**Example 2:**\n",
    "\n",
    "> Input: tasks = [\"A\",\"C\",\"A\",\"B\",\"D\",\"B\"], n = 1  \n",
    "> Output: 6  \n",
    "> Explanation: A possible sequence is: A -> B -> C -> D -> A -> B.  \n",
    "> With a cooling interval of 1, you can repeat a task after just one other task.\n",
    "\n",
    "**Example 3:**\n",
    "\n",
    "> Input: tasks = [\"A\",\"A\",\"A\", \"B\",\"B\",\"B\"], n = 3  \n",
    "> Output: 10  \n",
    "> Explanation: A possible sequence is: A -> B -> idle -> idle -> A -> B -> idle -> idle -> A -> B.  \n",
    "> There are only two types of tasks, A and B, which need to be separated by 3 intervals. This leads to idling twice between repetitions of these tasks."
   ]
  },
  {
   "cell_type": "code",
   "execution_count": 1,
   "metadata": {},
   "outputs": [],
   "source": [
    "class Solution:\n",
    "\n",
    "    # Time Complexity： O(n)\n",
    "    # Space Complexity： O(26)\n",
    "    def leastInterval(self, tasks: list[str], n: int) -> int:\n",
    "        from collections import Counter\n",
    "\n",
    "        cnt = Counter(Counter(tasks).values())\n",
    "        mostFreqCnt = cnt[mostFreq := max(cnt.keys())]\n",
    "\n",
    "        return max(len(tasks), (mostFreq-1)*(n+1) + mostFreqCnt)\n",
    "    \n",
    "    # Time Complexity： O(nlog26) -> O(n)\n",
    "    # Space Complexity： O(26)\n",
    "    def leastInterval_heap(self, tasks: list[str], n: int) -> int:\n",
    "        from collections import Counter, deque\n",
    "        from heapq import heapify, heappop, heappush\n",
    "\n",
    "        heapify(maxHeap := [-freq for freq in Counter(tasks).values()])\n",
    "        queue, time = deque([]), 0\n",
    "\n",
    "        while maxHeap or queue:\n",
    "            time += 1\n",
    "\n",
    "            if maxHeap:\n",
    "                if freq := heappop(maxHeap) + 1:           \n",
    "                    queue.append((freq, time+n))\n",
    "            \n",
    "            if queue and queue[0][1] == time:\n",
    "                heappush(maxHeap, queue.popleft()[0])\n",
    "        \n",
    "        return time"
   ]
  },
  {
   "cell_type": "code",
   "execution_count": 2,
   "metadata": {},
   "outputs": [
    {
     "name": "stdout",
     "output_type": "stream",
     "text": [
      "---leastInterval---\n",
      "Case 1: 8\n",
      "Case 2: 6\n",
      "Case 3: 16\n",
      "\n",
      "---leastInterval_heap---\n",
      "Case 1: 8\n",
      "Case 2: 6\n",
      "Case 3: 16\n"
     ]
    }
   ],
   "source": [
    "# Test on Cases\n",
    "S = Solution()\n",
    "\n",
    "print(\"---leastInterval---\")\n",
    "print(f\"Case 1: {S.leastInterval(['A','A','A','B','B','B'], 2)}\")\n",
    "print(f\"Case 2: {S.leastInterval(['A','A','A','B','B','B'], 0)}\")\n",
    "print(f\"Case 3: {S.leastInterval(['A','A','A','A','A','A','B','C','D','E','F','G'], 2)}\\n\")\n",
    "\n",
    "print(\"---leastInterval_heap---\")\n",
    "print(f\"Case 1: {S.leastInterval_heap(['A','A','A','B','B','B'], 2)}\")\n",
    "print(f\"Case 2: {S.leastInterval_heap(['A','A','A','B','B','B'], 0)}\")\n",
    "print(f\"Case 3: {S.leastInterval_heap(['A','A','A','A','A','A','B','C','D','E','F','G'], 2)}\")"
   ]
  },
  {
   "attachments": {},
   "cell_type": "markdown",
   "metadata": {},
   "source": [
    "**Ref**\n",
    "1. [Python | Heavily visualized + Detailed explanation](https://leetcode.com/problems/task-scheduler/solutions/761070/python-heavily-visualized-detailed-explanation/?orderBy=most_votes)"
   ]
  }
 ],
 "metadata": {
  "kernelspec": {
   "display_name": "Python 3 (ipykernel)",
   "language": "python",
   "name": "python3"
  },
  "language_info": {
   "codemirror_mode": {
    "name": "ipython",
    "version": 3
   },
   "file_extension": ".py",
   "mimetype": "text/x-python",
   "name": "python",
   "nbconvert_exporter": "python",
   "pygments_lexer": "ipython3",
   "version": "3.10.4"
  },
  "vscode": {
   "interpreter": {
    "hash": "21d8332eb27bea95342760850bd7426f517b6a483537194bbba87e10eeabf6ff"
   }
  }
 },
 "nbformat": 4,
 "nbformat_minor": 4
}
