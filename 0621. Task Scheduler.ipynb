{
 "cells": [
  {
   "attachments": {},
   "cell_type": "markdown",
   "metadata": {},
   "source": [
    "`# Array` `# Counting` `# Greedy` `# Hash Table` `# Heap (Priority Queue)` `# Sorting`"
   ]
  },
  {
   "attachments": {},
   "cell_type": "markdown",
   "metadata": {},
   "source": [
    "Given a characters array `tasks`, representing the tasks a CPU needs to do, where each letter represents a different task. Tasks could be done in any order. Each task is done in one unit of time. For each unit of time, the CPU could complete either one task or just be idle.\n",
    "\n",
    "However, there is a non-negative integer `n` that represents the cooldown period between two **same tasks** (the same letter in the array), that is that there must be at least `n` units of time between any two same tasks.\n",
    "\n",
    "Return *the least number of units of times that the CPU will take to finish all the given tasks.*"
   ]
  },
  {
   "attachments": {},
   "cell_type": "markdown",
   "metadata": {},
   "source": [
    "**Example 1:**\n",
    "\n",
    "> Input: tasks = [\"A\",\"A\",\"A\",\"B\",\"B\",\"B\"], n = 2  \n",
    "> Output: 8  \n",
    "> Explanation:   \n",
    "> A -> B -> idle -> A -> B -> idle -> A -> B  \n",
    "> There is at least 2 units of time between any two same tasks.  \n",
    "\n",
    "**Example 2:**\n",
    "\n",
    "> Input: tasks = [\"A\",\"A\",\"A\",\"B\",\"B\",\"B\"], n = 0  \n",
    "> Output: 6  \n",
    "> Explanation: On this case any permutation of size 6 would work since n = 0.  \n",
    "> [\"A\",\"A\",\"A\",\"B\",\"B\",\"B\"]  \n",
    "> [\"A\",\"B\",\"A\",\"B\",\"A\",\"B\"]  \n",
    "> [\"B\",\"B\",\"B\",\"A\",\"A\",\"A\"]  \n",
    "> ...  \n",
    "> And so on.\n",
    "\n",
    "**Example 3:**\n",
    "\n",
    "> Input: tasks = [\"A\",\"A\",\"A\",\"A\",\"A\",\"A\",\"B\",\"C\",\"D\",\"E\",\"F\",\"G\"], n = 2  \n",
    "> Output: 16  \n",
    "> Explanation:   \n",
    "> One possible solution is  \n",
    "> A -> B -> C -> A -> D -> E -> A -> F -> G -> A -> idle -> idle -> A -> idle -> idle -> A"
   ]
  },
  {
   "cell_type": "code",
   "execution_count": 1,
   "metadata": {},
   "outputs": [],
   "source": [
    "class Solution:\n",
    "\n",
    "    # Time Complexity： O(n)\n",
    "    # Space Complexity： O(26)\n",
    "    def leastInterval(self, tasks: list[str], n: int) -> int:\n",
    "        from collections import Counter\n",
    "\n",
    "        cnt = Counter(Counter(tasks).values())\n",
    "        mostFreqCnt = cnt[mostFreq := max(cnt.keys())]\n",
    "\n",
    "        return max(len(tasks), (mostFreq-1)*(n+1) + mostFreqCnt)\n",
    "    \n",
    "    # Time Complexity： O(nlog26) -> O(n)\n",
    "    # Space Complexity： O(26)\n",
    "    def leastInterval_heap(self, tasks: list[str], n: int) -> int:\n",
    "        from collections import Counter, deque\n",
    "        from heapq import heapify, heappop, heappush\n",
    "\n",
    "        heapify(maxHeap := [-freq for freq in Counter(tasks).values()])\n",
    "        queue, time = deque([]), 0\n",
    "\n",
    "        while maxHeap or queue:\n",
    "            time += 1\n",
    "\n",
    "            if maxHeap:\n",
    "                if freq := heappop(maxHeap) + 1:           \n",
    "                    queue.append((freq, time+n))\n",
    "            \n",
    "            if queue and queue[0][1] == time:\n",
    "                heappush(maxHeap, queue.popleft()[0])\n",
    "        \n",
    "        return time"
   ]
  },
  {
   "cell_type": "code",
   "execution_count": 2,
   "metadata": {},
   "outputs": [
    {
     "name": "stdout",
     "output_type": "stream",
     "text": [
      "---leastInterval---\n",
      "Case 1: 8\n",
      "Case 2: 6\n",
      "Case 3: 16\n",
      "\n",
      "---leastInterval_heap---\n",
      "Case 1: 8\n",
      "Case 2: 6\n",
      "Case 3: 16\n"
     ]
    }
   ],
   "source": [
    "# Test on Cases\n",
    "S = Solution()\n",
    "\n",
    "print(\"---leastInterval---\")\n",
    "print(f\"Case 1: {S.leastInterval(['A','A','A','B','B','B'], 2)}\")\n",
    "print(f\"Case 2: {S.leastInterval(['A','A','A','B','B','B'], 0)}\")\n",
    "print(f\"Case 3: {S.leastInterval(['A','A','A','A','A','A','B','C','D','E','F','G'], 2)}\\n\")\n",
    "\n",
    "print(\"---leastInterval_heap---\")\n",
    "print(f\"Case 1: {S.leastInterval_heap(['A','A','A','B','B','B'], 2)}\")\n",
    "print(f\"Case 2: {S.leastInterval_heap(['A','A','A','B','B','B'], 0)}\")\n",
    "print(f\"Case 3: {S.leastInterval_heap(['A','A','A','A','A','A','B','C','D','E','F','G'], 2)}\")"
   ]
  },
  {
   "attachments": {},
   "cell_type": "markdown",
   "metadata": {},
   "source": [
    "**Ref**\n",
    "1. [Python | Heavily visualized + Detailed explanation](https://leetcode.com/problems/task-scheduler/solutions/761070/python-heavily-visualized-detailed-explanation/?orderBy=most_votes)"
   ]
  }
 ],
 "metadata": {
  "kernelspec": {
   "display_name": "Python 3 (ipykernel)",
   "language": "python",
   "name": "python3"
  },
  "language_info": {
   "codemirror_mode": {
    "name": "ipython",
    "version": 3
   },
   "file_extension": ".py",
   "mimetype": "text/x-python",
   "name": "python",
   "nbconvert_exporter": "python",
   "pygments_lexer": "ipython3",
   "version": "3.10.4"
  },
  "vscode": {
   "interpreter": {
    "hash": "21d8332eb27bea95342760850bd7426f517b6a483537194bbba87e10eeabf6ff"
   }
  }
 },
 "nbformat": 4,
 "nbformat_minor": 4
}
