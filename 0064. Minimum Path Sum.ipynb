{
 "cells": [
  {
   "cell_type": "markdown",
   "metadata": {},
   "source": [
    "`# Array` `# Dynamic Programming` `# Matrix`"
   ]
  },
  {
   "cell_type": "markdown",
   "metadata": {},
   "source": [
    "Given a `m x n` grid filled with non-negative numbers, *find a path from top left to bottom right, which minimizes the sum of all numbers along its path*.\n",
    "\n",
    "Note: You can only move either down or right at any point in time."
   ]
  },
  {
   "cell_type": "markdown",
   "metadata": {},
   "source": [
    "**Example 1:**  \n",
    "![Image of leetcode 0064 problem example 1](https://assets.leetcode.com/uploads/2020/11/05/minpath.jpg)\n",
    "> Input: grid = [[1,3,1],[1,5,1],[4,2,1]]  \n",
    "Output: 7  \n",
    "Explanation: Because the path 1 → 3 → 1 → 1 → 1 minimizes the sum.  \n",
    "\n",
    "**Example 2:**\n",
    "\n",
    "> Input: grid = [[1,2,3],[4,5,6]]  \n",
    "Output: 12  "
   ]
  },
  {
   "cell_type": "code",
   "execution_count": 3,
   "metadata": {},
   "outputs": [],
   "source": [
    "class Solution:\n",
    "    \n",
    "    # Time Complexity： O(mn)\n",
    "    # Space Complexity： O(1)      \n",
    "    def minPathSum(self, grid: 'List[List[int]]') -> 'int':\n",
    "        from itertools import product\n",
    "\n",
    "        m, n = len(grid), len(grid[0])\n",
    "        \n",
    "        for i, j in product(range(m), range(n)):\n",
    "            if i == 0 and j == 0: continue\n",
    "            elif i == 0: grid[i][j] += grid[i][j-1]\n",
    "            elif j == 0: grid[i][j] += grid[i-1][j]\n",
    "            else: grid[i][j] += min(grid[i-1][j], grid[i][j-1])\n",
    "\n",
    "        return grid[m-1][n-1]"
   ]
  },
  {
   "cell_type": "code",
   "execution_count": 4,
   "metadata": {},
   "outputs": [
    {
     "name": "stdout",
     "output_type": "stream",
     "text": [
      "Case 1: 7\n",
      "Case 2: 12\n"
     ]
    }
   ],
   "source": [
    "# Test on Cases\n",
    "S = Solution()\n",
    "\n",
    "print(f\"Case 1: {S.minPathSum([[1,3,1],[1,5,1],[4,2,1]])}\")\n",
    "print(f\"Case 2: {S.minPathSum([[1,2,3],[4,5,6]])}\")"
   ]
  },
  {
   "cell_type": "markdown",
   "metadata": {},
   "source": [
    "**Ref**\n",
    "1. [[Python] Bottom up DP - In place - Clean & Concise](https://leetcode.com/problems/minimum-path-sum/discuss/1467216/Python-Bottom-up-DP-In-place-Clean-and-Concise)\n",
    "2. [Minimum Path Sum - Dynamic Programming - Leetcode 64 - Python](https://www.youtube.com/watch?v=pGMsrvt0fpk&ab_channel=NeetCode)"
   ]
  }
 ],
 "metadata": {
  "kernelspec": {
   "display_name": "Python 3",
   "language": "python",
   "name": "python3"
  },
  "language_info": {
   "codemirror_mode": {
    "name": "ipython",
    "version": 3
   },
   "file_extension": ".py",
   "mimetype": "text/x-python",
   "name": "python",
   "nbconvert_exporter": "python",
   "pygments_lexer": "ipython3",
   "version": "3.8.3"
  }
 },
 "nbformat": 4,
 "nbformat_minor": 4
}
