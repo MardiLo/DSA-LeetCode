{
 "cells": [
  {
   "cell_type": "markdown",
   "metadata": {},
   "source": [
    "`# Math`"
   ]
  },
  {
   "cell_type": "markdown",
   "metadata": {},
   "source": [
    "Given an integer `x`, return `true` if `x` is palindrome integer.\n",
    "\n",
    "An integer is a **palindrome** when it reads the same backward as forward.\n",
    "\n",
    "For example, `121` is a palindrome while `123` is not."
   ]
  },
  {
   "cell_type": "markdown",
   "metadata": {},
   "source": [
    "**Example 1:**\n",
    "\n",
    "> Input: x = 121  \n",
    "Output: true  \n",
    "Explanation: 121 reads as 121 from left to right and from right to left.  \n",
    "\n",
    "**Example 2:**\n",
    "\n",
    "> Input: x = -121  \n",
    "Output: false  \n",
    "Explanation: From left to right, it reads -121. From right to left, it becomes 121-. Therefore it is not a palindrome.  \n",
    "\n",
    "**Example 3:**\n",
    "\n",
    "> Input: x = 10  \n",
    "Output: false  \n",
    "Explanation: Reads 01 from right to left. Therefore it is not a palindrome.  "
   ]
  },
  {
   "cell_type": "code",
   "execution_count": 1,
   "metadata": {},
   "outputs": [],
   "source": [
    "class Solution:\n",
    "    \n",
    "    # Time Complexity： O(n)\n",
    "    # Space Complexity： O(n)\n",
    "    def isPalindrome_string(self, x: int) -> bool:\n",
    "        return str(x) == str(x)[::-1] if x >= 0 else False\n",
    "       \n",
    "    # Time Complexity： O(n)\n",
    "    # Space Complexity： O(1)\n",
    "    def isPalindrome_integer(self, x: int) -> int:\n",
    "        if x < 0: return False\n",
    "        \n",
    "        quotient, res = x, 0\n",
    "        while quotient:\n",
    "            quotient, remainder = divmod(quotient, 10)\n",
    "            res = 10 * res + remainder\n",
    "        \n",
    "        return res == x"
   ]
  },
  {
   "cell_type": "code",
   "execution_count": 2,
   "metadata": {},
   "outputs": [
    {
     "name": "stdout",
     "output_type": "stream",
     "text": [
      "---isPalindrome_string---\n",
      "Case 1: False\n",
      "Case 2: False\n",
      "Case 3: False\n",
      "Case 4: True\n",
      "\n",
      "---isPalindrome_integer---\n",
      "Case 1: False\n",
      "Case 2: False\n",
      "Case 3: False\n",
      "Case 4: True\n"
     ]
    }
   ],
   "source": [
    "# Test on Cases\n",
    "S = Solution()\n",
    "\n",
    "print(\"---isPalindrome_string---\")\n",
    "print(f\"Case 1: {S.isPalindrome_string(123)}\")\n",
    "print(f\"Case 2: {S.isPalindrome_string(-123)}\")\n",
    "print(f\"Case 3: {S.isPalindrome_string(120)}\")\n",
    "print(f\"Case 4: {S.isPalindrome_string(0)}\\n\")\n",
    "\n",
    "print(\"---isPalindrome_integer---\")\n",
    "print(f\"Case 1: {S.isPalindrome_integer(123)}\")\n",
    "print(f\"Case 2: {S.isPalindrome_integer(-123)}\")\n",
    "print(f\"Case 3: {S.isPalindrome_integer(120)}\")\n",
    "print(f\"Case 4: {S.isPalindrome_integer(0)}\")"
   ]
  }
 ],
 "metadata": {
  "kernelspec": {
   "display_name": "Python 3.10.4 ('leetcode')",
   "language": "python",
   "name": "python3"
  },
  "language_info": {
   "codemirror_mode": {
    "name": "ipython",
    "version": 3
   },
   "file_extension": ".py",
   "mimetype": "text/x-python",
   "name": "python",
   "nbconvert_exporter": "python",
   "pygments_lexer": "ipython3",
   "version": "3.10.4"
  },
  "vscode": {
   "interpreter": {
    "hash": "21d8332eb27bea95342760850bd7426f517b6a483537194bbba87e10eeabf6ff"
   }
  }
 },
 "nbformat": 4,
 "nbformat_minor": 4
}
