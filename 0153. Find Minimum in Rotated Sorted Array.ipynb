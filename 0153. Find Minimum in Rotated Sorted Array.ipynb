{
 "cells": [
  {
   "cell_type": "markdown",
   "metadata": {},
   "source": [
    "`# Array` `# Binary Search`"
   ]
  },
  {
   "attachments": {},
   "cell_type": "markdown",
   "metadata": {},
   "source": [
    "Suppose an array of length `n` sorted in ascending order is **rotated** between `1` and `n` times. For example, the array `nums = [0,1,2,4,5,6,7]` might become:\n",
    "\n",
    "- `[4,5,6,7,0,1,2]` if it was rotated `4` times.\n",
    "- `[0,1,2,4,5,6,7]` if it was rotated `7` times.\n",
    "Notice that rotating an array `[a[0], a[1], a[2], ..., a[n-1]]` 1 time results in the array `[a[n-1], a[0], a[1], a[2], ..., a[n-2]]`.\n",
    "\n",
    "Given the sorted rotated array `nums` of **unique** elements, return *the minimum element of this array.*\n",
    "\n",
    "You must write an algorithm that runs in `O(log n) time`."
   ]
  },
  {
   "attachments": {},
   "cell_type": "markdown",
   "metadata": {},
   "source": [
    "**Example 1:**\n",
    "\n",
    "> Input: nums = [3,4,5,1,2]  \n",
    "> Output: 1\n",
    "> Explanation: The original array was [1,2,3,4,5] rotated 3 times.\n",
    "\n",
    "**Example 2:**\n",
    "\n",
    "> Input: nums = [4,5,6,7,0,1,2]  \n",
    "> Output: 0  \n",
    "> Explanation: The original array was [0,1,2,4,5,6,7] and it was rotated 4 times.\n",
    "\n",
    "**Example 3:**\n",
    "\n",
    "> Input: nums = [11,13,15,17]  \n",
    "> Output: 11  \n",
    "> Explanation: The original array was [11,13,15,17] and it was rotated 4 times. "
   ]
  },
  {
   "cell_type": "code",
   "execution_count": 1,
   "metadata": {},
   "outputs": [],
   "source": [
    "class Solution:\n",
    "\n",
    "    # Time Complexity： O(logn)\n",
    "    # Space Complexity： O(1) \n",
    "    def findMin_1(self, nums: list[int]) -> int:\n",
    "        l, r = 0, len(nums)-1\n",
    "\n",
    "        while l <= r:\n",
    "            if (m := (l+r) // 2) and nums[m-1] > nums[m]: return nums[m]\n",
    "\n",
    "            if nums[m] <= nums[r]: r = m - 1\n",
    "            else: l = m + 1\n",
    "        \n",
    "        return nums[0]\n",
    "\n",
    "    # Time Complexity： O(logn)\n",
    "    # Space Complexity： O(1) \n",
    "    def findMin_2(self, nums: list[int]) -> int:\n",
    "        l, r = 0, len(nums)-1\n",
    "\n",
    "        while l <= r:\n",
    "            if nums[m := (l+r) // 2] <= nums[-1]: r = m - 1\n",
    "            else: l = m + 1\n",
    "        \n",
    "        return nums[l]\n",
    "\n",
    "    # Time Complexity： O(logn)\n",
    "    # Space Complexity： O(1) \n",
    "    def findMin_lib(self, nums: list[int]) -> int:\n",
    "        from bisect import bisect_left\n",
    "\n",
    "        return nums[bisect_left(range(len(nums)), True, key=lambda m: nums[m] <= nums[-1])]"
   ]
  },
  {
   "cell_type": "code",
   "execution_count": 2,
   "metadata": {},
   "outputs": [
    {
     "name": "stdout",
     "output_type": "stream",
     "text": [
      "---findMin_1---\n",
      "Case 1: 1\n",
      "Case 2: 0\n",
      "Case 3: 11\n",
      "\n",
      "---findMin_2---\n",
      "Case 1: 1\n",
      "Case 2: 0\n",
      "Case 3: 11\n",
      "\n",
      "---findMin_lib---\n",
      "Case 1: 1\n",
      "Case 2: 0\n",
      "Case 3: 11\n"
     ]
    }
   ],
   "source": [
    "# Test on Cases\n",
    "S = Solution()\n",
    "\n",
    "print(\"---findMin_1---\")\n",
    "print(f\"Case 1: {S.findMin_1([3,4,5,1,2])}\")\n",
    "print(f\"Case 2: {S.findMin_1([4,5,6,7,0,1,2])}\")\n",
    "print(f\"Case 3: {S.findMin_1([11,13,15,17])}\\n\")\n",
    "\n",
    "print(\"---findMin_2---\")\n",
    "print(f\"Case 1: {S.findMin_2([3,4,5,1,2])}\")\n",
    "print(f\"Case 2: {S.findMin_2([4,5,6,7,0,1,2])}\")\n",
    "print(f\"Case 3: {S.findMin_2([11,13,15,17])}\\n\")\n",
    "\n",
    "print(\"---findMin_lib---\")\n",
    "print(f\"Case 1: {S.findMin_lib([3,4,5,1,2])}\")\n",
    "print(f\"Case 2: {S.findMin_lib([4,5,6,7,0,1,2])}\")\n",
    "print(f\"Case 3: {S.findMin_lib([11,13,15,17])}\")"
   ]
  }
 ],
 "metadata": {
  "kernelspec": {
   "display_name": "Python 3 (ipykernel)",
   "language": "python",
   "name": "python3"
  },
  "language_info": {
   "codemirror_mode": {
    "name": "ipython",
    "version": 3
   },
   "file_extension": ".py",
   "mimetype": "text/x-python",
   "name": "python",
   "nbconvert_exporter": "python",
   "pygments_lexer": "ipython3",
   "version": "3.10.4"
  },
  "vscode": {
   "interpreter": {
    "hash": "21d8332eb27bea95342760850bd7426f517b6a483537194bbba87e10eeabf6ff"
   }
  }
 },
 "nbformat": 4,
 "nbformat_minor": 4
}
