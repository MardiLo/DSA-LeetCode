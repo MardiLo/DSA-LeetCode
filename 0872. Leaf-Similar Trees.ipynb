{
 "cells": [
  {
   "cell_type": "markdown",
   "metadata": {},
   "source": [
    "`# Binary Tree` `# Depth-First Search` `# Tree` "
   ]
  },
  {
   "cell_type": "markdown",
   "metadata": {},
   "source": [
    "Consider all the leaves of a binary tree, from left to right order, the values of those leaves form a **leaf value sequence**.  \n",
    "![Image of leetcode 0872](https://s3-lc-upload.s3.amazonaws.com/uploads/2018/07/16/tree.png) \n",
    "\n",
    "For example, in the given tree above, the leaf value sequence is `(6, 7, 4, 9, 8)`.\n",
    "\n",
    "Two binary trees are considered *leaf-similar* if their leaf value sequence is the same.\n",
    "\n",
    "Return `true` if and only if the two given trees with head nodes `root1` and `root2` are leaf-similar."
   ]
  },
  {
   "cell_type": "markdown",
   "metadata": {},
   "source": [
    "**Example 1:**  \n",
    "![Image of leetcode 0872 problem example 1](https://assets.leetcode.com/uploads/2020/09/03/leaf-similar-1.jpg) \n",
    "> Input: root1 = [3,5,1,6,2,9,8,null,null,7,4], root2 = [3,5,1,6,7,4,2,null,null,null,null,null,null,9,8]  \n",
    "> Output: true  \n",
    "\n",
    "**Example 2**  \n",
    "![Image of leetcode 0872 problem example 2](https://assets.leetcode.com/uploads/2020/09/03/leaf-similar-2.jpg) \n",
    "> Input: root1 = [1,2,3], root2 = [1,3,2]    \n",
    "> Output: false  "
   ]
  },
  {
   "cell_type": "code",
   "execution_count": 7,
   "metadata": {},
   "outputs": [],
   "source": [
    "class TreeNode:\n",
    "    def __init__(self, val=0, left=None, right=None):\n",
    "        self.val = val\n",
    "        self.left = left\n",
    "        self.right = right\n",
    "        \n",
    "class Solution:\n",
    "\n",
    "    # Time Complexity： O(max(m, n)), where m is the size of root1 and n for root2\n",
    "    # Space Complexity： O(max(m, n))\n",
    "    def leafSimilar(self, root1: TreeNode, root2: TreeNode) -> bool:\n",
    "        from itertools import zip_longest\n",
    "\n",
    "        def getLeaves(root):\n",
    "            stack, res = [(0, root)], []\n",
    "\n",
    "            while stack:\n",
    "                visited, root = stack.pop()\n",
    "\n",
    "                if root:\n",
    "                    if not visited: stack.extend([(1, root), (0, root.right), (0, root.left)])\n",
    "                    elif visited and not root.left and not root.right: res.append(root.val)\n",
    "            \n",
    "            return res\n",
    "\n",
    "        return all(x == y for x, y in zip_longest(getLeaves(root1), getLeaves(root2)))"
   ]
  },
  {
   "cell_type": "code",
   "execution_count": 8,
   "metadata": {},
   "outputs": [
    {
     "name": "stdout",
     "output_type": "stream",
     "text": [
      "Case 1: True\n",
      "Case 2: False\n"
     ]
    }
   ],
   "source": [
    "# Test on Cases\n",
    "S = Solution()\n",
    "\n",
    "print(f\"Case 1: {S.leafSimilar(root1=TreeNode(3, TreeNode(5, TreeNode(6), TreeNode(2, TreeNode(7), TreeNode(4))), TreeNode(1, TreeNode(9), TreeNode(8))), root2=TreeNode(3, TreeNode(5, TreeNode(6), TreeNode(7)), TreeNode(1, TreeNode(4), TreeNode(2, TreeNode(9), TreeNode(8)))))}\")\n",
    "print(f\"Case 2: {S.leafSimilar(root1=TreeNode(1, TreeNode(2), TreeNode(3)), root2=TreeNode(1, TreeNode(3), TreeNode(2)))}\")"
   ]
  }
 ],
 "metadata": {
  "kernelspec": {
   "display_name": "leetcode",
   "language": "python",
   "name": "python3"
  },
  "language_info": {
   "codemirror_mode": {
    "name": "ipython",
    "version": 3
   },
   "file_extension": ".py",
   "mimetype": "text/x-python",
   "name": "python",
   "nbconvert_exporter": "python",
   "pygments_lexer": "ipython3",
   "version": "3.10.4"
  }
 },
 "nbformat": 4,
 "nbformat_minor": 4
}
