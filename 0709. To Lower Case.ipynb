{
 "cells": [
  {
   "cell_type": "markdown",
   "metadata": {},
   "source": [
    "`# String`"
   ]
  },
  {
   "cell_type": "markdown",
   "metadata": {},
   "source": [
    "Given a string `s`, return *the string after replacing every uppercase letter with the same lowercase letter.*"
   ]
  },
  {
   "cell_type": "markdown",
   "metadata": {},
   "source": [
    "**Example 1:**\n",
    "\n",
    "> Input: s = \"Hello\"  \n",
    "Output: \"hello\"  \n",
    "\n",
    "**Example 2:**\n",
    "\n",
    "> Input: s = \"here\"  \n",
    "Output: \"here\"   \n",
    "\n",
    "**Example 3:**\n",
    "\n",
    "> Input: s = \"LOVELY\"  \n",
    "Output: \"lovely\""
   ]
  },
  {
   "cell_type": "code",
   "execution_count": 1,
   "metadata": {},
   "outputs": [],
   "source": [
    "class Solution:\n",
    "\n",
    "    # Time Complexity： O(n)\n",
    "    # Space Complexity： O(1)\n",
    "    def toLowerCase(self, s: str) -> str:\n",
    "        return s.lower()"
   ]
  },
  {
   "cell_type": "code",
   "execution_count": 2,
   "metadata": {},
   "outputs": [
    {
     "name": "stdout",
     "output_type": "stream",
     "text": [
      "Case 1: hello\n",
      "Case 2: here\n",
      "Case 3: lovely\n"
     ]
    }
   ],
   "source": [
    "# Test on Cases\n",
    "S = Solution()\n",
    "\n",
    "print(f\"Case 1: {S.toLowerCase('Hello')}\")\n",
    "print(f\"Case 2: {S.toLowerCase('here')}\")\n",
    "print(f\"Case 3: {S.toLowerCase('LOVELY')}\")"
   ]
  }
 ],
 "metadata": {
  "kernelspec": {
   "display_name": "Python 3.10.4 ('leetcode')",
   "language": "python",
   "name": "python3"
  },
  "language_info": {
   "codemirror_mode": {
    "name": "ipython",
    "version": 3
   },
   "file_extension": ".py",
   "mimetype": "text/x-python",
   "name": "python",
   "nbconvert_exporter": "python",
   "pygments_lexer": "ipython3",
   "version": "3.10.4"
  },
  "vscode": {
   "interpreter": {
    "hash": "21d8332eb27bea95342760850bd7426f517b6a483537194bbba87e10eeabf6ff"
   }
  }
 },
 "nbformat": 4,
 "nbformat_minor": 4
}
