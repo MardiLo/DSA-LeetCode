{
 "cells": [
  {
   "cell_type": "markdown",
   "metadata": {},
   "source": [
    "`# Array` `# Hash Table`"
   ]
  },
  {
   "cell_type": "markdown",
   "metadata": {},
   "source": [
    "You are given an integer array `nums` with the following properties:\n",
    "\n",
    "- `nums.length == 2 * n`.\n",
    "- `nums` contains `n + 1` **unique** elements.\n",
    "- Exactly one element of `nums` is repeated `n` times.\n",
    "\n",
    "Return *the element that is repeated* `n` *times*."
   ]
  },
  {
   "cell_type": "markdown",
   "metadata": {},
   "source": [
    "**Example 1:**\n",
    "\n",
    "> Input: nums = [1,2,3,3]  \n",
    "> Output: 3\n",
    "\n",
    "**Example 2:**\n",
    "\n",
    "> Input: nums = [2,1,2,5,3,2]  \n",
    "> Output: 2\n",
    "\n",
    "**Example 3:**  \n",
    "\n",
    "> Input: nums = [5,1,5,2,5,3,5,4]  \n",
    "> Output: 5"
   ]
  },
  {
   "cell_type": "code",
   "execution_count": 3,
   "metadata": {},
   "outputs": [],
   "source": [
    "class Solution:\n",
    "    \n",
    "    # Time Complexity： O(n)\n",
    "    # Space Complexity： O(n)\n",
    "    def repeatedNTimes(self, nums: list[int]) -> int:\n",
    "        seen = set()\n",
    "        \n",
    "        for num in nums:\n",
    "            if num in seen: return num\n",
    "            seen.add(num)"
   ]
  },
  {
   "cell_type": "code",
   "execution_count": 4,
   "metadata": {},
   "outputs": [
    {
     "name": "stdout",
     "output_type": "stream",
     "text": [
      "Case 1: 3\n",
      "Case 2: 2\n",
      "Case 3: 5\n"
     ]
    }
   ],
   "source": [
    "# Test on Cases\n",
    "S = Solution()\n",
    "\n",
    "print(f\"Case 1: {S.repeatedNTimes([1,2,3,3])}\")\n",
    "print(f\"Case 2: {S.repeatedNTimes([2,1,2,5,3,2])}\")\n",
    "print(f\"Case 3: {S.repeatedNTimes([5,1,5,2,5,3,5,4])}\")"
   ]
  }
 ],
 "metadata": {
  "kernelspec": {
   "display_name": "Python 3 (ipykernel)",
   "language": "python",
   "name": "python3"
  },
  "language_info": {
   "codemirror_mode": {
    "name": "ipython",
    "version": 3
   },
   "file_extension": ".py",
   "mimetype": "text/x-python",
   "name": "python",
   "nbconvert_exporter": "python",
   "pygments_lexer": "ipython3",
   "version": "3.10.4"
  },
  "vscode": {
   "interpreter": {
    "hash": "21d8332eb27bea95342760850bd7426f517b6a483537194bbba87e10eeabf6ff"
   }
  }
 },
 "nbformat": 4,
 "nbformat_minor": 4
}
