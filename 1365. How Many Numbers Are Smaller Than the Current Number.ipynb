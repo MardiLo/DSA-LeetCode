{
 "cells": [
  {
   "cell_type": "markdown",
   "metadata": {},
   "source": [
    "`# Array` `# Counting` `# Hash Table` `# Sorting`"
   ]
  },
  {
   "cell_type": "markdown",
   "metadata": {},
   "source": [
    "Given the array `nums`, for each `nums[i]` find out how many numbers in the array are smaller than it. That is, for each `nums[i]` you have to count the number of valid `j`'s such that `j != i` and `nums[j] < nums[i]`.\n",
    "\n",
    "Return the answer in an array."
   ]
  },
  {
   "cell_type": "markdown",
   "metadata": {},
   "source": [
    "**Example 1:**\n",
    "\n",
    "> Input: nums = [8,1,2,2,3]  \n",
    "Output: [4,0,1,1,3]  \n",
    "Explanation:   \n",
    "For nums[0]=8 there exist four smaller numbers than it (1, 2, 2 and 3).   \n",
    "For nums[1]=1 does not exist any smaller number than it.  \n",
    "For nums[2]=2 there exist one smaller number than it (1).   \n",
    "For nums[3]=2 there exist one smaller number than it (1).   \n",
    "For nums[4]=3 there exist three smaller numbers than it (1, 2 and 2).\n",
    "\n",
    "**Example 2:**\n",
    "\n",
    "> Input: nums = [6,5,4,8]  \n",
    "Output: [2,1,0,3]  \n",
    "\n",
    "**Example 3:**\n",
    "\n",
    "> Input: nums = [7,7,7,7]  \n",
    "Output: [0,0,0,0]"
   ]
  },
  {
   "cell_type": "code",
   "execution_count": 1,
   "metadata": {},
   "outputs": [],
   "source": [
    "from email.policy import default\n",
    "\n",
    "\n",
    "class Solution:\n",
    "    \n",
    "    # Time Complexity： O(max(n, max(nums))), where n = len(nums) and 0 <= nums[i] <= 100\n",
    "    # Space Complexity： O(max(nums))    \n",
    "    def smallerNumbersThanCurrent_bucketSort(self, nums: list[int]) -> list[int]:\n",
    "        buckets = [0] * (max(nums)+1)\n",
    "        \n",
    "        for num in nums:\n",
    "            buckets[num] += 1\n",
    "            \n",
    "        for i in range(1, len(buckets)):\n",
    "            buckets[i] += buckets[i-1]\n",
    "\n",
    "        return [buckets[num-1] if num else 0 for num in nums]\n",
    "\n",
    "    # Time Complexity： O(nlogn)\n",
    "    # Space Complexity： O(n)    \n",
    "    def smallerNumbersThanCurrent_binarySearch(self, nums: list[int]) -> list[int]:\n",
    "        from bisect import bisect_right\n",
    "\n",
    "        copy, cache, res = sorted(nums), {}, []\n",
    "\n",
    "        for num in nums:\n",
    "            if (virtual := num-1) not in cache:\n",
    "                cache[virtual] = bisect_right(copy, virtual)\n",
    "            res.append(cache[virtual])\n",
    "\n",
    "        return res"
   ]
  },
  {
   "cell_type": "code",
   "execution_count": 2,
   "metadata": {},
   "outputs": [
    {
     "name": "stdout",
     "output_type": "stream",
     "text": [
      "---smallerNumbersThanCurrent_bucketSort---\n",
      "Case 1: [4, 0, 1, 1, 3]\n",
      "Case 2: [2, 1, 0, 3]\n",
      "Case 3: [0, 0, 0, 0]\n",
      "\n",
      "---smallerNumbersThanCurrent_binarySearch---\n",
      "Case 1: [4, 0, 1, 1, 3]\n",
      "Case 2: [2, 1, 0, 3]\n",
      "Case 3: [0, 0, 0, 0]\n"
     ]
    }
   ],
   "source": [
    "# Test on Cases\n",
    "S = Solution()\n",
    "\n",
    "print(\"---smallerNumbersThanCurrent_bucketSort---\")\n",
    "print(f\"Case 1: {S.smallerNumbersThanCurrent_bucketSort([8,1,2,2,3])}\")\n",
    "print(f\"Case 2: {S.smallerNumbersThanCurrent_bucketSort([6,5,4,8])}\")\n",
    "print(f\"Case 3: {S.smallerNumbersThanCurrent_bucketSort([7,7,7,7])}\\n\")\n",
    "\n",
    "print(\"---smallerNumbersThanCurrent_binarySearch---\")\n",
    "print(f\"Case 1: {S.smallerNumbersThanCurrent_binarySearch([8,1,2,2,3])}\")\n",
    "print(f\"Case 2: {S.smallerNumbersThanCurrent_binarySearch([6,5,4,8])}\")\n",
    "print(f\"Case 3: {S.smallerNumbersThanCurrent_binarySearch([7,7,7,7])}\")"
   ]
  }
 ],
 "metadata": {
  "kernelspec": {
   "display_name": "Python 3.10.4 ('leetcode')",
   "language": "python",
   "name": "python3"
  },
  "language_info": {
   "codemirror_mode": {
    "name": "ipython",
    "version": 3
   },
   "file_extension": ".py",
   "mimetype": "text/x-python",
   "name": "python",
   "nbconvert_exporter": "python",
   "pygments_lexer": "ipython3",
   "version": "3.10.4 | packaged by conda-forge | (main, Mar 30 2022, 08:38:02) [MSC v.1916 64 bit (AMD64)]"
  },
  "vscode": {
   "interpreter": {
    "hash": "21d8332eb27bea95342760850bd7426f517b6a483537194bbba87e10eeabf6ff"
   }
  }
 },
 "nbformat": 4,
 "nbformat_minor": 4
}
