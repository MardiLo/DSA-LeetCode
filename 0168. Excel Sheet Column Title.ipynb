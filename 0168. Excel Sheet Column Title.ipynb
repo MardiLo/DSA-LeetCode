{
 "cells": [
  {
   "cell_type": "markdown",
   "metadata": {},
   "source": [
    "`# Math` `# String`"
   ]
  },
  {
   "cell_type": "markdown",
   "metadata": {},
   "source": [
    "Given an integer `columnNumber`, return *its corresponding column title as it appears in an Excel sheet.*\n",
    "\n",
    "For example:\n",
    "> A -> 1  \n",
    "> B -> 2  \n",
    "> C -> 3  \n",
    "> ...  \n",
    "> Z -> 26  \n",
    "> AA -> 27  \n",
    "> AB -> 28   \n",
    "> ..."
   ]
  },
  {
   "cell_type": "markdown",
   "metadata": {},
   "source": [
    "**Example 1:**\n",
    "\n",
    "> Input: columnNumber = 1  \n",
    "> Output: \"A\"  \n",
    "\n",
    "**Example 2:**\n",
    "\n",
    "> Input: columnNumber = 28  \n",
    "> Output: \"AB\"  \n",
    "\n",
    "**Example 3:**\n",
    "\n",
    "> Input: columnNumber = 701  \n",
    "> Output: \"ZY\"  "
   ]
  },
  {
   "cell_type": "code",
   "execution_count": 1,
   "metadata": {},
   "outputs": [],
   "source": [
    "class Solution:\n",
    "    \n",
    "    # Time Complexity： O(logn), where this log is log base 26\n",
    "    # Space Complexity： O(1)\n",
    "    def convertToTitle(self, columnNumber: int) -> str:\n",
    "        res = \"\"\n",
    "\n",
    "        while columnNumber:\n",
    "            columnNumber, remainder = divmod(columnNumber-1, 26)\n",
    "            res = chr(remainder+ord(\"A\")) + res\n",
    "        \n",
    "        return res"
   ]
  },
  {
   "cell_type": "code",
   "execution_count": 2,
   "metadata": {},
   "outputs": [
    {
     "name": "stdout",
     "output_type": "stream",
     "text": [
      "Case 1: A\n",
      "Case 2: AB\n",
      "Case 3: ZY\n"
     ]
    }
   ],
   "source": [
    "# Test on Cases\n",
    "S = Solution()\n",
    "\n",
    "print(f\"Case 1: {S.convertToTitle(1)}\")\n",
    "print(f\"Case 2: {S.convertToTitle(28)}\")\n",
    "print(f\"Case 3: {S.convertToTitle(701)}\")"
   ]
  }
 ],
 "metadata": {
  "interpreter": {
   "hash": "a1465031eeae0bed8511463faaa157119e7e6b7b1fbf4ef49fce31064cee3326"
  },
  "kernelspec": {
   "display_name": "Python 3 (ipykernel)",
   "language": "python",
   "name": "python3"
  },
  "language_info": {
   "codemirror_mode": {
    "name": "ipython",
    "version": 3
   },
   "file_extension": ".py",
   "mimetype": "text/x-python",
   "name": "python",
   "nbconvert_exporter": "python",
   "pygments_lexer": "ipython3",
   "version": "3.10.4"
  }
 },
 "nbformat": 4,
 "nbformat_minor": 4
}
