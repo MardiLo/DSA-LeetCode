{
 "cells": [
  {
   "cell_type": "markdown",
   "source": [
    "`# Math`"
   ],
   "metadata": {}
  },
  {
   "cell_type": "markdown",
   "source": [
    "Given a signed 32-bit integer `x`, return `x` *with its digits* ***reversed***. If reversing `x` causes the value to go outside the signed 32-bit integer range `[-231, 231 - 1]`, then return `0`.\r\n",
    "\r\n",
    "Assume the environment does not allow you to store 64-bit integers (signed or unsigned)."
   ],
   "metadata": {}
  },
  {
   "cell_type": "markdown",
   "source": [
    "**Example 1:**\n",
    "\n",
    "> Input: x = 123  \n",
    "Output: 321\n",
    "\n",
    "**Example 2:**\n",
    "\n",
    "> Input: x = -123  \n",
    "Output: -321\n",
    "\n",
    "**Example 3:**\n",
    "\n",
    "> Input: x = 120  \n",
    "Output: 21\n",
    "\n",
    "**Example 4:**\n",
    "\n",
    "> Input: x = 0  \n",
    "Output: 0"
   ],
   "metadata": {}
  },
  {
   "cell_type": "code",
   "execution_count": 1,
   "source": [
    "class Solution:\r\n",
    "    \r\n",
    "    # Time Complexity： O(n)\r\n",
    "    # Space Complexity： O(n)\r\n",
    "    def reverse_string(self, x: 'int') -> 'int':\r\n",
    "        sign = -1 if x < 0 else 1\r\n",
    "\r\n",
    "        # string reverse with [::-1] is the most efficiently way\r\n",
    "        res = sign * int(str(abs(x))[::-1])    # TC: O(n); SC: O(n), where n = digit of x\r\n",
    "        \r\n",
    "        return res if -2**31 <= res <= 2**31 - 1 else 0\r\n",
    "    \r\n",
    "    \r\n",
    "    # Time Complexity： O(n)\r\n",
    "    # Space Complexity： O(1)\r\n",
    "    def reverse_integer(self, x: 'int') -> 'int':\r\n",
    "        if x < 0: sign, x = -1, -x  \r\n",
    "        else: sign = 1\r\n",
    "            \r\n",
    "        res = 0\r\n",
    "        while x:                                # TC: O(n), where n = digit of x\r\n",
    "            res = res * 10 + x % 10\r\n",
    "            x //= 10\r\n",
    "\r\n",
    "        res *= sign\r\n",
    "\r\n",
    "        return res if -2**31 <= res <= 2**31 - 1 else 0"
   ],
   "outputs": [],
   "metadata": {}
  },
  {
   "cell_type": "code",
   "execution_count": 2,
   "source": [
    "# Test on Cases\r\n",
    "S = Solution()\r\n",
    "\r\n",
    "print(\"---reverse_string---\")\r\n",
    "print(f\"Case 1: {S.reverse_string(123)}\")\r\n",
    "print(f\"Case 2: {S.reverse_string(-123)}\")\r\n",
    "print(f\"Case 3: {S.reverse_string(120)}\")\r\n",
    "print(f\"Case 4: {S.reverse_string(0)}\\n\")\r\n",
    "\r\n",
    "print(\"---reverse_integer---\")\r\n",
    "print(f\"Case 1: {S.reverse_integer(123)}\")\r\n",
    "print(f\"Case 2: {S.reverse_integer(-123)}\")\r\n",
    "print(f\"Case 3: {S.reverse_integer(120)}\")\r\n",
    "print(f\"Case 4: {S.reverse_integer(0)}\")"
   ],
   "outputs": [
    {
     "output_type": "stream",
     "name": "stdout",
     "text": [
      "---reverse_string---\n",
      "Case 1: 321\n",
      "Case 2: -321\n",
      "Case 3: 21\n",
      "Case 4: 0\n",
      "\n",
      "---reverse_integer---\n",
      "Case 1: 321\n",
      "Case 2: -321\n",
      "Case 3: 21\n",
      "Case 4: 0\n"
     ]
    }
   ],
   "metadata": {}
  }
 ],
 "metadata": {
  "kernelspec": {
   "name": "python3",
   "display_name": "Python 3.7.7 64-bit ('spark': conda)"
  },
  "language_info": {
   "codemirror_mode": {
    "name": "ipython",
    "version": 3
   },
   "file_extension": ".py",
   "mimetype": "text/x-python",
   "name": "python",
   "nbconvert_exporter": "python",
   "pygments_lexer": "ipython3",
   "version": "3.7.7"
  },
  "interpreter": {
   "hash": "6ab137a14910b4ee65d0ea442464c53c8571f8241496146388c5db8c59915964"
  }
 },
 "nbformat": 4,
 "nbformat_minor": 4
}