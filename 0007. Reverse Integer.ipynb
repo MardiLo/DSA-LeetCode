{
 "cells": [
  {
   "cell_type": "markdown",
   "metadata": {},
   "source": [
    "`# Math`"
   ]
  },
  {
   "cell_type": "markdown",
   "metadata": {},
   "source": [
    "Given a signed 32-bit integer `x`, return `x` *with its digits* ***reversed***. If reversing `x` causes the value to go outside the signed 32-bit integer range `[-231, 231 - 1]`, then return `0`.\n",
    "\n",
    "Assume the environment does not allow you to store 64-bit integers (signed or unsigned)."
   ]
  },
  {
   "cell_type": "markdown",
   "metadata": {},
   "source": [
    "**Example 1:**\n",
    "\n",
    "> Input: x = 123  \n",
    "> Output: 321\n",
    "\n",
    "**Example 2:**\n",
    "\n",
    "> Input: x = -123  \n",
    "> Output: -321\n",
    "\n",
    "**Example 3:**\n",
    "\n",
    "> Input: x = 120  \n",
    "> Output: 21\n",
    "\n",
    "**Example 4:**\n",
    "\n",
    "> Input: x = 0  \n",
    "> Output: 0"
   ]
  },
  {
   "cell_type": "code",
   "execution_count": 3,
   "metadata": {},
   "outputs": [],
   "source": [
    "class Solution:\n",
    "    \n",
    "    # Time Complexity： O(n)\n",
    "    # Space Complexity： O(n)\n",
    "    def reverse_string(self, x: int) -> int:\n",
    "        # string reverse with [::-1] is the most efficiently way, but spends O(n) for space complexity\n",
    "        return res if -2**31 <= (res := (-1 if x < 0 else 1) * int(str(abs(x))[::-1])) < 2**31 else 0\n",
    "       \n",
    "    # Time Complexity： O(n)\n",
    "    # Space Complexity： O(1)\n",
    "    def reverse_integer(self, x: int) -> int:\n",
    "        res, sign, x = 0, -1 if x < 0 else 1, abs(x)\n",
    "        \n",
    "        while x:                              # TC: O(n), where n = digit of x\n",
    "            x, remainder = divmod(x, 10)\n",
    "            res = 10*res + remainder\n",
    "        \n",
    "        return res if -2**31 <= (res := res * sign) < 2**31 else 0"
   ]
  },
  {
   "cell_type": "code",
   "execution_count": 4,
   "metadata": {},
   "outputs": [
    {
     "name": "stdout",
     "output_type": "stream",
     "text": [
      "---reverse_string---\n",
      "Case 1: 321\n",
      "Case 2: -321\n",
      "Case 3: 21\n",
      "Case 4: 0\n",
      "\n",
      "---reverse_integer---\n",
      "Case 1: 321\n",
      "Case 2: -321\n",
      "Case 3: 21\n",
      "Case 4: 0\n"
     ]
    }
   ],
   "source": [
    "# Test on Cases\n",
    "S = Solution()\n",
    "\n",
    "print(\"---reverse_string---\")\n",
    "print(f\"Case 1: {S.reverse_string(123)}\")\n",
    "print(f\"Case 2: {S.reverse_string(-123)}\")\n",
    "print(f\"Case 3: {S.reverse_string(120)}\")\n",
    "print(f\"Case 4: {S.reverse_string(0)}\\n\")\n",
    "\n",
    "print(\"---reverse_integer---\")\n",
    "print(f\"Case 1: {S.reverse_integer(123)}\")\n",
    "print(f\"Case 2: {S.reverse_integer(-123)}\")\n",
    "print(f\"Case 3: {S.reverse_integer(120)}\")\n",
    "print(f\"Case 4: {S.reverse_integer(0)}\")"
   ]
  }
 ],
 "metadata": {
  "kernelspec": {
   "display_name": "leetcode",
   "language": "python",
   "name": "python3"
  },
  "language_info": {
   "codemirror_mode": {
    "name": "ipython",
    "version": 3
   },
   "file_extension": ".py",
   "mimetype": "text/x-python",
   "name": "python",
   "nbconvert_exporter": "python",
   "pygments_lexer": "ipython3",
   "version": "3.10.4"
  }
 },
 "nbformat": 4,
 "nbformat_minor": 4
}
