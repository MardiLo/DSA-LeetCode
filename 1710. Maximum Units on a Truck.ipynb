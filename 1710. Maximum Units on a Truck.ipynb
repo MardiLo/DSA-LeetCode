{
 "cells": [
  {
   "cell_type": "markdown",
   "metadata": {},
   "source": [
    "`# Array` `# Greedy` `# Sorting`"
   ]
  },
  {
   "cell_type": "markdown",
   "metadata": {},
   "source": [
    "You are assigned to put some amount of boxes onto **one truck**. You are given a 2D array `boxTypes`, where `boxTypes[i] = [numberOfBoxesi, numberOfUnitsPerBoxi]`:\n",
    "\n",
    "- `numberOfBoxes`<sub>`i`</sub> is the number of boxes of type `i`.\n",
    "- `numberOfUnitsPerBox`<sub>`i`</sub> is the number of units in each box of the type `i`.\n",
    "\n",
    "You are also given an integer `truckSize`, which is the **maximum** number of **boxes** that can be put on the truck. You can choose any boxes to put on the truck as long as the number of boxes does not exceed `truckSize`.\n",
    "\n",
    "Return *the ***maximum*** total number of ***units*** that can be put on the truck*."
   ]
  },
  {
   "cell_type": "markdown",
   "metadata": {},
   "source": [
    "**Example 1:**\n",
    "\n",
    "> Input: boxTypes = [[1,3],[2,2],[3,1]], truckSize = 4  \n",
    "> Output: 8  \n",
    "> Explanation: There are:  \n",
    "> - 1 box of the first type that contains 3 units.  \n",
    "> - 2 boxes of the second type that contain 2 units each.  \n",
    "> - 3 boxes of the third type that contain 1 unit each.  \n",
    "> \n",
    "> You can take all the boxes of the first and second types, and one box of the third type.  \n",
    "> The total number of units will be = (1 * 3) + (2 * 2) + (1 * 1) = 8.\n",
    "\n",
    "**Example 2:**\n",
    "\n",
    "> Input: boxTypes = [[5,10],[2,5],[4,7],[3,9]], truckSize = 10  \n",
    "> Output: 91  "
   ]
  },
  {
   "cell_type": "code",
   "execution_count": 1,
   "metadata": {},
   "outputs": [],
   "source": [
    "class Solution:\n",
    "\n",
    "    # Time Complexity： O(nlogn)\n",
    "    # Space Complexity： O(n)\n",
    "    def maximumUnits(self, boxTypes: list[list[int]], truckSize: int) -> int:\n",
    "        res = 0; boxTypes.sort(key=lambda x: -x[1])\n",
    "        \n",
    "        for numOfBox, unitOfBox in boxTypes:\n",
    "            if numOfBox >= truckSize: return res + truckSize * unitOfBox\n",
    "            \n",
    "            res += numOfBox * unitOfBox\n",
    "            truckSize -= numOfBox\n",
    "            \n",
    "        return res"
   ]
  },
  {
   "cell_type": "code",
   "execution_count": 2,
   "metadata": {},
   "outputs": [
    {
     "name": "stdout",
     "output_type": "stream",
     "text": [
      "Case 1: 8\n",
      "Case 2: 91\n"
     ]
    }
   ],
   "source": [
    "# Test on Cases\n",
    "S = Solution()\n",
    "\n",
    "print(f\"Case 1: {S.maximumUnits([[1,3],[2,2],[3,1]], 4)}\")\n",
    "print(f\"Case 2: {S.maximumUnits([[5,10],[2,5],[4,7],[3,9]], 10)}\")"
   ]
  }
 ],
 "metadata": {
  "kernelspec": {
   "display_name": "Python 3 (ipykernel)",
   "language": "python",
   "name": "python3"
  },
  "language_info": {
   "codemirror_mode": {
    "name": "ipython",
    "version": 3
   },
   "file_extension": ".py",
   "mimetype": "text/x-python",
   "name": "python",
   "nbconvert_exporter": "python",
   "pygments_lexer": "ipython3",
   "version": "3.10.4"
  },
  "vscode": {
   "interpreter": {
    "hash": "21d8332eb27bea95342760850bd7426f517b6a483537194bbba87e10eeabf6ff"
   }
  }
 },
 "nbformat": 4,
 "nbformat_minor": 4
}
