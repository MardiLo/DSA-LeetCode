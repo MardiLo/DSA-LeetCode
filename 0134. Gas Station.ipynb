{
 "cells": [
  {
   "cell_type": "markdown",
   "metadata": {},
   "source": [
    "`# Array` `# Greedy`"
   ]
  },
  {
   "cell_type": "markdown",
   "metadata": {},
   "source": [
    "There are `n` gas stations along a circular route, where the amount of gas at the $i^{th}$ station is `gas[i]`.\n",
    "\n",
    "You have a car with an unlimited gas tank and it costs `cost[i]` of gas to travel from the $i^{th}$ station to its next $(i + 1)^{th}$ station. You begin the journey with an empty tank at one of the gas stations.\n",
    "\n",
    "Given two integer arrays `gas` and `cost`, return the **starting gas station's index** if you can travel around the circuit once in the **clockwise direction**, otherwise return `-1`. If there exists a solution, it is **guaranteed** to be **unique**"
   ]
  },
  {
   "cell_type": "markdown",
   "metadata": {},
   "source": [
    "**Example 1:**\n",
    "\n",
    "> Input: gas = [1,2,3,4,5], cost = [3,4,5,1,2]  \n",
    "> Output: 3  \n",
    "> Explanation:  \n",
    "> Start at station 3 (index 3) and fill up with 4 unit of gas. Your tank = 0 + 4 = 4  \n",
    "> Travel to station 4. Your tank = 4 - 1 + 5 = 8  \n",
    "> Travel to station 0. Your tank = 8 - 2 + 1 = 7  \n",
    "> Travel to station 1. Your tank = 7 - 3 + 2 = 6  \n",
    "> Travel to station 2. Your tank = 6 - 4 + 3 = 5  \n",
    "> Travel to station 3. The cost is 5. Your gas is just enough to travel back to station 3.  \n",
    "> Therefore, return 3 as the starting index.  \n",
    "\n",
    "**Example 2:**\n",
    "\n",
    "> Input: gas = [2,3,4], cost = [3,4,3]  \n",
    "> Output: -1  \n",
    "> Explanation:  \n",
    "> You can't start at station 0 or 1, as there is not enough gas to travel to the next station.  \n",
    "> Let's start at station 2 and fill up with 4 unit of gas. Your tank = 0 + 4 = 4  \n",
    "> Travel to station 0. Your tank = 4 - 3 + 2 = 3  \n",
    "> Travel to station 1. Your tank = 3 - 3 + 3 = 3  \n",
    "> You cannot travel back to station 2, as it requires 4 unit of gas but you only have 3.  \n",
    "> Therefore, you can't travel around the circuit once no matter where you start."
   ]
  },
  {
   "cell_type": "code",
   "execution_count": 7,
   "metadata": {},
   "outputs": [],
   "source": [
    "class Solution:\n",
    "    \n",
    "    # Time Complexity： O(n)\n",
    "    # Space Complexity： O(1)      \n",
    "    def canCompleteCircuit(self, gas: list[int], cost: list[int]) -> int:\n",
    "        from operator import sub\n",
    "\n",
    "        if sum(map(sub, gas, cost)) < 0: return -1\n",
    "\n",
    "        s = head = 0\n",
    "        for i in range(len(gas)):\n",
    "            if (s := s+gas[i]-cost[i]) < 0: s, head = 0, i + 1\n",
    "        \n",
    "        return head"
   ]
  },
  {
   "cell_type": "code",
   "execution_count": 8,
   "metadata": {},
   "outputs": [
    {
     "name": "stdout",
     "output_type": "stream",
     "text": [
      "Case 1: 3\n",
      "Case 2: -1\n"
     ]
    }
   ],
   "source": [
    "# Test on Cases\n",
    "S = Solution()\n",
    "\n",
    "print(f\"Case 1: {S.canCompleteCircuit([1,2,3,4,5], [3,4,5,1,2])}\")\n",
    "print(f\"Case 2: {S.canCompleteCircuit([2,3,4], [3,4,3])}\")"
   ]
  }
 ],
 "metadata": {
  "kernelspec": {
   "display_name": "Python 3 (ipykernel)",
   "language": "python",
   "name": "python3"
  },
  "language_info": {
   "codemirror_mode": {
    "name": "ipython",
    "version": 3
   },
   "file_extension": ".py",
   "mimetype": "text/x-python",
   "name": "python",
   "nbconvert_exporter": "python",
   "pygments_lexer": "ipython3",
   "version": "3.10.4"
  }
 },
 "nbformat": 4,
 "nbformat_minor": 4
}
