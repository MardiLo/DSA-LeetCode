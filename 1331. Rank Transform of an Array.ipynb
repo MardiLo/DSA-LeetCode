{
 "cells": [
  {
   "cell_type": "markdown",
   "metadata": {},
   "source": [
    "`# Array` `# Hash Table` `# Sorting`"
   ]
  },
  {
   "cell_type": "markdown",
   "metadata": {},
   "source": [
    "Given an array of integers `arr`, replace each element with its rank.\n",
    "\n",
    "The rank represents how large the element is. The rank has the following rules:\n",
    "\n",
    "- Rank is an integer starting from 1.\n",
    "- The larger the element, the larger the rank. If two elements are equal, their rank must be the same.\n",
    "- Rank should be as small as possible."
   ]
  },
  {
   "cell_type": "markdown",
   "metadata": {},
   "source": [
    "**Example 1:**\n",
    "\n",
    "> Input: arr = [40,10,20,30]  \n",
    "> Output: [4,1,2,3]  \n",
    "> Explanation: 40 is the largest element. 10 is the smallest. 20 is the second smallest. 30 is the third smallest.\n",
    "\n",
    "**Example 2:**\n",
    "\n",
    "> Input: arr = [100,100,100]  \n",
    "> Output: [1,1,1]  \n",
    "> Explanation: Same elements share the same rank.\n",
    "\n",
    "**Example 3:**  \n",
    "\n",
    "> Input: arr = [37,12,28,9,100,56,80,5,12]  \n",
    "> Output: [5,3,4,2,8,6,7,1,3]"
   ]
  },
  {
   "cell_type": "code",
   "execution_count": 1,
   "metadata": {},
   "outputs": [],
   "source": [
    "class Solution:\n",
    "\n",
    "    # Time Complexity： O(nlogn)\n",
    "    # Space Complexity： O(n)\n",
    "    def arrayRankTransform(self, arr: list[int]) -> list[int]:\n",
    "        return [ranks[num] for num in arr] if (ranks := {num: i for i, num in enumerate(sorted(set(arr)), start=1)}) else []"
   ]
  },
  {
   "cell_type": "code",
   "execution_count": 2,
   "metadata": {},
   "outputs": [
    {
     "name": "stdout",
     "output_type": "stream",
     "text": [
      "Case 1: [4, 1, 2, 3]\n",
      "Case 2: [1, 1, 1]\n",
      "Case 3: [5, 3, 4, 2, 8, 6, 7, 1, 3]\n"
     ]
    }
   ],
   "source": [
    "# Test on Cases\n",
    "S = Solution()\n",
    "\n",
    "print(f\"Case 1: {S.arrayRankTransform([40,10,20,30])}\")\n",
    "print(f\"Case 2: {S.arrayRankTransform([100,100,100])}\")\n",
    "print(f\"Case 3: {S.arrayRankTransform([37,12,28,9,100,56,80,5,12])}\")"
   ]
  }
 ],
 "metadata": {
  "kernelspec": {
   "display_name": "Python 3 (ipykernel)",
   "language": "python",
   "name": "python3"
  },
  "language_info": {
   "codemirror_mode": {
    "name": "ipython",
    "version": 3
   },
   "file_extension": ".py",
   "mimetype": "text/x-python",
   "name": "python",
   "nbconvert_exporter": "python",
   "pygments_lexer": "ipython3",
   "version": "3.10.4"
  },
  "vscode": {
   "interpreter": {
    "hash": "21d8332eb27bea95342760850bd7426f517b6a483537194bbba87e10eeabf6ff"
   }
  }
 },
 "nbformat": 4,
 "nbformat_minor": 4
}
