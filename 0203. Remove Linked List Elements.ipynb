{
 "cells": [
  {
   "attachments": {},
   "cell_type": "markdown",
   "metadata": {},
   "source": [
    "`# Linked List` `# Recursion`"
   ]
  },
  {
   "attachments": {},
   "cell_type": "markdown",
   "metadata": {},
   "source": [
    "Given the `head` of a linked list and an integer `val`, remove all the nodes of the linked list that has `Node.val == val`, and return the new head."
   ]
  },
  {
   "attachments": {},
   "cell_type": "markdown",
   "metadata": {},
   "source": [
    "**Example 1:**  \n",
    "![Image of leetcode 0203 problem example 1](https://assets.leetcode.com/uploads/2021/03/06/removelinked-list.jpg)\n",
    "> Input: head = [1,2,6,3,4,5,6], val = 6  \n",
    "> Output: [1,2,3,4,5]\n",
    "\n",
    "**Example 2:**  \n",
    "> Input: head = [], val = 1  \n",
    "> Output: []\n",
    "\n",
    "**Example 3:**  \n",
    "\n",
    "> Input: head = [7,7,7,7], val = 7  \n",
    "> Output: []"
   ]
  },
  {
   "cell_type": "code",
   "execution_count": 5,
   "metadata": {},
   "outputs": [],
   "source": [
    "class ListNode:\n",
    "    def __init__(self, val=0, next=None):\n",
    "        self.val = val\n",
    "        self.next = next\n",
    "        \n",
    "    def list2LinkedList(self, lst):\n",
    "        if not lst: return []\n",
    "\n",
    "        cur = dummy = ListNode(0)\n",
    "        for node in lst:\n",
    "            cur.next = ListNode(node)\n",
    "            cur = cur.next\n",
    "\n",
    "        return dummy.next\n",
    "\n",
    "class Solution:\n",
    "    \n",
    "    # Time Complexity： O(n)\n",
    "    # Space Complexity： O(1)\n",
    "    def removeElements(self, head: ListNode, val: int) -> ListNode:      \n",
    "        dummy = curr = ListNode(None, head)\n",
    "\n",
    "        while curr.next:\n",
    "            if curr.next.val != val:\n",
    "                curr = curr.next\n",
    "            else:\n",
    "                curr.next = curr.next.next\n",
    "\n",
    "        return dummy.next"
   ]
  },
  {
   "cell_type": "code",
   "execution_count": 6,
   "metadata": {},
   "outputs": [
    {
     "name": "stdout",
     "output_type": "stream",
     "text": [
      "Case 1: [1, 2, 3, 4, 5]\n",
      "Case 2: []\n",
      "Case 3: []\n"
     ]
    }
   ],
   "source": [
    "# Test on Cases\n",
    "from leetcodepractice import Print\n",
    "\n",
    "S, P, L = Solution(), Print(), ListNode()\n",
    "\n",
    "print(f\"Case 1: {P.LinkedListTraversal(S.removeElements(L.list2LinkedList([1,2,6,3,4,5,6]), 6))}\")\n",
    "print(f\"Case 2: {P.LinkedListTraversal(S.removeElements(L.list2LinkedList([]), 1))}\")\n",
    "print(f\"Case 3: {P.LinkedListTraversal(S.removeElements(L.list2LinkedList([7,7,7,7]), 7))}\")"
   ]
  }
 ],
 "metadata": {
  "kernelspec": {
   "display_name": "Python 3 (ipykernel)",
   "language": "python",
   "name": "python3"
  },
  "language_info": {
   "codemirror_mode": {
    "name": "ipython",
    "version": 3
   },
   "file_extension": ".py",
   "mimetype": "text/x-python",
   "name": "python",
   "nbconvert_exporter": "python",
   "pygments_lexer": "ipython3",
   "version": "3.10.4"
  },
  "vscode": {
   "interpreter": {
    "hash": "21d8332eb27bea95342760850bd7426f517b6a483537194bbba87e10eeabf6ff"
   }
  }
 },
 "nbformat": 4,
 "nbformat_minor": 4
}
