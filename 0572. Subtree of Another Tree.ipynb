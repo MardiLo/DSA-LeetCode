{
 "cells": [
  {
   "cell_type": "markdown",
   "metadata": {},
   "source": [
    "`# Binary Tree` `# Depth-first Search` `# Hash Function` `# String Matching` `# Tree`"
   ]
  },
  {
   "cell_type": "markdown",
   "metadata": {},
   "source": [
    "Given the roots of two binary trees `root` and `subRoot`, return `true` if there is a subtree of `root` with the same structure and node values of `subRoot` and `false` otherwise.\n",
    "\n",
    "A subtree of a binary tree tree is a tree that consists of a node in `tree` and all of this node's descendants. The tree `tree` could also be considered as a subtree of itself."
   ]
  },
  {
   "cell_type": "markdown",
   "metadata": {},
   "source": [
    "**Example 1:**  \n",
    "![Image of leetcode 0572 problem example 1](https://assets.leetcode.com/uploads/2021/04/28/subtree1-tree.jpg)\n",
    "> Input: root = [3,4,5,1,2], subRoot = [4,1,2]  \n",
    "> Output: true  \n",
    "    \n",
    "**Example 2:**  \n",
    "![Image of leetcode 0572 problem example 2](https://assets.leetcode.com/uploads/2021/04/28/subtree2-tree.jpg)\n",
    "> Input: root = [3,4,5,1,2,null,null,null,null,0], subRoot = [4,1,2]  \n",
    "> Output: false  "
   ]
  },
  {
   "cell_type": "code",
   "execution_count": 1,
   "metadata": {},
   "outputs": [],
   "source": [
    "class TreeNode:\n",
    "    def __init__(self, val=0, left=None, right=None):\n",
    "        self.val = val\n",
    "        self.left = left\n",
    "        self.right = right\n",
    "\n",
    "class Solution:\n",
    "    \n",
    "    # Time Complexity： O(mn), where m is the nodes count of root, n is the nodes count of subRoot\n",
    "    # Space Complexity： O(h+g), where h is the height of root, g is the height of subRoot\n",
    "    def isSubtree_DFS_recursion(self, root: TreeNode, subRoot: TreeNode) -> bool:\n",
    "        isSameTree_DFS_recursion = lambda p, q: p.val == q.val and \\\n",
    "                                                isSameTree_DFS_recursion(p.left, q.left) and \\\n",
    "                                                isSameTree_DFS_recursion(p.right, q.right) if p and q else p == q \n",
    "        \n",
    "        return False if not root else \\\n",
    "               (True if isSameTree_DFS_recursion(root, subRoot) else isSameTree_DFS_recursion(root.left, subRoot) or isSameTree_DFS_recursion(root.right, subRoot))\n",
    "\n",
    "    # Time Complexity： O(mn), where m is the nodes count of root, n is the nodes count of subRoot\n",
    "    # Space Complexity： O(w+v), where w is the weight of root, v is the weight of subRoot\n",
    "    def isSubtree_BFS(self, root: TreeNode, subRoot: TreeNode) -> bool:\n",
    "        from collections import deque \n",
    "\n",
    "        def isSameTree_BFS(p: TreeNode, q: TreeNode) -> bool:\n",
    "            queue = deque([(p, q)])\n",
    "            \n",
    "            while queue:\n",
    "                p, q = queue.popleft()\n",
    "                \n",
    "                if p and q and p.val == q.val: queue.extend([(p.left, q.left), (p.right, q.right)])\n",
    "                elif p or q: return False\n",
    "            \n",
    "            return True\n",
    "        \n",
    "        queue = deque([root])\n",
    "\n",
    "        while queue:\n",
    "            root = queue.popleft()\n",
    "\n",
    "            if root:\n",
    "                if isSameTree_BFS(root, subRoot): return True\n",
    "                queue.extend([root.left, root.right])\n",
    "        \n",
    "        return False\n",
    "\n",
    "    # Time Complexity： O(mn), where m is the nodes count of root, n is the nodes count of subRoot\n",
    "    # Space Complexity： O(h+g), where h is the height of root, g is the height of subRoot\n",
    "    def isSubtree_DFS_iteration(self, root: TreeNode, subRoot: TreeNode) -> bool:\n",
    "        def isSameTree_DFS_iteration(p: TreeNode, q: TreeNode) -> bool:\n",
    "            stack = [(p, q)]\n",
    "\n",
    "            while stack:\n",
    "                p, q = stack.pop()\n",
    "                \n",
    "                if p and q and p.val == q.val: stack.extend([(p.left, q.left), (p.right, q.right)])\n",
    "                elif p or q: return False\n",
    "            \n",
    "            return True \n",
    "        \n",
    "        stack = [root]\n",
    "\n",
    "        while stack:\n",
    "            root = stack.pop()\n",
    "\n",
    "            if root:\n",
    "                if isSameTree_DFS_iteration(root, subRoot): return True\n",
    "                stack.extend([root.left, root.right])\n",
    "        \n",
    "        return False"
   ]
  },
  {
   "cell_type": "code",
   "execution_count": 2,
   "metadata": {},
   "outputs": [
    {
     "name": "stdout",
     "output_type": "stream",
     "text": [
      "---isSubtree_DFS_recursion---\n",
      "Case 1: True\n",
      "Case 2: False\n",
      "\n",
      "---isSubtree_BFS---\n",
      "Case 1: True\n",
      "Case 2: False\n",
      "\n",
      "---isSubtree_DFS_iteration---\n",
      "Case 1: True\n",
      "Case 2: False\n"
     ]
    }
   ],
   "source": [
    "# Test on Cases\n",
    "S = Solution()\n",
    "\n",
    "print(\"---isSubtree_DFS_recursion---\")\n",
    "print(f\"Case 1: {S.isSubtree_DFS_recursion(TreeNode(3, TreeNode(4, TreeNode(1), TreeNode(2)), TreeNode(5)), TreeNode(4, TreeNode(1), TreeNode(2)))}\")\n",
    "print(f\"Case 2: {S.isSubtree_DFS_recursion(TreeNode(3, TreeNode(4, TreeNode(1), TreeNode(2, TreeNode(0))), TreeNode(5)), TreeNode(4, TreeNode(1), TreeNode(2)))}\\n\")\n",
    "\n",
    "print(\"---isSubtree_BFS---\")\n",
    "print(f\"Case 1: {S.isSubtree_BFS(TreeNode(3, TreeNode(4, TreeNode(1), TreeNode(2)), TreeNode(5)), TreeNode(4, TreeNode(1), TreeNode(2)))}\")\n",
    "print(f\"Case 2: {S.isSubtree_BFS(TreeNode(3, TreeNode(4, TreeNode(1), TreeNode(2, TreeNode(0))), TreeNode(5)), TreeNode(4, TreeNode(1), TreeNode(2)))}\\n\")\n",
    "\n",
    "print(\"---isSubtree_DFS_iteration---\")\n",
    "print(f\"Case 1: {S.isSubtree_DFS_iteration(TreeNode(3, TreeNode(4, TreeNode(1), TreeNode(2)), TreeNode(5)), TreeNode(4, TreeNode(1), TreeNode(2)))}\")\n",
    "print(f\"Case 2: {S.isSubtree_DFS_iteration(TreeNode(3, TreeNode(4, TreeNode(1), TreeNode(2, TreeNode(0))), TreeNode(5)), TreeNode(4, TreeNode(1), TreeNode(2)))}\")"
   ]
  }
 ],
 "metadata": {
  "kernelspec": {
   "display_name": "Python 3 (ipykernel)",
   "language": "python",
   "name": "python3"
  },
  "language_info": {
   "codemirror_mode": {
    "name": "ipython",
    "version": 3
   },
   "file_extension": ".py",
   "mimetype": "text/x-python",
   "name": "python",
   "nbconvert_exporter": "python",
   "pygments_lexer": "ipython3",
   "version": "3.10.4"
  },
  "vscode": {
   "interpreter": {
    "hash": "21d8332eb27bea95342760850bd7426f517b6a483537194bbba87e10eeabf6ff"
   }
  }
 },
 "nbformat": 4,
 "nbformat_minor": 4
}
