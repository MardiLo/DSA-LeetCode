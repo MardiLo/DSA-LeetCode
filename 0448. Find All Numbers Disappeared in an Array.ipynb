{
 "cells": [
  {
   "cell_type": "markdown",
   "source": [
    "`# Array`"
   ],
   "metadata": {}
  },
  {
   "cell_type": "markdown",
   "source": [
    "Given an array of integers where *1 ≤ a[i] ≤ n (n = size of array)*, some elements appear twice and others appear once.\n",
    "\n",
    "Find all the elements of *[1, n]* inclusive that do not appear in this array.\n",
    "\n",
    "Could you do it without extra space and in *O(n)* runtime? You may assume the returned list does not count as extra space."
   ],
   "metadata": {}
  },
  {
   "cell_type": "markdown",
   "source": [
    "**Example:**\n",
    "\n",
    ">Input: [4,3,2,7,8,2,3,1]  \n",
    "Output: [5,6]"
   ],
   "metadata": {}
  },
  {
   "cell_type": "code",
   "execution_count": 17,
   "source": [
    "class Solution:\r\n",
    "    \r\n",
    "    # Time Complexity： O(n)\r\n",
    "    # Space Complexity： O(1)\r\n",
    "    def findDisappearedNumbers(self, nums: 'List[int]') -> 'List[int]':\r\n",
    "        for i in range(len(nums)):\r\n",
    "            index = abs(nums[i]) - 1\r\n",
    "            nums[index] = -abs(nums[index])\r\n",
    "            \r\n",
    "        return [i+1 for i in range(len(nums)) if nums[i] > 0]"
   ],
   "outputs": [],
   "metadata": {}
  },
  {
   "cell_type": "code",
   "execution_count": 18,
   "source": [
    "# Test on Cases\r\n",
    "S = Solution()\r\n",
    "\r\n",
    "print(f\"Case 1: {S.findDisappearedNumbers([4,3,2,7,8,2,3,1])}\")"
   ],
   "outputs": [
    {
     "output_type": "stream",
     "name": "stdout",
     "text": [
      "Case 1: [5, 6]\n"
     ]
    }
   ],
   "metadata": {}
  }
 ],
 "metadata": {
  "kernelspec": {
   "display_name": "Python 3",
   "language": "python",
   "name": "python3"
  },
  "language_info": {
   "codemirror_mode": {
    "name": "ipython",
    "version": 3
   },
   "file_extension": ".py",
   "mimetype": "text/x-python",
   "name": "python",
   "nbconvert_exporter": "python",
   "pygments_lexer": "ipython3",
   "version": "3.7.7"
  }
 },
 "nbformat": 4,
 "nbformat_minor": 4
}