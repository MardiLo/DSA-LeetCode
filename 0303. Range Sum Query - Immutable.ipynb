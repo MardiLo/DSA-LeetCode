{
 "cells": [
  {
   "cell_type": "markdown",
   "metadata": {},
   "source": [
    "`# Array` `# Design` `# Prefix Sum`"
   ]
  },
  {
   "cell_type": "markdown",
   "metadata": {},
   "source": [
    "Given an integer array `nums`, handle multiple queries of the following type:\n",
    "\n",
    "1. Calculate the sum of the elements of `nums` between indices `left` and `right` inclusive where `left <= right`.  \n",
    "\n",
    "Implement the `NumArray` class:\n",
    "\n",
    "- `NumArray(int[] nums)` Initializes the object with the integer array `nums`.  \n",
    "- `int sumRange(int left, int right)` Returns the **sum** of the elements of `nums` between indices `left` and `right` **inclusive** (i.e. `nums[left] + nums[left + 1] + ... + nums[right]`)."
   ]
  },
  {
   "cell_type": "markdown",
   "metadata": {},
   "source": [
    "**Example 1:**  \n",
    "\n",
    "> Input  \n",
    "> [\"NumArray\", \"sumRange\", \"sumRange\", \"sumRange\"]  \n",
    "> [[[-2, 0, 3, -5, 2, -1]], [0, 2], [2, 5], [0, 5]]  \n",
    "> Output  \n",
    "> [null, 1, -1, -3]  \n",
    "> Explanation  \n",
    "> NumArray numArray = new NumArray([-2, 0, 3, -5, 2, -1]);  \n",
    "> numArray.sumRange(0, 2); // return (-2) + 0 + 3 = 1  \n",
    "> numArray.sumRange(2, 5); // return 3 + (-5) + 2 + (-1) = -1  \n",
    "> numArray.sumRange(0, 5); // return (-2) + 0 + 3 + (-5) + 2 + (-1) = -3"
   ]
  },
  {
   "cell_type": "code",
   "execution_count": 3,
   "metadata": {},
   "outputs": [],
   "source": [
    "class NumArray:\n",
    "    \n",
    "    # Time Complexity： O(n) for creating Prefix Sum list, O(1) for call sumRange()\n",
    "    # Space Complexity： O(n)     \n",
    "    def __init__(self, nums: list[int]):\n",
    "        from itertools import accumulate\n",
    "\n",
    "        self._accSum = list(accumulate(nums, initial=0))\n",
    "\n",
    "    def sumRange(self, left: int, right: int) -> int:\n",
    "        return self._accSum[right+1] - self._accSum[left]"
   ]
  },
  {
   "cell_type": "code",
   "execution_count": 4,
   "metadata": {},
   "outputs": [
    {
     "name": "stdout",
     "output_type": "stream",
     "text": [
      "1\n",
      "-1\n",
      "-3\n"
     ]
    }
   ],
   "source": [
    "# Test on Cases\n",
    "S = NumArray([-2, 0, 3, -5, 2, -1])\n",
    "\n",
    "print(f\"{S.sumRange(0, 2)}\")\n",
    "print(f\"{S.sumRange(2, 5)}\")\n",
    "print(f\"{S.sumRange(0, 5)}\")"
   ]
  }
 ],
 "metadata": {
  "kernelspec": {
   "display_name": "Python 3 (ipykernel)",
   "language": "python",
   "name": "python3"
  },
  "language_info": {
   "codemirror_mode": {
    "name": "ipython",
    "version": 3
   },
   "file_extension": ".py",
   "mimetype": "text/x-python",
   "name": "python",
   "nbconvert_exporter": "python",
   "pygments_lexer": "ipython3",
   "version": "3.11.9"
  },
  "vscode": {
   "interpreter": {
    "hash": "21d8332eb27bea95342760850bd7426f517b6a483537194bbba87e10eeabf6ff"
   }
  }
 },
 "nbformat": 4,
 "nbformat_minor": 4
}
