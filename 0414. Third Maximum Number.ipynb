{
 "cells": [
  {
   "cell_type": "markdown",
   "metadata": {},
   "source": [
    "`# Array` `# Sorting`"
   ]
  },
  {
   "cell_type": "markdown",
   "metadata": {},
   "source": [
    "Given an integer array `nums`, return *the ***third distinct maximum number*** in this array. If the third maximum does ***not exist***, return the* ***maximum number***."
   ]
  },
  {
   "cell_type": "markdown",
   "metadata": {},
   "source": [
    "**Example 1:**\n",
    "\n",
    "> Input: nums = [3,2,1]  \n",
    "Output: 1  \n",
    "Explanation:  \n",
    "The first distinct maximum is 3.  \n",
    "The second distinct maximum is 2.  \n",
    "The third distinct maximum is 1.  \n",
    "\n",
    "**Example 2**\n",
    "\n",
    "> Input: nums = [1,2]  \n",
    "Output: 2  \n",
    "Explanation:  \n",
    "The first distinct maximum is 2.  \n",
    "The second distinct maximum is 1.  \n",
    "The third distinct maximum does not exist, so the maximum (2) is returned instead.  \n",
    "\n",
    "**Example 3:**\n",
    "\n",
    "> Input: nums = [2,2,3,1]  \n",
    "Output: 1  \n",
    "Explanation:  \n",
    "The first distinct maximum is 3.  \n",
    "The second distinct maximum is 2 (both 2's are counted together since they have the same value).  \n",
    "The third distinct maximum is 1.  "
   ]
  },
  {
   "cell_type": "code",
   "execution_count": 3,
   "metadata": {},
   "outputs": [],
   "source": [
    "class Solution:\n",
    "    \n",
    "    # Time Complexity： O(n)\n",
    "    # Space Complexity： O(1)\n",
    "    def thirdMax(self, nums: list[int]) -> int:\n",
    "        one = two = three = float(\"-inf\")\n",
    "        \n",
    "        for num in nums:    # TC: O(n)\n",
    "            if num > one:\n",
    "                one, two, three = num, one, two\n",
    "            elif one > num > two:\n",
    "                two, three = num, two\n",
    "            elif two > num > three:\n",
    "                three = num\n",
    "        \n",
    "        return three if three > float(\"-inf\") else one"
   ]
  },
  {
   "cell_type": "code",
   "execution_count": 4,
   "metadata": {},
   "outputs": [
    {
     "name": "stdout",
     "output_type": "stream",
     "text": [
      "Case 1: 1\n",
      "Case 2: 2\n",
      "Case 3: 1\n"
     ]
    }
   ],
   "source": [
    "# Test on Cases\n",
    "S = Solution()\n",
    "\n",
    "print(f\"Case 1: {S.thirdMax([3,2,1])}\")\n",
    "print(f\"Case 2: {S.thirdMax([1,2])}\")\n",
    "print(f\"Case 3: {S.thirdMax([2,2,3,1])}\")"
   ]
  }
 ],
 "metadata": {
  "interpreter": {
   "hash": "21d8332eb27bea95342760850bd7426f517b6a483537194bbba87e10eeabf6ff"
  },
  "kernelspec": {
   "display_name": "Python 3.10.4 ('leetcode')",
   "language": "python",
   "name": "python3"
  },
  "language_info": {
   "codemirror_mode": {
    "name": "ipython",
    "version": 3
   },
   "file_extension": ".py",
   "mimetype": "text/x-python",
   "name": "python",
   "nbconvert_exporter": "python",
   "pygments_lexer": "ipython3",
   "version": "3.10.4"
  }
 },
 "nbformat": 4,
 "nbformat_minor": 4
}
