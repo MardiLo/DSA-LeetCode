{
 "cells": [
  {
   "cell_type": "markdown",
   "source": [
    "`# Array` `# Sorting`"
   ],
   "metadata": {}
  },
  {
   "cell_type": "markdown",
   "source": [
    "Given an integer array `nums`, return *the ***third distinct maximum number*** in this array. If the third maximum does ***not exist***, return the* ***maximum number***."
   ],
   "metadata": {}
  },
  {
   "cell_type": "markdown",
   "source": [
    "**Example 1:**\r\n",
    "\r\n",
    "> Input: nums = [3,2,1]  \r\n",
    "Output: 1  \r\n",
    "Explanation:  \r\n",
    "The first distinct maximum is 3.  \r\n",
    "The second distinct maximum is 2.  \r\n",
    "The third distinct maximum is 1.  \r\n",
    "\r\n",
    "**Example 2**\r\n",
    "\r\n",
    "> Input: nums = [1,2]  \r\n",
    "Output: 2  \r\n",
    "Explanation:  \r\n",
    "The first distinct maximum is 2.  \r\n",
    "The second distinct maximum is 1.  \r\n",
    "The third distinct maximum does not exist, so the maximum (2) is returned instead.  \r\n",
    "\r\n",
    "**Example 3:**\r\n",
    "\r\n",
    "> Input: nums = [2,2,3,1]  \r\n",
    "Output: 1  \r\n",
    "Explanation:  \r\n",
    "The first distinct maximum is 3.  \r\n",
    "The second distinct maximum is 2 (both 2's are counted together since they have the same value).  \r\n",
    "The third distinct maximum is 1.  "
   ],
   "metadata": {}
  },
  {
   "cell_type": "code",
   "execution_count": 1,
   "source": [
    "class Solution:\r\n",
    "    \r\n",
    "    # Time Complexity： O(n)\r\n",
    "    # Space Complexity： O(1)\r\n",
    "    def thirdMax(self, nums: 'List[int]') -> 'int':\r\n",
    "        one = two = three = float(\"-inf\")\r\n",
    "        \r\n",
    "        for num in nums:    # TC: O(n)\r\n",
    "            if num > one:\r\n",
    "                one, two, three = num, one, two\r\n",
    "            elif one > num > two:\r\n",
    "                two, three = num, two\r\n",
    "            elif two > num > three:\r\n",
    "                three = num\r\n",
    "            else:\r\n",
    "                continue\r\n",
    "        \r\n",
    "        return three if three > float(\"-inf\") else one"
   ],
   "outputs": [],
   "metadata": {}
  },
  {
   "cell_type": "code",
   "execution_count": 2,
   "source": [
    "# Test on Cases\r\n",
    "S = Solution()\r\n",
    "\r\n",
    "print(f\"Case 1: {S.thirdMax([3,2,1])}\")\r\n",
    "print(f\"Case 2: {S.thirdMax([1,2])}\")\r\n",
    "print(f\"Case 3: {S.thirdMax([2,2,3,1])}\")"
   ],
   "outputs": [
    {
     "output_type": "stream",
     "name": "stdout",
     "text": [
      "Case 1: 1\n",
      "Case 2: 2\n",
      "Case 3: 1\n"
     ]
    }
   ],
   "metadata": {}
  }
 ],
 "metadata": {
  "kernelspec": {
   "name": "python3",
   "display_name": "Python 3.7.7 64-bit ('spark': conda)"
  },
  "language_info": {
   "codemirror_mode": {
    "name": "ipython",
    "version": 3
   },
   "file_extension": ".py",
   "mimetype": "text/x-python",
   "name": "python",
   "nbconvert_exporter": "python",
   "pygments_lexer": "ipython3",
   "version": "3.7.7"
  },
  "interpreter": {
   "hash": "6ab137a14910b4ee65d0ea442464c53c8571f8241496146388c5db8c59915964"
  }
 },
 "nbformat": 4,
 "nbformat_minor": 4
}