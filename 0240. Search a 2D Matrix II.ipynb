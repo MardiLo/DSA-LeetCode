{
 "cells": [
  {
   "cell_type": "markdown",
   "metadata": {},
   "source": [
    "`# Array` `# Binary Search` `# Divide and Conquer` `# Matrix`"
   ]
  },
  {
   "cell_type": "markdown",
   "metadata": {},
   "source": [
    "Write *an efficient algorithm that searches for a target value in an* `m x n` *integer matrix*. The matrix has the following properties:\n",
    "\n",
    "- Integers in each row are *sorted in ascending from left to right*.\n",
    "- Integers in each column are *sorted in ascending from top to bottom*."
   ]
  },
  {
   "cell_type": "markdown",
   "metadata": {},
   "source": [
    "**Example 1:**  \n",
    "![Image of leetcode 0240 problem example 1](https://assets.leetcode.com/uploads/2020/11/24/searchgrid2.jpg)\n",
    "> Input: matrix = [[1,4,7,11,15],[2,5,8,12,19],[3,6,9,16,22],[10,13,14,17,24],[18,21,23,26,30]], target = 5  \n",
    "Output: true  \n",
    "\n",
    "**Example 2:**  \n",
    "![Image of leetcode 0240 problem example 2](https://assets.leetcode.com/uploads/2020/11/24/searchgrid.jpg)\n",
    "> Input: matrix = [[1,4,7,11,15],[2,5,8,12,19],[3,6,9,16,22],[10,13,14,17,24],[18,21,23,26,30]], target = 20  \n",
    "Output: false  "
   ]
  },
  {
   "cell_type": "code",
   "execution_count": 1,
   "metadata": {},
   "outputs": [],
   "source": [
    "class Solution:\n",
    "\n",
    "    # Time Complexity： O(m+n)\n",
    "    # Space Complexity： O(1)   \n",
    "    def searchMatrix(self, matrix: 'List[List[int]]', target: 'int') -> 'bool':\n",
    "        m, n = 0, len(matrix[0]) - 1 \n",
    "\n",
    "        while m < len(matrix) and n >= 0:\n",
    "            if matrix[m][n] > target: n -= 1\n",
    "            elif matrix[m][n] < target: m += 1\n",
    "            else: return True\n",
    "        \n",
    "        return False"
   ]
  },
  {
   "cell_type": "code",
   "execution_count": 2,
   "metadata": {},
   "outputs": [
    {
     "name": "stdout",
     "output_type": "stream",
     "text": [
      "Case 1: True\n",
      "Case 2: False\n"
     ]
    }
   ],
   "source": [
    "# Test on Cases\n",
    "S = Solution()\n",
    "\n",
    "print(f\"Case 1: {S.searchMatrix([[1,4,7,11,15],[2,5,8,12,19],[3,6,9,16,22],[10,13,14,17,24],[18,21,23,26,30]], 5)}\")\n",
    "print(f\"Case 2: {S.searchMatrix([[1,4,7,11,15],[2,5,8,12,19],[3,6,9,16,22],[10,13,14,17,24],[18,21,23,26,30]], 20)}\")"
   ]
  },
  {
   "cell_type": "markdown",
   "metadata": {},
   "source": [
    "**Ref**\n",
    "1. [[Python] O(m + n) solution, explained](https://leetcode.com/problems/search-a-2d-matrix-ii/discuss/1079154/Python-O(m-%2B-n)-solution-explained)"
   ]
  }
 ],
 "metadata": {
  "interpreter": {
   "hash": "6ab137a14910b4ee65d0ea442464c53c8571f8241496146388c5db8c59915964"
  },
  "kernelspec": {
   "display_name": "Python 3.7.7 64-bit ('spark': conda)",
   "name": "python3"
  },
  "language_info": {
   "codemirror_mode": {
    "name": "ipython",
    "version": 3
   },
   "file_extension": ".py",
   "mimetype": "text/x-python",
   "name": "python",
   "nbconvert_exporter": "python",
   "pygments_lexer": "ipython3",
   "version": "3.7.7"
  }
 },
 "nbformat": 4,
 "nbformat_minor": 4
}
