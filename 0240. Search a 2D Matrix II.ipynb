{
 "cells": [
  {
   "cell_type": "markdown",
   "source": [
    "`# Array` `# Binary Search` `# Divide and Conquer` `# Matrix`"
   ],
   "metadata": {}
  },
  {
   "cell_type": "markdown",
   "source": [
    "Write *an efficient algorithm that searches for a target value in an* `m x n` *integer matrix*. The matrix has the following properties:\r\n",
    "\r\n",
    "- Integers in each row are *sorted in ascending from left to right*.\r\n",
    "- Integers in each column are *sorted in ascending from top to bottom*."
   ],
   "metadata": {}
  },
  {
   "cell_type": "markdown",
   "source": [
    "**Example 1:**  \r\n",
    "![Image of leetcode 0240 problem example 1](https://assets.leetcode.com/uploads/2020/11/24/searchgrid2.jpg)\r\n",
    "> Input: matrix = [[1,4,7,11,15],[2,5,8,12,19],[3,6,9,16,22],[10,13,14,17,24],[18,21,23,26,30]], target = 5  \r\n",
    "Output: true  \r\n",
    "\r\n",
    "**Example 2:**  \r\n",
    "![Image of leetcode 0240 problem example 2](https://assets.leetcode.com/uploads/2020/11/24/searchgrid.jpg)\r\n",
    "> Input: matrix = [[1,4,7,11,15],[2,5,8,12,19],[3,6,9,16,22],[10,13,14,17,24],[18,21,23,26,30]], target = 20  \r\n",
    "Output: false  "
   ],
   "metadata": {}
  },
  {
   "cell_type": "code",
   "execution_count": 1,
   "source": [
    "class Solution:\r\n",
    "\r\n",
    "    # Time Complexity： O(m+n)\r\n",
    "    # Space Complexity： O(1)   \r\n",
    "    def searchMatrix(self, matrix: 'List[List[int]]', target: 'int') -> 'bool':\r\n",
    "        m, n = 0, len(matrix[0]) - 1 \r\n",
    "\r\n",
    "        while m < len(matrix) and n >= 0:\r\n",
    "            if matrix[m][n] > target:\r\n",
    "                n -= 1\r\n",
    "            elif matrix[m][n] < target:\r\n",
    "                m += 1\r\n",
    "            else:\r\n",
    "                return True\r\n",
    "        \r\n",
    "        return False"
   ],
   "outputs": [],
   "metadata": {}
  },
  {
   "cell_type": "code",
   "execution_count": 2,
   "source": [
    "# Test on Cases\r\n",
    "S = Solution()\r\n",
    "\r\n",
    "print(f\"Case 1: {S.searchMatrix([[1,4,7,11,15],[2,5,8,12,19],[3,6,9,16,22],[10,13,14,17,24],[18,21,23,26,30]], 5)}\")\r\n",
    "print(f\"Case 2: {S.searchMatrix([[1,4,7,11,15],[2,5,8,12,19],[3,6,9,16,22],[10,13,14,17,24],[18,21,23,26,30]], 20)}\")"
   ],
   "outputs": [
    {
     "output_type": "stream",
     "name": "stdout",
     "text": [
      "Case 1: True\n",
      "Case 2: False\n"
     ]
    }
   ],
   "metadata": {}
  },
  {
   "cell_type": "markdown",
   "source": [
    "**Ref**\r\n",
    "1. [[Python] O(m + n) solution, explained](https://leetcode.com/problems/search-a-2d-matrix-ii/discuss/1079154/Python-O(m-%2B-n)-solution-explained)"
   ],
   "metadata": {}
  }
 ],
 "metadata": {
  "kernelspec": {
   "name": "python3",
   "display_name": "Python 3.7.7 64-bit ('spark': conda)"
  },
  "language_info": {
   "codemirror_mode": {
    "name": "ipython",
    "version": 3
   },
   "file_extension": ".py",
   "mimetype": "text/x-python",
   "name": "python",
   "nbconvert_exporter": "python",
   "pygments_lexer": "ipython3",
   "version": "3.7.7"
  },
  "interpreter": {
   "hash": "6ab137a14910b4ee65d0ea442464c53c8571f8241496146388c5db8c59915964"
  }
 },
 "nbformat": 4,
 "nbformat_minor": 4
}