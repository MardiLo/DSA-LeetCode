{
 "cells": [
  {
   "cell_type": "markdown",
   "metadata": {},
   "source": [
    "`# Array` `# Binary Search` `# Divide and Conquer` `# Matrix`"
   ]
  },
  {
   "cell_type": "markdown",
   "metadata": {},
   "source": [
    "Write *an efficient algorithm that searches for a target value in an* `m x n` *integer matrix*. The matrix has the following properties:\n",
    "\n",
    "- Integers in each row are *sorted in ascending from left to right*.\n",
    "- Integers in each column are *sorted in ascending from top to bottom*."
   ]
  },
  {
   "cell_type": "markdown",
   "metadata": {},
   "source": [
    "**Example 1:**  \n",
    "![Image of leetcode 0240 problem example 1](https://assets.leetcode.com/uploads/2020/11/24/searchgrid2.jpg)\n",
    "> Input: matrix = [[1,4,7,11,15],[2,5,8,12,19],[3,6,9,16,22],[10,13,14,17,24],[18,21,23,26,30]], target = 5  \n",
    "Output: true  \n",
    "\n",
    "**Example 2:**  \n",
    "![Image of leetcode 0240 problem example 2](https://assets.leetcode.com/uploads/2020/11/24/searchgrid.jpg)\n",
    "> Input: matrix = [[1,4,7,11,15],[2,5,8,12,19],[3,6,9,16,22],[10,13,14,17,24],[18,21,23,26,30]], target = 20  \n",
    "Output: false  "
   ]
  },
  {
   "cell_type": "code",
   "execution_count": 3,
   "metadata": {},
   "outputs": [],
   "source": [
    "class Solution:\n",
    "\n",
    "    # Time Complexity： O(m+n)\n",
    "    # Space Complexity： O(1)   \n",
    "    def searchMatrix_math(self, matrix: list[list[int]], target: int) -> bool:\n",
    "        j = len(matrix[0])-1\n",
    "        \n",
    "        for row in matrix:\n",
    "            while j > -1 and row[j] > target:\n",
    "                j -= 1\n",
    "                \n",
    "            if row[j] == target: return True\n",
    "            \n",
    "        return False\n",
    "\n",
    "    # Time Complexity： O(mn)\n",
    "    # Space Complexity： O(1)   \n",
    "    def searchMatrix_bruteForce(self, matrix: list[list[int]], target: int) -> bool:\n",
    "        from itertools import product\n",
    "        \n",
    "        for i, j in product(range(len(matrix)), range(len(matrix[0]))):\n",
    "            if matrix[i][j] == target: return True\n",
    "        \n",
    "        return False"
   ]
  },
  {
   "cell_type": "code",
   "execution_count": 4,
   "metadata": {},
   "outputs": [
    {
     "name": "stdout",
     "output_type": "stream",
     "text": [
      "---searchMatrix_math---\n",
      "Case 1: True\n",
      "Case 2: False\n",
      "\n",
      "---searchMatrix_bruteForce---\n",
      "Case 1: True\n",
      "Case 2: False\n"
     ]
    }
   ],
   "source": [
    "# Test on Cases\n",
    "S = Solution()\n",
    "\n",
    "print(\"---searchMatrix_math---\")\n",
    "print(f\"Case 1: {S.searchMatrix_math([[1,4,7,11,15],[2,5,8,12,19],[3,6,9,16,22],[10,13,14,17,24],[18,21,23,26,30]], 5)}\")\n",
    "print(f\"Case 2: {S.searchMatrix_math([[1,4,7,11,15],[2,5,8,12,19],[3,6,9,16,22],[10,13,14,17,24],[18,21,23,26,30]], 20)}\\n\")\n",
    "\n",
    "print(\"---searchMatrix_bruteForce---\")\n",
    "print(f\"Case 1: {S.searchMatrix_bruteForce([[1,4,7,11,15],[2,5,8,12,19],[3,6,9,16,22],[10,13,14,17,24],[18,21,23,26,30]], 5)}\")\n",
    "print(f\"Case 2: {S.searchMatrix_bruteForce([[1,4,7,11,15],[2,5,8,12,19],[3,6,9,16,22],[10,13,14,17,24],[18,21,23,26,30]], 20)}\")"
   ]
  },
  {
   "cell_type": "markdown",
   "metadata": {},
   "source": [
    "**Ref**\n",
    "1. [[Python] O(m + n) solution, explained](https://leetcode.com/problems/search-a-2d-matrix-ii/discuss/1079154/Python-O(m-%2B-n)-solution-explained)\n",
    "2. [4 lines C, 6 lines Ruby, 7 lines Python, 1-liners](https://leetcode.com/problems/search-a-2d-matrix-ii/discuss/66168/4-lines-C-6-lines-Ruby-7-lines-Python-1-liners)"
   ]
  }
 ],
 "metadata": {
  "kernelspec": {
   "display_name": "Python 3.10.4 ('leetcode')",
   "language": "python",
   "name": "python3"
  },
  "language_info": {
   "codemirror_mode": {
    "name": "ipython",
    "version": 3
   },
   "file_extension": ".py",
   "mimetype": "text/x-python",
   "name": "python",
   "nbconvert_exporter": "python",
   "pygments_lexer": "ipython3",
   "version": "3.10.4"
  },
  "vscode": {
   "interpreter": {
    "hash": "21d8332eb27bea95342760850bd7426f517b6a483537194bbba87e10eeabf6ff"
   }
  }
 },
 "nbformat": 4,
 "nbformat_minor": 4
}
