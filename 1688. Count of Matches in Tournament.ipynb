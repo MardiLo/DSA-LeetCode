{
 "cells": [
  {
   "cell_type": "markdown",
   "metadata": {},
   "source": [
    "`# Math` `# Simulation`"
   ]
  },
  {
   "cell_type": "markdown",
   "metadata": {},
   "source": [
    "You are given an integer `n`, the number of teams in a tournament that has strange rules:\n",
    "\n",
    "- If the current number of teams is **even**, each team gets paired with another team. A total of `n / 2` matches are played, and `n / 2` teams advance to the next round.\n",
    "- If the current number of teams is **odd**, one team randomly advances in the tournament, and the rest gets paired. A total of `(n - 1) / 2` matches are played, and `(n - 1) / 2 + 1` teams advance to the next round.\n",
    "\n",
    "Return *the number of matches played in the tournament until a winner is decided.*"
   ]
  },
  {
   "cell_type": "markdown",
   "metadata": {},
   "source": [
    "**Example 1:**  \n",
    "\n",
    "> Input: n = 7  \n",
    "> Output: 6  \n",
    "> Explanation: Details of the tournament:   \n",
    "> - 1st Round: Teams = 7, Matches = 3, and 4 teams advance.  \n",
    "> - 2nd Round: Teams = 4, Matches = 2, and 2 teams advance.  \n",
    "> - 3rd Round: Teams = 2, Matches = 1, and 1 team is declared the winner.  \n",
    "> \n",
    "> Total number of matches = 3 + 2 + 1 = 6.\n",
    "\n",
    "**Example 2:**\n",
    "\n",
    "> Input: n = 14  \n",
    "> Output: 13  \n",
    "> Explanation: Details of the tournament:  \n",
    "> - 1st Round: Teams = 14, Matches = 7, and 7 teams advance.  \n",
    "> - 2nd Round: Teams = 7, Matches = 3, and 4 teams advance.  \n",
    "> - 3rd Round: Teams = 4, Matches = 2, and 2 teams advance.  \n",
    "> - 4th Round: Teams = 2, Matches = 1, and 1 team is declared the winner.  \n",
    "> \n",
    "> Total number of matches = 7 + 3 + 2 + 1 = 13."
   ]
  },
  {
   "cell_type": "code",
   "execution_count": 1,
   "metadata": {},
   "outputs": [],
   "source": [
    "class Solution:\n",
    "    \n",
    "    # Time Complexity： O(1)\n",
    "    # Space Complexity： O(1)    \n",
    "    def numberOfMatches_math(self, n: int) -> int:\n",
    "        return n - 1\n",
    "\n",
    "    # Time Complexity： O(logn)\n",
    "    # Space Complexity： O(1)    \n",
    "    def numberOfMatches_simulation(self, n: int) -> int:\n",
    "        import math\n",
    "\n",
    "        matches, teams, res = n, n, 0\n",
    "        \n",
    "        while matches:\n",
    "            teams, matches = math.ceil(teams / 2), teams // 2\n",
    "            res += matches\n",
    "        \n",
    "        return res"
   ]
  },
  {
   "cell_type": "code",
   "execution_count": 2,
   "metadata": {},
   "outputs": [
    {
     "name": "stdout",
     "output_type": "stream",
     "text": [
      "---numberOfMatches_math---\n",
      "Case 1: 6\n",
      "Case 2: 13\n",
      "\n",
      "---numberOfMatches_simulation---\n",
      "Case 1: 6\n",
      "Case 2: 13\n"
     ]
    }
   ],
   "source": [
    "# Test on Cases\n",
    "S = Solution()\n",
    "\n",
    "print(\"---numberOfMatches_math---\")\n",
    "print(f\"Case 1: {S.numberOfMatches_math(7)}\")\n",
    "print(f\"Case 2: {S.numberOfMatches_math(14)}\\n\")\n",
    "\n",
    "print(\"---numberOfMatches_simulation---\")\n",
    "print(f\"Case 1: {S.numberOfMatches_simulation(7)}\")\n",
    "print(f\"Case 2: {S.numberOfMatches_simulation(14)}\")"
   ]
  }
 ],
 "metadata": {
  "kernelspec": {
   "display_name": "Python 3 (ipykernel)",
   "language": "python",
   "name": "python3"
  },
  "language_info": {
   "codemirror_mode": {
    "name": "ipython",
    "version": 3
   },
   "file_extension": ".py",
   "mimetype": "text/x-python",
   "name": "python",
   "nbconvert_exporter": "python",
   "pygments_lexer": "ipython3",
   "version": "3.10.4"
  },
  "vscode": {
   "interpreter": {
    "hash": "21d8332eb27bea95342760850bd7426f517b6a483537194bbba87e10eeabf6ff"
   }
  }
 },
 "nbformat": 4,
 "nbformat_minor": 4
}
