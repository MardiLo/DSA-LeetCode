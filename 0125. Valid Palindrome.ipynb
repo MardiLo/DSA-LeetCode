{
 "cells": [
  {
   "cell_type": "markdown",
   "metadata": {},
   "source": [
    "`# Two Pointers` `# String`"
   ]
  },
  {
   "cell_type": "markdown",
   "metadata": {},
   "source": [
    "A phrase is a **palindrome** if, after converting all uppercase letters into lowercase letters and removing all non-alphanumeric characters, it reads the same forward and backward. Alphanumeric characters include letters and numbers.\n",
    "\n",
    "Given a string `s`, *return `true` if it is a ***palindrome***, or `false` otherwise*."
   ]
  },
  {
   "cell_type": "markdown",
   "metadata": {},
   "source": [
    "**Example 1:**\n",
    "\n",
    "> Input: \"A man, a plan, a canal: Panama\"  \n",
    "Output: true\n",
    "\n",
    "**Example 2:**\n",
    "\n",
    "> Input: \"race a car\"  \n",
    "Output: false\n",
    "\n",
    "**Example 3:**\n",
    "\n",
    "> Input: s = \" \"  \n",
    "Output: true  \n",
    "Explanation: s is an empty string \"\" after removing non-alphanumeric characters.  \n",
    "Since an empty string reads the same forward and backward, it is a palindrome.  "
   ]
  },
  {
   "cell_type": "code",
   "execution_count": 5,
   "metadata": {},
   "outputs": [],
   "source": [
    "class Solution:\n",
    "    \n",
    "    # Time Complexity： O(n)\n",
    "    # Space Complexity： O(2n)\n",
    "    def isPalindrome_slicing(self, s: str) -> bool:\n",
    "        return (s := ''.join(c for c in s.lower() if c.isalnum())) == s[::-1]\n",
    "\n",
    "    # Time Complexity： O(n)\n",
    "    # Space Complexity： O(n)\n",
    "    def isPalindrome_twoPointers(self, s: str) -> bool:\n",
    "        s = ''.join(c for c in s.lower() if c.isalnum())     \n",
    "           \n",
    "        return all(s[i] == s[~i] for i in range(len(s)//2))\n",
    "\n",
    "    # Time Complexity： O(n)\n",
    "    # Space Complexity： O(1)\n",
    "    def isPalindrome_twoPointers_spaceOpt(self, s: str) -> bool:\n",
    "        l, r = 0, len(s) - 1\n",
    "        \n",
    "        while l < r:\n",
    "            if not s[l].isalnum():\n",
    "                l += 1\n",
    "            elif not s[r].isalnum():\n",
    "                r -= 1\n",
    "            else:\n",
    "                if s[l].lower() != s[r].lower(): return False\n",
    "                l += 1; r -= 1\n",
    "                \n",
    "        return True"
   ]
  },
  {
   "cell_type": "code",
   "execution_count": 6,
   "metadata": {},
   "outputs": [
    {
     "name": "stdout",
     "output_type": "stream",
     "text": [
      "---isPalindrome_slicing---\n",
      "Case 1: True\n",
      "Case 2: False\n",
      "\n",
      "---isPalindrome_twoPointers---\n",
      "Case 1: True\n",
      "Case 2: False\n",
      "\n",
      "---isPalindrome_twoPointers_spaceOpt---\n",
      "Case 1: True\n",
      "Case 2: False\n",
      "\n"
     ]
    }
   ],
   "source": [
    "# Test on Cases\n",
    "S = Solution()\n",
    "\n",
    "print(\"---isPalindrome_slicing---\")\n",
    "print(f\"Case 1: {S.isPalindrome_slicing('A man, a plan, a canal: Panama')}\")\n",
    "print(f\"Case 2: {S.isPalindrome_slicing('race a car')}\\n\")\n",
    "\n",
    "print(\"---isPalindrome_twoPointers---\")\n",
    "print(f\"Case 1: {S.isPalindrome_twoPointers('A man, a plan, a canal: Panama')}\")\n",
    "print(f\"Case 2: {S.isPalindrome_twoPointers('race a car')}\\n\")\n",
    "\n",
    "print(\"---isPalindrome_twoPointers_spaceOpt---\")\n",
    "print(f\"Case 1: {S.isPalindrome_twoPointers_spaceOpt('A man, a plan, a canal: Panama')}\")\n",
    "print(f\"Case 2: {S.isPalindrome_twoPointers_spaceOpt('race a car')}\\n\")"
   ]
  }
 ],
 "metadata": {
  "kernelspec": {
   "display_name": "Python 3.10.4 ('leetcode')",
   "language": "python",
   "name": "python3"
  },
  "language_info": {
   "codemirror_mode": {
    "name": "ipython",
    "version": 3
   },
   "file_extension": ".py",
   "mimetype": "text/x-python",
   "name": "python",
   "nbconvert_exporter": "python",
   "pygments_lexer": "ipython3",
   "version": "3.10.4"
  },
  "vscode": {
   "interpreter": {
    "hash": "21d8332eb27bea95342760850bd7426f517b6a483537194bbba87e10eeabf6ff"
   }
  }
 },
 "nbformat": 4,
 "nbformat_minor": 4
}
