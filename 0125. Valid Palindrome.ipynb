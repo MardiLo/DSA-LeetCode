{
 "cells": [
  {
   "cell_type": "markdown",
   "source": [
    "`# Two Pointers` `# String`"
   ],
   "metadata": {}
  },
  {
   "cell_type": "markdown",
   "source": [
    "Given a string, determine if it is a *palindrome*, considering only alphanumeric characters and ignoring cases.\n",
    "\n",
    "Note: For the purpose of this problem, we define empty string as valid palindrome."
   ],
   "metadata": {}
  },
  {
   "cell_type": "markdown",
   "source": [
    "**Example 1:**\n",
    "\n",
    "> Input: \"A man, a plan, a canal: Panama\"  \n",
    "Output: true\n",
    "\n",
    "**Example 2:**\n",
    "\n",
    "> Input: \"race a car\"  \n",
    "Output: false"
   ],
   "metadata": {}
  },
  {
   "cell_type": "code",
   "execution_count": 40,
   "source": [
    "class Solution:\r\n",
    "    \r\n",
    "    # Time Complexity： O(n)\r\n",
    "    # Space Complexity： O(n)\r\n",
    "    def isPalindrome_slicing(self, s: 'str') -> 'bool':\r\n",
    "        b = ''.join([c for c in s.lower() if c.isalnum()])\r\n",
    "        return b[:] == b[::-1]\r\n",
    "    \r\n",
    "    # Time Complexity： O(n)\r\n",
    "    # Space Complexity： O(1)\r\n",
    "    def isPalindrome_twoPointers(self, s: 'str') -> 'bool':\r\n",
    "        l, r = 0, len(s) - 1\r\n",
    "        \r\n",
    "        while l < r:\r\n",
    "            if not s[l].isalnum():\r\n",
    "                l += 1\r\n",
    "                \r\n",
    "            elif not s[r].isalnum():\r\n",
    "                r -= 1\r\n",
    "                \r\n",
    "            else:\r\n",
    "                if s[l].lower() != s[r].lower():\r\n",
    "                    return False\r\n",
    "                \r\n",
    "                l += 1\r\n",
    "                r -= 1\r\n",
    "                \r\n",
    "        return True"
   ],
   "outputs": [],
   "metadata": {}
  },
  {
   "cell_type": "code",
   "execution_count": 41,
   "source": [
    "# Test on Cases\r\n",
    "S = Solution()\r\n",
    "\r\n",
    "print(\"---isPalindrome_slicing---\")\r\n",
    "print(f\"Case 1: {S.isPalindrome_slicing('A man, a plan, a canal: Panama')}\")\r\n",
    "print(f\"Case 2: {S.isPalindrome_slicing('race a car')}\\n\")\r\n",
    "\r\n",
    "print(\"---isPalindrome_twoPointers---\")\r\n",
    "print(f\"Case 1: {S.isPalindrome_twoPointers('A man, a plan, a canal: Panama')}\")\r\n",
    "print(f\"Case 2: {S.isPalindrome_twoPointers('race a car')}\")"
   ],
   "outputs": [
    {
     "output_type": "stream",
     "name": "stdout",
     "text": [
      "---isPalindrome_slicing---\n",
      "Case 1: True\n",
      "Case 2: False\n",
      "\n",
      "---isPalindrome_twoPointers---\n",
      "Case 1: True\n",
      "Case 2: False\n"
     ]
    }
   ],
   "metadata": {}
  }
 ],
 "metadata": {
  "kernelspec": {
   "display_name": "Python 3",
   "language": "python",
   "name": "python3"
  },
  "language_info": {
   "codemirror_mode": {
    "name": "ipython",
    "version": 3
   },
   "file_extension": ".py",
   "mimetype": "text/x-python",
   "name": "python",
   "nbconvert_exporter": "python",
   "pygments_lexer": "ipython3",
   "version": "3.7.7"
  }
 },
 "nbformat": 4,
 "nbformat_minor": 4
}