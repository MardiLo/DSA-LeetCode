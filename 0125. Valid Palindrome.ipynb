{
 "cells": [
  {
   "cell_type": "markdown",
   "metadata": {},
   "source": [
    "`# Two Pointers` `# String`"
   ]
  },
  {
   "cell_type": "markdown",
   "metadata": {},
   "source": [
    "Given a string, determine if it is a *palindrome*, considering only alphanumeric characters and ignoring cases.\n",
    "\n",
    "Note: For the purpose of this problem, we define empty string as valid palindrome."
   ]
  },
  {
   "cell_type": "markdown",
   "metadata": {},
   "source": [
    "**Example 1:**\n",
    "\n",
    "> Input: \"A man, a plan, a canal: Panama\"  \n",
    "Output: true\n",
    "\n",
    "**Example 2:**\n",
    "\n",
    "> Input: \"race a car\"  \n",
    "Output: false"
   ]
  },
  {
   "cell_type": "code",
   "execution_count": 40,
   "metadata": {},
   "outputs": [],
   "source": [
    "class Solution:\n",
    "    \n",
    "    # Time Complexity： O(n)\n",
    "    # Space Complexity： O(n)\n",
    "    def isPalindrome_slicing(self, s: 'str') -> 'bool':\n",
    "        b = ''.join([c for c in s.lower() if c.isalnum()])\n",
    "        return b[:] == b[::-1]\n",
    "    \n",
    "    # Time Complexity： O(n)\n",
    "    # Space Complexity： O(1)\n",
    "    def isPalindrome_twoPointers(self, s: 'str') -> 'bool':\n",
    "        l, r = 0, len(s) - 1\n",
    "        \n",
    "        while l < r:\n",
    "            if not s[l].isalnum():\n",
    "                l += 1\n",
    "                \n",
    "            elif not s[r].isalnum():\n",
    "                r -= 1\n",
    "                \n",
    "            else:\n",
    "                if s[l].lower() != s[r].lower():\n",
    "                    return False\n",
    "                \n",
    "                l += 1\n",
    "                r -= 1\n",
    "                \n",
    "        return True"
   ]
  },
  {
   "cell_type": "code",
   "execution_count": 41,
   "metadata": {},
   "outputs": [
    {
     "name": "stdout",
     "output_type": "stream",
     "text": [
      "---isPalindrome_slicing---\n",
      "Case 1: True\n",
      "Case 2: False\n",
      "\n",
      "---isPalindrome_twoPointers---\n",
      "Case 1: True\n",
      "Case 2: False\n"
     ]
    }
   ],
   "source": [
    "# Test on Cases\n",
    "S = Solution()\n",
    "\n",
    "print(\"---isPalindrome_slicing---\")\n",
    "print(f\"Case 1: {S.isPalindrome_slicing('A man, a plan, a canal: Panama')}\")\n",
    "print(f\"Case 2: {S.isPalindrome_slicing('race a car')}\\n\")\n",
    "\n",
    "print(\"---isPalindrome_twoPointers---\")\n",
    "print(f\"Case 1: {S.isPalindrome_twoPointers('A man, a plan, a canal: Panama')}\")\n",
    "print(f\"Case 2: {S.isPalindrome_twoPointers('race a car')}\")"
   ]
  },
  {
   "cell_type": "code",
   "execution_count": null,
   "metadata": {},
   "outputs": [],
   "source": []
  }
 ],
 "metadata": {
  "kernelspec": {
   "display_name": "Python 3",
   "language": "python",
   "name": "python3"
  },
  "language_info": {
   "codemirror_mode": {
    "name": "ipython",
    "version": 3
   },
   "file_extension": ".py",
   "mimetype": "text/x-python",
   "name": "python",
   "nbconvert_exporter": "python",
   "pygments_lexer": "ipython3",
   "version": "3.7.7"
  }
 },
 "nbformat": 4,
 "nbformat_minor": 4
}
