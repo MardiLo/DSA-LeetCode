{
 "cells": [
  {
   "cell_type": "markdown",
   "metadata": {},
   "source": [
    "`# String`"
   ]
  },
  {
   "cell_type": "markdown",
   "metadata": {},
   "source": [
    "Given a string `s` consisting of **only** the characters `'a'` and `'b'`, return `true` *if every* `'a'` *appears before every* `'b'` *in the string. Otherwise, return* `false`."
   ]
  },
  {
   "cell_type": "markdown",
   "metadata": {},
   "source": [
    "**Example 1:**  \n",
    "\n",
    "> Input: s = \"aaabbb\"  \n",
    "Output: true  \n",
    "Explanation:  \n",
    "The 'a's are at indices 0, 1, and 2, while the 'b's are at indices 3, 4, and 5.  \n",
    "Hence, every 'a' appears before every 'b' and we return true.\n",
    "\n",
    "**Example 2:**\n",
    "\n",
    "> Input: s = \"abab\"  \n",
    "Output: false  \n",
    "Explanation:  \n",
    "There is an 'a' at index 2 and a 'b' at index 1.  \n",
    "Hence, not every 'a' appears before every 'b' and we return false.\n",
    "\n",
    "**Example 3:**\n",
    "\n",
    "> Input: s = \"bbb\"  \n",
    "Output: true  \n",
    "Explanation:  \n",
    "There are no 'a's, hence, every 'a' appears before every 'b' and we return true."
   ]
  },
  {
   "cell_type": "code",
   "execution_count": 1,
   "metadata": {},
   "outputs": [],
   "source": [
    "class Solution:\n",
    "    \n",
    "    # Time Complexity： O(n)\n",
    "    # Space Complexity： O(1)      \n",
    "    def checkString(self, s: str) -> bool:\n",
    "        return 'ba' not in s"
   ]
  },
  {
   "cell_type": "code",
   "execution_count": 2,
   "metadata": {},
   "outputs": [
    {
     "name": "stdout",
     "output_type": "stream",
     "text": [
      "Case 1: True\n",
      "Case 2: False\n",
      "Case 3: True\n"
     ]
    }
   ],
   "source": [
    "# Test on Cases\n",
    "S = Solution()\n",
    "\n",
    "print(f\"Case 1: {S.checkString('aaabbb')}\")\n",
    "print(f\"Case 2: {S.checkString('abab')}\")\n",
    "print(f\"Case 3: {S.checkString('bbb')}\")"
   ]
  }
 ],
 "metadata": {
  "kernelspec": {
   "display_name": "Python 3.10.4 ('leetcode')",
   "language": "python",
   "name": "python3"
  },
  "language_info": {
   "codemirror_mode": {
    "name": "ipython",
    "version": 3
   },
   "file_extension": ".py",
   "mimetype": "text/x-python",
   "name": "python",
   "nbconvert_exporter": "python",
   "pygments_lexer": "ipython3",
   "version": "3.10.4"
  },
  "vscode": {
   "interpreter": {
    "hash": "21d8332eb27bea95342760850bd7426f517b6a483537194bbba87e10eeabf6ff"
   }
  }
 },
 "nbformat": 4,
 "nbformat_minor": 4
}
