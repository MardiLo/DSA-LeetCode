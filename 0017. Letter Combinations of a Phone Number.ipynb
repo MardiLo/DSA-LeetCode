{
 "cells": [
  {
   "cell_type": "markdown",
   "metadata": {},
   "source": [
    "`# String` `# Backtracking` `# Depth-first Search` `# Recursion`"
   ]
  },
  {
   "cell_type": "markdown",
   "metadata": {},
   "source": [
    "Given a string containing digits from `2-9` inclusive, return all possible letter combinations that the number could represent. Return the answer in any order.\n",
    "\n",
    "A mapping of digit to letters (just like on the telephone buttons) is given below. Note that 1 does not map to any letters."
   ]
  },
  {
   "cell_type": "markdown",
   "metadata": {},
   "source": [
    "**Example 1:**  \n",
    "![Image of leetcode 0017 problem example 1](https://upload.wikimedia.org/wikipedia/commons/thumb/7/73/Telephone-keypad2.svg/200px-Telephone-keypad2.svg.png)\n",
    "> Input: digits = \"23\"  \n",
    "> Output: [\"ad\",\"ae\",\"af\",\"bd\",\"be\",\"bf\",\"cd\",\"ce\",\"cf\"]\n",
    "\n",
    "**Example 2:**\n",
    "\n",
    "> Input: digits = \"\"  \n",
    "> Output: []\n",
    "\n",
    "**Example 3:**\n",
    "\n",
    "> Input: digits = \"2\"  \n",
    "> Output: [\"a\",\"b\",\"c\"]"
   ]
  },
  {
   "cell_type": "code",
   "execution_count": 43,
   "metadata": {},
   "outputs": [],
   "source": [
    "class Solution:\n",
    "    \n",
    "     # Time Complexity： O(4^n)\n",
    "    # Space Complexity： O(7), if we don't count the space that we use to store the result\n",
    "    def letterCombinations_dp(self, digits: str) -> list[str]:\n",
    "        res = ['']\n",
    "        dic = {'2':\"abc\", '3':\"def\", '4':\"ghi\", '5':\"jkl\", '6':\"mno\", '7': \"pqrs\", '8':\"tuv\", '9':\"wxyz\"}\n",
    "        \n",
    "        for digit in digits:\n",
    "            res = [cmb + c for cmb in res for c in dic[digit]]\n",
    "\n",
    "        return res if digits else []\n",
    "\n",
    "    # Time Complexity： O(4^n)\n",
    "    # Space Complexity： O(n^2)\n",
    "    def letterCombinations_DFS_recursion(self, digits: str) -> list[str]:\n",
    "        self.res = []\n",
    "        dic = {'2':\"abc\", '3':\"def\", '4':\"ghi\", '5':\"jkl\", '6':\"mno\", '7': \"pqrs\", '8':\"tuv\", '9':\"wxyz\"}\n",
    "        \n",
    "        def dfs(i: int, selected: str) -> None:\n",
    "            if len(digits) == len(selected): \n",
    "                self.res.append(selected)\n",
    "                return\n",
    "\n",
    "            for c in dic[digits[i]]:\n",
    "                dfs(i + 1, selected + c)\n",
    "        \n",
    "        dfs(0, '')\n",
    "\n",
    "        # def dfs(digits: str, selected: str) -> None:\n",
    "        #     if not digits: \n",
    "        #         self.res.append(selected)\n",
    "        #         return\n",
    "\n",
    "        #     for c in dic[digits[0]]:\n",
    "        #         dfs(digits[1:], selected + c)\n",
    "        \n",
    "        # dfs(digits, '')\n",
    "\n",
    "        return self.res if digits else []\n",
    "\n",
    "    # Time Complexity： O(4^n)\n",
    "    # Space Complexity： O(4^n)\n",
    "    def letterCombinations_BFS(self, digits: str) -> list[str]:       \n",
    "        from collections import deque\n",
    "\n",
    "        dic = {'2':\"abc\", '3':\"def\", '4':\"ghi\", '5':\"jkl\", '6':\"mno\", '7': \"pqrs\", '8':\"tuv\", '9':\"wxyz\"}\n",
    "        queue, res = deque([(digits, '')]), []\n",
    "\n",
    "        while queue:\n",
    "            digi, selected = queue.popleft()\n",
    "\n",
    "            if digi: queue.extend([(digi[1:], selected + c) for c in dic[digi[0]]])\n",
    "            else: res.append(selected)\n",
    "        \n",
    "        return res if digits else []\n",
    "\n",
    "    # Time Complexity： O(4^n)\n",
    "    # Space Complexity： O(n^2)\n",
    "    def letterCombinations_DFS_iteration(self, digits: str) -> list[str]:       \n",
    "        dic = {'2':\"abc\", '3':\"def\", '4':\"ghi\", '5':\"jkl\", '6':\"mno\", '7': \"pqrs\", '8':\"tuv\", '9':\"wxyz\"}\n",
    "        stack, res = [(digits, '')], []\n",
    "\n",
    "        while stack:\n",
    "            digi, selected = stack.pop()\n",
    "\n",
    "            if digi: stack.extend([(digi[1:], selected + c) for c in dic[digi[0]]])\n",
    "            else: res.append(selected)\n",
    "        \n",
    "        return res if digits else []"
   ]
  },
  {
   "cell_type": "code",
   "execution_count": 44,
   "metadata": {},
   "outputs": [
    {
     "name": "stdout",
     "output_type": "stream",
     "text": [
      "---letterCombinations_dp---\n",
      "Case 1: ['ad', 'ae', 'af', 'bd', 'be', 'bf', 'cd', 'ce', 'cf']\n",
      "Case 2: []\n",
      "Case 3: ['a', 'b', 'c']\n",
      "\n",
      "---letterCombinations_DFS_recursion---\n",
      "Case 1: ['ad', 'ae', 'af', 'bd', 'be', 'bf', 'cd', 'ce', 'cf']\n",
      "Case 2: []\n",
      "Case 3: ['a', 'b', 'c']\n",
      "\n",
      "---letterCombinations_BFS---\n",
      "Case 1: ['ad', 'ae', 'af', 'bd', 'be', 'bf', 'cd', 'ce', 'cf']\n",
      "Case 2: []\n",
      "Case 3: ['a', 'b', 'c']\n",
      "\n",
      "---letterCombinations_DFS_iteration---\n",
      "Case 1: ['cf', 'ce', 'cd', 'bf', 'be', 'bd', 'af', 'ae', 'ad']\n",
      "Case 2: []\n",
      "Case 3: ['c', 'b', 'a']\n",
      "\n"
     ]
    }
   ],
   "source": [
    "# Test on Cases\n",
    "S = Solution()\n",
    "\n",
    "print(\"---letterCombinations_dp---\")\n",
    "print(f\"Case 1: {S.letterCombinations_dp('23')}\")\n",
    "print(f\"Case 2: {S.letterCombinations_dp('')}\")\n",
    "print(f\"Case 3: {S.letterCombinations_dp('2')}\\n\")\n",
    "\n",
    "print(\"---letterCombinations_DFS_recursion---\")\n",
    "print(f\"Case 1: {S.letterCombinations_DFS_recursion('23')}\")\n",
    "print(f\"Case 2: {S.letterCombinations_DFS_recursion('')}\")\n",
    "print(f\"Case 3: {S.letterCombinations_DFS_recursion('2')}\\n\")\n",
    "\n",
    "print(\"---letterCombinations_BFS---\")\n",
    "print(f\"Case 1: {S.letterCombinations_BFS('23')}\")\n",
    "print(f\"Case 2: {S.letterCombinations_BFS('')}\")\n",
    "print(f\"Case 3: {S.letterCombinations_BFS('2')}\\n\")\n",
    "\n",
    "print(\"---letterCombinations_DFS_iteration---\")\n",
    "print(f\"Case 1: {S.letterCombinations_DFS_iteration('23')}\")\n",
    "print(f\"Case 2: {S.letterCombinations_DFS_iteration('')}\")\n",
    "print(f\"Case 3: {S.letterCombinations_DFS_iteration('2')}\\n\")"
   ]
  }
 ],
 "metadata": {
  "kernelspec": {
   "display_name": "Python 3 (ipykernel)",
   "language": "python",
   "name": "python3"
  },
  "language_info": {
   "codemirror_mode": {
    "name": "ipython",
    "version": 3
   },
   "file_extension": ".py",
   "mimetype": "text/x-python",
   "name": "python",
   "nbconvert_exporter": "python",
   "pygments_lexer": "ipython3",
   "version": "3.10.4"
  },
  "vscode": {
   "interpreter": {
    "hash": "21d8332eb27bea95342760850bd7426f517b6a483537194bbba87e10eeabf6ff"
   }
  }
 },
 "nbformat": 4,
 "nbformat_minor": 4
}
