{
 "cells": [
  {
   "cell_type": "markdown",
   "source": [
    "`# String` `# Backtracking` `# Depth-first Search` `# Recursion`"
   ],
   "metadata": {}
  },
  {
   "cell_type": "markdown",
   "source": [
    "Given a string containing digits from `2-9` inclusive, return all possible letter combinations that the number could represent. Return the answer in any order.\n",
    "\n",
    "A mapping of digit to letters (just like on the telephone buttons) is given below. Note that 1 does not map to any letters."
   ],
   "metadata": {}
  },
  {
   "cell_type": "markdown",
   "source": [
    "**Example 1:**  \r\n",
    "![Image of leetcode 0017 problem example 1](https://upload.wikimedia.org/wikipedia/commons/thumb/7/73/Telephone-keypad2.svg/200px-Telephone-keypad2.svg.png)\r\n",
    "> Input: digits = \"23\"  \r\n",
    "Output: [\"ad\",\"ae\",\"af\",\"bd\",\"be\",\"bf\",\"cd\",\"ce\",\"cf\"]\r\n",
    "\r\n",
    "**Example 2:**\r\n",
    "\r\n",
    "> Input: digits = \"\"  \r\n",
    "Output: []\r\n",
    "\r\n",
    "**Example 3:**\r\n",
    "\r\n",
    "> Input: digits = \"2\"  \r\n",
    "Output: [\"a\",\"b\",\"c\"]"
   ],
   "metadata": {}
  },
  {
   "cell_type": "code",
   "execution_count": 4,
   "source": [
    "class Solution:\r\n",
    "    \r\n",
    "    \r\n",
    "    def letterCombinations(self, digits: 'str') -> 'List[str]':\r\n",
    "        dic = {'2':\"abc\", '3':\"def\", '4':\"ghi\", '5':\"jkl\", \r\n",
    "               '6':\"mno\", '7': \"pqrs\", '8':\"tuv\", '9':\"wxyz\"}\r\n",
    "        \r\n",
    "        cmb = ['']\r\n",
    "        for digit in digits:\r\n",
    "            cmb = [cmb_c + c for cmb_c in cmb for c in dic[digit]]\r\n",
    "        return cmb if digits else []"
   ],
   "outputs": [],
   "metadata": {}
  },
  {
   "cell_type": "code",
   "execution_count": 5,
   "source": [
    "# Test on Cases\r\n",
    "S = Solution()\r\n",
    "\r\n",
    "print(f\"Case 1: {S.letterCombinations('23')}\")\r\n",
    "print(f\"Case 2: {S.letterCombinations('')}\")\r\n",
    "print(f\"Case 3: {S.letterCombinations('2')}\")"
   ],
   "outputs": [
    {
     "output_type": "stream",
     "name": "stdout",
     "text": [
      "Case 1: ['ad', 'ae', 'af', 'bd', 'be', 'bf', 'cd', 'ce', 'cf']\n",
      "Case 2: []\n",
      "Case 3: ['a', 'b', 'c']\n"
     ]
    }
   ],
   "metadata": {}
  }
 ],
 "metadata": {
  "kernelspec": {
   "display_name": "Python 3",
   "language": "python",
   "name": "python3"
  },
  "language_info": {
   "codemirror_mode": {
    "name": "ipython",
    "version": 3
   },
   "file_extension": ".py",
   "mimetype": "text/x-python",
   "name": "python",
   "nbconvert_exporter": "python",
   "pygments_lexer": "ipython3",
   "version": "3.7.7"
  }
 },
 "nbformat": 4,
 "nbformat_minor": 4
}