{
 "cells": [
  {
   "cell_type": "markdown",
   "metadata": {},
   "source": [
    "`# String` `# Two Pointers` "
   ]
  },
  {
   "cell_type": "markdown",
   "metadata": {},
   "source": [
    "You are given two strings `word1` and `word2`. Merge the strings by adding letters in alternating order, starting with `word1`. If a string is longer than the other, append the additional letters onto the end of the merged string.\n",
    "\n",
    "Return *the merged string*."
   ]
  },
  {
   "cell_type": "markdown",
   "metadata": {},
   "source": [
    "**Example 1:**\n",
    "\n",
    "> Input: word1 = \"abc\", word2 = \"pqr\"  \n",
    "Output: \"apbqcr\"  \n",
    "Explanation: The merged string will be merged as so:  \n",
    "word1:  a   b   c  \n",
    "word2:    p   q   r  \n",
    "merged: a p b q c r\n",
    "\n",
    "**Example 2:**\n",
    "\n",
    "> Input: word1 = \"ab\", word2 = \"pqrs\"  \n",
    "Output: \"apbqrs\"  \n",
    "Explanation: Notice that as word2 is longer, \"rs\" is appended to the end.  \n",
    "word1:  a   b   \n",
    "word2:    p   q   r   s  \n",
    "merged: a p b q   r   s\n",
    "\n",
    "**Example 3:**\n",
    "> Input: word1 = \"abcd\", word2 = \"pq\"  \n",
    "Output: \"apbqcd\"  \n",
    "Explanation: Notice that as word1 is longer, \"cd\" is appended to the end.  \n",
    "word1:  a   b   c   d  \n",
    "word2:    p   q   \n",
    "merged: a p b q c   d"
   ]
  },
  {
   "cell_type": "code",
   "execution_count": 19,
   "metadata": {},
   "outputs": [],
   "source": [
    "class Solution:\n",
    "\n",
    "    # Time Complexity： O(m+n)\n",
    "    # Space Complexity： O(1)\n",
    "    def mergeAlternately(self, word1: str, word2: str) -> str:\n",
    "        res, minLen = '', min(len(word1), len(word2))\n",
    "\n",
    "        for i in range(minLen):\n",
    "            res += word1[i] + word2[i]\n",
    "\n",
    "        res += word1[minLen::] or word2[minLen::]\n",
    "\n",
    "        return res\n",
    "\n",
    "    # Time Complexity： O(m+n)\n",
    "    # Space Complexity： O(1)\n",
    "    def mergeAlternately_lib(self, word1: str, word2: str) -> str:\n",
    "        from itertools import zip_longest\n",
    "\n",
    "        return ''.join(c1 + c2 for c1, c2 in zip_longest(word1, word2, fillvalue=''))\n"
   ]
  },
  {
   "cell_type": "code",
   "execution_count": 20,
   "metadata": {},
   "outputs": [
    {
     "name": "stdout",
     "output_type": "stream",
     "text": [
      "---mergeAlternately---\n",
      "Case 1: apbqcr\n",
      "Case 2: apbqrs\n",
      "Case 3: apbqcd\n",
      "\n",
      "---mergeAlternately_lib---\n",
      "Case 1: apbqcr\n",
      "Case 2: apbqrs\n",
      "Case 3: apbqcd\n"
     ]
    }
   ],
   "source": [
    "# Test on Cases\n",
    "S = Solution()\n",
    "\n",
    "print(\"---mergeAlternately---\")\n",
    "print(f\"Case 1: {S.mergeAlternately(word1='abc', word2='pqr')}\")\n",
    "print(f\"Case 2: {S.mergeAlternately(word1='ab', word2='pqrs')}\")\n",
    "print(f\"Case 3: {S.mergeAlternately(word1='abcd', word2='pq')}\\n\")\n",
    "\n",
    "print(\"---mergeAlternately_lib---\")\n",
    "print(f\"Case 1: {S.mergeAlternately_lib(word1='abc', word2='pqr')}\")\n",
    "print(f\"Case 2: {S.mergeAlternately_lib(word1='ab', word2='pqrs')}\")\n",
    "print(f\"Case 3: {S.mergeAlternately_lib(word1='abcd', word2='pq')}\")"
   ]
  }
 ],
 "metadata": {
  "kernelspec": {
   "display_name": "Python 3.10.4 ('leetcode')",
   "language": "python",
   "name": "python3"
  },
  "language_info": {
   "codemirror_mode": {
    "name": "ipython",
    "version": 3
   },
   "file_extension": ".py",
   "mimetype": "text/x-python",
   "name": "python",
   "nbconvert_exporter": "python",
   "pygments_lexer": "ipython3",
   "version": "3.10.4"
  },
  "vscode": {
   "interpreter": {
    "hash": "21d8332eb27bea95342760850bd7426f517b6a483537194bbba87e10eeabf6ff"
   }
  }
 },
 "nbformat": 4,
 "nbformat_minor": 4
}
