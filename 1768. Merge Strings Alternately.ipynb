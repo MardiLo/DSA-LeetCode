{
 "cells": [
  {
   "cell_type": "markdown",
   "metadata": {},
   "source": [
    "`# String` `# Two Pointers` "
   ]
  },
  {
   "cell_type": "markdown",
   "metadata": {},
   "source": [
    "You are given two strings `word1` and `word2`. Merge the strings by adding letters in alternating order, starting with `word1`. If a string is longer than the other, append the additional letters onto the end of the merged string.\n",
    "\n",
    "Return *the merged string*."
   ]
  },
  {
   "cell_type": "markdown",
   "metadata": {},
   "source": [
    "**Example 1:**\n",
    "\n",
    "> Input: word1 = \"abc\", word2 = \"pqr\"  \n",
    "Output: \"apbqcr\"  \n",
    "Explanation: The merged string will be merged as so:  \n",
    "word1:  a   b   c  \n",
    "word2:    p   q   r  \n",
    "merged: a p b q c r\n",
    "\n",
    "**Example 2:**\n",
    "\n",
    "> Input: word1 = \"ab\", word2 = \"pqrs\"  \n",
    "Output: \"apbqrs\"  \n",
    "Explanation: Notice that as word2 is longer, \"rs\" is appended to the end.  \n",
    "word1:  a   b   \n",
    "word2:    p   q   r   s  \n",
    "merged: a p b q   r   s\n",
    "\n",
    "**Example 3:**\n",
    "> Input: word1 = \"abcd\", word2 = \"pq\"  \n",
    "Output: \"apbqcd\"  \n",
    "Explanation: Notice that as word1 is longer, \"cd\" is appended to the end.  \n",
    "word1:  a   b   c   d  \n",
    "word2:    p   q   \n",
    "merged: a p b q c   d"
   ]
  },
  {
   "cell_type": "code",
   "execution_count": 3,
   "metadata": {},
   "outputs": [],
   "source": [
    "class Solution:\n",
    "\n",
    "    # Time Complexity： O(m+n)\n",
    "    # Space Complexity： O(1)\n",
    "    def mergeAlternately(self, word1: str, word2: str) -> str:\n",
    "        l1, l2, s = 0, 0, ''\n",
    "        \n",
    "        while l1 < len(word1) or l2 < len(word2):\n",
    "            if l1 < len(word1): s += word1[l1]; l1 += 1 \n",
    "            if l2 < len(word2): s += word2[l2]; l2 += 1\n",
    "                \n",
    "        return s\n"
   ]
  },
  {
   "cell_type": "code",
   "execution_count": 4,
   "metadata": {},
   "outputs": [
    {
     "name": "stdout",
     "output_type": "stream",
     "text": [
      "Case 1: apbqcr\n",
      "Case 2: apbqrs\n",
      "Case 3: apbqcd\n"
     ]
    }
   ],
   "source": [
    "# Test on Cases\n",
    "S = Solution()\n",
    "\n",
    "print(f\"Case 1: {S.mergeAlternately(word1='abc', word2='pqr')}\")\n",
    "print(f\"Case 2: {S.mergeAlternately(word1='ab', word2='pqrs')}\")\n",
    "print(f\"Case 3: {S.mergeAlternately(word1='abcd', word2='pq')}\")"
   ]
  }
 ],
 "metadata": {
  "kernelspec": {
   "display_name": "Python 3.10.4 ('leetcode')",
   "language": "python",
   "name": "python3"
  },
  "language_info": {
   "codemirror_mode": {
    "name": "ipython",
    "version": 3
   },
   "file_extension": ".py",
   "mimetype": "text/x-python",
   "name": "python",
   "nbconvert_exporter": "python",
   "pygments_lexer": "ipython3",
   "version": "3.10.4"
  },
  "vscode": {
   "interpreter": {
    "hash": "21d8332eb27bea95342760850bd7426f517b6a483537194bbba87e10eeabf6ff"
   }
  }
 },
 "nbformat": 4,
 "nbformat_minor": 4
}
