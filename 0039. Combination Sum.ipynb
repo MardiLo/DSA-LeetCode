{
 "cells": [
  {
   "cell_type": "markdown",
   "metadata": {},
   "source": [
    "`# Array` `# Backtracking`"
   ]
  },
  {
   "cell_type": "markdown",
   "metadata": {},
   "source": [
    "Given an array of distinct integers `candidates` and a target integer `target`, return a list of all unique combinations of `candidates` where the chosen numbers sum to `target`. You may return the combinations in **any order**.\n",
    "\n",
    "The **same number** may be chosen from `candidates` an **unlimited number of times**. Two combinations are unique if the frequency of at least one of the chosen numbers is different.\n",
    "\n",
    "It is **guaranteed** that the number of unique combinations that sum up to `target` is less than `150` combinations for the given input."
   ]
  },
  {
   "cell_type": "markdown",
   "metadata": {},
   "source": [
    "**Example 1:**  \n",
    "\n",
    "> Input: candidates = [2,3,6,7], target = 7  \n",
    "Output: [[2,2,3],[7]]  \n",
    "Explanation:  \n",
    "2 and 3 are candidates, and 2 + 2 + 3 = 7. Note that 2 can be used multiple times.  \n",
    "7 is a candidate, and 7 = 7.  \n",
    "These are the only two combinations.  \n",
    "\n",
    "**Example 2:**  \n",
    "\n",
    "> Input: candidates = [2,3,5], target = 8  \n",
    "Output: [[2,2,2,2],[2,3,3],[3,5]]  \n",
    "\n",
    "**Example 3:**  \n",
    "\n",
    "> Input: candidates = [2], target = 1  \n",
    "Output: []  \n",
    "\n",
    "**Example 4:**  \n",
    "\n",
    "> Input: candidates = [1], target = 1  \n",
    "Output: [[1]]  \n",
    "\n",
    "**Example 5:**  \n",
    "\n",
    "> Input: candidates = [1], target = 2  \n",
    "Output: [[1,1]]  "
   ]
  },
  {
   "cell_type": "code",
   "execution_count": 3,
   "metadata": {},
   "outputs": [],
   "source": [
    "class Solution:\n",
    "    \n",
    "    # NOT SURE!!\n",
    "    # TC: O(n^(T//M + 1)), where T = target, M = min(candidates), btw, T//M is the height of the tree\n",
    "    # SC: O(T//M)   \n",
    "    def combinationSum(self, candidates: 'List[int]', target: 'int') -> 'List[List[int]]':\n",
    "        def dfs(target: 'int', path: 'List[int]', k: 'int') -> 'List[List[int]]':\n",
    "            if target == 0: return self.res.append(path)\n",
    "            \n",
    "            for i in range(k, len(candidates)):\n",
    "                if target < candidates[i]: continue\n",
    "                dfs(target - candidates[i], path + [candidates[i]], i)\n",
    "\n",
    "        self.res = []\n",
    "        dfs(target, [], 0)\n",
    "        \n",
    "        return self.res"
   ]
  },
  {
   "cell_type": "code",
   "execution_count": 4,
   "metadata": {},
   "outputs": [
    {
     "name": "stdout",
     "output_type": "stream",
     "text": [
      "Case 1: [[2, 2, 3], [7]]\n",
      "Case 2: [[2, 2, 2, 2], [2, 3, 3], [3, 5]]\n",
      "Case 3: []\n",
      "Case 4: [[1]]\n",
      "Case 5: [[1, 1]]\n"
     ]
    }
   ],
   "source": [
    "# Test on Cases\n",
    "S = Solution()\n",
    "\n",
    "print(f\"Case 1: {S.combinationSum([2,3,6,7], 7)}\")\n",
    "print(f\"Case 2: {S.combinationSum([2,3,5], 8)}\")\n",
    "print(f\"Case 3: {S.combinationSum([2], 1)}\")\n",
    "print(f\"Case 4: {S.combinationSum([1], 1)}\")\n",
    "print(f\"Case 5: {S.combinationSum([1], 2)}\")"
   ]
  }
 ],
 "metadata": {
  "interpreter": {
   "hash": "ba9359eadc070f03edd6183a4af22ffcaf60363daf070b8f22fbedba67666dbe"
  },
  "kernelspec": {
   "display_name": "Python 3.7.7 64-bit ('flask': conda)",
   "name": "python3"
  },
  "language_info": {
   "codemirror_mode": {
    "name": "ipython",
    "version": 3
   },
   "file_extension": ".py",
   "mimetype": "text/x-python",
   "name": "python",
   "nbconvert_exporter": "python",
   "pygments_lexer": "ipython3",
   "version": "3.7.7"
  }
 },
 "nbformat": 4,
 "nbformat_minor": 4
}
