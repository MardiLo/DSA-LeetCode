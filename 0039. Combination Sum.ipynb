{
 "cells": [
  {
   "cell_type": "markdown",
   "metadata": {},
   "source": [
    "`# Array` `# Backtracking`"
   ]
  },
  {
   "cell_type": "markdown",
   "metadata": {},
   "source": [
    "Given an array of distinct integers `candidates` and a target integer `target`, return a list of all unique combinations of `candidates` where the chosen numbers sum to `target`. You may return the combinations in **any order**.\n",
    "\n",
    "The **same number** may be chosen from `candidates` an **unlimited number of times**. Two combinations are unique if the frequency of at least one of the chosen numbers is different.\n",
    "\n",
    "It is **guaranteed** that the number of unique combinations that sum up to `target` is less than `150` combinations for the given input."
   ]
  },
  {
   "cell_type": "markdown",
   "metadata": {},
   "source": [
    "**Example 1:**  \n",
    "\n",
    "> Input: candidates = [2,3,6,7], target = 7  \n",
    "> Output: [[2,2,3],[7]]  \n",
    "> Explanation:  \n",
    "> 2 and 3 are candidates, and 2 + 2 + 3 = 7. Note that 2 can be used multiple times.  \n",
    "> 7 is a candidate, and 7 = 7.  \n",
    "> These are the only two combinations.  \n",
    "\n",
    "**Example 2:**  \n",
    "\n",
    "> Input: candidates = [2,3,5], target = 8  \n",
    "> Output: [[2,2,2,2],[2,3,3],[3,5]]  \n",
    "\n",
    "**Example 3:**  \n",
    "\n",
    "> Input: candidates = [2], target = 1  \n",
    "> Output: []  \n",
    "\n",
    "**Example 4:**  \n",
    "\n",
    "> Input: candidates = [1], target = 1  \n",
    "> Output: [[1]]  \n",
    "\n",
    "**Example 5:**  \n",
    "\n",
    "> Input: candidates = [1], target = 2  \n",
    "> Output: [[1,1]]  "
   ]
  },
  {
   "cell_type": "code",
   "execution_count": 1,
   "metadata": {},
   "outputs": [],
   "source": [
    "class Solution:\n",
    "    \n",
    "    # TC: O(n^(T//M)), where T = target, M = min(candidates), btw, T//M is the height of the tree\n",
    "    # SC: O(n(T//M))    \n",
    "    def combinationSum_DFS_recursion(self, candidates: list[int], target: int) -> list[list[int]]:\n",
    "        self.res = []\n",
    "\n",
    "        def dfs(target: int, selected: list[int], prevIdx: int) -> None:\n",
    "            if not target: self.res.append(selected) \n",
    "            \n",
    "            for i in range(prevIdx, len(candidates)):\n",
    "                if (subTarget := target-candidates[i]) >= 0: \n",
    "                    dfs(subTarget, selected + [candidates[i]], i)\n",
    "\n",
    "        dfs(target, [], 0)\n",
    "        \n",
    "        return self.res\n",
    "\n",
    "    # TC: O(n^(T//M))\n",
    "    # SC: O(n^(T//M)), bfs generates n children nodes from a parent node\n",
    "    def combinationSum_BFS(self, candidates: list[int], target: int) -> list[list[int]]:\n",
    "        from collections import deque\n",
    "\n",
    "        queue, res = deque([(target, [], 0)]), []\n",
    "\n",
    "        while queue:\n",
    "            target, selected, prevIdx = queue.popleft()\n",
    "\n",
    "            if target: queue.extend([(subTarget, selected + [candidates[i]], i) for i in range(prevIdx, len(candidates)) if (subTarget := target-candidates[i]) >= 0])\n",
    "            else: res.append(selected)\n",
    "                \n",
    "        return res\n",
    "\n",
    "    # TC: O(n^(T//M))\n",
    "    # SC: O(n(T//M))  \n",
    "    def combinationSum_DFS_iteration(self, candidates: list[int], target: int) -> list[list[int]]:\n",
    "        stack, res = [(target, [], 0)], []\n",
    "\n",
    "        while stack:\n",
    "            target, selected, prevIdx = stack.pop()\n",
    "\n",
    "            if target: stack.extend([(subTarget, selected + [candidates[i]], i) for i in range(prevIdx, len(candidates)) if (subTarget := target-candidates[i]) >= 0])\n",
    "            else: res.append(selected)\n",
    "                \n",
    "        return res"
   ]
  },
  {
   "cell_type": "code",
   "execution_count": 2,
   "metadata": {},
   "outputs": [
    {
     "name": "stdout",
     "output_type": "stream",
     "text": [
      "---combinationSum_DFS_recursion---\n",
      "Case 1: [[2, 2, 3], [7]]\n",
      "Case 2: [[2, 2, 2, 2], [2, 3, 3], [3, 5]]\n",
      "Case 3: []\n",
      "Case 4: [[1]]\n",
      "Case 5: [[1, 1]]\n",
      "\n",
      "---combinationSum_BFS---\n",
      "Case 1: [[7], [2, 2, 3]]\n",
      "Case 2: [[3, 5], [2, 3, 3], [2, 2, 2, 2]]\n",
      "Case 3: []\n",
      "Case 4: [[1]]\n",
      "Case 5: [[1, 1]]\n",
      "\n",
      "---combinationSum_DFS_iteration---\n",
      "Case 1: [[7], [2, 2, 3]]\n",
      "Case 2: [[3, 5], [2, 3, 3], [2, 2, 2, 2]]\n",
      "Case 3: []\n",
      "Case 4: [[1]]\n",
      "Case 5: [[1, 1]]\n"
     ]
    }
   ],
   "source": [
    "# Test on Cases\n",
    "S = Solution()\n",
    "\n",
    "print(\"---combinationSum_DFS_recursion---\")\n",
    "print(f\"Case 1: {S.combinationSum_DFS_recursion([2,3,6,7], 7)}\")\n",
    "print(f\"Case 2: {S.combinationSum_DFS_recursion([2,3,5], 8)}\")\n",
    "print(f\"Case 3: {S.combinationSum_DFS_recursion([2], 1)}\")\n",
    "print(f\"Case 4: {S.combinationSum_DFS_recursion([1], 1)}\")\n",
    "print(f\"Case 5: {S.combinationSum_DFS_recursion([1], 2)}\\n\")\n",
    "\n",
    "print(\"---combinationSum_BFS---\")\n",
    "print(f\"Case 1: {S.combinationSum_BFS([2,3,6,7], 7)}\")\n",
    "print(f\"Case 2: {S.combinationSum_BFS([2,3,5], 8)}\")\n",
    "print(f\"Case 3: {S.combinationSum_BFS([2], 1)}\")\n",
    "print(f\"Case 4: {S.combinationSum_BFS([1], 1)}\")\n",
    "print(f\"Case 5: {S.combinationSum_BFS([1], 2)}\\n\")\n",
    "\n",
    "print(\"---combinationSum_DFS_iteration---\")\n",
    "print(f\"Case 1: {S.combinationSum_DFS_iteration([2,3,6,7], 7)}\")\n",
    "print(f\"Case 2: {S.combinationSum_DFS_iteration([2,3,5], 8)}\")\n",
    "print(f\"Case 3: {S.combinationSum_DFS_iteration([2], 1)}\")\n",
    "print(f\"Case 4: {S.combinationSum_DFS_iteration([1], 1)}\")\n",
    "print(f\"Case 5: {S.combinationSum_DFS_iteration([1], 2)}\")"
   ]
  }
 ],
 "metadata": {
  "kernelspec": {
   "display_name": "Python 3 (ipykernel)",
   "language": "python",
   "name": "python3"
  },
  "language_info": {
   "codemirror_mode": {
    "name": "ipython",
    "version": 3
   },
   "file_extension": ".py",
   "mimetype": "text/x-python",
   "name": "python",
   "nbconvert_exporter": "python",
   "pygments_lexer": "ipython3",
   "version": "3.10.4"
  },
  "vscode": {
   "interpreter": {
    "hash": "21d8332eb27bea95342760850bd7426f517b6a483537194bbba87e10eeabf6ff"
   }
  }
 },
 "nbformat": 4,
 "nbformat_minor": 4
}
