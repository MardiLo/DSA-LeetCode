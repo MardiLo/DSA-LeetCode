{
 "cells": [
  {
   "cell_type": "markdown",
   "metadata": {},
   "source": [
    "`# Array` `# Sorting` `# Two Pointers` "
   ]
  },
  {
   "cell_type": "markdown",
   "metadata": {},
   "source": [
    "You are given two integer arrays `nums1` and `nums2`, sorted in **non-decreasing order**, and two integers `m` and `n`, representing the number of elements in `nums1` and `nums2` respectively.\n",
    "\n",
    "**Merge** `nums1` and `nums2` into a single array sorted in **non-decreasing order**.\n",
    "\n",
    "The final sorted array should not be returned by the function, but instead be *stored inside the array* `nums1`. To accommodate this, `nums1` has a length of `m + n`, where the first `m` elements denote the elements that should be merged, and the last `n` elements are set to `0` and should be ignored. `nums2` has a length of `n`."
   ]
  },
  {
   "cell_type": "markdown",
   "metadata": {},
   "source": [
    "**Example 1:**\n",
    "\n",
    "> Input: nums1 = [1,2,3,0,0,0], m = 3, nums2 = [2,5,6], n = 3  \n",
    "Output: [1,2,2,3,5,6]  \n",
    "Explanation: The arrays we are merging are [1,2,3] and [2,5,6].  \n",
    "The result of the merge is [1,2,2,3,5,6] with the underlined elements coming from nums1.  \n",
    "\n",
    "**Example 2:**\n",
    "\n",
    "> Input: nums1 = [1], m = 1, nums2 = [], n = 0  \n",
    "Output: [1]  \n",
    "Explanation: The arrays we are merging are [1] and [].  \n",
    "The result of the merge is [1].  \n",
    "\n",
    "**Example 3:**\n",
    "> Input: nums1 = [0], m = 0, nums2 = [1], n = 1  \n",
    "Output: [1]  \n",
    "Explanation: The arrays we are merging are [] and [1].  \n",
    "The result of the merge is [1].  \n",
    "Note that because m = 0, there are no elements in nums1. The 0 is only there to ensure the merge result can fit in nums1."
   ]
  },
  {
   "cell_type": "code",
   "execution_count": 1,
   "metadata": {},
   "outputs": [],
   "source": [
    "class Solution:\n",
    "\n",
    "    # Time Complexity： O(m+n)\n",
    "    # Space Complexity： O(1)\n",
    "    def merge(self, nums1: list[int], m: int, nums2: list[int], n: int) -> None:\n",
    "        \"\"\"Do not return anything, modify nums1 in-place instead.\"\"\"\n",
    "\n",
    "        while n:                                       # TC: O(m+n)\n",
    "            if m and nums1[m-1] > nums2[n-1]: nums1[m+n-1] = nums1[m-1]; m -= 1\n",
    "            else: nums1[m+n-1] = nums2[n-1]; n -= 1\n",
    "\n",
    "        return nums1\n"
   ]
  },
  {
   "cell_type": "code",
   "execution_count": 2,
   "metadata": {},
   "outputs": [
    {
     "name": "stdout",
     "output_type": "stream",
     "text": [
      "Case 1: [1, 2, 2, 3, 5, 6]\n",
      "Case 2: [1]\n",
      "Case 3: [1]\n"
     ]
    }
   ],
   "source": [
    "# Test on Cases\n",
    "S = Solution()\n",
    "\n",
    "print(f\"Case 1: {S.merge(nums1=[1,2,3,0,0,0], m=3, nums2=[2,5,6], n=3)}\")\n",
    "print(f\"Case 2: {S.merge(nums1=[1], m=1, nums2=[], n=0)}\")\n",
    "print(f\"Case 3: {S.merge(nums1=[0], m=0, nums2=[1], n=1)}\")"
   ]
  }
 ],
 "metadata": {
  "kernelspec": {
   "display_name": "Python 3.10.4 ('leetcode')",
   "language": "python",
   "name": "python3"
  },
  "language_info": {
   "codemirror_mode": {
    "name": "ipython",
    "version": 3
   },
   "file_extension": ".py",
   "mimetype": "text/x-python",
   "name": "python",
   "nbconvert_exporter": "python",
   "pygments_lexer": "ipython3",
   "version": "3.10.4 | packaged by conda-forge | (main, Mar 30 2022, 08:38:02) [MSC v.1916 64 bit (AMD64)]"
  },
  "vscode": {
   "interpreter": {
    "hash": "21d8332eb27bea95342760850bd7426f517b6a483537194bbba87e10eeabf6ff"
   }
  }
 },
 "nbformat": 4,
 "nbformat_minor": 4
}
