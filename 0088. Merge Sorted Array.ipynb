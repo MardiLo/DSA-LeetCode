{
 "cells": [
  {
   "cell_type": "markdown",
   "source": [
    "`# Array` `# Sorting` `# Two Pointers` "
   ],
   "metadata": {}
  },
  {
   "cell_type": "markdown",
   "source": [
    "You are given two integer arrays `nums1` and `nums2`, sorted in **non-decreasing order**, and two integers `m` and `n`, representing the number of elements in `nums1` and `nums2` respectively.\r\n",
    "\r\n",
    "**Merge** `nums1` and `nums2` into a single array sorted in **non-decreasing order**.\r\n",
    "\r\n",
    "The final sorted array should not be returned by the function, but instead be *stored inside the array* `nums1`. To accommodate this, `nums1` has a length of `m + n`, where the first `m` elements denote the elements that should be merged, and the last `n` elements are set to `0` and should be ignored. `nums2` has a length of `n`."
   ],
   "metadata": {}
  },
  {
   "cell_type": "markdown",
   "source": [
    "**Example 1:**\r\n",
    "\r\n",
    "> Input: nums1 = [1,2,3,0,0,0], m = 3, nums2 = [2,5,6], n = 3  \r\n",
    "Output: [1,2,2,3,5,6]  \r\n",
    "Explanation: The arrays we are merging are [1,2,3] and [2,5,6].  \r\n",
    "The result of the merge is [1,2,2,3,5,6] with the underlined elements coming from nums1.  \r\n",
    "\r\n",
    "**Example 2:**\r\n",
    "\r\n",
    "> Input: nums1 = [1], m = 1, nums2 = [], n = 0  \r\n",
    "Output: [1]  \r\n",
    "Explanation: The arrays we are merging are [1] and [].  \r\n",
    "The result of the merge is [1].  \r\n",
    "\r\n",
    "**Example 3:**\r\n",
    "> Input: nums1 = [0], m = 0, nums2 = [1], n = 1  \r\n",
    "Output: [1]  \r\n",
    "Explanation: The arrays we are merging are [] and [1].  \r\n",
    "The result of the merge is [1].  \r\n",
    "Note that because m = 0, there are no elements in nums1. The 0 is only there to ensure the merge result can fit in nums1."
   ],
   "metadata": {}
  },
  {
   "cell_type": "code",
   "execution_count": 1,
   "source": [
    "class Solution:\r\n",
    "    \r\n",
    "    # Time Complexity： O(m+n)\r\n",
    "    # Space Complexity： O(1)\r\n",
    "    def merge(self, nums1: 'List[int]', m: 'int', nums2: 'List[int]', n: 'int') -> 'None':\r\n",
    "        \"\"\"\r\n",
    "        Do not return anything, modify nums1 in-place instead.\r\n",
    "        \"\"\"\r\n",
    "        while n:    # TC: O(m+n)\r\n",
    "            if m and nums1[m-1] > nums2[n-1]:\r\n",
    "                nums1[m+n-1] = nums1[m-1]\r\n",
    "                m -= 1\r\n",
    "            else:\r\n",
    "                nums1[m+n-1] = nums2[n-1]\r\n",
    "                n -= 1\r\n",
    "                \r\n",
    "        return nums1"
   ],
   "outputs": [],
   "metadata": {}
  },
  {
   "cell_type": "code",
   "execution_count": 2,
   "source": [
    "# Test on Cases\r\n",
    "S = Solution() \r\n",
    "\r\n",
    "print(f\"Case 1: {S.merge(nums1=[1,2,3,0,0,0], m=3, nums2=[2,5,6], n=3)}\")\r\n",
    "print(f\"Case 2: {S.merge(nums1=[1], m=1, nums2=[], n=0)}\")\r\n",
    "print(f\"Case 3: {S.merge(nums1 = [0], m = 0, nums2 = [1], n = 1 )}\")"
   ],
   "outputs": [
    {
     "output_type": "stream",
     "name": "stdout",
     "text": [
      "Case 1: [1, 2, 2, 3, 5, 6]\n",
      "Case 2: [1]\n",
      "Case 3: [1]\n"
     ]
    }
   ],
   "metadata": {}
  }
 ],
 "metadata": {
  "kernelspec": {
   "name": "python3",
   "display_name": "Python 3.7.7 64-bit ('spark': conda)"
  },
  "language_info": {
   "codemirror_mode": {
    "name": "ipython",
    "version": 3
   },
   "file_extension": ".py",
   "mimetype": "text/x-python",
   "name": "python",
   "nbconvert_exporter": "python",
   "pygments_lexer": "ipython3",
   "version": "3.7.7"
  },
  "interpreter": {
   "hash": "6ab137a14910b4ee65d0ea442464c53c8571f8241496146388c5db8c59915964"
  }
 },
 "nbformat": 4,
 "nbformat_minor": 4
}