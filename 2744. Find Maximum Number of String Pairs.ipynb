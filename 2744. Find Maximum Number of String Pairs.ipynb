{
 "cells": [
  {
   "cell_type": "markdown",
   "metadata": {},
   "source": [
    "`# Array` `# Hash Table` `# Simulation` `# String`"
   ]
  },
  {
   "cell_type": "markdown",
   "metadata": {},
   "source": [
    "You are given a **0-indexed** array `words` consisting of **distinct** strings.\n",
    "\n",
    "The string `words[i]` can be paired with the string `words[j]` if:\n",
    "\n",
    "- The string `words[i]` is equal to the reversed string of `words[j]`.  \n",
    "- `0 <= i < j < words.length`.  \n",
    "\n",
    "Return *the **maximum** number of pairs that can be formed from the array* `words`.\n",
    "\n",
    "Note that each string can belong in **at most one** pair."
   ]
  },
  {
   "cell_type": "markdown",
   "metadata": {},
   "source": [
    "**Example 1:**\n",
    "\n",
    "> Input: words = [\"cd\",\"ac\",\"dc\",\"ca\",\"zz\"]  \n",
    "> Output: 2  \n",
    "> Explanation: In this example, we can form 2 pair of strings in the following way:  \n",
    "> - We pair the 0th string with the 2nd string, as the reversed string of word[0] is \"dc\" and is equal to words[2].  \n",
    "> - We pair the 1st string with the 3rd string, as the reversed string of word[1] is \"ca\" and is equal to words[3].  \n",
    ">\n",
    "> It can be proven that 2 is the maximum number of pairs that can be formed.  \n",
    "\n",
    "**Example 2:**\n",
    "\n",
    "> Input: words = [\"ab\",\"ba\",\"cc\"]  \n",
    "> Output: 1  \n",
    "> Explanation: In this example, we can form 1 pair of strings in the following way:  \n",
    "> - We pair the 0th string with the 1st string, as the reversed string of words[1] is \"ab\" and is equal to words[0].  \n",
    ">\n",
    "> It can be proven that 1 is the maximum number of pairs that can be formed.\n",
    "\n",
    "**Example 3:**\n",
    "\n",
    "> Input: words = [\"aa\",\"ab\"]  \n",
    "> Output: 0  \n",
    "> Explanation: In this example, we are unable to form any pair of strings."
   ]
  },
  {
   "cell_type": "code",
   "execution_count": 19,
   "metadata": {},
   "outputs": [],
   "source": [
    "class Solution:\n",
    "    \n",
    "    # Time Complexity： O(n)\n",
    "    # Space Complexity： O(n)\n",
    "    def maximumNumberOfStringPairs_frozenset(self, words:list[str]) -> int:\n",
    "        return len(words) - len(set(map(frozenset, words)))\n",
    "    \n",
    "    # Time Complexity： O(n)\n",
    "    # Space Complexity： O(n)\n",
    "    def maximumNumberOfStringPairs_sorting(self, words:list[str]) -> int:\n",
    "        return len(words) - len(set(map(lambda x: tuple(sorted(x)), words)))"
   ]
  },
  {
   "cell_type": "code",
   "execution_count": 20,
   "metadata": {},
   "outputs": [
    {
     "name": "stdout",
     "output_type": "stream",
     "text": [
      "---maximumNumberOfStringPairs_frozenset---\n",
      "Case 1: 2\n",
      "Case 2: 1\n",
      "Case 3: 0\n",
      "\n",
      "---maximumNumberOfStringPairs_sorting---\n",
      "Case 1: 2\n",
      "Case 2: 1\n",
      "Case 3: 0\n"
     ]
    }
   ],
   "source": [
    "# Test on Cases\n",
    "S = Solution()\n",
    "\n",
    "print(\"---maximumNumberOfStringPairs_frozenset---\")\n",
    "print(f'Case 1: {S.maximumNumberOfStringPairs_frozenset([\"cd\",\"ac\",\"dc\",\"ca\",\"zz\"])}')\n",
    "print(f'Case 2: {S.maximumNumberOfStringPairs_frozenset([\"ab\",\"ba\",\"cc\"])}')\n",
    "print(f'Case 3: {S.maximumNumberOfStringPairs_frozenset([\"aa\",\"ab\"])}\\n')\n",
    "\n",
    "print(\"---maximumNumberOfStringPairs_sorting---\")\n",
    "print(f'Case 1: {S.maximumNumberOfStringPairs_sorting([\"cd\",\"ac\",\"dc\",\"ca\",\"zz\"])}')\n",
    "print(f'Case 2: {S.maximumNumberOfStringPairs_sorting([\"ab\",\"ba\",\"cc\"])}')\n",
    "print(f'Case 3: {S.maximumNumberOfStringPairs_sorting([\"aa\",\"ab\"])}')"
   ]
  }
 ],
 "metadata": {
  "kernelspec": {
   "display_name": "Python 3 (ipykernel)",
   "language": "python",
   "name": "python3"
  },
  "language_info": {
   "codemirror_mode": {
    "name": "ipython",
    "version": 3
   },
   "file_extension": ".py",
   "mimetype": "text/x-python",
   "name": "python",
   "nbconvert_exporter": "python",
   "pygments_lexer": "ipython3",
   "version": "3.10.4"
  },
  "vscode": {
   "interpreter": {
    "hash": "21d8332eb27bea95342760850bd7426f517b6a483537194bbba87e10eeabf6ff"
   }
  }
 },
 "nbformat": 4,
 "nbformat_minor": 4
}
