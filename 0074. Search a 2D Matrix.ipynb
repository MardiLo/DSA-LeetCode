{
 "cells": [
  {
   "cell_type": "markdown",
   "metadata": {},
   "source": [
    "`# Array` `# Binary Search` `# Matrix`"
   ]
  },
  {
   "cell_type": "markdown",
   "metadata": {},
   "source": [
    "Write *an efficient algorithm that searches for a value in an* `m x n` *matrix*. This matrix has the following properties:\n",
    "\n",
    "- Integers in each row are *sorted from left to right*.\n",
    "- *The first integer of each row is greater than the last integer of the previous row*."
   ]
  },
  {
   "cell_type": "markdown",
   "metadata": {},
   "source": [
    "**Example 1:**  \n",
    "![Image of leetcode 0074 problem example 1](https://assets.leetcode.com/uploads/2020/10/05/mat.jpg)\n",
    "> Input: matrix = [[1,3,5,7],[10,11,16,20],[23,30,34,60]], target = 3  \n",
    "Output: true  \n",
    "\n",
    "**Example 2:**  \n",
    "![Image of leetcode 0074 problem example 2](https://assets.leetcode.com/uploads/2020/10/05/mat2.jpg)\n",
    "> Input: matrix = [[1,3,5,7],[10,11,16,20],[23,30,34,60]], target = 13  \n",
    "Output: false  "
   ]
  },
  {
   "cell_type": "code",
   "execution_count": 3,
   "metadata": {},
   "outputs": [],
   "source": [
    "class Solution:\n",
    "\n",
    "    # Time Complexity： O(log(mn))\n",
    "    # Space Complexity： O(1)   \n",
    "    def searchMatrix_binarySearch(self, matrix: list[list[int]], target: int) -> bool:   \n",
    "        l, r = 0, len(matrix)*len(matrix[0])-1\n",
    "\n",
    "        while l <= r:                         # TC: O(log(mn))\n",
    "            m = (l + r) // 2\n",
    "            i, j = divmod(m, len(matrix[0]))\n",
    "            \n",
    "            if matrix[i][j] > target: r = m - 1\n",
    "            elif matrix[i][j] < target: l = m + 1\n",
    "            else: return True\n",
    "\n",
    "        return False\n",
    "\n",
    "    # Time Complexity： O(mn)\n",
    "    # Space Complexity： O(1)   \n",
    "    def searchMatrix_bruteForce(self, matrix: list[list[int]], target: int) -> bool:   \n",
    "        from itertools import product\n",
    "        \n",
    "        for i, j in product(range(len(matrix)), range(len(matrix[0]))):\n",
    "            if matrix[i][j] == target: return True\n",
    "        \n",
    "        return False"
   ]
  },
  {
   "cell_type": "code",
   "execution_count": 4,
   "metadata": {},
   "outputs": [
    {
     "name": "stdout",
     "output_type": "stream",
     "text": [
      "---searchMatrix_binarySearch---\n",
      "Case 1: True\n",
      "Case 2: False\n",
      "\n",
      "---searchMatrix_bruteForce---\n",
      "Case 1: True\n",
      "Case 2: False\n"
     ]
    }
   ],
   "source": [
    "# Test on Cases\n",
    "S = Solution()\n",
    "\n",
    "print(\"---searchMatrix_binarySearch---\")\n",
    "print(f\"Case 1: {S.searchMatrix_binarySearch([[1,3,5,7],[10,11,16,20],[23,30,34,60]], 3)}\")\n",
    "print(f\"Case 2: {S.searchMatrix_binarySearch([[1,3,5,7],[10,11,16,20],[23,30,34,60]], 13)}\\n\")\n",
    "\n",
    "print(\"---searchMatrix_bruteForce---\")\n",
    "print(f\"Case 1: {S.searchMatrix_bruteForce([[1,3,5,7],[10,11,16,20],[23,30,34,60]], 3)}\")\n",
    "print(f\"Case 2: {S.searchMatrix_bruteForce([[1,3,5,7],[10,11,16,20],[23,30,34,60]], 13)}\")"
   ]
  },
  {
   "cell_type": "markdown",
   "metadata": {},
   "source": [
    "**Ref**\n",
    "1. [[Python] Simple binary search, explained](https://leetcode.com/problems/search-a-2d-matrix/discuss/896821/Python-Simple-binary-search-explained)\n",
    "2. [A Python binary search solution - O(logn)](https://leetcode.com/problems/search-a-2d-matrix/discuss/26201/A-Python-binary-search-solution-O(logn))"
   ]
  }
 ],
 "metadata": {
  "kernelspec": {
   "display_name": "Python 3.10.4 ('leetcode')",
   "language": "python",
   "name": "python3"
  },
  "language_info": {
   "codemirror_mode": {
    "name": "ipython",
    "version": 3
   },
   "file_extension": ".py",
   "mimetype": "text/x-python",
   "name": "python",
   "nbconvert_exporter": "python",
   "pygments_lexer": "ipython3",
   "version": "3.10.4"
  },
  "vscode": {
   "interpreter": {
    "hash": "21d8332eb27bea95342760850bd7426f517b6a483537194bbba87e10eeabf6ff"
   }
  }
 },
 "nbformat": 4,
 "nbformat_minor": 4
}
