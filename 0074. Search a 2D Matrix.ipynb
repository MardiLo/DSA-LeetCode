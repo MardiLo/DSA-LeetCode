{
 "cells": [
  {
   "cell_type": "markdown",
   "metadata": {},
   "source": [
    "`# Array` `# Binary Search` `# Matrix`"
   ]
  },
  {
   "cell_type": "markdown",
   "metadata": {},
   "source": [
    "Write *an efficient algorithm that searches for a value in an* `m x n` *matrix*. This matrix has the following properties:\n",
    "\n",
    "- Integers in each row are *sorted from left to right*.\n",
    "- *The first integer of each row is greater than the last integer of the previous row*."
   ]
  },
  {
   "cell_type": "markdown",
   "metadata": {},
   "source": [
    "**Example 1:**  \n",
    "![Image of leetcode 0074 problem example 1](https://assets.leetcode.com/uploads/2020/10/05/mat.jpg)\n",
    "> Input: matrix = [[1,3,5,7],[10,11,16,20],[23,30,34,60]], target = 3  \n",
    "Output: true  \n",
    "\n",
    "**Example 2:**  \n",
    "![Image of leetcode 0074 problem example 2](https://assets.leetcode.com/uploads/2020/10/05/mat2.jpg)\n",
    "> Input: matrix = [[1,3,5,7],[10,11,16,20],[23,30,34,60]], target = 13  \n",
    "Output: false  "
   ]
  },
  {
   "cell_type": "code",
   "execution_count": 1,
   "metadata": {},
   "outputs": [],
   "source": [
    "class Solution:\n",
    "\n",
    "    # Time Complexity： O(log(mn))\n",
    "    # Space Complexity： O(1)   \n",
    "    def searchMatrix(self, matrix: 'List[List[int]]', target: 'int') -> 'bool':   \n",
    "        if not matrix[0]: return False\n",
    "\n",
    "        m, n = len(matrix), len(matrix[0])    # it's a m x n matrix \n",
    "        l, r = 0, m*n - 1\n",
    "        while l <= r:                         # TC: O(log(mn))\n",
    "            mid = (l + r) // 2\n",
    "\n",
    "            if matrix[mid//n][mid%n] < target:\n",
    "                l = mid + 1\n",
    "            elif matrix[mid//n][mid%n] > target:\n",
    "                r = mid - 1\n",
    "            else:\n",
    "                return True\n",
    "\n",
    "        return False"
   ]
  },
  {
   "cell_type": "code",
   "execution_count": 2,
   "metadata": {},
   "outputs": [
    {
     "name": "stdout",
     "output_type": "stream",
     "text": [
      "Case 1: True\n",
      "Case 2: False\n"
     ]
    }
   ],
   "source": [
    "# Test on Cases\n",
    "S = Solution()\n",
    "\n",
    "print(f\"Case 1: {S.searchMatrix([[1,3,5,7],[10,11,16,20],[23,30,34,60]], 3)}\")\n",
    "print(f\"Case 2: {S.searchMatrix([[1,3,5,7],[10,11,16,20],[23,30,34,60]], 13)}\")"
   ]
  },
  {
   "cell_type": "markdown",
   "metadata": {},
   "source": [
    "**Ref**\n",
    "1. [[Python] Simple binary search, explained](https://leetcode.com/problems/search-a-2d-matrix/discuss/896821/Python-Simple-binary-search-explained)\n",
    "2. [A Python binary search solution - O(logn)](https://leetcode.com/problems/search-a-2d-matrix/discuss/26201/A-Python-binary-search-solution-O(logn))"
   ]
  }
 ],
 "metadata": {
  "interpreter": {
   "hash": "6ab137a14910b4ee65d0ea442464c53c8571f8241496146388c5db8c59915964"
  },
  "kernelspec": {
   "display_name": "Python 3.7.7 64-bit ('spark': conda)",
   "name": "python3"
  },
  "language_info": {
   "codemirror_mode": {
    "name": "ipython",
    "version": 3
   },
   "file_extension": ".py",
   "mimetype": "text/x-python",
   "name": "python",
   "nbconvert_exporter": "python",
   "pygments_lexer": "ipython3",
   "version": "3.7.7"
  }
 },
 "nbformat": 4,
 "nbformat_minor": 4
}
