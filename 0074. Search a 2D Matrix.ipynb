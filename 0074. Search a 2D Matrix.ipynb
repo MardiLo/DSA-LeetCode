{
 "cells": [
  {
   "cell_type": "markdown",
   "source": [
    "`# Array` `# Binary Search` `# Matrix`"
   ],
   "metadata": {}
  },
  {
   "cell_type": "markdown",
   "source": [
    "Write *an efficient algorithm that searches for a value in an* `m x n` *matrix*. This matrix has the following properties:\r\n",
    "\r\n",
    "- Integers in each row are *sorted from left to right*.\r\n",
    "- *The first integer of each row is greater than the last integer of the previous row*."
   ],
   "metadata": {}
  },
  {
   "cell_type": "markdown",
   "source": [
    "**Example 1:**  \r\n",
    "![Image of leetcode 0074 problem example 1](https://assets.leetcode.com/uploads/2020/10/05/mat.jpg)\r\n",
    "> Input: matrix = [[1,3,5,7],[10,11,16,20],[23,30,34,60]], target = 3  \r\n",
    "Output: true  \r\n",
    "\r\n",
    "**Example 2:**  \r\n",
    "![Image of leetcode 0074 problem example 2](https://assets.leetcode.com/uploads/2020/10/05/mat2.jpg)\r\n",
    "> Input: matrix = [[1,3,5,7],[10,11,16,20],[23,30,34,60]], target = 13  \r\n",
    "Output: false  "
   ],
   "metadata": {}
  },
  {
   "cell_type": "code",
   "execution_count": 3,
   "source": [
    "class Solution:\r\n",
    "\r\n",
    "    # Time Complexity： O(log(mn))\r\n",
    "    # Space Complexity： O(1)   \r\n",
    "    def searchMatrix(self, matrix: 'List[List[int]]', target: 'int') -> 'bool':   \r\n",
    "        if not matrix[0]: return False\r\n",
    "\r\n",
    "        m, n = len(matrix), len(matrix[0])    # it's a m x n matrix \r\n",
    "        l, r = 0, m*n - 1\r\n",
    "        while l <= r:                         # TC: O(log(mn))\r\n",
    "            mid = (l + r) // 2\r\n",
    "\r\n",
    "            if matrix[mid//n][mid%n] < target:\r\n",
    "                l = mid + 1\r\n",
    "            elif matrix[mid//n][mid%n] > target:\r\n",
    "                r = mid - 1\r\n",
    "            else:\r\n",
    "                return True\r\n",
    "\r\n",
    "        return False"
   ],
   "outputs": [],
   "metadata": {}
  },
  {
   "cell_type": "code",
   "execution_count": 4,
   "source": [
    "# Test on Cases\r\n",
    "S = Solution()\r\n",
    "\r\n",
    "print(\"---searchMatrix---\")\r\n",
    "print(f\"Case 1: {S.searchMatrix([[1,3,5,7],[10,11,16,20],[23,30,34,60]], 3)}\")\r\n",
    "print(f\"Case 2: {S.searchMatrix([[1,3,5,7],[10,11,16,20],[23,30,34,60]], 13)}\")"
   ],
   "outputs": [
    {
     "output_type": "stream",
     "name": "stdout",
     "text": [
      "---searchMatrix---\n",
      "Case 1: True\n",
      "Case 2: False\n"
     ]
    }
   ],
   "metadata": {}
  },
  {
   "cell_type": "markdown",
   "source": [
    "**Ref**\r\n",
    "1. [[Python] Simple binary search, explained](https://leetcode.com/problems/search-a-2d-matrix/discuss/896821/Python-Simple-binary-search-explained)\r\n",
    "2. [A Python binary search solution - O(logn)](https://leetcode.com/problems/search-a-2d-matrix/discuss/26201/A-Python-binary-search-solution-O(logn))"
   ],
   "metadata": {}
  }
 ],
 "metadata": {
  "kernelspec": {
   "name": "python3",
   "display_name": "Python 3.7.7 64-bit ('spark': conda)"
  },
  "language_info": {
   "codemirror_mode": {
    "name": "ipython",
    "version": 3
   },
   "file_extension": ".py",
   "mimetype": "text/x-python",
   "name": "python",
   "nbconvert_exporter": "python",
   "pygments_lexer": "ipython3",
   "version": "3.7.7"
  },
  "interpreter": {
   "hash": "6ab137a14910b4ee65d0ea442464c53c8571f8241496146388c5db8c59915964"
  }
 },
 "nbformat": 4,
 "nbformat_minor": 4
}