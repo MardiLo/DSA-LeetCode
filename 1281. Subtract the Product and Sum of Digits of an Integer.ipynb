{
 "cells": [
  {
   "cell_type": "markdown",
   "metadata": {},
   "source": [
    "`# Math`"
   ]
  },
  {
   "cell_type": "markdown",
   "metadata": {},
   "source": [
    "Given an integer number `n`, return *the difference between the product of its digits and the sum of its digits*."
   ]
  },
  {
   "cell_type": "markdown",
   "metadata": {},
   "source": [
    "**Example 1:**  \n",
    "\n",
    "> Input: n = 234  \n",
    "> Output: 15   \n",
    "> Explanation:   \n",
    "> Product of digits = 2 * 3 * 4 = 24   \n",
    "> Sum of digits = 2 + 3 + 4 = 9   \n",
    "> Result = 24 - 9 = 15\n",
    "\n",
    "**Example 2:**\n",
    "\n",
    "> Input: n = 4421  \n",
    "> Output: 21  \n",
    "> Explanation:   \n",
    "> Product of digits = 4 * 4 * 2 * 1 = 32   \n",
    "> Sum of digits = 4 + 4 + 2 + 1 = 11   \n",
    "> Result = 32 - 11 = 21"
   ]
  },
  {
   "cell_type": "code",
   "execution_count": 1,
   "metadata": {},
   "outputs": [],
   "source": [
    "class Solution:\n",
    "    \n",
    "    # Time Complexity： O(n)\n",
    "    # Space Complexity： O(1)      \n",
    "    def subtractProductAndSum(self, n: int) -> int:\n",
    "        from functools import reduce\n",
    "        from operator import sub\n",
    "\n",
    "        return reduce(sub, reduce(lambda x, y: (x[0] * y, x[1] + y), map(int, str(n)), (1, 0)))"
   ]
  },
  {
   "cell_type": "code",
   "execution_count": 2,
   "metadata": {},
   "outputs": [
    {
     "name": "stdout",
     "output_type": "stream",
     "text": [
      "Case 1: 15\n",
      "Case 2: 21\n"
     ]
    }
   ],
   "source": [
    "# Test on Cases\n",
    "S = Solution()\n",
    "\n",
    "print(f\"Case 1: {S.subtractProductAndSum(234)}\")\n",
    "print(f\"Case 2: {S.subtractProductAndSum(4421)}\")"
   ]
  }
 ],
 "metadata": {
  "kernelspec": {
   "display_name": "Python 3 (ipykernel)",
   "language": "python",
   "name": "python3"
  },
  "language_info": {
   "codemirror_mode": {
    "name": "ipython",
    "version": 3
   },
   "file_extension": ".py",
   "mimetype": "text/x-python",
   "name": "python",
   "nbconvert_exporter": "python",
   "pygments_lexer": "ipython3",
   "version": "3.10.4"
  },
  "vscode": {
   "interpreter": {
    "hash": "21d8332eb27bea95342760850bd7426f517b6a483537194bbba87e10eeabf6ff"
   }
  }
 },
 "nbformat": 4,
 "nbformat_minor": 4
}
