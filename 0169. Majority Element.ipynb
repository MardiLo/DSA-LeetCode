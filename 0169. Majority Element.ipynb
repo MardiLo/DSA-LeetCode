{
 "cells": [
  {
   "cell_type": "markdown",
   "metadata": {},
   "source": [
    "`# Array` `# Counting` `# Divide and Conquer` `# Hash Table` `# Sorting`"
   ]
  },
  {
   "cell_type": "markdown",
   "metadata": {},
   "source": [
    "Given an array `nums` of size `n`, return the majority element.\n",
    "\n",
    "The majority element is the element that appears more than `⌊n / 2⌋` times. You may assume that the majority element always exists in the array."
   ]
  },
  {
   "cell_type": "markdown",
   "metadata": {},
   "source": [
    "**Example 1:**\n",
    "\n",
    "> Input: nums = [3,2,3]  \n",
    "Output: 3\n",
    "\n",
    "**Example 2:**\n",
    "\n",
    "> Input: nums = [2,2,1,1,1,2,2]  \n",
    "Output: 2"
   ]
  },
  {
   "cell_type": "code",
   "execution_count": 1,
   "metadata": {},
   "outputs": [],
   "source": [
    "class Solution:\n",
    "    \n",
    "    # Time Complexity： O(n)\n",
    "    # Space Complexity： O(1)\n",
    "    def majorityElement_BoyerMoore(self, nums: 'List[int]') -> 'int':\n",
    "        major_num = 0\n",
    "        count = 0\n",
    "        \n",
    "        for num in nums:\n",
    "            if count == 0:\n",
    "                major_num = num\n",
    "                \n",
    "            if major_num != num:\n",
    "                count -= 1\n",
    "            else:\n",
    "                count += 1\n",
    "        \n",
    "        return major_num\n",
    "    \n",
    "    \n",
    "    # Time Complexity： O(n)\n",
    "    # Space Complexity： O(n)\n",
    "    def majorityElement_hashTable(self, nums: 'List[int]') -> 'int':\n",
    "        num_len = len(nums)\n",
    "        dic = {}\n",
    "        \n",
    "        for num in nums:\n",
    "            dic[num] = dic.get(num, 0) + 1\n",
    "            \n",
    "            if dic[num] > num_len/2:\n",
    "                return num\n",
    "            \n",
    "            \n",
    "    # Time Complexity： O(nlogn)\n",
    "    # Space Complexity： O(1)\n",
    "    def majorityElement_sort(self, nums: 'List[int]') -> 'int':\n",
    "        return sorted(nums)[len(nums)//2]"
   ]
  },
  {
   "cell_type": "code",
   "execution_count": 2,
   "metadata": {},
   "outputs": [
    {
     "name": "stdout",
     "output_type": "stream",
     "text": [
      "---majorityElement_BoyerMoore---\n",
      "Case 1: 3\n",
      "Case 2: 2\n",
      "\n",
      "---majorityElement_hashTable---\n",
      "Case 1: 3\n",
      "Case 2: 2\n",
      "\n",
      "---majorityElement_sort---\n",
      "Case 1: 3\n",
      "Case 2: 2\n"
     ]
    }
   ],
   "source": [
    "# Test on Cases\n",
    "S = Solution()\n",
    "\n",
    "print(\"---majorityElement_BoyerMoore---\")\n",
    "print(f\"Case 1: {S.majorityElement_BoyerMoore([3,2,3])}\")\n",
    "print(f\"Case 2: {S.majorityElement_BoyerMoore([2,2,1,1,1,2,2])}\\n\")\n",
    "\n",
    "print(\"---majorityElement_hashTable---\")\n",
    "print(f\"Case 1: {S.majorityElement_hashTable([3,2,3])}\")\n",
    "print(f\"Case 2: {S.majorityElement_hashTable([2,2,1,1,1,2,2])}\\n\")\n",
    "\n",
    "print(\"---majorityElement_sort---\")\n",
    "print(f\"Case 1: {S.majorityElement_sort([3,2,3])}\")\n",
    "print(f\"Case 2: {S.majorityElement_sort([2,2,1,1,1,2,2])}\")"
   ]
  },
  {
   "cell_type": "code",
   "execution_count": null,
   "metadata": {},
   "outputs": [],
   "source": []
  }
 ],
 "metadata": {
  "kernelspec": {
   "display_name": "Python 3",
   "language": "python",
   "name": "python3"
  },
  "language_info": {
   "codemirror_mode": {
    "name": "ipython",
    "version": 3
   },
   "file_extension": ".py",
   "mimetype": "text/x-python",
   "name": "python",
   "nbconvert_exporter": "python",
   "pygments_lexer": "ipython3",
   "version": "3.7.7"
  }
 },
 "nbformat": 4,
 "nbformat_minor": 4
}
