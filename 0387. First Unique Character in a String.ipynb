{
 "cells": [
  {
   "cell_type": "markdown",
   "metadata": {},
   "source": [
    "`# Hash Table` `# String`"
   ]
  },
  {
   "cell_type": "markdown",
   "metadata": {},
   "source": [
    "Given a string, `s`, find the *first non-repeating character in it and return its index*. If it doesn't exist, return `-1`."
   ]
  },
  {
   "cell_type": "markdown",
   "metadata": {},
   "source": [
    "**Example 1:**\n",
    "\n",
    "> s = \"leetcode\"  \n",
    "> Output: 0\n",
    "\n",
    "**Example 2:**\n",
    "> s = \"loveleetcode\"  \n",
    "> Output: 2\n",
    "\n",
    "**Example 3:**\n",
    "> Input: s = \"aabb\"  \n",
    "> Output: -1  "
   ]
  },
  {
   "cell_type": "code",
   "execution_count": 3,
   "metadata": {},
   "outputs": [],
   "source": [
    "class Solution:\n",
    "    \n",
    "    # Time Complexity： O(n)\n",
    "    # Space Complexity： O(n)\n",
    "    def firstUniqChar(self, s: str) -> int:\n",
    "        from collections import Counter\n",
    "\n",
    "        cnt = Counter(s)\n",
    "            \n",
    "        return next((i for i, c in enumerate(s) if cnt[c] == 1), -1)"
   ]
  },
  {
   "cell_type": "code",
   "execution_count": 4,
   "metadata": {},
   "outputs": [
    {
     "name": "stdout",
     "output_type": "stream",
     "text": [
      "Case 1: 0\n",
      "Case 2: 2\n",
      "Case 3: -1\n"
     ]
    }
   ],
   "source": [
    "# Test on Cases\n",
    "S = Solution()\n",
    "\n",
    "print(f\"Case 1: {S.firstUniqChar('leetcode')}\")\n",
    "print(f\"Case 2: {S.firstUniqChar('loveleetcode')}\")\n",
    "print(f\"Case 3: {S.firstUniqChar('aabb')}\")"
   ]
  }
 ],
 "metadata": {
  "kernelspec": {
   "display_name": "Python 3 (ipykernel)",
   "language": "python",
   "name": "python3"
  },
  "language_info": {
   "codemirror_mode": {
    "name": "ipython",
    "version": 3
   },
   "file_extension": ".py",
   "mimetype": "text/x-python",
   "name": "python",
   "nbconvert_exporter": "python",
   "pygments_lexer": "ipython3",
   "version": "3.10.4"
  },
  "vscode": {
   "interpreter": {
    "hash": "21d8332eb27bea95342760850bd7426f517b6a483537194bbba87e10eeabf6ff"
   }
  }
 },
 "nbformat": 4,
 "nbformat_minor": 4
}
