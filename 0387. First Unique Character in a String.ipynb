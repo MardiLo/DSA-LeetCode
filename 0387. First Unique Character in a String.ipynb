{
 "cells": [
  {
   "cell_type": "markdown",
   "source": [
    "`# Hash Table` `# String`"
   ],
   "metadata": {}
  },
  {
   "cell_type": "markdown",
   "source": [
    "Given a string, `s`, find the *first non-repeating character in it and return its index*. If it doesn't exist, return `-1`."
   ],
   "metadata": {}
  },
  {
   "cell_type": "markdown",
   "source": [
    "**Example 1:**\n",
    "\n",
    "> s = \"leetcode\"  \n",
    "return 0.\n",
    "\n",
    "**Example 2:**\n",
    "> s = \"loveleetcode\"  \n",
    "return 2."
   ],
   "metadata": {}
  },
  {
   "cell_type": "code",
   "execution_count": 11,
   "source": [
    "class Solution:\r\n",
    "    \r\n",
    "    # Time Complexity： O(n)\r\n",
    "    # Space Complexity： O(n)\r\n",
    "    def firstUniqChar(self, s: 'str') -> 'int':\r\n",
    "        dic = {}\r\n",
    "        \r\n",
    "        for c in s:\r\n",
    "            dic[c] = dic.get(c, 0) + 1\r\n",
    "        \r\n",
    "        for i, c in enumerate(s):\r\n",
    "            if dic[c] < 2:\r\n",
    "                return i\r\n",
    "            \r\n",
    "        return -1"
   ],
   "outputs": [],
   "metadata": {}
  },
  {
   "cell_type": "code",
   "execution_count": 12,
   "source": [
    "# Test on Cases\r\n",
    "S = Solution()\r\n",
    "\r\n",
    "print(f\"Case 1: {S.firstUniqChar('leetcode')}\")\r\n",
    "print(f\"Case 2: {S.firstUniqChar('loveleetcode')}\")"
   ],
   "outputs": [
    {
     "output_type": "stream",
     "name": "stdout",
     "text": [
      "Case 1: 0\n",
      "Case 2: 2\n"
     ]
    }
   ],
   "metadata": {}
  }
 ],
 "metadata": {
  "kernelspec": {
   "display_name": "Python 3",
   "language": "python",
   "name": "python3"
  },
  "language_info": {
   "codemirror_mode": {
    "name": "ipython",
    "version": 3
   },
   "file_extension": ".py",
   "mimetype": "text/x-python",
   "name": "python",
   "nbconvert_exporter": "python",
   "pygments_lexer": "ipython3",
   "version": "3.7.7"
  }
 },
 "nbformat": 4,
 "nbformat_minor": 4
}