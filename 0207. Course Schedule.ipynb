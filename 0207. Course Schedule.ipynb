{
 "cells": [
  {
   "cell_type": "markdown",
   "metadata": {},
   "source": [
    "`# Breadth-First Search` `# Depth-First Search` `# vertices` `# Topological Sort`"
   ]
  },
  {
   "cell_type": "markdown",
   "metadata": {},
   "source": [
    "There are a total of `numCourses` courses you have to take, labeled from `0` to `numCourses - 1`. You are given an array prerequisites where `prerequisites[i] = [a`<sub>`i`</sub>`, b`<sub>`i`</sub>`]` indicates that you must take cours `b`<sub>`i`</sub> first if you want to take course `a`<sub>`i`</sub>.\n",
    "\n",
    "For example, the pair `[0, 1]`, indicates that to take course `0` you have to first take course `1`.\n",
    "\n",
    "Return `true` *if you can finish all courses. Otherwise,* return `false`."
   ]
  },
  {
   "cell_type": "markdown",
   "metadata": {},
   "source": [
    "**Example 1:**\n",
    "\n",
    "> Input: numCourses = 2, prerequisites = [[1,0]]  \n",
    "> Output: true  \n",
    "> Explanation: There are a total of 2 courses to take.   \n",
    "> To take course 1 you should have finished course 0. So it is possible.  \n",
    "\n",
    "**Example 2:**\n",
    "\n",
    "> Input: numCourses = 2, prerequisites = [[1,0],[0,1]]  \n",
    "> Output: false  \n",
    "> Explanation: There are a total of 2 courses to take.   \n",
    "> To take course 1 you should have finished course 0, and to take course 0 you should also have finished course 1. So it is impossible.  "
   ]
  },
  {
   "cell_type": "code",
   "execution_count": 5,
   "metadata": {},
   "outputs": [],
   "source": [
    "class Solution:\n",
    "    \n",
    "    # Time Complexity： O(E+V), where E is number of edges and V is number of vertices\n",
    "    # Space Complexity： O(E+V)\n",
    "    def canFinish_BFS(self, numCourses: int, prerequisites: list[list[int]]) -> bool:\n",
    "        from collections import deque, defaultdict\n",
    "\n",
    "        edges, vertices = defaultdict(list), defaultdict(int)\n",
    "        for course, preCourse in prerequisites:\n",
    "            edges[preCourse].append(course)\n",
    "            vertices[course] += 1\n",
    "\n",
    "        queue = deque([course for course in range(numCourses) if not vertices[course]])\n",
    "        while queue:\n",
    "            preCourse = queue.popleft()\n",
    "\n",
    "            for course in edges[preCourse]:\n",
    "                vertices[course] -= 1                                 # mark when we visit\n",
    "                if not vertices[course]: queue.append(course)         # the next vertex we'll go to\n",
    "        \n",
    "        return False if any(vertices.values()) else True\n",
    "\n",
    "    # Time Complexity： O(E+V), where E is number of edges and V is number of vertices\n",
    "    # Space Complexity： O(E+V)\n",
    "    def canFinish_DFS(self, numCourses: int, prerequisites: list[list[int]]) -> bool:\n",
    "        from collections import defaultdict\n",
    "\n",
    "        edges, vertices = defaultdict(list), defaultdict(int)\n",
    "        for course, preCourse in prerequisites:\n",
    "            edges[preCourse].append(course)\n",
    "            vertices[course] += 1\n",
    "\n",
    "        stack = [course for course in range(numCourses) if not vertices[course]]\n",
    "        while stack:\n",
    "            preCourse = stack.pop()\n",
    "\n",
    "            for course in edges[preCourse]:\n",
    "                vertices[course] -= 1\n",
    "                if not vertices[course]: stack.append(course)\n",
    "        \n",
    "        return False if any(vertices.values()) else True"
   ]
  },
  {
   "cell_type": "code",
   "execution_count": 6,
   "metadata": {},
   "outputs": [
    {
     "name": "stdout",
     "output_type": "stream",
     "text": [
      "---canFinish_BFS---\n",
      "Case 1: True\n",
      "Case 2: False\n",
      "\n",
      "---canFinish_DFS---\n",
      "Case 1: True\n",
      "Case 2: False\n"
     ]
    }
   ],
   "source": [
    "# Test on Cases\n",
    "S = Solution()\n",
    "\n",
    "print(\"---canFinish_BFS---\")\n",
    "print(f\"Case 1: {S.canFinish_BFS(2, [[1,0]])}\")\n",
    "print(f\"Case 2: {S.canFinish_BFS(2, [[1,0],[0,1]])}\\n\")\n",
    "\n",
    "print(\"---canFinish_DFS---\")\n",
    "print(f\"Case 1: {S.canFinish_DFS(2, [[1,0]])}\")\n",
    "print(f\"Case 2: {S.canFinish_DFS(2, [[1,0],[0,1]])}\")"
   ]
  },
  {
   "cell_type": "markdown",
   "metadata": {},
   "source": [
    "**Ref**\n",
    "1. [[Java/C++/Python] BFS Topological Sorting, O(N + E)](https://leetcode.com/problems/course-schedule/discuss/162743/JavaC%2B%2BPython-BFS-Topological-Sorting-O(N-%2B-E))"
   ]
  }
 ],
 "metadata": {
  "kernelspec": {
   "display_name": "Python 3 (ipykernel)",
   "language": "python",
   "name": "python3"
  },
  "language_info": {
   "codemirror_mode": {
    "name": "ipython",
    "version": 3
   },
   "file_extension": ".py",
   "mimetype": "text/x-python",
   "name": "python",
   "nbconvert_exporter": "python",
   "pygments_lexer": "ipython3",
   "version": "3.10.4"
  },
  "vscode": {
   "interpreter": {
    "hash": "21d8332eb27bea95342760850bd7426f517b6a483537194bbba87e10eeabf6ff"
   }
  }
 },
 "nbformat": 4,
 "nbformat_minor": 4
}
