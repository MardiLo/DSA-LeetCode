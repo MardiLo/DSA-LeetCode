{
 "cells": [
  {
   "cell_type": "markdown",
   "metadata": {},
   "source": [
    "`# Breadth-First Search` `# Depth-First Search` `# Graph` `# Topological Sort`"
   ]
  },
  {
   "cell_type": "markdown",
   "metadata": {},
   "source": [
    "There are a total of `numCourses` courses you have to take, labeled from `0` to `numCourses - 1`. You are given an array prerequisites where `prerequisites[i] = [a`<sub>`i`</sub>`, b`<sub>`i`</sub>`]` indicates that you must take cours `b`<sub>`i`</sub> first if you want to take course `a`<sub>`i`</sub>.\n",
    "\n",
    "For example, the pair `[0, 1]`, indicates that to take course `0` you have to first take course `1`.\n",
    "\n",
    "Return `true` *if you can finish all courses. Otherwise,* return `false`."
   ]
  },
  {
   "cell_type": "markdown",
   "metadata": {},
   "source": [
    "**Example 1:**\n",
    "\n",
    "> Input: numCourses = 2, prerequisites = [[1,0]]  \n",
    "Output: true  \n",
    "Explanation: There are a total of 2 courses to take.   \n",
    "To take course 1 you should have finished course 0. So it is possible.  \n",
    "\n",
    "**Example 2:**\n",
    "\n",
    "> Input: numCourses = 2, prerequisites = [[1,0],[0,1]]  \n",
    "Output: false  \n",
    "Explanation: There are a total of 2 courses to take.   \n",
    "To take course 1 you should have finished course 0, and to take course 0 you should also have finished course 1. So it is impossible.  "
   ]
  },
  {
   "cell_type": "code",
   "execution_count": 1,
   "metadata": {},
   "outputs": [],
   "source": [
    "class Solution:\n",
    "    \n",
    "    # Time Complexity： O(E+V), where E is number of edges and V is number of vertices\n",
    "    # Space Complexity： O(E+V)\n",
    "    def canFinish(self, numCourses: int, prerequisites: 'List[List[int]]') -> 'bool':\n",
    "        from collections import deque, defaultdict\n",
    "\n",
    "        edges = defaultdict(list)\n",
    "        degrees = defaultdict(int)\n",
    "        for course, preCourse in prerequisites:\n",
    "            edges[preCourse].append(course)\n",
    "            degrees[course] += 1\n",
    "\n",
    "        queue = deque(course for course in range(numCourses) if not degrees[course])\n",
    "        while queue:\n",
    "            preCourse = queue.popleft()\n",
    "\n",
    "            for course in edges[preCourse]:\n",
    "                degrees[course] -= 1\n",
    "                if not degrees[course]: queue.append(course)\n",
    "\n",
    "        for course in degrees:\n",
    "            if degrees[course]: return False\n",
    "        \n",
    "        return True"
   ]
  },
  {
   "cell_type": "code",
   "execution_count": 2,
   "metadata": {},
   "outputs": [
    {
     "name": "stdout",
     "output_type": "stream",
     "text": [
      "Case 1: True\n",
      "Case 2: False\n"
     ]
    }
   ],
   "source": [
    "# Test on Cases\n",
    "S = Solution()\n",
    "\n",
    "print(f\"Case 1: {S.canFinish(2, [[1,0]])}\")\n",
    "print(f\"Case 2: {S.canFinish(2, [[1,0],[0,1]])}\")"
   ]
  },
  {
   "cell_type": "markdown",
   "metadata": {},
   "source": [
    "**Ref**\n",
    "1. [[Java/C++/Python] BFS Topological Sorting, O(N + E)](https://leetcode.com/problems/course-schedule/discuss/162743/JavaC%2B%2BPython-BFS-Topological-Sorting-O(N-%2B-E))"
   ]
  }
 ],
 "metadata": {
  "kernelspec": {
   "display_name": "Python 3",
   "language": "python",
   "name": "python3"
  },
  "language_info": {
   "codemirror_mode": {
    "name": "ipython",
    "version": 3
   },
   "file_extension": ".py",
   "mimetype": "text/x-python",
   "name": "python",
   "nbconvert_exporter": "python",
   "pygments_lexer": "ipython3",
   "version": "3.8.3"
  }
 },
 "nbformat": 4,
 "nbformat_minor": 4
}
