{
 "cells": [
  {
   "cell_type": "markdown",
   "metadata": {},
   "source": [
    "`# Binary Tree` `# Breadth-First Search` `# Depth-first Search` `# Tree`"
   ]
  },
  {
   "cell_type": "markdown",
   "metadata": {},
   "source": [
    "Given the `root` of a binary tree, return *its maximum depth*.\n",
    "\n",
    "A binary tree's **maximum depth** is the number of nodes along the longest path from the root node down to the farthest leaf node."
   ]
  },
  {
   "cell_type": "markdown",
   "metadata": {},
   "source": [
    "**Example 1:**  \n",
    "![Image of leetcode 0104 problem example 1](https://assets.leetcode.com/uploads/2020/11/26/tmp-tree.jpg)\n",
    "> Input: root = [3,9,20,null,null,15,7]  \n",
    "Output: 3\n",
    "\n",
    "**Example 2:**\n",
    "\n",
    "> Input: root = [1,null,2]  \n",
    "Output: 2\n",
    "\n",
    "**Example 3:**\n",
    "\n",
    "> Input: root = []  \n",
    "Output: 0\n",
    "\n",
    "**Example 4:**\n",
    "\n",
    "> Input: root = [0]  \n",
    "Output: 1"
   ]
  },
  {
   "cell_type": "code",
   "execution_count": 5,
   "metadata": {},
   "outputs": [],
   "source": [
    "class TreeNode:\n",
    "    def __init__(self, val=0, left=None, right=None):\n",
    "        self.val = val\n",
    "        self.left = left\n",
    "        self.right = right\n",
    "\n",
    "class Solution:\n",
    "    \n",
    "    # Time Complexity： O(n)\n",
    "    # Space Complexity： O(h)\n",
    "    def maxDepth_recursion(self, root: TreeNode) -> int:\n",
    "        return max(map(self.maxDepth_recursion, (root.left, root.right))) + 1 if root else 0\n",
    "    \n",
    "    # Time Complexity： O(n)\n",
    "    # Space Complexity： O(n)\n",
    "    def maxDepth_BFS(self, root: TreeNode) -> int:\n",
    "        from collections import deque\n",
    "        \n",
    "        if not root: return 0\n",
    "        \n",
    "        queue = deque([(1, root)])\n",
    "        while queue:\n",
    "            level, root = queue.popleft()\n",
    "            \n",
    "            if root: \n",
    "                queue.extend([(level+1, root.left), (level+1, root.right)])\n",
    "            \n",
    "        return level - 1\n",
    "    \n",
    "    # Time Complexity： O(n)\n",
    "    # Space Complexity： O(h)\n",
    "    def maxDepth_DFS(self, root: TreeNode) -> int:\n",
    "        if not root: return 0\n",
    "        \n",
    "        stack, maxLevel = [(1, root)], 0\n",
    "        while stack:\n",
    "            level, root = stack.pop()\n",
    "            \n",
    "            if root: \n",
    "                if not root.left and not root.right: maxLevel = max(maxLevel, level)\n",
    "                stack.extend([(level+1, root.left), (level+1, root.right)])\n",
    "            \n",
    "        return maxLevel"
   ]
  },
  {
   "cell_type": "code",
   "execution_count": 6,
   "metadata": {},
   "outputs": [
    {
     "name": "stdout",
     "output_type": "stream",
     "text": [
      "---maxDepth_recursion---\n",
      "Case 1: 3\n",
      "Case 2: 2\n",
      "Case 3: 0\n",
      "Case 4: 1\n",
      "\n",
      "---maxDepth_BFS---\n",
      "Case 1: 3\n",
      "Case 2: 2\n",
      "Case 3: 0\n",
      "Case 4: 1\n",
      "\n",
      "---maxDepth_DFS---\n",
      "Case 1: 3\n",
      "Case 2: 2\n",
      "Case 3: 0\n",
      "Case 4: 1\n"
     ]
    }
   ],
   "source": [
    "# Test on Cases\n",
    "S = Solution()\n",
    "\n",
    "print(\"---maxDepth_recursion---\")\n",
    "print(f\"Case 1: {S.maxDepth_recursion(TreeNode(3, TreeNode(9), TreeNode(20, TreeNode(15), TreeNode(17))))}\")\n",
    "print(f\"Case 2: {S.maxDepth_recursion(TreeNode(1, None, TreeNode(2)))}\")\n",
    "print(f\"Case 3: {S.maxDepth_recursion([])}\")\n",
    "print(f\"Case 4: {S.maxDepth_recursion(TreeNode(0))}\\n\")\n",
    "\n",
    "print(\"---maxDepth_BFS---\")\n",
    "print(f\"Case 1: {S.maxDepth_BFS(TreeNode(3, TreeNode(9), TreeNode(20, TreeNode(15), TreeNode(17))))}\")\n",
    "print(f\"Case 2: {S.maxDepth_BFS(TreeNode(1, None, TreeNode(2)))}\")\n",
    "print(f\"Case 3: {S.maxDepth_BFS([])}\")\n",
    "print(f\"Case 4: {S.maxDepth_BFS(TreeNode(0))}\\n\")\n",
    "\n",
    "print(\"---maxDepth_DFS---\")\n",
    "print(f\"Case 1: {S.maxDepth_DFS(TreeNode(3, TreeNode(9), TreeNode(20, TreeNode(15), TreeNode(17))))}\")\n",
    "print(f\"Case 2: {S.maxDepth_DFS(TreeNode(1, None, TreeNode(2)))}\")\n",
    "print(f\"Case 3: {S.maxDepth_DFS([])}\")\n",
    "print(f\"Case 4: {S.maxDepth_DFS(TreeNode(0))}\")"
   ]
  }
 ],
 "metadata": {
  "kernelspec": {
   "display_name": "Python 3.10.4 ('leetcode')",
   "language": "python",
   "name": "python3"
  },
  "language_info": {
   "codemirror_mode": {
    "name": "ipython",
    "version": 3
   },
   "file_extension": ".py",
   "mimetype": "text/x-python",
   "name": "python",
   "nbconvert_exporter": "python",
   "pygments_lexer": "ipython3",
   "version": "3.10.4"
  },
  "vscode": {
   "interpreter": {
    "hash": "21d8332eb27bea95342760850bd7426f517b6a483537194bbba87e10eeabf6ff"
   }
  }
 },
 "nbformat": 4,
 "nbformat_minor": 4
}
