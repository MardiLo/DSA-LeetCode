{
 "cells": [
  {
   "cell_type": "markdown",
   "source": [
    "`# Binary Tree` `# Breadth-First Search` `# Depth-first Search` `# Tree`"
   ],
   "metadata": {}
  },
  {
   "cell_type": "markdown",
   "source": [
    "Given the `root` of a binary tree, return its *maximum depth*.\n",
    "\n",
    "A binary tree's **maximum depth** is the number of nodes along the longest path from the root node down to the farthest leaf node."
   ],
   "metadata": {}
  },
  {
   "cell_type": "markdown",
   "source": [
    "**Example 1:**  \r\n",
    "![Image of leetcode 0104 problem example 1](https://assets.leetcode.com/uploads/2020/11/26/tmp-tree.jpg)\r\n",
    "> Input: root = [3,9,20,null,null,15,7]  \r\n",
    "Output: 3\r\n",
    "\r\n",
    "**Example 2:**\r\n",
    "\r\n",
    "> Input: root = [1,null,2]  \r\n",
    "Output: 2\r\n",
    "\r\n",
    "**Example 3:**\r\n",
    "\r\n",
    "> Input: root = []  \r\n",
    "Output: 0\r\n",
    "\r\n",
    "**Example 4:**\r\n",
    "\r\n",
    "> Input: root = [0]  \r\n",
    "Output: 1"
   ],
   "metadata": {}
  },
  {
   "cell_type": "code",
   "execution_count": 7,
   "source": [
    "class TreeNode:\r\n",
    "    def __init__(self, val=0, left=None, right=None):\r\n",
    "        self.val = val\r\n",
    "        self.left = left\r\n",
    "        self.right = right\r\n",
    "\r\n",
    "class Solution:\r\n",
    "    \r\n",
    "    # Time Complexity： O(n)\r\n",
    "    # Space Complexity： O(log(n)) in average; worst case O(n)\r\n",
    "    def maxDepth_recursion(self, root: 'TreeNode') -> 'int':\r\n",
    "        \"\"\"\r\n",
    "        Note that recursion perhaps causes stack overflow.\r\n",
    "        \"\"\"\r\n",
    "        if not root:\r\n",
    "            return 0\r\n",
    "        return max(self.maxDepth_recursion(root.left), self.maxDepth_recursion(root.right)) + 1\r\n",
    "    \r\n",
    "    # Time Complexity： O(n)\r\n",
    "    # Space Complexity： O(n)\r\n",
    "    def maxDepth_BFS(self, root: 'TreeNode') -> 'int':\r\n",
    "        from collections import deque\r\n",
    "        \r\n",
    "        if not root:\r\n",
    "            return 0\r\n",
    "         \r\n",
    "        queue = deque([(root, 0)])\r\n",
    "        while queue:\r\n",
    "            node, level = queue.popleft()    # TC: deque.popleft(): O(1)\r\n",
    "            \r\n",
    "            if node:\r\n",
    "                queue.append((node.left, level+1))\r\n",
    "                queue.append((node.right, level+1))\r\n",
    "                \r\n",
    "        return level\r\n",
    "    \r\n",
    "    # Time Complexity： O(n)\r\n",
    "    # Space Complexity： O(n)\r\n",
    "    def maxDepth_DFS(self, root: 'TreeNode') -> 'int':\r\n",
    "        if not root:\r\n",
    "            return 0\r\n",
    "        \r\n",
    "        max_level = 0\r\n",
    "        stack = [(root, 0)]\r\n",
    "        while stack:\r\n",
    "            node, level = stack.pop()    # TC: list.pop(0): O(n)\r\n",
    "            max_level = max(max_level, level)\r\n",
    "            \r\n",
    "            if node:\r\n",
    "                stack.append((node.left, level+1))\r\n",
    "                stack.append((node.right, level+1))\r\n",
    "                \r\n",
    "        return max_level"
   ],
   "outputs": [],
   "metadata": {}
  },
  {
   "cell_type": "code",
   "execution_count": 9,
   "source": [
    "# Test on Cases\r\n",
    "S = Solution()\r\n",
    "\r\n",
    "print(\"---maxDepth_recursion---\")\r\n",
    "print(f\"Case 1: {S.maxDepth_recursion(TreeNode(3, TreeNode(9), TreeNode(20, TreeNode(15), TreeNode(17))))}\")\r\n",
    "print(f\"Case 2: {S.maxDepth_recursion(TreeNode(1, None, TreeNode(2)))}\")\r\n",
    "print(f\"Case 3: {S.maxDepth_recursion([])}\")\r\n",
    "print(f\"Case 4: {S.maxDepth_recursion(TreeNode(0))}\\n\")\r\n",
    "\r\n",
    "print(\"---maxDepth_BFS---\")\r\n",
    "print(f\"Case 1: {S.maxDepth_BFS(TreeNode(3, TreeNode(9), TreeNode(20, TreeNode(15), TreeNode(17))))}\")\r\n",
    "print(f\"Case 2: {S.maxDepth_BFS(TreeNode(1, None, TreeNode(2)))}\")\r\n",
    "print(f\"Case 3: {S.maxDepth_BFS([])}\")\r\n",
    "print(f\"Case 4: {S.maxDepth_BFS(TreeNode(0))}\\n\")\r\n",
    "\r\n",
    "print(\"---maxDepth_DFS---\")\r\n",
    "print(f\"Case 1: {S.maxDepth_DFS(TreeNode(3, TreeNode(9), TreeNode(20, TreeNode(15), TreeNode(17))))}\")\r\n",
    "print(f\"Case 2: {S.maxDepth_DFS(TreeNode(1, None, TreeNode(2)))}\")\r\n",
    "print(f\"Case 3: {S.maxDepth_DFS([])}\")\r\n",
    "print(f\"Case 4: {S.maxDepth_DFS(TreeNode(0))}\")"
   ],
   "outputs": [
    {
     "output_type": "stream",
     "name": "stdout",
     "text": [
      "---maxDepth_recursion---\n",
      "Case 1: 3\n",
      "Case 2: 2\n",
      "Case 3: 0\n",
      "Case 4: 1\n",
      "\n",
      "---maxDepth_BFS---\n",
      "Case 1: 3\n",
      "Case 2: 2\n",
      "Case 3: 0\n",
      "Case 4: 1\n",
      "\n",
      "---maxDepth_DFS---\n",
      "Case 1: 3\n",
      "Case 2: 2\n",
      "Case 3: 0\n",
      "Case 4: 1\n"
     ]
    }
   ],
   "metadata": {}
  }
 ],
 "metadata": {
  "kernelspec": {
   "display_name": "Python 3",
   "language": "python",
   "name": "python3"
  },
  "language_info": {
   "codemirror_mode": {
    "name": "ipython",
    "version": 3
   },
   "file_extension": ".py",
   "mimetype": "text/x-python",
   "name": "python",
   "nbconvert_exporter": "python",
   "pygments_lexer": "ipython3",
   "version": "3.7.7"
  }
 },
 "nbformat": 4,
 "nbformat_minor": 4
}