{
 "cells": [
  {
   "cell_type": "markdown",
   "metadata": {},
   "source": [
    "`# Binary Tree` `# Breadth-First Search` `# Depth-first Search` `# Tree`"
   ]
  },
  {
   "cell_type": "markdown",
   "metadata": {},
   "source": [
    "Given the `root` of a binary tree, return its *maximum depth*.\n",
    "\n",
    "A binary tree's **maximum depth** is the number of nodes along the longest path from the root node down to the farthest leaf node."
   ]
  },
  {
   "cell_type": "markdown",
   "metadata": {},
   "source": [
    "**Example 1:**\n",
    "![Image of leetcode 0104 problem example 1](https://assets.leetcode.com/uploads/2020/11/26/tmp-tree.jpg)\n",
    "> Input: root = [3,9,20,null,null,15,7]  \n",
    "Output: 3\n",
    "\n",
    "**Example 2:**\n",
    "\n",
    "> Input: root = [1,null,2]  \n",
    "Output: 2\n",
    "\n",
    "**Example 3:**\n",
    "\n",
    "> Input: root = []  \n",
    "Output: 0\n",
    "\n",
    "**Example 4:**\n",
    "\n",
    "> Input: root = [0]  \n",
    "Output: 1"
   ]
  },
  {
   "cell_type": "code",
   "execution_count": 7,
   "metadata": {},
   "outputs": [],
   "source": [
    "class TreeNode:\n",
    "    def __init__(self, val=0, left=None, right=None):\n",
    "        self.val = val\n",
    "        self.left = left\n",
    "        self.right = right\n",
    "\n",
    "class Solution:\n",
    "    \n",
    "    # Time Complexity： O(n)\n",
    "    # Space Complexity： O(log(n)) in average; worst case O(n)\n",
    "    def maxDepth_recursion(self, root: 'TreeNode') -> 'int':\n",
    "        \"\"\"\n",
    "        Note that recursion perhaps causes stack overflow.\n",
    "        \"\"\"\n",
    "        if not root:\n",
    "            return 0\n",
    "        return max(self.maxDepth_recursion(root.left), self.maxDepth_recursion(root.right)) + 1\n",
    "    \n",
    "    # Time Complexity： O(n)\n",
    "    # Space Complexity： O(n)\n",
    "    def maxDepth_BFS(self, root: 'TreeNode') -> 'int':\n",
    "        from collections import deque\n",
    "        \n",
    "        if not root:\n",
    "            return 0\n",
    "         \n",
    "        queue = deque([(root, 0)])\n",
    "        while queue:\n",
    "            node, level = queue.popleft()    # TC: deque.popleft(): O(1)\n",
    "            \n",
    "            if node:\n",
    "                queue.append((node.left, level+1))\n",
    "                queue.append((node.right, level+1))\n",
    "                \n",
    "        return level\n",
    "    \n",
    "    # Time Complexity： O(n)\n",
    "    # Space Complexity： O(n)\n",
    "    def maxDepth_DFS(self, root: 'TreeNode') -> 'int':\n",
    "        if not root:\n",
    "            return 0\n",
    "        \n",
    "        max_level = 0\n",
    "        stack = [(root, 0)]\n",
    "        while stack:\n",
    "            node, level = stack.pop()    # TC: list.pop(0): O(n)\n",
    "            max_level = max(max_level, level)\n",
    "            \n",
    "            if node:\n",
    "                stack.append((node.left, level+1))\n",
    "                stack.append((node.right, level+1))\n",
    "                \n",
    "        return max_level"
   ]
  },
  {
   "cell_type": "code",
   "execution_count": 9,
   "metadata": {},
   "outputs": [
    {
     "name": "stdout",
     "output_type": "stream",
     "text": [
      "---maxDepth_recursion---\n",
      "Case 1: 3\n",
      "Case 2: 2\n",
      "Case 3: 0\n",
      "Case 4: 1\n",
      "\n",
      "---maxDepth_BFS---\n",
      "Case 1: 3\n",
      "Case 2: 2\n",
      "Case 3: 0\n",
      "Case 4: 1\n",
      "\n",
      "---maxDepth_DFS---\n",
      "Case 1: 3\n",
      "Case 2: 2\n",
      "Case 3: 0\n",
      "Case 4: 1\n"
     ]
    }
   ],
   "source": [
    "# Test on Cases\n",
    "S = Solution()\n",
    "\n",
    "print(\"---maxDepth_recursion---\")\n",
    "print(f\"Case 1: {S.maxDepth_recursion(TreeNode(3, TreeNode(9), TreeNode(20, TreeNode(15), TreeNode(17))))}\")\n",
    "print(f\"Case 2: {S.maxDepth_recursion(TreeNode(1, None, TreeNode(2)))}\")\n",
    "print(f\"Case 3: {S.maxDepth_recursion([])}\")\n",
    "print(f\"Case 4: {S.maxDepth_recursion(TreeNode(0))}\\n\")\n",
    "\n",
    "print(\"---maxDepth_BFS---\")\n",
    "print(f\"Case 1: {S.maxDepth_BFS(TreeNode(3, TreeNode(9), TreeNode(20, TreeNode(15), TreeNode(17))))}\")\n",
    "print(f\"Case 2: {S.maxDepth_BFS(TreeNode(1, None, TreeNode(2)))}\")\n",
    "print(f\"Case 3: {S.maxDepth_BFS([])}\")\n",
    "print(f\"Case 4: {S.maxDepth_BFS(TreeNode(0))}\\n\")\n",
    "\n",
    "print(\"---maxDepth_DFS---\")\n",
    "print(f\"Case 1: {S.maxDepth_DFS(TreeNode(3, TreeNode(9), TreeNode(20, TreeNode(15), TreeNode(17))))}\")\n",
    "print(f\"Case 2: {S.maxDepth_DFS(TreeNode(1, None, TreeNode(2)))}\")\n",
    "print(f\"Case 3: {S.maxDepth_DFS([])}\")\n",
    "print(f\"Case 4: {S.maxDepth_DFS(TreeNode(0))}\")"
   ]
  },
  {
   "cell_type": "code",
   "execution_count": null,
   "metadata": {},
   "outputs": [],
   "source": []
  }
 ],
 "metadata": {
  "kernelspec": {
   "display_name": "Python 3",
   "language": "python",
   "name": "python3"
  },
  "language_info": {
   "codemirror_mode": {
    "name": "ipython",
    "version": 3
   },
   "file_extension": ".py",
   "mimetype": "text/x-python",
   "name": "python",
   "nbconvert_exporter": "python",
   "pygments_lexer": "ipython3",
   "version": "3.7.7"
  }
 },
 "nbformat": 4,
 "nbformat_minor": 4
}
