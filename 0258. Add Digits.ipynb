{
 "cells": [
  {
   "cell_type": "markdown",
   "metadata": {},
   "source": [
    "`# Math` `# Number Theory` `# Simulation`"
   ]
  },
  {
   "cell_type": "markdown",
   "metadata": {},
   "source": [
    "Given an integer `num`, repeatedly add all its digits until the result has only one digit, and return it."
   ]
  },
  {
   "cell_type": "markdown",
   "metadata": {},
   "source": [
    "**Example 1:**\n",
    "\n",
    "> Input: num = 38  \n",
    "> Output: 2  \n",
    "> Explanation: The process is  \n",
    "> 38 --> 3 + 8 --> 11  \n",
    "> 11 --> 1 + 1 --> 2   \n",
    "> Since 2 has only one digit, return it.\n",
    "\n",
    "**Example 2:**\n",
    "\n",
    "> Input: num = 0  \n",
    "> Output: 0"
   ]
  },
  {
   "cell_type": "code",
   "execution_count": 1,
   "metadata": {},
   "outputs": [],
   "source": [
    "class Solution:\n",
    "\n",
    "    # Time Complexity： O(1)\n",
    "    # Space Complexity： O(1)  \n",
    "    def addDigits(self, num: int) -> int:\n",
    "        return (num % 9 or 9) if num else 0\n",
    "\n",
    "    # Time Complexity： O(n//10)\n",
    "    # Space Complexity： O(1)  \n",
    "    def addDigits_iteration(self, num: int) -> int:\n",
    "        quotient, remainder = divmod(num, 10)\n",
    "\n",
    "        while quotient:\n",
    "            quotient, remainder = divmod(quotient + remainder, 10)\n",
    "        \n",
    "        return remainder\n",
    "\n",
    "    # Time Complexity： O(n//10)\n",
    "    # Space Complexity： O(n//10)  \n",
    "    def addDigits_recursion(self, num: int) -> int:\n",
    "        quotient, remainder = divmod(num, 10)\n",
    "\n",
    "        if not quotient: return remainder\n",
    "        \n",
    "        return self.addDigits(quotient + remainder)"
   ]
  },
  {
   "cell_type": "code",
   "execution_count": 2,
   "metadata": {},
   "outputs": [
    {
     "name": "stdout",
     "output_type": "stream",
     "text": [
      "---addDigits---\n",
      "Case 1: 2\n",
      "Case 2: 0\n",
      "\n",
      "---addDigits_iteration---\n",
      "Case 1: 2\n",
      "Case 2: 0\n",
      "\n",
      "---addDigits_recursion---\n",
      "Case 1: 2\n",
      "Case 2: 0\n"
     ]
    }
   ],
   "source": [
    "# Test on Cases\n",
    "S = Solution()\n",
    "\n",
    "print(\"---addDigits---\")\n",
    "print(f\"Case 1: {S.addDigits(38)}\")\n",
    "print(f\"Case 2: {S.addDigits(0)}\\n\")\n",
    "\n",
    "print(\"---addDigits_iteration---\")\n",
    "print(f\"Case 1: {S.addDigits_iteration(38)}\")\n",
    "print(f\"Case 2: {S.addDigits_iteration(0)}\\n\")\n",
    "\n",
    "print(\"---addDigits_recursion---\")\n",
    "print(f\"Case 1: {S.addDigits_recursion(38)}\")\n",
    "print(f\"Case 2: {S.addDigits_recursion(0)}\")"
   ]
  }
 ],
 "metadata": {
  "kernelspec": {
   "display_name": "Python 3 (ipykernel)",
   "language": "python",
   "name": "python3"
  },
  "language_info": {
   "codemirror_mode": {
    "name": "ipython",
    "version": 3
   },
   "file_extension": ".py",
   "mimetype": "text/x-python",
   "name": "python",
   "nbconvert_exporter": "python",
   "pygments_lexer": "ipython3",
   "version": "3.11.9"
  },
  "vscode": {
   "interpreter": {
    "hash": "21d8332eb27bea95342760850bd7426f517b6a483537194bbba87e10eeabf6ff"
   }
  }
 },
 "nbformat": 4,
 "nbformat_minor": 4
}
