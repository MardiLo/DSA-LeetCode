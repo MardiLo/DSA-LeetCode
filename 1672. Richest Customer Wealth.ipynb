{
 "cells": [
  {
   "cell_type": "markdown",
   "metadata": {},
   "source": [
    "`# Array` `# Matrix`"
   ]
  },
  {
   "cell_type": "markdown",
   "metadata": {},
   "source": [
    "You are given an `m x n` integer grid `accounts` where `accounts[i][j]` is the amount of money the `i​​​​​​​​​`​<sup>`th`</sup>​​​​ customer has in the `j​​​​​​​​​`​<sup>`th`</sup>​ bank. Return *the ***wealth*** that the richest customer has*.\n",
    "\n",
    "A customer's **wealth** is the amount of money they have in all their bank accounts. The richest customer is the customer that has the maximum **wealth**."
   ]
  },
  {
   "cell_type": "markdown",
   "metadata": {},
   "source": [
    "**Example 1:**\n",
    "\n",
    "> Input: accounts = [[1,2,3],[3,2,1]]  \n",
    "Output: 6  \n",
    "Explanation:  \n",
    "1st customer has wealth = 1 + 2 + 3 = 6  \n",
    "2nd customer has wealth = 3 + 2 + 1 = 6  \n",
    "Both customers are considered the richest with a wealth of 6 each, so return 6.\n",
    "\n",
    "**Example 2:**\n",
    "\n",
    "> Input: accounts = [[1,5],[7,3],[3,5]]  \n",
    "Output: 10  \n",
    "Explanation:   \n",
    "1st customer has wealth = 6  \n",
    "2nd customer has wealth = 10   \n",
    "3rd customer has wealth = 8  \n",
    "The 2nd customer is the richest with a wealth of 10.\n",
    "\n",
    "**Example 3:**\n",
    "\n",
    "> Input: accounts = [[2,8,7],[7,1,3],[1,9,5]]  \n",
    "Output: 17"
   ]
  },
  {
   "cell_type": "code",
   "execution_count": 3,
   "metadata": {},
   "outputs": [],
   "source": [
    "class Solution:\n",
    "\n",
    "    # Time Complexity： O(n), where n is the length of the accounts array\n",
    "    # Space Complexity： O(n)\n",
    "    def maximumWealth(self, accounts: list[list[int]]) -> int:\n",
    "        return max(sum(account) for account in accounts)"
   ]
  },
  {
   "cell_type": "code",
   "execution_count": 4,
   "metadata": {},
   "outputs": [
    {
     "name": "stdout",
     "output_type": "stream",
     "text": [
      "Case 1: 6\n",
      "Case 2: 10\n",
      "Case 3: 17\n"
     ]
    }
   ],
   "source": [
    "# Test on Cases\n",
    "S = Solution()\n",
    "\n",
    "print(f\"Case 1: {S.maximumWealth([[1,2,3],[3,2,1]])}\")\n",
    "print(f\"Case 2: {S.maximumWealth([[1,5],[7,3],[3,5]])}\")\n",
    "print(f\"Case 3: {S.maximumWealth([[2,8,7],[7,1,3],[1,9,5]])}\")"
   ]
  }
 ],
 "metadata": {
  "kernelspec": {
   "display_name": "Python 3.10.4 ('leetcode')",
   "language": "python",
   "name": "python3"
  },
  "language_info": {
   "codemirror_mode": {
    "name": "ipython",
    "version": 3
   },
   "file_extension": ".py",
   "mimetype": "text/x-python",
   "name": "python",
   "nbconvert_exporter": "python",
   "pygments_lexer": "ipython3",
   "version": "3.10.4"
  },
  "vscode": {
   "interpreter": {
    "hash": "21d8332eb27bea95342760850bd7426f517b6a483537194bbba87e10eeabf6ff"
   }
  }
 },
 "nbformat": 4,
 "nbformat_minor": 4
}
