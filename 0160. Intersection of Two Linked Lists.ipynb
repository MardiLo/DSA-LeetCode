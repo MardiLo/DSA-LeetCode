{
 "cells": [
  {
   "cell_type": "markdown",
   "metadata": {},
   "source": [
    "`# Linked List`"
   ]
  },
  {
   "cell_type": "markdown",
   "metadata": {},
   "source": [
    "Given the heads of two singly linked-lists `headA` and `headB`, return *the node at which the two lists intersect*. If the two linked lists have no intersection at all, return `null`.\n",
    "\n",
    "For example, the following two linked lists begin to intersect at node c1:  \n",
    "\n",
    "![Image of leetcode 0160 problem](https://assets.leetcode.com/uploads/2021/03/05/160_statement.png)\n",
    "\n",
    "It is **guaranteed** that there are no cycles anywhere in the entire linked structure.\n",
    "\n",
    "Note that the linked lists must **retain their original structure** after the function returns."
   ]
  },
  {
   "cell_type": "markdown",
   "metadata": {},
   "source": [
    "**Example 1:**\n",
    "![Image of leetcode 0160 problem example 1](https://assets.leetcode.com/uploads/2021/03/05/160_example_1_1.png)\n",
    "\n",
    "> Input: intersectVal = 8, listA = [4,1,8,4,5], listB = [5,6,1,8,4,5], skipA = 2, skipB = 3  \n",
    "Output: Intersected at '8'  \n",
    "Explanation: The intersected node's value is 8 (note that this must not be 0 if the two lists intersect).\n",
    "From the head of A, it reads as [4,1,8,4,5]. From the head of B, it reads as [5,6,1,8,4,5]. There are 2 nodes before the intersected node in A; There are 3 nodes before the intersected node in B.\n",
    "\n",
    "**Example 2:**\n",
    "![Image of leetcode 0160 problem example 2](https://assets.leetcode.com/uploads/2021/03/05/160_example_2.png)\n",
    "> Input: intersectVal = 2, listA = [1,9,1,2,4], listB = [3,2,4], skipA = 3, skipB = 1  \n",
    "Output: Intersected at '2'  \n",
    "Explanation: The intersected node's value is 2 (note that this must not be 0 if the two lists intersect).\n",
    "From the head of A, it reads as [1,9,1,2,4]. From the head of B, it reads as [3,2,4]. There are 3 nodes before the intersected node in A; There are 1 node before the intersected node in B.\n",
    "\n",
    "**Example 3:**\n",
    "![Image of leetcode 0160 problem example 3](https://assets.leetcode.com/uploads/2021/03/05/160_example_3.png)\n",
    "> Input: intersectVal = 0, listA = [2,6,4], listB = [1,5], skipA = 3, skipB = 2  \n",
    "Output: No intersection  \n",
    "Explanation: From the head of A, it reads as [2,6,4]. From the head of B, it reads as [1,5]. Since the two lists do not intersect, intersectVal must be 0, while skipA and skipB can be arbitrary values.\n",
    "Explanation: The two lists do not intersect, so return null."
   ]
  },
  {
   "cell_type": "code",
   "execution_count": 1,
   "metadata": {},
   "outputs": [],
   "source": [
    "# Definition for singly-linked list.\n",
    "# class ListNode:\n",
    "#     def __init__(self, x):\n",
    "#         self.val = x\n",
    "#         self.next = None\n",
    "\n",
    "class Solution:\n",
    "    \n",
    "    # Time Complexity： O(m+n)\n",
    "    # Space Complexity： O(1)\n",
    "    def getIntersectionNode(self, headA: 'ListNode', headB: 'ListNode') -> 'ListNode':\n",
    "        curA, curB = headA, headB\n",
    "        \n",
    "        while curA != curB:\n",
    "            curA = headB if curA is None else curA.next\n",
    "            curB = headA if curB is None else curB.next\n",
    "            \n",
    "        return curA"
   ]
  },
  {
   "cell_type": "code",
   "execution_count": null,
   "metadata": {},
   "outputs": [],
   "source": []
  }
 ],
 "metadata": {
  "kernelspec": {
   "display_name": "Python 3",
   "language": "python",
   "name": "python3"
  },
  "language_info": {
   "codemirror_mode": {
    "name": "ipython",
    "version": 3
   },
   "file_extension": ".py",
   "mimetype": "text/x-python",
   "name": "python",
   "nbconvert_exporter": "python",
   "pygments_lexer": "ipython3",
   "version": "3.7.7"
  }
 },
 "nbformat": 4,
 "nbformat_minor": 4
}
