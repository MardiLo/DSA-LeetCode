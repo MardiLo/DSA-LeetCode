{
 "cells": [
  {
   "cell_type": "markdown",
   "source": [
    "`# Linked List`"
   ],
   "metadata": {}
  },
  {
   "cell_type": "markdown",
   "source": [
    "Given the heads of two singly linked-lists `headA` and `headB`, return *the node at which the two lists intersect*. If the two linked lists have no intersection at all, return `null`.\r\n",
    "\r\n",
    "For example, the following two linked lists begin to intersect at node c1:  \r\n",
    "\r\n",
    "![Image of leetcode 0160 problem](https://assets.leetcode.com/uploads/2021/03/05/160_statement.png)\r\n",
    "\r\n",
    "It is **guaranteed** that there are no cycles anywhere in the entire linked structure.\r\n",
    "\r\n",
    "Note that the linked lists must **retain their original structure** after the function returns."
   ],
   "metadata": {}
  },
  {
   "cell_type": "markdown",
   "source": [
    "**Example 1:**  \r\n",
    "![Image of leetcode 0160 problem example 1](https://assets.leetcode.com/uploads/2021/03/05/160_example_1_1.png)\r\n",
    "\r\n",
    "> Input: intersectVal = 8, listA = [4,1,8,4,5], listB = [5,6,1,8,4,5], skipA = 2, skipB = 3  \r\n",
    "Output: Intersected at '8'  \r\n",
    "Explanation: The intersected node's value is 8 (note that this must not be 0 if the two lists intersect).\r\n",
    "From the head of A, it reads as [4,1,8,4,5]. From the head of B, it reads as [5,6,1,8,4,5]. There are 2 nodes before the intersected node in A; There are 3 nodes before the intersected node in B.\r\n",
    "\r\n",
    "**Example 2:**  \r\n",
    "![Image of leetcode 0160 problem example 2](https://assets.leetcode.com/uploads/2021/03/05/160_example_2.png)\r\n",
    "> Input: intersectVal = 2, listA = [1,9,1,2,4], listB = [3,2,4], skipA = 3, skipB = 1  \r\n",
    "Output: Intersected at '2'  \r\n",
    "Explanation: The intersected node's value is 2 (note that this must not be 0 if the two lists intersect).\r\n",
    "From the head of A, it reads as [1,9,1,2,4]. From the head of B, it reads as [3,2,4]. There are 3 nodes before the intersected node in A; There are 1 node before the intersected node in B.\r\n",
    "\r\n",
    "**Example 3:**  \r\n",
    "![Image of leetcode 0160 problem example 3](https://assets.leetcode.com/uploads/2021/03/05/160_example_3.png)\r\n",
    "> Input: intersectVal = 0, listA = [2,6,4], listB = [1,5], skipA = 3, skipB = 2  \r\n",
    "Output: No intersection  \r\n",
    "Explanation: From the head of A, it reads as [2,6,4]. From the head of B, it reads as [1,5]. Since the two lists do not intersect, intersectVal must be 0, while skipA and skipB can be arbitrary values.\r\n",
    "Explanation: The two lists do not intersect, so return null."
   ],
   "metadata": {}
  },
  {
   "cell_type": "code",
   "execution_count": 1,
   "source": [
    "# Definition for singly-linked list.\r\n",
    "# class ListNode:\r\n",
    "#     def __init__(self, x):\r\n",
    "#         self.val = x\r\n",
    "#         self.next = None\r\n",
    "\r\n",
    "class Solution:\r\n",
    "    \r\n",
    "    # Time Complexity： O(m+n)\r\n",
    "    # Space Complexity： O(1)\r\n",
    "    def getIntersectionNode(self, headA: 'ListNode', headB: 'ListNode') -> 'ListNode':\r\n",
    "        curA, curB = headA, headB\r\n",
    "        \r\n",
    "        while curA != curB:\r\n",
    "            curA = headB if curA is None else curA.next\r\n",
    "            curB = headA if curB is None else curB.next\r\n",
    "            \r\n",
    "        return curA"
   ],
   "outputs": [],
   "metadata": {}
  },
  {
   "cell_type": "code",
   "execution_count": null,
   "source": [],
   "outputs": [],
   "metadata": {}
  }
 ],
 "metadata": {
  "kernelspec": {
   "display_name": "Python 3",
   "language": "python",
   "name": "python3"
  },
  "language_info": {
   "codemirror_mode": {
    "name": "ipython",
    "version": 3
   },
   "file_extension": ".py",
   "mimetype": "text/x-python",
   "name": "python",
   "nbconvert_exporter": "python",
   "pygments_lexer": "ipython3",
   "version": "3.7.7"
  }
 },
 "nbformat": 4,
 "nbformat_minor": 4
}