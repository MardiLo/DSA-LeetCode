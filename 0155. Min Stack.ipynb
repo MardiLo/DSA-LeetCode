{
 "cells": [
  {
   "cell_type": "markdown",
   "metadata": {},
   "source": [
    "`# Design` `# Stack`"
   ]
  },
  {
   "cell_type": "markdown",
   "metadata": {},
   "source": [
    "Design a **stack** that supports *push, pop, top, and retrieving the minimum element* in constant time.\n",
    "\n",
    "Implement the `MinStack` class:\n",
    "\n",
    "+ `MinStack()` initializes the stack object.\n",
    "+ `void push(int val)` pushes the element val onto the stack.\n",
    "+ `void pop()` removes the element on the top of the stack.\n",
    "+ `int top()` gets the top element of the stack.\n",
    "+ `int getMin()` retrieves the minimum element in the stack."
   ]
  },
  {
   "cell_type": "markdown",
   "metadata": {},
   "source": [
    "**Example 1:**\n",
    "\n",
    "> Input  \n",
    "[\"MinStack\",\"push\",\"push\",\"push\",\"getMin\",\"pop\",\"top\",\"getMin\"]  \n",
    "[[],[-2],[0],[-3],[],[],[],[]]  \n",
    "<br>\n",
    "Output  \n",
    "[null,null,null,null,-3,null,0,-2]  \n",
    "<br>\n",
    "Explanation  \n",
    "MinStack minStack = new MinStack();  \n",
    "minStack.push(-2);  \n",
    "minStack.push(0);  \n",
    "minStack.push(-3);  \n",
    "minStack.getMin(); // return -3  \n",
    "minStack.pop();  \n",
    "minStack.top();    // return 0  \n",
    "minStack.getMin(); // return -2"
   ]
  },
  {
   "cell_type": "code",
   "execution_count": 3,
   "metadata": {},
   "outputs": [],
   "source": [
    "class MinStack:\n",
    "\n",
    "    def __init__(self):\n",
    "        self._data = []\n",
    "\n",
    "    def push(self, val: 'int') -> 'None':\n",
    "        self._data.append(val)\n",
    "\n",
    "    def pop(self) -> 'None':\n",
    "        if len(self._data): self._data.pop()\n",
    "\n",
    "    def top(self) -> 'int':\n",
    "        if len(self._data): return self._data[-1]\n",
    "\n",
    "    def getMin(self) -> 'int':\n",
    "        if len(self._data): return min(self._data)"
   ]
  },
  {
   "cell_type": "code",
   "execution_count": 4,
   "metadata": {},
   "outputs": [
    {
     "name": "stdout",
     "output_type": "stream",
     "text": [
      "None\n",
      "None\n",
      "None\n",
      "-3\n",
      "None\n",
      "0\n",
      "-2\n"
     ]
    }
   ],
   "source": [
    "# Test on Cases\n",
    "\n",
    "minStack = MinStack()\n",
    "print(minStack.push(-2))\n",
    "print(minStack.push(0))\n",
    "print(minStack.push(-3))\n",
    "print(minStack.getMin())\n",
    "print(minStack.pop())\n",
    "print(minStack.top())\n",
    "print(minStack.getMin())"
   ]
  }
 ],
 "metadata": {
  "interpreter": {
   "hash": "6ab137a14910b4ee65d0ea442464c53c8571f8241496146388c5db8c59915964"
  },
  "kernelspec": {
   "display_name": "Python 3.7.7 64-bit ('spark': conda)",
   "name": "python3"
  },
  "language_info": {
   "codemirror_mode": {
    "name": "ipython",
    "version": 3
   },
   "file_extension": ".py",
   "mimetype": "text/x-python",
   "name": "python",
   "nbconvert_exporter": "python",
   "pygments_lexer": "ipython3",
   "version": "3.7.7"
  }
 },
 "nbformat": 4,
 "nbformat_minor": 4
}
