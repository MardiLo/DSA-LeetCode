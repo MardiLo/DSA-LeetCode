{
 "cells": [
  {
   "cell_type": "markdown",
   "source": [
    "`# Stack`"
   ],
   "metadata": {}
  },
  {
   "cell_type": "markdown",
   "source": [
    "Design a **stack** that supports *push, pop, top, and retrieving the minimum element* in constant time.\r\n",
    "\r\n",
    "Implement the `MinStack` class:\r\n",
    "\r\n",
    "+ `MinStack()` initializes the stack object.\r\n",
    "+ `void push(int val)` pushes the element val onto the stack.\r\n",
    "+ `void pop()` removes the element on the top of the stack.\r\n",
    "+ `int top()` gets the top element of the stack.\r\n",
    "+ `int getMin()` retrieves the minimum element in the stack."
   ],
   "metadata": {}
  },
  {
   "cell_type": "markdown",
   "source": [
    "**Example 1:**\n",
    "\n",
    "> Input  \n",
    "[\"MinStack\",\"push\",\"push\",\"push\",\"getMin\",\"pop\",\"top\",\"getMin\"]  \n",
    "[[],[-2],[0],[-3],[],[],[],[]]  \n",
    "<br>\n",
    "Output  \n",
    "[null,null,null,null,-3,null,0,-2]  \n",
    "<br>\n",
    "Explanation  \n",
    "MinStack minStack = new MinStack();  \n",
    "minStack.push(-2);  \n",
    "minStack.push(0);  \n",
    "minStack.push(-3);  \n",
    "minStack.getMin(); // return -3  \n",
    "minStack.pop();  \n",
    "minStack.top();    // return 0  \n",
    "minStack.getMin(); // return -2"
   ],
   "metadata": {}
  },
  {
   "cell_type": "code",
   "execution_count": 3,
   "source": [
    "class MinStack:\r\n",
    "\r\n",
    "    def __init__(self):\r\n",
    "        self._data = []\r\n",
    "\r\n",
    "    def push(self, val: 'int') -> 'None':\r\n",
    "        self._data.append(val)\r\n",
    "\r\n",
    "    def pop(self) -> 'None':\r\n",
    "        if len(self._data): self._data.pop()\r\n",
    "\r\n",
    "    def top(self) -> 'int':\r\n",
    "        if len(self._data): return self._data[-1]\r\n",
    "\r\n",
    "    def getMin(self) -> 'int':\r\n",
    "        if len(self._data): return min(self._data)"
   ],
   "outputs": [],
   "metadata": {}
  },
  {
   "cell_type": "code",
   "execution_count": 4,
   "source": [
    "# Test on Cases\r\n",
    "\r\n",
    "minStack = MinStack()\r\n",
    "print(minStack.push(-2))\r\n",
    "print(minStack.push(0))\r\n",
    "print(minStack.push(-3))\r\n",
    "print(minStack.getMin())\r\n",
    "print(minStack.pop())\r\n",
    "print(minStack.top())\r\n",
    "print(minStack.getMin())"
   ],
   "outputs": [
    {
     "output_type": "stream",
     "name": "stdout",
     "text": [
      "None\n",
      "None\n",
      "None\n",
      "-3\n",
      "None\n",
      "0\n",
      "-2\n"
     ]
    }
   ],
   "metadata": {}
  }
 ],
 "metadata": {
  "kernelspec": {
   "name": "python3",
   "display_name": "Python 3.7.7 64-bit ('spark': conda)"
  },
  "language_info": {
   "codemirror_mode": {
    "name": "ipython",
    "version": 3
   },
   "file_extension": ".py",
   "mimetype": "text/x-python",
   "name": "python",
   "nbconvert_exporter": "python",
   "pygments_lexer": "ipython3",
   "version": "3.7.7"
  },
  "interpreter": {
   "hash": "6ab137a14910b4ee65d0ea442464c53c8571f8241496146388c5db8c59915964"
  }
 },
 "nbformat": 4,
 "nbformat_minor": 4
}