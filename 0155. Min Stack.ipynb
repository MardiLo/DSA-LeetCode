{
 "cells": [
  {
   "cell_type": "markdown",
   "metadata": {},
   "source": [
    "`# Design` `# Stack`"
   ]
  },
  {
   "cell_type": "markdown",
   "metadata": {},
   "source": [
    "Design a **stack** that supports *push, pop, top, and retrieving the minimum element* in constant time.\n",
    "\n",
    "Implement the `MinStack` class:\n",
    "\n",
    "+ `MinStack()` initializes the stack object.\n",
    "+ `void push(int val)` pushes the element val onto the stack.\n",
    "+ `void pop()` removes the element on the top of the stack.\n",
    "+ `int top()` gets the top element of the stack.\n",
    "+ `int getMin()` retrieves the minimum element in the stack.\n",
    "\n",
    "You must implement a solution with `O(1)` time complexity for each function."
   ]
  },
  {
   "cell_type": "markdown",
   "metadata": {},
   "source": [
    "**Example 1:**\n",
    "\n",
    "> Input  \n",
    "> [\"MinStack\",\"push\",\"push\",\"push\",\"getMin\",\"pop\",\"top\",\"getMin\"]  \n",
    "> [[],[-2],[0],[-3],[],[],[],[]]  \n",
    "> Output  \n",
    "> [null,null,null,null,-3,null,0,-2]  \n",
    "> \n",
    "> Explanation  \n",
    "> MinStack minStack = new MinStack();  \n",
    "> minStack.push(-2);  \n",
    "> minStack.push(0);  \n",
    "> minStack.push(-3);  \n",
    "> minStack.getMin(); // return -3  \n",
    "> minStack.pop();  \n",
    "> minStack.top();    // return 0  \n",
    "> minStack.getMin(); // return -2"
   ]
  },
  {
   "cell_type": "code",
   "execution_count": 1,
   "metadata": {},
   "outputs": [],
   "source": [
    "# Time Complexity: O(1)\n",
    "# Space Complexity: O(2n), where n is the number of inputs\n",
    "class MinStack:\n",
    "\n",
    "    def __init__(self):\n",
    "        self._data = []\n",
    "\n",
    "    def push(self, val: int) -> None:\n",
    "        if not self._data: self._data.append((val, val))\n",
    "        else: self._data.append((val, min(val, self._data[-1][1])))\n",
    "\n",
    "    def pop(self) -> None:\n",
    "        if self._data: self._data.pop()\n",
    "\n",
    "    def top(self) -> int:\n",
    "        return self._data[-1][0] if self._data else None\n",
    "\n",
    "    def getMin(self) -> int:\n",
    "        return self._data[-1][1] if self._data else None"
   ]
  },
  {
   "cell_type": "code",
   "execution_count": 2,
   "metadata": {},
   "outputs": [
    {
     "name": "stdout",
     "output_type": "stream",
     "text": [
      "None\n",
      "None\n",
      "None\n",
      "-3\n",
      "None\n",
      "0\n",
      "-2\n"
     ]
    }
   ],
   "source": [
    "# Test on Cases\n",
    "minStack = MinStack()\n",
    "\n",
    "print(minStack.push(-2))\n",
    "print(minStack.push(0))\n",
    "print(minStack.push(-3))\n",
    "print(minStack.getMin())\n",
    "print(minStack.pop())\n",
    "print(minStack.top())\n",
    "print(minStack.getMin())"
   ]
  }
 ],
 "metadata": {
  "kernelspec": {
   "display_name": "Python 3 (ipykernel)",
   "language": "python",
   "name": "python3"
  },
  "language_info": {
   "codemirror_mode": {
    "name": "ipython",
    "version": 3
   },
   "file_extension": ".py",
   "mimetype": "text/x-python",
   "name": "python",
   "nbconvert_exporter": "python",
   "pygments_lexer": "ipython3",
   "version": "3.10.4"
  },
  "vscode": {
   "interpreter": {
    "hash": "21d8332eb27bea95342760850bd7426f517b6a483537194bbba87e10eeabf6ff"
   }
  }
 },
 "nbformat": 4,
 "nbformat_minor": 4
}
