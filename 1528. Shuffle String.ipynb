{
 "cells": [
  {
   "cell_type": "markdown",
   "metadata": {},
   "source": [
    "`# Array` `# String`"
   ]
  },
  {
   "cell_type": "markdown",
   "metadata": {},
   "source": [
    "You are given a string `s` and an integer array `indices` of the **same length**. The string `s` will be shuffled such that the character at the `i`<sup>`th`</sup> position moves to `indices[i]` in the shuffled string.\n",
    "\n",
    "Return *the shuffled string*."
   ]
  },
  {
   "cell_type": "markdown",
   "metadata": {},
   "source": [
    "**Example 1:**  \n",
    "![Image of leetcode 1528 problem example 1](https://assets.leetcode.com/uploads/2020/07/09/q1.jpg)\n",
    "> Input: s = \"codeleet\", indices = [4,5,6,7,0,2,1,3]  \n",
    "> Output: \"leetcode\"  \n",
    "> Explanation: As shown, \"codeleet\" becomes \"leetcode\" after shuffling.\n",
    "\n",
    "**Example 2:**\n",
    "\n",
    "> Input: s = \"abc\", indices = [0,1,2]  \n",
    "> Output: \"abc\"  \n",
    "> Explanation: After shuffling, each character remains in its position. "
   ]
  },
  {
   "cell_type": "code",
   "execution_count": 9,
   "metadata": {},
   "outputs": [],
   "source": [
    "class Solution:\n",
    "    \n",
    "    # Time Complexity： O(n)\n",
    "    # Space Complexity： O(n)    \n",
    "    def restoreString(self, s: str, indices: list[int]) -> str:\n",
    "        bucket = [''] * len(indices)\n",
    "\n",
    "        for i, index in enumerate(indices):\n",
    "            bucket[index] = s[i]\n",
    "            \n",
    "        return ''.join(bucket)\n",
    "\n",
    "    # Time Complexity： O(nlogn)\n",
    "    # Space Complexity： O(n)    \n",
    "    def restoreString_sorting(self, s: str, indices: list[int]) -> str:\n",
    "        return ''.join(tp[1] for tp in sorted([(i, c) for c, i in zip(s, indices)]))"
   ]
  },
  {
   "cell_type": "code",
   "execution_count": 10,
   "metadata": {},
   "outputs": [
    {
     "name": "stdout",
     "output_type": "stream",
     "text": [
      "---restoreString---\n",
      "Case 1: leetcode\n",
      "Case 2: abc\n",
      "\n",
      "---restoreString_sorting---\n",
      "Case 1: leetcode\n",
      "Case 2: abc\n"
     ]
    }
   ],
   "source": [
    "# Test on Cases\n",
    "S = Solution()\n",
    "\n",
    "print(\"---restoreString---\")\n",
    "print(f\"Case 1: {S.restoreString('codeleet', [4,5,6,7,0,2,1,3])}\")\n",
    "print(f\"Case 2: {S.restoreString('abc', [0,1,2])}\\n\")\n",
    "\n",
    "print(\"---restoreString_sorting---\")\n",
    "print(f\"Case 1: {S.restoreString_sorting('codeleet', [4,5,6,7,0,2,1,3])}\")\n",
    "print(f\"Case 2: {S.restoreString_sorting('abc', [0,1,2])}\")"
   ]
  }
 ],
 "metadata": {
  "kernelspec": {
   "display_name": "Python 3 (ipykernel)",
   "language": "python",
   "name": "python3"
  },
  "language_info": {
   "codemirror_mode": {
    "name": "ipython",
    "version": 3
   },
   "file_extension": ".py",
   "mimetype": "text/x-python",
   "name": "python",
   "nbconvert_exporter": "python",
   "pygments_lexer": "ipython3",
   "version": "3.10.4"
  },
  "vscode": {
   "interpreter": {
    "hash": "21d8332eb27bea95342760850bd7426f517b6a483537194bbba87e10eeabf6ff"
   }
  }
 },
 "nbformat": 4,
 "nbformat_minor": 4
}
