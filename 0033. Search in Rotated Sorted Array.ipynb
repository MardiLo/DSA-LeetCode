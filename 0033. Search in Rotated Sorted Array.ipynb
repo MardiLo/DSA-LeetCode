{
 "cells": [
  {
   "cell_type": "markdown",
   "metadata": {},
   "source": [
    "`# Array` `# Binary Search`"
   ]
  },
  {
   "cell_type": "markdown",
   "metadata": {},
   "source": [
    "There is an integer array `nums` sorted in ascending order (with **distinct** values).\n",
    "\n",
    "Prior to being passed to your function, nums is rotated at an unknown pivot index *k (0 <= k < nums.length)* such that the resulting array is *[nums[k], nums[k+1], ..., nums[n-1], nums[0], nums[1], ..., nums[k-1]] (0-indexed)*. For example, [0,1,2,4,5,6,7] might be rotated at pivot index 3 and become [4,5,6,7,0,1,2].\n",
    "\n",
    "Given the array `nums` after the rotation and an integer target, return the index of target if it is in `nums`, or `-1` if it is not in `nums`."
   ]
  },
  {
   "cell_type": "markdown",
   "metadata": {},
   "source": [
    "**Example 1:**\n",
    "\n",
    "> Input: nums = [4,5,6,7,0,1,2], target = 0  \n",
    "> Output: 4\n",
    "\n",
    "**Example 2:**\n",
    "\n",
    "> Input: nums = [4,5,6,7,0,1,2], target = 3  \n",
    "> Output: -1\n",
    "\n",
    "**Example 3:**\n",
    "\n",
    "> Input: nums = [1], target = 0  \n",
    "> Output: -1"
   ]
  },
  {
   "cell_type": "code",
   "execution_count": 3,
   "metadata": {},
   "outputs": [],
   "source": [
    "class Solution:\n",
    "    \n",
    "    # Time Complexity： O(logn)\n",
    "    # Space Complexity： O(1)\n",
    "    def search(self, nums: list[int], target: int) -> int:\n",
    "        l, r = 0, len(nums)-1\n",
    "        \n",
    "        while l <= r:\n",
    "            if nums[(m := (l+r) // 2)] == target: \n",
    "                return m\n",
    "            elif nums[l] <= nums[m]:                           # indicates non-rotated array\n",
    "                if nums[l] <= target <= nums[m]: r = m - 1     # check for target in ascending sub-array\n",
    "                else: l = m + 1\n",
    "            else:                                              # indicates rotated array\n",
    "                if nums[r] >= target >= nums[m]: l = m + 1     # check for target in ascending sub-array\n",
    "                else: r = m - 1\n",
    "                    \n",
    "        return -1"
   ]
  },
  {
   "cell_type": "code",
   "execution_count": 4,
   "metadata": {},
   "outputs": [
    {
     "name": "stdout",
     "output_type": "stream",
     "text": [
      "Case 1: 4\n",
      "Case 2: -1\n",
      "Case 3: -1\n"
     ]
    }
   ],
   "source": [
    "# Test on Cases\n",
    "S = Solution()\n",
    "\n",
    "print(f\"Case 1: {S.search([4,5,6,7,0,1,2], 0)}\")\n",
    "print(f\"Case 2: {S.search([4,5,6,7,0,1,2], 3)}\")\n",
    "print(f\"Case 3: {S.search([1], 0)}\")"
   ]
  }
 ],
 "metadata": {
  "kernelspec": {
   "display_name": "leetcode",
   "language": "python",
   "name": "python3"
  },
  "language_info": {
   "codemirror_mode": {
    "name": "ipython",
    "version": 3
   },
   "file_extension": ".py",
   "mimetype": "text/x-python",
   "name": "python",
   "nbconvert_exporter": "python",
   "pygments_lexer": "ipython3",
   "version": "3.10.4"
  }
 },
 "nbformat": 4,
 "nbformat_minor": 4
}
