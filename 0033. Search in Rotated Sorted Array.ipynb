{
 "cells": [
  {
   "cell_type": "markdown",
   "source": [
    "`# Array` `# Binary Search`"
   ],
   "metadata": {}
  },
  {
   "cell_type": "markdown",
   "source": [
    "There is an integer array `nums` sorted in ascending order (with **distinct** values).\n",
    "\n",
    "Prior to being passed to your function, nums is rotated at an unknown pivot index *k (0 <= k < nums.length)* such that the resulting array is *[nums[k], nums[k+1], ..., nums[n-1], nums[0], nums[1], ..., nums[k-1]] (0-indexed)*. For example, [0,1,2,4,5,6,7] might be rotated at pivot index 3 and become [4,5,6,7,0,1,2].\n",
    "\n",
    "Given the array `nums` after the rotation and an integer target, return the index of target if it is in `nums`, or `-1` if it is not in `nums`."
   ],
   "metadata": {}
  },
  {
   "cell_type": "markdown",
   "source": [
    "**Example 1:**\n",
    "\n",
    "> Input: nums = [4,5,6,7,0,1,2], target = 0  \n",
    "Output: 4\n",
    "\n",
    "**Example 2:**\n",
    "\n",
    "> Input: nums = [4,5,6,7,0,1,2], target = 3  \n",
    "Output: -1\n",
    "\n",
    "**Example 3:**\n",
    "\n",
    "> Input: nums = [1], target = 0  \n",
    "Output: -1"
   ],
   "metadata": {}
  },
  {
   "cell_type": "code",
   "execution_count": 1,
   "source": [
    "class Solution:\r\n",
    "    \r\n",
    "    # Time Complexity： O(logn)\r\n",
    "    # Space Complexity： O(1)\r\n",
    "    def search(self, nums: 'List[int]', target: 'int') -> 'int':\r\n",
    "        l, r = 0, len(nums) - 1\r\n",
    "        \r\n",
    "        while l <= r:\r\n",
    "            mid = (l + r) // 2\r\n",
    "            \r\n",
    "            if nums[mid] == target:\r\n",
    "                return mid\r\n",
    "            \r\n",
    "            if nums[l] <= nums[mid]:\r\n",
    "                if nums[l] <= target <= nums[mid]:\r\n",
    "                    r = mid - 1\r\n",
    "                else:\r\n",
    "                    l = mid + 1\r\n",
    "            else:\r\n",
    "                if nums[mid] <= target <= nums[r]:\r\n",
    "                    l = mid + 1\r\n",
    "                else:\r\n",
    "                    r = mid - 1\r\n",
    "                    \r\n",
    "        return -1\r\n",
    "        "
   ],
   "outputs": [],
   "metadata": {}
  },
  {
   "cell_type": "code",
   "execution_count": 2,
   "source": [
    "# Test on Cases\r\n",
    "S = Solution()\r\n",
    "\r\n",
    "print(f\"Case 1: {S.search([4,5,6,7,0,1,2], 0)}\")\r\n",
    "print(f\"Case 2: {S.search([4,5,6,7,0,1,2], 3)}\")\r\n",
    "print(f\"Case 3: {S.search([1], 0)}\")"
   ],
   "outputs": [
    {
     "output_type": "stream",
     "name": "stdout",
     "text": [
      "Case 1: 4\n",
      "Case 2: -1\n",
      "Case 3: -1\n"
     ]
    }
   ],
   "metadata": {}
  }
 ],
 "metadata": {
  "kernelspec": {
   "display_name": "Python 3",
   "language": "python",
   "name": "python3"
  },
  "language_info": {
   "codemirror_mode": {
    "name": "ipython",
    "version": 3
   },
   "file_extension": ".py",
   "mimetype": "text/x-python",
   "name": "python",
   "nbconvert_exporter": "python",
   "pygments_lexer": "ipython3",
   "version": "3.7.7"
  }
 },
 "nbformat": 4,
 "nbformat_minor": 4
}