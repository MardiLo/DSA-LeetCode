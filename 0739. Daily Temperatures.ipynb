{
 "cells": [
  {
   "cell_type": "markdown",
   "metadata": {},
   "source": [
    "`# Array` `# Monotonic Stack` `# Stack`"
   ]
  },
  {
   "cell_type": "markdown",
   "metadata": {},
   "source": [
    "Given an array of integers `temperatures` represents the daily temperatures, return *an array* `answer` *such that* `answer[i]` *is the number of days you have to wait after the i<sup>th</sup> day to get a warmer temperature*. If there is no future day for which this is possible, keep `answer[i] == 0` instead."
   ]
  },
  {
   "cell_type": "markdown",
   "metadata": {},
   "source": [
    "**Example 1:**\n",
    "\n",
    "> Input: temperatures = [73,74,75,71,69,72,76,73]  \n",
    "Output: [1,1,4,2,1,1,0,0]  \n",
    "\n",
    "**Example 2:**\n",
    "\n",
    "> Input: temperatures = [30,40,50,60]  \n",
    "Output: [1,1,1,0]  \n",
    "\n",
    "**Example 2:**\n",
    "\n",
    "> Input: temperatures = [30,60,90]  \n",
    "Output: [1,1,0]  "
   ]
  },
  {
   "cell_type": "code",
   "execution_count": 1,
   "metadata": {},
   "outputs": [],
   "source": [
    "class Solution:\n",
    "    \n",
    "    # Time Complexity： O(n)\n",
    "    # Space Complexity： O(n)    \n",
    "    def dailyTemperatures(self, temperatures: list[int]) -> list[int]:\n",
    "        res, stack = [0] * len(temperatures), []\n",
    "\n",
    "        for currDay, currTemp in enumerate(temperatures):\n",
    "            while stack and temperatures[stack[-1]] < currTemp:     # remember put stack in front or it will cause error\n",
    "                res[prevDay] = currDay - (prevDay := stack.pop())\n",
    "                \n",
    "            stack.append(currDay)\n",
    "\n",
    "        return res"
   ]
  },
  {
   "cell_type": "code",
   "execution_count": 2,
   "metadata": {},
   "outputs": [
    {
     "name": "stdout",
     "output_type": "stream",
     "text": [
      "Case 1: [1, 1, 4, 2, 1, 1, 0, 0]\n",
      "Case 2: [1, 1, 1, 0]\n",
      "Case 3: [1, 1, 0]\n"
     ]
    }
   ],
   "source": [
    "# Test on Cases\n",
    "S = Solution()\n",
    "\n",
    "print(f\"Case 1: {S.dailyTemperatures([73,74,75,71,69,72,76,73])}\")\n",
    "print(f\"Case 2: {S.dailyTemperatures([30,40,50,60])}\")\n",
    "print(f\"Case 3: {S.dailyTemperatures([30,60,90])}\")"
   ]
  },
  {
   "cell_type": "markdown",
   "metadata": {},
   "source": [
    "**Ref**\n",
    "1. [Elegant Python Solution with Stack](https://leetcode.com/problems/daily-temperatures/discuss/136017/Elegant-Python-Solution-with-Stack)"
   ]
  }
 ],
 "metadata": {
  "kernelspec": {
   "display_name": "Python 3.10.4 ('leetcode')",
   "language": "python",
   "name": "python3"
  },
  "language_info": {
   "codemirror_mode": {
    "name": "ipython",
    "version": 3
   },
   "file_extension": ".py",
   "mimetype": "text/x-python",
   "name": "python",
   "nbconvert_exporter": "python",
   "pygments_lexer": "ipython3",
   "version": "3.10.4"
  },
  "vscode": {
   "interpreter": {
    "hash": "21d8332eb27bea95342760850bd7426f517b6a483537194bbba87e10eeabf6ff"
   }
  }
 },
 "nbformat": 4,
 "nbformat_minor": 4
}
