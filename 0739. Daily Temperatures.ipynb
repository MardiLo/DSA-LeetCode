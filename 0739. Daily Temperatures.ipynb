{
 "cells": [
  {
   "cell_type": "markdown",
   "metadata": {},
   "source": [
    "`# Array` `# Monotonic Stack` `# Stack`"
   ]
  },
  {
   "cell_type": "markdown",
   "metadata": {},
   "source": [
    "Given an array of integers `temperatures` represents the daily temperatures, return *an array* `answer` *such that* `answer[i]` *is the number of days you have to wait after the i<sup>th</sup> day to get a warmer temperature*. If there is no future day for which this is possible, keep `answer[i] == 0` instead."
   ]
  },
  {
   "attachments": {},
   "cell_type": "markdown",
   "metadata": {},
   "source": [
    "**Example 1:**\n",
    "\n",
    "> Input: temperatures = [73,74,75,71,69,72,76,73]  \n",
    "> Output: [1,1,4,2,1,1,0,0]  \n",
    "\n",
    "**Example 2:**\n",
    "\n",
    "> Input: temperatures = [30,40,50,60]  \n",
    "> Output: [1,1,1,0]  \n",
    "\n",
    "**Example 3:**\n",
    "\n",
    "> Input: temperatures = [30,60,90]  \n",
    "> Output: [1,1,0]  "
   ]
  },
  {
   "cell_type": "code",
   "execution_count": 1,
   "metadata": {},
   "outputs": [],
   "source": [
    "class Solution:\n",
    "    \n",
    "    # Time Complexity： O(n)\n",
    "    # Space Complexity： O(n)    \n",
    "    def dailyTemperatures(self, temperatures: list[int]) -> list[int]:\n",
    "        res, stack = [0] * len(temperatures), []\n",
    "\n",
    "        for currDay, currTemp in enumerate(temperatures):\n",
    "            while stack and temperatures[stack[-1]] < currTemp:     # remember put stack in front or it will cause error\n",
    "                res[prevDay] = currDay - (prevDay := stack.pop())\n",
    "                \n",
    "            stack.append(currDay)\n",
    "\n",
    "        return res"
   ]
  },
  {
   "cell_type": "code",
   "execution_count": 2,
   "metadata": {},
   "outputs": [
    {
     "ename": "TypeError",
     "evalue": "'int' object is not subscriptable",
     "output_type": "error",
     "traceback": [
      "\u001b[1;31m---------------------------------------------------------------------------\u001b[0m",
      "\u001b[1;31mTypeError\u001b[0m                                 Traceback (most recent call last)",
      "\u001b[1;32me:\\Computer language\\Data Structures & Algorithms\\LeetCode\\0739. Daily Temperatures.ipynb Cell 5\u001b[0m in \u001b[0;36m<cell line: 4>\u001b[1;34m()\u001b[0m\n\u001b[0;32m      <a href='vscode-notebook-cell:/e%3A/Computer%20language/Data%20Structures%20%26%20Algorithms/LeetCode/0739.%20Daily%20Temperatures.ipynb#W4sZmlsZQ%3D%3D?line=0'>1</a>\u001b[0m \u001b[39m# Test on Cases\u001b[39;00m\n\u001b[0;32m      <a href='vscode-notebook-cell:/e%3A/Computer%20language/Data%20Structures%20%26%20Algorithms/LeetCode/0739.%20Daily%20Temperatures.ipynb#W4sZmlsZQ%3D%3D?line=1'>2</a>\u001b[0m S \u001b[39m=\u001b[39m Solution()\n\u001b[1;32m----> <a href='vscode-notebook-cell:/e%3A/Computer%20language/Data%20Structures%20%26%20Algorithms/LeetCode/0739.%20Daily%20Temperatures.ipynb#W4sZmlsZQ%3D%3D?line=3'>4</a>\u001b[0m \u001b[39mprint\u001b[39m(\u001b[39mf\u001b[39m\u001b[39m\"\u001b[39m\u001b[39mCase 1: \u001b[39m\u001b[39m{\u001b[39;00mS\u001b[39m.\u001b[39mdailyTemperatures([\u001b[39m73\u001b[39m,\u001b[39m74\u001b[39m,\u001b[39m75\u001b[39m,\u001b[39m71\u001b[39m,\u001b[39m69\u001b[39m,\u001b[39m72\u001b[39m,\u001b[39m76\u001b[39m,\u001b[39m73\u001b[39m])\u001b[39m}\u001b[39;00m\u001b[39m\"\u001b[39m)\n\u001b[0;32m      <a href='vscode-notebook-cell:/e%3A/Computer%20language/Data%20Structures%20%26%20Algorithms/LeetCode/0739.%20Daily%20Temperatures.ipynb#W4sZmlsZQ%3D%3D?line=4'>5</a>\u001b[0m \u001b[39mprint\u001b[39m(\u001b[39mf\u001b[39m\u001b[39m\"\u001b[39m\u001b[39mCase 2: \u001b[39m\u001b[39m{\u001b[39;00mS\u001b[39m.\u001b[39mdailyTemperatures([\u001b[39m30\u001b[39m,\u001b[39m40\u001b[39m,\u001b[39m50\u001b[39m,\u001b[39m60\u001b[39m])\u001b[39m}\u001b[39;00m\u001b[39m\"\u001b[39m)\n\u001b[0;32m      <a href='vscode-notebook-cell:/e%3A/Computer%20language/Data%20Structures%20%26%20Algorithms/LeetCode/0739.%20Daily%20Temperatures.ipynb#W4sZmlsZQ%3D%3D?line=5'>6</a>\u001b[0m \u001b[39mprint\u001b[39m(\u001b[39mf\u001b[39m\u001b[39m\"\u001b[39m\u001b[39mCase 3: \u001b[39m\u001b[39m{\u001b[39;00mS\u001b[39m.\u001b[39mdailyTemperatures([\u001b[39m30\u001b[39m,\u001b[39m60\u001b[39m,\u001b[39m90\u001b[39m])\u001b[39m}\u001b[39;00m\u001b[39m\"\u001b[39m)\n",
      "\u001b[1;32me:\\Computer language\\Data Structures & Algorithms\\LeetCode\\0739. Daily Temperatures.ipynb Cell 5\u001b[0m in \u001b[0;36mSolution.dailyTemperatures\u001b[1;34m(self, temperatures)\u001b[0m\n\u001b[0;32m      <a href='vscode-notebook-cell:/e%3A/Computer%20language/Data%20Structures%20%26%20Algorithms/LeetCode/0739.%20Daily%20Temperatures.ipynb#W4sZmlsZQ%3D%3D?line=5'>6</a>\u001b[0m res, stack \u001b[39m=\u001b[39m [\u001b[39m0\u001b[39m] \u001b[39m*\u001b[39m \u001b[39mlen\u001b[39m(temperatures), []\n\u001b[0;32m      <a href='vscode-notebook-cell:/e%3A/Computer%20language/Data%20Structures%20%26%20Algorithms/LeetCode/0739.%20Daily%20Temperatures.ipynb#W4sZmlsZQ%3D%3D?line=7'>8</a>\u001b[0m \u001b[39mfor\u001b[39;00m currDay, currTemp \u001b[39min\u001b[39;00m \u001b[39menumerate\u001b[39m(temperatures):\n\u001b[1;32m----> <a href='vscode-notebook-cell:/e%3A/Computer%20language/Data%20Structures%20%26%20Algorithms/LeetCode/0739.%20Daily%20Temperatures.ipynb#W4sZmlsZQ%3D%3D?line=8'>9</a>\u001b[0m     \u001b[39mwhile\u001b[39;00m stack \u001b[39mand\u001b[39;00m stack[\u001b[39m-\u001b[39;49m\u001b[39m1\u001b[39;49m][\u001b[39m1\u001b[39;49m] \u001b[39m<\u001b[39m currTemp:     \u001b[39m# remember put stack in front or it will cause error\u001b[39;00m\n\u001b[0;32m     <a href='vscode-notebook-cell:/e%3A/Computer%20language/Data%20Structures%20%26%20Algorithms/LeetCode/0739.%20Daily%20Temperatures.ipynb#W4sZmlsZQ%3D%3D?line=9'>10</a>\u001b[0m         res[prevDay] \u001b[39m=\u001b[39m currDay \u001b[39m-\u001b[39m (prevDay \u001b[39m:=\u001b[39m stack\u001b[39m.\u001b[39mpop())\n\u001b[0;32m     <a href='vscode-notebook-cell:/e%3A/Computer%20language/Data%20Structures%20%26%20Algorithms/LeetCode/0739.%20Daily%20Temperatures.ipynb#W4sZmlsZQ%3D%3D?line=11'>12</a>\u001b[0m     stack\u001b[39m.\u001b[39mappend(currDay)\n",
      "\u001b[1;31mTypeError\u001b[0m: 'int' object is not subscriptable"
     ]
    }
   ],
   "source": [
    "# Test on Cases\n",
    "S = Solution()\n",
    "\n",
    "print(f\"Case 1: {S.dailyTemperatures([73,74,75,71,69,72,76,73])}\")\n",
    "print(f\"Case 2: {S.dailyTemperatures([30,40,50,60])}\")\n",
    "print(f\"Case 3: {S.dailyTemperatures([30,60,90])}\")"
   ]
  },
  {
   "cell_type": "markdown",
   "metadata": {},
   "source": [
    "**Ref**\n",
    "1. [Elegant Python Solution with Stack](https://leetcode.com/problems/daily-temperatures/discuss/136017/Elegant-Python-Solution-with-Stack)"
   ]
  }
 ],
 "metadata": {
  "kernelspec": {
   "display_name": "Python 3 (ipykernel)",
   "language": "python",
   "name": "python3"
  },
  "language_info": {
   "codemirror_mode": {
    "name": "ipython",
    "version": 3
   },
   "file_extension": ".py",
   "mimetype": "text/x-python",
   "name": "python",
   "nbconvert_exporter": "python",
   "pygments_lexer": "ipython3",
   "version": "3.10.4"
  },
  "vscode": {
   "interpreter": {
    "hash": "21d8332eb27bea95342760850bd7426f517b6a483537194bbba87e10eeabf6ff"
   }
  }
 },
 "nbformat": 4,
 "nbformat_minor": 4
}
