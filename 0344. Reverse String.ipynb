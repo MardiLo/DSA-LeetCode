{
 "cells": [
  {
   "cell_type": "markdown",
   "source": [
    "`# String` `# Two Pointers`"
   ],
   "metadata": {}
  },
  {
   "cell_type": "markdown",
   "source": [
    "Write a function that reverses a string. The input string is given as an array of characters `char[]`.\n",
    "\n",
    "Do not allocate extra space for another array, you must do this by **modifying the input array in-place** with `O(1)` extra memory.\n",
    "\n",
    "You may assume all the characters consist of printable ascii characters."
   ],
   "metadata": {}
  },
  {
   "cell_type": "markdown",
   "source": [
    "**Example 1:**\n",
    "\n",
    "> Input: [\"h\",\"e\",\"l\",\"l\",\"o\"]  \n",
    "Output: [\"o\",\"l\",\"l\",\"e\",\"h\"]\n",
    "\n",
    "**Example 2:**\n",
    "\n",
    "> Input: [\"H\",\"a\",\"n\",\"n\",\"a\",\"h\"]  \n",
    "Output: [\"h\",\"a\",\"n\",\"n\",\"a\",\"H\"]"
   ],
   "metadata": {}
  },
  {
   "cell_type": "code",
   "execution_count": 4,
   "source": [
    "class Solution:\r\n",
    "    \r\n",
    "    # Time Complexity： O(n)\r\n",
    "    # Space Complexity： O(1)  \r\n",
    "    def reverseString(self, s: 'List[str]') -> 'None':\r\n",
    "        \"\"\"\r\n",
    "        Do not return anything, modify s in-place instead.\r\n",
    "        \"\"\"   \r\n",
    "        for i in range(len(s)//2):\r\n",
    "            s[i], s[~i] = s[~i], s[i]\r\n",
    "            \r\n",
    "        return s"
   ],
   "outputs": [],
   "metadata": {}
  },
  {
   "cell_type": "code",
   "execution_count": 5,
   "source": [
    "# Test on Cases\r\n",
    "S = Solution()\r\n",
    "\r\n",
    "print(f\"Case 1: {S.reverseString(['h','e','l','l','o'])}\")\r\n",
    "print(f\"Case 2: {S.reverseString(['H','a','n','n','a','h'])}\")"
   ],
   "outputs": [
    {
     "output_type": "stream",
     "name": "stdout",
     "text": [
      "Case 1: ['o', 'l', 'l', 'e', 'h']\n",
      "Case 2: ['h', 'a', 'n', 'n', 'a', 'H']\n"
     ]
    }
   ],
   "metadata": {}
  }
 ],
 "metadata": {
  "kernelspec": {
   "display_name": "Python 3",
   "language": "python",
   "name": "python3"
  },
  "language_info": {
   "codemirror_mode": {
    "name": "ipython",
    "version": 3
   },
   "file_extension": ".py",
   "mimetype": "text/x-python",
   "name": "python",
   "nbconvert_exporter": "python",
   "pygments_lexer": "ipython3",
   "version": "3.7.7"
  }
 },
 "nbformat": 4,
 "nbformat_minor": 4
}