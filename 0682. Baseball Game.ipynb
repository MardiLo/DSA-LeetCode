{
 "cells": [
  {
   "cell_type": "markdown",
   "metadata": {},
   "source": [
    "`# Array` `# Simulation` `# Stack`"
   ]
  },
  {
   "cell_type": "markdown",
   "metadata": {},
   "source": [
    "You are keeping the scores for a baseball game with strange rules. At the beginning of the game, you start with an empty record.\n",
    "\n",
    "You are given a list of strings `operations`, where `operations[i]` is the `i`<sup>`th`</sup> operation you must apply to the record and is one of the following:\n",
    "\n",
    "- An integer `x`.\n",
    "    - Record a new score of `x`.\n",
    "- `'+'`.\n",
    "    - Record a new score that is the sum of the previous two scores.\n",
    "- `'D'`.\n",
    "    - Record a new score that is the double of the previous score.\n",
    "- `'C'`.\n",
    "    - Invalidate the previous score, removing it from the record.\n",
    "\n",
    "Return *the sum of all the scores on the record after applying all the operations.*\n",
    "\n",
    "The test cases are generated such that the answer and all intermediate calculations fit in a **32-bit** integer and that all operations are valid."
   ]
  },
  {
   "cell_type": "markdown",
   "metadata": {},
   "source": [
    "**Example 1:**\n",
    "\n",
    "> Input: ops = [\"5\",\"2\",\"C\",\"D\",\"+\"]  \n",
    "Output: 30  \n",
    "Explanation:  \n",
    "\"5\" - Add 5 to the record, record is now [5].  \n",
    "\"2\" - Add 2 to the record, record is now [5, 2].  \n",
    "\"C\" - Invalidate and remove the previous score, record is now [5].  \n",
    "\"D\" - Add 2 * 5 = 10 to the record, record is now [5, 10].  \n",
    "\"+\" - Add 5 + 10 = 15 to the record, record is now [5, 10, 15].  \n",
    "The total sum is 5 + 10 + 15 = 30.\n",
    "\n",
    "**Example 2:**\n",
    "\n",
    "> Input: ops = [\"5\",\"-2\",\"4\",\"C\",\"D\",\"9\",\"+\",\"+\"]  \n",
    "Output: 27  \n",
    "Explanation:  \n",
    "\"5\" - Add 5 to the record, record is now [5].  \n",
    "\"-2\" - Add -2 to the record, record is now [5, -2].  \n",
    "\"4\" - Add 4 to the record, record is now [5, -2, 4].  \n",
    "\"C\" - Invalidate and remove the previous score, record is now [5, -2].  \n",
    "\"D\" - Add 2 * -2 = -4 to the record, record is now [5, -2, -4].  \n",
    "\"9\" - Add 9 to the record, record is now [5, -2, -4, 9].  \n",
    "\"+\" - Add -4 + 9 = 5 to the record, record is now [5, -2, -4, 9, 5].  \n",
    "\"+\" - Add 9 + 5 = 14 to the record, record is now [5, -2, -4, 9, 5, 14].  \n",
    "The total sum is 5 + -2 + -4 + 9 + 5 + 14 = 27.\n",
    "\n",
    "**Example 3:**\n",
    "\n",
    "> Input: ops = [\"1\",\"C\"]  \n",
    "Output: 0  \n",
    "Explanation:  \n",
    "\"1\" - Add 1 to the record, record is now [1].  \n",
    "\"C\" - Invalidate and remove the previous score, record is now [].  \n",
    "Since the record is empty, the total sum is 0."
   ]
  },
  {
   "cell_type": "code",
   "execution_count": 1,
   "metadata": {},
   "outputs": [],
   "source": [
    "class Solution:\n",
    "    \n",
    "    # Time Complexity： O(n)\n",
    "    # Space Complexity： O(n)\n",
    "    def calPoints(self, operations: list[str]) -> int:\n",
    "        stack = []\n",
    "        \n",
    "        for op in operations:\n",
    "            match op:\n",
    "                case 'C': stack.pop()\n",
    "                case 'D': stack.append(stack[-1] * 2)\n",
    "                case '+': stack.append(stack[-1] + stack[-2])\n",
    "                case _:  stack.append(int(op))\n",
    "        \n",
    "        return sum(stack)"
   ]
  },
  {
   "cell_type": "code",
   "execution_count": 2,
   "metadata": {},
   "outputs": [
    {
     "name": "stdout",
     "output_type": "stream",
     "text": [
      "Case 1: 30\n",
      "Case 2: 27\n",
      "Case 3: 0\n"
     ]
    }
   ],
   "source": [
    "# Test on Cases\n",
    "S = Solution()\n",
    "\n",
    "print(f\"Case 1: {S.calPoints(['5','2','C','D','+'])}\")\n",
    "print(f\"Case 2: {S.calPoints(['5','-2','4','C','D','9','+','+'])}\")\n",
    "print(f\"Case 3: {S.calPoints(['1','C'])}\")"
   ]
  }
 ],
 "metadata": {
  "kernelspec": {
   "display_name": "Python 3.10.4 ('leetcode')",
   "language": "python",
   "name": "python3"
  },
  "language_info": {
   "codemirror_mode": {
    "name": "ipython",
    "version": 3
   },
   "file_extension": ".py",
   "mimetype": "text/x-python",
   "name": "python",
   "nbconvert_exporter": "python",
   "pygments_lexer": "ipython3",
   "version": "3.10.4"
  },
  "vscode": {
   "interpreter": {
    "hash": "21d8332eb27bea95342760850bd7426f517b6a483537194bbba87e10eeabf6ff"
   }
  }
 },
 "nbformat": 4,
 "nbformat_minor": 4
}
