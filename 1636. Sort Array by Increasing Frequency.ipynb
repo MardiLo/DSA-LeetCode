{
 "cells": [
  {
   "cell_type": "markdown",
   "metadata": {},
   "source": [
    "`# Array` `# Hash Table` `# Sorting`"
   ]
  },
  {
   "cell_type": "markdown",
   "metadata": {},
   "source": [
    "Given an array of integers `nums`, sort the array in **increasing** order based on the frequency of the values. If multiple values have the same frequency, sort them in **decreasing** order.\n",
    "\n",
    "Return *the sorted array.*"
   ]
  },
  {
   "cell_type": "markdown",
   "metadata": {},
   "source": [
    "**Example 1:**\n",
    "\n",
    "> Input: nums = [1,1,2,2,2,3]  \n",
    "> Output: [3,1,1,2,2,2]  \n",
    "> Explanation: '3' has a frequency of 1, '1' has a frequency of 2, and '2' has a frequency of 3.\n",
    "\n",
    "**Example 2**\n",
    "\n",
    "> Input: nums = [2,3,1,3,2]  \n",
    "> Output: [1,3,3,2,2]\n",
    "> Explanation: '2' and '3' both have a frequency of 2, so they are sorted in decreasing order.\n",
    "\n",
    "**Example 3**\n",
    "\n",
    "> Input: nums = [-1,1,-6,4,5,-6,1,4,1]  \n",
    "> Output: [5,-1,4,4,-6,-6,1,1,1]\n"
   ]
  },
  {
   "cell_type": "code",
   "execution_count": 1,
   "metadata": {},
   "outputs": [],
   "source": [
    "class Solution:\n",
    "    \n",
    "    # Time Complexity： O(nlogn)\n",
    "    # Space Complexity： O(n)\n",
    "    def frequencySort(self, nums: list[int]) -> list[int]:\n",
    "        from collections import Counter\n",
    "        \n",
    "        return sorted(nums, key=lambda x: (Counter(nums)[x], -x))"
   ]
  },
  {
   "cell_type": "code",
   "execution_count": 2,
   "metadata": {},
   "outputs": [
    {
     "name": "stdout",
     "output_type": "stream",
     "text": [
      "Case 1: [3, 1, 1, 2, 2, 2]\n",
      "Case 2: [1, 3, 3, 2, 2]\n",
      "Case 3: [5, -1, 4, 4, -6, -6, 1, 1, 1]\n"
     ]
    }
   ],
   "source": [
    "# Test on Cases\n",
    "S = Solution()\n",
    "\n",
    "print(f\"Case 1: {S.frequencySort([1,1,2,2,2,3])}\")\n",
    "print(f\"Case 2: {S.frequencySort([2,3,1,3,2])}\")\n",
    "print(f\"Case 3: {S.frequencySort([-1,1,-6,4,5,-6,1,4,1])}\")"
   ]
  }
 ],
 "metadata": {
  "kernelspec": {
   "display_name": "Python 3 (ipykernel)",
   "language": "python",
   "name": "python3"
  },
  "language_info": {
   "codemirror_mode": {
    "name": "ipython",
    "version": 3
   },
   "file_extension": ".py",
   "mimetype": "text/x-python",
   "name": "python",
   "nbconvert_exporter": "python",
   "pygments_lexer": "ipython3",
   "version": "3.10.4"
  },
  "vscode": {
   "interpreter": {
    "hash": "21d8332eb27bea95342760850bd7426f517b6a483537194bbba87e10eeabf6ff"
   }
  }
 },
 "nbformat": 4,
 "nbformat_minor": 4
}
