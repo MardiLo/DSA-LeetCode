{
 "cells": [
  {
   "cell_type": "markdown",
   "metadata": {},
   "source": [
    "`# Linked List` `# Two Pointers`"
   ]
  },
  {
   "cell_type": "markdown",
   "metadata": {},
   "source": [
    "Given the `head` of a linked list, *remove the* `n`<sup>`th`</sup> *node from the end of the list and return its* `head`."
   ]
  },
  {
   "cell_type": "markdown",
   "metadata": {},
   "source": [
    "**Example 1:**  \n",
    "![Image of leetcode 0019 problem example 1](https://assets.leetcode.com/uploads/2020/10/03/remove_ex1.jpg)\n",
    "> Input: head = [1,2,3,4,5], n = 2  \n",
    "Output: [1,2,3,5]  \n",
    "\n",
    "**Example 2:**  \n",
    "\n",
    "> Input: head = [1], n = 1  \n",
    "Output: []  \n",
    "\n",
    "**Example 3:**  \n",
    "\n",
    "> Input: head = [1,2], n = 1  \n",
    "Output: [1]  "
   ]
  },
  {
   "cell_type": "code",
   "execution_count": 1,
   "metadata": {},
   "outputs": [],
   "source": [
    "class ListNode:\n",
    "    def __init__(self, val=0, next=None):\n",
    "        self.val = val\n",
    "        self.next = next\n",
    "        \n",
    "    def list2LinkedList(self, lst):\n",
    "        if not lst: return []\n",
    "\n",
    "        cur = dummy = ListNode(0)\n",
    "        for node in lst:\n",
    "            cur.next = ListNode(node)\n",
    "            cur = cur.next\n",
    "\n",
    "        return dummy.next\n",
    "\n",
    "\n",
    "class Solution:\n",
    "\n",
    "    # Time Complexity： O(m), where m = len(head)\n",
    "    # Space Complexity： O(1)\n",
    "    def removeNthFromEnd(self, head: ListNode, n: int) -> ListNode:\n",
    "        slow = fast = head\n",
    "        \n",
    "        for _ in range(n):                        # travel n steps\n",
    "            fast = fast.next\n",
    "            \n",
    "        if not fast: return head.next             # if fast is None, that means we should remove the first node\n",
    "\n",
    "        while fast.next:                          # travel m-n-1 steps\n",
    "            fast, slow = fast.next, slow.next\n",
    "\n",
    "        slow.next = slow.next.next\n",
    "        \n",
    "        return head"
   ]
  },
  {
   "cell_type": "code",
   "execution_count": 2,
   "metadata": {},
   "outputs": [
    {
     "name": "stdout",
     "output_type": "stream",
     "text": [
      "Case 1: [1, 2, 3, 5]\n",
      "Case 2: []\n",
      "Case 3: [1]\n"
     ]
    }
   ],
   "source": [
    "# Test on Cases\n",
    "from leetcodepractice import Print\n",
    "\n",
    "S, P, L = Solution(), Print(), ListNode()\n",
    "\n",
    "print(f\"Case 1: {P.LinkedListTraversal(S.removeNthFromEnd(L.list2LinkedList([1,2,3,4,5]), 2))}\")\n",
    "print(f\"Case 2: {P.LinkedListTraversal(S.removeNthFromEnd(L.list2LinkedList([1]), 1))}\")\n",
    "print(f\"Case 3: {P.LinkedListTraversal(S.removeNthFromEnd(L.list2LinkedList([1,2]), 1))}\")"
   ]
  },
  {
   "cell_type": "markdown",
   "metadata": {},
   "source": [
    "**Ref**\n",
    "1. [3 short Python solutions](https://leetcode.com/problems/remove-nth-node-from-end-of-list/discuss/8802/3-short-Python-solutions)"
   ]
  }
 ],
 "metadata": {
  "kernelspec": {
   "display_name": "Python 3.10.4 ('leetcode')",
   "language": "python",
   "name": "python3"
  },
  "language_info": {
   "codemirror_mode": {
    "name": "ipython",
    "version": 3
   },
   "file_extension": ".py",
   "mimetype": "text/x-python",
   "name": "python",
   "nbconvert_exporter": "python",
   "pygments_lexer": "ipython3",
   "version": "3.10.4"
  },
  "vscode": {
   "interpreter": {
    "hash": "21d8332eb27bea95342760850bd7426f517b6a483537194bbba87e10eeabf6ff"
   }
  }
 },
 "nbformat": 4,
 "nbformat_minor": 4
}
