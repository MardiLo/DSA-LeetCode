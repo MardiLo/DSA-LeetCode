{
 "cells": [
  {
   "attachments": {},
   "cell_type": "markdown",
   "metadata": {},
   "source": [
    "`# String`"
   ]
  },
  {
   "attachments": {},
   "cell_type": "markdown",
   "metadata": {},
   "source": [
    "We define the usage of capitals in a word to be right when one of the following cases holds:\n",
    "\n",
    "- All letters in this word are capitals, like `\"USA\"`.\n",
    "- All letters in this word are not capitals, like `\"leetcode\"`.\n",
    "- Only the first letter in this word is capital, like `\"Google\"`.\n",
    "\n",
    "Given a string `word`, return `true` if the usage of capitals in it is right."
   ]
  },
  {
   "attachments": {},
   "cell_type": "markdown",
   "metadata": {},
   "source": [
    "**Example 1:**\n",
    "\n",
    "> Input: word = \"USA\"  \n",
    "Output: true\n",
    "\n",
    "**Example 2:**\n",
    "\n",
    "> Input: word = \"FlaG\"  \n",
    "Output: false"
   ]
  },
  {
   "cell_type": "code",
   "execution_count": 1,
   "metadata": {},
   "outputs": [],
   "source": [
    "class Solution:\n",
    "     \n",
    "    # Time Complexity： O(n)\n",
    "    # Space Complexity： O(1)       \n",
    "    def detectCapitalUse(self, word: str) -> bool:\n",
    "        return word.isupper() or word.islower() or word.istitle()"
   ]
  },
  {
   "cell_type": "code",
   "execution_count": 2,
   "metadata": {},
   "outputs": [
    {
     "name": "stdout",
     "output_type": "stream",
     "text": [
      "Case 1: True\n",
      "Case 2: False\n"
     ]
    }
   ],
   "source": [
    "# Test on Cases\n",
    "S = Solution()\n",
    "\n",
    "print(f\"Case 1: {S.detectCapitalUse('USA')}\")\n",
    "print(f\"Case 2: {S.detectCapitalUse('FlaG')}\")"
   ]
  }
 ],
 "metadata": {
  "kernelspec": {
   "display_name": "Python 3.10.4 ('leetcode')",
   "language": "python",
   "name": "python3"
  },
  "language_info": {
   "codemirror_mode": {
    "name": "ipython",
    "version": 3
   },
   "file_extension": ".py",
   "mimetype": "text/x-python",
   "name": "python",
   "nbconvert_exporter": "python",
   "pygments_lexer": "ipython3",
   "version": "3.10.4"
  },
  "vscode": {
   "interpreter": {
    "hash": "21d8332eb27bea95342760850bd7426f517b6a483537194bbba87e10eeabf6ff"
   }
  }
 },
 "nbformat": 4,
 "nbformat_minor": 4
}
