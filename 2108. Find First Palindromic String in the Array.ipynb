{
 "cells": [
  {
   "cell_type": "markdown",
   "metadata": {},
   "source": [
    "`# Array` `# String` `# Two Pointers`"
   ]
  },
  {
   "cell_type": "markdown",
   "metadata": {},
   "source": [
    "Given an array of strings `words`, return *the first ***palindromic*** string in the array.* If there is no such string, return *an ***empty string**** `\"\"`.\n",
    "\n",
    "A string is **palindromic** if it reads the same forward and backward."
   ]
  },
  {
   "cell_type": "markdown",
   "metadata": {},
   "source": [
    "**Example 1:**\n",
    "\n",
    "> Input: words = [\"abc\",\"car\",\"ada\",\"racecar\",\"cool\"]  \n",
    "Output: \"ada\"  \n",
    "Explanation: The first string that is palindromic is \"ada\".  \n",
    "Note that \"racecar\" is also palindromic, but it is not the first.\n",
    "\n",
    "**Example 2:**\n",
    "\n",
    "> Input: words = [\"notapalindrome\",\"racecar\"]  \n",
    "Output: \"racecar\"  \n",
    "Explanation: The first and only string that is palindromic is \"racecar\".  \n",
    "\n",
    "**Example 3:**\n",
    "\n",
    "> Input: words = [\"def\",\"ghi\"]  \n",
    "Output: \"\"  \n",
    "Explanation: There are no palindromic strings, so the empty string is returned."
   ]
  },
  {
   "cell_type": "code",
   "execution_count": 3,
   "metadata": {},
   "outputs": [],
   "source": [
    "class Solution:\n",
    "    \n",
    "    # Time Complexity： O(wn), where w is the length of wach word in words; n is len(words)\n",
    "    # Space Complexity： O(1)\n",
    "    def firstPalindrome(self, words: list[str]) -> str:\n",
    "        return next((word for word in words if all(word[i] == word[~i] for i in range(len(word)//2))), '')"
   ]
  },
  {
   "cell_type": "code",
   "execution_count": 4,
   "metadata": {},
   "outputs": [
    {
     "name": "stdout",
     "output_type": "stream",
     "text": [
      "Case 1: ada\n",
      "Case 2: racecar\n",
      "Case 3: \n"
     ]
    }
   ],
   "source": [
    "# Test on Cases\n",
    "S = Solution()\n",
    "\n",
    "print(f\"Case 1: {S.firstPalindrome(['abc','car','ada','racecar','cool'])}\")\n",
    "print(f\"Case 2: {S.firstPalindrome(['notapalindrome','racecar'])}\")\n",
    "print(f\"Case 3: {S.firstPalindrome(['def','ghi'])}\")"
   ]
  }
 ],
 "metadata": {
  "kernelspec": {
   "display_name": "Python 3.10.4 ('leetcode')",
   "language": "python",
   "name": "python3"
  },
  "language_info": {
   "codemirror_mode": {
    "name": "ipython",
    "version": 3
   },
   "file_extension": ".py",
   "mimetype": "text/x-python",
   "name": "python",
   "nbconvert_exporter": "python",
   "pygments_lexer": "ipython3",
   "version": "3.10.4"
  },
  "vscode": {
   "interpreter": {
    "hash": "21d8332eb27bea95342760850bd7426f517b6a483537194bbba87e10eeabf6ff"
   }
  }
 },
 "nbformat": 4,
 "nbformat_minor": 4
}
