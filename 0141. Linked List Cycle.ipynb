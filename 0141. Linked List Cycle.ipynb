{
 "cells": [
  {
   "cell_type": "markdown",
   "metadata": {},
   "source": [
    "`# Hash Table` `# Linked List` `# Two Pointers`"
   ]
  },
  {
   "cell_type": "markdown",
   "metadata": {},
   "source": [
    "Given head, the `head` of a linked list, determine if the linked list has a cycle in it.\n",
    "\n",
    "There is a cycle in a linked list if there is some node in the list that can be reached again by continuously following the `next` pointer. Internally, `pos` is used to denote the index of the node that tail's `next` pointer is connected to. **Note that** `pos` **is not passed as a parameter.**\n",
    "\n",
    "Return `true` if there is a cycle in the linked list. Otherwise, return `false`."
   ]
  },
  {
   "cell_type": "markdown",
   "metadata": {},
   "source": [
    "**Example 1:**  \n",
    "![Image of leetcode 0141 problem example 1](https://assets.leetcode.com/uploads/2018/12/07/circularlinkedlist.png)\n",
    "> Input: head = [3,2,0,-4], pos = 1  \n",
    "Output: true  \n",
    "Explanation: There is a cycle in the linked list, where the tail connects to the 1st node (0-indexed).\n",
    "\n",
    "**Example 2:**  \n",
    "![Image of leetcode 0141 problem example 2](https://assets.leetcode.com/uploads/2018/12/07/circularlinkedlist_test2.png)\n",
    "> Input: head = [1,2], pos = 0  \n",
    "Output: true  \n",
    "Explanation: There is a cycle in the linked list, where the tail connects to the 0th node.\n",
    "\n",
    "**Example 3:**  \n",
    "![Image of leetcode 0141 problem example 3](https://assets.leetcode.com/uploads/2018/12/07/circularlinkedlist_test3.png)\n",
    "> Input: head = [1], pos = -1  \n",
    "Output: false  \n",
    "Explanation: There is no cycle in the linked list."
   ]
  },
  {
   "cell_type": "code",
   "execution_count": 1,
   "metadata": {},
   "outputs": [],
   "source": [
    "class ListNode:\n",
    "    def __init__(self, x):\n",
    "        self.val = x\n",
    "        self.next = None\n",
    "\n",
    "class Solution:\n",
    "\n",
    "    # Time Complexity： O(n)\n",
    "    # Space Complexity： O(1)   \n",
    "    def hasCycle(self, head: ListNode) -> bool:    \n",
    "        # check if there's a loop (note: we need to check fast.next because we use fast.next.next in the loop)\n",
    "        slow = fast = head\n",
    "        \n",
    "        while fast and fast.next:\n",
    "            slow, fast = slow.next, fast.next.next\n",
    "            if slow == fast: return True\n",
    "        else:\n",
    "            return False"
   ]
  }
 ],
 "metadata": {
  "kernelspec": {
   "display_name": "Python 3.10.4 ('leetcode')",
   "language": "python",
   "name": "python3"
  },
  "language_info": {
   "codemirror_mode": {
    "name": "ipython",
    "version": 3
   },
   "file_extension": ".py",
   "mimetype": "text/x-python",
   "name": "python",
   "nbconvert_exporter": "python",
   "pygments_lexer": "ipython3",
   "version": "3.10.4 | packaged by conda-forge | (main, Mar 30 2022, 08:38:02) [MSC v.1916 64 bit (AMD64)]"
  },
  "vscode": {
   "interpreter": {
    "hash": "21d8332eb27bea95342760850bd7426f517b6a483537194bbba87e10eeabf6ff"
   }
  }
 },
 "nbformat": 4,
 "nbformat_minor": 4
}
