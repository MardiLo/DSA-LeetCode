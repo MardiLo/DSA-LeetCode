{
 "cells": [
  {
   "cell_type": "markdown",
   "source": [
    "`# Linked List` `# Two Pointers`"
   ],
   "metadata": {}
  },
  {
   "cell_type": "markdown",
   "source": [
    "Given head, the `head` of a linked list, determine if the linked list has a cycle in it.\n",
    "\n",
    "There is a cycle in a linked list if there is some node in the list that can be reached again by continuously following the `next` pointer. Internally, `pos` is used to denote the index of the node that tail's `next` pointer is connected to. **Note that** `pos` **is not passed as a parameter.**\n",
    "\n",
    "Return `true` if there is a cycle in the linked list. Otherwise, return `false`."
   ],
   "metadata": {}
  },
  {
   "cell_type": "markdown",
   "source": [
    "**Example 1:**  \r\n",
    "![Image of leetcode 0141 problem example 1](https://assets.leetcode.com/uploads/2018/12/07/circularlinkedlist.png)\r\n",
    "> Input: head = [3,2,0,-4], pos = 1  \r\n",
    "Output: true  \r\n",
    "Explanation: There is a cycle in the linked list, where the tail connects to the 1st node (0-indexed).\r\n",
    "\r\n",
    "**Example 2:**  \r\n",
    "![Image of leetcode 0141 problem example 2](https://assets.leetcode.com/uploads/2018/12/07/circularlinkedlist_test2.png)\r\n",
    "> Input: head = [1,2], pos = 0  \r\n",
    "Output: true  \r\n",
    "Explanation: There is a cycle in the linked list, where the tail connects to the 0th node.\r\n",
    "\r\n",
    "**Example 3:**  \r\n",
    "![Image of leetcode 0141 problem example 3](https://assets.leetcode.com/uploads/2018/12/07/circularlinkedlist_test3.png)\r\n",
    "> Input: head = [1], pos = -1  \r\n",
    "Output: false  \r\n",
    "Explanation: There is no cycle in the linked list."
   ],
   "metadata": {}
  },
  {
   "cell_type": "code",
   "execution_count": 8,
   "source": [
    "class ListNode:\r\n",
    "    def __init__(self, x):\r\n",
    "        self.val = x\r\n",
    "        self.next = None\r\n",
    "\r\n",
    "class Solution:\r\n",
    "    def hasCycle(self, head: 'Optional[ListNode]') -> 'bool':      \r\n",
    "        slow = fast = head\r\n",
    "\r\n",
    "        while fast and fast.next:\r\n",
    "            slow = slow.next\r\n",
    "            fast = fast.next.next\r\n",
    "            \r\n",
    "            if slow is fast:\r\n",
    "                return True\r\n",
    "        \r\n",
    "        return False"
   ],
   "outputs": [],
   "metadata": {}
  }
 ],
 "metadata": {
  "kernelspec": {
   "display_name": "Python 3",
   "language": "python",
   "name": "python3"
  },
  "language_info": {
   "codemirror_mode": {
    "name": "ipython",
    "version": 3
   },
   "file_extension": ".py",
   "mimetype": "text/x-python",
   "name": "python",
   "nbconvert_exporter": "python",
   "pygments_lexer": "ipython3",
   "version": "3.7.7"
  }
 },
 "nbformat": 4,
 "nbformat_minor": 4
}