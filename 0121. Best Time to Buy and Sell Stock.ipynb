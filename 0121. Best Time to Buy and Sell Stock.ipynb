{
 "cells": [
  {
   "cell_type": "markdown",
   "metadata": {},
   "source": [
    "`# Array` `# Dynamic Programming`"
   ]
  },
  {
   "cell_type": "markdown",
   "metadata": {},
   "source": [
    "You are given an array `prices` where `prices[i]` is the price of a given stock on the `ith` day.\n",
    "\n",
    "You want to maximize your profit by choosing a **single day** to buy one stock and choosing a **different day in the future** to sell that stock.\n",
    "\n",
    "Return the *maximum profit you can achieve from this transaction*. If you cannot achieve any profit, return `0`."
   ]
  },
  {
   "cell_type": "markdown",
   "metadata": {},
   "source": [
    "**Example 1:**\n",
    "\n",
    "> Input: prices = [7,1,5,3,6,4]  \n",
    "> Output: 5  \n",
    "> Explanation: Buy on day 2 (price = 1) and sell on day 5 (price = 6), profit = 6-1 = 5.  \n",
    "> Note that buying on day 2 and selling on day 1 is not allowed because you must buy before you sell.\n",
    "\n",
    "**Example 2:**\n",
    "\n",
    "> Input: prices = [7,6,4,3,1]  \n",
    "> Output: 0  \n",
    "> Explanation: In this case, no transactions are done and the max profit = 0."
   ]
  },
  {
   "cell_type": "code",
   "execution_count": 1,
   "metadata": {},
   "outputs": [],
   "source": [
    "class Solution:\n",
    "\n",
    "    # Time Complexity： O(n)\n",
    "    # Space Complexity： O(n)\n",
    "    def maxProfit(self, prices: list[int]) -> int:\n",
    "        minPrice, dp = prices[0], [0] + [0] * len(prices)\n",
    "        \n",
    "        for i in range(1, len(prices)+1):\n",
    "            dp[i] = max(dp[i-1], prices[i-1]-minPrice)\n",
    "            minPrice = min(minPrice, prices[i-1])\n",
    "            \n",
    "        return dp[-1]\n",
    "\n",
    "    # Time Complexity： O(n)\n",
    "    # Space Complexity： O(1)\n",
    "    def maxProfit_spaceOpt(self, prices: list[int]) -> int:\n",
    "        minPrice, dp0, dp1 = prices[0], 0, 0 \n",
    "        \n",
    "        for i in range(1, len(prices)+1):\n",
    "            dp0 = max(dp1, prices[i-1]-minPrice)\n",
    "            minPrice = min(minPrice, prices[i-1])\n",
    "            dp0, dp1 = 0, dp0\n",
    "            \n",
    "        return dp1\n",
    "    \n",
    "    # Time Complexity： O(2n)\n",
    "    # Space Complexity： O(n)\n",
    "    def maxProfit_oneliner(self, prices: list[int]) -> int:\n",
    "        from itertools import accumulate, pairwise\n",
    "\n",
    "        return max(accumulate([y-x for x, y in pairwise(prices)], lambda x, y: max(0, x+y), initial=0))"
   ]
  },
  {
   "cell_type": "code",
   "execution_count": 2,
   "metadata": {},
   "outputs": [
    {
     "name": "stdout",
     "output_type": "stream",
     "text": [
      "---maxProfit---\n",
      "Case 1: 5\n",
      "Case 2: 0\n",
      "\n",
      "---maxProfit_spaceOpt---\n",
      "Case 1: 5\n",
      "Case 2: 0\n",
      "\n",
      "---maxProfit_oneliner---\n",
      "Case 1: 5\n",
      "Case 2: 0\n"
     ]
    }
   ],
   "source": [
    "# Test on Cases\n",
    "S = Solution()\n",
    "\n",
    "print(\"---maxProfit---\")\n",
    "print(f\"Case 1: {S.maxProfit([7,1,5,3,6,4])}\")\n",
    "print(f\"Case 2: {S.maxProfit([7,6,4,3,1])}\\n\")\n",
    "\n",
    "print(\"---maxProfit_spaceOpt---\")\n",
    "print(f\"Case 1: {S.maxProfit_spaceOpt([7,1,5,3,6,4])}\")\n",
    "print(f\"Case 2: {S.maxProfit_spaceOpt([7,6,4,3,1])}\\n\")\n",
    "\n",
    "print(\"---maxProfit_oneliner---\")\n",
    "print(f\"Case 1: {S.maxProfit_oneliner([7,1,5,3,6,4])}\")\n",
    "print(f\"Case 2: {S.maxProfit_oneliner([7,6,4,3,1])}\")"
   ]
  }
 ],
 "metadata": {
  "interpreter": {
   "hash": "21d8332eb27bea95342760850bd7426f517b6a483537194bbba87e10eeabf6ff"
  },
  "kernelspec": {
   "display_name": "Python 3 (ipykernel)",
   "language": "python",
   "name": "python3"
  },
  "language_info": {
   "codemirror_mode": {
    "name": "ipython",
    "version": 3
   },
   "file_extension": ".py",
   "mimetype": "text/x-python",
   "name": "python",
   "nbconvert_exporter": "python",
   "pygments_lexer": "ipython3",
   "version": "3.10.4"
  }
 },
 "nbformat": 4,
 "nbformat_minor": 4
}
