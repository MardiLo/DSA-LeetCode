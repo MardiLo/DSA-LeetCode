{
 "cells": [
  {
   "cell_type": "markdown",
   "metadata": {},
   "source": [
    "`# Array` `# Dynamic Programming`"
   ]
  },
  {
   "cell_type": "markdown",
   "metadata": {},
   "source": [
    "You are given an array `prices` where `prices[i]` is the price of a given stock on the `ith` day.\n",
    "\n",
    "You want to maximize your profit by choosing a **single day** to buy one stock and choosing a **different day in the future** to sell that stock.\n",
    "\n",
    "Return the *maximum profit you can achieve from this transaction*. If you cannot achieve any profit, return `0`."
   ]
  },
  {
   "cell_type": "markdown",
   "metadata": {},
   "source": [
    "**Example 1:**\n",
    "\n",
    "> Input: prices = [7,1,5,3,6,4]  \n",
    "> Output: 5  \n",
    "> Explanation: Buy on day 2 (price = 1) and sell on day 5 (price = 6), profit = 6-1 = 5.  \n",
    "> Note that buying on day 2 and selling on day 1 is not allowed because you must buy before you sell.\n",
    "\n",
    "**Example 2:**\n",
    "\n",
    "> Input: prices = [7,6,4,3,1]  \n",
    "> Output: 0  \n",
    "> Explanation: In this case, no transactions are done and the max profit = 0."
   ]
  },
  {
   "cell_type": "code",
   "execution_count": 1,
   "metadata": {},
   "outputs": [],
   "source": [
    "class Solution:\n",
    "\n",
    "    # Time Complexity： O(n)\n",
    "    # Space Complexity： O(n)\n",
    "    def maxProfit(self, prices: list[int]) -> int:\n",
    "        dp = [0] * (n := len(prices))                              # TC: O(n); SC: O(n)\n",
    "        lowestPrice = prices[0]\n",
    "        \n",
    "        for i in range(1, n):                                      # TC: O(n)\n",
    "            dp[i] = max(prices[i] - lowestPrice, dp[i-1])\n",
    "            lowestPrice = min(prices[i], lowestPrice)\n",
    "            \n",
    "        return dp[-1]\n",
    "\n",
    "    # Time Complexity： O(n)\n",
    "    # Space Complexity： O(1)\n",
    "    def maxProfit_spaceOpt(self, prices: list[int]) -> int:\n",
    "        lowestPrice, maxProfit = prices[0], 0                      # SC: O(1)\n",
    "        \n",
    "        for i in range(1, len(prices)):                            # TC: O(n)\n",
    "            maxProfit = max(prices[i] - lowestPrice, maxProfit)\n",
    "            lowestPrice = min(prices[i], lowestPrice)\n",
    "            \n",
    "        return maxProfit"
   ]
  },
  {
   "cell_type": "code",
   "execution_count": 2,
   "metadata": {},
   "outputs": [
    {
     "name": "stdout",
     "output_type": "stream",
     "text": [
      "---maxProfit---\n",
      "Case 1: 5\n",
      "Case 2: 0\n",
      "\n",
      "---maxProfit_spaceOpt---\n",
      "Case 1: 5\n",
      "Case 2: 0\n"
     ]
    }
   ],
   "source": [
    "# Test on Cases\n",
    "S = Solution()\n",
    "\n",
    "print(\"---maxProfit---\")\n",
    "print(f\"Case 1: {S.maxProfit([7,1,5,3,6,4])}\")\n",
    "print(f\"Case 2: {S.maxProfit([7,6,4,3,1])}\\n\")\n",
    "\n",
    "print(\"---maxProfit_spaceOpt---\")\n",
    "print(f\"Case 1: {S.maxProfit_spaceOpt([7,1,5,3,6,4])}\")\n",
    "print(f\"Case 2: {S.maxProfit_spaceOpt([7,6,4,3,1])}\")"
   ]
  }
 ],
 "metadata": {
  "interpreter": {
   "hash": "21d8332eb27bea95342760850bd7426f517b6a483537194bbba87e10eeabf6ff"
  },
  "kernelspec": {
   "display_name": "Python 3 (ipykernel)",
   "language": "python",
   "name": "python3"
  },
  "language_info": {
   "codemirror_mode": {
    "name": "ipython",
    "version": 3
   },
   "file_extension": ".py",
   "mimetype": "text/x-python",
   "name": "python",
   "nbconvert_exporter": "python",
   "pygments_lexer": "ipython3",
   "version": "3.10.4"
  }
 },
 "nbformat": 4,
 "nbformat_minor": 4
}
