{
 "cells": [
  {
   "cell_type": "markdown",
   "metadata": {},
   "source": [
    "`# String`"
   ]
  },
  {
   "cell_type": "markdown",
   "metadata": {},
   "source": [
    "Write *a function to find the ***longest common prefix*** string amongst an array of strings*.\n",
    "\n",
    "If there is no common prefix, return *an empty string* `\"\"`."
   ]
  },
  {
   "cell_type": "markdown",
   "metadata": {},
   "source": [
    "**Example 1:**\n",
    "\n",
    "> Input: strs = [\"flower\",\"flow\",\"flight\"]  \n",
    "Output: \"fl\"\n",
    "\n",
    "**Example 2:**\n",
    "\n",
    "> Input: strs = [\"dog\",\"racecar\",\"car\"]  \n",
    "Output: \"\"\n",
    "Explanation: There is no common prefix among the input strings."
   ]
  },
  {
   "cell_type": "code",
   "execution_count": 1,
   "metadata": {},
   "outputs": [],
   "source": [
    "class Solution:\n",
    "    \n",
    "    # Time Complexity： O(mn)\n",
    "    # Space Complexity： O(m)\n",
    "    def longestCommonPrefix(self, strs: list[str]) -> str:\n",
    "        shortest = min(strs, key=len)       # TC: O(mn); SC: O(m), where m = len(shortest string); n = no. of stings in list\n",
    "\n",
    "        for i, c in enumerate(shortest):    # TC: O(m), where m = len(shortest string)\n",
    "            for s in strs:                  # TC: O(n), where n = no. of strings in list\n",
    "                if c != s[i]:               # compare to every element in strs\n",
    "                    return shortest[:i]\n",
    "\n",
    "        return shortest   "
   ]
  },
  {
   "cell_type": "code",
   "execution_count": 2,
   "metadata": {},
   "outputs": [
    {
     "name": "stdout",
     "output_type": "stream",
     "text": [
      "Case 1: fl\n",
      "Case 2: \n"
     ]
    }
   ],
   "source": [
    "# Test on Cases\n",
    "S = Solution()\n",
    "\n",
    "print(f\"Case 1: {S.longestCommonPrefix(['flower','flow','flight'])}\")\n",
    "print(f\"Case 2: {S.longestCommonPrefix(['dog','racecar','car'])}\")"
   ]
  }
 ],
 "metadata": {
  "kernelspec": {
   "display_name": "Python 3.10.4 ('leetcode')",
   "language": "python",
   "name": "python3"
  },
  "language_info": {
   "codemirror_mode": {
    "name": "ipython",
    "version": 3
   },
   "file_extension": ".py",
   "mimetype": "text/x-python",
   "name": "python",
   "nbconvert_exporter": "python",
   "pygments_lexer": "ipython3",
   "version": "3.10.4"
  },
  "vscode": {
   "interpreter": {
    "hash": "21d8332eb27bea95342760850bd7426f517b6a483537194bbba87e10eeabf6ff"
   }
  }
 },
 "nbformat": 4,
 "nbformat_minor": 4
}
