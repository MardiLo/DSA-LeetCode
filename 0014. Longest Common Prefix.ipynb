{
 "cells": [
  {
   "cell_type": "markdown",
   "source": [
    "`# String`"
   ],
   "metadata": {}
  },
  {
   "cell_type": "markdown",
   "source": [
    "Write *a function to find the ***longest common prefix*** string amongst an array of strings*.\r\n",
    "\r\n",
    "If there is no common prefix, return *an empty string* `\"\"`."
   ],
   "metadata": {}
  },
  {
   "cell_type": "markdown",
   "source": [
    "**Example 1:**\n",
    "\n",
    "> Input: strs = [\"flower\",\"flow\",\"flight\"]  \n",
    "Output: \"fl\"\n",
    "\n",
    "**Example 2:**\n",
    "\n",
    "> Input: strs = [\"dog\",\"racecar\",\"car\"]  \n",
    "Output: \"\"\n",
    "Explanation: There is no common prefix among the input strings."
   ],
   "metadata": {}
  },
  {
   "cell_type": "code",
   "execution_count": 1,
   "source": [
    "class Solution:\r\n",
    "    \r\n",
    "    # Time Complexity： O(mn)\r\n",
    "    # Space Complexity： O(m)\r\n",
    "    def longestCommonPrefix(self, strs: 'List[str]') -> 'str':\r\n",
    "        if not strs: return \"\"\r\n",
    "        \r\n",
    "        shortest = min(strs, key=len)       # TC: O(mn); SC: O(m), where m = len(shortest string); n = no. of stings in list\r\n",
    "\r\n",
    "        for i, c in enumerate(shortest):    # TC: O(m), where m = len(shortest string)\r\n",
    "            for s in strs:                  # TC: O(n), where n = no. of stings in list\r\n",
    "                if c != s[i]:               # compare to every element in strs\r\n",
    "                    return shortest[:i]\r\n",
    "\r\n",
    "        return shortest   "
   ],
   "outputs": [],
   "metadata": {}
  },
  {
   "cell_type": "code",
   "execution_count": 2,
   "source": [
    "# Test on Cases\r\n",
    "S = Solution()\r\n",
    "\r\n",
    "print(f\"Case 1: {S.longestCommonPrefix(['flower','flow','flight'])}\")\r\n",
    "print(f\"Case 2: {S.longestCommonPrefix(['dog','racecar','car'])}\")"
   ],
   "outputs": [
    {
     "output_type": "stream",
     "name": "stdout",
     "text": [
      "Case 1: fl\n",
      "Case 2: \n"
     ]
    }
   ],
   "metadata": {}
  }
 ],
 "metadata": {
  "kernelspec": {
   "name": "python3",
   "display_name": "Python 3.7.7 64-bit ('spark': conda)"
  },
  "language_info": {
   "codemirror_mode": {
    "name": "ipython",
    "version": 3
   },
   "file_extension": ".py",
   "mimetype": "text/x-python",
   "name": "python",
   "nbconvert_exporter": "python",
   "pygments_lexer": "ipython3",
   "version": "3.7.7"
  },
  "interpreter": {
   "hash": "6ab137a14910b4ee65d0ea442464c53c8571f8241496146388c5db8c59915964"
  }
 },
 "nbformat": 4,
 "nbformat_minor": 4
}