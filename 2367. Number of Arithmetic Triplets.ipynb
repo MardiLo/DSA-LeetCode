{
 "cells": [
  {
   "cell_type": "markdown",
   "metadata": {},
   "source": [
    "`# Array` `# Enumeration` `# Hash Table` `# Two Pointers` "
   ]
  },
  {
   "cell_type": "markdown",
   "metadata": {},
   "source": [
    "You are given a **0-indexed, strictly increasing** integer array `nums` and a positive integer `diff`. A triplet `(i, j, k)` is an arithmetic triplet if the following conditions are met:\n",
    "\n",
    "- `i < j < k`,\n",
    "- `nums[j] - nums[i] == diff`, and  \n",
    "- `nums[k] - nums[j] == diff`.  \n",
    "\n",
    "Return *the number of unique* ***arithmetic triplets***."
   ]
  },
  {
   "cell_type": "markdown",
   "metadata": {},
   "source": [
    "**Example 1:**\n",
    "\n",
    "> Input: nums = [0,1,4,6,7,10], diff = 3  \n",
    "Output: 2  \n",
    "Explanation:  \n",
    "(1, 2, 4) is an arithmetic triplet because both 7 - 4 == 3 and 4 - 1 == 3.  \n",
    "(2, 4, 5) is an arithmetic triplet because both 10 - 7 == 3 and 7 - 4 == 3. \n",
    "\n",
    "**Example 2:**\n",
    "\n",
    "> Input: nums = [4,5,6,7,8,9], diff = 2  \n",
    "Output: 2  \n",
    "Explanation:  \n",
    "(0, 2, 4) is an arithmetic triplet because both 8 - 6 == 2 and 6 - 4 == 2.  \n",
    "(1, 3, 5) is an arithmetic triplet because both 9 - 7 == 2 and 7 - 5 == 2.\n"
   ]
  },
  {
   "cell_type": "code",
   "execution_count": 1,
   "metadata": {},
   "outputs": [],
   "source": [
    "class Solution:\n",
    "\n",
    "    # Time Complexity： O(n)\n",
    "    # Space Complexity： O(n)\n",
    "    def arithmeticTriplets(self, nums: list[int], diff: int) -> int:\n",
    "        st = set(nums)\n",
    "        return sum(1 for i in range(len(nums)-2) if nums[i] in st and nums[i]+diff in st and nums[i]+2*diff in st)\n"
   ]
  },
  {
   "cell_type": "code",
   "execution_count": 2,
   "metadata": {},
   "outputs": [
    {
     "name": "stdout",
     "output_type": "stream",
     "text": [
      "Case 1: 2\n",
      "Case 2: 2\n"
     ]
    }
   ],
   "source": [
    "# Test on Cases\n",
    "S = Solution()\n",
    "\n",
    "print(f\"Case 1: {S.arithmeticTriplets([0,1,4,6,7,10], 3)}\")\n",
    "print(f\"Case 2: {S.arithmeticTriplets([4,5,6,7,8,9], 2)}\")"
   ]
  }
 ],
 "metadata": {
  "kernelspec": {
   "display_name": "Python 3.10.4 ('leetcode')",
   "language": "python",
   "name": "python3"
  },
  "language_info": {
   "codemirror_mode": {
    "name": "ipython",
    "version": 3
   },
   "file_extension": ".py",
   "mimetype": "text/x-python",
   "name": "python",
   "nbconvert_exporter": "python",
   "pygments_lexer": "ipython3",
   "version": "3.10.4"
  },
  "vscode": {
   "interpreter": {
    "hash": "21d8332eb27bea95342760850bd7426f517b6a483537194bbba87e10eeabf6ff"
   }
  }
 },
 "nbformat": 4,
 "nbformat_minor": 4
}
