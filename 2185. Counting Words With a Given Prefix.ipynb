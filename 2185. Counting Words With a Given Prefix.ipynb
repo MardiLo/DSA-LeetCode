{
 "cells": [
  {
   "cell_type": "markdown",
   "metadata": {},
   "source": [
    "`# Array` `# String`"
   ]
  },
  {
   "cell_type": "markdown",
   "metadata": {},
   "source": [
    "You are given an array of strings `words` and a string `pref`.\n",
    "\n",
    "Return *the number of strings in* `words` *that contain* `pref` *as a* ***prefix***.\n",
    "\n",
    "A **prefix** of a string `s` is any leading contiguous substring of `s`."
   ]
  },
  {
   "attachments": {},
   "cell_type": "markdown",
   "metadata": {},
   "source": [
    "**Example 1:**\n",
    "\n",
    "> Input: words = [\"pay\",\"attention\",\"practice\",\"attend\"], pref = \"at\"  \n",
    "> Output: 2  \n",
    "> Explanation: The 2 strings that contain \"at\" as a prefix are: \"attention\" and \"attend\".\n",
    "\n",
    "**Example 2:**\n",
    "\n",
    "> Input: words = [\"leetcode\",\"win\",\"loops\",\"success\"], pref = \"code\"  \n",
    "> Output: 0  \n",
    "> Explanation: There are no strings that contain \"code\" as a prefix.\n"
   ]
  },
  {
   "cell_type": "code",
   "execution_count": 1,
   "metadata": {},
   "outputs": [],
   "source": [
    "class Solution:\n",
    "    \n",
    "    # Time Complexity： O(nm), where n is len(words)\n",
    "    # Space Complexity： O(m), where m is len(pref)\n",
    "    def prefixCount(self, words: list[str], pref: str) -> int:\n",
    "        return sum(word[:len(pref)] == pref for word in words)"
   ]
  },
  {
   "cell_type": "code",
   "execution_count": 2,
   "metadata": {},
   "outputs": [
    {
     "name": "stdout",
     "output_type": "stream",
     "text": [
      "Case 1: 2\n",
      "Case 2: 0\n"
     ]
    }
   ],
   "source": [
    "# Test on Cases\n",
    "S = Solution()\n",
    "\n",
    "print(f\"Case 1: {S.prefixCount(words=['pay','attention','practice','attend'], pref='at')}\")\n",
    "print(f\"Case 2: {S.prefixCount(words=['leetcode','win','loops','success'], pref='code')}\")"
   ]
  }
 ],
 "metadata": {
  "kernelspec": {
   "display_name": "Python 3.10.4 ('leetcode')",
   "language": "python",
   "name": "python3"
  },
  "language_info": {
   "codemirror_mode": {
    "name": "ipython",
    "version": 3
   },
   "file_extension": ".py",
   "mimetype": "text/x-python",
   "name": "python",
   "nbconvert_exporter": "python",
   "pygments_lexer": "ipython3",
   "version": "3.10.4 | packaged by conda-forge | (main, Mar 30 2022, 08:38:02) [MSC v.1916 64 bit (AMD64)]"
  },
  "vscode": {
   "interpreter": {
    "hash": "21d8332eb27bea95342760850bd7426f517b6a483537194bbba87e10eeabf6ff"
   }
  }
 },
 "nbformat": 4,
 "nbformat_minor": 4
}
