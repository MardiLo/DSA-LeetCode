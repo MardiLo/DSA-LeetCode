{
 "cells": [
  {
   "cell_type": "markdown",
   "metadata": {},
   "source": [
    "`# Linked List`"
   ]
  },
  {
   "cell_type": "markdown",
   "metadata": {},
   "source": [
    "Given the `head` of a sorted linked list, *delete all duplicates such that each element appears only once*. Return *the linked list ***sorted*** as well*."
   ]
  },
  {
   "cell_type": "markdown",
   "metadata": {},
   "source": [
    "**Example 1:**  \n",
    "![Image of leetcode 0083 problem example 1](https://assets.leetcode.com/uploads/2021/01/04/list1.jpg)\n",
    "> Input: head = [1,1,2]  \n",
    "Output: [1,2]  \n",
    "\n",
    "**Example 2:**  \n",
    "![Image of leetcode 0083 problem example 2](https://assets.leetcode.com/uploads/2021/01/04/list2.jpg)\n",
    "> Input: head = [1,1,2,3,3]  \n",
    "Output: [1,2,3]  "
   ]
  },
  {
   "cell_type": "code",
   "execution_count": 7,
   "metadata": {},
   "outputs": [],
   "source": [
    "class ListNode:\n",
    "    def __init__(self, val=0, next=None):\n",
    "        self.val = val\n",
    "        self.next = next\n",
    "        \n",
    "    def list2LinkedList(self, lst):\n",
    "        if not lst: return []\n",
    "\n",
    "        curr = dummy = ListNode(0)\n",
    "        for node in lst:\n",
    "            curr.next = ListNode(node)\n",
    "            curr = curr.next\n",
    "\n",
    "        return dummy.next\n",
    "\n",
    "class Solution:\n",
    "    \n",
    "    # Time Complexity： O(n)\n",
    "    # Space Complexity： O(1)\n",
    "    def deleteDuplicates(self, head: ListNode) -> ListNode:        \n",
    "        slow = fast = head\n",
    "        \n",
    "        while fast:\n",
    "            if fast.val != slow.val: slow.next = fast; slow = slow.next\n",
    "            fast = fast.next\n",
    "            \n",
    "        if slow: slow.next = None\n",
    "        \n",
    "        return head"
   ]
  },
  {
   "cell_type": "code",
   "execution_count": 8,
   "metadata": {},
   "outputs": [
    {
     "name": "stdout",
     "output_type": "stream",
     "text": [
      "Case 1: [1, 2]\n",
      "Case 2: [1, 2, 3]\n"
     ]
    }
   ],
   "source": [
    "# Test on Cases\n",
    "from leetcodepractice import Print\n",
    "\n",
    "S, P, L = Solution(), Print(), ListNode()\n",
    "\n",
    "print(f\"Case 1: {P.LinkedListTraversal(S.deleteDuplicates(L.list2LinkedList([1,1,2])))}\")\n",
    "print(f\"Case 2: {P.LinkedListTraversal(S.deleteDuplicates(L.list2LinkedList([1,1,2,3,3])))}\")"
   ]
  }
 ],
 "metadata": {
  "kernelspec": {
   "display_name": "Python 3.10.4 ('leetcode')",
   "language": "python",
   "name": "python3"
  },
  "language_info": {
   "codemirror_mode": {
    "name": "ipython",
    "version": 3
   },
   "file_extension": ".py",
   "mimetype": "text/x-python",
   "name": "python",
   "nbconvert_exporter": "python",
   "pygments_lexer": "ipython3",
   "version": "3.10.4"
  },
  "vscode": {
   "interpreter": {
    "hash": "21d8332eb27bea95342760850bd7426f517b6a483537194bbba87e10eeabf6ff"
   }
  }
 },
 "nbformat": 4,
 "nbformat_minor": 4
}
