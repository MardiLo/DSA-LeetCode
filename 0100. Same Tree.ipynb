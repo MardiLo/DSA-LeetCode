{
 "cells": [
  {
   "cell_type": "markdown",
   "metadata": {},
   "source": [
    "`# Binary Tree` `# Breadth-first Search` `# Depth-first Search` `# Tree`"
   ]
  },
  {
   "cell_type": "markdown",
   "metadata": {},
   "source": [
    "Given the roots of two binary trees `p` and `q`, write a function to *check if they are the same or not*.\n",
    "\n",
    "Two binary trees are considered the same if they are structurally identical, and the nodes have the same value."
   ]
  },
  {
   "cell_type": "markdown",
   "metadata": {},
   "source": [
    "**Example 1:**\n",
    "![Image of leetcode 0100 problem example 1](https://assets.leetcode.com/uploads/2020/12/20/ex1.jpg)\n",
    "> Input: p = [1,2,3], q = [1,2,3]  \n",
    "Output: true  \n",
    "    \n",
    "**Example 2:**\n",
    "![Image of leetcode 0100 problem example 2](https://assets.leetcode.com/uploads/2020/12/20/ex2.jpg)\n",
    "> Input: p = [1,2], q = [1,null,2]  \n",
    "Output: false  "
   ]
  },
  {
   "cell_type": "code",
   "execution_count": 9,
   "metadata": {},
   "outputs": [],
   "source": [
    "class TreeNode:\n",
    "    def __init__(self, val=0, left=None, right=None):\n",
    "        self.val = val\n",
    "        self.left = left\n",
    "        self.right = right\n",
    "\n",
    "class Solution:\n",
    "    \n",
    "    # Time Complexity： O(n)\n",
    "    # Space Complexity： O(n)    \n",
    "    def isSameTree_recursion(self, p: 'Optional[TreeNode]', q: 'Optional[TreeNode]') -> 'bool':\n",
    "        if p and q:\n",
    "            return p.val == q.val and self.isSameTree_recursion(p.left, q.left) and self.isSameTree_recursion(p.right, q.right)\n",
    "        return p is q\n",
    "    \n",
    "    # Time Complexity： O(n)\n",
    "    # Space Complexity： O(n)     \n",
    "    def isSameTree_BFS(self, p: 'Optional[TreeNode]', q: 'Optional[TreeNode]') -> 'bool':\n",
    "        from collections import deque \n",
    "        \n",
    "        queue = deque([(p, q)])\n",
    "        while queue:\n",
    "            nodeP, nodeQ = queue.popleft()\n",
    "\n",
    "            if (not nodeP and nodeQ) or (nodeP and not nodeQ):    # alternative: bool(nodeP) ^ bool(nodeQ)\n",
    "                return False\n",
    "            elif not nodeP and not nodeQ:\n",
    "                continue\n",
    "            else:\n",
    "                if nodeP.val != nodeQ.val:\n",
    "                    return False\n",
    "                queue.append((nodeP.left, nodeQ.left))\n",
    "                queue.append((nodeP.right, nodeQ.right))\n",
    "\n",
    "        return True\n",
    "\n",
    "    # Time Complexity： O(n)\n",
    "    # Space Complexity： O(n) \n",
    "    def isSameTree_DFS(self, p: 'Optional[TreeNode]', q: 'Optional[TreeNode]') -> 'bool':\n",
    "        stack = [(p, q)]\n",
    "        while stack:\n",
    "            nodeP, nodeQ = stack.pop()\n",
    "            \n",
    "            if (not nodeP and nodeQ) or (nodeP and not nodeQ):    # alternative: bool(nodeP) ^ bool(nodeQ)\n",
    "                return False\n",
    "            elif not nodeP and not nodeQ:\n",
    "                continue\n",
    "            else:\n",
    "                if nodeP.val != nodeQ.val:\n",
    "                    return False\n",
    "                stack.append((nodeP.left, nodeQ.left))\n",
    "                stack.append((nodeP.right, nodeQ.right))\n",
    "\n",
    "        return True"
   ]
  },
  {
   "cell_type": "code",
   "execution_count": 10,
   "metadata": {},
   "outputs": [
    {
     "name": "stdout",
     "output_type": "stream",
     "text": [
      "---isSameTree_recursion---\n",
      "Case 1: True\n",
      "Case 2: False\n",
      "\n",
      "---isSameTree_BFS---\n",
      "Case 1: True\n",
      "Case 2: False\n",
      "\n",
      "---isSameTree_DFS---\n",
      "Case 1: True\n",
      "Case 2: False\n"
     ]
    }
   ],
   "source": [
    "# Test on Cases\n",
    "S = Solution()\n",
    "\n",
    "print(\"---isSameTree_recursion---\")\n",
    "print(f\"Case 1: {S.isSameTree_recursion(TreeNode(1, TreeNode(2), TreeNode(3)), TreeNode(1, TreeNode(2), TreeNode(3)))}\")\n",
    "print(f\"Case 2: {S.isSameTree_recursion(TreeNode(1, TreeNode(2), None), TreeNode(1, None, TreeNode(2)))}\\n\")\n",
    "\n",
    "print(\"---isSameTree_BFS---\")\n",
    "print(f\"Case 1: {S.isSameTree_BFS(TreeNode(1, TreeNode(2), TreeNode(3)), TreeNode(1, TreeNode(2), TreeNode(3)))}\")\n",
    "print(f\"Case 2: {S.isSameTree_BFS(TreeNode(1, TreeNode(2), None), TreeNode(1, None, TreeNode(2)))}\\n\")\n",
    "\n",
    "print(\"---isSameTree_DFS---\")\n",
    "print(f\"Case 1: {S.isSameTree_DFS(TreeNode(1, TreeNode(2), TreeNode(3)), TreeNode(1, TreeNode(2), TreeNode(3)))}\")\n",
    "print(f\"Case 2: {S.isSameTree_DFS(TreeNode(1, TreeNode(2), None), TreeNode(1, None, TreeNode(2)))}\")"
   ]
  },
  {
   "cell_type": "code",
   "execution_count": null,
   "metadata": {},
   "outputs": [],
   "source": []
  }
 ],
 "metadata": {
  "kernelspec": {
   "display_name": "Python 3",
   "language": "python",
   "name": "python3"
  },
  "language_info": {
   "codemirror_mode": {
    "name": "ipython",
    "version": 3
   },
   "file_extension": ".py",
   "mimetype": "text/x-python",
   "name": "python",
   "nbconvert_exporter": "python",
   "pygments_lexer": "ipython3",
   "version": "3.7.7"
  }
 },
 "nbformat": 4,
 "nbformat_minor": 4
}
