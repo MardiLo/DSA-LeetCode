{
 "cells": [
  {
   "cell_type": "markdown",
   "source": [
    "`# Binary Tree` `# Breadth-first Search` `# Depth-first Search` `# Tree`"
   ],
   "metadata": {}
  },
  {
   "cell_type": "markdown",
   "source": [
    "Given the roots of two binary trees `p` and `q`, write a function to *check if they are the same or not*.\n",
    "\n",
    "Two binary trees are considered the same if they are structurally identical, and the nodes have the same value."
   ],
   "metadata": {}
  },
  {
   "cell_type": "markdown",
   "source": [
    "**Example 1:**  \r\n",
    "![Image of leetcode 0100 problem example 1](https://assets.leetcode.com/uploads/2020/12/20/ex1.jpg)\r\n",
    "> Input: p = [1,2,3], q = [1,2,3]  \r\n",
    "Output: true  \r\n",
    "    \r\n",
    "**Example 2:**  \r\n",
    "![Image of leetcode 0100 problem example 2](https://assets.leetcode.com/uploads/2020/12/20/ex2.jpg)\r\n",
    "> Input: p = [1,2], q = [1,null,2]  \r\n",
    "Output: false  "
   ],
   "metadata": {}
  },
  {
   "cell_type": "code",
   "execution_count": 9,
   "source": [
    "class TreeNode:\r\n",
    "    def __init__(self, val=0, left=None, right=None):\r\n",
    "        self.val = val\r\n",
    "        self.left = left\r\n",
    "        self.right = right\r\n",
    "\r\n",
    "class Solution:\r\n",
    "    \r\n",
    "    # Time Complexity： O(n)\r\n",
    "    # Space Complexity： O(n)    \r\n",
    "    def isSameTree_recursion(self, p: 'TreeNode', q: 'TreeNode') -> 'bool':\r\n",
    "        if p and q:\r\n",
    "            return p.val == q.val and self.isSameTree_recursion(p.left, q.left) and self.isSameTree_recursion(p.right, q.right)\r\n",
    "        return p is q    # check None = None\r\n",
    "    \r\n",
    "    # Time Complexity： O(n)\r\n",
    "    # Space Complexity： O(n)     \r\n",
    "    def isSameTree_BFS(self, p: 'TreeNode', q: 'TreeNode') -> 'bool':\r\n",
    "        from collections import deque \r\n",
    "        \r\n",
    "        queue = deque([(p, q)])\r\n",
    "        while queue:\r\n",
    "            nodeP, nodeQ = queue.popleft()\r\n",
    "\r\n",
    "            if (not nodeP and nodeQ) or (nodeP and not nodeQ):    # alternative: bool(nodeP) ^ bool(nodeQ)\r\n",
    "                return False\r\n",
    "            elif not nodeP and not nodeQ:\r\n",
    "                continue\r\n",
    "            else:\r\n",
    "                if nodeP.val != nodeQ.val:\r\n",
    "                    return False\r\n",
    "                queue.append((nodeP.left, nodeQ.left))\r\n",
    "                queue.append((nodeP.right, nodeQ.right))\r\n",
    "\r\n",
    "        return True\r\n",
    "\r\n",
    "    # Time Complexity： O(n)\r\n",
    "    # Space Complexity： O(n) \r\n",
    "    def isSameTree_DFS(self, p: 'TreeNode', q: 'TreeNode') -> 'bool':\r\n",
    "        stack = [(p, q)]\r\n",
    "        while stack:\r\n",
    "            nodeP, nodeQ = stack.pop()\r\n",
    "            \r\n",
    "            if (not nodeP and nodeQ) or (nodeP and not nodeQ):    # alternative: bool(nodeP) ^ bool(nodeQ)\r\n",
    "                return False\r\n",
    "            elif not nodeP and not nodeQ:\r\n",
    "                continue\r\n",
    "            else:\r\n",
    "                if nodeP.val != nodeQ.val:\r\n",
    "                    return False\r\n",
    "                stack.append((nodeP.left, nodeQ.left))\r\n",
    "                stack.append((nodeP.right, nodeQ.right))\r\n",
    "\r\n",
    "        return True"
   ],
   "outputs": [],
   "metadata": {}
  },
  {
   "cell_type": "code",
   "execution_count": 10,
   "source": [
    "# Test on Cases\r\n",
    "S = Solution()\r\n",
    "\r\n",
    "print(\"---isSameTree_recursion---\")\r\n",
    "print(f\"Case 1: {S.isSameTree_recursion(TreeNode(1, TreeNode(2), TreeNode(3)), TreeNode(1, TreeNode(2), TreeNode(3)))}\")\r\n",
    "print(f\"Case 2: {S.isSameTree_recursion(TreeNode(1, TreeNode(2), None), TreeNode(1, None, TreeNode(2)))}\\n\")\r\n",
    "\r\n",
    "print(\"---isSameTree_BFS---\")\r\n",
    "print(f\"Case 1: {S.isSameTree_BFS(TreeNode(1, TreeNode(2), TreeNode(3)), TreeNode(1, TreeNode(2), TreeNode(3)))}\")\r\n",
    "print(f\"Case 2: {S.isSameTree_BFS(TreeNode(1, TreeNode(2), None), TreeNode(1, None, TreeNode(2)))}\\n\")\r\n",
    "\r\n",
    "print(\"---isSameTree_DFS---\")\r\n",
    "print(f\"Case 1: {S.isSameTree_DFS(TreeNode(1, TreeNode(2), TreeNode(3)), TreeNode(1, TreeNode(2), TreeNode(3)))}\")\r\n",
    "print(f\"Case 2: {S.isSameTree_DFS(TreeNode(1, TreeNode(2), None), TreeNode(1, None, TreeNode(2)))}\")"
   ],
   "outputs": [
    {
     "output_type": "stream",
     "name": "stdout",
     "text": [
      "---isSameTree_recursion---\n",
      "Case 1: True\n",
      "Case 2: False\n",
      "\n",
      "---isSameTree_BFS---\n",
      "Case 1: True\n",
      "Case 2: False\n",
      "\n",
      "---isSameTree_DFS---\n",
      "Case 1: True\n",
      "Case 2: False\n"
     ]
    }
   ],
   "metadata": {}
  }
 ],
 "metadata": {
  "kernelspec": {
   "display_name": "Python 3",
   "language": "python",
   "name": "python3"
  },
  "language_info": {
   "codemirror_mode": {
    "name": "ipython",
    "version": 3
   },
   "file_extension": ".py",
   "mimetype": "text/x-python",
   "name": "python",
   "nbconvert_exporter": "python",
   "pygments_lexer": "ipython3",
   "version": "3.7.7"
  }
 },
 "nbformat": 4,
 "nbformat_minor": 4
}