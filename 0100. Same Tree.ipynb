{
 "cells": [
  {
   "cell_type": "markdown",
   "metadata": {},
   "source": [
    "`# Binary Tree` `# Breadth-first Search` `# Depth-first Search` `# Tree`"
   ]
  },
  {
   "cell_type": "markdown",
   "metadata": {},
   "source": [
    "Given the roots of two binary trees `p` and `q`, write a function to *check if they are the same or not*.\n",
    "\n",
    "Two binary trees are considered the same if they are structurally identical, and the nodes have the same value."
   ]
  },
  {
   "cell_type": "markdown",
   "metadata": {},
   "source": [
    "**Example 1:**  \n",
    "![Image of leetcode 0100 problem example 1](https://assets.leetcode.com/uploads/2020/12/20/ex1.jpg)\n",
    "> Input: p = [1,2,3], q = [1,2,3]  \n",
    "> Output: true  \n",
    "    \n",
    "**Example 2:**  \n",
    "![Image of leetcode 0100 problem example 2](https://assets.leetcode.com/uploads/2020/12/20/ex2.jpg)\n",
    "> Input: p = [1,2], q = [1,null,2]  \n",
    "> Output: false  "
   ]
  },
  {
   "cell_type": "code",
   "execution_count": 1,
   "metadata": {},
   "outputs": [],
   "source": [
    "class TreeNode:\n",
    "    def __init__(self, val=0, left=None, right=None):\n",
    "        self.val = val\n",
    "        self.left = left\n",
    "        self.right = right\n",
    "\n",
    "class Solution:\n",
    "    \n",
    "    # Time Complexity： O(n)\n",
    "    # Space Complexity： O(h)    \n",
    "    def isSameTree_DFS_recursion(self, p: TreeNode, q: TreeNode) -> bool:\n",
    "        return p.val == q.val and \\\n",
    "               self.isSameTree_DFS_recursion(p.left, q.left) and \\\n",
    "               self.isSameTree_DFS_recursion(p.right, q.right) if p and q else p == q    # check None = None\n",
    "    \n",
    "    # Time Complexity： O(n)\n",
    "    # Space Complexity： O(w)     \n",
    "    def isSameTree_BFS(self, p: TreeNode, q: TreeNode) -> bool:\n",
    "        from collections import deque \n",
    "        \n",
    "        queue = deque([(p, q)])\n",
    "        \n",
    "        while queue:\n",
    "            p, q = queue.popleft()\n",
    "            \n",
    "            if p and q and p.val == q.val: queue.extend([(p.left, q.left), (p.right, q.right)])\n",
    "            elif p or q: return False\n",
    "        \n",
    "        return True\n",
    "\n",
    "    # Time Complexity： O(n)\n",
    "    # Space Complexity： O(h) \n",
    "    def isSameTree_DFS_iteration(self, p: TreeNode, q: TreeNode) -> bool:\n",
    "        stack = [(p, q)]\n",
    "\n",
    "        while stack:\n",
    "            p, q = stack.pop()\n",
    "            \n",
    "            if p and q and p.val == q.val: stack.extend([(p.left, q.left), (p.right, q.right)])\n",
    "            elif p or q: return False\n",
    "        \n",
    "        return True"
   ]
  },
  {
   "cell_type": "code",
   "execution_count": 2,
   "metadata": {},
   "outputs": [
    {
     "name": "stdout",
     "output_type": "stream",
     "text": [
      "---isSameTree_DFS_recursion---\n",
      "Case 1: True\n",
      "Case 2: False\n",
      "\n",
      "---isSameTree_BFS---\n",
      "Case 1: True\n",
      "Case 2: False\n",
      "\n",
      "---isSameTree_DFS_iteration---\n",
      "Case 1: True\n",
      "Case 2: False\n"
     ]
    }
   ],
   "source": [
    "# Test on Cases\n",
    "S = Solution()\n",
    "\n",
    "print(\"---isSameTree_DFS_recursion---\")\n",
    "print(f\"Case 1: {S.isSameTree_DFS_recursion(TreeNode(1, TreeNode(2), TreeNode(3)), TreeNode(1, TreeNode(2), TreeNode(3)))}\")\n",
    "print(f\"Case 2: {S.isSameTree_DFS_recursion(TreeNode(1, TreeNode(2), None), TreeNode(1, None, TreeNode(2)))}\\n\")\n",
    "\n",
    "print(\"---isSameTree_BFS---\")\n",
    "print(f\"Case 1: {S.isSameTree_BFS(TreeNode(1, TreeNode(2), TreeNode(3)), TreeNode(1, TreeNode(2), TreeNode(3)))}\")\n",
    "print(f\"Case 2: {S.isSameTree_BFS(TreeNode(1, TreeNode(2), None), TreeNode(1, None, TreeNode(2)))}\\n\")\n",
    "\n",
    "print(\"---isSameTree_DFS_iteration---\")\n",
    "print(f\"Case 1: {S.isSameTree_DFS_iteration(TreeNode(1, TreeNode(2), TreeNode(3)), TreeNode(1, TreeNode(2), TreeNode(3)))}\")\n",
    "print(f\"Case 2: {S.isSameTree_DFS_iteration(TreeNode(1, TreeNode(2), None), TreeNode(1, None, TreeNode(2)))}\")"
   ]
  }
 ],
 "metadata": {
  "kernelspec": {
   "display_name": "Python 3 (ipykernel)",
   "language": "python",
   "name": "python3"
  },
  "language_info": {
   "codemirror_mode": {
    "name": "ipython",
    "version": 3
   },
   "file_extension": ".py",
   "mimetype": "text/x-python",
   "name": "python",
   "nbconvert_exporter": "python",
   "pygments_lexer": "ipython3",
   "version": "3.10.4"
  },
  "vscode": {
   "interpreter": {
    "hash": "21d8332eb27bea95342760850bd7426f517b6a483537194bbba87e10eeabf6ff"
   }
  }
 },
 "nbformat": 4,
 "nbformat_minor": 4
}
