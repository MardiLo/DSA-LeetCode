{
 "cells": [
  {
   "cell_type": "markdown",
   "metadata": {},
   "source": [
    "`# Array` `# Greedy`"
   ]
  },
  {
   "cell_type": "markdown",
   "metadata": {},
   "source": [
    "Given an integer array `nums`, return `true` *if there exists a triple of indices* `(i, j, k)` *such that* `i < j < k` *and* `nums[i] < nums[j] < nums[k]`. If no such indices exists, return `false`."
   ]
  },
  {
   "cell_type": "markdown",
   "metadata": {},
   "source": [
    "**Example 1:**\n",
    "\n",
    "> Input: nums = [1,2,3,4,5]  \n",
    "> Output: true  \n",
    "> Explanation: Any triplet where i < j < k is valid.   \n",
    "\n",
    "**Example 2**\n",
    "\n",
    "> Input: nums = [5,4,3,2,1]  \n",
    "> Output: false  \n",
    "> Explanation: No triplet exists.   \n",
    "\n",
    "**Example 3:**\n",
    "\n",
    "> Input: nums = [2,1,5,0,4,6]  \n",
    "> Output: true  \n",
    "> Explanation: The triplet (3, 4, 5) is valid because nums[3] == 0 < nums[4] == 4 < nums[5] == 6.  "
   ]
  },
  {
   "cell_type": "code",
   "execution_count": 1,
   "metadata": {},
   "outputs": [],
   "source": [
    "class Solution:\n",
    "    \n",
    "    # Time Complexity： O(n)\n",
    "    # Space Complexity： O(1)\n",
    "    def increasingTriplet(self, nums: list[int]) -> bool:\n",
    "        one = two = float(\"inf\")\n",
    "        \n",
    "        for num in nums:\n",
    "            if num < one: one = num\n",
    "            elif one < num < two: two = num\n",
    "            elif two < num: return True\n",
    "        \n",
    "        return False\n",
    "\n",
    "    # Time Complexity： O(n^3), TLE\n",
    "    # Space Complexity： O(1)\n",
    "    def increasingTriplet_bruteForce(self, nums: list[int]) -> bool:\n",
    "        from itertools import combinations\n",
    "\n",
    "        return any(nums[i] < nums[j] < nums[k] for i, j, k in combinations(range(len(nums)), 3))"
   ]
  },
  {
   "cell_type": "code",
   "execution_count": 2,
   "metadata": {},
   "outputs": [
    {
     "name": "stdout",
     "output_type": "stream",
     "text": [
      "---increasingTriplet---\n",
      "Case 1: True\n",
      "Case 2: False\n",
      "Case 3: True\n",
      "\n",
      "---increasingTriplet_bruteForce---\n",
      "Case 1: True\n",
      "Case 2: False\n",
      "Case 3: True\n"
     ]
    }
   ],
   "source": [
    "# Test on Cases\n",
    "S = Solution()\n",
    "\n",
    "print(\"---increasingTriplet---\")\n",
    "print(f\"Case 1: {S.increasingTriplet([1,2,3,4,5])}\")\n",
    "print(f\"Case 2: {S.increasingTriplet([5,4,3,2,1])}\")\n",
    "print(f\"Case 3: {S.increasingTriplet([2,1,5,0,4,6])}\\n\")\n",
    "\n",
    "print(\"---increasingTriplet_bruteForce---\")\n",
    "print(f\"Case 1: {S.increasingTriplet_bruteForce([1,2,3,4,5])}\")\n",
    "print(f\"Case 2: {S.increasingTriplet_bruteForce([5,4,3,2,1])}\")\n",
    "print(f\"Case 3: {S.increasingTriplet_bruteForce([2,1,5,0,4,6])}\")"
   ]
  }
 ],
 "metadata": {
  "kernelspec": {
   "display_name": "leetcode",
   "language": "python",
   "name": "python3"
  },
  "language_info": {
   "codemirror_mode": {
    "name": "ipython",
    "version": 3
   },
   "file_extension": ".py",
   "mimetype": "text/x-python",
   "name": "python",
   "nbconvert_exporter": "python",
   "pygments_lexer": "ipython3",
   "version": "3.10.4"
  },
  "vscode": {
   "interpreter": {
    "hash": "21d8332eb27bea95342760850bd7426f517b6a483537194bbba87e10eeabf6ff"
   }
  }
 },
 "nbformat": 4,
 "nbformat_minor": 4
}
