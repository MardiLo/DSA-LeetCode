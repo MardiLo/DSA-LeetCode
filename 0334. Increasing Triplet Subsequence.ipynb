{
 "cells": [
  {
   "cell_type": "markdown",
   "metadata": {},
   "source": [
    "`# Array` `# Greedy`"
   ]
  },
  {
   "cell_type": "markdown",
   "metadata": {},
   "source": [
    "Given an integer array `nums`, return `true` *if there exists a triple of indices* `(i, j, k)` *such that* `i < j < k` *and* `nums[i] < nums[j] < nums[k]`. If no such indices exists, return `false`."
   ]
  },
  {
   "cell_type": "markdown",
   "metadata": {},
   "source": [
    "**Example 1:**\n",
    "\n",
    "> Input: nums = [1,2,3,4,5]  \n",
    "Output: true  \n",
    "Explanation: Any triplet where i < j < k is valid.   \n",
    "\n",
    "**Example 2**\n",
    "\n",
    "> Input: nums = [5,4,3,2,1]  \n",
    "Output: false  \n",
    "Explanation: No triplet exists.   \n",
    "\n",
    "**Example 3:**\n",
    "\n",
    "> Input: nums = [2,1,5,0,4,6]  \n",
    "Output: true  \n",
    "Explanation: The triplet (3, 4, 5) is valid because nums[3] == 0 < nums[4] == 4 < nums[5] == 6.  "
   ]
  },
  {
   "cell_type": "code",
   "execution_count": 1,
   "metadata": {},
   "outputs": [],
   "source": [
    "class Solution:\n",
    "    \n",
    "    # Time Complexity： O(n)\n",
    "    # Space Complexity： O(1)\n",
    "    def increasingTriplet(self, nums: list[int]) -> bool:\n",
    "        one = two = float(\"inf\")    # SC: O(1)\n",
    "        \n",
    "        for num in nums:            # TC: O(n)\n",
    "            if num < one: \n",
    "                one = num\n",
    "            elif one < num < two: \n",
    "                two = num\n",
    "            elif two < num: \n",
    "                return True\n",
    "        \n",
    "        return False"
   ]
  },
  {
   "cell_type": "code",
   "execution_count": 2,
   "metadata": {},
   "outputs": [
    {
     "name": "stdout",
     "output_type": "stream",
     "text": [
      "Case 1: True\n",
      "Case 2: False\n",
      "Case 3: True\n"
     ]
    }
   ],
   "source": [
    "# Test on Cases\n",
    "S = Solution()\n",
    "\n",
    "print(f\"Case 1: {S.increasingTriplet([1,2,3,4,5])}\")\n",
    "print(f\"Case 2: {S.increasingTriplet([5,4,3,2,1])}\")\n",
    "print(f\"Case 3: {S.increasingTriplet([2,1,5,0,4,6])}\")"
   ]
  }
 ],
 "metadata": {
  "interpreter": {
   "hash": "6ab137a14910b4ee65d0ea442464c53c8571f8241496146388c5db8c59915964"
  },
  "kernelspec": {
   "display_name": "Python 3.7.7 64-bit ('spark': conda)",
   "name": "python3"
  },
  "language_info": {
   "codemirror_mode": {
    "name": "ipython",
    "version": 3
   },
   "file_extension": ".py",
   "mimetype": "text/x-python",
   "name": "python",
   "nbconvert_exporter": "python",
   "pygments_lexer": "ipython3",
   "version": "3.7.7"
  }
 },
 "nbformat": 4,
 "nbformat_minor": 4
}
