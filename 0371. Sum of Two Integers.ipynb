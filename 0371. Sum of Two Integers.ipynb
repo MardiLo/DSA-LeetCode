{
 "cells": [
  {
   "cell_type": "markdown",
   "metadata": {},
   "source": [
    "`# Bit Manipulation` `# Math`"
   ]
  },
  {
   "cell_type": "markdown",
   "metadata": {},
   "source": [
    "Given two integers `a` and `b`, return *the sum of the two integers without using the operators* `+` *and* `-`."
   ]
  },
  {
   "cell_type": "markdown",
   "metadata": {},
   "source": [
    "**Example 1:**  \n",
    "\n",
    "> Input: a = 1, b = 2  \n",
    "Output: 3  \n",
    "\n",
    "**Example 2:**\n",
    "\n",
    "> Input: a = 2, b = 3  \n",
    "Output: 5  "
   ]
  },
  {
   "cell_type": "code",
   "execution_count": 1,
   "metadata": {},
   "outputs": [],
   "source": [
    "class Solution:\n",
    "    \n",
    "    # Time Complexity： O(32)\n",
    "    # Space Complexity： O(1)      \n",
    "    def getSum(self, a: 'int', b: 'int') -> 'int':\n",
    "        MAX = 0x7FFFFFFF                         # 32 bits integer max\n",
    "        mask = 0xffffffff                        # mask to get last 32 bits\n",
    "        \n",
    "        while b:                                 # keep looping while there's any carry\n",
    "            summation = (a ^ b) & mask\n",
    "            carry = ((a & b) << 1) & mask\n",
    "            a, b = summation, carry\n",
    "        \n",
    "        return a if a <= MAX else ~(a ^ mask)    # use ~(a^mask) to retrive negative numbers back"
   ]
  },
  {
   "cell_type": "code",
   "execution_count": 2,
   "metadata": {},
   "outputs": [
    {
     "name": "stdout",
     "output_type": "stream",
     "text": [
      "Case 1: 3\n",
      "Case 2: 5\n"
     ]
    }
   ],
   "source": [
    "# Test on Cases\n",
    "S = Solution()\n",
    "\n",
    "print(f\"Case 1: {S.getSum(1, 2)}\")\n",
    "print(f\"Case 2: {S.getSum(2, 3)}\")"
   ]
  },
  {
   "cell_type": "markdown",
   "metadata": {},
   "source": [
    "**Ref**\n",
    "1. [【Python】 BEST LeetCode 371 Explanation for Python](https://leetcode.com/problems/sum-of-two-integers/discuss/776952/Python-BEST-LeetCode-371-Explanation-for-Python)\n",
    "2. [Python solution with no \"+-*/%\", completely bit manipulation guaranteed](https://leetcode.com/problems/sum-of-two-integers/discuss/84282/Python-solution-with-no-%22%2B-*%22-completely-bit-manipulation-guaranteed)"
   ]
  }
 ],
 "metadata": {
  "interpreter": {
   "hash": "6ab137a14910b4ee65d0ea442464c53c8571f8241496146388c5db8c59915964"
  },
  "kernelspec": {
   "display_name": "Python 3.7.7 64-bit ('spark': conda)",
   "name": "python3"
  },
  "language_info": {
   "codemirror_mode": {
    "name": "ipython",
    "version": 3
   },
   "file_extension": ".py",
   "mimetype": "text/x-python",
   "name": "python",
   "nbconvert_exporter": "python",
   "pygments_lexer": "ipython3",
   "version": "3.7.7"
  }
 },
 "nbformat": 4,
 "nbformat_minor": 4
}
