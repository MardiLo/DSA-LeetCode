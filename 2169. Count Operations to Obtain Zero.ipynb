{
 "cells": [
  {
   "cell_type": "markdown",
   "metadata": {},
   "source": [
    "`# Math` `# Simulation` "
   ]
  },
  {
   "cell_type": "markdown",
   "metadata": {},
   "source": [
    "You are given two **non-negative** integers `num1` and `num2`.\n",
    "\n",
    "In one **operation**, if `num1 >= num2`, you must subtract `num2` from `num1`, otherwise subtract `num1` from `num2`.\n",
    "\n",
    "For example, if `num1 = 5` and `num2 = 4`, subtract `num2` from `num1`, thus obtaining `num1 = 1` and `num2 = 4`. However, if `num1 = 4` and `num2 = 5`, after one operation, `num1 = 4` and `num2 = 1`.\n",
    "\n",
    "Return *the ***number of operations*** required to make either* `num1 = 0` *or* `num2 = 0`."
   ]
  },
  {
   "cell_type": "markdown",
   "metadata": {},
   "source": [
    "**Example 1:**\n",
    "\n",
    "> Input: num1 = 2, num2 = 3  \n",
    "Output: 3  \n",
    "Explanation:   \n",
    "    - Operation 1: num1 = 2, num2 = 3. Since num1 < num2, we subtract num1 from num2 and get num1 = 2, num2 = 3 - 2 = 1.  \n",
    "    - Operation 2: num1 = 2, num2 = 1. Since num1 > num2, we subtract num2 from num1.  \n",
    "    - Operation 3: num1 = 1, num2 = 1. Since num1 == num2, we subtract num2 from num1.  \n",
    "Now num1 = 0 and num2 = 1. Since num1 == 0, we do not need to perform any further operations.  \n",
    "So the total number of operations required is 3.\n",
    "\n",
    "**Example 2:**\n",
    "\n",
    "> Input: num1 = 10, num2 = 10  \n",
    "Output: 1  \n",
    "Explanation:   \n",
    "    - Operation 1: num1 = 10, num2 = 10. Since num1 == num2, we subtract num2 from num1 and get num1 = 10 - 10 = 0.  \n",
    "Now num1 = 0 and num2 = 10. Since num1 == 0, we are done.  \n",
    "So the total number of operations required is 1."
   ]
  },
  {
   "cell_type": "code",
   "execution_count": 1,
   "metadata": {},
   "outputs": [],
   "source": [
    "class Solution:\n",
    "    \n",
    "    # Time Complexity： O(log(min(m, n)))\n",
    "    # Space Complexity： O(1)    \n",
    "    def countOperations(self, num1: int, num2: int) -> int:\n",
    "        cnt = 0\n",
    "        \n",
    "        while num1 and num2:\n",
    "            if num1 >= num2: op, num1 = divmod(num1, num2)\n",
    "            else: op, num2 = divmod(num2, num1)\n",
    "            cnt += op\n",
    "        \n",
    "        return cnt"
   ]
  },
  {
   "cell_type": "code",
   "execution_count": 2,
   "metadata": {},
   "outputs": [
    {
     "name": "stdout",
     "output_type": "stream",
     "text": [
      "Case 1: 3\n",
      "Case 2: 1\n"
     ]
    }
   ],
   "source": [
    "# Test on Cases\n",
    "S = Solution()\n",
    "\n",
    "print(f\"Case 1: {S.countOperations(2, 3)}\")\n",
    "print(f\"Case 2: {S.countOperations(10, 10)}\")"
   ]
  }
 ],
 "metadata": {
  "interpreter": {
   "hash": "21d8332eb27bea95342760850bd7426f517b6a483537194bbba87e10eeabf6ff"
  },
  "kernelspec": {
   "display_name": "Python 3.10.4 ('leetcode')",
   "language": "python",
   "name": "python3"
  },
  "language_info": {
   "codemirror_mode": {
    "name": "ipython",
    "version": 3
   },
   "file_extension": ".py",
   "mimetype": "text/x-python",
   "name": "python",
   "nbconvert_exporter": "python",
   "pygments_lexer": "ipython3",
   "version": "3.10.4"
  }
 },
 "nbformat": 4,
 "nbformat_minor": 4
}
