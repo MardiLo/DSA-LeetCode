{
 "cells": [
  {
   "attachments": {},
   "cell_type": "markdown",
   "metadata": {},
   "source": [
    "`# Array`"
   ]
  },
  {
   "attachments": {},
   "cell_type": "markdown",
   "metadata": {},
   "source": [
    "You are given a **sorted unique** integer array `nums`.\n",
    "\n",
    "A **range** `[a,b]` is the set of all integers from `a` to `b` (inclusive).\n",
    "\n",
    "Return *the ***smallest sorted*** list of ranges that ***cover all the numbers in the array exactly***.* That is, each element of `nums` is covered by exactly one of the ranges, and there is no integer `x` such that `x` is in one of the ranges but not in `nums`.\n",
    "\n",
    "Each range `[a,b]` in the list should be output as:\n",
    "\n",
    "- `\"a->b\"` if `a != b`\n",
    "- `\"a\"` if `a == b`"
   ]
  },
  {
   "attachments": {},
   "cell_type": "markdown",
   "metadata": {},
   "source": [
    "**Example 1:**\n",
    "\n",
    "> Input: nums = [0,1,2,4,5,7]  \n",
    "> Output: [\"0->2\",\"4->5\",\"7\"]  \n",
    "> Explanation: The ranges are:  \n",
    "> [0,2] --> \"0->2\"  \n",
    "> [4,5] --> \"4->5\"  \n",
    "> [7,7] --> \"7\"  \n",
    "\n",
    "**Example 2:**\n",
    "\n",
    "> Input: nums = [0,2,3,4,6,8,9]  \n",
    "> Output: [\"0\",\"2->4\",\"6\",\"8->9\"]  \n",
    "> Explanation: The ranges are:  \n",
    "> [0,0] --> \"0\"  \n",
    "> [2,4] --> \"2->4\"  \n",
    "> [6,6] --> \"6\"  \n",
    "> [8,9] --> \"8->9\""
   ]
  },
  {
   "cell_type": "code",
   "execution_count": 3,
   "metadata": {},
   "outputs": [],
   "source": [
    "class Solution:\n",
    "    \n",
    "    # Time Complexity： O(n)\n",
    "    # Space Complexity： O(n)\n",
    "    def summaryRanges(self, nums: list[int]) -> list[str]:\n",
    "        ranges = []\n",
    "\n",
    "        for num in nums:\n",
    "            if not ranges or num > ranges[-1][-1] + 1: ranges += [[]]\n",
    "            ranges[-1][1:] = [num]\n",
    "        \n",
    "        return ['->'.join(map(str, r)) for r in ranges]"
   ]
  },
  {
   "cell_type": "code",
   "execution_count": 4,
   "metadata": {},
   "outputs": [
    {
     "name": "stdout",
     "output_type": "stream",
     "text": [
      "Case 1: ['0->2', '4->5', '7']\n",
      "Case 2: ['0', '2->4', '6', '8->9']\n"
     ]
    }
   ],
   "source": [
    "# Test on Cases\n",
    "S = Solution()\n",
    "\n",
    "print(f\"Case 1: {S.summaryRanges([0,1,2,4,5,7])}\")\n",
    "print(f\"Case 2: {S.summaryRanges([0,2,3,4,6,8,9])}\")"
   ]
  }
 ],
 "metadata": {
  "kernelspec": {
   "display_name": "Python 3 (ipykernel)",
   "language": "python",
   "name": "python3"
  },
  "language_info": {
   "codemirror_mode": {
    "name": "ipython",
    "version": 3
   },
   "file_extension": ".py",
   "mimetype": "text/x-python",
   "name": "python",
   "nbconvert_exporter": "python",
   "pygments_lexer": "ipython3",
   "version": "3.10.4"
  },
  "vscode": {
   "interpreter": {
    "hash": "21d8332eb27bea95342760850bd7426f517b6a483537194bbba87e10eeabf6ff"
   }
  }
 },
 "nbformat": 4,
 "nbformat_minor": 4
}
