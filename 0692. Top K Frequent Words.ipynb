{
 "cells": [
  {
   "cell_type": "markdown",
   "source": [
    "`# Bucket Sort` `# Counting` `# Hash Table` `# Heap (Priority Queue)` `# Sorting` `# String` `# Trie`"
   ],
   "metadata": {}
  },
  {
   "cell_type": "markdown",
   "source": [
    "Given an array of strings `words` and an integer `k`, return *the* `k` *most frequent strings*.\n",
    "\n",
    "Return the answer **sorted by the frequency from highest to lowest**. Sort the words with the same frequency by their **lexicographical order**."
   ],
   "metadata": {}
  },
  {
   "cell_type": "markdown",
   "source": [
    "**Example 1:**\n",
    "\n",
    "> Input: words = [\"i\",\"love\",\"leetcode\",\"i\",\"love\",\"coding\"], k = 2  \n",
    "Output: [\"i\",\"love\"]  \n",
    "Explanation: \"i\" and \"love\" are the two most frequent words.  \n",
    "Note that \"i\" comes before \"love\" due to a lower alphabetical order.  \n",
    "\n",
    "**Example 2:**\n",
    "\n",
    "> Input: words = [\"the\",\"day\",\"is\",\"sunny\",\"the\",\"the\",\"the\",\"sunny\",\"is\",\"is\"], k = 4  \n",
    "Output: [\"the\",\"is\",\"sunny\",\"day\"]  \n",
    "Explanation: \"the\", \"is\", \"sunny\" and \"day\" are the four most frequent words, with the number of occurrence being 4, 3, 2 and 1 respectively.  "
   ],
   "metadata": {}
  },
  {
   "cell_type": "code",
   "execution_count": 3,
   "source": [
    "class Solution:\r\n",
    "    \r\n",
    "    # Time Complexity： O(n)\r\n",
    "    # Space Complexity： O(n)    \r\n",
    "    def topKFrequent_bucketSort(self, nums: 'List[int]', k: 'int') -> 'List[int]':\r\n",
    "        from collections import Counter \r\n",
    "                \r\n",
    "        buckets = [[] for _ in range(len(words))]                    # SC: O(n); TC: O(n)\r\n",
    "        dic = Counter(words)                                         # SC: O(n); TC: O(n)\r\n",
    "        \r\n",
    "        for word, freq in dic.items():                               # TC: O(n)\r\n",
    "            buckets[freq-1].append(word) \r\n",
    "        \r\n",
    "        flatten = [word for bucket in buckets for word in sorted(bucket, reverse=1)]    # SC: O(n); TC: O(nlogk)\r\n",
    "        return flatten[::-1][:k]"
   ],
   "outputs": [],
   "metadata": {}
  },
  {
   "cell_type": "code",
   "execution_count": 4,
   "source": [
    "# Test on Cases\r\n",
    "S = Solution()\r\n",
    "\r\n",
    "print(f\"Case 1: {S.topKFrequent_bucketSort([\"i\",\"love\",\"leetcode\",\"i\",\"love\",\"coding\"], 2)}\")\r\n",
    "print(f\"Case 2: {S.topKFrequent_bucketSort([\"the\",\"day\",\"is\",\"sunny\",\"the\",\"the\",\"the\",\"sunny\",\"is\",\"is\"], 4)}\")"
   ],
   "outputs": [
    {
     "output_type": "stream",
     "name": "stdout",
     "text": [
      "Case 1: [1, 2]\n",
      "Case 2: [1]\n"
     ]
    }
   ],
   "metadata": {}
  },
  {
   "cell_type": "markdown",
   "source": [
    "**Ref**\n",
    "1. [Python 3 solution with O(nlogk) and O(n)](https://leetcode.com/problems/top-k-frequent-words/discuss/108348/Python-3-solution-with-O(nlogk)-and-O(n))"
   ],
   "metadata": {}
  }
 ],
 "metadata": {
  "kernelspec": {
   "display_name": "Python 3",
   "language": "python",
   "name": "python3"
  },
  "language_info": {
   "codemirror_mode": {
    "name": "ipython",
    "version": 3
   },
   "file_extension": ".py",
   "mimetype": "text/x-python",
   "name": "python",
   "nbconvert_exporter": "python",
   "pygments_lexer": "ipython3",
   "version": "3.7.7"
  }
 },
 "nbformat": 4,
 "nbformat_minor": 4
}