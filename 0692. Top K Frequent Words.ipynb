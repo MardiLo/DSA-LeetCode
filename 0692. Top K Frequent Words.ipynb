{
 "cells": [
  {
   "cell_type": "markdown",
   "metadata": {},
   "source": [
    "`# Bucket Sort` `# Counting` `# Hash Table` `# Heap (Priority Queue)` `# Sorting` `# String` `# Trie`"
   ]
  },
  {
   "cell_type": "markdown",
   "metadata": {},
   "source": [
    "Given an array of strings `words` and an integer `k`, return *the* `k` *most frequent strings*.\n",
    "\n",
    "Return the answer **sorted by the frequency from highest to lowest**. Sort the words with the same frequency by their **lexicographical order**."
   ]
  },
  {
   "cell_type": "markdown",
   "metadata": {},
   "source": [
    "**Example 1:**\n",
    "\n",
    "> Input: words = [\"i\",\"love\",\"leetcode\",\"i\",\"love\",\"coding\"], k = 2  \n",
    "> Output: [\"i\",\"love\"]  \n",
    "> Explanation: \"i\" and \"love\" are the two most frequent words.  \n",
    "> Note that \"i\" comes before \"love\" due to a lower alphabetical order.  \n",
    "\n",
    "**Example 2:**\n",
    "\n",
    "> Input: words = [\"the\",\"day\",\"is\",\"sunny\",\"the\",\"the\",\"the\",\"sunny\",\"is\",\"is\"], k = 4  \n",
    "> Output: [\"the\",\"is\",\"sunny\",\"day\"]  \n",
    "> Explanation: \"the\", \"is\", \"sunny\" and \"day\" are the four most frequent words, with the number of occurrence being 4, 3, 2 and 1 respectively.  "
   ]
  },
  {
   "cell_type": "code",
   "execution_count": 12,
   "metadata": {},
   "outputs": [],
   "source": [
    "class Solution:\n",
    "    \n",
    "    # Time Complexity： O(nlogn)\n",
    "    # Space Complexity： O(n)    \n",
    "    def topKFrequent_bucketSort(self, words: list[int], k: int) -> list[int]:\n",
    "        from collections import Counter \n",
    "                \n",
    "        buckets = [[] for _ in range(len(words))]                                             # TC: O(n); SC: O(n)\n",
    "        cnt = Counter(words)                                                                  # TC: O(n); SC: O(n)\n",
    "        \n",
    "        for word, freq in cnt.items():                                                        # TC: O(n)\n",
    "            buckets[freq-1].append(word) \n",
    "        \n",
    "        bucketSort = [word for bucket in buckets for word in sorted(bucket, reverse=True)]    # TC: O(nlogn); SC: O(n)\n",
    "\n",
    "        return bucketSort[:-(k+1):-1]\n",
    "\n",
    "    # Time Complexity： O(nlogk)\n",
    "    # Space Complexity： O(n)    \n",
    "    def topKFrequent_lib(self, words: list[int], k: int) -> list[int]:\n",
    "        from collections import Counter \n",
    "        from heapq import nsmallest\n",
    "\n",
    "        cnt = Counter(words)                                                                  # TC: O(n); SC: O(n)\n",
    "        return nsmallest(k, cnt.keys(), key=lambda x: (-cnt[x], x))                           # TC: O(nlogk); SC: O(k)"
   ]
  },
  {
   "cell_type": "code",
   "execution_count": 13,
   "metadata": {},
   "outputs": [
    {
     "name": "stdout",
     "output_type": "stream",
     "text": [
      "---topKFrequent_bucketSort---\n",
      "Case 1: ['i', 'love']\n",
      "Case 2: ['the', 'is', 'sunny', 'day']\n",
      "\n",
      "---topKFrequent_lib---\n",
      "Case 1: ['i', 'love']\n",
      "Case 2: ['the', 'is', 'sunny', 'day']\n"
     ]
    }
   ],
   "source": [
    "# Test on Cases\n",
    "S = Solution()\n",
    "\n",
    "print(\"---topKFrequent_bucketSort---\")\n",
    "print(f\"Case 1: {S.topKFrequent_bucketSort(['i','love','leetcode','i','love','coding'], 2)}\")\n",
    "print(f\"Case 2: {S.topKFrequent_bucketSort(['the','day','is','sunny','the','the','the','sunny','is','is'], 4)}\\n\")\n",
    "\n",
    "print(\"---topKFrequent_lib---\")\n",
    "print(f\"Case 1: {S.topKFrequent_lib(['i','love','leetcode','i','love','coding'], 2)}\")\n",
    "print(f\"Case 2: {S.topKFrequent_lib(['the','day','is','sunny','the','the','the','sunny','is','is'], 4)}\")"
   ]
  },
  {
   "cell_type": "markdown",
   "metadata": {},
   "source": [
    "**Ref**\n",
    "1. [Python 3 solution with O(nlogk) and O(n)](https://leetcode.com/problems/top-k-frequent-words/discuss/108348/Python-3-solution-with-O(nlogk)-and-O(n))"
   ]
  }
 ],
 "metadata": {
  "kernelspec": {
   "display_name": "Python 3 (ipykernel)",
   "language": "python",
   "name": "python3"
  },
  "language_info": {
   "codemirror_mode": {
    "name": "ipython",
    "version": 3
   },
   "file_extension": ".py",
   "mimetype": "text/x-python",
   "name": "python",
   "nbconvert_exporter": "python",
   "pygments_lexer": "ipython3",
   "version": "3.10.4"
  },
  "vscode": {
   "interpreter": {
    "hash": "21d8332eb27bea95342760850bd7426f517b6a483537194bbba87e10eeabf6ff"
   }
  }
 },
 "nbformat": 4,
 "nbformat_minor": 4
}
