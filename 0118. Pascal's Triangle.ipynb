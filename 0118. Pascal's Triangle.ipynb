{
 "cells": [
  {
   "cell_type": "markdown",
   "source": [
    "`# Array`"
   ],
   "metadata": {}
  },
  {
   "cell_type": "markdown",
   "source": [
    "Given a non-negative integer `numRows`, generate the first numRows of Pascal's triangle. In Pascal's triangle, each number is the sum of the two numbers directly above it."
   ],
   "metadata": {}
  },
  {
   "cell_type": "markdown",
   "source": [
    "**Example:**\n",
    "\n",
    "> Input: 5  \n",
    "Output:\n",
    "[\n",
    "     [1],\n",
    "    [1,1],\n",
    "   [1,2,1],\n",
    "  [1,3,3,1],\n",
    " [1,4,6,4,1]\n",
    "]"
   ],
   "metadata": {}
  },
  {
   "cell_type": "code",
   "execution_count": 6,
   "source": [
    "class Solution:\r\n",
    "    \r\n",
    "    # Time Complexity： O(n^2)\r\n",
    "    # Space Complexity： O(1)\r\n",
    "    def generate(self, numRows: 'int') -> 'List[List[int]]':\r\n",
    "        pascal = [[1] * (i+1) for i in range(numRows)]\r\n",
    "        \r\n",
    "        for i in range(2, numRows):\r\n",
    "            for j in range(1, i):\r\n",
    "                pascal[i][j] = pascal[i-1][j-1] + pascal[i-1][j]\r\n",
    "                \r\n",
    "        return pascal"
   ],
   "outputs": [],
   "metadata": {}
  },
  {
   "cell_type": "code",
   "execution_count": 10,
   "source": [
    "# Test on Cases\r\n",
    "S = Solution()\r\n",
    "\r\n",
    "print(f\"Case 1: {S.generate(5)}\")"
   ],
   "outputs": [
    {
     "output_type": "stream",
     "name": "stdout",
     "text": [
      "Case 1: [[1], [1, 1], [1, 2, 1], [1, 3, 3, 1], [1, 4, 6, 4, 1]]\n"
     ]
    }
   ],
   "metadata": {}
  }
 ],
 "metadata": {
  "kernelspec": {
   "display_name": "Python 3",
   "language": "python",
   "name": "python3"
  },
  "language_info": {
   "codemirror_mode": {
    "name": "ipython",
    "version": 3
   },
   "file_extension": ".py",
   "mimetype": "text/x-python",
   "name": "python",
   "nbconvert_exporter": "python",
   "pygments_lexer": "ipython3",
   "version": "3.7.7"
  }
 },
 "nbformat": 4,
 "nbformat_minor": 4
}