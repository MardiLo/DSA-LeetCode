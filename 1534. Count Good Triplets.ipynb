{
 "cells": [
  {
   "cell_type": "markdown",
   "metadata": {},
   "source": [
    "`# Array` `# Bit Manipulation` `# Hash Table` `# String`"
   ]
  },
  {
   "cell_type": "markdown",
   "metadata": {},
   "source": [
    "Given an array of integers `arr`, and three integers `a`, `b` and `c`. You need to find the number of good triplets.\n",
    "\n",
    "A triplet `(arr[i], arr[j], arr[k])` is **good** if the following conditions are true:\n",
    "\n",
    "- `0 <= i < j < k < arr.length`\n",
    "- `|arr[i] - arr[j]| <= a`\n",
    "- `|arr[j] - arr[k]| <= b`\n",
    "- `|arr[i] - arr[k]| <= c`\n",
    "\n",
    "Where `|x|` denotes the absolute value of `x`.\n",
    "\n",
    "Return *the number of good triplets.*"
   ]
  },
  {
   "cell_type": "markdown",
   "metadata": {},
   "source": [
    "**Example 1:**\n",
    "\n",
    "> Input: arr = [3,0,1,1,9,7], a = 7, b = 2, c = 3  \n",
    "Output: 4  \n",
    "Explanation: There are 4 good triplets: [(3,0,1), (3,0,1), (3,1,1), (0,1,1)].\n",
    "\n",
    "**Example 2:**\n",
    "\n",
    "> Input: arr = [1,1,2,2,3], a = 0, b = 0, c = 1  \n",
    "Output: 0  \n",
    "Explanation: No triplet satisfies all conditions.\n"
   ]
  },
  {
   "cell_type": "code",
   "execution_count": 1,
   "metadata": {},
   "outputs": [],
   "source": [
    "class Solution:\n",
    "\n",
    "    # Time Complexity： O(n^3)\n",
    "    # Space Complexity： O(1)\n",
    "    def countGoodTriplets(self, arr: list[int], a: int, b: int, c: int) -> int:\n",
    "        from itertools import combinations\n",
    "\n",
    "        return sum(abs(arr[i] - arr[j]) <= a and abs(arr[j] - arr[k]) <= b and abs(arr[i] - arr[k]) <= c for i, j, k in combinations(range(len(arr)), 3))\n"
   ]
  },
  {
   "cell_type": "code",
   "execution_count": 2,
   "metadata": {},
   "outputs": [
    {
     "name": "stdout",
     "output_type": "stream",
     "text": [
      "Case 1: 4\n",
      "Case 2: 0\n"
     ]
    }
   ],
   "source": [
    "# Test on Cases\n",
    "S = Solution()\n",
    "\n",
    "print(f\"Case 1: {S.countGoodTriplets([3,0,1,1,9,7], 7, 2, 3)}\")\n",
    "print(f\"Case 2: {S.countGoodTriplets([1,1,2,2,3], 0, 0, 1)}\")"
   ]
  }
 ],
 "metadata": {
  "kernelspec": {
   "display_name": "Python 3.10.4 ('leetcode')",
   "language": "python",
   "name": "python3"
  },
  "language_info": {
   "codemirror_mode": {
    "name": "ipython",
    "version": 3
   },
   "file_extension": ".py",
   "mimetype": "text/x-python",
   "name": "python",
   "nbconvert_exporter": "python",
   "pygments_lexer": "ipython3",
   "version": "3.10.4"
  },
  "vscode": {
   "interpreter": {
    "hash": "21d8332eb27bea95342760850bd7426f517b6a483537194bbba87e10eeabf6ff"
   }
  }
 },
 "nbformat": 4,
 "nbformat_minor": 4
}
