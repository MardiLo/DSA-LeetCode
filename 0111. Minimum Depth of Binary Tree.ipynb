{
 "cells": [
  {
   "cell_type": "markdown",
   "source": [
    "`# Binary Tree` `# Breadth-First Search` `# Depth-first Search` `# Tree`"
   ],
   "metadata": {}
  },
  {
   "cell_type": "markdown",
   "source": [
    "Given a binary tree, find *its minimum depth*.\n",
    "\n",
    "The **minimum depth** is the number of nodes along the shortest path from the `root` node down to the nearest leaf node.\n",
    "\n",
    "Note: A leaf is a node with no children."
   ],
   "metadata": {}
  },
  {
   "cell_type": "markdown",
   "source": [
    "**Example 1:**  \r\n",
    "![Image of leetcode 0111 problem example 1](https://assets.leetcode.com/uploads/2020/10/12/ex_depth.jpg)\r\n",
    "> Input: root = [3,9,20,null,null,15,7]  \r\n",
    "Output: 2\r\n",
    "\r\n",
    "**Example 2:**  \r\n",
    "\r\n",
    "> Input: root = [2,null,3,null,4,null,5,null,6]  \r\n",
    "Output: 5"
   ],
   "metadata": {}
  },
  {
   "cell_type": "code",
   "execution_count": 4,
   "source": [
    "class TreeNode:\r\n",
    "    def __init__(self, val=0, left=None, right=None):\r\n",
    "        self.val = val\r\n",
    "        self.left = left\r\n",
    "        self.right = right\r\n",
    "\r\n",
    "class Solution:\r\n",
    "    \r\n",
    "    # Time Complexity： O(n)\r\n",
    "    # Space Complexity： O(log(n)) in average; worst case O(n)\r\n",
    "    def minDepth_recursion(self, root: 'TreeNode') -> 'int':\r\n",
    "        \"\"\"\r\n",
    "        Note that recursion perhaps causes stack overflow.\r\n",
    "        \"\"\"\r\n",
    "        if not root:\r\n",
    "            return 0\r\n",
    "        if None in [root.left, root.right]:\r\n",
    "            return max(self.minDepth_recursion(root.left), self.minDepth_recursion(root.right)) + 1\r\n",
    "        else:\r\n",
    "            return min(self.minDepth_recursion(root.left), self.minDepth_recursion(root.right)) + 1\r\n",
    "    \r\n",
    "    # Time Complexity： O(n)\r\n",
    "    # Space Complexity： O(n)\r\n",
    "    def minDepth_BFS(self, root: 'TreeNode') -> 'int':\r\n",
    "        from collections import deque \r\n",
    "        \r\n",
    "        if not root:\r\n",
    "            return 0\r\n",
    "             \r\n",
    "        queue = deque([(root, 1)])\r\n",
    "        while queue:\r\n",
    "            node, level = queue.popleft()    # TC: deque.popleft(): O(1)\r\n",
    "            \r\n",
    "            if not node.left and not node.right:\r\n",
    "                return level\r\n",
    "            \r\n",
    "            else:\r\n",
    "                if node.left:\r\n",
    "                    queue.append((node.left, level+1))\r\n",
    "                if node.right:\r\n",
    "                    queue.append((node.right, level+1))\r\n",
    "\r\n",
    "    # Time Complexity： O(n)\r\n",
    "    # Space Complexity： O(n)                    \r\n",
    "    def minDepth_DFS(self, root: 'TreeNode') -> 'int':               \r\n",
    "        if not root:\r\n",
    "            return 0\r\n",
    "           \r\n",
    "        min_level = float(\"inf\")\r\n",
    "        stack = [(root, 1)]\r\n",
    "        while stack:\r\n",
    "            node, level = stack.pop()        # TC: list.pop(0): O(n)\r\n",
    "            \r\n",
    "            if node and not node.left and not node.right:\r\n",
    "                min_level = min(min_level, level)\r\n",
    "            \r\n",
    "            if node:\r\n",
    "                stack.append((node.left, level+1))\r\n",
    "                stack.append((node.right, level+1))\r\n",
    "            \r\n",
    "        return min_level"
   ],
   "outputs": [],
   "metadata": {}
  },
  {
   "cell_type": "code",
   "execution_count": 6,
   "source": [
    "# Test on Cases\r\n",
    "S = Solution()\r\n",
    "\r\n",
    "print(\"---minDepth_recursion---\")\r\n",
    "print(f\"Case 1: {S.minDepth_recursion(TreeNode(3, TreeNode(9), TreeNode(20, TreeNode(15), TreeNode(17))))}\")\r\n",
    "print(f\"Case 2: {S.minDepth_recursion(TreeNode(2, None, TreeNode(3, None, TreeNode(4, None, TreeNode(5, None, TreeNode(6))))))}\\n\")\r\n",
    "\r\n",
    "print(\"---minDepth_BFS---\")\r\n",
    "print(f\"Case 1: {S.minDepth_BFS(TreeNode(3, TreeNode(9), TreeNode(20, TreeNode(15), TreeNode(17))))}\")\r\n",
    "print(f\"Case 2: {S.minDepth_BFS(TreeNode(2, None, TreeNode(3, None, TreeNode(4, None, TreeNode(5, None, TreeNode(6))))))}\\n\")\r\n",
    "\r\n",
    "print(\"---minDepth_recursion---\")\r\n",
    "print(f\"Case 1: {S.minDepth_DFS(TreeNode(3, TreeNode(9), TreeNode(20, TreeNode(15), TreeNode(17))))}\")\r\n",
    "print(f\"Case 2: {S.minDepth_DFS(TreeNode(2, None, TreeNode(3, None, TreeNode(4, None, TreeNode(5, None, TreeNode(6))))))}\")"
   ],
   "outputs": [
    {
     "output_type": "stream",
     "name": "stdout",
     "text": [
      "---minDepth_recursion---\n",
      "Case 1: 2\n",
      "Case 2: 5\n",
      "\n",
      "---minDepth_BFS---\n",
      "Case 1: 2\n",
      "Case 2: 5\n",
      "\n",
      "---minDepth_recursion---\n",
      "Case 1: 2\n",
      "Case 2: 5\n"
     ]
    }
   ],
   "metadata": {}
  }
 ],
 "metadata": {
  "kernelspec": {
   "display_name": "Python 3",
   "language": "python",
   "name": "python3"
  },
  "language_info": {
   "codemirror_mode": {
    "name": "ipython",
    "version": 3
   },
   "file_extension": ".py",
   "mimetype": "text/x-python",
   "name": "python",
   "nbconvert_exporter": "python",
   "pygments_lexer": "ipython3",
   "version": "3.7.7"
  }
 },
 "nbformat": 4,
 "nbformat_minor": 4
}