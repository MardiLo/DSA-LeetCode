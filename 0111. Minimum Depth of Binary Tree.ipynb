{
 "cells": [
  {
   "cell_type": "markdown",
   "metadata": {},
   "source": [
    "`# Binary Tree` `# Breadth-First Search` `# Depth-first Search` `# Tree`"
   ]
  },
  {
   "cell_type": "markdown",
   "metadata": {},
   "source": [
    "Given a binary tree, find *its minimum depth*.\n",
    "\n",
    "The **minimum depth** is the number of nodes along the shortest path from the `root` node down to the nearest leaf node.\n",
    "\n",
    "Note: A leaf is a node with no children."
   ]
  },
  {
   "cell_type": "markdown",
   "metadata": {},
   "source": [
    "**Example 1:**  \n",
    "![Image of leetcode 0111 problem example 1](https://assets.leetcode.com/uploads/2020/10/12/ex_depth.jpg)\n",
    "> Input: root = [3,9,20,null,null,15,7]  \n",
    "Output: 2\n",
    "\n",
    "**Example 2:**  \n",
    "\n",
    "> Input: root = [2,null,3,null,4,null,5,null,6]  \n",
    "Output: 5"
   ]
  },
  {
   "cell_type": "code",
   "execution_count": 5,
   "metadata": {},
   "outputs": [],
   "source": [
    "class TreeNode:\n",
    "    def __init__(self, val=0, left=None, right=None):\n",
    "        self.val = val\n",
    "        self.left = left\n",
    "        self.right = right\n",
    "\n",
    "class Solution:\n",
    "    \n",
    "    # Time Complexity： O(n)\n",
    "    # Space Complexity： O(h)\n",
    "    def minDepth_recursion(self, root: TreeNode) -> int:\n",
    "        if not root: return 0\n",
    "        \n",
    "        return min(map(self.minDepth_recursion, (root.left, root.right))) + 1 if root.left and root.right else max(map(self.minDepth_recursion, (root.left, root.right))) + 1\n",
    "    \n",
    "    # Time Complexity： O(n)\n",
    "    # Space Complexity： O(n)\n",
    "    def minDepth_BFS(self, root: TreeNode) -> int:\n",
    "        from collections import deque \n",
    "        \n",
    "        if not root: return 0\n",
    "           \n",
    "        queue = deque([(1, root)])\n",
    "        while queue:\n",
    "            level, root = queue.popleft()\n",
    "                 \n",
    "            if root:\n",
    "                if not root.left and not root.right: return level\n",
    "                queue.extend([(level+1, root.left), (level+1, root.right)])\n",
    "\n",
    "\n",
    "    # Time Complexity： O(n)\n",
    "    # Space Complexity： O(h)                    \n",
    "    def minDepth_DFS(self, root: TreeNode) -> int:\n",
    "        if not root: return 0\n",
    "           \n",
    "        stack, minLevel = [(1, root)], float(\"inf\")\n",
    "        while stack:\n",
    "            level, root = stack.pop()\n",
    "                 \n",
    "            if root:\n",
    "                if not root.left and not root.right: minLevel = min(minLevel, level)\n",
    "                stack.extend([(level+1, root.left), (level+1, root.right)])\n",
    "            \n",
    "        return minLevel"
   ]
  },
  {
   "cell_type": "code",
   "execution_count": 6,
   "metadata": {},
   "outputs": [
    {
     "name": "stdout",
     "output_type": "stream",
     "text": [
      "---minDepth_recursion---\n",
      "Case 1: 2\n",
      "Case 2: 5\n",
      "\n",
      "---minDepth_BFS---\n",
      "Case 1: 2\n",
      "Case 2: 5\n",
      "\n",
      "---minDepth_DFS---\n",
      "Case 1: 2\n",
      "Case 2: 5\n"
     ]
    }
   ],
   "source": [
    "# Test on Cases\n",
    "S = Solution()\n",
    "\n",
    "print(\"---minDepth_recursion---\")\n",
    "print(f\"Case 1: {S.minDepth_recursion(TreeNode(3, TreeNode(9), TreeNode(20, TreeNode(15), TreeNode(17))))}\")\n",
    "print(f\"Case 2: {S.minDepth_recursion(TreeNode(2, None, TreeNode(3, None, TreeNode(4, None, TreeNode(5, None, TreeNode(6))))))}\\n\")\n",
    "\n",
    "print(\"---minDepth_BFS---\")\n",
    "print(f\"Case 1: {S.minDepth_BFS(TreeNode(3, TreeNode(9), TreeNode(20, TreeNode(15), TreeNode(17))))}\")\n",
    "print(f\"Case 2: {S.minDepth_BFS(TreeNode(2, None, TreeNode(3, None, TreeNode(4, None, TreeNode(5, None, TreeNode(6))))))}\\n\")\n",
    "\n",
    "print(\"---minDepth_DFS---\")\n",
    "print(f\"Case 1: {S.minDepth_DFS(TreeNode(3, TreeNode(9), TreeNode(20, TreeNode(15), TreeNode(17))))}\")\n",
    "print(f\"Case 2: {S.minDepth_DFS(TreeNode(2, None, TreeNode(3, None, TreeNode(4, None, TreeNode(5, None, TreeNode(6))))))}\")"
   ]
  }
 ],
 "metadata": {
  "kernelspec": {
   "display_name": "Python 3.10.4 ('leetcode')",
   "language": "python",
   "name": "python3"
  },
  "language_info": {
   "codemirror_mode": {
    "name": "ipython",
    "version": 3
   },
   "file_extension": ".py",
   "mimetype": "text/x-python",
   "name": "python",
   "nbconvert_exporter": "python",
   "pygments_lexer": "ipython3",
   "version": "3.10.4"
  },
  "vscode": {
   "interpreter": {
    "hash": "21d8332eb27bea95342760850bd7426f517b6a483537194bbba87e10eeabf6ff"
   }
  }
 },
 "nbformat": 4,
 "nbformat_minor": 4
}
