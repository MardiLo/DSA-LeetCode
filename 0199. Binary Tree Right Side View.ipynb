{
 "cells": [
  {
   "cell_type": "markdown",
   "metadata": {},
   "source": [
    "`# Binary Tree` `# Breadth-First Search` `# Depth-First Search` `# Tree`"
   ]
  },
  {
   "cell_type": "markdown",
   "metadata": {},
   "source": [
    "Given the `root` of a binary tree, imagine yourself standing on the right side of it, return *the values of the nodes you can see ordered from top to bottom*."
   ]
  },
  {
   "cell_type": "markdown",
   "metadata": {},
   "source": [
    "**Example 1:**  \n",
    "![Image of leetcode 0199 problem example 1](https://assets.leetcode.com/uploads/2021/02/14/tree.jpg)\n",
    "> Input: root = [1,2,3,null,5,null,4]  \n",
    "Output: [1,3,4]   \n",
    "\n",
    "**Example 2:**\n",
    "\n",
    "> Input: root = [1,null,3]  \n",
    "Output: [1,3]   \n",
    "\n",
    "**Example 3:**\n",
    "\n",
    "> Input: root = []  \n",
    "Output: []  "
   ]
  },
  {
   "cell_type": "code",
   "execution_count": 3,
   "metadata": {},
   "outputs": [],
   "source": [
    "class TreeNode:\n",
    "    def __init__(self, val=0, left=None, right=None):\n",
    "        self.val = val\n",
    "        self.left = left\n",
    "        self.right = right\n",
    "\n",
    "class Solution:   \n",
    "    \n",
    "    # Time Complexity： O(n)\n",
    "    # Space Complexity： O(w)  \n",
    "    def rightSideView(self, root: TreeNode) -> list[list[int]]:\n",
    "        from collections import deque\n",
    "        \n",
    "        if not root: return []\n",
    "        \n",
    "        queue, bfs = deque([(1, root)]), []\n",
    "        while queue:\n",
    "            level, root = queue.popleft()\n",
    "            \n",
    "            if root:\n",
    "                if len(bfs) != level: bfs.append(None)\n",
    "                bfs[level-1] = root.val\n",
    "                \n",
    "                queue.extend([(level+1, root.left), (level+1, root.right)])\n",
    "                \n",
    "        return bfs"
   ]
  },
  {
   "cell_type": "code",
   "execution_count": 4,
   "metadata": {},
   "outputs": [
    {
     "name": "stdout",
     "output_type": "stream",
     "text": [
      "Case 1: [1, 3, 4]\n",
      "Case 2: [1, 3]\n",
      "Case 3: []\n"
     ]
    }
   ],
   "source": [
    "# Test on Cases\n",
    "S = Solution()\n",
    "\n",
    "print(f\"Case 1: {S.rightSideView(TreeNode(1, TreeNode(2, TreeNode(None), TreeNode(5)), TreeNode(3, TreeNode(None), TreeNode(4))))}\")\n",
    "print(f\"Case 2: {S.rightSideView(TreeNode(1, TreeNode(None), TreeNode(3)))}\")\n",
    "print(f\"Case 3: {S.rightSideView([])}\")"
   ]
  },
  {
   "cell_type": "markdown",
   "metadata": {},
   "source": [
    "**Ref**\n",
    "1. [Python easy to understand BFS solution (level by level)](https://leetcode.com/problems/binary-tree-right-side-view/discuss/56248/Python-easy-to-understand-BFS-solution-(level-by-level))"
   ]
  }
 ],
 "metadata": {
  "kernelspec": {
   "display_name": "Python 3.10.4 ('leetcode')",
   "language": "python",
   "name": "python3"
  },
  "language_info": {
   "codemirror_mode": {
    "name": "ipython",
    "version": 3
   },
   "file_extension": ".py",
   "mimetype": "text/x-python",
   "name": "python",
   "nbconvert_exporter": "python",
   "pygments_lexer": "ipython3",
   "version": "3.10.4"
  },
  "vscode": {
   "interpreter": {
    "hash": "21d8332eb27bea95342760850bd7426f517b6a483537194bbba87e10eeabf6ff"
   }
  }
 },
 "nbformat": 4,
 "nbformat_minor": 4
}
