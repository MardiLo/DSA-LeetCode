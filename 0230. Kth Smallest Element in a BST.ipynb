{
 "cells": [
  {
   "cell_type": "markdown",
   "metadata": {},
   "source": [
    "`# Binary Search Tree` `# Binary Tree` `# Depth-First Search` `# Tree` "
   ]
  },
  {
   "cell_type": "markdown",
   "metadata": {},
   "source": [
    "Given the `root` of a binary search tree, and an integer `k`, return *the* `k`<sup>`th`</sup> *smallest value (1-indexed) of all the values of the nodes in the tree*."
   ]
  },
  {
   "cell_type": "markdown",
   "metadata": {},
   "source": [
    "**Example 1:**  \n",
    "![Image of leetcode 0230 problem example 1](https://assets.leetcode.com/uploads/2021/01/28/kthtree1.jpg) \n",
    "> Input: root = [3,1,4,null,2], k = 1  \n",
    "> Output: 1  \n",
    "\n",
    "**Example 2**  \n",
    "![Image of leetcode 0230 problem example 2](https://assets.leetcode.com/uploads/2021/01/28/kthtree2.jpg) \n",
    "> Input: root = [5,3,6,2,4,null,null,1], k = 3  \n",
    "> Output: 3  "
   ]
  },
  {
   "cell_type": "code",
   "execution_count": 12,
   "metadata": {},
   "outputs": [],
   "source": [
    "class TreeNode:\n",
    "    def __init__(self, val=0, left=None, right=None):\n",
    "        self.val = val\n",
    "        self.left = left\n",
    "        self.right = right\n",
    "        \n",
    "class Solution:\n",
    "    # Time Complexity： O(n)\n",
    "    # Space Complexity： O(h)\n",
    "    def kthSmallest_DFS_recursion(self, root: TreeNode, k: int) -> int:\n",
    "        self.res, self.k = None, k\n",
    "        \n",
    "        def dfs(root):\n",
    "            if not root: return \n",
    "            \n",
    "            dfs(root.left)\n",
    "            \n",
    "            self.k -= 1\n",
    "            if not self.k: self.res = root.val\n",
    "            \n",
    "            dfs(root.right)\n",
    "        \n",
    "        dfs(root)\n",
    "        return self.res\n",
    "\n",
    "    # Time Complexity： O(n)\n",
    "    # Space Complexity： O(h)\n",
    "    def kthSmallest_DFS_iteration(self, root: TreeNode, k: int) -> int:\n",
    "        \"\"\"If a tree is a BST, then each node value we visit by inorder traversal is grater than the previous node\"\"\"\n",
    "        \n",
    "        stack = [(0, root)]\n",
    "\n",
    "        while stack:\n",
    "            visited, root = stack.pop()\n",
    "\n",
    "            if root:\n",
    "                if not visited:\n",
    "                    stack.extend([(0, root.right), (1, root), (0, root.left)])\n",
    "                else:\n",
    "                    if not (k := k - 1): return root.val"
   ]
  },
  {
   "cell_type": "code",
   "execution_count": 13,
   "metadata": {},
   "outputs": [
    {
     "name": "stdout",
     "output_type": "stream",
     "text": [
      "---kthSmallest_DFS_recursion---\n",
      "Case 1: 1\n",
      "Case 2: 3\n",
      "\n",
      "---kthSmallest_DFS_iteration---\n",
      "Case 1: 1\n",
      "Case 2: 3\n"
     ]
    }
   ],
   "source": [
    "# Test on Cases\n",
    "S = Solution()\n",
    "\n",
    "print(\"---kthSmallest_DFS_recursion---\")\n",
    "print(f\"Case 1: {S.kthSmallest_DFS_recursion(TreeNode(3, TreeNode(1, None, TreeNode(2)), TreeNode(4)), 1)}\")\n",
    "print(f\"Case 2: {S.kthSmallest_DFS_recursion(TreeNode(5, TreeNode(3, TreeNode(2, TreeNode(1)), TreeNode(4)), TreeNode(6)), 3)}\\n\")\n",
    "\n",
    "print(\"---kthSmallest_DFS_iteration---\")\n",
    "print(f\"Case 1: {S.kthSmallest_DFS_iteration(TreeNode(3, TreeNode(1, None, TreeNode(2)), TreeNode(4)), 1)}\")\n",
    "print(f\"Case 2: {S.kthSmallest_DFS_iteration(TreeNode(5, TreeNode(3, TreeNode(2, TreeNode(1)), TreeNode(4)), TreeNode(6)), 3)}\")"
   ]
  }
 ],
 "metadata": {
  "kernelspec": {
   "display_name": "Python 3 (ipykernel)",
   "language": "python",
   "name": "python3"
  },
  "language_info": {
   "codemirror_mode": {
    "name": "ipython",
    "version": 3
   },
   "file_extension": ".py",
   "mimetype": "text/x-python",
   "name": "python",
   "nbconvert_exporter": "python",
   "pygments_lexer": "ipython3",
   "version": "3.10.4"
  },
  "vscode": {
   "interpreter": {
    "hash": "21d8332eb27bea95342760850bd7426f517b6a483537194bbba87e10eeabf6ff"
   }
  }
 },
 "nbformat": 4,
 "nbformat_minor": 4
}
