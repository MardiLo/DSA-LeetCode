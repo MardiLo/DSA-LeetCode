{
 "cells": [
  {
   "cell_type": "markdown",
   "metadata": {},
   "source": [
    "`# Binary Tree` `# Binary Search Tree` `# Depth-First Search` `# Tree` "
   ]
  },
  {
   "cell_type": "markdown",
   "metadata": {},
   "source": [
    "Given the `root` of a binary search tree, and an integer `k`, return *the* `k`<sup>`th`</sup> *smallest value (1-indexed) of all the values of the nodes in the tree*."
   ]
  },
  {
   "cell_type": "markdown",
   "metadata": {},
   "source": [
    "**Example 1:**  \n",
    "![Image of leetcode 0230 problem example 1](https://assets.leetcode.com/uploads/2021/01/28/kthtree1.jpg) \n",
    "> Input: root = [3,1,4,null,2], k = 1  \n",
    "Output: 1  \n",
    "\n",
    "**Example 2**  \n",
    "![Image of leetcode 0230 problem example 2](https://assets.leetcode.com/uploads/2021/01/28/kthtree2.jpg) \n",
    "> Input: root = [5,3,6,2,4,null,null,1], k = 3  \n",
    "Output: 3  "
   ]
  },
  {
   "cell_type": "code",
   "execution_count": 3,
   "metadata": {},
   "outputs": [],
   "source": [
    "class TreeNode:\n",
    "    def __init__(self, val=0, left=None, right=None):\n",
    "        self.val = val\n",
    "        self.left = left\n",
    "        self.right = right\n",
    "        \n",
    "class Solution:\n",
    "    \n",
    "    # Time Complexity： O(n)\n",
    "    # Space Complexity： O(k)\n",
    "    def kthSmallest(self, root: 'TreeNode', k: 'int') -> 'int':\n",
    "        from collections import deque\n",
    "\n",
    "        queue = deque(maxlen=k)    # SC: O(k)\n",
    "        \n",
    "        while True:\n",
    "            while root:\n",
    "                queue.append(root)\n",
    "                root = root.left\n",
    "            \n",
    "            root = queue.pop()\n",
    "            k -= 1\n",
    "            \n",
    "            if not k: return root.val\n",
    "            \n",
    "            root = root.right"
   ]
  },
  {
   "cell_type": "code",
   "execution_count": 4,
   "metadata": {},
   "outputs": [
    {
     "name": "stdout",
     "output_type": "stream",
     "text": [
      "Case 1: 1\n",
      "Case 2: 3\n"
     ]
    }
   ],
   "source": [
    "# Test on Cases\n",
    "S = Solution()\n",
    "\n",
    "print(f\"Case 1: {S.kthSmallest(TreeNode(3, TreeNode(1, None, TreeNode(2)), TreeNode(4)), 1)}\")\n",
    "print(f\"Case 2: {S.kthSmallest(TreeNode(5, TreeNode(3, TreeNode(2, TreeNode(1)), TreeNode(4)), TreeNode(6)), 3)}\")"
   ]
  }
 ],
 "metadata": {
  "interpreter": {
   "hash": "ba9359eadc070f03edd6183a4af22ffcaf60363daf070b8f22fbedba67666dbe"
  },
  "kernelspec": {
   "display_name": "Python 3.7.7 64-bit ('flask': conda)",
   "name": "python3"
  },
  "language_info": {
   "codemirror_mode": {
    "name": "ipython",
    "version": 3
   },
   "file_extension": ".py",
   "mimetype": "text/x-python",
   "name": "python",
   "nbconvert_exporter": "python",
   "pygments_lexer": "ipython3",
   "version": "3.7.7"
  }
 },
 "nbformat": 4,
 "nbformat_minor": 4
}
