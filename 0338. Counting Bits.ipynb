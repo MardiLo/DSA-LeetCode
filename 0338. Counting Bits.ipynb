{
 "cells": [
  {
   "cell_type": "markdown",
   "source": [
    "`# Bit Manipulation` `# Dynamic Programming`"
   ],
   "metadata": {},
   "attachments": {}
  },
  {
   "cell_type": "markdown",
   "source": [
    "Given an integer `n`, return an array `ans` of length `n + 1` such that for each `i (0 <= i <= n)`, `ans[i]` is the number of 1's in the binary representation of `i`."
   ],
   "metadata": {}
  },
  {
   "cell_type": "markdown",
   "source": [
    "**Example 1:**\n",
    "\n",
    "> Input: n = 2  \n",
    "Output: [0,1,1]  \n",
    "Explanation:  \n",
    "0 --> 0  \n",
    "1 --> 1  \n",
    "2 --> 10  \n",
    "\n",
    "**Example 2:**\n",
    "\n",
    "> Input: n = 5  \n",
    "Output: [0,1,1,2,1,2]  \n",
    "Explanation:  \n",
    "0 --> 0  \n",
    "1 --> 1  \n",
    "2 --> 10  \n",
    "3 --> 11  \n",
    "4 --> 100  \n",
    "5 --> 101  "
   ],
   "metadata": {}
  },
  {
   "cell_type": "code",
   "execution_count": 3,
   "source": [
    "class Solution:\r\n",
    "    \r\n",
    "    # Time Complexity： O(n)\r\n",
    "    # Space Complexity： O(n)\r\n",
    "    def countBits(self, n: 'int') -> 'List[int]':\r\n",
    "        dp = [0] * (n+1)\r\n",
    "        \r\n",
    "        for i in range(n+1):\r\n",
    "            dp[i] = dp[i>>1] + (i&1)    # dp[i>>1]: Find similar number pairs; (i&1): Odd number plus 1, Even number plus 0\r\n",
    "            \r\n",
    "        return dp"
   ],
   "outputs": [],
   "metadata": {}
  },
  {
   "cell_type": "code",
   "execution_count": 4,
   "source": [
    "# Test on Cases\r\n",
    "S = Solution()\r\n",
    "\r\n",
    "print(f\"Case 1: {S.countBits(2)}\")\r\n",
    "print(f\"Case 2: {S.countBits(5)}\")"
   ],
   "outputs": [
    {
     "output_type": "stream",
     "name": "stdout",
     "text": [
      "Case 1: [0, 1, 1]\n",
      "Case 2: [0, 1, 1, 2, 1, 2]\n"
     ]
    }
   ],
   "metadata": {}
  }
 ],
 "metadata": {
  "kernelspec": {
   "display_name": "Python 3",
   "language": "python",
   "name": "python3"
  },
  "language_info": {
   "codemirror_mode": {
    "name": "ipython",
    "version": 3
   },
   "file_extension": ".py",
   "mimetype": "text/x-python",
   "name": "python",
   "nbconvert_exporter": "python",
   "pygments_lexer": "ipython3",
   "version": "3.7.7"
  }
 },
 "nbformat": 4,
 "nbformat_minor": 4
}