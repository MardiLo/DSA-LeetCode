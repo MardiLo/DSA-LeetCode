{
 "cells": [
  {
   "attachments": {},
   "cell_type": "markdown",
   "metadata": {},
   "source": [
    "`# Bit Manipulation` `# Dynamic Programming`"
   ]
  },
  {
   "cell_type": "markdown",
   "metadata": {},
   "source": [
    "Given an integer `n`, return an array `ans` of length `n + 1` such that for each `i (0 <= i <= n)`, `ans[i]` is the number of 1's in the binary representation of `i`."
   ]
  },
  {
   "cell_type": "markdown",
   "metadata": {},
   "source": [
    "**Example 1:**\n",
    "\n",
    "> Input: n = 2  \n",
    "Output: [0,1,1]  \n",
    "Explanation:  \n",
    "0 --> 0  \n",
    "1 --> 1  \n",
    "2 --> 10  \n",
    "\n",
    "**Example 2:**\n",
    "\n",
    "> Input: n = 5  \n",
    "Output: [0,1,1,2,1,2]  \n",
    "Explanation:  \n",
    "0 --> 0  \n",
    "1 --> 1  \n",
    "2 --> 10  \n",
    "3 --> 11  \n",
    "4 --> 100  \n",
    "5 --> 101  "
   ]
  },
  {
   "cell_type": "code",
   "execution_count": 3,
   "metadata": {},
   "outputs": [],
   "source": [
    "class Solution:\n",
    "    \n",
    "    # Time Complexity： O(n)\n",
    "    # Space Complexity： O(n)\n",
    "    def countBits(self, n: 'int') -> 'List[int]':\n",
    "        dp = [0] * (n+1)\n",
    "        \n",
    "        for i in range(n+1):\n",
    "            dp[i] = dp[i>>1] + (i&1)    # dp[i>>1]: Find similar number pairs; (i&1): Odd number plus 1, Even number plus 0\n",
    "            \n",
    "        return dp"
   ]
  },
  {
   "cell_type": "code",
   "execution_count": 4,
   "metadata": {},
   "outputs": [
    {
     "name": "stdout",
     "output_type": "stream",
     "text": [
      "Case 1: [0, 1, 1]\n",
      "Case 2: [0, 1, 1, 2, 1, 2]\n"
     ]
    }
   ],
   "source": [
    "# Test on Cases\n",
    "S = Solution()\n",
    "\n",
    "print(f\"Case 1: {S.countBits(2)}\")\n",
    "print(f\"Case 2: {S.countBits(5)}\")"
   ]
  },
  {
   "cell_type": "code",
   "execution_count": null,
   "metadata": {},
   "outputs": [],
   "source": []
  }
 ],
 "metadata": {
  "kernelspec": {
   "display_name": "Python 3",
   "language": "python",
   "name": "python3"
  },
  "language_info": {
   "codemirror_mode": {
    "name": "ipython",
    "version": 3
   },
   "file_extension": ".py",
   "mimetype": "text/x-python",
   "name": "python",
   "nbconvert_exporter": "python",
   "pygments_lexer": "ipython3",
   "version": "3.7.7"
  }
 },
 "nbformat": 4,
 "nbformat_minor": 4
}
