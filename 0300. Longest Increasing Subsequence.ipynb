{
 "cells": [
  {
   "cell_type": "markdown",
   "source": [
    "`# Array` `# Binary Search` `# Dynamic Programming`"
   ],
   "metadata": {}
  },
  {
   "cell_type": "markdown",
   "source": [
    "Given an integer array `nums`, return *the ***length*** of the longest strictly increasing subsequence*.\n",
    "\n",
    "A subsequence is a sequence that can be derived from an array by deleting some or no elements without changing the order of the remaining elements. For example, `[3,6,2,7]` is a subsequence of the array `[0,3,1,6,2,2,7]`."
   ],
   "metadata": {}
  },
  {
   "cell_type": "markdown",
   "source": [
    "**Example 1:**\n",
    "\n",
    "> Input: nums = [10,9,2,5,3,7,101,18]  \n",
    "Output: 4  \n",
    "Explanation: The longest increasing subsequence is [2,3,7,101], therefore the length is 4.  \n",
    "\n",
    "**Example 2:**\n",
    "\n",
    "> Input: nums = [0,1,0,3,2,3]  \n",
    "Output: 4  \n",
    "\n",
    "**Example 3:**\n",
    "\n",
    "> Input: nums = [7,7,7,7,7,7,7]  \n",
    "Output: 1  "
   ],
   "metadata": {}
  },
  {
   "cell_type": "code",
   "execution_count": 5,
   "source": [
    "class Solution:\r\n",
    "    \r\n",
    "    # Time Complexity： O(n^2)\r\n",
    "    # Space Complexity： O(n)\r\n",
    "    def lengthOfLIS_dp(self, nums: 'List[int]') -> 'int':\r\n",
    "        dp = [1] * len(nums)\r\n",
    "        \r\n",
    "        for i in range(1, len(nums)):\r\n",
    "            for j in range(i):\r\n",
    "                if nums[i] > nums[j]:\r\n",
    "                    dp[i] = max(dp[i], dp[j] + 1)\r\n",
    "                    \r\n",
    "        return max(dp)\r\n",
    "\r\n",
    "    \r\n",
    "    # Time Complexity： O(nlogn)\r\n",
    "    # Space Complexity： O(n)\r\n",
    "    def lengthOfLIS_binarySearch(self, nums: 'List[int]') -> 'int':\r\n",
    "        from bisect import bisect_left\r\n",
    "        \r\n",
    "        dp = []\r\n",
    "        \r\n",
    "        for num in nums:\r\n",
    "            idx = bisect_left(dp, num)    # bisect_left: O(logn)\r\n",
    "            \r\n",
    "            if idx == len(dp):\r\n",
    "                dp.append(num)\r\n",
    "            else:\r\n",
    "                dp[idx] = num\r\n",
    "        \r\n",
    "        return len(dp)"
   ],
   "outputs": [],
   "metadata": {}
  },
  {
   "cell_type": "code",
   "execution_count": 7,
   "source": [
    "# Test on Cases\r\n",
    "S = Solution()\r\n",
    "\r\n",
    "print(\"---lengthOfLIS_dp---\")\r\n",
    "print(f\"Case 1: {S.lengthOfLIS_dp([10,9,2,5,3,7,101,18])}\")\r\n",
    "print(f\"Case 2: {S.lengthOfLIS_dp([0,1,0,3,2,3])}\")\r\n",
    "print(f\"Case 3: {S.lengthOfLIS_dp([7,7,7,7,7,7,7])}\\n\")\r\n",
    "\r\n",
    "print(\"---lengthOfLIS_binarySearch---\")\r\n",
    "print(f\"Case 1: {S.lengthOfLIS_binarySearch([10,9,2,5,3,7,101,18])}\")\r\n",
    "print(f\"Case 2: {S.lengthOfLIS_binarySearch([0,1,0,3,2,3])}\")\r\n",
    "print(f\"Case 3: {S.lengthOfLIS_binarySearch([7,7,7,7,7,7,7])}\")"
   ],
   "outputs": [
    {
     "output_type": "stream",
     "name": "stdout",
     "text": [
      "---lengthOfLIS_dp---\n",
      "Case 1: 4\n",
      "Case 2: 4\n",
      "Case 3: 1\n",
      "\n",
      "---lengthOfLIS_binarySearch---\n",
      "Case 1: 4\n",
      "Case 2: 4\n",
      "Case 3: 1\n"
     ]
    }
   ],
   "metadata": {}
  },
  {
   "cell_type": "markdown",
   "source": [
    "**Ref**\n",
    "1. [[Python] 3 Lines, dp with binary search, explained](https://leetcode.com/problems/longest-increasing-subsequence/discuss/667975/Python-3-Lines-dp-with-binary-search-explained)\n",
    "2. [[C++/Python] DP, Binary Search, BIT Solutions - Picture explain - O(NlogN)](https://leetcode.com/problems/longest-increasing-subsequence/discuss/1326308/C%2B%2BPython-DP-Binary-Search-BIT-Solutions-Picture-explain-O(NlogN))"
   ],
   "metadata": {}
  }
 ],
 "metadata": {
  "kernelspec": {
   "display_name": "Python 3",
   "language": "python",
   "name": "python3"
  },
  "language_info": {
   "codemirror_mode": {
    "name": "ipython",
    "version": 3
   },
   "file_extension": ".py",
   "mimetype": "text/x-python",
   "name": "python",
   "nbconvert_exporter": "python",
   "pygments_lexer": "ipython3",
   "version": "3.7.7"
  }
 },
 "nbformat": 4,
 "nbformat_minor": 4
}