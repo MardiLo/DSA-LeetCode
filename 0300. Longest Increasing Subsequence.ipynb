{
 "cells": [
  {
   "cell_type": "markdown",
   "metadata": {},
   "source": [
    "`# Array` `# Binary Search` `# Dynamic Programming`"
   ]
  },
  {
   "cell_type": "markdown",
   "metadata": {},
   "source": [
    "Given an integer array `nums`, return *the ***length*** of the longest strictly increasing subsequence*.\n",
    "\n",
    "A subsequence is a sequence that can be derived from an array by deleting some or no elements without changing the order of the remaining elements. For example, `[3,6,2,7]` is a subsequence of the array `[0,3,1,6,2,2,7]`."
   ]
  },
  {
   "cell_type": "markdown",
   "metadata": {},
   "source": [
    "**Example 1:**\n",
    "\n",
    "> Input: nums = [10,9,2,5,3,7,101,18]  \n",
    "> Output: 4  \n",
    "> Explanation: The longest increasing subsequence is [2,3,7,101], therefore the length is 4.  \n",
    "\n",
    "**Example 2:**\n",
    "\n",
    "> Input: nums = [0,1,0,3,2,3]  \n",
    "> Output: 4  \n",
    "\n",
    "**Example 3:**\n",
    "\n",
    "> Input: nums = [7,7,7,7,7,7,7]  \n",
    "> Output: 1  "
   ]
  },
  {
   "cell_type": "code",
   "execution_count": 5,
   "metadata": {},
   "outputs": [],
   "source": [
    "class Solution:\n",
    "    \n",
    "    # Time Complexity： O(n^2)\n",
    "    # Space Complexity： O(n)\n",
    "    def lengthOfLIS_dp(self, nums: list[int]) -> int:\n",
    "        from itertools import combinations\n",
    "\n",
    "        dp = [1] * len(nums)\n",
    "        \n",
    "        for j, i in combinations(range(len(nums)), 2):\n",
    "            if nums[j] < nums[i]: dp[i] = max(dp[i], dp[j] + 1)\n",
    "                    \n",
    "        return max(dp)\n",
    "\n",
    "    \n",
    "    # Time Complexity： O(nlogn)\n",
    "    # Space Complexity： O(n)\n",
    "    def lengthOfLIS_binarySearch(self, nums: list[int]) -> int:\n",
    "        from bisect import bisect_left\n",
    "        \n",
    "        l, dp = 0, [float('inf')] * len(nums)\n",
    "        \n",
    "        for num in nums:                              # TC: O(nlogn); SC: O(n)\n",
    "            dp[(i := bisect_left(dp, num))] = num\n",
    "            l = max(l, i)\n",
    "        \n",
    "        return l + 1"
   ]
  },
  {
   "cell_type": "code",
   "execution_count": 6,
   "metadata": {},
   "outputs": [
    {
     "name": "stdout",
     "output_type": "stream",
     "text": [
      "---lengthOfLIS_dp---\n",
      "Case 1: 4\n",
      "Case 2: 4\n",
      "Case 3: 1\n",
      "\n",
      "---lengthOfLIS_binarySearch---\n",
      "Case 1: 4\n",
      "Case 2: 4\n",
      "Case 3: 1\n"
     ]
    }
   ],
   "source": [
    "# Test on Cases\n",
    "S = Solution()\n",
    "\n",
    "print(\"---lengthOfLIS_dp---\")\n",
    "print(f\"Case 1: {S.lengthOfLIS_dp([10,9,2,5,3,7,101,18])}\")\n",
    "print(f\"Case 2: {S.lengthOfLIS_dp([0,1,0,3,2,3])}\")\n",
    "print(f\"Case 3: {S.lengthOfLIS_dp([7,7,7,7,7,7,7])}\\n\")\n",
    "\n",
    "print(\"---lengthOfLIS_binarySearch---\")\n",
    "print(f\"Case 1: {S.lengthOfLIS_binarySearch([10,9,2,5,3,7,101,18])}\")\n",
    "print(f\"Case 2: {S.lengthOfLIS_binarySearch([0,1,0,3,2,3])}\")\n",
    "print(f\"Case 3: {S.lengthOfLIS_binarySearch([7,7,7,7,7,7,7])}\")"
   ]
  },
  {
   "cell_type": "markdown",
   "metadata": {},
   "source": [
    "**Ref**\n",
    "1. [[Python] 3 Lines, dp with binary search, explained](https://leetcode.com/problems/longest-increasing-subsequence/discuss/667975/Python-3-Lines-dp-with-binary-search-explained)\n",
    "2. [[C++/Python] DP, Binary Search, BIT Solutions - Picture explain - O(NlogN)](https://leetcode.com/problems/longest-increasing-subsequence/discuss/1326308/C%2B%2BPython-DP-Binary-Search-BIT-Solutions-Picture-explain-O(NlogN))"
   ]
  }
 ],
 "metadata": {
  "kernelspec": {
   "display_name": "Python 3 (ipykernel)",
   "language": "python",
   "name": "python3"
  },
  "language_info": {
   "codemirror_mode": {
    "name": "ipython",
    "version": 3
   },
   "file_extension": ".py",
   "mimetype": "text/x-python",
   "name": "python",
   "nbconvert_exporter": "python",
   "pygments_lexer": "ipython3",
   "version": "3.10.4"
  },
  "vscode": {
   "interpreter": {
    "hash": "21d8332eb27bea95342760850bd7426f517b6a483537194bbba87e10eeabf6ff"
   }
  }
 },
 "nbformat": 4,
 "nbformat_minor": 4
}
