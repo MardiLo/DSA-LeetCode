{
 "cells": [
  {
   "cell_type": "markdown",
   "metadata": {},
   "source": [
    "`# Array` `# Bit Manipulation` `# Backtracking`"
   ]
  },
  {
   "cell_type": "markdown",
   "metadata": {},
   "source": [
    "Given an integer array `nums` of **unique** elements, return all possible subsets (the power set).\n",
    "\n",
    "The solution set **must not** contain duplicate subsets. Return the solution in **any order**."
   ]
  },
  {
   "cell_type": "markdown",
   "metadata": {},
   "source": [
    "**Example 1:**\n",
    "\n",
    "> Input: nums = [1,2,3]  \n",
    "Output: [[],[1],[2],[1,2],[3],[1,3],[2,3],[1,2,3]]\n",
    "\n",
    "**Example 2:**\n",
    "\n",
    "> Input: nums = [0]  \n",
    "Output: [[],[0]]"
   ]
  },
  {
   "cell_type": "code",
   "execution_count": 42,
   "metadata": {},
   "outputs": [],
   "source": [
    "class Solution:\n",
    "    \n",
    "    # Time Complexity： O(n*2^n), where n is the outer loop and 2^n is the inner loop\n",
    "    # Space Complexity： O(n*2^n) \n",
    "    def subsets_DP(self, nums: 'List[int]') -> 'List[List[int]]':\n",
    "        res = [[]]\n",
    "        \n",
    "        for num in nums:\n",
    "            res += [i + [num] for i in res]\n",
    "        return res\n",
    "\n",
    "    # Time Complexity： O(n*2^n), O(n) for nums[i+1:], and call dfs for 2^n times (it's a sum of pascal triangle)\n",
    "    # Space Complexity： O(n^2), n(n+1)/2 elements in n calls (n calls in memory stack)\n",
    "    def subsets_DFS(self, nums: 'List[int]') -> 'List[List[int]]':\n",
    "        def dfs(nums: 'List[int]', path: 'List[int]') -> 'None':\n",
    "            self.res.append(path)\n",
    "\n",
    "            for i in range(len(nums)):\n",
    "                dfs(nums[i+1:], path + [nums[i]])\n",
    "        \n",
    "        self.res = []\n",
    "        dfs(nums, [])\n",
    "\n",
    "        return self.res"
   ]
  },
  {
   "cell_type": "code",
   "execution_count": 43,
   "metadata": {},
   "outputs": [
    {
     "name": "stdout",
     "output_type": "stream",
     "text": [
      "Case 1: [[], [1], [2], [1, 2], [3], [1, 3], [2, 3], [1, 2, 3]]\n",
      "Case 2: [[], [0]]\n"
     ]
    }
   ],
   "source": [
    "# Test on Cases\n",
    "S = Solution()\n",
    "\n",
    "print(\"---permute_DP---\")\n",
    "print(f\"Case 1: {S.subsets([1,2,3])}\")\n",
    "print(f\"Case 2: {S.subsets([0])}\")"
   ]
  }
 ],
 "metadata": {
  "kernelspec": {
   "display_name": "Python 3",
   "language": "python",
   "name": "python3"
  },
  "language_info": {
   "codemirror_mode": {
    "name": "ipython",
    "version": 3
   },
   "file_extension": ".py",
   "mimetype": "text/x-python",
   "name": "python",
   "nbconvert_exporter": "python",
   "pygments_lexer": "ipython3",
   "version": "3.7.7"
  }
 },
 "nbformat": 4,
 "nbformat_minor": 4
}
