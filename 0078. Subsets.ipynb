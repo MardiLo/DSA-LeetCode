{
 "cells": [
  {
   "cell_type": "markdown",
   "source": [
    "`# Array` `# Bit Manipulation` `# Backtracking`"
   ],
   "metadata": {}
  },
  {
   "cell_type": "markdown",
   "source": [
    "Given an integer array `nums` of **unique** elements, return all possible subsets (the power set).\n",
    "\n",
    "The solution set **must not** contain duplicate subsets. Return the solution in **any order**."
   ],
   "metadata": {}
  },
  {
   "cell_type": "markdown",
   "source": [
    "**Example 1:**\n",
    "\n",
    "> Input: nums = [1,2,3]  \n",
    "Output: [[],[1],[2],[1,2],[3],[1,3],[2,3],[1,2,3]]\n",
    "\n",
    "**Example 2:**\n",
    "\n",
    "> Input: nums = [0]  \n",
    "Output: [[],[0]]"
   ],
   "metadata": {}
  },
  {
   "cell_type": "code",
   "execution_count": 42,
   "source": [
    "class Solution:\r\n",
    "    \r\n",
    "    # Time Complexity： O(n*2^n), where n is the outer loop and 2^n is the inner loop\r\n",
    "    # Space Complexity： O(n*2^n) \r\n",
    "    def subsets(self, nums: 'List[int]') -> 'List[List[int]]':\r\n",
    "        res = [[]]\r\n",
    "        \r\n",
    "        for num in nums:\r\n",
    "            res += [i + [num] for i in res]\r\n",
    "        return res"
   ],
   "outputs": [],
   "metadata": {}
  },
  {
   "cell_type": "code",
   "execution_count": 43,
   "source": [
    "# Test on Cases\r\n",
    "S = Solution()\r\n",
    "\r\n",
    "print(f\"Case 1: {S.subsets([1,2,3])}\")\r\n",
    "print(f\"Case 2: {S.subsets([0])}\")"
   ],
   "outputs": [
    {
     "output_type": "stream",
     "name": "stdout",
     "text": [
      "Case 1: [[], [1], [2], [1, 2], [3], [1, 3], [2, 3], [1, 2, 3]]\n",
      "Case 2: [[], [0]]\n"
     ]
    }
   ],
   "metadata": {}
  }
 ],
 "metadata": {
  "kernelspec": {
   "display_name": "Python 3",
   "language": "python",
   "name": "python3"
  },
  "language_info": {
   "codemirror_mode": {
    "name": "ipython",
    "version": 3
   },
   "file_extension": ".py",
   "mimetype": "text/x-python",
   "name": "python",
   "nbconvert_exporter": "python",
   "pygments_lexer": "ipython3",
   "version": "3.7.7"
  }
 },
 "nbformat": 4,
 "nbformat_minor": 4
}