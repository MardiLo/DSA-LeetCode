{
 "cells": [
  {
   "cell_type": "markdown",
   "metadata": {},
   "source": [
    "`# Array` `# Bit Manipulation` `# Backtracking`"
   ]
  },
  {
   "cell_type": "markdown",
   "metadata": {},
   "source": [
    "Given an integer array `nums` of **unique** elements, return all possible subsets (the power set).\n",
    "\n",
    "The solution set **must not** contain duplicate subsets. Return the solution in **any order**."
   ]
  },
  {
   "cell_type": "markdown",
   "metadata": {},
   "source": [
    "**Example 1:**\n",
    "\n",
    "> Input: nums = [1,2,3]  \n",
    "> Output: [[],[1],[2],[1,2],[3],[1,3],[2,3],[1,2,3]]\n",
    "\n",
    "**Example 2:**\n",
    "\n",
    "> Input: nums = [0]  \n",
    "> Output: [[],[0]]"
   ]
  },
  {
   "cell_type": "code",
   "execution_count": 29,
   "metadata": {},
   "outputs": [],
   "source": [
    "class Solution:\n",
    "\n",
    "    # Time Complexity： O(2^n), call dfs for 2^n times (it's a sum of pascal triangle)\n",
    "    # Space Complexity： O(n^2), n is the tree height and at max n elements in the selected array\n",
    "    def subsets_DFS_recursion(self, nums: list[int]) -> list[list[int]]:\n",
    "        candidates, res = nums, []\n",
    "\n",
    "        def dfs(selected: list[int], tracker: int) -> None:\n",
    "            res.append(selected)\n",
    "\n",
    "            for i in range(tracker, len(candidates)):\n",
    "                dfs(selected+[candidates[i]], i+1)    # i+1 means not to include current selected element\n",
    "\n",
    "        dfs([], 0)\n",
    "        \n",
    "        return res\n",
    "\n",
    "    # Time Complexity： O(2^n)\n",
    "    # Space Complexity： O(n*C(n,n//2)), C(n,n//2) is the no. of nodes in the widest level of the tree\n",
    "    def subsets_BFS(self, nums: list[int]) -> list[list[int]]:\n",
    "        from collections import deque\n",
    "\n",
    "        candidates, res, queue = nums, [], deque([([], 0)])\n",
    "\n",
    "        while queue:\n",
    "            selected, tracker = queue.popleft()\n",
    "\n",
    "            res.append(selected)\n",
    "\n",
    "            for i in range(tracker, len(candidates)):\n",
    "                queue.append((selected+[candidates[i]], i+1))\n",
    "                \n",
    "        return res\n",
    "\n",
    "    # Time Complexity： O(n*2^n)\n",
    "    # Space Complexity： O(n^2)\n",
    "    def subsets_DFS_iteration(self, nums: list[int]) -> list[list[int]]:\n",
    "        candidates, res, stack = nums, [], [([], 0)]\n",
    "\n",
    "        while stack:\n",
    "            selected, tracker = stack.pop()\n",
    "\n",
    "            res.append(selected)\n",
    "\n",
    "            for i in range(tracker, len(candidates)):\n",
    "                stack.append((selected+[candidates[i]], i+1))\n",
    "                \n",
    "        return res\n",
    "\n",
    "    # Time Complexity： O(n*2^n), where n is the outer loop and 2^n is the inner loop\n",
    "    # Space Complexity： O(n*2^n) \n",
    "    def subsets_dp(self, nums: list[int]) -> list[list[int]]:\n",
    "        subsets = [[]]\n",
    "        \n",
    "        for num in nums:\n",
    "            subsets += [subset+[num] for subset in subsets]\n",
    "\n",
    "        return subsets\n",
    "\n",
    "    # Time Complexity： O(?)\n",
    "    # Space Complexity： O(?) \n",
    "    def subsets_lib(self, nums: list[int]) -> list[list[int]]:\n",
    "        from more_itertools import powerset\n",
    "        \n",
    "        return list(map(list, powerset(nums)))    \n",
    "        \n",
    "        # or use pure itertools lib\n",
    "        # from itertools import chain, combinations\n",
    "        \n",
    "        # return list(map(list, chain.from_iterable(combinations(nums, r) for r in range(len(nums)+1))))"
   ]
  },
  {
   "cell_type": "code",
   "execution_count": 30,
   "metadata": {},
   "outputs": [
    {
     "name": "stdout",
     "output_type": "stream",
     "text": [
      "---subsets_DFS_recursion---\n",
      "Case 1: [[], [1], [1, 2], [1, 2, 3], [1, 3], [2], [2, 3], [3]]\n",
      "Case 2: [[], [0]]\n",
      "\n",
      "---subsets_BFS---\n",
      "Case 1: [[], [1], [2], [3], [1, 2], [1, 3], [2, 3], [1, 2, 3]]\n",
      "Case 2: [[], [0]]\n",
      "\n",
      "---subsets_DFS_iteration---\n",
      "Case 1: [[], [3], [2], [2, 3], [1], [1, 3], [1, 2], [1, 2, 3]]\n",
      "Case 2: [[], [0]]\n",
      "\n",
      "---subsets_dp---\n",
      "Case 1: [[], [1], [2], [1, 2], [3], [1, 3], [2, 3], [1, 2, 3]]\n",
      "Case 2: [[], [0]]\n",
      "\n",
      "---subsets_lib---\n",
      "Case 1: [[], [1], [2], [3], [1, 2], [1, 3], [2, 3], [1, 2, 3]]\n",
      "Case 2: [[], [0]]\n"
     ]
    }
   ],
   "source": [
    "# Test on Cases\n",
    "S = Solution()\n",
    "\n",
    "print(\"---subsets_DFS_recursion---\")\n",
    "print(f\"Case 1: {S.subsets_DFS_recursion([1,2,3])}\")\n",
    "print(f\"Case 2: {S.subsets_DFS_recursion([0])}\\n\")\n",
    "\n",
    "print(\"---subsets_BFS---\")\n",
    "print(f\"Case 1: {S.subsets_BFS([1,2,3])}\")\n",
    "print(f\"Case 2: {S.subsets_BFS([0])}\\n\")\n",
    "\n",
    "print(\"---subsets_DFS_iteration---\")\n",
    "print(f\"Case 1: {S.subsets_DFS_iteration([1,2,3])}\")\n",
    "print(f\"Case 2: {S.subsets_DFS_iteration([0])}\\n\")\n",
    "\n",
    "print(\"---subsets_dp---\")\n",
    "print(f\"Case 1: {S.subsets_dp([1,2,3])}\")\n",
    "print(f\"Case 2: {S.subsets_dp([0])}\\n\")\n",
    "\n",
    "print(\"---subsets_lib---\")\n",
    "print(f\"Case 1: {S.subsets_lib([1,2,3])}\")\n",
    "print(f\"Case 2: {S.subsets_lib([0])}\")"
   ]
  }
 ],
 "metadata": {
  "kernelspec": {
   "display_name": "Python 3 (ipykernel)",
   "language": "python",
   "name": "python3"
  },
  "language_info": {
   "codemirror_mode": {
    "name": "ipython",
    "version": 3
   },
   "file_extension": ".py",
   "mimetype": "text/x-python",
   "name": "python",
   "nbconvert_exporter": "python",
   "pygments_lexer": "ipython3",
   "version": "3.10.4"
  },
  "vscode": {
   "interpreter": {
    "hash": "21d8332eb27bea95342760850bd7426f517b6a483537194bbba87e10eeabf6ff"
   }
  }
 },
 "nbformat": 4,
 "nbformat_minor": 4
}
