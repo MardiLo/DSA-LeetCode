{
 "cells": [
  {
   "cell_type": "markdown",
   "source": [
    "`# Hash Table` `# String`"
   ],
   "metadata": {}
  },
  {
   "cell_type": "markdown",
   "source": [
    "Given an array of strings `strs`, group the anagrams together. You can return the answer in **any order**.\n",
    "\n",
    "An Anagram is a word or phrase formed by rearranging the letters of a different word or phrase, typically using all the original letters exactly once."
   ],
   "metadata": {}
  },
  {
   "cell_type": "markdown",
   "source": [
    "**Example 1:**\n",
    "\n",
    "> Input: strs = [\"eat\",\"tea\",\"tan\",\"ate\",\"nat\",\"bat\"]  \n",
    "Output: [[\"bat\"],[\"nat\",\"tan\"],[\"ate\",\"eat\",\"tea\"]]\n",
    "\n",
    "**Example 2:**\n",
    "\n",
    "> Input: strs = [\"\"]  \n",
    "Output: [[\"\"]]\n",
    "\n",
    "**Example 3:**\n",
    "\n",
    "> Input: strs = [\"a\"]  \n",
    "Output: [[\"a\"]]"
   ],
   "metadata": {}
  },
  {
   "cell_type": "code",
   "execution_count": 23,
   "source": [
    "class Solution:\r\n",
    "    \r\n",
    "    # Time Complexity： O(nmlogm)\r\n",
    "    # Space Complexity： O(nm)        \r\n",
    "    def groupAnagrams(self, strs):\r\n",
    "        from collections import defaultdict\r\n",
    "        \r\n",
    "        dic = defaultdict(list)\r\n",
    "        \r\n",
    "        for s in strs:\r\n",
    "            key = \"\".join(sorted(s))\r\n",
    "            dic[key].append(s)\r\n",
    "            \r\n",
    "        return dic.values()"
   ],
   "outputs": [],
   "metadata": {}
  },
  {
   "cell_type": "code",
   "execution_count": 24,
   "source": [
    "# Test on Cases\r\n",
    "S = Solution()\r\n",
    "\r\n",
    "print(f'Case 1: {S.groupAnagrams([\"eat\",\"tea\",\"tan\",\"ate\",\"nat\",\"bat\"])}')\r\n",
    "print(f'Case 2: {S.groupAnagrams([\"\"])}')\r\n",
    "print(f'Case 3: {S.groupAnagrams([\"a\"])}')"
   ],
   "outputs": [
    {
     "output_type": "stream",
     "name": "stdout",
     "text": [
      "Case 1: dict_values([['eat', 'tea', 'ate'], ['tan', 'nat'], ['bat']])\n",
      "Case 2: dict_values([['']])\n",
      "Case 3: dict_values([['a']])\n"
     ]
    }
   ],
   "metadata": {}
  }
 ],
 "metadata": {
  "kernelspec": {
   "display_name": "Python 3",
   "language": "python",
   "name": "python3"
  },
  "language_info": {
   "codemirror_mode": {
    "name": "ipython",
    "version": 3
   },
   "file_extension": ".py",
   "mimetype": "text/x-python",
   "name": "python",
   "nbconvert_exporter": "python",
   "pygments_lexer": "ipython3",
   "version": "3.7.7"
  }
 },
 "nbformat": 4,
 "nbformat_minor": 4
}