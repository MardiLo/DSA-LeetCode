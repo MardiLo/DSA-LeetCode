{
 "cells": [
  {
   "cell_type": "markdown",
   "metadata": {},
   "source": [
    "`# Hash Table` `# Sorting` `# String`"
   ]
  },
  {
   "cell_type": "markdown",
   "metadata": {},
   "source": [
    "Given an array of strings `strs`, group the anagrams together. You can return the answer in **any order**.\n",
    "\n",
    "An Anagram is a word or phrase formed by rearranging the letters of a different word or phrase, typically using all the original letters exactly once."
   ]
  },
  {
   "cell_type": "markdown",
   "metadata": {},
   "source": [
    "**Example 1:**\n",
    "\n",
    "> Input: strs = [\"eat\",\"tea\",\"tan\",\"ate\",\"nat\",\"bat\"]  \n",
    "> Output: [[\"bat\"],[\"nat\",\"tan\"],[\"ate\",\"eat\",\"tea\"]]\n",
    "\n",
    "**Example 2:**\n",
    "\n",
    "> Input: strs = [\"\"]  \n",
    "> Output: [[\"\"]]\n",
    "\n",
    "**Example 3:**\n",
    "\n",
    "> Input: strs = [\"a\"]  \n",
    "> Output: [[\"a\"]]"
   ]
  },
  {
   "cell_type": "code",
   "execution_count": 5,
   "metadata": {},
   "outputs": [],
   "source": [
    "class Solution:\n",
    "    \n",
    "    # Time Complexity： O(nmlogm + n) -> O(nmlogm), where n is the no of str in strs, m is the maximum length of the str\n",
    "    # Space Complexity： O(nm)\n",
    "    def groupAnagrams_hashtable(self, strs: list[str]) -> list[list[str]]:\n",
    "        from collections import defaultdict\n",
    "        \n",
    "        seen = defaultdict(list)\n",
    "        \n",
    "        for s in strs:\n",
    "            seen[tuple(sorted(s))].append(s)      # TC: O(mlogm); SC: O(m), where m is the maximum length of str\n",
    "                                                  # Tuple is hashable!\n",
    "            \n",
    "        return seen.values()                      # TC: O(n)\n",
    "\n",
    "    # Time Complexity： O(nlogn + nmlogm + n) -> O(nmlogm), where n is the no of str in strs, m is the maximum length of the str\n",
    "    # Space Complexity： O(nm)\n",
    "    def groupAnagrams_lib(self, strs: list[str]) -> list[list[str]]:\n",
    "        \"\"\"\n",
    "        sorted(strs, key=sorted), executes sorting strs by their sorted result like: \n",
    "            ['bat', 'eat', 'tea', 'ate', 'tan', 'nat']\n",
    "            - TC: O(nlogn + nmlogm), where n is the no of str in strs, m is the maximum length of the str\n",
    "            - SC: O(nm)\n",
    "\n",
    "        groupby(sorted_result, key=sorted), groupby fn needs a sorted input, and we groupby the elements by their sorted result, and it return result like:\n",
    "            [(['a', 'b', 't'], _grouper obj(['bat'])), (['a', 'e', 't']: _grouper obj(['eat', 'tea', 'ate'])), (['a', 'n', 't']: _grouper obj(['tan', 'nat']))]\n",
    "            - TC: O(n)\n",
    "            - SC: O(nm)\n",
    "\n",
    "        list(grouper) extracts members from _grouper obj\n",
    "            [['bat'], ['eat', 'tea', 'ate'], ['tan', 'nat']]\n",
    "            - TC: O(n)\n",
    "        \"\"\"\n",
    "        from itertools import groupby\n",
    "        from collections import Counter\n",
    "\n",
    "        return [list(grouper) for _, grouper in groupby(sorted(strs, key=sorted), key=Counter)]        "
   ]
  },
  {
   "cell_type": "code",
   "execution_count": 6,
   "metadata": {},
   "outputs": [
    {
     "name": "stdout",
     "output_type": "stream",
     "text": [
      "---groupAnagrams_hashtable---\n",
      "Case 1: dict_values([['eat', 'tea', 'ate'], ['tan', 'nat'], ['bat']])\n",
      "Case 2: dict_values([['']])\n",
      "Case 3: dict_values([['a']])\n",
      "\n",
      "---groupAnagrams_lib---\n",
      "Case 1: [['bat'], ['eat', 'tea', 'ate'], ['tan', 'nat']]\n",
      "Case 2: [['']]\n",
      "Case 3: [['a']]\n"
     ]
    }
   ],
   "source": [
    "# Test on Cases\n",
    "S = Solution()\n",
    "\n",
    "print(\"---groupAnagrams_hashtable---\")\n",
    "print(f'Case 1: {S.groupAnagrams_hashtable([\"eat\",\"tea\",\"tan\",\"ate\",\"nat\",\"bat\"])}')\n",
    "print(f'Case 2: {S.groupAnagrams_hashtable([\"\"])}')\n",
    "print(f'Case 3: {S.groupAnagrams_hashtable([\"a\"])}\\n')\n",
    "\n",
    "print(\"---groupAnagrams_lib---\")\n",
    "print(f'Case 1: {S.groupAnagrams_lib([\"eat\",\"tea\",\"tan\",\"ate\",\"nat\",\"bat\"])}')\n",
    "print(f'Case 2: {S.groupAnagrams_lib([\"\"])}')\n",
    "print(f'Case 3: {S.groupAnagrams_lib([\"a\"])}')"
   ]
  }
 ],
 "metadata": {
  "kernelspec": {
   "display_name": "Python 3 (ipykernel)",
   "language": "python",
   "name": "python3"
  },
  "language_info": {
   "codemirror_mode": {
    "name": "ipython",
    "version": 3
   },
   "file_extension": ".py",
   "mimetype": "text/x-python",
   "name": "python",
   "nbconvert_exporter": "python",
   "pygments_lexer": "ipython3",
   "version": "3.10.4"
  },
  "vscode": {
   "interpreter": {
    "hash": "21d8332eb27bea95342760850bd7426f517b6a483537194bbba87e10eeabf6ff"
   }
  }
 },
 "nbformat": 4,
 "nbformat_minor": 4
}
