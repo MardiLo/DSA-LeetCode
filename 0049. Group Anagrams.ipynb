{
 "cells": [
  {
   "cell_type": "markdown",
   "metadata": {},
   "source": [
    "`# Hash Table` `# Sorting` `# String`"
   ]
  },
  {
   "cell_type": "markdown",
   "metadata": {},
   "source": [
    "Given an array of strings `strs`, group the anagrams together. You can return the answer in **any order**.\n",
    "\n",
    "An Anagram is a word or phrase formed by rearranging the letters of a different word or phrase, typically using all the original letters exactly once."
   ]
  },
  {
   "cell_type": "markdown",
   "metadata": {},
   "source": [
    "**Example 1:**\n",
    "\n",
    "> Input: strs = [\"eat\",\"tea\",\"tan\",\"ate\",\"nat\",\"bat\"]  \n",
    "Output: [[\"bat\"],[\"nat\",\"tan\"],[\"ate\",\"eat\",\"tea\"]]\n",
    "\n",
    "**Example 2:**\n",
    "\n",
    "> Input: strs = [\"\"]  \n",
    "Output: [[\"\"]]\n",
    "\n",
    "**Example 3:**\n",
    "\n",
    "> Input: strs = [\"a\"]  \n",
    "Output: [[\"a\"]]"
   ]
  },
  {
   "cell_type": "code",
   "execution_count": 23,
   "metadata": {},
   "outputs": [],
   "source": [
    "class Solution:\n",
    "    \n",
    "    # Time Complexity： O(nmlog(m))\n",
    "    # Space Complexity： O(nm)        \n",
    "    def groupAnagrams(self, strs: 'List[str]') -> 'List[List[str]])':\n",
    "        from collections import defaultdict\n",
    "        \n",
    "        dic = defaultdict(list)\n",
    "        \n",
    "        for s in strs:\n",
    "            key = \"\".join(sorted(s))\n",
    "            dic[key].append(s)\n",
    "            \n",
    "        return dic.values()"
   ]
  },
  {
   "cell_type": "code",
   "execution_count": 24,
   "metadata": {},
   "outputs": [
    {
     "name": "stdout",
     "output_type": "stream",
     "text": [
      "Case 1: dict_values([['eat', 'tea', 'ate'], ['tan', 'nat'], ['bat']])\n",
      "Case 2: dict_values([['']])\n",
      "Case 3: dict_values([['a']])\n"
     ]
    }
   ],
   "source": [
    "# Test on Cases\n",
    "S = Solution()\n",
    "\n",
    "print(f'Case 1: {S.groupAnagrams([\"eat\",\"tea\",\"tan\",\"ate\",\"nat\",\"bat\"])}')\n",
    "print(f'Case 2: {S.groupAnagrams([\"\"])}')\n",
    "print(f'Case 3: {S.groupAnagrams([\"a\"])}')"
   ]
  }
 ],
 "metadata": {
  "kernelspec": {
   "display_name": "Python 3",
   "language": "python",
   "name": "python3"
  },
  "language_info": {
   "codemirror_mode": {
    "name": "ipython",
    "version": 3
   },
   "file_extension": ".py",
   "mimetype": "text/x-python",
   "name": "python",
   "nbconvert_exporter": "python",
   "pygments_lexer": "ipython3",
   "version": "3.7.7"
  }
 },
 "nbformat": 4,
 "nbformat_minor": 4
}
