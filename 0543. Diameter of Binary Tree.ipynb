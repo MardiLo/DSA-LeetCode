{
 "cells": [
  {
   "cell_type": "markdown",
   "source": [
    "`# Binary Tree` `# Depth-First Search` `# Tree`"
   ],
   "metadata": {}
  },
  {
   "cell_type": "markdown",
   "source": [
    "Given the `root` of a binary tree, return the *length of the* ***diameter*** of the tree.\n",
    "\n",
    "The **diameter** of a binary tree is the **length** of the longest path between any two nodes in a tree. This path may or may not pass through the `root`.\n",
    "\n",
    "The **length** of a path between two nodes is represented by the number of edges between them."
   ],
   "metadata": {}
  },
  {
   "cell_type": "markdown",
   "source": [
    "**Example 1:**  \r\n",
    "![Image of leetcode 0543 problem example 1](https://assets.leetcode.com/uploads/2021/03/06/diamtree.jpg)  \r\n",
    "> Input: root = [1,2,3,4,5]  \r\n",
    "Output: 3  \r\n",
    "Explanation: 3 is the length of the path [4,2,1,3] or [5,2,1,3].\r\n",
    "\r\n",
    "**Example 2:**\r\n",
    "\r\n",
    "> Input: root = [1,2]  \r\n",
    "Output: 1"
   ],
   "metadata": {}
  },
  {
   "cell_type": "code",
   "execution_count": 1,
   "source": [
    "class TreeNode:\r\n",
    "    def __init__(self, val=0, left=None, right=None):\r\n",
    "        self.val = val\r\n",
    "        self.left = left\r\n",
    "        self.right = right\r\n",
    "\r\n",
    "class Solution:\r\n",
    "    \r\n",
    "    # Time Complexity： O(n)\r\n",
    "    # Space Complexity： O(n), in memory stack\r\n",
    "    def diameterOfBinaryTree_DFS(self, root: 'TreeNode') -> 'int':\r\n",
    "        self.diameter = 0\r\n",
    "        \r\n",
    "        def depth(node):\r\n",
    "            if not node: return 0\r\n",
    "            \r\n",
    "            l, r = depth(node.left), depth(node.right)\r\n",
    "            self.diameter = max(self.diameter, l + r)\r\n",
    "            return max(l, r) + 1\r\n",
    "        \r\n",
    "        depth(root)\r\n",
    "        return self.diameter"
   ],
   "outputs": [],
   "metadata": {}
  },
  {
   "cell_type": "code",
   "execution_count": 2,
   "source": [
    "# Test on Cases\r\n",
    "S = Solution()\r\n",
    "\r\n",
    "print(f\"Case 1: {S.diameterOfBinaryTree_DFS(TreeNode(1, TreeNode(2, TreeNode(4), TreeNode(5)), TreeNode(3)))}\")\r\n",
    "print(f\"Case 2: {S.diameterOfBinaryTree_DFS(TreeNode(1, TreeNode(2)))}\")"
   ],
   "outputs": [
    {
     "output_type": "stream",
     "name": "stdout",
     "text": [
      "Case 1: 3\n",
      "Case 2: 1\n"
     ]
    }
   ],
   "metadata": {}
  }
 ],
 "metadata": {
  "kernelspec": {
   "display_name": "Python 3",
   "language": "python",
   "name": "python3"
  },
  "language_info": {
   "codemirror_mode": {
    "name": "ipython",
    "version": 3
   },
   "file_extension": ".py",
   "mimetype": "text/x-python",
   "name": "python",
   "nbconvert_exporter": "python",
   "pygments_lexer": "ipython3",
   "version": "3.7.7"
  }
 },
 "nbformat": 4,
 "nbformat_minor": 4
}