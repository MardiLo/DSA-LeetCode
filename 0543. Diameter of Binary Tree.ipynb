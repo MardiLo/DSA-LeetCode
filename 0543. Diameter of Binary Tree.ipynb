{
 "cells": [
  {
   "cell_type": "markdown",
   "metadata": {},
   "source": [
    "`# Binary Tree` `# Depth-First Search` `# Tree`"
   ]
  },
  {
   "cell_type": "markdown",
   "metadata": {},
   "source": [
    "Given the `root` of a binary tree, return the *length of the* ***diameter*** of the tree.\n",
    "\n",
    "The **diameter** of a binary tree is the **length** of the longest path between any two nodes in a tree. This path may or may not pass through the `root`.\n",
    "\n",
    "The **length** of a path between two nodes is represented by the number of edges between them."
   ]
  },
  {
   "cell_type": "markdown",
   "metadata": {},
   "source": [
    "**Example 1:**\n",
    "![Image of leetcode 0543 problem example 1](https://assets.leetcode.com/uploads/2021/03/06/diamtree.jpg)  \n",
    "> Input: root = [1,2,3,4,5]  \n",
    "Output: 3  \n",
    "Explanation: 3 is the length of the path [4,2,1,3] or [5,2,1,3].\n",
    "\n",
    "**Example 2:**\n",
    "\n",
    "> Input: root = [1,2]  \n",
    "Output: 1"
   ]
  },
  {
   "cell_type": "code",
   "execution_count": 1,
   "metadata": {},
   "outputs": [],
   "source": [
    "class TreeNode:\n",
    "    def __init__(self, val=0, left=None, right=None):\n",
    "        self.val = val\n",
    "        self.left = left\n",
    "        self.right = right\n",
    "\n",
    "class Solution:\n",
    "    \n",
    "    # Time Complexity： O(n)\n",
    "    # Space Complexity： O(n), in memory stack\n",
    "    def diameterOfBinaryTree_DFS(self, root: 'Optional[TreeNode]') -> 'int':\n",
    "        self.diameter = 0\n",
    "        \n",
    "        def depth(node):\n",
    "            if not node: return 0\n",
    "            \n",
    "            l, r = depth(node.left), depth(node.right)\n",
    "            self.diameter = max(self.diameter, l + r)\n",
    "            return max(l, r) + 1\n",
    "        \n",
    "        depth(root)\n",
    "        return self.diameter"
   ]
  },
  {
   "cell_type": "code",
   "execution_count": 2,
   "metadata": {},
   "outputs": [
    {
     "name": "stdout",
     "output_type": "stream",
     "text": [
      "Case 1: 3\n",
      "Case 2: 1\n"
     ]
    }
   ],
   "source": [
    "# Test on Cases\n",
    "S = Solution()\n",
    "\n",
    "print(f\"Case 1: {S.diameterOfBinaryTree_DFS(TreeNode(1, TreeNode(2, TreeNode(4), TreeNode(5)), TreeNode(3)))}\")\n",
    "print(f\"Case 2: {S.diameterOfBinaryTree_DFS(TreeNode(1, TreeNode(2)))}\")"
   ]
  },
  {
   "cell_type": "code",
   "execution_count": null,
   "metadata": {},
   "outputs": [],
   "source": []
  }
 ],
 "metadata": {
  "kernelspec": {
   "display_name": "Python 3",
   "language": "python",
   "name": "python3"
  },
  "language_info": {
   "codemirror_mode": {
    "name": "ipython",
    "version": 3
   },
   "file_extension": ".py",
   "mimetype": "text/x-python",
   "name": "python",
   "nbconvert_exporter": "python",
   "pygments_lexer": "ipython3",
   "version": "3.7.7"
  }
 },
 "nbformat": 4,
 "nbformat_minor": 4
}
