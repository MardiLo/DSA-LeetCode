{
 "cells": [
  {
   "cell_type": "markdown",
   "metadata": {},
   "source": [
    "`# Array` `# Hash Table` `# Sorting`\n"
   ]
  },
  {
   "cell_type": "markdown",
   "metadata": {},
   "source": [
    "You are given two integer arrays of equal length `target` and `arr`. In one step, you can select any **non-empty subarray** of `arr` and reverse it. You are allowed to make any number of steps.\n",
    "\n",
    "Return `true` *if you can make* `arr` *equal to* `target` *or* `false` *otherwise*."
   ]
  },
  {
   "cell_type": "markdown",
   "metadata": {},
   "source": [
    "**Example 1:**\n",
    "\n",
    "> Input: target = [1,2,3,4], arr = [2,4,1,3]  \n",
    "> Output: true  \n",
    "> Explanation: You can follow the next steps to convert arr to target:  \n",
    "> 1- Reverse subarray [2,4,1], arr becomes [1,4,2,3]  \n",
    "> 2- Reverse subarray [4,2], arr becomes [1,2,4,3]  \n",
    "> 3- Reverse subarray [4,3], arr becomes [1,2,3,4]  \n",
    "> There are multiple ways to convert arr to target, this is not the only way to do so.  \n",
    "\n",
    "**Example 2:**\n",
    "\n",
    "> Input: target = [7], arr = [7]  \n",
    "> Output: true  \n",
    "> Explanation: arr is equal to target without any reverses.\n",
    "\n",
    "**Example 3:**\n",
    "\n",
    "> Input: target = [3,7,9], arr = [3,7,11]  \n",
    "> Output: false  \n",
    "> Explanation: arr does not have value 9 and it can never be converted to target."
   ]
  },
  {
   "cell_type": "code",
   "execution_count": 1,
   "metadata": {},
   "outputs": [],
   "source": [
    "class Solution:\n",
    "    \n",
    "    # Time Complexity： O(n)\n",
    "    # Space Complexity： O(n)    \n",
    "    def canBeEqual_hashTable(self, target: list[int], arr: list[int]) -> bool:\n",
    "        from collections import Counter\n",
    "\n",
    "        return Counter(target) == Counter(arr)\n",
    "\n",
    "    # Time Complexity： O(nlogn)\n",
    "    # Space Complexity： O(n)    \n",
    "    def canBeEqual_sorting(self, target: list[int], arr: list[int]) -> bool:\n",
    "        return sorted(target) == sorted(arr)"
   ]
  },
  {
   "cell_type": "code",
   "execution_count": 2,
   "metadata": {},
   "outputs": [
    {
     "name": "stdout",
     "output_type": "stream",
     "text": [
      "---canBeEqual_hashTable---\n",
      "Case 1: True\n",
      "Case 2: True\n",
      "Case 3: False\n",
      "\n",
      "---canBeEqual_sorting---\n",
      "Case 1: True\n",
      "Case 2: True\n",
      "Case 3: False\n"
     ]
    }
   ],
   "source": [
    "# Test on Cases\n",
    "S = Solution()\n",
    "\n",
    "print(\"---canBeEqual_hashTable---\")\n",
    "print(f\"Case 1: {S.canBeEqual_hashTable([1,2,3,4], [2,4,1,3])}\")\n",
    "print(f\"Case 2: {S.canBeEqual_hashTable([7], [7])}\")\n",
    "print(f\"Case 3: {S.canBeEqual_hashTable([3,7,9], [3,7,11])}\\n\")\n",
    "\n",
    "print(\"---canBeEqual_sorting---\")\n",
    "print(f\"Case 1: {S.canBeEqual_sorting([1,2,3,4], [2,4,1,3])}\")\n",
    "print(f\"Case 2: {S.canBeEqual_sorting([7], [7])}\")\n",
    "print(f\"Case 3: {S.canBeEqual_sorting([3,7,9], [3,7,11])}\")"
   ]
  }
 ],
 "metadata": {
  "interpreter": {
   "hash": "21d8332eb27bea95342760850bd7426f517b6a483537194bbba87e10eeabf6ff"
  },
  "kernelspec": {
   "display_name": "Python 3 (ipykernel)",
   "language": "python",
   "name": "python3"
  },
  "language_info": {
   "codemirror_mode": {
    "name": "ipython",
    "version": 3
   },
   "file_extension": ".py",
   "mimetype": "text/x-python",
   "name": "python",
   "nbconvert_exporter": "python",
   "pygments_lexer": "ipython3",
   "version": "3.10.4"
  }
 },
 "nbformat": 4,
 "nbformat_minor": 4
}
