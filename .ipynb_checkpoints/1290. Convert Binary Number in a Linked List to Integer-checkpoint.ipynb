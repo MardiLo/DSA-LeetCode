{
 "cells": [
  {
   "cell_type": "markdown",
   "metadata": {},
   "source": [
    "`# Linked List` `# Math`"
   ]
  },
  {
   "cell_type": "markdown",
   "metadata": {},
   "source": [
    "Given `head` which is a reference node to a singly-linked list. The value of each node in the linked list is either `0` or `1`. The linked list holds the binary representation of a number.\n",
    "\n",
    "Return *the **decimal value** of the number in the linked list*.\n",
    "\n",
    "The **most significant bit** is at the head of the linked list."
   ]
  },
  {
   "cell_type": "markdown",
   "metadata": {},
   "source": [
    "**Example 1:**  \n",
    "![Image of leetcode 1290 problem example 1](https://assets.leetcode.com/uploads/2019/12/05/graph-1.png)\n",
    "> Input: head = [1,0,1]  \n",
    "> Output: 5  \n",
    "> Explanation: (101) in base 2 = (5) in base 10\n",
    "\n",
    "**Example 2:**  \n",
    "\n",
    "> Input: head = [0]\n",
    "> Output: 0"
   ]
  },
  {
   "cell_type": "code",
   "execution_count": 13,
   "metadata": {},
   "outputs": [],
   "source": [
    "class ListNode:\n",
    "    def __init__(self, val=0, next=None):\n",
    "        self.val = val\n",
    "        self.next = next\n",
    "        \n",
    "    def list2LinkedList(self, lst):\n",
    "        cur = dummy = ListNode(0)\n",
    "        for node in lst:\n",
    "            cur.next = ListNode(node)\n",
    "            cur = cur.next\n",
    "        return dummy.next\n",
    "\n",
    "class Solution:\n",
    "\n",
    "    # Time Complexity： O(n)\n",
    "    # Space Complexity： O(n)\n",
    "    def getDecimalValue_list(self, head: ListNode) -> int:\n",
    "        s = ''\n",
    "        while head:\n",
    "            s += str(head.val)\n",
    "            head = head.next    \n",
    "\n",
    "        return int(s, 2) if s else 0\n",
    "\n",
    "    # Time Complexity： O(n)\n",
    "    # Space Complexity： O(1)\n",
    "    def getDecimalValue_math(self, head: ListNode) -> int:\n",
    "        res = 0\n",
    "        \n",
    "        while head:\n",
    "            res = 2 * res + head.val\n",
    "            head = head.next\n",
    "            \n",
    "        return res"
   ]
  },
  {
   "cell_type": "code",
   "execution_count": 14,
   "metadata": {},
   "outputs": [
    {
     "name": "stdout",
     "output_type": "stream",
     "text": [
      "---getDecimalValue_list---\n",
      "Case 1: 5\n",
      "Case 2: 0\n",
      "\n",
      "---getDecimalValue_math---\n",
      "Case 1: 5\n",
      "Case 2: 0\n"
     ]
    }
   ],
   "source": [
    "# Test on Cases\n",
    "from leetcodepractice import Print\n",
    "\n",
    "S, L = Solution(), ListNode()\n",
    "\n",
    "print(\"---getDecimalValue_list---\")\n",
    "print(f\"Case 1: {S.getDecimalValue_list(L.list2LinkedList([1,0,1]))}\")\n",
    "print(f\"Case 2: {S.getDecimalValue_list(L.list2LinkedList([]))}\\n\")\n",
    "\n",
    "print(\"---getDecimalValue_math---\")\n",
    "print(f\"Case 1: {S.getDecimalValue_math(L.list2LinkedList([1,0,1]))}\")\n",
    "print(f\"Case 2: {S.getDecimalValue_math(L.list2LinkedList([]))}\")"
   ]
  }
 ],
 "metadata": {
  "kernelspec": {
   "display_name": "Python 3 (ipykernel)",
   "language": "python",
   "name": "python3"
  },
  "language_info": {
   "codemirror_mode": {
    "name": "ipython",
    "version": 3
   },
   "file_extension": ".py",
   "mimetype": "text/x-python",
   "name": "python",
   "nbconvert_exporter": "python",
   "pygments_lexer": "ipython3",
   "version": "3.10.4"
  },
  "vscode": {
   "interpreter": {
    "hash": "21d8332eb27bea95342760850bd7426f517b6a483537194bbba87e10eeabf6ff"
   }
  }
 },
 "nbformat": 4,
 "nbformat_minor": 4
}
