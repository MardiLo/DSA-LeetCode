{
 "cells": [
  {
   "cell_type": "markdown",
   "metadata": {},
   "source": [
    "`# Math` `# Number Theory`"
   ]
  },
  {
   "cell_type": "markdown",
   "metadata": {},
   "source": [
    "Given a **positive** integer `n`, return *the smallest positive integer that is a multiple of both* `2` *and* `n`."
   ]
  },
  {
   "cell_type": "markdown",
   "metadata": {},
   "source": [
    "**Example 1:**\n",
    "\n",
    "> Input: n = 5  \n",
    "> Output: 10  \n",
    "> Explanation: The smallest multiple of both 5 and 2 is 10.\n",
    "\n",
    "**Example 2:**\n",
    "\n",
    "> Input: n = 6  \n",
    "> Output: 6  \n",
    "> Explanation: The smallest multiple of both 6 and 2 is 6. Note that a number is a multiple of itself."
   ]
  },
  {
   "cell_type": "code",
   "execution_count": 1,
   "metadata": {},
   "outputs": [],
   "source": [
    "class Solution:\n",
    "\n",
    "    # Time Complexity： O(1)\n",
    "    # Space Complexity： O(1)\n",
    "    def smallestEvenMultiple(self, n: int) -> int:\n",
    "        return n if not n % 2 else n * 2"
   ]
  },
  {
   "cell_type": "code",
   "execution_count": 2,
   "metadata": {},
   "outputs": [
    {
     "name": "stdout",
     "output_type": "stream",
     "text": [
      "Case 1: 10\n",
      "Case 2: 6\n"
     ]
    }
   ],
   "source": [
    "# Test on Cases\n",
    "S = Solution()\n",
    "\n",
    "print(f\"Case 1: {S.smallestEvenMultiple(5)}\")\n",
    "print(f\"Case 2: {S.smallestEvenMultiple(6)}\")"
   ]
  }
 ],
 "metadata": {
  "kernelspec": {
   "display_name": "Python 3 (ipykernel)",
   "language": "python",
   "name": "python3"
  },
  "language_info": {
   "codemirror_mode": {
    "name": "ipython",
    "version": 3
   },
   "file_extension": ".py",
   "mimetype": "text/x-python",
   "name": "python",
   "nbconvert_exporter": "python",
   "pygments_lexer": "ipython3",
   "version": "3.10.4"
  },
  "vscode": {
   "interpreter": {
    "hash": "21d8332eb27bea95342760850bd7426f517b6a483537194bbba87e10eeabf6ff"
   }
  }
 },
 "nbformat": 4,
 "nbformat_minor": 4
}
