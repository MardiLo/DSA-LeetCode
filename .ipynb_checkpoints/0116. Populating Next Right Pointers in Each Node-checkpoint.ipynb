{
 "cells": [
  {
   "cell_type": "markdown",
   "metadata": {},
   "source": [
    "`# Binary Tree` `# Breadth-First Search` `# Depth-First Search` `# Tree`"
   ]
  },
  {
   "cell_type": "markdown",
   "metadata": {},
   "source": [
    "You are given a **perfect binary tree** where all leaves are on the same level, and every parent has two children. The binary tree has the following definition:\n",
    "``` cpp\n",
    "struct Node {\n",
    "  int val;\n",
    "  Node *left;\n",
    "  Node *right;\n",
    "  Node *next;\n",
    "}\n",
    "```\n",
    "\n",
    "*Populate each next pointer to point to its next right node. If there is no next right node, the next pointer should be set to* `NULL`.\n",
    "\n",
    "Initially, all next pointers are set to `NULL`."
   ]
  },
  {
   "cell_type": "markdown",
   "metadata": {},
   "source": [
    "**Example 1:**  \n",
    "![Image of leetcode 0116 problem example 1](https://assets.leetcode.com/uploads/2019/02/14/116_sample.png)\n",
    "> Input: root = [1,2,3,4,5,6,7]  \n",
    "> Output: [1,#,2,3,#,4,5,6,7,#]  \n",
    "> Explanation: Given the above perfect binary tree (Figure A), your function should populate each next pointer to point to its next right node, just like in > Figure B. The serialized output is in level order as connected by the next pointers, with '#' signifying the end of each level.  \n",
    "\n",
    "**Example 2:**  \n",
    "\n",
    "> Input: root = []\n",
    "> Output: []"
   ]
  },
  {
   "cell_type": "code",
   "execution_count": 11,
   "metadata": {},
   "outputs": [],
   "source": [
    "from __future__ import annotations\n",
    "\n",
    "class Node:\n",
    "    def __init__(self, val: int = 0, left: Node = None, right: Node = None, next: Node = None):\n",
    "        self.val = val\n",
    "        self.left = left\n",
    "        self.right = right\n",
    "        self.next = next\n",
    "\n",
    "class Solution:\n",
    "    \n",
    "    # Time Complexity： O(n)\n",
    "    # Space Complexity： O(h), a perfect binary tree h = logn\n",
    "    def connect_DFS_recursion(self, root: Node) -> Node:\n",
    "        if not root or not root.left or not root.right: return\n",
    "        \n",
    "        root.left.next = root.right\n",
    "        if root.next: root.right.next = root.next.left\n",
    "            \n",
    "        self.connect_DFS_recursion(root.left); self.connect_DFS_recursion(root.right)\n",
    "        \n",
    "        return root\n",
    "\n",
    "    # Time Complexity： O(n)\n",
    "    # Space Complexity： O(w)\n",
    "    def connect_BFS(self, root: Node) -> Node:\n",
    "        from collections import deque\n",
    "\n",
    "        queue = deque([root])\n",
    "        while queue:\n",
    "            node = queue.popleft()\n",
    "                       \n",
    "            if node and node.left and node.right:\n",
    "                node.left.next = node.right\n",
    "                if node.next: node.right.next = node.next.left\n",
    "                    \n",
    "                queue.extend([node.left, node.right])\n",
    "                \n",
    "        return root\n",
    "\n",
    "    # Time Complexity： O(n)\n",
    "    # Space Complexity： O(h)\n",
    "    def connect_DFS_iteration(self, root: Node) -> Node:\n",
    "        stack = [root]\n",
    "        while stack:\n",
    "            node = stack.pop()\n",
    "                       \n",
    "            if node and node.left and node.right:\n",
    "                node.left.next = node.right\n",
    "                if node.next: node.right.next = node.next.left\n",
    "                    \n",
    "                stack.extend([node.left, node.right])\n",
    "                \n",
    "        return root"
   ]
  },
  {
   "cell_type": "code",
   "execution_count": 12,
   "metadata": {},
   "outputs": [
    {
     "name": "stdout",
     "output_type": "stream",
     "text": [
      "---connect_DFS_recursion---\n",
      "Case 1: [1, 2, 3, 4, 5, 6, 7]\n",
      "Case 2: []\n",
      "\n",
      "---connect_BFS---\n",
      "Case 1: [1, 2, 3, 4, 5, 6, 7]\n",
      "Case 2: []\n",
      "\n",
      "---connect_DFS_iteration---\n",
      "Case 1: [1, 2, 3, 4, 5, 6, 7]\n",
      "Case 2: []\n"
     ]
    }
   ],
   "source": [
    "# Test on Cases\n",
    "from leetcodepractice import Print\n",
    "\n",
    "S, P = Solution(), Print()\n",
    "\n",
    "print(\"---connect_DFS_recursion---\")\n",
    "print(f\"Case 1: {P.TreeTraversalBFS(S.connect_DFS_recursion(Node(1, Node(2, Node(4), Node(5)), Node(3, Node(6), Node(7)))))}\")\n",
    "print(f\"Case 2: {P.TreeTraversalBFS(S.connect_DFS_recursion([]))}\\n\")\n",
    "\n",
    "print(\"---connect_BFS---\")\n",
    "print(f\"Case 1: {P.TreeTraversalBFS(S.connect_BFS(Node(1, Node(2, Node(4), Node(5)), Node(3, Node(6), Node(7)))))}\")\n",
    "print(f\"Case 2: {P.TreeTraversalBFS(S.connect_BFS([]))}\\n\")\n",
    "\n",
    "print(\"---connect_DFS_iteration---\")\n",
    "print(f\"Case 1: {P.TreeTraversalBFS(S.connect_DFS_iteration(Node(1, Node(2, Node(4), Node(5)), Node(3, Node(6), Node(7)))))}\")\n",
    "print(f\"Case 2: {P.TreeTraversalBFS(S.connect_DFS_iteration([]))}\")"
   ]
  }
 ],
 "metadata": {
  "kernelspec": {
   "display_name": "Python 3 (ipykernel)",
   "language": "python",
   "name": "python3"
  },
  "language_info": {
   "codemirror_mode": {
    "name": "ipython",
    "version": 3
   },
   "file_extension": ".py",
   "mimetype": "text/x-python",
   "name": "python",
   "nbconvert_exporter": "python",
   "pygments_lexer": "ipython3",
   "version": "3.10.4"
  },
  "vscode": {
   "interpreter": {
    "hash": "21d8332eb27bea95342760850bd7426f517b6a483537194bbba87e10eeabf6ff"
   }
  }
 },
 "nbformat": 4,
 "nbformat_minor": 4
}
