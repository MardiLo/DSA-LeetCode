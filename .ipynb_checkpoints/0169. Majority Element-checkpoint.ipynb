{
 "cells": [
  {
   "cell_type": "markdown",
   "metadata": {},
   "source": [
    "`# Array` `# Counting` `# Divide and Conquer` `# Hash Table` `# Sorting`"
   ]
  },
  {
   "cell_type": "markdown",
   "metadata": {},
   "source": [
    "Given an array `nums` of size `n`, return the majority element.\n",
    "\n",
    "The majority element is the element that appears more than `⌊n / 2⌋` times. You may assume that the majority element always exists in the array."
   ]
  },
  {
   "cell_type": "markdown",
   "metadata": {},
   "source": [
    "**Example 1:**\n",
    "\n",
    "> Input: nums = [3,2,3]  \n",
    "> Output: 3\n",
    "\n",
    "**Example 2:**\n",
    "\n",
    "> Input: nums = [2,2,1,1,1,2,2]  \n",
    "> Output: 2"
   ]
  },
  {
   "cell_type": "code",
   "execution_count": 1,
   "metadata": {},
   "outputs": [],
   "source": [
    "class Solution:\n",
    "    \n",
    "    # Time Complexity： O(n)\n",
    "    # Space Complexity： O(1)\n",
    "    def majorityElement_BoyerMoore(self, nums: list[int]) -> int:\n",
    "        count = 0\n",
    "\n",
    "        for num in nums:\n",
    "            if count == 0: major_num = num\n",
    "                \n",
    "            if major_num != num: count -= 1\n",
    "            else: count += 1\n",
    "        \n",
    "        return major_num\n",
    "    \n",
    "    \n",
    "    # Time Complexity： O(n)\n",
    "    # Space Complexity： O(n)\n",
    "    def majorityElement_hashTable(self, nums: list[int]) -> int:\n",
    "        from collections import defaultdict\n",
    "\n",
    "        dic = defaultdict(int)\n",
    "        \n",
    "        for num in nums:\n",
    "            dic[num] += 1\n",
    "            \n",
    "            if dic[num] > (len(nums) // 2): return num\n",
    "            \n",
    "            \n",
    "    # Time Complexity： O(nlogn)\n",
    "    # Space Complexity： O(1)\n",
    "    def majorityElement_sort(self, nums: list[int]) -> int:\n",
    "        return sorted(nums)[len(nums)//2]"
   ]
  },
  {
   "cell_type": "code",
   "execution_count": 2,
   "metadata": {},
   "outputs": [
    {
     "name": "stdout",
     "output_type": "stream",
     "text": [
      "---majorityElement_BoyerMoore---\n",
      "Case 1: 3\n",
      "Case 2: 2\n",
      "\n",
      "---majorityElement_hashTable---\n",
      "Case 1: 3\n",
      "Case 2: 2\n",
      "\n",
      "---majorityElement_sort---\n",
      "Case 1: 3\n",
      "Case 2: 2\n"
     ]
    }
   ],
   "source": [
    "# Test on Cases\n",
    "S = Solution()\n",
    "\n",
    "print(\"---majorityElement_BoyerMoore---\")\n",
    "print(f\"Case 1: {S.majorityElement_BoyerMoore([3,2,3])}\")\n",
    "print(f\"Case 2: {S.majorityElement_BoyerMoore([2,2,1,1,1,2,2])}\\n\")\n",
    "\n",
    "print(\"---majorityElement_hashTable---\")\n",
    "print(f\"Case 1: {S.majorityElement_hashTable([3,2,3])}\")\n",
    "print(f\"Case 2: {S.majorityElement_hashTable([2,2,1,1,1,2,2])}\\n\")\n",
    "\n",
    "print(\"---majorityElement_sort---\")\n",
    "print(f\"Case 1: {S.majorityElement_sort([3,2,3])}\")\n",
    "print(f\"Case 2: {S.majorityElement_sort([2,2,1,1,1,2,2])}\")"
   ]
  }
 ],
 "metadata": {
  "interpreter": {
   "hash": "a1465031eeae0bed8511463faaa157119e7e6b7b1fbf4ef49fce31064cee3326"
  },
  "kernelspec": {
   "display_name": "Python 3 (ipykernel)",
   "language": "python",
   "name": "python3"
  },
  "language_info": {
   "codemirror_mode": {
    "name": "ipython",
    "version": 3
   },
   "file_extension": ".py",
   "mimetype": "text/x-python",
   "name": "python",
   "nbconvert_exporter": "python",
   "pygments_lexer": "ipython3",
   "version": "3.10.4"
  }
 },
 "nbformat": 4,
 "nbformat_minor": 4
}
