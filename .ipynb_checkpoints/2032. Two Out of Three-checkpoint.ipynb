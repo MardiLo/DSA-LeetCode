{
 "cells": [
  {
   "cell_type": "markdown",
   "metadata": {},
   "source": [
    "`# Array` `# Hash Table`"
   ]
  },
  {
   "cell_type": "markdown",
   "metadata": {},
   "source": [
    "Given three integer arrays `nums1`, `nums2`, and `nums3`, return *a ***distinct*** array containing all the values that are present in ***at least two*** out of the three arrays. You may return the values in ***any*** order.*"
   ]
  },
  {
   "cell_type": "markdown",
   "metadata": {},
   "source": [
    "**Example 1:**\n",
    "\n",
    "> Input: nums1 = [1,1,3,2], nums2 = [2,3], nums3 = [3]  \n",
    "> Output: [3,2]  \n",
    "> Explanation: The values that are present in at least two arrays are:  \n",
    "> - 3, in all three arrays.  \n",
    "> - 2, in nums1 and nums2.\n",
    "\n",
    "**Example 2:**\n",
    "\n",
    "> Input: nums1 = [3,1], nums2 = [2,3], nums3 = [1,2]  \n",
    "> Output: [2,3,1]  \n",
    "> Explanation: The values that are present in at least two arrays are:  \n",
    "> - 2, in nums2 and nums3.  \n",
    "> - 3, in nums1 and nums2.  \n",
    "> - 1, in nums1 and nums3.\n",
    "\n",
    "**Example 3:**\n",
    "\n",
    "> Input: nums1 = [1,2,2], nums2 = [4,3,3], nums3 = [5]  \n",
    "> Output: []  \n",
    "> Explanation: No value is present in at least two arrays."
   ]
  },
  {
   "cell_type": "code",
   "execution_count": 1,
   "metadata": {},
   "outputs": [],
   "source": [
    "class Solution:\n",
    "\n",
    "    # Time Complexity： O(m+n+k)\n",
    "    # Space Complexity： O(m+n+k)\n",
    "    def twoOutOfThree(self, nums1: list[int], nums2: list[int], nums3: list[int]) -> list[int]:\n",
    "        from collections import Counter\n",
    "        \n",
    "        return [num for num, freq in (Counter(set(nums1)) + Counter(set(nums2)) + Counter(set(nums3))).items() if freq > 1]"
   ]
  },
  {
   "cell_type": "code",
   "execution_count": 2,
   "metadata": {},
   "outputs": [
    {
     "name": "stdout",
     "output_type": "stream",
     "text": [
      "Case 1: [2, 3]\n",
      "Case 2: [1, 3, 2]\n",
      "Case 3: []\n"
     ]
    }
   ],
   "source": [
    "# Test on Cases\n",
    "S = Solution()\n",
    "\n",
    "print(f\"Case 1: {S.twoOutOfThree(nums1=[1,1,3,2], nums2=[2,3], nums3=[3])}\")\n",
    "print(f\"Case 2: {S.twoOutOfThree(nums1=[3,1], nums2=[2,3], nums3=[1,2])}\")\n",
    "print(f\"Case 3: {S.twoOutOfThree(nums1=[1,2,2], nums2=[4,3,3], nums3=[5])}\")"
   ]
  }
 ],
 "metadata": {
  "kernelspec": {
   "display_name": "Python 3 (ipykernel)",
   "language": "python",
   "name": "python3"
  },
  "language_info": {
   "codemirror_mode": {
    "name": "ipython",
    "version": 3
   },
   "file_extension": ".py",
   "mimetype": "text/x-python",
   "name": "python",
   "nbconvert_exporter": "python",
   "pygments_lexer": "ipython3",
   "version": "3.10.4"
  },
  "vscode": {
   "interpreter": {
    "hash": "21d8332eb27bea95342760850bd7426f517b6a483537194bbba87e10eeabf6ff"
   }
  }
 },
 "nbformat": 4,
 "nbformat_minor": 4
}
