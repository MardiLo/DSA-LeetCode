{
 "cells": [
  {
   "cell_type": "markdown",
   "metadata": {},
   "source": [
    "`# Counting` `# Design` `# Simulation`"
   ]
  },
  {
   "cell_type": "markdown",
   "metadata": {},
   "source": [
    "Design a parking system for a parking lot. The parking lot has three kinds of parking spaces: big, medium, and small, with a fixed number of slots for each size.\n",
    "\n",
    "Implement the ParkingSystem class:\n",
    "\n",
    "- `ParkingSystem(int big, int medium, int small)` Initializes object of the `ParkingSystem` class. The number of slots for each parking space are given as part of the constructor.\n",
    "- `bool addCar(int carType)` Checks whether there is a parking space of `carType` for the car that wants to get into the parking lot. `carType` can be of three kinds: big, medium, or small, which are represented by `1`, `2`, and `3` respectively. A car can only park in a parking space of its `carType`. If there is no space available, return `false`, else park the car in that size space and return `true`."
   ]
  },
  {
   "cell_type": "markdown",
   "metadata": {},
   "source": [
    "**Example 1:**\n",
    "\n",
    "> Input\n",
    "> [\"ParkingSystem\", \"addCar\", \"addCar\", \"addCar\", \"addCar\"]  \n",
    "> [[1, 1, 0], [1], [2], [3], [1]]  \n",
    "> \n",
    "> Output  \n",
    "> [null, true, true, false, false]  \n",
    "> \n",
    "> Explanation  \n",
    "> ParkingSystem parkingSystem = new ParkingSystem(1, 1, 0);  \n",
    "> parkingSystem.addCar(1); // return true because there is 1 available slot for a big car  \n",
    "> parkingSystem.addCar(2); // return true because there is 1 available slot for a medium car  \n",
    "> parkingSystem.addCar(3); // return false because there is no available slot for a small car  \n",
    "> parkingSystem.addCar(1); // return false because there is no available slot for a big car. It is already occupied."
   ]
  },
  {
   "cell_type": "code",
   "execution_count": 7,
   "metadata": {},
   "outputs": [],
   "source": [
    "class ParkingSystem:\n",
    "\n",
    "    def __init__(self, big: int, medium: int, small: int):\n",
    "        self.space = [big, medium, small]\n",
    "\n",
    "    def addCar(self, carType: int) -> bool:\n",
    "        if self.space[(i := carType - 1)]:\n",
    "            self.space[i] -= 1\n",
    "            return True\n",
    "        return False"
   ]
  },
  {
   "cell_type": "code",
   "execution_count": 8,
   "metadata": {},
   "outputs": [
    {
     "name": "stdout",
     "output_type": "stream",
     "text": [
      "True\n",
      "True\n",
      "False\n",
      "False\n"
     ]
    }
   ],
   "source": [
    "# Test on Cases\n",
    "park = ParkingSystem(1, 1, 0)\n",
    "\n",
    "print(park.addCar(1))\n",
    "print(park.addCar(2))\n",
    "print(park.addCar(3))\n",
    "print(park.addCar(1))"
   ]
  }
 ],
 "metadata": {
  "kernelspec": {
   "display_name": "Python 3 (ipykernel)",
   "language": "python",
   "name": "python3"
  },
  "language_info": {
   "codemirror_mode": {
    "name": "ipython",
    "version": 3
   },
   "file_extension": ".py",
   "mimetype": "text/x-python",
   "name": "python",
   "nbconvert_exporter": "python",
   "pygments_lexer": "ipython3",
   "version": "3.10.4"
  },
  "vscode": {
   "interpreter": {
    "hash": "21d8332eb27bea95342760850bd7426f517b6a483537194bbba87e10eeabf6ff"
   }
  }
 },
 "nbformat": 4,
 "nbformat_minor": 4
}
