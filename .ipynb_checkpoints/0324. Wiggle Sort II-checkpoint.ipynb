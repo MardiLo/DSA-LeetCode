{
 "cells": [
  {
   "cell_type": "markdown",
   "metadata": {},
   "source": [
    "`# Array` `# Divide and Conquer` `# Quickselect` `# Sorting` "
   ]
  },
  {
   "cell_type": "markdown",
   "metadata": {},
   "source": [
    "Given an integer array `nums`, *reorder it such that* `nums[0] < nums[1] > nums[2] < nums[3]`....\n",
    "\n",
    "You may assume the input array **always has a valid answer**."
   ]
  },
  {
   "cell_type": "markdown",
   "metadata": {},
   "source": [
    "**Example 1:**\n",
    "\n",
    "> Input: nums = [1,5,1,1,6,4]  \n",
    "> Output: [1,6,1,5,1,4]  \n",
    "> Explanation: [1,4,1,5,1,6] is also accepted.   \n",
    "\n",
    "**Example 2:**\n",
    "\n",
    "> Input: nums = [1,3,2,2,3,1]  \n",
    "> Output: [2,3,1,3,1,2]  "
   ]
  },
  {
   "cell_type": "code",
   "execution_count": 1,
   "metadata": {},
   "outputs": [],
   "source": [
    "class Solution:\n",
    "    \n",
    "    # Time Complexity： O(nlogn)\n",
    "    # Space Complexity： O(n)    \n",
    "    def wiggleSort(self, nums: list[int]) -> None:\n",
    "        \"\"\"Do not return anything, modify nums in-place instead.\"\"\"\n",
    "\n",
    "        nums.sort(reverse=True)                                             # TC: O(nlogn)\n",
    "        nums[::2], nums[1::2] = nums[len(nums)//2:], nums[:len(nums)//2]    # TC: O(n); SC: O(n)\n",
    "\n",
    "        return nums"
   ]
  },
  {
   "cell_type": "code",
   "execution_count": 2,
   "metadata": {},
   "outputs": [
    {
     "name": "stdout",
     "output_type": "stream",
     "text": [
      "Case 1: [1, 6, 1, 5, 1, 4]\n",
      "Case 2: [2, 3, 1, 3, 1, 2]\n"
     ]
    }
   ],
   "source": [
    "# Test on Cases\n",
    "S = Solution()\n",
    "\n",
    "print(f\"Case 1: {S.wiggleSort([1,5,1,1,6,4])}\")\n",
    "print(f\"Case 2: {S.wiggleSort([1,3,2,2,3,1])}\")"
   ]
  },
  {
   "cell_type": "markdown",
   "metadata": {},
   "source": [
    "**Ref**\n",
    "1. [3 lines Python, with Explanation / Proof](https://leetcode.com/problems/wiggle-sort-ii/discuss/77678/3-lines-Python-with-Explanation-Proof)"
   ]
  }
 ],
 "metadata": {
  "interpreter": {
   "hash": "21d8332eb27bea95342760850bd7426f517b6a483537194bbba87e10eeabf6ff"
  },
  "kernelspec": {
   "display_name": "Python 3 (ipykernel)",
   "language": "python",
   "name": "python3"
  },
  "language_info": {
   "codemirror_mode": {
    "name": "ipython",
    "version": 3
   },
   "file_extension": ".py",
   "mimetype": "text/x-python",
   "name": "python",
   "nbconvert_exporter": "python",
   "pygments_lexer": "ipython3",
   "version": "3.10.4"
  }
 },
 "nbformat": 4,
 "nbformat_minor": 4
}
