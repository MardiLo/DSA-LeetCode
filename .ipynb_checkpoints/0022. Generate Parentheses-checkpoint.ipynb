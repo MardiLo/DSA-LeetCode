{
 "cells": [
  {
   "cell_type": "markdown",
   "metadata": {},
   "source": [
    "`# Backtracking` `# Dynamic Programming` `# String`"
   ]
  },
  {
   "cell_type": "markdown",
   "metadata": {},
   "source": [
    "Given `n` pairs of parentheses, write a function to generate all combinations of well-formed parentheses."
   ]
  },
  {
   "cell_type": "markdown",
   "metadata": {},
   "source": [
    "**Example 1:**\n",
    "\n",
    "> Input: n = 3  \n",
    "> Output: [\"((()))\",\"(()())\",\"(())()\",\"()(())\",\"()()()\"]  \n",
    "\n",
    "**Example 2**\n",
    "\n",
    "> Input: n = 1  \n",
    "> Output: [\"()\"]  "
   ]
  },
  {
   "cell_type": "code",
   "execution_count": 25,
   "metadata": {},
   "outputs": [],
   "source": [
    "class Solution:\n",
    "    \n",
    "    # Time Complexity： O(4^n/sqrt(n)), it's the nth Catalan number\n",
    "    # Space Complexity： O(4^n/sqrt(n))\n",
    "    def generateParenthesis_DFS_recursion(self, n: int) -> list[str]:\n",
    "        self.res = []\n",
    "\n",
    "        def dfs(leftRemain: int, rightRemain: int, selected: str) -> None:\n",
    "            if not leftRemain and not rightRemain: \n",
    "                self.res.append(selected)\n",
    "                return\n",
    "\n",
    "            if leftRemain <= rightRemain: \n",
    "                if leftRemain: dfs(leftRemain - 1, rightRemain, selected + '(')\n",
    "                if rightRemain: dfs(leftRemain, rightRemain - 1, selected + ')')\n",
    "        \n",
    "        dfs(n, n, '')\n",
    "\n",
    "        return self.res"
   ]
  },
  {
   "cell_type": "code",
   "execution_count": 26,
   "metadata": {},
   "outputs": [
    {
     "name": "stdout",
     "output_type": "stream",
     "text": [
      "Case 1: ['((()))', '(()())', '(())()', '()(())', '()()()']\n",
      "Case 2: ['()']\n"
     ]
    }
   ],
   "source": [
    "# Test on Cases\n",
    "S = Solution()\n",
    "\n",
    "print(f\"Case 1: {S.generateParenthesis_DFS_recursion(3)}\")\n",
    "print(f\"Case 2: {S.generateParenthesis_DFS_recursion(1)}\")"
   ]
  },
  {
   "cell_type": "markdown",
   "metadata": {},
   "source": [
    "**Ref**\n",
    "1. [Python easy to understand dfs solution.](https://leetcode.com/problems/generate-parentheses/discuss/10388/Python-easy-to-understand-dfs-solution.)"
   ]
  }
 ],
 "metadata": {
  "kernelspec": {
   "display_name": "Python 3 (ipykernel)",
   "language": "python",
   "name": "python3"
  },
  "language_info": {
   "codemirror_mode": {
    "name": "ipython",
    "version": 3
   },
   "file_extension": ".py",
   "mimetype": "text/x-python",
   "name": "python",
   "nbconvert_exporter": "python",
   "pygments_lexer": "ipython3",
   "version": "3.10.4"
  },
  "vscode": {
   "interpreter": {
    "hash": "21d8332eb27bea95342760850bd7426f517b6a483537194bbba87e10eeabf6ff"
   }
  }
 },
 "nbformat": 4,
 "nbformat_minor": 4
}
