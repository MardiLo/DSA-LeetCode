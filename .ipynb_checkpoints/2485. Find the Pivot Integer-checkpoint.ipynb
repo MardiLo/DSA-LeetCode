{
 "cells": [
  {
   "cell_type": "markdown",
   "metadata": {},
   "source": [
    "`# Math` `# Prefix Sum`"
   ]
  },
  {
   "cell_type": "markdown",
   "metadata": {},
   "source": [
    "Given a positive integer `n`, find the **pivot integer** `x` such that:\n",
    "\n",
    "The sum of all elements between `1` and `x` inclusively equals the sum of all elements between `x` and `n` inclusively.\n",
    "Return *the pivot integer* `x`. If no such integer exists, return `-1`. It is guaranteed that there will be at most one pivot index for the given input."
   ]
  },
  {
   "cell_type": "markdown",
   "metadata": {},
   "source": [
    "**Example 1:**\n",
    "\n",
    "> Input: n = 8  \n",
    "> Output: 6  \n",
    "> Explanation: 6 is the pivot integer since: 1 + 2 + 3 + 4 + 5 + 6 = 6 + 7 + 8 = 21.\n",
    "\n",
    "**Example 2:**\n",
    "\n",
    "> Input: n = 1  \n",
    "> Output: 1  \n",
    "> Explanation: 1 is the pivot integer since: 1 = 1.\n",
    "\n",
    "**Example 3:**\n",
    "\n",
    "> Input: n = 4  \n",
    "> Output: -1  \n",
    "> Explanation: It can be proved that no such integer exist."
   ]
  },
  {
   "cell_type": "code",
   "execution_count": 3,
   "metadata": {},
   "outputs": [],
   "source": [
    "class Solution:\n",
    "    \n",
    "    # Time Complexity： O(1)\n",
    "    # Space Complexity： O(1)    \n",
    "    def pivotInteger(self, n: int) -> int:\n",
    "        return int(x) if (x := (0.5*(n+1)*n) ** 0.5) == int(x) else -1"
   ]
  },
  {
   "cell_type": "code",
   "execution_count": 4,
   "metadata": {},
   "outputs": [
    {
     "name": "stdout",
     "output_type": "stream",
     "text": [
      "Case 1: 6\n",
      "Case 2: 1\n",
      "Case 3: -1\n"
     ]
    }
   ],
   "source": [
    "# Test on Cases\n",
    "S = Solution()\n",
    "\n",
    "print(f\"Case 1: {S.pivotInteger(8)}\")\n",
    "print(f\"Case 2: {S.pivotInteger(1)}\")\n",
    "print(f\"Case 3: {S.pivotInteger(4)}\")"
   ]
  }
 ],
 "metadata": {
  "interpreter": {
   "hash": "21d8332eb27bea95342760850bd7426f517b6a483537194bbba87e10eeabf6ff"
  },
  "kernelspec": {
   "display_name": "Python 3 (ipykernel)",
   "language": "python",
   "name": "python3"
  },
  "language_info": {
   "codemirror_mode": {
    "name": "ipython",
    "version": 3
   },
   "file_extension": ".py",
   "mimetype": "text/x-python",
   "name": "python",
   "nbconvert_exporter": "python",
   "pygments_lexer": "ipython3",
   "version": "3.10.4"
  }
 },
 "nbformat": 4,
 "nbformat_minor": 4
}
