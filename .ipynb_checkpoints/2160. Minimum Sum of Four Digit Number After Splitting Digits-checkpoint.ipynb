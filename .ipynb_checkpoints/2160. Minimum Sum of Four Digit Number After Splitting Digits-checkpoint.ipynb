{
 "cells": [
  {
   "cell_type": "markdown",
   "metadata": {},
   "source": [
    "`# Greedy` `# Math` `# Sorting`"
   ]
  },
  {
   "cell_type": "markdown",
   "metadata": {},
   "source": [
    "You are given a **positive** integer `num` consisting of exactly four digits. Split `num` into two new integers `new1` and `new2` by using the **digits** found in `num`. **Leading zeros** are allowed in `new1` and `new2`, and **all** the digits found in `num` must be used.\n",
    "\n",
    "- For example, given `num = 2932`, you have the following digits: two `2`'s, one `9` and one `3`. Some of the possible pairs `[new1, new2]` are `[22, 93]`, `[23, 92]`, `[223, 9]` and `[2, 329]`.\n",
    "\n",
    "Return *the minimum possible sum of* `new1` *and* `new2`."
   ]
  },
  {
   "cell_type": "markdown",
   "metadata": {},
   "source": [
    "**Example 1:**\n",
    "\n",
    "> Input: num = 2932  \n",
    "> Output: 52  \n",
    "> Explanation: Some possible pairs [new1, new2] are [29, 23], [223, 9], etc.  \n",
    "> The minimum sum can be obtained by the pair [29, 23]: 29 + 23 = 52.\n",
    "\n",
    "**Example 2**\n",
    "\n",
    "> Input: num = 4009  \n",
    "> Output: 13  \n",
    "> Explanation: Some possible pairs [new1, new2] are [0, 49], [490, 0], etc.   \n",
    "> The minimum sum can be obtained by the pair [4, 9]: 4 + 9 = 13."
   ]
  },
  {
   "cell_type": "code",
   "execution_count": 1,
   "metadata": {},
   "outputs": [],
   "source": [
    "class Solution:\n",
    "    \n",
    "    # Time Complexity： O(log(log_10(n)))\n",
    "    # Space Complexity： O(log_10(n))\n",
    "    def minimumSum(self, num: int) -> int:\n",
    "        num = sorted(str(num))\n",
    "        \n",
    "        return int(num[0]+num[2]) + int(num[1]+num[3])  "
   ]
  },
  {
   "cell_type": "code",
   "execution_count": 2,
   "metadata": {},
   "outputs": [
    {
     "name": "stdout",
     "output_type": "stream",
     "text": [
      "Case 1: 52\n",
      "Case 2: 13\n"
     ]
    }
   ],
   "source": [
    "# Test on Cases\n",
    "S = Solution()\n",
    "\n",
    "print(f\"Case 1: {S.minimumSum(2932)}\")\n",
    "print(f\"Case 2: {S.minimumSum(4009)}\")"
   ]
  }
 ],
 "metadata": {
  "kernelspec": {
   "display_name": "Python 3 (ipykernel)",
   "language": "python",
   "name": "python3"
  },
  "language_info": {
   "codemirror_mode": {
    "name": "ipython",
    "version": 3
   },
   "file_extension": ".py",
   "mimetype": "text/x-python",
   "name": "python",
   "nbconvert_exporter": "python",
   "pygments_lexer": "ipython3",
   "version": "3.10.4"
  },
  "vscode": {
   "interpreter": {
    "hash": "21d8332eb27bea95342760850bd7426f517b6a483537194bbba87e10eeabf6ff"
   }
  }
 },
 "nbformat": 4,
 "nbformat_minor": 4
}
