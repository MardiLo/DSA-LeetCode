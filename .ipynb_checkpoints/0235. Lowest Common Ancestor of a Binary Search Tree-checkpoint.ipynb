{
 "cells": [
  {
   "cell_type": "markdown",
   "metadata": {},
   "source": [
    "`# Binary Search Tree` `# Binary Tree` `# Depth-First Search` `# Tree`"
   ]
  },
  {
   "cell_type": "markdown",
   "metadata": {},
   "source": [
    "Given a binary search tree (BST), find the lowest common ancestor (LCA) of two given nodes in the BST.\n",
    "\n",
    "According to the definition of LCA on Wikipedia: “The lowest common ancestor is defined between two nodes `p` and `q` as the lowest node in T that has both `p` and `q` as descendants (where we allow a node to be a descendant of itself).”"
   ]
  },
  {
   "cell_type": "markdown",
   "metadata": {},
   "source": [
    "**Example 1:**  \n",
    "![Image of leetcode 0235 problem example 1](https://assets.leetcode.com/uploads/2018/12/14/binarysearchtree_improved.png)\n",
    "> Input: root = [6,2,8,0,4,7,9,null,null,3,5], p = 2, q = 8  \n",
    "> Output: 6  \n",
    "> > Explanation: The LCA of nodes 2 and 8 is 6.  \n",
    "\n",
    "**Example 2:**  \n",
    "![Image of leetcode 0235 problem example 2](https://assets.leetcode.com/uploads/2018/12/14/binarysearchtree_improved.png)\n",
    "> Input: root = [6,2,8,0,4,7,9,null,null,3,5], p = 2, q = 4  \n",
    "> Output: 2  \n",
    "> Explanation: The LCA of nodes 2 and 4 is 2, since a node can be a descendant of itself according to the LCA definition. \n",
    "\n",
    "**Example 3:**  \n",
    "\n",
    "> Input: root = [2,1], p = 2, q = 1  \n",
    "> Output: 1  "
   ]
  },
  {
   "cell_type": "code",
   "execution_count": 1,
   "metadata": {},
   "outputs": [],
   "source": [
    "class TreeNode:\n",
    "    def __init__(self, x):\n",
    "        self.val = x\n",
    "        self.left = None\n",
    "        self.right = None\n",
    "\n",
    "class Solution:\n",
    "    \n",
    "    # Time Complexity： O(h)\n",
    "    # Space Complexity： O(1)  \n",
    "    def lowestCommonAncestor(self, root: TreeNode, p: TreeNode, q: TreeNode) -> TreeNode:\n",
    "       while root:\n",
    "            if p.val < root.val and q.val < root.val: root = root.left\n",
    "            elif p.val > root.val and q.val > root.val: root = root.right\n",
    "            else: return root"
   ]
  },
  {
   "cell_type": "markdown",
   "metadata": {},
   "source": [
    "**Ref**\n",
    "1. [Lowest Common Ancestor of a Binary Search Tree - Leetcode 235 - Python](https://www.youtube.com/watch?v=gs2LMfuOR9k&ab_channel=NeetCode)"
   ]
  }
 ],
 "metadata": {
  "kernelspec": {
   "display_name": "Python 3 (ipykernel)",
   "language": "python",
   "name": "python3"
  },
  "language_info": {
   "codemirror_mode": {
    "name": "ipython",
    "version": 3
   },
   "file_extension": ".py",
   "mimetype": "text/x-python",
   "name": "python",
   "nbconvert_exporter": "python",
   "pygments_lexer": "ipython3",
   "version": "3.10.4"
  },
  "vscode": {
   "interpreter": {
    "hash": "21d8332eb27bea95342760850bd7426f517b6a483537194bbba87e10eeabf6ff"
   }
  }
 },
 "nbformat": 4,
 "nbformat_minor": 4
}
