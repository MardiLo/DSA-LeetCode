{
 "cells": [
  {
   "cell_type": "markdown",
   "metadata": {},
   "source": [
    "`# Binary Tree` `# Depth-First Search` `# Dynamic Programming` `# Tree`"
   ]
  },
  {
   "cell_type": "markdown",
   "metadata": {},
   "source": [
    "The thief has found himself a new place for his thievery again. There is only one entrance to this area, called `root`.\n",
    "\n",
    "Besides the `root`, each house has one and only one parent house. After a tour, the smart thief realized that all houses in this place form a binary tree. It will automatically contact the police if **two directly-linked houses were broken into on the same night**.\n",
    "\n",
    "Given the `root` of the binary tree, return *the maximum amount of money the thief can rob without alerting the police*."
   ]
  },
  {
   "cell_type": "markdown",
   "metadata": {},
   "source": [
    "**Example 1:**  \n",
    "![Image of leetcode 0337 problem example 1](https://assets.leetcode.com/uploads/2021/03/10/rob1-tree.jpg)\n",
    "> Input: root = [3,2,3,null,3,null,1]  \n",
    "> Output: 7  \n",
    "> Explanation: Maximum amount of money the thief can rob = 3 + 3 + 1 = 7.   \n",
    "\n",
    "**Example 2:**  \n",
    "![Image of leetcode 0337 problem example 2](https://assets.leetcode.com/uploads/2021/03/10/rob2-tree.jpg)\n",
    "> Input: root = [3,4,5,1,3,null,1]  \n",
    "> Output: 9  \n",
    "> Explanation: Maximum amount of money the thief can rob = 4 + 5 = 9.  "
   ]
  },
  {
   "cell_type": "code",
   "execution_count": 1,
   "metadata": {},
   "outputs": [],
   "source": [
    "class TreeNode:\n",
    "    def __init__(self, val=0, left=None, right=None):\n",
    "        self.val = val\n",
    "        self.left = left\n",
    "        self.right = right\n",
    "\n",
    "class Solution:\n",
    "    \n",
    "    # Time Complexity： O(n)\n",
    "    # Space Complexity： O(h)\n",
    "    def rob_DFS_recursion(self, root: TreeNode) -> int:\n",
    "        def dfs(root: TreeNode) -> tuple:\n",
    "            if not root: return (0, 0)\n",
    "            \n",
    "            l, r = dfs(root.left), dfs(root.right)\n",
    "            \n",
    "            return (root.val + l[1] + r[1], max(l) + max(r))    # (gain when you ROB the current node, gain when you SKIP the current node)\n",
    "        \n",
    "        return max(dfs(root))\n",
    "\n",
    "    # Time Complexity： O(n)\n",
    "    # Space Complexity： O(h+n), h is for keeping the memory stack, n is for the hashmap\n",
    "    def rob_DFS_iteration(self, root: TreeNode) -> int:\n",
    "        \"\"\"We need to start from the bottom, so using postorder traversal\"\"\"\n",
    "        from collections import defaultdict\n",
    "\n",
    "        stack, dp = [(0, root)], defaultdict(tuple, {None: (0, 0)})\n",
    "        while stack:\n",
    "            visited, root = stack.pop()\n",
    "            \n",
    "            if root:\n",
    "                if not visited:\n",
    "                    stack.extend([(1, root), (0, root.right), (0, root.left)])\n",
    "                else:\n",
    "                    dp[root] = (root.val + dp[root.left][1] + dp[root.right][1], max(dp[root.left]) + max(dp[root.right]))\n",
    "                    \n",
    "        return max(dp[root])"
   ]
  },
  {
   "cell_type": "code",
   "execution_count": 2,
   "metadata": {},
   "outputs": [
    {
     "name": "stdout",
     "output_type": "stream",
     "text": [
      "---rob_DFS_recursion---\n",
      "Case 1: 7\n",
      "Case 2: 9\n",
      "\n",
      "---rob_DFS_iteration---\n",
      "Case 1: 7\n",
      "Case 2: 9\n"
     ]
    }
   ],
   "source": [
    "# Test on Cases\n",
    "S = Solution()\n",
    "\n",
    "print(\"---rob_DFS_recursion---\")\n",
    "print(f\"Case 1: {S.rob_DFS_recursion(TreeNode(3, TreeNode(2, None, TreeNode(3)), TreeNode(3, None, TreeNode(1))))}\")\n",
    "print(f\"Case 2: {S.rob_DFS_recursion(TreeNode(3, TreeNode(4, TreeNode(1), TreeNode(3)), TreeNode(5, None, TreeNode(1))))}\\n\")\n",
    "\n",
    "print(\"---rob_DFS_iteration---\")\n",
    "print(f\"Case 1: {S.rob_DFS_iteration(TreeNode(3, TreeNode(2, None, TreeNode(3)), TreeNode(3, None, TreeNode(1))))}\")\n",
    "print(f\"Case 2: {S.rob_DFS_iteration(TreeNode(3, TreeNode(4, TreeNode(1), TreeNode(3)), TreeNode(5, None, TreeNode(1))))}\")"
   ]
  },
  {
   "cell_type": "markdown",
   "metadata": {},
   "source": [
    "**Ref**\n",
    "1. [[Python] very short dfs, explained](https://leetcode.com/problems/house-robber-iii/discuss/946176/Python-very-short-dfs-explained)\n",
    "2. [[Python3] Dynamic Programming + Depth First Search](https://leetcode.com/problems/house-robber-iii/discuss/376297/Python3-Dynamic-Programming-%2B-Depth-First-Search)"
   ]
  }
 ],
 "metadata": {
  "kernelspec": {
   "display_name": "Python 3 (ipykernel)",
   "language": "python",
   "name": "python3"
  },
  "language_info": {
   "codemirror_mode": {
    "name": "ipython",
    "version": 3
   },
   "file_extension": ".py",
   "mimetype": "text/x-python",
   "name": "python",
   "nbconvert_exporter": "python",
   "pygments_lexer": "ipython3",
   "version": "3.10.4"
  },
  "vscode": {
   "interpreter": {
    "hash": "21d8332eb27bea95342760850bd7426f517b6a483537194bbba87e10eeabf6ff"
   }
  }
 },
 "nbformat": 4,
 "nbformat_minor": 4
}
