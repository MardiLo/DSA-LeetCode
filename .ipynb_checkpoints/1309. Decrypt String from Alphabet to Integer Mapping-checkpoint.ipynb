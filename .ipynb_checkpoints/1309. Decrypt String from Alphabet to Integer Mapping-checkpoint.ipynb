{
 "cells": [
  {
   "cell_type": "markdown",
   "metadata": {},
   "source": [
    "`# String`"
   ]
  },
  {
   "cell_type": "markdown",
   "metadata": {},
   "source": [
    "You are given a string `s` formed by digits and `'#'`. We want to map `s` to English lowercase characters as follows:\n",
    "\n",
    "- Characters (`'a'` to `'i'`) are represented by (`'1'` to `'9'`) respectively.\n",
    "- Characters (`'j'` to `'z'`) are represented by (`'10#'` to `'26#'`) respectively.\n",
    "\n",
    "Return *the string formed after mapping.*\n",
    "\n",
    "The test cases are generated so that a unique mapping will always exist."
   ]
  },
  {
   "cell_type": "markdown",
   "metadata": {},
   "source": [
    "**Example 1:**\n",
    "\n",
    "> Input: s = \"10#11#12\"  \n",
    "> Output: \"jkab\"  \n",
    "> Explanation: \"j\" -> \"10#\" , \"k\" -> \"11#\" , \"a\" -> \"1\" , \"b\" -> \"2\".\n",
    "\n",
    "**Example 2:**\n",
    "\n",
    "> Input: s = \"1326#\"  \n",
    "> Output: \"acz\"  "
   ]
  },
  {
   "cell_type": "code",
   "execution_count": 1,
   "metadata": {},
   "outputs": [],
   "source": [
    "class Solution:\n",
    "\n",
    "    # Time Complexity： O(n)\n",
    "    # Space Complexity： O(1)\n",
    "    def freqAlphabets(self, s: str) -> str:\n",
    "        i, res = len(s) - 1, ''\n",
    "        \n",
    "        while i >= 0:\n",
    "            if s[i] == '#': res = chr(int(s[i-2:i]) + 96) + res; i -= 3\n",
    "            else: res = chr(int(s[i]) + 96) + res; i -= 1\n",
    "            \n",
    "        return res"
   ]
  },
  {
   "cell_type": "code",
   "execution_count": 2,
   "metadata": {},
   "outputs": [
    {
     "name": "stdout",
     "output_type": "stream",
     "text": [
      "Case 1: jkab\n",
      "Case 2: acz\n"
     ]
    }
   ],
   "source": [
    "# Test on Cases\n",
    "S = Solution()\n",
    "\n",
    "print(f\"Case 1: {S.freqAlphabets('10#11#12')}\")\n",
    "print(f\"Case 2: {S.freqAlphabets('1326#')}\")"
   ]
  }
 ],
 "metadata": {
  "kernelspec": {
   "display_name": "Python 3 (ipykernel)",
   "language": "python",
   "name": "python3"
  },
  "language_info": {
   "codemirror_mode": {
    "name": "ipython",
    "version": 3
   },
   "file_extension": ".py",
   "mimetype": "text/x-python",
   "name": "python",
   "nbconvert_exporter": "python",
   "pygments_lexer": "ipython3",
   "version": "3.10.4"
  },
  "vscode": {
   "interpreter": {
    "hash": "21d8332eb27bea95342760850bd7426f517b6a483537194bbba87e10eeabf6ff"
   }
  }
 },
 "nbformat": 4,
 "nbformat_minor": 4
}
