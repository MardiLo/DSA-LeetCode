{
 "cells": [
  {
   "cell_type": "markdown",
   "metadata": {},
   "source": [
    "`# Array` `# Bit Manipulation`"
   ]
  },
  {
   "cell_type": "markdown",
   "metadata": {},
   "source": [
    "Given a **non-empty** array of integers `nums`, every element appears twice except for one. Find that single one.\n",
    "\n",
    "Follow up: Could you implement a solution with a **linear runtime complexity** and **without using extra memory**?"
   ]
  },
  {
   "cell_type": "markdown",
   "metadata": {},
   "source": [
    "**Example 1:**\n",
    "\n",
    "> Input: nums = [2,2,1]  \n",
    "Output: 1\n",
    "\n",
    "**Example 2:**\n",
    "\n",
    "> Input: nums = [4,1,2,1,2]  \n",
    "Output: 4\n",
    "\n",
    "**Example 3:**\n",
    "\n",
    "> Input: nums = [1]  \n",
    "Output: 1"
   ]
  },
  {
   "cell_type": "code",
   "execution_count": 3,
   "metadata": {},
   "outputs": [],
   "source": [
    "class Solution:\n",
    "    \n",
    "    # Time Complexity： O(n)\n",
    "    # Space Complexity： O(n)  \n",
    "    def singleNumber_hashTable(self, nums: list[int]) -> int:\n",
    "        from collections import defaultdict\n",
    "\n",
    "        dic = defaultdict(int)\n",
    "        \n",
    "        for num in nums:\n",
    "            dic[num] += 1\n",
    "        \n",
    "        for k, v in dic.items():\n",
    "            if v == 1: return k \n",
    "    \n",
    "    \n",
    "    # Time Complexity： O(n)\n",
    "    # Space Complexity： O(1)  \n",
    "    def singleNumber_xor(self, nums: list[int]) -> int:\n",
    "        for i in range(1, len(nums)):\n",
    "            nums[0] ^= nums[i]\n",
    "            \n",
    "        return nums[0]\n",
    "        \n",
    "    \n",
    "    # Time Complexity： O(n)\n",
    "    # Space Complexity： O(n)\n",
    "    def singleNumber_set(self, nums: list[int]) -> int:\n",
    "        return 2 * sum(set(nums)) - sum(nums)"
   ]
  },
  {
   "cell_type": "code",
   "execution_count": 4,
   "metadata": {},
   "outputs": [
    {
     "name": "stdout",
     "output_type": "stream",
     "text": [
      "---singleNumber_hashTable---\n",
      "Case 1: 1\n",
      "Case 2: 4\n",
      "Case 3: 1\n",
      "\n",
      "---singleNumber_xor---\n",
      "0\n",
      "1\n",
      "Case 1: 1\n",
      "5\n",
      "7\n",
      "6\n",
      "4\n",
      "Case 2: 4\n",
      "Case 3: 1\n",
      "\n",
      "---singleNumber_set---\n",
      "Case 1: 1\n",
      "Case 2: 4\n",
      "Case 3: 1\n"
     ]
    }
   ],
   "source": [
    "# Test on Cases\n",
    "S = Solution()\n",
    "\n",
    "print(\"---singleNumber_hashTable---\")\n",
    "print(f\"Case 1: {S.singleNumber_hashTable([2,2,1])}\")\n",
    "print(f\"Case 2: {S.singleNumber_hashTable([4,1,2,1,2])}\")\n",
    "print(f\"Case 3: {S.singleNumber_hashTable([1])}\\n\")\n",
    "\n",
    "print(\"---singleNumber_xor---\")\n",
    "print(f\"Case 1: {S.singleNumber_xor([2,2,1])}\")\n",
    "print(f\"Case 2: {S.singleNumber_xor([4,1,2,1,2])}\")\n",
    "print(f\"Case 3: {S.singleNumber_xor([1])}\\n\")\n",
    "\n",
    "print(\"---singleNumber_set---\")\n",
    "print(f\"Case 1: {S.singleNumber_set([2,2,1])}\")\n",
    "print(f\"Case 2: {S.singleNumber_set([4,1,2,1,2])}\")\n",
    "print(f\"Case 3: {S.singleNumber_set([1])}\")"
   ]
  }
 ],
 "metadata": {
  "kernelspec": {
   "display_name": "Python 3",
   "language": "python",
   "name": "python3"
  },
  "language_info": {
   "codemirror_mode": {
    "name": "ipython",
    "version": 3
   },
   "file_extension": ".py",
   "mimetype": "text/x-python",
   "name": "python",
   "nbconvert_exporter": "python",
   "pygments_lexer": "ipython3",
   "version": "3.7.7"
  }
 },
 "nbformat": 4,
 "nbformat_minor": 4
}
