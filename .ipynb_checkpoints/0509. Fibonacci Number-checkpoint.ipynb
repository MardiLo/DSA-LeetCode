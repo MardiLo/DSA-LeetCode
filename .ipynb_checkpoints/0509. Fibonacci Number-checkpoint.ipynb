{
 "cells": [
  {
   "cell_type": "markdown",
   "metadata": {},
   "source": [
    "`# Dynamic Programming` `# Math` `# Memoization` `# Recursion`"
   ]
  },
  {
   "cell_type": "markdown",
   "metadata": {},
   "source": [
    "The **Fibonacci numbers**, commonly denoted `F(n)` form a sequence, called the **Fibonacci sequence**, such that each number is the sum of the two preceding ones, starting from `0` and `1`. That is,\n",
    "\n",
    "```\n",
    "F(0) = 0, F(1) = 1\n",
    "F(n) = F(n - 1) + F(n - 2), for n > 1.\n",
    "```\n",
    "\n",
    "Given `n`, *calculate* `F(n)`."
   ]
  },
  {
   "cell_type": "markdown",
   "metadata": {},
   "source": [
    "**Example 1:**\n",
    "\n",
    "> Input: n = 2  \n",
    "> Output: 1  \n",
    "> Explanation: F(2) = F(1) + F(0) = 1 + 0 = 1.  \n",
    "\n",
    "**Example 2:**\n",
    "\n",
    "> Input: n = 3  \n",
    "> Output: 2  \n",
    "> Explanation: F(3) = F(2) + F(1) = 1 + 1 = 2.  \n",
    "\n",
    "**Example 3:**\n",
    "\n",
    "> Input: n = 4  \n",
    "> Output: 3  \n",
    "> Explanation: F(4) = F(3) + F(2) = 2 + 1 = 3.  "
   ]
  },
  {
   "cell_type": "code",
   "execution_count": 1,
   "metadata": {},
   "outputs": [],
   "source": [
    "class Solution:\n",
    "     \n",
    "    # Time Complexity： O(n)\n",
    "    # Space Complexity： O(n)       \n",
    "    def fib(self, n: int) -> int:\n",
    "        dp = [0, 1]                    # SC: O(n)\n",
    "        \n",
    "        for i in range(2, n+1):        # TC: O(n)\n",
    "            dp.append(dp[i-1] + dp[i-2])\n",
    "            \n",
    "        return dp[n]\n",
    "\n",
    "    # Time Complexity： O(n)\n",
    "    # Space Complexity： O(1)    \n",
    "    def fib_spaceOpt(self, n: int) -> int:\n",
    "        dp1, dp2 = 1, 0\n",
    "        \n",
    "        for i in range(2, n+1):\n",
    "            dp1, dp2 = dp1 + dp2, dp1 \n",
    "        \n",
    "        return dp1 if n else dp2"
   ]
  },
  {
   "cell_type": "code",
   "execution_count": 2,
   "metadata": {},
   "outputs": [
    {
     "name": "stdout",
     "output_type": "stream",
     "text": [
      "---fib---\n",
      "Case 1: 1\n",
      "Case 2: 2\n",
      "Case 3: 3\n",
      "\n",
      "---fib_spaceOpt---\n",
      "Case 1: 1\n",
      "Case 2: 2\n",
      "Case 3: 3\n"
     ]
    }
   ],
   "source": [
    "# Test on Cases\n",
    "S = Solution()\n",
    "\n",
    "print(\"---fib---\")\n",
    "print(f\"Case 1: {S.fib(2)}\")\n",
    "print(f\"Case 2: {S.fib(3)}\")\n",
    "print(f\"Case 3: {S.fib(4)}\\n\")\n",
    "\n",
    "print(\"---fib_spaceOpt---\")\n",
    "print(f\"Case 1: {S.fib_spaceOpt(2)}\")\n",
    "print(f\"Case 2: {S.fib_spaceOpt(3)}\")\n",
    "print(f\"Case 3: {S.fib_spaceOpt(4)}\")"
   ]
  }
 ],
 "metadata": {
  "kernelspec": {
   "display_name": "Python 3 (ipykernel)",
   "language": "python",
   "name": "python3"
  },
  "language_info": {
   "codemirror_mode": {
    "name": "ipython",
    "version": 3
   },
   "file_extension": ".py",
   "mimetype": "text/x-python",
   "name": "python",
   "nbconvert_exporter": "python",
   "pygments_lexer": "ipython3",
   "version": "3.10.4"
  },
  "vscode": {
   "interpreter": {
    "hash": "21d8332eb27bea95342760850bd7426f517b6a483537194bbba87e10eeabf6ff"
   }
  }
 },
 "nbformat": 4,
 "nbformat_minor": 4
}
