{
 "cells": [
  {
   "cell_type": "markdown",
   "metadata": {},
   "source": [
    "`# Two Pointers` `# String`"
   ]
  },
  {
   "cell_type": "markdown",
   "metadata": {},
   "source": [
    "Given two strings `needle` and `haystack`, return *the index of the first occurrence of* `needle` *in* `haystack`*, or* `-1` *if* `needle` *is not part of* `haystack`."
   ]
  },
  {
   "cell_type": "markdown",
   "metadata": {},
   "source": [
    "**Example 1:**\n",
    "\n",
    "> Input: haystack = \"sadbutsad\", needle = \"sad\"  \n",
    "> Output: 0  \n",
    "> Explanation: \"sad\" occurs at index 0 and 6.  \n",
    "> The first occurrence is at index 0, so we return 0.  \n",
    "\n",
    "**Example 2:**\n",
    "\n",
    "> Input: haystack = \"leetcode\", needle = \"leeto\"  \n",
    "> Output: -1  \n",
    "> Explanation: \"leeto\" did not occur in \"leetcode\", so we return -1."
   ]
  },
  {
   "cell_type": "code",
   "execution_count": 3,
   "metadata": {},
   "outputs": [],
   "source": [
    "class Solution:\n",
    "    \n",
    "    # Time Complexity： O(m*(n-m+1)) \n",
    "    # Space Complexity： O(m)\n",
    "    def strStr_bruteForce(self, haystack: str, needle: str) -> int:\n",
    "        for i in range(len(haystack)-len(needle)+1):            # TC: O(n-m+1), where n = len(haystack)\n",
    "            if haystack[i:i+len(needle)] == needle: return i    # TC: O(m); SC: O(m), where m = len(needle)\n",
    "                \n",
    "        return -1\n",
    "\n",
    "    # Time Complexity： O(m*(n-m))\n",
    "    # Space Complexity： O(?)\n",
    "    def strStr_lib(self, haystack: str, needle: str) -> int:\n",
    "        return haystack.find(needle) if needle else 0"
   ]
  },
  {
   "cell_type": "code",
   "execution_count": 4,
   "metadata": {},
   "outputs": [
    {
     "name": "stdout",
     "output_type": "stream",
     "text": [
      "---strStr_bruteForce---\n",
      "Case 1: 0\n",
      "Case 2: -1\n",
      "\n",
      "---strStr_lib---\n",
      "Case 1: 0\n",
      "Case 2: -1\n"
     ]
    }
   ],
   "source": [
    "# Test on Cases\n",
    "S = Solution()\n",
    "\n",
    "print(\"---strStr_bruteForce---\")\n",
    "print(f\"Case 1: {S.strStr_bruteForce(haystack='sadbutsad', needle='sad')}\")\n",
    "print(f\"Case 2: {S.strStr_bruteForce(haystack='leetcode', needle='leeto')}\\n\")\n",
    "\n",
    "print(\"---strStr_lib---\")\n",
    "print(f\"Case 1: {S.strStr_lib(haystack='sadbutsad', needle='sad')}\")\n",
    "print(f\"Case 2: {S.strStr_lib(haystack='leetcode', needle='leeto')}\")"
   ]
  }
 ],
 "metadata": {
  "kernelspec": {
   "display_name": "Python 3 (ipykernel)",
   "language": "python",
   "name": "python3"
  },
  "language_info": {
   "codemirror_mode": {
    "name": "ipython",
    "version": 3
   },
   "file_extension": ".py",
   "mimetype": "text/x-python",
   "name": "python",
   "nbconvert_exporter": "python",
   "pygments_lexer": "ipython3",
   "version": "3.10.4"
  },
  "vscode": {
   "interpreter": {
    "hash": "21d8332eb27bea95342760850bd7426f517b6a483537194bbba87e10eeabf6ff"
   }
  }
 },
 "nbformat": 4,
 "nbformat_minor": 4
}
