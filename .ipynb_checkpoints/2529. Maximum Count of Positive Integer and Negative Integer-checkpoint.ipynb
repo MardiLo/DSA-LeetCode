{
 "cells": [
  {
   "cell_type": "markdown",
   "metadata": {},
   "source": [
    "`# Array` `# Binary Search` `# Counting`"
   ]
  },
  {
   "cell_type": "markdown",
   "metadata": {},
   "source": [
    "Given an array `nums` sorted in **non-decreasing** order, return *the maximum between the number of positive integers and the number of negative integers.*\n",
    "\n",
    "- In other words, if the number of positive integers in `nums` is `pos` and the number of negative integers is `neg`, then return the maximum of `pos` and `neg`.\n",
    "\n",
    "Note that `0` is neither positive nor negative."
   ]
  },
  {
   "cell_type": "markdown",
   "metadata": {},
   "source": [
    "**Example 1:**  \n",
    "\n",
    "> Input: nums = [-2,-1,-1,1,2,3]  \n",
    "> Output: 3  \n",
    "> Explanation: There are 3 positive integers and 3 negative integers. The maximum count among them is 3.\n",
    "\n",
    "**Example 2:**  \n",
    "\n",
    "> Input: nums = [-3,-2,-1,0,0,1,2]  \n",
    "> Output: 3  \n",
    "> Explanation: There are 2 positive integers and 3 negative integers. The maximum count among them is 3. \n",
    "\n",
    "**Example 3:** \n",
    "\n",
    "> Input: nums = [5,20,66,1314]  \n",
    "> Output: 4  \n",
    "> Explanation: There are 4 positive integers and 0 negative integers. The maximum count among them is 4."
   ]
  },
  {
   "cell_type": "code",
   "execution_count": 2,
   "metadata": {},
   "outputs": [],
   "source": [
    "class Solution:\n",
    "    \n",
    "    # Time Complexity： O(logn)\n",
    "    # Space Complexity： O(1)    \n",
    "    def maximumCount_binarySearch(self, nums: list[int]) -> int:\n",
    "        from bisect import bisect_left\n",
    "        \n",
    "        return max(bisect_left(nums, 0), len(nums)-bisect_left(nums, 1))\n",
    "\n",
    "    # Time Complexity： O(n)\n",
    "    # Space Complexity： O(1)    \n",
    "    def maximumCount_counting(self, nums: list[int]) -> int:\n",
    "        return max(sum(num < 0 for num in nums), sum(num > 0 for num in nums))"
   ]
  },
  {
   "cell_type": "code",
   "execution_count": 3,
   "metadata": {},
   "outputs": [
    {
     "name": "stdout",
     "output_type": "stream",
     "text": [
      "---maximumCount_binarySearch---\n",
      "Case 1: 3\n",
      "Case 2: 3\n",
      "Case 3: 4\n",
      "\n",
      "---maximumCount_counting---\n",
      "Case 1: 3\n",
      "Case 2: 3\n",
      "Case 3: 4\n"
     ]
    }
   ],
   "source": [
    "# Test on Cases\n",
    "S = Solution()\n",
    "\n",
    "print(\"---maximumCount_binarySearch---\")\n",
    "print(f\"Case 1: {S.maximumCount_binarySearch([-2,-1,-1,1,2,3])}\")\n",
    "print(f\"Case 2: {S.maximumCount_binarySearch([-3,-2,-1,0,0,1,2])}\")\n",
    "print(f\"Case 3: {S.maximumCount_binarySearch([5,20,66,1314])}\\n\")\n",
    "\n",
    "print(\"---maximumCount_counting---\")\n",
    "print(f\"Case 1: {S.maximumCount_counting([-2,-1,-1,1,2,3])}\")\n",
    "print(f\"Case 2: {S.maximumCount_counting([-3,-2,-1,0,0,1,2])}\")\n",
    "print(f\"Case 3: {S.maximumCount_counting([5,20,66,1314])}\")"
   ]
  }
 ],
 "metadata": {
  "interpreter": {
   "hash": "21d8332eb27bea95342760850bd7426f517b6a483537194bbba87e10eeabf6ff"
  },
  "kernelspec": {
   "display_name": "Python 3 (ipykernel)",
   "language": "python",
   "name": "python3"
  },
  "language_info": {
   "codemirror_mode": {
    "name": "ipython",
    "version": 3
   },
   "file_extension": ".py",
   "mimetype": "text/x-python",
   "name": "python",
   "nbconvert_exporter": "python",
   "pygments_lexer": "ipython3",
   "version": "3.10.4"
  }
 },
 "nbformat": 4,
 "nbformat_minor": 4
}
