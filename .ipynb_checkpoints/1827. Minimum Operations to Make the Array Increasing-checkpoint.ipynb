{
 "cells": [
  {
   "cell_type": "markdown",
   "metadata": {},
   "source": [
    "`# Array` `# Greedy`"
   ]
  },
  {
   "cell_type": "markdown",
   "metadata": {},
   "source": [
    "You are given an integer array `nums` **(0-indexed)**. In one operation, you can choose an element of the array and increment it by `1`.\n",
    "\n",
    "For example, if `nums = [1,2,3]`, you can choose to increment `nums[1]` to make `nums = [1,3,3]`.\n",
    "Return *the ***minimum*** number of operations needed to make* `nums` ***strictly increasing.***\n",
    "\n",
    "An array `nums` is **strictly increasing** if `nums[i] < nums[i+1]` for all `0 <= i < nums.length - 1`. An array of length `1` is trivially strictly increasing."
   ]
  },
  {
   "cell_type": "markdown",
   "metadata": {},
   "source": [
    "**Example 1:**  \n",
    "\n",
    "> Input: nums = [1,1,1]  \n",
    "> Output: 3  \n",
    "> Explanation: You can do the following operations:  \n",
    "> 1) Increment nums[2], so nums becomes [1,1,2].  \n",
    "> 2) Increment nums[1], so nums becomes [1,2,2].  \n",
    "> 3) Increment nums[2], so nums becomes [1,2,3].\n",
    "\n",
    "**Example 2:**  \n",
    "\n",
    "> Input: nums = [1,5,2,4,1]  \n",
    "> Output: 14  \n",
    "\n",
    "**Example 3:** \n",
    "\n",
    "> Input: nums = [8]  \n",
    "> Output: 0"
   ]
  },
  {
   "cell_type": "code",
   "execution_count": 1,
   "metadata": {},
   "outputs": [],
   "source": [
    "class Solution:\n",
    "    \n",
    "    # Time Complexity： O(n)\n",
    "    # Space Complexity： O(1)    \n",
    "    def minOperations(self, nums: list[int]) -> int:\n",
    "        steps = 0\n",
    "\n",
    "        for i in range(1, len(nums)):\n",
    "            if nums[i] <= nums[i-1]:\n",
    "                steps += nums[i-1] + 1 - nums[i]\n",
    "                nums[i] = nums[i-1] + 1\n",
    "        \n",
    "        return steps"
   ]
  },
  {
   "cell_type": "code",
   "execution_count": 2,
   "metadata": {},
   "outputs": [
    {
     "name": "stdout",
     "output_type": "stream",
     "text": [
      "Case 1: 3\n",
      "Case 2: 14\n",
      "Case 3: 0\n"
     ]
    }
   ],
   "source": [
    "# Test on Cases\n",
    "S = Solution()\n",
    "\n",
    "print(f\"Case 1: {S.minOperations([1,1,1])}\")\n",
    "print(f\"Case 2: {S.minOperations([1,5,2,4,1])}\")\n",
    "print(f\"Case 3: {S.minOperations([8])}\")"
   ]
  }
 ],
 "metadata": {
  "interpreter": {
   "hash": "21d8332eb27bea95342760850bd7426f517b6a483537194bbba87e10eeabf6ff"
  },
  "kernelspec": {
   "display_name": "Python 3 (ipykernel)",
   "language": "python",
   "name": "python3"
  },
  "language_info": {
   "codemirror_mode": {
    "name": "ipython",
    "version": 3
   },
   "file_extension": ".py",
   "mimetype": "text/x-python",
   "name": "python",
   "nbconvert_exporter": "python",
   "pygments_lexer": "ipython3",
   "version": "3.10.4"
  }
 },
 "nbformat": 4,
 "nbformat_minor": 4
}
