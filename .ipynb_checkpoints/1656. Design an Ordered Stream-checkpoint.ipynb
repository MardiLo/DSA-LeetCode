{
 "cells": [
  {
   "cell_type": "markdown",
   "metadata": {},
   "source": [
    "`# Array` `# Design` `# Hash Table` `# Data Stream`"
   ]
  },
  {
   "cell_type": "markdown",
   "metadata": {},
   "source": [
    "There is a stream of `n` `(idKey, value)` pairs arriving in an **arbitrary** order, where `idKey` is an integer between `1` and `n` and `value` is a string. No two pairs have the same `id`.\n",
    "\n",
    "Design a stream that returns the values in **increasing order of their IDs** by returning a **chunk** (list) of values after each insertion. The concatenation of all the **chunks** should result in a list of the sorted values.\n",
    "\n",
    "Implement the `OrderedStream` class:\n",
    "\n",
    "- `OrderedStream(int n)` Constructs the stream to take `n` values.\n",
    "- `String[] insert(int idKey, String value)` Inserts the pair `(idKey, value)` into the stream, then returns the **largest possible chunk** of currently inserted values that appear next in the order."
   ]
  },
  {
   "cell_type": "markdown",
   "metadata": {},
   "source": [
    "**Example 1:**  \n",
    "![Image of leetcode 1656 problem example 1](https://assets.leetcode.com/uploads/2020/11/10/q1.gif)\n",
    "> Input  \n",
    "> [\"OrderedStream\", \"insert\", \"insert\", \"insert\", \"insert\", \"insert\"]  \n",
    "> [[5], [3, \"ccccc\"], [1, \"aaaaa\"], [2, \"bbbbb\"], [5, \"eeeee\"], [4, \"ddddd\"]]\n",
    ">   \n",
    "> Output  \n",
    "> [null, [], [\"aaaaa\"], [\"bbbbb\", \"ccccc\"], [], [\"ddddd\", \"eeeee\"]]  \n",
    "> \n",
    "> Explanation  \n",
    "> // Note that the values ordered by ID is [\"aaaaa\", \"bbbbb\", \"ccccc\", \"ddddd\", \"eeeee\"].  \n",
    "> OrderedStream os = new OrderedStream(5);  \n",
    "> os.insert(3, \"ccccc\"); // Inserts (3, \"ccccc\"), returns [].  \n",
    "> os.insert(1, \"aaaaa\"); // Inserts (1, \"aaaaa\"), returns [\"aaaaa\"].  \n",
    "> os.insert(2, \"bbbbb\"); // Inserts (2, \"bbbbb\"), returns [\"bbbbb\", \"ccccc\"].  \n",
    "> os.insert(5, \"eeeee\"); // Inserts (5, \"eeeee\"), returns [].  \n",
    "> os.insert(4, \"ddddd\"); // Inserts (4, \"ddddd\"), returns [\"ddddd\", \"eeeee\"].  \n",
    "> // Concatentating all the chunks returned:  \n",
    "> // [] + [\"aaaaa\"] + [\"bbbbb\", \"ccccc\"] + [] + [\"ddddd\", \"eeeee\"] = [\"aaaaa\", \"bbbbb\", \"ccccc\", \"ddddd\", \"eeeee\"]  \n",
    "> // The resulting order is the same as the order above."
   ]
  },
  {
   "cell_type": "code",
   "execution_count": 3,
   "metadata": {},
   "outputs": [],
   "source": [
    "class OrderedStream:\n",
    "\n",
    "    def __init__(self, n: int):\n",
    "        self.stream = [''] * n\n",
    "        self.ptr = 0\n",
    "        \n",
    "    def insert(self, idKey: int, value: str) -> list[str]:\n",
    "        self.stream[idKey-1] = value\n",
    "       \n",
    "        res = []\n",
    "        for i in range(self.ptr, len(self.stream)):\n",
    "            if not self.stream[i]:\n",
    "                self.ptr = i\n",
    "                return res\n",
    "            \n",
    "            res.append(self.stream[i])\n",
    "        \n",
    "        return res"
   ]
  },
  {
   "cell_type": "code",
   "execution_count": 4,
   "metadata": {},
   "outputs": [
    {
     "name": "stdout",
     "output_type": "stream",
     "text": [
      "[]\n",
      "['aaaaa']\n",
      "['bbbbb', 'ccccc']\n",
      "[]\n",
      "['ddddd', 'eeeee']\n"
     ]
    }
   ],
   "source": [
    "# Test on Cases\n",
    "stream = OrderedStream(5)\n",
    "\n",
    "print(stream.insert(3, \"ccccc\"))\n",
    "print(stream.insert(1, \"aaaaa\"))\n",
    "print(stream.insert(2, \"bbbbb\"))\n",
    "print(stream.insert(5, \"eeeee\"))\n",
    "print(stream.insert(4, \"ddddd\"))"
   ]
  }
 ],
 "metadata": {
  "kernelspec": {
   "display_name": "Python 3 (ipykernel)",
   "language": "python",
   "name": "python3"
  },
  "language_info": {
   "codemirror_mode": {
    "name": "ipython",
    "version": 3
   },
   "file_extension": ".py",
   "mimetype": "text/x-python",
   "name": "python",
   "nbconvert_exporter": "python",
   "pygments_lexer": "ipython3",
   "version": "3.10.4"
  },
  "vscode": {
   "interpreter": {
    "hash": "21d8332eb27bea95342760850bd7426f517b6a483537194bbba87e10eeabf6ff"
   }
  }
 },
 "nbformat": 4,
 "nbformat_minor": 4
}
