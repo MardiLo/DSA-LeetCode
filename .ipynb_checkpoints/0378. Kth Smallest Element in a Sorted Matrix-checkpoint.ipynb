{
 "cells": [
  {
   "cell_type": "markdown",
   "metadata": {},
   "source": [
    "`# Array` `# Binary Search` `# Heap (Priority Queue)` `# Matrix` `# Sorting`"
   ]
  },
  {
   "cell_type": "markdown",
   "metadata": {},
   "source": [
    "Given an `n x n` matrix where each of the rows and columns are sorted in ascending order, return *the* `k`<sup>`th`</sup> *smallest element in the matrix*.\n",
    "\n",
    "Note that it is the `k`<sup>`th`</sup> smallest element in the **sorted order**, not the `k`<sup>`th`</sup> **distinct** element."
   ]
  },
  {
   "cell_type": "markdown",
   "metadata": {},
   "source": [
    "**Example 1:**\n",
    "\n",
    "> Input: matrix = [[1,5,9],[10,11,13],[12,13,15]], k = 8  \n",
    "> Output: 13  \n",
    "> Explanation: The elements in the matrix are [1,5,9,10,11,12,13,13,15], and the 8th smallest number is 13  \n",
    "\n",
    "**Example 2:**\n",
    "\n",
    "> Input: matrix = [[-5]], k = 1  \n",
    "> Output: -5  "
   ]
  },
  {
   "cell_type": "code",
   "execution_count": 1,
   "metadata": {},
   "outputs": [],
   "source": [
    "class Solution:\n",
    "\n",
    "    # Time Complexity： O((m+n)logA)\n",
    "    # Space Complexity： O(1)   \n",
    "    def kthSmallest_binarySearch(self, matrix: list[list[int]], k: int) -> int:   \n",
    "        def countLessThan(m: int) -> int:                               # TC: O(m+n); SC: O(1)\n",
    "            \"\"\"\n",
    "            Since all the rows and columns of matrix are guaranteed to be sorted in non-decreasing order, \n",
    "            we could use this algo to achieve the O(m+n) searching\n",
    "            \"\"\"\n",
    "            \n",
    "            cnt, j = 0, len(matrix[0])-1                                # start with the rightmost column\n",
    "                                                             \n",
    "            for row in matrix:                                          # TC: O(m+n)\n",
    "                while j >= 0 and row[j] > m:                            # the longest path is: start from right upper corner and end at left bottom corner\n",
    "                    j -= 1    \n",
    "\n",
    "                cnt += j + 1\n",
    "            \n",
    "            return cnt\n",
    "\n",
    "        l, r = matrix[0][0], matrix[-1][-1]\n",
    "\n",
    "        while l <= r:                                                   # TC: O(A), where A = 2 * 10^9, since -10^9 <= matrix[i][j] <= 10^9 and logA ~= 21\n",
    "            if countLessThan(m := (l+r) // 2) >= k: r = m - 1           # or use sum(bisect_right(row, m) for row in matrix) to replace countLessThan, but TC will increase to O(nlogn)\n",
    "            else: l = m + 1\n",
    "\n",
    "        return l\n",
    "\n",
    "    # Time Complexity： O(min(n, k)log(min(n, k)))\n",
    "    # Space Complexity： O(klog(min(n, k)))\n",
    "    def kthSmallest_heap_timeOpt(self, matrix: list[list[int]], k: int) -> int:\n",
    "        from heapq import heappush, heappop\n",
    "        \n",
    "        minHeap = []\n",
    "\n",
    "        for i in range(min(k, len(matrix))):                            # TC: O(min(n, k)log(min(n, k))); SC: O(log(min(n, k))\n",
    "            heappush(minHeap, (matrix[i][0], i, 0))\n",
    "        \n",
    "        for _ in range(k):                                              # TC: O(klog(min(n, k)))\n",
    "            val, i, j = heappop(minHeap)\n",
    "\n",
    "            if j < len(matrix)-1: heappush(minHeap, (matrix[i][j+1], i, j+1))\n",
    "            \n",
    "        return val\n",
    "\n",
    "    # Time Complexity： O(n^2*logk)\n",
    "    # Space Complexity： O(k)\n",
    "    def kthSmallest_heap(self, matrix: list[list[int]], k: int) -> int:\n",
    "        from itertools import product\n",
    "        from heapq import heappush, heappushpop\n",
    "        \n",
    "        maxHeap = []\n",
    "        \n",
    "        for i, j in product(range(len(matrix)), range(len(matrix[0]))):\n",
    "            if len(maxHeap) < k: heappush(maxHeap, -matrix[i][j])\n",
    "            else: heappushpop(maxHeap, -matrix[i][j])\n",
    "        \n",
    "        return -maxHeap[0]\n",
    "\n",
    "    # Time Complexity： O(n^2*log(n^2))\n",
    "    # Space Complexity： O(n^2)\n",
    "    def kthSmallest_sorting(self, matrix: list[list[int]], k: int) -> int:\n",
    "        return sorted([val for row in matrix for val in row])[k-1]"
   ]
  },
  {
   "cell_type": "code",
   "execution_count": 2,
   "metadata": {},
   "outputs": [
    {
     "name": "stdout",
     "output_type": "stream",
     "text": [
      "---kthSmallest_binarySearch---\n",
      "Case 1: 13\n",
      "Case 2: -5\n",
      "\n",
      "---kthSmallest_heap_timeOpt---\n",
      "Case 1: 13\n",
      "Case 2: -5\n",
      "\n",
      "---kthSmallest_heap---\n",
      "Case 1: 13\n",
      "Case 2: -5\n",
      "\n",
      "---kthSmallest_sorting---\n",
      "Case 1: 13\n",
      "Case 2: -5\n"
     ]
    }
   ],
   "source": [
    "# Test on Cases\n",
    "S = Solution()\n",
    "\n",
    "print(\"---kthSmallest_binarySearch---\")\n",
    "print(f\"Case 1: {S.kthSmallest_binarySearch([[1,5,9],[10,11,13],[12,13,15]], 8)}\")\n",
    "print(f\"Case 2: {S.kthSmallest_binarySearch([[-5]], 1)}\\n\")\n",
    "\n",
    "print(\"---kthSmallest_heap_timeOpt---\")\n",
    "print(f\"Case 1: {S.kthSmallest_heap_timeOpt([[1,5,9],[10,11,13],[12,13,15]], 8)}\")\n",
    "print(f\"Case 2: {S.kthSmallest_heap_timeOpt([[-5]], 1)}\\n\")\n",
    "\n",
    "print(\"---kthSmallest_heap---\")\n",
    "print(f\"Case 1: {S.kthSmallest_heap([[1,5,9],[10,11,13],[12,13,15]], 8)}\")\n",
    "print(f\"Case 2: {S.kthSmallest_heap([[-5]], 1)}\\n\")\n",
    "\n",
    "print(\"---kthSmallest_sorting---\")\n",
    "print(f\"Case 1: {S.kthSmallest_sorting([[1,5,9],[10,11,13],[12,13,15]], 8)}\")\n",
    "print(f\"Case 2: {S.kthSmallest_sorting([[-5]], 1)}\")"
   ]
  },
  {
   "cell_type": "markdown",
   "metadata": {},
   "source": [
    "**Ref**\n",
    "1. [[Python] Binary search solution, explained](https://leetcode.com/problems/kth-smallest-element-in-a-sorted-matrix/discuss/1321862/Python-Binary-search-solution-explained)\n",
    "2. [[C++/Java/Python] MaxHeap, MinHeap, Binary Search - Picture Explain - Clean & Concise](https://leetcode.com/problems/kth-smallest-element-in-a-sorted-matrix/discuss/1322101/C%2B%2BJavaPython-MaxHeap-MinHeap-Binary-Search-Picture-Explain-Clean-and-Concise)"
   ]
  }
 ],
 "metadata": {
  "kernelspec": {
   "display_name": "Python 3 (ipykernel)",
   "language": "python",
   "name": "python3"
  },
  "language_info": {
   "codemirror_mode": {
    "name": "ipython",
    "version": 3
   },
   "file_extension": ".py",
   "mimetype": "text/x-python",
   "name": "python",
   "nbconvert_exporter": "python",
   "pygments_lexer": "ipython3",
   "version": "3.10.4"
  },
  "vscode": {
   "interpreter": {
    "hash": "21d8332eb27bea95342760850bd7426f517b6a483537194bbba87e10eeabf6ff"
   }
  }
 },
 "nbformat": 4,
 "nbformat_minor": 4
}
