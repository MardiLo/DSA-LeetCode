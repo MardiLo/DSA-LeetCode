{
 "cells": [
  {
   "cell_type": "markdown",
   "metadata": {},
   "source": [
    "`# Array` `# Backtracking` `# Dynamic Programming`"
   ]
  },
  {
   "cell_type": "markdown",
   "metadata": {},
   "source": [
    "You are given an integer array `nums` and an integer `target`.\n",
    "\n",
    "You want to build an **expression** out of nums by adding one of the symbols `'+'` and `'-'` before each integer in nums and then concatenate all the integers.\n",
    "\n",
    "For example, if `nums = [2, 1]`, you can add a `'+'` before `2` and a `'-'` before `1` and concatenate them to build the expression `\"+2-1\"`.  \n",
    "Return *the number of different expressions that you can build, which evaluates to* `target`."
   ]
  },
  {
   "cell_type": "markdown",
   "metadata": {},
   "source": [
    "**Example 1:**\n",
    "\n",
    "> Input: nums = [1,1,1,1,1], target = 3  \n",
    "> Output: 5  \n",
    "> Explanation: There are 5 ways to assign symbols to make the sum of nums be target 3.  \n",
    "> -1 + 1 + 1 + 1 + 1 = 3  \n",
    "> +1 - 1 + 1 + 1 + 1 = 3  \n",
    "> +1 + 1 - 1 + 1 + 1 = 3  \n",
    "> +1 + 1 + 1 - 1 + 1 = 3  \n",
    "> +1 + 1 + 1 + 1 - 1 = 3  \n",
    "\n",
    "**Example 2**\n",
    "\n",
    "> Input: nums = [1], target = 1  \n",
    "> Output: 1  "
   ]
  },
  {
   "cell_type": "code",
   "execution_count": 1,
   "metadata": {},
   "outputs": [],
   "source": [
    "class Solution:\n",
    "    \n",
    "    # TC: O(n * min(2*sum(abs(nums)), 2^n))\n",
    "    # SC: O(min(2*sum(abs(nums)), 2^n)), cmbSum is bound in [sum(-abs(nums)), sum(abs(nums))] and cmbSum is an integer; but when n is small, it's likely bound in 2^n\n",
    "    def findTargetSumWays(self, nums: list[int], target: int) -> int:\n",
    "        from collections import defaultdict\n",
    "\n",
    "        cnter = defaultdict(int, {0: 1})\n",
    "        \n",
    "        for num in nums:                                       # TC: O(n)\n",
    "            helperCnter = defaultdict(int)\n",
    "\n",
    "            for cmbSum in cnter:                               # TC: O(min(2*sum(abs(nums)), 2^n)); SC: O(min(2*sum(abs(nums)), 2^n))\n",
    "                helperCnter[cmbSum+num] += cnter[cmbSum]\n",
    "                helperCnter[cmbSum-num] += cnter[cmbSum]\n",
    "                \n",
    "            cnter = helperCnter\n",
    "        \n",
    "        return cnter[target]"
   ]
  },
  {
   "cell_type": "code",
   "execution_count": 2,
   "metadata": {},
   "outputs": [
    {
     "name": "stdout",
     "output_type": "stream",
     "text": [
      "Case 1: 5\n",
      "Case 2: 1\n"
     ]
    }
   ],
   "source": [
    "# Test on Cases\n",
    "S = Solution()\n",
    "\n",
    "print(f\"Case 1: {S.findTargetSumWays([1,1,1,1,1], 3)}\")\n",
    "print(f\"Case 2: {S.findTargetSumWays([1], 1)}\")"
   ]
  }
 ],
 "metadata": {
  "interpreter": {
   "hash": "ba9359eadc070f03edd6183a4af22ffcaf60363daf070b8f22fbedba67666dbe"
  },
  "kernelspec": {
   "display_name": "Python 3 (ipykernel)",
   "language": "python",
   "name": "python3"
  },
  "language_info": {
   "codemirror_mode": {
    "name": "ipython",
    "version": 3
   },
   "file_extension": ".py",
   "mimetype": "text/x-python",
   "name": "python",
   "nbconvert_exporter": "python",
   "pygments_lexer": "ipython3",
   "version": "3.10.4"
  }
 },
 "nbformat": 4,
 "nbformat_minor": 4
}
