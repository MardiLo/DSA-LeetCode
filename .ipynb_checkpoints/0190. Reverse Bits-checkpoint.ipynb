{
 "cells": [
  {
   "cell_type": "markdown",
   "metadata": {},
   "source": [
    "`# Bit Manipulation`"
   ]
  },
  {
   "cell_type": "markdown",
   "metadata": {},
   "source": [
    "Reverse bits of a given 32 bits unsigned integer."
   ]
  },
  {
   "cell_type": "markdown",
   "metadata": {},
   "source": [
    "**Example 1:**\n",
    "\n",
    "> Input: n = 00000010100101000001111010011100  \n",
    "> Output:    964176192 (00111001011110000010100101000000)  \n",
    "> Explanation: The input binary string 00000010100101000001111010011100 represents the unsigned integer 43261596, so return 964176192 which its binary representation is 00111001011110000010100101000000.\n",
    "\n",
    "**Example 2:**\n",
    "\n",
    "> Input: n = 11111111111111111111111111111101  \n",
    "> Output:   3221225471 (10111111111111111111111111111111)  \n",
    "> Explanation: The input binary string 11111111111111111111111111111101 represents the unsigned integer 4294967293, so return 3221225471 which its binary representation is 10111111111111111111111111111111."
   ]
  },
  {
   "cell_type": "code",
   "execution_count": 1,
   "metadata": {},
   "outputs": [],
   "source": [
    "class Solution:\n",
    "    \n",
    "    # Time Complexity： O(32)\n",
    "    # Space Complexity： O(1) \n",
    "    def reverseBits_bitManipulation(self, n: int) -> int:\n",
    "        out = 0\n",
    "        for _ in range(32):\n",
    "            out <<= 1         # shift the last bit to the left (ex: 00110 -> 01100)\n",
    "            out += (n & 1)    # get last bit of n by (n & 1) and add it to out\n",
    "            n >>= 1           # removes last bit from n\n",
    "        return out\n",
    "\n",
    "    # Time Complexity： O(32)\n",
    "    # Space Complexity： O(32) \n",
    "    def reverseBits_stringManipulation(self, n: int) -> int:\n",
    "        return int(bin(n)[2:].zfill(32)[::-1], 2)"
   ]
  },
  {
   "cell_type": "code",
   "execution_count": 2,
   "metadata": {},
   "outputs": [
    {
     "name": "stdout",
     "output_type": "stream",
     "text": [
      "---reverseBits_bitManipulation---\n",
      "Case 1: 964176192\n",
      "Case 2: 3221225471\n",
      "\n",
      "---reverseBits_stringManipulation---\n",
      "Case 1: 964176192\n",
      "Case 2: 3221225471\n"
     ]
    }
   ],
   "source": [
    "# Test on Cases\n",
    "S = Solution()\n",
    "\n",
    "print(\"---reverseBits_bitManipulation---\")\n",
    "print(f\"Case 1: {S.reverseBits_bitManipulation(int('00000010100101000001111010011100', 2))}\")\n",
    "print(f\"Case 2: {S.reverseBits_bitManipulation(int('11111111111111111111111111111101', 2))}\\n\")\n",
    "\n",
    "print(\"---reverseBits_stringManipulation---\")\n",
    "print(f\"Case 1: {S.reverseBits_stringManipulation(int('00000010100101000001111010011100', 2))}\")\n",
    "print(f\"Case 2: {S.reverseBits_stringManipulation(int('11111111111111111111111111111101', 2))}\")"
   ]
  }
 ],
 "metadata": {
  "kernelspec": {
   "display_name": "Python 3 (ipykernel)",
   "language": "python",
   "name": "python3"
  },
  "language_info": {
   "codemirror_mode": {
    "name": "ipython",
    "version": 3
   },
   "file_extension": ".py",
   "mimetype": "text/x-python",
   "name": "python",
   "nbconvert_exporter": "python",
   "pygments_lexer": "ipython3",
   "version": "3.10.4"
  },
  "vscode": {
   "interpreter": {
    "hash": "21d8332eb27bea95342760850bd7426f517b6a483537194bbba87e10eeabf6ff"
   }
  }
 },
 "nbformat": 4,
 "nbformat_minor": 4
}
