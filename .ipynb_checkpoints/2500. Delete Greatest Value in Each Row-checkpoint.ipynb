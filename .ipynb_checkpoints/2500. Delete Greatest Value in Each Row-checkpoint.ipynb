{
 "cells": [
  {
   "cell_type": "markdown",
   "metadata": {},
   "source": [
    "`# Array` `# Matrix` `# Sorting`"
   ]
  },
  {
   "cell_type": "markdown",
   "metadata": {},
   "source": [
    "You are given an `m x n` matrix `grid` consisting of positive integers.\n",
    "\n",
    "Perform the following operation until `grid` becomes empty:\n",
    "\n",
    "- Delete the element with the greatest value from each row. If multiple such elements exist, delete any of them.\n",
    "- Add the maximum of deleted elements to the answer.\n",
    "\n",
    "Note that the number of columns decreases by one after each operation.\n",
    "\n",
    "Return *the answer after performing the operations described above.*"
   ]
  },
  {
   "cell_type": "markdown",
   "metadata": {},
   "source": [
    "**Example 1:**  \n",
    "![Image of leetcode 2500 problem example 1](https://assets.leetcode.com/uploads/2022/10/19/q1ex1.jpg)\n",
    "> Input: grid = [[1,2,4],[3,3,1]]  \n",
    "> Output: 8  \n",
    "> Explanation: The diagram above shows the removed values in each step.  \n",
    "> - In the first operation, we remove 4 from the first row and 3 from the second row (notice that, there are two cells with value 3 and we can remove any of them). We add 4 to the answer.  \n",
    "> - In the second operation, we remove 2 from the first row and 3 from the second row. We add 3 to the answer.  \n",
    "> - In the third operation, we remove 1 from the first row and 1 from the second row. We add 1 to the answer.  \n",
    "> The final answer = 4 + 3 + 1 = 8.  \n",
    "\n",
    "**Example 2:**  \n",
    "![Image of leetcode 2500 problem example 2](https://assets.leetcode.com/uploads/2022/10/19/q1ex2.jpg)\n",
    "> Input: grid = [[10]]  \n",
    "> Output: 10  \n",
    "> Explanation: The diagram above shows the removed values in each step.  \n",
    "> - In the first operation, we remove 10 from the first row. We add 10 to the answer.  \n",
    "> The final answer = 10.  "
   ]
  },
  {
   "cell_type": "code",
   "execution_count": 4,
   "metadata": {},
   "outputs": [],
   "source": [
    "class Solution:\n",
    "\n",
    "    # Time Complexity： O(mnlogn)\n",
    "    # Space Complexity： O(n)\n",
    "    def deleteGreatestValue(self, grid: list[list[int]]) -> int:\n",
    "        for row in grid:\n",
    "            row.sort()\n",
    "        \n",
    "        return sum(max(col) for col in zip(*grid))"
   ]
  },
  {
   "cell_type": "code",
   "execution_count": 5,
   "metadata": {},
   "outputs": [
    {
     "name": "stdout",
     "output_type": "stream",
     "text": [
      "Case 1: 8\n",
      "Case 2: 10\n"
     ]
    }
   ],
   "source": [
    "# Test on Cases\n",
    "S = Solution()\n",
    "\n",
    "print(f\"Case 1: {S.deleteGreatestValue([[1,2,4],[3,3,1]])}\")\n",
    "print(f\"Case 2: {S.deleteGreatestValue([[10]])}\")"
   ]
  },
  {
   "cell_type": "code",
   "execution_count": null,
   "metadata": {},
   "outputs": [],
   "source": []
  }
 ],
 "metadata": {
  "kernelspec": {
   "display_name": "Python 3 (ipykernel)",
   "language": "python",
   "name": "python3"
  },
  "language_info": {
   "codemirror_mode": {
    "name": "ipython",
    "version": 3
   },
   "file_extension": ".py",
   "mimetype": "text/x-python",
   "name": "python",
   "nbconvert_exporter": "python",
   "pygments_lexer": "ipython3",
   "version": "3.10.4"
  },
  "vscode": {
   "interpreter": {
    "hash": "21d8332eb27bea95342760850bd7426f517b6a483537194bbba87e10eeabf6ff"
   }
  }
 },
 "nbformat": 4,
 "nbformat_minor": 4
}
