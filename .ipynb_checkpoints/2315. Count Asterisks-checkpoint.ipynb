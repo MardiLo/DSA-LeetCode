{
 "cells": [
  {
   "cell_type": "markdown",
   "metadata": {},
   "source": [
    "`# String`"
   ]
  },
  {
   "cell_type": "markdown",
   "metadata": {},
   "source": [
    "You are given a string `s`, where every **two** consecutive vertical bars `'|'` are grouped into a **pair**. In other words, the 1<sup>st</sup> and 2<sup>nd</sup> `'|'` make a pair, the 3<sup>rd</sup> and 4<sup>th</sup> `'|'` make a pair, and so forth.\n",
    "\n",
    "Return *the number of* `'*'` *in* `s`*, ***excluding*** the* `'*'` *between each pair of* `'|'`.\n",
    "\n",
    "Note that each `'|'` will belong to **exactly** one pair."
   ]
  },
  {
   "cell_type": "markdown",
   "metadata": {},
   "source": [
    "**Example 1:**\n",
    "\n",
    "> Input: s = \"l|\\*e\\*et|c\\*\\*o|*de|\"  \n",
    "> Output: 2  \n",
    "> Explanation: The considered characters are underlined: \"l|\\*e\\*et|c\\*\\*o|*de|\".  \n",
    "> The characters between the first and second '|' are excluded from the answer.  \n",
    "> Also, the characters between the third and fourth '|' are excluded from the answer.  \n",
    "> There are 2 asterisks considered. Therefore, we return 2.\n",
    "\n",
    "**Example 2:**\n",
    "\n",
    "> Input: s = \"iamprogrammer\"  \n",
    "> Output: 0  \n",
    "> Explanation: In this example, there are no asterisks in s. Therefore, we return 0.\n",
    "\n",
    "**Example 3:**\n",
    "\n",
    "> Input: s = \"yo|uar|e\\*\\*|b|e\\*\\*\\*au|tifu|l\"  \n",
    "> Output: 5  \n",
    "> Explanation: The considered characters are underlined: \"yo|uar|e\\*\\*|b|e\\*\\*\\*au|tifu|l\". There are 5 asterisks considered. Therefore, we return 5."
   ]
  },
  {
   "cell_type": "code",
   "execution_count": 1,
   "metadata": {},
   "outputs": [],
   "source": [
    "class Solution:\n",
    "\n",
    "    # Time Complexity： O(n)\n",
    "    # Space Complexity： O(n)\n",
    "    def countAsterisks(self, s: str) -> int:\n",
    "        return sum(seg.count('*') for seg in s.split('|')[::2])\n"
   ]
  },
  {
   "cell_type": "code",
   "execution_count": 2,
   "metadata": {},
   "outputs": [
    {
     "name": "stdout",
     "output_type": "stream",
     "text": [
      "Case 1: 2\n",
      "Case 2: 0\n",
      "Case 3: 5\n"
     ]
    }
   ],
   "source": [
    "# Test on Cases\n",
    "S = Solution()\n",
    "\n",
    "print(f\"Case 1: {S.countAsterisks('l|*e*et|c**o|*de|')}\")\n",
    "print(f\"Case 2: {S.countAsterisks('iamprogrammer')}\")\n",
    "print(f\"Case 3: {S.countAsterisks('yo|uar|e**|b|e***au|tifu|l')}\")"
   ]
  }
 ],
 "metadata": {
  "kernelspec": {
   "display_name": "Python 3 (ipykernel)",
   "language": "python",
   "name": "python3"
  },
  "language_info": {
   "codemirror_mode": {
    "name": "ipython",
    "version": 3
   },
   "file_extension": ".py",
   "mimetype": "text/x-python",
   "name": "python",
   "nbconvert_exporter": "python",
   "pygments_lexer": "ipython3",
   "version": "3.10.4"
  },
  "vscode": {
   "interpreter": {
    "hash": "21d8332eb27bea95342760850bd7426f517b6a483537194bbba87e10eeabf6ff"
   }
  }
 },
 "nbformat": 4,
 "nbformat_minor": 4
}
