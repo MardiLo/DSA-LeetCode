{
 "cells": [
  {
   "cell_type": "markdown",
   "metadata": {},
   "source": [
    "`# Design` `# Hash Table` `# String` `# Trie`"
   ]
  },
  {
   "cell_type": "markdown",
   "metadata": {},
   "source": [
    "A **trie** (pronounced as \"try\") or prefix tree is a tree data structure used to efficiently store and retrieve keys in a dataset of strings. There are various applications of this data structure, such as autocomplete and spellchecker.\n",
    "\n",
    "Implement the `Trie` class:\n",
    "\n",
    "- `Trie()` Initializes the trie object.\n",
    "- `void insert(String word)` Inserts the string word into the trie.\n",
    "- `boolean search(String word)` Returns true if the string word is in the trie (i.e., was inserted before), and false otherwise.\n",
    "- `boolean startsWith(String prefix)` Returns true if there is a previously inserted string word that has the prefix prefix, and false otherwise."
   ]
  },
  {
   "cell_type": "markdown",
   "metadata": {},
   "source": [
    "**Example 1:**\n",
    "\n",
    "> Input  \n",
    "> [\"Trie\", \"insert\", \"search\", \"search\", \"startsWith\", \"insert\", \"search\"]  \n",
    "> [[], [\"apple\"], [\"apple\"], [\"app\"], [\"app\"], [\"app\"], [\"app\"]]  \n",
    "> \n",
    "> Output  \n",
    "> [null, null, true, false, true, null, true]  \n",
    "> \n",
    "> Explanation  \n",
    "> Trie trie = new Trie();  \n",
    "> trie.insert(\"apple\");  \n",
    "> trie.search(\"apple\");   // return True  \n",
    "> trie.search(\"app\");     // return False  \n",
    "> trie.startsWith(\"app\"); // return True  \n",
    "> trie.insert(\"app\");  \n",
    "> trie.search(\"app\");     // return True  "
   ]
  },
  {
   "cell_type": "code",
   "execution_count": 1,
   "metadata": {},
   "outputs": [],
   "source": [
    "from collections import defaultdict\n",
    "\n",
    "class TrieNode:\n",
    "    def __init__(self):\n",
    "        self.children = defaultdict(str)\n",
    "        self.endOfWord = False\n",
    "\n",
    "class Trie:\n",
    "    def __init__(self):\n",
    "        self.root = TrieNode()\n",
    "        \n",
    "    def insert(self, word: str) -> None:\n",
    "        cur = self.root\n",
    "        \n",
    "        for c in word:\n",
    "            if c not in cur.children:\n",
    "                cur.children[c] = TrieNode()\n",
    "            cur = cur.children[c]\n",
    "            \n",
    "        cur.endOfWord = True\n",
    "\n",
    "    def search(self, word: str) -> bool:\n",
    "        cur = self.root\n",
    "        \n",
    "        for c in word:\n",
    "            if c not in cur.children:\n",
    "                return False\n",
    "            cur = cur.children[c]\n",
    "            \n",
    "        return cur.endOfWord\n",
    "\n",
    "    def startsWith(self, prefix: str) -> bool:\n",
    "        cur = self.root\n",
    "        \n",
    "        for c in prefix:\n",
    "            if c not in cur.children:\n",
    "                return False\n",
    "            cur = cur.children[c]\n",
    "            \n",
    "        return True"
   ]
  },
  {
   "cell_type": "code",
   "execution_count": 2,
   "metadata": {},
   "outputs": [
    {
     "name": "stdout",
     "output_type": "stream",
     "text": [
      "None\n",
      "True\n",
      "False\n",
      "True\n",
      "None\n",
      "True\n"
     ]
    }
   ],
   "source": [
    "# Test on Cases\n",
    "\n",
    "Trie = Trie()\n",
    "print(Trie.insert(\"apple\"))\n",
    "print(Trie.search(\"apple\"))\n",
    "print(Trie.search(\"app\"))\n",
    "print(Trie.startsWith(\"app\"))\n",
    "print(Trie.insert(\"app\"))\n",
    "print(Trie.search(\"app\"))"
   ]
  },
  {
   "cell_type": "markdown",
   "metadata": {},
   "source": [
    "**Ref**\n",
    "1. [Implement Trie (Prefix Tree) - Leetcode 208](https://www.youtube.com/watch?v=oobqoCJlHA0&ab_channel=NeetCode)"
   ]
  }
 ],
 "metadata": {
  "interpreter": {
   "hash": "a1465031eeae0bed8511463faaa157119e7e6b7b1fbf4ef49fce31064cee3326"
  },
  "kernelspec": {
   "display_name": "Python 3 (ipykernel)",
   "language": "python",
   "name": "python3"
  },
  "language_info": {
   "codemirror_mode": {
    "name": "ipython",
    "version": 3
   },
   "file_extension": ".py",
   "mimetype": "text/x-python",
   "name": "python",
   "nbconvert_exporter": "python",
   "pygments_lexer": "ipython3",
   "version": "3.10.4"
  }
 },
 "nbformat": 4,
 "nbformat_minor": 4
}
