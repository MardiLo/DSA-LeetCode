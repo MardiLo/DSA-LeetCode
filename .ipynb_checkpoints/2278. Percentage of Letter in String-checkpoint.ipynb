{
 "cells": [
  {
   "cell_type": "markdown",
   "metadata": {},
   "source": [
    "`# String` "
   ]
  },
  {
   "cell_type": "markdown",
   "metadata": {},
   "source": [
    "Given a string `s` and a character `letter`, return *the ***percentage*** of characters in* `s` *that equal* `letter` ***rounded down*** *to the nearest whole percent.*"
   ]
  },
  {
   "cell_type": "markdown",
   "metadata": {},
   "source": [
    "**Example 1:**\n",
    "\n",
    "> Input: s = \"foobar\", letter = \"o\"  \n",
    "> Output: 33  \n",
    "> Explanation:  \n",
    "> The percentage of characters in s that equal the letter 'o' is 2 / 6 * 100% = 33% when rounded down, so we return 33.\n",
    "\n",
    "**Example 2:**\n",
    "\n",
    "> Input: s = \"jjjj\", letter = \"k\"  \n",
    "> Output: 0  \n",
    "> Explanation:  \n",
    "> The percentage of characters in s that equal the letter 'k' is 0%, so we return 0."
   ]
  },
  {
   "cell_type": "code",
   "execution_count": 1,
   "metadata": {},
   "outputs": [],
   "source": [
    "class Solution:\n",
    "    \n",
    "    # Time Complexity： O(n)\n",
    "    # Space Complexity： O(1)    \n",
    "    def percentageLetter(self, s: str, letter: str) -> int:\n",
    "        from math import floor\n",
    "\n",
    "        return floor(s.count(letter) / len(s) * 100)"
   ]
  },
  {
   "cell_type": "code",
   "execution_count": 2,
   "metadata": {},
   "outputs": [
    {
     "name": "stdout",
     "output_type": "stream",
     "text": [
      "Case 1: 33\n",
      "Case 2: 0\n"
     ]
    }
   ],
   "source": [
    "# Test on Cases\n",
    "S = Solution()\n",
    "\n",
    "print(f\"Case 1: {S.percentageLetter('foobar', 'o')}\")\n",
    "print(f\"Case 2: {S.percentageLetter('jjjjj', 'k')}\")"
   ]
  }
 ],
 "metadata": {
  "interpreter": {
   "hash": "21d8332eb27bea95342760850bd7426f517b6a483537194bbba87e10eeabf6ff"
  },
  "kernelspec": {
   "display_name": "Python 3 (ipykernel)",
   "language": "python",
   "name": "python3"
  },
  "language_info": {
   "codemirror_mode": {
    "name": "ipython",
    "version": 3
   },
   "file_extension": ".py",
   "mimetype": "text/x-python",
   "name": "python",
   "nbconvert_exporter": "python",
   "pygments_lexer": "ipython3",
   "version": "3.10.4"
  }
 },
 "nbformat": 4,
 "nbformat_minor": 4
}
