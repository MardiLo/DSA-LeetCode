{
 "cells": [
  {
   "cell_type": "markdown",
   "metadata": {},
   "source": [
    "`# Array`"
   ]
  },
  {
   "cell_type": "markdown",
   "metadata": {},
   "source": [
    "You are given an array `rectangles` where `rectangles[i] = [l`<sub>`i`</sub>`, w`<sub>`i`</sub>`]` represents the `i`<sup>`th`</sup> rectangle of length `l`<sub>`i`</sub> and width `w`<sub>`i`</sub>.\n",
    "\n",
    "You can cut the `i`<sup>`th`</sup> rectangle to form a square with a side length of `k` if both `k <= l`<sub>`i`</sub> and `k <= w`<sub>`i`</sub>. For example, if you have a rectangle `[4,6]`, you can cut it to get a square with a side length of at most `4`.\n",
    "\n",
    "Let `maxLen` be the side length of the **largest** square you can obtain from any of the given `rectangles`.\n",
    "\n",
    "Return *the ***number*** of* `rectangles` *that can make a square with a side length of* `maxLen`."
   ]
  },
  {
   "cell_type": "markdown",
   "metadata": {},
   "source": [
    "**Example 1:**\n",
    "\n",
    "> Input: rectangles = [[5,8],[3,9],[5,12],[16,5]]  \n",
    "> Output: 3  \n",
    "> Explanation: The largest squares you can get from each rectangle are of lengths [5,3,5,5].  \n",
    "> The largest possible square is of length 5, and you can get it out of 3 rectangles.\n",
    "\n",
    "**Example 2:**\n",
    "\n",
    "> Input: rectangles = [[2,3],[3,7],[4,3],[3,7]]  \n",
    "Output: 3"
   ]
  },
  {
   "cell_type": "code",
   "execution_count": 3,
   "metadata": {},
   "outputs": [],
   "source": [
    "class Solution:\n",
    "\n",
    "    # Time Complexity： O(n)\n",
    "    # Space Complexity： O(n)\n",
    "    def countGoodRectangles(self, rectangles: list[list[int]]) -> int:\n",
    "        res = [min(rec) for rec in rectangles]\n",
    "        \n",
    "        return res.count(max(res))"
   ]
  },
  {
   "cell_type": "code",
   "execution_count": 4,
   "metadata": {},
   "outputs": [
    {
     "name": "stdout",
     "output_type": "stream",
     "text": [
      "Case 1: 3\n",
      "Case 2: 3\n"
     ]
    }
   ],
   "source": [
    "# Test on Cases\n",
    "S = Solution()\n",
    "\n",
    "print(f\"Case 1: {S.countGoodRectangles([[5,8],[3,9],[5,12],[16,5]])}\")\n",
    "print(f\"Case 2: {S.countGoodRectangles([[2,3],[3,7],[4,3],[3,7]])}\")"
   ]
  }
 ],
 "metadata": {
  "kernelspec": {
   "display_name": "Python 3 (ipykernel)",
   "language": "python",
   "name": "python3"
  },
  "language_info": {
   "codemirror_mode": {
    "name": "ipython",
    "version": 3
   },
   "file_extension": ".py",
   "mimetype": "text/x-python",
   "name": "python",
   "nbconvert_exporter": "python",
   "pygments_lexer": "ipython3",
   "version": "3.10.4"
  },
  "vscode": {
   "interpreter": {
    "hash": "21d8332eb27bea95342760850bd7426f517b6a483537194bbba87e10eeabf6ff"
   }
  }
 },
 "nbformat": 4,
 "nbformat_minor": 4
}
