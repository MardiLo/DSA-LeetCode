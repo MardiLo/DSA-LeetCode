{
 "cells": [
  {
   "cell_type": "markdown",
   "metadata": {},
   "source": [
    "`# Array`"
   ]
  },
  {
   "cell_type": "markdown",
   "metadata": {},
   "source": [
    "There are `n` kids with candies. You are given an integer array `candies`, where each `candies[i]` represents the number of candies the `i`<sup>`th`</sup> kid has, and an integer `extraCandies`, denoting the number of extra candies that you have.\n",
    "\n",
    "Return *a boolean array* `result` *of length* `n`*, where* `result[i]` *is* `true` *if, after giving the* `i`<sup>`th`</sup> *kid all the* `extraCandies`*, they will have the greatest number of candies among all the kids, or* `false` *otherwise*.\n",
    "\n",
    "Note that **multiple** kids can have the **greatest** number of candies."
   ]
  },
  {
   "cell_type": "markdown",
   "metadata": {},
   "source": [
    "**Example 1:**\n",
    "\n",
    "> Input: candies = [2,3,5,1,3], extraCandies = 3  \n",
    "> Output: [true,true,true,false,true]   \n",
    "> Explanation: If you give all extraCandies to:  \n",
    "> - Kid 1, they will have 2 + 3 = 5 candies, which is the greatest among the kids.  \n",
    "> - Kid 2, they will have 3 + 3 = 6 candies, which is the greatest among the kids.  \n",
    "> - Kid 3, they will have 5 + 3 = 8 candies, which is the greatest among the kids.  \n",
    "> - Kid 4, they will have 1 + 3 = 4 candies, which is not the greatest among the kids.  \n",
    "> - Kid 5, they will have 3 + 3 = 6 candies, which is the greatest among the kids.\n",
    "\n",
    "**Example 2:**\n",
    "\n",
    "> Input: candies = [4,2,1,1,2], extraCandies = 1  \n",
    "> Output: [true,false,false,false,false]   \n",
    "> Explanation: There is only 1 extra candy.  \n",
    "> Kid 1 will always have the greatest number of candies, even if a different kid is given the extra candy.\n",
    "\n",
    "**Example 3:**\n",
    "\n",
    "> Input: candies = [12,1,12], extraCandies = 10  \n",
    "> Output: [true,false,true]"
   ]
  },
  {
   "cell_type": "code",
   "execution_count": 1,
   "metadata": {},
   "outputs": [],
   "source": [
    "class Solution:\n",
    "    \n",
    "    # Time Complexity： O(n)\n",
    "    # Space Complexity： O(1)    \n",
    "    def kidsWithCandies(self, candies: list[int], extraCandies: int) -> list[bool]:\n",
    "        threshold = max(candies) - extraCandies\n",
    "        return [candy >= threshold for candy in candies]"
   ]
  },
  {
   "cell_type": "code",
   "execution_count": 2,
   "metadata": {},
   "outputs": [
    {
     "name": "stdout",
     "output_type": "stream",
     "text": [
      "Case 1: [True, True, True, False, True]\n",
      "Case 2: [True, False, False, False, False]\n",
      "Case 3: [True, False, True]\n"
     ]
    }
   ],
   "source": [
    "# Test on Cases\n",
    "S = Solution()\n",
    "\n",
    "print(f\"Case 1: {S.kidsWithCandies([2,3,5,1,3], 3)}\")\n",
    "print(f\"Case 2: {S.kidsWithCandies([4,2,1,1,2], 1)}\")\n",
    "print(f\"Case 3: {S.kidsWithCandies([12,1,12], 10)}\")"
   ]
  }
 ],
 "metadata": {
  "kernelspec": {
   "display_name": "Python 3 (ipykernel)",
   "language": "python",
   "name": "python3"
  },
  "language_info": {
   "codemirror_mode": {
    "name": "ipython",
    "version": 3
   },
   "file_extension": ".py",
   "mimetype": "text/x-python",
   "name": "python",
   "nbconvert_exporter": "python",
   "pygments_lexer": "ipython3",
   "version": "3.10.4"
  },
  "vscode": {
   "interpreter": {
    "hash": "21d8332eb27bea95342760850bd7426f517b6a483537194bbba87e10eeabf6ff"
   }
  }
 },
 "nbformat": 4,
 "nbformat_minor": 4
}
