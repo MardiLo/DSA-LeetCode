{
 "cells": [
  {
   "cell_type": "markdown",
   "metadata": {},
   "source": [
    "`# Array` `# Greedy` `# String` `# Two Pointers`"
   ]
  },
  {
   "cell_type": "markdown",
   "metadata": {},
   "source": [
    "A permutation perm of `n + 1` integers of all the integers in the range `[0, n]` can be represented as a string `s` of length `n` where:\n",
    "\n",
    "- `s[i] == 'I' if perm[i] < perm[i + 1]`, and\n",
    "- `s[i] == 'D' if perm[i] > perm[i + 1]`.\n",
    "\n",
    "Given a string `s`, reconstruct the permutation `perm` and return it. If there are multiple valid permutations perm, return **any of them**."
   ]
  },
  {
   "cell_type": "markdown",
   "metadata": {},
   "source": [
    "**Example 1:**\n",
    "\n",
    "> Input: s = \"IDID\"  \n",
    "> Output: [0,4,1,3,2]\n",
    "\n",
    "**Example 2:**\n",
    "\n",
    "> Input: s = \"III\"  \n",
    "> Output: [0,1,2,3]\n",
    "\n",
    "**Example 3:**\n",
    "\n",
    "> Input: s = \"DDI\"  \n",
    "> Output: [3,2,0,1]"
   ]
  },
  {
   "cell_type": "code",
   "execution_count": 1,
   "metadata": {},
   "outputs": [],
   "source": [
    "class Solution:\n",
    "\n",
    "    # Time Complexity： O(n)\n",
    "    # Space Complexity： O(1)\n",
    "    def diStringMatch(self, s: str) -> list[int]:\n",
    "        l, r, res = 0, len(s), []\n",
    "        \n",
    "        for c in s:\n",
    "            if c == 'I': res.append(l); l += 1\n",
    "            else: res.append(r); r -= 1\n",
    "        \n",
    "        return res + [l]"
   ]
  },
  {
   "cell_type": "code",
   "execution_count": 2,
   "metadata": {},
   "outputs": [
    {
     "name": "stdout",
     "output_type": "stream",
     "text": [
      "Case 1: [0, 4, 1, 3, 2]\n",
      "Case 2: [0, 1, 2, 3]\n",
      "Case 3: [3, 2, 0, 1]\n"
     ]
    }
   ],
   "source": [
    "# Test on Cases\n",
    "S = Solution()\n",
    "\n",
    "print(f\"Case 1: {S.diStringMatch('IDID')}\")\n",
    "print(f\"Case 2: {S.diStringMatch('III')}\")\n",
    "print(f\"Case 3: {S.diStringMatch('DDI')}\")"
   ]
  }
 ],
 "metadata": {
  "kernelspec": {
   "display_name": "Python 3 (ipykernel)",
   "language": "python",
   "name": "python3"
  },
  "language_info": {
   "codemirror_mode": {
    "name": "ipython",
    "version": 3
   },
   "file_extension": ".py",
   "mimetype": "text/x-python",
   "name": "python",
   "nbconvert_exporter": "python",
   "pygments_lexer": "ipython3",
   "version": "3.10.4"
  },
  "vscode": {
   "interpreter": {
    "hash": "21d8332eb27bea95342760850bd7426f517b6a483537194bbba87e10eeabf6ff"
   }
  }
 },
 "nbformat": 4,
 "nbformat_minor": 4
}
