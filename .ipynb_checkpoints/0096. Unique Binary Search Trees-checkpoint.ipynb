{
 "cells": [
  {
   "cell_type": "markdown",
   "metadata": {},
   "source": [
    "`# Binary Search Tree` `# Binary Tree` `# Dynamic Programming` `# Math` `# Tree`"
   ]
  },
  {
   "cell_type": "markdown",
   "metadata": {},
   "source": [
    "Given an integer `n`, return *the number of structurally unique BST's (binary search trees) which has exactly* `n` *nodes of unique values from* `1` *to* `n`."
   ]
  },
  {
   "cell_type": "markdown",
   "metadata": {},
   "source": [
    "**Example 1:**  \n",
    "![Image of leetcode 0096 problem example 1](https://assets.leetcode.com/uploads/2021/01/18/uniquebstn3.jpg)\n",
    "> Input: n = 3  \n",
    "> Output: 5  \n",
    "\n",
    "**Example 2:**\n",
    "\n",
    "> Input: n = 1  \n",
    "> Output: 1  "
   ]
  },
  {
   "cell_type": "code",
   "execution_count": 11,
   "metadata": {},
   "outputs": [],
   "source": [
    "class Solution:\n",
    "    \n",
    "    # Time Complexity： O(n)\n",
    "    # Space Complexity： O(1)    \n",
    "    def numTrees_math(self, n: int) -> int:\n",
    "        \"\"\"Catalan Numbers can be display as combination(2n, n) / (n+1)\"\"\"\n",
    "        from math import comb      # only supported in python 3.8 or greater\n",
    "\n",
    "        return comb(2*n, n) // (n+1)\n",
    "\n",
    "    # Time Complexity： O(n^2)\n",
    "    # Space Complexity： O(n)    \n",
    "    def numTrees_dp(self, n: int) -> int:\n",
    "        dp = [1, 1] + [0] * (n-1)\n",
    "\n",
    "        for i in range(2, n+1):\n",
    "            for j in range(1, i+1):\n",
    "                dp[i] += dp[j-1] * dp[i-j]\n",
    "        \n",
    "        return dp[-1]\n"
   ]
  },
  {
   "cell_type": "code",
   "execution_count": 12,
   "metadata": {},
   "outputs": [
    {
     "name": "stdout",
     "output_type": "stream",
     "text": [
      "---uniquePaths_math---\n",
      "Case 1: 5\n",
      "Case 2: 1\n",
      "\n",
      "---numTrees_dp---\n",
      "Case 1: 5\n",
      "Case 2: 1\n"
     ]
    }
   ],
   "source": [
    "# Test on Cases\n",
    "S = Solution()\n",
    "\n",
    "print(\"---uniquePaths_math---\")\n",
    "print(f\"Case 1: {S.numTrees_math(3)}\")\n",
    "print(f\"Case 2: {S.numTrees_math(1)}\\n\")\n",
    "\n",
    "print(\"---numTrees_dp---\")\n",
    "print(f\"Case 1: {S.numTrees_dp(3)}\")\n",
    "print(f\"Case 2: {S.numTrees_dp(1)}\")"
   ]
  },
  {
   "cell_type": "markdown",
   "metadata": {},
   "source": [
    "**Ref**\n",
    "1. [[C++/Python] 5 Easy Solutions w/ Explanation | Optimization from Brute-Force to DP to Catalan O(N)](https://leetcode.com/problems/unique-binary-search-trees/discuss/1565543/C%2B%2BPython-5-Easy-Solutions-w-Explanation-or-Optimization-from-Brute-Force-to-DP-to-Catalan-O(N))"
   ]
  }
 ],
 "metadata": {
  "kernelspec": {
   "display_name": "Python 3 (ipykernel)",
   "language": "python",
   "name": "python3"
  },
  "language_info": {
   "codemirror_mode": {
    "name": "ipython",
    "version": 3
   },
   "file_extension": ".py",
   "mimetype": "text/x-python",
   "name": "python",
   "nbconvert_exporter": "python",
   "pygments_lexer": "ipython3",
   "version": "3.10.4"
  },
  "vscode": {
   "interpreter": {
    "hash": "21d8332eb27bea95342760850bd7426f517b6a483537194bbba87e10eeabf6ff"
   }
  }
 },
 "nbformat": 4,
 "nbformat_minor": 4
}
