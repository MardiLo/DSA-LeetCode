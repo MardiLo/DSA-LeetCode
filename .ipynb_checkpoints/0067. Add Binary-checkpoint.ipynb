{
 "cells": [
  {
   "cell_type": "markdown",
   "metadata": {},
   "source": [
    "`# Bit Manipulation` `# Math` `# Simulation` `# String`"
   ]
  },
  {
   "cell_type": "markdown",
   "metadata": {},
   "source": [
    "Given two binary strings `a` and `b`, return *their sum as a binary string*."
   ]
  },
  {
   "cell_type": "markdown",
   "metadata": {},
   "source": [
    "**Example 1:**\n",
    "\n",
    "> Input: a = \"11\", b = \"1\"  \n",
    "> Output: \"100\"  \n",
    "    \n",
    "**Example 2:**\n",
    "\n",
    "> Input: a = \"1010\", b = \"1011\"  \n",
    "> Output: \"10101\"\n"
   ]
  },
  {
   "cell_type": "code",
   "execution_count": 1,
   "metadata": {},
   "outputs": [],
   "source": [
    "class Solution:\n",
    "    \n",
    "    # Time Complexity： O(max(m, n)), where m=len(num1), n=len(num2)\n",
    "    # Space Complexity： O(1)  \n",
    "    def addBinary(self, a: str, b: str) -> str:\n",
    "        i1, i2, res, carrier = len(a)-1, len(b)-1, '', 0\n",
    "        \n",
    "        while i1 >= 0 or i2 >= 0 or carrier:\n",
    "            if i1 >= 0: carrier += int(a[i1]); i1 -= 1\n",
    "            if i2 >= 0: carrier += int(b[i2]); i2 -= 1\n",
    "            \n",
    "            carrier, remainder = divmod(carrier, 2)\n",
    "            res = str(remainder) + res\n",
    "            \n",
    "        return res"
   ]
  },
  {
   "cell_type": "code",
   "execution_count": 2,
   "metadata": {},
   "outputs": [
    {
     "name": "stdout",
     "output_type": "stream",
     "text": [
      "Case 1: 100\n",
      "Case 2: 10101\n"
     ]
    }
   ],
   "source": [
    "# Test on Cases\n",
    "S = Solution()\n",
    "\n",
    "print(f\"Case 1: {S.addBinary('11', '1')}\")\n",
    "print(f\"Case 2: {S.addBinary('1010', '1011')}\")"
   ]
  }
 ],
 "metadata": {
  "interpreter": {
   "hash": "21d8332eb27bea95342760850bd7426f517b6a483537194bbba87e10eeabf6ff"
  },
  "kernelspec": {
   "display_name": "Python 3 (ipykernel)",
   "language": "python",
   "name": "python3"
  },
  "language_info": {
   "codemirror_mode": {
    "name": "ipython",
    "version": 3
   },
   "file_extension": ".py",
   "mimetype": "text/x-python",
   "name": "python",
   "nbconvert_exporter": "python",
   "pygments_lexer": "ipython3",
   "version": "3.10.4"
  }
 },
 "nbformat": 4,
 "nbformat_minor": 4
}
