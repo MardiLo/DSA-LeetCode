{
 "cells": [
  {
   "cell_type": "markdown",
   "metadata": {},
   "source": [
    "`# Array`"
   ]
  },
  {
   "cell_type": "markdown",
   "metadata": {},
   "source": [
    "Given the array `nums` consisting of 2n elements in the form `[x1,x2,...,xn,y1,y2,...,yn]`.\n",
    "\n",
    "*Return the array in the form* `[x1,y1,x2,y2,...,xn,yn]`."
   ]
  },
  {
   "cell_type": "markdown",
   "metadata": {},
   "source": [
    "**Example 1:**\n",
    "\n",
    "> Input: nums = [2,5,1,3,4,7], n = 3  \n",
    "> Output: [2,3,5,4,1,7]   \n",
    "> Explanation: Since x1=2, x2=5, x3=1, y1=3, y2=4, y3=7 then the answer is [2,3,5,4,1,7].\n",
    "\n",
    "**Example 2:**\n",
    "\n",
    "> Input: nums = [1,2,3,4,4,3,2,1], n = 4  \n",
    "> Output: [1,4,2,3,3,2,4,1]\n",
    "\n",
    "**Example 3:**\n",
    "\n",
    "> Input: nums = [1,1,2,2], n = 2  \n",
    "> Output: [1,2,1,2]"
   ]
  },
  {
   "cell_type": "code",
   "execution_count": 3,
   "metadata": {},
   "outputs": [],
   "source": [
    "class Solution:\n",
    "\n",
    "    # Time Complexity： O(n)\n",
    "    # Space Complexity： O(1)\n",
    "    def shuffle(self, nums: list[int], n: int) -> list[int]:       \n",
    "        res = [0] * len(nums)\n",
    "        \n",
    "        for i in range(len(nums)):            \n",
    "            if i < n: res[i%n*2] = nums[i]\n",
    "            else: res[i%n*2+1] = nums[i]\n",
    "        \n",
    "        return res\n",
    "\n",
    "    # Time Complexity： O(n)\n",
    "    # Space Complexity： O(n)\n",
    "    def shuffle_slice(self, nums: list[int], n: int) -> list[int]: \n",
    "        nums[::2], nums[1::2] = nums[:n], nums[n::]\n",
    "        return nums"
   ]
  },
  {
   "cell_type": "code",
   "execution_count": 4,
   "metadata": {},
   "outputs": [
    {
     "name": "stdout",
     "output_type": "stream",
     "text": [
      "---shuffle---\n",
      "Case 1: [2, 3, 5, 4, 1, 7]\n",
      "Case 2: [1, 4, 2, 3, 3, 2, 4, 1]\n",
      "Case 3: [1, 2, 1, 2]\n",
      "\n",
      "---shuffle_slice---\n",
      "Case 1: [2, 3, 5, 4, 1, 7]\n",
      "Case 2: [1, 4, 2, 3, 3, 2, 4, 1]\n",
      "Case 3: [1, 2, 1, 2]\n"
     ]
    }
   ],
   "source": [
    "# Test on Cases\n",
    "S = Solution()\n",
    "\n",
    "print(\"---shuffle---\")\n",
    "print(f\"Case 1: {S.shuffle([2,5,1,3,4,7], 3)}\")\n",
    "print(f\"Case 2: {S.shuffle([1,2,3,4,4,3,2,1], 4)}\")\n",
    "print(f\"Case 3: {S.shuffle([1,1,2,2], 2)}\\n\")\n",
    "\n",
    "print(\"---shuffle_slice---\")\n",
    "print(f\"Case 1: {S.shuffle_slice([2,5,1,3,4,7], 3)}\")\n",
    "print(f\"Case 2: {S.shuffle_slice([1,2,3,4,4,3,2,1], 4)}\")\n",
    "print(f\"Case 3: {S.shuffle_slice([1,1,2,2], 2)}\")"
   ]
  }
 ],
 "metadata": {
  "kernelspec": {
   "display_name": "Python 3 (ipykernel)",
   "language": "python",
   "name": "python3"
  },
  "language_info": {
   "codemirror_mode": {
    "name": "ipython",
    "version": 3
   },
   "file_extension": ".py",
   "mimetype": "text/x-python",
   "name": "python",
   "nbconvert_exporter": "python",
   "pygments_lexer": "ipython3",
   "version": "3.10.4"
  },
  "vscode": {
   "interpreter": {
    "hash": "21d8332eb27bea95342760850bd7426f517b6a483537194bbba87e10eeabf6ff"
   }
  }
 },
 "nbformat": 4,
 "nbformat_minor": 4
}
