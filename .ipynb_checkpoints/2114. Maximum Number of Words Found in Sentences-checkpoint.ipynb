{
 "cells": [
  {
   "cell_type": "markdown",
   "metadata": {},
   "source": [
    "`# Array` `# String`"
   ]
  },
  {
   "cell_type": "markdown",
   "metadata": {},
   "source": [
    "A **sentence** is a list of **words** that are separated by a single space with no leading or trailing spaces.\n",
    "\n",
    "You are given an array of strings `sentences`, where each `sentences[i]` represents a single **sentence**.\n",
    "\n",
    "Return *the ***maximum number*** of words that appear in a single sentence*."
   ]
  },
  {
   "cell_type": "markdown",
   "metadata": {},
   "source": [
    "**Example 1:**\n",
    "\n",
    "> Input: sentences = [\"alice and bob love leetcode\", \"i think so too\", \"this is great thanks very much\"]  \n",
    "> Output: 6  \n",
    "> Explanation:   \n",
    "> - The first sentence, \"alice and bob love leetcode\", has 5 words in total.  \n",
    "> - The second sentence, \"i think so too\", has 4 words in total.  \n",
    "> - The third sentence, \"this is great thanks very much\", has 6 words in total.  \n",
    "> \n",
    "> Thus, the maximum number of words in a single sentence comes from the third sentence, which has 6 words.\n",
    "\n",
    "**Example 2:**\n",
    "\n",
    "> Input: sentences = [\"please wait\", \"continue to fight\", \"continue to win\"]  \n",
    "> Output: 3  \n",
    "> Explanation: It is possible that multiple sentences contain the same number of words.   \n",
    "> In this example, the second and third sentences (underlined) have the same number of words.  "
   ]
  },
  {
   "cell_type": "code",
   "execution_count": 1,
   "metadata": {},
   "outputs": [],
   "source": [
    "class Solution:\n",
    "\n",
    "    # Time Complexity： O(nm), where n = len(sentences), and m = max(len(sentence))\n",
    "    # Space Complexity： O(1)\n",
    "    def mostWordsFound(self, sentences: list[str]) -> int:\n",
    "        maxWhiteSpaceCnt = 0\n",
    "        \n",
    "        for sentence in sentences:\n",
    "            maxWhiteSpaceCnt = max(maxWhiteSpaceCnt, sentence.count(' '))\n",
    "            \n",
    "        return maxWhiteSpaceCnt + 1"
   ]
  },
  {
   "cell_type": "code",
   "execution_count": 2,
   "metadata": {},
   "outputs": [
    {
     "name": "stdout",
     "output_type": "stream",
     "text": [
      "Case 1: 6\n",
      "Case 2: 3\n"
     ]
    }
   ],
   "source": [
    "# Test on Cases\n",
    "S = Solution()\n",
    "\n",
    "print(f\"Case 1: {S.mostWordsFound(['alice and bob love leetcode', 'i think so too', 'this is great thanks very much'])}\")\n",
    "print(f\"Case 2: {S.mostWordsFound(['please wait', 'continue to fight', 'continue to win'])}\")"
   ]
  }
 ],
 "metadata": {
  "kernelspec": {
   "display_name": "Python 3 (ipykernel)",
   "language": "python",
   "name": "python3"
  },
  "language_info": {
   "codemirror_mode": {
    "name": "ipython",
    "version": 3
   },
   "file_extension": ".py",
   "mimetype": "text/x-python",
   "name": "python",
   "nbconvert_exporter": "python",
   "pygments_lexer": "ipython3",
   "version": "3.10.4"
  },
  "vscode": {
   "interpreter": {
    "hash": "21d8332eb27bea95342760850bd7426f517b6a483537194bbba87e10eeabf6ff"
   }
  }
 },
 "nbformat": 4,
 "nbformat_minor": 4
}
