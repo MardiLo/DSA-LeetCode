{
 "cells": [
  {
   "cell_type": "markdown",
   "metadata": {},
   "source": [
    "`# Array` `# Bit Manipulation` `# Hash Table` `# Sorting`"
   ]
  },
  {
   "cell_type": "markdown",
   "metadata": {},
   "source": [
    "You have a set of integers `s`, which originally contains all the numbers from `1` to `n`. Unfortunately, due to some error, one of the numbers in s got duplicated to another number in the set, which results in **repetition of one** number and **loss of another** number.\n",
    "\n",
    "You are given an integer array `nums` representing the data status of this set after the error.\n",
    "\n",
    "Find the number that occurs twice and the number that is missing and return them *in the form of an array*."
   ]
  },
  {
   "cell_type": "markdown",
   "metadata": {},
   "source": [
    "**Example 1:**\n",
    "\n",
    "> Input: nums = [1,2,2,4]  \n",
    "> Output: [2,3]  \n",
    "\n",
    "**Example 2:**\n",
    "\n",
    "> Input: Input: nums = [1,1]  \n",
    "> Output: [1,2]  "
   ]
  },
  {
   "cell_type": "code",
   "execution_count": 1,
   "metadata": {},
   "outputs": [],
   "source": [
    "class Solution:\n",
    "    \n",
    "    # Time Complexity： O(n)\n",
    "    # Space Complexity： O(n)\n",
    "    def findErrorNums(self, nums: list[int]) -> list[int]:\n",
    "        return [sum(nums) - (sumSet := sum(set(nums))), (len(nums) + 1) * len(nums) // 2 - sumSet]"
   ]
  },
  {
   "cell_type": "code",
   "execution_count": 2,
   "metadata": {},
   "outputs": [
    {
     "name": "stdout",
     "output_type": "stream",
     "text": [
      "Case 1: [2, 3]\n",
      "Case 2: [1, 2]\n"
     ]
    }
   ],
   "source": [
    "# Test on Cases\n",
    "S = Solution()\n",
    "\n",
    "print(f\"Case 1: {S.findErrorNums([1,2,2,4])}\")\n",
    "print(f\"Case 2: {S.findErrorNums([1,1])}\")"
   ]
  }
 ],
 "metadata": {
  "kernelspec": {
   "display_name": "Python 3 (ipykernel)",
   "language": "python",
   "name": "python3"
  },
  "language_info": {
   "codemirror_mode": {
    "name": "ipython",
    "version": 3
   },
   "file_extension": ".py",
   "mimetype": "text/x-python",
   "name": "python",
   "nbconvert_exporter": "python",
   "pygments_lexer": "ipython3",
   "version": "3.10.4"
  },
  "vscode": {
   "interpreter": {
    "hash": "21d8332eb27bea95342760850bd7426f517b6a483537194bbba87e10eeabf6ff"
   }
  }
 },
 "nbformat": 4,
 "nbformat_minor": 4
}
