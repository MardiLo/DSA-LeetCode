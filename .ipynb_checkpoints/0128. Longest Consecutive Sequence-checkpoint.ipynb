{
 "cells": [
  {
   "cell_type": "markdown",
   "metadata": {},
   "source": [
    "`# Array` `# Hash Table` `# Union Find`"
   ]
  },
  {
   "cell_type": "markdown",
   "metadata": {},
   "source": [
    "Given an unsorted array of integers `nums`, return *the length of the longest consecutive elements sequence*.\n",
    "\n",
    "You must write an algorithm that runs in **O(n)** time."
   ]
  },
  {
   "cell_type": "markdown",
   "metadata": {},
   "source": [
    "**Example 1:**\n",
    "\n",
    "> Input: nums = [100,4,200,1,3,2]  \n",
    "> Output: 4  \n",
    "> Explanation: The longest consecutive elements sequence is [1, 2, 3, 4]. Therefore its length is 4.  \n",
    "\n",
    "**Example 2:**\n",
    "\n",
    "> Input: nums = [0,3,7,2,5,8,4,6,0,1]  \n",
    "> Output: 9  "
   ]
  },
  {
   "cell_type": "code",
   "execution_count": 2,
   "metadata": {},
   "outputs": [],
   "source": [
    "class Solution:\n",
    "    \n",
    "    # Time Complexity： O(n)\n",
    "    # Space Complexity： O(n)     \n",
    "    def longestConsecutive(self, nums: list[int]) -> int:\n",
    "        st, length = set(nums), 0     # create a set: O(n)\n",
    "        \n",
    "        for head in st:               # O(2n), we will work with each number at most twice as the worst case\n",
    "            if head - 1 not in st:    # find an element in a set: O(1)\n",
    "                tail = head + 1\n",
    "                \n",
    "                while tail in st:\n",
    "                    tail += 1\n",
    "                \n",
    "                length = max(length, tail - head)\n",
    "                \n",
    "        return length"
   ]
  },
  {
   "cell_type": "code",
   "execution_count": 3,
   "metadata": {},
   "outputs": [
    {
     "name": "stdout",
     "output_type": "stream",
     "text": [
      "Case 1: 4\n",
      "Case 2: 9\n"
     ]
    }
   ],
   "source": [
    "# Test on Cases\n",
    "S = Solution()\n",
    "\n",
    "print(f\"Case 1: {S.longestConsecutive([100,4,200,1,3,2])}\")\n",
    "print(f\"Case 2: {S.longestConsecutive([0,3,7,2,5,8,4,6,0,1])}\")"
   ]
  }
 ],
 "metadata": {
  "interpreter": {
   "hash": "6ab137a14910b4ee65d0ea442464c53c8571f8241496146388c5db8c59915964"
  },
  "kernelspec": {
   "display_name": "Python 3 (ipykernel)",
   "language": "python",
   "name": "python3"
  },
  "language_info": {
   "codemirror_mode": {
    "name": "ipython",
    "version": 3
   },
   "file_extension": ".py",
   "mimetype": "text/x-python",
   "name": "python",
   "nbconvert_exporter": "python",
   "pygments_lexer": "ipython3",
   "version": "3.10.4"
  }
 },
 "nbformat": 4,
 "nbformat_minor": 4
}
