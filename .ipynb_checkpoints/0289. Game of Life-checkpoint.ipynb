{
 "cells": [
  {
   "cell_type": "markdown",
   "metadata": {},
   "source": [
    "`# Array` `# Matrix` `# Simulation`"
   ]
  },
  {
   "cell_type": "markdown",
   "metadata": {},
   "source": [
    "According to Wikipedia's article: \"**The Game of Life**, also known simply as Life, is a cellular automaton devised by the British mathematician John Horton Conway in 1970.\"\n",
    "\n",
    "The board is made up of an `m x n` grid of cells, where each cell has an initial state: **live** (represented by a `1`) or **dead** (represented by a `0`). Each cell interacts with its **eight neighbors** (horizontal, vertical, diagonal) using the following four rules (taken from the above Wikipedia article):\n",
    "\n",
    "1. Any live cell with fewer than two live neighbors dies as if caused by under-population.\n",
    "2. Any live cell with two or three live neighbors lives on to the next generation.\n",
    "3. Any live cell with more than three live neighbors dies, as if by over-population.\n",
    "4. Any dead cell with exactly three live neighbors becomes a live cell, as if by reproduction.\n",
    "\n",
    "The next state is created by applying the above rules simultaneously to every cell in the current state, where births and deaths occur simultaneously. Given the current state of the `m x n` grid board, return the next state."
   ]
  },
  {
   "cell_type": "markdown",
   "metadata": {},
   "source": [
    "**Example 1:**  \n",
    "![Image of leetcode 0289 problem example 1](https://assets.leetcode.com/uploads/2020/12/26/grid1.jpg)\n",
    "> Input: board = [[0,1,0],[0,0,1],[1,1,1],[0,0,0]]  \n",
    "> Output: [[0,0,0],[1,0,1],[0,1,1],[0,1,0]]  \n",
    "\n",
    "**Example 2:**  \n",
    "![Image of leetcode 0289 problem example 2](https://assets.leetcode.com/uploads/2020/12/26/grid2.jpg)\n",
    "> Input: board = [[1,1],[1,0]]  \n",
    "> Output: [[1,1],[1,1]]  "
   ]
  },
  {
   "cell_type": "code",
   "execution_count": 3,
   "metadata": {},
   "outputs": [],
   "source": [
    "class Solution:\n",
    "\n",
    "    # Time Complexity： O(mn)\n",
    "    # Space Complexity： O(A), where A is the number of live cells  \n",
    "    def gameOfLife(self, board: list[list[int]]) -> list[list[int]]:\n",
    "        from itertools import product\n",
    "        from collections import defaultdict\n",
    "\n",
    "        m, n = len(board), len(board[0])\n",
    "        alive = [(i, j) for i, j in product(range(m), range(n)) if board[i][j] == 1]    # TC: O(mn); SC: O(mn)\n",
    "        neigbours = [(i, j) for i, j in product(range(-1, 2), range(-1, 2))]            # TC: O(9); SC: O(9)\n",
    "\n",
    "        cnt = defaultdict(int)\n",
    "        for (i, j), (dx, dy) in product(alive, neigbours):                              # TC: O(9A)\n",
    "            cnt[(i+dx, j+dy)] += 1                                                      # SC: O(9A + c)\n",
    "        \n",
    "        dies = set([3, 4])\n",
    "        for i, j in cnt:                                                                # TC: O(9A + c)\n",
    "            if 0 <= i < m and 0 <= j < n:                                               # in board bound\n",
    "                if cnt[(i, j)] == 3 and board[i][j] == 0: board[i][j] = 1               # follow rule 4 \n",
    "                if cnt[(i, j)] not in dies and board[i][j] == 1: board[i][j] = 0        # follow rule 2, includes a live cell itself: not (2, 3) -> not (3, 4)\n",
    "\n",
    "        return board"
   ]
  },
  {
   "cell_type": "code",
   "execution_count": 4,
   "metadata": {},
   "outputs": [
    {
     "name": "stdout",
     "output_type": "stream",
     "text": [
      "Case 1: [[0, 0, 0], [1, 0, 1], [0, 1, 1], [0, 1, 0]]\n",
      "Case 2: [[1, 1], [1, 1]]\n"
     ]
    }
   ],
   "source": [
    "# Test on Cases\n",
    "S = Solution()\n",
    "\n",
    "print(f\"Case 1: {S.gameOfLife([[0,1,0],[0,0,1],[1,1,1],[0,0,0]])}\")\n",
    "print(f\"Case 2: {S.gameOfLife([[1,1],[1,0]])}\")"
   ]
  },
  {
   "cell_type": "markdown",
   "metadata": {},
   "source": [
    "**Ref**\n",
    "1. [[Python] infinite board solution, explained](https://leetcode.com/problems/game-of-life/discuss/994377/Python-infinite-board-solution-explained)"
   ]
  }
 ],
 "metadata": {
  "interpreter": {
   "hash": "a1465031eeae0bed8511463faaa157119e7e6b7b1fbf4ef49fce31064cee3326"
  },
  "kernelspec": {
   "display_name": "Python 3 (ipykernel)",
   "language": "python",
   "name": "python3"
  },
  "language_info": {
   "codemirror_mode": {
    "name": "ipython",
    "version": 3
   },
   "file_extension": ".py",
   "mimetype": "text/x-python",
   "name": "python",
   "nbconvert_exporter": "python",
   "pygments_lexer": "ipython3",
   "version": "3.10.4"
  }
 },
 "nbformat": 4,
 "nbformat_minor": 4
}
