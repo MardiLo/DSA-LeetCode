{
 "cells": [
  {
   "cell_type": "markdown",
   "metadata": {},
   "source": [
    "`# Backtracking` `# Dynamic Programming` `# String` "
   ]
  },
  {
   "cell_type": "markdown",
   "metadata": {},
   "source": [
    "Given a string `s`, partition `s` such that every substring of the partition is a **palindrome**. Return *all possible palindrome partitioning of* `s`.\n",
    "\n",
    "A palindrome string is a string that reads **the same backward as forward**."
   ]
  },
  {
   "cell_type": "markdown",
   "metadata": {},
   "source": [
    "**Example 1:**  \n",
    "\n",
    "> Input: s = \"aab\"  \n",
    "> Output: [[\"a\",\"a\",\"b\"],[\"aa\",\"b\"]]  \n",
    "\n",
    "**Example 2:**  \n",
    "\n",
    "> Input: s = \"a\"  \n",
    "> Output: [[\"a\"]]  "
   ]
  },
  {
   "cell_type": "code",
   "execution_count": 1,
   "metadata": {},
   "outputs": [],
   "source": [
    "class Solution:\n",
    "\n",
    "    # Time Complexity： O(n*2^n), O(n) for s[i+1:] & selected + [s[:i+1]], O(n) for isPalindrome, and call dfs 2^n times\n",
    "    #                             Note: n + n(n-1) + ... + n(n-1)*...*2*1 + 1 = int(e*n!), where e = 2.718\n",
    "    # Space Complexity： O(n^2), n+1 function calls in memory stack, and n*(n+1)/n+1 elements in average in each call\n",
    "    def partition_DFS_recursion(self, s: str) -> list[list[str]]:\n",
    "        self.res = []\n",
    "\n",
    "        def isPalindrome(s: str) -> bool:\n",
    "            return all(s[i] == s[~i] for i in range(len(s)//2))\n",
    "\n",
    "        def dfs(s: str, selected: list[int]) -> None:\n",
    "            if not s: \n",
    "                self.res.append(selected)\n",
    "                return\n",
    "\n",
    "            for i in range(len(s)):\n",
    "                if isPalindrome(pal := s[:i+1]):\n",
    "                    dfs(s[i+1:], selected + [pal])\n",
    "        \n",
    "        dfs(s, [])\n",
    "\n",
    "        return self.res\n",
    "\n",
    "    # Time Complexity： O(n*2^n)\n",
    "    # Space Complexity： O(n*2^n)\n",
    "    def partition_BFS(self, s: str) -> list[list[str]]:\n",
    "        from collections import deque\n",
    "\n",
    "        def isPalindrome(s: str) -> bool:\n",
    "            return all(s[i] == s[~i] for i in range(len(s)//2))\n",
    "\n",
    "        queue, res = deque([(s, [])]), []\n",
    "\n",
    "        while queue:\n",
    "            s, selected = queue.pop()\n",
    "\n",
    "            if s: queue.extend([(s[i+1:], selected + [pal]) for i in range(len(s)) if isPalindrome(pal := s[:i+1])])\n",
    "            else: res.append(selected)\n",
    "        \n",
    "        return res\n",
    "\n",
    "    # Time Complexity： O(n*2^n)\n",
    "    # Space Complexity： O(n^2)\n",
    "    def partition_DFS_iteration(self, s: str) -> list[list[str]]:\n",
    "        def isPalindrome(s: str) -> bool:\n",
    "            return all(s[i] == s[~i] for i in range(len(s)//2))\n",
    "\n",
    "        stack, res = [(s, [])], []\n",
    "\n",
    "        while stack:\n",
    "            s, selected = stack.pop()\n",
    "\n",
    "            if s: stack.extend([(s[i+1:], selected + [pal]) for i in range(len(s)) if isPalindrome(pal := s[:i+1])])\n",
    "            else: res.append(selected)\n",
    "        \n",
    "        return res"
   ]
  },
  {
   "cell_type": "code",
   "execution_count": 2,
   "metadata": {},
   "outputs": [
    {
     "name": "stdout",
     "output_type": "stream",
     "text": [
      "---partition_DFS_recursion---\n",
      "Case 1: [['a', 'a', 'b'], ['aa', 'b']]\n",
      "Case 2: [['a']]\n",
      "\n",
      "---partition_BFS---\n",
      "Case 1: [['aa', 'b'], ['a', 'a', 'b']]\n",
      "Case 2: [['a']]\n",
      "\n",
      "---partition_DFS_iteration---\n",
      "Case 1: [['aa', 'b'], ['a', 'a', 'b']]\n",
      "Case 2: [['a']]\n"
     ]
    }
   ],
   "source": [
    "# Test on Cases\n",
    "S = Solution()\n",
    "\n",
    "print(\"---partition_DFS_recursion---\")\n",
    "print(f\"Case 1: {S.partition_DFS_recursion('aab')}\")\n",
    "print(f\"Case 2: {S.partition_DFS_recursion('a')}\\n\")\n",
    "\n",
    "print(\"---partition_BFS---\")\n",
    "print(f\"Case 1: {S.partition_BFS('aab')}\")\n",
    "print(f\"Case 2: {S.partition_BFS('a')}\\n\")\n",
    "\n",
    "print(\"---partition_DFS_iteration---\")\n",
    "print(f\"Case 1: {S.partition_DFS_iteration('aab')}\")\n",
    "print(f\"Case 2: {S.partition_DFS_iteration('a')}\")"
   ]
  },
  {
   "cell_type": "markdown",
   "metadata": {},
   "source": [
    "**Ref**  \n",
    "1. [Python easy to understand backtracking solution](https://leetcode.com/problems/palindrome-partitioning/discuss/42100/Python-easy-to-understand-backtracking-solution)"
   ]
  }
 ],
 "metadata": {
  "kernelspec": {
   "display_name": "Python 3 (ipykernel)",
   "language": "python",
   "name": "python3"
  },
  "language_info": {
   "codemirror_mode": {
    "name": "ipython",
    "version": 3
   },
   "file_extension": ".py",
   "mimetype": "text/x-python",
   "name": "python",
   "nbconvert_exporter": "python",
   "pygments_lexer": "ipython3",
   "version": "3.10.4"
  },
  "vscode": {
   "interpreter": {
    "hash": "21d8332eb27bea95342760850bd7426f517b6a483537194bbba87e10eeabf6ff"
   }
  }
 },
 "nbformat": 4,
 "nbformat_minor": 4
}
