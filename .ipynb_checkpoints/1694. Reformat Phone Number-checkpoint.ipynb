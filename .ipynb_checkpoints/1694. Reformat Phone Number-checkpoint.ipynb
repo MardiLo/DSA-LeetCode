{
 "cells": [
  {
   "cell_type": "markdown",
   "metadata": {},
   "source": [
    "`# String`"
   ]
  },
  {
   "cell_type": "markdown",
   "metadata": {},
   "source": [
    "You are given a phone number as a string `number`. `number` consists of digits, spaces `' '`, and/or dashes `'-'`.\n",
    "\n",
    "You would like to reformat the phone number in a certain manner. Firstly, **remove** all spaces and dashes. Then, **group** the digits from left to right into blocks of length 3 **until** there are 4 or fewer digits. The final digits are then grouped as follows:\n",
    "\n",
    "- 2 digits: A single block of length 2.\n",
    "- 3 digits: A single block of length 3.\n",
    "- 4 digits: Two blocks of length 2 each.\n",
    "\n",
    "The blocks are then joined by dashes. Notice that the reformatting process should **never** produce any blocks of length 1 and produce **at most** two blocks of length 2.\n",
    "\n",
    "Return *the phone number after formatting.*"
   ]
  },
  {
   "cell_type": "markdown",
   "metadata": {},
   "source": [
    "**Example 1:**  \n",
    "\n",
    "> Input: number = \"1-23-45 6\"  \n",
    "> Output: \"123-456\"  \n",
    "> Explanation: The digits are \"123456\".  \n",
    "> Step 1: There are more than 4 digits, so group the next 3 digits. The 1st block is \"123\".  \n",
    "> Step 2: There are 3 digits remaining, so put them in a single block of length 3. The 2nd block is \"456\".  \n",
    "> Joining the blocks gives \"123-456\".\n",
    "\n",
    "**Example 2:**\n",
    "\n",
    "> Input: number = \"123 4-567\"  \n",
    "> Output: \"123-45-67\"  \n",
    "> Explanation: The digits are \"1234567\".  \n",
    "> Step 1: There are more than 4 digits, so group the next 3 digits. The 1st block is \"123\".  \n",
    "> Step 2: There are 4 digits left, so split them into two blocks of length 2. The blocks are \"45\" and \"67\".  \n",
    "> Joining the blocks gives \"123-45-67\".\n",
    "\n",
    "**Example 3:**\n",
    "\n",
    "> Input: number = \"123 4-5678\"  \n",
    "> Output: \"123-456-78\"  \n",
    "> Explanation: The digits are \"12345678\".  \n",
    "> Step 1: The 1st block is \"123\".  \n",
    "> Step 2: The 2nd block is \"456\".  \n",
    "> Step 3: There are 2 digits left, so put them in a single block of length 2. The 3rd block is \"78\".  \n",
    "> Joining the blocks gives \"123-456-78\"."
   ]
  },
  {
   "cell_type": "code",
   "execution_count": 1,
   "metadata": {},
   "outputs": [],
   "source": [
    "class Solution:\n",
    "    \n",
    "    # Time Complexity： O(n)\n",
    "    # Space Complexity： O(n)      \n",
    "    def reformatNumber(self, number: str) -> str:\n",
    "        number, res = ''.join([d for d in number if d.isnumeric()]), []\n",
    "        \n",
    "        for i in range(0, (n := len(number)), 3):\n",
    "            if i + 4 == n:\n",
    "                res.extend([number[i:i+2], number[i+2:i+4]])\n",
    "                break\n",
    "            else:\n",
    "                res.append(number[i:i+3])\n",
    "                \n",
    "        return '-'.join(res)"
   ]
  },
  {
   "cell_type": "code",
   "execution_count": 2,
   "metadata": {},
   "outputs": [
    {
     "name": "stdout",
     "output_type": "stream",
     "text": [
      "Case 1: 123-456\n",
      "Case 2: 123-45-67\n",
      "Case 3: 123-456-78\n"
     ]
    }
   ],
   "source": [
    "# Test on Cases\n",
    "S = Solution()\n",
    "\n",
    "print(f\"Case 1: {S.reformatNumber('1-23-45 6')}\")\n",
    "print(f\"Case 2: {S.reformatNumber('123 4-567')}\")\n",
    "print(f\"Case 3: {S.reformatNumber('123 4-5678')}\")"
   ]
  }
 ],
 "metadata": {
  "kernelspec": {
   "display_name": "Python 3 (ipykernel)",
   "language": "python",
   "name": "python3"
  },
  "language_info": {
   "codemirror_mode": {
    "name": "ipython",
    "version": 3
   },
   "file_extension": ".py",
   "mimetype": "text/x-python",
   "name": "python",
   "nbconvert_exporter": "python",
   "pygments_lexer": "ipython3",
   "version": "3.10.4"
  },
  "vscode": {
   "interpreter": {
    "hash": "21d8332eb27bea95342760850bd7426f517b6a483537194bbba87e10eeabf6ff"
   }
  }
 },
 "nbformat": 4,
 "nbformat_minor": 4
}
