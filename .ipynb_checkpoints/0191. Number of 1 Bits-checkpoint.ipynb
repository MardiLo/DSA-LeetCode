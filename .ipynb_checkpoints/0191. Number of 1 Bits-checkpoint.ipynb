{
 "cells": [
  {
   "cell_type": "markdown",
   "metadata": {},
   "source": [
    "`# Bit Manipulation`"
   ]
  },
  {
   "cell_type": "markdown",
   "metadata": {},
   "source": [
    "Write a function that takes an unsigned integer and returns the number of '1' bits it has (also known as the Hamming weight)."
   ]
  },
  {
   "cell_type": "markdown",
   "metadata": {},
   "source": [
    "**Example 1:**\n",
    "\n",
    "> Input: n = 00000000000000000000000000001011  \n",
    "> Output: 3  \n",
    "> Explanation: The input binary string 00000000000000000000000000001011 has a total of three '1' bits. \n",
    "\n",
    "**Example 2:**\n",
    "\n",
    "> Input: n = 00000000000000000000000010000000  \n",
    "> Output: 1  \n",
    "> Explanation: The input binary string 00000000000000000000000010000000 has a total of one '1' bit.\n",
    "\n",
    "**Example 3:**\n",
    "\n",
    "> Input: n = 11111111111111111111111111111101  \n",
    "> Output: 31  \n",
    "> Explanation: The input binary string 11111111111111111111111111111101 has a total of thirty one '1' bits."
   ]
  },
  {
   "cell_type": "code",
   "execution_count": 1,
   "metadata": {},
   "outputs": [],
   "source": [
    "class Solution:\n",
    "    \n",
    "    # Time Complexity： O(32)\n",
    "    # Space Complexity： O(1) \n",
    "    def hammingWeight(self, n: int) -> int:\n",
    "        cnt = 0\n",
    "        \n",
    "        while n:\n",
    "            n &= n-1\n",
    "            cnt += 1\n",
    "\n",
    "        return cnt"
   ]
  },
  {
   "cell_type": "code",
   "execution_count": 2,
   "metadata": {},
   "outputs": [
    {
     "name": "stdout",
     "output_type": "stream",
     "text": [
      "Case 1: 27\n",
      "Case 2: 1\n",
      "Case 3: 31\n"
     ]
    }
   ],
   "source": [
    "# Test on Cases\n",
    "S = Solution()\n",
    "\n",
    "print(f\"Case 1: {S.hammingWeight(int('0010101110101100111010101101010111110101010101', 2))}\")\n",
    "print(f\"Case 2: {S.hammingWeight(int('00000000000000000000000010000000', 2))}\")\n",
    "print(f\"Case 3: {S.hammingWeight(int('11111111111111111111111111111101', 2))}\")"
   ]
  }
 ],
 "metadata": {
  "kernelspec": {
   "display_name": "Python 3 (ipykernel)",
   "language": "python",
   "name": "python3"
  },
  "language_info": {
   "codemirror_mode": {
    "name": "ipython",
    "version": 3
   },
   "file_extension": ".py",
   "mimetype": "text/x-python",
   "name": "python",
   "nbconvert_exporter": "python",
   "pygments_lexer": "ipython3",
   "version": "3.10.4"
  },
  "vscode": {
   "interpreter": {
    "hash": "21d8332eb27bea95342760850bd7426f517b6a483537194bbba87e10eeabf6ff"
   }
  }
 },
 "nbformat": 4,
 "nbformat_minor": 4
}
