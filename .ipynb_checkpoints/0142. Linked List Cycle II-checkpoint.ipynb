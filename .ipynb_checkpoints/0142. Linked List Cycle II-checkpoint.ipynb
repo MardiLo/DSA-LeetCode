{
 "cells": [
  {
   "cell_type": "markdown",
   "metadata": {},
   "source": [
    "`# Hash Table` `# Linked List` `# Two Pointers`"
   ]
  },
  {
   "cell_type": "markdown",
   "metadata": {},
   "source": [
    "Given the `head` of a linked list, return *the node where the cycle begins. If there is no cycle, return* `None`.\n",
    "\n",
    "There is a cycle in a linked list if there is some node in the list that can be reached again by continuously following the `next` pointer. Internally, `pos` is used to denote the index of the node that tail's `next` pointer is connected to **(0-indexed)**. It is -`1` if there is no cycle. **Note that** `pos` **is not passed as a parameter**.\n",
    "\n",
    "**Do not modify** the linked list."
   ]
  },
  {
   "cell_type": "markdown",
   "metadata": {},
   "source": [
    "**Example 1:**  \n",
    "![Image of leetcode 0142 problem example 1](https://assets.leetcode.com/uploads/2018/12/07/circularlinkedlist.png)\n",
    "> Input: head = [3,2,0,-4], pos = 1  \n",
    "> Output: tail connects to node index 1  \n",
    "> Explanation: There is a cycle in the linked list, where tail connects to the second node.  \n",
    "\n",
    "**Example 2:**  \n",
    "![Image of leetcode 0142 problem example 2](https://assets.leetcode.com/uploads/2018/12/07/circularlinkedlist_test2.png)\n",
    "> Input: head = [1,2], pos = 0  \n",
    "> Output: tail connects to node index 0  \n",
    "> Explanation: There is a cycle in the linked list, where tail connects to the first node.  \n",
    "\n",
    "**Example 3:**  \n",
    "![Image of leetcode 0142 problem example 3](https://assets.leetcode.com/uploads/2018/12/07/circularlinkedlist_test3.png)\n",
    "> Input: head = [1], pos = -1  \n",
    "> Output: no cycle  \n",
    "> Explanation: There is no cycle in the linked list.  "
   ]
  },
  {
   "cell_type": "code",
   "execution_count": 1,
   "metadata": {},
   "outputs": [],
   "source": [
    "class ListNode:\n",
    "    def __init__(self, x):\n",
    "        self.val = x\n",
    "        self.next = None\n",
    "\n",
    "class Solution:\n",
    "\n",
    "    # Time Complexity： O(n)\n",
    "    # Space Complexity： O(1)   \n",
    "    def detectCycle(self, head: ListNode) -> ListNode:        \n",
    "        # check if there's a loop\n",
    "        slow = fast = head \n",
    "\n",
    "        while fast and fast.next:\n",
    "            slow, fast = slow.next, fast.next.next\n",
    "            if slow == fast: break\n",
    "        else: \n",
    "            return None\n",
    "        \n",
    "        # if there's a loop, we could use Tortoise and Hare Algorithm to find where's the knot \n",
    "        slow = head\n",
    "        \n",
    "        while slow != fast:\n",
    "            slow, fast = slow.next, fast.next\n",
    "        \n",
    "        return slow"
   ]
  },
  {
   "cell_type": "markdown",
   "metadata": {},
   "source": [
    "**Ref**\n",
    "1. [[Python] 2 pointers approach, explained](https://leetcode.com/problems/linked-list-cycle-ii/discuss/912276/Python-2-pointers-approach-explained)"
   ]
  }
 ],
 "metadata": {
  "kernelspec": {
   "display_name": "Python 3 (ipykernel)",
   "language": "python",
   "name": "python3"
  },
  "language_info": {
   "codemirror_mode": {
    "name": "ipython",
    "version": 3
   },
   "file_extension": ".py",
   "mimetype": "text/x-python",
   "name": "python",
   "nbconvert_exporter": "python",
   "pygments_lexer": "ipython3",
   "version": "3.10.4"
  },
  "vscode": {
   "interpreter": {
    "hash": "21d8332eb27bea95342760850bd7426f517b6a483537194bbba87e10eeabf6ff"
   }
  }
 },
 "nbformat": 4,
 "nbformat_minor": 4
}
