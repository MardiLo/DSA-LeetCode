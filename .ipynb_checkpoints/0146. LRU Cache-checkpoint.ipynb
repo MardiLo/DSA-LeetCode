{
 "cells": [
  {
   "cell_type": "markdown",
   "metadata": {},
   "source": [
    "`# Design` `# Doubly-Linked List` `# Hash Table` `# Linked List`"
   ]
  },
  {
   "cell_type": "markdown",
   "metadata": {},
   "source": [
    "Design a data structure that follows the constraints of a **Least Recently Used (LRU) cache**.\n",
    "\n",
    "Implement the `LRUCache` class:\n",
    "\n",
    "- `LRUCache(int capacity)` Initialize the LRU cache with positive size `capacity`.\n",
    "- `int get(int key)` Return the value of the `key` if the `key` exists, otherwise return `-1`.\n",
    "- `void put(int key, int value)` Update the value of the `key` if the `key` exists. Otherwise, add the `key-value` pair to the cache. If the number of keys exceeds the `capacity` from this operation, **evict** the least recently used key.\n",
    "\n",
    "The functions `get` and `put` must each run in `O(1)` average time complexity."
   ]
  },
  {
   "cell_type": "markdown",
   "metadata": {},
   "source": [
    "**Example 1:**\n",
    "\n",
    "> Input\n",
    "> [\"LRUCache\", \"put\", \"put\", \"get\", \"put\", \"get\", \"put\", \"get\", \"get\", \"get\"]  \n",
    "> [[2], [1, 1], [2, 2], [1], [3, 3], [2], [4, 4], [1], [3], [4]]  \n",
    "> \n",
    "> Output  \n",
    "> [null, null, null, 1, null, -1, null, -1, 3, 4]  \n",
    "> \n",
    "> Explanation  \n",
    "> LRUCache lRUCache = new LRUCache(2);  \n",
    "> lRUCache.put(1, 1); // cache is {1=1}  \n",
    "> lRUCache.put(2, 2); // cache is {1=1, 2=2}  \n",
    "> lRUCache.get(1);    // return 1  \n",
    "> lRUCache.put(3, 3); // LRU key was 2, evicts key 2, cache is {1=1, 3=3}  \n",
    "> lRUCache.get(2);    // returns -1 (not found)  \n",
    "> lRUCache.put(4, 4); // LRU key was 1, evicts key 1, cache is {4=4, 3=3}  \n",
    "> lRUCache.get(1);    // return -1 (not found)  \n",
    "> lRUCache.get(3);    // return 3  \n",
    "> lRUCache.get(4);    // return 4  "
   ]
  },
  {
   "cell_type": "code",
   "execution_count": 1,
   "metadata": {},
   "outputs": [],
   "source": [
    "class Node:\n",
    "    def __init__(self, key: int, val: int):\n",
    "        self.key = key\n",
    "        self.val = val\n",
    "        self.prev = None\n",
    "        self.next = None\n",
    "\n",
    "class LRUCache:\n",
    "\n",
    "    def __init__(self, capacity: int):\n",
    "        self.capacity = capacity\n",
    "        self.cache = {}\n",
    "        self.head = Node(0, 0)\n",
    "        self.tail = Node(0, 0)\n",
    "        self.head.next = self.tail\n",
    "        self.tail.prev = self.head\n",
    "\n",
    "    def remove(self, node: Node) -> None:\n",
    "        node.prev.next, node.next.prev = node.next, node.prev\n",
    "\n",
    "    def insert(self, node: Node) -> None:\n",
    "        self.tail.prev.next, self.tail.prev, node.next, node.prev = node, node, self.tail, self.tail.prev\n",
    "\n",
    "    def get(self, key: int) -> int:\n",
    "        if key in self.cache:\n",
    "            self.remove(self.cache[key])\n",
    "            self.insert(self.cache[key])\n",
    "            return self.cache[key].val\n",
    "        return -1\n",
    "\n",
    "    def put(self, key: int, value: int) -> None:\n",
    "        if key in self.cache:\n",
    "            self.remove(self.cache[key])\n",
    "        self.cache[key] = Node(key, value)\n",
    "        self.insert(self.cache[key])\n",
    "\n",
    "        if len(self.cache) > self.capacity:\n",
    "            lru = self.head.next\n",
    "            self.remove(lru)\n",
    "            del self.cache[lru.key]"
   ]
  },
  {
   "cell_type": "code",
   "execution_count": 2,
   "metadata": {},
   "outputs": [
    {
     "name": "stdout",
     "output_type": "stream",
     "text": [
      "None\n",
      "None\n",
      "1\n",
      "None\n",
      "-1\n",
      "None\n",
      "-1\n",
      "3\n",
      "4\n"
     ]
    }
   ],
   "source": [
    "# Test on Cases\n",
    "\n",
    "lRUCache = LRUCache(2)\n",
    "print(lRUCache.put(1, 1))\n",
    "print(lRUCache.put(2, 2))\n",
    "print(lRUCache.get(1))\n",
    "print(lRUCache.put(3, 3))\n",
    "print(lRUCache.get(2))\n",
    "print(lRUCache.put(4, 4))\n",
    "print(lRUCache.get(1))   \n",
    "print(lRUCache.get(3))  \n",
    "print(lRUCache.get(4))  "
   ]
  }
 ],
 "metadata": {
  "kernelspec": {
   "display_name": "Python 3 (ipykernel)",
   "language": "python",
   "name": "python3"
  },
  "language_info": {
   "codemirror_mode": {
    "name": "ipython",
    "version": 3
   },
   "file_extension": ".py",
   "mimetype": "text/x-python",
   "name": "python",
   "nbconvert_exporter": "python",
   "pygments_lexer": "ipython3",
   "version": "3.10.4"
  },
  "vscode": {
   "interpreter": {
    "hash": "21d8332eb27bea95342760850bd7426f517b6a483537194bbba87e10eeabf6ff"
   }
  }
 },
 "nbformat": 4,
 "nbformat_minor": 4
}
