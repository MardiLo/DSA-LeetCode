{
 "cells": [
  {
   "cell_type": "markdown",
   "metadata": {},
   "source": [
    "`# Math`"
   ]
  },
  {
   "cell_type": "markdown",
   "metadata": {},
   "source": [
    "**Reversing** an integer means to reverse all its digits.\n",
    "\n",
    "- For example, reversing `2021` gives `1202`. Reversing `12300` gives `321` as the **leading zeros are not retained.**\n",
    "\n",
    "Given an integer `num`, **reverse** `num` to get `reversed1`, then reverse `reversed1` to get `reversed2`. Return `true` *if* `reversed2` *equals* `num`. Otherwise return `false`."
   ]
  },
  {
   "cell_type": "markdown",
   "metadata": {},
   "source": [
    "**Example 1:**\n",
    "\n",
    "> Input: num = 526  \n",
    "> Output: true  \n",
    "> Explanation: Reverse num to get 625, then reverse 625 to get 526, which equals num.\n",
    "\n",
    "**Example 2:**\n",
    "\n",
    "> Input: num = 1800  \n",
    "> Output: false  \n",
    "> Explanation: Reverse num to get 81, then reverse 81 to get 18, which does not equal num.\n",
    "\n",
    "**Example 3:**\n",
    "\n",
    "> Input: num = 0  \n",
    "> Output: true  \n",
    "> Explanation: Reverse num to get 0, then reverse 0 to get 0, which equals num."
   ]
  },
  {
   "cell_type": "code",
   "execution_count": 5,
   "metadata": {},
   "outputs": [],
   "source": [
    "class Solution:\n",
    "\n",
    "    # Time Complexity： O(1)\n",
    "    # Space Complexity： O(1)\n",
    "    def isSameAfterReversals(self, num: int) -> bool:\n",
    "        return True if not num else (True if num % 10 else False)"
   ]
  },
  {
   "cell_type": "code",
   "execution_count": 6,
   "metadata": {},
   "outputs": [
    {
     "name": "stdout",
     "output_type": "stream",
     "text": [
      "Case 1: True\n",
      "Case 2: False\n",
      "Case 3: True\n"
     ]
    }
   ],
   "source": [
    "# Test on Cases\n",
    "S = Solution()\n",
    "\n",
    "print(f\"Case 1: {S.isSameAfterReversals(526)}\")\n",
    "print(f\"Case 2: {S.isSameAfterReversals(1800)}\")\n",
    "print(f\"Case 3: {S.isSameAfterReversals(0)}\")"
   ]
  }
 ],
 "metadata": {
  "kernelspec": {
   "display_name": "Python 3 (ipykernel)",
   "language": "python",
   "name": "python3"
  },
  "language_info": {
   "codemirror_mode": {
    "name": "ipython",
    "version": 3
   },
   "file_extension": ".py",
   "mimetype": "text/x-python",
   "name": "python",
   "nbconvert_exporter": "python",
   "pygments_lexer": "ipython3",
   "version": "3.10.4"
  },
  "vscode": {
   "interpreter": {
    "hash": "21d8332eb27bea95342760850bd7426f517b6a483537194bbba87e10eeabf6ff"
   }
  }
 },
 "nbformat": 4,
 "nbformat_minor": 4
}
