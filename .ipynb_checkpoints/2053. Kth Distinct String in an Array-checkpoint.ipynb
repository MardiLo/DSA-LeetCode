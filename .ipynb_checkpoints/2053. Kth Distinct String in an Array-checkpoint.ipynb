{
 "cells": [
  {
   "cell_type": "markdown",
   "metadata": {},
   "source": [
    "`# Array` `# Counting` `# Hash Table` `# String` "
   ]
  },
  {
   "cell_type": "markdown",
   "metadata": {},
   "source": [
    "A **distinct string** is a string that is present only **once** in an array.\n",
    "\n",
    "Given an array of strings `arr`, and an integer `k`, return *the* `k`<sup>`th`</sup> ***distinct string*** *present in* `arr`. If there are **fewer** than `k` distinct strings, return *an* ***empty string*** `\"\"`.\n",
    "\n",
    "Note that the strings are considered in the **order in which they appear** in the array."
   ]
  },
  {
   "cell_type": "markdown",
   "metadata": {},
   "source": [
    "**Example 1:**\n",
    "\n",
    "> Input: arr = [\"d\",\"b\",\"c\",\"b\",\"c\",\"a\"], k = 2  \n",
    "> Output: \"a\"  \n",
    "> Explanation:  \n",
    "> The only distinct strings in arr are \"d\" and \"a\".  \n",
    "> \"d\" appears 1st, so it is the 1st distinct string.  \n",
    "> \"a\" appears 2nd, so it is the 2nd distinct string.  \n",
    "> Since k == 2, \"a\" is returned. \n",
    "\n",
    "**Example 2:**\n",
    "\n",
    "> Input: arr = [\"aaa\",\"aa\",\"a\"], k = 1  \n",
    "> Output: \"aaa\"  \n",
    "> Explanation:  \n",
    "> All strings in arr are distinct, so the 1st string \"aaa\" is returned.\n",
    "\n",
    "**Example 3:**\n",
    "\n",
    "> Input: arr = [\"a\",\"b\",\"a\"], k = 3  \n",
    "> Output: \"\"  \n",
    "> Explanation:  \n",
    "> The only distinct string is \"b\". Since there are fewer than 3 distinct strings, we return an empty string \"\"."
   ]
  },
  {
   "cell_type": "code",
   "execution_count": 1,
   "metadata": {},
   "outputs": [],
   "source": [
    "class Solution:\n",
    "    \n",
    "    # Time Complexity： O(n)\n",
    "    # Space Complexity： O(n)    \n",
    "    def kthDistinct(self, arr: list[str], k: int) -> str:\n",
    "        from collections import Counter\n",
    "\n",
    "        cnt = Counter(arr)\n",
    "        \n",
    "        for c in arr:\n",
    "            if cnt[c] == 1: k -= 1\n",
    "            if not k: return c\n",
    "        \n",
    "        return ''"
   ]
  },
  {
   "cell_type": "code",
   "execution_count": 2,
   "metadata": {},
   "outputs": [
    {
     "name": "stdout",
     "output_type": "stream",
     "text": [
      "Case 1: a\n",
      "Case 2: aaa\n",
      "Case 3: \n"
     ]
    }
   ],
   "source": [
    "# Test on Cases\n",
    "S = Solution()\n",
    "\n",
    "print(f\"Case 1: {S.kthDistinct(arr=['d','b','c','b','c','a'], k=2)}\")\n",
    "print(f\"Case 2: {S.kthDistinct(arr=['aaa','aa','a'], k=1)}\")\n",
    "print(f\"Case 3: {S.kthDistinct(arr=['a','b','a'], k=3)}\")"
   ]
  }
 ],
 "metadata": {
  "interpreter": {
   "hash": "21d8332eb27bea95342760850bd7426f517b6a483537194bbba87e10eeabf6ff"
  },
  "kernelspec": {
   "display_name": "Python 3 (ipykernel)",
   "language": "python",
   "name": "python3"
  },
  "language_info": {
   "codemirror_mode": {
    "name": "ipython",
    "version": 3
   },
   "file_extension": ".py",
   "mimetype": "text/x-python",
   "name": "python",
   "nbconvert_exporter": "python",
   "pygments_lexer": "ipython3",
   "version": "3.10.4"
  }
 },
 "nbformat": 4,
 "nbformat_minor": 4
}
