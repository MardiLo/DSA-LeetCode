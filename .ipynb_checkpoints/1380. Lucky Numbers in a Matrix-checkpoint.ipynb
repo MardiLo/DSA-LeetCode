{
 "cells": [
  {
   "cell_type": "markdown",
   "metadata": {},
   "source": [
    "`# Array` `# Matrix`"
   ]
  },
  {
   "cell_type": "markdown",
   "metadata": {},
   "source": [
    "Given an `m x n` matrix of **distinct** numbers, return *all ***lucky numbers*** in the matrix in ***any*** order*.\n",
    "\n",
    "A **lucky number** is an element of the matrix such that it is the minimum element in its row and maximum in its column."
   ]
  },
  {
   "cell_type": "markdown",
   "metadata": {},
   "source": [
    "**Example 1:**  \n",
    "\n",
    "> Input: matrix = [[3,7,8],[9,11,13],[15,16,17]]  \n",
    "> Output: [15]  \n",
    "> Explanation: 15 is the only lucky number since it is the minimum in its row and the maximum in its column. \n",
    "\n",
    "**Example 2:**\n",
    "\n",
    "> Input: matrix = [[1,10,4,2],[9,3,8,7],[15,16,17,12]]  \n",
    "> Output: [12]  \n",
    "> Explanation: 12 is the only lucky number since it is the minimum in its row and the maximum in its column.\n",
    "\n",
    "**Example 3:**\n",
    "\n",
    "> Input: matrix = [[7,8],[1,2]]  \n",
    "> Output: [7]  \n",
    "> Explanation: 7 is the only lucky number since it is the minimum in its row and the maximum in its column."
   ]
  },
  {
   "cell_type": "code",
   "execution_count": 13,
   "metadata": {},
   "outputs": [],
   "source": [
    "class Solution:\n",
    "    \n",
    "    # Time Complexity： O(mn)\n",
    "    # Space Complexity： O(m+n)      \n",
    "    def luckyNumbers (self, matrix: list[list[int]]) -> list[int]:\n",
    "        return list(set(map(min, matrix)) & set(map(max, zip(*matrix))))"
   ]
  },
  {
   "cell_type": "code",
   "execution_count": 14,
   "metadata": {},
   "outputs": [
    {
     "name": "stdout",
     "output_type": "stream",
     "text": [
      "Case 1: [15]\n",
      "Case 2: [12]\n",
      "Case 3: [7]\n"
     ]
    }
   ],
   "source": [
    "# Test on Cases\n",
    "S = Solution()\n",
    "\n",
    "print(f\"Case 1: {S.luckyNumbers([[3,7,8],[9,11,13],[15,16,17]])}\")\n",
    "print(f\"Case 2: {S.luckyNumbers([[1,10,4,2],[9,3,8,7],[15,16,17,12]])}\")\n",
    "print(f\"Case 3: {S.luckyNumbers([[7,8],[1,2]])}\")"
   ]
  }
 ],
 "metadata": {
  "kernelspec": {
   "display_name": "Python 3 (ipykernel)",
   "language": "python",
   "name": "python3"
  },
  "language_info": {
   "codemirror_mode": {
    "name": "ipython",
    "version": 3
   },
   "file_extension": ".py",
   "mimetype": "text/x-python",
   "name": "python",
   "nbconvert_exporter": "python",
   "pygments_lexer": "ipython3",
   "version": "3.10.4"
  },
  "vscode": {
   "interpreter": {
    "hash": "21d8332eb27bea95342760850bd7426f517b6a483537194bbba87e10eeabf6ff"
   }
  }
 },
 "nbformat": 4,
 "nbformat_minor": 4
}
