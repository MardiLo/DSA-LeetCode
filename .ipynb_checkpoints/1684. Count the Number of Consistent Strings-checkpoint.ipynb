{
 "cells": [
  {
   "cell_type": "markdown",
   "metadata": {},
   "source": [
    "`# Array` `# Bit Manipulation` `# Hash Table` `# String`"
   ]
  },
  {
   "cell_type": "markdown",
   "metadata": {},
   "source": [
    "You are given a string `allowed` consisting of **distinct** characters and an array of strings `words`. A string is **consistent** if all characters in the string appear in the string `allowed`.\n",
    "\n",
    "Return *the number of ***consistent*** strings in the array* `words`."
   ]
  },
  {
   "cell_type": "markdown",
   "metadata": {},
   "source": [
    "**Example 1:**\n",
    "\n",
    "> Input: allowed = \"ab\", words = [\"ad\",\"bd\",\"aaab\",\"baa\",\"badab\"]  \n",
    "> Output: 2  \n",
    "> Explanation: Strings \"aaab\" and \"baa\" are consistent since they only contain characters 'a' and 'b'.\n",
    "\n",
    "**Example 2:**\n",
    "\n",
    "> Input: allowed = \"abc\", words = [\"a\",\"b\",\"c\",\"ab\",\"ac\",\"bc\",\"abc\"]  \n",
    "> Output: 7  \n",
    "> Explanation: All strings are consistent.\n",
    "\n",
    "**Example 3:**  \n",
    "\n",
    "> Input: allowed = \"cad\", words = [\"cc\",\"acd\",\"b\",\"ba\",\"bac\",\"bad\",\"ac\",\"d\"]  \n",
    "> > Output: 4  \n",
    "> Explanation: Strings \"cc\", \"acd\", \"ac\", and \"d\" are consistent.\n"
   ]
  },
  {
   "cell_type": "code",
   "execution_count": 7,
   "metadata": {},
   "outputs": [],
   "source": [
    "class Solution:\n",
    "\n",
    "    # Time Complexity： O(26+nw), where len(allowed) <= 26; w is the lenght of each word in words; n is len(words)\n",
    "    # Space Complexity： O(26)\n",
    "    def countConsistentStrings(self, allowed: str, words: list[str]) -> int:\n",
    "        allowed = set(allowed)\n",
    "        \n",
    "        return sum(all(c in allowed for c in word) for word in words)\n"
   ]
  },
  {
   "cell_type": "code",
   "execution_count": 8,
   "metadata": {},
   "outputs": [
    {
     "name": "stdout",
     "output_type": "stream",
     "text": [
      "Case 1: 2\n",
      "Case 2: 7\n",
      "Case 3: 4\n"
     ]
    }
   ],
   "source": [
    "# Test on Cases\n",
    "S = Solution()\n",
    "\n",
    "print(f\"Case 1: {S.countConsistentStrings(allowed='ab', words=['ad','bd','aaab','baa','badab'])}\")\n",
    "print(f\"Case 2: {S.countConsistentStrings(allowed='abc', words=['a','b','c','ab','ac','bc','abc'])}\")\n",
    "print(f\"Case 3: {S.countConsistentStrings(allowed='cad', words=['cc','acd','b','ba','bac','bad','ac','d'])}\")"
   ]
  }
 ],
 "metadata": {
  "kernelspec": {
   "display_name": "Python 3 (ipykernel)",
   "language": "python",
   "name": "python3"
  },
  "language_info": {
   "codemirror_mode": {
    "name": "ipython",
    "version": 3
   },
   "file_extension": ".py",
   "mimetype": "text/x-python",
   "name": "python",
   "nbconvert_exporter": "python",
   "pygments_lexer": "ipython3",
   "version": "3.10.4"
  },
  "vscode": {
   "interpreter": {
    "hash": "21d8332eb27bea95342760850bd7426f517b6a483537194bbba87e10eeabf6ff"
   }
  }
 },
 "nbformat": 4,
 "nbformat_minor": 4
}
