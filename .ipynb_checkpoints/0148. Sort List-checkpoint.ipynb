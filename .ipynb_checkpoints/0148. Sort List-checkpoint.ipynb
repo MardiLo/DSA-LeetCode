{
 "cells": [
  {
   "cell_type": "markdown",
   "metadata": {},
   "source": [
    "`# Divide and Conquer` `# Linked List` `# Merge Sort` `# Sorting` `# Two Pointers` "
   ]
  },
  {
   "cell_type": "markdown",
   "metadata": {},
   "source": [
    "Given the `head` of a linked list, return *the list after sorting it in* ***ascending order***."
   ]
  },
  {
   "cell_type": "markdown",
   "metadata": {},
   "source": [
    "**Example 1:**  \n",
    "![Image of leetcode 0148 problem example 1](https://assets.leetcode.com/uploads/2020/09/14/sort_list_1.jpg)\n",
    "> Input: head = [4,2,1,3]  \n",
    "> Output: [1,2,3,4]  \n",
    "\n",
    "**Example 2:**  \n",
    "![Image of leetcode 0148 problem example 2](https://assets.leetcode.com/uploads/2020/09/14/sort_list_2.jpg)\n",
    "> Input: head = [-1,5,3,4,0]  \n",
    "> Output: [-1,0,3,4,5]  \n",
    "\n",
    "**Example 3:**  \n",
    "\n",
    "> Input: head = []  \n",
    "> Output: []  "
   ]
  },
  {
   "cell_type": "code",
   "execution_count": 7,
   "metadata": {},
   "outputs": [],
   "source": [
    "class ListNode:\n",
    "    def __init__(self, val=0, next=None):\n",
    "        self.val = val\n",
    "        self.next = next\n",
    "        \n",
    "    def list2LinkedList(self, lst):\n",
    "        if not lst: return []\n",
    "\n",
    "        curr = dummy = ListNode(0)\n",
    "        for node in lst:\n",
    "            curr.next = ListNode(node)\n",
    "            curr = curr.next\n",
    "\n",
    "        return dummy.next\n",
    "\n",
    "\n",
    "class Solution:\n",
    "\n",
    "    # Time Complexity： O(logn)\n",
    "    # Space Complexity： O(logn)   \n",
    "    def sortList(self, head: ListNode) -> ListNode:\n",
    "        def getMidNode(head: ListNode) -> ListNode:                  # similar question: 141. Linked List Cycle  \n",
    "            prev, slow, fast = None, head, head\n",
    "\n",
    "            while fast and fast.next:\n",
    "                prev, slow, fast = slow, slow.next, fast.next.next\n",
    "                \n",
    "            prev.next = None \n",
    "            \n",
    "            return slow\n",
    "\n",
    "        def mergeTwoLists(l1: ListNode, l2: ListNode) -> ListNode:   # similar question: 21. Merge Two Sorted Lists\n",
    "            dummy = curr = ListNode(None)\n",
    "            \n",
    "            while l1 and l2:\n",
    "                if l1.val <= l2.val: curr.next, l1 = l1, l1.next\n",
    "                else: curr.next, l2 = l2, l2.next\n",
    "                curr = curr.next\n",
    "            \n",
    "            curr.next = l1 or l2\n",
    "            \n",
    "            return dummy.next\n",
    "\n",
    "\n",
    "        if not head or not head.next: return head\n",
    "        \n",
    "        mid = getMidNode(head)\n",
    "        left, right = self.sortList(head), self.sortList(mid)\n",
    "\n",
    "        return mergeTwoLists(left, right)\n"
   ]
  },
  {
   "cell_type": "code",
   "execution_count": 8,
   "metadata": {},
   "outputs": [
    {
     "name": "stdout",
     "output_type": "stream",
     "text": [
      "Case 1: [1, 2, 3, 4]\n",
      "Case 2: [-1, 0, 3, 4, 5]\n"
     ]
    }
   ],
   "source": [
    "# Test on Cases\n",
    "from leetcodepractice import Print\n",
    "\n",
    "S, P, L = Solution(), Print(), ListNode()\n",
    "\n",
    "print(f\"Case 1: {P.LinkedListTraversal(S.sortList(L.list2LinkedList([4,2,1,3])))}\")\n",
    "print(f\"Case 2: {P.LinkedListTraversal(S.sortList(L.list2LinkedList([-1,5,3,4,0])))}\")"
   ]
  },
  {
   "cell_type": "markdown",
   "metadata": {},
   "source": [
    "**Ref**\n",
    "1. [[Python] O(n log n/ log n) merge sort, explained](https://leetcode.com/problems/sort-list/discuss/892759/Python-O(n-log-n-log-n)-merge-sort-explained)\n",
    "2. [Sort List - Merge Sort - Leetcode 148](https://www.youtube.com/watch?v=TGveA1oFhrc&ab_channel=NeetCode)"
   ]
  }
 ],
 "metadata": {
  "kernelspec": {
   "display_name": "Python 3 (ipykernel)",
   "language": "python",
   "name": "python3"
  },
  "language_info": {
   "codemirror_mode": {
    "name": "ipython",
    "version": 3
   },
   "file_extension": ".py",
   "mimetype": "text/x-python",
   "name": "python",
   "nbconvert_exporter": "python",
   "pygments_lexer": "ipython3",
   "version": "3.10.4"
  },
  "vscode": {
   "interpreter": {
    "hash": "21d8332eb27bea95342760850bd7426f517b6a483537194bbba87e10eeabf6ff"
   }
  }
 },
 "nbformat": 4,
 "nbformat_minor": 4
}
