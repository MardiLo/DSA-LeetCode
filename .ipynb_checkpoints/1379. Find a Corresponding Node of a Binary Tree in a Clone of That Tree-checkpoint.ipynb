{
 "cells": [
  {
   "cell_type": "markdown",
   "metadata": {},
   "source": [
    "`# Binary Tree` `# Breadth-first Search` `# Depth-first Search` `# Tree`"
   ]
  },
  {
   "cell_type": "markdown",
   "metadata": {},
   "source": [
    "Given two binary trees `original` and `cloned` and given a reference to a node `target` in the `original` tree.\n",
    "\n",
    "The `cloned` tree is a **copy** of the `original` tree.\n",
    "\n",
    "Return *a reference to the same node in the* `cloned` *tree*.\n",
    "\n",
    "Note that you are not allowed to change any of the two trees or the `target` node and the answer must be a reference to a node in the `cloned` tree."
   ]
  },
  {
   "cell_type": "markdown",
   "metadata": {},
   "source": [
    "**Example 1:**  \n",
    "![Image of leetcode 1379 problem example 1](https://assets.leetcode.com/uploads/2020/02/21/e1.png)\n",
    "> Input: tree = [7,4,3,null,null,6,19], target = 3  \n",
    "> Output: 3  \n",
    "> Explanation: In all examples the original and cloned trees are shown. The target node is a green node from the original tree. The answer is the yellow node from the cloned tree.\n",
    "    \n",
    "**Example 2:**  \n",
    "![Image of leetcode 1379 problem example 2](https://assets.leetcode.com/uploads/2020/02/21/e2.png)\n",
    "> Input: tree = [7], target =  7  \n",
    "> Output: 7\n",
    "\n",
    "**Example 3:**  \n",
    "![Image of leetcode 1379 problem example 3](https://assets.leetcode.com/uploads/2020/02/21/e3.png)\n",
    "> Input: tree = [8,null,6,null,5,null,4,null,3,null,2,null,1], target = 4  \n",
    "> Output: 4"
   ]
  },
  {
   "cell_type": "code",
   "execution_count": 1,
   "metadata": {},
   "outputs": [],
   "source": [
    "class TreeNode:\n",
    "    def __init__(self, val=0, left=None, right=None):\n",
    "        self.val = val\n",
    "        self.left = left\n",
    "        self.right = right\n",
    "\n",
    "class Solution:\n",
    "    \n",
    "    # Time Complexity： O(n)\n",
    "    # Space Complexity： O(h)    \n",
    "    def getTargetCopy_DFS_recursion(self, original: TreeNode, cloned: TreeNode, target: TreeNode) -> TreeNode:\n",
    "        return self.getTargetCopy_DFS_recursion(original.left, cloned.left, target) or \\\n",
    "            self.getTargetCopy_DFS_recursion(original.right, cloned.right, target) if original and target != original else cloned\n",
    "    \n",
    "    # Time Complexity： O(n)\n",
    "    # Space Complexity： O(w)     \n",
    "    def getTargetCopy_BFS(self, original: TreeNode, cloned: TreeNode, target: TreeNode) -> TreeNode:\n",
    "        from collections import deque \n",
    "        \n",
    "        queue = deque([(original, cloned)])\n",
    "        while queue:\n",
    "            original, cloned = queue.pop()\n",
    "            \n",
    "            if original == target: return cloned\n",
    "            elif original: queue.extend([(original.left, cloned.left), (original.right, cloned.right)])\n",
    "\n",
    "    # Time Complexity： O(n)\n",
    "    # Space Complexity： O(h) \n",
    "    def getTargetCopy_DFS_iteration(self, original: TreeNode, cloned: TreeNode, target: TreeNode) -> TreeNode:\n",
    "        stack = [(original, cloned)]\n",
    "        while stack:\n",
    "            original, cloned = stack.pop()\n",
    "            \n",
    "            if original == target: return cloned\n",
    "            elif original: stack.extend([(original.left, cloned.left), (original.right, cloned.right)])"
   ]
  },
  {
   "cell_type": "code",
   "execution_count": 2,
   "metadata": {},
   "outputs": [
    {
     "name": "stdout",
     "output_type": "stream",
     "text": [
      "---getTargetCopy_DFS_recursion---\n",
      "Case 1: 3\n",
      "Case 2: 7\n",
      "Case 3: 4\n",
      "\n",
      "---getTargetCopy_BFS---\n",
      "Case 1: 3\n",
      "Case 2: 7\n",
      "Case 3: 4\n",
      "\n",
      "---getTargetCopy_DFS_iteration---\n",
      "Case 1: 3\n",
      "Case 2: 7\n",
      "Case 3: 4\n",
      "\n"
     ]
    }
   ],
   "source": [
    "# Test on Cases\n",
    "S = Solution()\n",
    "\n",
    "from copy import copy\n",
    "\n",
    "print(\"---getTargetCopy_DFS_recursion---\")\n",
    "print(f\"Case 1: {S.getTargetCopy_DFS_recursion((original := TreeNode(7, TreeNode(4), TreeNode(3, TreeNode(6), TreeNode(19)))), copy(original), original.right).val}\")\n",
    "print(f\"Case 2: {S.getTargetCopy_DFS_recursion((original := TreeNode(7)), copy(original), original).val}\")\n",
    "print(f\"Case 3: {S.getTargetCopy_DFS_recursion((original := TreeNode(8, None, TreeNode(6, None, TreeNode(5, None, TreeNode(4, None, TreeNode(3, None, TreeNode(2, None, TreeNode(1)))))))), copy(original), original.right.right.right).val}\\n\")\n",
    "\n",
    "print(\"---getTargetCopy_BFS---\")\n",
    "print(f\"Case 1: {S.getTargetCopy_BFS((original := TreeNode(7, TreeNode(4), TreeNode(3, TreeNode(6), TreeNode(19)))), copy(original), original.right).val}\")\n",
    "print(f\"Case 2: {S.getTargetCopy_BFS((original := TreeNode(7)), copy(original), original).val}\")\n",
    "print(f\"Case 3: {S.getTargetCopy_BFS((original := TreeNode(8, None, TreeNode(6, None, TreeNode(5, None, TreeNode(4, None, TreeNode(3, None, TreeNode(2, None, TreeNode(1)))))))), copy(original), original.right.right.right).val}\\n\")\n",
    "\n",
    "print(\"---getTargetCopy_DFS_iteration---\")\n",
    "print(f\"Case 1: {S.getTargetCopy_DFS_iteration((original := TreeNode(7, TreeNode(4), TreeNode(3, TreeNode(6), TreeNode(19)))), copy(original), original.right).val}\")\n",
    "print(f\"Case 2: {S.getTargetCopy_DFS_iteration((original := TreeNode(7)), copy(original), original).val}\")\n",
    "print(f\"Case 3: {S.getTargetCopy_DFS_iteration((original := TreeNode(8, None, TreeNode(6, None, TreeNode(5, None, TreeNode(4, None, TreeNode(3, None, TreeNode(2, None, TreeNode(1)))))))), copy(original), original.right.right.right).val}\\n\")\n"
   ]
  }
 ],
 "metadata": {
  "kernelspec": {
   "display_name": "Python 3 (ipykernel)",
   "language": "python",
   "name": "python3"
  },
  "language_info": {
   "codemirror_mode": {
    "name": "ipython",
    "version": 3
   },
   "file_extension": ".py",
   "mimetype": "text/x-python",
   "name": "python",
   "nbconvert_exporter": "python",
   "pygments_lexer": "ipython3",
   "version": "3.10.4"
  },
  "vscode": {
   "interpreter": {
    "hash": "21d8332eb27bea95342760850bd7426f517b6a483537194bbba87e10eeabf6ff"
   }
  }
 },
 "nbformat": 4,
 "nbformat_minor": 4
}
