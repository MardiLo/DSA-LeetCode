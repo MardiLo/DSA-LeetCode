{
 "cells": [
  {
   "cell_type": "markdown",
   "metadata": {},
   "source": [
    "`# Binary Tree` `# Depth-First Search` `# Tree`"
   ]
  },
  {
   "cell_type": "markdown",
   "metadata": {},
   "source": [
    "Given the `root` of a binary tree and an integer `targetSum`, return *the number of paths where the sum of the values along the path equals* `targetSum`.\n",
    "\n",
    "The path does not need to start or end at the root or a leaf, but it must go downwards (i.e., traveling only from parent nodes to child nodes)."
   ]
  },
  {
   "cell_type": "markdown",
   "metadata": {},
   "source": [
    "**Example 1:**  \n",
    "![Image of leetcode 0437 problem example 1](https://assets.leetcode.com/uploads/2021/04/09/pathsum3-1-tree.jpg)\n",
    "> Input: root = [10,5,-3,3,2,null,11,3,-2,null,1], targetSum = 8  \n",
    "> Output: 3  \n",
    "> Explanation: The paths that sum to 8 are shown.  \n",
    "\n",
    "**Example 2:**\n",
    "\n",
    "> Input: root = [5,4,8,11,null,13,4,7,2,null,null,5,1], targetSum = 22  \n",
    "> Output: 3  "
   ]
  },
  {
   "cell_type": "code",
   "execution_count": 1,
   "metadata": {},
   "outputs": [],
   "source": [
    "class TreeNode:\n",
    "    def __init__(self, val=0, left=None, right=None):\n",
    "        self.val = val\n",
    "        self.left = left\n",
    "        self.right = right\n",
    "\n",
    "class Solution:   \n",
    "    \n",
    "    # Time Complexity： O(n)\n",
    "    # Space Complexity： O(h+n), h is for keeping dfs stack, n if for memorizing the pathSumRecord\n",
    "    def pathSum(self, root: TreeNode, targetSum: int) -> int:\n",
    "        from collections import defaultdict\n",
    "\n",
    "        self.ans, self.pathSumRecord = 0, defaultdict(int, {0: 1})    # 0: 1 is for curSum == target\n",
    "\n",
    "        def dfs(root: TreeNode, curSum: int) -> None:\n",
    "            if not root: return \n",
    "            \n",
    "            curSum += root.val\n",
    "            self.ans += self.pathSumRecord[curSum - targetSum]        # if an oldSum in the pathSumRecord, it means we find a path sum equal to the targrtSum\n",
    "            self.pathSumRecord[curSum] += 1                           # record current path sum\n",
    "            \n",
    "            dfs(root.left, curSum); dfs(root.right, curSum)\n",
    "            \n",
    "            self.pathSumRecord[curSum] -= 1                           # after traversing a leaf node and returning back, the currPathSum is no longer available\n",
    "            \n",
    "        dfs(root, 0)\n",
    "        return self.ans"
   ]
  },
  {
   "cell_type": "code",
   "execution_count": 2,
   "metadata": {},
   "outputs": [
    {
     "name": "stdout",
     "output_type": "stream",
     "text": [
      "Case 1: 3\n",
      "Case 2: 3\n"
     ]
    }
   ],
   "source": [
    "# Test on Cases\n",
    "S = Solution()\n",
    "\n",
    "print(f\"Case 1: {S.pathSum(TreeNode(10, TreeNode(5, TreeNode(3, TreeNode(3), TreeNode(-2)), TreeNode(2, None, TreeNode(1))), TreeNode(-3, None, TreeNode(11))), 8)}\")\n",
    "print(f\"Case 2: {S.pathSum(TreeNode(5, TreeNode(4, TreeNode(11, TreeNode(7), TreeNode(2))), TreeNode(8, TreeNode(13, TreeNode(5), TreeNode(1)), TreeNode(4))), 22)}\")"
   ]
  },
  {
   "cell_type": "markdown",
   "metadata": {},
   "source": [
    "**Ref**\n",
    "1. [Python step-by-step walk through. Easy to understand. Two solutions comparison. : )](https://leetcode.com/problems/path-sum-iii/discuss/141424/Python-step-by-step-walk-through.-Easy-to-understand.-Two-solutions-comparison.-%3A-)"
   ]
  }
 ],
 "metadata": {
  "kernelspec": {
   "display_name": "Python 3 (ipykernel)",
   "language": "python",
   "name": "python3"
  },
  "language_info": {
   "codemirror_mode": {
    "name": "ipython",
    "version": 3
   },
   "file_extension": ".py",
   "mimetype": "text/x-python",
   "name": "python",
   "nbconvert_exporter": "python",
   "pygments_lexer": "ipython3",
   "version": "3.10.4"
  },
  "vscode": {
   "interpreter": {
    "hash": "21d8332eb27bea95342760850bd7426f517b6a483537194bbba87e10eeabf6ff"
   }
  }
 },
 "nbformat": 4,
 "nbformat_minor": 4
}
