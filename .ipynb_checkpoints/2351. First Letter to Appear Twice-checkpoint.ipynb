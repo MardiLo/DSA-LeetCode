{
 "cells": [
  {
   "cell_type": "markdown",
   "metadata": {},
   "source": [
    "`# Counting` `# Hash Table` `# String`"
   ]
  },
  {
   "cell_type": "markdown",
   "metadata": {},
   "source": [
    "Given a string `s` consisting of lowercase English letters, return *the first letter to appear ***twice***.*\n",
    "\n",
    "**Note**:\n",
    "\n",
    "- A letter `a` appears twice before another letter `b` if the **second** occurrence of `a` is before the **second** occurrence of `b`.\n",
    "- `s` will contain at least one letter that appears twice."
   ]
  },
  {
   "cell_type": "markdown",
   "metadata": {},
   "source": [
    "**Example 1:**\n",
    "\n",
    "> Input: s = \"abccbaacz\"  \n",
    "> Output: \"c\"  \n",
    "> Explanation:  \n",
    "> The letter 'a' appears on the indexes 0, 5 and 6.  \n",
    "> The letter 'b' appears on the indexes 1 and 4.  \n",
    "> The letter 'c' appears on the indexes 2, 3 and 7.  \n",
    "> The letter 'z' appears on the index 8.  \n",
    "> The letter 'c' is the first letter to appear twice, because out of all the letters the index of its second occurrence is the smallest.\n",
    "\n",
    "**Example 2:**\n",
    "\n",
    "> Input: s = \"abcdd\"  \n",
    "> Output: \"d\"  \n",
    "> Explanation:  \n",
    "> The only letter that appears twice is 'd' so we return 'd'."
   ]
  },
  {
   "cell_type": "code",
   "execution_count": 1,
   "metadata": {},
   "outputs": [],
   "source": [
    "class Solution:\n",
    "    \n",
    "    # Time Complexity： O(n)\n",
    "    # Space Complexity： O(n)\n",
    "    def repeatedCharacter(self, s: str) -> str:\n",
    "        seen = set()\n",
    "        \n",
    "        for c in s:\n",
    "            if c in seen: return c\n",
    "            seen.add(c)"
   ]
  },
  {
   "cell_type": "code",
   "execution_count": 2,
   "metadata": {},
   "outputs": [
    {
     "name": "stdout",
     "output_type": "stream",
     "text": [
      "Case 1: c\n",
      "Case 2: d\n"
     ]
    }
   ],
   "source": [
    "# Test on Cases\n",
    "S = Solution()\n",
    "\n",
    "print(f\"Case 1: {S.repeatedCharacter('abccbaacz')}\")\n",
    "print(f\"Case 2: {S.repeatedCharacter('abcdd')}\")"
   ]
  }
 ],
 "metadata": {
  "kernelspec": {
   "display_name": "Python 3 (ipykernel)",
   "language": "python",
   "name": "python3"
  },
  "language_info": {
   "codemirror_mode": {
    "name": "ipython",
    "version": 3
   },
   "file_extension": ".py",
   "mimetype": "text/x-python",
   "name": "python",
   "nbconvert_exporter": "python",
   "pygments_lexer": "ipython3",
   "version": "3.10.4"
  },
  "vscode": {
   "interpreter": {
    "hash": "21d8332eb27bea95342760850bd7426f517b6a483537194bbba87e10eeabf6ff"
   }
  }
 },
 "nbformat": 4,
 "nbformat_minor": 4
}
