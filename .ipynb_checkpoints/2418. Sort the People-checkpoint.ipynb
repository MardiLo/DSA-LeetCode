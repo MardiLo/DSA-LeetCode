{
 "cells": [
  {
   "cell_type": "markdown",
   "metadata": {},
   "source": [
    "`# Array` `# Sorting`"
   ]
  },
  {
   "cell_type": "markdown",
   "metadata": {},
   "source": [
    "You are given an array of strings `names`, and an array `heights` that consists of **distinct** positive integers. Both arrays are of length `n`.\n",
    "\n",
    "For each index `i`, `names[i]` and `heights[i]` denote the name and height of the `i`<sup>`th`</sup> person.\n",
    "\n",
    "Return `names` *sorted in ***descending*** order by the people's heights.*"
   ]
  },
  {
   "cell_type": "markdown",
   "metadata": {},
   "source": [
    "**Example 1:**\n",
    "\n",
    "> Input: names = [\"Mary\",\"John\",\"Emma\"], heights = [180,165,170]  \n",
    "> Output: [\"Mary\",\"Emma\",\"John\"]  \n",
    "> Explanation: Mary is the tallest, followed by Emma and John. \n",
    "\n",
    "**Example 2**\n",
    "\n",
    "> Input: names = [\"Alice\",\"Bob\",\"Bob\"], heights = [155,185,150]  \n",
    "> Output: [\"Bob\",\"Alice\",\"Bob\"]  \n",
    "> Explanation: The first Bob is the tallest, followed by Alice and the second Bob.\n"
   ]
  },
  {
   "cell_type": "code",
   "execution_count": 3,
   "metadata": {},
   "outputs": [],
   "source": [
    "class Solution:\n",
    "    \n",
    "    # Time Complexity： O(nlogn)\n",
    "    # Space Complexity： O(n)\n",
    "    def sortPeople(self, names: list[str], heights: list[int]) -> list[str]:\n",
    "        return [name for height, name in sorted(zip(heights, names), reverse=True)]\n",
    "        "
   ]
  },
  {
   "cell_type": "code",
   "execution_count": 4,
   "metadata": {},
   "outputs": [
    {
     "name": "stdout",
     "output_type": "stream",
     "text": [
      "Case 1: ['Mary', 'Emma', 'John']\n",
      "Case 2: ['Bob', 'Alice', 'Bob']\n"
     ]
    }
   ],
   "source": [
    "# Test on Cases\n",
    "S = Solution()\n",
    "\n",
    "print(f\"Case 1: {S.sortPeople(names=['Mary','John','Emma'], heights=[180,165,170])}\")\n",
    "print(f\"Case 2: {S.sortPeople(names=['Alice','Bob','Bob'], heights=[155,185,150])}\")"
   ]
  }
 ],
 "metadata": {
  "kernelspec": {
   "display_name": "Python 3 (ipykernel)",
   "language": "python",
   "name": "python3"
  },
  "language_info": {
   "codemirror_mode": {
    "name": "ipython",
    "version": 3
   },
   "file_extension": ".py",
   "mimetype": "text/x-python",
   "name": "python",
   "nbconvert_exporter": "python",
   "pygments_lexer": "ipython3",
   "version": "3.10.4"
  },
  "vscode": {
   "interpreter": {
    "hash": "21d8332eb27bea95342760850bd7426f517b6a483537194bbba87e10eeabf6ff"
   }
  }
 },
 "nbformat": 4,
 "nbformat_minor": 4
}
