{
 "cells": [
  {
   "cell_type": "markdown",
   "metadata": {},
   "source": [
    "`# Array` `# Hash Table`"
   ]
  },
  {
   "cell_type": "markdown",
   "metadata": {},
   "source": [
    "Given an array `nums` of `n` integers where `nums[i]` is in the range `[1, n]`, return *an array of all the integers in the range* `[1, n]` *that do not appear in* `nums`."
   ]
  },
  {
   "cell_type": "markdown",
   "metadata": {},
   "source": [
    "**Example 1:**\n",
    "\n",
    "> Input: [4,3,2,7,8,2,3,1]  \n",
    "> Output: [5,6]  \n",
    "\n",
    "**Example 2:**\n",
    "\n",
    "> Input: nums = [1,1]  \n",
    "> Output: [2]  "
   ]
  },
  {
   "cell_type": "code",
   "execution_count": 3,
   "metadata": {},
   "outputs": [],
   "source": [
    "class Solution:\n",
    "    \n",
    "    # Time Complexity： O(n)\n",
    "    # Space Complexity： O(n)\n",
    "    def findDisappearedNumbers_set(self, nums: list[int]) -> list[int]:\n",
    "        s = set(nums)\n",
    "\n",
    "        return [i for i in range(1, len(nums)+1) if i not in s]\n",
    "\n",
    "    # Time Complexity： O(n)\n",
    "    # Space Complexity： O(1)\n",
    "    def findDisappearedNumbers_index(self, nums: list[int]) -> list[int]:\n",
    "        for num in nums:\n",
    "            idx = abs(num) - 1\n",
    "            nums[idx] = -abs(nums[idx])\n",
    "\n",
    "        return [i+1 for i in range(len(nums)) if nums[i] > 0]"
   ]
  },
  {
   "cell_type": "code",
   "execution_count": 4,
   "metadata": {},
   "outputs": [
    {
     "name": "stdout",
     "output_type": "stream",
     "text": [
      "---findDisappearedNumbers_set---\n",
      "Case 1: [5, 6]\n",
      "Case 2: [2]\n",
      "\n",
      "---findDisappearedNumbers_index---\n",
      "Case 1: [5, 6]\n",
      "Case 2: [2]\n",
      "\n"
     ]
    }
   ],
   "source": [
    "# Test on Cases\n",
    "S = Solution()\n",
    "\n",
    "print(\"---findDisappearedNumbers_set---\")\n",
    "print(f\"Case 1: {S.findDisappearedNumbers_set([4,3,2,7,8,2,3,1])}\")\n",
    "print(f\"Case 2: {S.findDisappearedNumbers_set([1,1])}\\n\")\n",
    "\n",
    "print(\"---findDisappearedNumbers_index---\")\n",
    "print(f\"Case 1: {S.findDisappearedNumbers_index([4,3,2,7,8,2,3,1])}\")\n",
    "print(f\"Case 2: {S.findDisappearedNumbers_index([1,1])}\\n\")"
   ]
  }
 ],
 "metadata": {
  "interpreter": {
   "hash": "21d8332eb27bea95342760850bd7426f517b6a483537194bbba87e10eeabf6ff"
  },
  "kernelspec": {
   "display_name": "Python 3 (ipykernel)",
   "language": "python",
   "name": "python3"
  },
  "language_info": {
   "codemirror_mode": {
    "name": "ipython",
    "version": 3
   },
   "file_extension": ".py",
   "mimetype": "text/x-python",
   "name": "python",
   "nbconvert_exporter": "python",
   "pygments_lexer": "ipython3",
   "version": "3.10.4"
  }
 },
 "nbformat": 4,
 "nbformat_minor": 4
}
