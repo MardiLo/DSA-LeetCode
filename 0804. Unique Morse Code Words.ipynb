{
 "cells": [
  {
   "cell_type": "markdown",
   "metadata": {},
   "source": [
    "`# Array` `# Hash Table` `# String`"
   ]
  },
  {
   "cell_type": "markdown",
   "metadata": {},
   "source": [
    "International Morse Code defines a standard encoding where each letter is mapped to a series of dots and dashes, as follows:\n",
    "\n",
    "- `'a'` maps to `\".-\"`,\n",
    "- `'b'` maps to `\"-...\"`,\n",
    "- `'c'` maps to `\"-.-.\"`, and so on.  \n",
    "\n",
    "For convenience, the full table for the `26` letters of the English alphabet is given below:\n",
    "> [\".-\",\"-...\",\"-.-.\",\"-..\",\".\",\"..-.\",\"--.\",\"....\",\"..\",\".---\",\"-.-\",\".-..\",\"--\",\"-.\",\"---\",\".--.\",\"--.-\",\".-.\",\"...\",\"-\",\"..-\",\"...-\",\".--\",\"-..-\",\"-.--\",\"--..\"]\n",
    "\n",
    "Given an array of strings `words` where each word can be written as a concatenation of the Morse code of each letter.  \n",
    "\n",
    "- For example, `\"cab\"` can be written as `\"-.-..--...\"`, which is the concatenation of `\"-.-.\"`, `\".-\"`, and `\"-...\"`. We will call such a concatenation the transformation of a \n",
    "word.\n",
    "\n",
    "Return *the number of different ***transformations*** among all words we have*."
   ]
  },
  {
   "cell_type": "markdown",
   "metadata": {},
   "source": [
    "**Example 1:**\n",
    "\n",
    "> Input: words = [\"gin\",\"zen\",\"gig\",\"msg\"]  \n",
    "Output: 2  \n",
    "Explanation: The transformation of each word is:  \n",
    "\"gin\" -> \"--...-.\"  \n",
    "\"zen\" -> \"--...-.\"  \n",
    "\"gig\" -> \"--...--.\"  \n",
    "\"msg\" -> \"--...--.\"  \n",
    "There are 2 different transformations: \"--...-.\" and \"--...--.\".  \n",
    "\n",
    "**Example 2**\n",
    "\n",
    "> Input: words = [\"a\"]  \n",
    "Output: 1   "
   ]
  },
  {
   "cell_type": "code",
   "execution_count": 3,
   "metadata": {},
   "outputs": [],
   "source": [
    "class Solution:\n",
    "    \n",
    "    # Time Complexity： O(mn), where m is the length of each word, and n is the number of the word in the word list\n",
    "    # Space Complexity： O(gn), where g is the length of each word in morse code\n",
    "    def uniqueMorseRepresentations(self, words: list[str]) -> int:\n",
    "        morseCode = [\".-\", \"-...\", \"-.-.\", \"-..\", \".\", \"..-.\", \"--.\", \"....\", \"..\", \".---\", \"-.-\", \".-..\", \"--\", \n",
    "                     \"-.\", \"---\", \".--.\", \"--.-\", \".-.\", \"...\", \"-\", \"..-\", \"...-\", \".--\", \"-..-\", \"-.--\", \"--..\"]\n",
    "        \n",
    "        return len({''.join(morseCode[(ord(c)-ord('a'))] for c in word) for word in words})\n",
    "        "
   ]
  },
  {
   "cell_type": "code",
   "execution_count": 4,
   "metadata": {},
   "outputs": [
    {
     "name": "stdout",
     "output_type": "stream",
     "text": [
      "Case 1: 2\n",
      "Case 2: 1\n"
     ]
    }
   ],
   "source": [
    "# Test on Cases\n",
    "S = Solution()\n",
    "\n",
    "print(f\"Case 1: {S.uniqueMorseRepresentations(['gin','zen','gig','msg'])}\")\n",
    "print(f\"Case 2: {S.uniqueMorseRepresentations(['a'])}\")"
   ]
  }
 ],
 "metadata": {
  "kernelspec": {
   "display_name": "Python 3.10.4 ('leetcode')",
   "language": "python",
   "name": "python3"
  },
  "language_info": {
   "codemirror_mode": {
    "name": "ipython",
    "version": 3
   },
   "file_extension": ".py",
   "mimetype": "text/x-python",
   "name": "python",
   "nbconvert_exporter": "python",
   "pygments_lexer": "ipython3",
   "version": "3.10.4"
  },
  "vscode": {
   "interpreter": {
    "hash": "21d8332eb27bea95342760850bd7426f517b6a483537194bbba87e10eeabf6ff"
   }
  }
 },
 "nbformat": 4,
 "nbformat_minor": 4
}
