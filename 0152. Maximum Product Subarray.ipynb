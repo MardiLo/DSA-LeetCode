{
 "cells": [
  {
   "cell_type": "markdown",
   "metadata": {},
   "source": [
    "`# Array` `# Dynamic Programming`"
   ]
  },
  {
   "cell_type": "markdown",
   "metadata": {},
   "source": [
    "Given an integer array `nums`, find a contiguous non-empty subarray within the array that has the largest product, and return *the product*.\n",
    "\n",
    "It is guaranteed that the answer will fit in a 32-bit integer.\n",
    "\n",
    "A subarray is a contiguous subsequence of the array."
   ]
  },
  {
   "cell_type": "markdown",
   "metadata": {},
   "source": [
    "**Example 1:**\n",
    "\n",
    "> Input: nums = [2,3,-2,4]  \n",
    "> Output: 6  \n",
    "> Explanation: [2,3] has the largest product 6.\n",
    "\n",
    "**Example 2:**\n",
    "\n",
    "> Input: nums = [-2,0,-1]  \n",
    "> Output: 0  \n",
    "> Explanation: The result cannot be 2, because [-2,-1] is not a subarray."
   ]
  },
  {
   "cell_type": "code",
   "execution_count": 1,
   "metadata": {},
   "outputs": [],
   "source": [
    "class Solution:\n",
    "    \n",
    "    # Time Complexity： O(n)\n",
    "    # Space Complexity： O(n)\n",
    "    def maxProduct(self, nums: list[int]) -> int: \n",
    "        \"\"\"\n",
    "        1) We will have a negative result if there are 'odd' numbers of negative -> max(product of [0, last negative), product of (first negative, last num])\n",
    "        2) We will have a positive result if there are 'even' numbers of negative -> product of all the numbers\n",
    "        Above all, we can get the max by going through the array from both start and end, then we won't miss any situations\n",
    "\n",
    "        If there is a zero, that means we would have two sub-problems, and we can seperate these sub-problems by mutiplying 1 on the new start number\n",
    "        \"\"\"\n",
    "        \n",
    "        nums = nums * 2\n",
    "\n",
    "        for i in range(1, len(nums)//2):\n",
    "            nums[i] *= (nums[i-1] or 1); nums[~i] *= (nums[~i+1] or 1)\n",
    "\n",
    "        return max(nums)\n",
    "    \n",
    "    # Time Complexity： O(n)\n",
    "    # Space Complexity： O(n)\n",
    "    def maxProduct_oneliner(self, nums: list[int]) -> int: \n",
    "        from itertools import accumulate\n",
    "\n",
    "        return max(map(lambda n: max(accumulate(n, lambda x, y: y * (x or 1))), (nums, nums[::-1])))"
   ]
  },
  {
   "cell_type": "code",
   "execution_count": 2,
   "metadata": {},
   "outputs": [
    {
     "name": "stdout",
     "output_type": "stream",
     "text": [
      "---maxProduct---\n",
      "Case 1: 6\n",
      "Case 2: 0\n",
      "\n",
      "---maxProduct_oneliner---\n",
      "Case 1: 6\n",
      "Case 2: 0\n"
     ]
    }
   ],
   "source": [
    "# Test on Cases\n",
    "S = Solution()\n",
    "\n",
    "print(\"---maxProduct---\")\n",
    "print(f\"Case 1: {S.maxProduct([2,3,-2,4])}\")\n",
    "print(f\"Case 2: {S.maxProduct([-2,0,-1])}\\n\")\n",
    "\n",
    "print(\"---maxProduct_oneliner---\")\n",
    "print(f\"Case 1: {S.maxProduct_oneliner([2,3,-2,4])}\")\n",
    "print(f\"Case 2: {S.maxProduct_oneliner([-2,0,-1])}\")"
   ]
  }
 ],
 "metadata": {
  "kernelspec": {
   "display_name": "Python 3 (ipykernel)",
   "language": "python",
   "name": "python3"
  },
  "language_info": {
   "codemirror_mode": {
    "name": "ipython",
    "version": 3
   },
   "file_extension": ".py",
   "mimetype": "text/x-python",
   "name": "python",
   "nbconvert_exporter": "python",
   "pygments_lexer": "ipython3",
   "version": "3.10.4"
  },
  "vscode": {
   "interpreter": {
    "hash": "21d8332eb27bea95342760850bd7426f517b6a483537194bbba87e10eeabf6ff"
   }
  }
 },
 "nbformat": 4,
 "nbformat_minor": 4
}
