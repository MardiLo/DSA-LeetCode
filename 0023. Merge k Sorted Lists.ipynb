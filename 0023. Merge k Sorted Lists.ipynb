{
 "cells": [
  {
   "attachments": {},
   "cell_type": "markdown",
   "metadata": {},
   "source": [
    "`# Divide and Conquer` `# Heap (Priority Queue)` `# Linked List` `# Merge Sort`"
   ]
  },
  {
   "attachments": {},
   "cell_type": "markdown",
   "metadata": {},
   "source": [
    "You are given an array of `k` linked-lists `lists`, each linked-list is sorted in ascending order.\n",
    "\n",
    "*Merge all the linked-lists into one sorted linked-list and return it.*"
   ]
  },
  {
   "attachments": {},
   "cell_type": "markdown",
   "metadata": {},
   "source": [
    "**Example 1:**  \n",
    "\n",
    "> Input: lists = [[1,4,5],[1,3,4],[2,6]]  \n",
    "> Output: [1,1,2,3,4,4,5,6]  \n",
    "> Explanation: The linked-lists are:  \n",
    "> [  \n",
    ">   1->4->5,  \n",
    ">   1->3->4,  \n",
    ">   2->6  \n",
    "> ]  \n",
    "> merging them into one sorted list:  \n",
    "> 1->1->2->3->4->4->5->6\n",
    "\n",
    "**Example 2:**\n",
    "\n",
    "> Input: lists = []  \n",
    "> Output: []\n",
    "\n",
    "**Example 3:**\n",
    "\n",
    "> Input: lists = [[]]  \n",
    "> Output: []"
   ]
  },
  {
   "cell_type": "code",
   "execution_count": 1,
   "metadata": {},
   "outputs": [],
   "source": [
    "class ListNode:\n",
    "    def __init__(self, val=0, next=None):\n",
    "        self.val = val\n",
    "        self.next = next\n",
    "        \n",
    "    def list2LinkedList(self, lst):\n",
    "        if not lst: return []\n",
    "\n",
    "        cur = dummy = ListNode(0)\n",
    "        for node in lst:\n",
    "            cur.next = ListNode(node)\n",
    "            cur = cur.next\n",
    "\n",
    "        return dummy.next\n",
    "\n",
    "class Solution:\n",
    "    \n",
    "    # Time Complexity： O(nlogk)\n",
    "    # Space Complexity： O(k)\n",
    "    def mergeKLists(self, lists: list[ListNode]) -> ListNode:\n",
    "        from heapq import heapify, heappop, heappush\n",
    "\n",
    "        dummy = head = ListNode(None)\n",
    "\n",
    "        heapify(heap := [(ls.val, i) for i, ls in enumerate(lists) if ls])\n",
    "\n",
    "        while heap:\n",
    "            _, i = heappop(heap)\n",
    "            head.next = lists[i]\n",
    "            head = head.next\n",
    "\n",
    "            if lists[i].next:\n",
    "                lists[i] = lists[i].next\n",
    "                heappush(heap, (lists[i].val, i))\n",
    "\n",
    "        return dummy.next"
   ]
  },
  {
   "cell_type": "code",
   "execution_count": 2,
   "metadata": {},
   "outputs": [
    {
     "name": "stdout",
     "output_type": "stream",
     "text": [
      "Case 1: [1, 1, 2, 3, 4, 4, 5, 6]\n",
      "Case 2: []\n",
      "Case 3: []\n"
     ]
    }
   ],
   "source": [
    "# Test on Cases\n",
    "from leetcodepractice import Print\n",
    "\n",
    "S, P, L = Solution(), Print(), ListNode()\n",
    "\n",
    "print(f\"Case 1: {P.LinkedListTraversal(S.mergeKLists([L.list2LinkedList([1,4,5]), L.list2LinkedList([1,3,4]), L.list2LinkedList([2,6])]))}\")\n",
    "print(f\"Case 2: {P.LinkedListTraversal(S.mergeKLists([]))}\")\n",
    "print(f\"Case 3: {P.LinkedListTraversal(S.mergeKLists([[]]))}\")"
   ]
  }
 ],
 "metadata": {
  "kernelspec": {
   "display_name": "Python 3 (ipykernel)",
   "language": "python",
   "name": "python3"
  },
  "language_info": {
   "codemirror_mode": {
    "name": "ipython",
    "version": 3
   },
   "file_extension": ".py",
   "mimetype": "text/x-python",
   "name": "python",
   "nbconvert_exporter": "python",
   "pygments_lexer": "ipython3",
   "version": "3.10.4"
  },
  "vscode": {
   "interpreter": {
    "hash": "21d8332eb27bea95342760850bd7426f517b6a483537194bbba87e10eeabf6ff"
   }
  }
 },
 "nbformat": 4,
 "nbformat_minor": 4
}
