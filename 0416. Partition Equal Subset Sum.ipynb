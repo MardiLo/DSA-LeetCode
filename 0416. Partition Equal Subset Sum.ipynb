{
 "cells": [
  {
   "cell_type": "markdown",
   "metadata": {},
   "source": [
    "`# Array` `# Dynamic Programming`"
   ]
  },
  {
   "cell_type": "markdown",
   "metadata": {},
   "source": [
    "Given a non-empty array `nums` containing only **positive integers**, find if the array can be partitioned into two subsets such that the sum of elements in both subsets is equal."
   ]
  },
  {
   "cell_type": "markdown",
   "metadata": {},
   "source": [
    "**Example 1:**  \n",
    "\n",
    "> Input: nums = [1,5,11,5]  \n",
    "Output: true  \n",
    "Explanation: The array can be partitioned as [1, 5, 5] and [11].  \n",
    "\n",
    "**Example 2:**  \n",
    "\n",
    "> Input: nums = [1,2,3,5]  \n",
    "Output: false  \n",
    "Explanation: The array cannot be partitioned into equal sum subsets.  "
   ]
  },
  {
   "cell_type": "code",
   "execution_count": 3,
   "metadata": {},
   "outputs": [],
   "source": [
    "class Solution:\n",
    "    \n",
    "    # Time Complexity： O(n*sum(nums))\n",
    "    # Space Complexity： O(sum(nums))    \n",
    "    def canPartition(self, nums: list[int]) -> bool:\n",
    "        target, remainder = divmod(sum(nums), 2)\n",
    "\n",
    "        if not remainder:                                                  # if half of sum is an integer\n",
    "            sumCombination = {0}\n",
    "            \n",
    "            for num in nums:             \n",
    "                sumCombination |= {num + cbt for cbt in sumCombination}    # TC: O(sum(nums)); SC: O(sum(nums)), \"|\" is a union operator for a set\n",
    "                if target in sumCombination: return True\n",
    "                \n",
    "        return False"
   ]
  },
  {
   "cell_type": "code",
   "execution_count": 4,
   "metadata": {},
   "outputs": [
    {
     "name": "stdout",
     "output_type": "stream",
     "text": [
      "Case 1: True\n",
      "Case 2: False\n"
     ]
    }
   ],
   "source": [
    "# Test on Cases\n",
    "S = Solution()\n",
    "\n",
    "print(f\"Case 1: {S.canPartition([1,5,11,5])}\")\n",
    "print(f\"Case 2: {S.canPartition([1,2,3,5])}\")"
   ]
  },
  {
   "cell_type": "markdown",
   "metadata": {},
   "source": [
    "**Ref**\n",
    "1. [simple solution without using dynamic programing](https://leetcode.com/problems/partition-equal-subset-sum/discuss/90668/simple-solution-without-using-dynamic-programing)\n",
    "2. [Partition Equal Subset Sum - Dynamic Programming - Leetcode 416 - Python](https://www.youtube.com/watch?v=IsvocB5BJhw&ab_channel=NeetCode)"
   ]
  }
 ],
 "metadata": {
  "kernelspec": {
   "display_name": "Python 3.10.4 ('leetcode')",
   "language": "python",
   "name": "python3"
  },
  "language_info": {
   "codemirror_mode": {
    "name": "ipython",
    "version": 3
   },
   "file_extension": ".py",
   "mimetype": "text/x-python",
   "name": "python",
   "nbconvert_exporter": "python",
   "pygments_lexer": "ipython3",
   "version": "3.10.4"
  },
  "vscode": {
   "interpreter": {
    "hash": "21d8332eb27bea95342760850bd7426f517b6a483537194bbba87e10eeabf6ff"
   }
  }
 },
 "nbformat": 4,
 "nbformat_minor": 4
}
