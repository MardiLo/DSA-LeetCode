{
 "cells": [
  {
   "attachments": {},
   "cell_type": "markdown",
   "metadata": {},
   "source": [
    "`# Array` `# Sorting` `# Two Pointers`"
   ]
  },
  {
   "attachments": {},
   "cell_type": "markdown",
   "metadata": {},
   "source": [
    "Given an integer array `nums` sorted in **non-decreasing** order, return *an array of the ***squares of each number*** sorted in non-decreasing order.*"
   ]
  },
  {
   "attachments": {},
   "cell_type": "markdown",
   "metadata": {},
   "source": [
    "**Example 1:**\n",
    "\n",
    "> Input: nums = [-4,-1,0,3,10]  \n",
    "> Output: [0,1,9,16,100]  \n",
    "> Explanation: After squaring, the array becomes [16,1,0,9,100].  \n",
    "> After sorting, it becomes [0,1,9,16,100].\n",
    "\n",
    "**Example 2:**\n",
    "\n",
    "> Input: nums = [-7,-3,2,3,11]  \n",
    "> Output: [4,9,9,49,121]"
   ]
  },
  {
   "cell_type": "code",
   "execution_count": 5,
   "metadata": {},
   "outputs": [],
   "source": [
    "class Solution:\n",
    "\n",
    "    # Time Complexity： O(n)\n",
    "    # Space Complexity： O(1)\n",
    "    def sortedSquares_twoPointers(self, nums: list[int]) -> list[int]:\n",
    "        l, r, i, res = 0, len(nums)-1, len(nums)-1, [0] * len(nums)\n",
    "\n",
    "        while l <= r:\n",
    "            if abs(nums[r]) > abs(nums[l]): res[i] = nums[r] ** 2; r -= 1\n",
    "            else: res[i] = nums[l] ** 2; l += 1\n",
    "            i -= 1\n",
    "        \n",
    "        return res\n",
    "\n",
    "    # Time Complexity： O(nlogn)\n",
    "    # Space Complexity： O(1)\n",
    "    def sortedSquares_sorting(self, nums: list[int]) -> list[int]:\n",
    "        return sorted((num ** 2 for num in nums))"
   ]
  },
  {
   "cell_type": "code",
   "execution_count": 6,
   "metadata": {},
   "outputs": [
    {
     "name": "stdout",
     "output_type": "stream",
     "text": [
      "---sortedSquares_twoPointers---\n",
      "Case 1: [0, 1, 9, 16, 100]\n",
      "Case 2: [4, 9, 9, 49, 121]\n",
      "\n",
      "---sortedSquares_sorting---\n",
      "Case 1: [0, 1, 9, 16, 100]\n",
      "Case 2: [4, 9, 9, 49, 121]\n"
     ]
    }
   ],
   "source": [
    "# Test on Cases\n",
    "S = Solution()\n",
    "\n",
    "print(\"---sortedSquares_twoPointers---\")\n",
    "print(f\"Case 1: {S.sortedSquares_twoPointers([-4,-1,0,3,10])}\")\n",
    "print(f\"Case 2: {S.sortedSquares_twoPointers([-7,-3,2,3,11])}\\n\")\n",
    "\n",
    "print(\"---sortedSquares_sorting---\")\n",
    "print(f\"Case 1: {S.sortedSquares_sorting([-4,-1,0,3,10])}\")\n",
    "print(f\"Case 2: {S.sortedSquares_sorting([-7,-3,2,3,11])}\")"
   ]
  }
 ],
 "metadata": {
  "kernelspec": {
   "display_name": "Python 3 (ipykernel)",
   "language": "python",
   "name": "python3"
  },
  "language_info": {
   "codemirror_mode": {
    "name": "ipython",
    "version": 3
   },
   "file_extension": ".py",
   "mimetype": "text/x-python",
   "name": "python",
   "nbconvert_exporter": "python",
   "pygments_lexer": "ipython3",
   "version": "3.10.4"
  },
  "vscode": {
   "interpreter": {
    "hash": "21d8332eb27bea95342760850bd7426f517b6a483537194bbba87e10eeabf6ff"
   }
  }
 },
 "nbformat": 4,
 "nbformat_minor": 4
}
