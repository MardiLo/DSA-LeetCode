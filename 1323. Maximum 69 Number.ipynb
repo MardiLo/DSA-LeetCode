{
 "cells": [
  {
   "cell_type": "markdown",
   "metadata": {},
   "source": [
    "`# Greedy` `# Math`"
   ]
  },
  {
   "cell_type": "markdown",
   "metadata": {},
   "source": [
    "You are given a positive integer `num` consisting only of digits `6` and `9`.\n",
    "\n",
    "Return *the maximum number you can get by changing ***at most one*** digit (`6` becomes `9`, and `9` becomes `6`)*."
   ]
  },
  {
   "cell_type": "markdown",
   "metadata": {},
   "source": [
    "**Example 1:**\n",
    "\n",
    "> Input: num = 9669  \n",
    "Output: 9969  \n",
    "Explanation:   \n",
    "Changing the first digit results in 6669.  \n",
    "Changing the second digit results in 9969.  \n",
    "Changing the third digit results in 9699.  \n",
    "Changing the fourth digit results in 9666.  \n",
    "The maximum number is 9969.  \n",
    "\n",
    "**Example 2**\n",
    "\n",
    "> Input: num = 9996  \n",
    "Output: 9999  \n",
    "Explanation: Changing the last digit 6 to 9 results in the maximum number.  \n",
    "\n",
    "**Example 3:**\n",
    "\n",
    "> Input: num = 9999  \n",
    "Output: 9999  \n",
    "Explanation: It is better not to apply any change.  "
   ]
  },
  {
   "cell_type": "code",
   "execution_count": 2,
   "metadata": {},
   "outputs": [],
   "source": [
    "class Solution:\n",
    "    \n",
    "    # Time Complexity： O(n)\n",
    "    # Space Complexity： O(1)\n",
    "    def maximum69Number (self, num: int) -> int:\n",
    "        return int(str(num).replace('6', '9', 1))\n",
    "        "
   ]
  },
  {
   "cell_type": "code",
   "execution_count": 3,
   "metadata": {},
   "outputs": [
    {
     "name": "stdout",
     "output_type": "stream",
     "text": [
      "Case 1: 9969\n",
      "Case 2: 9999\n",
      "Case 3: 9999\n"
     ]
    }
   ],
   "source": [
    "# Test on Cases\n",
    "S = Solution()\n",
    "\n",
    "print(f\"Case 1: {S.maximum69Number(9669)}\")\n",
    "print(f\"Case 2: {S.maximum69Number(9996)}\")\n",
    "print(f\"Case 3: {S.maximum69Number(9999)}\")"
   ]
  }
 ],
 "metadata": {
  "kernelspec": {
   "display_name": "Python 3.10.4 ('leetcode')",
   "language": "python",
   "name": "python3"
  },
  "language_info": {
   "codemirror_mode": {
    "name": "ipython",
    "version": 3
   },
   "file_extension": ".py",
   "mimetype": "text/x-python",
   "name": "python",
   "nbconvert_exporter": "python",
   "pygments_lexer": "ipython3",
   "version": "3.10.4"
  },
  "vscode": {
   "interpreter": {
    "hash": "21d8332eb27bea95342760850bd7426f517b6a483537194bbba87e10eeabf6ff"
   }
  }
 },
 "nbformat": 4,
 "nbformat_minor": 4
}
