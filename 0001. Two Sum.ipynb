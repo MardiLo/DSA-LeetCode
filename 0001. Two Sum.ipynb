{
 "cells": [
  {
   "cell_type": "markdown",
   "source": [
    "`# Array` `# Hash Table`"
   ],
   "metadata": {}
  },
  {
   "cell_type": "markdown",
   "source": [
    "Given an array of integers `nums` and an integer `target`, return ***indices*** *of the two numbers such that they add up to* `target`.\r\n",
    "\r\n",
    "You may assume that each input would have **exactly one solution**, and you may **not use the same element twice**.\r\n",
    "\r\n",
    "You can return the answer in **any order**."
   ],
   "metadata": {}
  },
  {
   "cell_type": "markdown",
   "source": [
    "**Example 1:**\n",
    "\n",
    "> Input: nums = [2,7,11,15], target = 9  \n",
    "Output: [0,1]  \n",
    "Output: Because nums[0] + nums[1] == 9, we return [0, 1].  \n",
    "\n",
    "**Example 2**\n",
    "\n",
    "> Input: nums = [3,2,4], target = 6  \n",
    "Output: [1,2]  \n",
    "\n",
    "**Example 3:**\n",
    "\n",
    "> Input: nums = [3,3], target = 6  \n",
    "Output: [0,1]  "
   ],
   "metadata": {}
  },
  {
   "cell_type": "code",
   "execution_count": 1,
   "source": [
    "class Solution:\r\n",
    "    \r\n",
    "    # Time Complexity： O(n)\r\n",
    "    # Space Complexity： O(n)\r\n",
    "    def twoSum_hashTable(self, nums: 'List[int]', target: 'int') -> 'List[int]':\r\n",
    "        from collections import defaultdict\r\n",
    "        \r\n",
    "        dic = defaultdict(int)\r\n",
    "        \r\n",
    "        for i, num in enumerate(nums):                       # TC: O(n)\r\n",
    "            diff = target - num\r\n",
    "            \r\n",
    "            if diff in dic:\r\n",
    "                return [dic[diff], i]\r\n",
    "            else:\r\n",
    "                dic[num] = i                                 # SC: O(n)\r\n",
    "                \r\n",
    "                \r\n",
    "    # Time Complexity： O(nlogn)\r\n",
    "    # Space Complexity： O(n)\r\n",
    "    def twoSum_twoPointers(self, nums: 'List[int]', target: 'int') -> 'List[int]':\r\n",
    "        nums = sorted(enumerate(nums), key=lambda x:x[1])    # SC: O(n); TC: O(nlogn)\r\n",
    "        \r\n",
    "        l, r = 0, len(nums)-1\r\n",
    "        while l < r:                                         # TC: O(n)\r\n",
    "            s = nums[l][1] + nums[r][1]\r\n",
    "            \r\n",
    "            if s < target:\r\n",
    "                l += 1\r\n",
    "            elif s > target:\r\n",
    "                r -= 1\r\n",
    "            else:\r\n",
    "                return [nums[l][0], nums[r][0]]"
   ],
   "outputs": [],
   "metadata": {}
  },
  {
   "cell_type": "code",
   "execution_count": 2,
   "source": [
    "# Test on Cases\r\n",
    "S = Solution()\r\n",
    "\r\n",
    "print(\"---twoSum_hashTable---\")\r\n",
    "print(f\"Case 1: {S.twoSum_hashTable([2,7,11,15], 9)}\")\r\n",
    "print(f\"Case 2: {S.twoSum_hashTable([3,2,4], 6)}\")\r\n",
    "print(f\"Case 3: {S.twoSum_hashTable([3,3], 6)}\\n\")\r\n",
    "\r\n",
    "print(\"---twoSum_twoPointers---\")\r\n",
    "print(f\"Case 1: {S.twoSum_twoPointers([2,7,11,15], 9)}\")\r\n",
    "print(f\"Case 2: {S.twoSum_twoPointers([3,2,4], 6)}\")\r\n",
    "print(f\"Case 3: {S.twoSum_twoPointers([3,3], 6)}\")"
   ],
   "outputs": [
    {
     "output_type": "stream",
     "name": "stdout",
     "text": [
      "---twoSum_hashTable---\n",
      "Case 1: [0, 1]\n",
      "Case 2: [1, 2]\n",
      "Case 3: [0, 1]\n",
      "\n",
      "---twoSum_twoPointers---\n",
      "Case 1: [0, 1]\n",
      "Case 2: [1, 2]\n",
      "Case 3: [0, 1]\n"
     ]
    }
   ],
   "metadata": {}
  }
 ],
 "metadata": {
  "kernelspec": {
   "display_name": "Python 3",
   "language": "python",
   "name": "python3"
  },
  "language_info": {
   "codemirror_mode": {
    "name": "ipython",
    "version": 3
   },
   "file_extension": ".py",
   "mimetype": "text/x-python",
   "name": "python",
   "nbconvert_exporter": "python",
   "pygments_lexer": "ipython3",
   "version": "3.7.7"
  }
 },
 "nbformat": 4,
 "nbformat_minor": 4
}