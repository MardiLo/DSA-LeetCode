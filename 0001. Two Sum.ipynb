{
 "cells": [
  {
   "cell_type": "markdown",
   "metadata": {},
   "source": [
    "`# Array` `# Hash Table`"
   ]
  },
  {
   "cell_type": "markdown",
   "metadata": {},
   "source": [
    "Given an array of integers `nums` and an integer `target`, return *indices of the two numbers such that they add up to* `target`.\n",
    "\n",
    "You may assume that each input would have **exactly one solution**, and you may **not use the same element twice**.\n",
    "\n",
    "You can return the answer in **any order**."
   ]
  },
  {
   "cell_type": "markdown",
   "metadata": {},
   "source": [
    "**Example 1:**\n",
    "\n",
    "> Input: nums = [2,7,11,15], target = 9  \n",
    "Output: [0,1]  \n",
    "Output: Because nums[0] + nums[1] == 9, we return [0, 1].  \n",
    "\n",
    "**Example 2**\n",
    "\n",
    "> Input: nums = [3,2,4], target = 6  \n",
    "Output: [1,2]  \n",
    "\n",
    "**Example 3:**\n",
    "\n",
    "> Input: nums = [3,3], target = 6  \n",
    "Output: [0,1]  "
   ]
  },
  {
   "cell_type": "code",
   "execution_count": 1,
   "metadata": {},
   "outputs": [],
   "source": [
    "class Solution:\n",
    "    \n",
    "    # Time Complexity： O(n)\n",
    "    # Space Complexity： O(n)\n",
    "    def twoSum_hashTable(self, nums: 'List[int]', target: 'int') -> 'List[int]':\n",
    "        from collections import defaultdict\n",
    "        \n",
    "        dic = defaultdict(int)\n",
    "        \n",
    "        for i, num in enumerate(nums):                       # TC: O(n)\n",
    "            diff = target - num\n",
    "            \n",
    "            if diff in dic:\n",
    "                return [dic[diff], i]\n",
    "            else:\n",
    "                dic[num] = i                                 # SC: O(n)\n",
    "                \n",
    "    # Time Complexity： O(nlogn)\n",
    "    # Space Complexity： O(n)\n",
    "    def twoSum_twoPointers(self, nums: 'List[int]', target: 'int') -> 'List[int]':\n",
    "        nums = sorted(enumerate(nums), key=lambda x:x[1])    # SC: O(n); TC: O(nlogn)\n",
    "        \n",
    "        l, r = 0, len(nums)-1\n",
    "        while l < r:                                         # TC: O(n)\n",
    "            s = nums[l][1] + nums[r][1]\n",
    "            \n",
    "            if s < target:\n",
    "                l += 1\n",
    "            elif s > target:\n",
    "                r -= 1\n",
    "            else:\n",
    "                return [nums[l][0], nums[r][0]]"
   ]
  },
  {
   "cell_type": "code",
   "execution_count": 2,
   "metadata": {},
   "outputs": [
    {
     "name": "stdout",
     "output_type": "stream",
     "text": [
      "---twoSum_hashTable---\n",
      "Case 1: [0, 1]\n",
      "Case 2: [1, 2]\n",
      "Case 3: [0, 1]\n",
      "\n",
      "---twoSum_twoPointers---\n",
      "Case 1: [0, 1]\n",
      "Case 2: [1, 2]\n",
      "Case 3: [0, 1]\n"
     ]
    }
   ],
   "source": [
    "# Test on Cases\n",
    "S = Solution()\n",
    "\n",
    "print(\"---twoSum_hashTable---\")\n",
    "print(f\"Case 1: {S.twoSum_hashTable([2,7,11,15], 9)}\")\n",
    "print(f\"Case 2: {S.twoSum_hashTable([3,2,4], 6)}\")\n",
    "print(f\"Case 3: {S.twoSum_hashTable([3,3], 6)}\\n\")\n",
    "\n",
    "print(\"---twoSum_twoPointers---\")\n",
    "print(f\"Case 1: {S.twoSum_twoPointers([2,7,11,15], 9)}\")\n",
    "print(f\"Case 2: {S.twoSum_twoPointers([3,2,4], 6)}\")\n",
    "print(f\"Case 3: {S.twoSum_twoPointers([3,3], 6)}\")"
   ]
  },
  {
   "cell_type": "code",
   "execution_count": null,
   "metadata": {},
   "outputs": [],
   "source": []
  }
 ],
 "metadata": {
  "kernelspec": {
   "display_name": "Python 3",
   "language": "python",
   "name": "python3"
  },
  "language_info": {
   "codemirror_mode": {
    "name": "ipython",
    "version": 3
   },
   "file_extension": ".py",
   "mimetype": "text/x-python",
   "name": "python",
   "nbconvert_exporter": "python",
   "pygments_lexer": "ipython3",
   "version": "3.7.7"
  }
 },
 "nbformat": 4,
 "nbformat_minor": 4
}
