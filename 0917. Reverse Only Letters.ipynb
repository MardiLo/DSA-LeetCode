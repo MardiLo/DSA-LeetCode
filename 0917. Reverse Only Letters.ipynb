{
 "cells": [
  {
   "cell_type": "markdown",
   "metadata": {},
   "source": [
    "`# String` `# Two Pointers` "
   ]
  },
  {
   "cell_type": "markdown",
   "metadata": {},
   "source": [
    "Given a string `s`, reverse the string according to the following rules:\n",
    "\n",
    "- All the characters that are not English letters remain in the same position.\n",
    "- All the English letters (lowercase or uppercase) should be reversed.\n",
    "\n",
    "Return `s` after reversing it."
   ]
  },
  {
   "cell_type": "markdown",
   "metadata": {},
   "source": [
    "**Example 1:**\n",
    "\n",
    "> Input: s = \"ab-cd\"  \n",
    "Output: \"dc-ba\"  \n",
    "\n",
    "**Example 2:**\n",
    "\n",
    "> Input: s = \"a-bC-dEf-ghIj\"  \n",
    "Output: \"j-Ih-gfE-dCba\"  \n",
    "\n",
    "**Example 3:**\n",
    "\n",
    "> Input: s = \"Test1ng-Leet=code-Q!\"  \n",
    "Output: \"Qedo1ct-eeLg=ntse-T!\""
   ]
  },
  {
   "cell_type": "code",
   "execution_count": 1,
   "metadata": {},
   "outputs": [],
   "source": [
    "class Solution:\n",
    "    \n",
    "    # Time Complexity： O(n)\n",
    "    # Space Complexity： O(n)    \n",
    "    def reverseOnlyLetters_stack(self, s: str) -> str:\n",
    "        stack = [c for c in s if c.isalpha()]\n",
    "        \n",
    "        return ''.join(stack.pop() if c.isalpha() else c for c in s)\n",
    "\n",
    "    # Time Complexity： O(n)\n",
    "    # Space Complexity： O(n)    \n",
    "    def reverseOnlyLetters_twoPointers(self, s: str) -> str:\n",
    "        string, l, r = [c for c in s], 0, len(s)-1\n",
    "        \n",
    "        while l < r:\n",
    "            if not string[l].isalpha(): l += 1\n",
    "            elif not string[r].isalpha(): r -= 1\n",
    "            else: string[l], string[r] = string[r], string[l]; l += 1; r -= 1\n",
    "                \n",
    "        return ''.join(string)"
   ]
  },
  {
   "cell_type": "code",
   "execution_count": 2,
   "metadata": {},
   "outputs": [
    {
     "name": "stdout",
     "output_type": "stream",
     "text": [
      "---reverseOnlyLetters_stack---\n",
      "Case 1: dc-ba\n",
      "Case 2: j-Ih-gfE-dCba\n",
      "Case 3: Qedo1ct-eeLg=ntse-T!\n",
      "\n",
      "---reverseOnlyLetters_twoPointers---\n",
      "Case 1: dc-ba\n",
      "Case 2: j-Ih-gfE-dCba\n",
      "Case 3: Qedo1ct-eeLg=ntse-T!\n"
     ]
    }
   ],
   "source": [
    "# Test on Cases\n",
    "S = Solution()\n",
    "\n",
    "print(\"---reverseOnlyLetters_stack---\")\n",
    "print(f\"Case 1: {S.reverseOnlyLetters_stack('ab-cd')}\")\n",
    "print(f\"Case 2: {S.reverseOnlyLetters_stack('a-bC-dEf-ghIj')}\")\n",
    "print(f\"Case 3: {S.reverseOnlyLetters_stack('Test1ng-Leet=code-Q!')}\\n\")\n",
    "\n",
    "print(\"---reverseOnlyLetters_twoPointers---\")\n",
    "print(f\"Case 1: {S.reverseOnlyLetters_twoPointers('ab-cd')}\")\n",
    "print(f\"Case 2: {S.reverseOnlyLetters_twoPointers('a-bC-dEf-ghIj')}\")\n",
    "print(f\"Case 3: {S.reverseOnlyLetters_twoPointers('Test1ng-Leet=code-Q!')}\")"
   ]
  }
 ],
 "metadata": {
  "interpreter": {
   "hash": "21d8332eb27bea95342760850bd7426f517b6a483537194bbba87e10eeabf6ff"
  },
  "kernelspec": {
   "display_name": "Python 3.10.4 ('leetcode')",
   "language": "python",
   "name": "python3"
  },
  "language_info": {
   "codemirror_mode": {
    "name": "ipython",
    "version": 3
   },
   "file_extension": ".py",
   "mimetype": "text/x-python",
   "name": "python",
   "nbconvert_exporter": "python",
   "pygments_lexer": "ipython3",
   "version": "3.10.4 | packaged by conda-forge | (main, Mar 30 2022, 08:38:02) [MSC v.1916 64 bit (AMD64)]"
  }
 },
 "nbformat": 4,
 "nbformat_minor": 4
}
