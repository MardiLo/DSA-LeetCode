{
 "cells": [
  {
   "cell_type": "markdown",
   "metadata": {},
   "source": [
    "`# Array` `# Sorting` `# Two Pointers`"
   ]
  },
  {
   "cell_type": "markdown",
   "metadata": {},
   "source": [
    "Given an array `nums` of `n` integers, return *an array of all the* ***unique*** *quadruplets* `[nums[a], nums[b], nums[c], nums[d]]` such that:\n",
    "\n",
    "+ `0 <= a, b, c, d < n`\n",
    "+ `a`, `b`, `c`, and `d` are **distinct**.\n",
    "+ `nums[a] + nums[b] + nums[c] + nums[d] == target`\n",
    "\n",
    "You may return the answer in **any order**."
   ]
  },
  {
   "cell_type": "markdown",
   "metadata": {},
   "source": [
    "**Example 1:**\n",
    "\n",
    "> Input: nums = [1,0,-1,0,-2,2], target = 0  \n",
    "Output: [[-2,-1,1,2],[-2,0,0,2],[-1,0,0,1]]  \n",
    "\n",
    "**Example 2**\n",
    "\n",
    "> Input: nums = [2,2,2,2,2], target = 8  \n",
    "Output: [[2,2,2,2]]  \n"
   ]
  },
  {
   "cell_type": "code",
   "execution_count": 5,
   "metadata": {},
   "outputs": [],
   "source": [
    "class Solution:\n",
    "                \n",
    "    # Time Complexity： O(n^3)\n",
    "    # Space Complexity： O(n)   \n",
    "    def fourSum_twoPointers(self, nums: list[int], target: int) -> list[list[int]]:\n",
    "        from itertools import combinations\n",
    "\n",
    "        nums.sort(); res = set()                                    # TC: O(nlogn); SC: O(n), cause building a temp array. It's a little bit faster than sorted()\n",
    "        \n",
    "        for i, j in combinations(range(len(nums)-2), 2):            # TC: O(n^2)\n",
    "            l, r = j+1, len(nums)-1      \n",
    "\n",
    "            while l < r:                                            # TC: O(n)\n",
    "                if (s := nums[i] + nums[j] + nums[l] + nums[r]) < target: l += 1\n",
    "                elif s > target: r -= 1\n",
    "                else: res.add((nums[i], nums[j], nums[l], nums[r])); l += 1; r -= 1\n",
    "                    \n",
    "        return list(map(list, res))"
   ]
  },
  {
   "cell_type": "code",
   "execution_count": 6,
   "metadata": {},
   "outputs": [
    {
     "name": "stdout",
     "output_type": "stream",
     "text": [
      "Case 1: [[-2, -1, 1, 2], [-1, 0, 0, 1], [-2, 0, 0, 2]]\n",
      "Case 2: [[2, 2, 2, 2]]\n"
     ]
    }
   ],
   "source": [
    "# Test on Cases\n",
    "S = Solution()\n",
    "\n",
    "print(f\"Case 1: {S.fourSum_twoPointers([1,0,-1,0,-2,2], 0)}\")\n",
    "print(f\"Case 2: {S.fourSum_twoPointers([2,2,2,2,2], 8)}\")"
   ]
  },
  {
   "cell_type": "markdown",
   "metadata": {},
   "source": [
    "**Ref**\n",
    "1. [[Python] O(n^3) and why we can not do better, explained](https://leetcode.com/problems/4sum/discuss/1341243/Python-O(n3)-and-why-we-can-not-do-better-explained)"
   ]
  }
 ],
 "metadata": {
  "kernelspec": {
   "display_name": "Python 3.10.4 ('leetcode')",
   "language": "python",
   "name": "python3"
  },
  "language_info": {
   "codemirror_mode": {
    "name": "ipython",
    "version": 3
   },
   "file_extension": ".py",
   "mimetype": "text/x-python",
   "name": "python",
   "nbconvert_exporter": "python",
   "pygments_lexer": "ipython3",
   "version": "3.10.4"
  },
  "vscode": {
   "interpreter": {
    "hash": "21d8332eb27bea95342760850bd7426f517b6a483537194bbba87e10eeabf6ff"
   }
  }
 },
 "nbformat": 4,
 "nbformat_minor": 4
}
