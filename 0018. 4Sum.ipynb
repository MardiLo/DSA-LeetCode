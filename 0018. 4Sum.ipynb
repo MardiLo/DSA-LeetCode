{
 "cells": [
  {
   "cell_type": "markdown",
   "source": [
    "`# Array` `# Sorting` `# Two Pointers`"
   ],
   "metadata": {}
  },
  {
   "cell_type": "markdown",
   "source": [
    "Given an array `nums` of `n` integers, return *an array of all the* ***unique*** *quadruplets* `[nums[a], nums[b], nums[c], nums[d]]` such that:\n",
    "\n",
    "+ `0 <= a, b, c, d < n`\n",
    "+ `a`, `b`, `c`, and `d` are **distinct**.\n",
    "+ `nums[a] + nums[b] + nums[c] + nums[d] == target`\n",
    "\n",
    "You may return the answer in **any order**."
   ],
   "metadata": {}
  },
  {
   "cell_type": "markdown",
   "source": [
    "**Example 1:**\n",
    "\n",
    "> Input: nums = [1,0,-1,0,-2,2], target = 0  \n",
    "Output: [[-2,-1,1,2],[-2,0,0,2],[-1,0,0,1]]  \n",
    "\n",
    "**Example 2**\n",
    "\n",
    "> Input: nums = [2,2,2,2,2], target = 8  \n",
    "Output: [[2,2,2,2]]  \n"
   ],
   "metadata": {}
  },
  {
   "cell_type": "code",
   "execution_count": 25,
   "source": [
    "class Solution:\r\n",
    "                \r\n",
    "    # Time Complexity： O(n^3)\r\n",
    "    # Space Complexity： O(n)   \r\n",
    "    def fourSum_twoPointers(self, nums: 'List[int]', target: 'int') -> 'List[List[int]]':\r\n",
    "        nums.sort()                                  # SC: O(n); TC:(nlogn)\r\n",
    "        res = []\r\n",
    "        \r\n",
    "        for i in range(len(nums)-3):                 # TC:O(n)\r\n",
    "            if i > 0 and nums[i] == nums[i-1]:\r\n",
    "                continue\r\n",
    "                \r\n",
    "            for j in range(i+1, len(nums)-2):        # TC:O(n)\r\n",
    "                if j > (i+1) and nums[j] == nums[j-1]:\r\n",
    "                    continue\r\n",
    "               \r\n",
    "                l, r = j+1, len(nums)-1           \r\n",
    "                while l < r:                         # TC:O(n)\r\n",
    "                    \r\n",
    "                    s = nums[i] + nums[j] + nums[l] + nums[r]\r\n",
    "                    if  s < target:\r\n",
    "                        l += 1\r\n",
    "                    elif s > target:\r\n",
    "                        r -= 1\r\n",
    "                    else:\r\n",
    "                        res.append((nums[i], nums[j], nums[l], nums[r]))\r\n",
    "                        l += 1\r\n",
    "                        r -= 1\r\n",
    "                    \r\n",
    "        return set(res)                              # TC:O(n)"
   ],
   "outputs": [],
   "metadata": {}
  },
  {
   "cell_type": "code",
   "execution_count": 26,
   "source": [
    "# Test on Cases\r\n",
    "S = Solution()\r\n",
    "\r\n",
    "print(f\"Case 1: {S.fourSum_twoPointers([1,0,-1,0,-2,2], 0)}\")\r\n",
    "print(f\"Case 2: {S.fourSum_twoPointers([2,2,2,2,2], 8)}\")"
   ],
   "outputs": [
    {
     "output_type": "stream",
     "name": "stdout",
     "text": [
      "Case 1: {(-2, -1, 1, 2), (-2, 0, 0, 2), (-1, 0, 0, 1)}\n",
      "Case 2: {(2, 2, 2, 2)}\n"
     ]
    }
   ],
   "metadata": {}
  },
  {
   "cell_type": "markdown",
   "source": [
    "**Ref**\n",
    "1. [[Python] O(n^3) and why we can not do better, explained](https://leetcode.com/problems/4sum/discuss/1341243/Python-O(n3)-and-why-we-can-not-do-better-explained)"
   ],
   "metadata": {}
  }
 ],
 "metadata": {
  "kernelspec": {
   "display_name": "Python 3",
   "language": "python",
   "name": "python3"
  },
  "language_info": {
   "codemirror_mode": {
    "name": "ipython",
    "version": 3
   },
   "file_extension": ".py",
   "mimetype": "text/x-python",
   "name": "python",
   "nbconvert_exporter": "python",
   "pygments_lexer": "ipython3",
   "version": "3.7.7"
  }
 },
 "nbformat": 4,
 "nbformat_minor": 4
}