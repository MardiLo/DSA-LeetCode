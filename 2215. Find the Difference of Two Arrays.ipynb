{
 "cells": [
  {
   "attachments": {},
   "cell_type": "markdown",
   "metadata": {},
   "source": [
    "`# Array` `# Hash Table`"
   ]
  },
  {
   "attachments": {},
   "cell_type": "markdown",
   "metadata": {},
   "source": [
    "Given two **0-indexed** integer arrays `nums1` and `nums2`, return *a list* `answer` *of size* `2` *where*:\n",
    "\n",
    "- `answer[0]` *is a list of all distinct integers in* `nums1` *which are ***not*** present in* `nums2`.\n",
    "- `answer[1]` *is a list of all distinct integers in* `nums2` *which are ***not*** present in* `nums1`.\n",
    "\n",
    "Note that the integers in the lists may be returned in **any order**."
   ]
  },
  {
   "attachments": {},
   "cell_type": "markdown",
   "metadata": {},
   "source": [
    "**Example 1:**\n",
    "\n",
    "> Input: nums1 = [1,2,3], nums2 = [2,4,6]  \n",
    "> Output: [[1,3],[4,6]]  \n",
    "> Explanation:  \n",
    "> For nums1, nums1[1] = 2 is present at index 0 of nums2, whereas nums1[0] = 1 and nums1[2] = 3 are not present in nums2. Therefore, answer[0] = [1,3].  \n",
    "> For nums2, nums2[0] = 2 is present at index 1 of nums1, whereas nums2[1] = 4 and nums2[2] = 6 are not present in nums2. Therefore, answer[1] = [4,6].\n",
    "\n",
    "**Example 2:**\n",
    "\n",
    "> Input: nums1 = [1,2,3,3], nums2 = [1,1,2,2]  \n",
    "> Output: [[3],[]]  \n",
    "> Explanation:  \n",
    "> For nums1, nums1[2] and nums1[3] are not present in nums2. Since nums1[2] == nums1[3], their value is only included once and answer[0] = [3].  \n",
    "> Every integer in nums2 is present in nums1. Therefore, answer[1] = []."
   ]
  },
  {
   "cell_type": "code",
   "execution_count": 1,
   "metadata": {},
   "outputs": [],
   "source": [
    "class Solution:\n",
    "\n",
    "    # Time Complexity： O(m+n)\n",
    "    # Space Complexity： O(m+n)\n",
    "    def findDifference(self, nums1: list[int], nums2: list[int]) -> list[list[int]]:\n",
    "        from functools import reduce\n",
    "\n",
    "        return reduce(lambda x, y: list(map(list, (x-y, y-x))), map(set, (nums1, nums2)))"
   ]
  },
  {
   "cell_type": "code",
   "execution_count": 2,
   "metadata": {},
   "outputs": [
    {
     "name": "stdout",
     "output_type": "stream",
     "text": [
      "Case 1: [[1, 3], [4, 6]]\n",
      "Case 2: [[3], []]\n"
     ]
    }
   ],
   "source": [
    "# Test on Cases\n",
    "S = Solution()\n",
    "\n",
    "print(f\"Case 1: {S.findDifference([1,2,3], [2,4,6])}\")\n",
    "print(f\"Case 2: {S.findDifference([1,2,3,3], [1,1,2,2])}\")"
   ]
  }
 ],
 "metadata": {
  "kernelspec": {
   "display_name": "Python 3 (ipykernel)",
   "language": "python",
   "name": "python3"
  },
  "language_info": {
   "codemirror_mode": {
    "name": "ipython",
    "version": 3
   },
   "file_extension": ".py",
   "mimetype": "text/x-python",
   "name": "python",
   "nbconvert_exporter": "python",
   "pygments_lexer": "ipython3",
   "version": "3.10.4"
  },
  "vscode": {
   "interpreter": {
    "hash": "21d8332eb27bea95342760850bd7426f517b6a483537194bbba87e10eeabf6ff"
   }
  }
 },
 "nbformat": 4,
 "nbformat_minor": 4
}
