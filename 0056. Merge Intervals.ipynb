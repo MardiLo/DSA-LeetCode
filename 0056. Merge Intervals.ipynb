{
 "cells": [
  {
   "cell_type": "markdown",
   "source": [
    "`# Array` `# Sorting`"
   ],
   "metadata": {}
  },
  {
   "cell_type": "markdown",
   "source": [
    "Given an array of `interval`s where `intervals[i] = [starti, endi]`, merge all overlapping intervals, and return an array of the non-overlapping intervals that cover all the intervals in the input."
   ],
   "metadata": {}
  },
  {
   "cell_type": "markdown",
   "source": [
    "**Example 1:**\n",
    "\n",
    "> Input: intervals = [[1,3],[2,6],[8,10],[15,18]]  \n",
    "Output: [[1,6],[8,10],[15,18]]  \n",
    "Explanation: Since intervals [1,3] and [2,6] overlaps, merge them into [1,6].  \n",
    "\n",
    "**Example 2:**\n",
    "\n",
    "> Input: intervals = [[1,4],[4,5]]  \n",
    "Output: [[1,5]]  \n",
    "Explanation: Intervals [1,4] and [4,5] are considered overlapping."
   ],
   "metadata": {}
  },
  {
   "cell_type": "code",
   "execution_count": 1,
   "source": [
    "class Solution:\r\n",
    "    \r\n",
    "    # Time Complexity： O(nlogn)\r\n",
    "    # Space Complexity： O(n)      \r\n",
    "    def merge(self, intervals: 'List[List[int]]') -> 'List[List[int]]':\r\n",
    "        intervals.sort(key = lambda x : x[0])\r\n",
    "\r\n",
    "        res = [intervals[0]]\r\n",
    "        for i in range(1, len(intervals)):\r\n",
    "            if intervals[i][0] <= res[-1][1]:\r\n",
    "                res[-1][1] = max(res[-1][1], intervals[i][1])\r\n",
    "            else:\r\n",
    "                res.append(intervals[i])\r\n",
    "        return res"
   ],
   "outputs": [],
   "metadata": {}
  },
  {
   "cell_type": "code",
   "execution_count": 2,
   "source": [
    "# Test on Cases\r\n",
    "S = Solution()\r\n",
    "\r\n",
    "print(f\"Case 1: {S.merge([[1,3],[2,6],[8,10],[15,18]])}\")\r\n",
    "print(f\"Case 2: {S.merge([[1,4],[4,5]])}\")"
   ],
   "outputs": [
    {
     "output_type": "stream",
     "name": "stdout",
     "text": [
      "Case 1: [[1, 6], [8, 10], [15, 18]]\n",
      "Case 2: [[1, 5]]\n"
     ]
    }
   ],
   "metadata": {}
  }
 ],
 "metadata": {
  "kernelspec": {
   "display_name": "Python 3",
   "language": "python",
   "name": "python3"
  },
  "language_info": {
   "codemirror_mode": {
    "name": "ipython",
    "version": 3
   },
   "file_extension": ".py",
   "mimetype": "text/x-python",
   "name": "python",
   "nbconvert_exporter": "python",
   "pygments_lexer": "ipython3",
   "version": "3.7.7"
  }
 },
 "nbformat": 4,
 "nbformat_minor": 4
}