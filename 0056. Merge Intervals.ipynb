{
 "cells": [
  {
   "cell_type": "markdown",
   "metadata": {},
   "source": [
    "`# Array` `# Sorting`"
   ]
  },
  {
   "cell_type": "markdown",
   "metadata": {},
   "source": [
    "Given an array of `intervals` where `intervals[i] = [start`<sub>`i`</sub>`, end`<sub>`i`</sub>`]`, merge all overlapping intervals, and return *an array of the non-overlapping intervals that cover all the intervals in the input*."
   ]
  },
  {
   "cell_type": "markdown",
   "metadata": {},
   "source": [
    "**Example 1:**\n",
    "\n",
    "> Input: intervals = [[1,3],[2,6],[8,10],[15,18]]  \n",
    "> Output: [[1,6],[8,10],[15,18]]  \n",
    "> Explanation: Since intervals [1,3] and [2,6] overlaps, merge them into [1,6].  \n",
    "\n",
    "**Example 2:**\n",
    "\n",
    "> Input: intervals = [[1,4],[4,5]]  \n",
    "> Output: [[1,5]]  \n",
    "> Explanation: Intervals [1,4] and [4,5] are considered overlapping."
   ]
  },
  {
   "cell_type": "code",
   "execution_count": 1,
   "metadata": {},
   "outputs": [],
   "source": [
    "class Solution:\n",
    "    \n",
    "    # Time Complexity： O(nlogn)\n",
    "    # Space Complexity： O(n)      \n",
    "    def merge(self, intervals: list[list[int]]) -> list[list[int]]:\n",
    "        intervals.sort(key=lambda x: x[0]); res = [intervals[0]]\n",
    "        \n",
    "        for i in range(1, len(intervals)):\n",
    "            if res[-1][1] >= intervals[i][0]: res[-1][1] = max(res[-1][1], intervals[i][1])\n",
    "            else: res.append(intervals[i])\n",
    "        \n",
    "        return res"
   ]
  },
  {
   "cell_type": "code",
   "execution_count": 2,
   "metadata": {},
   "outputs": [
    {
     "name": "stdout",
     "output_type": "stream",
     "text": [
      "Case 1: [[1, 6], [8, 10], [15, 18]]\n",
      "Case 2: [[1, 5]]\n"
     ]
    }
   ],
   "source": [
    "# Test on Cases\n",
    "S = Solution()\n",
    "\n",
    "print(f\"Case 1: {S.merge([[1,3],[2,6],[8,10],[15,18]])}\")\n",
    "print(f\"Case 2: {S.merge([[1,4],[4,5]])}\")"
   ]
  }
 ],
 "metadata": {
  "interpreter": {
   "hash": "21d8332eb27bea95342760850bd7426f517b6a483537194bbba87e10eeabf6ff"
  },
  "kernelspec": {
   "display_name": "Python 3 (ipykernel)",
   "language": "python",
   "name": "python3"
  },
  "language_info": {
   "codemirror_mode": {
    "name": "ipython",
    "version": 3
   },
   "file_extension": ".py",
   "mimetype": "text/x-python",
   "name": "python",
   "nbconvert_exporter": "python",
   "pygments_lexer": "ipython3",
   "version": "3.10.4"
  }
 },
 "nbformat": 4,
 "nbformat_minor": 4
}
