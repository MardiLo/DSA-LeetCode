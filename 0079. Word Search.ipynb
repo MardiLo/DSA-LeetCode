{
 "cells": [
  {
   "cell_type": "markdown",
   "metadata": {},
   "source": [
    "`# Array` `# Backtracking` `# Matrix`"
   ]
  },
  {
   "cell_type": "markdown",
   "metadata": {},
   "source": [
    "Given an `m x n` grid of characters `board` and a string `word`, return `true` *if word exists in the grid*.\n",
    "\n",
    "The word can be constructed from letters of sequentially adjacent cells, where adjacent cells are horizontally or vertically neighboring. The same letter cell may not be used more than once."
   ]
  },
  {
   "cell_type": "markdown",
   "metadata": {},
   "source": [
    "**Example 1:**  \n",
    "![Image of leetcode 0079 problem example 1](https://assets.leetcode.com/uploads/2020/11/04/word2.jpg)\n",
    "> Input: board = [[\"A\",\"B\",\"C\",\"E\"],[\"S\",\"F\",\"C\",\"S\"],[\"A\",\"D\",\"E\",\"E\"]], word = \"ABCCED\"  \n",
    "Output: true  \n",
    "\n",
    "**Example 2**  \n",
    "![Image of leetcode 0079 problem example 2](https://assets.leetcode.com/uploads/2020/11/04/word-1.jpg)\n",
    "> Input: board = [[\"A\",\"B\",\"C\",\"E\"],[\"S\",\"F\",\"C\",\"S\"],[\"A\",\"D\",\"E\",\"E\"]], word = \"SEE\"  \n",
    "Output: true  \n",
    "\n",
    "**Example 3**  \n",
    "![Image of leetcode 0079 problem example 3](https://assets.leetcode.com/uploads/2020/10/15/word3.jpg)\n",
    "> Input: board = [[\"A\",\"B\",\"C\",\"E\"],[\"S\",\"F\",\"C\",\"S\"],[\"A\",\"D\",\"E\",\"E\"]], word = \"ABCB\"  \n",
    "Output: false  "
   ]
  },
  {
   "cell_type": "code",
   "execution_count": 29,
   "metadata": {},
   "outputs": [],
   "source": [
    "class Solution:\n",
    "    \n",
    "    # Time Complexity： O(mn*3^k), where m = len(board); n = len(board[0]); k = len(word)\n",
    "    # Space Complexity： O(k), in memory stack\n",
    "    def exist(self, board: 'List[List[str]]', word: 'str') -> 'bool':\n",
    "        from itertools import product\n",
    "\n",
    "        def dfs(i: 'int', j: 'int', k: 'int') -> 'bool':     # TC: O(3^k); SC: O(k), where k = len(word)\n",
    "            if k == len(word): return True\n",
    "            if i < 0 or i >= self.m or j < 0 or j >= self.n or word[k] != board[i][j] or (i, j) in self.path: return False\n",
    "\n",
    "            self.path.add((i, j))\n",
    "            res = dfs(i+1, j, k+1) or dfs(i-1, j, k+1) or dfs(i, j+1, k+1) or dfs(i, j-1, k+1)\n",
    "            self.path.remove((i, j))\n",
    "\n",
    "            return res\n",
    "        \n",
    "        self.m, self.n = len(board), len(board[0])\n",
    "        self.path = set()\n",
    "        for i, j in product(range(self.m), range(self.n)):\n",
    "            if dfs(i, j, 0): return True\n",
    "        \n",
    "        return False\n",
    "\n",
    "        "
   ]
  },
  {
   "cell_type": "code",
   "execution_count": 30,
   "metadata": {},
   "outputs": [
    {
     "name": "stdout",
     "output_type": "stream",
     "text": [
      "Case 1: True\n",
      "Case 2: True\n",
      "Case 3: False\n"
     ]
    }
   ],
   "source": [
    "# Test on Cases\n",
    "S = Solution()\n",
    "\n",
    "print(f\"\"\"Case 1: {S.exist([['A','B','C','E'],['S','F','C','S'],['A','D','E','E']], 'ABCCED')}\"\"\")\n",
    "print(f\"\"\"Case 2: {S.exist([['A','B','C','E'],['S','F','C','S'],['A','D','E','E']], 'SEE')}\"\"\")\n",
    "print(f\"\"\"Case 3: {S.exist([['A','B','C','E'],['S','F','C','S'],['A','D','E','E']], 'ABCB')}\"\"\")"
   ]
  },
  {
   "cell_type": "markdown",
   "metadata": {},
   "source": [
    "**Ref**\n",
    "1. [Word Search - Backtracking - Leetcode 79 - Python](https://www.youtube.com/watch?v=pfiQ_PS1g8E&ab_channel=NeetCode)"
   ]
  }
 ],
 "metadata": {
  "kernelspec": {
   "display_name": "Python 3",
   "language": "python",
   "name": "python3"
  },
  "language_info": {
   "codemirror_mode": {
    "name": "ipython",
    "version": 3
   },
   "file_extension": ".py",
   "mimetype": "text/x-python",
   "name": "python",
   "nbconvert_exporter": "python",
   "pygments_lexer": "ipython3",
   "version": "3.7.7"
  }
 },
 "nbformat": 4,
 "nbformat_minor": 4
}
