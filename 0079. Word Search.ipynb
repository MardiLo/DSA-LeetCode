{
 "cells": [
  {
   "cell_type": "markdown",
   "metadata": {},
   "source": [
    "`# Array` `# Backtracking` `# Matrix`"
   ]
  },
  {
   "cell_type": "markdown",
   "metadata": {},
   "source": [
    "Given an `m x n` grid of characters `board` and a string `word`, return `true` *if word exists in the grid*.\n",
    "\n",
    "The word can be constructed from letters of sequentially adjacent cells, where adjacent cells are horizontally or vertically neighboring. The same letter cell may not be used more than once."
   ]
  },
  {
   "cell_type": "markdown",
   "metadata": {},
   "source": [
    "**Example 1:**  \n",
    "![Image of leetcode 0079 problem example 1](https://assets.leetcode.com/uploads/2020/11/04/word2.jpg)\n",
    "> Input: board = [[\"A\",\"B\",\"C\",\"E\"],[\"S\",\"F\",\"C\",\"S\"],[\"A\",\"D\",\"E\",\"E\"]], word = \"ABCCED\"  \n",
    "> Output: true  \n",
    "\n",
    "**Example 2**  \n",
    "![Image of leetcode 0079 problem example 2](https://assets.leetcode.com/uploads/2020/11/04/word-1.jpg)\n",
    "> Input: board = [[\"A\",\"B\",\"C\",\"E\"],[\"S\",\"F\",\"C\",\"S\"],[\"A\",\"D\",\"E\",\"E\"]], word = \"SEE\"  \n",
    "> Output: true  \n",
    "\n",
    "**Example 3**  \n",
    "![Image of leetcode 0079 problem example 3](https://assets.leetcode.com/uploads/2020/10/15/word3.jpg)\n",
    "> Input: board = [[\"A\",\"B\",\"C\",\"E\"],[\"S\",\"F\",\"C\",\"S\"],[\"A\",\"D\",\"E\",\"E\"]], word = \"ABCB\"  \n",
    "> Output: false  "
   ]
  },
  {
   "cell_type": "code",
   "execution_count": 5,
   "metadata": {},
   "outputs": [],
   "source": [
    "class Solution:\n",
    "\n",
    "    # Time Complexity： O((mn+2k)+(mn*4^k)), where m = len(board); n = len(board[0]); k = len(word)\n",
    "    # Space Complexity： O((mn+k)+k), O(mn+k) for precheck; O(k) for dfs\n",
    "    def exist(self, board: list[list[str]], word: str) -> bool:\n",
    "        from collections import Counter\n",
    "        from itertools import chain, product\n",
    "\n",
    "        if Counter(chain(*board)) < (cnt := Counter(word)): return False             # TC: O(mn+2k); SC: O(mn+k), where k = len(word)\n",
    "        if cnt[word[0]] > cnt[word[-1]]: word = word[::-1]                           # inverse word if it's better to start from the end \n",
    "    \n",
    "        m, n, direction = len(board), len(board[0]), [(-1, 0), (1, 0), (0, -1), (0, 1)]\n",
    "\n",
    "        def dfs(i: int, j: int, k: int) -> bool:                                     # TC: O(4^k); SC: O(k), where k = len(word)\n",
    "            if not (0 <= i < m and 0 <= j < n and board[i][j] == word[k]): return False\n",
    "            elif k == len(word)-1: return True\n",
    "\n",
    "            board[i][j] = None                                                       # mark as visited\n",
    "            find = any(dfs(i+dx, j+dy, k+1) for dx, dy in direction)\n",
    "            board[i][j] = word[k]                                                    # restore after this dfs run is completed\n",
    "\n",
    "            return find\n",
    "        \n",
    "        return any(dfs(i, j, 0) for i, j in product(range(m), range(n)))\n"
   ]
  },
  {
   "cell_type": "code",
   "execution_count": 6,
   "metadata": {},
   "outputs": [
    {
     "name": "stdout",
     "output_type": "stream",
     "text": [
      "Case 1: True\n",
      "Case 2: True\n",
      "Case 3: False\n"
     ]
    }
   ],
   "source": [
    "# Test on Cases\n",
    "S = Solution()\n",
    "\n",
    "print(f\"\"\"Case 1: {S.exist([['A','B','C','E'],['S','F','C','S'],['A','D','E','E']], 'ABCCED')}\"\"\")\n",
    "print(f\"\"\"Case 2: {S.exist([['A','B','C','E'],['S','F','C','S'],['A','D','E','E']], 'SEE')}\"\"\")\n",
    "print(f\"\"\"Case 3: {S.exist([['A','B','C','E'],['S','F','C','S'],['A','D','E','E']], 'ABCB')}\"\"\")"
   ]
  },
  {
   "cell_type": "markdown",
   "metadata": {},
   "source": [
    "**Ref**\n",
    "1. [Word Search - Backtracking - Leetcode 79 - Python](https://www.youtube.com/watch?v=pfiQ_PS1g8E&ab_channel=NeetCode)"
   ]
  }
 ],
 "metadata": {
  "kernelspec": {
   "display_name": "Python 3 (ipykernel)",
   "language": "python",
   "name": "python3"
  },
  "language_info": {
   "codemirror_mode": {
    "name": "ipython",
    "version": 3
   },
   "file_extension": ".py",
   "mimetype": "text/x-python",
   "name": "python",
   "nbconvert_exporter": "python",
   "pygments_lexer": "ipython3",
   "version": "3.10.4"
  },
  "vscode": {
   "interpreter": {
    "hash": "21d8332eb27bea95342760850bd7426f517b6a483537194bbba87e10eeabf6ff"
   }
  }
 },
 "nbformat": 4,
 "nbformat_minor": 4
}
