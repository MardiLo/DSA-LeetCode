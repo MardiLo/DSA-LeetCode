{
 "cells": [
  {
   "cell_type": "markdown",
   "metadata": {},
   "source": [
    "`# Array` `# Divide and Conquer` `# Dynamic Programming` "
   ]
  },
  {
   "cell_type": "markdown",
   "metadata": {},
   "source": [
    "Given an integer array `nums`, find the contiguous subarray (containing at least one number) which has the largest sum and *return its sum*.  \n",
    "\n",
    "A **subarray** is a **contiguous** part of an array."
   ]
  },
  {
   "cell_type": "markdown",
   "metadata": {},
   "source": [
    "**Example 1:**\n",
    "\n",
    "> Input: nums = [-2, 1, -3, 4, -1, 2, 1, -5, 4]  \n",
    "> Output: 6  \n",
    "> Explanation: [4, -1, 2, 1] has the largest sum = 6.  \n",
    "\n",
    "**Example 2:**\n",
    "\n",
    "> Input: nums = [1]  \n",
    "> Output: 1\n",
    "\n",
    "**Example 3:**\n",
    "\n",
    "> Input: nums = [5,4,-1,7,8]  \n",
    "> Output: 23  "
   ]
  },
  {
   "cell_type": "code",
   "execution_count": 3,
   "metadata": {},
   "outputs": [],
   "source": [
    "class Solution:\n",
    "    \n",
    "    # Time Complexity： O(n)\n",
    "    # Space Complexity： O(n)\n",
    "    def maxSubArray(self, nums: list[int]) -> int:\n",
    "        maxSum, dp = nums[0], [float('-inf')] + [0] * len(nums)\n",
    "\n",
    "        for i in range(1, len(nums)+1):\n",
    "            dp[i] = max(dp[i-1]+nums[i-1], nums[i-1])\n",
    "            maxSum = max(maxSum, dp[i])\n",
    "            \n",
    "        return maxSum\n",
    "\n",
    "    # Time Complexity： O(n)\n",
    "    # Space Complexity： O(1)\n",
    "    def maxSubArray_spaceOpt(self, nums: list[int]) -> int:\n",
    "        maxSum, dp0, dp1 = nums[0], 0, float('-inf')\n",
    "        \n",
    "        for i in range(1, len(nums)+1):\n",
    "            dp0 = max(dp1+nums[i-1], nums[i-1])\n",
    "            maxSum = max(maxSum, dp0)\n",
    "            dp0, dp1 = 0, dp0\n",
    "        \n",
    "        return maxSum\n",
    "\n",
    "    # Time Complexity： O(3n)\n",
    "    # Space Complexity： O(n)\n",
    "    def maxSubArray_oneliner(self, nums: list[int]) -> int:\n",
    "        from itertools import accumulate\n",
    "\n",
    "        return max(accumulate(nums, lambda x, y: max(0, x+y), initial=0)) or max(nums)"
   ]
  },
  {
   "cell_type": "code",
   "execution_count": 4,
   "metadata": {},
   "outputs": [
    {
     "name": "stdout",
     "output_type": "stream",
     "text": [
      "---maxSubArray---\n",
      "Case 1: 6\n",
      "Case 2: 1\n",
      "Case 3: 23\n",
      "\n",
      "---maxSubArray_spaceOpt---\n",
      "Case 1: 6\n",
      "Case 2: 1\n",
      "Case 3: 23\n",
      "\n",
      "---maxSubArray_oneliner---\n",
      "Case 1: 6\n",
      "Case 2: 1\n",
      "Case 3: 23\n"
     ]
    }
   ],
   "source": [
    "# Test on Cases\n",
    "S = Solution()\n",
    "\n",
    "print(\"---maxSubArray---\")\n",
    "print(f\"Case 1: {S.maxSubArray([-2,1,-3,4,-1,2,1,-5,4])}\")\n",
    "print(f\"Case 2: {S.maxSubArray([1])}\")\n",
    "print(f\"Case 3: {S.maxSubArray([5,4,-1,7,8])}\\n\")\n",
    "\n",
    "print(\"---maxSubArray_spaceOpt---\")\n",
    "print(f\"Case 1: {S.maxSubArray_spaceOpt([-2,1,-3,4,-1,2,1,-5,4])}\")\n",
    "print(f\"Case 2: {S.maxSubArray_spaceOpt([1])}\")\n",
    "print(f\"Case 3: {S.maxSubArray_spaceOpt([5,4,-1,7,8])}\\n\")\n",
    "\n",
    "print(\"---maxSubArray_oneliner---\")\n",
    "print(f\"Case 1: {S.maxSubArray_oneliner([-2,1,-3,4,-1,2,1,-5,4])}\")\n",
    "print(f\"Case 2: {S.maxSubArray_oneliner([1])}\")\n",
    "print(f\"Case 3: {S.maxSubArray_oneliner([5,4,-1,7,8])}\")"
   ]
  }
 ],
 "metadata": {
  "interpreter": {
   "hash": "21d8332eb27bea95342760850bd7426f517b6a483537194bbba87e10eeabf6ff"
  },
  "kernelspec": {
   "display_name": "Python 3 (ipykernel)",
   "language": "python",
   "name": "python3"
  },
  "language_info": {
   "codemirror_mode": {
    "name": "ipython",
    "version": 3
   },
   "file_extension": ".py",
   "mimetype": "text/x-python",
   "name": "python",
   "nbconvert_exporter": "python",
   "pygments_lexer": "ipython3",
   "version": "3.10.4"
  }
 },
 "nbformat": 4,
 "nbformat_minor": 4
}
