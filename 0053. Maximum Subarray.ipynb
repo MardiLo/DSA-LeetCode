{
 "cells": [
  {
   "cell_type": "markdown",
   "source": [
    "`# Array` `# Divide and Conquer` `# Dynamic Programming` "
   ],
   "metadata": {}
  },
  {
   "cell_type": "markdown",
   "source": [
    "Given an integer array `nums`, find the contiguous subarray (containing at least one number) which has the largest sum and *return its sum*.  \r\n",
    "\r\n",
    "A **subarray** is a **contiguous** part of an array."
   ],
   "metadata": {}
  },
  {
   "cell_type": "markdown",
   "source": [
    "**Example 1:**\r\n",
    "\r\n",
    "> Input: nums = [-2, 1, -3, 4, -1, 2, 1, -5, 4]  \r\n",
    "Output: 6  \r\n",
    "Explanation: [4, -1, 2, 1] has the largest sum = 6.  \r\n",
    "\r\n",
    "**Example 2:**\r\n",
    "\r\n",
    "> Input: nums = [1]  \r\n",
    "Output: 1\r\n",
    "\r\n",
    "**Example 3:**\r\n",
    "\r\n",
    "> Input: nums = [5,4,-1,7,8]  \r\n",
    "Output: 23  "
   ],
   "metadata": {}
  },
  {
   "cell_type": "code",
   "execution_count": 1,
   "source": [
    "class Solution:\r\n",
    "    \r\n",
    "    # Time Complexity： O(n)\r\n",
    "    # Space Complexity： O(1)\r\n",
    "    def maxSubArray(self, nums: 'List[int]') -> 'int':\r\n",
    "        curSum = maxSum = nums[0]        # SC: O(1)\r\n",
    "        \r\n",
    "        for i in range(1, len(nums)):    # TC: O(n)\r\n",
    "            curSum = max(curSum+nums[i], nums[i])\r\n",
    "            maxSum = max(maxSum, curSum)\r\n",
    "        \r\n",
    "        return maxSum"
   ],
   "outputs": [],
   "metadata": {}
  },
  {
   "cell_type": "code",
   "execution_count": 2,
   "source": [
    "# Test on Cases\r\n",
    "S = Solution()\r\n",
    "\r\n",
    "print(f\"Case 1: {S.maxSubArray([-2,1,-3,4,-1,2,1,-5,4])}\")\r\n",
    "print(f\"Case 2: {S.maxSubArray([1])}\")\r\n",
    "print(f\"Case 3: {S.maxSubArray([5,4,-1,7,8])}\")"
   ],
   "outputs": [
    {
     "output_type": "stream",
     "name": "stdout",
     "text": [
      "Case 1: 6\n",
      "Case 2: 1\n",
      "Case 3: 23\n"
     ]
    }
   ],
   "metadata": {}
  }
 ],
 "metadata": {
  "kernelspec": {
   "name": "python3",
   "display_name": "Python 3.7.7 64-bit ('spark': conda)"
  },
  "language_info": {
   "codemirror_mode": {
    "name": "ipython",
    "version": 3
   },
   "file_extension": ".py",
   "mimetype": "text/x-python",
   "name": "python",
   "nbconvert_exporter": "python",
   "pygments_lexer": "ipython3",
   "version": "3.7.7"
  },
  "interpreter": {
   "hash": "6ab137a14910b4ee65d0ea442464c53c8571f8241496146388c5db8c59915964"
  }
 },
 "nbformat": 4,
 "nbformat_minor": 4
}