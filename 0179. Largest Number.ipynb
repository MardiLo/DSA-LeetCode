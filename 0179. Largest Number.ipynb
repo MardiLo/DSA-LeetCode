{
 "cells": [
  {
   "cell_type": "markdown",
   "metadata": {},
   "source": [
    "`# Bit Manipulation`"
   ]
  },
  {
   "cell_type": "markdown",
   "metadata": {},
   "source": [
    "Reverse bits of a given 32 bits unsigned integer."
   ]
  },
  {
   "cell_type": "markdown",
   "metadata": {},
   "source": [
    "**Example 1:**\n",
    "\n",
    "> Input: n = 00000010100101000001111010011100  \n",
    "Output:    964176192 (00111001011110000010100101000000)  \n",
    "Explanation: The input binary string 00000010100101000001111010011100 represents the unsigned integer 43261596, so return 964176192 which its binary representation is 00111001011110000010100101000000.\n",
    "\n",
    "**Example 2:**\n",
    "\n",
    "> Input: n = 11111111111111111111111111111101  \n",
    "Output:   3221225471 (10111111111111111111111111111111)  \n",
    "Explanation: The input binary string 11111111111111111111111111111101 represents the unsigned integer 4294967293, so return 3221225471 which its binary representation is 10111111111111111111111111111111."
   ]
  },
  {
   "cell_type": "code",
   "execution_count": 13,
   "metadata": {},
   "outputs": [],
   "source": [
    "class Solution:\n",
    "    \n",
    "    # Time Complexity： O(nlogn)\n",
    "    # Space Complexity： O(n) \n",
    "    def largestNumber(self, nums: 'List[int]') -> 'str':\n",
    "        from functools import cmp_to_key\n",
    "\n",
    "        def compare(a: 'str', b: 'str') -> 'int':\n",
    "            if a+b > b+a: return -1    # b should go to a's right-hand side\n",
    "            else: return 1             # a should go to b's right-hand side\n",
    "\n",
    "        return str(int(''.join(sorted(map(str, nums), key=cmp_to_key(compare)))))    # TC: O(nlogn); SC: O(n)"
   ]
  },
  {
   "cell_type": "code",
   "execution_count": 23,
   "metadata": {},
   "outputs": [
    {
     "name": "stdout",
     "output_type": "stream",
     "text": [
      "Case 1: 964176192\n",
      "Case 2: 3221225471\n"
     ]
    }
   ],
   "source": [
    "# Test on Cases\n",
    "S = Solution()\n",
    "\n",
    "print(f\"Case 1: {S.reverseBits(int('00000010100101000001111010011100', 2))}\")\n",
    "print(f\"Case 2: {S.reverseBits(int('11111111111111111111111111111101', 2))}\")"
   ]
  }
 ],
 "metadata": {
  "kernelspec": {
   "display_name": "Python 3",
   "language": "python",
   "name": "python3"
  },
  "language_info": {
   "codemirror_mode": {
    "name": "ipython",
    "version": 3
   },
   "file_extension": ".py",
   "mimetype": "text/x-python",
   "name": "python",
   "nbconvert_exporter": "python",
   "pygments_lexer": "ipython3",
   "version": "3.7.7"
  }
 },
 "nbformat": 4,
 "nbformat_minor": 4
}
