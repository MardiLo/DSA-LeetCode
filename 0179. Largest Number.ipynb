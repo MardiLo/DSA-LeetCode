{
 "cells": [
  {
   "cell_type": "markdown",
   "metadata": {},
   "source": [
    "`# Greedy` `# Sorting` `# String`"
   ]
  },
  {
   "cell_type": "markdown",
   "metadata": {},
   "source": [
    "Given a list of non-negative integers `nums`, *arrange them such that they form the largest number*.\n",
    "\n",
    "Note: The result may be very large, so you need to return a string instead of an integer."
   ]
  },
  {
   "cell_type": "markdown",
   "metadata": {},
   "source": [
    "**Example 1:**\n",
    "\n",
    "> Input: nums = [10,2]  \n",
    "> Output: \"210\"  \n",
    "\n",
    "**Example 2:**\n",
    "\n",
    "> Input: nums = [3,30,34,5,9]  \n",
    "> Output: \"9534330\"  \n",
    "\n",
    "**Example 3:**\n",
    "\n",
    "> Input: nums = [1]  \n",
    "> Output: \"1\"  \n",
    "\n",
    "**Example 4:**\n",
    "\n",
    "> Input: nums = [10]  \n",
    "> Output: \"10\"  "
   ]
  },
  {
   "cell_type": "code",
   "execution_count": 11,
   "metadata": {},
   "outputs": [],
   "source": [
    "class Solution:\n",
    "    \n",
    "    # Time Complexity： O(nlogn)\n",
    "    # Space Complexity： O(n) \n",
    "    def largestNumber(self, nums: list[int]) -> str:\n",
    "        from functools import cmp_to_key\n",
    "\n",
    "        return str(int(''.join(sorted(map(str, nums), key=cmp_to_key(lambda a, b: 1 if a+b > b+a else -1), reverse=True))))    # TC: O(nlogn); SC: O(n)"
   ]
  },
  {
   "cell_type": "code",
   "execution_count": 12,
   "metadata": {},
   "outputs": [
    {
     "name": "stdout",
     "output_type": "stream",
     "text": [
      "Case 1: 210\n",
      "Case 2: 9534330\n",
      "Case 3: 1\n",
      "Case 4: 10\n"
     ]
    }
   ],
   "source": [
    "# Test on Cases\n",
    "S = Solution()\n",
    "\n",
    "print(f\"Case 1: {S.largestNumber([10,2])}\")\n",
    "print(f\"Case 2: {S.largestNumber([3,30,34,5,9])}\")\n",
    "print(f\"Case 3: {S.largestNumber([1])}\")\n",
    "print(f\"Case 4: {S.largestNumber([10])}\")"
   ]
  },
  {
   "cell_type": "markdown",
   "metadata": {},
   "source": [
    "**Ref**  \n",
    "1. [[Python] 2 lines solution, using sort, explained](https://leetcode.com/problems/largest-number/discuss/863489/Python-2-lines-solution-using-sort-explained)\n",
    "2. [Python simple solution in 4 lines](https://leetcode.com/problems/largest-number/discuss/53270/Python-simple-solution-in-4-lines)"
   ]
  }
 ],
 "metadata": {
  "kernelspec": {
   "display_name": "Python 3 (ipykernel)",
   "language": "python",
   "name": "python3"
  },
  "language_info": {
   "codemirror_mode": {
    "name": "ipython",
    "version": 3
   },
   "file_extension": ".py",
   "mimetype": "text/x-python",
   "name": "python",
   "nbconvert_exporter": "python",
   "pygments_lexer": "ipython3",
   "version": "3.10.4"
  },
  "vscode": {
   "interpreter": {
    "hash": "21d8332eb27bea95342760850bd7426f517b6a483537194bbba87e10eeabf6ff"
   }
  }
 },
 "nbformat": 4,
 "nbformat_minor": 4
}
