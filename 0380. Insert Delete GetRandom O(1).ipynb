{
 "cells": [
  {
   "cell_type": "markdown",
   "metadata": {},
   "source": [
    "`# Array` `# Design` `# Hash Table` `# Math` `# Randomized`"
   ]
  },
  {
   "cell_type": "markdown",
   "metadata": {},
   "source": [
    "*Implement the* `RandomizedSet` *class*:\n",
    "\n",
    "- `RandomizedSet()` Initializes the `RandomizedSet` object.\n",
    "- `bool insert(int val)` Inserts an item `val` into the set if not present. Returns `true` if the item was not present, `false` otherwise.\n",
    "- `bool remove(int val)` Removes an item `val` from the set if present. Returns `true` if the item was present, `false` otherwise.\n",
    "- `int getRandom()` Returns a random element from the current set of elements (it's guaranteed that at least one element exists when this method is called). Each element must have the **same probability** of being returned.\n",
    "\n",
    "You must implement the functions of the class such that each function works in **average O(1)** time complexity."
   ]
  },
  {
   "cell_type": "markdown",
   "metadata": {},
   "source": [
    "**Example 1:**\n",
    "\n",
    "> Input  \n",
    "> [\"RandomizedSet\", \"insert\", \"remove\", \"insert\", \"getRandom\", \"remove\", \"insert\", \"getRandom\"]  \n",
    "> [[], [1], [2], [2], [], [1], [2], []]  \n",
    "> \n",
    "> Output  \n",
    "> [null, true, false, true, 2, true, false, 2]  \n",
    "> \n",
    "> Explanation  \n",
    "> RandomizedSet randomizedSet = new RandomizedSet();  \n",
    "> randomizedSet.insert(1);&emsp;&emsp;&ensp;// Inserts 1 to the set. Returns true as 1 was inserted successfully.  \n",
    "> randomizedSet.remove(2);&emsp;&nbsp;&nbsp;// Returns false as 2 does not exist in the set.  \n",
    "> randomizedSet.insert(2);&emsp;&emsp;&ensp;// Inserts 2 to the set, returns true. Set now contains [1,2].  \n",
    "> randomizedSet.getRandom();&nbsp;// getRandom() should return either 1 or 2 randomly.  \n",
    "> randomizedSet.remove(1);&emsp;&ensp;// Removes 1 from the set, returns true. Set now contains [2].  \n",
    "> randomizedSet.insert(2);&emsp;&emsp;&ensp;// 2 was already in the set, so return false.  \n",
    "> randomizedSet.getRandom();&nbsp;// Since 2 is the only number in the set, getRandom() will always return 2.   "
   ]
  },
  {
   "cell_type": "code",
   "execution_count": 1,
   "metadata": {},
   "outputs": [],
   "source": [
    "class RandomizedSet:\n",
    "\n",
    "    # Time Complexity： O(1)\n",
    "    # Space Complexity： O(n)   \n",
    "    def __init__(self):\n",
    "        self.data = []\n",
    "        self.dataMap = {}                                                  # SC: O(n)\n",
    "\n",
    "    def insert(self, val: int) -> bool:\n",
    "        if val in self.dataMap: return False                               # TC: O(1)\n",
    "        else:\n",
    "            self.data.append(val)                                          # TC: O(1)\n",
    "            self.dataMap[val] = len(self.data) - 1                         # TC: O(1)\n",
    "            \n",
    "            return True\n",
    "        \n",
    "    def remove(self, val: int) -> bool:\n",
    "        if val not in self.dataMap: return False                           # TC: O(1)\n",
    "        else:\n",
    "            lastEle, valPos = self.data[-1], self.dataMap[val]             # TC: O(1)\n",
    "            \n",
    "            self.data[valPos], self.dataMap[lastEle] = lastEle, valPos     # TC: O(1)\n",
    "            self.data.pop(); del self.dataMap[val]                         # TC: O(1)\n",
    "            \n",
    "            return True\n",
    "\n",
    "    def getRandom(self) -> int:\n",
    "        from random import randint\n",
    "        \n",
    "        return self.data[randint(0, len(self.data) - 1)]"
   ]
  },
  {
   "cell_type": "code",
   "execution_count": 2,
   "metadata": {},
   "outputs": [
    {
     "name": "stdout",
     "output_type": "stream",
     "text": [
      "True\n",
      "False\n",
      "True\n",
      "1\n",
      "True\n",
      "False\n",
      "2\n"
     ]
    }
   ],
   "source": [
    "# Test on Cases\n",
    "\n",
    "randomizedSet = RandomizedSet()\n",
    "print(randomizedSet.insert(1))\n",
    "print(randomizedSet.remove(2))\n",
    "print(randomizedSet.insert(2))\n",
    "print(randomizedSet.getRandom())\n",
    "print(randomizedSet.remove(1))\n",
    "print(randomizedSet.insert(2))\n",
    "print(randomizedSet.getRandom())"
   ]
  },
  {
   "cell_type": "markdown",
   "metadata": {},
   "source": [
    "**Ref**\n",
    "1. [Simple solution in Python](https://leetcode.com/problems/insert-delete-getrandom-o1/discuss/85397/Simple-solution-in-Python)"
   ]
  }
 ],
 "metadata": {
  "kernelspec": {
   "display_name": "Python 3 (ipykernel)",
   "language": "python",
   "name": "python3"
  },
  "language_info": {
   "codemirror_mode": {
    "name": "ipython",
    "version": 3
   },
   "file_extension": ".py",
   "mimetype": "text/x-python",
   "name": "python",
   "nbconvert_exporter": "python",
   "pygments_lexer": "ipython3",
   "version": "3.10.4"
  },
  "vscode": {
   "interpreter": {
    "hash": "21d8332eb27bea95342760850bd7426f517b6a483537194bbba87e10eeabf6ff"
   }
  }
 },
 "nbformat": 4,
 "nbformat_minor": 4
}
