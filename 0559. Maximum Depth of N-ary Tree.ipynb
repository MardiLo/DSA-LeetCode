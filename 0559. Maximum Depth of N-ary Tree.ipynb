{
 "cells": [
  {
   "cell_type": "markdown",
   "metadata": {},
   "source": [
    "`# Breadth-First Search` `# Depth-first Search` `# Tree`"
   ]
  },
  {
   "cell_type": "markdown",
   "metadata": {},
   "source": [
    "Given the `root` of a n-ary tree, find its *maximum depth*.\n",
    "\n",
    "The maximum depth is the number of nodes along the longest path from the root node down to the farthest leaf node.\n",
    "\n",
    "Nary-Tree input serialization is represented in their level order traversal, each group of children is separated by the null value (See examples)."
   ]
  },
  {
   "cell_type": "markdown",
   "metadata": {},
   "source": [
    "**Example 1:**  \n",
    "![Image of leetcode 0559 problem example 1](https://assets.leetcode.com/uploads/2018/10/12/narytreeexample.png)\n",
    "> Input: root = [1,null,3,2,4,null,5,6]  \n",
    "Output: 3  \n",
    "\n",
    "**Example 2:**  \n",
    "![Image of leetcode 0559 problem example 2](https://assets.leetcode.com/uploads/2019/11/08/sample_4_964.png)\n",
    "> Input: root = [1,null,2,3,4,5,null,null,6,7,null,8,null,9,10,null,null,11,null,12,null,13,null,null,14]  \n",
    "Output: 5  \n"
   ]
  },
  {
   "cell_type": "code",
   "execution_count": 7,
   "metadata": {},
   "outputs": [],
   "source": [
    "class Node:\n",
    "    def __init__(self, val=None, children=None):\n",
    "        self.val = val\n",
    "        self.children = children\n",
    "\n",
    "class Solution:\n",
    "       \n",
    "    # Time Complexity： O(n)\n",
    "    # Space Complexity： O(n)\n",
    "    def maxDepth_BFS(self, root: 'TreeNode') -> 'int':\n",
    "        from collections import deque\n",
    "        \n",
    "        if not root: return 0\n",
    "        \n",
    "        queue = deque([(root, 1)])\n",
    "        while queue:\n",
    "            node, level = queue.popleft()    # TC: deque.popleft(): O(1); list.pop(0): O(n)\n",
    "            \n",
    "            for child in node.children:\n",
    "                queue.append((child, level+1))\n",
    "              \n",
    "        return level\n",
    "    \n",
    "    # Time Complexity： O(n)\n",
    "    # Space Complexity： O(n)\n",
    "    def maxDepth_DFS(self, root: 'TreeNode') -> 'int':\n",
    "        if not root: return 0\n",
    "        \n",
    "        max_level = 0\n",
    "        stack = [(root, 1)]\n",
    "        while stack:\n",
    "            node, level = stack.pop()\n",
    "            max_level = max(max_level, level)\n",
    "            \n",
    "            for child in node.children:\n",
    "                stack.append((child, level+1))\n",
    "            \n",
    "        return max_level"
   ]
  },
  {
   "cell_type": "code",
   "execution_count": 8,
   "metadata": {},
   "outputs": [
    {
     "name": "stdout",
     "output_type": "stream",
     "text": [
      "---maxDepth_BFS---\n",
      "Case 1: 3\n",
      "Case 2: 5\n",
      "\n",
      "---maxDepth_DFS---\n",
      "Case 1: 3\n",
      "Case 2: 5\n",
      "\n"
     ]
    }
   ],
   "source": [
    "# Test on Cases\n",
    "S = Solution()\n",
    "\n",
    "print(\"---maxDepth_BFS---\")\n",
    "print(f\"Case 1: {S.maxDepth_BFS(Node(1, [Node(3, [Node(5, []), Node(6, [])]), Node(2, []), Node(4, [])]))}\")\n",
    "print(f\"Case 2: {S.maxDepth_BFS(Node(1, [Node(2, []), Node(3, [Node(6, []), Node(7, [Node(11, [Node(14, [])])])]), Node(4, [Node(8, [Node(12, [])])]), Node(5, [Node(9, [Node(13, [])]), Node(10, [])])]))}\\n\")\n",
    "\n",
    "print(\"---maxDepth_DFS---\")\n",
    "print(f\"Case 1: {S.maxDepth_DFS(Node(1, [Node(3, [Node(5, []), Node(6, [])]), Node(2, []), Node(4, [])]))}\")\n",
    "print(f\"Case 2: {S.maxDepth_DFS(Node(1, [Node(2, []), Node(3, [Node(6, []), Node(7, [Node(11, [Node(14, [])])])]), Node(4, [Node(8, [Node(12, [])])]), Node(5, [Node(9, [Node(13, [])]), Node(10, [])])]))}\\n\")"
   ]
  }
 ],
 "metadata": {
  "kernelspec": {
   "display_name": "Python 3",
   "language": "python",
   "name": "python3"
  },
  "language_info": {
   "codemirror_mode": {
    "name": "ipython",
    "version": 3
   },
   "file_extension": ".py",
   "mimetype": "text/x-python",
   "name": "python",
   "nbconvert_exporter": "python",
   "pygments_lexer": "ipython3",
   "version": "3.7.7"
  }
 },
 "nbformat": 4,
 "nbformat_minor": 4
}
