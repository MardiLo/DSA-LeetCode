{
 "cells": [
  {
   "cell_type": "markdown",
   "metadata": {},
   "source": [
    "`# Breadth-First Search` `# Depth-first Search` `# Tree`"
   ]
  },
  {
   "cell_type": "markdown",
   "metadata": {},
   "source": [
    "Given the `root` of a n-ary tree, find its *maximum depth*.\n",
    "\n",
    "The maximum depth is the number of nodes along the longest path from the root node down to the farthest leaf node.\n",
    "\n",
    "Nary-Tree input serialization is represented in their level order traversal, each group of children is separated by the null value (See examples)."
   ]
  },
  {
   "cell_type": "markdown",
   "metadata": {},
   "source": [
    "**Example 1:**  \n",
    "![Image of leetcode 0559 problem example 1](https://assets.leetcode.com/uploads/2018/10/12/narytreeexample.png)\n",
    "> Input: root = [1,null,3,2,4,null,5,6]  \n",
    "> Output: 3  \n",
    "\n",
    "**Example 2:**  \n",
    "![Image of leetcode 0559 problem example 2](https://assets.leetcode.com/uploads/2019/11/08/sample_4_964.png)\n",
    "> Input: root = [1,null,2,3,4,5,null,null,6,7,null,8,null,9,10,null,null,11,null,12,null,13,null,null,14]  \n",
    "> Output: 5  \n"
   ]
  },
  {
   "cell_type": "code",
   "execution_count": 1,
   "metadata": {},
   "outputs": [],
   "source": [
    "class Node:\n",
    "    def __init__(self, val=None, children=None):\n",
    "        self.val = val\n",
    "        self.children = children\n",
    "\n",
    "class Solution:\n",
    "\n",
    "    # Time Complexity： O(n)\n",
    "    # Space Complexity： O(h)\n",
    "    def maxDepth_DFS_recursion(self, root: Node) -> int:\n",
    "        return max(map(self.maxDepth_DFS_recursion, root.children), default=0) + 1 if root else 0\n",
    "\n",
    "    # Time Complexity： O(n)\n",
    "    # Space Complexity： O(w)\n",
    "    def maxDepth_BFS(self, root: Node) -> int:\n",
    "        from collections import deque\n",
    "        \n",
    "        queue, maxLevel = deque([(1, root)]), 0\n",
    "\n",
    "        while queue:\n",
    "            level, root = queue.popleft()\n",
    "            \n",
    "            if root: \n",
    "                if not root.children: maxLevel = max(maxLevel, level)\n",
    "                queue.extend([(level+1, child) for child in root.children])\n",
    "            \n",
    "        return maxLevel\n",
    "    \n",
    "    # Time Complexity： O(n)\n",
    "    # Space Complexity： O(h)\n",
    "    def maxDepth_DFS_iteration(self, root: Node) -> int:\n",
    "        stack, maxLevel = [(1, root)], 0\n",
    "\n",
    "        while stack:\n",
    "            level, root = stack.pop()\n",
    "            \n",
    "            if root: \n",
    "                if not root.children: maxLevel = max(maxLevel, level)\n",
    "                stack.extend([(level+1, child) for child in root.children])\n",
    "            \n",
    "        return maxLevel"
   ]
  },
  {
   "cell_type": "code",
   "execution_count": 2,
   "metadata": {},
   "outputs": [
    {
     "name": "stdout",
     "output_type": "stream",
     "text": [
      "---maxDepth_DFS_recursion---\n",
      "Case 1: 3\n",
      "Case 2: 5\n",
      "\n",
      "---maxDepth_BFS---\n",
      "Case 1: 3\n",
      "Case 2: 5\n",
      "\n",
      "---maxDepth_DFS_iteration---\n",
      "Case 1: 3\n",
      "Case 2: 5\n"
     ]
    }
   ],
   "source": [
    "# Test on Cases\n",
    "S = Solution()\n",
    "\n",
    "print(\"---maxDepth_DFS_recursion---\")\n",
    "print(f\"Case 1: {S.maxDepth_DFS_recursion(Node(1, [Node(3, [Node(5, []), Node(6, [])]), Node(2, []), Node(4, [])]))}\")\n",
    "print(f\"Case 2: {S.maxDepth_DFS_recursion(Node(1, [Node(2, []), Node(3, [Node(6, []), Node(7, [Node(11, [Node(14, [])])])]), Node(4, [Node(8, [Node(12, [])])]), Node(5, [Node(9, [Node(13, [])]), Node(10, [])])]))}\\n\")\n",
    "\n",
    "print(\"---maxDepth_BFS---\")\n",
    "print(f\"Case 1: {S.maxDepth_BFS(Node(1, [Node(3, [Node(5, []), Node(6, [])]), Node(2, []), Node(4, [])]))}\")\n",
    "print(f\"Case 2: {S.maxDepth_BFS(Node(1, [Node(2, []), Node(3, [Node(6, []), Node(7, [Node(11, [Node(14, [])])])]), Node(4, [Node(8, [Node(12, [])])]), Node(5, [Node(9, [Node(13, [])]), Node(10, [])])]))}\\n\")\n",
    "\n",
    "print(\"---maxDepth_DFS_iteration---\")\n",
    "print(f\"Case 1: {S.maxDepth_DFS_iteration(Node(1, [Node(3, [Node(5, []), Node(6, [])]), Node(2, []), Node(4, [])]))}\")\n",
    "print(f\"Case 2: {S.maxDepth_DFS_iteration(Node(1, [Node(2, []), Node(3, [Node(6, []), Node(7, [Node(11, [Node(14, [])])])]), Node(4, [Node(8, [Node(12, [])])]), Node(5, [Node(9, [Node(13, [])]), Node(10, [])])]))}\")"
   ]
  }
 ],
 "metadata": {
  "kernelspec": {
   "display_name": "Python 3 (ipykernel)",
   "language": "python",
   "name": "python3"
  },
  "language_info": {
   "codemirror_mode": {
    "name": "ipython",
    "version": 3
   },
   "file_extension": ".py",
   "mimetype": "text/x-python",
   "name": "python",
   "nbconvert_exporter": "python",
   "pygments_lexer": "ipython3",
   "version": "3.10.4"
  },
  "vscode": {
   "interpreter": {
    "hash": "21d8332eb27bea95342760850bd7426f517b6a483537194bbba87e10eeabf6ff"
   }
  }
 },
 "nbformat": 4,
 "nbformat_minor": 4
}
