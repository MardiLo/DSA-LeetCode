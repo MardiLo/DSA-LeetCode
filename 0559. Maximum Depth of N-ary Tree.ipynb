{
 "cells": [
  {
   "cell_type": "markdown",
   "source": [
    "`Breadth-First Search` `Depth-first Search` `Tree`"
   ],
   "metadata": {}
  },
  {
   "cell_type": "markdown",
   "source": [
    "Given the `root` of a n-ary tree, find its *maximum depth*.\n",
    "\n",
    "The maximum depth is the number of nodes along the longest path from the root node down to the farthest leaf node.\n",
    "\n",
    "Nary-Tree input serialization is represented in their level order traversal, each group of children is separated by the null value (See examples)."
   ],
   "metadata": {}
  },
  {
   "cell_type": "markdown",
   "source": [
    "**Example 1:**  \r\n",
    "![Image of leetcode 0559 problem example 1](https://assets.leetcode.com/uploads/2018/10/12/narytreeexample.png)\r\n",
    "> Input: root = [1,null,3,2,4,null,5,6]  \r\n",
    "Output: 3  \r\n",
    "\r\n",
    "**Example 2:**  \r\n",
    "![Image of leetcode 0559 problem example 2](https://assets.leetcode.com/uploads/2019/11/08/sample_4_964.png)\r\n",
    "> Input: root = [1,null,2,3,4,5,null,null,6,7,null,8,null,9,10,null,null,11,null,12,null,13,null,null,14]  \r\n",
    "Output: 5  \r\n"
   ],
   "metadata": {}
  },
  {
   "cell_type": "code",
   "execution_count": 7,
   "source": [
    "class Node:\r\n",
    "    def __init__(self, val=None, children=None):\r\n",
    "        self.val = val\r\n",
    "        self.children = children\r\n",
    "\r\n",
    "class Solution:\r\n",
    "       \r\n",
    "    # Time Complexity： O(n)\r\n",
    "    # Space Complexity： O(n)\r\n",
    "    def maxDepth_BFS(self, root: 'TreeNode') -> 'int':\r\n",
    "        from collections import deque\r\n",
    "        \r\n",
    "        if not root:\r\n",
    "            return 0\r\n",
    "        \r\n",
    "        queue = deque([(root, 1)])\r\n",
    "        while queue:\r\n",
    "            node, level = queue.popleft()    # TC: deque.popleft(): O(1); list.pop(0): O(n)\r\n",
    "            \r\n",
    "            for child in node.children:\r\n",
    "                queue.append((child, level+1))\r\n",
    "              \r\n",
    "        return level\r\n",
    "    \r\n",
    "    # Time Complexity： O(n)\r\n",
    "    # Space Complexity： O(n)\r\n",
    "    def maxDepth_DFS(self, root: 'TreeNode') -> 'int':\r\n",
    "        if not root:\r\n",
    "            return 0\r\n",
    "        \r\n",
    "        max_level = 0\r\n",
    "        stack = [(root, 1)]\r\n",
    "        while stack:\r\n",
    "            node, level = stack.pop()\r\n",
    "            max_level = max(max_level, level)\r\n",
    "            \r\n",
    "            for child in node.children:\r\n",
    "                stack.append((child, level+1))\r\n",
    "            \r\n",
    "        return max_level"
   ],
   "outputs": [],
   "metadata": {}
  },
  {
   "cell_type": "code",
   "execution_count": 8,
   "source": [
    "# Test on Cases\r\n",
    "S = Solution()\r\n",
    "\r\n",
    "print(\"---maxDepth_BFS---\")\r\n",
    "print(f\"Case 1: {S.maxDepth_BFS(Node(1, [Node(3, [Node(5, []), Node(6, [])]), Node(2, []), Node(4, [])]))}\")\r\n",
    "print(f\"Case 2: {S.maxDepth_BFS(Node(1, [Node(2, []), Node(3, [Node(6, []), Node(7, [Node(11, [Node(14, [])])])]), Node(4, [Node(8, [Node(12, [])])]), Node(5, [Node(9, [Node(13, [])]), Node(10, [])])]))}\\n\")\r\n",
    "\r\n",
    "print(\"---maxDepth_DFS---\")\r\n",
    "print(f\"Case 1: {S.maxDepth_DFS(Node(1, [Node(3, [Node(5, []), Node(6, [])]), Node(2, []), Node(4, [])]))}\")\r\n",
    "print(f\"Case 2: {S.maxDepth_DFS(Node(1, [Node(2, []), Node(3, [Node(6, []), Node(7, [Node(11, [Node(14, [])])])]), Node(4, [Node(8, [Node(12, [])])]), Node(5, [Node(9, [Node(13, [])]), Node(10, [])])]))}\\n\")"
   ],
   "outputs": [
    {
     "output_type": "stream",
     "name": "stdout",
     "text": [
      "---maxDepth_BFS---\n",
      "Case 1: 3\n",
      "Case 2: 5\n",
      "\n",
      "---maxDepth_DFS---\n",
      "Case 1: 3\n",
      "Case 2: 5\n",
      "\n"
     ]
    }
   ],
   "metadata": {}
  }
 ],
 "metadata": {
  "kernelspec": {
   "display_name": "Python 3",
   "language": "python",
   "name": "python3"
  },
  "language_info": {
   "codemirror_mode": {
    "name": "ipython",
    "version": 3
   },
   "file_extension": ".py",
   "mimetype": "text/x-python",
   "name": "python",
   "nbconvert_exporter": "python",
   "pygments_lexer": "ipython3",
   "version": "3.7.7"
  }
 },
 "nbformat": 4,
 "nbformat_minor": 4
}