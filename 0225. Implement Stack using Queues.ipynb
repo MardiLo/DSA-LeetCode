{
 "cells": [
  {
   "cell_type": "markdown",
   "metadata": {},
   "source": [
    "`# Design` `# Stack` `# Queue`"
   ]
  },
  {
   "cell_type": "markdown",
   "metadata": {},
   "source": [
    "Implement a last-in-first-out (LIFO) stack using only two queues. The implemented stack should support all the functions of a normal stack (`push`, `top`, `pop`, and `empty`).\n",
    "\n",
    "Implement the `MyStack` class:\n",
    "\n",
    "+ `void push(int x)` Pushes element x to the top of the stack.\n",
    "+ `int pop()` Removes the element on the top of the stack and returns it.\n",
    "+ `int top()` Returns the element on the top of the stack.\n",
    "+ `boolean empty()` Returns `true` if the stack is empty, `false` otherwise.\n",
    "\n",
    "Notes:\n",
    "\n",
    "You must use **only** standard operations of a queue, which means that only `push to back`, `peek/pop from front`, `size` and `is empty` operations are valid.\n",
    "Depending on your language, the queue may not be supported natively. You may simulate a queue using a list or deque (double-ended queue) as long as you use only a queue's standard operations."
   ]
  },
  {
   "cell_type": "markdown",
   "metadata": {},
   "source": [
    "**Example 1:**\n",
    "\n",
    "> Input\n",
    "> [\"MyStack\", \"push\", \"push\", \"top\", \"pop\", \"empty\"]  \n",
    "> [[], [1], [2], [], [], []]  \n",
    "> Output  \n",
    "> [null, null, null, 2, 2, false]  \n",
    "> \n",
    "> Explanation  \n",
    "> MyStack myStack = new MyStack();  \n",
    "> myStack.push(1);  \n",
    "> myStack.push(2);  \n",
    "> myStack.top(); // return 2  \n",
    "> myStack.pop(); // return 2  \n",
    "> myStack.empty(); // return False"
   ]
  },
  {
   "cell_type": "code",
   "execution_count": 3,
   "metadata": {},
   "outputs": [],
   "source": [
    "from collections import deque\n",
    "\n",
    "# Time Complexity: O(1)\n",
    "# Space Complexity: O(n), where n is the number of inputs\n",
    "class MyStack:\n",
    "    \n",
    "    def __init__(self):       \n",
    "        self._queue = deque([])\n",
    "        \n",
    "    def push(self, x: int) -> None:\n",
    "        self._queue = deque([x]) + self._queue                   # push to back\n",
    "\n",
    "    def pop(self) -> int:\n",
    "        return self._queue.popleft() if self._queue else None    # pop from front\n",
    "        \n",
    "    def top(self) -> int:\n",
    "        return self._queue[0] if self._queue else None\n",
    "        \n",
    "    def empty(self) -> bool:\n",
    "        return not len(self._queue)"
   ]
  },
  {
   "cell_type": "code",
   "execution_count": 4,
   "metadata": {},
   "outputs": [
    {
     "name": "stdout",
     "output_type": "stream",
     "text": [
      "None\n",
      "None\n",
      "2\n",
      "2\n",
      "False\n"
     ]
    }
   ],
   "source": [
    "# Test on Cases\n",
    "myStack = MyStack()\n",
    "\n",
    "print(myStack.push(1))\n",
    "print(myStack.push(2))\n",
    "print(myStack.top())\n",
    "print(myStack.pop())\n",
    "print(myStack.empty())"
   ]
  }
 ],
 "metadata": {
  "kernelspec": {
   "display_name": "Python 3 (ipykernel)",
   "language": "python",
   "name": "python3"
  },
  "language_info": {
   "codemirror_mode": {
    "name": "ipython",
    "version": 3
   },
   "file_extension": ".py",
   "mimetype": "text/x-python",
   "name": "python",
   "nbconvert_exporter": "python",
   "pygments_lexer": "ipython3",
   "version": "3.10.4"
  },
  "vscode": {
   "interpreter": {
    "hash": "21d8332eb27bea95342760850bd7426f517b6a483537194bbba87e10eeabf6ff"
   }
  }
 },
 "nbformat": 4,
 "nbformat_minor": 4
}
