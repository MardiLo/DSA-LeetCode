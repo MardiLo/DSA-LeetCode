{
 "cells": [
  {
   "attachments": {},
   "cell_type": "markdown",
   "metadata": {},
   "source": [
    "`# Data Stream` `# Design` `# Heap (Priority Queue)` `# Sorting` `# Two Pointers`"
   ]
  },
  {
   "attachments": {},
   "cell_type": "markdown",
   "metadata": {},
   "source": [
    "The **median** is the middle value in an ordered integer list. If the size of the list is even, there is no middle value, and the median is the mean of the two middle values.\n",
    "\n",
    "For example, for `arr = [2,3,4]`, the median is `3`.\n",
    "For example, for `arr = [2,3]`, the median is `(2 + 3) / 2 = 2.5`.\n",
    "Implement the MedianFinder class:\n",
    "\n",
    "- `MedianFinder()` initializes the `MedianFinder` object.\n",
    "- `void addNum(int num)` adds the integer `num` from the data stream to the data structure.\n",
    "- `double findMedian()` returns the median of all elements so far. Answers within `10`<sup>`-5`</sup> of the actual answer will be accepted."
   ]
  },
  {
   "attachments": {},
   "cell_type": "markdown",
   "metadata": {},
   "source": [
    "**Example 1:**\n",
    "\n",
    "> Input  \n",
    "> [\"MedianFinder\", \"addNum\", \"addNum\", \"findMedian\", \"addNum\", \"findMedian\"]  \n",
    "> [[], [1], [2], [], [3], []]  \n",
    "> Output  \n",
    "> [null, null, null, 1.5, null, 2.0]  \n",
    "> \n",
    "> Explanation  \n",
    "> MedianFinder medianFinder = new MedianFinder();  \n",
    "> medianFinder.addNum(1);    // arr = [1]  \n",
    "> medianFinder.addNum(2);    // arr = [1, 2]  \n",
    "> medianFinder.findMedian(); // return 1.5 (i.e., (1 + 2) / 2)  \n",
    "> medianFinder.addNum(3);    // arr[1, 2, 3]  \n",
    "> medianFinder.findMedian(); // return 2.0"
   ]
  },
  {
   "cell_type": "code",
   "execution_count": 11,
   "metadata": {},
   "outputs": [],
   "source": [
    "from heapq import heappush, heappushpop\n",
    "from bisect import insort_left\n",
    "\n",
    "# Time Complexity: O(logn) for addNum, O(1) for findMedian\n",
    "# Space Complexity: O(n), where n is the number of inputs\n",
    "class MedianFinder:\n",
    "\n",
    "    class heap:\n",
    "        def __init__(self):\n",
    "            self.small = []\n",
    "            self.large = []\n",
    "\n",
    "        def addNum(self, num: int) -> None:\n",
    "            if len(self.small) == len(self.large): heappush(self.large, -heappushpop(self.small, -num))\n",
    "            else: heappush(self.small, -heappushpop(self.large, num))\n",
    "\n",
    "        def findMedian(self) -> float:\n",
    "            if len(self.small) == len(self.large): return (self.large[0] - self.small[0]) / 2\n",
    "            else: return self.large[0]\n",
    "\n",
    "\n",
    "# Time Complexity: O(n) for addNum, O(1) for findMedian\n",
    "# Space Complexity: O(n), where n is the number of inputs\n",
    "    class binarySearch:\n",
    "        def __init__(self):\n",
    "            self.stream = []\n",
    "\n",
    "        def addNum(self, num: int) -> None:\n",
    "            insort_left(self.stream, num)\n",
    "\n",
    "        def findMedian(self) -> float:\n",
    "            m, r = divmod(len(self.stream), 2)\n",
    "\n",
    "            return self.stream[m] if r else (self.stream[m-1]+self.stream[m]) / 2"
   ]
  },
  {
   "cell_type": "code",
   "execution_count": 12,
   "metadata": {},
   "outputs": [
    {
     "name": "stdout",
     "output_type": "stream",
     "text": [
      "---MedianFinder_heap---\n",
      "None\n",
      "None\n",
      "1.5\n",
      "None\n",
      "2\n",
      "---MedianFinder_binarySearch---\n",
      "None\n",
      "None\n",
      "1.5\n",
      "None\n",
      "2\n"
     ]
    }
   ],
   "source": [
    "# Test on Cases\n",
    "medianFinder_heap = MedianFinder.heap()\n",
    "\n",
    "print(\"---MedianFinder_heap---\")\n",
    "print(medianFinder_heap.addNum(1))\n",
    "print(medianFinder_heap.addNum(2))\n",
    "print(medianFinder_heap.findMedian())\n",
    "print(medianFinder_heap.addNum(3))\n",
    "print(medianFinder_heap.findMedian())\n",
    "\n",
    "medianFinder_binarySearch = MedianFinder.binarySearch()\n",
    "\n",
    "print(\"---MedianFinder_binarySearch---\")\n",
    "print(medianFinder_binarySearch.addNum(1))\n",
    "print(medianFinder_binarySearch.addNum(2))\n",
    "print(medianFinder_binarySearch.findMedian())\n",
    "print(medianFinder_binarySearch.addNum(3))\n",
    "print(medianFinder_binarySearch.findMedian())"
   ]
  }
 ],
 "metadata": {
  "kernelspec": {
   "display_name": "Python 3 (ipykernel)",
   "language": "python",
   "name": "python3"
  },
  "language_info": {
   "codemirror_mode": {
    "name": "ipython",
    "version": 3
   },
   "file_extension": ".py",
   "mimetype": "text/x-python",
   "name": "python",
   "nbconvert_exporter": "python",
   "pygments_lexer": "ipython3",
   "version": "3.10.4"
  },
  "vscode": {
   "interpreter": {
    "hash": "21d8332eb27bea95342760850bd7426f517b6a483537194bbba87e10eeabf6ff"
   }
  }
 },
 "nbformat": 4,
 "nbformat_minor": 4
}
