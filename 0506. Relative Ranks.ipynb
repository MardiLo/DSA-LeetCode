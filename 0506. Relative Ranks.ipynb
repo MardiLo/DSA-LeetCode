{
 "cells": [
  {
   "cell_type": "markdown",
   "metadata": {},
   "source": [
    "`# Array` `# Heap (Priority Queue)` `# Sorting`"
   ]
  },
  {
   "cell_type": "markdown",
   "metadata": {},
   "source": [
    "You are given an integer array `score` of size `n`, where `score[i]` is the score of the `i`<sup>`th`</sup> athlete in a competition. All the scores are guaranteed to be unique.\n",
    "\n",
    "The athletes are **placed** based on their scores, where the `1`<sup>`st`</sup> place athlete has the highest score, the `2`<sup>`nd`</sup> place athlete has the `2`<sup>`nd`</sup> highest score, and so on. The placement of each athlete determines their rank:\n",
    "\n",
    "- The `1`<sup>`st`</sup> place athlete's rank is `\"Gold Medal\"`.  \n",
    "- The `2`<sup>`nd`</sup> place athlete's rank is `\"Silver Medal\"`.  \n",
    "- The `3`<sup>`rd`</sup> place athlete's rank is `\"Bronze Medal\"`.  \n",
    "- For the `4`<sup>`th`</sup> place to the `n`<sup>`th`</sup> place athlete, their rank is their placement number (i.e., the `x`<sup>`th`</sup> place athlete's rank is `\"x\"`).  \n",
    "\n",
    "Return an array `answer` of size `n` where `answer[i]` is the `rank` of the `i`<sup>`th`</sup> athlete."
   ]
  },
  {
   "cell_type": "markdown",
   "metadata": {},
   "source": [
    "**Example 1:**\n",
    "\n",
    "> Input: score = [5,4,3,2,1]  \n",
    "> Output: [\"Gold Medal\",\"Silver Medal\",\"Bronze Medal\",\"4\",\"5\"]  \n",
    "> Explanation: The placements are [1st, 2nd, 3rd, 4th, 5th].\n",
    "\n",
    "**Example 2**\n",
    "\n",
    "> Input: score = [10,3,8,9,4]  \n",
    "> Output: [\"Gold Medal\",\"5\",\"Bronze Medal\",\"Silver Medal\",\"4\"]  \n",
    "> Explanation: The placements are [1st, 5th, 3rd, 2nd, 4th]."
   ]
  },
  {
   "cell_type": "code",
   "execution_count": 1,
   "metadata": {},
   "outputs": [],
   "source": [
    "class Solution:\n",
    "    \n",
    "    # Time Complexity： O(nlogn)\n",
    "    # Space Complexity： O(n)\n",
    "    def findRelativeRanks(self, score: list[int]) -> list[str]:\n",
    "        rank = dict(zip(\n",
    "            sorted(score, reverse=True), \n",
    "            [\"Gold Medal\", \"Silver Medal\", \"Bronze Medal\"] + [str(i) for i in range(4, len(score)+1)]\n",
    "        ))\n",
    "\n",
    "        return [rank[sc] for sc in score]"
   ]
  },
  {
   "cell_type": "code",
   "execution_count": 2,
   "metadata": {},
   "outputs": [
    {
     "name": "stdout",
     "output_type": "stream",
     "text": [
      "Case 1: ['Gold Medal', 'Silver Medal', 'Bronze Medal', '4', '5']\n",
      "Case 2: ['Gold Medal', '5', 'Bronze Medal', 'Silver Medal', '4']\n"
     ]
    }
   ],
   "source": [
    "# Test on Cases\n",
    "S = Solution()\n",
    "\n",
    "print(f\"Case 1: {S.findRelativeRanks([5,4,3,2,1])}\")\n",
    "print(f\"Case 2: {S.findRelativeRanks([10,3,8,9,4])}\")"
   ]
  }
 ],
 "metadata": {
  "kernelspec": {
   "display_name": "Python 3 (ipykernel)",
   "language": "python",
   "name": "python3"
  },
  "language_info": {
   "codemirror_mode": {
    "name": "ipython",
    "version": 3
   },
   "file_extension": ".py",
   "mimetype": "text/x-python",
   "name": "python",
   "nbconvert_exporter": "python",
   "pygments_lexer": "ipython3",
   "version": "3.11.9"
  },
  "vscode": {
   "interpreter": {
    "hash": "21d8332eb27bea95342760850bd7426f517b6a483537194bbba87e10eeabf6ff"
   }
  }
 },
 "nbformat": 4,
 "nbformat_minor": 4
}
