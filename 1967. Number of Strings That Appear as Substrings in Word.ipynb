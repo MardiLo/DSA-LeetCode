{
 "cells": [
  {
   "cell_type": "markdown",
   "metadata": {},
   "source": [
    "`# String`"
   ]
  },
  {
   "cell_type": "markdown",
   "metadata": {},
   "source": [
    "Given an array of strings `patterns` and a string `word`, return *the ***number*** of strings in* `patterns` *that exist as a ***substring*** in* `word`.\n",
    "\n",
    "A **substring** is a contiguous sequence of characters within a string."
   ]
  },
  {
   "cell_type": "markdown",
   "metadata": {},
   "source": [
    "**Example 1:**\n",
    "\n",
    "> Input: patterns = [\"a\",\"abc\",\"bc\",\"d\"], word = \"abc\"  \n",
    "> Output: 3  \n",
    "> Explanation:  \n",
    "> - \"a\" appears as a substring in \"abc\".  \n",
    "> - \"abc\" appears as a substring in \"abc\".  \n",
    "> - \"bc\" appears as a substring in \"abc\".  \n",
    "> - \"d\" does not appear as a substring in \"abc\".  \n",
    "> \n",
    "> 3 of the strings in patterns appear as a substring in word.\n",
    "\n",
    "**Example 2:**\n",
    "\n",
    "> Input: patterns = [\"a\",\"b\",\"c\"], word = \"aaaaabbbbb\"  \n",
    "> Output: 2  \n",
    "> Explanation:  \n",
    "> - \"a\" appears as a substring in \"aaaaabbbbb\".  \n",
    "> - \"b\" appears as a substring in \"aaaaabbbbb\".  \n",
    "> - \"c\" does not appear as a substring in \"aaaaabbbbb\".  \n",
    "> \n",
    "> 2 of the strings in patterns appear as a substring in word.\n",
    "\n",
    "**Example 3:**  \n",
    "\n",
    "> Input: patterns = [\"a\",\"a\",\"a\"], word = \"ab\"  \n",
    "> Output: 3  \n",
    "> Explanation: Each of the patterns appears as a substring in word \"ab\"."
   ]
  },
  {
   "cell_type": "code",
   "execution_count": 3,
   "metadata": {},
   "outputs": [],
   "source": [
    "class Solution:\n",
    "\n",
    "    # Time Complexity： O(n(w+m)), where n is len(pattern); w is the lenght of each word in patterns; m is len(word)\n",
    "    # Space Complexity： O(1)\n",
    "    def numOfStrings(self, patterns: list[str], word: str) -> int:\n",
    "        return sum(pattern in word for pattern in patterns)"
   ]
  },
  {
   "cell_type": "code",
   "execution_count": 4,
   "metadata": {},
   "outputs": [
    {
     "name": "stdout",
     "output_type": "stream",
     "text": [
      "Case 1: 3\n",
      "Case 2: 2\n",
      "Case 3: 3\n"
     ]
    }
   ],
   "source": [
    "# Test on Cases\n",
    "S = Solution()\n",
    "\n",
    "print(f\"Case 1: {S.numOfStrings(patterns=['a','abc','bc','d'], word='abc')}\")\n",
    "print(f\"Case 2: {S.numOfStrings(patterns=['a','b','c'], word='aaaaabbbbb')}\")\n",
    "print(f\"Case 3: {S.numOfStrings(patterns=['a','a','a'], word='ab')}\")"
   ]
  }
 ],
 "metadata": {
  "kernelspec": {
   "display_name": "Python 3 (ipykernel)",
   "language": "python",
   "name": "python3"
  },
  "language_info": {
   "codemirror_mode": {
    "name": "ipython",
    "version": 3
   },
   "file_extension": ".py",
   "mimetype": "text/x-python",
   "name": "python",
   "nbconvert_exporter": "python",
   "pygments_lexer": "ipython3",
   "version": "3.10.4"
  },
  "vscode": {
   "interpreter": {
    "hash": "21d8332eb27bea95342760850bd7426f517b6a483537194bbba87e10eeabf6ff"
   }
  }
 },
 "nbformat": 4,
 "nbformat_minor": 4
}
