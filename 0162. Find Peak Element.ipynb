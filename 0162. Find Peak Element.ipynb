{
 "cells": [
  {
   "cell_type": "markdown",
   "metadata": {},
   "source": [
    "`# Array` `# Binary Search`"
   ]
  },
  {
   "cell_type": "markdown",
   "metadata": {},
   "source": [
    "A peak element is an element that is strictly greater than its neighbors.\n",
    "\n",
    "Given an integer array `nums`, find a peak element, and return its `index`. If the array contains multiple peaks, return **the index to any of the peaks**.\n",
    "\n",
    "You may imagine that nums[-1] = nums[n] = -∞.\n",
    "\n",
    "You must write an algorithm that runs in **O(log n)** time."
   ]
  },
  {
   "cell_type": "markdown",
   "metadata": {},
   "source": [
    "**Example 1:**\n",
    "\n",
    "> Input: nums = [1,2,3,1]  \n",
    "Output: 2  \n",
    "Explanation: 3 is a peak element and your function should return the index number 2.  \n",
    "\n",
    "**Example 2:**\n",
    "\n",
    "> Input: nums = [1,2,1,3,5,6,4]  \n",
    "Output: 5  \n",
    "Explanation: Your function can return either index number 1 where the peak element is 2, or index number 5 where the peak element is 6.  "
   ]
  },
  {
   "cell_type": "code",
   "execution_count": 1,
   "metadata": {},
   "outputs": [],
   "source": [
    "class Solution:\n",
    "    \n",
    "    # Time Complexity： O(logn)\n",
    "    # Space Complexity： O(1) \n",
    "    def findPeakElement(self, nums: 'List[int]') -> 'int':\n",
    "        l, r = 0, len(nums) - 1\n",
    "        \n",
    "        while l < r:\n",
    "            mid = (l + r) // 2\n",
    "            if nums[mid] < nums[mid+1]:\n",
    "                l = mid + 1\n",
    "            else:\n",
    "                r = mid \n",
    "            \n",
    "        return r"
   ]
  },
  {
   "cell_type": "code",
   "execution_count": 2,
   "metadata": {},
   "outputs": [
    {
     "name": "stdout",
     "output_type": "stream",
     "text": [
      "Case 1: 2\n",
      "Case 2: 5\n"
     ]
    }
   ],
   "source": [
    "# Test on Cases\n",
    "S = Solution()\n",
    "\n",
    "print(f\"Case 1: {S.findPeakElement([1,2,3,1])}\")\n",
    "print(f\"Case 2: {S.findPeakElement([1,2,1,3,5,6,4])}\")"
   ]
  },
  {
   "cell_type": "code",
   "execution_count": null,
   "metadata": {},
   "outputs": [],
   "source": []
  }
 ],
 "metadata": {
  "kernelspec": {
   "display_name": "Python 3",
   "language": "python",
   "name": "python3"
  },
  "language_info": {
   "codemirror_mode": {
    "name": "ipython",
    "version": 3
   },
   "file_extension": ".py",
   "mimetype": "text/x-python",
   "name": "python",
   "nbconvert_exporter": "python",
   "pygments_lexer": "ipython3",
   "version": "3.7.7"
  }
 },
 "nbformat": 4,
 "nbformat_minor": 4
}
