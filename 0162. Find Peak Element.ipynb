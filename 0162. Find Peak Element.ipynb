{
 "cells": [
  {
   "cell_type": "markdown",
   "source": [
    "`# Array` `# Binary Search`"
   ],
   "metadata": {}
  },
  {
   "cell_type": "markdown",
   "source": [
    "A peak element is an element that is strictly greater than its neighbors.\n",
    "\n",
    "Given an integer array `nums`, find a peak element, and return its `index`. If the array contains multiple peaks, return **the index to any of the peaks**.\n",
    "\n",
    "You may imagine that nums[-1] = nums[n] = -∞.\n",
    "\n",
    "You must write an algorithm that runs in **O(log n)** time."
   ],
   "metadata": {}
  },
  {
   "cell_type": "markdown",
   "source": [
    "**Example 1:**\n",
    "\n",
    "> Input: nums = [1,2,3,1]  \n",
    "Output: 2  \n",
    "Explanation: 3 is a peak element and your function should return the index number 2.  \n",
    "\n",
    "**Example 2:**\n",
    "\n",
    "> Input: nums = [1,2,1,3,5,6,4]  \n",
    "Output: 5  \n",
    "Explanation: Your function can return either index number 1 where the peak element is 2, or index number 5 where the peak element is 6.  "
   ],
   "metadata": {}
  },
  {
   "cell_type": "code",
   "execution_count": 1,
   "source": [
    "class Solution:\r\n",
    "    \r\n",
    "    # Time Complexity： O(logn)\r\n",
    "    # Space Complexity： O(1) \r\n",
    "    def findPeakElement(self, nums: 'List[int]') -> 'int':\r\n",
    "        l, r = 0, len(nums) - 1\r\n",
    "        \r\n",
    "        while l <= r:             # TC: O(logn)\r\n",
    "            mid = (l + r) // 2\r\n",
    "            \r\n",
    "            if (mid == 0 or nums[mid-1] < nums[mid]) and (mid == len(nums)-1 or nums[mid] > nums[mid+1]):\r\n",
    "                return mid\r\n",
    "            elif mid == 0 or nums[mid-1] < nums[mid]:\r\n",
    "                l = mid + 1\r\n",
    "            else:\r\n",
    "                r = mid - 1\r\n",
    "            \r\n",
    "        return -1"
   ],
   "outputs": [],
   "metadata": {}
  },
  {
   "cell_type": "code",
   "execution_count": 2,
   "source": [
    "# Test on Cases\r\n",
    "S = Solution()\r\n",
    "\r\n",
    "print(f\"Case 1: {S.findPeakElement([1,2,3,1])}\")\r\n",
    "print(f\"Case 2: {S.findPeakElement([1,2,1,3,5,6,4])}\")"
   ],
   "outputs": [
    {
     "output_type": "stream",
     "name": "stdout",
     "text": [
      "Case 1: 2\n",
      "Case 2: 5\n"
     ]
    }
   ],
   "metadata": {}
  },
  {
   "cell_type": "markdown",
   "source": [
    "**Ref**\r\n",
    "1. [[Python] From Linear to Binary Search - With Picture - O(logN)](https://leetcode.com/problems/find-peak-element/discuss/1334457/Python-From-Linear-to-Binary-Search-With-Picture-O(logN))"
   ],
   "metadata": {}
  }
 ],
 "metadata": {
  "kernelspec": {
   "display_name": "Python 3",
   "language": "python",
   "name": "python3"
  },
  "language_info": {
   "codemirror_mode": {
    "name": "ipython",
    "version": 3
   },
   "file_extension": ".py",
   "mimetype": "text/x-python",
   "name": "python",
   "nbconvert_exporter": "python",
   "pygments_lexer": "ipython3",
   "version": "3.7.7"
  }
 },
 "nbformat": 4,
 "nbformat_minor": 4
}