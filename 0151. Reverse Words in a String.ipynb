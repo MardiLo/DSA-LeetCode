{
 "cells": [
  {
   "cell_type": "markdown",
   "metadata": {},
   "source": [
    "`# String` `# Two Pointers`"
   ]
  },
  {
   "cell_type": "markdown",
   "metadata": {},
   "source": [
    "Given an input string `s`, reverse the order of the **words**.\n",
    "\n",
    "A **word** is defined as a sequence of non-space characters. The **words** in `s` will be separated by at least one space.\n",
    "\n",
    "Return *a string of the words in reverse order concatenated by a single space.*\n",
    "\n",
    "**Note** that `s` may contain leading or trailing spaces or multiple spaces between two words. The returned string should only have a single space separating the words. Do not include any extra spaces."
   ]
  },
  {
   "cell_type": "markdown",
   "metadata": {},
   "source": [
    "**Example 1:**  \n",
    "\n",
    "> Input: s = \"the sky is blue\"  \n",
    "> Output: \"blue is sky the\"\n",
    "\n",
    "**Example 2:**  \n",
    "\n",
    "> Input: s = \"  hello world  \"  \n",
    "> Output: \"world hello\"  \n",
    "> Explanation: Your reversed string should not contain leading or trailing spaces.\n",
    "\n",
    "**Example 3:**  \n",
    "\n",
    "> Input: s = \"a good   example\"  \n",
    "> Output: \"example good a\"  \n",
    "> Explanation: You need to reduce multiple spaces between two words to a single space in the reversed string."
   ]
  },
  {
   "cell_type": "code",
   "execution_count": 1,
   "metadata": {},
   "outputs": [],
   "source": [
    "class Solution:\n",
    "    \n",
    "    # Time Complexity： O(n), where n is the number of words in s\n",
    "    # Space Complexity： O(n)       \n",
    "    def reverseWords(self, s: str) -> str:\n",
    "        return ' '.join(s.split()[::-1])"
   ]
  },
  {
   "cell_type": "code",
   "execution_count": 2,
   "metadata": {},
   "outputs": [
    {
     "name": "stdout",
     "output_type": "stream",
     "text": [
      "Case 1: blue is sky the\n",
      "Case 2: world hello\n",
      "Case 3: example good a\n"
     ]
    }
   ],
   "source": [
    "# Test on Cases\n",
    "S = Solution()\n",
    "\n",
    "print(f\"Case 1: {S.reverseWords('the sky is blue')}\")\n",
    "print(f\"Case 2: {S.reverseWords('  hello world  ')}\")\n",
    "print(f\"Case 3: {S.reverseWords('a good   example')}\")"
   ]
  }
 ],
 "metadata": {
  "kernelspec": {
   "display_name": "Python 3 (ipykernel)",
   "language": "python",
   "name": "python3"
  },
  "language_info": {
   "codemirror_mode": {
    "name": "ipython",
    "version": 3
   },
   "file_extension": ".py",
   "mimetype": "text/x-python",
   "name": "python",
   "nbconvert_exporter": "python",
   "pygments_lexer": "ipython3",
   "version": "3.11.9"
  },
  "vscode": {
   "interpreter": {
    "hash": "21d8332eb27bea95342760850bd7426f517b6a483537194bbba87e10eeabf6ff"
   }
  }
 },
 "nbformat": 4,
 "nbformat_minor": 4
}
