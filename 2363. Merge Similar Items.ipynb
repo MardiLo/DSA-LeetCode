{
 "cells": [
  {
   "cell_type": "markdown",
   "metadata": {},
   "source": [
    "`# Array` `# Hash Table` `# Ordered Set` `# Sorting`"
   ]
  },
  {
   "cell_type": "markdown",
   "metadata": {},
   "source": [
    "You are given two 2D integer arrays, `items1` and `items2`, representing two sets of items. Each array items has the following properties:\n",
    "\n",
    "- `items[i] = [value`<sub>`i`</sub>`, weight`<sub>`i`</sub>`]` where `value`<sub>`i`</sub> represents the **value** and `weight`<sub>`i`</sub> represents the **weight** of the `i`<sup>`th`</sup> item.\n",
    "- The value of each item in items is **unique**.\n",
    "\n",
    "Return *a 2D integer array* `ret` *where* `ret[i] = [value`<sub>`i`</sub>`, weight`<sub>`i`</sub>`]`*, with* `weight`<sub>`i`</sub> *being the sum of weights of all items with value* `value`<sub>`i`</sub>.\n",
    "\n",
    "Note: `ret` should be returned in **ascending** order by value."
   ]
  },
  {
   "cell_type": "markdown",
   "metadata": {},
   "source": [
    "**Example 1:**\n",
    "\n",
    "> Input: items1 = [[1,1],[4,5],[3,8]], items2 = [[3,1],[1,5]]  \n",
    "Output: [[1,6],[3,9],[4,5]]  \n",
    "Explanation:   \n",
    "The item with value = 1 occurs in items1 with weight = 1 and in items2 with weight = 5, total weight = 1 + 5 = 6.  \n",
    "The item with value = 3 occurs in items1 with weight = 8 and in items2 with weight = 1, total weight = 8 + 1 = 9.  \n",
    "The item with value = 4 occurs in items1 with weight = 5, total weight = 5.    \n",
    "Therefore, we return [[1,6],[3,9],[4,5]].\n",
    "\n",
    "**Example 2:**\n",
    "\n",
    "> Input: items1 = [[1,1],[3,2],[2,3]], items2 = [[2,1],[3,2],[1,3]]  \n",
    "Output: [[1,4],[2,4],[3,4]]  \n",
    "Explanation:   \n",
    "The item with value = 1 occurs in items1 with weight = 1 and in items2 with weight = 3, total weight = 1 + 3 = 4.  \n",
    "The item with value = 2 occurs in items1 with weight = 3 and in items2 with weight = 1, total weight = 3 + 1 = 4.  \n",
    "The item with value = 3 occurs in items1 with weight = 2 and in items2 with weight = 2, total weight = 2 + 2 = 4.  \n",
    "Therefore, we return [[1,4],[2,4],[3,4]].\n",
    "\n",
    "**Example 3:**\n",
    "\n",
    "> Input: items1 = [[1,3],[2,2]], items2 = [[7,1],[2,2],[1,4]]  \n",
    "Output: [[1,7],[2,4],[7,1]]  \n",
    "Explanation:  \n",
    "The item with value = 1 occurs in items1 with weight = 3 and in items2 with weight = 4, total weight = 3 + 4 = 7.   \n",
    "The item with value = 2 occurs in items1 with weight = 2 and in items2 with weight = 2, total weight = 2 + 2 = 4.   \n",
    "The item with value = 7 occurs in items2 with weight = 1, total weight = 1.  \n",
    "Therefore, we return [[1,7],[2,4],[7,1]]."
   ]
  },
  {
   "cell_type": "code",
   "execution_count": 1,
   "metadata": {},
   "outputs": [],
   "source": [
    "class Solution:\n",
    "\n",
    "    # Time Complexity： O((m+n)log(m+n))\n",
    "    # Space Complexity： O(m+n)\n",
    "    def mergeSimilarItems(self, items1: list[list[int]], items2: list[list[int]]) -> list[list[int]]:\n",
    "        from collections import Counter\n",
    "\n",
    "        return sorted((Counter(dict(items1)) + Counter(dict(items2))).items())"
   ]
  },
  {
   "cell_type": "code",
   "execution_count": 2,
   "metadata": {},
   "outputs": [
    {
     "name": "stdout",
     "output_type": "stream",
     "text": [
      "Case 1: [(1, 6), (3, 9), (4, 5)]\n",
      "Case 2: [(1, 4), (2, 4), (3, 4)]\n",
      "Case 3: [(1, 7), (2, 4), (7, 1)]\n"
     ]
    }
   ],
   "source": [
    "# Test on Cases\n",
    "S = Solution()\n",
    "\n",
    "print(f\"Case 1: {S.mergeSimilarItems(items1=[[1,1],[4,5],[3,8]], items2=[[3,1],[1,5]])}\")\n",
    "print(f\"Case 2: {S.mergeSimilarItems(items1=[[1,1],[3,2],[2,3]], items2=[[2,1],[3,2],[1,3]])}\")\n",
    "print(f\"Case 3: {S.mergeSimilarItems(items1=[[1,3],[2,2]], items2=[[7,1],[2,2],[1,4]])}\")"
   ]
  }
 ],
 "metadata": {
  "kernelspec": {
   "display_name": "Python 3.10.4 ('leetcode')",
   "language": "python",
   "name": "python3"
  },
  "language_info": {
   "codemirror_mode": {
    "name": "ipython",
    "version": 3
   },
   "file_extension": ".py",
   "mimetype": "text/x-python",
   "name": "python",
   "nbconvert_exporter": "python",
   "pygments_lexer": "ipython3",
   "version": "3.10.4"
  },
  "vscode": {
   "interpreter": {
    "hash": "21d8332eb27bea95342760850bd7426f517b6a483537194bbba87e10eeabf6ff"
   }
  }
 },
 "nbformat": 4,
 "nbformat_minor": 4
}
