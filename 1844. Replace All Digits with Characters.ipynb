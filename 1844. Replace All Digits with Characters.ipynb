{
 "cells": [
  {
   "cell_type": "markdown",
   "metadata": {},
   "source": [
    "`# String`"
   ]
  },
  {
   "cell_type": "markdown",
   "metadata": {},
   "source": [
    "You are given a **0-indexed** string `s` that has lowercase English letters in its **even** indices and digits in its **odd** indices.\n",
    "\n",
    "There is a function `shift(c, x)`, where `c` is a character and `x` is a digit, that returns the `x`<sup>`th`</sup> character after `c`.\n",
    "\n",
    "- For example, `shift('a', 5) = 'f'` and `shift('x', 0) = 'x'`.\n",
    "For every **odd** index `i`, you want to replace the digit `s[i]` with `shift(s[i-1], s[i])`.\n",
    "\n",
    "Return `s` *after replacing all digits. It is ***guaranteed*** that* `shift(s[i-1], s[i])` *will never exceed* `'z'`."
   ]
  },
  {
   "cell_type": "markdown",
   "metadata": {},
   "source": [
    "**Example 1:**\n",
    "\n",
    "> Input: s = \"a1c1e1\"  \n",
    "> Output: \"abcdef\"  \n",
    "> Explanation: The digits are replaced as follows:  \n",
    "> - s[1] -> shift('a',1) = 'b'  \n",
    "> - s[3] -> shift('c',1) = 'd'  \n",
    "> - s[5] -> shift('e',1) = 'f'  \n",
    "\n",
    "**Example 2:**\n",
    "\n",
    "> Input: s = \"a1b2c3d4e\"  \n",
    "> Output: \"abbdcfdhe\"  \n",
    "> Explanation: The digits are replaced as follows:  \n",
    "> - s[1] -> shift('a',1) = 'b'  \n",
    "> - s[3] -> shift('b',2) = 'd'  \n",
    "> - s[5] -> shift('c',3) = 'f'  \n",
    "> - s[7] -> shift('d',4) = 'h'"
   ]
  },
  {
   "cell_type": "code",
   "execution_count": 3,
   "metadata": {},
   "outputs": [],
   "source": [
    "class Solution:\n",
    "\n",
    "    # Time Complexity： O(n)\n",
    "    # Space Complexity： O(n)\n",
    "    def replaceDigits(self, s: str) -> str: \n",
    "        return ''.join(chr(ord(s[i-1]) + int(s[i])) if i%2 else s[i] for i in range(len(s)))"
   ]
  },
  {
   "cell_type": "code",
   "execution_count": 4,
   "metadata": {},
   "outputs": [
    {
     "name": "stdout",
     "output_type": "stream",
     "text": [
      "Case 1: abcdef\n",
      "Case 2: abbdcfdhe\n"
     ]
    }
   ],
   "source": [
    "# Test on Cases\n",
    "S = Solution()\n",
    "\n",
    "print(f\"Case 1: {S.replaceDigits('a1c1e1')}\")\n",
    "print(f\"Case 2: {S.replaceDigits('a1b2c3d4e')}\")"
   ]
  }
 ],
 "metadata": {
  "kernelspec": {
   "display_name": "Python 3 (ipykernel)",
   "language": "python",
   "name": "python3"
  },
  "language_info": {
   "codemirror_mode": {
    "name": "ipython",
    "version": 3
   },
   "file_extension": ".py",
   "mimetype": "text/x-python",
   "name": "python",
   "nbconvert_exporter": "python",
   "pygments_lexer": "ipython3",
   "version": "3.10.4"
  },
  "vscode": {
   "interpreter": {
    "hash": "21d8332eb27bea95342760850bd7426f517b6a483537194bbba87e10eeabf6ff"
   }
  }
 },
 "nbformat": 4,
 "nbformat_minor": 4
}
