{
 "cells": [
  {
   "cell_type": "markdown",
   "metadata": {},
   "source": [
    "`# Hash Table` `# String`"
   ]
  },
  {
   "cell_type": "markdown",
   "metadata": {},
   "source": [
    "There are `n` rings and each ring is either red, green, or blue. The rings are distributed **across ten rods** labeled from `0` to `9`.\n",
    "\n",
    "You are given a string `rings` of length `2n` that describes the `n` rings that are placed onto the rods. Every two characters in `rings` forms a **color-position pair** that is used to describe each ring where:\n",
    "\n",
    "- The **first** character of the `i`<sup>`th`</sup> pair denotes the `i`<sup>`th`</sup> ring's **color** (`'R'`, `'G'`, `'B'`).\n",
    "- The **second** character of the `i`<sup>`th`</sup> pair denotes the **rod** that the `i`<sup>`th`</sup> ring is placed on (`'0'` to `'9'`).\n",
    "For example, `\"R3G2B1\"` describes `n == 3` rings: a red ring placed onto the rod labeled 3, a green ring placed onto the rod labeled 2, and a blue ring placed onto the rod labeled 1.\n",
    "\n",
    "Return *the number of rods that have ***all three colors*** of rings on them.*"
   ]
  },
  {
   "cell_type": "markdown",
   "metadata": {},
   "source": [
    "**Example 1:**  \n",
    "![Image of leetcode 2103 problem example 1](https://assets.leetcode.com/uploads/2021/11/23/ex1final.png)\n",
    "> Input: rings = \"B0B6G0R6R0R6G9\"  \n",
    "Output: 1  \n",
    "Explanation:   \n",
    "    - The rod labeled 0 holds 3 rings with all colors: red, green, and blue.  \n",
    "    - The rod labeled 6 holds 3 rings, but it only has red and blue.  \n",
    "    - The rod labeled 9 holds only a green ring.  \n",
    "Thus, the number of rods with all three colors is 1.\n",
    "\n",
    "**Example 2:**  \n",
    "![Image of leetcode 2103 problem example 2](https://assets.leetcode.com/uploads/2021/11/23/ex2final.png)\n",
    "> Input: rings = \"B0R0G0R9R0B0G0\"  \n",
    "Output: 1  \n",
    "Explanation:   \n",
    "    - The rod labeled 0 holds 6 rings with all colors: red, green, and blue.  \n",
    "    - The rod labeled 9 holds only a red ring.  \n",
    "Thus, the number of rods with all three colors is 1.\n",
    "\n",
    "**Example 3:**  \n",
    "\n",
    "> Input: rings = \"G4\"  \n",
    "Output: 0  \n",
    "Explanation:   \n",
    "Only one ring is given. Thus, no rods have all three colors."
   ]
  },
  {
   "cell_type": "code",
   "execution_count": 1,
   "metadata": {},
   "outputs": [],
   "source": [
    "class Solution:\n",
    "    \n",
    "    # Time Complexity： O(n), where n = len(rings)/2\n",
    "    # Space Complexity： O(n)    \n",
    "    def countPoints(self, rings: str) -> int:\n",
    "        from collections import defaultdict\n",
    "        \n",
    "        dic = defaultdict(set)\n",
    "        \n",
    "        for i in range(0, len(rings), 2):\n",
    "            dic[rings[i+1]].add(rings[i])\n",
    "        \n",
    "        return sum(len(colors) == 3 for colors in dic.values())"
   ]
  },
  {
   "cell_type": "code",
   "execution_count": 2,
   "metadata": {},
   "outputs": [
    {
     "name": "stdout",
     "output_type": "stream",
     "text": [
      "Case 1: 1\n",
      "Case 2: 1\n",
      "Case 3: 0\n"
     ]
    }
   ],
   "source": [
    "# Test on Cases\n",
    "S = Solution()\n",
    "\n",
    "print(f\"Case 1: {S.countPoints('B0B6G0R6R0R6G9')}\")\n",
    "print(f\"Case 2: {S.countPoints('B0R0G0R9R0B0G0')}\")\n",
    "print(f\"Case 3: {S.countPoints('G4')}\")"
   ]
  }
 ],
 "metadata": {
  "kernelspec": {
   "display_name": "Python 3.10.4 ('leetcode')",
   "language": "python",
   "name": "python3"
  },
  "language_info": {
   "codemirror_mode": {
    "name": "ipython",
    "version": 3
   },
   "file_extension": ".py",
   "mimetype": "text/x-python",
   "name": "python",
   "nbconvert_exporter": "python",
   "pygments_lexer": "ipython3",
   "version": "3.10.4"
  },
  "vscode": {
   "interpreter": {
    "hash": "21d8332eb27bea95342760850bd7426f517b6a483537194bbba87e10eeabf6ff"
   }
  }
 },
 "nbformat": 4,
 "nbformat_minor": 4
}
