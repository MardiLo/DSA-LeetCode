{
 "cells": [
  {
   "attachments": {},
   "cell_type": "markdown",
   "metadata": {},
   "source": [
    "`# Array`"
   ]
  },
  {
   "attachments": {},
   "cell_type": "markdown",
   "metadata": {},
   "source": [
    "Given a string `s` consisting of words and spaces, return *the length of the **last** word in the string.*\n",
    "\n",
    "A **word** is a maximal substring consisting of non-space characters only."
   ]
  },
  {
   "attachments": {},
   "cell_type": "markdown",
   "metadata": {},
   "source": [
    "**Example 1:**\n",
    "\n",
    "> Input: s = \"Hello World\"  \n",
    "> Output: 5  \n",
    "> Explanation: The last word is \"World\" with length 5.\n",
    "\n",
    "**Example 2:**\n",
    "\n",
    "> Input: s = \"   fly me   to   the moon  \"  \n",
    "> Output: 4\n",
    "> Explanation: The last word is \"moon\" with length 4.\n",
    "\n",
    "**Example 3:**\n",
    "\n",
    "> Input: s = \"luffy is still joyboy\"  \n",
    "> Output: 6  \n",
    "> Explanation: The last word is \"joyboy\" with length 6."
   ]
  },
  {
   "cell_type": "code",
   "execution_count": 1,
   "metadata": {},
   "outputs": [],
   "source": [
    "class Solution:\n",
    "\n",
    "    # Time Complexity： O(n)\n",
    "    # Space Complexity： O(1)  \n",
    "    def lengthOfLastWord(self, s: str) -> int:\n",
    "        cnt = 0\n",
    "        \n",
    "        for i in range(len(s)):\n",
    "            if s[~i] != ' ': cnt += 1\n",
    "            if cnt > 0 and s[~i] == ' ': return cnt\n",
    "        \n",
    "        return cnt\n",
    "    \n",
    "    # Time Complexity： O(n)\n",
    "    # Space Complexity： O(n)      \n",
    "    def lengthOfLastWord_lib(self, s: str) -> int:\n",
    "        return len(s.rstrip().rsplit(' ', 1)[-1])"
   ]
  },
  {
   "cell_type": "code",
   "execution_count": 2,
   "metadata": {},
   "outputs": [
    {
     "name": "stdout",
     "output_type": "stream",
     "text": [
      "---lengthOfLastWord---\n",
      "Case 1: 5\n",
      "Case 2: 4\n",
      "Case 3: 6\n",
      "\n",
      "---lengthOfLastWord_lib---\n",
      "Case 1: 5\n",
      "Case 2: 4\n",
      "Case 3: 6\n"
     ]
    }
   ],
   "source": [
    "# Test on Cases\n",
    "S = Solution()\n",
    "\n",
    "print(\"---lengthOfLastWord---\")\n",
    "print(f\"Case 1: {S.lengthOfLastWord('Hello World')}\")\n",
    "print(f\"Case 2: {S.lengthOfLastWord('   fly me   to   the moon  ')}\")\n",
    "print(f\"Case 3: {S.lengthOfLastWord('luffy is still joyboy')}\\n\")\n",
    "\n",
    "print(\"---lengthOfLastWord_lib---\")\n",
    "print(f\"Case 1: {S.lengthOfLastWord_lib('Hello World')}\")\n",
    "print(f\"Case 2: {S.lengthOfLastWord_lib('   fly me   to   the moon  ')}\")\n",
    "print(f\"Case 3: {S.lengthOfLastWord_lib('luffy is still joyboy')}\")"
   ]
  }
 ],
 "metadata": {
  "interpreter": {
   "hash": "21d8332eb27bea95342760850bd7426f517b6a483537194bbba87e10eeabf6ff"
  },
  "kernelspec": {
   "display_name": "Python 3 (ipykernel)",
   "language": "python",
   "name": "python3"
  },
  "language_info": {
   "codemirror_mode": {
    "name": "ipython",
    "version": 3
   },
   "file_extension": ".py",
   "mimetype": "text/x-python",
   "name": "python",
   "nbconvert_exporter": "python",
   "pygments_lexer": "ipython3",
   "version": "3.10.4"
  }
 },
 "nbformat": 4,
 "nbformat_minor": 4
}
