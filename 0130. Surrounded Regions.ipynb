{
 "cells": [
  {
   "cell_type": "markdown",
   "metadata": {},
   "source": [
    "`# Array` `# Breadth-First Search` `# Depth-First Search` `# Matrix` `# Union Find`"
   ]
  },
  {
   "cell_type": "markdown",
   "metadata": {},
   "source": [
    "Given an `m x n` matrix board containing `'X'` and `'O'`, *capture all regions that are 4-directionally surrounded by* `'X'`.\n",
    "\n",
    "A region is captured by flipping all `'O'`s into `'X'`s in that surrounded region."
   ]
  },
  {
   "cell_type": "markdown",
   "metadata": {},
   "source": [
    "**Example 1:**  \n",
    "![Image of leetcode 0130 problem example 1](https://assets.leetcode.com/uploads/2021/02/19/xogrid.jpg)\n",
    "> Input: board = [[\"X\",\"X\",\"X\",\"X\"],[\"X\",\"O\",\"O\",\"X\"],[\"X\",\"X\",\"O\",\"X\"],[\"X\",\"O\",\"X\",\"X\"]]  \n",
    "Output: [[\"X\",\"X\",\"X\",\"X\"],[\"X\",\"X\",\"X\",\"X\"],[\"X\",\"X\",\"X\",\"X\"],[\"X\",\"O\",\"X\",\"X\"]]  \n",
    "Explanation: Surrounded regions should not be on the border, which means that any 'O' on the border of the board are not flipped to 'X'. Any 'O' that is not on the border and it is not connected to an 'O' on the border will be flipped to 'X'. Two cells are connected if they are adjacent cells connected horizontally or vertically.\n",
    "\n",
    "**Example 2**  \n",
    "\n",
    "> Input: board = [[\"X\"]]  \n",
    "Output: [[\"X\"]]  "
   ]
  },
  {
   "cell_type": "code",
   "execution_count": 3,
   "metadata": {},
   "outputs": [],
   "source": [
    "class Solution:\n",
    "    \n",
    "    # Time Complexity： O(mn)\n",
    "    # Space Complexity： O(mn)\n",
    "    def solve(self, board: 'List[List[str]]') -> 'None':\n",
    "        \"\"\"\n",
    "        Do not return anything, modify board in-place instead.\n",
    "        \"\"\"\n",
    "        from itertools import product\n",
    "\n",
    "        def dfs(i: 'int', j: 'int') -> 'int':\n",
    "            if 0 <= i < self.m and 0 <= j < self.n and board[i][j] == 'O':\n",
    "                board[i][j] = 'T'\n",
    "                list(map(dfs, (i-1, i+1, i, i), (j, j, j-1, j+1)))\n",
    "                \n",
    "        self.m, self.n = len(board), len(board[0])\n",
    "        \n",
    "        # Capture unsurroundered regions (O -> T)\n",
    "        for i, j in product(range(self.m), range(self.n)):\n",
    "            if i in (0, self.m-1) or j in (0, self.n-1):\n",
    "                dfs(i, j)\n",
    "                \n",
    "        # Capture surroundered regions (O -> X, T -> O)\n",
    "        for i, j in product(range(self.m), range(self.n)):\n",
    "            if board[i][j] == 'T': board[i][j] = 'O'\n",
    "            elif board[i][j] == 'O': board[i][j] = 'X'\n",
    "\n",
    "        return board"
   ]
  },
  {
   "cell_type": "code",
   "execution_count": 4,
   "metadata": {},
   "outputs": [
    {
     "name": "stdout",
     "output_type": "stream",
     "text": [
      "Case 1: [['X', 'X', 'X', 'X'], ['X', 'X', 'X', 'X'], ['X', 'X', 'X', 'X'], ['X', 'O', 'X', 'X']]\n",
      "Case 2: [['X']]\n"
     ]
    }
   ],
   "source": [
    "# Test on Cases\n",
    "S = Solution()\n",
    "\n",
    "print(f\"\"\"Case 1: {S.solve([[\"X\",\"X\",\"X\",\"X\"],[\"X\",\"O\",\"O\",\"X\"],[\"X\",\"X\",\"O\",\"X\"],[\"X\",\"O\",\"X\",\"X\"]])}\"\"\")\n",
    "print(f\"\"\"Case 2: {S.solve([[\"X\"]])}\"\"\")"
   ]
  },
  {
   "cell_type": "markdown",
   "metadata": {},
   "source": [
    "**Ref**\n",
    "1. [[Python] O(mn), 3 colors dfs, explained](https://leetcode.com/problems/surrounded-regions/discuss/691646/Python-O(mn)-3-colors-dfs-explained)"
   ]
  }
 ],
 "metadata": {
  "kernelspec": {
   "display_name": "Python 3",
   "language": "python",
   "name": "python3"
  },
  "language_info": {
   "codemirror_mode": {
    "name": "ipython",
    "version": 3
   },
   "file_extension": ".py",
   "mimetype": "text/x-python",
   "name": "python",
   "nbconvert_exporter": "python",
   "pygments_lexer": "ipython3",
   "version": "3.8.3"
  }
 },
 "nbformat": 4,
 "nbformat_minor": 4
}
