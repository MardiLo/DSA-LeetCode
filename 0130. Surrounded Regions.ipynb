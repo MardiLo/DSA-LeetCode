{
 "cells": [
  {
   "cell_type": "markdown",
   "metadata": {},
   "source": [
    "`# Array` `# Breadth-First Search` `# Depth-First Search` `# Matrix` `# Union Find`"
   ]
  },
  {
   "cell_type": "markdown",
   "metadata": {},
   "source": [
    "Given an `m x n` matrix board containing `'X'` and `'O'`, *capture all regions that are 4-directionally surrounded by* `'X'`.\n",
    "\n",
    "A region is captured by flipping all `'O'`s into `'X'`s in that surrounded region."
   ]
  },
  {
   "cell_type": "markdown",
   "metadata": {},
   "source": [
    "**Example 1:**  \n",
    "![Image of leetcode 0130 problem example 1](https://assets.leetcode.com/uploads/2021/02/19/xogrid.jpg)\n",
    "> Input: board = [[\"X\",\"X\",\"X\",\"X\"],[\"X\",\"O\",\"O\",\"X\"],[\"X\",\"X\",\"O\",\"X\"],[\"X\",\"O\",\"X\",\"X\"]]  \n",
    "> Output: [[\"X\",\"X\",\"X\",\"X\"],[\"X\",\"X\",\"X\",\"X\"],[\"X\",\"X\",\"X\",\"X\"],[\"X\",\"O\",\"X\",\"X\"]]  \n",
    "> Explanation: Surrounded regions should not be on the border, which means that any 'O' on the border of the board are not flipped to 'X'. Any 'O' that is not on the border and it is not connected to an 'O' on the border will be flipped to 'X'. Two cells are connected if they are adjacent cells connected horizontally or vertically.\n",
    "\n",
    "**Example 2**  \n",
    "\n",
    "> Input: board = [[\"X\"]]  \n",
    "> Output: [[\"X\"]]  "
   ]
  },
  {
   "cell_type": "code",
   "execution_count": 3,
   "metadata": {},
   "outputs": [],
   "source": [
    "class Solution:\n",
    "    \n",
    "    # Time Complexity： O(mn)\n",
    "    # Space Complexity： O(mn)\n",
    "    def solve_DFS_recursion(self, board: list[list[str]]) -> None:\n",
    "        \"\"\"Do not return anything, modify board in-place instead.\"\"\"\n",
    "        from itertools import product\n",
    "        \n",
    "        m, n, direction = len(board), len(board[0]), [(-1, 0), (1, 0), (0, -1), (0, 1)]\n",
    "\n",
    "        def dfs(i: int, j: int) -> None:\n",
    "            if not (0 <= i < m and 0 <= j < n and board[i][j] == 'O'): return\n",
    "\n",
    "            board[i][j] = 'T'\n",
    "            [dfs(i+dx, j+dy) for dx, dy in direction]\n",
    "                \n",
    "            return  \n",
    "\n",
    "        # Capture unsurroundered regions (O -> T)\n",
    "        [dfs(i, j) for i, j in product(range(m), range(n)) if i in (0, m-1) or j in (0, n-1)]\n",
    "\n",
    "        # Capture surroundered regions (O -> X, T -> O)        \n",
    "        for i, j in product(range(m), range(n)):            \n",
    "            match board[i][j]:\n",
    "                case 'T': board[i][j] = 'O'\n",
    "                case 'O': board[i][j] = 'X'\n",
    "\n",
    "        return board\n",
    "\n",
    "    # Time Complexity： O(mn)\n",
    "    # Space Complexity： O(mn)\n",
    "    def solve_BFS(self, board: list[list[str]]) -> None:\n",
    "        \"\"\"Do not return anything, modify board in-place instead.\"\"\"\n",
    "        from itertools import product\n",
    "        from collections import deque\n",
    "\n",
    "        m, n, direction = len(board), len(board[0]), [(-1, 0), (1, 0), (0, -1), (0, 1)]\n",
    "\n",
    "        def bfs(i: int, j: int) -> None:\n",
    "            if board[i][j] == 'X': return\n",
    "\n",
    "            queue = deque([(i, j)])\n",
    "\n",
    "            while queue:\n",
    "                i, j = queue.popleft()\n",
    "\n",
    "                board[i][j] = 'T'\n",
    "\n",
    "                for dx, dy in direction:\n",
    "                    if 0 <= (neb_i := i+dx) < m and 0 <= (neb_j := j+dy) < n and board[neb_i][neb_j] == 'O':\n",
    "                        queue.append((neb_i, neb_j))\n",
    "        \n",
    "        # Capture unsurroundered regions (O -> T)\n",
    "        [bfs(i, j) for i, j in product(range(m), range(n)) if i in (0, m-1) or j in (0, n-1)]\n",
    "\n",
    "        # Capture surroundered regions (O -> X, T -> O)        \n",
    "        for i, j in product(range(m), range(n)):            \n",
    "            match board[i][j]:\n",
    "                case 'T': board[i][j] = 'O'\n",
    "                case 'O': board[i][j] = 'X'\n",
    "        \n",
    "        return board\n",
    "\n",
    "    # Time Complexity： O(mn)\n",
    "    # Space Complexity： O(mn)\n",
    "    def solve_DFS_iteration(self, board: list[list[str]]) -> None:\n",
    "        \"\"\"Do not return anything, modify board in-place instead.\"\"\"\n",
    "        from itertools import product\n",
    "\n",
    "        m, n, direction = len(board), len(board[0]), [(-1, 0), (1, 0), (0, -1), (0, 1)]\n",
    "\n",
    "        def dfs(i: int, j: int) -> None:\n",
    "            if board[i][j] == 'X': return\n",
    "\n",
    "            stack = [(i, j)]\n",
    "            \n",
    "            while stack:\n",
    "                i, j = stack.pop()\n",
    "\n",
    "                board[i][j] = 'T'\n",
    "\n",
    "                for dx, dy in direction:\n",
    "                    if 0 <= (neb_i := i+dx) < m and 0 <= (neb_j := j+dy) < n and board[neb_i][neb_j] == 'O':\n",
    "                        stack.append((neb_i, neb_j))\n",
    "        \n",
    "        # Capture unsurroundered regions (O -> T)\n",
    "        [dfs(i, j) for i, j in product(range(m), range(n)) if i in (0, m-1) or j in (0, n-1)]\n",
    "\n",
    "        # Capture surroundered regions (O -> X, T -> O)        \n",
    "        for i, j in product(range(m), range(n)):            \n",
    "            match board[i][j]:\n",
    "                case 'T': board[i][j] = 'O'\n",
    "                case 'O': board[i][j] = 'X'\n",
    "        \n",
    "        return board"
   ]
  },
  {
   "cell_type": "code",
   "execution_count": 4,
   "metadata": {},
   "outputs": [
    {
     "name": "stdout",
     "output_type": "stream",
     "text": [
      "---solve_DFS_recursion---\n",
      "Case 1: [['X', 'X', 'X', 'X'], ['X', 'X', 'X', 'X'], ['X', 'X', 'X', 'X'], ['X', 'O', 'X', 'X']]\n",
      "Case 2: [['X']]\n",
      "\n",
      "---solve_BFS---\n",
      "Case 1: [['X', 'X', 'X', 'X'], ['X', 'X', 'X', 'X'], ['X', 'X', 'X', 'X'], ['X', 'O', 'X', 'X']]\n",
      "Case 2: [['X']]\n",
      "\n",
      "---solve_DFS_iteration---\n",
      "Case 1: [['X', 'X', 'X', 'X'], ['X', 'X', 'X', 'X'], ['X', 'X', 'X', 'X'], ['X', 'O', 'X', 'X']]\n",
      "Case 2: [['X']]\n"
     ]
    }
   ],
   "source": [
    "# Test on Cases\n",
    "S = Solution()\n",
    "\n",
    "print(\"---solve_DFS_recursion---\")\n",
    "print(f\"Case 1: {S.solve_DFS_recursion([['X','X','X','X'],['X','O','O','X'],['X','X','O','X'],['X','O','X','X']])}\")\n",
    "print(f\"Case 2: {S.solve_DFS_recursion([['X']])}\\n\")\n",
    "\n",
    "print(\"---solve_BFS---\")\n",
    "print(f\"Case 1: {S.solve_BFS([['X','X','X','X'],['X','O','O','X'],['X','X','O','X'],['X','O','X','X']])}\")\n",
    "print(f\"Case 2: {S.solve_BFS([['X']])}\\n\")\n",
    "\n",
    "print(\"---solve_DFS_iteration---\")\n",
    "print(f\"Case 1: {S.solve_DFS_iteration([['X','X','X','X'],['X','O','O','X'],['X','X','O','X'],['X','O','X','X']])}\")\n",
    "print(f\"Case 2: {S.solve_DFS_iteration([['X']])}\")"
   ]
  },
  {
   "cell_type": "markdown",
   "metadata": {},
   "source": [
    "**Ref**\n",
    "1. [[Python] O(mn), 3 colors dfs, explained](https://leetcode.com/problems/surrounded-regions/discuss/691646/Python-O(mn)-3-colors-dfs-explained)"
   ]
  }
 ],
 "metadata": {
  "kernelspec": {
   "display_name": "Python 3 (ipykernel)",
   "language": "python",
   "name": "python3"
  },
  "language_info": {
   "codemirror_mode": {
    "name": "ipython",
    "version": 3
   },
   "file_extension": ".py",
   "mimetype": "text/x-python",
   "name": "python",
   "nbconvert_exporter": "python",
   "pygments_lexer": "ipython3",
   "version": "3.10.4"
  },
  "vscode": {
   "interpreter": {
    "hash": "21d8332eb27bea95342760850bd7426f517b6a483537194bbba87e10eeabf6ff"
   }
  }
 },
 "nbformat": 4,
 "nbformat_minor": 4
}
