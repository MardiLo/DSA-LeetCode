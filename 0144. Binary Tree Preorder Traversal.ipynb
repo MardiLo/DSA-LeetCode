{
 "cells": [
  {
   "cell_type": "markdown",
   "source": [
    "`# Binary Tree` `# Depth-First Search` `# Stack` `# Tree`"
   ],
   "metadata": {}
  },
  {
   "cell_type": "markdown",
   "source": [
    "Given the `root` of a binary tree, return *the **preorder traversal** of its nodes' values*."
   ],
   "metadata": {}
  },
  {
   "cell_type": "markdown",
   "source": [
    "**Example 1:**\n",
    "![Image of leetcode 0144 problem example 1](https://assets.leetcode.com/uploads/2020/09/15/inorder_1.jpg)\n",
    "> Input: root = [1,null,2,3]  \n",
    "Output: [1,2,3]\n",
    "\n",
    "**Example 2:**\n",
    "\n",
    "> Input: root = []  \n",
    "Output: []\n",
    "\n",
    "**Example 3:**\n",
    "\n",
    "> Input: root = [1]  \n",
    "Output: [1]\n",
    "\n",
    "**Example 4:**\n",
    "![Image of leetcode 0144 problem example 4](https://assets.leetcode.com/uploads/2020/09/15/inorder_5.jpg)\n",
    "> Input: root = [1,2]  \n",
    "Output: [1,2]\n",
    "\n",
    "**Example 5:**\n",
    "![Image of leetcode 0144 problem example 5](https://assets.leetcode.com/uploads/2020/09/15/inorder_4.jpg)\n",
    "> Input: root = [1,null,2]  \n",
    "Output: [1,2]"
   ],
   "metadata": {}
  },
  {
   "cell_type": "code",
   "execution_count": 4,
   "source": [
    "class TreeNode:\r\n",
    "    def __init__(self, val=0, left=None, right=None):\r\n",
    "        self.val = val\r\n",
    "        self.left = left\r\n",
    "        self.right = right\r\n",
    "\r\n",
    "class Solution:            \r\n",
    "            \r\n",
    "    # Time Complexity： O(n)\r\n",
    "    # Space Complexity： O(n)     \r\n",
    "    def preorderTraversal(self, root: 'TreeNode') -> 'List[int]':\r\n",
    "        if not root: return []\r\n",
    "        \r\n",
    "        res = []\r\n",
    "        res.append(root.val)\r\n",
    "        res += self.preorderTraversal(root.left)\r\n",
    "        res += self.preorderTraversal(root.right)\r\n",
    "        \r\n",
    "        return res"
   ],
   "outputs": [],
   "metadata": {}
  },
  {
   "cell_type": "code",
   "execution_count": 5,
   "source": [
    "# Test on Cases\r\n",
    "S = Solution()\r\n",
    "\r\n",
    "print(f\"Case 1: {S.preorderTraversal(TreeNode(1, None, TreeNode(2, TreeNode(3), None)))}\")\r\n",
    "print(f\"Case 2: {S.preorderTraversal([])}\")\r\n",
    "print(f\"Case 3: {S.preorderTraversal(TreeNode(1))}\")\r\n",
    "print(f\"Case 4: {S.preorderTraversal(TreeNode(1, TreeNode(2)))}\")\r\n",
    "print(f\"Case 5: {S.preorderTraversal(TreeNode(1, None, TreeNode(2)))}\")"
   ],
   "outputs": [
    {
     "output_type": "stream",
     "name": "stdout",
     "text": [
      "Case 1: [1, 2, 3]\n",
      "Case 2: []\n",
      "Case 3: [1]\n",
      "Case 4: [1, 2]\n",
      "Case 5: [1, 2]\n"
     ]
    }
   ],
   "metadata": {}
  }
 ],
 "metadata": {
  "kernelspec": {
   "display_name": "Python 3",
   "language": "python",
   "name": "python3"
  },
  "language_info": {
   "codemirror_mode": {
    "name": "ipython",
    "version": 3
   },
   "file_extension": ".py",
   "mimetype": "text/x-python",
   "name": "python",
   "nbconvert_exporter": "python",
   "pygments_lexer": "ipython3",
   "version": "3.7.7"
  }
 },
 "nbformat": 4,
 "nbformat_minor": 4
}