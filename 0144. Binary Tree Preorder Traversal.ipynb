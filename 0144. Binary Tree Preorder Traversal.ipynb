{
 "cells": [
  {
   "cell_type": "markdown",
   "metadata": {},
   "source": [
    "`# Stack` `# Tree`"
   ]
  },
  {
   "cell_type": "markdown",
   "metadata": {},
   "source": [
    "Given the `root` of a binary tree, return *the **preorder traversal** of its nodes' values*."
   ]
  },
  {
   "cell_type": "markdown",
   "metadata": {},
   "source": [
    "**Example 1:**\n",
    "![Image of leetcode 0144 problem example 1](https://assets.leetcode.com/uploads/2020/09/15/inorder_1.jpg)\n",
    "> Input: root = [1,null,2,3]  \n",
    "Output: [1,2,3]\n",
    "\n",
    "**Example 2:**\n",
    "\n",
    "> Input: root = []  \n",
    "Output: []\n",
    "\n",
    "**Example 3:**\n",
    "\n",
    "> Input: root = [1]  \n",
    "Output: [1]\n",
    "\n",
    "**Example 4:**\n",
    "![Image of leetcode 0144 problem example 4](https://assets.leetcode.com/uploads/2020/09/15/inorder_5.jpg)\n",
    "> Input: root = [1,2]  \n",
    "Output: [1,2]\n",
    "\n",
    "**Example 5:**\n",
    "![Image of leetcode 0144 problem example 5](https://assets.leetcode.com/uploads/2020/09/15/inorder_4.jpg)\n",
    "> Input: root = [1,null,2]  \n",
    "Output: [1,2]"
   ]
  },
  {
   "cell_type": "code",
   "execution_count": 4,
   "metadata": {},
   "outputs": [],
   "source": [
    "class TreeNode:\n",
    "    def __init__(self, val=0, left=None, right=None):\n",
    "        self.val = val\n",
    "        self.left = left\n",
    "        self.right = right\n",
    "\n",
    "class Solution:            \n",
    "            \n",
    "    # Time Complexity： O(n)\n",
    "    # Space Complexity： O(n)     \n",
    "    def preorderTraversal(self, root: 'TreeNode') -> 'List[int]':\n",
    "        if not root:\n",
    "            return []\n",
    "        \n",
    "        res = []\n",
    "        res.append(root.val)\n",
    "        res += self.preorderTraversal(root.left)\n",
    "        res += self.preorderTraversal(root.right)\n",
    "        \n",
    "        return res"
   ]
  },
  {
   "cell_type": "code",
   "execution_count": 5,
   "metadata": {},
   "outputs": [
    {
     "name": "stdout",
     "output_type": "stream",
     "text": [
      "Case 1: [1, 2, 3]\n",
      "Case 2: []\n",
      "Case 3: [1]\n",
      "Case 4: [1, 2]\n",
      "Case 5: [1, 2]\n"
     ]
    }
   ],
   "source": [
    "# Test on Cases\n",
    "S = Solution()\n",
    "\n",
    "print(f\"Case 1: {S.preorderTraversal(TreeNode(1, None, TreeNode(2, TreeNode(3), None)))}\")\n",
    "print(f\"Case 2: {S.preorderTraversal([])}\")\n",
    "print(f\"Case 3: {S.preorderTraversal(TreeNode(1))}\")\n",
    "print(f\"Case 4: {S.preorderTraversal(TreeNode(1, TreeNode(2)))}\")\n",
    "print(f\"Case 5: {S.preorderTraversal(TreeNode(1, None, TreeNode(2)))}\")"
   ]
  },
  {
   "cell_type": "code",
   "execution_count": null,
   "metadata": {},
   "outputs": [],
   "source": []
  }
 ],
 "metadata": {
  "kernelspec": {
   "display_name": "Python 3",
   "language": "python",
   "name": "python3"
  },
  "language_info": {
   "codemirror_mode": {
    "name": "ipython",
    "version": 3
   },
   "file_extension": ".py",
   "mimetype": "text/x-python",
   "name": "python",
   "nbconvert_exporter": "python",
   "pygments_lexer": "ipython3",
   "version": "3.7.7"
  }
 },
 "nbformat": 4,
 "nbformat_minor": 4
}
