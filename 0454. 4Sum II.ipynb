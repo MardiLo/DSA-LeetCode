{
 "cells": [
  {
   "cell_type": "markdown",
   "source": [
    "`# Array` `# Hash Table`"
   ],
   "metadata": {}
  },
  {
   "cell_type": "markdown",
   "source": [
    "Given four integer arrays `nums1`, `nums2`, `nums3`, and `nums4` all of length `n`, return *the number of tuples (`i`, `j`, `k`, `l`) such that:*\n",
    "\n",
    "+ `0 <= i, j, k, l < n`\n",
    "+ `nums1[i] + nums2[j] + nums3[k] + nums4[l] == 0`"
   ],
   "metadata": {}
  },
  {
   "cell_type": "markdown",
   "source": [
    "**Example 1:**\n",
    "\n",
    "> Input: nums1 = [1,2], nums2 = [-2,-1], nums3 = [-1,2], nums4 = [0,2]  \n",
    "Output: 2  \n",
    "Explanation:  \n",
    "The two tuples are:  \n",
    "    1. (0, 0, 0, 1) -> nums1[0] + nums2[0] + nums3[0] + nums4[1] = 1 + (-2) + (-1) + 2 = 0  \n",
    "    2. (1, 1, 0, 0) -> nums1[1] + nums2[1] + nums3[0] + nums4[0] = 2 + (-1) + (-1) + 0 = 0  \n",
    "\n",
    "**Example 2**\n",
    "\n",
    "> Input: nums1 = [0], nums2 = [0], nums3 = [0], nums4 = [0]  \n",
    "Output: 1  \n"
   ],
   "metadata": {}
  },
  {
   "cell_type": "code",
   "execution_count": 1,
   "source": [
    "class Solution:\r\n",
    "                \r\n",
    "    # Time Complexity： O(n^2)\r\n",
    "    # Space Complexity： O(n)\r\n",
    "    def fourSumCount_shortest(self, nums1: 'List[int]', nums2: 'List[int]', nums3: 'List[int]', nums4: 'List[int]') -> 'int':\r\n",
    "        from collections import Counter\r\n",
    "        \r\n",
    "        AB = Counter(a+b for a in nums1 for b in nums2)\r\n",
    "        return sum(AB[-(c+d)] for c in nums3 for d in nums4)\r\n",
    "    \r\n",
    "    \r\n",
    "    # Time Complexity： O(n^2)\r\n",
    "    # Space Complexity： O(n)    \r\n",
    "    def fourSumCount_hashTable(self, nums1: 'List[int]', nums2: 'List[int]', nums3: 'List[int]', nums4: 'List[int]') -> 'int':\r\n",
    "        from collections import defaultdict\r\n",
    "        from itertools import product\r\n",
    "        \r\n",
    "        s, dic = 0, defaultdict(int)\r\n",
    "        \r\n",
    "        for a, b in product(nums1, nums2):\r\n",
    "            dic[a+b] += 1\r\n",
    "        for c, d in product(nums3, nums4):\r\n",
    "            s += dic[-(c+d)]\r\n",
    "        \r\n",
    "        return s"
   ],
   "outputs": [],
   "metadata": {}
  },
  {
   "cell_type": "code",
   "execution_count": 2,
   "source": [
    "# Test on Cases\r\n",
    "S = Solution()\r\n",
    "\r\n",
    "print(\"---fourSumCount_shortest---\")\r\n",
    "print(f\"Case 1: {S.fourSumCount_shortest([1,2], [-2,-1], [-1,2], [0,2])}\")\r\n",
    "print(f\"Case 2: {S.fourSumCount_shortest([0], [0], [0], [0])}\\n\")\r\n",
    "\r\n",
    "print(\"---fourSumCount_hashTable---\")\r\n",
    "print(f\"Case 1: {S.fourSumCount_hashTable([1,2], [-2,-1], [-1,2], [0,2])}\")\r\n",
    "print(f\"Case 2: {S.fourSumCount_hashTable([0], [0], [0], [0])}\\n\")"
   ],
   "outputs": [
    {
     "output_type": "stream",
     "name": "stdout",
     "text": [
      "---fourSumCount_shortest---\n",
      "Case 1: 2\n",
      "Case 2: 1\n",
      "\n",
      "---fourSumCount_hashTable---\n",
      "Case 1: 2\n",
      "Case 2: 1\n",
      "\n"
     ]
    }
   ],
   "metadata": {}
  },
  {
   "cell_type": "markdown",
   "source": [
    "**Ref**\n",
    "1. [[Python] O(n^2) two 2-sum, explained](https://leetcode.com/problems/4sum-ii/discuss/975319/Python-O(n2)-two-2-sum-explained)"
   ],
   "metadata": {}
  }
 ],
 "metadata": {
  "kernelspec": {
   "display_name": "Python 3",
   "language": "python",
   "name": "python3"
  },
  "language_info": {
   "codemirror_mode": {
    "name": "ipython",
    "version": 3
   },
   "file_extension": ".py",
   "mimetype": "text/x-python",
   "name": "python",
   "nbconvert_exporter": "python",
   "pygments_lexer": "ipython3",
   "version": "3.7.7"
  }
 },
 "nbformat": 4,
 "nbformat_minor": 4
}