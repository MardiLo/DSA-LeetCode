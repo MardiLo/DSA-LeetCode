{
 "cells": [
  {
   "cell_type": "markdown",
   "metadata": {},
   "source": [
    "`# Array` `# Hash Table`"
   ]
  },
  {
   "cell_type": "markdown",
   "metadata": {},
   "source": [
    "Given four integer arrays `nums1`, `nums2`, `nums3`, and `nums4` all of length `n`, return *the number of tuples (`i`, `j`, `k`, `l`) such that:*\n",
    "\n",
    "+ `0 <= i, j, k, l < n`\n",
    "+ `nums1[i] + nums2[j] + nums3[k] + nums4[l] == 0`"
   ]
  },
  {
   "cell_type": "markdown",
   "metadata": {},
   "source": [
    "**Example 1:**\n",
    "\n",
    "> Input: nums1 = [1,2], nums2 = [-2,-1], nums3 = [-1,2], nums4 = [0,2]  \n",
    "Output: 2  \n",
    "Explanation:  \n",
    "The two tuples are:  \n",
    "    1. (0, 0, 0, 1) -> nums1[0] + nums2[0] + nums3[0] + nums4[1] = 1 + (-2) + (-1) + 2 = 0  \n",
    "    2. (1, 1, 0, 0) -> nums1[1] + nums2[1] + nums3[0] + nums4[0] = 2 + (-1) + (-1) + 0 = 0  \n",
    "\n",
    "**Example 2**\n",
    "\n",
    "> Input: nums1 = [0], nums2 = [0], nums3 = [0], nums4 = [0]  \n",
    "Output: 1  \n"
   ]
  },
  {
   "cell_type": "code",
   "execution_count": 1,
   "metadata": {},
   "outputs": [],
   "source": [
    "class Solution:\n",
    "                \n",
    "    # Time Complexity： O(n^2)\n",
    "    # Space Complexity： O(n)\n",
    "    def fourSumCount_shortest(self, nums1: 'List[int]', nums2: 'List[int]', nums3: 'List[int]', nums4: 'List[int]') -> 'int':\n",
    "        from collections import Counter\n",
    "        \n",
    "        AB = Counter(a+b for a in nums1 for b in nums2)\n",
    "        return sum(AB[-(c+d)] for c in nums3 for d in nums4)\n",
    "    \n",
    "    \n",
    "    # Time Complexity： O(n^2)\n",
    "    # Space Complexity： O(n)    \n",
    "    def fourSumCount_hashTable(self, nums1: 'List[int]', nums2: 'List[int]', nums3: 'List[int]', nums4: 'List[int]') -> 'int':\n",
    "        from collections import defaultdict\n",
    "        from itertools import product\n",
    "        \n",
    "        s, dic = 0, defaultdict(int)\n",
    "        \n",
    "        for a, b in product(nums1, nums2):\n",
    "            dic[a+b] += 1\n",
    "        for c, d in product(nums3, nums4):\n",
    "            s += dic[-(c+d)]\n",
    "        \n",
    "        return s"
   ]
  },
  {
   "cell_type": "code",
   "execution_count": 2,
   "metadata": {},
   "outputs": [
    {
     "name": "stdout",
     "output_type": "stream",
     "text": [
      "---fourSumCount_shortest---\n",
      "Case 1: 2\n",
      "Case 2: 1\n",
      "\n",
      "---fourSumCount_hashTable---\n",
      "Case 1: 2\n",
      "Case 2: 1\n",
      "\n"
     ]
    }
   ],
   "source": [
    "# Test on Cases\n",
    "S = Solution()\n",
    "\n",
    "print(\"---fourSumCount_shortest---\")\n",
    "print(f\"Case 1: {S.fourSumCount_shortest([1,2], [-2,-1], [-1,2], [0,2])}\")\n",
    "print(f\"Case 2: {S.fourSumCount_shortest([0], [0], [0], [0])}\\n\")\n",
    "\n",
    "print(\"---fourSumCount_hashTable---\")\n",
    "print(f\"Case 1: {S.fourSumCount_hashTable([1,2], [-2,-1], [-1,2], [0,2])}\")\n",
    "print(f\"Case 2: {S.fourSumCount_hashTable([0], [0], [0], [0])}\\n\")"
   ]
  },
  {
   "cell_type": "markdown",
   "metadata": {},
   "source": [
    "**Ref**\n",
    "1. [[Python] O(n^2) two 2-sum, explained](https://leetcode.com/problems/4sum-ii/discuss/975319/Python-O(n2)-two-2-sum-explained)"
   ]
  },
  {
   "cell_type": "code",
   "execution_count": null,
   "metadata": {},
   "outputs": [],
   "source": []
  }
 ],
 "metadata": {
  "kernelspec": {
   "display_name": "Python 3",
   "language": "python",
   "name": "python3"
  },
  "language_info": {
   "codemirror_mode": {
    "name": "ipython",
    "version": 3
   },
   "file_extension": ".py",
   "mimetype": "text/x-python",
   "name": "python",
   "nbconvert_exporter": "python",
   "pygments_lexer": "ipython3",
   "version": "3.7.7"
  }
 },
 "nbformat": 4,
 "nbformat_minor": 4
}
