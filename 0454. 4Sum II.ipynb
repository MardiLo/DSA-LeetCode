{
 "cells": [
  {
   "cell_type": "markdown",
   "metadata": {},
   "source": [
    "`# Array` `# Hash Table`"
   ]
  },
  {
   "cell_type": "markdown",
   "metadata": {},
   "source": [
    "Given four integer arrays `nums1`, `nums2`, `nums3`, and `nums4` all of length `n`, return *the number of tuples (`i`, `j`, `k`, `l`) such that:*\n",
    "\n",
    "+ `0 <= i, j, k, l < n`\n",
    "+ `nums1[i] + nums2[j] + nums3[k] + nums4[l] == 0`"
   ]
  },
  {
   "cell_type": "markdown",
   "metadata": {},
   "source": [
    "**Example 1:**\n",
    "\n",
    "> Input: nums1 = [1,2], nums2 = [-2,-1], nums3 = [-1,2], nums4 = [0,2]  \n",
    "Output: 2  \n",
    "Explanation:  \n",
    "The two tuples are:  \n",
    "    1. (0, 0, 0, 1) -> nums1[0] + nums2[0] + nums3[0] + nums4[1] = 1 + (-2) + (-1) + 2 = 0  \n",
    "    2. (1, 1, 0, 0) -> nums1[1] + nums2[1] + nums3[0] + nums4[0] = 2 + (-1) + (-1) + 0 = 0  \n",
    "\n",
    "**Example 2**\n",
    "\n",
    "> Input: nums1 = [0], nums2 = [0], nums3 = [0], nums4 = [0]  \n",
    "Output: 1  \n"
   ]
  },
  {
   "cell_type": "code",
   "execution_count": 1,
   "metadata": {},
   "outputs": [],
   "source": [
    "class Solution:\n",
    "                \n",
    "    # Time Complexity： O(n^2)\n",
    "    # Space Complexity： O(n^2)    \n",
    "    def fourSumCount(self, nums1: list[int], nums2: list[int], nums3: list[int], nums4: list[int]) -> int:\n",
    "        from itertools import product\n",
    "        from collections import Counter\n",
    "        \n",
    "        cnt1, cnt2 = Counter(n1 + n2 for n1, n2 in product(nums1, nums2)), Counter(n3 + n4 for n3, n4 in product(nums3, nums4))\n",
    "\n",
    "        return sum(v * cnt2[-k] for k, v in cnt1.items())"
   ]
  },
  {
   "cell_type": "code",
   "execution_count": 2,
   "metadata": {},
   "outputs": [
    {
     "name": "stdout",
     "output_type": "stream",
     "text": [
      "Case 1: 2\n",
      "Case 2: 1\n"
     ]
    }
   ],
   "source": [
    "# Test on Cases\n",
    "S = Solution()\n",
    "\n",
    "print(f\"Case 1: {S.fourSumCount([1,2], [-2,-1], [-1,2], [0,2])}\")\n",
    "print(f\"Case 2: {S.fourSumCount([0], [0], [0], [0])}\")"
   ]
  },
  {
   "cell_type": "markdown",
   "metadata": {},
   "source": [
    "**Ref**\n",
    "1. [[Python] O(n^2) two 2-sum, explained](https://leetcode.com/problems/4sum-ii/discuss/975319/Python-O(n2)-two-2-sum-explained)"
   ]
  }
 ],
 "metadata": {
  "interpreter": {
   "hash": "21d8332eb27bea95342760850bd7426f517b6a483537194bbba87e10eeabf6ff"
  },
  "kernelspec": {
   "display_name": "Python 3.10.4 ('leetcode')",
   "language": "python",
   "name": "python3"
  },
  "language_info": {
   "codemirror_mode": {
    "name": "ipython",
    "version": 3
   },
   "file_extension": ".py",
   "mimetype": "text/x-python",
   "name": "python",
   "nbconvert_exporter": "python",
   "pygments_lexer": "ipython3",
   "version": "3.10.4"
  }
 },
 "nbformat": 4,
 "nbformat_minor": 4
}
