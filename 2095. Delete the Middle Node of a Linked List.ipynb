{
 "cells": [
  {
   "cell_type": "markdown",
   "metadata": {},
   "source": [
    "`# Linked List` `# Two Pointers`"
   ]
  },
  {
   "attachments": {},
   "cell_type": "markdown",
   "metadata": {},
   "source": [
    "You are given the `head` of a linked list. Delete the middle node, and return the `head` of the modified linked list.\n",
    "\n",
    "The middle node of a linked list of size `n` is the `⌊n / 2⌋`<sup>`th`</sup> node from the **start** using **0-based indexing**, where `⌊x⌋` denotes the largest integer less than or equal to `x`.\n",
    "\n",
    "- For `n` = `1`, `2`, `3`, `4`, and `5`, the middle nodes are `0`, `1`, `1`, `2`, and `2`, respectively."
   ]
  },
  {
   "attachments": {},
   "cell_type": "markdown",
   "metadata": {},
   "source": [
    "**Example 1:**  \n",
    "![Image of leetcode 2095 problem example 1](https://assets.leetcode.com/uploads/2021/11/16/eg1drawio.png)\n",
    "> Input: head = [1,3,4,7,1,2,6]  \n",
    "> Output: [1,3,4,1,2,6]  \n",
    "> Explanation:  \n",
    "> The above figure represents the given linked list. The indices of the nodes are written below.  \n",
    "> Since n = 7, node 3 with value 7 is the middle node, which is marked in red.  \n",
    "> We return the new list after removing this node. \n",
    "\n",
    "**Example 2:**  \n",
    "![Image of leetcode 2095 problem example 2](https://assets.leetcode.com/uploads/2021/11/16/eg2drawio.png)\n",
    "> Input: head = [1,2,3,4]  \n",
    "> Output: [1,2,4]  \n",
    "> Explanation:  \n",
    "> The above figure represents the given linked list.  \n",
    "> For n = 4, node 2 with value 3 is the middle node, which is marked in red.\n",
    "\n",
    "**Example 3:**  \n",
    "![Image of leetcode 2095 problem example 3](https://assets.leetcode.com/uploads/2021/11/16/eg3drawio.png)\n",
    "> Input: head = [2,1]  \n",
    "> Output: [2]  \n",
    "> Explanation:  \n",
    "> The above figure represents the given linked list.  \n",
    "> For n = 2, node 1 with value 1 is the middle node, which is marked in red.  \n",
    "> Node 0 with value 2 is the only node remaining after removing node 1."
   ]
  },
  {
   "cell_type": "code",
   "execution_count": 3,
   "metadata": {},
   "outputs": [],
   "source": [
    "class ListNode:\n",
    "    def __init__(self, val=0, next=None):\n",
    "        self.val = val\n",
    "        self.next = next\n",
    "        \n",
    "    def list2LinkedList(self, lst):\n",
    "        if not lst: return []\n",
    "\n",
    "        cur = dummy = ListNode(0)\n",
    "        for node in lst:\n",
    "            cur.next = ListNode(node)\n",
    "            cur = cur.next\n",
    "\n",
    "        return dummy.next\n",
    "\n",
    "\n",
    "class Solution:\n",
    "\n",
    "    # Time Complexity： O(n)\n",
    "    # Space Complexity： O(1)\n",
    "    def deleteMiddle(self, head: ListNode) -> ListNode:\n",
    "        dummy = prev = ListNode(None, head)\n",
    "        slow = fast = head\n",
    "\n",
    "        while fast and fast.next:\n",
    "            prev, slow, fast = slow, slow.next, fast.next.next\n",
    "\n",
    "        prev.next = slow.next\n",
    "\n",
    "        return dummy.next"
   ]
  },
  {
   "cell_type": "code",
   "execution_count": 4,
   "metadata": {},
   "outputs": [
    {
     "name": "stdout",
     "output_type": "stream",
     "text": [
      "Case 1: [1, 3, 4, 1, 2, 6]\n",
      "Case 2: [1, 2, 4]\n",
      "Case 3: [2]\n"
     ]
    }
   ],
   "source": [
    "# Test on Cases\n",
    "from leetcodepractice import Print\n",
    "\n",
    "S, P, L = Solution(), Print(), ListNode()\n",
    "\n",
    "print(f\"Case 1: {P.LinkedListTraversal(S.deleteMiddle(L.list2LinkedList([1,3,4,7,1,2,6])))}\")\n",
    "print(f\"Case 2: {P.LinkedListTraversal(S.deleteMiddle(L.list2LinkedList([1,2,3,4])))}\")\n",
    "print(f\"Case 3: {P.LinkedListTraversal(S.deleteMiddle(L.list2LinkedList([2,1])))}\")"
   ]
  }
 ],
 "metadata": {
  "kernelspec": {
   "display_name": "Python 3 (ipykernel)",
   "language": "python",
   "name": "python3"
  },
  "language_info": {
   "codemirror_mode": {
    "name": "ipython",
    "version": 3
   },
   "file_extension": ".py",
   "mimetype": "text/x-python",
   "name": "python",
   "nbconvert_exporter": "python",
   "pygments_lexer": "ipython3",
   "version": "3.10.4"
  },
  "vscode": {
   "interpreter": {
    "hash": "21d8332eb27bea95342760850bd7426f517b6a483537194bbba87e10eeabf6ff"
   }
  }
 },
 "nbformat": 4,
 "nbformat_minor": 4
}
