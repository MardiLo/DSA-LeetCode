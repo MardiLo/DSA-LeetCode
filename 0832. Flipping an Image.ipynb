{
 "cells": [
  {
   "cell_type": "markdown",
   "metadata": {},
   "source": [
    "`# Array` `# Matrix` `# Simulation` `# Two Pointers`"
   ]
  },
  {
   "cell_type": "markdown",
   "metadata": {},
   "source": [
    "Given an `n x n` binary matrix `image`, flip the image **horizontally**, then invert it, and return *the resulting image*.\n",
    "\n",
    "To flip an image horizontally means that each row of the image is reversed.  \n",
    "\n",
    "- For example, flipping `[1,1,0]` horizontally results in `[0,1,1]`.  \n",
    "\n",
    "To invert an image means that each `0` is replaced by `1`, and each `1` is replaced by `0`.\n",
    "\n",
    "- For example, inverting `[0,1,1]` results in `[1,0,0]`."
   ]
  },
  {
   "cell_type": "markdown",
   "metadata": {},
   "source": [
    "**Example 1:**\n",
    "\n",
    "> Input: image = [[1,1,0],[1,0,1],[0,0,0]]  \n",
    "> Output: [[1,0,0],[0,1,0],[1,1,1]]  \n",
    "> Explanation: First reverse each row: [[0,1,1],[1,0,1],[0,0,0]].  \n",
    "> Then, invert the image: [[1,0,0],[0,1,0],[1,1,1]]\n",
    "\n",
    "**Example 2:**\n",
    "\n",
    "> Input: image = [[1,1,0,0],[1,0,0,1],[0,1,1,1],[1,0,1,0]]  \n",
    "> Output: [[1,1,0,0],[0,1,1,0],[0,0,0,1],[1,0,1,0]]  \n",
    "> Explanation: First reverse each row: [[0,0,1,1],[1,0,0,1],[1,1,1,0],[0,1,0,1]].  \n",
    "> Then invert the image: [[1,1,0,0],[0,1,1,0],[0,0,0,1],[1,0,1,0]]"
   ]
  },
  {
   "cell_type": "code",
   "execution_count": 3,
   "metadata": {},
   "outputs": [],
   "source": [
    "class Solution:\n",
    "\n",
    "    # Time Complexity： O(nm)\n",
    "    # Space Complexity： O(1), reversed() is a generator\n",
    "    def flipAndInvertImage(self, image: list[list[int]]) -> list[list[int]]:\n",
    "            return [[1-i for i in reversed(row)] for row in image]"
   ]
  },
  {
   "cell_type": "code",
   "execution_count": 4,
   "metadata": {},
   "outputs": [
    {
     "name": "stdout",
     "output_type": "stream",
     "text": [
      "Case 1: [[1, 0, 0], [0, 1, 0], [1, 1, 1]]\n",
      "Case 2: [[1, 1, 0, 0], [0, 1, 1, 0], [0, 0, 0, 1], [1, 0, 1, 0]]\n"
     ]
    }
   ],
   "source": [
    "# Test on Cases\n",
    "S = Solution()\n",
    "\n",
    "print(f\"Case 1: {S.flipAndInvertImage([[1,1,0],[1,0,1],[0,0,0]])}\")\n",
    "print(f\"Case 2: {S.flipAndInvertImage([[1,1,0,0],[1,0,0,1],[0,1,1,1],[1,0,1,0]])}\")"
   ]
  }
 ],
 "metadata": {
  "kernelspec": {
   "display_name": "Python 3 (ipykernel)",
   "language": "python",
   "name": "python3"
  },
  "language_info": {
   "codemirror_mode": {
    "name": "ipython",
    "version": 3
   },
   "file_extension": ".py",
   "mimetype": "text/x-python",
   "name": "python",
   "nbconvert_exporter": "python",
   "pygments_lexer": "ipython3",
   "version": "3.10.4"
  },
  "vscode": {
   "interpreter": {
    "hash": "21d8332eb27bea95342760850bd7426f517b6a483537194bbba87e10eeabf6ff"
   }
  }
 },
 "nbformat": 4,
 "nbformat_minor": 4
}
