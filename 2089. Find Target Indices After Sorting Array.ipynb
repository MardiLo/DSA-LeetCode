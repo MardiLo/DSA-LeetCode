{
 "cells": [
  {
   "cell_type": "markdown",
   "metadata": {},
   "source": [
    "`# Array` `# Binary Search` `# Sorting`"
   ]
  },
  {
   "cell_type": "markdown",
   "metadata": {},
   "source": [
    "You are given a **0-indexed** integer array `nums` and a target element `target`.\n",
    "\n",
    "A **target index** is an index `i` such that `nums[i] == target`.\n",
    "\n",
    "Return *a list of the target indices of* `nums` *after sorting* `nums` *in ***non-decreasing*** order*. If there are no target indices, return *an ***empty*** list*. The returned list must be sorted in **increasing** order."
   ]
  },
  {
   "cell_type": "markdown",
   "metadata": {},
   "source": [
    "**Example 1:**  \n",
    "\n",
    "> Input: nums = [1,2,5,2,3], target = 2  \n",
    "Output: [1,2]  \n",
    "Explanation: After sorting, nums is [1,2,2,3,5].  \n",
    "The indices where nums[i] == 2 are 1 and 2.\n",
    "\n",
    "**Example 2:**\n",
    "\n",
    "> Input: nums = [1,2,5,2,3], target = 3  \n",
    "Output: [3]  \n",
    "Explanation: After sorting, nums is [1,2,2,3,5].  \n",
    "The index where nums[i] == 3 is 3.\n",
    "\n",
    "**Example 3:**\n",
    "\n",
    "> Input: nums = [1,2,5,2,3], target = 5  \n",
    "Output: [4]  \n",
    "Explanation: After sorting, nums is [1,2,2,3,5].  \n",
    "The index where nums[i] == 5 is 4.\n"
   ]
  },
  {
   "cell_type": "code",
   "execution_count": 7,
   "metadata": {},
   "outputs": [],
   "source": [
    "class Solution:\n",
    "    \n",
    "    # Time Complexity： O(n)\n",
    "    # Space Complexity： O(1)      \n",
    "    def targetIndices_counting(self, nums: list[int], target: int) -> list[int]:\n",
    "        l, r = 0, len(nums)\n",
    "        \n",
    "        for num in nums:\n",
    "            if num < target: l += 1\n",
    "            elif num > target: r -= 1\n",
    "        \n",
    "        return list(range(l, r))\n",
    "\n",
    "    # Time Complexity： O(nlogn)\n",
    "    # Space Complexity： O(n)      \n",
    "    def targetIndices_sorting(self, nums: list[int], target: int) -> list[int]:\n",
    "        from bisect import bisect_left, bisect_right\n",
    "\n",
    "        nums.sort()\n",
    "\n",
    "        return list(range(bisect_left(nums, target), bisect_right(nums, target)))"
   ]
  },
  {
   "cell_type": "code",
   "execution_count": 8,
   "metadata": {},
   "outputs": [
    {
     "name": "stdout",
     "output_type": "stream",
     "text": [
      "---targetIndices_counting---\n",
      "Case 1: [1, 2]\n",
      "Case 2: [3]\n",
      "Case 3: [4]\n",
      "\n",
      "---targetIndices_sorting---\n",
      "Case 1: [1, 2]\n",
      "Case 2: [3]\n",
      "Case 3: [4]\n"
     ]
    }
   ],
   "source": [
    "# Test on Cases\n",
    "S = Solution()\n",
    "\n",
    "print(\"---targetIndices_counting---\")\n",
    "print(f\"Case 1: {S.targetIndices_counting([1,2,5,2,3], 2)}\")\n",
    "print(f\"Case 2: {S.targetIndices_counting([1,2,5,2,3], 3)}\")\n",
    "print(f\"Case 3: {S.targetIndices_counting([1,2,5,2,3], 5)}\\n\")\n",
    "\n",
    "print(\"---targetIndices_sorting---\")\n",
    "print(f\"Case 1: {S.targetIndices_sorting([1,2,5,2,3], 2)}\")\n",
    "print(f\"Case 2: {S.targetIndices_sorting([1,2,5,2,3], 3)}\")\n",
    "print(f\"Case 3: {S.targetIndices_sorting([1,2,5,2,3], 5)}\")"
   ]
  }
 ],
 "metadata": {
  "kernelspec": {
   "display_name": "Python 3.10.4 ('leetcode')",
   "language": "python",
   "name": "python3"
  },
  "language_info": {
   "codemirror_mode": {
    "name": "ipython",
    "version": 3
   },
   "file_extension": ".py",
   "mimetype": "text/x-python",
   "name": "python",
   "nbconvert_exporter": "python",
   "pygments_lexer": "ipython3",
   "version": "3.10.4"
  },
  "vscode": {
   "interpreter": {
    "hash": "21d8332eb27bea95342760850bd7426f517b6a483537194bbba87e10eeabf6ff"
   }
  }
 },
 "nbformat": 4,
 "nbformat_minor": 4
}
