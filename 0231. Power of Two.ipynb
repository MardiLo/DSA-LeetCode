{
 "cells": [
  {
   "attachments": {},
   "cell_type": "markdown",
   "metadata": {},
   "source": [
    "`# Bit Manipulation` `# Math` `# Recursion`"
   ]
  },
  {
   "attachments": {},
   "cell_type": "markdown",
   "metadata": {},
   "source": [
    "Given an integer `n`, return `true` *if it is a power of two. Otherwise, return* `false`.\n",
    "\n",
    "An integer `n` is a power of two, if there exists an integer `x` such that `n == 2`<sup>`x`</sup>."
   ]
  },
  {
   "attachments": {},
   "cell_type": "markdown",
   "metadata": {},
   "source": [
    "**Example 1:**  \n",
    "\n",
    "> Input: n = 1  \n",
    "> Output: true  \n",
    "> Explanation: 20 = 1\n",
    "\n",
    "**Example 2**  \n",
    "\n",
    "> Input: n = 16  \n",
    "> Output: true  \n",
    "> Explanation: 24 = 16\n",
    "\n",
    "**Example 3**  \n",
    "\n",
    "> Input: n = 3  \n",
    "> Output: false"
   ]
  },
  {
   "cell_type": "code",
   "execution_count": 3,
   "metadata": {},
   "outputs": [],
   "source": [
    "class Solution:\n",
    "\n",
    "    # Time Complexity： O(1)\n",
    "    # Space Complexity： O(1)\n",
    "    def isPowerOfTwo_bit(self, n: int) -> bool:\n",
    "        return n > 0 and not (n & n-1)\n",
    "\n",
    "    # Time Complexity： O(logn)\n",
    "    # Space Complexity： O(logn)\n",
    "    def isPowerOfTwo_recursion(self, n: int) -> bool:\n",
    "        return self.isPowerOfTwo_recursion(n / 2) if n > 1 and int(n) == n else n == 1\n",
    "\n",
    "    # Time Complexity： O(logn)\n",
    "    # Space Complexity： O(1)\n",
    "    def isPowerOfTwo_iteration(self, n: int) -> bool:\n",
    "        while n > 1 and int(n) == n:\n",
    "            n /= 2\n",
    "        \n",
    "        return n == 1"
   ]
  },
  {
   "cell_type": "code",
   "execution_count": 4,
   "metadata": {},
   "outputs": [
    {
     "name": "stdout",
     "output_type": "stream",
     "text": [
      "---isPowerOfTwo_bit---\n",
      "Case 1: True\n",
      "Case 2: True\n",
      "Case 3: False\n",
      "\n",
      "---isPowerOfTwo_recursion---\n",
      "Case 1: True\n",
      "Case 2: True\n",
      "Case 3: False\n",
      "\n",
      "---isPowerOfTwo_iteration---\n",
      "Case 1: True\n",
      "Case 2: True\n",
      "Case 3: False\n"
     ]
    }
   ],
   "source": [
    "# Test on Cases\n",
    "S = Solution()\n",
    "\n",
    "print(\"---isPowerOfTwo_bit---\")\n",
    "print(f\"Case 1: {S.isPowerOfTwo_bit(1)}\")\n",
    "print(f\"Case 2: {S.isPowerOfTwo_bit(16)}\")\n",
    "print(f\"Case 3: {S.isPowerOfTwo_bit(3)}\\n\")\n",
    "\n",
    "print(\"---isPowerOfTwo_recursion---\")\n",
    "print(f\"Case 1: {S.isPowerOfTwo_recursion(1)}\")\n",
    "print(f\"Case 2: {S.isPowerOfTwo_recursion(16)}\")\n",
    "print(f\"Case 3: {S.isPowerOfTwo_recursion(3)}\\n\")\n",
    "\n",
    "print(\"---isPowerOfTwo_iteration---\")\n",
    "print(f\"Case 1: {S.isPowerOfTwo_iteration(1)}\")\n",
    "print(f\"Case 2: {S.isPowerOfTwo_iteration(16)}\")\n",
    "print(f\"Case 3: {S.isPowerOfTwo_iteration(3)}\")"
   ]
  }
 ],
 "metadata": {
  "kernelspec": {
   "display_name": "Python 3 (ipykernel)",
   "language": "python",
   "name": "python3"
  },
  "language_info": {
   "codemirror_mode": {
    "name": "ipython",
    "version": 3
   },
   "file_extension": ".py",
   "mimetype": "text/x-python",
   "name": "python",
   "nbconvert_exporter": "python",
   "pygments_lexer": "ipython3",
   "version": "3.10.4"
  },
  "vscode": {
   "interpreter": {
    "hash": "21d8332eb27bea95342760850bd7426f517b6a483537194bbba87e10eeabf6ff"
   }
  }
 },
 "nbformat": 4,
 "nbformat_minor": 4
}
