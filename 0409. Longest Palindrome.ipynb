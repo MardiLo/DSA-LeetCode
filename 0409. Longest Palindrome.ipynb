{
 "cells": [
  {
   "cell_type": "markdown",
   "metadata": {},
   "source": [
    "`# Greedy` `# Hash Table` `# String`"
   ]
  },
  {
   "cell_type": "markdown",
   "metadata": {},
   "source": [
    "Given a string `s` which consists of lowercase or uppercase letters, return *the length of the ***longest palindrome**** that can be built with those letters.\n",
    "\n",
    "Letters are **case sensitive**, for example, `\"Aa\"` is not considered a palindrome here."
   ]
  },
  {
   "cell_type": "markdown",
   "metadata": {},
   "source": [
    "**Example 1:**\n",
    "\n",
    "> Input: s = \"abccccdd\"  \n",
    "Output: 7  \n",
    "Explanation: One longest palindrome that can be built is \"dccaccd\", whose length is 7.\n",
    "\n",
    "**Example 2:**\n",
    "\n",
    "> Input: s = \"a\"  \n",
    "Output: 1  \n",
    "Explanation: The longest palindrome that can be built is \"a\", whose length is 1."
   ]
  },
  {
   "cell_type": "code",
   "execution_count": 1,
   "metadata": {},
   "outputs": [],
   "source": [
    "class Solution:\n",
    "\n",
    "    # Time Complexity： O(n)\n",
    "    # Space Complexity： O(n)\n",
    "    def longestPalindrome(self, s: str) -> int:\n",
    "        from collections import Counter\n",
    "\n",
    "        return min(sum(cnt // 2 * 2 for cnt in Counter(s).values()) + 1, len(s))"
   ]
  },
  {
   "cell_type": "code",
   "execution_count": 2,
   "metadata": {},
   "outputs": [
    {
     "name": "stdout",
     "output_type": "stream",
     "text": [
      "Case 1: 7\n",
      "Case 2: 1\n"
     ]
    }
   ],
   "source": [
    "# Test on Cases\n",
    "S = Solution()\n",
    "\n",
    "print(f\"Case 1: {S.longestPalindrome('abccccdd')}\")\n",
    "print(f\"Case 2: {S.longestPalindrome('a')}\")"
   ]
  }
 ],
 "metadata": {
  "kernelspec": {
   "display_name": "Python 3.10.4 ('leetcode')",
   "language": "python",
   "name": "python3"
  },
  "language_info": {
   "codemirror_mode": {
    "name": "ipython",
    "version": 3
   },
   "file_extension": ".py",
   "mimetype": "text/x-python",
   "name": "python",
   "nbconvert_exporter": "python",
   "pygments_lexer": "ipython3",
   "version": "3.10.4"
  },
  "vscode": {
   "interpreter": {
    "hash": "21d8332eb27bea95342760850bd7426f517b6a483537194bbba87e10eeabf6ff"
   }
  }
 },
 "nbformat": 4,
 "nbformat_minor": 4
}
