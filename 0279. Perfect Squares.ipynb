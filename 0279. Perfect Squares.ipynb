{
 "cells": [
  {
   "cell_type": "markdown",
   "metadata": {},
   "source": [
    "`# Array` `# Breadth-First Search` `# Dynamic Programming` "
   ]
  },
  {
   "cell_type": "markdown",
   "metadata": {},
   "source": [
    "Given an integer `n`, return *the least number of perfect square numbers that sum to* `n`.\n",
    "\n",
    "A **perfect square** is an integer that is the square of an integer; in other words, it is the product of some integer with itself. For example, `1`, `4`, `9`, and `16` are perfect squares while `3` and `11` are not."
   ]
  },
  {
   "cell_type": "markdown",
   "metadata": {},
   "source": [
    "**Example 1:**\n",
    "\n",
    "> Input: n = 12  \n",
    "Output: 3  \n",
    "Explanation: 12 = 4 + 4 + 4.  \n",
    "\n",
    "**Example 2:**\n",
    "\n",
    "> Input: n = 13  \n",
    "Output: 2  \n",
    "Explanation: 13 = 4 + 9.  "
   ]
  },
  {
   "cell_type": "code",
   "execution_count": 1,
   "metadata": {},
   "outputs": [],
   "source": [
    "class Solution:\n",
    "    \n",
    "    # Time Complexity： O(n*sqrt(n))\n",
    "    # Space Complexity： O(n)\n",
    "    def numSquares(self, n: 'int') -> 'int':\n",
    "        dp = [0] + [float('inf')] * n        # SC: O(n)\n",
    "\n",
    "        for target in range(1, n+1):         # TC: O(n*sqrt(n))\n",
    "            for s in range(1, target+1):\n",
    "                sqre = s*s\n",
    "                if target - sqre < 0: break\n",
    "                dp[target] = min(dp[target], 1 + dp[target-sqre])\n",
    "\n",
    "        return dp[n]"
   ]
  },
  {
   "cell_type": "code",
   "execution_count": 2,
   "metadata": {},
   "outputs": [
    {
     "name": "stdout",
     "output_type": "stream",
     "text": [
      "Case 1: 3\n",
      "Case 2: -1\n",
      "Case 3: 0\n",
      "Case 4: 1\n",
      "Case 5: 2\n"
     ]
    }
   ],
   "source": [
    "# Test on Cases\n",
    "S = Solution()\n",
    "\n",
    "print(f\"Case 1: {S.numSquares(12)}\")\n",
    "print(f\"Case 2: {S.numSquares(13)}\")"
   ]
  },
  {
   "cell_type": "markdown",
   "metadata": {},
   "source": [
    "**Ref**\n",
    "1. [Clean dp python code](https://leetcode.com/problems/coin-change/discuss/77372/Clean-dp-python-code)"
   ]
  }
 ],
 "metadata": {
  "interpreter": {
   "hash": "ba9359eadc070f03edd6183a4af22ffcaf60363daf070b8f22fbedba67666dbe"
  },
  "kernelspec": {
   "display_name": "Python 3.7.7 64-bit ('flask': conda)",
   "name": "python3"
  },
  "language_info": {
   "codemirror_mode": {
    "name": "ipython",
    "version": 3
   },
   "file_extension": ".py",
   "mimetype": "text/x-python",
   "name": "python",
   "nbconvert_exporter": "python",
   "pygments_lexer": "ipython3",
   "version": "3.7.7"
  }
 },
 "nbformat": 4,
 "nbformat_minor": 4
}
