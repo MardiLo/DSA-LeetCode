{
 "cells": [
  {
   "cell_type": "markdown",
   "metadata": {},
   "source": [
    "`# Breadth-First Search` `# Dynamic Programming` `# Math` "
   ]
  },
  {
   "cell_type": "markdown",
   "metadata": {},
   "source": [
    "Given an integer `n`, return *the least number of perfect square numbers that sum to* `n`.\n",
    "\n",
    "A **perfect square** is an integer that is the square of an integer; in other words, it is the product of some integer with itself. For example, `1`, `4`, `9`, and `16` are perfect squares while `3` and `11` are not."
   ]
  },
  {
   "cell_type": "markdown",
   "metadata": {},
   "source": [
    "**Example 1:**\n",
    "\n",
    "> Input: n = 12  \n",
    "Output: 3  \n",
    "Explanation: 12 = 4 + 4 + 4.  \n",
    "\n",
    "**Example 2:**\n",
    "\n",
    "> Input: n = 13  \n",
    "Output: 2  \n",
    "Explanation: 13 = 4 + 9.  "
   ]
  },
  {
   "cell_type": "code",
   "execution_count": 1,
   "metadata": {},
   "outputs": [],
   "source": [
    "class Solution:\n",
    "    \n",
    "    # Time Complexity： O(n*sqrt(n))\n",
    "    # Space Complexity： O(n)\n",
    "    def numSquares(self, n: int) -> int:\n",
    "        # perfectSq = [i**2 for i in range(1, int(n**0.5)+1)]\n",
    "        dp = [0] + [float('inf')] * n                               # TC: O(n); SC: O(n)\n",
    "\n",
    "        for target in range(1, n+1):                                # TC: O(n*sqrt(n)); SC: O(1)\n",
    "            # dp[target] = min(dp[target-sq] if target >= sq else float('inf') for sq in perfectSq) + 1\n",
    "            dp[target] = min(dp[target-i*i] for i in range(1, int(target**0.5) + 1)) + 1\n",
    "                \n",
    "        return dp[-1]"
   ]
  },
  {
   "cell_type": "code",
   "execution_count": 2,
   "metadata": {},
   "outputs": [
    {
     "name": "stdout",
     "output_type": "stream",
     "text": [
      "Case 1: 3\n",
      "Case 2: 2\n"
     ]
    }
   ],
   "source": [
    "# Test on Cases\n",
    "S = Solution()\n",
    "\n",
    "print(f\"Case 1: {S.numSquares(12)}\")\n",
    "print(f\"Case 2: {S.numSquares(13)}\")"
   ]
  }
 ],
 "metadata": {
  "kernelspec": {
   "display_name": "Python 3.10.4 ('leetcode')",
   "language": "python",
   "name": "python3"
  },
  "language_info": {
   "codemirror_mode": {
    "name": "ipython",
    "version": 3
   },
   "file_extension": ".py",
   "mimetype": "text/x-python",
   "name": "python",
   "nbconvert_exporter": "python",
   "pygments_lexer": "ipython3",
   "version": "3.10.4"
  },
  "vscode": {
   "interpreter": {
    "hash": "21d8332eb27bea95342760850bd7426f517b6a483537194bbba87e10eeabf6ff"
   }
  }
 },
 "nbformat": 4,
 "nbformat_minor": 4
}
