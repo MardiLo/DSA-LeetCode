{
 "cells": [
  {
   "cell_type": "markdown",
   "metadata": {},
   "source": [
    "`# Hash Table` `# Math` `# String`"
   ]
  },
  {
   "cell_type": "markdown",
   "metadata": {},
   "source": [
    "Roman numerals are represented by seven different symbols: `I`, `V`, `X`, `L`, `C`, `D` and `M`.\n",
    "\n",
    "| Symbol | Value |\n",
    "|:------:|:-----:|\n",
    "|    I   |   1   |\n",
    "|    V   |   5   |\n",
    "|    X   |   10  |\n",
    "|    L   |   50  |\n",
    "|    C   |  100  |\n",
    "|    D   |  500  |\n",
    "|    M   |  1000 |\n",
    "\n",
    "For example, `2` is written as `II` in Roman numeral, just two one's added together. `12` is written as `XII`, which is simply `X + II`. The number `27` is written as `XXVII`, which is `XX + V + II`.\n",
    "\n",
    "Roman numerals are usually written largest to smallest from left to right. However, the numeral for four is not `IIII`. Instead, the number four is written as `IV`. Because the one is before the five we subtract it making four. The same principle applies to the number nine, which is written as `IX`. There are six instances where subtraction is used:\n",
    "\n",
    "- `I` can be placed before `V` (5) and `X` (10) to make 4 and 9. \n",
    "- `X` can be placed before `L` (50) and `C` (100) to make 40 and 90. \n",
    "- `C` can be placed before `D` (500) and `M` (1000) to make 400 and 900.\n",
    "\n",
    "Given a roman numeral, *convert it to an* ***integer***."
   ]
  },
  {
   "cell_type": "markdown",
   "metadata": {},
   "source": [
    "**Example 1:**\n",
    "\n",
    "> Input: s = \"III\"  \n",
    "Output: 3\n",
    "\n",
    "**Example 2:**\n",
    "\n",
    "> Input: s = \"IV\"  \n",
    "Output: 4\n",
    "\n",
    "**Example 3:**\n",
    "\n",
    "> Input: s = \"IX\"  \n",
    "Output: 9\n",
    "\n",
    "**Example 4:**\n",
    "\n",
    "> Input: s = \"LVIII\"  \n",
    "Output: 58  \n",
    "Explanation: L = 50, V= 5, III = 3.\n",
    "\n",
    "**Example 5:**\n",
    "\n",
    "> Input: s = \"MCMXCIV\"  \n",
    "Output: 1994  \n",
    "Explanation: M = 1000, CM = 900, XC = 90 and IV = 4."
   ]
  },
  {
   "cell_type": "code",
   "execution_count": 1,
   "metadata": {},
   "outputs": [],
   "source": [
    "class Solution:\n",
    "    \n",
    "    # Time Complexity： O(n)\n",
    "    # Space Complexity： O(1)  \n",
    "    def romanToInt(self, s: 'str') -> 'int':\n",
    "        dic = {'M': 1000, 'D': 500, 'C': 100, 'L': 50, 'X': 10, 'V': 5, 'I': 1}\n",
    "        sumUp, prev = 0, 'I'\n",
    "        \n",
    "        for i in range(len(s)):     # TC: O(n)\n",
    "            c = s[~i]\n",
    "\n",
    "            if dic[c] >= dic[prev]:\n",
    "                sumUp += dic[c]\n",
    "            else:\n",
    "                sumUp -= dic[c]\n",
    "\n",
    "            prev = c\n",
    "            \n",
    "        return sumUp\n",
    "        "
   ]
  },
  {
   "cell_type": "code",
   "execution_count": 2,
   "metadata": {},
   "outputs": [
    {
     "name": "stdout",
     "output_type": "stream",
     "text": [
      "Case 1: 3\n",
      "Case 2: 4\n",
      "Case 3: 9\n",
      "Case 4: 58\n",
      "Case 5: 1994\n"
     ]
    }
   ],
   "source": [
    "# Test on Cases\n",
    "S = Solution()\n",
    "\n",
    "print(f\"Case 1: {S.romanToInt('III')}\")\n",
    "print(f\"Case 2: {S.romanToInt('IV')}\")\n",
    "print(f\"Case 3: {S.romanToInt('IX')}\")\n",
    "print(f\"Case 4: {S.romanToInt('LVIII')}\")\n",
    "print(f\"Case 5: {S.romanToInt('MCMXCIV')}\")"
   ]
  }
 ],
 "metadata": {
  "interpreter": {
   "hash": "6ab137a14910b4ee65d0ea442464c53c8571f8241496146388c5db8c59915964"
  },
  "kernelspec": {
   "display_name": "Python 3.7.7 64-bit ('spark': conda)",
   "name": "python3"
  },
  "language_info": {
   "codemirror_mode": {
    "name": "ipython",
    "version": 3
   },
   "file_extension": ".py",
   "mimetype": "text/x-python",
   "name": "python",
   "nbconvert_exporter": "python",
   "pygments_lexer": "ipython3",
   "version": "3.7.7"
  }
 },
 "nbformat": 4,
 "nbformat_minor": 4
}
