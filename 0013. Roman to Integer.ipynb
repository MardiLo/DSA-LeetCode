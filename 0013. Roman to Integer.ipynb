{
 "cells": [
  {
   "cell_type": "markdown",
   "source": [
    "`# Hash Table` `# Math` `# String`"
   ],
   "metadata": {}
  },
  {
   "cell_type": "markdown",
   "source": [
    "Roman numerals are represented by seven different symbols: `I`, `V`, `X`, `L`, `C`, `D` and `M`.\r\n",
    "\r\n",
    "| Symbol | Value |\r\n",
    "|:------:|:-----:|\r\n",
    "|    I   |   1   |\r\n",
    "|    V   |   5   |\r\n",
    "|    X   |   10  |\r\n",
    "|    L   |   50  |\r\n",
    "|    C   |  100  |\r\n",
    "|    D   |  500  |\r\n",
    "|    M   |  1000 |\r\n",
    "\r\n",
    "For example, `2` is written as `II` in Roman numeral, just two one's added together. `12` is written as `XII`, which is simply `X + II`. The number `27` is written as `XXVII`, which is `XX + V + II`.\r\n",
    "\r\n",
    "Roman numerals are usually written largest to smallest from left to right. However, the numeral for four is not `IIII`. Instead, the number four is written as `IV`. Because the one is before the five we subtract it making four. The same principle applies to the number nine, which is written as `IX`. There are six instances where subtraction is used:\r\n",
    "\r\n",
    "- `I` can be placed before `V` (5) and `X` (10) to make 4 and 9. \r\n",
    "- `X` can be placed before `L` (50) and `C` (100) to make 40 and 90. \r\n",
    "- `C` can be placed before `D` (500) and `M` (1000) to make 400 and 900.\r\n",
    "\r\n",
    "Given a roman numeral, *convert it to an* ***integer***."
   ],
   "metadata": {}
  },
  {
   "cell_type": "markdown",
   "source": [
    "**Example 1:**\n",
    "\n",
    "> Input: s = \"III\"  \n",
    "Output: 3\n",
    "\n",
    "**Example 2:**\n",
    "\n",
    "> Input: s = \"IV\"  \n",
    "Output: 4\n",
    "\n",
    "**Example 3:**\n",
    "\n",
    "> Input: s = \"IX\"  \n",
    "Output: 9\n",
    "\n",
    "**Example 4:**\n",
    "\n",
    "> Input: s = \"LVIII\"  \n",
    "Output: 58  \n",
    "Explanation: L = 50, V= 5, III = 3.\n",
    "\n",
    "**Example 5:**\n",
    "\n",
    "> Input: s = \"MCMXCIV\"  \n",
    "Output: 1994  \n",
    "Explanation: M = 1000, CM = 900, XC = 90 and IV = 4."
   ],
   "metadata": {}
  },
  {
   "cell_type": "code",
   "execution_count": 1,
   "source": [
    "class Solution:\r\n",
    "    \r\n",
    "    # Time Complexity： O(n)\r\n",
    "    # Space Complexity： O(1)  \r\n",
    "    def romanToInt(self, s: 'str') -> 'int':\r\n",
    "        dic = {'M': 1000, 'D': 500, 'C': 100, 'L': 50, 'X': 10, 'V': 5, 'I': 1}\r\n",
    "        sumUp, prev = 0, 'I'\r\n",
    "        \r\n",
    "        for i in range(len(s)):     # TC: O(n)\r\n",
    "            c = s[~i]\r\n",
    "\r\n",
    "            if dic[c] >= dic[prev]:\r\n",
    "                sumUp += dic[c]\r\n",
    "            else:\r\n",
    "                sumUp -= dic[c]\r\n",
    "\r\n",
    "            prev = c\r\n",
    "            \r\n",
    "        return sumUp\r\n",
    "        "
   ],
   "outputs": [],
   "metadata": {}
  },
  {
   "cell_type": "code",
   "execution_count": 2,
   "source": [
    "# Test on Cases\r\n",
    "S = Solution()\r\n",
    "\r\n",
    "print(f\"Case 1: {S.romanToInt('III')}\")\r\n",
    "print(f\"Case 2: {S.romanToInt('IV')}\")\r\n",
    "print(f\"Case 3: {S.romanToInt('IX')}\")\r\n",
    "print(f\"Case 4: {S.romanToInt('LVIII')}\")\r\n",
    "print(f\"Case 5: {S.romanToInt('MCMXCIV')}\")"
   ],
   "outputs": [
    {
     "output_type": "stream",
     "name": "stdout",
     "text": [
      "Case 1: 3\n",
      "Case 2: 4\n",
      "Case 3: 9\n",
      "Case 4: 58\n",
      "Case 5: 1994\n"
     ]
    }
   ],
   "metadata": {}
  }
 ],
 "metadata": {
  "kernelspec": {
   "name": "python3",
   "display_name": "Python 3.7.7 64-bit ('spark': conda)"
  },
  "language_info": {
   "codemirror_mode": {
    "name": "ipython",
    "version": 3
   },
   "file_extension": ".py",
   "mimetype": "text/x-python",
   "name": "python",
   "nbconvert_exporter": "python",
   "pygments_lexer": "ipython3",
   "version": "3.7.7"
  },
  "interpreter": {
   "hash": "6ab137a14910b4ee65d0ea442464c53c8571f8241496146388c5db8c59915964"
  }
 },
 "nbformat": 4,
 "nbformat_minor": 4
}