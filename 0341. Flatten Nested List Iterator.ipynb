{
 "cells": [
  {
   "cell_type": "markdown",
   "metadata": {},
   "source": [
    "`# Depth-First Search` `# Design` `# Iterator` `# Queue` `# Stack` `# Tree`"
   ]
  },
  {
   "cell_type": "markdown",
   "metadata": {},
   "source": [
    "You are given a nested list of integers `nestedList`. Each element is either an integer or a list whose elements may also be integers or other lists. *Implement an iterator to flatten it*.\n",
    "\n",
    "Implement the `NestedIterator` class:\n",
    "\n",
    "- `NestedIterator(List<NestedInteger> nestedList)` Initializes the iterator with the nested list nestedList.\n",
    "- `int next()` Returns the next integer in the nested list.\n",
    "- `boolean hasNext()` Returns true if there are still some integers in the nested list and false otherwise.\n",
    "\n",
    "Your code will be tested with the following pseudocode:\n",
    "> initialize iterator with nestedList  \n",
    "res = []  \n",
    "while iterator.hasNext()  \n",
    "    append iterator.next() to the end of res  \n",
    "return res  \n",
    "\n",
    "If `res` matches the expected flattened list, then your code will be judged as correct.\n"
   ]
  },
  {
   "cell_type": "markdown",
   "metadata": {},
   "source": [
    "**Example 1:**\n",
    "\n",
    "> Input: nestedList = [[1,1],2,[1,1]]  \n",
    "Output: [1,1,2,1,1]  \n",
    "Explanation: By calling next repeatedly until hasNext returns false, the order of elements returned by next should be: [1,1,2,1,1].  \n",
    "\n",
    "**Example 2:**\n",
    "\n",
    "> Input: nestedList = [1,[4,[6]]]  \n",
    "Output: [1,4,6]  \n",
    "Explanation: By calling next repeatedly until hasNext returns false, the order of elements returned by next should be: [1,4,6].  "
   ]
  },
  {
   "cell_type": "code",
   "execution_count": 1,
   "metadata": {},
   "outputs": [],
   "source": [
    "from __future__ import annotations\n",
    "\n",
    "# \"\"\"\n",
    "# This is the interface that allows for creating nested lists.\n",
    "# You should not implement it, or speculate about its implementation\n",
    "# \"\"\"\n",
    "class NestedInteger:\n",
    "   def isInteger(self) -> bool:\n",
    "       \"\"\"\n",
    "       @return True if this NestedInteger holds a single integer, rather than a nested list.\n",
    "       \"\"\"\n",
    "\n",
    "   def getInteger(self) -> int:\n",
    "       \"\"\"\n",
    "       @return the single integer that this NestedInteger holds, if it holds a single integer\n",
    "       Return None if this NestedInteger holds a nested list\n",
    "       \"\"\"\n",
    "\n",
    "   def getList(self) -> list[NestedInteger]:\n",
    "       \"\"\"\n",
    "       @return the nested list that this NestedInteger holds, if it holds a nested list\n",
    "       Return None if this NestedInteger holds a single integer\n",
    "       \"\"\"\n",
    "\n",
    "class NestedIterator:\n",
    "    def __init__(self, nestedList: list[NestedInteger]):\n",
    "        from collections import deque\n",
    "        \n",
    "        self.queue = deque(nestedList)\n",
    "\n",
    "    # Time Complexity： O(1)\n",
    "    # Space Complexity： N/A     \n",
    "    def next(self) -> int:\n",
    "        return self.queue.popleft().getInteger()\n",
    "    \n",
    "    # Time Complexity： O(n^2)\n",
    "    # Space Complexity： O(n)  \n",
    "    def hasNext(self) -> bool:\n",
    "        while self.queue:\n",
    "            if self.queue[0].isInteger(): \n",
    "                return True\n",
    "            else:\n",
    "                firstNestedList = self.queue.popleft().getList()\n",
    "                self.queue.extendleft(firstNestedList[::-1])\n",
    "                \n",
    "        return False"
   ]
  },
  {
   "cell_type": "markdown",
   "metadata": {},
   "source": [
    "**Ref**\n",
    "1. [8-line Python Solution](https://leetcode.com/problems/flatten-nested-list-iterator/discuss/80142/8-line-Python-Solution)"
   ]
  }
 ],
 "metadata": {
  "kernelspec": {
   "display_name": "Python 3.10.4 ('leetcode')",
   "language": "python",
   "name": "python3"
  },
  "language_info": {
   "codemirror_mode": {
    "name": "ipython",
    "version": 3
   },
   "file_extension": ".py",
   "mimetype": "text/x-python",
   "name": "python",
   "nbconvert_exporter": "python",
   "pygments_lexer": "ipython3",
   "version": "3.10.4"
  },
  "vscode": {
   "interpreter": {
    "hash": "21d8332eb27bea95342760850bd7426f517b6a483537194bbba87e10eeabf6ff"
   }
  }
 },
 "nbformat": 4,
 "nbformat_minor": 4
}
