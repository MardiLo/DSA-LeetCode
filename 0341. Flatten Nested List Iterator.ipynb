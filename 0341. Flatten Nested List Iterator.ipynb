{
 "cells": [
  {
   "cell_type": "markdown",
   "metadata": {},
   "source": [
    "`# Depth-First Search` `# Design` `# Iterator` `# Queue` `# Stack` `# Tree`"
   ]
  },
  {
   "cell_type": "markdown",
   "metadata": {},
   "source": [
    "You are given a nested list of integers `nestedList`. Each element is either an integer or a list whose elements may also be integers or other lists. *Implement an iterator to flatten it*.\n",
    "\n",
    "Implement the `NestedIterator` class:\n",
    "\n",
    "- `NestedIterator(List<NestedInteger> nestedList)` Initializes the iterator with the nested list nestedList.\n",
    "- `int next()` Returns the next integer in the nested list.\n",
    "- `boolean hasNext()` Returns true if there are still some integers in the nested list and false otherwise.\n",
    "\n",
    "Your code will be tested with the following pseudocode:\n",
    "> initialize iterator with nestedList  \n",
    "res = []  \n",
    "while iterator.hasNext()  \n",
    "    append iterator.next() to the end of res  \n",
    "return res  \n",
    "\n",
    "If `res` matches the expected flattened list, then your code will be judged as correct.\n"
   ]
  },
  {
   "cell_type": "markdown",
   "metadata": {},
   "source": [
    "**Example 1:**\n",
    "\n",
    "> Input: nestedList = [[1,1],2,[1,1]]  \n",
    "Output: [1,1,2,1,1]  \n",
    "Explanation: By calling next repeatedly until hasNext returns false, the order of elements returned by next should be: [1,1,2,1,1].  \n",
    "\n",
    "**Example 2:**\n",
    "\n",
    "> Input: nestedList = [1,[4,[6]]]  \n",
    "Output: [1,4,6]  \n",
    "Explanation: By calling next repeatedly until hasNext returns false, the order of elements returned by next should be: [1,4,6].  "
   ]
  },
  {
   "cell_type": "code",
   "execution_count": 5,
   "metadata": {},
   "outputs": [],
   "source": [
    "# \"\"\"\n",
    "# This is the interface that allows for creating nested lists.\n",
    "# You should not implement it, or speculate about its implementation\n",
    "# \"\"\"\n",
    "#class NestedInteger:\n",
    "#    def isInteger(self) -> bool:\n",
    "#        \"\"\"\n",
    "#        @return True if this NestedInteger holds a single integer, rather than a nested list.\n",
    "#        \"\"\"\n",
    "#\n",
    "#    def getInteger(self) -> int:\n",
    "#        \"\"\"\n",
    "#        @return the single integer that this NestedInteger holds, if it holds a single integer\n",
    "#        Return None if this NestedInteger holds a nested list\n",
    "#        \"\"\"\n",
    "#\n",
    "#    def getList(self) -> [NestedInteger]:\n",
    "#        \"\"\"\n",
    "#        @return the nested list that this NestedInteger holds, if it holds a nested list\n",
    "#        Return None if this NestedInteger holds a single integer\n",
    "#        \"\"\"\n",
    "\n",
    "class NestedIterator:\n",
    "    def __init__(self, nestedList: '[NestedInteger]'):\n",
    "        from collections import deque\n",
    "        \n",
    "        self.queue = deque(nestedList)\n",
    "\n",
    "    # Time Complexity： O(1)\n",
    "    # Space Complexity： N/A     \n",
    "    def next(self) -> 'int':\n",
    "        return self.queue.popleft().getInteger()\n",
    "    \n",
    "    # Time Complexity： O(n^2)\n",
    "    # Space Complexity： O(n)  \n",
    "    def hasNext(self) -> 'bool':\n",
    "        while self.queue:\n",
    "            if self.queue[0].isInteger(): return True\n",
    "            else:\n",
    "                firstNestedList = self.queue.popleft().getList()\n",
    "                self.queue.extendleft(firstNestedList[::-1])\n",
    "                \n",
    "        return False"
   ]
  },
  {
   "cell_type": "markdown",
   "metadata": {},
   "source": [
    "**Ref**\n",
    "1. [8-line Python Solution](https://leetcode.com/problems/flatten-nested-list-iterator/discuss/80142/8-line-Python-Solution)"
   ]
  }
 ],
 "metadata": {
  "interpreter": {
   "hash": "6ab137a14910b4ee65d0ea442464c53c8571f8241496146388c5db8c59915964"
  },
  "kernelspec": {
   "display_name": "Python 3.7.7 64-bit ('spark': conda)",
   "name": "python3"
  },
  "language_info": {
   "codemirror_mode": {
    "name": "ipython",
    "version": 3
   },
   "file_extension": ".py",
   "mimetype": "text/x-python",
   "name": "python",
   "nbconvert_exporter": "python",
   "pygments_lexer": "ipython3",
   "version": "3.7.7"
  }
 },
 "nbformat": 4,
 "nbformat_minor": 4
}
