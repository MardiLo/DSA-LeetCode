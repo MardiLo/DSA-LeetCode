{
 "cells": [
  {
   "cell_type": "markdown",
   "metadata": {},
   "source": [
    "`# Dynamic Programming` `# Hash Table` `# Memoization` `# String` `# Trie`"
   ]
  },
  {
   "cell_type": "markdown",
   "metadata": {},
   "source": [
    "Given a string `s` and a dictionary of strings `wordDict`, return `true` *if s can be segmented into a space-separated sequence of one or more dictionary words*.\n",
    "\n",
    "Note that the same word in the dictionary may be reused multiple times in the segmentation."
   ]
  },
  {
   "cell_type": "markdown",
   "metadata": {},
   "source": [
    "**Example 1:**\n",
    "\n",
    "> Input: s = \"leetcode\", wordDict = [\"leet\",\"code\"]  \n",
    "Output: true  \n",
    "Explanation: Return true because \"leetcode\" can be segmented as \"leet code\".  \n",
    "\n",
    "**Example 2:**\n",
    "\n",
    "> Input: s = \"applepenapple\", wordDict = [\"apple\",\"pen\"]  \n",
    "Output: true  \n",
    "Explanation: Return true because \"applepenapple\" can be segmented as \"apple pen apple\".  \n",
    "Note that you are allowed to reuse a dictionary word.  \n",
    "\n",
    "**Example 3:**\n",
    "\n",
    "> Input: s = \"catsandog\", wordDict = [\"cats\",\"dog\",\"sand\",\"and\",\"cat\"]  \n",
    "Output: false  "
   ]
  },
  {
   "cell_type": "code",
   "execution_count": 1,
   "metadata": {},
   "outputs": [],
   "source": [
    "class Solution:\n",
    "    \n",
    "    # Time Complexity： O(mn^2), where n = len(s), and m = len(wordDict)\n",
    "    # Space Complexity： O(n)    \n",
    "    def wordBreak(self, s: 'str', wordDict: 'List[str]') -> 'bool':\n",
    "        dp = [False] * len(s) + [True]\n",
    "\n",
    "        for i in range(len(s)-1, -1, -1):                                   # TC: O(n)\n",
    "            for word in wordDict:                                           # TC: O(m)\n",
    "                if i + len(word) <= len(s) and s[i:i+len(word)] == word:    # TC: O(n)\n",
    "                    dp[i] = dp[i + len(word)]\n",
    "                if dp[i]: break\n",
    "\n",
    "        return dp[0]"
   ]
  },
  {
   "cell_type": "code",
   "execution_count": 2,
   "metadata": {},
   "outputs": [
    {
     "name": "stdout",
     "output_type": "stream",
     "text": [
      "Case 1: True\n",
      "Case 2: True\n",
      "Case 3: False\n"
     ]
    }
   ],
   "source": [
    "# Test on Cases\n",
    "S = Solution()\n",
    "\n",
    "print(f\"Case 1: {S.wordBreak('leetcode', ['leet','code'])}\")\n",
    "print(f\"Case 2: {S.wordBreak('applepenapple', ['apple','pen'])}\")\n",
    "print(f\"Case 3: {S.wordBreak('catsandog', ['cats','dog','sand','and','cat'])}\")"
   ]
  },
  {
   "cell_type": "markdown",
   "metadata": {},
   "source": [
    "**Ref**\n",
    "1. [Word Break - Dynamic Programming - Leetcode 139 - Python](https://www.youtube.com/watch?v=Sx9NNgInc3A&ab_channel=NeetCode)"
   ]
  }
 ],
 "metadata": {
  "interpreter": {
   "hash": "6ab137a14910b4ee65d0ea442464c53c8571f8241496146388c5db8c59915964"
  },
  "kernelspec": {
   "display_name": "Python 3.7.7 64-bit ('spark': conda)",
   "name": "python3"
  },
  "language_info": {
   "codemirror_mode": {
    "name": "ipython",
    "version": 3
   },
   "file_extension": ".py",
   "mimetype": "text/x-python",
   "name": "python",
   "nbconvert_exporter": "python",
   "pygments_lexer": "ipython3",
   "version": "3.7.7"
  }
 },
 "nbformat": 4,
 "nbformat_minor": 4
}
