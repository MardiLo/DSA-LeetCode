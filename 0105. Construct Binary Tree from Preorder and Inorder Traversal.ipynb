{
 "cells": [
  {
   "cell_type": "markdown",
   "metadata": {},
   "source": [
    "`# Array` `# Binary Tree` `# Divide and Conquer` `# Hash Table` `# Tree`"
   ]
  },
  {
   "cell_type": "markdown",
   "metadata": {},
   "source": [
    "Given two integer arrays `preorder` and `inorder` where `preorder` is the preorder traversal of a binary tree and `inorder` is the inorder traversal of the same tree, construct and *return the binary tree*."
   ]
  },
  {
   "cell_type": "markdown",
   "metadata": {},
   "source": [
    "**Example 1:**  \n",
    "![Image of leetcode 0105 problem example 1](https://assets.leetcode.com/uploads/2021/02/19/tree.jpg)\n",
    "> Input: preorder = [3,9,20,15,7], inorder = [9,3,15,20,7]  \n",
    "Output: [3,9,20,null,null,15,7]  \n",
    "\n",
    "**Example 2:**\n",
    "\n",
    "> Input: preorder = [-1], inorder = [-1]  \n",
    "Output: [-1]  "
   ]
  },
  {
   "cell_type": "code",
   "execution_count": 1,
   "metadata": {},
   "outputs": [],
   "source": [
    "class TreeNode:\n",
    "    def __init__(self, val=0, left=None, right=None):\n",
    "        self.val = val\n",
    "        self.left = left\n",
    "        self.right = right\n",
    "        \n",
    "class Solution:\n",
    "    \n",
    "    # Time Complexity： O(n)\n",
    "    # Space Complexity： O(n)\n",
    "    def buildTree(self, preorder: 'List[int]', inorder: 'List[int]') -> 'TreeNode':\n",
    "        from collections import deque\n",
    "        \n",
    "        inorderMap = {val: i for i, val in enumerate(inorder)}    # TC: O(n); SC: O(n)\n",
    "        preorder = deque(preorder)\n",
    "        \n",
    "        def helper(inorderMap, preorder, left, right):            # TC: O(n)\n",
    "            if left > right: return \n",
    "            \n",
    "            # preorder: Root -> Left -> Right\n",
    "            root = TreeNode(preorder.popleft())\n",
    "            rootIdx = inorderMap[root.val]\n",
    "            root.left = helper(inorderMap, preorder, left, rootIdx-1)\n",
    "            root.right = helper(inorderMap, preorder, rootIdx+1, right)\n",
    "\n",
    "            return root\n",
    "        \n",
    "        return helper(inorderMap, preorder, 0, len(inorder)-1)"
   ]
  },
  {
   "cell_type": "code",
   "execution_count": 2,
   "metadata": {},
   "outputs": [
    {
     "name": "stdout",
     "output_type": "stream",
     "text": [
      "Case 1: [3, 9, 20, 15, 7]\n",
      "Case 2: [-1]\n"
     ]
    }
   ],
   "source": [
    "# Test on Cases\n",
    "from leetcodepractice import Print\n",
    "\n",
    "S, P = Solution(), Print()\n",
    "\n",
    "print(f\"Case 1: {P.TreeTraversalBFS(S.buildTree([3,9,20,15,7], [9,3,15,20,7]))}\")\n",
    "print(f\"Case 2: {P.TreeTraversalBFS(S.buildTree([-1], [-1]))}\")"
   ]
  }
 ],
 "metadata": {
  "kernelspec": {
   "display_name": "Python 3",
   "language": "python",
   "name": "python3"
  },
  "language_info": {
   "codemirror_mode": {
    "name": "ipython",
    "version": 3
   },
   "file_extension": ".py",
   "mimetype": "text/x-python",
   "name": "python",
   "nbconvert_exporter": "python",
   "pygments_lexer": "ipython3",
   "version": "3.7.7"
  }
 },
 "nbformat": 4,
 "nbformat_minor": 2
}
