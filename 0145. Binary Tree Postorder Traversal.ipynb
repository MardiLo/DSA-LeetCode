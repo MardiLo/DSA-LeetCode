{
 "cells": [
  {
   "cell_type": "markdown",
   "metadata": {},
   "source": [
    "`# Stack` `# Tree`"
   ]
  },
  {
   "cell_type": "markdown",
   "metadata": {},
   "source": [
    "Given the `root` of a binary tree, return *the **postorder traversal** of its nodes' values*."
   ]
  },
  {
   "cell_type": "markdown",
   "metadata": {},
   "source": [
    "**Example 1:**\n",
    "![Image of leetcode 0145 problem example 1](https://assets.leetcode.com/uploads/2020/08/28/pre1.jpg)\n",
    "> Input: root = [1,null,2,3]  \n",
    "Output: [3,2,1]\n",
    "\n",
    "**Example 2:**\n",
    "\n",
    "> Input: root = []  \n",
    "Output: []\n",
    "\n",
    "**Example 3:**\n",
    "\n",
    "> Input: root = [1]  \n",
    "Output: [1]\n",
    "\n",
    "**Example 4:**\n",
    "![Image of leetcode 0145 problem example 4](https://assets.leetcode.com/uploads/2020/08/28/pre3.jpg)\n",
    "> Input: root = [1,2]  \n",
    "Output: [2,1]\n",
    "\n",
    "**Example 5:**\n",
    "![Image of leetcode 0145 problem example 5](https://assets.leetcode.com/uploads/2020/08/28/pre2.jpg)\n",
    "> Input: root = [1,null,2]  \n",
    "Output: [2,1]"
   ]
  },
  {
   "cell_type": "code",
   "execution_count": 3,
   "metadata": {},
   "outputs": [],
   "source": [
    "class TreeNode:\n",
    "    def __init__(self, val=0, left=None, right=None):\n",
    "        self.val = val\n",
    "        self.left = left\n",
    "        self.right = right\n",
    "\n",
    "class Solution:            \n",
    "            \n",
    "    # Time Complexity： O(n)\n",
    "    # Space Complexity： O(n)     \n",
    "    def postorderTraversal(self, root: 'TreeNode') -> 'List[int]':\n",
    "        if not root:\n",
    "            return []\n",
    "        \n",
    "        res = []\n",
    "        res += self.postorderTraversal(root.left)\n",
    "        res += self.postorderTraversal(root.right)\n",
    "        res.append(root.val)\n",
    "            \n",
    "        return res"
   ]
  },
  {
   "cell_type": "code",
   "execution_count": 4,
   "metadata": {},
   "outputs": [
    {
     "name": "stdout",
     "output_type": "stream",
     "text": [
      "Case 1: [3, 2, 1]\n",
      "Case 2: []\n",
      "Case 3: [1]\n",
      "Case 4: [2, 1]\n",
      "Case 5: [2, 1]\n"
     ]
    }
   ],
   "source": [
    "# Test on Cases\n",
    "S = Solution()\n",
    "\n",
    "print(f\"Case 1: {S.postorderTraversal(TreeNode(1, None, TreeNode(2, TreeNode(3), None)))}\")\n",
    "print(f\"Case 2: {S.postorderTraversal([])}\")\n",
    "print(f\"Case 3: {S.postorderTraversal(TreeNode(1))}\")\n",
    "print(f\"Case 4: {S.postorderTraversal(TreeNode(1, TreeNode(2)))}\")\n",
    "print(f\"Case 5: {S.postorderTraversal(TreeNode(1, None, TreeNode(2)))}\")"
   ]
  }
 ],
 "metadata": {
  "kernelspec": {
   "display_name": "Python 3",
   "language": "python",
   "name": "python3"
  },
  "language_info": {
   "codemirror_mode": {
    "name": "ipython",
    "version": 3
   },
   "file_extension": ".py",
   "mimetype": "text/x-python",
   "name": "python",
   "nbconvert_exporter": "python",
   "pygments_lexer": "ipython3",
   "version": "3.7.7"
  }
 },
 "nbformat": 4,
 "nbformat_minor": 4
}
