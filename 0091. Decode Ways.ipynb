{
 "cells": [
  {
   "cell_type": "markdown",
   "metadata": {},
   "source": [
    "`# Dynamic Programming` `# String`"
   ]
  },
  {
   "cell_type": "markdown",
   "metadata": {},
   "source": [
    "A message containing letters from `A-Z` can be encoded into numbers using the following mapping:\n",
    "```\n",
    "'A' -> \"1\"\n",
    "'B' -> \"2\"\n",
    "...\n",
    "'Z' -> \"26\"\n",
    "```\n",
    "To decode an encoded message, all the digits must be grouped then mapped back into letters using the reverse of the mapping above (there may be multiple ways). For example, `\"11106\"` can be mapped into:\n",
    "\n",
    "`\"AAJF\"` with the grouping `(1 1 10 6)`\n",
    "`\"KJF\"` with the grouping `(11 10 6)`\n",
    "Note that the grouping `(1 11 06)` is invalid because `\"06\"` cannot be mapped into `'F'` since `\"6\"` is different from `\"06\"`.\n",
    "\n",
    "Given a string `s` containing only digits, return *the number of ways to decode it*.\n",
    "\n",
    "The answer is guaranteed to fit in a 32-bit integer."
   ]
  },
  {
   "cell_type": "markdown",
   "metadata": {},
   "source": [
    "**Example 1:**\n",
    "\n",
    "> Input: s = \"12\"  \n",
    "Output: 2  \n",
    "Explanation: \"12\" could be decoded as \"AB\" (1 2) or \"L\" (12).  \n",
    "\n",
    "**Example 2:**\n",
    "\n",
    "> Input: s = \"226\"  \n",
    "Output: 3  \n",
    "Explanation: \"226\" could be decoded as \"BZ\" (2 26), \"VF\" (22 6), or \"BBF\" (2 2 6).  \n",
    "\n",
    "**Example 3:**\n",
    "\n",
    "> Input: s = \"0\"  \n",
    "Output: 0  \n",
    "Explanation: There is no character that is mapped to a number starting with 0.  \n",
    "The only valid mappings with 0 are 'J' -> \"10\" and 'T' -> \"20\", neither of which start with 0.  \n",
    "Hence, there are no valid ways to decode this since all digits need to be mapped.  \n",
    "\n",
    "**Example 4:**\n",
    "\n",
    "> Input: s = \"06\"  \n",
    "Output: 0  \n",
    "Explanation: \"06\" cannot be mapped to \"F\" because of the leading zero (\"6\" is different from \"06\").  "
   ]
  },
  {
   "cell_type": "code",
   "execution_count": 3,
   "metadata": {},
   "outputs": [],
   "source": [
    "class Solution:\n",
    "    \n",
    "    # Time Complexity： O(n)\n",
    "    # Space Complexity： O(n)  \n",
    "    def numDecodings(self, s: 'str') -> 'int':\n",
    "        from functools import lru_cache\n",
    "\n",
    "        @lru_cache()\n",
    "        def dp(i):\n",
    "            if i == len(s): return 1\n",
    "            if s[i] == '0': return 0\n",
    "            \n",
    "            return dp(i+1) + (dp(i+2) if i+1 < len(s) and '10' <= s[i:i+2] <= '26' else 0)\n",
    "        \n",
    "        return dp(0)"
   ]
  },
  {
   "cell_type": "code",
   "execution_count": 4,
   "metadata": {},
   "outputs": [
    {
     "name": "stdout",
     "output_type": "stream",
     "text": [
      "Case 1: 2\n",
      "Case 2: 3\n",
      "Case 3: 0\n",
      "Case 4: 0\n"
     ]
    }
   ],
   "source": [
    "# Test on Cases\n",
    "S = Solution()\n",
    "\n",
    "print(f\"Case 1: {S.numDecodings('12')}\")\n",
    "print(f\"Case 2: {S.numDecodings('226')}\")\n",
    "print(f\"Case 3: {S.numDecodings('0')}\")\n",
    "print(f\"Case 4: {S.numDecodings('06')}\")"
   ]
  },
  {
   "cell_type": "markdown",
   "metadata": {},
   "source": [
    "**Ref**\n",
    "1. [[C++/Python] From Top down DP to Bottom up DP - O(1) Space - Clean & Concise](https://leetcode.com/problems/decode-ways/discuss/1410794/C%2B%2BPython-From-Top-down-DP-to-Bottom-up-DP-O(1)-Space-Clean-and-Concise)\n",
    "2. [Decode Ways - Dynamic Programming - Leetcode 91 - Python](https://www.youtube.com/watch?v=6aEyTjOwlJU)"
   ]
  }
 ],
 "metadata": {
  "kernelspec": {
   "display_name": "Python 3",
   "language": "python",
   "name": "python3"
  },
  "language_info": {
   "codemirror_mode": {
    "name": "ipython",
    "version": 3
   },
   "file_extension": ".py",
   "mimetype": "text/x-python",
   "name": "python",
   "nbconvert_exporter": "python",
   "pygments_lexer": "ipython3",
   "version": "3.8.3"
  }
 },
 "nbformat": 4,
 "nbformat_minor": 4
}
