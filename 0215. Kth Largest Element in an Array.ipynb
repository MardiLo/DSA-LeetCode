{
 "cells": [
  {
   "cell_type": "markdown",
   "metadata": {},
   "source": [
    "`# Divide and Conquer` `# Array` `# Sorting` `# Heap (Priority Queue)` `# Quickselect`"
   ]
  },
  {
   "cell_type": "markdown",
   "metadata": {},
   "source": [
    "Given an integer array `nums` and an integer `k`, return the $k^{th}$ largest element in the array.\n",
    "\n",
    "Note that it is the $k^{th}$ largest element in the sorted order, not the $k^{th}$ distinct element."
   ]
  },
  {
   "cell_type": "markdown",
   "metadata": {},
   "source": [
    "**Example 1:**\n",
    "\n",
    "> Input: nums = [3,2,1,5,6,4], k = 2  \n",
    "Output: 5  \n",
    "\n",
    "**Example 2**\n",
    "\n",
    "> Input: nums = [3,2,3,1,2,4,5,5,6], k = 4   \n",
    "Output: 4  "
   ]
  },
  {
   "cell_type": "code",
   "execution_count": 8,
   "metadata": {},
   "outputs": [],
   "source": [
    "class Solution:\n",
    "    \n",
    "    # Time Complexity： O(n)\n",
    "    # Space Complexity： O(n)\n",
    "    def findKthLargest_qiuckSelect(self, nums: 'List[int]', k: 'int') -> 'int':\n",
    "        if not nums:\n",
    "            return\n",
    "        \n",
    "        pivot = nums[len(nums)//2]    # random choice\n",
    "        L = [x for x in nums if x > pivot]\n",
    "        M = [x for x in nums if x == pivot]\n",
    "        R = [x for x in nums if x < pivot]\n",
    "        \n",
    "        if k <= len(L):\n",
    "            return self.findKthLargest_qiuckSelect(L, k)\n",
    "        elif k > len(L) + len(M):\n",
    "            return self.findKthLargest_qiuckSelect(R, k-len(L)-len(M))\n",
    "        else:\n",
    "            return M[0]"
   ]
  },
  {
   "cell_type": "code",
   "execution_count": 9,
   "metadata": {},
   "outputs": [
    {
     "name": "stdout",
     "output_type": "stream",
     "text": [
      "---findKthLargest_qiuckSelect---\n",
      "Case 1: 5\n",
      "Case 2: 4\n"
     ]
    }
   ],
   "source": [
    "# Test on Cases\n",
    "S = Solution()\n",
    "\n",
    "print(\"---findKthLargest_qiuckSelect---\")\n",
    "print(f\"Case 1: {S.findKthLargest_qiuckSelect([3,2,1,5,6,4], 2)}\")\n",
    "print(f\"Case 2: {S.findKthLargest_qiuckSelect([3,2,3,1,2,4,5,5,6], 4)}\")"
   ]
  },
  {
   "cell_type": "code",
   "execution_count": null,
   "metadata": {},
   "outputs": [],
   "source": []
  },
  {
   "cell_type": "code",
   "execution_count": null,
   "metadata": {},
   "outputs": [],
   "source": []
  }
 ],
 "metadata": {
  "kernelspec": {
   "display_name": "Python 3",
   "language": "python",
   "name": "python3"
  },
  "language_info": {
   "codemirror_mode": {
    "name": "ipython",
    "version": 3
   },
   "file_extension": ".py",
   "mimetype": "text/x-python",
   "name": "python",
   "nbconvert_exporter": "python",
   "pygments_lexer": "ipython3",
   "version": "3.7.7"
  }
 },
 "nbformat": 4,
 "nbformat_minor": 4
}
