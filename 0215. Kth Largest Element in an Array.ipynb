{
 "cells": [
  {
   "cell_type": "markdown",
   "metadata": {},
   "source": [
    "`# Array` `# Divide and Conquer` `# Heap (Priority Queue)` `# Quickselect` `# Sorting`"
   ]
  },
  {
   "cell_type": "markdown",
   "metadata": {},
   "source": [
    "Given an integer array `nums` and an integer `k`, return the $k^{th}$ largest element in the array.\n",
    "\n",
    "Note that it is the $k^{th}$ largest element in the sorted order, not the $k^{th}$ distinct element."
   ]
  },
  {
   "cell_type": "markdown",
   "metadata": {},
   "source": [
    "**Example 1:**\n",
    "\n",
    "> Input: nums = [3,2,1,5,6,4], k = 2  \n",
    "> Output: 5  \n",
    "\n",
    "**Example 2**\n",
    "\n",
    "> Input: nums = [3,2,3,1,2,4,5,5,6], k = 4   \n",
    "> Output: 4  "
   ]
  },
  {
   "cell_type": "code",
   "execution_count": 1,
   "metadata": {},
   "outputs": [],
   "source": [
    "class Solution:\n",
    "\n",
    "    # Time Complexity： O(n) in average\n",
    "    # Space Complexity： O(n)\n",
    "    def findKthLargest_quickSelect(self, nums: list[int], k: int) -> int:\n",
    "        pivot = nums[len(nums)//2]\n",
    "        greater, equal, less = [n for n in nums if n > pivot], [n for n in nums if n == pivot], [n for n in nums if n < pivot]\n",
    "        gLen, eLen, lLen = map(len, (greater, equal, less))\n",
    "\n",
    "        if k <= gLen: return self.findKthLargest(greater, k)\n",
    "        elif k > gLen+eLen: return self.findKthLargest(less, k-(gLen+eLen))\n",
    "        else: return pivot\n",
    "    \n",
    "    # Time Complexity： O(2*10^4 + 1)\n",
    "    # Space Complexity： O(2*10^4 + 1)\n",
    "    def findKthLargest_bucketSort(self, nums: list[int], k: int) -> int:\n",
    "        from itertools import chain\n",
    "        \n",
    "        offset = 10**4\n",
    "        buckets = [[] for _ in range(2*offset+1)]\n",
    "\n",
    "        for num in nums:\n",
    "            buckets[num+offset].append(num)\n",
    "\n",
    "        return list(chain.from_iterable(buckets))[-k]\n",
    "    \n",
    "    # Time Complexity： O(n + (n-k)logn)\n",
    "    # Space Complexity： O(n)\n",
    "    def findKthLargest_heap(self, nums: list[int], k: int) -> int:\n",
    "        from heapq import heapify, heappop\n",
    "\n",
    "        heapify(nums)                                 # TC: O(n)\n",
    "\n",
    "        while len(nums) > k:                          # TC: O((n-k)logn)\n",
    "            heappop(nums)\n",
    "\n",
    "        return nums[0]\n",
    "\n",
    "        # Solution by using lib:\n",
    "        # from heapq import nlargest\n",
    "        # return nlargest(k, nums)[-1]                # TC: O(nlogk); SC: O(k)\n",
    "\n",
    "    # Time Complexity： O(nlogn)\n",
    "    # Space Complexity： O(n)\n",
    "    def findKthLargest_sorting(self, nums: list[int], k: int) -> int:\n",
    "        return sorted(nums, reverse=True)[k-1]\n",
    "\n",
    "    # Time Complexity： O(n)\n",
    "    # Space Complexity： O(n)    \n",
    "    def findKthLargest_introSelect(self, nums: list[int], k: int) -> int:\n",
    "        import numpy as np\n",
    "\n",
    "        partitioned = -np.partition(-np.array(nums), k-1)[:k]\n",
    "        \n",
    "        return partitioned.min()"
   ]
  },
  {
   "cell_type": "code",
   "execution_count": 2,
   "metadata": {},
   "outputs": [
    {
     "name": "stdout",
     "output_type": "stream",
     "text": [
      "---findKthLargest_quickSelect---\n",
      "Case 1: 5\n"
     ]
    },
    {
     "ename": "AttributeError",
     "evalue": "'Solution' object has no attribute 'findKthLargest'",
     "output_type": "error",
     "traceback": [
      "\u001b[1;31m---------------------------------------------------------------------------\u001b[0m",
      "\u001b[1;31mAttributeError\u001b[0m                            Traceback (most recent call last)",
      "Input \u001b[1;32mIn [2]\u001b[0m, in \u001b[0;36m<cell line: 6>\u001b[1;34m()\u001b[0m\n\u001b[0;32m      4\u001b[0m \u001b[38;5;28mprint\u001b[39m(\u001b[38;5;124m\"\u001b[39m\u001b[38;5;124m---findKthLargest_quickSelect---\u001b[39m\u001b[38;5;124m\"\u001b[39m)\n\u001b[0;32m      5\u001b[0m \u001b[38;5;28mprint\u001b[39m(\u001b[38;5;124mf\u001b[39m\u001b[38;5;124m\"\u001b[39m\u001b[38;5;124mCase 1: \u001b[39m\u001b[38;5;132;01m{\u001b[39;00mS\u001b[38;5;241m.\u001b[39mfindKthLargest_quickSelect([\u001b[38;5;241m3\u001b[39m,\u001b[38;5;241m2\u001b[39m,\u001b[38;5;241m1\u001b[39m,\u001b[38;5;241m5\u001b[39m,\u001b[38;5;241m6\u001b[39m,\u001b[38;5;241m4\u001b[39m], \u001b[38;5;241m2\u001b[39m)\u001b[38;5;132;01m}\u001b[39;00m\u001b[38;5;124m\"\u001b[39m)\n\u001b[1;32m----> 6\u001b[0m \u001b[38;5;28mprint\u001b[39m(\u001b[38;5;124mf\u001b[39m\u001b[38;5;124m\"\u001b[39m\u001b[38;5;124mCase 2: \u001b[39m\u001b[38;5;132;01m{\u001b[39;00mS\u001b[38;5;241m.\u001b[39mfindKthLargest_quickSelect([\u001b[38;5;241m3\u001b[39m,\u001b[38;5;241m2\u001b[39m,\u001b[38;5;241m3\u001b[39m,\u001b[38;5;241m1\u001b[39m,\u001b[38;5;241m2\u001b[39m,\u001b[38;5;241m4\u001b[39m,\u001b[38;5;241m5\u001b[39m,\u001b[38;5;241m5\u001b[39m,\u001b[38;5;241m6\u001b[39m], \u001b[38;5;241m4\u001b[39m)\u001b[38;5;132;01m}\u001b[39;00m\u001b[38;5;130;01m\\n\u001b[39;00m\u001b[38;5;124m\"\u001b[39m)\n\u001b[0;32m      8\u001b[0m \u001b[38;5;28mprint\u001b[39m(\u001b[38;5;124m\"\u001b[39m\u001b[38;5;124m---findKthLargest_bucketSort---\u001b[39m\u001b[38;5;124m\"\u001b[39m)\n\u001b[0;32m      9\u001b[0m \u001b[38;5;28mprint\u001b[39m(\u001b[38;5;124mf\u001b[39m\u001b[38;5;124m\"\u001b[39m\u001b[38;5;124mCase 1: \u001b[39m\u001b[38;5;132;01m{\u001b[39;00mS\u001b[38;5;241m.\u001b[39mfindKthLargest_bucketSort([\u001b[38;5;241m3\u001b[39m,\u001b[38;5;241m2\u001b[39m,\u001b[38;5;241m1\u001b[39m,\u001b[38;5;241m5\u001b[39m,\u001b[38;5;241m6\u001b[39m,\u001b[38;5;241m4\u001b[39m], \u001b[38;5;241m2\u001b[39m)\u001b[38;5;132;01m}\u001b[39;00m\u001b[38;5;124m\"\u001b[39m)\n",
      "Input \u001b[1;32mIn [1]\u001b[0m, in \u001b[0;36mSolution.findKthLargest_quickSelect\u001b[1;34m(self, nums, k)\u001b[0m\n\u001b[0;32m      7\u001b[0m greater, equal, less \u001b[38;5;241m=\u001b[39m [n \u001b[38;5;28;01mfor\u001b[39;00m n \u001b[38;5;129;01min\u001b[39;00m nums \u001b[38;5;28;01mif\u001b[39;00m n \u001b[38;5;241m>\u001b[39m pivot], [n \u001b[38;5;28;01mfor\u001b[39;00m n \u001b[38;5;129;01min\u001b[39;00m nums \u001b[38;5;28;01mif\u001b[39;00m n \u001b[38;5;241m==\u001b[39m pivot], [n \u001b[38;5;28;01mfor\u001b[39;00m n \u001b[38;5;129;01min\u001b[39;00m nums \u001b[38;5;28;01mif\u001b[39;00m n \u001b[38;5;241m<\u001b[39m pivot]\n\u001b[0;32m      8\u001b[0m gLen, eLen, lLen \u001b[38;5;241m=\u001b[39m \u001b[38;5;28mmap\u001b[39m(\u001b[38;5;28mlen\u001b[39m, (greater, equal, less))\n\u001b[1;32m---> 10\u001b[0m \u001b[38;5;28;01mif\u001b[39;00m k \u001b[38;5;241m<\u001b[39m\u001b[38;5;241m=\u001b[39m gLen: \u001b[38;5;28;01mreturn\u001b[39;00m \u001b[38;5;28;43mself\u001b[39;49m\u001b[38;5;241;43m.\u001b[39;49m\u001b[43mfindKthLargest\u001b[49m(greater, k)\n\u001b[0;32m     11\u001b[0m \u001b[38;5;28;01melif\u001b[39;00m k \u001b[38;5;241m>\u001b[39m gLen\u001b[38;5;241m+\u001b[39meLen: \u001b[38;5;28;01mreturn\u001b[39;00m \u001b[38;5;28mself\u001b[39m\u001b[38;5;241m.\u001b[39mfindKthLargest(less, k\u001b[38;5;241m-\u001b[39m(gLen\u001b[38;5;241m+\u001b[39meLen))\n\u001b[0;32m     12\u001b[0m \u001b[38;5;28;01melse\u001b[39;00m: \u001b[38;5;28;01mreturn\u001b[39;00m pivot\n",
      "\u001b[1;31mAttributeError\u001b[0m: 'Solution' object has no attribute 'findKthLargest'"
     ]
    }
   ],
   "source": [
    "# Test on Cases\n",
    "S = Solution()\n",
    "\n",
    "print(\"---findKthLargest_quickSelect---\")\n",
    "print(f\"Case 1: {S.findKthLargest_quickSelect([3,2,1,5,6,4], 2)}\")\n",
    "print(f\"Case 2: {S.findKthLargest_quickSelect([3,2,3,1,2,4,5,5,6], 4)}\\n\")\n",
    "\n",
    "print(\"---findKthLargest_bucketSort---\")\n",
    "print(f\"Case 1: {S.findKthLargest_bucketSort([3,2,1,5,6,4], 2)}\")\n",
    "print(f\"Case 2: {S.findKthLargest_bucketSort([3,2,3,1,2,4,5,5,6], 4)}\\n\")\n",
    "\n",
    "print(\"---findKthLargest_heap---\")\n",
    "print(f\"Case 1: {S.findKthLargest_heap([3,2,1,5,6,4], 2)}\")\n",
    "print(f\"Case 2: {S.findKthLargest_heap([3,2,3,1,2,4,5,5,6], 4)}\\n\")\n",
    "\n",
    "print(\"---findKthLargest_sorting---\")\n",
    "print(f\"Case 1: {S.findKthLargest_sorting([3,2,1,5,6,4], 2)}\")\n",
    "print(f\"Case 2: {S.findKthLargest_sorting([3,2,3,1,2,4,5,5,6], 4)}\\n\")\n",
    "\n",
    "print(\"---findKthLargest_introSelect---\")\n",
    "print(f\"Case 1: {S.findKthLargest_sorting([3,2,1,5,6,4], 2)}\")\n",
    "print(f\"Case 2: {S.findKthLargest_sorting([3,2,3,1,2,4,5,5,6], 4)}\")"
   ]
  }
 ],
 "metadata": {
  "kernelspec": {
   "display_name": "leetcode",
   "language": "python",
   "name": "python3"
  },
  "language_info": {
   "codemirror_mode": {
    "name": "ipython",
    "version": 3
   },
   "file_extension": ".py",
   "mimetype": "text/x-python",
   "name": "python",
   "nbconvert_exporter": "python",
   "pygments_lexer": "ipython3",
   "version": "3.10.4"
  }
 },
 "nbformat": 4,
 "nbformat_minor": 4
}
