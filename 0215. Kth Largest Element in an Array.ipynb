{
 "cells": [
  {
   "cell_type": "markdown",
   "source": [
    "`# Divide and Conquer` `# Array` `# Sorting` `# Heap (Priority Queue)` `# Quickselect`"
   ],
   "metadata": {}
  },
  {
   "cell_type": "markdown",
   "source": [
    "Given an integer array `nums` and an integer `k`, return the $k^{th}$ largest element in the array.\n",
    "\n",
    "Note that it is the $k^{th}$ largest element in the sorted order, not the $k^{th}$ distinct element."
   ],
   "metadata": {}
  },
  {
   "cell_type": "markdown",
   "source": [
    "**Example 1:**\n",
    "\n",
    "> Input: nums = [3,2,1,5,6,4], k = 2  \n",
    "Output: 5  \n",
    "\n",
    "**Example 2**\n",
    "\n",
    "> Input: nums = [3,2,3,1,2,4,5,5,6], k = 4   \n",
    "Output: 4  "
   ],
   "metadata": {}
  },
  {
   "cell_type": "code",
   "execution_count": 3,
   "source": [
    "class Solution:\r\n",
    "    \r\n",
    "    # Time Complexity： O(n)\r\n",
    "    # Space Complexity： O(n)\r\n",
    "    def findKthLargest_qiuckSelect(self, nums: 'List[int]', k: 'int') -> 'int':\r\n",
    "        if not nums:\r\n",
    "            return\r\n",
    "        \r\n",
    "        pivot = nums[len(nums)//2]    # random choice\r\n",
    "        L = [x for x in nums if x > pivot]\r\n",
    "        M = [x for x in nums if x == pivot]\r\n",
    "        R = [x for x in nums if x < pivot]\r\n",
    "        \r\n",
    "        if k <= len(L):\r\n",
    "            return self.findKthLargest_qiuckSelect(L, k)\r\n",
    "        elif k > len(L) + len(M):\r\n",
    "            return self.findKthLargest_qiuckSelect(R, k-len(L)-len(M))\r\n",
    "        else:\r\n",
    "            return M[0]\r\n",
    "\r\n",
    "\r\n",
    "    # Time Complexity： O(n + (n-k)logk)\r\n",
    "    # Space Complexity： O(1)\r\n",
    "    def findKthLargest_heap(self, nums: 'List[int]', k: 'int') -> 'int':\r\n",
    "        from heapq import heapify, heappop\r\n",
    "\r\n",
    "        n = len(nums)\r\n",
    "        heapify(nums)             # TC: O(n)\r\n",
    "        \r\n",
    "        for i in range(n - k):    # TC: O((n-k)logn)\r\n",
    "            heappop(nums)\r\n",
    "\r\n",
    "        return nums[0]"
   ],
   "outputs": [],
   "metadata": {}
  },
  {
   "cell_type": "code",
   "execution_count": 4,
   "source": [
    "# Test on Cases\r\n",
    "S = Solution()\r\n",
    "\r\n",
    "print(\"---findKthLargest_qiuckSelect---\")\r\n",
    "print(f\"Case 1: {S.findKthLargest_qiuckSelect([3,2,1,5,6,4], 2)}\")\r\n",
    "print(f\"Case 2: {S.findKthLargest_qiuckSelect([3,2,3,1,2,4,5,5,6], 4)}\\n\")\r\n",
    "\r\n",
    "print(\"---findKthLargest_heap---\")\r\n",
    "print(f\"Case 1: {S.findKthLargest_heap([3,2,1,5,6,4], 2)}\")\r\n",
    "print(f\"Case 2: {S.findKthLargest_heap([3,2,3,1,2,4,5,5,6], 4)}\\n\")"
   ],
   "outputs": [
    {
     "output_type": "stream",
     "name": "stdout",
     "text": [
      "---findKthLargest_qiuckSelect---\n",
      "Case 1: 5\n",
      "Case 2: 4\n",
      "\n",
      "---findKthLargest_heap---\n",
      "Case 1: 5\n",
      "Case 2: 4\n",
      "\n"
     ]
    }
   ],
   "metadata": {}
  }
 ],
 "metadata": {
  "kernelspec": {
   "name": "python3",
   "display_name": "Python 3.7.7 64-bit ('spark': conda)"
  },
  "language_info": {
   "codemirror_mode": {
    "name": "ipython",
    "version": 3
   },
   "file_extension": ".py",
   "mimetype": "text/x-python",
   "name": "python",
   "nbconvert_exporter": "python",
   "pygments_lexer": "ipython3",
   "version": "3.7.7"
  },
  "interpreter": {
   "hash": "6ab137a14910b4ee65d0ea442464c53c8571f8241496146388c5db8c59915964"
  }
 },
 "nbformat": 4,
 "nbformat_minor": 4
}