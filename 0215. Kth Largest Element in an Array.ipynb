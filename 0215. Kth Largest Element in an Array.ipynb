{
 "cells": [
  {
   "cell_type": "markdown",
   "metadata": {},
   "source": [
    "`# Array` `# Divide and Conquer` `# Heap (Priority Queue)` `# Quickselect` `# Sorting`"
   ]
  },
  {
   "cell_type": "markdown",
   "metadata": {},
   "source": [
    "Given an integer array `nums` and an integer `k`, return the $k^{th}$ largest element in the array.\n",
    "\n",
    "Note that it is the $k^{th}$ largest element in the sorted order, not the $k^{th}$ distinct element."
   ]
  },
  {
   "cell_type": "markdown",
   "metadata": {},
   "source": [
    "**Example 1:**\n",
    "\n",
    "> Input: nums = [3,2,1,5,6,4], k = 2  \n",
    "> Output: 5  \n",
    "\n",
    "**Example 2**\n",
    "\n",
    "> Input: nums = [3,2,3,1,2,4,5,5,6], k = 4   \n",
    "> Output: 4  "
   ]
  },
  {
   "cell_type": "code",
   "execution_count": 1,
   "metadata": {},
   "outputs": [],
   "source": [
    "class Solution:\n",
    "\n",
    "    # Time Complexity： O(n) in average\n",
    "    # Space Complexity： O(n)\n",
    "    def findKthLargest_quickSelect(self, nums: list[int], k: int) -> int:\n",
    "        from random import choice\n",
    "\n",
    "        pivot = choice(nums)\n",
    "        l, r = len(large := [x for x in nums if x > pivot]), len(nums) - len(small := [x for x in nums if x < pivot])\n",
    "\n",
    "        return self.findKthLargest_quickSelect(large, k) if k <= l else (self.findKthLargest_quickSelect(small, k-r) if k > r else pivot)\n",
    "    \n",
    "    # Time Complexity： O(2*10^4 + 1)\n",
    "    # Space Complexity： O(2*10^4 + 1)\n",
    "    def findKthLargest_bucketSort(self, nums: list[int], k: int) -> int:\n",
    "        from itertools import chain\n",
    "        \n",
    "        offset = 10**4\n",
    "        buckets = [[] for _ in range(2*offset+1)]\n",
    "\n",
    "        for num in nums:\n",
    "            buckets[num+offset].append(num)\n",
    "\n",
    "        return list(chain.from_iterable(buckets))[-k]\n",
    "    \n",
    "    # Time Complexity： O(2n + klogn)\n",
    "    # Space Complexity： O(n)\n",
    "    def findKthLargest_heap(self, nums: list[int], k: int) -> int:\n",
    "        from heapq import heapify, heappop\n",
    "\n",
    "        heapify(maxHeap := [-num for num in nums])    # TC: O(n)\n",
    "        \n",
    "        for _ in range(k):                            # TC: O(klogn)\n",
    "            num = heappop(maxHeap)\n",
    "\n",
    "        return -num\n",
    "\n",
    "        # Solution by using lib:\n",
    "        # from heapq import nlargest\n",
    "        # return nlargest(k, nums)[-1]                # TC: O(nlogk); SC: O(k)\n",
    "\n",
    "    # Time Complexity： O(nlogn)\n",
    "    # Space Complexity： O(n)\n",
    "    def findKthLargest_sorting(self, nums: list[int], k: int) -> int:\n",
    "        return sorted(nums, reverse=True)[k-1]\n",
    "\n",
    "    # Time Complexity： O(n)\n",
    "    # Space Complexity： O(n)    \n",
    "    def findKthLargest_introSelect(self, nums: list[int], k: int) -> int:\n",
    "        import numpy as np\n",
    "\n",
    "        partitioned = -np.partition(-np.array(nums), k-1)[:k]\n",
    "        \n",
    "        return partitioned.min()"
   ]
  },
  {
   "cell_type": "code",
   "execution_count": 2,
   "metadata": {},
   "outputs": [
    {
     "name": "stdout",
     "output_type": "stream",
     "text": [
      "---findKthLargest_quickSelect---\n",
      "Case 1: 5\n",
      "Case 2: 4\n",
      "\n",
      "---findKthLargest_bucketSort---\n",
      "Case 1: 5\n",
      "Case 2: 4\n",
      "\n",
      "---findKthLargest_heap---\n",
      "Case 1: 5\n",
      "Case 2: 4\n",
      "\n",
      "---findKthLargest_sorting---\n",
      "Case 1: 5\n",
      "Case 2: 4\n",
      "\n",
      "---findKthLargest_introSelect---\n",
      "Case 1: 5\n",
      "Case 2: 4\n"
     ]
    }
   ],
   "source": [
    "# Test on Cases\n",
    "S = Solution()\n",
    "\n",
    "print(\"---findKthLargest_quickSelect---\")\n",
    "print(f\"Case 1: {S.findKthLargest_quickSelect([3,2,1,5,6,4], 2)}\")\n",
    "print(f\"Case 2: {S.findKthLargest_quickSelect([3,2,3,1,2,4,5,5,6], 4)}\\n\")\n",
    "\n",
    "print(\"---findKthLargest_bucketSort---\")\n",
    "print(f\"Case 1: {S.findKthLargest_bucketSort([3,2,1,5,6,4], 2)}\")\n",
    "print(f\"Case 2: {S.findKthLargest_bucketSort([3,2,3,1,2,4,5,5,6], 4)}\\n\")\n",
    "\n",
    "print(\"---findKthLargest_heap---\")\n",
    "print(f\"Case 1: {S.findKthLargest_heap([3,2,1,5,6,4], 2)}\")\n",
    "print(f\"Case 2: {S.findKthLargest_heap([3,2,3,1,2,4,5,5,6], 4)}\\n\")\n",
    "\n",
    "print(\"---findKthLargest_sorting---\")\n",
    "print(f\"Case 1: {S.findKthLargest_sorting([3,2,1,5,6,4], 2)}\")\n",
    "print(f\"Case 2: {S.findKthLargest_sorting([3,2,3,1,2,4,5,5,6], 4)}\\n\")\n",
    "\n",
    "print(\"---findKthLargest_introSelect---\")\n",
    "print(f\"Case 1: {S.findKthLargest_sorting([3,2,1,5,6,4], 2)}\")\n",
    "print(f\"Case 2: {S.findKthLargest_sorting([3,2,3,1,2,4,5,5,6], 4)}\")"
   ]
  }
 ],
 "metadata": {
  "interpreter": {
   "hash": "21d8332eb27bea95342760850bd7426f517b6a483537194bbba87e10eeabf6ff"
  },
  "kernelspec": {
   "display_name": "Python 3 (ipykernel)",
   "language": "python",
   "name": "python3"
  },
  "language_info": {
   "codemirror_mode": {
    "name": "ipython",
    "version": 3
   },
   "file_extension": ".py",
   "mimetype": "text/x-python",
   "name": "python",
   "nbconvert_exporter": "python",
   "pygments_lexer": "ipython3",
   "version": "3.11.9"
  }
 },
 "nbformat": 4,
 "nbformat_minor": 4
}
