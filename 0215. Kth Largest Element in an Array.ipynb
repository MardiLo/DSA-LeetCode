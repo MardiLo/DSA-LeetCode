{
 "cells": [
  {
   "cell_type": "markdown",
   "metadata": {},
   "source": [
    "`# Array` `# Divide and Conquer` `# Heap (Priority Queue)` `# Quickselect` `# Sorting`"
   ]
  },
  {
   "cell_type": "markdown",
   "metadata": {},
   "source": [
    "Given an integer array `nums` and an integer `k`, return the $k^{th}$ largest element in the array.\n",
    "\n",
    "Note that it is the $k^{th}$ largest element in the sorted order, not the $k^{th}$ distinct element."
   ]
  },
  {
   "cell_type": "markdown",
   "metadata": {},
   "source": [
    "**Example 1:**\n",
    "\n",
    "> Input: nums = [3,2,1,5,6,4], k = 2  \n",
    "Output: 5  \n",
    "\n",
    "**Example 2**\n",
    "\n",
    "> Input: nums = [3,2,3,1,2,4,5,5,6], k = 4   \n",
    "Output: 4  "
   ]
  },
  {
   "cell_type": "code",
   "execution_count": 1,
   "metadata": {},
   "outputs": [],
   "source": [
    "class Solution:\n",
    "    \n",
    "    # Time Complexity： O(2n + (k-1)logn)\n",
    "    # Space Complexity： O(1)\n",
    "    def findKthLargest_heap(self, nums: list[int], k: int) -> int:\n",
    "        from heapq import heapify, heappop\n",
    "\n",
    "        for i in range(0, len(nums)):       # TC: O(n)\n",
    "            nums[i] = -nums[i]\n",
    "\n",
    "        heapify(nums)                       # TC: O(n)\n",
    "        \n",
    "        for _ in range(k-1):                # TC: O((k-1)logn)\n",
    "            heappop(nums)\n",
    "\n",
    "        return -nums[0]\n",
    "\n",
    "    # Time Complexity： O(nlogk)\n",
    "    # Space Complexity： O(k)\n",
    "    def findKthLargest_heapLib(self, nums: list[int], k: int) -> int:\n",
    "        from heapq import nlargest\n",
    "\n",
    "        return nlargest(k, nums)[-1]        # TC: O(nlogk); SC: O(k)"
   ]
  },
  {
   "cell_type": "code",
   "execution_count": 2,
   "metadata": {},
   "outputs": [
    {
     "name": "stdout",
     "output_type": "stream",
     "text": [
      "---findKthLargest_heap---\n",
      "Case 1: 5\n",
      "Case 2: 4\n",
      "\n",
      "---findKthLargest_heapLib---\n",
      "Case 1: 5\n",
      "Case 2: 4\n"
     ]
    }
   ],
   "source": [
    "# Test on Cases\n",
    "S = Solution()\n",
    "\n",
    "print(\"---findKthLargest_heap---\")\n",
    "print(f\"Case 1: {S.findKthLargest_heap([3,2,1,5,6,4], 2)}\")\n",
    "print(f\"Case 2: {S.findKthLargest_heap([3,2,3,1,2,4,5,5,6], 4)}\\n\")\n",
    "\n",
    "print(\"---findKthLargest_heapLib---\")\n",
    "print(f\"Case 1: {S.findKthLargest_heapLib([3,2,1,5,6,4], 2)}\")\n",
    "print(f\"Case 2: {S.findKthLargest_heapLib([3,2,3,1,2,4,5,5,6], 4)}\")"
   ]
  }
 ],
 "metadata": {
  "interpreter": {
   "hash": "21d8332eb27bea95342760850bd7426f517b6a483537194bbba87e10eeabf6ff"
  },
  "kernelspec": {
   "display_name": "Python 3.10.4 ('leetcode')",
   "language": "python",
   "name": "python3"
  },
  "language_info": {
   "codemirror_mode": {
    "name": "ipython",
    "version": 3
   },
   "file_extension": ".py",
   "mimetype": "text/x-python",
   "name": "python",
   "nbconvert_exporter": "python",
   "pygments_lexer": "ipython3",
   "version": "3.10.4"
  }
 },
 "nbformat": 4,
 "nbformat_minor": 4
}
