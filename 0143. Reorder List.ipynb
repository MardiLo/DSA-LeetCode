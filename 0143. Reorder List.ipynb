{
 "cells": [
  {
   "attachments": {},
   "cell_type": "markdown",
   "metadata": {},
   "source": [
    "`# Linked List` `# Recursion` `# Stack` `# Two Pointers`"
   ]
  },
  {
   "attachments": {},
   "cell_type": "markdown",
   "metadata": {},
   "source": [
    "You are given the head of a singly linked-list. The list can be represented as:  \n",
    "\n",
    "`L`<sub>`0`</sub>` → L`<sub>`1`</sub> `→ … → L`<sub>`n-1`</sub> `→ L`<sub>`n`</sub>\n",
    "\n",
    "*Reorder the list to be on the following form:*\n",
    "\n",
    "`L`<sub>`0`</sub>` → L`<sub>`n`</sub> `→ L`<sub>`1`</sub> `→ L`<sub>`n-1`</sub> `→ L`<sub>`2`</sub> `→ L`<sub>`n-2`</sub> `→ …`\n",
    "\n",
    "You may not modify the values in the list's nodes. Only nodes themselves may be changed."
   ]
  },
  {
   "attachments": {},
   "cell_type": "markdown",
   "metadata": {},
   "source": [
    "**Example 1:**  \n",
    "![Image of leetcode 0143 problem example 1](https://assets.leetcode.com/uploads/2021/03/04/reorder1linked-list.jpg)\n",
    "> Input: head = [1,2,3,4]  \n",
    "> Output: [1,4,2,3]\n",
    "\n",
    "**Example 2:**  \n",
    "![Image of leetcode 0143 problem example 2](https://assets.leetcode.com/uploads/2021/03/09/reorder2-linked-list.jpg)\n",
    "> Input: head = [1,2,3,4,5]  \n",
    "> Output: [1,5,2,4,3]"
   ]
  },
  {
   "cell_type": "code",
   "execution_count": 5,
   "metadata": {},
   "outputs": [],
   "source": [
    "class ListNode:\n",
    "    def __init__(self, val=0, next=None):\n",
    "        self.val = val\n",
    "        self.next = next\n",
    "        \n",
    "    def list2LinkedList(self, lst):\n",
    "        cur = dummy = ListNode(0)\n",
    "        for node in lst:\n",
    "            cur.next = ListNode(node)\n",
    "            cur = cur.next\n",
    "        return dummy.next\n",
    "\n",
    "class Solution:\n",
    "\n",
    "    # Time Complexity： O(n)\n",
    "    # Space Complexity： O(1)\n",
    "    def reorderList(self, head: ListNode) -> None:\n",
    "        \"\"\"\n",
    "        Do not return anything, modify head in-place instead.\n",
    "        \"\"\"\n",
    "        slow = fast = head\n",
    "        while fast.next and fast.next.next:\n",
    "            slow, fast = slow.next, fast.next.next\n",
    "\n",
    "        rev, slow.next, mid = None, None, slow.next\n",
    "        while mid:\n",
    "            rev, rev.next, mid = mid, rev, mid.next\n",
    "\n",
    "        curr = head\n",
    "        while rev:\n",
    "            curr.next, rev = rev, curr.next\n",
    "            curr = curr.next\n",
    "        \n",
    "        return head"
   ]
  },
  {
   "cell_type": "code",
   "execution_count": 6,
   "metadata": {},
   "outputs": [
    {
     "name": "stdout",
     "output_type": "stream",
     "text": [
      "Case 1: [1, 4, 2, 3]\n",
      "Case 2: [1, 5, 2, 4, 3]\n"
     ]
    }
   ],
   "source": [
    "# Test on Cases\n",
    "from leetcodepractice import Print\n",
    "\n",
    "S, P, L = Solution(), Print(), ListNode()\n",
    "\n",
    "print(f\"Case 1: {P.LinkedListTraversal(S.reorderList(L.list2LinkedList([1,2,3,4])))}\")\n",
    "print(f\"Case 2: {P.LinkedListTraversal(S.reorderList(L.list2LinkedList([1,2,3,4,5])))}\")"
   ]
  }
 ],
 "metadata": {
  "kernelspec": {
   "display_name": "Python 3 (ipykernel)",
   "language": "python",
   "name": "python3"
  },
  "language_info": {
   "codemirror_mode": {
    "name": "ipython",
    "version": 3
   },
   "file_extension": ".py",
   "mimetype": "text/x-python",
   "name": "python",
   "nbconvert_exporter": "python",
   "pygments_lexer": "ipython3",
   "version": "3.10.4"
  },
  "vscode": {
   "interpreter": {
    "hash": "21d8332eb27bea95342760850bd7426f517b6a483537194bbba87e10eeabf6ff"
   }
  }
 },
 "nbformat": 4,
 "nbformat_minor": 4
}
