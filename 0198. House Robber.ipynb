{
 "cells": [
  {
   "cell_type": "markdown",
   "source": [
    "`# Array` `# Dynamic Programming` "
   ],
   "metadata": {}
  },
  {
   "cell_type": "markdown",
   "source": [
    "You are a professional robber planning to rob houses along a street. Each house has a certain amount of money stashed, the only constraint stopping you from robbing each of them is that adjacent houses have security systems connected and **it will automatically contact the police if two adjacent houses were broken into on the same night**.\n",
    "\n",
    "Given an integer array `nums` representing the amount of money of each house, return *the maximum amount of money you can rob tonight* ***without alerting the police***."
   ],
   "metadata": {}
  },
  {
   "cell_type": "markdown",
   "source": [
    "**Example 1:**\n",
    "\n",
    "> Input: nums = [1,2,3,1]  \n",
    "Output: 4  \n",
    "Explanation: Rob house 1 (money = 1) and then rob house 3 (money = 3).  \n",
    "Total amount you can rob = 1 + 3 = 4.  \n",
    "\n",
    "**Example 2:**\n",
    "\n",
    "> Input: nums = [2,7,9,3,1]  \n",
    "Output: 12  \n",
    "Explanation: Rob house 1 (money = 2), rob house 3 (money = 9) and rob house 5 (money = 1).  \n",
    "Total amount you can rob = 2 + 9 + 1 = 12.  "
   ],
   "metadata": {}
  },
  {
   "cell_type": "code",
   "execution_count": 1,
   "source": [
    "class Solution:\r\n",
    "    \r\n",
    "    # Time Complexity： O(n)\r\n",
    "    # Space Complexity： O(1)\r\n",
    "    def rob(self, nums: 'List[int]') -> 'int':\r\n",
    "        curSum = prevSum = 0\r\n",
    "        \r\n",
    "        for num in nums:\r\n",
    "            curSum, prevSum = max(prevSum + num, curSum), curSum\r\n",
    "             \r\n",
    "        return curSum"
   ],
   "outputs": [],
   "metadata": {}
  },
  {
   "cell_type": "code",
   "execution_count": 2,
   "source": [
    "# Test on Cases\r\n",
    "S = Solution()\r\n",
    "\r\n",
    "print(f\"Case 1: {S.rob([1,2,3,1])}\")\r\n",
    "print(f\"Case 2: {S.rob([2,7,9,3,1])}\")"
   ],
   "outputs": [
    {
     "output_type": "stream",
     "name": "stdout",
     "text": [
      "Case 1: 4\n",
      "Case 2: 12\n"
     ]
    }
   ],
   "metadata": {}
  },
  {
   "cell_type": "markdown",
   "source": [
    "**Ref**\n",
    "1. [[Python] 4 lines easy dp solution, explained](https://leetcode.com/problems/house-robber/discuss/846004/Python-4-lines-easy-dp-solution-explained)\n",
    "1. [[Python] Bottom up DP - From O(N) to O(1) Space - Clean & Concise](https://leetcode.com/problems/house-robber/discuss/263528/Python-Bottom-up-DP-From-O(N)-to-O(1)-Space-Clean-and-Concise)"
   ],
   "metadata": {}
  }
 ],
 "metadata": {
  "kernelspec": {
   "display_name": "Python 3",
   "language": "python",
   "name": "python3"
  },
  "language_info": {
   "codemirror_mode": {
    "name": "ipython",
    "version": 3
   },
   "file_extension": ".py",
   "mimetype": "text/x-python",
   "name": "python",
   "nbconvert_exporter": "python",
   "pygments_lexer": "ipython3",
   "version": "3.7.7"
  }
 },
 "nbformat": 4,
 "nbformat_minor": 4
}