{
 "cells": [
  {
   "cell_type": "markdown",
   "metadata": {},
   "source": [
    "`# Array` `# Dynamic Programming` "
   ]
  },
  {
   "cell_type": "markdown",
   "metadata": {},
   "source": [
    "You are a professional robber planning to rob houses along a street. Each house has a certain amount of money stashed, the only constraint stopping you from robbing each of them is that adjacent houses have security systems connected and **it will automatically contact the police if two adjacent houses were broken into on the same night**.\n",
    "\n",
    "Given an integer array `nums` representing the amount of money of each house, return *the maximum amount of money you can rob tonight* ***without alerting the police***."
   ]
  },
  {
   "cell_type": "markdown",
   "metadata": {},
   "source": [
    "**Example 1:**\n",
    "\n",
    "> Input: nums = [1,2,3,1]  \n",
    "> Output: 4  \n",
    "> Explanation: Rob house 1 (money = 1) and then rob house 3 (money = 3).  \n",
    "> Total amount you can rob = 1 + 3 = 4.  \n",
    "\n",
    "**Example 2:**\n",
    "\n",
    "> Input: nums = [2,7,9,3,1]  \n",
    "> Output: 12  \n",
    "> Explanation: Rob house 1 (money = 2), rob house 3 (money = 9) and rob house 5 (money = 1).  \n",
    "> Total amount you can rob = 2 + 9 + 1 = 12.  "
   ]
  },
  {
   "cell_type": "code",
   "execution_count": 1,
   "metadata": {},
   "outputs": [],
   "source": [
    "class Solution:\n",
    "\n",
    "    # Time Complexity： O(n)\n",
    "    # Space Complexity： O(n)\n",
    "    def rob(self, nums: list[int]) -> int:\n",
    "        \"\"\"\n",
    "        We'll keep comparing the current house + the previous houses we robbed are worthy than the last house that we skip to rob.\n",
    "        The dp equation will be like:\n",
    "            dp[i] = max(dp[i-2] + current house, dp[i-1])\n",
    "        \"\"\"\n",
    "        \n",
    "        dp = [0, 0] + [0] * len(nums)\n",
    "        \n",
    "        for i in range(2, len(nums)+2):\n",
    "            dp[i] = max(dp[i-2]+nums[i-2], dp[i-1])\n",
    "        \n",
    "        return dp[-1]\n",
    "\n",
    "    # Time Complexity： O(n)\n",
    "    # Space Complexity： O(1)\n",
    "    def rob_spaceOpt(self, nums: list[int]) -> int:\n",
    "        dp0, dp1, dp2 = 0, 0, 0\n",
    "        \n",
    "        for i in range(2, len(nums)+2):\n",
    "            dp0 = max(dp2+nums[i-2], dp1)\n",
    "            dp0, dp1, dp2 = 0, dp0, dp1\n",
    "        \n",
    "        return dp1"
   ]
  },
  {
   "cell_type": "code",
   "execution_count": 2,
   "metadata": {},
   "outputs": [
    {
     "name": "stdout",
     "output_type": "stream",
     "text": [
      "---rob---\n",
      "Case 1: 4\n",
      "Case 2: 12\n",
      "\n",
      "---rob_spaceOpt---\n",
      "Case 1: 4\n",
      "Case 2: 12\n"
     ]
    }
   ],
   "source": [
    "# Test on Cases\n",
    "S = Solution()\n",
    "\n",
    "print(\"---rob---\")\n",
    "print(f\"Case 1: {S.rob([1,2,3,1])}\")\n",
    "print(f\"Case 2: {S.rob([2,7,9,3,1])}\\n\")\n",
    "\n",
    "print(\"---rob_spaceOpt---\")\n",
    "print(f\"Case 1: {S.rob_spaceOpt([1,2,3,1])}\")\n",
    "print(f\"Case 2: {S.rob_spaceOpt([2,7,9,3,1])}\")"
   ]
  },
  {
   "cell_type": "markdown",
   "metadata": {},
   "source": [
    "**Ref**\n",
    "1. [[Python] 4 lines easy dp solution, explained](https://leetcode.com/problems/house-robber/discuss/846004/Python-4-lines-easy-dp-solution-explained)\n",
    "2. [[Python] Bottom up DP - From O(N) to O(1) Space - Clean & Concise](https://leetcode.com/problems/house-robber/discuss/263528/Python-Bottom-up-DP-From-O(N)-to-O(1)-Space-Clean-and-Concise)"
   ]
  }
 ],
 "metadata": {
  "kernelspec": {
   "display_name": "Python 3 (ipykernel)",
   "language": "python",
   "name": "python3"
  },
  "language_info": {
   "codemirror_mode": {
    "name": "ipython",
    "version": 3
   },
   "file_extension": ".py",
   "mimetype": "text/x-python",
   "name": "python",
   "nbconvert_exporter": "python",
   "pygments_lexer": "ipython3",
   "version": "3.10.4"
  },
  "vscode": {
   "interpreter": {
    "hash": "21d8332eb27bea95342760850bd7426f517b6a483537194bbba87e10eeabf6ff"
   }
  }
 },
 "nbformat": 4,
 "nbformat_minor": 4
}
