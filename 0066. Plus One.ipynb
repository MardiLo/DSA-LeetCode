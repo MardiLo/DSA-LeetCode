{
 "cells": [
  {
   "cell_type": "markdown",
   "source": [
    "`# Array` `# Math`"
   ],
   "metadata": {}
  },
  {
   "cell_type": "markdown",
   "source": [
    "You are given a **large integer** represented as an integer array `digits`, where each `digits[i]` is the `i`<sup>`th`</sup> digit of the integer. The digits are ordered from most significant to least significant in left-to-right order. The large integer does not contain any leading `0`'s.\r\n",
    "\r\n",
    "Increment the large integer by one and return *the resulting array of digits*."
   ],
   "metadata": {}
  },
  {
   "cell_type": "markdown",
   "source": [
    "**Example 1:**\r\n",
    "\r\n",
    "> Input: digits = [1,2,3]  \r\n",
    "Output: [1,2,4]  \r\n",
    "Explanation: The array represents the integer 123.  \r\n",
    "Incrementing by one gives 123 + 1 = 124.  \r\n",
    "Thus, the result should be [1,2,4].  \r\n",
    "    \r\n",
    "**Example 2:**\r\n",
    "\r\n",
    "> Input: digits = [4,3,2,1]  \r\n",
    "Output: [4,3,2,2]  \r\n",
    "Explanation: The array represents the integer 4321.  \r\n",
    "Incrementing by one gives 4321 + 1 = 4322.  \r\n",
    "Thus, the result should be [4,3,2,2].  \r\n",
    "    \r\n",
    "**Example 3:**\r\n",
    "\r\n",
    "> Input: digits = [0]  \r\n",
    "Output: [1]  \r\n",
    "Explanation: The array represents the integer 0.  \r\n",
    "Incrementing by one gives 0 + 1 = 1.  \r\n",
    "Thus, the result should be [1].  \r\n",
    "\r\n",
    "**Example 4:**\r\n",
    "\r\n",
    "> Input: digits = [9]  \r\n",
    "Output: [1,0]  \r\n",
    "Explanation: The array represents the integer 9.  \r\n",
    "Incrementing by one gives 9 + 1 = 10.  \r\n",
    "Thus, the result should be [1,0].  "
   ],
   "metadata": {}
  },
  {
   "cell_type": "code",
   "execution_count": 1,
   "source": [
    "class Solution:\r\n",
    "    \r\n",
    "    # Time Complexity： O(n)\r\n",
    "    # Space Complexity： O(1), in-place\r\n",
    "    def plusOne(self, digits: 'List[int]') -> 'List[int]':\r\n",
    "        \"\"\"\r\n",
    "        start from last digit: \r\n",
    "            if it's 9, change it to 0. then search its left neighbor digit.\r\n",
    "            if it's not, then return digit + 1.\r\n",
    "        \r\n",
    "        if loop over all elements in the list, add 1 to the head of the list.\r\n",
    "        \"\"\"\r\n",
    "    \r\n",
    "        for i in range(len(digits)):    # TC: O(n)\r\n",
    "            if digits[~i] == 9:\r\n",
    "                digits[~i] = 0\r\n",
    "            else:\r\n",
    "                digits[~i] += 1\r\n",
    "                return digits\r\n",
    "        \r\n",
    "        return [1] + digits"
   ],
   "outputs": [],
   "metadata": {}
  },
  {
   "cell_type": "code",
   "execution_count": 2,
   "source": [
    "# Test on Cases\r\n",
    "S = Solution()\r\n",
    "\r\n",
    "print(f\"Case 1: {S.plusOne([1,2,3])}\")\r\n",
    "print(f\"Case 2: {S.plusOne([4,3,2,1])}\")\r\n",
    "print(f\"Case 3: {S.plusOne([0])}\")\r\n",
    "print(f\"Case 4: {S.plusOne([9])}\")"
   ],
   "outputs": [
    {
     "output_type": "stream",
     "name": "stdout",
     "text": [
      "Case 1: [1, 2, 4]\n",
      "Case 2: [4, 3, 2, 2]\n",
      "Case 3: [1]\n",
      "Case 4: [1, 0]\n"
     ]
    }
   ],
   "metadata": {}
  }
 ],
 "metadata": {
  "kernelspec": {
   "name": "python3",
   "display_name": "Python 3.7.7 64-bit ('spark': conda)"
  },
  "language_info": {
   "codemirror_mode": {
    "name": "ipython",
    "version": 3
   },
   "file_extension": ".py",
   "mimetype": "text/x-python",
   "name": "python",
   "nbconvert_exporter": "python",
   "pygments_lexer": "ipython3",
   "version": "3.7.7"
  },
  "interpreter": {
   "hash": "6ab137a14910b4ee65d0ea442464c53c8571f8241496146388c5db8c59915964"
  }
 },
 "nbformat": 4,
 "nbformat_minor": 4
}