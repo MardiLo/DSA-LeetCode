{
 "cells": [
  {
   "cell_type": "markdown",
   "metadata": {},
   "source": [
    "`# Array` `# Math`"
   ]
  },
  {
   "cell_type": "markdown",
   "metadata": {},
   "source": [
    "You are given a **large integer** represented as an integer array `digits`, where each `digits[i]` is the `i`<sup>`th`</sup> digit of the integer. The digits are ordered from most significant to least significant in left-to-right order. The large integer does not contain any leading `0`'s.\n",
    "\n",
    "Increment the large integer by one and return *the resulting array of digits*."
   ]
  },
  {
   "cell_type": "markdown",
   "metadata": {},
   "source": [
    "**Example 1:**\n",
    "\n",
    "> Input: digits = [1,2,3]  \n",
    "Output: [1,2,4]  \n",
    "Explanation: The array represents the integer 123.  \n",
    "Incrementing by one gives 123 + 1 = 124.  \n",
    "Thus, the result should be [1,2,4].  \n",
    "    \n",
    "**Example 2:**\n",
    "\n",
    "> Input: digits = [4,3,2,1]  \n",
    "Output: [4,3,2,2]  \n",
    "Explanation: The array represents the integer 4321.  \n",
    "Incrementing by one gives 4321 + 1 = 4322.  \n",
    "Thus, the result should be [4,3,2,2].  \n",
    "    \n",
    "**Example 3:**\n",
    "\n",
    "> Input: digits = [0]  \n",
    "Output: [1]  \n",
    "Explanation: The array represents the integer 0.  \n",
    "Incrementing by one gives 0 + 1 = 1.  \n",
    "Thus, the result should be [1].  \n",
    "\n",
    "**Example 4:**\n",
    "\n",
    "> Input: digits = [9]  \n",
    "Output: [1,0]  \n",
    "Explanation: The array represents the integer 9.  \n",
    "Incrementing by one gives 9 + 1 = 10.  \n",
    "Thus, the result should be [1,0].  "
   ]
  },
  {
   "cell_type": "code",
   "execution_count": 1,
   "metadata": {},
   "outputs": [],
   "source": [
    "class Solution:\n",
    "    \n",
    "    # Time Complexity： O(n)\n",
    "    # Space Complexity： O(1), in-place\n",
    "    def plusOne_integer(self, digits: list[int]) -> list[int]:\n",
    "        \"\"\"\n",
    "        start from last digit: \n",
    "            if it's 9, change it to 0. then search its left neighbor digit.\n",
    "            if it's not, then return digit + 1.\n",
    "        \n",
    "        if loop over all elements in the list, add 1 to the head of the list.\n",
    "        \"\"\"\n",
    "    \n",
    "        for i in range(len(digits)):    # TC: O(n)\n",
    "            if digits[~i] == 9:\n",
    "                digits[~i] = 0\n",
    "            else:\n",
    "                digits[~i] += 1\n",
    "                return digits\n",
    "        \n",
    "        return [1] + digits\n",
    "\n",
    "    # Time Complexity： O(n)\n",
    "    # Space Complexity： O(1), in-place\n",
    "    def plusOne_string(self, digits: list[int]) -> list[int]:\n",
    "        return [int(i) for i in str(int(''.join(map(str, digits))) + 1)]"
   ]
  },
  {
   "cell_type": "code",
   "execution_count": 2,
   "metadata": {},
   "outputs": [
    {
     "name": "stdout",
     "output_type": "stream",
     "text": [
      "---plusOne_integer---\n",
      "Case 1: [1, 2, 4]\n",
      "Case 2: [4, 3, 2, 2]\n",
      "Case 3: [1]\n",
      "Case 4: [1, 0]\n",
      "\n",
      "---plusOne_string---\n",
      "Case 1: [1, 2, 4]\n",
      "Case 2: [4, 3, 2, 2]\n",
      "Case 3: [1]\n",
      "Case 4: [1, 0]\n"
     ]
    }
   ],
   "source": [
    "# Test on Cases\n",
    "S = Solution()\n",
    "\n",
    "print(\"---plusOne_integer---\")\n",
    "print(f\"Case 1: {S.plusOne_integer([1,2,3])}\")\n",
    "print(f\"Case 2: {S.plusOne_integer([4,3,2,1])}\")\n",
    "print(f\"Case 3: {S.plusOne_integer([0])}\")\n",
    "print(f\"Case 4: {S.plusOne_integer([9])}\\n\")\n",
    "\n",
    "print(\"---plusOne_string---\")\n",
    "print(f\"Case 1: {S.plusOne_string([1,2,3])}\")\n",
    "print(f\"Case 2: {S.plusOne_string([4,3,2,1])}\")\n",
    "print(f\"Case 3: {S.plusOne_string([0])}\")\n",
    "print(f\"Case 4: {S.plusOne_string([9])}\")"
   ]
  }
 ],
 "metadata": {
  "interpreter": {
   "hash": "21d8332eb27bea95342760850bd7426f517b6a483537194bbba87e10eeabf6ff"
  },
  "kernelspec": {
   "display_name": "Python 3.10.4 ('leetcode')",
   "language": "python",
   "name": "python3"
  },
  "language_info": {
   "codemirror_mode": {
    "name": "ipython",
    "version": 3
   },
   "file_extension": ".py",
   "mimetype": "text/x-python",
   "name": "python",
   "nbconvert_exporter": "python",
   "pygments_lexer": "ipython3",
   "version": "3.10.4"
  }
 },
 "nbformat": 4,
 "nbformat_minor": 4
}
