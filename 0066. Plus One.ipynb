{
 "cells": [
  {
   "cell_type": "markdown",
   "metadata": {},
   "source": [
    "`# Array`"
   ]
  },
  {
   "cell_type": "markdown",
   "metadata": {},
   "source": [
    "Given a `non-empty` array of decimal digits representing a non-negative integer, increment one to the integer.\n",
    "\n",
    "The digits are stored such that the most significant digit is at the head of the list, and each element in the array contains a single digit.\n",
    "\n",
    "You may assume the integer does not contain any leading zero, except the number 0 itself."
   ]
  },
  {
   "cell_type": "markdown",
   "metadata": {},
   "source": [
    "**Example 1:**\n",
    "\n",
    "> Input: digits = [1,2,3]  \n",
    "Output: [1,2,4]  \n",
    "Explanation: The array represents the integer 123.\n",
    "    \n",
    "**Example 2:**\n",
    "\n",
    "> Input: digits = [4,3,2,1]  \n",
    "Output: [4,3,2,2]  \n",
    "Explanation: The array represents the integer 4321.\n",
    "    \n",
    "**Example 3:**\n",
    "\n",
    "> Input: digits = [0]  \n",
    "Output: [1]"
   ]
  },
  {
   "cell_type": "code",
   "execution_count": 11,
   "metadata": {},
   "outputs": [],
   "source": [
    "class Solution:\n",
    "    \n",
    "    # Time Complexity： O(n)\n",
    "    # Space Complexity： O(1)\n",
    "    def plusOne(self, digits: 'List[int]') -> 'List[int]':\n",
    "        \"\"\"\n",
    "        從最後一位開始判斷：如果是 9 就將其變成 0 然後進入下個 loop，如果不是 9 則直接回傳 value+1，若 loop 都跑完，代表需要再新增一位數\n",
    "        \"\"\"\n",
    "    \n",
    "        for i in range(len(digits)):\n",
    "            if digits[~i] < 9:\n",
    "                digits[~i] += 1\n",
    "                return digits\n",
    "            else:\n",
    "                digits[~i] = 0\n",
    "        \n",
    "        return [1] + digits"
   ]
  },
  {
   "cell_type": "code",
   "execution_count": 12,
   "metadata": {},
   "outputs": [
    {
     "name": "stdout",
     "output_type": "stream",
     "text": [
      "Case 1: [1, 2, 4]\n",
      "Case 2: [4, 3, 2, 2]\n",
      "Case 3: [1]\n"
     ]
    }
   ],
   "source": [
    "# Test on Cases\n",
    "S = Solution()\n",
    "\n",
    "print(f\"Case 1: {S.plusOne([1,2,3])}\")\n",
    "print(f\"Case 2: {S.plusOne([4,3,2,1])}\")\n",
    "print(f\"Case 3: {S.plusOne([0])}\")"
   ]
  },
  {
   "cell_type": "code",
   "execution_count": null,
   "metadata": {},
   "outputs": [],
   "source": []
  }
 ],
 "metadata": {
  "kernelspec": {
   "display_name": "Python 3",
   "language": "python",
   "name": "python3"
  },
  "language_info": {
   "codemirror_mode": {
    "name": "ipython",
    "version": 3
   },
   "file_extension": ".py",
   "mimetype": "text/x-python",
   "name": "python",
   "nbconvert_exporter": "python",
   "pygments_lexer": "ipython3",
   "version": "3.7.7"
  }
 },
 "nbformat": 4,
 "nbformat_minor": 4
}
