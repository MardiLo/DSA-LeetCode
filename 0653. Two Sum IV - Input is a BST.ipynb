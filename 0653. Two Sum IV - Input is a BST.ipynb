{
 "cells": [
  {
   "cell_type": "markdown",
   "metadata": {},
   "source": [
    "`# Binary Tree` `# Binary Search Tree` `# Breadth-First Search` `# Depth-First Search` `# Hash Table` `# Tree` `# Two Pointers`"
   ]
  },
  {
   "cell_type": "markdown",
   "metadata": {},
   "source": [
    "Given the `root` of a Binary Search Tree and a target number `k`, return `true` *if there exist two elements in the BST such that their sum is equal to the given* `target`."
   ]
  },
  {
   "cell_type": "markdown",
   "metadata": {},
   "source": [
    "**Example 1:**  \n",
    "![Image of leetcode 0653 problem example 1](https://assets.leetcode.com/uploads/2020/09/21/sum_tree_1.jpg) \n",
    "> Input: root = [5,3,6,2,4,null,7], k = 9  \n",
    "Output: true  \n",
    "\n",
    "**Example 2**  \n",
    "![Image of leetcode 0653 problem example 2](https://assets.leetcode.com/uploads/2020/09/21/sum_tree_2.jpg) \n",
    "> Input: root = [5,3,6,2,4,null,7], k = 28  \n",
    "Output: false  \n",
    "\n",
    "**Example 3:**\n",
    "\n",
    "> Input: root = [2,1,3], k = 4  \n",
    "Output: true   \n",
    "\n",
    "**Example 4:**\n",
    "> Input: root = [2,1,3], k = 1  \n",
    "Output: false  \n",
    "\n",
    "**Example 5:**\n",
    "> Input: root = [2,1,3], k = 3  \n",
    "Output: true  "
   ]
  },
  {
   "cell_type": "code",
   "execution_count": 5,
   "metadata": {},
   "outputs": [],
   "source": [
    "class TreeNode:\n",
    "    def __init__(self, val=0, left=None, right=None):\n",
    "        self.val = val\n",
    "        self.left = left\n",
    "        self.right = right\n",
    "        \n",
    "class Solution:\n",
    "    \n",
    "    # Time Complexity： O(n)\n",
    "    # Space Complexity： O(w+n)\n",
    "    def findTarget_BFS(self, root: TreeNode, k: int) -> bool:\n",
    "        from collections import deque\n",
    "        \n",
    "        queue, seen = deque([root]), set()\n",
    "        while queue:\n",
    "            root = queue.popleft()\n",
    "            \n",
    "            if root:\n",
    "                if k-root.val in seen: return True \n",
    "                else: seen.add(root.val)\n",
    "                queue.extend([root.left, root.right])\n",
    "        \n",
    "        return False\n",
    "\n",
    "    # Time Complexity： O(n)\n",
    "    # Space Complexity： O(h+n)\n",
    "    def findTarget_DFS(self, root: TreeNode, k: int) -> bool:  \n",
    "        stack, seen = [root], set()\n",
    "        while stack:\n",
    "            root = stack.pop()\n",
    "            \n",
    "            if root:\n",
    "                if k-root.val in seen: return True \n",
    "                else: seen.add(root.val)\n",
    "                stack.extend([root.left, root.right])\n",
    "        \n",
    "        return False"
   ]
  },
  {
   "cell_type": "code",
   "execution_count": 6,
   "metadata": {},
   "outputs": [
    {
     "name": "stdout",
     "output_type": "stream",
     "text": [
      "---findTarget_BFS---\n",
      "Case 1: True\n",
      "Case 2: False\n",
      "Case 3: True\n",
      "Case 4: False\n",
      "Case 5: True\n",
      "\n",
      "---findTarget_DFS---\n",
      "Case 1: True\n",
      "Case 2: False\n",
      "Case 3: True\n",
      "Case 4: False\n",
      "Case 5: True\n"
     ]
    }
   ],
   "source": [
    "# Test on Cases\n",
    "S = Solution()\n",
    "\n",
    "print(\"---findTarget_BFS---\")\n",
    "print(f\"Case 1: {S.findTarget_BFS(TreeNode(5, TreeNode(3, TreeNode(2), TreeNode(4)), TreeNode(6, None, TreeNode(7))), 9)}\")\n",
    "print(f\"Case 2: {S.findTarget_BFS(TreeNode(5, TreeNode(3, TreeNode(2), TreeNode(4)), TreeNode(6, None, TreeNode(7))), 28)}\")\n",
    "print(f\"Case 3: {S.findTarget_BFS(TreeNode(2, TreeNode(1), TreeNode(3)), 4)}\")\n",
    "print(f\"Case 4: {S.findTarget_BFS(TreeNode(2, TreeNode(1), TreeNode(3)), 1)}\")\n",
    "print(f\"Case 5: {S.findTarget_BFS(TreeNode(2, TreeNode(1), TreeNode(3)), 3)}\\n\")\n",
    "\n",
    "print(\"---findTarget_DFS---\")\n",
    "print(f\"Case 1: {S.findTarget_DFS(TreeNode(5, TreeNode(3, TreeNode(2), TreeNode(4)), TreeNode(6, None, TreeNode(7))), 9)}\")\n",
    "print(f\"Case 2: {S.findTarget_DFS(TreeNode(5, TreeNode(3, TreeNode(2), TreeNode(4)), TreeNode(6, None, TreeNode(7))), 28)}\")\n",
    "print(f\"Case 3: {S.findTarget_DFS(TreeNode(2, TreeNode(1), TreeNode(3)), 4)}\")\n",
    "print(f\"Case 4: {S.findTarget_DFS(TreeNode(2, TreeNode(1), TreeNode(3)), 1)}\")\n",
    "print(f\"Case 5: {S.findTarget_DFS(TreeNode(2, TreeNode(1), TreeNode(3)), 3)}\")"
   ]
  }
 ],
 "metadata": {
  "kernelspec": {
   "display_name": "Python 3.10.4 ('leetcode')",
   "language": "python",
   "name": "python3"
  },
  "language_info": {
   "codemirror_mode": {
    "name": "ipython",
    "version": 3
   },
   "file_extension": ".py",
   "mimetype": "text/x-python",
   "name": "python",
   "nbconvert_exporter": "python",
   "pygments_lexer": "ipython3",
   "version": "3.10.4"
  },
  "vscode": {
   "interpreter": {
    "hash": "21d8332eb27bea95342760850bd7426f517b6a483537194bbba87e10eeabf6ff"
   }
  }
 },
 "nbformat": 4,
 "nbformat_minor": 4
}
