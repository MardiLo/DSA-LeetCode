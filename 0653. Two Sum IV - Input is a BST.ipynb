{
 "cells": [
  {
   "cell_type": "markdown",
   "source": [
    "`# Binary Tree` `# Binary Search Tree` `# Breadth-First Search` `# Depth-First Search` `# Hash Table` `# Tree` `# Two Pointers`"
   ],
   "metadata": {}
  },
  {
   "cell_type": "markdown",
   "source": [
    "Given the `root` of a Binary Search Tree and a target number `k`, return `true` *if there exist two elements in the BST such that their sum is equal to the given* `target`."
   ],
   "metadata": {}
  },
  {
   "cell_type": "markdown",
   "source": [
    "**Example 1:**  \r\n",
    "![Image of leetcode 0653 problem example 1](https://assets.leetcode.com/uploads/2020/09/21/sum_tree_1.jpg) \r\n",
    "> Input: root = [5,3,6,2,4,null,7], k = 9  \r\n",
    "Output: true  \r\n",
    "\r\n",
    "**Example 2**  \r\n",
    "![Image of leetcode 0653 problem example 2](https://assets.leetcode.com/uploads/2020/09/21/sum_tree_2.jpg) \r\n",
    "> Input: root = [5,3,6,2,4,null,7], k = 28  \r\n",
    "Output: false  \r\n",
    "\r\n",
    "**Example 3:**\r\n",
    "\r\n",
    "> Input: root = [2,1,3], k = 4  \r\n",
    "Output: true   \r\n",
    "\r\n",
    "**Example 4:**\r\n",
    "> Input: root = [2,1,3], k = 1  \r\n",
    "Output: false  \r\n",
    "\r\n",
    "**Example 5:**\r\n",
    "> Input: root = [2,1,3], k = 3  \r\n",
    "Output: true  "
   ],
   "metadata": {}
  },
  {
   "cell_type": "code",
   "execution_count": 1,
   "source": [
    "class TreeNode:\r\n",
    "    def __init__(self, val=0, left=None, right=None):\r\n",
    "        self.val = val\r\n",
    "        self.left = left\r\n",
    "        self.right = right\r\n",
    "        \r\n",
    "class Solution:\r\n",
    "    \r\n",
    "    # Time Complexity： O(n)\r\n",
    "    # Space Complexity： O(n)\r\n",
    "    def findTarget(self, root: 'TreeNode', k: 'int') -> 'bool':\r\n",
    "        from collections import deque\r\n",
    "        \r\n",
    "        if not root:\r\n",
    "            return False\r\n",
    "        \r\n",
    "        queue = deque([root])\r\n",
    "        seen = set()\r\n",
    "        while queue:\r\n",
    "            node = queue.popleft()          # TC: deque.popleft(): O(1); list.pop(0): O(n)\r\n",
    "            \r\n",
    "            if node:\r\n",
    "                queue.append(node.left)\r\n",
    "                queue.append(node.right)\r\n",
    "                \r\n",
    "                if k - node.val in seen:    # TC: O(1)\r\n",
    "                    return True\r\n",
    "                else:\r\n",
    "                    seen.add(node.val)\r\n",
    "                    \r\n",
    "        return False"
   ],
   "outputs": [],
   "metadata": {}
  },
  {
   "cell_type": "code",
   "execution_count": 3,
   "source": [
    "# Test on Cases\r\n",
    "S = Solution()\r\n",
    "\r\n",
    "print(f\"Case 1: {S.findTarget(TreeNode(5, TreeNode(3, TreeNode(2), TreeNode(4)), TreeNode(6, None, TreeNode(7))), 9)}\")\r\n",
    "print(f\"Case 2: {S.findTarget(TreeNode(5, TreeNode(3, TreeNode(2), TreeNode(4)), TreeNode(6, None, TreeNode(7))), 28)}\")\r\n",
    "print(f\"Case 3: {S.findTarget(TreeNode(2, TreeNode(1), TreeNode(3)), 4)}\")\r\n",
    "print(f\"Case 4: {S.findTarget(TreeNode(2, TreeNode(1), TreeNode(3)), 1)}\")\r\n",
    "print(f\"Case 5: {S.findTarget(TreeNode(2, TreeNode(1), TreeNode(3)), 3)}\")"
   ],
   "outputs": [
    {
     "output_type": "stream",
     "name": "stdout",
     "text": [
      "Case 1: True\n",
      "Case 2: False\n",
      "Case 3: True\n",
      "Case 4: False\n",
      "Case 5: True\n"
     ]
    }
   ],
   "metadata": {}
  }
 ],
 "metadata": {
  "kernelspec": {
   "display_name": "Python 3",
   "language": "python",
   "name": "python3"
  },
  "language_info": {
   "codemirror_mode": {
    "name": "ipython",
    "version": 3
   },
   "file_extension": ".py",
   "mimetype": "text/x-python",
   "name": "python",
   "nbconvert_exporter": "python",
   "pygments_lexer": "ipython3",
   "version": "3.7.7"
  }
 },
 "nbformat": 4,
 "nbformat_minor": 4
}