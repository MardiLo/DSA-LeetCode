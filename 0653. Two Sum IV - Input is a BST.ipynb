{
 "cells": [
  {
   "cell_type": "markdown",
   "metadata": {},
   "source": [
    "`# Binary Tree` `# Binary Search Tree` `# Breadth-First Search` `# Depth-First Search` `# Hash Table` `# Tree` `# Two Pointers`"
   ]
  },
  {
   "cell_type": "markdown",
   "metadata": {},
   "source": [
    "Given the `root` of a Binary Search Tree and a target number `k`, return `true` *if there exist two elements in the BST such that their sum is equal to the given* `target`."
   ]
  },
  {
   "cell_type": "markdown",
   "metadata": {},
   "source": [
    "**Example 1:**  \n",
    "![Image of leetcode 0653 problem example 1](https://assets.leetcode.com/uploads/2020/09/21/sum_tree_1.jpg) \n",
    "> Input: root = [5,3,6,2,4,null,7], k = 9  \n",
    "Output: true  \n",
    "\n",
    "**Example 2**  \n",
    "![Image of leetcode 0653 problem example 2](https://assets.leetcode.com/uploads/2020/09/21/sum_tree_2.jpg) \n",
    "> Input: root = [5,3,6,2,4,null,7], k = 28  \n",
    "Output: false  \n",
    "\n",
    "**Example 3:**\n",
    "\n",
    "> Input: root = [2,1,3], k = 4  \n",
    "Output: true   \n",
    "\n",
    "**Example 4:**\n",
    "> Input: root = [2,1,3], k = 1  \n",
    "Output: false  \n",
    "\n",
    "**Example 5:**\n",
    "> Input: root = [2,1,3], k = 3  \n",
    "Output: true  "
   ]
  },
  {
   "cell_type": "code",
   "execution_count": 1,
   "metadata": {},
   "outputs": [],
   "source": [
    "class TreeNode:\n",
    "    def __init__(self, val=0, left=None, right=None):\n",
    "        self.val = val\n",
    "        self.left = left\n",
    "        self.right = right\n",
    "        \n",
    "class Solution:\n",
    "    \n",
    "    # Time Complexity： O(n)\n",
    "    # Space Complexity： O(n)\n",
    "    def findTarget(self, root: 'TreeNode', k: 'int') -> 'bool':\n",
    "        from collections import deque\n",
    "        \n",
    "        if not root: return False\n",
    "        \n",
    "        queue = deque([root])\n",
    "        seen = set()\n",
    "        while queue:\n",
    "            node = queue.popleft()                         # TC: deque.popleft(): O(1); list.pop(0): O(n)\n",
    "            \n",
    "            if node:\n",
    "                queue.append(node.left)\n",
    "                queue.append(node.right)\n",
    "                \n",
    "                if k - node.val in seen: return True       # TC: O(1)\n",
    "                else: seen.add(node.val)\n",
    "                    \n",
    "                    \n",
    "        return False"
   ]
  },
  {
   "cell_type": "code",
   "execution_count": 3,
   "metadata": {},
   "outputs": [
    {
     "name": "stdout",
     "output_type": "stream",
     "text": [
      "Case 1: True\n",
      "Case 2: False\n",
      "Case 3: True\n",
      "Case 4: False\n",
      "Case 5: True\n"
     ]
    }
   ],
   "source": [
    "# Test on Cases\n",
    "S = Solution()\n",
    "\n",
    "print(f\"Case 1: {S.findTarget(TreeNode(5, TreeNode(3, TreeNode(2), TreeNode(4)), TreeNode(6, None, TreeNode(7))), 9)}\")\n",
    "print(f\"Case 2: {S.findTarget(TreeNode(5, TreeNode(3, TreeNode(2), TreeNode(4)), TreeNode(6, None, TreeNode(7))), 28)}\")\n",
    "print(f\"Case 3: {S.findTarget(TreeNode(2, TreeNode(1), TreeNode(3)), 4)}\")\n",
    "print(f\"Case 4: {S.findTarget(TreeNode(2, TreeNode(1), TreeNode(3)), 1)}\")\n",
    "print(f\"Case 5: {S.findTarget(TreeNode(2, TreeNode(1), TreeNode(3)), 3)}\")"
   ]
  }
 ],
 "metadata": {
  "kernelspec": {
   "display_name": "Python 3",
   "language": "python",
   "name": "python3"
  },
  "language_info": {
   "codemirror_mode": {
    "name": "ipython",
    "version": 3
   },
   "file_extension": ".py",
   "mimetype": "text/x-python",
   "name": "python",
   "nbconvert_exporter": "python",
   "pygments_lexer": "ipython3",
   "version": "3.7.7"
  }
 },
 "nbformat": 4,
 "nbformat_minor": 4
}
