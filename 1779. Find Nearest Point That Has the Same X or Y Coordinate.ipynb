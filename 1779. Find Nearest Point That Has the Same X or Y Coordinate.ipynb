{
 "cells": [
  {
   "attachments": {},
   "cell_type": "markdown",
   "metadata": {},
   "source": [
    "`# Array`"
   ]
  },
  {
   "attachments": {},
   "cell_type": "markdown",
   "metadata": {},
   "source": [
    "You are given two integers, `x` and `y`, which represent your current location on a Cartesian grid: `(x, y)`. You are also given an array `points` where each `points[i] = [ai, bi]` represents that a point exists at `(ai, bi)`. A point is **valid** if it shares the same x-coordinate or the same y-coordinate as your location.\n",
    "\n",
    "Return *the index **(0-indexed)** of the **valid** point with the smallest **Manhattan distance** from your current location.* If there are multiple, return *the valid point with the **smallest** index*. If there are no valid points, return `-1`.\n",
    "\n",
    "The **Manhattan distance** between two points `(x1, y1)` and `(x2, y2)` is `abs(x1 - x2) + abs(y1 - y2)`."
   ]
  },
  {
   "attachments": {},
   "cell_type": "markdown",
   "metadata": {},
   "source": [
    "**Example 1:**\n",
    "\n",
    "> Input: x = 3, y = 4, points = [[1,2],[3,1],[2,4],[2,3],[4,4]]  \n",
    "> Output: 2  \n",
    "> Explanation: Of all the points, only [3,1], [2,4] and [4,4] are valid. Of the valid points, [2,4] and [4,4] have the smallest Manhattan distance from your current location, with a distance of 1. [2,4] has the smallest index, so return 2.\n",
    "\n",
    "**Example 2:**\n",
    "\n",
    "> Input: x = 3, y = 4, points = [[3,4]]  \n",
    "> Output: 0  \n",
    "> Explanation: The answer is allowed to be on the same location as your current location.\n",
    "\n",
    "**Example 3:**\n",
    "\n",
    "> Input: x = 3, y = 4, points = [[2,3]]  \n",
    "> Output: -1  \n",
    "> Explanation: There are no valid points."
   ]
  },
  {
   "cell_type": "code",
   "execution_count": 3,
   "metadata": {},
   "outputs": [],
   "source": [
    "class Solution:\n",
    "\n",
    "    # Time Complexity： O(n)\n",
    "    # Space Complexity： O(1)\n",
    "    def nearestValidPoint(self, x: int, y: int, points: list[list[int]]) -> int:\n",
    "        minDistance, res = float('inf'), -1\n",
    "\n",
    "        for i, (px, py) in enumerate(points):\n",
    "            if (px == x or py == y) and (distance := abs(px-x) + abs(py-y)) < minDistance:\n",
    "                minDistance, res = distance, i\n",
    "        \n",
    "        return res"
   ]
  },
  {
   "cell_type": "code",
   "execution_count": 4,
   "metadata": {},
   "outputs": [
    {
     "name": "stdout",
     "output_type": "stream",
     "text": [
      "Case 1: 2\n",
      "Case 2: 0\n",
      "Case 3: -1\n"
     ]
    }
   ],
   "source": [
    "# Test on Cases\n",
    "S = Solution()\n",
    "\n",
    "print(f\"Case 1: {S.nearestValidPoint(3, 4, [[1,2],[3,1],[2,4],[2,3],[4,4]])}\")\n",
    "print(f\"Case 2: {S.nearestValidPoint(3, 4, [[3,4]])}\")\n",
    "print(f\"Case 3: {S.nearestValidPoint(3, 4, [[2,3]])}\")"
   ]
  }
 ],
 "metadata": {
  "kernelspec": {
   "display_name": "Python 3 (ipykernel)",
   "language": "python",
   "name": "python3"
  },
  "language_info": {
   "codemirror_mode": {
    "name": "ipython",
    "version": 3
   },
   "file_extension": ".py",
   "mimetype": "text/x-python",
   "name": "python",
   "nbconvert_exporter": "python",
   "pygments_lexer": "ipython3",
   "version": "3.10.4"
  },
  "vscode": {
   "interpreter": {
    "hash": "21d8332eb27bea95342760850bd7426f517b6a483537194bbba87e10eeabf6ff"
   }
  }
 },
 "nbformat": 4,
 "nbformat_minor": 4
}
