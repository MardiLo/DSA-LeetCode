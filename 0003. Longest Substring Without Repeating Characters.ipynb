{
 "cells": [
  {
   "cell_type": "markdown",
   "metadata": {},
   "source": [
    "`# Hash Table` `# Sliding Window` `# String` `# Two Pointers`"
   ]
  },
  {
   "cell_type": "markdown",
   "metadata": {},
   "source": [
    "Given a string `s`, find *the length of the* ***longest substring*** *without repeating characters*."
   ]
  },
  {
   "cell_type": "markdown",
   "metadata": {},
   "source": [
    "**Example 1:**\n",
    "\n",
    "> Input: s = \"abcabcbb\"  \n",
    "Output: 3  \n",
    "Explanation: The answer is \"abc\", with the length of 3.\n",
    "\n",
    "**Example 2:**\n",
    "\n",
    "> Input: s = \"bbbbb\"  \n",
    "Output: 1  \n",
    "Explanation: The answer is \"b\", with the length of 1.\n",
    "\n",
    "**Example 3:**\n",
    "\n",
    "> Input: s = \"pwwkew\"  \n",
    "Output: 3  \n",
    "Explanation: The answer is \"wke\", with the length of 3.  \n",
    "Notice that the answer must be a substring, \"pwke\" is a subsequence and not a substring.\n",
    "\n",
    "**Example 4:**\n",
    "\n",
    "> Input: s = \"\"  \n",
    "Output: 0"
   ]
  },
  {
   "cell_type": "code",
   "execution_count": 5,
   "metadata": {},
   "outputs": [],
   "source": [
    "class Solution:\n",
    "    \n",
    "    # Time Complexity： O(n)\n",
    "    # Space Complexity： O(m), where m is no. of the unique letters in inputs\n",
    "    def lengthOfLongestSubstring(self, s: 'str') -> 'int':\n",
    "        dic = {}\n",
    "        maxLen = l = 0\n",
    "\n",
    "        for r, c in enumerate(s):\n",
    "            if c not in dic:\n",
    "                maxLen = max(maxLen, r-l+1)\n",
    "            else:\n",
    "                if l <= dic[c]:                     # element is inside current window\n",
    "                    l = dic[c] + 1\n",
    "                else:                               # element is not inside current window\n",
    "                    maxLen = max(maxLen, r-l+1)\n",
    "\n",
    "            dic[c] = r\n",
    "\n",
    "        return maxLen"
   ]
  },
  {
   "cell_type": "code",
   "execution_count": 6,
   "metadata": {},
   "outputs": [
    {
     "name": "stdout",
     "output_type": "stream",
     "text": [
      "Case 1: 3\n",
      "Case 2: 1\n",
      "Case 3: 3\n",
      "Case 4: 0\n"
     ]
    }
   ],
   "source": [
    "# Test on Cases\n",
    "S = Solution()\n",
    "\n",
    "print(f\"Case 1: {S.lengthOfLongestSubstring('abcabcbb')}\")\n",
    "print(f\"Case 2: {S.lengthOfLongestSubstring('bbbbb')}\")\n",
    "print(f\"Case 3: {S.lengthOfLongestSubstring('pwwkew')}\")\n",
    "print(f\"Case 4: {S.lengthOfLongestSubstring('')}\")"
   ]
  }
 ],
 "metadata": {
  "interpreter": {
   "hash": "6ab137a14910b4ee65d0ea442464c53c8571f8241496146388c5db8c59915964"
  },
  "kernelspec": {
   "display_name": "Python 3.7.7 64-bit ('spark': conda)",
   "name": "python3"
  },
  "language_info": {
   "codemirror_mode": {
    "name": "ipython",
    "version": 3
   },
   "file_extension": ".py",
   "mimetype": "text/x-python",
   "name": "python",
   "nbconvert_exporter": "python",
   "pygments_lexer": "ipython3",
   "version": "3.7.7"
  }
 },
 "nbformat": 4,
 "nbformat_minor": 4
}
