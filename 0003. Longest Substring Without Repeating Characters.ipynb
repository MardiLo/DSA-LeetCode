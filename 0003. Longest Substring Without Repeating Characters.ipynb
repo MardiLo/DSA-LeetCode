{
 "cells": [
  {
   "cell_type": "markdown",
   "metadata": {},
   "source": [
    "`# Hash Table` `# Sliding Window` `# String` `# Two Pointers`"
   ]
  },
  {
   "cell_type": "markdown",
   "metadata": {},
   "source": [
    "Given a string `s`, find *the length of the* ***longest substring*** *without repeating characters*."
   ]
  },
  {
   "cell_type": "markdown",
   "metadata": {},
   "source": [
    "**Example 1:**\n",
    "\n",
    "> Input: s = \"abcabcbb\"  \n",
    "Output: 3  \n",
    "Explanation: The answer is \"abc\", with the length of 3.\n",
    "\n",
    "**Example 2:**\n",
    "\n",
    "> Input: s = \"bbbbb\"  \n",
    "Output: 1  \n",
    "Explanation: The answer is \"b\", with the length of 1.\n",
    "\n",
    "**Example 3:**\n",
    "\n",
    "> Input: s = \"pwwkew\"  \n",
    "Output: 3  \n",
    "Explanation: The answer is \"wke\", with the length of 3.  \n",
    "Notice that the answer must be a substring, \"pwke\" is a subsequence and not a substring.\n",
    "\n",
    "**Example 4:**\n",
    "\n",
    "> Input: s = \"\"  \n",
    "Output: 0"
   ]
  },
  {
   "cell_type": "code",
   "execution_count": 3,
   "metadata": {},
   "outputs": [],
   "source": [
    "class Solution:\n",
    "    \n",
    "    # Time Complexity： O(n)\n",
    "    # Space Complexity： O(n)\n",
    "    def lengthOfLongestSubstring(self, s: str) -> int:\n",
    "        from collections import defaultdict\n",
    "        \n",
    "        seen, l, maxLen = defaultdict(int), 0, 0\n",
    "        \n",
    "        for r, c in enumerate(s):\n",
    "            if c in seen: l = max(l, seen[c]+1)    \n",
    "            maxLen, seen[c] = max(maxLen, r-l+1), r \n",
    "            \n",
    "        return maxLen"
   ]
  },
  {
   "cell_type": "code",
   "execution_count": 4,
   "metadata": {},
   "outputs": [
    {
     "name": "stdout",
     "output_type": "stream",
     "text": [
      "Case 1: 3\n",
      "Case 2: 1\n",
      "Case 3: 3\n",
      "Case 4: 0\n"
     ]
    }
   ],
   "source": [
    "# Test on Cases\n",
    "S = Solution()\n",
    "\n",
    "print(f\"Case 1: {S.lengthOfLongestSubstring('abcabcbb')}\")\n",
    "print(f\"Case 2: {S.lengthOfLongestSubstring('bbbbb')}\")\n",
    "print(f\"Case 3: {S.lengthOfLongestSubstring('pwwkew')}\")\n",
    "print(f\"Case 4: {S.lengthOfLongestSubstring('')}\")"
   ]
  }
 ],
 "metadata": {
  "kernelspec": {
   "display_name": "Python 3.10.4 ('leetcode')",
   "language": "python",
   "name": "python3"
  },
  "language_info": {
   "codemirror_mode": {
    "name": "ipython",
    "version": 3
   },
   "file_extension": ".py",
   "mimetype": "text/x-python",
   "name": "python",
   "nbconvert_exporter": "python",
   "pygments_lexer": "ipython3",
   "version": "3.10.4"
  },
  "vscode": {
   "interpreter": {
    "hash": "21d8332eb27bea95342760850bd7426f517b6a483537194bbba87e10eeabf6ff"
   }
  }
 },
 "nbformat": 4,
 "nbformat_minor": 4
}
