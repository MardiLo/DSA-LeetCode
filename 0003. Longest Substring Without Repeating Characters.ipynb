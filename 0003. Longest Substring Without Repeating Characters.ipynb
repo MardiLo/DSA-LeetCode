{
 "cells": [
  {
   "cell_type": "markdown",
   "source": [
    "`# Hash Table` `# Sliding Window` `# String` `# Two Pointers`"
   ],
   "metadata": {}
  },
  {
   "cell_type": "markdown",
   "source": [
    "Given a string `s`, find *the length of the* ***longest substring*** *without repeating characters*."
   ],
   "metadata": {}
  },
  {
   "cell_type": "markdown",
   "source": [
    "**Example 1:**\r\n",
    "\r\n",
    "> Input: s = \"abcabcbb\"  \r\n",
    "Output: 3  \r\n",
    "Explanation: The answer is \"abc\", with the length of 3.\r\n",
    "\r\n",
    "**Example 2:**\r\n",
    "\r\n",
    "> Input: s = \"bbbbb\"  \r\n",
    "Output: 1  \r\n",
    "Explanation: The answer is \"b\", with the length of 1.\r\n",
    "\r\n",
    "**Example 3:**\r\n",
    "\r\n",
    "> Input: s = \"pwwkew\"  \r\n",
    "Output: 3  \r\n",
    "Explanation: The answer is \"wke\", with the length of 3.  \r\n",
    "Notice that the answer must be a substring, \"pwke\" is a subsequence and not a substring.\r\n",
    "\r\n",
    "**Example 4:**\r\n",
    "\r\n",
    "> Input: s = \"\"  \r\n",
    "Output: 0"
   ],
   "metadata": {}
  },
  {
   "cell_type": "code",
   "execution_count": 5,
   "source": [
    "class Solution:\r\n",
    "    \r\n",
    "    # Time Complexity： O(n)\r\n",
    "    # Space Complexity： O(m), where m is no. of the unique letters in inputs\r\n",
    "    def lengthOfLongestSubstring(self, s: 'str') -> 'int':\r\n",
    "        dic = {}\r\n",
    "        maxLen = l = 0\r\n",
    "\r\n",
    "        for r, c in enumerate(s):\r\n",
    "            if c not in dic:\r\n",
    "                maxLen = max(maxLen, r-l+1)\r\n",
    "            else:\r\n",
    "                if l <= dic[c]:                     # element is inside current window\r\n",
    "                    l = dic[c] + 1\r\n",
    "                else:                               # element is not inside current window\r\n",
    "                    maxLen = max(maxLen, r-l+1)\r\n",
    "\r\n",
    "            dic[c] = r\r\n",
    "\r\n",
    "        return maxLen"
   ],
   "outputs": [],
   "metadata": {}
  },
  {
   "cell_type": "code",
   "execution_count": 6,
   "source": [
    "# Test on Cases\r\n",
    "S = Solution()\r\n",
    "\r\n",
    "print(f\"Case 1: {S.lengthOfLongestSubstring('abcabcbb')}\")\r\n",
    "print(f\"Case 2: {S.lengthOfLongestSubstring('bbbbb')}\")\r\n",
    "print(f\"Case 3: {S.lengthOfLongestSubstring('pwwkew')}\")\r\n",
    "print(f\"Case 4: {S.lengthOfLongestSubstring('')}\")"
   ],
   "outputs": [
    {
     "output_type": "stream",
     "name": "stdout",
     "text": [
      "Case 1: 3\n",
      "Case 2: 1\n",
      "Case 3: 3\n",
      "Case 4: 0\n"
     ]
    }
   ],
   "metadata": {}
  }
 ],
 "metadata": {
  "kernelspec": {
   "name": "python3",
   "display_name": "Python 3.7.7 64-bit ('spark': conda)"
  },
  "language_info": {
   "codemirror_mode": {
    "name": "ipython",
    "version": 3
   },
   "file_extension": ".py",
   "mimetype": "text/x-python",
   "name": "python",
   "nbconvert_exporter": "python",
   "pygments_lexer": "ipython3",
   "version": "3.7.7"
  },
  "interpreter": {
   "hash": "6ab137a14910b4ee65d0ea442464c53c8571f8241496146388c5db8c59915964"
  }
 },
 "nbformat": 4,
 "nbformat_minor": 4
}