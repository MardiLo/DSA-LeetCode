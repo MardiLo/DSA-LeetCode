{
 "cells": [
  {
   "attachments": {},
   "cell_type": "markdown",
   "metadata": {},
   "source": [
    "`# Array` `# Hash Table` `# Sliding Window`"
   ]
  },
  {
   "attachments": {},
   "cell_type": "markdown",
   "metadata": {},
   "source": [
    "Given an integer array `nums` and an integer `k`, return `true` *if there are two* ***distinct indices*** `i` *and* `j` *in the array such that* `nums[i] == nums[j]` *and* `abs(i - j) <= k`."
   ]
  },
  {
   "attachments": {},
   "cell_type": "markdown",
   "metadata": {},
   "source": [
    "**Example 1:**\n",
    "\n",
    "> Input: nums = [1,2,3,1], k = 3  \n",
    "> Output: true\n",
    "\n",
    "**Example 2:**\n",
    "\n",
    "> Input: nums = [1,0,1,1], k = 1  \n",
    "> Output: true\n",
    "\n",
    "**Example 3:**\n",
    "\n",
    "> Input: nums = [1,2,3,1,2,3], k = 2  \n",
    "> Output: false"
   ]
  },
  {
   "cell_type": "code",
   "execution_count": 5,
   "metadata": {},
   "outputs": [],
   "source": [
    "class Solution:\n",
    "    \n",
    "    # Time Complexity： O(n)\n",
    "    # Space Complexity： O(n)\n",
    "    def containsNearbyDuplicate(self, nums: list[int], k: int) -> bool:\n",
    "        dic = {}\n",
    "\n",
    "        for i, num in enumerate(nums):\n",
    "            if num in dic and i - dic[num] <= k: return True\n",
    "            dic[num] = i\n",
    "        \n",
    "        return False"
   ]
  },
  {
   "cell_type": "code",
   "execution_count": 6,
   "metadata": {},
   "outputs": [
    {
     "name": "stdout",
     "output_type": "stream",
     "text": [
      "Case 1: True\n",
      "Case 2: True\n",
      "Case 3: False\n"
     ]
    }
   ],
   "source": [
    "# Test on Cases\n",
    "S = Solution()\n",
    "\n",
    "print(f\"Case 1: {S.containsNearbyDuplicate([1,2,3,1], 3)}\")\n",
    "print(f\"Case 2: {S.containsNearbyDuplicate([1,0,1,1], 1)}\")\n",
    "print(f\"Case 3: {S.containsNearbyDuplicate([1,2,3,1,2,3], 2)}\")"
   ]
  }
 ],
 "metadata": {
  "kernelspec": {
   "display_name": "Python 3 (ipykernel)",
   "language": "python",
   "name": "python3"
  },
  "language_info": {
   "codemirror_mode": {
    "name": "ipython",
    "version": 3
   },
   "file_extension": ".py",
   "mimetype": "text/x-python",
   "name": "python",
   "nbconvert_exporter": "python",
   "pygments_lexer": "ipython3",
   "version": "3.10.4"
  },
  "vscode": {
   "interpreter": {
    "hash": "21d8332eb27bea95342760850bd7426f517b6a483537194bbba87e10eeabf6ff"
   }
  }
 },
 "nbformat": 4,
 "nbformat_minor": 4
}
