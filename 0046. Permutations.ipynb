{
 "cells": [
  {
   "cell_type": "markdown",
   "metadata": {},
   "source": [
    "`# Array` `# Backtracking`"
   ]
  },
  {
   "cell_type": "markdown",
   "metadata": {},
   "source": [
    "Given an array `nums` of distinct integers, return all the possible permutations. You can return the answer in any order."
   ]
  },
  {
   "cell_type": "markdown",
   "metadata": {},
   "source": [
    "**Example 1:**  \n",
    "\n",
    "> Input: nums = [1,2,3]  \n",
    "Output: [[1,2,3],[1,3,2],[2,1,3],[2,3,1],[3,1,2],[3,2,1]]  \n",
    "\n",
    "**Example 2:**  \n",
    "\n",
    "> Input: nums = [0,1]  \n",
    "Output: [[0,1],[1,0]]  \n",
    "\n",
    "**Example 3:**  \n",
    "\n",
    "> Input: nums = [1]  \n",
    "Output: [[1]]"
   ]
  },
  {
   "cell_type": "code",
   "execution_count": 7,
   "metadata": {},
   "outputs": [],
   "source": [
    "class Solution:\n",
    "    \n",
    "    # Time Complexity： O(n*n!)\n",
    "    # Space Complexity： O(n*n!)       \n",
    "    def permute(self, nums: 'List[int]') -> 'List[List[int]]':\n",
    "        perms = [[]]\n",
    "        \n",
    "        for num in nums:\n",
    "            new_perm = []\n",
    "            for perm in perms:\n",
    "                for i in range(len(perm)+1):\n",
    "                    new_perm.append(perm[:i] + [num] + perm[i:])\n",
    "            perms = new_perm\n",
    "        return perms"
   ]
  },
  {
   "cell_type": "code",
   "execution_count": 8,
   "metadata": {},
   "outputs": [
    {
     "name": "stdout",
     "output_type": "stream",
     "text": [
      "Case 1: [[3, 2, 1], [2, 3, 1], [2, 1, 3], [3, 1, 2], [1, 3, 2], [1, 2, 3]]\n",
      "Case 2: [[1, 0], [0, 1]]\n",
      "Case 3: [[1]]\n"
     ]
    }
   ],
   "source": [
    "# Test on Cases\n",
    "S = Solution()\n",
    "\n",
    "print(f\"Case 1: {S.permute([1,2,3])}\")\n",
    "print(f\"Case 2: {S.permute([0,1])}\")\n",
    "print(f\"Case 3: {S.permute([1])}\")"
   ]
  },
  {
   "cell_type": "code",
   "execution_count": null,
   "metadata": {},
   "outputs": [],
   "source": []
  }
 ],
 "metadata": {
  "kernelspec": {
   "display_name": "Python 3",
   "language": "python",
   "name": "python3"
  },
  "language_info": {
   "codemirror_mode": {
    "name": "ipython",
    "version": 3
   },
   "file_extension": ".py",
   "mimetype": "text/x-python",
   "name": "python",
   "nbconvert_exporter": "python",
   "pygments_lexer": "ipython3",
   "version": "3.7.7"
  }
 },
 "nbformat": 4,
 "nbformat_minor": 4
}
