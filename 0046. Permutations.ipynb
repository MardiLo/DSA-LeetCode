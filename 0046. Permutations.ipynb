{
 "cells": [
  {
   "cell_type": "markdown",
   "source": [
    "`# Array` `# Backtracking`"
   ],
   "metadata": {}
  },
  {
   "cell_type": "markdown",
   "source": [
    "Given an array `nums` of distinct integers, return all the possible permutations. You can return the answer in any order."
   ],
   "metadata": {}
  },
  {
   "cell_type": "markdown",
   "source": [
    "**Example 1:**  \n",
    "\n",
    "> Input: nums = [1,2,3]  \n",
    "Output: [[1,2,3],[1,3,2],[2,1,3],[2,3,1],[3,1,2],[3,2,1]]  \n",
    "\n",
    "**Example 2:**  \n",
    "\n",
    "> Input: nums = [0,1]  \n",
    "Output: [[0,1],[1,0]]  \n",
    "\n",
    "**Example 3:**  \n",
    "\n",
    "> Input: nums = [1]  \n",
    "Output: [[1]]"
   ],
   "metadata": {}
  },
  {
   "cell_type": "code",
   "execution_count": 7,
   "source": [
    "class Solution:\r\n",
    "    \r\n",
    "    # Time Complexity： O(n*n!)\r\n",
    "    # Space Complexity： O(n*n!)       \r\n",
    "    def permute(self, nums: 'List[int]') -> 'List[List[int]]':\r\n",
    "        perms = [[]]\r\n",
    "        \r\n",
    "        for num in nums:\r\n",
    "            new_perm = []\r\n",
    "            for perm in perms:\r\n",
    "                for i in range(len(perm)+1):\r\n",
    "                    new_perm.append(perm[:i] + [num] + perm[i:])\r\n",
    "            perms = new_perm\r\n",
    "        return perms"
   ],
   "outputs": [],
   "metadata": {}
  },
  {
   "cell_type": "code",
   "execution_count": 8,
   "source": [
    "# Test on Cases\r\n",
    "S = Solution()\r\n",
    "\r\n",
    "print(f\"Case 1: {S.permute([1,2,3])}\")\r\n",
    "print(f\"Case 2: {S.permute([0,1])}\")\r\n",
    "print(f\"Case 3: {S.permute([1])}\")"
   ],
   "outputs": [
    {
     "output_type": "stream",
     "name": "stdout",
     "text": [
      "Case 1: [[3, 2, 1], [2, 3, 1], [2, 1, 3], [3, 1, 2], [1, 3, 2], [1, 2, 3]]\n",
      "Case 2: [[1, 0], [0, 1]]\n",
      "Case 3: [[1]]\n"
     ]
    }
   ],
   "metadata": {}
  }
 ],
 "metadata": {
  "kernelspec": {
   "display_name": "Python 3",
   "language": "python",
   "name": "python3"
  },
  "language_info": {
   "codemirror_mode": {
    "name": "ipython",
    "version": 3
   },
   "file_extension": ".py",
   "mimetype": "text/x-python",
   "name": "python",
   "nbconvert_exporter": "python",
   "pygments_lexer": "ipython3",
   "version": "3.7.7"
  }
 },
 "nbformat": 4,
 "nbformat_minor": 4
}