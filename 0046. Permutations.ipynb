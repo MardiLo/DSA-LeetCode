{
 "cells": [
  {
   "cell_type": "markdown",
   "metadata": {},
   "source": [
    "`# Array` `# Backtracking`"
   ]
  },
  {
   "cell_type": "markdown",
   "metadata": {},
   "source": [
    "Given an array `nums` of distinct integers, return all the possible permutations. You can return the answer in any order."
   ]
  },
  {
   "cell_type": "markdown",
   "metadata": {},
   "source": [
    "**Example 1:**  \n",
    "\n",
    "> Input: nums = [1,2,3]  \n",
    "Output: [[1,2,3],[1,3,2],[2,1,3],[2,3,1],[3,1,2],[3,2,1]]  \n",
    "\n",
    "**Example 2:**  \n",
    "\n",
    "> Input: nums = [0,1]  \n",
    "Output: [[0,1],[1,0]]  \n",
    "\n",
    "**Example 3:**  \n",
    "\n",
    "> Input: nums = [1]  \n",
    "Output: [[1]]"
   ]
  },
  {
   "cell_type": "code",
   "execution_count": 3,
   "metadata": {},
   "outputs": [],
   "source": [
    "class Solution:\n",
    "    \n",
    "    # Time Complexity： O(n*n!)\n",
    "    # Space Complexity： O(n*n!)       \n",
    "    def permute_DP(self, nums: list[int]) -> list[list[int]]:\n",
    "        perms = [[]]\n",
    "        \n",
    "        for num in nums:\n",
    "            new_perm = []\n",
    "            for perm in perms:\n",
    "                for i in range(len(perm)+1):\n",
    "                    new_perm.append(perm[:i] + [num] + perm[i:])\n",
    "            perms = new_perm\n",
    "        return perms\n",
    "\n",
    "\n",
    "    # Time Complexity： O(nn!), O(n) for nums[:i] + nums[i+1:] & path + [nums[i]], and call dfs int(e*n!) times\n",
    "    #                           Note: n + n(n-1) + ... + n(n-1)*...*2*1 + 1 = int(e*n!), where e = 2.718\n",
    "    # Space Complexity： O(n^2), n+1 function calls in memory stack, and n*(n+1)/n+1 elements in average in each call\n",
    "    def permute_DFS(self, nums: list[int]) -> list[list[int]]:\n",
    "        def dfs(nums: list[int], path: list[int]) -> None:\n",
    "            if not nums: self.res.append(path)\n",
    "\n",
    "            for i in range(len(nums)):\n",
    "                dfs(nums[:i] + nums[i+1:], path + [nums[i]])\n",
    "\n",
    "        self.res = []\n",
    "        dfs(nums, [])\n",
    "\n",
    "        return self.res"
   ]
  },
  {
   "cell_type": "code",
   "execution_count": 4,
   "metadata": {},
   "outputs": [
    {
     "name": "stdout",
     "output_type": "stream",
     "text": [
      "---permute_DP---\n",
      "Case 1: [[3, 2, 1], [2, 3, 1], [2, 1, 3], [3, 1, 2], [1, 3, 2], [1, 2, 3]]\n",
      "Case 2: [[1, 0], [0, 1]]\n",
      "Case 3: [[1]]\n",
      "\n",
      "---permute_DFS---\n",
      "Case 1: [[1, 2, 3], [1, 3, 2], [2, 1, 3], [2, 3, 1], [3, 1, 2], [3, 2, 1]]\n",
      "Case 2: [[0, 1], [1, 0]]\n",
      "Case 3: [[1]]\n"
     ]
    }
   ],
   "source": [
    "# Test on Cases\n",
    "S = Solution()\n",
    "\n",
    "print(\"---permute_DP---\")\n",
    "print(f\"Case 1: {S.permute_DP([1,2,3])}\")\n",
    "print(f\"Case 2: {S.permute_DP([0,1])}\")\n",
    "print(f\"Case 3: {S.permute_DP([1])}\\n\")\n",
    "\n",
    "print(\"---permute_DFS---\")\n",
    "print(f\"Case 1: {S.permute_DFS([1,2,3])}\")\n",
    "print(f\"Case 2: {S.permute_DFS([0,1])}\")\n",
    "print(f\"Case 3: {S.permute_DFS([1])}\")"
   ]
  },
  {
   "cell_type": "markdown",
   "metadata": {},
   "source": [
    "**Ref**  \n",
    "![stack](https://assets.leetcode.com/users/images/ac9c35dc-89b8-4860-b08c-d2f60859e43e_1609289801.6830964.png)"
   ]
  }
 ],
 "metadata": {
  "kernelspec": {
   "display_name": "Python 3.10.4 ('leetcode')",
   "language": "python",
   "name": "python3"
  },
  "language_info": {
   "codemirror_mode": {
    "name": "ipython",
    "version": 3
   },
   "file_extension": ".py",
   "mimetype": "text/x-python",
   "name": "python",
   "nbconvert_exporter": "python",
   "pygments_lexer": "ipython3",
   "version": "3.10.4"
  },
  "vscode": {
   "interpreter": {
    "hash": "21d8332eb27bea95342760850bd7426f517b6a483537194bbba87e10eeabf6ff"
   }
  }
 },
 "nbformat": 4,
 "nbformat_minor": 4
}
