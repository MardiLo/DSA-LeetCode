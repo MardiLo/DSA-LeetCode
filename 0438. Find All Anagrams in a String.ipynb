{
 "cells": [
  {
   "cell_type": "markdown",
   "metadata": {},
   "source": [
    "`# Hash Table` `# Sliding Window` `# String`"
   ]
  },
  {
   "cell_type": "markdown",
   "metadata": {},
   "source": [
    "Given two strings `s` and `p`, return *an array of all the start indices of* `p`*'s anagrams in* `s`. You may return the answer in any order.\n",
    "\n",
    "An Anagram is a word or phrase formed by rearranging the letters of a different word or phrase, typically using all the original letters exactly once."
   ]
  },
  {
   "cell_type": "markdown",
   "metadata": {},
   "source": [
    "**Example 1:**\n",
    "\n",
    "> Input: s = \"cbaebabacd\", p = \"abc\"  \n",
    "Output: [0,6]  \n",
    "Explanation:  \n",
    "The substring with start index = 0 is \"cba\", which is an anagram of \"abc\".  \n",
    "The substring with start index = 6 is \"bac\", which is an anagram of \"abc\".  \n",
    "\n",
    "**Example 2:**\n",
    "\n",
    "> Input: s = \"abab\", p = \"ab\"  \n",
    "Output: [0,1,2]  \n",
    "Explanation:  \n",
    "The substring with start index = 0 is \"ab\", which is an anagram of \"ab\".  \n",
    "The substring with start index = 1 is \"ba\", which is an anagram of \"ab\".  \n",
    "The substring with start index = 2 is \"ab\", which is an anagram of \"ab\".  "
   ]
  },
  {
   "cell_type": "code",
   "execution_count": 3,
   "metadata": {},
   "outputs": [],
   "source": [
    "class Solution:\n",
    "    \n",
    "    # Time Complexity： O(n)\n",
    "    # Space Complexity： O(26)  \n",
    "    def findAnagrams(self, s: 'str', p: 'str') -> 'List[int]':\n",
    "        from collections import defaultdict\n",
    "\n",
    "        if len(p) > len(s): return []\n",
    "        \n",
    "        pCount, sCount = defaultdict(int), defaultdict(int)\n",
    "        for i in range(len(p)):                     # TC: O(p)\n",
    "            pCount[p[i]] += 1; sCount[s[i]] += 1    # SC: O(26)\n",
    "        \n",
    "        res = [0] if pCount == sCount else []\n",
    "        slow = 0\n",
    "        for fast in range(len(p), len(s)):          # TC: O(s-p)\n",
    "            sCount[s[fast]] += 1; sCount[s[slow]] -= 1\n",
    "            if sCount[s[slow]] == 0: del sCount[s[slow]]\n",
    "            slow += 1\n",
    "            if pCount == sCount: res.append(slow)   # TC: O(26)\n",
    "        \n",
    "        return res"
   ]
  },
  {
   "cell_type": "code",
   "execution_count": 4,
   "metadata": {},
   "outputs": [
    {
     "name": "stdout",
     "output_type": "stream",
     "text": [
      "Case 1: [0, 6]\n",
      "Case 2: [0, 1, 2]\n"
     ]
    }
   ],
   "source": [
    "# Test on Cases\n",
    "S = Solution()\n",
    "\n",
    "print(f\"Case 1: {S.findAnagrams(s = 'cbaebabacd', p = 'abc')}\")\n",
    "print(f\"Case 2: {S.findAnagrams(s = 'abab', p = 'ab')}\")"
   ]
  },
  {
   "cell_type": "markdown",
   "metadata": {},
   "source": [
    "**Ref**  \n",
    "1. [Find All Anagrams in a String - Leetcode 438 - Python](https://www.youtube.com/watch?v=G8xtZy0fDKg&ab_channel=NeetCode)"
   ]
  }
 ],
 "metadata": {
  "kernelspec": {
   "display_name": "Python 3",
   "language": "python",
   "name": "python3"
  },
  "language_info": {
   "codemirror_mode": {
    "name": "ipython",
    "version": 3
   },
   "file_extension": ".py",
   "mimetype": "text/x-python",
   "name": "python",
   "nbconvert_exporter": "python",
   "pygments_lexer": "ipython3",
   "version": "3.8.3"
  }
 },
 "nbformat": 4,
 "nbformat_minor": 4
}
