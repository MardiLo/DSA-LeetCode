{
 "cells": [
  {
   "cell_type": "markdown",
   "metadata": {},
   "source": [
    "`# Array` `# Prefix Sum`"
   ]
  },
  {
   "cell_type": "markdown",
   "metadata": {},
   "source": [
    "Given an array of integers `nums`, calculate the **pivot index** of this array.\n",
    "\n",
    "The **pivot index** is the index where the sum of all the numbers **strictly** to the left of the index is equal to the sum of all the numbers **strictly** to the index's right.\n",
    "\n",
    "If the index is on the left edge of the array, then the left sum is `0` because there are no elements to the left. This also applies to the right edge of the array.\n",
    "\n",
    "Return the **leftmost pivot index**. If no such index exists, return `-1`."
   ]
  },
  {
   "cell_type": "markdown",
   "metadata": {},
   "source": [
    "**Example 1:**  \n",
    "\n",
    "> Input: nums = [1,7,3,6,5,6]  \n",
    "> Output: 3  \n",
    "> Explanation:  \n",
    "> The pivot index is 3.  \n",
    "> Left sum = nums[0] + nums[1] + nums[2] = 1 + 7 + 3 = 11  \n",
    "> Right sum = nums[4] + nums[5] = 5 + 6 = 11   \n",
    "\n",
    "**Example 2:**  \n",
    "\n",
    "> Input: nums = [1,2,3]  \n",
    "> Output: -1  \n",
    "> Explanation:  \n",
    "> There is no index that satisfies the conditions in the problem statement.\n",
    "\n",
    "**Example 3:**  \n",
    "\n",
    "> Input: nums = [2,1,-1]  \n",
    "> Output: 0  \n",
    "> Explanation:  \n",
    "> The pivot index is 0.  \n",
    "> Left sum = 0 (no elements to the left of index 0)  \n",
    "> Right sum = nums[1] + nums[2] = 1 + -1 = 0"
   ]
  },
  {
   "cell_type": "code",
   "execution_count": 1,
   "metadata": {},
   "outputs": [],
   "source": [
    "class Solution:\n",
    "    \n",
    "    # Time Complexity： O(n)\n",
    "    # Space Complexity： O(n)       \n",
    "    def pivotIndex(self, nums: list[int]) -> int:\n",
    "        from itertools import accumulate\n",
    "\n",
    "        lSum, rSum = map(lambda n: list(accumulate(n)), (nums, nums[::-1]))\n",
    "\n",
    "        return next((i for i in range(len(nums)) if lSum[i] == rSum[~i]), -1)"
   ]
  },
  {
   "cell_type": "code",
   "execution_count": 2,
   "metadata": {},
   "outputs": [
    {
     "name": "stdout",
     "output_type": "stream",
     "text": [
      "Case 1: 3\n",
      "Case 2: -1\n",
      "Case 3: 0\n"
     ]
    }
   ],
   "source": [
    "# Test on Cases\n",
    "S = Solution()\n",
    "\n",
    "print(f\"Case 1: {S.pivotIndex([1,7,3,6,5,6])}\")\n",
    "print(f\"Case 2: {S.pivotIndex([1,2,3])}\")\n",
    "print(f\"Case 3: {S.pivotIndex([2,1,-1])}\")"
   ]
  }
 ],
 "metadata": {
  "kernelspec": {
   "display_name": "Python 3 (ipykernel)",
   "language": "python",
   "name": "python3"
  },
  "language_info": {
   "codemirror_mode": {
    "name": "ipython",
    "version": 3
   },
   "file_extension": ".py",
   "mimetype": "text/x-python",
   "name": "python",
   "nbconvert_exporter": "python",
   "pygments_lexer": "ipython3",
   "version": "3.11.9"
  },
  "vscode": {
   "interpreter": {
    "hash": "21d8332eb27bea95342760850bd7426f517b6a483537194bbba87e10eeabf6ff"
   }
  }
 },
 "nbformat": 4,
 "nbformat_minor": 4
}
