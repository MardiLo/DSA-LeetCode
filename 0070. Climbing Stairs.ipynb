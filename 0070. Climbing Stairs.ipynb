{
 "cells": [
  {
   "cell_type": "markdown",
   "metadata": {},
   "source": [
    "`# Dynamic Programming` `# Math` `# Memoization`"
   ]
  },
  {
   "cell_type": "markdown",
   "metadata": {},
   "source": [
    "You are climbing a staircase. It takes `n` steps to reach the top.\n",
    "\n",
    "Each time you can either climb `1` or `2` steps. In *how many distinct ways can you climb to the top*?"
   ]
  },
  {
   "cell_type": "markdown",
   "metadata": {},
   "source": [
    "**Example 1:**\n",
    "\n",
    "> Input: n = 2  \n",
    "Output: 2  \n",
    "Explanation: There are two ways to climb to the top.  \n",
    "    1. 1 step + 1 step  \n",
    "    2. 2 steps  \n",
    "\n",
    "**Example 2:**\n",
    "\n",
    "> Input: n = 3  \n",
    "Output: 3  \n",
    "Explanation: There are three ways to climb to the top.  \n",
    "    1. 1 step + 1 step + 1 step  \n",
    "    2. 1 step + 2 steps  \n",
    "    3. 2 steps + 1 step"
   ]
  },
  {
   "cell_type": "code",
   "execution_count": 1,
   "metadata": {},
   "outputs": [],
   "source": [
    "class Solution:\n",
    "    \n",
    "    # Time Complexity： O(n)\n",
    "    # Space Complexity： O(1)    \n",
    "    def climbStairs(self, n: 'int') -> 'int':\n",
    "        a = b = 1                      # SC: O(1)\n",
    "        \n",
    "        for _ in range(n):             # TC: O(n)\n",
    "            a, b = b, a+b\n",
    "        \n",
    "        return a\n",
    "    \n",
    "    \n",
    "    # Time Complexity： O(n)\n",
    "    # Space Complexity： O(n)       \n",
    "    def climbStairs_DP(self, n: 'int') -> 'int':\n",
    "        dp = [1, 1]                    # SC: O(n)\n",
    "        \n",
    "        for stair in range(2, n+1):    # TC: O(n)\n",
    "            dp.append(dp[stair-1] + dp[stair-2])\n",
    "            \n",
    "        return dp[n]\n",
    "    \n",
    "    \n",
    "    # Time Complexity： O(mn)\n",
    "    # Space Complexity： O(n)       \n",
    "    def climbStairs_generalSolution(self, n: 'int', steps: 'List') -> 'int':\n",
    "        dp = [1, 1]                    # SC: O(n)\n",
    "        \n",
    "        for stair in range(2, n+1):    # TC: O(n)\n",
    "            cnt = 0\n",
    "            \n",
    "            for step in steps:         # TC: O(m), where m = len(steps)\n",
    "                if stair >= step:\n",
    "                    cnt += dp[stair-step]\n",
    "                    \n",
    "            dp.append(cnt)\n",
    "            \n",
    "        return dp[n]"
   ]
  },
  {
   "cell_type": "code",
   "execution_count": 2,
   "metadata": {},
   "outputs": [
    {
     "name": "stdout",
     "output_type": "stream",
     "text": [
      "---climbStairs---\n",
      "Case 1: 2\n",
      "Case 2: 3\n",
      "\n",
      "---climbStairs_DP---\n",
      "Case 1: 2\n",
      "Case 2: 3\n",
      "\n",
      "---climbStairs_generalSolution---\n",
      "Case 1: 2\n",
      "Case 2: 3\n",
      "\n"
     ]
    }
   ],
   "source": [
    "# Test on Cases\n",
    "S = Solution()\n",
    "\n",
    "print(\"---climbStairs---\")\n",
    "print(f\"Case 1: {S.climbStairs(2)}\")\n",
    "print(f\"Case 2: {S.climbStairs(3)}\\n\")\n",
    "\n",
    "print(\"---climbStairs_DP---\")\n",
    "print(f\"Case 1: {S.climbStairs_DP(2)}\")\n",
    "print(f\"Case 2: {S.climbStairs_DP(3)}\\n\")\n",
    "\n",
    "print(\"---climbStairs_generalSolution---\")\n",
    "print(f\"Case 1: {S.climbStairs_generalSolution(2, [1, 2])}\")\n",
    "print(f\"Case 2: {S.climbStairs_generalSolution(3, [1, 2])}\\n\")"
   ]
  }
 ],
 "metadata": {
  "interpreter": {
   "hash": "a1465031eeae0bed8511463faaa157119e7e6b7b1fbf4ef49fce31064cee3326"
  },
  "kernelspec": {
   "display_name": "Python 3.8.3 64-bit ('base': conda)",
   "name": "python3"
  },
  "language_info": {
   "codemirror_mode": {
    "name": "ipython",
    "version": 3
   },
   "file_extension": ".py",
   "mimetype": "text/x-python",
   "name": "python",
   "nbconvert_exporter": "python",
   "pygments_lexer": "ipython3",
   "version": "3.8.3"
  }
 },
 "nbformat": 4,
 "nbformat_minor": 4
}
