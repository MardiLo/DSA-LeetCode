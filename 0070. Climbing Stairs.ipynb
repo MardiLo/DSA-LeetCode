{
 "cells": [
  {
   "cell_type": "markdown",
   "metadata": {},
   "source": [
    "`# Dynamic Programming` `# Math` `# Memoization`"
   ]
  },
  {
   "cell_type": "markdown",
   "metadata": {},
   "source": [
    "You are climbing a staircase. It takes `n` steps to reach the top.\n",
    "\n",
    "Each time you can either climb `1` or `2` steps. In *how many distinct ways can you climb to the top*?"
   ]
  },
  {
   "cell_type": "markdown",
   "metadata": {},
   "source": [
    "**Example 1:**\n",
    "\n",
    "> Input: n = 2  \n",
    "Output: 2  \n",
    "Explanation: There are two ways to climb to the top.  \n",
    "    1. 1 step + 1 step  \n",
    "    2. 2 steps  \n",
    "\n",
    "**Example 2:**\n",
    "\n",
    "> Input: n = 3  \n",
    "Output: 3  \n",
    "Explanation: There are three ways to climb to the top.  \n",
    "    1. 1 step + 1 step + 1 step  \n",
    "    2. 1 step + 2 steps  \n",
    "    3. 2 steps + 1 step"
   ]
  },
  {
   "cell_type": "code",
   "execution_count": 1,
   "metadata": {},
   "outputs": [],
   "source": [
    "class Solution:\n",
    "\n",
    "    # Time Complexity： O(n)\n",
    "    # Space Complexity： O(n)       \n",
    "    def climbStairs(self, n: int) -> int:\n",
    "        dp = [1, 1]                      # SC: O(n)\n",
    "        \n",
    "        for i in range(2, n+1):          # TC: O(n)\n",
    "            dp.append(dp[i-1] + dp[i-2])\n",
    "            \n",
    "        return dp[n]\n",
    "\n",
    "    # Time Complexity： O(n)\n",
    "    # Space Complexity： O(1)    \n",
    "    def climbStairs_spaceOpt(self, n: int) -> int:\n",
    "        dp1 = dp2 = 1                    # SC: O(1)\n",
    "        \n",
    "        for i in range(2, n+1):          # TC: O(n)\n",
    "            dp1, dp2 = dp1 + dp2, dp1 \n",
    "        \n",
    "        return dp1 if n else dp2         # when n = 0, it should return 0\n",
    "    \n",
    "    # Time Complexity： O(mn)\n",
    "    # Space Complexity： O(n)       \n",
    "    def climbStairs_generalSolution(self, n: int, steps: list) -> int:\n",
    "        dp = [1, 1]                    # SC: O(n)\n",
    "        \n",
    "        for stair in range(2, n+1):    # TC: O(n)\n",
    "            cnt = 0\n",
    "            \n",
    "            for step in steps:         # TC: O(m), where m = len(steps)\n",
    "                if stair >= step:\n",
    "                    cnt += dp[stair-step]\n",
    "                    \n",
    "            dp.append(cnt)\n",
    "            \n",
    "        return dp[n]"
   ]
  },
  {
   "cell_type": "code",
   "execution_count": 2,
   "metadata": {},
   "outputs": [
    {
     "name": "stdout",
     "output_type": "stream",
     "text": [
      "---climbStairs---\n",
      "Case 1: 2\n",
      "Case 2: 3\n",
      "\n",
      "---climbStairs_spaceOpt---\n",
      "Case 1: 2\n",
      "Case 2: 3\n",
      "\n",
      "---climbStairs_generalSolution---\n",
      "Case 1: 2\n",
      "Case 2: 3\n"
     ]
    }
   ],
   "source": [
    "# Test on Cases\n",
    "S = Solution()\n",
    "\n",
    "print(\"---climbStairs---\")\n",
    "print(f\"Case 1: {S.climbStairs(2)}\")\n",
    "print(f\"Case 2: {S.climbStairs(3)}\\n\")\n",
    "\n",
    "print(\"---climbStairs_spaceOpt---\")\n",
    "print(f\"Case 1: {S.climbStairs_spaceOpt(2)}\")\n",
    "print(f\"Case 2: {S.climbStairs_spaceOpt(3)}\\n\")\n",
    "\n",
    "print(\"---climbStairs_generalSolution---\")\n",
    "print(f\"Case 1: {S.climbStairs_generalSolution(2, [1, 2])}\")\n",
    "print(f\"Case 2: {S.climbStairs_generalSolution(3, [1, 2])}\")"
   ]
  }
 ],
 "metadata": {
  "kernelspec": {
   "display_name": "Python 3.10.4 ('leetcode')",
   "language": "python",
   "name": "python3"
  },
  "language_info": {
   "codemirror_mode": {
    "name": "ipython",
    "version": 3
   },
   "file_extension": ".py",
   "mimetype": "text/x-python",
   "name": "python",
   "nbconvert_exporter": "python",
   "pygments_lexer": "ipython3",
   "version": "3.10.4"
  },
  "vscode": {
   "interpreter": {
    "hash": "21d8332eb27bea95342760850bd7426f517b6a483537194bbba87e10eeabf6ff"
   }
  }
 },
 "nbformat": 4,
 "nbformat_minor": 4
}
