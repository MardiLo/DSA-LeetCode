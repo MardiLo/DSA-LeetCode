{
 "cells": [
  {
   "cell_type": "markdown",
   "metadata": {},
   "source": [
    "`Dynamic Programming`"
   ]
  },
  {
   "cell_type": "markdown",
   "metadata": {},
   "source": [
    "You are climbing a staircase. It takes `n` steps to reach the top.\n",
    "\n",
    "Each time you can either climb `1` or `2` steps. In how many distinct ways can you climb to the top?"
   ]
  },
  {
   "cell_type": "markdown",
   "metadata": {},
   "source": [
    "**Example 1:**\n",
    "\n",
    "> Input: n = 2  \n",
    "Output: 2  \n",
    "Explanation: There are two ways to climb to the top.  \n",
    "    1. 1 step + 1 step  \n",
    "    2. 2 steps  \n",
    "\n",
    "**Example 2:**\n",
    "\n",
    "> Input: n = 3  \n",
    "Output: 3  \n",
    "Explanation: There are three ways to climb to the top.  \n",
    "    1. 1 step + 1 step + 1 step  \n",
    "    2. 1 step + 2 steps  \n",
    "    3. 2 steps + 1 step"
   ]
  },
  {
   "cell_type": "code",
   "execution_count": 20,
   "metadata": {},
   "outputs": [],
   "source": [
    "class Solution:\n",
    "    \n",
    "    # Time Complexity： O(n)\n",
    "    # Space Complexity： O(1)    \n",
    "    def climbStairs(self, n: 'int') -> 'int':\n",
    "        a = b = 1\n",
    "        \n",
    "        for i in range(n):\n",
    "            a, b = b, a+b\n",
    "        \n",
    "        return a\n",
    "    \n",
    "    \n",
    "    # Time Complexity： O(n)\n",
    "    # Space Complexity： O(n)       \n",
    "    def climbStairs_list(self, n: 'int') -> 'int':\n",
    "        dp = [1, 1]\n",
    "        \n",
    "        for stair in range(2, n+1):\n",
    "            dp.append(dp[i-1] + dp[i-2])\n",
    "            \n",
    "        return dp[n]\n",
    "    \n",
    "    \n",
    "    # Time Complexity： O(n)\n",
    "    # Space Complexity： O(n)       \n",
    "    def climbStairs_generalSolution(self, n: 'int', steps: 'List') -> 'int':\n",
    "        dp = [1, 1]\n",
    "        \n",
    "        for stair in range(2, n+1):\n",
    "            cnt = 0\n",
    "            \n",
    "            for step in steps:\n",
    "                if stair >= step:\n",
    "                    cnt += dp[stair-step]\n",
    "                    \n",
    "            dp.append(cnt)\n",
    "            \n",
    "        return dp[n]"
   ]
  },
  {
   "cell_type": "code",
   "execution_count": 21,
   "metadata": {},
   "outputs": [
    {
     "name": "stdout",
     "output_type": "stream",
     "text": [
      "---climbStairs---\n",
      "Case 1: 2\n",
      "Case 2: 3\n",
      "\n",
      "---climbStairs_list---\n",
      "Case 1: 2\n",
      "Case 2: 3\n",
      "\n",
      "---climbStairs_generalSolution---\n",
      "Case 1: 2\n",
      "Case 2: 3\n",
      "\n"
     ]
    }
   ],
   "source": [
    "# Test on Cases\n",
    "S = Solution()\n",
    "\n",
    "print(\"---climbStairs---\")\n",
    "print(f\"Case 1: {S.climbStairs(2)}\")\n",
    "print(f\"Case 2: {S.climbStairs(3)}\\n\")\n",
    "\n",
    "print(\"---climbStairs_list---\")\n",
    "print(f\"Case 1: {S.climbStairs_list(2)}\")\n",
    "print(f\"Case 2: {S.climbStairs_list(3)}\\n\")\n",
    "\n",
    "print(\"---climbStairs_generalSolution---\")\n",
    "print(f\"Case 1: {S.climbStairs_generalSolution(2, [1, 2])}\")\n",
    "print(f\"Case 2: {S.climbStairs_generalSolution(3, [1, 2])}\\n\")"
   ]
  },
  {
   "cell_type": "code",
   "execution_count": null,
   "metadata": {},
   "outputs": [],
   "source": []
  }
 ],
 "metadata": {
  "kernelspec": {
   "display_name": "Python 3",
   "language": "python",
   "name": "python3"
  },
  "language_info": {
   "codemirror_mode": {
    "name": "ipython",
    "version": 3
   },
   "file_extension": ".py",
   "mimetype": "text/x-python",
   "name": "python",
   "nbconvert_exporter": "python",
   "pygments_lexer": "ipython3",
   "version": "3.7.7"
  }
 },
 "nbformat": 4,
 "nbformat_minor": 4
}
