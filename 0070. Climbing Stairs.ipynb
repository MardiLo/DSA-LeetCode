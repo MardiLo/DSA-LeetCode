{
 "cells": [
  {
   "cell_type": "markdown",
   "source": [
    "`# Dynamic Programming` `# Math` `# Memoization`"
   ],
   "metadata": {}
  },
  {
   "cell_type": "markdown",
   "source": [
    "You are climbing a staircase. It takes `n` steps to reach the top.\r\n",
    "\r\n",
    "Each time you can either climb `1` or `2` steps. In *how many distinct ways can you climb to the top*?"
   ],
   "metadata": {}
  },
  {
   "cell_type": "markdown",
   "source": [
    "**Example 1:**\n",
    "\n",
    "> Input: n = 2  \n",
    "Output: 2  \n",
    "Explanation: There are two ways to climb to the top.  \n",
    "    1. 1 step + 1 step  \n",
    "    2. 2 steps  \n",
    "\n",
    "**Example 2:**\n",
    "\n",
    "> Input: n = 3  \n",
    "Output: 3  \n",
    "Explanation: There are three ways to climb to the top.  \n",
    "    1. 1 step + 1 step + 1 step  \n",
    "    2. 1 step + 2 steps  \n",
    "    3. 2 steps + 1 step"
   ],
   "metadata": {}
  },
  {
   "cell_type": "code",
   "execution_count": 5,
   "source": [
    "class Solution:\r\n",
    "    \r\n",
    "    # Time Complexity： O(n)\r\n",
    "    # Space Complexity： O(1)    \r\n",
    "    def climbStairs(self, n: 'int') -> 'int':\r\n",
    "        a = b = 1                      # SC: O(1)\r\n",
    "        \r\n",
    "        for _ in range(n):             # TC: O(n)\r\n",
    "            a, b = b, a+b\r\n",
    "        \r\n",
    "        return a\r\n",
    "    \r\n",
    "    \r\n",
    "    # Time Complexity： O(n)\r\n",
    "    # Space Complexity： O(n)       \r\n",
    "    def climbStairs_dp(self, n: 'int') -> 'int':\r\n",
    "        dp = [1, 1]                    # SC: O(n)\r\n",
    "        \r\n",
    "        for stair in range(2, n+1):    # TC: O(n)\r\n",
    "            dp.append(dp[stair-1] + dp[stair-2])\r\n",
    "            \r\n",
    "        return dp[n]\r\n",
    "    \r\n",
    "    \r\n",
    "    # Time Complexity： O(mn)\r\n",
    "    # Space Complexity： O(n)       \r\n",
    "    def climbStairs_generalSolution(self, n: 'int', steps: 'List') -> 'int':\r\n",
    "        dp = [1, 1]                    # SC: O(n)\r\n",
    "        \r\n",
    "        for stair in range(2, n+1):    # TC: O(n)\r\n",
    "            cnt = 0\r\n",
    "            \r\n",
    "            for step in steps:         # TC: O(m), where m = len(steps)\r\n",
    "                if stair >= step:\r\n",
    "                    cnt += dp[stair-step]\r\n",
    "                    \r\n",
    "            dp.append(cnt)\r\n",
    "            \r\n",
    "        return dp[n]"
   ],
   "outputs": [],
   "metadata": {}
  },
  {
   "cell_type": "code",
   "execution_count": 6,
   "source": [
    "# Test on Cases\r\n",
    "S = Solution()\r\n",
    "\r\n",
    "print(\"---climbStairs---\")\r\n",
    "print(f\"Case 1: {S.climbStairs(2)}\")\r\n",
    "print(f\"Case 2: {S.climbStairs(3)}\\n\")\r\n",
    "\r\n",
    "print(\"---climbStairs_dp---\")\r\n",
    "print(f\"Case 1: {S.climbStairs_dp(2)}\")\r\n",
    "print(f\"Case 2: {S.climbStairs_dp(3)}\\n\")\r\n",
    "\r\n",
    "print(\"---climbStairs_generalSolution---\")\r\n",
    "print(f\"Case 1: {S.climbStairs_generalSolution(2, [1, 2])}\")\r\n",
    "print(f\"Case 2: {S.climbStairs_generalSolution(3, [1, 2])}\\n\")"
   ],
   "outputs": [
    {
     "output_type": "stream",
     "name": "stdout",
     "text": [
      "---climbStairs---\n",
      "Case 1: 2\n",
      "Case 2: 3\n",
      "\n",
      "---climbStairs_dp---\n",
      "Case 1: 2\n",
      "Case 2: 3\n",
      "\n",
      "---climbStairs_generalSolution---\n",
      "Case 1: 2\n",
      "Case 2: 3\n",
      "\n"
     ]
    }
   ],
   "metadata": {}
  }
 ],
 "metadata": {
  "kernelspec": {
   "name": "python3",
   "display_name": "Python 3.7.7 64-bit ('spark': conda)"
  },
  "language_info": {
   "codemirror_mode": {
    "name": "ipython",
    "version": 3
   },
   "file_extension": ".py",
   "mimetype": "text/x-python",
   "name": "python",
   "nbconvert_exporter": "python",
   "pygments_lexer": "ipython3",
   "version": "3.7.7"
  },
  "interpreter": {
   "hash": "6ab137a14910b4ee65d0ea442464c53c8571f8241496146388c5db8c59915964"
  }
 },
 "nbformat": 4,
 "nbformat_minor": 4
}