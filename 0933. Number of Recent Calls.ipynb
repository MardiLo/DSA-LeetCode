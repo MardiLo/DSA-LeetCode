{
 "cells": [
  {
   "cell_type": "markdown",
   "metadata": {},
   "source": [
    "`# Data Stream` `# Design` `# Queue`"
   ]
  },
  {
   "cell_type": "markdown",
   "metadata": {},
   "source": [
    "You have a `RecentCounter` class which counts the number of recent requests within a certain time frame.\n",
    "\n",
    "Implement the `RecentCounter` class:\n",
    "\n",
    "- `RecentCounter()` Initializes the counter with zero recent requests.\n",
    "- `int ping(int t)` Adds a new request at time `t`, where `t` represents some time in milliseconds, and returns the number of requests that has happened in the past `3000` milliseconds (including the new request). Specifically, return the number of requests that have happened in the inclusive range `[t - 3000, t]`.\n",
    "It is **guaranteed** that every call to `ping` uses a strictly larger value of `t` than the previous call."
   ]
  },
  {
   "cell_type": "markdown",
   "metadata": {},
   "source": [
    "**Example 1:**\n",
    "\n",
    "> Input  \n",
    "> [\"RecentCounter\", \"ping\", \"ping\", \"ping\", \"ping\"]  \n",
    "> [[], [1], [100], [3001], [3002]]  \n",
    "> Output  \n",
    "> [null, 1, 2, 3, 3]  \n",
    "> \n",
    "> Explanation\n",
    "> RecentCounter recentCounter = new RecentCounter();  \n",
    "> recentCounter.ping(1);     // requests = [1], range is [-2999,1], return 1  \n",
    "> recentCounter.ping(100);   // requests = [1, 100], range is [-2900,100], return 2  \n",
    "> recentCounter.ping(3001);  // requests = [1, 100, 3001], range is [1,3001], return 3  \n",
    "> recentCounter.ping(3002);  // requests = [1, 100, 3001, 3002], range is [2,3002], return 3"
   ]
  },
  {
   "cell_type": "code",
   "execution_count": 1,
   "metadata": {},
   "outputs": [],
   "source": [
    "class RecentCounter:\n",
    "\n",
    "    def __init__(self):\n",
    "        from collections import deque\n",
    "\n",
    "        self._queue = deque([])\n",
    "\n",
    "    def ping(self, t: int) -> int:\n",
    "        self._queue.append(t)\n",
    "\n",
    "        while not (t-3000 <= self._queue[0] <= t):\n",
    "            self._queue.popleft()\n",
    "        \n",
    "        return len(self._queue)"
   ]
  },
  {
   "cell_type": "code",
   "execution_count": 2,
   "metadata": {},
   "outputs": [
    {
     "name": "stdout",
     "output_type": "stream",
     "text": [
      "1\n",
      "2\n",
      "3\n",
      "3\n"
     ]
    },
    {
     "ename": "",
     "evalue": "",
     "output_type": "error",
     "traceback": [
      "\u001b[1;31mThe Kernel crashed while executing code in the current cell or a previous cell. \n",
      "\u001b[1;31mPlease review the code in the cell(s) to identify a possible cause of the failure. \n",
      "\u001b[1;31mClick <a href='https://aka.ms/vscodeJupyterKernelCrash'>here</a> for more info. \n",
      "\u001b[1;31mView Jupyter <a href='command:jupyter.viewOutput'>log</a> for further details."
     ]
    }
   ],
   "source": [
    "# Test on Cases\n",
    "recentCounter = RecentCounter()\n",
    "\n",
    "print(recentCounter.ping(1))\n",
    "print(recentCounter.ping(100))\n",
    "print(recentCounter.ping(3001))\n",
    "print(recentCounter.ping(3002))"
   ]
  }
 ],
 "metadata": {
  "kernelspec": {
   "display_name": "Python 3 (ipykernel)",
   "language": "python",
   "name": "python3"
  },
  "language_info": {
   "codemirror_mode": {
    "name": "ipython",
    "version": 3
   },
   "file_extension": ".py",
   "mimetype": "text/x-python",
   "name": "python",
   "nbconvert_exporter": "python",
   "pygments_lexer": "ipython3",
   "version": "3.11.9"
  },
  "vscode": {
   "interpreter": {
    "hash": "21d8332eb27bea95342760850bd7426f517b6a483537194bbba87e10eeabf6ff"
   }
  }
 },
 "nbformat": 4,
 "nbformat_minor": 4
}
