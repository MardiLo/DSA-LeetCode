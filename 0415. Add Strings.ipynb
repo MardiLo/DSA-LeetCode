{
 "cells": [
  {
   "cell_type": "markdown",
   "source": [
    "`# Math` `# Simulation` `# String`"
   ],
   "metadata": {}
  },
  {
   "cell_type": "markdown",
   "source": [
    "Given two non-negative integers, `num1` and `num2` represented as string, return *the sum of* `num1` *and* `num2` *as a string*.\n",
    "\n",
    "You must solve the problem **without using any built-in library** for handling large integers (such as `BigInteger`). You must also **not convert the inputs to integers directly**."
   ],
   "metadata": {}
  },
  {
   "cell_type": "markdown",
   "source": [
    "**Example 1:**\n",
    "\n",
    "> Input: num1 = \"11\", num2 = \"123\"  \n",
    "Output: \"134\"  \n",
    "\n",
    "**Example 2:**\n",
    "\n",
    "> Input: num1 = \"456\", num2 = \"77\"  \n",
    "Output: \"533\"  \n",
    "\n",
    "**Example 3:**\n",
    "\n",
    "> Input: num1 = \"0\", num2 = \"0\"  \n",
    "Output: \"0\"  "
   ],
   "metadata": {}
  },
  {
   "cell_type": "code",
   "execution_count": 13,
   "source": [
    "class Solution:\r\n",
    "    \r\n",
    "    # Time Complexity： O(max(m, n)), where m=len(num1), n=len(num2)\r\n",
    "    # Space Complexity： O(1)      \r\n",
    "    def addStrings(self, num1: 'str', num2: 'str') -> 'str':\r\n",
    "        l1, l2, ans = len(num1)-1, len(num2)-1, ''\r\n",
    "        carry = 0\r\n",
    "\r\n",
    "        while l1 >= 0 or l2 >= 0 or carry:\r\n",
    "            if l1 >= 0:\r\n",
    "                carry += int(num1[l1])\r\n",
    "                l1 -= 1\r\n",
    "            if l2 >= 0:\r\n",
    "                carry += int(num2[l2])\r\n",
    "                l2 -= 1\r\n",
    "            ans += str(carry % 10)\r\n",
    "            carry //= 10\r\n",
    "            \r\n",
    "        return ans[::-1]"
   ],
   "outputs": [],
   "metadata": {}
  },
  {
   "cell_type": "code",
   "execution_count": 14,
   "source": [
    "# Test on Cases\r\n",
    "S = Solution()\r\n",
    "\r\n",
    "print(f\"Case 1: {S.addStrings('11', '123')}\")\r\n",
    "print(f\"Case 2: {S.addStrings('456', '77')}\")\r\n",
    "print(f\"Case 3: {S.addStrings('0', '0')}\")"
   ],
   "outputs": [
    {
     "output_type": "stream",
     "name": "stdout",
     "text": [
      "Case 1: 134\n",
      "Case 2: 533\n",
      "Case 3: 0\n"
     ]
    }
   ],
   "metadata": {}
  }
 ],
 "metadata": {
  "kernelspec": {
   "display_name": "Python 3",
   "language": "python",
   "name": "python3"
  },
  "language_info": {
   "codemirror_mode": {
    "name": "ipython",
    "version": 3
   },
   "file_extension": ".py",
   "mimetype": "text/x-python",
   "name": "python",
   "nbconvert_exporter": "python",
   "pygments_lexer": "ipython3",
   "version": "3.7.7"
  }
 },
 "nbformat": 4,
 "nbformat_minor": 4
}