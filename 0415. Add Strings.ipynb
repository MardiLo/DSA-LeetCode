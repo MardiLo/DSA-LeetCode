{
 "cells": [
  {
   "cell_type": "markdown",
   "metadata": {},
   "source": [
    "`# Math` `# Simulation` `# String`"
   ]
  },
  {
   "cell_type": "markdown",
   "metadata": {},
   "source": [
    "Given two non-negative integers, `num1` and `num2` represented as string, return *the sum of* `num1` *and* `num2` *as a string*.\n",
    "\n",
    "You must solve the problem **without using any built-in library** for handling large integers (such as `BigInteger`). You must also **not convert the inputs to integers directly**."
   ]
  },
  {
   "cell_type": "markdown",
   "metadata": {},
   "source": [
    "**Example 1:**\n",
    "\n",
    "> Input: num1 = \"11\", num2 = \"123\"  \n",
    "Output: \"134\"  \n",
    "\n",
    "**Example 2:**\n",
    "\n",
    "> Input: num1 = \"456\", num2 = \"77\"  \n",
    "Output: \"533\"  \n",
    "\n",
    "**Example 3:**\n",
    "\n",
    "> Input: num1 = \"0\", num2 = \"0\"  \n",
    "Output: \"0\"  "
   ]
  },
  {
   "cell_type": "code",
   "execution_count": 1,
   "metadata": {},
   "outputs": [],
   "source": [
    "class Solution:\n",
    "    \n",
    "    # Time Complexity： O(max(m, n)), where m=len(num1), n=len(num2)\n",
    "    # Space Complexity： O(1)      \n",
    "    def addStrings(self, num1: str, num2: str) -> str:\n",
    "        i1, i2, ans, carrier = len(num1)-1, len(num2)-1, '', 0\n",
    "\n",
    "        while i1 >= 0 or i2 >= 0 or carrier:\n",
    "            if i1 >= 0: carrier += int(num1[i1]); i1 -= 1\n",
    "            if i2 >= 0: carrier += int(num2[i2]); i2 -= 1\n",
    "\n",
    "            carrier, remainder = divmod(carrier, 10)\n",
    "            ans = str(remainder) + ans\n",
    "            \n",
    "        return ans"
   ]
  },
  {
   "cell_type": "code",
   "execution_count": 2,
   "metadata": {},
   "outputs": [
    {
     "name": "stdout",
     "output_type": "stream",
     "text": [
      "Case 1: 134\n",
      "Case 2: 533\n",
      "Case 3: 0\n"
     ]
    }
   ],
   "source": [
    "# Test on Cases\n",
    "S = Solution()\n",
    "\n",
    "print(f\"Case 1: {S.addStrings('11', '123')}\")\n",
    "print(f\"Case 2: {S.addStrings('456', '77')}\")\n",
    "print(f\"Case 3: {S.addStrings('0', '0')}\")"
   ]
  }
 ],
 "metadata": {
  "kernelspec": {
   "display_name": "Python 3.10.4 ('leetcode')",
   "language": "python",
   "name": "python3"
  },
  "language_info": {
   "codemirror_mode": {
    "name": "ipython",
    "version": 3
   },
   "file_extension": ".py",
   "mimetype": "text/x-python",
   "name": "python",
   "nbconvert_exporter": "python",
   "pygments_lexer": "ipython3",
   "version": "3.10.4"
  },
  "vscode": {
   "interpreter": {
    "hash": "21d8332eb27bea95342760850bd7426f517b6a483537194bbba87e10eeabf6ff"
   }
  }
 },
 "nbformat": 4,
 "nbformat_minor": 4
}
