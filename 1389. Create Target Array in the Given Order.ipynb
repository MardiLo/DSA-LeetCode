{
 "cells": [
  {
   "cell_type": "markdown",
   "metadata": {},
   "source": [
    "`# Array` `# Simulation`"
   ]
  },
  {
   "cell_type": "markdown",
   "metadata": {},
   "source": [
    "Given two arrays of integers `nums` and `index`. Your task is to create ***target*** array under the following rules:\n",
    "\n",
    "- Initially ***target*** array is empty.\n",
    "- From left to right read `nums[i]` and `index[i]`, insert at index `index[i]` the value `nums[i]` in target array.\n",
    "- Repeat the previous step until there are no elements to read in `nums` and `index`.\n",
    "\n",
    "Return *the **target** array*.\n",
    "\n",
    "It is guaranteed that the insertion operations will be valid."
   ]
  },
  {
   "cell_type": "markdown",
   "metadata": {},
   "source": [
    "**Example 1:**  \n",
    "\n",
    "> Input: nums = [0,1,2,3,4], index = [0,1,2,2,1]  \n",
    "> Output: [0,4,1,3,2]  \n",
    "> Explanation:  \n",
    "> nums       index     target  \n",
    "> 0            0        [0]  \n",
    "> 1            1        [0,1]  \n",
    "> 2            2        [0,1,2]  \n",
    "> 3            2        [0,1,3,2]  \n",
    "> 4            1        [0,4,1,3,2]\n",
    "\n",
    "**Example 2:**\n",
    "\n",
    "> Input: nums = [1,2,3,4,0], index = [0,1,2,3,0]  \n",
    "> Output: [0,1,2,3,4]  \n",
    "> Explanation:  \n",
    "> nums       index     target  \n",
    "> 1            0        [1]  \n",
    "> 2            1        [1,2]  \n",
    "> 3            2        [1,2,3]  \n",
    "> 4            3        [1,2,3,4]  \n",
    "> 0            0        [0,1,2,3,4]\n",
    "\n",
    "**Example 3:**\n",
    "\n",
    "> Input: nums = [1], index = [0]  \n",
    "> Output: [1]"
   ]
  },
  {
   "cell_type": "code",
   "execution_count": 3,
   "metadata": {},
   "outputs": [],
   "source": [
    "class Solution:\n",
    "    \n",
    "    # Time Complexity： O(n)\n",
    "    # Space Complexity： O(1)      \n",
    "    def createTargetArray(self, nums: list[int], index: list[int]) -> list[int]:\n",
    "        res = []\n",
    "        \n",
    "        for num, i in zip(nums, index):\n",
    "            res.insert(i, num)    # or replace with res[i:i] = [num]\n",
    "        \n",
    "        return res"
   ]
  },
  {
   "cell_type": "code",
   "execution_count": 4,
   "metadata": {},
   "outputs": [
    {
     "name": "stdout",
     "output_type": "stream",
     "text": [
      "Case 1: [0, 4, 1, 3, 2]\n",
      "Case 2: [0, 1, 2, 3, 4]\n",
      "Case 3: [1]\n"
     ]
    }
   ],
   "source": [
    "# Test on Cases\n",
    "S = Solution()\n",
    "\n",
    "print(f\"Case 1: {S.createTargetArray(nums=[0,1,2,3,4], index=[0,1,2,2,1])}\")\n",
    "print(f\"Case 2: {S.createTargetArray(nums=[1,2,3,4,0], index=[0,1,2,3,0])}\")\n",
    "print(f\"Case 3: {S.createTargetArray(nums=[1], index=[0])}\")"
   ]
  }
 ],
 "metadata": {
  "kernelspec": {
   "display_name": "Python 3 (ipykernel)",
   "language": "python",
   "name": "python3"
  },
  "language_info": {
   "codemirror_mode": {
    "name": "ipython",
    "version": 3
   },
   "file_extension": ".py",
   "mimetype": "text/x-python",
   "name": "python",
   "nbconvert_exporter": "python",
   "pygments_lexer": "ipython3",
   "version": "3.10.4"
  },
  "vscode": {
   "interpreter": {
    "hash": "21d8332eb27bea95342760850bd7426f517b6a483537194bbba87e10eeabf6ff"
   }
  }
 },
 "nbformat": 4,
 "nbformat_minor": 4
}
