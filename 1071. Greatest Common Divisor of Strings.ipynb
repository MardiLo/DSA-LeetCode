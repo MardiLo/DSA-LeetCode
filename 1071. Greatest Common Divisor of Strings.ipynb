{
 "cells": [
  {
   "attachments": {},
   "cell_type": "markdown",
   "metadata": {},
   "source": [
    "`# Math` `# String`"
   ]
  },
  {
   "attachments": {},
   "cell_type": "markdown",
   "metadata": {},
   "source": [
    "For two strings `s` and `t`, we say \"`t` divides `s`\" if and only if `s = t + ... + t` (i.e., `t` is concatenated with itself one or more times).\n",
    "\n",
    "Given two strings `str1` and `str2`, return *the largest string* `x` *such that* `x` *divides both* `str1` *and* `str2`."
   ]
  },
  {
   "attachments": {},
   "cell_type": "markdown",
   "metadata": {},
   "source": [
    "**Example 1:**\n",
    "\n",
    "> Input: str1 = \"ABCABC\", str2 = \"ABC\"  \n",
    "> Output: \"ABC\"\n",
    "\n",
    "**Example 2:**\n",
    "\n",
    "> Input: str1 = \"ABABAB\", str2 = \"ABAB\"  \n",
    "> Output: \"AB\"\n",
    "\n",
    "**Example 3:**\n",
    "\n",
    "> Input: str1 = \"LEET\", str2 = \"CODE\"  \n",
    "> Output: \"\""
   ]
  },
  {
   "cell_type": "code",
   "execution_count": 1,
   "metadata": {},
   "outputs": [],
   "source": [
    "class Solution:\n",
    "\n",
    "    # Time Complexity： O(n)\n",
    "    # Space Complexity： O(1)\n",
    "    def gcdOfStrings(self, str1: str, str2: str) -> str:\n",
    "        from math import gcd\n",
    "\n",
    "        return str1[:gcd(len(str1), len(str2))] if str1 + str2 == str2 + str1 else ''"
   ]
  },
  {
   "cell_type": "code",
   "execution_count": 2,
   "metadata": {},
   "outputs": [
    {
     "name": "stdout",
     "output_type": "stream",
     "text": [
      "Case 1: ABC\n",
      "Case 2: AB\n",
      "Case 3: \n"
     ]
    }
   ],
   "source": [
    "# Test on Cases\n",
    "S = Solution()\n",
    "\n",
    "print(f\"Case 1: {S.gcdOfStrings('ABCABC', 'ABC')}\")\n",
    "print(f\"Case 2: {S.gcdOfStrings('ABABAB', 'ABAB')}\")\n",
    "print(f\"Case 3: {S.gcdOfStrings('LEET', 'CODE')}\")"
   ]
  }
 ],
 "metadata": {
  "kernelspec": {
   "display_name": "Python 3 (ipykernel)",
   "language": "python",
   "name": "python3"
  },
  "language_info": {
   "codemirror_mode": {
    "name": "ipython",
    "version": 3
   },
   "file_extension": ".py",
   "mimetype": "text/x-python",
   "name": "python",
   "nbconvert_exporter": "python",
   "pygments_lexer": "ipython3",
   "version": "3.10.4"
  },
  "vscode": {
   "interpreter": {
    "hash": "21d8332eb27bea95342760850bd7426f517b6a483537194bbba87e10eeabf6ff"
   }
  }
 },
 "nbformat": 4,
 "nbformat_minor": 4
}
