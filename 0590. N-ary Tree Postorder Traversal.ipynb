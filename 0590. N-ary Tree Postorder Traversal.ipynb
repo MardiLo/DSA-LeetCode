{
 "cells": [
  {
   "cell_type": "markdown",
   "metadata": {},
   "source": [
    "`# Depth-First Search` `# Stack` `# Tree`"
   ]
  },
  {
   "cell_type": "markdown",
   "metadata": {},
   "source": [
    "Given the `root` of an n-ary tree, return *the* ***postorder traversal*** *of its nodes' values*.\n",
    "\n",
    "Nary-Tree input serialization is represented in their level order traversal. Each group of children is separated by the null value (See examples)"
   ]
  },
  {
   "cell_type": "markdown",
   "metadata": {},
   "source": [
    "**Example 1:**  \n",
    "![Image of leetcode 0590 problem example 1](https://assets.leetcode.com/uploads/2018/10/12/narytreeexample.png)\n",
    "> Input: root = [1,null,3,2,4,null,5,6]  \n",
    "Output: [5,6,3,2,4,1]\n",
    "\n",
    "**Example 2:**  \n",
    "![Image of leetcode 0590 problem example 2](https://assets.leetcode.com/uploads/2019/11/08/sample_4_964.png)\n",
    "> Input: root = [1,null,2,3,4,5,null,null,6,7,null,8,null,9,10,null,null,11,null,12,null,13,null,null,14]  \n",
    "Output: [2,6,14,11,7,3,12,8,4,13,9,10,5,1]"
   ]
  },
  {
   "cell_type": "code",
   "execution_count": 1,
   "metadata": {},
   "outputs": [],
   "source": [
    "class Node:\n",
    "    def __init__(self, val=None, children=None):\n",
    "        self.val = val\n",
    "        self.children = children\n",
    "\n",
    "class Solution:\n",
    "    \n",
    "    # Time Complexity： O(n)\n",
    "    # Space Complexity： O(h)  \n",
    "    def postorder_recursion(self, root: Node) -> list[int]:\n",
    "        # postorder_recursion() returns a list contain the node.val\n",
    "        return [val for child in root.children for val in self.postorder_recursion(child)] + [root.val] if root else []\n",
    "\n",
    "        # res = []\n",
    "        \n",
    "        # if root:\n",
    "        #     for child in root.children:\n",
    "        #         res += self.postorder_recursion(child)\n",
    "        #     res.append(root.val)\n",
    "\n",
    "        # return res\n",
    "\n",
    "    # Time Complexity： O(n)\n",
    "    # Space Complexity： O(h)     \n",
    "    def postorder_iteration(self, root: Node) -> list[int]:\n",
    "        if not root: return []\n",
    "\n",
    "        stack, res = [root], []\n",
    "        while stack:\n",
    "            root = stack.pop()\n",
    "            stack.extend(root.children)\n",
    "            res.append(root.val)\n",
    "\n",
    "        return res[::-1]"
   ]
  },
  {
   "cell_type": "code",
   "execution_count": 2,
   "metadata": {},
   "outputs": [
    {
     "name": "stdout",
     "output_type": "stream",
     "text": [
      "---postorder_recursion---\n",
      "Case 1: [5, 6, 3, 2, 4, 1]\n",
      "Case 2: [2, 6, 14, 11, 7, 3, 12, 8, 4, 13, 9, 10, 5, 1]\n",
      "\n",
      "---postorder_iteration---\n",
      "Case 1: [5, 6, 3, 2, 4, 1]\n",
      "Case 2: [2, 6, 14, 11, 7, 3, 12, 8, 4, 13, 9, 10, 5, 1]\n"
     ]
    }
   ],
   "source": [
    "# Test on Cases\n",
    "S = Solution()\n",
    "\n",
    "print(\"---postorder_recursion---\")\n",
    "print(f\"Case 1: {S.postorder_recursion(Node(1, [Node(3, [Node(5, []), Node(6, [])]), Node(2, []), Node(4, [])]))}\")\n",
    "print(f\"Case 2: {S.postorder_recursion(Node(1, [Node(2, []), Node(3, [Node(6, []), Node(7, [Node(11, [Node(14, [])])])]), Node(4, [Node(8, [Node(12, [])])]), Node(5, [Node(9, [Node(13, [])]), Node(10, [])])]))}\\n\")\n",
    "\n",
    "print(\"---postorder_iteration---\")\n",
    "print(f\"Case 1: {S.postorder_iteration(Node(1, [Node(3, [Node(5, []), Node(6, [])]), Node(2, []), Node(4, [])]))}\")\n",
    "print(f\"Case 2: {S.postorder_iteration(Node(1, [Node(2, []), Node(3, [Node(6, []), Node(7, [Node(11, [Node(14, [])])])]), Node(4, [Node(8, [Node(12, [])])]), Node(5, [Node(9, [Node(13, [])]), Node(10, [])])]))}\")"
   ]
  }
 ],
 "metadata": {
  "kernelspec": {
   "display_name": "Python 3.10.4 ('leetcode')",
   "language": "python",
   "name": "python3"
  },
  "language_info": {
   "codemirror_mode": {
    "name": "ipython",
    "version": 3
   },
   "file_extension": ".py",
   "mimetype": "text/x-python",
   "name": "python",
   "nbconvert_exporter": "python",
   "pygments_lexer": "ipython3",
   "version": "3.10.4"
  },
  "vscode": {
   "interpreter": {
    "hash": "21d8332eb27bea95342760850bd7426f517b6a483537194bbba87e10eeabf6ff"
   }
  }
 },
 "nbformat": 4,
 "nbformat_minor": 4
}
