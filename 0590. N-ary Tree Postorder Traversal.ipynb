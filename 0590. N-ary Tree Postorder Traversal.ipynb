{
 "cells": [
  {
   "cell_type": "markdown",
   "source": [
    "`# Depth-First Search` `# Stack` `# Tree`"
   ],
   "metadata": {}
  },
  {
   "cell_type": "markdown",
   "source": [
    "Given the `root` of an n-ary tree, return *the* ***postorder traversal*** *of its nodes' values*.\n",
    "\n",
    "Nary-Tree input serialization is represented in their level order traversal. Each group of children is separated by the null value (See examples)"
   ],
   "metadata": {}
  },
  {
   "cell_type": "markdown",
   "source": [
    "**Example 1:**  \r\n",
    "![Image of leetcode 0590 problem example 1](https://assets.leetcode.com/uploads/2018/10/12/narytreeexample.png)\r\n",
    "> Input: root = [1,null,3,2,4,null,5,6]  \r\n",
    "Output: [5,6,3,2,4,1]\r\n",
    "\r\n",
    "**Example 2:**  \r\n",
    "![Image of leetcode 0590 problem example 2](https://assets.leetcode.com/uploads/2019/11/08/sample_4_964.png)\r\n",
    "> Input: root = [1,null,2,3,4,5,null,null,6,7,null,8,null,9,10,null,null,11,null,12,null,13,null,null,14]  \r\n",
    "Output: [2,6,14,11,7,3,12,8,4,13,9,10,5,1]"
   ],
   "metadata": {}
  },
  {
   "cell_type": "code",
   "execution_count": 3,
   "source": [
    "class Node:\r\n",
    "    def __init__(self, val=None, children=None):\r\n",
    "        self.val = val\r\n",
    "        self.children = children\r\n",
    "\r\n",
    "class Solution:\r\n",
    "    \r\n",
    "    # Time Complexity： O(n)\r\n",
    "    # Space Complexity： O(n)  \r\n",
    "    def postorder(self, root: 'Node') -> 'List[int]':\r\n",
    "        if not root:\r\n",
    "            return []\r\n",
    "\r\n",
    "        res = []\r\n",
    "        for child in root.children:\r\n",
    "            res += self.postorder(child)            \r\n",
    "        res.append(root.val)\r\n",
    "        \r\n",
    "        return res"
   ],
   "outputs": [],
   "metadata": {}
  },
  {
   "cell_type": "code",
   "execution_count": 5,
   "source": [
    "# Test on Cases\r\n",
    "S = Solution()\r\n",
    "\r\n",
    "print(f\"Case 1: {S.postorder(Node(1, [Node(3, [Node(5, []), Node(6, [])]), Node(2, []), Node(4, [])]))}\")\r\n",
    "print(f\"Case 2: {S.postorder(Node(1, [Node(2, []), Node(3, [Node(6, []), Node(7, [Node(11, [Node(14, [])])])]), Node(4, [Node(8, [Node(12, [])])]), Node(5, [Node(9, [Node(13, [])]), Node(10, [])])]))}\")"
   ],
   "outputs": [
    {
     "output_type": "stream",
     "name": "stdout",
     "text": [
      "Case 1: [5, 6, 3, 2, 4, 1]\n",
      "Case 2: [2, 6, 14, 11, 7, 3, 12, 8, 4, 13, 9, 10, 5, 1]\n"
     ]
    }
   ],
   "metadata": {}
  }
 ],
 "metadata": {
  "kernelspec": {
   "display_name": "Python 3",
   "language": "python",
   "name": "python3"
  },
  "language_info": {
   "codemirror_mode": {
    "name": "ipython",
    "version": 3
   },
   "file_extension": ".py",
   "mimetype": "text/x-python",
   "name": "python",
   "nbconvert_exporter": "python",
   "pygments_lexer": "ipython3",
   "version": "3.7.7"
  }
 },
 "nbformat": 4,
 "nbformat_minor": 4
}