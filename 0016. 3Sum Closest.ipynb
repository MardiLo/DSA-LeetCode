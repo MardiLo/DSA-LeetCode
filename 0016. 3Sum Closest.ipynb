{
 "cells": [
  {
   "cell_type": "markdown",
   "metadata": {},
   "source": [
    "`# Array` `# Sorting` `# Two Pointers`"
   ]
  },
  {
   "cell_type": "markdown",
   "metadata": {},
   "source": [
    "Given an integer array `nums` of length `n` and an integer `target`, find three integers in `nums` such that the sum is *closest* to target.\n",
    "\n",
    "*Return the sum of the three integers*.\n",
    "\n",
    "You may assume that each input would have **exactly one solution**."
   ]
  },
  {
   "cell_type": "markdown",
   "metadata": {},
   "source": [
    "**Example 1:**\n",
    "\n",
    "> Input: nums = [-1,2,1,-4], target = 1  \n",
    "Output: 2  \n",
    "Explanation: The sum that is closest to the target is 2. (-1 + 2 + 1 = 2).  \n",
    "\n",
    "**Example 2**\n",
    "\n",
    "> Input: nums = [0,0,0], target = 1  \n",
    "Output: 0  "
   ]
  },
  {
   "cell_type": "code",
   "execution_count": 3,
   "metadata": {},
   "outputs": [],
   "source": [
    "class Solution:\n",
    "    \n",
    "    # Time Complexity： O(n^2)\n",
    "    # Space Complexity： O(n)\n",
    "    def threeSumClosest(self, nums: 'List[int]', target: 'int') -> 'int':\n",
    "        nums.sort()    # space complexity: O(n)\n",
    "        closestSum = float('inf')\n",
    "        \n",
    "        for i in range(len(nums)-2):\n",
    "            if i > 0 and nums[i] == nums[i-1]:\n",
    "                continue\n",
    "            \n",
    "            l, r = i+1, len(nums)-1\n",
    "            while l < r:\n",
    "                s = nums[i] + nums[l] + nums[r]\n",
    "            \n",
    "                if abs(s - target) < abs(closestSum - target):\n",
    "                    closestSum = s\n",
    "                    \n",
    "                if  s < target:\n",
    "                    l += 1\n",
    "                elif s > target:\n",
    "                    r -= 1\n",
    "                else:\n",
    "                    return target\n",
    "                \n",
    "        return closestSum\n"
   ]
  },
  {
   "cell_type": "code",
   "execution_count": 4,
   "metadata": {},
   "outputs": [
    {
     "name": "stdout",
     "output_type": "stream",
     "text": [
      "Case 1: 2\n",
      "Case 2: 0\n"
     ]
    }
   ],
   "source": [
    "# Test on Cases\n",
    "S = Solution()\n",
    "\n",
    "print(f\"Case 1: {S.threeSumClosest([-1,2,1,-4], 1)}\")\n",
    "print(f\"Case 2: {S.threeSumClosest([0,0,0], 1)}\")"
   ]
  },
  {
   "cell_type": "markdown",
   "metadata": {},
   "source": [
    "**Ref**\n",
    "1. [Python O(N^2) solution](https://leetcode.com/problems/3sum-closest/discuss/7871/Python-O(N2)-solution)"
   ]
  },
  {
   "cell_type": "code",
   "execution_count": null,
   "metadata": {},
   "outputs": [],
   "source": []
  }
 ],
 "metadata": {
  "kernelspec": {
   "display_name": "Python 3",
   "language": "python",
   "name": "python3"
  },
  "language_info": {
   "codemirror_mode": {
    "name": "ipython",
    "version": 3
   },
   "file_extension": ".py",
   "mimetype": "text/x-python",
   "name": "python",
   "nbconvert_exporter": "python",
   "pygments_lexer": "ipython3",
   "version": "3.7.7"
  }
 },
 "nbformat": 4,
 "nbformat_minor": 4
}
