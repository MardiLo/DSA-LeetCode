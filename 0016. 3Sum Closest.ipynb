{
 "cells": [
  {
   "cell_type": "markdown",
   "source": [
    "`# Array` `# Sorting` `# Two Pointers`"
   ],
   "metadata": {}
  },
  {
   "cell_type": "markdown",
   "source": [
    "Given an integer array `nums` of length `n` and an integer `target`, find three integers in `nums` such that the sum is *closest* to target.\n",
    "\n",
    "*Return the sum of the three integers*.\n",
    "\n",
    "You may assume that each input would have **exactly one solution**."
   ],
   "metadata": {}
  },
  {
   "cell_type": "markdown",
   "source": [
    "**Example 1:**\n",
    "\n",
    "> Input: nums = [-1,2,1,-4], target = 1  \n",
    "Output: 2  \n",
    "Explanation: The sum that is closest to the target is 2. (-1 + 2 + 1 = 2).  \n",
    "\n",
    "**Example 2**\n",
    "\n",
    "> Input: nums = [0,0,0], target = 1  \n",
    "Output: 0  "
   ],
   "metadata": {}
  },
  {
   "cell_type": "code",
   "execution_count": 3,
   "source": [
    "class Solution:\r\n",
    "    \r\n",
    "    # Time Complexity： O(n^2)\r\n",
    "    # Space Complexity： O(n)\r\n",
    "    def threeSumClosest(self, nums: 'List[int]', target: 'int') -> 'int':\r\n",
    "        nums.sort()    # space complexity: O(n)\r\n",
    "        closestSum = float('inf')\r\n",
    "        \r\n",
    "        for i in range(len(nums)-2):\r\n",
    "            if i > 0 and nums[i] == nums[i-1]:\r\n",
    "                continue\r\n",
    "            \r\n",
    "            l, r = i+1, len(nums)-1\r\n",
    "            while l < r:\r\n",
    "                s = nums[i] + nums[l] + nums[r]\r\n",
    "            \r\n",
    "                if abs(s - target) < abs(closestSum - target):\r\n",
    "                    closestSum = s\r\n",
    "                    \r\n",
    "                if  s < target:\r\n",
    "                    l += 1\r\n",
    "                elif s > target:\r\n",
    "                    r -= 1\r\n",
    "                else:\r\n",
    "                    return target\r\n",
    "                \r\n",
    "        return closestSum\r\n"
   ],
   "outputs": [],
   "metadata": {}
  },
  {
   "cell_type": "code",
   "execution_count": 4,
   "source": [
    "# Test on Cases\r\n",
    "S = Solution()\r\n",
    "\r\n",
    "print(f\"Case 1: {S.threeSumClosest([-1,2,1,-4], 1)}\")\r\n",
    "print(f\"Case 2: {S.threeSumClosest([0,0,0], 1)}\")"
   ],
   "outputs": [
    {
     "output_type": "stream",
     "name": "stdout",
     "text": [
      "Case 1: 2\n",
      "Case 2: 0\n"
     ]
    }
   ],
   "metadata": {}
  },
  {
   "cell_type": "markdown",
   "source": [
    "**Ref**\n",
    "1. [Python O(N^2) solution](https://leetcode.com/problems/3sum-closest/discuss/7871/Python-O(N2)-solution)"
   ],
   "metadata": {}
  }
 ],
 "metadata": {
  "kernelspec": {
   "display_name": "Python 3",
   "language": "python",
   "name": "python3"
  },
  "language_info": {
   "codemirror_mode": {
    "name": "ipython",
    "version": 3
   },
   "file_extension": ".py",
   "mimetype": "text/x-python",
   "name": "python",
   "nbconvert_exporter": "python",
   "pygments_lexer": "ipython3",
   "version": "3.7.7"
  }
 },
 "nbformat": 4,
 "nbformat_minor": 4
}