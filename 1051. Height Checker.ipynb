{
 "cells": [
  {
   "cell_type": "markdown",
   "metadata": {},
   "source": [
    "`# Array` `# Counting Sort` `# Sorting`"
   ]
  },
  {
   "cell_type": "markdown",
   "metadata": {},
   "source": [
    "A school is trying to take an annual photo of all the students. The students are asked to stand in a single file line in **non-decreasing order** by height. Let this ordering be represented by the integer array `expected` where `expected[i]` is the expected height of the $i^{th}$ student in line.\n",
    "\n",
    "You are given an integer array `heights` representing the **current order** that the students are standing in. Each `heights[i]` is the height of the $i^{th}$ student in line **(0-indexed)**.\n",
    "\n",
    "Return *the number of indices where* `heights[i] != expected[i]`."
   ]
  },
  {
   "cell_type": "markdown",
   "metadata": {},
   "source": [
    "**Example 1:**\n",
    "\n",
    "> Input: heights = [1,1,4,2,1,3]  \n",
    "Output: 3  \n",
    "Explanation:   \n",
    "heights:  [1,1,4,2,1,3]  \n",
    "expected: [1,1,1,2,3,4]  \n",
    "Indices 2, 4, and 5 do not match.  \n",
    "\n",
    "**Example 2**\n",
    "\n",
    "> Input: heights = [5,1,2,3,4]  \n",
    "Output: 5  \n",
    "Explanation:  \n",
    "heights:  [5,1,2,3,4]  \n",
    "expected: [1,2,3,4,5]  \n",
    "All indices do not match.  \n",
    "\n",
    "**Example 3:**\n",
    "\n",
    "> Input: heights = [1,2,3,4,5]  \n",
    "Output: 0  \n",
    "Explanation:  \n",
    "heights:  [1,2,3,4,5]  \n",
    "expected: [1,2,3,4,5]  \n",
    "All indices match.  "
   ]
  },
  {
   "cell_type": "code",
   "execution_count": 3,
   "metadata": {},
   "outputs": [],
   "source": [
    "class Solution:\n",
    "    \n",
    "    # Time Complexity： O(nlogn)\n",
    "    # Space Complexity： O(n)\n",
    "    def heightChecker_sort(self, heights: list[int]) -> int:\n",
    "        return sum(x != y for x, y in zip(sorted(heights), heights))\n",
    "\n",
    "    # Time Complexity： O(n)\n",
    "    # Space Complexity： O(n)\n",
    "    def heightChecker_countingSort(self, heights: list[int]) -> int:\n",
    "        from collections import Counter\n",
    "\n",
    "        h, mismatch, cnt = 1, 0, Counter(heights)\n",
    "        \n",
    "        for height in heights:\n",
    "            while not cnt[h]: h += 1\n",
    "            if height != h: mismatch += 1\n",
    "            cnt[h] -= 1\n",
    "        \n",
    "        return mismatch\n",
    "        "
   ]
  },
  {
   "cell_type": "code",
   "execution_count": 4,
   "metadata": {},
   "outputs": [
    {
     "name": "stdout",
     "output_type": "stream",
     "text": [
      "---heightChecker_sort---\n",
      "Case 1: 3\n",
      "Case 2: 5\n",
      "Case 3: 0\n",
      "\n",
      "---heightChecker_countingSort---\n",
      "Case 1: 3\n",
      "Case 2: 5\n",
      "Case 3: 0\n"
     ]
    }
   ],
   "source": [
    "# Test on Cases\n",
    "S = Solution()\n",
    "\n",
    "print(\"---heightChecker_sort---\")\n",
    "print(f\"Case 1: {S.heightChecker_sort([1,1,4,2,1,3])}\")\n",
    "print(f\"Case 2: {S.heightChecker_sort([5,1,2,3,4])}\")\n",
    "print(f\"Case 3: {S.heightChecker_sort([1,2,3,4,5])}\\n\")\n",
    "\n",
    "print(\"---heightChecker_countingSort---\")\n",
    "print(f\"Case 1: {S.heightChecker_countingSort([1,1,4,2,1,3])}\")\n",
    "print(f\"Case 2: {S.heightChecker_countingSort([5,1,2,3,4])}\")\n",
    "print(f\"Case 3: {S.heightChecker_countingSort([1,2,3,4,5])}\")"
   ]
  }
 ],
 "metadata": {
  "kernelspec": {
   "display_name": "Python 3.10.4 ('leetcode')",
   "language": "python",
   "name": "python3"
  },
  "language_info": {
   "codemirror_mode": {
    "name": "ipython",
    "version": 3
   },
   "file_extension": ".py",
   "mimetype": "text/x-python",
   "name": "python",
   "nbconvert_exporter": "python",
   "pygments_lexer": "ipython3",
   "version": "3.10.4"
  },
  "vscode": {
   "interpreter": {
    "hash": "21d8332eb27bea95342760850bd7426f517b6a483537194bbba87e10eeabf6ff"
   }
  }
 },
 "nbformat": 4,
 "nbformat_minor": 4
}
