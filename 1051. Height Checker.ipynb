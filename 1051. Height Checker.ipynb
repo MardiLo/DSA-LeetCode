{
 "cells": [
  {
   "cell_type": "markdown",
   "source": [
    "`# Array` `# Counting Sort` `# Sorting`"
   ],
   "metadata": {}
  },
  {
   "cell_type": "markdown",
   "source": [
    "A school is trying to take an annual photo of all the students. The students are asked to stand in a single file line in **non-decreasing order** by height. Let this ordering be represented by the integer array `expected` where `expected[i]` is the expected height of the $i^{th}$ student in line.\n",
    "\n",
    "You are given an integer array `heights` representing the **current order** that the students are standing in. Each `heights[i]` is the height of the $i^{th}$ student in line **(0-indexed)**.\n",
    "\n",
    "Return *the number of indices where* `heights[i] != expected[i]`."
   ],
   "metadata": {}
  },
  {
   "cell_type": "markdown",
   "source": [
    "**Example 1:**\n",
    "\n",
    "> Input: heights = [1,1,4,2,1,3]  \n",
    "Output: 3  \n",
    "Explanation:   \n",
    "heights:  [1,1,4,2,1,3]  \n",
    "expected: [1,1,1,2,3,4]  \n",
    "Indices 2, 4, and 5 do not match.  \n",
    "\n",
    "**Example 2**\n",
    "\n",
    "> Input: heights = [5,1,2,3,4]  \n",
    "Output: 5  \n",
    "Explanation:  \n",
    "heights:  [5,1,2,3,4]  \n",
    "expected: [1,2,3,4,5]  \n",
    "All indices do not match.  \n",
    "\n",
    "**Example 3:**\n",
    "\n",
    "> Input: heights = [1,2,3,4,5]  \n",
    "Output: 0  \n",
    "Explanation:  \n",
    "heights:  [1,2,3,4,5]  \n",
    "expected: [1,2,3,4,5]  \n",
    "All indices match.  "
   ],
   "metadata": {}
  },
  {
   "cell_type": "code",
   "execution_count": 1,
   "source": [
    "class Solution:\r\n",
    "    \r\n",
    "    # Time Complexity： O(n)\r\n",
    "    # Space Complexity： O(n)\r\n",
    "    def heightChecker(self, heights: 'List[int]') -> 'int':\r\n",
    "        from collections import Counter\r\n",
    "        \r\n",
    "        cnt = Counter(heights)    # SC: O(n)\r\n",
    "        i, ans = 1, 0\r\n",
    "        \r\n",
    "        for h in heights:         # TC: O(n)\r\n",
    "            while not cnt[i]:\r\n",
    "                i += 1\r\n",
    "            if i != h:\r\n",
    "                ans += 1\r\n",
    "            cnt[i] -= 1\r\n",
    "            \r\n",
    "        return ans"
   ],
   "outputs": [],
   "metadata": {}
  },
  {
   "cell_type": "code",
   "execution_count": 2,
   "source": [
    "# Test on Cases\r\n",
    "S = Solution()\r\n",
    "\r\n",
    "print(f\"Case 1: {S.heightChecker([1,1,4,2,1,3])}\")\r\n",
    "print(f\"Case 2: {S.heightChecker([5,1,2,3,4])}\")\r\n",
    "print(f\"Case 3: {S.heightChecker([1,2,3,4,5])}\")"
   ],
   "outputs": [
    {
     "output_type": "stream",
     "name": "stdout",
     "text": [
      "Case 1: 3\n",
      "Case 2: 5\n",
      "Case 3: 0\n"
     ]
    }
   ],
   "metadata": {}
  }
 ],
 "metadata": {
  "kernelspec": {
   "display_name": "Python 3",
   "language": "python",
   "name": "python3"
  },
  "language_info": {
   "codemirror_mode": {
    "name": "ipython",
    "version": 3
   },
   "file_extension": ".py",
   "mimetype": "text/x-python",
   "name": "python",
   "nbconvert_exporter": "python",
   "pygments_lexer": "ipython3",
   "version": "3.7.7"
  }
 },
 "nbformat": 4,
 "nbformat_minor": 4
}