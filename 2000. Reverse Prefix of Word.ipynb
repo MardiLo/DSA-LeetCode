{
 "cells": [
  {
   "cell_type": "markdown",
   "metadata": {},
   "source": [
    "`# String` `# Two Pointers`"
   ]
  },
  {
   "cell_type": "markdown",
   "metadata": {},
   "source": [
    "Given a **0-indexed** string `word` and a character `ch`, **reverse** the segment of `word` that starts at index `0` and ends at the index of the **first occurrence** of `ch` (**inclusive**). If the character `ch` does not exist in `word`, do nothing.\n",
    "\n",
    "For example, if `word = \"abcdefd\"` and `ch = \"d\"`, then you should **reverse** the segment that starts at `0` and ends at `3` (**inclusive**). The resulting string will be `\"dcbaefd\"`.\n",
    "\n",
    "Return *the resulting string.*"
   ]
  },
  {
   "cell_type": "markdown",
   "metadata": {},
   "source": [
    "**Example 1:**\n",
    "\n",
    "> Input: word = \"abcdefd\", ch = \"d\"  \n",
    "> Output: \"dcbaefd\"  \n",
    "> Explanation: The first occurrence of \"d\" is at index 3.   \n",
    "> Reverse the part of word from 0 to 3 (inclusive), the resulting string is \"dcbaefd\".\n",
    "\n",
    "**Example 2**\n",
    "\n",
    "> Input: word = \"xyxzxe\", ch = \"z\"  \n",
    "> Output: \"zxyxxe\"  \n",
    "> Explanation: The first and only occurrence of \"z\" is at index 3.  \n",
    "> Reverse the part of word from 0 to 3 (inclusive), the resulting string is \"zxyxxe\".\n",
    "\n",
    "**Example 3**\n",
    "\n",
    "> Input: word = \"abcd\", ch = \"z\"  \n",
    "> Output: \"abcd\"  \n",
    "> Explanation: \"z\" does not exist in word.  \n",
    "> You should not do any reverse operation, the resulting string is \"abcd\"."
   ]
  },
  {
   "cell_type": "code",
   "execution_count": 1,
   "metadata": {},
   "outputs": [],
   "source": [
    "class Solution:\n",
    "    \n",
    "    # Time Complexity： O(n)\n",
    "    # Space Complexity： O(1)\n",
    "    def reversePrefix(self, word: str, ch: str) -> str:\n",
    "        return word[:(i := word.find(ch)+1)][::-1] + word[i::] "
   ]
  },
  {
   "cell_type": "code",
   "execution_count": 2,
   "metadata": {},
   "outputs": [
    {
     "name": "stdout",
     "output_type": "stream",
     "text": [
      "Case 1: dcbaefd\n",
      "Case 2: zxyxxe\n",
      "Case 3: abcd\n"
     ]
    }
   ],
   "source": [
    "# Test on Cases\n",
    "S = Solution()\n",
    "\n",
    "print(f\"Case 1: {S.reversePrefix('abcdefd', 'd')}\")\n",
    "print(f\"Case 2: {S.reversePrefix('xyxzxe', 'z')}\")\n",
    "print(f\"Case 3: {S.reversePrefix('abcd', 'z')}\")"
   ]
  }
 ],
 "metadata": {
  "kernelspec": {
   "display_name": "Python 3 (ipykernel)",
   "language": "python",
   "name": "python3"
  },
  "language_info": {
   "codemirror_mode": {
    "name": "ipython",
    "version": 3
   },
   "file_extension": ".py",
   "mimetype": "text/x-python",
   "name": "python",
   "nbconvert_exporter": "python",
   "pygments_lexer": "ipython3",
   "version": "3.10.4"
  },
  "vscode": {
   "interpreter": {
    "hash": "21d8332eb27bea95342760850bd7426f517b6a483537194bbba87e10eeabf6ff"
   }
  }
 },
 "nbformat": 4,
 "nbformat_minor": 4
}
