{
 "cells": [
  {
   "cell_type": "markdown",
   "metadata": {},
   "source": [
    "`# Binary Search Tree` `# Binary Tree` `# Depth-First Search` `# Tree`"
   ]
  },
  {
   "cell_type": "markdown",
   "metadata": {},
   "source": [
    "Given the `root` node of a binary search tree and two integers `low` and `high`, return *the sum of values of all nodes with a value in the ***inclusive*** range* `[low, high]`."
   ]
  },
  {
   "cell_type": "markdown",
   "metadata": {},
   "source": [
    "**Example 1:**  \n",
    "![Image of leetcode 0938 problem example 1](https://assets.leetcode.com/uploads/2020/11/05/bst1.jpg)\n",
    "> Input: root = [10,5,15,3,7,null,18], low = 7, high = 15  \n",
    "Output: 32  \n",
    "Explanation: Nodes 7, 10, and 15 are in the range [7, 15]. 7 + 10 + 15 = 32.\n",
    "\n",
    "**Example 2:**  \n",
    "![Image of leetcode 0938 problem example 2](https://assets.leetcode.com/uploads/2020/11/05/bst2.jpg)\n",
    "> Input: root = [10,5,15,3,7,13,18,1,null,6], low = 6, high = 10  \n",
    "Output: 23  \n",
    "Explanation: Nodes 6, 7, and 10 are in the range [6, 10]. 6 + 7 + 10 = 23."
   ]
  },
  {
   "cell_type": "code",
   "execution_count": 21,
   "metadata": {},
   "outputs": [],
   "source": [
    "class TreeNode:\n",
    "    def __init__(self, val=0, left=None, right=None):\n",
    "        self.val = val\n",
    "        self.left = left\n",
    "        self.right = right\n",
    "\n",
    "class Solution:            \n",
    "            \n",
    "    # Time Complexity： O(n)\n",
    "    # Space Complexity： O(h)     \n",
    "    def rangeSumBST_DFS_recursion(self, root: TreeNode, low: int, high: int) -> int:\n",
    "        self.sum = 0\n",
    "        \n",
    "        def dfs(root: TreeNode) -> int:\n",
    "            if not root: return 0\n",
    "            if low <= root.val <= high: self.sum += root.val\n",
    "            if root.val < high: dfs(root.right)\n",
    "            if root.val > low: dfs(root.left)\n",
    "        \n",
    "        dfs(root)\n",
    "        return self.sum\n",
    "\n",
    "    # Time Complexity： O(n)\n",
    "    # Space Complexity： O(h)     \n",
    "    def rangeSumBST_DFS_iteration(self, root: TreeNode, low: int, high: int) -> int:\n",
    "        stack, res = [(0, root)], 0\n",
    "        while stack:\n",
    "            visited, root = stack.pop()\n",
    "            \n",
    "            if root:\n",
    "                if not visited:\n",
    "                    stack.extend([(0, root.right), (1, root), (0, root.left)])\n",
    "                else:\n",
    "                    if low <= root.val <= high: res += root.val\n",
    "        \n",
    "        return res"
   ]
  },
  {
   "cell_type": "code",
   "execution_count": 22,
   "metadata": {},
   "outputs": [
    {
     "name": "stdout",
     "output_type": "stream",
     "text": [
      "---rangeSumBST_DFS_recursion---\n",
      "Case 1: 32\n",
      "Case 2: 23\n",
      "\n",
      "---rangeSumBST_DFS_iteration---\n",
      "Case 1: 32\n",
      "Case 2: 23\n"
     ]
    }
   ],
   "source": [
    "# Test on Cases\n",
    "S = Solution()\n",
    "\n",
    "print(\"---rangeSumBST_DFS_recursion---\")\n",
    "print(f\"Case 1: {S.rangeSumBST_DFS_recursion(TreeNode(10, TreeNode(5, TreeNode(3), TreeNode(7)), TreeNode(15, None, TreeNode(18))), 7, 15)}\")\n",
    "print(f\"Case 2: {S.rangeSumBST_DFS_recursion(TreeNode(10, TreeNode(5, TreeNode(3, TreeNode(1)), TreeNode(7, TreeNode(6))), TreeNode(15, TreeNode(13), TreeNode(18))), 6, 10)}\\n\")\n",
    "\n",
    "print(\"---rangeSumBST_DFS_iteration---\")\n",
    "print(f\"Case 1: {S.rangeSumBST_DFS_iteration(TreeNode(10, TreeNode(5, TreeNode(3), TreeNode(7)), TreeNode(15, None, TreeNode(18))), 7, 15)}\")\n",
    "print(f\"Case 2: {S.rangeSumBST_DFS_iteration(TreeNode(10, TreeNode(5, TreeNode(3, TreeNode(1)), TreeNode(7, TreeNode(6))), TreeNode(15, TreeNode(13), TreeNode(18))), 6, 10)}\")"
   ]
  }
 ],
 "metadata": {
  "kernelspec": {
   "display_name": "Python 3.10.4 ('leetcode')",
   "language": "python",
   "name": "python3"
  },
  "language_info": {
   "codemirror_mode": {
    "name": "ipython",
    "version": 3
   },
   "file_extension": ".py",
   "mimetype": "text/x-python",
   "name": "python",
   "nbconvert_exporter": "python",
   "pygments_lexer": "ipython3",
   "version": "3.10.4"
  },
  "vscode": {
   "interpreter": {
    "hash": "21d8332eb27bea95342760850bd7426f517b6a483537194bbba87e10eeabf6ff"
   }
  }
 },
 "nbformat": 4,
 "nbformat_minor": 4
}
