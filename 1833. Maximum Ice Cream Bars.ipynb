{
 "cells": [
  {
   "attachments": {},
   "cell_type": "markdown",
   "metadata": {},
   "source": [
    "`# Array` `# Greedy` `# Sorting`"
   ]
  },
  {
   "attachments": {},
   "cell_type": "markdown",
   "metadata": {},
   "source": [
    "It is a sweltering summer day, and a boy wants to buy some ice cream bars.\n",
    "\n",
    "At the store, there are `n` ice cream bars. You are given an array `costs` of length `n`, where `costs[i]` is the price of the `i`<sup>`th`</sup> ice cream bar in `coins`. The boy initially has `coins` coins to spend, and he wants to buy as many ice cream bars as possible. \n",
    "\n",
    "Return *the ***maximum*** number of ice cream bars the boy can buy with* `coins` *coins.*\n",
    "\n",
    "Note: The boy can buy the ice cream bars in any order."
   ]
  },
  {
   "attachments": {},
   "cell_type": "markdown",
   "metadata": {},
   "source": [
    "**Example 1:**\n",
    "\n",
    "> Input: costs = [1,3,2,4,1], coins = 7  \n",
    "Output: 4  \n",
    "Explanation: The boy can buy ice cream bars at indices 0,1,2,4 for a total price of 1 + 3 + 2 + 1 = 7.\n",
    "\n",
    "**Example 2**\n",
    "\n",
    "> Input: costs = [10,6,8,7,7,8], coins = 5  \n",
    "Output: 0  \n",
    "Explanation: The boy cannot afford any of the ice cream bars.\n",
    "\n",
    "**Example 3:**\n",
    "\n",
    "> Input: costs = [1,6,3,1,2,5], coins = 20  \n",
    "Output: 6  \n",
    "Explanation: The boy can buy all the ice cream bars for a total price of 1 + 6 + 3 + 1 + 2 + 5 = 18."
   ]
  },
  {
   "cell_type": "code",
   "execution_count": 1,
   "metadata": {},
   "outputs": [],
   "source": [
    "class Solution:\n",
    "    \n",
    "    # Time Complexity： O(nlogn)\n",
    "    # Space Complexity： O(n)\n",
    "    def maxIceCream_sort(self, costs: list[int], coins: int) -> int:\n",
    "        costs.sort(); cnt = 0\n",
    "\n",
    "        for cost in costs:\n",
    "            if coins < cost: break\n",
    "            coins -= cost; cnt += 1\n",
    "        \n",
    "        return cnt\n",
    "\n",
    "    # Time Complexity： O(max(n, max(costs))), where n = len(costs) and 1 <= costs[i] <= 10^5\n",
    "    # Space Complexity： O(max(costs))\n",
    "    def maxIceCream_bucketSort(self, costs: list[int], coins: int) -> int:\n",
    "        cnt, bucket = 0, [0] * (max(costs)+1)\n",
    "\n",
    "        for cost in costs:\n",
    "            bucket[cost] += 1\n",
    "\n",
    "        for cost in range(1, len(bucket)):\n",
    "            while bucket[cost]:\n",
    "                if coins < cost: break\n",
    "                coins -= cost; bucket[cost] -= 1; cnt += 1\n",
    "\n",
    "        return cnt"
   ]
  },
  {
   "cell_type": "code",
   "execution_count": 2,
   "metadata": {},
   "outputs": [
    {
     "name": "stdout",
     "output_type": "stream",
     "text": [
      "---maxIceCream_sort---\n",
      "Case 1: 4\n",
      "Case 2: 0\n",
      "Case 3: 6\n",
      "\n",
      "---maxIceCream_bucketSort---\n",
      "Case 1: 4\n",
      "Case 2: 0\n",
      "Case 3: 6\n"
     ]
    }
   ],
   "source": [
    "# Test on Cases\n",
    "S = Solution()\n",
    "\n",
    "print(\"---maxIceCream_sort---\")\n",
    "print(f\"Case 1: {S.maxIceCream_sort([1,3,2,4,1], 7)}\")\n",
    "print(f\"Case 2: {S.maxIceCream_sort([10,6,8,7,7,8], 5)}\")\n",
    "print(f\"Case 3: {S.maxIceCream_sort([1,6,3,1,2,5], 20)}\\n\")\n",
    "\n",
    "print(\"---maxIceCream_bucketSort---\")\n",
    "print(f\"Case 1: {S.maxIceCream_bucketSort([1,3,2,4,1], 7)}\")\n",
    "print(f\"Case 2: {S.maxIceCream_bucketSort([10,6,8,7,7,8], 5)}\")\n",
    "print(f\"Case 3: {S.maxIceCream_bucketSort([1,6,3,1,2,5], 20)}\")"
   ]
  }
 ],
 "metadata": {
  "kernelspec": {
   "display_name": "Python 3.10.4 ('leetcode')",
   "language": "python",
   "name": "python3"
  },
  "language_info": {
   "codemirror_mode": {
    "name": "ipython",
    "version": 3
   },
   "file_extension": ".py",
   "mimetype": "text/x-python",
   "name": "python",
   "nbconvert_exporter": "python",
   "pygments_lexer": "ipython3",
   "version": "3.10.4 | packaged by conda-forge | (main, Mar 30 2022, 08:38:02) [MSC v.1916 64 bit (AMD64)]"
  },
  "vscode": {
   "interpreter": {
    "hash": "21d8332eb27bea95342760850bd7426f517b6a483537194bbba87e10eeabf6ff"
   }
  }
 },
 "nbformat": 4,
 "nbformat_minor": 4
}
