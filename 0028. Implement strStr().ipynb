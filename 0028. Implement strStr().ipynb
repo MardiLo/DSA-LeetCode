{
 "cells": [
  {
   "cell_type": "markdown",
   "metadata": {},
   "source": [
    "`# Two Pointers` `# String`"
   ]
  },
  {
   "cell_type": "markdown",
   "metadata": {},
   "source": [
    "Implement `strStr()`.\n",
    "\n",
    "Return the index of the first occurrence of needle in haystack, or `-1` if `needle` *is not part of* `haystack`.\n",
    "\n",
    "Clarification:\n",
    "\n",
    "What should we return when `needle` is an empty string? This is a great question to ask during an interview.\n",
    "\n",
    "For the purpose of this problem, we will return `0` when `needle` is an empty string. This is consistent to C's *strstr()* and Java's *indexOf()*."
   ]
  },
  {
   "cell_type": "markdown",
   "metadata": {},
   "source": [
    "**Example 1:**\n",
    "\n",
    "> Input: haystack = \"hello\", needle = \"ll\"  \n",
    "Output: 2\n",
    "\n",
    "**Example 2:**\n",
    "\n",
    "> Input: haystack = \"aaaaa\", needle = \"bba\"  \n",
    "Output: -1\n",
    "\n",
    "**Example 3:**\n",
    "\n",
    "> Input: haystack = \"\", needle = \"\"  \n",
    "Output: 0"
   ]
  },
  {
   "cell_type": "code",
   "execution_count": 5,
   "metadata": {},
   "outputs": [],
   "source": [
    "class Solution:\n",
    "    \n",
    "    # Time Complexity： O(m*(n-m+1)), where m=len(needle); n=len(haystack)\n",
    "    # Space Complexity： O(m)\n",
    "    def strStr_bruteForce(self, haystack: 'str', needle: 'str') -> 'int':\n",
    "        if not needle:\n",
    "            return 0\n",
    "        \n",
    "        for i in range(len(haystack)-len(needle)+1):\n",
    "            if haystack[i:i+len(needle)] == needle:\n",
    "                return i\n",
    "        return -1"
   ]
  },
  {
   "cell_type": "code",
   "execution_count": 6,
   "metadata": {},
   "outputs": [
    {
     "name": "stdout",
     "output_type": "stream",
     "text": [
      "---strStr_bruteForce---\n",
      "Case 1: 2\n",
      "Case 2: -1\n",
      "Case 2: 0\n",
      "\n"
     ]
    }
   ],
   "source": [
    "# Test on Cases\n",
    "S = Solution()\n",
    "\n",
    "print(\"---strStr_bruteForce---\")\n",
    "print(f\"Case 1: {S.strStr_bruteForce(haystack='hello', needle='ll')}\")\n",
    "print(f\"Case 2: {S.strStr_bruteForce(haystack='aaaaa', needle='bba')}\")\n",
    "print(f\"Case 3: {S.strStr_bruteForce(haystack='', needle='')}\\n\")"
   ]
  },
  {
   "cell_type": "code",
   "execution_count": null,
   "metadata": {},
   "outputs": [],
   "source": []
  }
 ],
 "metadata": {
  "kernelspec": {
   "display_name": "Python 3",
   "language": "python",
   "name": "python3"
  },
  "language_info": {
   "codemirror_mode": {
    "name": "ipython",
    "version": 3
   },
   "file_extension": ".py",
   "mimetype": "text/x-python",
   "name": "python",
   "nbconvert_exporter": "python",
   "pygments_lexer": "ipython3",
   "version": "3.7.7"
  }
 },
 "nbformat": 4,
 "nbformat_minor": 4
}
