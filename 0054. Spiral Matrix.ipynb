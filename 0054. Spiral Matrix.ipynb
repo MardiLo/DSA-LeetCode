{
 "cells": [
  {
   "cell_type": "markdown",
   "metadata": {},
   "source": [
    "`# Array` `# Matrix` `# Simulation`"
   ]
  },
  {
   "cell_type": "markdown",
   "metadata": {},
   "source": [
    "Given an `m x n` matrix, return all elements of the `matrix` in spiral order."
   ]
  },
  {
   "cell_type": "markdown",
   "metadata": {},
   "source": [
    "**Example 1:**  \n",
    "![Image of leetcode 0054 problem example 1](https://assets.leetcode.com/uploads/2020/11/13/spiral1.jpg)\n",
    "> Input: matrix = [[1,2,3],[4,5,6],[7,8,9]]  \n",
    "Output: [1,2,3,6,9,8,7,4,5]  \n",
    "\n",
    "**Example 2:**  \n",
    "![Image of leetcode 0054 problem example 2](https://assets.leetcode.com/uploads/2020/11/13/spiral.jpg)\n",
    "> Input: matrix = [[1,2,3,4],[5,6,7,8],[9,10,11,12]]  \n",
    "Output: [1,2,3,4,8,12,11,10,9,5,6,7]"
   ]
  },
  {
   "cell_type": "code",
   "execution_count": 5,
   "metadata": {},
   "outputs": [],
   "source": [
    "class Solution:\n",
    "    \n",
    "    # Time Complexity： O(mn)\n",
    "    # Space Complexity： O(mn)      \n",
    "    def spiralOrder(self, matrix: list[list[int]]) -> list[int]:\n",
    "        res = []\n",
    "\n",
    "        while matrix:\n",
    "            # get first row\n",
    "            res += matrix.pop(0)\n",
    "\n",
    "            # pass down the rest rows and get the last element for each row. check matrix[0] is not none for avoiding pop error\n",
    "            if matrix and matrix[0]:\n",
    "                for row in matrix:\n",
    "                    res.append(row.pop())\n",
    "            \n",
    "            # get the last row\n",
    "            if matrix:\n",
    "                res += matrix.pop()[::-1]\n",
    "            \n",
    "            # pass up the rest rows and get the first element for each row. check matrix[0] is not none for avoiding pop error\n",
    "            if matrix and matrix[0]:\n",
    "                for row in matrix[::-1]:\n",
    "                    res.append(row.pop(0))\n",
    "\n",
    "        return res"
   ]
  },
  {
   "cell_type": "code",
   "execution_count": 6,
   "metadata": {},
   "outputs": [
    {
     "name": "stdout",
     "output_type": "stream",
     "text": [
      "Case 1: [1, 2, 3, 6, 9, 8, 7, 4, 5]\n",
      "Case 2: [1, 2, 3, 4, 8, 12, 11, 10, 9, 5, 6, 7]\n"
     ]
    }
   ],
   "source": [
    "# Test on Cases\n",
    "S = Solution()\n",
    "\n",
    "print(f\"Case 1: {S.spiralOrder([[1,2,3],[4,5,6],[7,8,9]])}\")\n",
    "print(f\"Case 2: {S.spiralOrder([[1,2,3,4],[5,6,7,8],[9,10,11,12]])}\")"
   ]
  }
 ],
 "metadata": {
  "kernelspec": {
   "display_name": "Python 3.10.4 ('leetcode')",
   "language": "python",
   "name": "python3"
  },
  "language_info": {
   "codemirror_mode": {
    "name": "ipython",
    "version": 3
   },
   "file_extension": ".py",
   "mimetype": "text/x-python",
   "name": "python",
   "nbconvert_exporter": "python",
   "pygments_lexer": "ipython3",
   "version": "3.10.4"
  },
  "vscode": {
   "interpreter": {
    "hash": "21d8332eb27bea95342760850bd7426f517b6a483537194bbba87e10eeabf6ff"
   }
  }
 },
 "nbformat": 4,
 "nbformat_minor": 4
}
