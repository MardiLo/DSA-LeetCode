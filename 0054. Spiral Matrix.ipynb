{
 "cells": [
  {
   "cell_type": "markdown",
   "source": [
    "`# Array` `# Matrix` `# Simulation`"
   ],
   "metadata": {}
  },
  {
   "cell_type": "markdown",
   "source": [
    "Given an `m x n` matrix, return all elements of the `matrix` in spiral order."
   ],
   "metadata": {}
  },
  {
   "cell_type": "markdown",
   "source": [
    "**Example 1:**  \r\n",
    "![Image of leetcode 0054 problem example 1](https://assets.leetcode.com/uploads/2020/11/13/spiral1.jpg)\r\n",
    "> Input: matrix = [[1,2,3],[4,5,6],[7,8,9]]  \r\n",
    "Output: [1,2,3,6,9,8,7,4,5]  \r\n",
    "\r\n",
    "**Example 2:**  \r\n",
    "![Image of leetcode 0054 problem example 2](https://assets.leetcode.com/uploads/2020/11/13/spiral.jpg)\r\n",
    "> Input: matrix = [[1,2,3,4],[5,6,7,8],[9,10,11,12]]  \r\n",
    "Output: [1,2,3,4,8,12,11,10,9,5,6,7]"
   ],
   "metadata": {}
  },
  {
   "cell_type": "code",
   "execution_count": 1,
   "source": [
    "class Solution:\r\n",
    "    \r\n",
    "    # Time Complexity： O(mn)\r\n",
    "    # Space Complexity： O(mn)      \r\n",
    "    def spiralOrder(self, matrix: 'List[List[int]]') -> 'List[int]':\r\n",
    "        res = []\r\n",
    "\r\n",
    "        while matrix:\r\n",
    "            res += matrix.pop(0)\r\n",
    "            if matrix and matrix[0]:\r\n",
    "                for row in matrix:\r\n",
    "                    res.append(row.pop())\r\n",
    "                    \r\n",
    "            if matrix:\r\n",
    "                res += matrix.pop()[::-1]\r\n",
    "                \r\n",
    "            if matrix and matrix[0]:\r\n",
    "                for row in matrix[::-1]:\r\n",
    "                    res.append(row.pop(0))\r\n",
    "        return res"
   ],
   "outputs": [],
   "metadata": {}
  },
  {
   "cell_type": "code",
   "execution_count": 2,
   "source": [
    "# Test on Cases\r\n",
    "S = Solution()\r\n",
    "\r\n",
    "print(f\"Case 1: {S.spiralOrder([[1,2,3],[4,5,6],[7,8,9]])}\")\r\n",
    "print(f\"Case 2: {S.spiralOrder([[1,2,3,4],[5,6,7,8],[9,10,11,12]])}\")"
   ],
   "outputs": [
    {
     "output_type": "stream",
     "name": "stdout",
     "text": [
      "Case 1: [1, 2, 3, 6, 9, 8, 7, 4, 5]\n",
      "Case 2: [1, 2, 3, 4, 8, 12, 11, 10, 9, 5, 6, 7]\n"
     ]
    }
   ],
   "metadata": {}
  }
 ],
 "metadata": {
  "kernelspec": {
   "display_name": "Python 3",
   "language": "python",
   "name": "python3"
  },
  "language_info": {
   "codemirror_mode": {
    "name": "ipython",
    "version": 3
   },
   "file_extension": ".py",
   "mimetype": "text/x-python",
   "name": "python",
   "nbconvert_exporter": "python",
   "pygments_lexer": "ipython3",
   "version": "3.7.7"
  }
 },
 "nbformat": 4,
 "nbformat_minor": 4
}