{
 "cells": [
  {
   "cell_type": "markdown",
   "metadata": {},
   "source": [
    "`# Backtracking` `# Dynamic Programming` `# String`"
   ]
  },
  {
   "cell_type": "markdown",
   "metadata": {},
   "source": [
    "Given `n` pairs of parentheses, write a function to generate all combinations of well-formed parentheses."
   ]
  },
  {
   "cell_type": "markdown",
   "metadata": {},
   "source": [
    "**Example 1:**\n",
    "\n",
    "> Input: n = 3  \n",
    "Output: [\"((()))\",\"(()())\",\"(())()\",\"()(())\",\"()()()\"]  \n",
    "\n",
    "**Example 2**\n",
    "\n",
    "> Input: n = 1  \n",
    "Output: [\"()\"]  "
   ]
  },
  {
   "cell_type": "code",
   "execution_count": 3,
   "metadata": {},
   "outputs": [],
   "source": [
    "class Solution:\n",
    "    \n",
    "    # Time Complexity： O(2^n)\n",
    "    # Space Complexity： O(n)\n",
    "    def generateParenthesis(self, n: 'int') -> 'List[str]':\n",
    "        def dfs(leftRemain: 'int', rightRemain: 'int', path: 'str', res: 'List[str]') -> 'None':\n",
    "            if leftRemain > rightRemain or leftRemain < 0 or rightRemain < 0:\n",
    "                return\n",
    "            if leftRemain == 0 and rightRemain == 0:\n",
    "                res.append(path)\n",
    "                return\n",
    "            if leftRemain:\n",
    "                dfs(leftRemain-1, rightRemain, path+'(', res)\n",
    "            if rightRemain:\n",
    "                dfs(leftRemain, rightRemain-1, path+')', res)\n",
    "        \n",
    "        res = []\n",
    "        dfs(n, n, '', res)\n",
    "        return res"
   ]
  },
  {
   "cell_type": "code",
   "execution_count": 4,
   "metadata": {},
   "outputs": [
    {
     "name": "stdout",
     "output_type": "stream",
     "text": [
      "Case 1: ['((()))', '(()())', '(())()', '()(())', '()()()']\n",
      "Case 2: ['()']\n"
     ]
    }
   ],
   "source": [
    "# Test on Cases\n",
    "S = Solution()\n",
    "\n",
    "print(f\"Case 1: {S.generateParenthesis(3)}\")\n",
    "print(f\"Case 2: {S.generateParenthesis(1)}\")"
   ]
  },
  {
   "cell_type": "markdown",
   "metadata": {},
   "source": [
    "**Ref**\n",
    "1. [Python easy to understand dfs solution.](https://leetcode.com/problems/generate-parentheses/discuss/10388/Python-easy-to-understand-dfs-solution.)"
   ]
  },
  {
   "cell_type": "code",
   "execution_count": null,
   "metadata": {},
   "outputs": [],
   "source": []
  }
 ],
 "metadata": {
  "kernelspec": {
   "display_name": "Python 3",
   "language": "python",
   "name": "python3"
  },
  "language_info": {
   "codemirror_mode": {
    "name": "ipython",
    "version": 3
   },
   "file_extension": ".py",
   "mimetype": "text/x-python",
   "name": "python",
   "nbconvert_exporter": "python",
   "pygments_lexer": "ipython3",
   "version": "3.7.7"
  }
 },
 "nbformat": 4,
 "nbformat_minor": 4
}
