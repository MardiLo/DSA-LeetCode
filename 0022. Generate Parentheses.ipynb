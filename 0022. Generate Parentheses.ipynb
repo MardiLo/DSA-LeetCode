{
 "cells": [
  {
   "cell_type": "markdown",
   "source": [
    "`# Backtracking` `# Dynamic Programming` `# String`"
   ],
   "metadata": {}
  },
  {
   "cell_type": "markdown",
   "source": [
    "Given `n` pairs of parentheses, write a function to generate all combinations of well-formed parentheses."
   ],
   "metadata": {}
  },
  {
   "cell_type": "markdown",
   "source": [
    "**Example 1:**\n",
    "\n",
    "> Input: n = 3  \n",
    "Output: [\"((()))\",\"(()())\",\"(())()\",\"()(())\",\"()()()\"]  \n",
    "\n",
    "**Example 2**\n",
    "\n",
    "> Input: n = 1  \n",
    "Output: [\"()\"]  "
   ],
   "metadata": {}
  },
  {
   "cell_type": "code",
   "execution_count": 3,
   "source": [
    "class Solution:\r\n",
    "    \r\n",
    "    # Time Complexity： O(2^n)\r\n",
    "    # Space Complexity： O(n)\r\n",
    "    def generateParenthesis(self, n: 'int') -> 'List[str]':\r\n",
    "        def dfs(leftRemain: 'int', rightRemain: 'int', path: 'str', res: 'List[str]') -> 'None':\r\n",
    "            if leftRemain > rightRemain or leftRemain < 0 or rightRemain < 0:\r\n",
    "                return\r\n",
    "            if leftRemain == 0 and rightRemain == 0:\r\n",
    "                res.append(path)\r\n",
    "                return\r\n",
    "            if leftRemain:\r\n",
    "                dfs(leftRemain-1, rightRemain, path+'(', res)\r\n",
    "            if rightRemain:\r\n",
    "                dfs(leftRemain, rightRemain-1, path+')', res)\r\n",
    "        \r\n",
    "        res = []\r\n",
    "        dfs(n, n, '', res)\r\n",
    "        return res"
   ],
   "outputs": [],
   "metadata": {}
  },
  {
   "cell_type": "code",
   "execution_count": 4,
   "source": [
    "# Test on Cases\r\n",
    "S = Solution()\r\n",
    "\r\n",
    "print(f\"Case 1: {S.generateParenthesis(3)}\")\r\n",
    "print(f\"Case 2: {S.generateParenthesis(1)}\")"
   ],
   "outputs": [
    {
     "output_type": "stream",
     "name": "stdout",
     "text": [
      "Case 1: ['((()))', '(()())', '(())()', '()(())', '()()()']\n",
      "Case 2: ['()']\n"
     ]
    }
   ],
   "metadata": {}
  },
  {
   "cell_type": "markdown",
   "source": [
    "**Ref**\n",
    "1. [Python easy to understand dfs solution.](https://leetcode.com/problems/generate-parentheses/discuss/10388/Python-easy-to-understand-dfs-solution.)"
   ],
   "metadata": {}
  }
 ],
 "metadata": {
  "kernelspec": {
   "display_name": "Python 3",
   "language": "python",
   "name": "python3"
  },
  "language_info": {
   "codemirror_mode": {
    "name": "ipython",
    "version": 3
   },
   "file_extension": ".py",
   "mimetype": "text/x-python",
   "name": "python",
   "nbconvert_exporter": "python",
   "pygments_lexer": "ipython3",
   "version": "3.7.7"
  }
 },
 "nbformat": 4,
 "nbformat_minor": 4
}