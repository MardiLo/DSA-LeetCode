{
 "cells": [
  {
   "cell_type": "markdown",
   "metadata": {},
   "source": [
    "`# Array` `# Dynamic Programming`"
   ]
  },
  {
   "cell_type": "markdown",
   "metadata": {},
   "source": [
    "Given an integer `rowIndex`, return the `rowIndex`<sup>`th`</sup> (**0-indexed**) row of the **Pascal's triangle**.\n",
    "\n",
    "In **Pascal's triangle**, each number is the sum of the two numbers directly above it as shown:\n",
    "\n",
    "![Pascal Triangle](https://upload.wikimedia.org/wikipedia/commons/0/0d/PascalTriangleAnimated2.gif)"
   ]
  },
  {
   "cell_type": "markdown",
   "metadata": {},
   "source": [
    "**Example 1:**\n",
    "\n",
    "> Input: rowIndex = 3  \n",
    "Output: [1,3,3,1]  \n",
    "\n",
    "**Example 2:**\n",
    "\n",
    "> Input: rowIndex = 0  \n",
    "Output: [1]  \n",
    "\n",
    "**Example 3:**  \n",
    "\n",
    "> Input: rowIndex = 1  \n",
    "Output: [1,1]  "
   ]
  },
  {
   "cell_type": "code",
   "execution_count": 1,
   "metadata": {},
   "outputs": [],
   "source": [
    "class Solution:\n",
    "    \n",
    "    # Time Complexity： O(n^2)\n",
    "    # Space Complexity： O(n^2)\n",
    "    def getRow(self, rowIndex: int) -> list[int]:\n",
    "        pascal = [[1] * (i+1) for i in range(rowIndex+1)]\n",
    "        \n",
    "        for i in range(2, rowIndex+1):\n",
    "            for j in range(1, i):\n",
    "                pascal[i][j] = pascal[i-1][j-1] + pascal[i-1][j]\n",
    "        \n",
    "        return pascal[-1]"
   ]
  },
  {
   "cell_type": "code",
   "execution_count": 2,
   "metadata": {},
   "outputs": [
    {
     "name": "stdout",
     "output_type": "stream",
     "text": [
      "Case 1: [1, 3, 3, 1]\n",
      "Case 2: [1]\n",
      "Case 3: [1, 1]\n"
     ]
    }
   ],
   "source": [
    "# Test on Cases\n",
    "S = Solution()\n",
    "\n",
    "print(f\"Case 1: {S.getRow(3)}\")\n",
    "print(f\"Case 2: {S.getRow(0)}\")\n",
    "print(f\"Case 3: {S.getRow(1)}\")"
   ]
  }
 ],
 "metadata": {
  "interpreter": {
   "hash": "21d8332eb27bea95342760850bd7426f517b6a483537194bbba87e10eeabf6ff"
  },
  "kernelspec": {
   "display_name": "Python 3.10.4 ('leetcode')",
   "language": "python",
   "name": "python3"
  },
  "language_info": {
   "codemirror_mode": {
    "name": "ipython",
    "version": 3
   },
   "file_extension": ".py",
   "mimetype": "text/x-python",
   "name": "python",
   "nbconvert_exporter": "python",
   "pygments_lexer": "ipython3",
   "version": "3.10.4"
  }
 },
 "nbformat": 4,
 "nbformat_minor": 4
}
