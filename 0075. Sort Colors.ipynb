{
 "cells": [
  {
   "cell_type": "markdown",
   "metadata": {},
   "source": [
    "`# Array` `# Two Pointers` `# Sorting`"
   ]
  },
  {
   "cell_type": "markdown",
   "metadata": {},
   "source": [
    "Given an array `nums` with `n` objects colored red, white, or blue, sort them **in-place** so that objects of the same color are adjacent, with the colors in the order red, white, and blue.\n",
    "\n",
    "We will use the integers `0`, `1`, and `2` to represent the color red, white, and blue, respectively.\n",
    "\n",
    "You must solve this problem without using the library's sort function."
   ]
  },
  {
   "cell_type": "markdown",
   "metadata": {},
   "source": [
    "**Example 1:**\n",
    "\n",
    "> Input: nums = [2,0,2,1,1,0]  \n",
    "Output: [0,0,1,1,2,2]  \n",
    "\n",
    "**Example 2:**\n",
    "\n",
    "> Input: nums = [2,0,1]    \n",
    "Output: [0,1,2]  \n",
    "\n",
    "**Example 3:**\n",
    "\n",
    "> Input: nums = [0]  \n",
    "Output: [0]  \n",
    "\n",
    "**Example 4:**\n",
    "\n",
    "> Input: nums = [1]  \n",
    "Output: [1]  "
   ]
  },
  {
   "cell_type": "code",
   "execution_count": 1,
   "metadata": {},
   "outputs": [],
   "source": [
    "class Solution:\n",
    "    \n",
    "    # Time Complexity： O(n)\n",
    "    # Space Complexity： O(1) \n",
    "    def sortColors(self, nums: list[int]) -> None:\n",
    "        \"\"\"\n",
    "        Do not return anything, modify nums in-place instead.\n",
    "        \"\"\"\n",
    "        l, mid, r = 0, 0, len(nums)-1\n",
    "        \n",
    "        while mid <= r:\n",
    "            if nums[mid] == 0:\n",
    "                nums[l], nums[mid] = nums[mid], nums[l]\n",
    "                l += 1; mid += 1\n",
    "            elif nums[mid] == 2:\n",
    "                nums[r], nums[mid] = nums[mid], nums[r]\n",
    "                r -= 1\n",
    "            else:\n",
    "                mid += 1\n",
    "        \n",
    "        return nums"
   ]
  },
  {
   "cell_type": "code",
   "execution_count": 2,
   "metadata": {},
   "outputs": [
    {
     "name": "stdout",
     "output_type": "stream",
     "text": [
      "Case 1: [0, 0, 1, 1, 2, 2]\n",
      "Case 2: [0, 1, 2]\n",
      "Case 3: [0]\n",
      "Case 4: [1]\n"
     ]
    }
   ],
   "source": [
    "# Test on Cases\n",
    "S = Solution()\n",
    "\n",
    "print(f\"Case 1: {S.sortColors([2,0,2,1,1,0])}\")\n",
    "print(f\"Case 2: {S.sortColors([2,0,1])}\")\n",
    "print(f\"Case 3: {S.sortColors([0])}\")\n",
    "print(f\"Case 4: {S.sortColors([1])}\")"
   ]
  }
 ],
 "metadata": {
  "interpreter": {
   "hash": "21d8332eb27bea95342760850bd7426f517b6a483537194bbba87e10eeabf6ff"
  },
  "kernelspec": {
   "display_name": "Python 3.10.4 ('leetcode')",
   "language": "python",
   "name": "python3"
  },
  "language_info": {
   "codemirror_mode": {
    "name": "ipython",
    "version": 3
   },
   "file_extension": ".py",
   "mimetype": "text/x-python",
   "name": "python",
   "nbconvert_exporter": "python",
   "pygments_lexer": "ipython3",
   "version": "3.10.4"
  }
 },
 "nbformat": 4,
 "nbformat_minor": 4
}
