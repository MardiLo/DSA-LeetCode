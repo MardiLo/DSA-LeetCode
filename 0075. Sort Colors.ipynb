{
 "cells": [
  {
   "cell_type": "markdown",
   "metadata": {},
   "source": [
    "`# Array` `# Two Pointers` `# Sorting`"
   ]
  },
  {
   "cell_type": "markdown",
   "metadata": {},
   "source": [
    "Given an array `nums` with `n` objects colored red, white, or blue, sort them **in-place** so that objects of the same color are adjacent, with the colors in the order red, white, and blue.\n",
    "\n",
    "We will use the integers `0`, `1`, and `2` to represent the color red, white, and blue, respectively.\n",
    "\n",
    "You must solve this problem without using the library's sort function."
   ]
  },
  {
   "cell_type": "markdown",
   "metadata": {},
   "source": [
    "**Example 1:**\n",
    "\n",
    "> Input: nums = [2,0,2,1,1,0]  \n",
    "Output: [0,0,1,1,2,2]  \n",
    "\n",
    "**Example 2:**\n",
    "\n",
    "> Input: nums = [2,0,1]    \n",
    "Output: [0,1,2]  \n",
    "\n",
    "**Example 3:**\n",
    "\n",
    "> Input: nums = [0]  \n",
    "Output: [0]  \n",
    "\n",
    "**Example 4:**\n",
    "\n",
    "> Input: nums = [1]  \n",
    "Output: [1]  "
   ]
  },
  {
   "cell_type": "code",
   "execution_count": 4,
   "metadata": {},
   "outputs": [],
   "source": [
    "class Solution:\n",
    "    \n",
    "    # Time Complexity： O(n)\n",
    "    # Space Complexity： O(1) \n",
    "    def sortColors(self, nums: 'List[int]') -> 'None':\n",
    "        \"\"\"\n",
    "        Do not return anything, modify nums in-place instead.\n",
    "        \"\"\"\n",
    "        beg, mid, end = 0, 0, len(nums)-1\n",
    "        \n",
    "        while mid <= end:\n",
    "            if nums[mid] == 0:\n",
    "                nums[beg], nums[mid] = nums[mid], nums[beg]\n",
    "                mid += 1\n",
    "                beg += 1\n",
    "            elif nums[mid] == 2:\n",
    "                nums[end], nums[mid] = nums[mid], nums[end]\n",
    "                end -= 1\n",
    "            else:\n",
    "                mid += 1\n",
    "                \n",
    "    def returnSortColors(self, nums):\n",
    "        self.sortColors(nums)\n",
    "        \n",
    "        return nums"
   ]
  },
  {
   "cell_type": "code",
   "execution_count": 5,
   "metadata": {},
   "outputs": [
    {
     "name": "stdout",
     "output_type": "stream",
     "text": [
      "Case 1: [0, 0, 1, 1, 2, 2]\n",
      "Case 2: [0, 1, 2]\n",
      "Case 3: [0]\n",
      "Case 4: [1]\n"
     ]
    }
   ],
   "source": [
    "# Test on Cases\n",
    "S = Solution()\n",
    "\n",
    "print(f\"Case 1: {S.returnSortColors([2,0,2,1,1,0])}\")\n",
    "print(f\"Case 2: {S.returnSortColors([2,0,1])}\")\n",
    "print(f\"Case 3: {S.returnSortColors([0])}\")\n",
    "print(f\"Case 4: {S.returnSortColors([1])}\")"
   ]
  },
  {
   "cell_type": "code",
   "execution_count": null,
   "metadata": {},
   "outputs": [],
   "source": []
  }
 ],
 "metadata": {
  "kernelspec": {
   "display_name": "Python 3",
   "language": "python",
   "name": "python3"
  },
  "language_info": {
   "codemirror_mode": {
    "name": "ipython",
    "version": 3
   },
   "file_extension": ".py",
   "mimetype": "text/x-python",
   "name": "python",
   "nbconvert_exporter": "python",
   "pygments_lexer": "ipython3",
   "version": "3.7.7"
  }
 },
 "nbformat": 4,
 "nbformat_minor": 4
}
