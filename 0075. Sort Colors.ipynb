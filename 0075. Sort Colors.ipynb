{
 "cells": [
  {
   "cell_type": "markdown",
   "source": [
    "`# Array` `# Two Pointers` `# Sorting`"
   ],
   "metadata": {}
  },
  {
   "cell_type": "markdown",
   "source": [
    "Given an array `nums` with `n` objects colored red, white, or blue, sort them **in-place** so that objects of the same color are adjacent, with the colors in the order red, white, and blue.\n",
    "\n",
    "We will use the integers `0`, `1`, and `2` to represent the color red, white, and blue, respectively.\n",
    "\n",
    "You must solve this problem without using the library's sort function."
   ],
   "metadata": {}
  },
  {
   "cell_type": "markdown",
   "source": [
    "**Example 1:**\n",
    "\n",
    "> Input: nums = [2,0,2,1,1,0]  \n",
    "Output: [0,0,1,1,2,2]  \n",
    "\n",
    "**Example 2:**\n",
    "\n",
    "> Input: nums = [2,0,1]    \n",
    "Output: [0,1,2]  \n",
    "\n",
    "**Example 3:**\n",
    "\n",
    "> Input: nums = [0]  \n",
    "Output: [0]  \n",
    "\n",
    "**Example 4:**\n",
    "\n",
    "> Input: nums = [1]  \n",
    "Output: [1]  "
   ],
   "metadata": {}
  },
  {
   "cell_type": "code",
   "execution_count": 4,
   "source": [
    "class Solution:\r\n",
    "    \r\n",
    "    # Time Complexity： O(n)\r\n",
    "    # Space Complexity： O(1) \r\n",
    "    def sortColors(self, nums: 'List[int]') -> 'None':\r\n",
    "        \"\"\"\r\n",
    "        Do not return anything, modify nums in-place instead.\r\n",
    "        \"\"\"\r\n",
    "        beg, mid, end = 0, 0, len(nums)-1\r\n",
    "        \r\n",
    "        while mid <= end:\r\n",
    "            if nums[mid] == 0:\r\n",
    "                nums[beg], nums[mid] = nums[mid], nums[beg]\r\n",
    "                mid += 1\r\n",
    "                beg += 1\r\n",
    "            elif nums[mid] == 2:\r\n",
    "                nums[end], nums[mid] = nums[mid], nums[end]\r\n",
    "                end -= 1\r\n",
    "            else:\r\n",
    "                mid += 1\r\n",
    "                \r\n",
    "    def returnSortColors(self, nums):\r\n",
    "        self.sortColors(nums)\r\n",
    "        \r\n",
    "        return nums"
   ],
   "outputs": [],
   "metadata": {}
  },
  {
   "cell_type": "code",
   "execution_count": 5,
   "source": [
    "# Test on Cases\r\n",
    "S = Solution()\r\n",
    "\r\n",
    "print(f\"Case 1: {S.returnSortColors([2,0,2,1,1,0])}\")\r\n",
    "print(f\"Case 2: {S.returnSortColors([2,0,1])}\")\r\n",
    "print(f\"Case 3: {S.returnSortColors([0])}\")\r\n",
    "print(f\"Case 4: {S.returnSortColors([1])}\")"
   ],
   "outputs": [
    {
     "output_type": "stream",
     "name": "stdout",
     "text": [
      "Case 1: [0, 0, 1, 1, 2, 2]\n",
      "Case 2: [0, 1, 2]\n",
      "Case 3: [0]\n",
      "Case 4: [1]\n"
     ]
    }
   ],
   "metadata": {}
  }
 ],
 "metadata": {
  "kernelspec": {
   "display_name": "Python 3",
   "language": "python",
   "name": "python3"
  },
  "language_info": {
   "codemirror_mode": {
    "name": "ipython",
    "version": 3
   },
   "file_extension": ".py",
   "mimetype": "text/x-python",
   "name": "python",
   "nbconvert_exporter": "python",
   "pygments_lexer": "ipython3",
   "version": "3.7.7"
  }
 },
 "nbformat": 4,
 "nbformat_minor": 4
}