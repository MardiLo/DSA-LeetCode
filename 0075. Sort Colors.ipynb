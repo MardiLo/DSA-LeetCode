{
 "cells": [
  {
   "cell_type": "markdown",
   "metadata": {},
   "source": [
    "`# Array` `# Two Pointers` `# Sorting`"
   ]
  },
  {
   "cell_type": "markdown",
   "metadata": {},
   "source": [
    "Given an array `nums` with `n` objects colored red, white, or blue, sort them **in-place** so that objects of the same color are adjacent, with the colors in the order red, white, and blue.\n",
    "\n",
    "We will use the integers `0`, `1`, and `2` to represent the color red, white, and blue, respectively.\n",
    "\n",
    "You must solve this problem without using the library's sort function."
   ]
  },
  {
   "cell_type": "markdown",
   "metadata": {},
   "source": [
    "**Example 1:**\n",
    "\n",
    "> Input: nums = [2,0,2,1,1,0]  \n",
    "> Output: [0,0,1,1,2,2]  \n",
    "\n",
    "**Example 2:**\n",
    "\n",
    "> Input: nums = [2,0,1]    \n",
    "> Output: [0,1,2]  \n",
    "\n",
    "**Example 3:**\n",
    "\n",
    "> Input: nums = [0]  \n",
    "> Output: [0]  \n",
    "\n",
    "**Example 4:**\n",
    "\n",
    "> Input: nums = [1]  \n",
    "> Output: [1]  "
   ]
  },
  {
   "cell_type": "code",
   "execution_count": 3,
   "metadata": {},
   "outputs": [],
   "source": [
    "class Solution:\n",
    "    \n",
    "    # Time Complexity： O(n)\n",
    "    # Space Complexity： O(1) \n",
    "    def sortColors(self, nums: list[int]) -> None:\n",
    "        \"\"\"Do not return anything, modify nums in-place instead.\"\"\"\n",
    "        \n",
    "        l, m, r = 0, 0, len(nums)-1\n",
    "        \n",
    "        while m <= r:\n",
    "            if nums[m] == 0: nums[l], nums[m] = nums[m], nums[l]; l += 1; m += 1\n",
    "            elif nums[m] == 2: nums[r], nums[m] = nums[m], nums[r]; r -= 1\n",
    "            else: m += 1\n",
    "        \n",
    "        return nums\n",
    "    \n",
    "    # Time Complexity： O(2n)\n",
    "    # Space Complexity： O(1) \n",
    "    def sortColors_2pass(self, nums: list[int]) -> None:\n",
    "        \"\"\"Do not return anything, modify nums in-place instead.\"\"\"\n",
    "        \n",
    "        def swap(nums: list[int], l: int, r: int, target: int) -> None:\n",
    "            while l < r:\n",
    "                if nums[r] == target: \n",
    "                    r -= 1\n",
    "                elif nums[l] == target:\n",
    "                    nums[l], nums[r] = nums[r], nums[l]\n",
    "                    r -= 1\n",
    "                else:\n",
    "                    l += 1   \n",
    "\n",
    "            return r\n",
    "\n",
    "        swap(nums, 0, swap(nums, 0, len(nums)-1, 2), 1)\n",
    "\n",
    "        return nums"
   ]
  },
  {
   "cell_type": "code",
   "execution_count": 4,
   "metadata": {},
   "outputs": [
    {
     "name": "stdout",
     "output_type": "stream",
     "text": [
      "---sortColors---\n",
      "Case 1: [0, 0, 1, 1, 2, 2]\n",
      "Case 2: [0, 1, 2]\n",
      "Case 3: [0]\n",
      "Case 4: [1]\n",
      "\n",
      "---sortColors_2pass---\n",
      "Case 1: [0, 0, 1, 1, 2, 2]\n",
      "Case 2: [0, 1, 2]\n",
      "Case 3: [0]\n",
      "Case 4: [1]\n"
     ]
    }
   ],
   "source": [
    "# Test on Cases\n",
    "S = Solution()\n",
    "\n",
    "print(\"---sortColors---\")\n",
    "print(f\"Case 1: {S.sortColors([2,0,2,1,1,0])}\")\n",
    "print(f\"Case 2: {S.sortColors([2,0,1])}\")\n",
    "print(f\"Case 3: {S.sortColors([0])}\")\n",
    "print(f\"Case 4: {S.sortColors([1])}\\n\")\n",
    "\n",
    "print(\"---sortColors_2pass---\")\n",
    "print(f\"Case 1: {S.sortColors_2pass([2,0,2,1,1,0])}\")\n",
    "print(f\"Case 2: {S.sortColors_2pass([2,0,1])}\")\n",
    "print(f\"Case 3: {S.sortColors_2pass([0])}\")\n",
    "print(f\"Case 4: {S.sortColors_2pass([1])}\")"
   ]
  }
 ],
 "metadata": {
  "kernelspec": {
   "display_name": "leetcode",
   "language": "python",
   "name": "python3"
  },
  "language_info": {
   "codemirror_mode": {
    "name": "ipython",
    "version": 3
   },
   "file_extension": ".py",
   "mimetype": "text/x-python",
   "name": "python",
   "nbconvert_exporter": "python",
   "pygments_lexer": "ipython3",
   "version": "3.10.4"
  }
 },
 "nbformat": 4,
 "nbformat_minor": 4
}
