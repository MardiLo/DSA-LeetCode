{
 "cells": [
  {
   "cell_type": "markdown",
   "metadata": {},
   "source": [
    "`# Design` `# Stack` `# Queue`"
   ]
  },
  {
   "cell_type": "markdown",
   "metadata": {},
   "source": [
    "Implement a first in first out (FIFO) queue using only two stacks. The implemented queue should support all the functions of a normal queue (`push`, `peek`, `pop`, and `empty`).\n",
    "\n",
    "Implement the `MyQueue` class:\n",
    "\n",
    "- `void push(int x)` Pushes element x to the back of the queue.  \n",
    "- `int pop()` Removes the element from the front of the queue and returns it.  \n",
    "- `int peek()` Returns the element at the front of the queue.  \n",
    "- `boolean empty()` Returns `true` if the queue is empty, `false` otherwise.  \n",
    "\n",
    "Notes:\n",
    "- You must use **only** standard operations of a stack, which means only `push to top`, `peek/pop from top`, `size`, and `is empty` operations are valid.\n",
    "- Depending on your language, the stack may not be supported natively. You may simulate a stack using a list or deque (double-ended queue) as long as you use only a stack's standard operations."
   ]
  },
  {
   "cell_type": "markdown",
   "metadata": {},
   "source": [
    "**Example 1:**\n",
    "\n",
    "> Input\n",
    "> [\"MyQueue\", \"push\", \"push\", \"top\", \"pop\", \"empty\"]  \n",
    "> [[], [1], [2], [], [], []]  \n",
    "> Output  \n",
    "> [null, null, null, 1, 1, false]  \n",
    "> \n",
    "> Explanation  \n",
    "> MyQueue myQueue = new MyQueue();  \n",
    "> myQueue.push(1); // queue is: [1]  \n",
    "> myQueue.push(2); // queue is: [1, 2] (leftmost is front of the queue)  \n",
    "> myQueue.peek(); // return 1  \n",
    "> myQueue.pop(); // return 1, queue is [2]  \n",
    "> myQueue.empty(); // return false  "
   ]
  },
  {
   "cell_type": "code",
   "execution_count": 1,
   "metadata": {},
   "outputs": [],
   "source": [
    "# Time Complexity: Amortized O(1)\n",
    "# Space Complexity: O(n), where n is the number of inputs\n",
    "class MyQueue:\n",
    "\n",
    "    def __init__(self):\n",
    "        self._pushStack = []\n",
    "        self._popStack = []\n",
    "        \n",
    "    def push(self, x: int) -> None:\n",
    "        self._pushStack.append(x)\n",
    "\n",
    "    def pop(self) -> int:\n",
    "        if not self._popStack: self.__move()\n",
    "        return self._popStack.pop()\n",
    "        \n",
    "    def peek(self) -> int:\n",
    "        if not self._popStack: self.__move()\n",
    "        return self._popStack[-1]\n",
    "    \n",
    "    def __move(self) -> None:\n",
    "        while self._pushStack:\n",
    "            self._popStack.append(self._pushStack.pop())\n",
    "\n",
    "    def empty(self) -> bool:\n",
    "        return not self._pushStack and not self._popStack"
   ]
  },
  {
   "cell_type": "code",
   "execution_count": 2,
   "metadata": {},
   "outputs": [
    {
     "name": "stdout",
     "output_type": "stream",
     "text": [
      "None\n",
      "None\n",
      "1\n",
      "1\n",
      "False\n"
     ]
    }
   ],
   "source": [
    "# Test on Cases\n",
    "myQueue = MyQueue()\n",
    "\n",
    "print(myQueue.push(1))\n",
    "print(myQueue.push(2))\n",
    "print(myQueue.peek())\n",
    "print(myQueue.pop())\n",
    "print(myQueue.empty())"
   ]
  }
 ],
 "metadata": {
  "kernelspec": {
   "display_name": "Python 3 (ipykernel)",
   "language": "python",
   "name": "python3"
  },
  "language_info": {
   "codemirror_mode": {
    "name": "ipython",
    "version": 3
   },
   "file_extension": ".py",
   "mimetype": "text/x-python",
   "name": "python",
   "nbconvert_exporter": "python",
   "pygments_lexer": "ipython3",
   "version": "3.11.9"
  },
  "vscode": {
   "interpreter": {
    "hash": "21d8332eb27bea95342760850bd7426f517b6a483537194bbba87e10eeabf6ff"
   }
  }
 },
 "nbformat": 4,
 "nbformat_minor": 4
}
