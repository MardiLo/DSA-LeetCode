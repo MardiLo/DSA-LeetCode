{
 "cells": [
  {
   "cell_type": "markdown",
   "metadata": {},
   "source": [
    "`# Hash Table` `# String`"
   ]
  },
  {
   "cell_type": "markdown",
   "metadata": {},
   "source": [
    "You are given the strings `key` and `message`, which represent a cipher key and a secret message, respectively. The steps to decode `message` are as follows:\n",
    "\n",
    "1. Use the **first** appearance of all 26 lowercase English letters in `key` as the **order** of the substitution table.\n",
    "2. Align the substitution table with the regular English alphabet.\n",
    "3. Each letter in `message` is then **substituted** using the table.\n",
    "4. Spaces `' '` are transformed to themselves.\n",
    "\n",
    "- For example, given `key = \"happy boy\"` (actual key would have **at least one** instance of each letter in the alphabet), we have the partial substitution table of (`'h' -> 'a', 'a' -> 'b', 'p' -> 'c', 'y' -> 'd', 'b' -> 'e', 'o' -> 'f'`).  \n",
    "    \n",
    "Return *the decoded message.*"
   ]
  },
  {
   "cell_type": "markdown",
   "metadata": {},
   "source": [
    "**Example 1:**  \n",
    "![Image of leetcode 2325 problem example 1](https://assets.leetcode.com/uploads/2022/05/08/ex1new4.jpg)\n",
    "> Input: key = \"the quick brown fox jumps over the lazy dog\", message = \"vkbs bs t suepuv\"  \n",
    "Output: \"this is a secret\"  \n",
    "Explanation: The diagram above shows the substitution table.  \n",
    "It is obtained by taking the first appearance of each letter in \"the quick brown fox jumps over the lazy dog\".\n",
    "\n",
    "**Example 2:**  \n",
    "![Image of leetcode 2325 problem example 2](https://assets.leetcode.com/uploads/2022/05/08/ex2new.jpg)\n",
    "> Input: key = \"eljuxhpwnyrdgtqkviszcfmabo\", message = \"zwx hnfx lqantp mnoeius ycgk vcnjrdb\"  \n",
    "Output: \"the five boxing wizards jump quickly\"  \n",
    "Explanation: The diagram above shows the substitution table.  \n",
    "It is obtained by taking the first appearance of each letter in \"eljuxhpwnyrdgtqkviszcfmabo\"."
   ]
  },
  {
   "cell_type": "code",
   "execution_count": 1,
   "metadata": {},
   "outputs": [],
   "source": [
    "class Solution:\n",
    "    \n",
    "    # Time Complexity： O(n), where n = len(message)\n",
    "    # Space Complexity： O(26)    \n",
    "    def decodeMessage(self, key: str, message: str) -> str:\n",
    "        from collections import defaultdict\n",
    "\n",
    "        i, encodedMap, decoded = 0, defaultdict(str, {' ': ' '}), ''\n",
    "        \n",
    "        for c in key:\n",
    "            if c != ' ' and not encodedMap[c]:\n",
    "                encodedMap[c] = chr(ord('a')+i)\n",
    "                i += 1\n",
    "        \n",
    "        for c in message:\n",
    "            decoded += encodedMap[c]\n",
    "        \n",
    "        return decoded"
   ]
  },
  {
   "cell_type": "code",
   "execution_count": 2,
   "metadata": {},
   "outputs": [
    {
     "name": "stdout",
     "output_type": "stream",
     "text": [
      "Case 1: this is a secret\n",
      "Case 2: the five boxing wizards jump quickly\n"
     ]
    }
   ],
   "source": [
    "# Test on Cases\n",
    "S = Solution()\n",
    "\n",
    "print(f\"Case 1: {S.decodeMessage('the quick brown fox jumps over the lazy dog', 'vkbs bs t suepuv')}\")\n",
    "print(f\"Case 2: {S.decodeMessage('eljuxhpwnyrdgtqkviszcfmabo', 'zwx hnfx lqantp mnoeius ycgk vcnjrdb')}\")"
   ]
  }
 ],
 "metadata": {
  "kernelspec": {
   "display_name": "Python 3.10.4 ('leetcode')",
   "language": "python",
   "name": "python3"
  },
  "language_info": {
   "codemirror_mode": {
    "name": "ipython",
    "version": 3
   },
   "file_extension": ".py",
   "mimetype": "text/x-python",
   "name": "python",
   "nbconvert_exporter": "python",
   "pygments_lexer": "ipython3",
   "version": "3.10.4"
  },
  "vscode": {
   "interpreter": {
    "hash": "21d8332eb27bea95342760850bd7426f517b6a483537194bbba87e10eeabf6ff"
   }
  }
 },
 "nbformat": 4,
 "nbformat_minor": 4
}
