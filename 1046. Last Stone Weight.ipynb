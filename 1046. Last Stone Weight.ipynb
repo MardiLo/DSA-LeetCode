{
 "cells": [
  {
   "attachments": {},
   "cell_type": "markdown",
   "metadata": {},
   "source": [
    "`# Array` `# Heap (Priority Queue)`"
   ]
  },
  {
   "attachments": {},
   "cell_type": "markdown",
   "metadata": {},
   "source": [
    "You are given an array of integers `stones` where `stones[i]` is the weight of the `i`<sup>`th`</sup> stone.\n",
    "\n",
    "We are playing a game with the stones. On each turn, we choose the heaviest two stones and smash them together. Suppose the heaviest two stones have weights `x` and `y` with `x <= y`. The result of this smash is:\n",
    "\n",
    "If `x == y`, both stones are destroyed, and\n",
    "If `x != y`, the stone of weight `x` is destroyed, and the stone of weight `y` has new weight `y - x`.\n",
    "At the end of the game, there is **at most one** stone left.\n",
    "\n",
    "Return *the weight of the last remaining stone*. If there are no stones left, return `0`."
   ]
  },
  {
   "attachments": {},
   "cell_type": "markdown",
   "metadata": {},
   "source": [
    "**Example 1:**\n",
    "\n",
    "> Input: stones = [2,7,4,1,8,1]  \n",
    "> Output: 1  \n",
    "> Explanation:   \n",
    "> We combine 7 and 8 to get 1 so the array converts to [2,4,1,1,1] then,  \n",
    "> we combine 2 and 4 to get 2 so the array converts to [2,1,1,1] then,  \n",
    "> we combine 2 and 1 to get 1 so the array converts to [1,1,1] then,  \n",
    "> we combine 1 and 1 to get 0 so the array converts to [1] then that's the value of the last stone.\n",
    "\n",
    "**Example 2:**\n",
    "\n",
    "> Input: stones = [1]  \n",
    "> Output: 1"
   ]
  },
  {
   "cell_type": "code",
   "execution_count": 1,
   "metadata": {},
   "outputs": [],
   "source": [
    "class Solution:\n",
    "\n",
    "    # Time Complexity： O(nlogn)\n",
    "    # Space Complexity： O(1)\n",
    "    def lastStoneWeight(self, stones: list[int]) -> int:\n",
    "        from heapq import heapify, heappop, heappush\n",
    "        from operator import neg\n",
    "\n",
    "        heapify(stones := list(map(neg, stones)))\n",
    "\n",
    "        while len(stones) >= 2:\n",
    "            heappush(stones, heappop(stones)-heappop(stones))\n",
    "        \n",
    "        return -heappop(stones) if stones else 0"
   ]
  },
  {
   "cell_type": "code",
   "execution_count": 2,
   "metadata": {},
   "outputs": [
    {
     "name": "stdout",
     "output_type": "stream",
     "text": [
      "Case 1: 1\n",
      "Case 2: 1\n"
     ]
    }
   ],
   "source": [
    "# Test on Cases\n",
    "S = Solution()\n",
    "\n",
    "print(f\"Case 1: {S.lastStoneWeight([2,7,4,1,8,1])}\")\n",
    "print(f\"Case 2: {S.lastStoneWeight([1])}\")"
   ]
  }
 ],
 "metadata": {
  "kernelspec": {
   "display_name": "Python 3 (ipykernel)",
   "language": "python",
   "name": "python3"
  },
  "language_info": {
   "codemirror_mode": {
    "name": "ipython",
    "version": 3
   },
   "file_extension": ".py",
   "mimetype": "text/x-python",
   "name": "python",
   "nbconvert_exporter": "python",
   "pygments_lexer": "ipython3",
   "version": "3.10.4"
  },
  "vscode": {
   "interpreter": {
    "hash": "21d8332eb27bea95342760850bd7426f517b6a483537194bbba87e10eeabf6ff"
   }
  }
 },
 "nbformat": 4,
 "nbformat_minor": 4
}
