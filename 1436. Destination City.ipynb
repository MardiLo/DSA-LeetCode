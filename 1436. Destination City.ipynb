{
 "cells": [
  {
   "cell_type": "markdown",
   "metadata": {},
   "source": [
    "`# Hash Table` `# String`"
   ]
  },
  {
   "cell_type": "markdown",
   "metadata": {},
   "source": [
    "You are given the array `paths`, where `paths[i] = [cityA`<sub>`i`</sub>`, cityB`<sub>`i`</sub>`]` means there exists a direct path going from `cityA`<sub>`i`</sub> to `cityB`<sub>`i`</sub>. Return *the destination city, that is, the city without any path outgoing to another city.*\n",
    "\n",
    "It is guaranteed that the graph of paths forms a line without any loop, therefore, there will be exactly one destination city."
   ]
  },
  {
   "cell_type": "markdown",
   "metadata": {},
   "source": [
    "**Example 1:**  \n",
    "\n",
    "> Input: paths = [[\"London\",\"New York\"],[\"New York\",\"Lima\"],[\"Lima\",\"Sao Paulo\"]]  \n",
    "> Output: \"Sao Paulo\"   \n",
    "> Explanation: Starting at \"London\" city you will reach \"Sao Paulo\" city which is the destination city. Your trip consist of: \"London\" -> \"New York\" -> \"Lima\" -> \"Sao Paulo\".\n",
    "\n",
    "**Example 2:**\n",
    "\n",
    "> Input: paths = [[\"B\",\"C\"],[\"D\",\"B\"],[\"C\",\"A\"]]  \n",
    "> Output: \"A\"  \n",
    "> Explanation: All possible trips are:   \n",
    "> \"D\" -> \"B\" -> \"C\" -> \"A\".   \n",
    "> \"B\" -> \"C\" -> \"A\".   \n",
    "> \"C\" -> \"A\".   \n",
    "> \"A\".   \n",
    "> Clearly the destination city is \"A\".\n",
    "\n",
    "**Example 3:**\n",
    "\n",
    "> Input: paths = [[\"A\",\"Z\"]]  \n",
    "> Output: \"Z\""
   ]
  },
  {
   "cell_type": "code",
   "execution_count": 1,
   "metadata": {},
   "outputs": [],
   "source": [
    "class Solution:\n",
    "    \n",
    "    # Time Complexity： O(n)\n",
    "    # Space Complexity： O(n)    \n",
    "    def destCity(self, paths: list[list[str]]) -> str:\n",
    "        from functools import reduce\n",
    "\n",
    "        return reduce(lambda x, y: y - x, map(set, zip(*paths))).pop()"
   ]
  },
  {
   "cell_type": "code",
   "execution_count": 2,
   "metadata": {},
   "outputs": [
    {
     "name": "stdout",
     "output_type": "stream",
     "text": [
      "Case 1: Sao Paulo\n",
      "Case 2: A\n",
      "Case 3: Z\n"
     ]
    }
   ],
   "source": [
    "# Test on Cases\n",
    "S = Solution()\n",
    "\n",
    "print(f\"Case 1: {S.destCity([['London','New York'],['New York','Lima'],['Lima','Sao Paulo']])}\")\n",
    "print(f\"Case 2: {S.destCity([['B','C'],['D','B'],['C','A']])}\")\n",
    "print(f\"Case 3: {S.destCity([['A','Z']])}\")"
   ]
  }
 ],
 "metadata": {
  "kernelspec": {
   "display_name": "Python 3 (ipykernel)",
   "language": "python",
   "name": "python3"
  },
  "language_info": {
   "codemirror_mode": {
    "name": "ipython",
    "version": 3
   },
   "file_extension": ".py",
   "mimetype": "text/x-python",
   "name": "python",
   "nbconvert_exporter": "python",
   "pygments_lexer": "ipython3",
   "version": "3.10.4"
  },
  "vscode": {
   "interpreter": {
    "hash": "21d8332eb27bea95342760850bd7426f517b6a483537194bbba87e10eeabf6ff"
   }
  }
 },
 "nbformat": 4,
 "nbformat_minor": 4
}
