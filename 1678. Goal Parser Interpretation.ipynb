{
 "cells": [
  {
   "cell_type": "markdown",
   "metadata": {},
   "source": [
    "`# String` "
   ]
  },
  {
   "cell_type": "markdown",
   "metadata": {},
   "source": [
    "You own a **Goal Parser** that can interpret a string `command`. The `command` consists of an alphabet of `\"G\"`, `\"()\"` and/or `\"(al)\"` in some order. The Goal Parser will interpret `\"G\"` as the string `\"G\"`, `\"()\"` as the string `\"o\"`, and `\"(al)\"` as the string `\"al\"`. The interpreted strings are then concatenated in the original order.\n",
    "\n",
    "Given the string `command`, return *the **Goal Parser**'s interpretation of* `command`."
   ]
  },
  {
   "cell_type": "markdown",
   "metadata": {},
   "source": [
    "**Example 1:**\n",
    "\n",
    "> Input: command = \"G()(al)\"  \n",
    "> Output: \"Goal\"  \n",
    "> Explanation: The Goal Parser interprets the command as follows:  \n",
    "> G -> G  \n",
    "> () -> o  \n",
    "> (al) -> al  \n",
    "> The final concatenated result is \"Goal\".\n",
    "\n",
    "**Example 2:**\n",
    "\n",
    "> Input: command = \"G()()()()(al)\"  \n",
    "> Output: \"Gooooal\"\n",
    "\n",
    "**Example 3:**\n",
    "\n",
    "> Input: command = \"(al)G(al)()()G\"  \n",
    "> Output: \"alGalooG\""
   ]
  },
  {
   "cell_type": "code",
   "execution_count": 1,
   "metadata": {},
   "outputs": [],
   "source": [
    "class Solution:\n",
    "\n",
    "    # Time Complexity： O(n)\n",
    "    # Space Complexity： O(1)  \n",
    "    def interpret(self, command: str) -> str:\n",
    "        res, i = '', 0\n",
    "        \n",
    "        while i < len(command):\n",
    "            if command[i] == 'G':\n",
    "                res += 'G'\n",
    "                i += 1\n",
    "            elif (command[i], command[i+1]) == ('(', ')'):\n",
    "                res += 'o'\n",
    "                i += 2\n",
    "            else:\n",
    "                res += 'al' \n",
    "                i += 4\n",
    "        \n",
    "        return res\n",
    "        \n",
    "    # Time Complexity： O(n)\n",
    "    # Space Complexity： O(1) \n",
    "    def interpret_lib(self, command: str) -> str:\n",
    "        return command.replace('()', 'o').replace('(al)', 'al')"
   ]
  },
  {
   "cell_type": "code",
   "execution_count": 2,
   "metadata": {},
   "outputs": [
    {
     "name": "stdout",
     "output_type": "stream",
     "text": [
      "---interpret---\n",
      "Case 1: Goal\n",
      "Case 2: Gooooal\n",
      "Case 3: alGalooG\n",
      "\n",
      "---interpret_lib---\n",
      "Case 1: Goal\n",
      "Case 2: Gooooal\n",
      "Case 3: alGalooG\n"
     ]
    }
   ],
   "source": [
    "# Test on Cases\n",
    "S = Solution()\n",
    "\n",
    "print(\"---interpret---\")\n",
    "print(f\"Case 1: {S.interpret('G()(al)')}\")\n",
    "print(f\"Case 2: {S.interpret('G()()()()(al)')}\")\n",
    "print(f\"Case 3: {S.interpret('(al)G(al)()()G')}\\n\")\n",
    "\n",
    "print(\"---interpret_lib---\")\n",
    "print(f\"Case 1: {S.interpret_lib('G()(al)')}\")\n",
    "print(f\"Case 2: {S.interpret_lib('G()()()()(al)')}\")\n",
    "print(f\"Case 3: {S.interpret_lib('(al)G(al)()()G')}\")"
   ]
  }
 ],
 "metadata": {
  "kernelspec": {
   "display_name": "Python 3 (ipykernel)",
   "language": "python",
   "name": "python3"
  },
  "language_info": {
   "codemirror_mode": {
    "name": "ipython",
    "version": 3
   },
   "file_extension": ".py",
   "mimetype": "text/x-python",
   "name": "python",
   "nbconvert_exporter": "python",
   "pygments_lexer": "ipython3",
   "version": "3.10.4"
  },
  "vscode": {
   "interpreter": {
    "hash": "21d8332eb27bea95342760850bd7426f517b6a483537194bbba87e10eeabf6ff"
   }
  }
 },
 "nbformat": 4,
 "nbformat_minor": 4
}
