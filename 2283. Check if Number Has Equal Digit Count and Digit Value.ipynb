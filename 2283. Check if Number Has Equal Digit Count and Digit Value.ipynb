{
 "cells": [
  {
   "attachments": {},
   "cell_type": "markdown",
   "metadata": {},
   "source": [
    "`# Counting` `# Hash Table` `# String` "
   ]
  },
  {
   "attachments": {},
   "cell_type": "markdown",
   "metadata": {},
   "source": [
    "You are given a **0-indexed** string `num` of length `n` consisting of digits.\n",
    "\n",
    "Return `true` *if for every index* `i` *in the range* `0 <= i < n`*, the digit* `i` *occurs* `num[i]` *times in* `num`*, otherwise return* `false`."
   ]
  },
  {
   "attachments": {},
   "cell_type": "markdown",
   "metadata": {},
   "source": [
    "**Example 1:**\n",
    "\n",
    "> Input: num = \"1210\"  \n",
    "> Output: true  \n",
    "> Explanation:  \n",
    "> num[0] = '1'. The digit 0 occurs once in num.  \n",
    "> num[1] = '2'. The digit 1 occurs twice in num.  \n",
    "> num[2] = '1'. The digit 2 occurs once in num.  \n",
    "> num[3] = '0'. The digit 3 occurs zero times in num.  \n",
    "> The condition holds true for every index in \"1210\", so return true.\n",
    "\n",
    "**Example 2:**\n",
    "\n",
    "> Input: num = \"030\"  \n",
    "> Output: false  \n",
    "> Explanation:  \n",
    "> num[0] = '0'. The digit 0 should occur zero times, but actually occurs twice in num.  \n",
    "> num[1] = '3'. The digit 1 should occur three times, but actually occurs zero times in num.  \n",
    "> num[2] = '0'. The digit 2 occurs zero times in num.  \n",
    "> The indices 0 and 1 both violate the condition, so return false.  "
   ]
  },
  {
   "cell_type": "code",
   "execution_count": 5,
   "metadata": {},
   "outputs": [],
   "source": [
    "class Solution:\n",
    "    \n",
    "    # Time Complexity： O(n)\n",
    "    # Space Complexity： O(n)    \n",
    "    def digitCount(self, num: str) -> bool:\n",
    "        from collections import Counter\n",
    "\n",
    "        cnt = Counter(num)\n",
    "\n",
    "        return all(int(c) == cnt[str(i)] for i, c in enumerate(num))"
   ]
  },
  {
   "cell_type": "code",
   "execution_count": 6,
   "metadata": {},
   "outputs": [
    {
     "name": "stdout",
     "output_type": "stream",
     "text": [
      "Case 1: True\n",
      "Case 2: False\n"
     ]
    }
   ],
   "source": [
    "# Test on Cases\n",
    "S = Solution()\n",
    "\n",
    "print(f\"Case 1: {S.digitCount('1210')}\")\n",
    "print(f\"Case 2: {S.digitCount('030')}\")"
   ]
  }
 ],
 "metadata": {
  "interpreter": {
   "hash": "21d8332eb27bea95342760850bd7426f517b6a483537194bbba87e10eeabf6ff"
  },
  "kernelspec": {
   "display_name": "Python 3 (ipykernel)",
   "language": "python",
   "name": "python3"
  },
  "language_info": {
   "codemirror_mode": {
    "name": "ipython",
    "version": 3
   },
   "file_extension": ".py",
   "mimetype": "text/x-python",
   "name": "python",
   "nbconvert_exporter": "python",
   "pygments_lexer": "ipython3",
   "version": "3.10.4"
  }
 },
 "nbformat": 4,
 "nbformat_minor": 4
}
