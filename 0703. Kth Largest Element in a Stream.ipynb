{
 "cells": [
  {
   "attachments": {},
   "cell_type": "markdown",
   "metadata": {},
   "source": [
    "`# Binary Search Tree` `# Binary Tree` `# Data Stream` `# Design` `# Heap (Priority Queue)` `# Tree`"
   ]
  },
  {
   "attachments": {},
   "cell_type": "markdown",
   "metadata": {},
   "source": [
    "Design a class to find the `k`<sup>`th`</sup> largest element in a stream. Note that it is the `k`<sup>`th`</sup> largest element in the sorted order, not the `k`<sup>`th`</sup> distinct element.\n",
    "\n",
    "Implement `KthLargest` class:\n",
    "\n",
    "- `KthLargest(int k, int[] nums)` Initializes the object with the integer `k` and the stream of integers `nums`.\n",
    "- `int add(int val)` Appends the integer `val` to the stream and returns the element representing the `k`<sup>`th`</sup> largest element in the stream."
   ]
  },
  {
   "attachments": {},
   "cell_type": "markdown",
   "metadata": {},
   "source": [
    "**Example 1:**\n",
    "\n",
    "> Input  \n",
    "> [\"KthLargest\", \"add\", \"add\", \"add\", \"add\", \"add\"]  \n",
    "> [[3, [4, 5, 8, 2]], [3], [5], [10], [9], [4]]  \n",
    "> Output  \n",
    "> [null, 4, 5, 5, 8, 8]  \n",
    "> \n",
    "> Explanation\n",
    "> KthLargest kthLargest = new KthLargest(3, [4, 5, 8, 2]);  \n",
    "> kthLargest.add(3);   // return 4  \n",
    "> kthLargest.add(5);   // return 5  \n",
    "> kthLargest.add(10);  // return 5  \n",
    "> kthLargest.add(9);   // return 8  \n",
    "> kthLargest.add(4);   // return 8  "
   ]
  },
  {
   "cell_type": "code",
   "execution_count": 1,
   "metadata": {},
   "outputs": [],
   "source": [
    "from heapq import heapify, heappush, heappop\n",
    "from sortedcontainers import SortedList\n",
    "from operator import neg\n",
    "from bisect import insort_left\n",
    "\n",
    "class KthLargest:\n",
    "\n",
    "    # Time Complexity: O(n + (n-k)logn) for __init__, O(logk) for add, where n = len(nums)\n",
    "    # Space Complexity: O(k)\n",
    "    class heap:\n",
    "        def __init__(self, k: int, nums: list[int]):\n",
    "            self._k = k\n",
    "            self._minHeap = nums\n",
    "\n",
    "            heapify(self._minHeap)\n",
    "            while len(self._minHeap) > k:\n",
    "                heappop(self._minHeap)\n",
    "\n",
    "        def add(self, val: int) -> int:\n",
    "            heappush(self._minHeap, val)\n",
    "            if len(self._minHeap) > self._k: heappop(self._minHeap)\n",
    "\n",
    "            return self._minHeap[0]\n",
    "\n",
    "    # Time Complexity: O(nlogn + k) for __init__, O(k) for add, where n = len(nums)\n",
    "    # Space Complexity: O(k)\n",
    "    class binarySearch:\n",
    "        def __init__(self, k: int, nums: list[int]):\n",
    "            self._k = k\n",
    "            self._nums = sorted(nums, reverse=True)[:k]\n",
    "\n",
    "        def add(self, val: int) -> int:\n",
    "            insort_left(self._nums, val, key=neg)\n",
    "            if len(self._nums) > self._k: self._nums.pop()\n",
    "\n",
    "            return self._nums[-1]\n",
    "\n",
    "    # Time Complexity: O(nlogn + (n-k)logn) for __init__, O(logk) for add, where n = len(nums)\n",
    "    # Space Complexity: O(k)\n",
    "    class sortedList:\n",
    "        def __init__(self, k: int, nums: list[int]):\n",
    "            self._k = k\n",
    "            self._nums = SortedList(nums, key=neg)\n",
    "\n",
    "            while len(self._nums) > k:\n",
    "                self._nums.pop()                # TC: log(n)\n",
    "\n",
    "        def add(self, val: int) -> int:\n",
    "            self._nums.add(val)\n",
    "            if len(self._nums) > self._k: self._nums.pop()\n",
    "\n",
    "            return self._nums[-1]"
   ]
  },
  {
   "cell_type": "code",
   "execution_count": 2,
   "metadata": {},
   "outputs": [
    {
     "name": "stdout",
     "output_type": "stream",
     "text": [
      "---kthLargest_heap---\n",
      "4\n",
      "5\n",
      "5\n",
      "8\n",
      "8\n",
      "\n",
      "---kthLargest_binarySearch---\n",
      "4\n",
      "5\n",
      "5\n",
      "8\n",
      "8\n",
      "\n",
      "---kthLargest_sortedList---\n",
      "4\n",
      "5\n",
      "5\n",
      "8\n",
      "8\n"
     ]
    }
   ],
   "source": [
    "# Test on Cases\n",
    "kthLargest_heap = KthLargest.heap(3, [4, 5, 8, 2])\n",
    "\n",
    "print(\"---kthLargest_heap---\")\n",
    "print(kthLargest_heap.add(3))\n",
    "print(kthLargest_heap.add(5))\n",
    "print(kthLargest_heap.add(10))\n",
    "print(kthLargest_heap.add(9))\n",
    "print(kthLargest_heap.add(4))\n",
    "print()\n",
    "\n",
    "kthLargest_binarySearch = KthLargest.binarySearch(3, [4, 5, 8, 2])\n",
    "\n",
    "print(\"---kthLargest_binarySearch---\")\n",
    "print(kthLargest_binarySearch.add(3))\n",
    "print(kthLargest_binarySearch.add(5))\n",
    "print(kthLargest_binarySearch.add(10))\n",
    "print(kthLargest_binarySearch.add(9))\n",
    "print(kthLargest_binarySearch.add(4))\n",
    "print()\n",
    "\n",
    "kthLargest_sortedList = KthLargest.sortedList(3, [4, 5, 8, 2])\n",
    "\n",
    "print(\"---kthLargest_sortedList---\")\n",
    "print(kthLargest_sortedList.add(3))\n",
    "print(kthLargest_sortedList.add(5))\n",
    "print(kthLargest_sortedList.add(10))\n",
    "print(kthLargest_sortedList.add(9))\n",
    "print(kthLargest_sortedList.add(4))"
   ]
  }
 ],
 "metadata": {
  "kernelspec": {
   "display_name": "Python 3 (ipykernel)",
   "language": "python",
   "name": "python3"
  },
  "language_info": {
   "codemirror_mode": {
    "name": "ipython",
    "version": 3
   },
   "file_extension": ".py",
   "mimetype": "text/x-python",
   "name": "python",
   "nbconvert_exporter": "python",
   "pygments_lexer": "ipython3",
   "version": "3.10.4"
  },
  "vscode": {
   "interpreter": {
    "hash": "21d8332eb27bea95342760850bd7426f517b6a483537194bbba87e10eeabf6ff"
   }
  }
 },
 "nbformat": 4,
 "nbformat_minor": 4
}
