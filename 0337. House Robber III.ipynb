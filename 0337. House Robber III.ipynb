{
 "cells": [
  {
   "cell_type": "markdown",
   "metadata": {},
   "source": [
    "`# Binary Tree` `# Depth-First Search` `# Dynamic Programming` `# Tree`"
   ]
  },
  {
   "cell_type": "markdown",
   "metadata": {},
   "source": [
    "The thief has found himself a new place for his thievery again. There is only one entrance to this area, called `root`.\n",
    "\n",
    "Besides the `root`, each house has one and only one parent house. After a tour, the smart thief realized that all houses in this place form a binary tree. It will automatically contact the police if **two directly-linked houses were broken into on the same night**.\n",
    "\n",
    "Given the `root` of the binary tree, return *the maximum amount of money the thief can rob without alerting the police*."
   ]
  },
  {
   "cell_type": "markdown",
   "metadata": {},
   "source": [
    "**Example 1:**  \n",
    "![Image of leetcode 0337 problem example 1](https://assets.leetcode.com/uploads/2021/03/10/rob1-tree.jpg)\n",
    "> Input: root = [3,2,3,null,3,null,1]  \n",
    "Output: 7  \n",
    "Explanation: Maximum amount of money the thief can rob = 3 + 3 + 1 = 7.   \n",
    "\n",
    "**Example 2:**  \n",
    "![Image of leetcode 0337 problem example 2](https://assets.leetcode.com/uploads/2021/03/10/rob2-tree.jpg)\n",
    "> Input: root = [3,4,5,1,3,null,1]  \n",
    "Output: 9  \n",
    "Explanation: Maximum amount of money the thief can rob = 4 + 5 = 9.  "
   ]
  },
  {
   "cell_type": "code",
   "execution_count": 7,
   "metadata": {},
   "outputs": [],
   "source": [
    "class TreeNode:\n",
    "    def __init__(self, val=0, left=None, right=None):\n",
    "        self.val = val\n",
    "        self.left = left\n",
    "        self.right = right\n",
    "\n",
    "class Solution:\n",
    "    \n",
    "    # Time Complexity： O(n)\n",
    "    # Space Complexity： O(h), where h is height of the binary tree\n",
    "    def rob(self, root: 'TreeNode') -> 'int':\n",
    "        def dfs(node: 'TreeNode') -> 'tuple':\n",
    "            if not node: return (0, 0)\n",
    "            \n",
    "            l = dfs(node.left)\n",
    "            r = dfs(node.right)\n",
    "            \n",
    "            return (node.val + l[1] + r[1], max(l) + max(r))    # (gain when you ROB the current node, gain when you SKIP the current node)\n",
    "        \n",
    "        return max(dfs(root))"
   ]
  },
  {
   "cell_type": "code",
   "execution_count": 8,
   "metadata": {},
   "outputs": [
    {
     "name": "stdout",
     "output_type": "stream",
     "text": [
      "Case 1: 7\n",
      "Case 2: 9\n"
     ]
    }
   ],
   "source": [
    "# Test on Cases\n",
    "S = Solution()\n",
    "\n",
    "print(f\"Case 1: {S.rob(TreeNode(3, TreeNode(2, None, TreeNode(3)), TreeNode(3, None, TreeNode(1))))}\")\n",
    "print(f\"Case 2: {S.rob(TreeNode(3, TreeNode(4, TreeNode(1), TreeNode(3)), TreeNode(5, None, TreeNode(1))))}\")"
   ]
  },
  {
   "cell_type": "markdown",
   "metadata": {},
   "source": [
    "**Ref**\n",
    "1. [[Python] very short dfs, explained](https://leetcode.com/problems/house-robber-iii/discuss/946176/Python-very-short-dfs-explained)\n",
    "2. [[Python3] Dynamic Programming + Depth First Search](https://leetcode.com/problems/house-robber-iii/discuss/376297/Python3-Dynamic-Programming-%2B-Depth-First-Search)"
   ]
  }
 ],
 "metadata": {
  "interpreter": {
   "hash": "a1465031eeae0bed8511463faaa157119e7e6b7b1fbf4ef49fce31064cee3326"
  },
  "kernelspec": {
   "display_name": "Python 3.8.3 64-bit ('base': conda)",
   "name": "python3"
  },
  "language_info": {
   "codemirror_mode": {
    "name": "ipython",
    "version": 3
   },
   "file_extension": ".py",
   "mimetype": "text/x-python",
   "name": "python",
   "nbconvert_exporter": "python",
   "pygments_lexer": "ipython3",
   "version": "3.8.3"
  }
 },
 "nbformat": 4,
 "nbformat_minor": 4
}
