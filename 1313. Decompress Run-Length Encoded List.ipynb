{
 "cells": [
  {
   "cell_type": "markdown",
   "metadata": {},
   "source": [
    "`# Array`"
   ]
  },
  {
   "cell_type": "markdown",
   "metadata": {},
   "source": [
    "We are given a list `nums` of integers representing a list compressed with run-length encoding.\n",
    "\n",
    "Consider each adjacent pair of elements `[freq, val] = [nums[2*i], nums[2*i+1]]` (with `i >= 0`).  For each such pair, there are `freq` elements with value `val` concatenated in a sublist. Concatenate all the sublists from left to right to generate the decompressed list.\n",
    "\n",
    "Return the decompressed list."
   ]
  },
  {
   "cell_type": "markdown",
   "metadata": {},
   "source": [
    "**Example 1:**\n",
    "\n",
    "> Input: nums = [1,2,3,4]  \n",
    "> Output: [2,4,4,4]  \n",
    "> Explanation: The first pair [1,2] means we have freq = 1 and val = 2 so we generate the array [2].  \n",
    "> The second pair [3,4] means we have freq = 3 and val = 4 so we generate [4,4,4].  \n",
    "> At the end the concatenation [2] + [4,4,4] is [2,4,4,4].\n",
    "\n",
    "**Example 2:**\n",
    "\n",
    "> Input: nums = [1,1,2,3]  \n",
    "> Output: [1,3,3]  "
   ]
  },
  {
   "cell_type": "code",
   "execution_count": 1,
   "metadata": {},
   "outputs": [],
   "source": [
    "class Solution:\n",
    "    \n",
    "    # Time Complexity： O(n)\n",
    "    # Space Complexity： O(n)    \n",
    "    def decompressRLElist(self, nums: list[int]) -> list[int]:\n",
    "        return sum([nums[i] * [nums[i+1]] for i in range(0, len(nums), 2)], [])"
   ]
  },
  {
   "cell_type": "code",
   "execution_count": 2,
   "metadata": {},
   "outputs": [
    {
     "name": "stdout",
     "output_type": "stream",
     "text": [
      "Case 1: [2, 4, 4, 4]\n",
      "Case 2: [1, 3, 3]\n"
     ]
    }
   ],
   "source": [
    "# Test on Cases\n",
    "S = Solution()\n",
    "\n",
    "print(f\"Case 1: {S.decompressRLElist([1,2,3,4])}\")\n",
    "print(f\"Case 2: {S.decompressRLElist([1,1,2,3])}\")"
   ]
  }
 ],
 "metadata": {
  "interpreter": {
   "hash": "21d8332eb27bea95342760850bd7426f517b6a483537194bbba87e10eeabf6ff"
  },
  "kernelspec": {
   "display_name": "Python 3 (ipykernel)",
   "language": "python",
   "name": "python3"
  },
  "language_info": {
   "codemirror_mode": {
    "name": "ipython",
    "version": 3
   },
   "file_extension": ".py",
   "mimetype": "text/x-python",
   "name": "python",
   "nbconvert_exporter": "python",
   "pygments_lexer": "ipython3",
   "version": "3.10.4"
  }
 },
 "nbformat": 4,
 "nbformat_minor": 4
}
