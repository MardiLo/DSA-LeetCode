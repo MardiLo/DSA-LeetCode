{
 "cells": [
  {
   "cell_type": "markdown",
   "metadata": {},
   "source": [
    "`# Array` `# Math`"
   ]
  },
  {
   "cell_type": "markdown",
   "metadata": {},
   "source": [
    "You are given a positive integer array `nums`.\n",
    "\n",
    "- The **element sum** is the sum of all the elements in `nums`.\n",
    "- The **digit sum** is the sum of all the digits (not necessarily distinct) that appear in `nums`.\n",
    "\n",
    "Return *the ***absolute*** difference between the ***element sum*** and ***digit sum*** of* `nums`.\n",
    "\n",
    "Note that the absolute difference between two integers `x` and `y` is defined as `|x - y|`."
   ]
  },
  {
   "cell_type": "markdown",
   "metadata": {},
   "source": [
    "**Example 1:**\n",
    "\n",
    "> Input: nums = [1,15,6,3]  \n",
    "> Output: 9  \n",
    "> Explanation:   \n",
    "> The element sum of nums is 1 + 15 + 6 + 3 = 25.  \n",
    "> The digit sum of nums is 1 + 1 + 5 + 6 + 3 = 16.  \n",
    "> The absolute difference between the element sum and digit sum is |25 - 16| = 9.\n",
    "\n",
    "**Example 2:**\n",
    "\n",
    "> Input: nums = [1,2,3,4]  \n",
    "> Output: 0  \n",
    "> Explanation:  \n",
    "> The element sum of nums is 1 + 2 + 3 + 4 = 10.  \n",
    "> The digit sum of nums is 1 + 2 + 3 + 4 = 10.  \n",
    "> The absolute difference between the element sum and digit sum is |10 - 10| = 0."
   ]
  },
  {
   "cell_type": "code",
   "execution_count": 5,
   "metadata": {},
   "outputs": [],
   "source": [
    "class Solution:\n",
    "\n",
    "    # Time Complexity： O(m+n), where m is the digits of num in the nums and n is the no of the elements in the nums\n",
    "    # Space Complexity： O(1)\n",
    "    def differenceOfSum(self, nums: list[int]) -> int:\n",
    "        return abs(sum(int(digit) for num in nums for digit in str(num)) - sum(nums))"
   ]
  },
  {
   "cell_type": "code",
   "execution_count": 6,
   "metadata": {},
   "outputs": [
    {
     "name": "stdout",
     "output_type": "stream",
     "text": [
      "Case 1: 9\n",
      "Case 2: 0\n"
     ]
    }
   ],
   "source": [
    "# Test on Cases\n",
    "S = Solution()\n",
    "\n",
    "print(f\"Case 1: {S.differenceOfSum([1,15,6,3])}\")\n",
    "print(f\"Case 2: {S.differenceOfSum([1,2,3,4])}\")"
   ]
  }
 ],
 "metadata": {
  "kernelspec": {
   "display_name": "Python 3 (ipykernel)",
   "language": "python",
   "name": "python3"
  },
  "language_info": {
   "codemirror_mode": {
    "name": "ipython",
    "version": 3
   },
   "file_extension": ".py",
   "mimetype": "text/x-python",
   "name": "python",
   "nbconvert_exporter": "python",
   "pygments_lexer": "ipython3",
   "version": "3.10.4"
  },
  "vscode": {
   "interpreter": {
    "hash": "21d8332eb27bea95342760850bd7426f517b6a483537194bbba87e10eeabf6ff"
   }
  }
 },
 "nbformat": 4,
 "nbformat_minor": 4
}
