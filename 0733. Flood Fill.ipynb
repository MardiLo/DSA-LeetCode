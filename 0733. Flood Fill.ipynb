{
 "cells": [
  {
   "attachments": {},
   "cell_type": "markdown",
   "metadata": {},
   "source": [
    "`# Array` `# Breadth-First Search` `# Depth-First Search` `# Matrix`"
   ]
  },
  {
   "attachments": {},
   "cell_type": "markdown",
   "metadata": {},
   "source": [
    "An image is represented by an `m x n` integer grid `image` where `image[i][j]` represents the pixel value of the image.\n",
    "\n",
    "You are also given three integers `sr`, `sc`, and `color`. You should perform a **flood fill** on the image starting from the pixel `image[sr][sc]`.\n",
    "\n",
    "To perform a **flood fill**, consider the starting pixel, plus any pixels connected **4-directionally** to the starting pixel of the same color as the starting pixel, plus any pixels connected **4-directionally** to those pixels (also with the same color), and so on. Replace the color of all of the aforementioned pixels with `color`.\n",
    "\n",
    "Return *the modified image after performing the flood fill.*"
   ]
  },
  {
   "attachments": {},
   "cell_type": "markdown",
   "metadata": {},
   "source": [
    "**Example 1:**  \n",
    "![Image of leetcode 0733 problem example 1](https://assets.leetcode.com/uploads/2021/06/01/flood1-grid.jpg)\n",
    "> Input: image = [[1,1,1],[1,1,0],[1,0,1]], sr = 1, sc = 1, color = 2  \n",
    "> Output: [[2,2,2],[2,2,0],[2,0,1]]  \n",
    "> Explanation: From the center of the image with position (sr, sc) = (1, 1) (i.e., the red pixel), all pixels connected by a path of the same color as the starting pixel (i.e., the blue pixels) are colored with the new color.  \n",
    "> Note the bottom corner is not colored 2, because it is not 4-directionally connected to the starting pixel.  \n",
    "\n",
    "**Example 2**\n",
    "\n",
    "> Input: image = [[0,0,0],[0,0,0]], sr = 0, sc = 0, color = 0  \n",
    "> Output: [[0,0,0],[0,0,0]]  \n",
    "> Explanation: The starting pixel is already colored 0, so no changes are made to the image."
   ]
  },
  {
   "cell_type": "code",
   "execution_count": 1,
   "metadata": {},
   "outputs": [],
   "source": [
    "class Solution:\n",
    "    \n",
    "    # Time Complexity： O(mn)\n",
    "    # Space Complexity： O(mn)\n",
    "    def floodFill_DFS_recursion(self, image: list[list[int]], sr: int, sc: int, color: int) -> list[list[int]]:\n",
    "        m, n, orgColor, direction = len(image), len(image[0]), image[sr][sc], [(-1, 0), (1, 0), (0, -1), (0, 1)]\n",
    "\n",
    "        def dfs(i: int, j: int) -> int:\n",
    "            if not (0 <= i < m and 0 <= j < n and image[i][j] == orgColor): return\n",
    "\n",
    "            image[i][j] = color\n",
    "            [dfs(i+dx, j+dy) for dx, dy in direction]\n",
    "\n",
    "            return\n",
    "        \n",
    "        if orgColor != color: dfs(sr, sc)\n",
    "        return image\n",
    "\n",
    "    # Time Complexity： O(mn)\n",
    "    # Space Complexity： O(mn)\n",
    "    def floodFill_BFS(self, image: list[list[int]], sr: int, sc: int, color: int) -> list[list[int]]:\n",
    "        from collections import deque\n",
    "\n",
    "        m, n, orgColor, direction = len(image), len(image[0]), image[sr][sc], [(-1, 0), (1, 0), (0, -1), (0, 1)]\n",
    "\n",
    "        def bfs(i: int, j: int) -> int:\n",
    "            if not image[i][j] == orgColor: return\n",
    "\n",
    "            queue = deque([(i, j)])\n",
    "            \n",
    "            while queue:\n",
    "                i, j = queue.popleft()\n",
    "\n",
    "                if not (0 <= i < m and 0 <= j < n and image[i][j] == orgColor): continue\n",
    "\n",
    "                image[i][j] = color\n",
    "                queue.extend([(i+dx, j+dy) for dx, dy in direction])\n",
    "\n",
    "            return\n",
    "        \n",
    "        if orgColor != color: bfs(sr, sc)\n",
    "        return image\n",
    "\n",
    "    # Time Complexity： O(mn)\n",
    "    # Space Complexity： O(mn)\n",
    "    def floodFill_DFS_iteration(self, image: list[list[int]], sr: int, sc: int, color: int) -> list[list[int]]:\n",
    "        m, n, orgColor, direction = len(image), len(image[0]), image[sr][sc], [(-1, 0), (1, 0), (0, -1), (0, 1)]\n",
    "\n",
    "        def dfs(i: int, j: int) -> int:\n",
    "            if not image[i][j] == orgColor: return\n",
    "\n",
    "            stack = [(i, j)]\n",
    "            \n",
    "            while stack:\n",
    "                i, j = stack.pop()\n",
    "\n",
    "                if not (0 <= i < m and 0 <= j < n and image[i][j] == orgColor): continue\n",
    "\n",
    "                image[i][j] = color\n",
    "                stack.extend([(i+dx, j+dy) for dx, dy in direction])\n",
    "\n",
    "            return\n",
    "        \n",
    "        if orgColor != color: dfs(sr, sc)\n",
    "        return image"
   ]
  },
  {
   "cell_type": "code",
   "execution_count": 2,
   "metadata": {},
   "outputs": [
    {
     "name": "stdout",
     "output_type": "stream",
     "text": [
      "---floodFill_DFS_recursion---\n",
      "Case 1: [[2, 2, 2], [2, 2, 0], [2, 0, 1]]\n",
      "Case 2: [[0, 0, 0], [0, 0, 0]]\n",
      "\n",
      "---floodFill_BFS---\n",
      "Case 1: [[2, 2, 2], [2, 2, 0], [2, 0, 1]]\n",
      "Case 2: [[0, 0, 0], [0, 0, 0]]\n",
      "\n",
      "---floodFill_DFS_iteration---\n",
      "Case 1: [[2, 2, 2], [2, 2, 0], [2, 0, 1]]\n",
      "Case 2: [[0, 0, 0], [0, 0, 0]]\n"
     ]
    }
   ],
   "source": [
    "# Test on Cases\n",
    "S = Solution()\n",
    "\n",
    "print(\"---floodFill_DFS_recursion---\")\n",
    "print(f\"Case 1: {S.floodFill_DFS_recursion([[1,1,1],[1,1,0],[1,0,1]], 1, 1, 2)}\")\n",
    "print(f\"Case 2: {S.floodFill_DFS_recursion([[0,0,0],[0,0,0]], 0, 0, 0)}\\n\")\n",
    "\n",
    "print(\"---floodFill_BFS---\")\n",
    "print(f\"Case 1: {S.floodFill_BFS([[1,1,1],[1,1,0],[1,0,1]], 1, 1, 2)}\")\n",
    "print(f\"Case 2: {S.floodFill_BFS([[0,0,0],[0,0,0]], 0, 0, 0)}\\n\")\n",
    "\n",
    "print(\"---floodFill_DFS_iteration---\")\n",
    "print(f\"Case 1: {S.floodFill_DFS_iteration([[1,1,1],[1,1,0],[1,0,1]], 1, 1, 2)}\")\n",
    "print(f\"Case 2: {S.floodFill_DFS_iteration([[0,0,0],[0,0,0]], 0, 0, 0)}\")"
   ]
  }
 ],
 "metadata": {
  "kernelspec": {
   "display_name": "Python 3 (ipykernel)",
   "language": "python",
   "name": "python3"
  },
  "language_info": {
   "codemirror_mode": {
    "name": "ipython",
    "version": 3
   },
   "file_extension": ".py",
   "mimetype": "text/x-python",
   "name": "python",
   "nbconvert_exporter": "python",
   "pygments_lexer": "ipython3",
   "version": "3.10.4"
  },
  "vscode": {
   "interpreter": {
    "hash": "21d8332eb27bea95342760850bd7426f517b6a483537194bbba87e10eeabf6ff"
   }
  }
 },
 "nbformat": 4,
 "nbformat_minor": 4
}
