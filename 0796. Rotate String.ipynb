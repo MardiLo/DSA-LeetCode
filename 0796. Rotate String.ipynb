{
 "cells": [
  {
   "attachments": {},
   "cell_type": "markdown",
   "metadata": {},
   "source": [
    "`# String` `# String Matching`\n"
   ]
  },
  {
   "attachments": {},
   "cell_type": "markdown",
   "metadata": {},
   "source": [
    "Given two strings `s` and `goal`, return `true` *if and only if* `s` *can become* `goal` *after some number of ***shifts*** on* `s`.\n",
    "\n",
    "A **shift** on `s` consists of moving the leftmost character of `s` to the rightmost position.\n",
    "\n",
    "- For example, if `s = \"abcde\"`, then it will be `\"bcdea\"` after one shift."
   ]
  },
  {
   "attachments": {},
   "cell_type": "markdown",
   "metadata": {},
   "source": [
    "**Example 1:**\n",
    "\n",
    "> Input: s = \"abcde\", goal = \"cdeab\"  \n",
    "> Output: true\n",
    "\n",
    "**Example 2:**\n",
    "\n",
    "> Input: s = \"abcde\", goal = \"abced\"  \n",
    ">  Output: false"
   ]
  },
  {
   "cell_type": "code",
   "execution_count": 1,
   "metadata": {},
   "outputs": [],
   "source": [
    "class Solution:\n",
    "    \n",
    "    # Time Complexity： O(n+2m), where n=len(s), m=len(goal)\n",
    "    # Space Complexity： O(2m)    \n",
    "    def rotateString(self, s: str, goal: str) -> bool:\n",
    "        return len(s) == len(goal) and s in goal*2"
   ]
  },
  {
   "cell_type": "code",
   "execution_count": 2,
   "metadata": {},
   "outputs": [
    {
     "name": "stdout",
     "output_type": "stream",
     "text": [
      "Case 1: True\n",
      "Case 2: False\n"
     ]
    }
   ],
   "source": [
    "# Test on Cases\n",
    "S = Solution()\n",
    "\n",
    "print(f\"Case 1: {S.rotateString('abcde', 'cdeab')}\")\n",
    "print(f\"Case 2: {S.rotateString('abcde', 'abced')}\")"
   ]
  }
 ],
 "metadata": {
  "interpreter": {
   "hash": "21d8332eb27bea95342760850bd7426f517b6a483537194bbba87e10eeabf6ff"
  },
  "kernelspec": {
   "display_name": "Python 3 (ipykernel)",
   "language": "python",
   "name": "python3"
  },
  "language_info": {
   "codemirror_mode": {
    "name": "ipython",
    "version": 3
   },
   "file_extension": ".py",
   "mimetype": "text/x-python",
   "name": "python",
   "nbconvert_exporter": "python",
   "pygments_lexer": "ipython3",
   "version": "3.10.4"
  }
 },
 "nbformat": 4,
 "nbformat_minor": 4
}
