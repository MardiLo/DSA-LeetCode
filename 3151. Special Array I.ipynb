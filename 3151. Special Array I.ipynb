{
 "cells": [
  {
   "cell_type": "markdown",
   "metadata": {},
   "source": [
    "`# Array`"
   ]
  },
  {
   "cell_type": "markdown",
   "metadata": {},
   "source": [
    "An array is considered **special** if every pair of its adjacent elements contains two numbers with different parity.\n",
    "\n",
    "You are given an array of integers `nums`. Return `true` if `nums` is a **special** array, otherwise, return `false`."
   ]
  },
  {
   "cell_type": "markdown",
   "metadata": {},
   "source": [
    "**Example 1:**\n",
    "\n",
    "> Input: nums = [1]  \n",
    "> Output: true  \n",
    "> Explanation: There is only one element. So the answer is `true`.\n",
    "\n",
    "**Example 2:**\n",
    "\n",
    "> Input: nums = [2,1,4]  \n",
    "> Output: true  \n",
    "> Explanation:  There is only two pairs: `(2,1)` and `(1,4)`, and both of them contain numbers with different parity. So the answer is `true`.\n",
    "\n",
    "**Example 3:**\n",
    "> Input: nums = [4,3,1,6]  \n",
    "> Output: false  \n",
    "> Explanation: `nums[1]` and `nums[2]` are both odd. So the answer is `false`.  "
   ]
  },
  {
   "cell_type": "code",
   "execution_count": 9,
   "metadata": {},
   "outputs": [],
   "source": [
    "class Solution:\n",
    "    \n",
    "    # Time Complexity： O(n)\n",
    "    # Space Complexity： O(1)     \n",
    "    def isArraySpecial(self, nums: list[int]) -> bool:\n",
    "        from itertools import pairwise\n",
    "        \n",
    "        return all(x % 2 != y % 2 for x, y in pairwise(nums))"
   ]
  },
  {
   "cell_type": "code",
   "execution_count": 10,
   "metadata": {},
   "outputs": [
    {
     "name": "stdout",
     "output_type": "stream",
     "text": [
      "Case 1: True\n",
      "Case 2: True\n",
      "Case 3: False\n"
     ]
    }
   ],
   "source": [
    "# Test on Cases\n",
    "S = Solution()\n",
    "\n",
    "print(f\"Case 1: {S.isArraySpecial([1])}\")\n",
    "print(f\"Case 2: {S.isArraySpecial([2,1,4])}\")\n",
    "print(f\"Case 3: {S.isArraySpecial([4,3,1,6])}\")"
   ]
  }
 ],
 "metadata": {
  "kernelspec": {
   "display_name": "Python 3 (ipykernel)",
   "language": "python",
   "name": "python3"
  },
  "language_info": {
   "codemirror_mode": {
    "name": "ipython",
    "version": 3
   },
   "file_extension": ".py",
   "mimetype": "text/x-python",
   "name": "python",
   "nbconvert_exporter": "python",
   "pygments_lexer": "ipython3",
   "version": "3.11.9"
  },
  "vscode": {
   "interpreter": {
    "hash": "21d8332eb27bea95342760850bd7426f517b6a483537194bbba87e10eeabf6ff"
   }
  }
 },
 "nbformat": 4,
 "nbformat_minor": 4
}
