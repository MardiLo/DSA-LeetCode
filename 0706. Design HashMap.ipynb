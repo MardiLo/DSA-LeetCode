{
 "cells": [
  {
   "attachments": {},
   "cell_type": "markdown",
   "metadata": {},
   "source": [
    "`# Array` `# Design` `# Hash Function` `# Hash Table` `# Linked List`"
   ]
  },
  {
   "attachments": {},
   "cell_type": "markdown",
   "metadata": {},
   "source": [
    "Design a HashMap without using any built-in hash table libraries.\n",
    "\n",
    "Implement the `MyHashMap` class:\n",
    "\n",
    "- `MyHashMap()` initializes the object with an empty map.\n",
    "- `void put(int key, int value)` inserts a `(key, value)` pair into the HashMap. If the `key` already exists in the map, update the corresponding `value`.\n",
    "- `int get(int key)` returns the `value` to which the specified `key` is mapped, or `-1` if this map contains no mapping for the `key`.\n",
    "- `void remove(key)` removes the `key` and its corresponding `value` if the map contains the mapping for the `key`."
   ]
  },
  {
   "attachments": {},
   "cell_type": "markdown",
   "metadata": {},
   "source": [
    "**Example 1:**\n",
    "\n",
    "> Input  \n",
    "> [\"MyHashMap\", \"put\", \"put\", \"get\", \"get\", \"put\", \"get\", \"remove\", \"get\"]  \n",
    "> [[], [1, 1], [2, 2], [1], [3], [2, 1], [2], [2], [2]]  \n",
    "> Output  \n",
    "> [null, null, null, 1, -1, null, 1, null, -1]  \n",
    "> \n",
    "> Explanation\n",
    "> MyHashMap myHashMap = new MyHashMap();  \n",
    "> myHashMap.put(1, 1); // The map is now [[1,1]]  \n",
    "> myHashMap.put(2, 2); // The map is now [[1,1], [2,2]]  \n",
    "> myHashMap.get(1);    // return 1, The map is now [[1,1], [2,2]]  \n",
    "> myHashMap.get(3);    // return -1 (i.e., not found), The map is now [[1,1], [2,2]]  \n",
    "> myHashMap.put(2, 1); // The map is now [[1,1], [2,1]] (i.e., update the existing value)  \n",
    "> myHashMap.get(2);    // return 1, The map is now [[1,1], [2,1]]  \n",
    "> myHashMap.remove(2); // remove the mapping for 2, The map is now [[1,1]]  \n",
    "> myHashMap.get(2);    // return -1 (i.e., not found), The map is now [[1,1]]"
   ]
  },
  {
   "cell_type": "code",
   "execution_count": 1,
   "metadata": {},
   "outputs": [],
   "source": [
    "# Time Complexity: O(1) in average, O((max(n)-min(n)) / _bucketSize) for put, get and remove, O(_bucketSize) for __init__\n",
    "# Space Complexity: O(_bucketSize + n), where n is the number of inputs\n",
    "class MyHashMap:\n",
    "\n",
    "    def __init__(self):\n",
    "        from collections import namedtuple\n",
    "\n",
    "        self._bucketSize = 1024\n",
    "        self._buckets = [[] for _ in range(self._bucketSize)]\n",
    "        self.Node = namedtuple('Node', ['key', 'val'])\n",
    "\n",
    "    def getBucket(self, key: int) -> list:\n",
    "        return self._buckets[key % self._bucketSize]\n",
    "\n",
    "    def findIndexOfKey(self, bucket: list, key: int) -> int:\n",
    "        return next((i for i, node in enumerate(bucket) if node.key == key), -1)\n",
    "\n",
    "    def put(self, key: int, value: int) -> None:\n",
    "        i = self.findIndexOfKey(bucket := self.getBucket(key), key)\n",
    "        \n",
    "        if i != -1: bucket[i] = bucket[i]._replace(val=value)\n",
    "        else: bucket.append(self.Node(key, value))\n",
    "\n",
    "    def get(self, key: int) -> int:\n",
    "        i = self.findIndexOfKey(bucket := self.getBucket(key), key)\n",
    "\n",
    "        return bucket[i].val if i != -1 else -1\n",
    "        \n",
    "    def remove(self, key: int) -> None:\n",
    "        i = self.findIndexOfKey(bucket := self.getBucket(key), key)\n",
    "\n",
    "        if i != -1: del bucket[i]"
   ]
  },
  {
   "cell_type": "code",
   "execution_count": 2,
   "metadata": {},
   "outputs": [
    {
     "name": "stdout",
     "output_type": "stream",
     "text": [
      "None\n",
      "None\n",
      "1\n",
      "-1\n",
      "None\n",
      "1\n",
      "None\n",
      "-1\n"
     ]
    }
   ],
   "source": [
    "# Test on Cases\n",
    "myHashMap = MyHashMap()\n",
    "\n",
    "print(myHashMap.put(1, 1))\n",
    "print(myHashMap.put(2, 2))\n",
    "print(myHashMap.get(1))\n",
    "print(myHashMap.get(3))\n",
    "print(myHashMap.put(2, 1))\n",
    "print(myHashMap.get(2))\n",
    "print(myHashMap.remove(2))\n",
    "print(myHashMap.get(2))"
   ]
  }
 ],
 "metadata": {
  "kernelspec": {
   "display_name": "Python 3 (ipykernel)",
   "language": "python",
   "name": "python3"
  },
  "language_info": {
   "codemirror_mode": {
    "name": "ipython",
    "version": 3
   },
   "file_extension": ".py",
   "mimetype": "text/x-python",
   "name": "python",
   "nbconvert_exporter": "python",
   "pygments_lexer": "ipython3",
   "version": "3.10.4"
  },
  "vscode": {
   "interpreter": {
    "hash": "21d8332eb27bea95342760850bd7426f517b6a483537194bbba87e10eeabf6ff"
   }
  }
 },
 "nbformat": 4,
 "nbformat_minor": 4
}
