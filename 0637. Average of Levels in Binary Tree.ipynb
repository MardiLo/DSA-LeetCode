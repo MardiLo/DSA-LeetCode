{
 "cells": [
  {
   "attachments": {},
   "cell_type": "markdown",
   "metadata": {},
   "source": [
    "`# Binary Tree` `# Breadth-First Search` `# Depth-First Search` `# Tree`"
   ]
  },
  {
   "attachments": {},
   "cell_type": "markdown",
   "metadata": {},
   "source": [
    "Given the `root` of a binary tree, return *the average value of the nodes on each level in the form of an array*. Answers within `10`<sup>`-5`</sup> of the actual answer will be accepted."
   ]
  },
  {
   "attachments": {},
   "cell_type": "markdown",
   "metadata": {},
   "source": [
    "**Example 1:**  \n",
    "![Image of leetcode 0637 problem example 1](https://assets.leetcode.com/uploads/2021/03/09/avg1-tree.jpg)\n",
    "> Input: root = [3,9,20,null,null,15,7]  \n",
    "> Output: [3.00000,14.50000,11.00000]  \n",
    "> Explanation: The average value of nodes on level 0 is 3, on level 1 is 14.5, and on level 2 is 11.  \n",
    "> Hence return [3, 14.5, 11].\n",
    "\n",
    "**Example 2:**  \n",
    "![Image of leetcode 0637 problem example 2](https://assets.leetcode.com/uploads/2021/03/09/avg2-tree.jpg)\n",
    "> Input: root = [3,9,20,15,7]  \n",
    "> Output: [3.00000,14.50000,11.00000]"
   ]
  },
  {
   "cell_type": "code",
   "execution_count": 1,
   "metadata": {},
   "outputs": [],
   "source": [
    "class TreeNode:\n",
    "    def __init__(self, val=0, left=None, right=None):\n",
    "        self.val = val\n",
    "        self.left = left\n",
    "        self.right = right\n",
    "\n",
    "class Solution:   \n",
    "    \n",
    "    # Time Complexity： O(n)\n",
    "    # Space Complexity： O(w)  \n",
    "    def averageOfLevels_BFS(self, root: TreeNode) -> list[list[int]]:\n",
    "        from collections import deque\n",
    "        \n",
    "        queue, bfs = deque([(1, root)]), []\n",
    "        \n",
    "        while queue:\n",
    "            level, root = queue.popleft()\n",
    "            \n",
    "            if root:\n",
    "                try: bfs[level-1].append(root.val)\n",
    "                except: bfs.append([root.val])        # if len(bfs) != level\n",
    "                \n",
    "                queue.extend([(level+1, root.left), (level+1, root.right)])\n",
    "                \n",
    "        return list(map(lambda x: sum(x)/len(x), bfs))\n",
    "\n",
    "    # Time Complexity： O(n)\n",
    "    # Space Complexity： O(h)  \n",
    "    def averageOfLevels_DFS(self, root: TreeNode) -> list[float]:\n",
    "        stack, bfs = [(1, root)], []\n",
    "\n",
    "        while stack:\n",
    "            level, root = stack.pop()\n",
    "\n",
    "            if root:\n",
    "                try: bfs[level-1].append(root.val)\n",
    "                except: bfs.append([root.val])\n",
    "\n",
    "                stack.extend([(level+1, root.right), (level+1, root.left)])\n",
    "            \n",
    "        return list(map(lambda x: sum(x)/len(x), bfs))"
   ]
  },
  {
   "cell_type": "code",
   "execution_count": 2,
   "metadata": {},
   "outputs": [
    {
     "name": "stdout",
     "output_type": "stream",
     "text": [
      "---averageOfLevels_BFS---\n",
      "Case 1: [3.0, 14.5, 16.0]\n",
      "Case 2: [3.0, 14.5, 11.0]\n",
      "\n",
      "---averageOfLevels_DFS---\n",
      "Case 1: [3.0, 14.5, 16.0]\n",
      "Case 2: [3.0, 14.5, 11.0]\n"
     ]
    }
   ],
   "source": [
    "# Test on Cases\n",
    "S = Solution()\n",
    "\n",
    "print(\"---averageOfLevels_BFS---\")\n",
    "print(f\"Case 1: {S.averageOfLevels_BFS(TreeNode(3, TreeNode(9), TreeNode(20, TreeNode(15), TreeNode(17))))}\")\n",
    "print(f\"Case 2: {S.averageOfLevels_BFS(TreeNode(3, TreeNode(9, TreeNode(15), TreeNode(7)), TreeNode(20)))}\\n\")\n",
    "\n",
    "print(\"---averageOfLevels_DFS---\")\n",
    "print(f\"Case 1: {S.averageOfLevels_DFS(TreeNode(3, TreeNode(9), TreeNode(20, TreeNode(15), TreeNode(17))))}\")\n",
    "print(f\"Case 2: {S.averageOfLevels_DFS(TreeNode(3, TreeNode(9, TreeNode(15), TreeNode(7)), TreeNode(20)))}\")"
   ]
  }
 ],
 "metadata": {
  "kernelspec": {
   "display_name": "Python 3 (ipykernel)",
   "language": "python",
   "name": "python3"
  },
  "language_info": {
   "codemirror_mode": {
    "name": "ipython",
    "version": 3
   },
   "file_extension": ".py",
   "mimetype": "text/x-python",
   "name": "python",
   "nbconvert_exporter": "python",
   "pygments_lexer": "ipython3",
   "version": "3.10.4"
  },
  "vscode": {
   "interpreter": {
    "hash": "21d8332eb27bea95342760850bd7426f517b6a483537194bbba87e10eeabf6ff"
   }
  }
 },
 "nbformat": 4,
 "nbformat_minor": 4
}
