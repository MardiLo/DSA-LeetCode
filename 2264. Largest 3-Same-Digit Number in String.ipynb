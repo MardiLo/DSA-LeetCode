{
 "cells": [
  {
   "attachments": {},
   "cell_type": "markdown",
   "metadata": {},
   "source": [
    "`# String`"
   ]
  },
  {
   "attachments": {},
   "cell_type": "markdown",
   "metadata": {},
   "source": [
    "You are given a string `num` representing a large integer. An integer is **good** if it meets the following conditions:\n",
    "\n",
    "- It is a substring of `num` with length `3`.\n",
    "- It consists of only one unique digit.\n",
    "\n",
    "Return *the ***maximum good*** integer as a ***string*** or an empty string* `\"\"` *if no such integer exists.*\n",
    "\n",
    "Note:\n",
    "\n",
    "- A **substring** is a contiguous sequence of characters within a string.\n",
    "- There may be **leading zeroes** in `num` or a good integer."
   ]
  },
  {
   "attachments": {},
   "cell_type": "markdown",
   "metadata": {},
   "source": [
    "**Example 1:**\n",
    "\n",
    "> Input: num = \"6777133339\"  \n",
    "> Output: \"777\"  \n",
    "> Explanation: There are two distinct good integers: \"777\" and \"333\".  \n",
    "> \"777\" is the largest, so we return \"777\".\n",
    "\n",
    "**Example 2:**\n",
    "\n",
    "> Input: num = \"2300019\"  \n",
    "> Output: \"000\"  \n",
    "> Explanation: \"000\" is the only good integer.\n",
    "\n",
    "**Example 3:**\n",
    "\n",
    "> Input: num = \"42352338\"  \n",
    "> Output: \"\"  \n",
    "> Explanation: No substring of length 3 consists of only one unique digit. Therefore, there are no good integers."
   ]
  },
  {
   "cell_type": "code",
   "execution_count": 1,
   "metadata": {},
   "outputs": [],
   "source": [
    "class Solution:\n",
    "\n",
    "    # Time Complexity： O(n)\n",
    "    # Space Complexity： O(1)\n",
    "    def largestGoodInteger(self, num: str) -> str:\n",
    "        res = '0'\n",
    "\n",
    "        for i in range(len(num)-2):\n",
    "            if num[i] == num[i+1] == num[i+2]:\n",
    "                res = max(res, num[i:i+3])\n",
    "        \n",
    "        return '' if res == '0' else res"
   ]
  },
  {
   "cell_type": "code",
   "execution_count": 2,
   "metadata": {},
   "outputs": [
    {
     "name": "stdout",
     "output_type": "stream",
     "text": [
      "Case 1: 777\n",
      "Case 2: 000\n",
      "Case 3: \n"
     ]
    }
   ],
   "source": [
    "# Test on Cases\n",
    "S = Solution()\n",
    "\n",
    "print(f\"Case 1: {S.largestGoodInteger('6777133339')}\")\n",
    "print(f\"Case 2: {S.largestGoodInteger('2300019')}\")\n",
    "print(f\"Case 3: {S.largestGoodInteger('42352338')}\")"
   ]
  }
 ],
 "metadata": {
  "kernelspec": {
   "display_name": "Python 3 (ipykernel)",
   "language": "python",
   "name": "python3"
  },
  "language_info": {
   "codemirror_mode": {
    "name": "ipython",
    "version": 3
   },
   "file_extension": ".py",
   "mimetype": "text/x-python",
   "name": "python",
   "nbconvert_exporter": "python",
   "pygments_lexer": "ipython3",
   "version": "3.10.4"
  },
  "vscode": {
   "interpreter": {
    "hash": "21d8332eb27bea95342760850bd7426f517b6a483537194bbba87e10eeabf6ff"
   }
  }
 },
 "nbformat": 4,
 "nbformat_minor": 4
}
