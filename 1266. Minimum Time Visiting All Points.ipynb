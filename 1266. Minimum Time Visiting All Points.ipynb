{
 "cells": [
  {
   "cell_type": "markdown",
   "metadata": {},
   "source": [
    "`# Array` `# Geometry` `# Math`"
   ]
  },
  {
   "cell_type": "markdown",
   "metadata": {},
   "source": [
    "On a 2D plane, there are `n` points with integer coordinates `points[i] = [x`<sub>`i`</sub>`, y`<sub>`i`</sub>`]`. Return *the ***minimum time*** in seconds to visit all the points in the order given by* `points`.\n",
    "\n",
    "You can move according to these rules:\n",
    "\n",
    "- In `1` second, you can either:\n",
    "    - move vertically by one unit,\n",
    "    - move horizontally by one unit, or\n",
    "    - move diagonally `sqrt(2)` units (in other words, move one unit vertically then one unit horizontally in `1` second).\n",
    "- You have to visit the points in the same order as they appear in the array.\n",
    "- You are allowed to pass through points that appear later in the order, but these do not count as visits."
   ]
  },
  {
   "cell_type": "markdown",
   "metadata": {},
   "source": [
    "**Example 1:**  \n",
    "![Image of leetcode 1266 problem example 1](https://assets.leetcode.com/uploads/2019/11/14/1626_example_1.PNG)\n",
    "> Input: points = [[1,1],[3,4],[-1,0]]  \n",
    "Output: 7  \n",
    "Explanation: One optimal path is [1,1] -> [2,2] -> [3,3] -> [3,4] -> [2,3] -> [1,2] -> [0,1] -> [-1,0]     \n",
    "Time from [1,1] to [3,4] = 3 seconds   \n",
    "Time from [3,4] to [-1,0] = 4 seconds  \n",
    "Total time = 7 seconds\n",
    "\n",
    "**Example 2:**  \n",
    "\n",
    "> Input: points = [[3,2],[-2,2]]  \n",
    "Output: 5"
   ]
  },
  {
   "cell_type": "code",
   "execution_count": 1,
   "metadata": {},
   "outputs": [],
   "source": [
    "class Solution:\n",
    "    \n",
    "    # Time Complexity： O(n), where n = len(points)\n",
    "    # Space Complexity： O(1)    \n",
    "    def minTimeToVisitAllPoints(self, points: list[list[int]]) -> int:\n",
    "        time, (x1, y1) = 0, points.pop() \n",
    "        \n",
    "        while points:\n",
    "            x2, y2 = points.pop()\n",
    "            time += max(abs(x2 - x1), abs(y2 - y1))\n",
    "            x1, y1 = x2, y2\n",
    "        \n",
    "        return time"
   ]
  },
  {
   "cell_type": "code",
   "execution_count": 2,
   "metadata": {},
   "outputs": [
    {
     "name": "stdout",
     "output_type": "stream",
     "text": [
      "Case 1: 7\n",
      "Case 2: 5\n"
     ]
    }
   ],
   "source": [
    "# Test on Cases\n",
    "S = Solution()\n",
    "\n",
    "print(f\"Case 1: {S.minTimeToVisitAllPoints([[1,1],[3,4],[-1,0]])}\")\n",
    "print(f\"Case 2: {S.minTimeToVisitAllPoints([[3,2],[-2,2]])}\")"
   ]
  }
 ],
 "metadata": {
  "kernelspec": {
   "display_name": "Python 3.10.4 ('leetcode')",
   "language": "python",
   "name": "python3"
  },
  "language_info": {
   "codemirror_mode": {
    "name": "ipython",
    "version": 3
   },
   "file_extension": ".py",
   "mimetype": "text/x-python",
   "name": "python",
   "nbconvert_exporter": "python",
   "pygments_lexer": "ipython3",
   "version": "3.10.4"
  },
  "vscode": {
   "interpreter": {
    "hash": "21d8332eb27bea95342760850bd7426f517b6a483537194bbba87e10eeabf6ff"
   }
  }
 },
 "nbformat": 4,
 "nbformat_minor": 4
}
