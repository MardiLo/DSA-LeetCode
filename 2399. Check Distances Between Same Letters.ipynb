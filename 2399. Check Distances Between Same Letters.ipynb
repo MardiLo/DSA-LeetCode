{
 "cells": [
  {
   "cell_type": "markdown",
   "metadata": {},
   "source": [
    "`# Array` `# Hash Table` `# String` "
   ]
  },
  {
   "cell_type": "markdown",
   "metadata": {},
   "source": [
    "You are given a **0-indexed** string `s` consisting of only lowercase English letters, where each letter in `s` appears **exactly twice**. You are also given a **0-indexed** integer array `distance` of length `26`.\n",
    "\n",
    "Each letter in the alphabet is numbered from `0` to `25` (i.e. `'a' -> 0`, `'b' -> 1`, `'c' -> 2`, ... , `'z' -> 25`).\n",
    "\n",
    "In a **well-spaced** string, the number of letters between the two occurrences of the `i`<sup>`th`</sup> letter is `distance[i]`. If the `i`<sup>`th`</sup> letter does not appear in `s`, then `distance[i]` can be **ignored**.\n",
    "\n",
    "Return `true` *if* `s` *is a ***well-spaced*** string, otherwise return* `false`."
   ]
  },
  {
   "cell_type": "markdown",
   "metadata": {},
   "source": [
    "**Example 1:**\n",
    "\n",
    "> Input: s = \"abaccb\", distance = [1,3,0,5,0,0,0,0,0,0,0,0,0,0,0,0,0,0,0,0,0,0,0,0,0,0]  \n",
    "> Output: true  \n",
    "> Explanation:  \n",
    "> - 'a' appears at indices 0 and 2 so it satisfies distance[0] = 1.  \n",
    "> - 'b' appears at indices 1 and 5 so it satisfies distance[1] = 3.  \n",
    "> - 'c' appears at indices 3 and 4 so it satisfies distance[2] = 0.  \n",
    "> Note that distance[3] = 5, but since 'd' does not appear in s, it can be ignored. \n",
    "> Return true because s is a well-spaced string.\n",
    "\n",
    "**Example 2:**\n",
    "\n",
    "> Input: s = \"aa\", distance = [1,0,0,0,0,0,0,0,0,0,0,0,0,0,0,0,0,0,0,0,0,0,0,0,0,0]  \n",
    "> Output: false  \n",
    "> Explanation:  \n",
    "> - 'a' appears at indices 0 and 1 so there are zero letters between them.  \n",
    "> Because distance[0] = 1, s is not a well-spaced string."
   ]
  },
  {
   "cell_type": "code",
   "execution_count": 1,
   "metadata": {},
   "outputs": [],
   "source": [
    "class Solution:\n",
    "    \n",
    "    # Time Complexity： O(n)\n",
    "    # Space Complexity： O(1)    \n",
    "    def checkDistances_math(self, s: str, distance: list[int]) -> bool:\n",
    "        for i, c in enumerate(s):\n",
    "            nextSameLetterIdx = i + distance[(d := ord(c) - ord('a'))] + 1\n",
    "            if nextSameLetterIdx >= len(s) or s[nextSameLetterIdx] != c: return False\n",
    "            distance[d] = -1\n",
    "        \n",
    "        return True\n",
    "\n",
    "    # Time Complexity： O(n)\n",
    "    # Space Complexity： O(26)  \n",
    "    def checkDistances_hashTable(self, s: str, distance: list[int]) -> bool:\n",
    "        dic = dict()\n",
    "        \n",
    "        for i, c in enumerate(s):\n",
    "            if c not in dic: dic[c] = i\n",
    "            else: dic[c] = i - dic[c] - 1 \n",
    "        \n",
    "        return all(distance[ord(c)-ord('a')] == dis for c, dis in dic.items())"
   ]
  },
  {
   "cell_type": "code",
   "execution_count": 2,
   "metadata": {},
   "outputs": [
    {
     "name": "stdout",
     "output_type": "stream",
     "text": [
      "---checkDistances_math---\n",
      "Case 1: True\n",
      "Case 2: False\n",
      "\n",
      "---checkDistances_hashTable---\n",
      "Case 1: True\n",
      "Case 2: False\n"
     ]
    }
   ],
   "source": [
    "# Test on Cases\n",
    "S = Solution()\n",
    "\n",
    "print(\"---checkDistances_math---\")\n",
    "print(f\"Case 1: {S.checkDistances_math(s='abaccb', distance=[1,3,0,5,0,0,0,0,0,0,0,0,0,0,0,0,0,0,0,0,0,0,0,0,0,0])}\")\n",
    "print(f\"Case 2: {S.checkDistances_math(s='aa', distance=[1,0,0,0,0,0,0,0,0,0,0,0,0,0,0,0,0,0,0,0,0,0,0,0,0,0])}\\n\")\n",
    "\n",
    "print(\"---checkDistances_hashTable---\")\n",
    "print(f\"Case 1: {S.checkDistances_hashTable(s='abaccb', distance=[1,3,0,5,0,0,0,0,0,0,0,0,0,0,0,0,0,0,0,0,0,0,0,0,0,0])}\")\n",
    "print(f\"Case 2: {S.checkDistances_hashTable(s='aa', distance=[1,0,0,0,0,0,0,0,0,0,0,0,0,0,0,0,0,0,0,0,0,0,0,0,0,0])}\")"
   ]
  }
 ],
 "metadata": {
  "interpreter": {
   "hash": "21d8332eb27bea95342760850bd7426f517b6a483537194bbba87e10eeabf6ff"
  },
  "kernelspec": {
   "display_name": "Python 3 (ipykernel)",
   "language": "python",
   "name": "python3"
  },
  "language_info": {
   "codemirror_mode": {
    "name": "ipython",
    "version": 3
   },
   "file_extension": ".py",
   "mimetype": "text/x-python",
   "name": "python",
   "nbconvert_exporter": "python",
   "pygments_lexer": "ipython3",
   "version": "3.10.4"
  }
 },
 "nbformat": 4,
 "nbformat_minor": 4
}
