{
 "cells": [
  {
   "cell_type": "markdown",
   "metadata": {},
   "source": [
    "`# Array` `# Simulation`"
   ]
  },
  {
   "cell_type": "markdown",
   "metadata": {},
   "source": [
    "Given a **zero-based permutation** `nums` **(0-indexed)**, build an array `ans` of the **same length** where `ans[i] = nums[nums[i]]` for each `0 <= i < nums.length` and return it.\n",
    "\n",
    "A **zero-based permutation** `nums` is an array of **distinct** integers from `0` to `nums.length - 1` (**inclusive**)."
   ]
  },
  {
   "cell_type": "markdown",
   "metadata": {},
   "source": [
    "**Example 1:**\n",
    "\n",
    "> Input: nums = [0,2,1,5,3,4]  \n",
    "Output: [0,1,2,4,5,3]  \n",
    "Explanation: The array ans is built as follows:   \n",
    "ans = [nums[nums[0]], nums[nums[1]], nums[nums[2]], nums[nums[3]], nums[nums[4]], nums[nums[5]]]  \n",
    "    = [nums[0], nums[2], nums[1], nums[5], nums[3], nums[4]]  \n",
    "    = [0,1,2,4,5,3]  \n",
    "\n",
    "**Example 2:**\n",
    "\n",
    "> Input: nums = [5,0,1,2,3,4]  \n",
    "Output: [4,5,0,1,2,3]  \n",
    "Explanation: The array ans is built as follows:  \n",
    "ans = [nums[nums[0]], nums[nums[1]], nums[nums[2]], nums[nums[3]], nums[nums[4]], nums[nums[5]]]  \n",
    "    = [nums[5], nums[0], nums[1], nums[2], nums[3], nums[4]]  \n",
    "    = [4,5,0,1,2,3]"
   ]
  },
  {
   "cell_type": "code",
   "execution_count": 1,
   "metadata": {},
   "outputs": [],
   "source": [
    "class Solution:\n",
    "\n",
    "    # Time Complexity： O(n)\n",
    "    # Space Complexity： O(1)\n",
    "    def buildArray(self, nums: list[int]) -> list[int]:\n",
    "        return [nums[num] for num in nums]"
   ]
  },
  {
   "cell_type": "code",
   "execution_count": 2,
   "metadata": {},
   "outputs": [
    {
     "name": "stdout",
     "output_type": "stream",
     "text": [
      "Case 1: [0, 1, 2, 4, 5, 3]\n",
      "Case 2: [4, 5, 0, 1, 2, 3]\n"
     ]
    }
   ],
   "source": [
    "# Test on Cases\n",
    "S = Solution()\n",
    "\n",
    "print(f\"Case 1: {S.buildArray([0,2,1,5,3,4])}\")\n",
    "print(f\"Case 2: {S.buildArray([5,0,1,2,3,4])}\")"
   ]
  }
 ],
 "metadata": {
  "kernelspec": {
   "display_name": "Python 3.10.4 ('leetcode')",
   "language": "python",
   "name": "python3"
  },
  "language_info": {
   "codemirror_mode": {
    "name": "ipython",
    "version": 3
   },
   "file_extension": ".py",
   "mimetype": "text/x-python",
   "name": "python",
   "nbconvert_exporter": "python",
   "pygments_lexer": "ipython3",
   "version": "3.10.4"
  },
  "vscode": {
   "interpreter": {
    "hash": "21d8332eb27bea95342760850bd7426f517b6a483537194bbba87e10eeabf6ff"
   }
  }
 },
 "nbformat": 4,
 "nbformat_minor": 4
}
