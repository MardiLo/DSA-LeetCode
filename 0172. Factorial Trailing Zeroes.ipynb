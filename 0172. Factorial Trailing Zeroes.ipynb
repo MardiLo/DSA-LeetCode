{
 "cells": [
  {
   "cell_type": "markdown",
   "metadata": {},
   "source": [
    "`# Math`"
   ]
  },
  {
   "cell_type": "markdown",
   "metadata": {},
   "source": [
    "Given an integer `n`, *return the number of trailing zeroes in n!*.\n",
    "\n",
    "Follow up: Could you write a solution that works in **logarithmic time** complexity?"
   ]
  },
  {
   "cell_type": "markdown",
   "metadata": {},
   "source": [
    "**Example 1:**\n",
    "\n",
    "> Input: n = 3  \n",
    "Output: 0  \n",
    "Explanation: 3! = 6, no trailing zero.\n",
    "\n",
    "**Example 2:**\n",
    "\n",
    "> Input: n = 5  \n",
    "Output: 1   \n",
    "Explanation: 5! = 120, one trailing zero.\n",
    "\n",
    "**Example 3:**\n",
    "\n",
    "> Input: n = 0  \n",
    "Output: 0"
   ]
  },
  {
   "cell_type": "code",
   "execution_count": 1,
   "metadata": {},
   "outputs": [],
   "source": [
    "class Solution:\n",
    "    \n",
    "    # Time Complexity： O(logn)\n",
    "    # Space Complexity： O(1) \n",
    "    def trailingZeroes(self, n: int) -> int:\n",
    "        zeroesCnt = 0\n",
    "        \n",
    "        while n > 1:\n",
    "            n //= 5\n",
    "            zeroesCnt += n\n",
    "            \n",
    "        return zeroesCnt"
   ]
  },
  {
   "cell_type": "code",
   "execution_count": 2,
   "metadata": {},
   "outputs": [
    {
     "name": "stdout",
     "output_type": "stream",
     "text": [
      "Case 1: 0\n",
      "Case 2: 1\n",
      "Case 3: 0\n"
     ]
    }
   ],
   "source": [
    "# Test on Cases\n",
    "S = Solution()\n",
    "\n",
    "print(f\"Case 1: {S.trailingZeroes(3)}\")\n",
    "print(f\"Case 2: {S.trailingZeroes(5)}\")\n",
    "print(f\"Case 3: {S.trailingZeroes(0)}\")"
   ]
  }
 ],
 "metadata": {
  "kernelspec": {
   "display_name": "Python 3.10.4 ('leetcode')",
   "language": "python",
   "name": "python3"
  },
  "language_info": {
   "codemirror_mode": {
    "name": "ipython",
    "version": 3
   },
   "file_extension": ".py",
   "mimetype": "text/x-python",
   "name": "python",
   "nbconvert_exporter": "python",
   "pygments_lexer": "ipython3",
   "version": "3.10.4"
  },
  "vscode": {
   "interpreter": {
    "hash": "21d8332eb27bea95342760850bd7426f517b6a483537194bbba87e10eeabf6ff"
   }
  }
 },
 "nbformat": 4,
 "nbformat_minor": 4
}
