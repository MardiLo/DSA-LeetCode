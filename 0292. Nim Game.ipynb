{
 "cells": [
  {
   "cell_type": "markdown",
   "metadata": {},
   "source": [
    "`# Brainteaser` `# Game Theory` `# Math`"
   ]
  },
  {
   "cell_type": "markdown",
   "metadata": {},
   "source": [
    "You are playing the following Nim Game with your friend:\n",
    "\n",
    "- Initially, there is a heap of stones on the table.  \n",
    "- You and your friend will alternate taking turns, and you go first.  \n",
    "- On each turn, the person whose turn it is will remove 1 to 3 stones from the heap.  \n",
    "- The one who removes the last stone is the winner.  \n",
    "\n",
    "Given `n`, the number of stones in the heap, return `true` *if you can win the game assuming both you and your friend play optimally, otherwise return* `false`."
   ]
  },
  {
   "cell_type": "markdown",
   "metadata": {},
   "source": [
    "**Example 1:**\n",
    "\n",
    "> Input: n = 4  \n",
    "> Output: false\n",
    "> Explanation: These are the possible outcomes:\n",
    "> 1. You remove 1 stone. Your friend removes 3 stones, including the last stone. Your friend wins.\n",
    "> 2. You remove 2 stones. Your friend removes 2 stones, including the last stone. Your friend wins.\n",
    "> 3. You remove 3 stones. Your friend removes the last stone. Your friend wins.\n",
    "> In all outcomes, your friend wins.\n",
    "\n",
    "**Example 2:**\n",
    "\n",
    "> Input: n = 1  \n",
    "> Output: true\n",
    "\n",
    "**Example 3:**\n",
    "\n",
    "> Input: n = 2  \n",
    "> Output: true"
   ]
  },
  {
   "cell_type": "code",
   "execution_count": 1,
   "metadata": {},
   "outputs": [],
   "source": [
    "from typing import Generator\n",
    "\n",
    "class Solution:\n",
    "\n",
    "    # Time Complexity： O(1)\n",
    "    # Space Complexity： O(1)\n",
    "    def canWinNim(self, n: int) -> bool:\n",
    "        return bool(n % 4)"
   ]
  },
  {
   "cell_type": "code",
   "execution_count": 2,
   "metadata": {},
   "outputs": [
    {
     "name": "stdout",
     "output_type": "stream",
     "text": [
      "Case 1: False\n",
      "Case 2: True\n",
      "Case 3: True\n"
     ]
    }
   ],
   "source": [
    "# Test on Cases\n",
    "S = Solution()\n",
    "\n",
    "print(f\"Case 1: {S.canWinNim(4)}\")\n",
    "print(f\"Case 2: {S.canWinNim(1)}\")\n",
    "print(f\"Case 3: {S.canWinNim(2)}\")"
   ]
  }
 ],
 "metadata": {
  "kernelspec": {
   "display_name": "Python 3 (ipykernel)",
   "language": "python",
   "name": "python3"
  },
  "language_info": {
   "codemirror_mode": {
    "name": "ipython",
    "version": 3
   },
   "file_extension": ".py",
   "mimetype": "text/x-python",
   "name": "python",
   "nbconvert_exporter": "python",
   "pygments_lexer": "ipython3",
   "version": "3.11.9"
  },
  "vscode": {
   "interpreter": {
    "hash": "21d8332eb27bea95342760850bd7426f517b6a483537194bbba87e10eeabf6ff"
   }
  }
 },
 "nbformat": 4,
 "nbformat_minor": 4
}
