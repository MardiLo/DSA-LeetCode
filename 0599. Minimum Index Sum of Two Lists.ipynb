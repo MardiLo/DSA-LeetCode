{
 "cells": [
  {
   "cell_type": "markdown",
   "metadata": {},
   "source": [
    "`# Array` `# Hash Table` `# String`"
   ]
  },
  {
   "cell_type": "markdown",
   "metadata": {},
   "source": [
    "Suppose Andy and Doris want to choose a restaurant for dinner, and they both have a list of favorite restaurants represented by strings.\n",
    "\n",
    "You need to help them find out their `common interest` with the `least list index sum`. If there is a choice tie between answers, output all of them with no order requirement. You could assume there always exists an answer."
   ]
  },
  {
   "cell_type": "markdown",
   "metadata": {},
   "source": [
    "**Example 1:**\n",
    "\n",
    "> Input: list1 = [\"Shogun\",\"Tapioca Express\",\"Burger King\",\"KFC\"], list2 = [\"Piatti\",\"The Grill at Torrey Pines\",\"Hungry Hunter Steakhouse\",\"Shogun\"]  \n",
    "Output: [\"Shogun\"]  \n",
    "Explanation: The only restaurant they both like is \"Shogun\".  \n",
    "\n",
    "**Example 2**\n",
    "\n",
    "> Input: list1 = [\"Shogun\",\"Tapioca Express\",\"Burger King\",\"KFC\"], list2 = [\"KFC\",\"Shogun\",\"Burger King\"]  \n",
    "Output: [\"Shogun\"]  \n",
    "Explanation: The restaurant they both like and have the least index sum is \"Shogun\" with index sum 1 (0+1).   "
   ]
  },
  {
   "cell_type": "code",
   "execution_count": 1,
   "metadata": {},
   "outputs": [],
   "source": [
    "class Solution:\n",
    "    \n",
    "    # Time Complexity： O(m+n)\n",
    "    # Space Complexity： O(m+n)\n",
    "    def findRestaurant(self, list1: list[str], list2: list[str]) -> list[str]:\n",
    "        dic1 = {restaurant: i for i, restaurant in enumerate(list1)}\n",
    "        dic2 = {restaurant: dic1[restaurant]+i for i, restaurant in enumerate(list2) if restaurant in dic1}\n",
    "        \n",
    "        return [restaurant for restaurant, idxSum in dic2.items() if idxSum == min(dic2.values())]\n",
    "        "
   ]
  },
  {
   "cell_type": "code",
   "execution_count": 2,
   "metadata": {},
   "outputs": [
    {
     "name": "stdout",
     "output_type": "stream",
     "text": [
      "Case 1: ['Shogun']\n",
      "Case 2: ['Shogun']\n"
     ]
    }
   ],
   "source": [
    "# Test on Cases\n",
    "S = Solution()\n",
    "\n",
    "print(f\"Case 1: {S.findRestaurant(['Shogun','Tapioca Express','Burger King','KFC'], ['Piatti','The Grill at Torrey Pines','Hungry Hunter Steakhouse','Shogun'])}\")\n",
    "print(f\"Case 2: {S.findRestaurant(['Shogun','Tapioca Express','Burger King','KFC'], ['KFC','Shogun','Burger King'])}\")"
   ]
  }
 ],
 "metadata": {
  "kernelspec": {
   "display_name": "Python 3.10.4 ('leetcode')",
   "language": "python",
   "name": "python3"
  },
  "language_info": {
   "codemirror_mode": {
    "name": "ipython",
    "version": 3
   },
   "file_extension": ".py",
   "mimetype": "text/x-python",
   "name": "python",
   "nbconvert_exporter": "python",
   "pygments_lexer": "ipython3",
   "version": "3.10.4"
  },
  "vscode": {
   "interpreter": {
    "hash": "21d8332eb27bea95342760850bd7426f517b6a483537194bbba87e10eeabf6ff"
   }
  }
 },
 "nbformat": 4,
 "nbformat_minor": 4
}
