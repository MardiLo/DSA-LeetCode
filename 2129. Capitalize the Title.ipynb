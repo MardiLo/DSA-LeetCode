{
 "cells": [
  {
   "cell_type": "markdown",
   "metadata": {},
   "source": [
    "`# String`"
   ]
  },
  {
   "cell_type": "markdown",
   "metadata": {},
   "source": [
    "You are given a string   consisting of one or more words separated by a single space, where each word consists of English letters. **Capitalize** the string by changing the capitalization of each word such that:\n",
    "\n",
    "- If the length of the word is `1` or `2` letters, change all letters to lowercase.\n",
    "- Otherwise, change the first letter to uppercase and the remaining letters to lowercase.\n",
    "\n",
    "Return *the **capitalized*** `title`."
   ]
  },
  {
   "cell_type": "markdown",
   "metadata": {},
   "source": [
    "**Example 1:**\n",
    "\n",
    "> Input: title = \"capiTalIze tHe titLe\"  \n",
    "> Output: \"Capitalize The Title\"  \n",
    "> Explanation:  \n",
    "> Since all the words have a length of at least 3, the first letter of each word is uppercase, and the remaining letters are lowercase.\n",
    "\n",
    "**Example 2:**\n",
    "\n",
    "> Input: title = \"First leTTeR of EACH Word\"  \n",
    "> Output: \"First Letter of Each Word\"  \n",
    "> Explanation:  \n",
    "> The word \"of\" has length 2, so it is all lowercase.  \n",
    "> The remaining words have a length of at least 3, so the first letter of each remaining word is uppercase, and the remaining letters are lowercase.  \n",
    "\n",
    "**Example 3:**\n",
    "\n",
    "> Input: title = \"i lOve leetcode\"  \n",
    "> Output: \"i Love Leetcode\"  \n",
    "> Explanation:  \n",
    "> The word \"i\" has length 1, so it is lowercase.  \n",
    "> The remaining words have a length of at least 3, so the first letter of each remaining word is uppercase, and the remaining letters are lowercase."
   ]
  },
  {
   "cell_type": "code",
   "execution_count": 1,
   "metadata": {},
   "outputs": [],
   "source": [
    "class Solution:\n",
    "\n",
    "    # Time Complexity： O(n)\n",
    "    # Space Complexity： O(n)\n",
    "    def capitalizeTitle(self, title: str) -> str:\n",
    "        return ' '.join(word.capitalize() if len(word) > 2 else word.lower() for word in title.split(' '))"
   ]
  },
  {
   "cell_type": "code",
   "execution_count": 2,
   "metadata": {},
   "outputs": [
    {
     "name": "stdout",
     "output_type": "stream",
     "text": [
      "Case 1: Capitalize The Title\n",
      "Case 2: First Letter of Each Word\n",
      "Case 3: i Love Leetcode\n"
     ]
    }
   ],
   "source": [
    "# Test on Cases\n",
    "S = Solution()\n",
    "\n",
    "print(f\"Case 1: {S.capitalizeTitle('capiTalIze tHe titLe')}\")\n",
    "print(f\"Case 2: {S.capitalizeTitle('First leTTeR of EACH Word')}\")\n",
    "print(f\"Case 3: {S.capitalizeTitle('i lOve leetcode')}\")"
   ]
  }
 ],
 "metadata": {
  "kernelspec": {
   "display_name": "Python 3 (ipykernel)",
   "language": "python",
   "name": "python3"
  },
  "language_info": {
   "codemirror_mode": {
    "name": "ipython",
    "version": 3
   },
   "file_extension": ".py",
   "mimetype": "text/x-python",
   "name": "python",
   "nbconvert_exporter": "python",
   "pygments_lexer": "ipython3",
   "version": "3.10.4"
  },
  "vscode": {
   "interpreter": {
    "hash": "21d8332eb27bea95342760850bd7426f517b6a483537194bbba87e10eeabf6ff"
   }
  }
 },
 "nbformat": 4,
 "nbformat_minor": 4
}
