{
 "cells": [
  {
   "cell_type": "markdown",
   "metadata": {},
   "source": [
    "`# Binary Search Tree` `# Binary Tree` `# Depth-First Search` `# Tree`"
   ]
  },
  {
   "cell_type": "markdown",
   "metadata": {},
   "source": [
    "Given the `root` of a binary search tree (BST) with duplicates, return *all the mode(s) (i.e., the most frequently occurred element) in it.*\n",
    "\n",
    "If the tree has more than one mode, return them in **any order**.\n",
    "\n",
    "Assume a BST is defined as follows:\n",
    "\n",
    "- The left subtree of a node contains only nodes with keys **less than or equal to** the node's key.\n",
    "- The right subtree of a node contains only nodes with keys **greater than or equal to** the node's key.\n",
    "- Both the left and right subtrees must also be binary search trees."
   ]
  },
  {
   "cell_type": "markdown",
   "metadata": {},
   "source": [
    "**Example 1:**  \n",
    "![Image of leetcode 0501 problem example 1](https://assets.leetcode.com/uploads/2021/03/11/mode-tree.jpg)\n",
    "> Input: root = [1,null,2,2]  \n",
    "Output: [2]\n",
    "\n",
    "**Example 2:**\n",
    "\n",
    "> Input: root = [0]  \n",
    "Output: [0]"
   ]
  },
  {
   "cell_type": "code",
   "execution_count": 11,
   "metadata": {},
   "outputs": [],
   "source": [
    "class TreeNode:\n",
    "    def __init__(self, val=0, left=None, right=None):\n",
    "        self.val = val\n",
    "        self.left = left\n",
    "        self.right = right\n",
    "\n",
    "class Solution:            \n",
    "            \n",
    "    # Time Complexity： O(n)\n",
    "    # Space Complexity： O(h)     \n",
    "    def findMode_DFS_recursion(self, root: TreeNode) -> list[int]:\n",
    "        from collections import defaultdict\n",
    "\n",
    "        self.cnt = defaultdict(int)\n",
    "        \n",
    "        def dfs(root: TreeNode) -> None:  \n",
    "            if root:\n",
    "                self.cnt[root.val] += 1; dfs(root.left); dfs(root.right)\n",
    "                \n",
    "        dfs(root)\n",
    "        maxFreq = max(self.cnt.values())\n",
    "        return [k for k, v in self.cnt.items() if v == maxFreq]\n",
    "\n",
    "    # Time Complexity： O(n)\n",
    "    # Space Complexity： O(w)     \n",
    "    def findMode_BFS(self, root: TreeNode) -> list[int]:\n",
    "        from collections import deque, defaultdict\n",
    "\n",
    "        queue, cnt = deque([root]), defaultdict(int)\n",
    "\n",
    "        while queue:\n",
    "            root = queue.popleft()\n",
    "\n",
    "            if root:\n",
    "                queue.extend([root.left, root.right])\n",
    "                cnt[root.val] += 1\n",
    "\n",
    "        maxFreq = max(cnt.values())\n",
    "        return [k for k, v in cnt.items() if v == maxFreq]\n",
    "\n",
    "    # Time Complexity： O(n)\n",
    "    # Space Complexity： O(h)     \n",
    "    def findMode_DFS_iteration(self, root: TreeNode) -> list[int]:\n",
    "        from collections import defaultdict\n",
    "\n",
    "        stack, cnt = [root], defaultdict(int)\n",
    "\n",
    "        while stack:\n",
    "            root = stack.pop()\n",
    "\n",
    "            if root:\n",
    "                stack.extend([root.left, root.right])\n",
    "                cnt[root.val] += 1\n",
    "\n",
    "        maxFreq = max(cnt.values())\n",
    "        return [k for k, v in cnt.items() if v == maxFreq]"
   ]
  },
  {
   "cell_type": "code",
   "execution_count": 12,
   "metadata": {},
   "outputs": [
    {
     "name": "stdout",
     "output_type": "stream",
     "text": [
      "---findMode_DFS_recursion---\n",
      "Case 1: [2]\n",
      "Case 2: [0]\n",
      "\n",
      "---findMode_BFS---\n",
      "Case 1: [2]\n",
      "Case 2: [0]\n",
      "\n",
      "---findMode_DFS_iteration---\n",
      "Case 1: [2]\n",
      "Case 2: [0]\n"
     ]
    }
   ],
   "source": [
    "# Test on Cases\n",
    "S = Solution()\n",
    "\n",
    "print(\"---findMode_DFS_recursion---\")\n",
    "print(f\"Case 1: {S.findMode_DFS_recursion(TreeNode(1, None, TreeNode(2, TreeNode(2), None)))}\")\n",
    "print(f\"Case 2: {S.findMode_DFS_recursion(TreeNode(0))}\\n\")\n",
    "\n",
    "print(\"---findMode_BFS---\")\n",
    "print(f\"Case 1: {S.findMode_BFS(TreeNode(1, None, TreeNode(2, TreeNode(2), None)))}\")\n",
    "print(f\"Case 2: {S.findMode_BFS(TreeNode(0))}\\n\")\n",
    "\n",
    "print(\"---findMode_DFS_iteration---\")\n",
    "print(f\"Case 1: {S.findMode_DFS_iteration(TreeNode(1, None, TreeNode(2, TreeNode(2), None)))}\")\n",
    "print(f\"Case 2: {S.findMode_DFS_iteration(TreeNode(0))}\")"
   ]
  }
 ],
 "metadata": {
  "kernelspec": {
   "display_name": "Python 3.10.4 ('leetcode')",
   "language": "python",
   "name": "python3"
  },
  "language_info": {
   "codemirror_mode": {
    "name": "ipython",
    "version": 3
   },
   "file_extension": ".py",
   "mimetype": "text/x-python",
   "name": "python",
   "nbconvert_exporter": "python",
   "pygments_lexer": "ipython3",
   "version": "3.10.4"
  },
  "vscode": {
   "interpreter": {
    "hash": "21d8332eb27bea95342760850bd7426f517b6a483537194bbba87e10eeabf6ff"
   }
  }
 },
 "nbformat": 4,
 "nbformat_minor": 4
}
