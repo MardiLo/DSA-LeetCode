{
 "cells": [
  {
   "cell_type": "markdown",
   "metadata": {},
   "source": [
    "`# Array` `# Sorting` "
   ]
  },
  {
   "cell_type": "markdown",
   "metadata": {},
   "source": [
    "You are given a **0-indexed** integer array `nums`. Rearrange the values of `nums` according to the following rules:\n",
    "\n",
    "1. Sort the values at **odd indices** of `nums` in **non-increasing** order.\n",
    "    - For example, if `nums = [4,1,2,3]` before this step, it becomes `[4,3,2,1]` after. The values at odd indices `1` and `3` are sorted in non-increasing order.\n",
    "2. Sort the values at even indices of `nums` in non-decreasing order.\n",
    "    - For example, if `nums = [4,1,2,3]` before this step, it becomes `[2,1,4,3]` after. The values at even indices `0` and `2` are sorted in non-decreasing order.\n",
    "\n",
    "Return the array formed after rearranging the values of `nums`."
   ]
  },
  {
   "cell_type": "markdown",
   "metadata": {},
   "source": [
    "**Example 1:**\n",
    "\n",
    "> Input: nums = [4,1,2,3]  \n",
    "Output: [2,3,4,1]  \n",
    "Explanation:   \n",
    "First, we sort the values present at odd indices (1 and 3) in non-increasing order.  \n",
    "So, nums changes from [4,1,2,3] to [4,3,2,1].  \n",
    "Next, we sort the values present at even indices (0 and 2) in non-decreasing order.  \n",
    "So, nums changes from [4,1,2,3] to [2,3,4,1].  \n",
    "Thus, the array formed after rearranging the values is [2,3,4,1].\n",
    "\n",
    "**Example 2:**\n",
    "\n",
    "> Input: nums = [2,1]  \n",
    "Output: [2,1]  \n",
    "Explanation:   \n",
    "Since there is exactly one odd index and one even index, no rearrangement of values takes place.  \n",
    "The resultant array formed is [2,1], which is the same as the initial array. "
   ]
  },
  {
   "cell_type": "code",
   "execution_count": 1,
   "metadata": {},
   "outputs": [],
   "source": [
    "class Solution:\n",
    "    \n",
    "    # Time Complexity： O(nlog(n/2))\n",
    "    # Space Complexity： O(n)    \n",
    "    def sortEvenOdd(self, nums: list[int]) -> list[int]:\n",
    "        nums[1::2], nums[::2] = sorted(nums[1::2], reverse=True), sorted(nums[::2])\n",
    "        return nums"
   ]
  },
  {
   "cell_type": "code",
   "execution_count": 2,
   "metadata": {},
   "outputs": [
    {
     "name": "stdout",
     "output_type": "stream",
     "text": [
      "Case 1: [2, 3, 4, 1]\n",
      "Case 2: [2, 1]\n"
     ]
    }
   ],
   "source": [
    "# Test on Cases\n",
    "S = Solution()\n",
    "\n",
    "print(f\"Case 1: {S.sortEvenOdd([4,1,2,3])}\")\n",
    "print(f\"Case 2: {S.sortEvenOdd([2,1])}\")"
   ]
  }
 ],
 "metadata": {
  "interpreter": {
   "hash": "21d8332eb27bea95342760850bd7426f517b6a483537194bbba87e10eeabf6ff"
  },
  "kernelspec": {
   "display_name": "Python 3.10.4 ('leetcode')",
   "language": "python",
   "name": "python3"
  },
  "language_info": {
   "codemirror_mode": {
    "name": "ipython",
    "version": 3
   },
   "file_extension": ".py",
   "mimetype": "text/x-python",
   "name": "python",
   "nbconvert_exporter": "python",
   "pygments_lexer": "ipython3",
   "version": "3.10.4"
  }
 },
 "nbformat": 4,
 "nbformat_minor": 4
}
