{
 "cells": [
  {
   "cell_type": "markdown",
   "metadata": {},
   "source": [
    "`# Array`"
   ]
  },
  {
   "cell_type": "markdown",
   "metadata": {},
   "source": [
    "Given an integer array `nums` of length `n`, you want to create an array `ans` of length `2n` where `ans[i] == nums[i]` and `ans[i + n] == nums[i]` for `0 <= i < n` (**0-indexed**).\n",
    "\n",
    "Specifically, `ans` is the **concatenation** of two `nums` arrays.\n",
    "\n",
    "Return *the array* `ans`."
   ]
  },
  {
   "cell_type": "markdown",
   "metadata": {},
   "source": [
    "**Example 1:**\n",
    "\n",
    "> Input: nums = [1,2,1]  \n",
    "> Output: [1,2,1,1,2,1]  \n",
    "> Explanation: The array ans is formed as follows:  \n",
    "> -ans = [nums[0],nums[1],nums[2],nums[0],nums[1],nums[2]]  \n",
    "> -ans = [1,2,1,1,2,1]\n",
    "\n",
    "**Example 2:**\n",
    "\n",
    "> Input: nums = [1,3,2,1]  \n",
    "> Output: [1,3,2,1,1,3,2,1]  \n",
    "> Explanation: The array ans is formed as follows:  \n",
    "> -ans = [nums[0],nums[1],nums[2],nums[3],nums[0],nums[1],nums[2],nums[3]]  \n",
    "> -ans = [1,3,2,1,1,3,2,1]"
   ]
  },
  {
   "cell_type": "code",
   "execution_count": 7,
   "metadata": {},
   "outputs": [],
   "source": [
    "class Solution:\n",
    "\n",
    "    # Time Complexity： O(n)\n",
    "    # Space Complexity： O(1)\n",
    "    def getConcatenation(self, nums: list[int]) -> list[int]:\n",
    "        return nums * 2"
   ]
  },
  {
   "cell_type": "code",
   "execution_count": 6,
   "metadata": {},
   "outputs": [
    {
     "name": "stdout",
     "output_type": "stream",
     "text": [
      "Case 1: [1, 2, 1, 1, 2, 1]\n",
      "Case 2: [1, 3, 2, 1, 1, 3, 2, 1]\n"
     ]
    }
   ],
   "source": [
    "# Test on Cases\n",
    "S = Solution()\n",
    "\n",
    "print(f\"Case 1: {S.getConcatenation([1,2,1])}\")\n",
    "print(f\"Case 2: {S.getConcatenation([1,3,2,1])}\")"
   ]
  }
 ],
 "metadata": {
  "kernelspec": {
   "display_name": "Python 3 (ipykernel)",
   "language": "python",
   "name": "python3"
  },
  "language_info": {
   "codemirror_mode": {
    "name": "ipython",
    "version": 3
   },
   "file_extension": ".py",
   "mimetype": "text/x-python",
   "name": "python",
   "nbconvert_exporter": "python",
   "pygments_lexer": "ipython3",
   "version": "3.10.4"
  },
  "vscode": {
   "interpreter": {
    "hash": "21d8332eb27bea95342760850bd7426f517b6a483537194bbba87e10eeabf6ff"
   }
  }
 },
 "nbformat": 4,
 "nbformat_minor": 4
}
