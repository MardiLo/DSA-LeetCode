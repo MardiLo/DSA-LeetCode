{
 "cells": [
  {
   "cell_type": "markdown",
   "source": [
    "`# Array` `# Math` `# Two Pointers`"
   ],
   "metadata": {}
  },
  {
   "cell_type": "markdown",
   "source": [
    "Given an `array`, *rotate the array to the ***right*** by* `k` *steps, where* `k` *is non-negative*."
   ],
   "metadata": {}
  },
  {
   "cell_type": "markdown",
   "source": [
    "**Example 1:**\r\n",
    "\r\n",
    "> Input: nums = [1,2,3,4,5,6,7], k = 3  \r\n",
    "Output: [5,6,7,1,2,3,4]  \r\n",
    "Explanation:  \r\n",
    "rotate 1 steps to the right: [7,1,2,3,4,5,6]  \r\n",
    "rotate 2 steps to the right: [6,7,1,2,3,4,5]  \r\n",
    "rotate 3 steps to the right: [5,6,7,1,2,3,4]  \r\n",
    "\r\n",
    "**Example 2:**\r\n",
    "\r\n",
    "> Input: nums = [-1,-100,3,99], k = 2  \r\n",
    "Output: [3,99,-1,-100]  \r\n",
    "Explanation:   \r\n",
    "rotate 1 steps to the right: [99,-1,-100,3]  \r\n",
    "rotate 2 steps to the right: [3,99,-1,-100]  "
   ],
   "metadata": {}
  },
  {
   "cell_type": "code",
   "execution_count": 3,
   "source": [
    "class Solution:\r\n",
    "    \r\n",
    "    # Time Complexity： O(n)\r\n",
    "    # Space Complexity： O(1)\r\n",
    "    def rotate(self, nums: 'List[int]', k: 'int') -> 'None':\r\n",
    "        \"\"\"\r\n",
    "        Do not return anything, modify nums in-place instead.\r\n",
    "        \"\"\"\r\n",
    "        def reverse(nums, l, r):\r\n",
    "            while l < r:\r\n",
    "                nums[l], nums[r] = nums[r], nums[l]\r\n",
    "                l += 1\r\n",
    "                r -= 1\r\n",
    "        \r\n",
    "        if not k:\r\n",
    "            return\r\n",
    "        \r\n",
    "        breakPoint = (len(nums) - 1) - (k % len(nums)) \r\n",
    "        reverse(nums, 0, breakPoint)                      # TC: O(k/2)\r\n",
    "        reverse(nums, breakPoint + 1, len(nums) - 1)      # TC: O((n-k)/2)\r\n",
    "        reverse(nums, 0, len(nums) - 1)                   # TC: O(n/2)\r\n",
    "\r\n",
    "        return nums"
   ],
   "outputs": [],
   "metadata": {}
  },
  {
   "cell_type": "code",
   "execution_count": 4,
   "source": [
    "# Test on Cases\r\n",
    "S = Solution()\r\n",
    "\r\n",
    "print(f\"Case 1: {S.rotate([1,2,3,4,5,6,7], 3)}\")\r\n",
    "print(f\"Case 2: {S.rotate([-1,-100,3,99], 2)}\")"
   ],
   "outputs": [
    {
     "output_type": "stream",
     "name": "stdout",
     "text": [
      "Case 1: [5, 6, 7, 1, 2, 3, 4]\n",
      "Case 2: [3, 99, -1, -100]\n"
     ]
    }
   ],
   "metadata": {}
  },
  {
   "cell_type": "markdown",
   "source": [
    "**Ref**\r\n",
    "1. [Summary of solutions in Python](https://leetcode.com/problems/rotate-array/discuss/54426/Summary-of-solutions-in-Python)"
   ],
   "metadata": {}
  }
 ],
 "metadata": {
  "kernelspec": {
   "name": "python3",
   "display_name": "Python 3.7.7 64-bit ('spark': conda)"
  },
  "language_info": {
   "codemirror_mode": {
    "name": "ipython",
    "version": 3
   },
   "file_extension": ".py",
   "mimetype": "text/x-python",
   "name": "python",
   "nbconvert_exporter": "python",
   "pygments_lexer": "ipython3",
   "version": "3.7.7"
  },
  "interpreter": {
   "hash": "6ab137a14910b4ee65d0ea442464c53c8571f8241496146388c5db8c59915964"
  }
 },
 "nbformat": 4,
 "nbformat_minor": 4
}