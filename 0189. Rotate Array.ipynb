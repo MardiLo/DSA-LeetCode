{
 "cells": [
  {
   "cell_type": "markdown",
   "metadata": {},
   "source": [
    "`# Array` `# Math` `# Two Pointers`"
   ]
  },
  {
   "cell_type": "markdown",
   "metadata": {},
   "source": [
    "Given an `array`, *rotate the array to the ***right*** by* `k` *steps, where* `k` *is non-negative*."
   ]
  },
  {
   "cell_type": "markdown",
   "metadata": {},
   "source": [
    "**Example 1:**\n",
    "\n",
    "> Input: nums = [1,2,3,4,5,6,7], k = 3  \n",
    "> Output: [5,6,7,1,2,3,4]  \n",
    "> Explanation:  \n",
    "> rotate 1 steps to the right: [7,1,2,3,4,5,6]  \n",
    "> rotate 2 steps to the right: [6,7,1,2,3,4,5]  \n",
    "> rotate 3 steps to the right: [5,6,7,1,2,3,4]  \n",
    "\n",
    "**Example 2:**\n",
    "\n",
    "> Input: nums = [-1,-100,3,99], k = 2  \n",
    "> Output: [3,99,-1,-100]  \n",
    "> Explanation:   \n",
    "> rotate 1 steps to the right: [99,-1,-100,3]  \n",
    "> rotate 2 steps to the right: [3,99,-1,-100]  "
   ]
  },
  {
   "cell_type": "code",
   "execution_count": 21,
   "metadata": {},
   "outputs": [],
   "source": [
    "class Solution:\n",
    "    \n",
    "    # Time Complexity： O(n)\n",
    "    # Space Complexity： O(1)\n",
    "    def rotate(self, nums: list[int], k: int) -> None:\n",
    "        \"\"\"Do not return anything, modify nums in-place instead.\"\"\"\n",
    "        \n",
    "        def reverse(l: int, r: int) -> None:\n",
    "            while l < r:\n",
    "                nums[l], nums[r] = nums[r], nums[l]\n",
    "                l += 1; r -= 1\n",
    "        \n",
    "        k = k % (n := len(nums))\n",
    "        [reverse(l, r) for l, r in ((0, n-1), (0, k-1), (k, n-1))]\n",
    "\n",
    "        return nums"
   ]
  },
  {
   "cell_type": "code",
   "execution_count": 22,
   "metadata": {},
   "outputs": [
    {
     "name": "stdout",
     "output_type": "stream",
     "text": [
      "Case 1: [5, 6, 7, 1, 2, 3, 4]\n",
      "Case 2: [3, 99, -1, -100]\n"
     ]
    }
   ],
   "source": [
    "# Test on Cases\n",
    "S = Solution()\n",
    "\n",
    "print(f\"Case 1: {S.rotate([1,2,3,4,5,6,7], 3)}\")\n",
    "print(f\"Case 2: {S.rotate([-1,-100,3,99], 2)}\")"
   ]
  },
  {
   "cell_type": "markdown",
   "metadata": {},
   "source": [
    "**Ref**\n",
    "1. [Summary of solutions in Python](https://leetcode.com/problems/rotate-array/discuss/54426/Summary-of-solutions-in-Python)"
   ]
  }
 ],
 "metadata": {
  "kernelspec": {
   "display_name": "leetcode",
   "language": "python",
   "name": "python3"
  },
  "language_info": {
   "codemirror_mode": {
    "name": "ipython",
    "version": 3
   },
   "file_extension": ".py",
   "mimetype": "text/x-python",
   "name": "python",
   "nbconvert_exporter": "python",
   "pygments_lexer": "ipython3",
   "version": "3.10.4"
  }
 },
 "nbformat": 4,
 "nbformat_minor": 4
}
