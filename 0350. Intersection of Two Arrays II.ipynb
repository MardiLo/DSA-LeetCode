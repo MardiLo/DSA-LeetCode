{
 "cells": [
  {
   "cell_type": "markdown",
   "source": [
    "`# Hash Table` `# Two Pointers` `# Binary Search` `# Sort`"
   ],
   "metadata": {}
  },
  {
   "cell_type": "markdown",
   "source": [
    "Given two arrays, write a function to compute their intersection."
   ],
   "metadata": {}
  },
  {
   "cell_type": "markdown",
   "source": [
    "**Example 1:**\n",
    "\n",
    ">Input: nums1 = [1,2,2,1], nums2 = [2,2]  \n",
    "Output: [2,2]\n",
    "    \n",
    "**Example 2:**\n",
    "\n",
    "> Input: nums1 = [4,9,5], nums2 = [9,4,9,8,4]  \n",
    "Output: [4,9]"
   ],
   "metadata": {}
  },
  {
   "cell_type": "code",
   "execution_count": 12,
   "source": [
    "class Solution:\r\n",
    "    \r\n",
    "    # Time Complexity： O(n+m)\r\n",
    "    # Space Complexity： O(n)  \r\n",
    "    def intersect(self, nums1: 'List[int]', nums2: 'List[int]') -> 'List[int]':\r\n",
    "        counts = {}\r\n",
    "        res = []\r\n",
    "        \r\n",
    "        for num in nums1:\r\n",
    "            counts[num] = counts.get(num, 0) + 1\r\n",
    "            \r\n",
    "        for num in nums2:\r\n",
    "            if counts.get(num, 0) > 0:\r\n",
    "                res.append(num)\r\n",
    "                counts[num] -= 1\r\n",
    "        return res"
   ],
   "outputs": [],
   "metadata": {}
  },
  {
   "cell_type": "code",
   "execution_count": 13,
   "source": [
    "# Test on Cases\r\n",
    "S = Solution()\r\n",
    "\r\n",
    "print(f\"Case 1: {S.intersect(nums1=[1,2,2,1], nums2=[2,2])}\")\r\n",
    "print(f\"Case 2: {S.intersect(nums1=[4,9,5], nums2=[9,4,9,8,4])}\")"
   ],
   "outputs": [
    {
     "output_type": "stream",
     "name": "stdout",
     "text": [
      "Case 1: [2, 2]\n",
      "Case 2: [9, 4]\n"
     ]
    }
   ],
   "metadata": {}
  }
 ],
 "metadata": {
  "kernelspec": {
   "display_name": "Python 3",
   "language": "python",
   "name": "python3"
  },
  "language_info": {
   "codemirror_mode": {
    "name": "ipython",
    "version": 3
   },
   "file_extension": ".py",
   "mimetype": "text/x-python",
   "name": "python",
   "nbconvert_exporter": "python",
   "pygments_lexer": "ipython3",
   "version": "3.7.7"
  }
 },
 "nbformat": 4,
 "nbformat_minor": 4
}