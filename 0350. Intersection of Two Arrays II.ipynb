{
 "cells": [
  {
   "cell_type": "markdown",
   "metadata": {},
   "source": [
    "`# Binary Search` `# Hash Table` `# Sorting` `# Two Pointers`"
   ]
  },
  {
   "cell_type": "markdown",
   "metadata": {},
   "source": [
    "Given two arrays, write a function to compute their intersection."
   ]
  },
  {
   "cell_type": "markdown",
   "metadata": {},
   "source": [
    "**Example 1:**\n",
    "\n",
    ">Input: nums1 = [1,2,2,1], nums2 = [2,2]  \n",
    "Output: [2,2]\n",
    "    \n",
    "**Example 2:**\n",
    "\n",
    "> Input: nums1 = [4,9,5], nums2 = [9,4,9,8,4]  \n",
    "Output: [4,9]"
   ]
  },
  {
   "cell_type": "code",
   "execution_count": 15,
   "metadata": {},
   "outputs": [],
   "source": [
    "class Solution:\n",
    "    \n",
    "    # Time Complexity： O(m+n)\n",
    "    # Space Complexity： O(m+n)  \n",
    "    def intersect(self, nums1: list[int], nums2: list[int]) -> list[int]:\n",
    "        from collections import Counter\n",
    "        from itertools import chain\n",
    "        \n",
    "        return list(chain(*([k] * v for k, v in (Counter(nums1) & Counter(nums2)).items())))   # or sum(iterable, []), but this is not efficient for very large elements in the list"
   ]
  },
  {
   "cell_type": "code",
   "execution_count": 16,
   "metadata": {},
   "outputs": [
    {
     "name": "stdout",
     "output_type": "stream",
     "text": [
      "Case 1: [2, 2]\n",
      "Case 2: [4, 9]\n"
     ]
    }
   ],
   "source": [
    "# Test on Cases\n",
    "S = Solution()\n",
    "\n",
    "print(f\"Case 1: {S.intersect(nums1=[1,2,2,1], nums2=[2,2])}\")\n",
    "print(f\"Case 2: {S.intersect(nums1=[4,9,5], nums2=[9,4,9,8,4])}\")"
   ]
  }
 ],
 "metadata": {
  "interpreter": {
   "hash": "21d8332eb27bea95342760850bd7426f517b6a483537194bbba87e10eeabf6ff"
  },
  "kernelspec": {
   "display_name": "Python 3.10.4 ('leetcode')",
   "language": "python",
   "name": "python3"
  },
  "language_info": {
   "codemirror_mode": {
    "name": "ipython",
    "version": 3
   },
   "file_extension": ".py",
   "mimetype": "text/x-python",
   "name": "python",
   "nbconvert_exporter": "python",
   "pygments_lexer": "ipython3",
   "version": "3.10.4 | packaged by conda-forge | (main, Mar 30 2022, 08:38:02) [MSC v.1916 64 bit (AMD64)]"
  }
 },
 "nbformat": 4,
 "nbformat_minor": 4
}
