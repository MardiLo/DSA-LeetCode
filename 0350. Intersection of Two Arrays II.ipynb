{
 "cells": [
  {
   "cell_type": "markdown",
   "metadata": {},
   "source": [
    "`# Hash Table` `# Two Pointers` `# Binary Search` `# Sort`"
   ]
  },
  {
   "cell_type": "markdown",
   "metadata": {},
   "source": [
    "Given two arrays, write a function to compute their intersection."
   ]
  },
  {
   "cell_type": "markdown",
   "metadata": {},
   "source": [
    "**Example 1:**\n",
    "\n",
    ">Input: nums1 = [1,2,2,1], nums2 = [2,2]  \n",
    "Output: [2,2]\n",
    "    \n",
    "**Example 2:**\n",
    "\n",
    "> Input: nums1 = [4,9,5], nums2 = [9,4,9,8,4]  \n",
    "Output: [4,9]"
   ]
  },
  {
   "cell_type": "code",
   "execution_count": 1,
   "metadata": {},
   "outputs": [],
   "source": [
    "class Solution:\n",
    "    \n",
    "    # Time Complexity： O(n+m)\n",
    "    # Space Complexity： O(n)  \n",
    "    def intersect(self, nums1: 'List[int]', nums2: 'List[int]') -> 'List[int]':\n",
    "        from collections import defaultdict\n",
    "\n",
    "        counts, res = defaultdict(int), []\n",
    "\n",
    "        for num in nums1:\n",
    "            counts[num] += 1\n",
    "            \n",
    "        for num in nums2:\n",
    "            if counts[num] > 0:\n",
    "                res.append(num)\n",
    "                counts[num] -= 1\n",
    "                \n",
    "        return res"
   ]
  },
  {
   "cell_type": "code",
   "execution_count": 2,
   "metadata": {},
   "outputs": [
    {
     "name": "stdout",
     "output_type": "stream",
     "text": [
      "Case 1: [2, 2]\n",
      "Case 2: [9, 4]\n"
     ]
    }
   ],
   "source": [
    "# Test on Cases\n",
    "S = Solution()\n",
    "\n",
    "print(f\"Case 1: {S.intersect(nums1=[1,2,2,1], nums2=[2,2])}\")\n",
    "print(f\"Case 2: {S.intersect(nums1=[4,9,5], nums2=[9,4,9,8,4])}\")"
   ]
  }
 ],
 "metadata": {
  "interpreter": {
   "hash": "a1465031eeae0bed8511463faaa157119e7e6b7b1fbf4ef49fce31064cee3326"
  },
  "kernelspec": {
   "display_name": "Python 3.8.3 64-bit ('base': conda)",
   "name": "python3"
  },
  "language_info": {
   "codemirror_mode": {
    "name": "ipython",
    "version": 3
   },
   "file_extension": ".py",
   "mimetype": "text/x-python",
   "name": "python",
   "nbconvert_exporter": "python",
   "pygments_lexer": "ipython3",
   "version": "3.8.3"
  }
 },
 "nbformat": 4,
 "nbformat_minor": 4
}
