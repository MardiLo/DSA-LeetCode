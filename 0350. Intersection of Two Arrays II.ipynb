{
 "cells": [
  {
   "cell_type": "markdown",
   "metadata": {},
   "source": [
    "`# Hash Table` `# Two Pointers` `# Binary Search` `# Sort`"
   ]
  },
  {
   "cell_type": "markdown",
   "metadata": {},
   "source": [
    "Given two arrays, write a function to compute their intersection."
   ]
  },
  {
   "cell_type": "markdown",
   "metadata": {},
   "source": [
    "**Example 1:**\n",
    "\n",
    ">Input: nums1 = [1,2,2,1], nums2 = [2,2]  \n",
    "Output: [2,2]\n",
    "    \n",
    "**Example 2:**\n",
    "\n",
    "> Input: nums1 = [4,9,5], nums2 = [9,4,9,8,4]  \n",
    "Output: [4,9]"
   ]
  },
  {
   "cell_type": "code",
   "execution_count": 3,
   "metadata": {},
   "outputs": [],
   "source": [
    "class Solution:\n",
    "    \n",
    "    # Time Complexity： O(n+m)\n",
    "    # Space Complexity： O(min(n,m))  \n",
    "    def intersect(self, nums1: list[int], nums2: list[int]) -> list[int]:\n",
    "        from collections import Counter\n",
    "        \n",
    "        if len(nums1) < len(nums2): cnt1, cnt2 = Counter(nums1), Counter(nums2)\n",
    "        else: cnt1, cnt2 = Counter(nums2), Counter(nums1)\n",
    "            \n",
    "        res = []\n",
    "        for k in cnt1.keys():\n",
    "            res += [k] * min(cnt1[k], cnt2[k])\n",
    "        \n",
    "        return res\n",
    "\n",
    "    # Time Complexity： O(n+m)\n",
    "    # Space Complexity： O(min(n,m))  \n",
    "    def intersect_shorten(self, nums1: list[int], nums2: list[int]) -> list[int]:\n",
    "        from collections import Counter\n",
    "        \n",
    "        intersectDict = Counter(nums1) & Counter(nums2)\n",
    "            \n",
    "        res = []\n",
    "        for k, v in intersectDict.items():\n",
    "            res += [k] * v\n",
    "        \n",
    "        return res"
   ]
  },
  {
   "cell_type": "code",
   "execution_count": 4,
   "metadata": {},
   "outputs": [
    {
     "name": "stdout",
     "output_type": "stream",
     "text": [
      "---intersect---\n",
      "Case 1: [2, 2]\n",
      "Case 2: [4, 9]\n",
      "\n",
      "---intersect_shorten---\n",
      "Case 1: [2, 2]\n",
      "Case 2: [4, 9]\n"
     ]
    }
   ],
   "source": [
    "# Test on Cases\n",
    "S = Solution()\n",
    "\n",
    "print(\"---intersect---\")\n",
    "print(f\"Case 1: {S.intersect(nums1=[1,2,2,1], nums2=[2,2])}\")\n",
    "print(f\"Case 2: {S.intersect(nums1=[4,9,5], nums2=[9,4,9,8,4])}\\n\")\n",
    "\n",
    "print(\"---intersect_shorten---\")\n",
    "print(f\"Case 1: {S.intersect_shorten(nums1=[1,2,2,1], nums2=[2,2])}\")\n",
    "print(f\"Case 2: {S.intersect_shorten(nums1=[4,9,5], nums2=[9,4,9,8,4])}\")"
   ]
  }
 ],
 "metadata": {
  "interpreter": {
   "hash": "21d8332eb27bea95342760850bd7426f517b6a483537194bbba87e10eeabf6ff"
  },
  "kernelspec": {
   "display_name": "Python 3.10.4 ('leetcode')",
   "language": "python",
   "name": "python3"
  },
  "language_info": {
   "codemirror_mode": {
    "name": "ipython",
    "version": 3
   },
   "file_extension": ".py",
   "mimetype": "text/x-python",
   "name": "python",
   "nbconvert_exporter": "python",
   "pygments_lexer": "ipython3",
   "version": "3.10.4"
  }
 },
 "nbformat": 4,
 "nbformat_minor": 4
}
