{
 "cells": [
  {
   "cell_type": "markdown",
   "metadata": {},
   "source": [
    "`# Array`"
   ]
  },
  {
   "cell_type": "markdown",
   "metadata": {},
   "source": [
    "Given an integer array nums and an integer `k`, return *the number of pairs* `(i, j)` *where* `i < j` *such that* `|nums[i] - nums[j]| == k`.\n",
    "\n",
    "The value of `|x|` is defined as:\n",
    "\n",
    "+ `x if x >= 0`\n",
    "+ `-x if x < 0`"
   ]
  },
  {
   "cell_type": "markdown",
   "metadata": {},
   "source": [
    "**Example 1:**\n",
    "\n",
    "> Input: nums = [1,2,2,1], k = 1  \n",
    "Output: 4  \n",
    "Explanation: The pairs with an absolute difference of 1 are:  \n",
    "    - [1,2,2,1]  \n",
    "    - [1,2,2,1]  \n",
    "    - [1,2,2,1]  \n",
    "    - [1,2,2,1]  \n",
    "\n",
    "**Example 2**\n",
    "\n",
    "> Input: nums = [1,3], k = 3  \n",
    "Output: 0  \n",
    "Explanation: There are no pairs with an absolute difference of 3.  \n",
    "\n",
    "**Example 3:**\n",
    "\n",
    "> Input: nums = [3,2,1,5,4], k = 2  \n",
    "Output: 3  \n",
    "Explanation: The pairs with an absolute difference of 2 are:  \n",
    "    - [3,2,1,5,4]  \n",
    "    - [3,2,1,5,4]  \n",
    "    - [3,2,1,5,4]  "
   ]
  },
  {
   "cell_type": "code",
   "execution_count": 3,
   "metadata": {},
   "outputs": [],
   "source": [
    "class Solution:\n",
    "    \n",
    "    # Time Complexity： O(n)\n",
    "    # Space Complexity： O(n)\n",
    "    def countKDifference(self, nums: 'List[int]', k: 'int') -> 'int':\n",
    "        from collections import defaultdict\n",
    "        \n",
    "        seen, cnt = defaultdict(int), 0\n",
    "        \n",
    "        for num in nums:\n",
    "            cnt += seen[num+k] + seen[num-k]\n",
    "            seen[num] += 1\n",
    "        \n",
    "        return cnt"
   ]
  },
  {
   "cell_type": "code",
   "execution_count": 4,
   "metadata": {},
   "outputs": [
    {
     "name": "stdout",
     "output_type": "stream",
     "text": [
      "Case 1: 4\n",
      "Case 2: 0\n",
      "Case 3: 3\n"
     ]
    }
   ],
   "source": [
    "# Test on Cases\n",
    "S = Solution()\n",
    "\n",
    "print(f\"Case 1: {S.countKDifference([1,2,2,1], 1)}\")\n",
    "print(f\"Case 2: {S.countKDifference([1,3], 3)}\")\n",
    "print(f\"Case 3: {S.countKDifference([3,2,1,5,4], 2)}\")"
   ]
  },
  {
   "cell_type": "code",
   "execution_count": null,
   "metadata": {},
   "outputs": [],
   "source": []
  }
 ],
 "metadata": {
  "kernelspec": {
   "display_name": "Python 3",
   "language": "python",
   "name": "python3"
  },
  "language_info": {
   "codemirror_mode": {
    "name": "ipython",
    "version": 3
   },
   "file_extension": ".py",
   "mimetype": "text/x-python",
   "name": "python",
   "nbconvert_exporter": "python",
   "pygments_lexer": "ipython3",
   "version": "3.7.7"
  }
 },
 "nbformat": 4,
 "nbformat_minor": 4
}
