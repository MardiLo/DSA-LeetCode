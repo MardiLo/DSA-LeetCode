{
 "cells": [
  {
   "cell_type": "markdown",
   "metadata": {},
   "source": [
    "`# Array`"
   ]
  },
  {
   "cell_type": "markdown",
   "metadata": {},
   "source": [
    "Given an integer array nums and an integer `k`, return *the number of pairs* `(i, j)` *where* `i < j` *such that* `|nums[i] - nums[j]| == k`.\n",
    "\n",
    "The value of `|x|` is defined as:\n",
    "\n",
    "+ `x if x >= 0`\n",
    "+ `-x if x < 0`"
   ]
  },
  {
   "cell_type": "markdown",
   "metadata": {},
   "source": [
    "**Example 1:**\n",
    "\n",
    "> Input: nums = [1,2,2,1], k = 1  \n",
    "> Output: 4  \n",
    "> Explanation: The pairs with an absolute difference of 1 are:  \n",
    "> - [1,2, _, _]  \n",
    "> - [1, _,2, _]  \n",
    "> - [ _,2, _,1]  \n",
    "> - [ _, _,2,1]  \n",
    "\n",
    "**Example 2**\n",
    "\n",
    "> Input: nums = [1,3], k = 3  \n",
    "> Output: 0  \n",
    "> Explanation: There are no pairs with an absolute difference of 3.  \n",
    "\n",
    "**Example 3:**\n",
    "\n",
    "> Input: nums = [3,2,1,5,4], k = 2  \n",
    "> Output: 3  \n",
    "> Explanation: The pairs with an absolute difference of 2 are:  \n",
    "> - [3, _,1, _, _]  \n",
    "> - [3, _, _,5, _]  \n",
    "> - [ _,2, _, _,4]  "
   ]
  },
  {
   "cell_type": "code",
   "execution_count": 3,
   "metadata": {},
   "outputs": [],
   "source": [
    "class Solution:\n",
    "    \n",
    "    # Time Complexity： O(n)\n",
    "    # Space Complexity： O(n)\n",
    "    def countKDifference_hashTable(self, nums: list[int], k: int) -> int:\n",
    "        from collections import Counter\n",
    "        \n",
    "        cnt = Counter(nums)\n",
    "        \n",
    "        return sum(cnt[num] * cnt[num+k] for num in cnt.keys())\n",
    "\n",
    "    # Time Complexity： O(n^2)\n",
    "    # Space Complexity： O(1)\n",
    "    def countKDifference_bruteForce(self, nums: list[int], k: int) -> int:\n",
    "        from itertools import combinations\n",
    "\n",
    "        return sum(abs(nums[i]-nums[j]) == k for i, j in combinations(range(len(nums)), 2))"
   ]
  },
  {
   "cell_type": "code",
   "execution_count": 4,
   "metadata": {},
   "outputs": [
    {
     "name": "stdout",
     "output_type": "stream",
     "text": [
      "---countKDifference_hashTable---\n",
      "Case 1: 4\n",
      "Case 2: 0\n",
      "Case 3: 3\n",
      "\n",
      "---countKDifference_bruteForce---\n",
      "Case 1: 4\n",
      "Case 2: 0\n",
      "Case 3: 3\n"
     ]
    }
   ],
   "source": [
    "# Test on Cases\n",
    "S = Solution()\n",
    "\n",
    "print(\"---countKDifference_hashTable---\")\n",
    "print(f\"Case 1: {S.countKDifference_hashTable([1,2,2,1], 1)}\")\n",
    "print(f\"Case 2: {S.countKDifference_hashTable([1,3], 3)}\")\n",
    "print(f\"Case 3: {S.countKDifference_hashTable([3,2,1,5,4], 2)}\\n\")\n",
    "\n",
    "print(\"---countKDifference_bruteForce---\")\n",
    "print(f\"Case 1: {S.countKDifference_bruteForce([1,2,2,1], 1)}\")\n",
    "print(f\"Case 2: {S.countKDifference_bruteForce([1,3], 3)}\")\n",
    "print(f\"Case 3: {S.countKDifference_bruteForce([3,2,1,5,4], 2)}\")"
   ]
  }
 ],
 "metadata": {
  "interpreter": {
   "hash": "21d8332eb27bea95342760850bd7426f517b6a483537194bbba87e10eeabf6ff"
  },
  "kernelspec": {
   "display_name": "Python 3 (ipykernel)",
   "language": "python",
   "name": "python3"
  },
  "language_info": {
   "codemirror_mode": {
    "name": "ipython",
    "version": 3
   },
   "file_extension": ".py",
   "mimetype": "text/x-python",
   "name": "python",
   "nbconvert_exporter": "python",
   "pygments_lexer": "ipython3",
   "version": "3.11.9"
  }
 },
 "nbformat": 4,
 "nbformat_minor": 4
}
