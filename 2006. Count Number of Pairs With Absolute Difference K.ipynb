{
 "cells": [
  {
   "cell_type": "markdown",
   "source": [
    "`# Array`"
   ],
   "metadata": {}
  },
  {
   "cell_type": "markdown",
   "source": [
    "Given an integer array nums and an integer `k`, return *the number of pairs* `(i, j)` *where* `i < j` *such that* `|nums[i] - nums[j]| == k`.\n",
    "\n",
    "The value of `|x|` is defined as:\n",
    "\n",
    "+ `x if x >= 0`\n",
    "+ `-x if x < 0`"
   ],
   "metadata": {}
  },
  {
   "cell_type": "markdown",
   "source": [
    "**Example 1:**\n",
    "\n",
    "> Input: nums = [1,2,2,1], k = 1  \n",
    "Output: 4  \n",
    "Explanation: The pairs with an absolute difference of 1 are:  \n",
    "    - [1,2,2,1]  \n",
    "    - [1,2,2,1]  \n",
    "    - [1,2,2,1]  \n",
    "    - [1,2,2,1]  \n",
    "\n",
    "**Example 2**\n",
    "\n",
    "> Input: nums = [1,3], k = 3  \n",
    "Output: 0  \n",
    "Explanation: There are no pairs with an absolute difference of 3.  \n",
    "\n",
    "**Example 3:**\n",
    "\n",
    "> Input: nums = [3,2,1,5,4], k = 2  \n",
    "Output: 3  \n",
    "Explanation: The pairs with an absolute difference of 2 are:  \n",
    "    - [3,2,1,5,4]  \n",
    "    - [3,2,1,5,4]  \n",
    "    - [3,2,1,5,4]  "
   ],
   "metadata": {}
  },
  {
   "cell_type": "code",
   "execution_count": 3,
   "source": [
    "class Solution:\r\n",
    "    \r\n",
    "    # Time Complexity： O(n)\r\n",
    "    # Space Complexity： O(n)\r\n",
    "    def countKDifference(self, nums: 'List[int]', k: 'int') -> 'int':\r\n",
    "        from collections import defaultdict\r\n",
    "        \r\n",
    "        seen, cnt = defaultdict(int), 0\r\n",
    "        \r\n",
    "        for num in nums:\r\n",
    "            cnt += seen[num+k] + seen[num-k]\r\n",
    "            seen[num] += 1\r\n",
    "        \r\n",
    "        return cnt"
   ],
   "outputs": [],
   "metadata": {}
  },
  {
   "cell_type": "code",
   "execution_count": 4,
   "source": [
    "# Test on Cases\r\n",
    "S = Solution()\r\n",
    "\r\n",
    "print(f\"Case 1: {S.countKDifference([1,2,2,1], 1)}\")\r\n",
    "print(f\"Case 2: {S.countKDifference([1,3], 3)}\")\r\n",
    "print(f\"Case 3: {S.countKDifference([3,2,1,5,4], 2)}\")"
   ],
   "outputs": [
    {
     "output_type": "stream",
     "name": "stdout",
     "text": [
      "Case 1: 4\n",
      "Case 2: 0\n",
      "Case 3: 3\n"
     ]
    }
   ],
   "metadata": {}
  }
 ],
 "metadata": {
  "kernelspec": {
   "display_name": "Python 3",
   "language": "python",
   "name": "python3"
  },
  "language_info": {
   "codemirror_mode": {
    "name": "ipython",
    "version": 3
   },
   "file_extension": ".py",
   "mimetype": "text/x-python",
   "name": "python",
   "nbconvert_exporter": "python",
   "pygments_lexer": "ipython3",
   "version": "3.7.7"
  }
 },
 "nbformat": 4,
 "nbformat_minor": 4
}