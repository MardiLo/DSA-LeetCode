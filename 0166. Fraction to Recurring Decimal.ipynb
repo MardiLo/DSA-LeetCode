{
 "cells": [
  {
   "cell_type": "markdown",
   "metadata": {},
   "source": [
    "`# Hash Table` `# Math` `# String`"
   ]
  },
  {
   "cell_type": "markdown",
   "metadata": {},
   "source": [
    "Given two integers representing the `numerator` and `denominator` of a fraction, return *the fraction in string format*.\n",
    "\n",
    "If the fractional part is repeating, enclose the repeating part in parentheses.\n",
    "\n",
    "If multiple answers are possible, return **any of them**.\n",
    "\n",
    "It is guaranteed that the length of the answer string is less than `10`<sup>`4`</sup> for all the given inputs."
   ]
  },
  {
   "cell_type": "markdown",
   "metadata": {},
   "source": [
    "**Example 1:**\n",
    "\n",
    "> Input: numerator = 1, denominator = 2  \n",
    "Output: \"0.5\"  \n",
    "\n",
    "**Example 2:**\n",
    "\n",
    "> Input: numerator = 2, denominator = 1  \n",
    "Output: \"2\"  \n",
    "\n",
    "**Example 3:**\n",
    "\n",
    "> Input: numerator = 2, denominator = 3  \n",
    "Output: \"0.(6)\"  \n",
    "\n",
    "**Example 4:**\n",
    "\n",
    "> Input: numerator = 4, denominator = 333  \n",
    "Output: \"0.(012)\"  \n",
    "\n",
    "**Example 5:**\n",
    "\n",
    "> Input: numerator = 1, denominator = 5  \n",
    "Output: \"0.2\"  "
   ]
  },
  {
   "cell_type": "code",
   "execution_count": 1,
   "metadata": {},
   "outputs": [],
   "source": [
    "class Solution:\n",
    "    \n",
    "    # Time Complexity： O(R), where R is the repeating part\n",
    "    # Space Complexity： O(R)\n",
    "    def fractionToDecimal(self, numerator: 'int', denominator: 'int') -> 'str':\n",
    "        n, remainder = divmod(abs(numerator), abs(denominator))\n",
    "        sign = '-' if numerator*denominator < 0 else ''\n",
    "        res = [sign+str(n), '.'] \n",
    "        remainders = {}\n",
    "\n",
    "        while remainder > 0 and remainder not in remainders:\n",
    "            remainders[remainder] = len(res)\n",
    "            n, remainder = divmod(remainder*10, abs(denominator))\n",
    "            res.append(str(n))\n",
    "\n",
    "        if remainder in remainders:\n",
    "            idx = remainders[remainder]\n",
    "            res.insert(idx, '(')\n",
    "            res.append(')')\n",
    "        \n",
    "        return ''.join(res).rstrip('.')"
   ]
  },
  {
   "cell_type": "code",
   "execution_count": 2,
   "metadata": {},
   "outputs": [
    {
     "name": "stdout",
     "output_type": "stream",
     "text": [
      "Case 1: 0.5\n",
      "Case 2: 2\n",
      "Case 3: 0.(6)\n",
      "Case 4: 0.(012)\n",
      "Case 5: 0.2\n"
     ]
    }
   ],
   "source": [
    "# Test on Cases\n",
    "S = Solution()\n",
    "\n",
    "print(f\"Case 1: {S.fractionToDecimal(1, 2)}\")\n",
    "print(f\"Case 2: {S.fractionToDecimal(2, 1)}\")\n",
    "print(f\"Case 3: {S.fractionToDecimal(2, 3)}\")\n",
    "print(f\"Case 4: {S.fractionToDecimal(4, 333)}\")\n",
    "print(f\"Case 5: {S.fractionToDecimal(1, 5)}\")"
   ]
  },
  {
   "cell_type": "markdown",
   "metadata": {},
   "source": [
    "**Ref**\n",
    "1. [Do not use python as cpp, here's a short version python code](https://leetcode.com/problems/fraction-to-recurring-decimal/discuss/51110/Do-not-use-python-as-cpp-here's-a-short-version-python-code)"
   ]
  }
 ],
 "metadata": {
  "interpreter": {
   "hash": "6ab137a14910b4ee65d0ea442464c53c8571f8241496146388c5db8c59915964"
  },
  "kernelspec": {
   "display_name": "Python 3.7.7 64-bit ('spark': conda)",
   "name": "python3"
  },
  "language_info": {
   "codemirror_mode": {
    "name": "ipython",
    "version": 3
   },
   "file_extension": ".py",
   "mimetype": "text/x-python",
   "name": "python",
   "nbconvert_exporter": "python",
   "pygments_lexer": "ipython3",
   "version": "3.8.3"
  }
 },
 "nbformat": 4,
 "nbformat_minor": 4
}
