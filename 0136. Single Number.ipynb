{
 "cells": [
  {
   "cell_type": "markdown",
   "metadata": {},
   "source": [
    "`# Array` `# Bit Manipulation`"
   ]
  },
  {
   "cell_type": "markdown",
   "metadata": {},
   "source": [
    "Given a **non-empty** array of integers `nums`, every element appears twice except for one. Find that single one.\n",
    "\n",
    "Follow up: Could you implement a solution with a **linear runtime complexity** and **without using extra memory**?"
   ]
  },
  {
   "cell_type": "markdown",
   "metadata": {},
   "source": [
    "**Example 1:**\n",
    "\n",
    "> Input: nums = [2,2,1]  \n",
    "> Output: 1\n",
    "\n",
    "**Example 2:**\n",
    "\n",
    "> Input: nums = [4,1,2,1,2]  \n",
    "> Output: 4\n",
    "\n",
    "**Example 3:**\n",
    "\n",
    "> Input: nums = [1]  \n",
    "> Output: 1"
   ]
  },
  {
   "cell_type": "code",
   "execution_count": 1,
   "metadata": {},
   "outputs": [],
   "source": [
    "class Solution:\n",
    "\n",
    "    # Time Complexity： O(n)\n",
    "    # Space Complexity： O(1)  \n",
    "    def singleNumber_xor(self, nums: list[int]) -> int:\n",
    "        from functools import reduce\n",
    "        from operator import xor\n",
    "\n",
    "        return reduce(xor, nums)   \n",
    "\n",
    "    # Time Complexity： O(n)\n",
    "    # Space Complexity： O(n)  \n",
    "    def singleNumber_hashTable(self, nums: list[int]) -> int:\n",
    "        from collections import Counter\n",
    "\n",
    "        return next(k for k, v in Counter(nums).items() if v == 1)\n",
    "        \n",
    "    # Time Complexity： O(n)\n",
    "    # Space Complexity： O(n)\n",
    "    def singleNumber_math(self, nums: list[int]) -> int:\n",
    "        return 2*sum(set(nums)) - sum(nums)"
   ]
  },
  {
   "cell_type": "code",
   "execution_count": 2,
   "metadata": {},
   "outputs": [
    {
     "name": "stdout",
     "output_type": "stream",
     "text": [
      "---singleNumber_xor---\n",
      "Case 1: 1\n",
      "Case 2: 4\n",
      "Case 3: 1\n",
      "\n",
      "---singleNumber_hashTable---\n",
      "Case 1: 1\n",
      "Case 2: 4\n",
      "Case 3: 1\n",
      "\n",
      "---singleNumber_math---\n",
      "Case 1: 1\n",
      "Case 2: 4\n",
      "Case 3: 1\n"
     ]
    }
   ],
   "source": [
    "# Test on Cases\n",
    "S = Solution()\n",
    "\n",
    "print(\"---singleNumber_xor---\")\n",
    "print(f\"Case 1: {S.singleNumber_xor([2,2,1])}\")\n",
    "print(f\"Case 2: {S.singleNumber_xor([4,1,2,1,2])}\")\n",
    "print(f\"Case 3: {S.singleNumber_xor([1])}\\n\")\n",
    "\n",
    "print(\"---singleNumber_hashTable---\")\n",
    "print(f\"Case 1: {S.singleNumber_hashTable([2,2,1])}\")\n",
    "print(f\"Case 2: {S.singleNumber_hashTable([4,1,2,1,2])}\")\n",
    "print(f\"Case 3: {S.singleNumber_hashTable([1])}\\n\")\n",
    "\n",
    "print(\"---singleNumber_math---\")\n",
    "print(f\"Case 1: {S.singleNumber_math([2,2,1])}\")\n",
    "print(f\"Case 2: {S.singleNumber_math([4,1,2,1,2])}\")\n",
    "print(f\"Case 3: {S.singleNumber_math([1])}\")"
   ]
  }
 ],
 "metadata": {
  "kernelspec": {
   "display_name": "leetcode",
   "language": "python",
   "name": "python3"
  },
  "language_info": {
   "codemirror_mode": {
    "name": "ipython",
    "version": 3
   },
   "file_extension": ".py",
   "mimetype": "text/x-python",
   "name": "python",
   "nbconvert_exporter": "python",
   "pygments_lexer": "ipython3",
   "version": "3.10.4"
  },
  "vscode": {
   "interpreter": {
    "hash": "21d8332eb27bea95342760850bd7426f517b6a483537194bbba87e10eeabf6ff"
   }
  }
 },
 "nbformat": 4,
 "nbformat_minor": 4
}
