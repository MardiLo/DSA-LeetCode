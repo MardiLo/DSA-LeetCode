{
 "cells": [
  {
   "cell_type": "markdown",
   "source": [
    "`# Bit Manipulation` `# Hash Table`"
   ],
   "metadata": {}
  },
  {
   "cell_type": "markdown",
   "source": [
    "Given a **non-empty** array of integers `nums`, every element appears twice except for one. Find that single one.\n",
    "\n",
    "Follow up: Could you implement a solution with a **linear runtime complexity** and **without using extra memory**?"
   ],
   "metadata": {}
  },
  {
   "cell_type": "markdown",
   "source": [
    "**Example 1:**\n",
    "\n",
    "> Input: nums = [2,2,1]  \n",
    "Output: 1\n",
    "\n",
    "**Example 2:**\n",
    "\n",
    "> Input: nums = [4,1,2,1,2]  \n",
    "Output: 4\n",
    "\n",
    "**Example 3:**\n",
    "\n",
    "> Input: nums = [1]  \n",
    "Output: 1"
   ],
   "metadata": {}
  },
  {
   "cell_type": "code",
   "execution_count": 3,
   "source": [
    "class Solution:\r\n",
    "    \r\n",
    "    # Time Complexity： O(n)\r\n",
    "    # Space Complexity： O(n)  \r\n",
    "    def singleNumber_hashTable(self, nums: 'List[int]') -> 'int':\r\n",
    "        # dic = collections.Counter(nums)\r\n",
    "        dic = {}\r\n",
    "        \r\n",
    "        for num in nums:\r\n",
    "            dic[num] = dic.get(num, 0) + 1\r\n",
    "        \r\n",
    "        for k, v in dic.items():\r\n",
    "            if v == 1:\r\n",
    "                return k \r\n",
    "    \r\n",
    "    \r\n",
    "    # Time Complexity： O(n)\r\n",
    "    # Space Complexity： O(1)  \r\n",
    "    def singleNumber_xor(self, nums: 'List[int]') -> 'int':\r\n",
    "        for i in range(1, len(nums)):\r\n",
    "            nums[0] ^= nums[i]\r\n",
    "            \r\n",
    "        return nums[0]\r\n",
    "        \r\n",
    "    \r\n",
    "    # Time Complexity： O(n)\r\n",
    "    # Space Complexity： O(n)\r\n",
    "    def singleNumber_set(self, nums: 'List[int]') -> 'int':\r\n",
    "        return 2 * sum(set(nums)) - sum(nums)"
   ],
   "outputs": [],
   "metadata": {}
  },
  {
   "cell_type": "code",
   "execution_count": 4,
   "source": [
    "# Test on Cases\r\n",
    "S = Solution()\r\n",
    "\r\n",
    "print(\"---singleNumber_hashTable---\")\r\n",
    "print(f\"Case 1: {S.singleNumber_hashTable([2,2,1])}\")\r\n",
    "print(f\"Case 2: {S.singleNumber_hashTable([4,1,2,1,2])}\")\r\n",
    "print(f\"Case 3: {S.singleNumber_hashTable([1])}\\n\")\r\n",
    "\r\n",
    "print(\"---singleNumber_xor---\")\r\n",
    "print(f\"Case 1: {S.singleNumber_xor([2,2,1])}\")\r\n",
    "print(f\"Case 2: {S.singleNumber_xor([4,1,2,1,2])}\")\r\n",
    "print(f\"Case 3: {S.singleNumber_xor([1])}\\n\")\r\n",
    "\r\n",
    "print(\"---singleNumber_set---\")\r\n",
    "print(f\"Case 1: {S.singleNumber_set([2,2,1])}\")\r\n",
    "print(f\"Case 2: {S.singleNumber_set([4,1,2,1,2])}\")\r\n",
    "print(f\"Case 3: {S.singleNumber_set([1])}\")"
   ],
   "outputs": [
    {
     "output_type": "stream",
     "name": "stdout",
     "text": [
      "---singleNumber_hashTable---\n",
      "Case 1: 1\n",
      "Case 2: 4\n",
      "Case 3: 1\n",
      "\n",
      "---singleNumber_xor---\n",
      "0\n",
      "1\n",
      "Case 1: 1\n",
      "5\n",
      "7\n",
      "6\n",
      "4\n",
      "Case 2: 4\n",
      "Case 3: 1\n",
      "\n",
      "---singleNumber_set---\n",
      "Case 1: 1\n",
      "Case 2: 4\n",
      "Case 3: 1\n"
     ]
    }
   ],
   "metadata": {}
  }
 ],
 "metadata": {
  "kernelspec": {
   "display_name": "Python 3",
   "language": "python",
   "name": "python3"
  },
  "language_info": {
   "codemirror_mode": {
    "name": "ipython",
    "version": 3
   },
   "file_extension": ".py",
   "mimetype": "text/x-python",
   "name": "python",
   "nbconvert_exporter": "python",
   "pygments_lexer": "ipython3",
   "version": "3.7.7"
  }
 },
 "nbformat": 4,
 "nbformat_minor": 4
}