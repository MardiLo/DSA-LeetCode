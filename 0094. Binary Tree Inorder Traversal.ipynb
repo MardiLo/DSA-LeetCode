{
 "cells": [
  {
   "cell_type": "markdown",
   "metadata": {},
   "source": [
    "`# Binary Tree` `# Depth-First Search` `# Stack` `# Tree`"
   ]
  },
  {
   "cell_type": "markdown",
   "metadata": {},
   "source": [
    "Given the `root` of a binary tree, return *the **inorder traversal** of its nodes' values*."
   ]
  },
  {
   "cell_type": "markdown",
   "metadata": {},
   "source": [
    "**Example 1:**  \n",
    "![Image of leetcode 0094 problem example 1](https://assets.leetcode.com/uploads/2020/09/15/inorder_1.jpg)\n",
    "> Input: root = [1,null,2,3]  \n",
    "> Output: [1,3,2]\n",
    "\n",
    "**Example 2:**\n",
    "\n",
    "> Input: root = []  \n",
    "> Output: []\n",
    "\n",
    "**Example 3:**\n",
    "\n",
    "> Input: root = [1]  \n",
    "> Output: [1]\n",
    "\n",
    "**Example 4:**  \n",
    "![Image of leetcode 0094 problem example 4](https://assets.leetcode.com/uploads/2020/09/15/inorder_5.jpg)\n",
    "> Input: root = [1,2]  \n",
    "> Output: [2,1]\n",
    "\n",
    "**Example 5:**  \n",
    "![Image of leetcode 0094 problem example 5](https://assets.leetcode.com/uploads/2020/09/15/inorder_4.jpg)\n",
    "> Input: root = [1,null,2]  \n",
    "> Output: [1,2]"
   ]
  },
  {
   "cell_type": "code",
   "execution_count": 1,
   "metadata": {},
   "outputs": [],
   "source": [
    "class TreeNode:\n",
    "    def __init__(self, val=0, left=None, right=None):\n",
    "        self.val = val\n",
    "        self.left = left\n",
    "        self.right = right\n",
    "\n",
    "class Solution:            \n",
    "            \n",
    "    # Time Complexity： O(n)\n",
    "    # Space Complexity： O(h)     \n",
    "    def inorderTraversal_DFS_recursion(self, root: TreeNode) -> list[int]:\n",
    "        return self.inorderTraversal_DFS_recursion(root.left) + [root.val] + self.inorderTraversal_DFS_recursion(root.right) if root else []\n",
    "\n",
    "        # res = []\n",
    "\n",
    "        # if root:\n",
    "        #     res.extend(self.inorderTraversal_DFS_recursion(root.left) + [root.val] + self.inorderTraversal_DFS_recursion(root.right))\n",
    "        \n",
    "        # return res\n",
    "\n",
    "    # Time Complexity： O(n)\n",
    "    # Space Complexity： O(h)     \n",
    "    def inorderTraversal_DFS_iteration(self, root: TreeNode) -> list[int]:\n",
    "        stack, res = [(0, root)], []\n",
    "\n",
    "        while stack:\n",
    "            visited, root = stack.pop()\n",
    "\n",
    "            if root:\n",
    "                if not visited: stack.extend([(0, root.right), (1, root), (0, root.left)])\n",
    "                else: res.append(root.val)\n",
    "\n",
    "        return res"
   ]
  },
  {
   "cell_type": "code",
   "execution_count": 2,
   "metadata": {},
   "outputs": [
    {
     "name": "stdout",
     "output_type": "stream",
     "text": [
      "---inorderTraversal_DFS_recursion---\n",
      "Case 1: [1, 3, 2]\n",
      "Case 2: []\n",
      "Case 3: [1]\n",
      "Case 4: [2, 1]\n",
      "Case 5: [1, 2]\n",
      "\n",
      "---inorderTraversal_DFS_iteration---\n",
      "Case 1: [1, 3, 2]\n",
      "Case 2: []\n",
      "Case 3: [1]\n",
      "Case 4: [2, 1]\n",
      "Case 5: [1, 2]\n"
     ]
    }
   ],
   "source": [
    "# Test on Cases\n",
    "S = Solution()\n",
    "\n",
    "print(\"---inorderTraversal_DFS_recursion---\")\n",
    "print(f\"Case 1: {S.inorderTraversal_DFS_recursion(TreeNode(1, None, TreeNode(2, TreeNode(3), None)))}\")\n",
    "print(f\"Case 2: {S.inorderTraversal_DFS_recursion([])}\")\n",
    "print(f\"Case 3: {S.inorderTraversal_DFS_recursion(TreeNode(1))}\")\n",
    "print(f\"Case 4: {S.inorderTraversal_DFS_recursion(TreeNode(1, TreeNode(2)))}\")\n",
    "print(f\"Case 5: {S.inorderTraversal_DFS_recursion(TreeNode(1, None, TreeNode(2)))}\\n\")\n",
    "\n",
    "print(\"---inorderTraversal_DFS_iteration---\")\n",
    "print(f\"Case 1: {S.inorderTraversal_DFS_iteration(TreeNode(1, None, TreeNode(2, TreeNode(3), None)))}\")\n",
    "print(f\"Case 2: {S.inorderTraversal_DFS_iteration([])}\")\n",
    "print(f\"Case 3: {S.inorderTraversal_DFS_iteration(TreeNode(1))}\")\n",
    "print(f\"Case 4: {S.inorderTraversal_DFS_iteration(TreeNode(1, TreeNode(2)))}\")\n",
    "print(f\"Case 5: {S.inorderTraversal_DFS_iteration(TreeNode(1, None, TreeNode(2)))}\")"
   ]
  }
 ],
 "metadata": {
  "kernelspec": {
   "display_name": "Python 3 (ipykernel)",
   "language": "python",
   "name": "python3"
  },
  "language_info": {
   "codemirror_mode": {
    "name": "ipython",
    "version": 3
   },
   "file_extension": ".py",
   "mimetype": "text/x-python",
   "name": "python",
   "nbconvert_exporter": "python",
   "pygments_lexer": "ipython3",
   "version": "3.10.4"
  },
  "vscode": {
   "interpreter": {
    "hash": "21d8332eb27bea95342760850bd7426f517b6a483537194bbba87e10eeabf6ff"
   }
  }
 },
 "nbformat": 4,
 "nbformat_minor": 4
}
