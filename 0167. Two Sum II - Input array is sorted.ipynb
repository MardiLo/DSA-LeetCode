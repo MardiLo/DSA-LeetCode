{
 "cells": [
  {
   "cell_type": "markdown",
   "metadata": {},
   "source": [
    "`# Array` `# Binary Search` `# Two Pointers`"
   ]
  },
  {
   "cell_type": "markdown",
   "metadata": {},
   "source": [
    "Given a **1-indexed** array of integers `numbers` that is already **sorted in non-decreasing order**, find two numbers such that they add up to a specific `target` number. Let these two numbers be `numbers[index`<sub>`1`</sub>`]` and `numbers[index`<sub>`2`</sub>`]` where `1 <= index`<sub>`1`</sub>` < index`<sub>`2`</sub>` <= numbers.length`.\n",
    "\n",
    "Return *the indices of the two numbers*, `index`<sub>`1`</sub> *and* `index`<sub>`2`</sub>, ***added by one*** *as an integer array* `[index`<sub>`1`</sub>`, index`<sub>`2`</sub>`]` *of length 2*.\n",
    "\n",
    "The tests are generated such that there is **exactly one solution**. You **may not use** the same element twice.\n",
    "\n",
    "Your solution must use only **constant extra space**."
   ]
  },
  {
   "cell_type": "markdown",
   "metadata": {},
   "source": [
    "**Example 1:**\n",
    "\n",
    "> Input: numbers = [2,7,11,15], target = 9  \n",
    "Output: [1,2]  \n",
    "Explanation: The sum of 2 and 7 is 9. Therefore, index1 = 1, index2 = 2. We return [1, 2].\n",
    "\n",
    "**Example 2:**\n",
    "\n",
    "> Input: numbers = [2,3,4], target = 6  \n",
    "Output: [1,3]  \n",
    "Explanation: The sum of 2 and 4 is 6. Therefore index1 = 1, index2 = 3. We return [1, 3].\n",
    "\n",
    "**Example 3:**\n",
    "\n",
    "> Input: numbers = [-1,0], target = -1  \n",
    "Output: [1,2]  \n",
    "Explanation: The sum of -1 and 0 is -1. Therefore index1 = 1, index2 = 2. We return [1, 2]."
   ]
  },
  {
   "cell_type": "code",
   "execution_count": 1,
   "metadata": {},
   "outputs": [],
   "source": [
    "class Solution:\n",
    "    \n",
    "    # Time Complexity： O(n)\n",
    "    # Space Complexity： O(1)\n",
    "    def twoSum(self, numbers: list[int], target: int) -> list[int]:\n",
    "        l, r = 0, len(numbers)-1\n",
    "        \n",
    "        while l < r:\n",
    "            if (s := numbers[l] + numbers[r]) < target: l += 1\n",
    "            elif s > target: r -= 1\n",
    "            else: return [l+1, r+1]"
   ]
  },
  {
   "cell_type": "code",
   "execution_count": 2,
   "metadata": {},
   "outputs": [
    {
     "name": "stdout",
     "output_type": "stream",
     "text": [
      "Case 1: [1, 2]\n",
      "Case 2: [1, 3]\n",
      "Case 3: [1, 2]\n"
     ]
    }
   ],
   "source": [
    "# Test on Cases\n",
    "S = Solution()\n",
    "\n",
    "print(f\"Case 1: {S.twoSum([2,7,11,15], 9)}\")\n",
    "print(f\"Case 2: {S.twoSum([2,3,4], 6)}\")\n",
    "print(f\"Case 3: {S.twoSum([-1,0], -1)}\")"
   ]
  }
 ],
 "metadata": {
  "kernelspec": {
   "display_name": "Python 3.10.4 ('leetcode')",
   "language": "python",
   "name": "python3"
  },
  "language_info": {
   "codemirror_mode": {
    "name": "ipython",
    "version": 3
   },
   "file_extension": ".py",
   "mimetype": "text/x-python",
   "name": "python",
   "nbconvert_exporter": "python",
   "pygments_lexer": "ipython3",
   "version": "3.10.4"
  },
  "vscode": {
   "interpreter": {
    "hash": "21d8332eb27bea95342760850bd7426f517b6a483537194bbba87e10eeabf6ff"
   }
  }
 },
 "nbformat": 4,
 "nbformat_minor": 4
}
