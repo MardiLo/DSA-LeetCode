{
 "cells": [
  {
   "cell_type": "markdown",
   "metadata": {},
   "source": [
    "`# Array` `# Binary Search` `# Two Pointers`"
   ]
  },
  {
   "cell_type": "markdown",
   "metadata": {},
   "source": [
    "Given an array of integers `numbers` that is already **sorted in non-decreasing order**, find two numbers such that they add up to a specific `target` number.\n",
    "\n",
    "Return the indices of the two numbers **(1-indexed)** as an integer array `answer` of size `2`, where `1 <= answer[0] < answer[1] <= numbers.length`.\n",
    "\n",
    "The tests are generated such that there is **exactly one solution**. You may not use the same element twice."
   ]
  },
  {
   "cell_type": "markdown",
   "metadata": {},
   "source": [
    "**Example 1:**\n",
    "\n",
    "> Input: numbers = [2,7,11,15], target = 9  \n",
    "Output: [1,2]\n",
    "Explanation: The sum of 2 and 7 is 9. Therefore index1 = 1, index2 = 2.\n",
    "\n",
    "**Example 2:**\n",
    "\n",
    "> Input: numbers = [2,3,4], target = 6  \n",
    "Output: [1,3]\n",
    "\n",
    "**Example 3:**\n",
    "\n",
    "> Input: numbers = [-1,0], target = -1  \n",
    "Output: [1,2]"
   ]
  },
  {
   "cell_type": "code",
   "execution_count": 5,
   "metadata": {},
   "outputs": [],
   "source": [
    "class Solution:\n",
    "    \n",
    "    # Time Complexity： O(n)\n",
    "    # Space Complexity： O(n)\n",
    "    def twoSum_hashTable(self, numbers: 'List[int]', target: 'int') -> 'List[int]':\n",
    "        from collections import defaultdict\n",
    "        \n",
    "        dic = defaultdict(int)\n",
    "        \n",
    "        for i, num in enumerate(numbers): \n",
    "            diff = target - num\n",
    "            \n",
    "            if diff in dic: return [dic[diff]+1, i+1]\n",
    "            else: dic[num] = i\n",
    "                \n",
    "                \n",
    "    # Time Complexity： O(n)\n",
    "    # Space Complexity： O(1)\n",
    "    def twoSum_twoPointers(self, numbers: 'List[int]', target: 'int') -> 'List[int]':\n",
    "        l, r = 0, len(numbers)-1\n",
    "        \n",
    "        while l < r:\n",
    "            s = numbers[l] + numbers[r]\n",
    "            \n",
    "            if s < target:\n",
    "                l += 1\n",
    "            elif s > target:\n",
    "                r -= 1\n",
    "            else:\n",
    "                return [l+1, r+1]"
   ]
  },
  {
   "cell_type": "code",
   "execution_count": 6,
   "metadata": {},
   "outputs": [
    {
     "name": "stdout",
     "output_type": "stream",
     "text": [
      "---twoSum_hashTable---\n",
      "Case 1: [1, 2]\n",
      "Case 2: [1, 3]\n",
      "Case 3: [1, 2]\n",
      "\n",
      "---twoSum_twoPointers---\n",
      "Case 1: [1, 2]\n",
      "Case 2: [1, 3]\n",
      "Case 3: [1, 2]\n",
      "\n"
     ]
    }
   ],
   "source": [
    "# Test on Cases\n",
    "S = Solution()\n",
    "\n",
    "print(\"---twoSum_hashTable---\")\n",
    "print(f\"Case 1: {S.twoSum_hashTable([2,7,11,15], 9)}\")\n",
    "print(f\"Case 2: {S.twoSum_hashTable([2,3,4], 6)}\")\n",
    "print(f\"Case 3: {S.twoSum_hashTable([-1,0], -1)}\\n\")\n",
    "\n",
    "print(\"---twoSum_twoPointers---\")\n",
    "print(f\"Case 1: {S.twoSum_twoPointers([2,7,11,15], 9)}\")\n",
    "print(f\"Case 2: {S.twoSum_twoPointers([2,3,4], 6)}\")\n",
    "print(f\"Case 3: {S.twoSum_twoPointers([-1,0], -1)}\\n\")"
   ]
  }
 ],
 "metadata": {
  "kernelspec": {
   "display_name": "Python 3",
   "language": "python",
   "name": "python3"
  },
  "language_info": {
   "codemirror_mode": {
    "name": "ipython",
    "version": 3
   },
   "file_extension": ".py",
   "mimetype": "text/x-python",
   "name": "python",
   "nbconvert_exporter": "python",
   "pygments_lexer": "ipython3",
   "version": "3.8.3"
  }
 },
 "nbformat": 4,
 "nbformat_minor": 4
}
