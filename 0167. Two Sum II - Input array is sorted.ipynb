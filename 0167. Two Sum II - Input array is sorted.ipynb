{
 "cells": [
  {
   "cell_type": "markdown",
   "source": [
    "`# Two Pointers` `# Array` `# Binary Search`"
   ],
   "metadata": {}
  },
  {
   "cell_type": "markdown",
   "source": [
    "Given an array of integers `numbers` that is already **sorted in non-decreasing order**, find two numbers such that they add up to a specific `target` number.\n",
    "\n",
    "Return the indices of the two numbers **(1-indexed)** as an integer array `answer` of size `2`, where `1 <= answer[0] < answer[1] <= numbers.length`.\n",
    "\n",
    "The tests are generated such that there is **exactly one solution**. You may not use the same element twice."
   ],
   "metadata": {}
  },
  {
   "cell_type": "markdown",
   "source": [
    "**Example 1:**\n",
    "\n",
    "> Input: numbers = [2,7,11,15], target = 9  \n",
    "Output: [1,2]\n",
    "Explanation: The sum of 2 and 7 is 9. Therefore index1 = 1, index2 = 2.\n",
    "\n",
    "**Example 2:**\n",
    "\n",
    "> Input: numbers = [2,3,4], target = 6  \n",
    "Output: [1,3]\n",
    "\n",
    "**Example 3:**\n",
    "\n",
    "> Input: numbers = [-1,0], target = -1  \n",
    "Output: [1,2]"
   ],
   "metadata": {}
  },
  {
   "cell_type": "code",
   "execution_count": 9,
   "source": [
    "class Solution:\r\n",
    "    \r\n",
    "    # Time Complexity： O(n)\r\n",
    "    # Space Complexity： O(n)\r\n",
    "    def twoSum_hashTable(self, numbers: 'List[int]', target: 'int') -> 'List[int]':\r\n",
    "        dic = {}\r\n",
    "        \r\n",
    "        for i in range(len(numbers)):\r\n",
    "            diff = target - numbers[i]\r\n",
    "            \r\n",
    "            if diff in dic:\r\n",
    "                return [dic[diff]+1, i+1]\r\n",
    "            else:\r\n",
    "                dic[numbers[i]] = i\r\n",
    "                \r\n",
    "                \r\n",
    "    # Time Complexity： O(n)\r\n",
    "    # Space Complexity： O(1)\r\n",
    "    def twoSum_twoPointers(self, numbers: 'List[int]', target: 'int') -> 'List[int]':\r\n",
    "        l, r = 0, len(numbers)-1\r\n",
    "        \r\n",
    "        while l <= r:\r\n",
    "            s = numbers[l] + numbers[r]\r\n",
    "            \r\n",
    "            if s < target:\r\n",
    "                l += 1\r\n",
    "            elif s < target:\r\n",
    "                r -= 1\r\n",
    "            else:\r\n",
    "                return [l+1, r+1]"
   ],
   "outputs": [],
   "metadata": {}
  },
  {
   "cell_type": "code",
   "execution_count": 10,
   "source": [
    "# Test on Cases\r\n",
    "S = Solution()\r\n",
    "\r\n",
    "print(\"---twoSum_hashTable---\")\r\n",
    "print(f\"Case 1: {S.twoSum_hashTable([2,7,11,15], 9)}\")\r\n",
    "print(f\"Case 2: {S.twoSum_hashTable([2,3,4], 6)}\")\r\n",
    "print(f\"Case 3: {S.twoSum_hashTable([-1,0], -1)}\\n\")\r\n",
    "\r\n",
    "print(\"---twoSum_twoPointers---\")\r\n",
    "print(f\"Case 1: {S.twoSum_twoPointers([2,7,11,15], 9)}\")\r\n",
    "print(f\"Case 2: {S.twoSum_twoPointers([2,3,4], 6)}\")\r\n",
    "print(f\"Case 3: {S.twoSum_twoPointers([-1,0], -1)}\\n\")"
   ],
   "outputs": [
    {
     "output_type": "stream",
     "name": "stdout",
     "text": [
      "---twoSum_hashTable---\n",
      "Case 1: [1, 2]\n",
      "Case 2: [1, 3]\n",
      "Case 3: [1, 2]\n",
      "\n",
      "---twoSum_twoPointers---\n",
      "Case 1: [1, 2]\n",
      "Case 2: [1, 3]\n",
      "Case 3: [1, 2]\n",
      "\n"
     ]
    }
   ],
   "metadata": {}
  }
 ],
 "metadata": {
  "kernelspec": {
   "display_name": "Python 3",
   "language": "python",
   "name": "python3"
  },
  "language_info": {
   "codemirror_mode": {
    "name": "ipython",
    "version": 3
   },
   "file_extension": ".py",
   "mimetype": "text/x-python",
   "name": "python",
   "nbconvert_exporter": "python",
   "pygments_lexer": "ipython3",
   "version": "3.7.7"
  }
 },
 "nbformat": 4,
 "nbformat_minor": 4
}