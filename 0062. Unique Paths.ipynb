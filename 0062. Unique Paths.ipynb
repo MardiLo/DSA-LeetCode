{
 "cells": [
  {
   "cell_type": "markdown",
   "metadata": {},
   "source": [
    "`# Combinatorics` `# Dynamic Programming` `# Math`"
   ]
  },
  {
   "cell_type": "markdown",
   "metadata": {},
   "source": [
    "A robot is located at the top-left corner of a `m x n` grid (marked 'Start' in the diagram below).\n",
    "\n",
    "The robot can only move either down or right at any point in time. The robot is trying to reach the bottom-right corner of the grid (marked 'Finish' in the diagram below).\n",
    "\n",
    "*How many possible unique paths are there?*"
   ]
  },
  {
   "cell_type": "markdown",
   "metadata": {},
   "source": [
    "**Example 1:**  \n",
    "![Image of leetcode 0062 problem example 1](https://assets.leetcode.com/uploads/2018/10/22/robot_maze.png)\n",
    "> Input: m = 3, n = 7  \n",
    "Output: 28  \n",
    "\n",
    "**Example 2:**\n",
    "\n",
    "> Input: m = 3, n = 2  \n",
    "Output: 3  \n",
    "Explanation:  \n",
    "From the top-left corner, there are a total of 3 ways to reach the bottom-right corner:  \n",
    "1. Right -> Down -> Down  \n",
    "2. Down -> Down -> Right  \n",
    "3. Down -> Right -> Down  \n",
    "\n",
    "**Example 3:**  \n",
    "\n",
    "> Input: m = 7, n = 3  \n",
    "Output: 28  \n",
    "\n",
    "**Example 4:**  \n",
    "\n",
    "> Input: m = 3, n = 3  \n",
    "Output: 6  "
   ]
  },
  {
   "cell_type": "code",
   "execution_count": 3,
   "metadata": {},
   "outputs": [],
   "source": [
    "class Solution:\n",
    "    \n",
    "    # Time Complexity： O(min(m-1, n-1))\n",
    "    # Space Complexity： O(1)    \n",
    "    def uniquePaths_math(self, m: 'int', n: 'int') -> 'int':\n",
    "        from math import comb      # only supported in python 3.8 or greater\n",
    "        return comb(m+n-2, n-1)    # or comb(m+n-2, m-1)\n",
    "    \n",
    "    \n",
    "    # Time Complexity： O(mn)\n",
    "    # Space Complexity： O(min(n, m))       \n",
    "    def uniquePaths_DP(self, m: 'int', n: 'int') -> 'int':\n",
    "        from itertools import product\n",
    "\n",
    "        n, m = min(m,n), max(m,n)\n",
    "        cur = [1] * n\n",
    "        \n",
    "        for i, j in product(range(1, m), range(1, n)):\n",
    "            cur[j] += cur[j-1]\n",
    "\n",
    "        return cur[-1]"
   ]
  },
  {
   "cell_type": "code",
   "execution_count": 4,
   "metadata": {},
   "outputs": [
    {
     "name": "stdout",
     "output_type": "stream",
     "text": [
      "---uniquePaths_math---\n",
      "Case 1: 28\n",
      "Case 2: 3\n",
      "Case 3: 28\n",
      "Case 4: 6\n",
      "\n",
      "---uniquePaths_DP---\n",
      "Case 1: 28\n",
      "Case 2: 3\n",
      "Case 3: 28\n",
      "Case 4: 6\n",
      "\n"
     ]
    }
   ],
   "source": [
    "# Test on Cases\n",
    "S = Solution()\n",
    "\n",
    "print(\"---uniquePaths_math---\")\n",
    "print(f\"Case 1: {S.uniquePaths_math(3,7)}\")\n",
    "print(f\"Case 2: {S.uniquePaths_math(3,2)}\")\n",
    "print(f\"Case 3: {S.uniquePaths_math(7,3)}\")\n",
    "print(f\"Case 4: {S.uniquePaths_math(3,3)}\\n\")\n",
    "\n",
    "\n",
    "print(\"---uniquePaths_DP---\")\n",
    "print(f\"Case 1: {S.uniquePaths_DP(3,7)}\")\n",
    "print(f\"Case 2: {S.uniquePaths_DP(3,2)}\")\n",
    "print(f\"Case 3: {S.uniquePaths_DP(7,3)}\")\n",
    "print(f\"Case 4: {S.uniquePaths_DP(3,3)}\\n\")"
   ]
  },
  {
   "cell_type": "markdown",
   "metadata": {},
   "source": [
    "**Ref**\n",
    "1. [Python easy to understand solutions (math, dp O(m*n) and O(n) space).](https://leetcode.com/problems/unique-paths/discuss/22975/Python-easy-to-understand-solutions-(math-dp-O(m*n)-and-O(n)-space).)"
   ]
  }
 ],
 "metadata": {
  "interpreter": {
   "hash": "a1465031eeae0bed8511463faaa157119e7e6b7b1fbf4ef49fce31064cee3326"
  },
  "kernelspec": {
   "display_name": "Python 3.8.3 64-bit ('base': conda)",
   "name": "python3"
  },
  "language_info": {
   "codemirror_mode": {
    "name": "ipython",
    "version": 3
   },
   "file_extension": ".py",
   "mimetype": "text/x-python",
   "name": "python",
   "nbconvert_exporter": "python",
   "pygments_lexer": "ipython3",
   "version": "3.8.3"
  }
 },
 "nbformat": 4,
 "nbformat_minor": 4
}
