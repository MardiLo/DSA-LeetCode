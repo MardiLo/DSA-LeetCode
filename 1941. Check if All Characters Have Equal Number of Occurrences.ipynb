{
 "cells": [
  {
   "cell_type": "markdown",
   "metadata": {},
   "source": [
    "`# Counting` `# Hash Table` `# String`"
   ]
  },
  {
   "cell_type": "markdown",
   "metadata": {},
   "source": [
    "Given a string `s`, return `true` *if* `s` *is a good string, or* `false` *otherwise*.\n",
    "\n",
    "A string `s` is **good** if **all** the characters that appear in `s` have the **same** number of occurrences (i.e., the same frequency)."
   ]
  },
  {
   "cell_type": "markdown",
   "metadata": {},
   "source": [
    "**Example 1:**\n",
    "\n",
    "> Input: s = \"abacbc\"  \n",
    "Output: true  \n",
    "Explanation: The characters that appear in s are 'a', 'b', and 'c'. All characters occur 2 times in s.\n",
    "\n",
    "**Example 2:**\n",
    "\n",
    "> Input: s = \"aaabb\"  \n",
    "Output: false  \n",
    "Explanation: The characters that appear in s are 'a' and 'b'.  \n",
    "'a' occurs 3 times while 'b' occurs 2 times, which is not the same number of times."
   ]
  },
  {
   "cell_type": "code",
   "execution_count": 1,
   "metadata": {},
   "outputs": [],
   "source": [
    "class Solution:\n",
    "\n",
    "    # Time Complexity： O(n)\n",
    "    # Space Complexity： O(n)\n",
    "    def areOccurrencesEqual(self, s: str) -> bool:\n",
    "        from collections import Counter\n",
    "\n",
    "        return len(set(Counter(s).values())) == 1"
   ]
  },
  {
   "cell_type": "code",
   "execution_count": 2,
   "metadata": {},
   "outputs": [
    {
     "name": "stdout",
     "output_type": "stream",
     "text": [
      "Case 1: True\n",
      "Case 2: False\n"
     ]
    }
   ],
   "source": [
    "# Test on Cases\n",
    "S = Solution()\n",
    "\n",
    "print(f\"Case 1: {S.areOccurrencesEqual('abacbc')}\")\n",
    "print(f\"Case 2: {S.areOccurrencesEqual('aaabb')}\")"
   ]
  }
 ],
 "metadata": {
  "kernelspec": {
   "display_name": "Python 3.10.4 ('leetcode')",
   "language": "python",
   "name": "python3"
  },
  "language_info": {
   "codemirror_mode": {
    "name": "ipython",
    "version": 3
   },
   "file_extension": ".py",
   "mimetype": "text/x-python",
   "name": "python",
   "nbconvert_exporter": "python",
   "pygments_lexer": "ipython3",
   "version": "3.10.4"
  },
  "vscode": {
   "interpreter": {
    "hash": "21d8332eb27bea95342760850bd7426f517b6a483537194bbba87e10eeabf6ff"
   }
  }
 },
 "nbformat": 4,
 "nbformat_minor": 4
}
