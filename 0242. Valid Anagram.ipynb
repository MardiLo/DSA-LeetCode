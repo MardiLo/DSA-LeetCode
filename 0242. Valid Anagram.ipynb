{
 "cells": [
  {
   "cell_type": "markdown",
   "metadata": {},
   "source": [
    "`# Hash Table` `# Sort`"
   ]
  },
  {
   "cell_type": "markdown",
   "metadata": {},
   "source": [
    "Given two strings `s` and `t` , write *a function to determine if* `t` *is an ***anagram*** of* `s`."
   ]
  },
  {
   "cell_type": "markdown",
   "metadata": {},
   "source": [
    "**Example 1:**\n",
    "\n",
    "> Input: s = \"anagram\", t = \"nagaram\"  \n",
    "Output: true\n",
    "    \n",
    "**Example 2:**\n",
    "\n",
    "> Input: s = \"rat\", t = \"car\"  \n",
    "Output: false"
   ]
  },
  {
   "cell_type": "code",
   "execution_count": 1,
   "metadata": {},
   "outputs": [],
   "source": [
    "class Solution:\n",
    "    \n",
    "    # Time Complexity： O(max(m,n)), where n = len(s); m = len(t)\n",
    "    # Space Complexity： O(max(m,n))\n",
    "    def isAnagram_hashTable(self, s: str, t: str) -> bool:\n",
    "        from collections import Counter\n",
    "\n",
    "        return Counter(s) == Counter(t)\n",
    "    \n",
    "    # Time Complexity： O(max(nlogn, mlogm))\n",
    "    # Space Complexity： O(max(m,n))\n",
    "    def isAnagram_sort(self, s: str, t: str) -> bool:\n",
    "        return sorted(s) == sorted(t)"
   ]
  },
  {
   "cell_type": "code",
   "execution_count": 2,
   "metadata": {},
   "outputs": [
    {
     "name": "stdout",
     "output_type": "stream",
     "text": [
      "---isAnagram_hashTable---\n",
      "Case 1: True\n",
      "Case 2: False\n",
      "\n",
      "---isAnagram_sort---\n",
      "Case 1: True\n",
      "Case 2: False\n"
     ]
    }
   ],
   "source": [
    "# Test on Cases\n",
    "S = Solution()\n",
    "\n",
    "print(\"---isAnagram_hashTable---\")\n",
    "print(f\"Case 1: {S.isAnagram_hashTable(s='anagram', t='nagaram')}\")\n",
    "print(f\"Case 2: {S.isAnagram_hashTable(s='rat', t='car')}\\n\")\n",
    "\n",
    "print(\"---isAnagram_sort---\")\n",
    "print(f\"Case 1: {S.isAnagram_sort(s='anagram', t='nagaram')}\")\n",
    "print(f\"Case 2: {S.isAnagram_sort(s='rat', t='car')}\")"
   ]
  }
 ],
 "metadata": {
  "kernelspec": {
   "display_name": "Python 3.10.4 ('leetcode')",
   "language": "python",
   "name": "python3"
  },
  "language_info": {
   "codemirror_mode": {
    "name": "ipython",
    "version": 3
   },
   "file_extension": ".py",
   "mimetype": "text/x-python",
   "name": "python",
   "nbconvert_exporter": "python",
   "pygments_lexer": "ipython3",
   "version": "3.10.4"
  },
  "vscode": {
   "interpreter": {
    "hash": "21d8332eb27bea95342760850bd7426f517b6a483537194bbba87e10eeabf6ff"
   }
  }
 },
 "nbformat": 4,
 "nbformat_minor": 4
}
