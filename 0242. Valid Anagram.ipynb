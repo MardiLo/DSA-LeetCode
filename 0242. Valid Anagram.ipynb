{
 "cells": [
  {
   "cell_type": "markdown",
   "metadata": {},
   "source": [
    "`# Hash Table` `# Sort`"
   ]
  },
  {
   "cell_type": "markdown",
   "metadata": {},
   "source": [
    "Given two strings `s` and `t` , write *a function to determine if* `t` *is an ***anagram*** of* `s`."
   ]
  },
  {
   "cell_type": "markdown",
   "metadata": {},
   "source": [
    "**Example 1:**\n",
    "\n",
    "> Input: s = \"anagram\", t = \"nagaram\"  \n",
    "Output: true\n",
    "    \n",
    "**Example 2:**\n",
    "\n",
    "> Input: s = \"rat\", t = \"car\"  \n",
    "Output: false"
   ]
  },
  {
   "cell_type": "code",
   "execution_count": 3,
   "metadata": {},
   "outputs": [],
   "source": [
    "class Solution:\n",
    "    \n",
    "    # Time Complexity： O(n)\n",
    "    # Space Complexity： O(n)\n",
    "    def isAnagram_hashTable(self, s: 'str', t: 'str') -> 'bool':\n",
    "        from collections import defaultdict\n",
    "\n",
    "        if len(s) != len(t): return False\n",
    "        \n",
    "        dic1, dic2 = defaultdict(int), defaultdict(int)\n",
    "\n",
    "        for c in s: dic1[c] += 1\n",
    "        for c in t: dic2[c] += 1\n",
    "\n",
    "        return dic1 == dic2 \n",
    "    \n",
    "    # Time Complexity： O(nlogn)\n",
    "    # Space Complexity： O(n)\n",
    "    def isAnagram_sort(self, s: 'str', t: 'str') -> 'bool':\n",
    "        return sorted(s) == sorted(t)"
   ]
  },
  {
   "cell_type": "code",
   "execution_count": 4,
   "metadata": {},
   "outputs": [
    {
     "name": "stdout",
     "output_type": "stream",
     "text": [
      "---isAnagram_hashTable---\n",
      "Case 1: True\n",
      "Case 2: False\n",
      "\n",
      "---isAnagram_sort---\n",
      "Case 1: True\n",
      "Case 2: False\n"
     ]
    }
   ],
   "source": [
    "# Test on Cases\n",
    "S = Solution()\n",
    "\n",
    "print(\"---isAnagram_hashTable---\")\n",
    "print(f\"Case 1: {S.isAnagram_hashTable(s='anagram', t='nagaram')}\")\n",
    "print(f\"Case 2: {S.isAnagram_hashTable(s='rat', t='car')}\\n\")\n",
    "\n",
    "print(\"---isAnagram_sort---\")\n",
    "print(f\"Case 1: {S.isAnagram_sort(s='anagram', t='nagaram')}\")\n",
    "print(f\"Case 2: {S.isAnagram_sort(s='rat', t='car')}\")"
   ]
  }
 ],
 "metadata": {
  "interpreter": {
   "hash": "a1465031eeae0bed8511463faaa157119e7e6b7b1fbf4ef49fce31064cee3326"
  },
  "kernelspec": {
   "display_name": "Python 3.8.3 64-bit ('base': conda)",
   "name": "python3"
  },
  "language_info": {
   "codemirror_mode": {
    "name": "ipython",
    "version": 3
   },
   "file_extension": ".py",
   "mimetype": "text/x-python",
   "name": "python",
   "nbconvert_exporter": "python",
   "pygments_lexer": "ipython3",
   "version": "3.8.3"
  }
 },
 "nbformat": 4,
 "nbformat_minor": 4
}
