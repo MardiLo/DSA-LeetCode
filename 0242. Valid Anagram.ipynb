{
 "cells": [
  {
   "cell_type": "markdown",
   "source": [
    "`# Hash Table` `# Sort`"
   ],
   "metadata": {}
  },
  {
   "cell_type": "markdown",
   "source": [
    "Given two strings `s` and `t` , write *a function to determine if* `t` *is an ***anagram*** of* `s`."
   ],
   "metadata": {}
  },
  {
   "cell_type": "markdown",
   "source": [
    "**Example 1:**\n",
    "\n",
    "> Input: s = \"anagram\", t = \"nagaram\"  \n",
    "Output: true\n",
    "    \n",
    "**Example 2:**\n",
    "\n",
    "> Input: s = \"rat\", t = \"car\"  \n",
    "Output: false"
   ],
   "metadata": {}
  },
  {
   "cell_type": "code",
   "execution_count": 9,
   "source": [
    "class Solution:\r\n",
    "    \r\n",
    "    # Time Complexity： O(n)\r\n",
    "    # Space Complexity： O(n)\r\n",
    "    def isAnagram_hashTable(self, s: 'str', t: 'str') -> 'bool':\r\n",
    "        if len(s) != len(t):\r\n",
    "            return False\r\n",
    "        \r\n",
    "        dic1, dic2 = {}, {}\r\n",
    "\r\n",
    "        for c in s:\r\n",
    "            dic1[c] = dic1.get(c, 0) + 1\r\n",
    "\r\n",
    "        for c in t:\r\n",
    "            dic2[c] = dic2.get(c, 0) + 1\r\n",
    "\r\n",
    "        return dic1 == dic2 \r\n",
    "    \r\n",
    "    # Time Complexity： O(nlogn)\r\n",
    "    # Space Complexity： O(1)\r\n",
    "    def isAnagram_sort(self, s: 'str', t: 'str') -> 'bool':\r\n",
    "        return sorted(s) == sorted(t)"
   ],
   "outputs": [],
   "metadata": {}
  },
  {
   "cell_type": "code",
   "execution_count": 10,
   "source": [
    "# Test on Cases\r\n",
    "S = Solution()\r\n",
    "\r\n",
    "print(\"---isAnagram_hashTable---\")\r\n",
    "print(f\"Case 1: {S.isAnagram_hashTable(s='anagram', t='nagaram')}\")\r\n",
    "print(f\"Case 2: {S.isAnagram_hashTable(s='rat', t='car')}\\n\")\r\n",
    "\r\n",
    "print(\"---isAnagram_sort---\")\r\n",
    "print(f\"Case 1: {S.isAnagram_sort(s='anagram', t='nagaram')}\")\r\n",
    "print(f\"Case 2: {S.isAnagram_sort(s='rat', t='car')}\")"
   ],
   "outputs": [
    {
     "output_type": "stream",
     "name": "stdout",
     "text": [
      "---isAnagram_hashTable---\n",
      "Case 1: True\n",
      "Case 2: False\n",
      "\n",
      "---isAnagram_sort---\n",
      "Case 1: True\n",
      "Case 2: False\n",
      "\n"
     ]
    }
   ],
   "metadata": {}
  }
 ],
 "metadata": {
  "kernelspec": {
   "display_name": "Python 3",
   "language": "python",
   "name": "python3"
  },
  "language_info": {
   "codemirror_mode": {
    "name": "ipython",
    "version": 3
   },
   "file_extension": ".py",
   "mimetype": "text/x-python",
   "name": "python",
   "nbconvert_exporter": "python",
   "pygments_lexer": "ipython3",
   "version": "3.7.7"
  }
 },
 "nbformat": 4,
 "nbformat_minor": 4
}