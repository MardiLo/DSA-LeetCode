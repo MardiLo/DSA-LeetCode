{
 "cells": [
  {
   "cell_type": "markdown",
   "metadata": {},
   "source": [
    "`# Bit Manipulation` `# Math`"
   ]
  },
  {
   "cell_type": "markdown",
   "metadata": {},
   "source": [
    "Given an integer `num`, return *the number of steps to reduce it to zero.*\n",
    "\n",
    "In one step, if the current number is even, you have to divide it by `2`, otherwise, you have to subtract `1` from it."
   ]
  },
  {
   "cell_type": "markdown",
   "metadata": {},
   "source": [
    "**Example 1:**\n",
    "\n",
    "> Input: num = 14  \n",
    "Output: 6  \n",
    "Explanation:   \n",
    "Step 1) 14 is even; divide by 2 and obtain 7.   \n",
    "Step 2) 7 is odd; subtract 1 and obtain 6.  \n",
    "Step 3) 6 is even; divide by 2 and obtain 3.   \n",
    "Step 4) 3 is odd; subtract 1 and obtain 2.   \n",
    "Step 5) 2 is even; divide by 2 and obtain 1.   \n",
    "Step 6) 1 is odd; subtract 1 and obtain 0.\n",
    "\n",
    "**Example 2:**\n",
    "\n",
    "> Input: num = 8  \n",
    "Output: 4  \n",
    "Explanation:   \n",
    "Step 1) 8 is even; divide by 2 and obtain 4.   \n",
    "Step 2) 4 is even; divide by 2 and obtain 2.   \n",
    "Step 3) 2 is even; divide by 2 and obtain 1.   \n",
    "Step 4) 1 is odd; subtract 1 and obtain 0.\n",
    "\n",
    "**Example 3:**\n",
    "\n",
    "> Input: num = 123  \n",
    "Output: 12  "
   ]
  },
  {
   "cell_type": "code",
   "execution_count": 1,
   "metadata": {},
   "outputs": [],
   "source": [
    "class Solution:\n",
    "\n",
    "    # Time Complexity： O(logn)\n",
    "    # Space Complexity： O(1)\n",
    "    def numberOfSteps(self, num: int) -> int:\n",
    "        cnt = 0\n",
    "        \n",
    "        while num:\n",
    "            if num % 2: num -= 1\n",
    "            else: num /= 2\n",
    "\n",
    "            cnt += 1\n",
    "        \n",
    "        return cnt"
   ]
  },
  {
   "cell_type": "code",
   "execution_count": 2,
   "metadata": {},
   "outputs": [
    {
     "name": "stdout",
     "output_type": "stream",
     "text": [
      "Case 1: 6\n",
      "Case 2: 4\n",
      "Case 3: 12\n"
     ]
    }
   ],
   "source": [
    "# Test on Cases\n",
    "S = Solution()\n",
    "\n",
    "print(f\"Case 1: {S.numberOfSteps(14)}\")\n",
    "print(f\"Case 2: {S.numberOfSteps(8)}\")\n",
    "print(f\"Case 3: {S.numberOfSteps(123)}\")"
   ]
  }
 ],
 "metadata": {
  "kernelspec": {
   "display_name": "Python 3.10.4 ('leetcode')",
   "language": "python",
   "name": "python3"
  },
  "language_info": {
   "codemirror_mode": {
    "name": "ipython",
    "version": 3
   },
   "file_extension": ".py",
   "mimetype": "text/x-python",
   "name": "python",
   "nbconvert_exporter": "python",
   "pygments_lexer": "ipython3",
   "version": "3.10.4"
  },
  "vscode": {
   "interpreter": {
    "hash": "21d8332eb27bea95342760850bd7426f517b6a483537194bbba87e10eeabf6ff"
   }
  }
 },
 "nbformat": 4,
 "nbformat_minor": 4
}
