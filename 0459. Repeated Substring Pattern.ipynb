{
 "cells": [
  {
   "cell_type": "markdown",
   "metadata": {},
   "source": [
    "`# String` ` # String Matching`"
   ]
  },
  {
   "cell_type": "markdown",
   "metadata": {},
   "source": [
    "Given a string `s`, check if it can be constructed by taking a substring of it and appending multiple copies of the substring together."
   ]
  },
  {
   "cell_type": "markdown",
   "metadata": {},
   "source": [
    "**Example 1:**\n",
    "\n",
    "> Input: s = \"abab\"  \n",
    "> Output: true  \n",
    "> Explanation: It is the substring \"ab\" twice.\n",
    "\n",
    "**Example 2:**\n",
    "\n",
    "> Input: s = \"aba\"  \n",
    "> Output: false\n",
    "\n",
    "**Example 3:**\n",
    "\n",
    "> Input: s = \"abcabcabcabc\"  \n",
    "> Output: true  \n",
    "> Explanation: It is the substring \"abc\" four times or the substring \"abcabc\" twice."
   ]
  },
  {
   "cell_type": "code",
   "execution_count": 1,
   "metadata": {},
   "outputs": [],
   "source": [
    "class Solution:\n",
    "\n",
    "    # Time Complexity： O(n)\n",
    "    # Space Complexity： O(n)       \n",
    "    def repeatedSubstringPattern(self, s: str) -> bool:\n",
    "        return s in (s*2)[1:-1]"
   ]
  },
  {
   "cell_type": "code",
   "execution_count": 2,
   "metadata": {},
   "outputs": [
    {
     "name": "stdout",
     "output_type": "stream",
     "text": [
      "Case 1: True\n",
      "Case 2: False\n",
      "Case 3: True\n"
     ]
    }
   ],
   "source": [
    "# Test on Cases\n",
    "S = Solution()\n",
    "\n",
    "print(f\"Case 1: {S.repeatedSubstringPattern('abab')}\")\n",
    "print(f\"Case 2: {S.repeatedSubstringPattern('aba')}\")\n",
    "print(f\"Case 3: {S.repeatedSubstringPattern('abcabcabcabc')}\")"
   ]
  }
 ],
 "metadata": {
  "kernelspec": {
   "display_name": "Python 3 (ipykernel)",
   "language": "python",
   "name": "python3"
  },
  "language_info": {
   "codemirror_mode": {
    "name": "ipython",
    "version": 3
   },
   "file_extension": ".py",
   "mimetype": "text/x-python",
   "name": "python",
   "nbconvert_exporter": "python",
   "pygments_lexer": "ipython3",
   "version": "3.11.9"
  },
  "vscode": {
   "interpreter": {
    "hash": "21d8332eb27bea95342760850bd7426f517b6a483537194bbba87e10eeabf6ff"
   }
  }
 },
 "nbformat": 4,
 "nbformat_minor": 4
}
