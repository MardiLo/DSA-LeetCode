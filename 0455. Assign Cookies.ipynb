{
 "cells": [
  {
   "attachments": {},
   "cell_type": "markdown",
   "metadata": {},
   "source": [
    "`# Array` `# Greedy` `# Sorting` `# Two Pointers`"
   ]
  },
  {
   "attachments": {},
   "cell_type": "markdown",
   "metadata": {},
   "source": [
    "Assume you are an awesome parent and want to give your children some cookies. But, you should give each child at most one cookie.\n",
    "\n",
    "Each child `i` has a greed factor `g[i]`, which is the minimum size of a cookie that the child will be content with; and each cookie j has a size `s[j]`. If `s[j] >= g[i]`, we can assign the cookie `j` to the child `i`, and the child `i` will be content. Your goal is to maximize the number of your content children and output the maximum number."
   ]
  },
  {
   "attachments": {},
   "cell_type": "markdown",
   "metadata": {},
   "source": [
    "**Example 1:**\n",
    "\n",
    "> Input: g = [1,2,3], s = [1,1]  \n",
    "> Output: 1  \n",
    "> Explanation: You have 3 children and 2 cookies. The greed factors of 3 children are 1, 2, 3.   \n",
    "> And even though you have 2 cookies, since their size is both 1, you could only make the child whose greed factor is 1 content.  \n",
    "> You need to output 1.\n",
    "\n",
    "**Example 2:**\n",
    "\n",
    "> Input: g = [1,2], s = [1,2,3]  \n",
    "> Output: 2  \n",
    "> Explanation: You have 2 children and 3 cookies. The greed factors of 2 children are 1, 2.   \n",
    "> You have 3 cookies and their sizes are big enough to gratify all of the children,   \n",
    "> You need to output 2."
   ]
  },
  {
   "cell_type": "code",
   "execution_count": 1,
   "metadata": {},
   "outputs": [],
   "source": [
    "class Solution:\n",
    "\n",
    "    # Time Complexity： O(nlogn)\n",
    "    # Space Complexity： O(n)\n",
    "    def findContentChildren(self, g: list[int], s: list[int]) -> int:\n",
    "        from bisect import bisect_left\n",
    "\n",
    "        g, s, i, j = sorted(g), sorted(s), 0, -1\n",
    "\n",
    "        while i < len(g) and j < len(s):\n",
    "            if (j := bisect_left(s, g[i], lo=j+1)) < len(s): i += 1\n",
    "\n",
    "        return i"
   ]
  },
  {
   "cell_type": "code",
   "execution_count": 2,
   "metadata": {},
   "outputs": [
    {
     "name": "stdout",
     "output_type": "stream",
     "text": [
      "Case 1: 1\n",
      "Case 2: 2\n"
     ]
    }
   ],
   "source": [
    "# Test on Cases\n",
    "S = Solution()\n",
    "\n",
    "print(f\"Case 1: {S.findContentChildren([1,2,3], [1,1])}\")\n",
    "print(f\"Case 2: {S.findContentChildren([1,1], [1,2,3])}\")"
   ]
  }
 ],
 "metadata": {
  "kernelspec": {
   "display_name": "Python 3 (ipykernel)",
   "language": "python",
   "name": "python3"
  },
  "language_info": {
   "codemirror_mode": {
    "name": "ipython",
    "version": 3
   },
   "file_extension": ".py",
   "mimetype": "text/x-python",
   "name": "python",
   "nbconvert_exporter": "python",
   "pygments_lexer": "ipython3",
   "version": "3.10.4 | packaged by conda-forge | (main, Mar 30 2022, 08:38:02) [MSC v.1916 64 bit (AMD64)]"
  },
  "vscode": {
   "interpreter": {
    "hash": "21d8332eb27bea95342760850bd7426f517b6a483537194bbba87e10eeabf6ff"
   }
  }
 },
 "nbformat": 4,
 "nbformat_minor": 4
}
