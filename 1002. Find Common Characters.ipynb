{
 "cells": [
  {
   "cell_type": "markdown",
   "metadata": {},
   "source": [
    "`# Array` `# Hash Table` `# String`"
   ]
  },
  {
   "cell_type": "markdown",
   "metadata": {},
   "source": [
    "Given a string array `words`, return *an array of all characters that show up in all strings within the `words` (including duplicates)*. You may return the answer in **any order**."
   ]
  },
  {
   "cell_type": "markdown",
   "metadata": {},
   "source": [
    "**Example 1:**\n",
    "\n",
    "> Input: words = [\"bella\",\"label\",\"roller\"]  \n",
    "> Output: [\"e\",\"l\",\"l\"]  \n",
    "\n",
    "**Example 2**\n",
    "\n",
    "> Input: words = [\"cool\",\"lock\",\"cook\"]  \n",
    "> Output: [\"c\",\"o\"] "
   ]
  },
  {
   "cell_type": "code",
   "execution_count": 7,
   "metadata": {},
   "outputs": [],
   "source": [
    "class Solution:\n",
    "    \n",
    "    # Time Complexity： O(mn+26n+26+m), where m is the length of word, and n is the number of words\n",
    "    # Space Complexity： O(26n)\n",
    "    def commonChars(self, words: list[str]) -> list[str]:\n",
    "        from collections import Counter\n",
    "        from itertools import chain\n",
    "        from functools import reduce\n",
    "        from operator import iand\n",
    "\n",
    "        return list(chain.from_iterable([c] * freq for c, freq in reduce(iand, map(Counter, words)).items()))"
   ]
  },
  {
   "cell_type": "code",
   "execution_count": 8,
   "metadata": {},
   "outputs": [
    {
     "name": "stdout",
     "output_type": "stream",
     "text": [
      "Case 1: ['e', 'l', 'l']\n",
      "Case 2: ['c', 'o']\n"
     ]
    }
   ],
   "source": [
    "# Test on Cases\n",
    "S = Solution()\n",
    "\n",
    "print(f\"Case 1: {S.commonChars(['bella','label','roller'])}\")\n",
    "print(f\"Case 2: {S.commonChars(['cool','lock','cook'])}\")"
   ]
  }
 ],
 "metadata": {
  "kernelspec": {
   "display_name": "Python 3 (ipykernel)",
   "language": "python",
   "name": "python3"
  },
  "language_info": {
   "codemirror_mode": {
    "name": "ipython",
    "version": 3
   },
   "file_extension": ".py",
   "mimetype": "text/x-python",
   "name": "python",
   "nbconvert_exporter": "python",
   "pygments_lexer": "ipython3",
   "version": "3.11.9"
  },
  "vscode": {
   "interpreter": {
    "hash": "21d8332eb27bea95342760850bd7426f517b6a483537194bbba87e10eeabf6ff"
   }
  }
 },
 "nbformat": 4,
 "nbformat_minor": 4
}
