{
 "cells": [
  {
   "attachments": {},
   "cell_type": "markdown",
   "metadata": {},
   "source": [
    "`# Backtracking`"
   ]
  },
  {
   "attachments": {},
   "cell_type": "markdown",
   "metadata": {},
   "source": [
    "Given two integers `n` and `k`, return *all possible combinations of* `k` *numbers chosen from the range* `[1, n]`.\n",
    "\n",
    "You may return the answer in **any order**."
   ]
  },
  {
   "attachments": {},
   "cell_type": "markdown",
   "metadata": {},
   "source": [
    "**Example 1:**  \n",
    "\n",
    "> Input: n = 4, k = 2  \n",
    "> Output: [[1,2],[1,3],[1,4],[2,3],[2,4],[3,4]]  \n",
    "> Explanation: There are 4 choose 2 = 6 total combinations.  \n",
    "> Note that combinations are unordered, i.e., [1,2] and [2,1] are considered to be the same combination.\n",
    "\n",
    "**Example 2:**  \n",
    "\n",
    "> Input: n = 1, k = 1  \n",
    "> Output: [[1]]  \n",
    "> Explanation: There is 1 choose 1 = 1 total combination."
   ]
  },
  {
   "cell_type": "code",
   "execution_count": 3,
   "metadata": {},
   "outputs": [],
   "source": [
    "class Solution:\n",
    "    \n",
    "    # TC: O(k*C(n,k))\n",
    "    # SC: O(n+k^2), k is the tree height and at max k elements in the selected array\n",
    "    def combine_DFS_recursion(self, n: int, k: int) -> list[list[int]]:\n",
    "        candidates, res = [i for i in range(1, n+1)], []\n",
    "\n",
    "        def dfs(selected: list[int], tracker: int) -> None:\n",
    "            if len(selected) == k: \n",
    "                res.append(selected)\n",
    "                return\n",
    "\n",
    "            for i in range(tracker, len(candidates)):\n",
    "                if len(selected) + (n-i) < k: break        # pruning\n",
    "                dfs(selected+[candidates[i]], i+1)         # i+1 means not to include current selected element\n",
    "\n",
    "        dfs([], 0)\n",
    "        \n",
    "        return res\n",
    "    \n",
    "    # TC: O(k*C(n,k))\n",
    "    # SC: O(k^2*C(n,k)), k*C(n,k) for all nodes in the tree and at max k elements in the selected array \n",
    "    def combine_BFS(self, n: int, k: int) -> list[list[int]]:\n",
    "        from collections import deque\n",
    "\n",
    "        candidates, res, queue = [i for i in range(1, n+1)], [], deque([([], 0)])\n",
    "\n",
    "        while queue:\n",
    "            selected, tracker = queue.popleft()\n",
    "\n",
    "            if len(selected) == k: \n",
    "                res.append(selected)\n",
    "            else:\n",
    "                for i in range(tracker, len(candidates)):\n",
    "                    if len(selected) + (n-i) < k: break\n",
    "                    queue.append((selected+[candidates[i]], i+1))\n",
    "                \n",
    "        return res\n",
    "    \n",
    "    # TC: O(k*C(n,k))\n",
    "    # SC: O(n+k^2), k is the tree height and at max k elements in the selected array\n",
    "    def combine_DFS_iteration(self, n: int, k: int) -> list[list[int]]:\n",
    "        candidates, res, stack = [i for i in range(1, n+1)], [], [([], 0)]\n",
    "\n",
    "        while stack:\n",
    "            selected, tracker = stack.pop()\n",
    "\n",
    "            if len(selected) == k:  \n",
    "                res.append(selected)\n",
    "            else:\n",
    "                for i in range(tracker, len(candidates)):\n",
    "                    if len(selected) + (n-i) < k: break\n",
    "                    stack.append((selected+[candidates[i]], i+1))\n",
    "                \n",
    "        return res\n",
    "    \n",
    "    # TC: O(?)\n",
    "    # SC: O(?)    \n",
    "    def combine_lib(self, n: int, k: int) -> list[list[int]]:\n",
    "        from itertools import combinations\n",
    "\n",
    "        return list(map(list, combinations(range(1, n+1), k)))"
   ]
  },
  {
   "cell_type": "code",
   "execution_count": 4,
   "metadata": {},
   "outputs": [
    {
     "name": "stdout",
     "output_type": "stream",
     "text": [
      "---combine_DFS_recursion---\n",
      "Case 1: [[1, 2], [1, 3], [1, 4], [2, 3], [2, 4], [3, 4]]\n",
      "Case 2: [[1]]\n",
      "\n",
      "---combine_BFS---\n",
      "Case 1: [[1, 2], [1, 3], [1, 4], [2, 3], [2, 4], [3, 4]]\n",
      "Case 2: [[1]]\n",
      "\n",
      "---combine_DFS_iteration---\n",
      "Case 1: [[3, 4], [2, 4], [2, 3], [1, 4], [1, 3], [1, 2]]\n",
      "Case 2: [[1]]\n",
      "\n",
      "---combine_lib---\n",
      "Case 1: [[1, 2], [1, 3], [1, 4], [2, 3], [2, 4], [3, 4]]\n",
      "Case 2: [[1]]\n"
     ]
    }
   ],
   "source": [
    "# Test on Cases\n",
    "S = Solution()\n",
    "\n",
    "print(\"---combine_DFS_recursion---\")\n",
    "print(f\"Case 1: {S.combine_DFS_recursion(4, 2)}\")\n",
    "print(f\"Case 2: {S.combine_DFS_recursion(1, 1)}\\n\")\n",
    "\n",
    "print(\"---combine_BFS---\")\n",
    "print(f\"Case 1: {S.combine_BFS(4, 2)}\")\n",
    "print(f\"Case 2: {S.combine_BFS(1, 1)}\\n\")\n",
    "\n",
    "print(\"---combine_DFS_iteration---\")\n",
    "print(f\"Case 1: {S.combine_DFS_iteration(4, 2)}\")\n",
    "print(f\"Case 2: {S.combine_DFS_iteration(1, 1)}\\n\")\n",
    "\n",
    "print(\"---combine_lib---\")\n",
    "print(f\"Case 1: {S.combine_lib(4, 2)}\")\n",
    "print(f\"Case 2: {S.combine_lib(1, 1)}\")"
   ]
  }
 ],
 "metadata": {
  "kernelspec": {
   "display_name": "Python 3 (ipykernel)",
   "language": "python",
   "name": "python3"
  },
  "language_info": {
   "codemirror_mode": {
    "name": "ipython",
    "version": 3
   },
   "file_extension": ".py",
   "mimetype": "text/x-python",
   "name": "python",
   "nbconvert_exporter": "python",
   "pygments_lexer": "ipython3",
   "version": "3.10.4"
  },
  "vscode": {
   "interpreter": {
    "hash": "21d8332eb27bea95342760850bd7426f517b6a483537194bbba87e10eeabf6ff"
   }
  }
 },
 "nbformat": 4,
 "nbformat_minor": 4
}
