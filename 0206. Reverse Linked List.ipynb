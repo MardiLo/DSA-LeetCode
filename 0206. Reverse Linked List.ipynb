{
 "cells": [
  {
   "cell_type": "markdown",
   "metadata": {},
   "source": [
    "`# Linked List`"
   ]
  },
  {
   "cell_type": "markdown",
   "metadata": {},
   "source": [
    "Given the `head` of a singly linked list, reverse the list, and return the *reversed list.*"
   ]
  },
  {
   "cell_type": "markdown",
   "metadata": {},
   "source": [
    "**Example 1:**  \n",
    "![Image of leetcode 0206 problem example 1](https://assets.leetcode.com/uploads/2021/02/19/rev1ex1.jpg)\n",
    "> Input: head = [1,2,3,4,5]  \n",
    "Output: [5,4,3,2,1]\n",
    "\n",
    "**Example 2:**  \n",
    "![Image of leetcode 0206 problem example 2](https://assets.leetcode.com/uploads/2021/02/19/rev1ex2.jpg)\n",
    "> Input: head = [1,2]  \n",
    "Output: [2,1]\n",
    "\n",
    "**Example 3:**\n",
    "\n",
    "> Input: head = []  \n",
    "Output: []"
   ]
  },
  {
   "cell_type": "code",
   "execution_count": 1,
   "metadata": {},
   "outputs": [],
   "source": [
    "class ListNode:\n",
    "    def __init__(self, val=0, next=None):\n",
    "        self.val = val\n",
    "        self.next = next\n",
    "        \n",
    "    def list2LinkedList(self, lst):\n",
    "        cur = dummy = ListNode(0)\n",
    "        for node in lst:\n",
    "            cur.next = ListNode(node)\n",
    "            cur = cur.next\n",
    "        return dummy.next\n",
    "\n",
    "class Solution:\n",
    "\n",
    "    # Time Complexity： O(n)\n",
    "    # Space Complexity： O(1)\n",
    "    def reverseList(self, head: 'ListNode') -> 'ListNode':\n",
    "        prev = None\n",
    "        \n",
    "        while head:\n",
    "            cur = head\n",
    "            head = head.next\n",
    "            cur.next = prev\n",
    "            prev = cur\n",
    "            \n",
    "        return prev"
   ]
  },
  {
   "cell_type": "code",
   "execution_count": 2,
   "metadata": {},
   "outputs": [
    {
     "name": "stdout",
     "output_type": "stream",
     "text": [
      "Case 1: [5, 4, 3, 2, 1]\n",
      "Case 2: [2, 1]\n",
      "Case 3: []\n"
     ]
    }
   ],
   "source": [
    "# Test on Cases\n",
    "from leetcodepractice import Print\n",
    "\n",
    "S, P, L = Solution(), Print(), ListNode()\n",
    "\n",
    "print(f\"Case 1: {P.LinkedListTraversal(S.reverseList(L.list2LinkedList([1,2,3,4,5])))}\")\n",
    "print(f\"Case 2: {P.LinkedListTraversal(S.reverseList(L.list2LinkedList([1,2])))}\")\n",
    "print(f\"Case 3: {P.LinkedListTraversal(S.reverseList([]))}\")"
   ]
  }
 ],
 "metadata": {
  "kernelspec": {
   "display_name": "Python 3",
   "language": "python",
   "name": "python3"
  },
  "language_info": {
   "codemirror_mode": {
    "name": "ipython",
    "version": 3
   },
   "file_extension": ".py",
   "mimetype": "text/x-python",
   "name": "python",
   "nbconvert_exporter": "python",
   "pygments_lexer": "ipython3",
   "version": "3.7.7"
  }
 },
 "nbformat": 4,
 "nbformat_minor": 4
}
