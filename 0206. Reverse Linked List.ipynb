{
 "cells": [
  {
   "cell_type": "markdown",
   "source": [
    "`# Linked List`"
   ],
   "metadata": {}
  },
  {
   "cell_type": "markdown",
   "source": [
    "Given the `head` of a singly linked list, reverse the list, and return the *reversed list.*"
   ],
   "metadata": {}
  },
  {
   "cell_type": "markdown",
   "source": [
    "**Example 1:**  \r\n",
    "![Image of leetcode 0206 problem example 1](https://assets.leetcode.com/uploads/2021/02/19/rev1ex1.jpg)\r\n",
    "> Input: head = [1,2,3,4,5]  \r\n",
    "Output: [5,4,3,2,1]\r\n",
    "\r\n",
    "**Example 2:**  \r\n",
    "![Image of leetcode 0206 problem example 2](https://assets.leetcode.com/uploads/2021/02/19/rev1ex2.jpg)\r\n",
    "> Input: head = [1,2]  \r\n",
    "Output: [2,1]\r\n",
    "\r\n",
    "**Example 3:**\r\n",
    "\r\n",
    "> Input: head = []  \r\n",
    "Output: []"
   ],
   "metadata": {}
  },
  {
   "cell_type": "code",
   "execution_count": 1,
   "source": [
    "class ListNode:\r\n",
    "    def __init__(self, val=0, next=None):\r\n",
    "        self.val = val\r\n",
    "        self.next = next\r\n",
    "        \r\n",
    "    def list2LinkedList(self, lst):\r\n",
    "        cur = dummy = ListNode(0)\r\n",
    "        for node in lst:\r\n",
    "            cur.next = ListNode(node)\r\n",
    "            cur = cur.next\r\n",
    "        return dummy.next\r\n",
    "\r\n",
    "class Solution:\r\n",
    "\r\n",
    "    # Time Complexity： O(n)\r\n",
    "    # Space Complexity： O(1)\r\n",
    "    def reverseList(self, head: \"ListNode\") -> \"ListNode\":\r\n",
    "        prev = None\r\n",
    "        \r\n",
    "        while head:\r\n",
    "            cur = head\r\n",
    "            head = head.next\r\n",
    "            cur.next = prev\r\n",
    "            prev = cur\r\n",
    "            \r\n",
    "        return prev"
   ],
   "outputs": [],
   "metadata": {}
  },
  {
   "cell_type": "code",
   "execution_count": 2,
   "source": [
    "# Test on Cases\n",
    "from leetcodepractice import Print\n",
    "\n",
    "S, P, L = Solution(), Print(), ListNode()\n",
    "\n",
    "print(f\"Case 1: {P.LinkedListTraversal(S.reverseList(L.list2LinkedList([1,2,3,4,5])))}\")\n",
    "print(f\"Case 2: {P.LinkedListTraversal(S.reverseList(L.list2LinkedList([1,2])))}\")\n",
    "print(f\"Case 3: {P.LinkedListTraversal(S.reverseList([]))}\")"
   ],
   "outputs": [
    {
     "output_type": "stream",
     "name": "stdout",
     "text": [
      "Case 1: [5, 4, 3, 2, 1]\n",
      "Case 2: [2, 1]\n",
      "Case 3: []\n"
     ]
    }
   ],
   "metadata": {}
  }
 ],
 "metadata": {
  "kernelspec": {
   "display_name": "Python 3",
   "language": "python",
   "name": "python3"
  },
  "language_info": {
   "codemirror_mode": {
    "name": "ipython",
    "version": 3
   },
   "file_extension": ".py",
   "mimetype": "text/x-python",
   "name": "python",
   "nbconvert_exporter": "python",
   "pygments_lexer": "ipython3",
   "version": "3.7.7"
  }
 },
 "nbformat": 4,
 "nbformat_minor": 4
}