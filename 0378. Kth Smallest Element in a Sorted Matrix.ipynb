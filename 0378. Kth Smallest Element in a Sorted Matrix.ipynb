{
 "cells": [
  {
   "cell_type": "markdown",
   "source": [
    "`# Array` `# Binary Search` `# Heap (Priority Queue)` `# Matrix` `# Sorting`"
   ],
   "metadata": {}
  },
  {
   "cell_type": "markdown",
   "source": [
    "Given an `n x n` matrix where each of the rows and columns are sorted in ascending order, return *the* `k`<sup>`th`</sup> *smallest element in the matrix*.\r\n",
    "\r\n",
    "Note that it is the `k`<sup>`th`</sup> smallest element in the **sorted order**, not the `k`<sup>`th`</sup> **distinct** element."
   ],
   "metadata": {}
  },
  {
   "cell_type": "markdown",
   "source": [
    "**Example 1:**\r\n",
    "\r\n",
    "> Input: matrix = [[1,5,9],[10,11,13],[12,13,15]], k = 8  \r\n",
    "Output: 13  \r\n",
    "Explanation: The elements in the matrix are [1,5,9,10,11,12,13,13,15], and the 8th smallest number is 13  \r\n",
    "\r\n",
    "**Example 2:**\r\n",
    "\r\n",
    "> Input: matrix = [[-5]], k = 1  \r\n",
    "Output: -5  "
   ],
   "metadata": {}
  },
  {
   "cell_type": "code",
   "execution_count": 3,
   "source": [
    "class Solution:\r\n",
    "\r\n",
    "    # Time Complexity： O((m+n)logA)\r\n",
    "    # Space Complexity： O(1)   \r\n",
    "    def kthSmallest_binarySearch(self, matrix: 'List[List[int]]', k: 'int') -> 'int':      \r\n",
    "        def countLessThan(x: 'int', m: 'int', n: 'int') -> 'int':    # TC: O(n); SC: O(1)\r\n",
    "            cnt = 0\r\n",
    "            colIdx = n - 1                                                               # start with the rightmost column\r\n",
    "            \r\n",
    "            for rowIdx in range(m):                                                      # TC: O(m+n) -> O(2n) -> O(n) for a square matrix\r\n",
    "                while colIdx >= 0 and matrix[rowIdx][colIdx] > x:                        # the longest path is: start from right upper corner and end at left bottom corner\r\n",
    "                    colIdx -= 1                                                          \r\n",
    "                cnt += colIdx + 1\r\n",
    "            \r\n",
    "            return cnt\r\n",
    "\r\n",
    "        m, n = len(matrix), len(matrix[0])                                                # general solution for a m x n matrix\r\n",
    "        l, r = matrix[0][0], matrix[-1][-1]\r\n",
    "        while l <= r:                                                                     # TC: O(A), where A = 2 * 10^9, since -10^9 <= matrix[i][j] <= 10^9\r\n",
    "            mid = (l + r) // 2\r\n",
    "\r\n",
    "            if countLessThan(mid, m, n) < k:\r\n",
    "                l = mid + 1\r\n",
    "            else:\r\n",
    "                r = mid - 1\r\n",
    "\r\n",
    "        return l\r\n",
    "\r\n",
    "\r\n",
    "    # Time Complexity： O(klogn)\r\n",
    "    # Space Complexity： O(k)\r\n",
    "    def kthSmallest_heap(self, matrix: 'List[List[int]]', k: 'int') -> 'int':\r\n",
    "        from heapq import heapify, heappop, heappush\r\n",
    "        \r\n",
    "        m, n = len(matrix), len(matrix[0])                                                # general solution for a m x n matrix\r\n",
    "        minHeap = [(row[0], rowIdx, 0) for rowIdx, row in enumerate(matrix)]              # TC: O(n); SC: O(n)\r\n",
    "        heapify(minHeap)                                                                  # TC: heapify(heap): O(n)\r\n",
    "        \r\n",
    "        for i in range(k):                                                                # TC: O(klogn)\r\n",
    "            val, rowIdx, colIdx = heappop(minHeap)                                        # TC: heappop(heap): O(logn)\r\n",
    "            \r\n",
    "            if (colIdx + 1) < m:\r\n",
    "                heappush(minHeap, (matrix[rowIdx][colIdx+1], rowIdx, colIdx+1))           # TC: heappush(heap): O(logn)\r\n",
    "        \r\n",
    "        return val\r\n",
    "\r\n",
    "\r\n",
    "    # Time Complexity： O(n^2*logn)\r\n",
    "    # Space Complexity： O(n^2)\r\n",
    "    def kthSmallest_sort(self, matrix: 'List[List[int]]', k: 'int') -> 'int':\r\n",
    "        return sorted([val for row in matrix for val in row])[k-1]"
   ],
   "outputs": [],
   "metadata": {}
  },
  {
   "cell_type": "code",
   "execution_count": 4,
   "source": [
    "# Test on Cases\r\n",
    "S = Solution()\r\n",
    "\r\n",
    "print(\"---kthSmallest_binarySearch---\")\r\n",
    "print(f\"Case 1: {S.kthSmallest_binarySearch([[1,5,9],[10,11,13],[12,13,15]], 8)}\")\r\n",
    "print(f\"Case 2: {S.kthSmallest_binarySearch([[-5]], 1)}\\n\")\r\n",
    "\r\n",
    "print(\"---kthSmallest_heap---\")\r\n",
    "print(f\"Case 1: {S.kthSmallest_heap([[1,5,9],[10,11,13],[12,13,15]], 8)}\")\r\n",
    "print(f\"Case 2: {S.kthSmallest_heap([[-5]], 1)}\\n\")\r\n",
    "\r\n",
    "print(\"---kthSmallest_sort---\")\r\n",
    "print(f\"Case 1: {S.kthSmallest_sort([[1,5,9],[10,11,13],[12,13,15]], 8)}\")\r\n",
    "print(f\"Case 2: {S.kthSmallest_sort([[-5]], 1)}\")"
   ],
   "outputs": [
    {
     "output_type": "stream",
     "name": "stdout",
     "text": [
      "---kthSmallest_binarySearch---\n",
      "Case 1: 13\n",
      "Case 2: -5\n",
      "\n",
      "---kthSmallest_heap---\n",
      "Case 1: 13\n",
      "Case 2: -5\n",
      "\n",
      "---kthSmallest_sort---\n",
      "Case 1: 13\n",
      "Case 2: -5\n"
     ]
    }
   ],
   "metadata": {}
  },
  {
   "cell_type": "markdown",
   "source": [
    "**Ref**\r\n",
    "1. [[Python] Binary search solution, explained](https://leetcode.com/problems/kth-smallest-element-in-a-sorted-matrix/discuss/1321862/Python-Binary-search-solution-explained)\r\n",
    "2. [[C++/Java/Python] MaxHeap, MinHeap, Binary Search - Picture Explain - Clean & Concise](https://leetcode.com/problems/kth-smallest-element-in-a-sorted-matrix/discuss/1322101/C%2B%2BJavaPython-MaxHeap-MinHeap-Binary-Search-Picture-Explain-Clean-and-Concise)"
   ],
   "metadata": {}
  }
 ],
 "metadata": {
  "kernelspec": {
   "name": "python3",
   "display_name": "Python 3.7.7 64-bit ('spark': conda)"
  },
  "language_info": {
   "codemirror_mode": {
    "name": "ipython",
    "version": 3
   },
   "file_extension": ".py",
   "mimetype": "text/x-python",
   "name": "python",
   "nbconvert_exporter": "python",
   "pygments_lexer": "ipython3",
   "version": "3.7.7"
  },
  "interpreter": {
   "hash": "6ab137a14910b4ee65d0ea442464c53c8571f8241496146388c5db8c59915964"
  }
 },
 "nbformat": 4,
 "nbformat_minor": 4
}