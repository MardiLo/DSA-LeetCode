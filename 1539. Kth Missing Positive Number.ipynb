{
 "cells": [
  {
   "cell_type": "markdown",
   "metadata": {},
   "source": [
    "`# Array` `# Binary Search`"
   ]
  },
  {
   "attachments": {},
   "cell_type": "markdown",
   "metadata": {},
   "source": [
    "Given an array `arr` of positive integers sorted in a **strictly increasing order**, and an integer `k`.\n",
    "\n",
    "Return *the* `k`<sup>`th`</sup> ***positive*** *integer that is **missing** from this array.*"
   ]
  },
  {
   "attachments": {},
   "cell_type": "markdown",
   "metadata": {},
   "source": [
    "**Example 1:**\n",
    "\n",
    "> Input: arr = [2,3,4,7,11], k = 5  \n",
    "> Output: 9  \n",
    "> Explanation: The missing positive integers are [1,5,6,8,9,10,12,13,...]. The 5th missing positive integer is 9.\n",
    "\n",
    "**Example 2:**\n",
    "\n",
    "> Input: arr = [1,2,3,4], k = 2  \n",
    "> Output: 6  \n",
    "> Explanation: The missing positive integers are [5,6,7,...]. The 2nd missing positive integer is 6."
   ]
  },
  {
   "cell_type": "code",
   "execution_count": 1,
   "metadata": {},
   "outputs": [],
   "source": [
    "class Solution:\n",
    "\n",
    "    # Time Complexity： O(n)\n",
    "    # Space Complexity： O(n) \n",
    "    def findKthPositive(self, arr: list[int], k: int) -> int:\n",
    "        arr, i = set(arr), 0\n",
    "\n",
    "        while k:\n",
    "            i += 1\n",
    "            if i not in arr: k -= 1\n",
    "        \n",
    "        return i\n",
    "     \n",
    "    # Time Complexity： O(logn)\n",
    "    # Space Complexity： O(1) \n",
    "    def findKthPositive_binarySearch(self, arr: list[int], k: int) -> int:\n",
    "        l, r = 0, len(arr)-1\n",
    "        \n",
    "        while l <= r:\n",
    "            if arr[(m := (l+r) // 2)] - m - 1 >= k: r = m - 1\n",
    "            else: l = m + 1\n",
    "\n",
    "        return k + l\n",
    "\n",
    "    # Time Complexity： O(logn)\n",
    "    # Space Complexity： O(1) \n",
    "    def findKthPositive_binarySearch_lib(self, arr: list[int], k: int) -> int:\n",
    "        from bisect import bisect_left\n",
    "\n",
    "        return k + bisect_left(range(len(arr)), k, key=lambda m: arr[m] - m - 1)    # k - (arr[i-1]-(i-1)-1) + arr[i-1] = k + i, where i = index found by binarySearch"
   ]
  },
  {
   "cell_type": "code",
   "execution_count": 2,
   "metadata": {},
   "outputs": [
    {
     "name": "stdout",
     "output_type": "stream",
     "text": [
      "---findKthPositive---\n",
      "Case 1: 9\n",
      "Case 2: 6\n",
      "\n",
      "---findKthPositive_binarySearch---\n",
      "Case 1: 9\n",
      "Case 2: 6\n",
      "\n",
      "---findKthPositive_binarySearch_lib---\n",
      "Case 1: 9\n",
      "Case 2: 6\n"
     ]
    }
   ],
   "source": [
    "# Test on Cases\n",
    "S = Solution()\n",
    "\n",
    "print(\"---findKthPositive---\")\n",
    "print(f\"Case 1: {S.findKthPositive([2,3,4,7,11], 5)}\")\n",
    "print(f\"Case 2: {S.findKthPositive([1,2,3,4], 2)}\\n\")\n",
    "\n",
    "print(\"---findKthPositive_binarySearch---\")\n",
    "print(f\"Case 1: {S.findKthPositive_binarySearch([2,3,4,7,11], 5)}\")\n",
    "print(f\"Case 2: {S.findKthPositive_binarySearch([1,2,3,4], 2)}\\n\")\n",
    "\n",
    "print(\"---findKthPositive_binarySearch_lib---\")\n",
    "print(f\"Case 1: {S.findKthPositive_binarySearch_lib([2,3,4,7,11], 5)}\")\n",
    "print(f\"Case 2: {S.findKthPositive_binarySearch_lib([1,2,3,4], 2)}\")"
   ]
  }
 ],
 "metadata": {
  "kernelspec": {
   "display_name": "Python 3 (ipykernel)",
   "language": "python",
   "name": "python3"
  },
  "language_info": {
   "codemirror_mode": {
    "name": "ipython",
    "version": 3
   },
   "file_extension": ".py",
   "mimetype": "text/x-python",
   "name": "python",
   "nbconvert_exporter": "python",
   "pygments_lexer": "ipython3",
   "version": "3.10.4"
  },
  "vscode": {
   "interpreter": {
    "hash": "21d8332eb27bea95342760850bd7426f517b6a483537194bbba87e10eeabf6ff"
   }
  }
 },
 "nbformat": 4,
 "nbformat_minor": 4
}
