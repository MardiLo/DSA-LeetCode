{
 "cells": [
  {
   "cell_type": "markdown",
   "metadata": {},
   "source": [
    "`# Array` `# String`"
   ]
  },
  {
   "cell_type": "markdown",
   "metadata": {},
   "source": [
    "You are given an array `items`, where each `items[i] = [type`<sub>`i`</sub>`, color`<sub>`i`</sub>`, name`<sub>`i`</sub>`]` describes the type, color, and name of the `i`<sup>`th`</sup> item. You are also given a rule represented by two strings, `ruleKey` and `ruleValue`.\n",
    "\n",
    "The `i`<sup>`th`</sup> item is said to match the rule if **one** of the following is true:\n",
    "\n",
    "- `ruleKey == \"type\"` and `ruleValue == type`<sub>`i`</sub>`.`  \n",
    "- `ruleKey == \"color\"` and `ruleValue == color`<sub>`i`</sub>`.`\n",
    "- `ruleKey == \"name\"` and `ruleValue == name`<sub>`i`</sub>`.`  \n",
    "\n",
    "Return *the number of items that match the given rule*."
   ]
  },
  {
   "cell_type": "markdown",
   "metadata": {},
   "source": [
    "**Example 1:**\n",
    "\n",
    "> Input: items = [[\"phone\",\"blue\",\"pixel\"],[\"computer\",\"silver\",\"lenovo\"],[\"phone\",\"gold\",\"iphone\"]], ruleKey = \"color\", ruleValue = \"silver\"  \n",
    "Output: 1  \n",
    "Explanation: There is only one item matching the given rule, which is [\"computer\",\"silver\",\"lenovo\"].  \n",
    "\n",
    "**Example 2:**\n",
    "\n",
    "> Input: items = [[\"phone\",\"blue\",\"pixel\"],[\"computer\",\"silver\",\"phone\"],[\"phone\",\"gold\",\"iphone\"]], ruleKey = \"type\", ruleValue = \"phone\"  \n",
    "Output: 2  \n",
    "Explanation: There are only two items matching the given rule, which are [\"phone\",\"blue\",\"pixel\"] and [\"phone\",\"gold\",\"iphone\"]. Note that the item [\"computer\",\"silver\",\"phone\"] does not match."
   ]
  },
  {
   "cell_type": "code",
   "execution_count": 1,
   "metadata": {},
   "outputs": [],
   "source": [
    "class Solution:\n",
    "\n",
    "    # Time Complexity： O(n), where n is the lenght of the items list\n",
    "    # Space Complexity： O(3)\n",
    "    def countMatches(self, items: list[list[str]], ruleKey: str, ruleValue: str) -> int:       \n",
    "        return sum(item[{\"type\": 0, \"color\": 1, \"name\": 2}[ruleKey]] == ruleValue for item in items)"
   ]
  },
  {
   "cell_type": "code",
   "execution_count": 2,
   "metadata": {},
   "outputs": [
    {
     "name": "stdout",
     "output_type": "stream",
     "text": [
      "Case 1: 1\n",
      "Case 2: 2\n"
     ]
    }
   ],
   "source": [
    "# Test on Cases\n",
    "S = Solution()\n",
    "\n",
    "print(f\"Case 1: {S.countMatches([['phone','blue','pixel'],['computer','silver','lenovo'],['phone','gold','iphone']], 'color', 'silver')}\")\n",
    "print(f\"Case 2: {S.countMatches([['phone','blue','pixel'],['computer','silver','lenovo'],['phone','gold','iphone']], 'type', 'phone')}\")"
   ]
  }
 ],
 "metadata": {
  "kernelspec": {
   "display_name": "Python 3.10.4 ('leetcode')",
   "language": "python",
   "name": "python3"
  },
  "language_info": {
   "codemirror_mode": {
    "name": "ipython",
    "version": 3
   },
   "file_extension": ".py",
   "mimetype": "text/x-python",
   "name": "python",
   "nbconvert_exporter": "python",
   "pygments_lexer": "ipython3",
   "version": "3.10.4"
  },
  "vscode": {
   "interpreter": {
    "hash": "21d8332eb27bea95342760850bd7426f517b6a483537194bbba87e10eeabf6ff"
   }
  }
 },
 "nbformat": 4,
 "nbformat_minor": 4
}
