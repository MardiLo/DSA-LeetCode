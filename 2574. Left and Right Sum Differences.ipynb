{
 "cells": [
  {
   "cell_type": "markdown",
   "metadata": {},
   "source": [
    "`# Array` `# Prefix Sum`"
   ]
  },
  {
   "attachments": {},
   "cell_type": "markdown",
   "metadata": {},
   "source": [
    "Given a **0-indexed** integer array `nums`, find a **0-indexed** integer array `answer` where:\n",
    "\n",
    "- `answer.length == nums.length`.\n",
    "- `answer[i] = |leftSum[i] - rightSum[i]|`.  \n",
    "\n",
    "Where:\n",
    "\n",
    "- `leftSum[i]` is the sum of elements to the left of the index `i` in the array `nums`. If there is no such element, `leftSum[i] = 0`.\n",
    "- `rightSum[i]` is the sum of elements to the right of the index `i` in the array `nums`. If there is no such element, `rightSum[i] = 0`.\n",
    "Return the array `answer`."
   ]
  },
  {
   "attachments": {},
   "cell_type": "markdown",
   "metadata": {},
   "source": [
    "**Example 1:**  \n",
    "\n",
    "> Input: nums = [10,4,8,3]  \n",
    "> Output: [15,1,11,22]  \n",
    "> Explanation: The array leftSum is [0,10,14,22] and the array rightSum is [15,11,3,0].  \n",
    "> The array answer is [|0 - 15|,|10 - 11|,|14 - 3|,|22 - 0|] = [15,1,11,22].  \n",
    "\n",
    "**Example 2:**  \n",
    "\n",
    "> Input: nums = [1]  \n",
    "> Output: [0]  \n",
    "> Explanation: The array leftSum is [0] and the array rightSum is [0].  \n",
    "> The array answer is [|0 - 0|] = [0]."
   ]
  },
  {
   "cell_type": "code",
   "execution_count": 3,
   "metadata": {},
   "outputs": [],
   "source": [
    "class Solution:\n",
    "    \n",
    "    # Time Complexity： O(n)\n",
    "    # Space Complexity： O(n)       \n",
    "    def leftRigthDifference(self, nums: list[int]) -> list[int]:\n",
    "        from itertools import accumulate\n",
    "\n",
    "        lSum, rSum = list(accumulate(nums[:-1], initial=0)), list(accumulate(nums[::-1][:-1], initial=0))\n",
    "\n",
    "        return [abs(lSum[i]-rSum[~i]) for i in range(len(nums))]"
   ]
  },
  {
   "cell_type": "code",
   "execution_count": 4,
   "metadata": {},
   "outputs": [
    {
     "name": "stdout",
     "output_type": "stream",
     "text": [
      "Case 1: [15, 1, 11, 22]\n",
      "Case 2: [0]\n"
     ]
    }
   ],
   "source": [
    "# Test on Cases\n",
    "S = Solution()\n",
    "\n",
    "print(f\"Case 1: {S.leftRigthDifference([10,4,8,3])}\")\n",
    "print(f\"Case 2: {S.leftRigthDifference([1])}\")"
   ]
  }
 ],
 "metadata": {
  "kernelspec": {
   "display_name": "Python 3 (ipykernel)",
   "language": "python",
   "name": "python3"
  },
  "language_info": {
   "codemirror_mode": {
    "name": "ipython",
    "version": 3
   },
   "file_extension": ".py",
   "mimetype": "text/x-python",
   "name": "python",
   "nbconvert_exporter": "python",
   "pygments_lexer": "ipython3",
   "version": "3.10.4"
  },
  "vscode": {
   "interpreter": {
    "hash": "21d8332eb27bea95342760850bd7426f517b6a483537194bbba87e10eeabf6ff"
   }
  }
 },
 "nbformat": 4,
 "nbformat_minor": 4
}
