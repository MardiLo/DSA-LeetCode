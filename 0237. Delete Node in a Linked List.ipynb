{
 "cells": [
  {
   "cell_type": "markdown",
   "metadata": {},
   "source": [
    "`# Linked List`"
   ]
  },
  {
   "cell_type": "markdown",
   "metadata": {},
   "source": [
    "Write a function to **delete a node** in a singly-linked list. You will **not** be given access to the head of the list, instead you will be given access to **the node to be deleted** directly.\n",
    "\n",
    "It is **guaranteed** that the node to be deleted is **not a tail node** in the list."
   ]
  },
  {
   "cell_type": "markdown",
   "metadata": {},
   "source": [
    "**Example 1:**  \n",
    "![Image of leetcode 0237 problem example 1](https://assets.leetcode.com/uploads/2020/09/01/node1.jpg)\n",
    "> Input: head = [4, 5, 1, 9], node = 5  \n",
    "Output: [4, 1, 9]  \n",
    "Explanation: You are given the second node with value 5, the linked list should become 4 -> 1 -> 9 after calling your function.\n",
    "\n",
    "**Example 2:**  \n",
    "![Image of leetcode 0237 problem example 2](https://assets.leetcode.com/uploads/2020/09/01/node2.jpg)\n",
    "> Input: head = [4, 5, 1, 9], node = 1  \n",
    "Output: [4, 5, 9]  \n",
    "Explanation: You are given the third node with value 1, the linked list should become 4 -> 5 -> 9 after calling your function.\n",
    "\n",
    "**Example 3:**\n",
    "\n",
    "> Input: head = [1, 2, 3, 4], node = 3  \n",
    "Output: [1, 2, 4]\n",
    "\n",
    "**Example 4:**\n",
    "\n",
    "> Input: head = [0, 1], node = 0  \n",
    "Output: [1]\n",
    "\n",
    "**Example 5:**\n",
    "\n",
    "> Input: head = [-3, 5, -99], node = -3  \n",
    "Output: [5, -99]"
   ]
  },
  {
   "cell_type": "code",
   "execution_count": 1,
   "metadata": {},
   "outputs": [],
   "source": [
    "class ListNode:\n",
    "    def __init__(self, x):\n",
    "        self.val = x\n",
    "        self.next = None\n",
    "\n",
    "class Solution:\n",
    "    \n",
    "    # Time Complexity： O(1)\n",
    "    # Space Complexity： O(1)\n",
    "    def deleteNode(self, node: ListNode) -> None:\n",
    "        \"\"\"\n",
    "        :type node: ListNode\n",
    "        :rtype: void Do not return anything, modify node in-place instead.\n",
    "        \"\"\"\n",
    "        node.val = node.next.val\n",
    "        node.next = node.next.next\n",
    "        "
   ]
  }
 ],
 "metadata": {
  "kernelspec": {
   "display_name": "Python 3.10.4 ('leetcode')",
   "language": "python",
   "name": "python3"
  },
  "language_info": {
   "codemirror_mode": {
    "name": "ipython",
    "version": 3
   },
   "file_extension": ".py",
   "mimetype": "text/x-python",
   "name": "python",
   "nbconvert_exporter": "python",
   "pygments_lexer": "ipython3",
   "version": "3.10.4"
  },
  "vscode": {
   "interpreter": {
    "hash": "21d8332eb27bea95342760850bd7426f517b6a483537194bbba87e10eeabf6ff"
   }
  }
 },
 "nbformat": 4,
 "nbformat_minor": 4
}
