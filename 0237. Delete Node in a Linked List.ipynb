{
 "cells": [
  {
   "cell_type": "markdown",
   "source": [
    "`# Linked List`"
   ],
   "metadata": {}
  },
  {
   "cell_type": "markdown",
   "source": [
    "Write a function to **delete a node** in a singly-linked list. You will **not** be given access to the head of the list, instead you will be given access to **the node to be deleted** directly.\n",
    "\n",
    "It is **guaranteed** that the node to be deleted is **not a tail node** in the list."
   ],
   "metadata": {}
  },
  {
   "cell_type": "markdown",
   "source": [
    "**Example 1:**  \r\n",
    "![Image of leetcode 0237 problem example 1](https://assets.leetcode.com/uploads/2020/09/01/node1.jpg)\r\n",
    "> Input: head = [4, 5, 1, 9], node = 5  \r\n",
    "Output: [4, 1, 9]  \r\n",
    "Explanation: You are given the second node with value 5, the linked list should become 4 -> 1 -> 9 after calling your function.\r\n",
    "\r\n",
    "**Example 2:**  \r\n",
    "![Image of leetcode 0237 problem example 2](https://assets.leetcode.com/uploads/2020/09/01/node2.jpg)\r\n",
    "> Input: head = [4, 5, 1, 9], node = 1  \r\n",
    "Output: [4, 5, 9]  \r\n",
    "Explanation: You are given the third node with value 1, the linked list should become 4 -> 5 -> 9 after calling your function.\r\n",
    "\r\n",
    "**Example 3:**\r\n",
    "\r\n",
    "> Input: head = [1, 2, 3, 4], node = 3  \r\n",
    "Output: [1, 2, 4]\r\n",
    "\r\n",
    "**Example 4:**\r\n",
    "\r\n",
    "> Input: head = [0, 1], node = 0  \r\n",
    "Output: [1]\r\n",
    "\r\n",
    "**Example 5:**\r\n",
    "\r\n",
    "> Input: head = [-3, 5, -99], node = -3  \r\n",
    "Output: [5, -99]"
   ],
   "metadata": {}
  },
  {
   "cell_type": "code",
   "execution_count": 1,
   "source": [
    "class ListNode:\r\n",
    "    def __init__(self, x):\r\n",
    "        self.val = x\r\n",
    "        self.next = None\r\n",
    "\r\n",
    "class Solution:\r\n",
    "    \r\n",
    "    # Time Complexity： O(1)\r\n",
    "    # Space Complexity： O(1)\r\n",
    "    def deleteNode(self, node):\r\n",
    "        \"\"\"\r\n",
    "        :type node: ListNode\r\n",
    "        :rtype: void Do not return anything, modify node in-place instead.\r\n",
    "        \"\"\"\r\n",
    "        node.val = node.next.val\r\n",
    "        node.next = node.next.next\r\n",
    "        "
   ],
   "outputs": [],
   "metadata": {}
  }
 ],
 "metadata": {
  "kernelspec": {
   "display_name": "Python 3",
   "language": "python",
   "name": "python3"
  },
  "language_info": {
   "codemirror_mode": {
    "name": "ipython",
    "version": 3
   },
   "file_extension": ".py",
   "mimetype": "text/x-python",
   "name": "python",
   "nbconvert_exporter": "python",
   "pygments_lexer": "ipython3",
   "version": "3.7.7"
  }
 },
 "nbformat": 4,
 "nbformat_minor": 4
}