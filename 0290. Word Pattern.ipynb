{
 "cells": [
  {
   "cell_type": "markdown",
   "metadata": {},
   "source": [
    "`# Hash Table` `# String`"
   ]
  },
  {
   "cell_type": "markdown",
   "metadata": {},
   "source": [
    "Given a `pattern` and a string `s`, find if `s` follows the same pattern.\n",
    "\n",
    "Here **follow** means a full match, such that there is a bijection between a letter in `pattern` and a **non-empty** word in `s`."
   ]
  },
  {
   "cell_type": "markdown",
   "metadata": {},
   "source": [
    "**Example 1:**\n",
    "\n",
    "> Input: pattern = \"abba\", s = \"dog cat cat dog\"      \n",
    "> Output: true\n",
    "\n",
    "**Example 2:**\n",
    "> Input: pattern = \"abba\", s = \"dog cat cat fish\"    \n",
    "> Output: false\n",
    "\n",
    "**Example 3:**\n",
    "> Input: pattern = \"aaaa\", s = \"dog cat cat dog\"   \n",
    "> Output: false"
   ]
  },
  {
   "cell_type": "code",
   "execution_count": 1,
   "metadata": {},
   "outputs": [],
   "source": [
    "class Solution:\n",
    "    \n",
    "    # Time Complexity： O(n), where n = len(s.split(' '))\n",
    "    # Space Complexity： O(n)\n",
    "    def wordPattern(self, pattern: str, s: str) -> bool:\n",
    "        from itertools import zip_longest\n",
    "        \n",
    "        return len(set(pattern)) == len(set(s := s.split(' '))) == len(set(zip_longest(pattern, s)))"
   ]
  },
  {
   "cell_type": "code",
   "execution_count": 2,
   "metadata": {},
   "outputs": [
    {
     "name": "stdout",
     "output_type": "stream",
     "text": [
      "Case 1: True\n",
      "Case 2: False\n",
      "Case 3: False\n"
     ]
    }
   ],
   "source": [
    "# Test on Cases\n",
    "S = Solution()\n",
    "\n",
    "print(f\"Case 1: {S.wordPattern('abba', 'dog cat cat dog')}\")\n",
    "print(f\"Case 2: {S.wordPattern('abba', 'dog cat cat fish')}\")\n",
    "print(f\"Case 3: {S.wordPattern('aaaa', 'dog cat cat dog')}\")"
   ]
  }
 ],
 "metadata": {
  "kernelspec": {
   "display_name": "Python 3 (ipykernel)",
   "language": "python",
   "name": "python3"
  },
  "language_info": {
   "codemirror_mode": {
    "name": "ipython",
    "version": 3
   },
   "file_extension": ".py",
   "mimetype": "text/x-python",
   "name": "python",
   "nbconvert_exporter": "python",
   "pygments_lexer": "ipython3",
   "version": "3.11.9"
  },
  "vscode": {
   "interpreter": {
    "hash": "21d8332eb27bea95342760850bd7426f517b6a483537194bbba87e10eeabf6ff"
   }
  }
 },
 "nbformat": 4,
 "nbformat_minor": 4
}
