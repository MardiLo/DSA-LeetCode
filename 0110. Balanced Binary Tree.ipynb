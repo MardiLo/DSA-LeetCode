{
 "cells": [
  {
   "cell_type": "markdown",
   "metadata": {},
   "source": [
    "`# Binary Tree` `# Depth-first Search` `# Tree`"
   ]
  },
  {
   "cell_type": "markdown",
   "metadata": {},
   "source": [
    "Given a binary tree `root`, determine *if it is height-balanced*.\n",
    "\n",
    "For this problem, a height-balanced binary tree is defined as:\n",
    "\n",
    "Note: a binary tree in which the left and right subtrees of every node differ in height by **no more than 1**."
   ]
  },
  {
   "cell_type": "markdown",
   "metadata": {},
   "source": [
    "**Example 1:**  \n",
    "![Image of leetcode 0110 problem example 1](https://assets.leetcode.com/uploads/2020/11/26/tmp-tree.jpg)\n",
    "> Input: root = [3,9,20,null,null,15,7]  \n",
    "Output: true\n",
    "\n",
    "**Example 2:**  \n",
    "![Image of leetcode 0110 problem example 2](https://assets.leetcode.com/uploads/2020/10/06/balance_2.jpg)\n",
    "> Input: root = [1,2,2,3,3,null,null,4,4]  \n",
    "Output: false  \n",
    "\n",
    "**Example 3:**\n",
    "\n",
    "> Input: root = []  \n",
    "Output: true  "
   ]
  },
  {
   "cell_type": "code",
   "execution_count": 8,
   "metadata": {},
   "outputs": [],
   "source": [
    "class TreeNode:\n",
    "    def __init__(self, val=0, left=None, right=None):\n",
    "        self.val = val\n",
    "        self.left = left\n",
    "        self.right = right\n",
    "\n",
    "class Solution:\n",
    "    \n",
    "    # Time Complexity： O(n)\n",
    "    # Space Complexity： O(n), in memory stack. the worst case would be a linked list\n",
    "    def isBalanced(self, root: 'TreeNode') -> 'bool':\n",
    "        self.balance = True\n",
    "        \n",
    "        def dfs(node: 'TreeNode') -> 'int':\n",
    "            if not node: return 0\n",
    "            \n",
    "            l, r = dfs(node.left), dfs(node.right)\n",
    "            if abs(l - r) > 1: self.balance = False\n",
    "            \n",
    "            return max(l, r) + 1\n",
    "        \n",
    "        dfs(root)\n",
    "        return self.balance"
   ]
  },
  {
   "cell_type": "code",
   "execution_count": 9,
   "metadata": {},
   "outputs": [
    {
     "name": "stdout",
     "output_type": "stream",
     "text": [
      "Case 1: True\n",
      "Case 2: False\n",
      "Case 3: True\n"
     ]
    }
   ],
   "source": [
    "# Test on Cases\n",
    "S = Solution()\n",
    "\n",
    "print(f\"Case 1: {S.isBalanced(TreeNode(3, TreeNode(9), TreeNode(20, TreeNode(15), TreeNode(17))))}\")\n",
    "print(f\"Case 2: {S.isBalanced(TreeNode(1, TreeNode(2, TreeNode(3, TreeNode(4), TreeNode(4)), TreeNode(3)), TreeNode(2)))}\")\n",
    "print(f\"Case 3: {S.isBalanced([])}\")"
   ]
  },
  {
   "cell_type": "markdown",
   "metadata": {},
   "source": [
    "**Ref**\n",
    "1. [[Python] simple dfs, explained](https://leetcode.com/problems/balanced-binary-tree/discuss/981648/Python-simple-dfs-explained)"
   ]
  }
 ],
 "metadata": {
  "interpreter": {
   "hash": "ba9359eadc070f03edd6183a4af22ffcaf60363daf070b8f22fbedba67666dbe"
  },
  "kernelspec": {
   "display_name": "Python 3.7.7 64-bit ('flask': conda)",
   "name": "python3"
  },
  "language_info": {
   "codemirror_mode": {
    "name": "ipython",
    "version": 3
   },
   "file_extension": ".py",
   "mimetype": "text/x-python",
   "name": "python",
   "nbconvert_exporter": "python",
   "pygments_lexer": "ipython3",
   "version": "3.7.7"
  }
 },
 "nbformat": 4,
 "nbformat_minor": 4
}
