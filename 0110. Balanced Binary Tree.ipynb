{
 "cells": [
  {
   "cell_type": "markdown",
   "metadata": {},
   "source": [
    "`# Binary Tree` `# Depth-first Search` `# Tree`"
   ]
  },
  {
   "cell_type": "markdown",
   "metadata": {},
   "source": [
    "Given a binary tree `root`, determine *if it is height-balanced*.\n",
    "\n",
    "For this problem, a height-balanced binary tree is defined as:\n",
    "\n",
    "Note: a binary tree in which the left and right subtrees of every node differ in height by **no more than 1**."
   ]
  },
  {
   "cell_type": "markdown",
   "metadata": {},
   "source": [
    "**Example 1:**  \n",
    "![Image of leetcode 0110 problem example 1](https://assets.leetcode.com/uploads/2020/11/26/tmp-tree.jpg)\n",
    "> Input: root = [3,9,20,null,null,15,7]  \n",
    "> Output: true\n",
    "\n",
    "**Example 2:**  \n",
    "![Image of leetcode 0110 problem example 2](https://assets.leetcode.com/uploads/2020/10/06/balance_2.jpg)\n",
    "> Input: root = [1,2,2,3,3,null,null,4,4]  \n",
    "> Output: false  \n",
    "\n",
    "**Example 3:**\n",
    "\n",
    "> Input: root = []  \n",
    "> Output: true  "
   ]
  },
  {
   "cell_type": "code",
   "execution_count": 1,
   "metadata": {},
   "outputs": [],
   "source": [
    "class TreeNode:\n",
    "    def __init__(self, val=0, left=None, right=None):\n",
    "        self.val = val\n",
    "        self.left = left\n",
    "        self.right = right\n",
    "\n",
    "class Solution:\n",
    "    \n",
    "    # Time Complexity： O(n)\n",
    "    # Space Complexity： O(h)\n",
    "    def isBalanced_DFS_recursion(self, root: TreeNode) -> bool:\n",
    "        self.balance = True\n",
    "        \n",
    "        def dfs(root: TreeNode) -> int:\n",
    "            if not root: return 0\n",
    "\n",
    "            l, r = dfs(root.left), dfs(root.right)\n",
    "            if abs(l - r) > 1: self.balance = False\n",
    "            \n",
    "            return max(l, r) + 1\n",
    "        \n",
    "        dfs(root)\n",
    "        return self.balance\n",
    "\n",
    "    # Time Complexity： O(n)\n",
    "    # Space Complexity： O(h)\n",
    "    def isBalanced_DFS_iteration(self, root: TreeNode) -> bool:\n",
    "        \"\"\"We need to start from the bottom, so using postorder traversal to tag each node's level\"\"\"\n",
    "        from collections import defaultdict\n",
    "\n",
    "        stack, level = [(0, root)], defaultdict(int)\n",
    "\n",
    "        while stack:\n",
    "            visited, root = stack.pop()\n",
    "\n",
    "            if root:\n",
    "                if not visited:\n",
    "                    stack.extend([(1, root), (0, root.right), (0, root.left)])  \n",
    "                else:\n",
    "                    if abs(level[root.left] - level[root.right]) > 1: return False\n",
    "                    level[root] = max(level[root.left], level[root.right]) + 1\n",
    "\n",
    "        return True"
   ]
  },
  {
   "cell_type": "code",
   "execution_count": 2,
   "metadata": {},
   "outputs": [
    {
     "name": "stdout",
     "output_type": "stream",
     "text": [
      "---isBalanced_DFS_recursion---\n",
      "Case 1: True\n",
      "Case 2: False\n",
      "Case 3: True\n",
      "\n",
      "---isBalanced_DFS_iteration---\n",
      "Case 1: True\n",
      "Case 2: False\n",
      "Case 3: True\n"
     ]
    }
   ],
   "source": [
    "# Test on Cases\n",
    "S = Solution()\n",
    "\n",
    "print(\"---isBalanced_DFS_recursion---\")\n",
    "print(f\"Case 1: {S.isBalanced_DFS_recursion(TreeNode(3, TreeNode(9), TreeNode(20, TreeNode(15), TreeNode(17))))}\")\n",
    "print(f\"Case 2: {S.isBalanced_DFS_recursion(TreeNode(1, TreeNode(2, TreeNode(3, TreeNode(4), TreeNode(4)), TreeNode(3)), TreeNode(2)))}\")\n",
    "print(f\"Case 3: {S.isBalanced_DFS_recursion([])}\\n\")\n",
    "\n",
    "print(\"---isBalanced_DFS_iteration---\")\n",
    "print(f\"Case 1: {S.isBalanced_DFS_iteration(TreeNode(3, TreeNode(9), TreeNode(20, TreeNode(15), TreeNode(17))))}\")\n",
    "print(f\"Case 2: {S.isBalanced_DFS_iteration(TreeNode(1, TreeNode(2, TreeNode(3, TreeNode(4), TreeNode(4)), TreeNode(3)), TreeNode(2)))}\")\n",
    "print(f\"Case 3: {S.isBalanced_DFS_iteration([])}\")"
   ]
  },
  {
   "cell_type": "markdown",
   "metadata": {},
   "source": [
    "**Ref**\n",
    "1. [[Python] simple dfs, explained](https://leetcode.com/problems/balanced-binary-tree/discuss/981648/Python-simple-dfs-explained)"
   ]
  }
 ],
 "metadata": {
  "kernelspec": {
   "display_name": "Python 3 (ipykernel)",
   "language": "python",
   "name": "python3"
  },
  "language_info": {
   "codemirror_mode": {
    "name": "ipython",
    "version": 3
   },
   "file_extension": ".py",
   "mimetype": "text/x-python",
   "name": "python",
   "nbconvert_exporter": "python",
   "pygments_lexer": "ipython3",
   "version": "3.10.4"
  },
  "vscode": {
   "interpreter": {
    "hash": "21d8332eb27bea95342760850bd7426f517b6a483537194bbba87e10eeabf6ff"
   }
  }
 },
 "nbformat": 4,
 "nbformat_minor": 4
}
