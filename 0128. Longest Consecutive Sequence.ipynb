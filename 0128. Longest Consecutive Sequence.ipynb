{
 "cells": [
  {
   "cell_type": "markdown",
   "metadata": {},
   "source": [
    "`# Array` `# Hash Table` `# Union Find`"
   ]
  },
  {
   "cell_type": "markdown",
   "metadata": {},
   "source": [
    "Given an unsorted array of integers `nums`, return *the length of the longest consecutive elements sequence*.\n",
    "\n",
    "You must write an algorithm that runs in **O(n)** time."
   ]
  },
  {
   "cell_type": "markdown",
   "metadata": {},
   "source": [
    "**Example 1:**\n",
    "\n",
    "> Input: nums = [100,4,200,1,3,2]  \n",
    "Output: 4  \n",
    "Explanation: The longest consecutive elements sequence is [1, 2, 3, 4]. Therefore its length is 4.  \n",
    "\n",
    "**Example 2:**\n",
    "\n",
    "> Input: nums = [0,3,7,2,5,8,4,6,0,1]  \n",
    "Output: 9  "
   ]
  },
  {
   "cell_type": "code",
   "execution_count": 1,
   "metadata": {},
   "outputs": [],
   "source": [
    "class Solution:\n",
    "    \n",
    "    # Time Complexity： O(n)\n",
    "    # Space Complexity： O(n)     \n",
    "    def longestConsecutive(self, nums: List[int]) -> int:\n",
    "        nums = set(nums)                # create a set: O(n)\n",
    "        length = 0\n",
    "        \n",
    "        for head in nums:               # O(2n) in the worst case\n",
    "            if head - 1 not in nums:    # find an element in a set: O(1)\n",
    "                tail = head + 1\n",
    "                \n",
    "                while tail in nums:\n",
    "                    tail += 1\n",
    "                \n",
    "                length = max(length, tail - head)\n",
    "                \n",
    "        return length"
   ]
  }
 ],
 "metadata": {
  "kernelspec": {
   "display_name": "Python 3",
   "language": "python",
   "name": "python3"
  },
  "language_info": {
   "codemirror_mode": {
    "name": "ipython",
    "version": 3
   },
   "file_extension": ".py",
   "mimetype": "text/x-python",
   "name": "python",
   "nbconvert_exporter": "python",
   "pygments_lexer": "ipython3",
   "version": "3.7.7"
  }
 },
 "nbformat": 4,
 "nbformat_minor": 4
}
