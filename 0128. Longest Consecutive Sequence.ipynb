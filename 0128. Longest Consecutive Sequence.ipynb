{
 "cells": [
  {
   "cell_type": "markdown",
   "source": [
    "`# Array` `# Hash Table` `# Union Find`"
   ],
   "metadata": {}
  },
  {
   "cell_type": "markdown",
   "source": [
    "Given an unsorted array of integers `nums`, return *the length of the longest consecutive elements sequence*.\n",
    "\n",
    "You must write an algorithm that runs in **O(n)** time."
   ],
   "metadata": {}
  },
  {
   "cell_type": "markdown",
   "source": [
    "**Example 1:**\r\n",
    "\r\n",
    "> Input: nums = [100,4,200,1,3,2]  \r\n",
    "Output: 4  \r\n",
    "Explanation: The longest consecutive elements sequence is [1, 2, 3, 4]. Therefore its length is 4.  \r\n",
    "\r\n",
    "**Example 2:**\r\n",
    "\r\n",
    "> Input: nums = [0,3,7,2,5,8,4,6,0,1]  \r\n",
    "Output: 9  "
   ],
   "metadata": {}
  },
  {
   "cell_type": "code",
   "execution_count": 2,
   "source": [
    "class Solution:\r\n",
    "    \r\n",
    "    # Time Complexity： O(n)\r\n",
    "    # Space Complexity： O(n)     \r\n",
    "    def longestConsecutive(self, nums: 'List[int]') -> 'int':\r\n",
    "        nums = set(nums)                # create a set: O(n)\r\n",
    "        length = 0\r\n",
    "        \r\n",
    "        for head in nums:               # O(2n) in the worst case\r\n",
    "            if head - 1 not in nums:    # find an element in a set: O(1)\r\n",
    "                tail = head + 1\r\n",
    "                \r\n",
    "                while tail in nums:\r\n",
    "                    tail += 1\r\n",
    "                \r\n",
    "                length = max(length, tail - head)\r\n",
    "                \r\n",
    "        return length"
   ],
   "outputs": [],
   "metadata": {}
  },
  {
   "cell_type": "code",
   "execution_count": 3,
   "source": [
    "# Test on Cases\r\n",
    "S = Solution()\r\n",
    "\r\n",
    "print(f\"Case 1: {S.longestConsecutive([100,4,200,1,3,2])}\")\r\n",
    "print(f\"Case 2: {S.longestConsecutive([0,3,7,2,5,8,4,6,0,1])}\")"
   ],
   "outputs": [
    {
     "output_type": "stream",
     "name": "stdout",
     "text": [
      "Case 1: 4\n",
      "Case 2: 9\n"
     ]
    }
   ],
   "metadata": {}
  }
 ],
 "metadata": {
  "kernelspec": {
   "name": "python3",
   "display_name": "Python 3.7.7 64-bit ('spark': conda)"
  },
  "language_info": {
   "codemirror_mode": {
    "name": "ipython",
    "version": 3
   },
   "file_extension": ".py",
   "mimetype": "text/x-python",
   "name": "python",
   "nbconvert_exporter": "python",
   "pygments_lexer": "ipython3",
   "version": "3.7.7"
  },
  "interpreter": {
   "hash": "6ab137a14910b4ee65d0ea442464c53c8571f8241496146388c5db8c59915964"
  }
 },
 "nbformat": 4,
 "nbformat_minor": 4
}