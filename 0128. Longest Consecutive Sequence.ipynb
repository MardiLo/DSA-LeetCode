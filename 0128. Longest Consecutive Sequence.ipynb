{
 "cells": [
  {
   "cell_type": "markdown",
   "metadata": {},
   "source": [
    "`# Array` `# Hash Table` `# Union Find`"
   ]
  },
  {
   "cell_type": "markdown",
   "metadata": {},
   "source": [
    "Given an unsorted array of integers `nums`, return *the length of the longest consecutive elements sequence*.\n",
    "\n",
    "You must write an algorithm that runs in **O(n)** time."
   ]
  },
  {
   "cell_type": "markdown",
   "metadata": {},
   "source": [
    "**Example 1:**\n",
    "\n",
    "> Input: nums = [100,4,200,1,3,2]  \n",
    "> Output: 4  \n",
    "> Explanation: The longest consecutive elements sequence is [1, 2, 3, 4]. Therefore its length is 4.  \n",
    "\n",
    "**Example 2:**\n",
    "\n",
    "> Input: nums = [0,3,7,2,5,8,4,6,0,1]  \n",
    "> Output: 9  "
   ]
  },
  {
   "cell_type": "code",
   "execution_count": 1,
   "metadata": {},
   "outputs": [],
   "source": [
    "class Solution:\n",
    "    \n",
    "    # Time Complexity： O(n)\n",
    "    # Space Complexity： O(n)     \n",
    "    def longestConsecutive(self, nums: list[int]) -> int:\n",
    "        maxLen = 0\n",
    "\n",
    "        for num in (s := set(nums)):            # O(2n), we will work with each number at most twice as the worst case\n",
    "            if num - 1 not in s: \n",
    "                head, tail = num, num + 1\n",
    "            \n",
    "                while tail in s:\n",
    "                    tail += 1\n",
    "                \n",
    "                maxLen = max(maxLen, tail-head)\n",
    "        \n",
    "        return maxLen"
   ]
  },
  {
   "cell_type": "code",
   "execution_count": 2,
   "metadata": {},
   "outputs": [
    {
     "name": "stdout",
     "output_type": "stream",
     "text": [
      "Case 1: 4\n",
      "Case 2: 9\n"
     ]
    }
   ],
   "source": [
    "# Test on Cases\n",
    "S = Solution()\n",
    "\n",
    "print(f\"Case 1: {S.longestConsecutive([100,4,200,1,3,2])}\")\n",
    "print(f\"Case 2: {S.longestConsecutive([0,3,7,2,5,8,4,6,0,1])}\")"
   ]
  }
 ],
 "metadata": {
  "kernelspec": {
   "display_name": "leetcode",
   "language": "python",
   "name": "python3"
  },
  "language_info": {
   "codemirror_mode": {
    "name": "ipython",
    "version": 3
   },
   "file_extension": ".py",
   "mimetype": "text/x-python",
   "name": "python",
   "nbconvert_exporter": "python",
   "pygments_lexer": "ipython3",
   "version": "3.10.4"
  },
  "vscode": {
   "interpreter": {
    "hash": "21d8332eb27bea95342760850bd7426f517b6a483537194bbba87e10eeabf6ff"
   }
  }
 },
 "nbformat": 4,
 "nbformat_minor": 4
}
