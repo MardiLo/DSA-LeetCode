{
 "cells": [
  {
   "cell_type": "markdown",
   "metadata": {},
   "source": [
    "`# Array` `# Binary Search`"
   ]
  },
  {
   "cell_type": "markdown",
   "metadata": {},
   "source": [
    "Given an array of integers `nums` sorted in ascending order, find the starting and ending position of a given `target` value.\n",
    "\n",
    "If `target` is not found in the array, return `[-1, -1]`."
   ]
  },
  {
   "cell_type": "markdown",
   "metadata": {},
   "source": [
    "**Example 1:**\n",
    "\n",
    "> Input: nums = [5,7,7,8,8,10], target = 8  \n",
    "> Output: [3,4]\n",
    "\n",
    "**Example 2:**\n",
    "\n",
    "> Input: nums = [5,7,7,8,8,10], target = 6  \n",
    "> Output: [-1,-1]\n",
    "\n",
    "**Example 3:**\n",
    "\n",
    "> Input: nums = [], target = 0  \n",
    "> Output: [-1,-1]"
   ]
  },
  {
   "cell_type": "code",
   "execution_count": 1,
   "metadata": {},
   "outputs": [],
   "source": [
    "class Solution:\n",
    "    \n",
    "    # Time Complexity： O(logn)\n",
    "    # Space Complexity： O(1)     \n",
    "    def searchRange(self, nums: list[int], target: int) -> list[int]:\n",
    "        def binarySearch(nums: list[int], target: int) -> list[int]:\n",
    "            l, r = 0, len(nums)-1\n",
    "            \n",
    "            while l <= r:               \n",
    "                if nums[(m := (l+r) // 2)] >= target: r = m - 1\n",
    "                else: l = m + 1\n",
    "\n",
    "            return l\n",
    "            \n",
    "        return [l, r] if (l := binarySearch(nums, target)) <= (r := binarySearch(nums, target+1) - 1) else [-1, -1]\n",
    "    \n",
    "    # Time Complexity： O(logn)\n",
    "    # Space Complexity： O(1)\n",
    "    def searchRange_lib(self, nums: list[int], target: int) -> int:\n",
    "        from bisect import bisect_left\n",
    "\n",
    "        return [l, r] if (l := bisect_left(nums, target)) <= (r := bisect_left(nums, target+1) - 1) else [-1, -1]"
   ]
  },
  {
   "cell_type": "code",
   "execution_count": 2,
   "metadata": {},
   "outputs": [
    {
     "name": "stdout",
     "output_type": "stream",
     "text": [
      "---searchRange---\n",
      "Case 1: [3, 4]\n",
      "Case 2: [-1, -1]\n",
      "Case 3: [-1, -1]\n",
      "\n",
      "---searchRange_lib---\n",
      "Case 1: [3, 4]\n",
      "Case 2: [-1, -1]\n",
      "Case 3: [-1, -1]\n"
     ]
    }
   ],
   "source": [
    "# Test on Cases\n",
    "S = Solution()\n",
    "\n",
    "print(\"---searchRange---\")\n",
    "print(f\"Case 1: {S.searchRange([5,7,7,8,8,10], 8)}\")\n",
    "print(f\"Case 2: {S.searchRange([5,7,7,8,8,10], 6)}\")\n",
    "print(f\"Case 3: {S.searchRange([], 0)}\\n\")\n",
    "\n",
    "print(\"---searchRange_lib---\")\n",
    "print(f\"Case 1: {S.searchRange_lib([5,7,7,8,8,10], 8)}\")\n",
    "print(f\"Case 2: {S.searchRange_lib([5,7,7,8,8,10], 6)}\")\n",
    "print(f\"Case 3: {S.searchRange_lib([], 0)}\")"
   ]
  }
 ],
 "metadata": {
  "kernelspec": {
   "display_name": "Python 3 (ipykernel)",
   "language": "python",
   "name": "python3"
  },
  "language_info": {
   "codemirror_mode": {
    "name": "ipython",
    "version": 3
   },
   "file_extension": ".py",
   "mimetype": "text/x-python",
   "name": "python",
   "nbconvert_exporter": "python",
   "pygments_lexer": "ipython3",
   "version": "3.10.4"
  },
  "vscode": {
   "interpreter": {
    "hash": "21d8332eb27bea95342760850bd7426f517b6a483537194bbba87e10eeabf6ff"
   }
  }
 },
 "nbformat": 4,
 "nbformat_minor": 4
}
