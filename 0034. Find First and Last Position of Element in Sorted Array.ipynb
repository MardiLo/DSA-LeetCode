{
 "cells": [
  {
   "cell_type": "markdown",
   "metadata": {},
   "source": [
    "`# Array` `# Binary Search`"
   ]
  },
  {
   "cell_type": "markdown",
   "metadata": {},
   "source": [
    "Given an array of integers `nums` sorted in ascending order, find the starting and ending position of a given `target` value.\n",
    "\n",
    "If `target` is not found in the array, return `[-1, -1]`."
   ]
  },
  {
   "cell_type": "markdown",
   "metadata": {},
   "source": [
    "**Example 1:**\n",
    "\n",
    "> Input: nums = [5,7,7,8,8,10], target = 8  \n",
    "Output: [3,4]\n",
    "\n",
    "**Example 2:**\n",
    "\n",
    "> Input: nums = [5,7,7,8,8,10], target = 6  \n",
    "Output: [-1,-1]\n",
    "\n",
    "**Example 3:**\n",
    "\n",
    "> Input: nums = [], target = 0  \n",
    "Output: [-1,-1]"
   ]
  },
  {
   "cell_type": "code",
   "execution_count": 3,
   "metadata": {},
   "outputs": [],
   "source": [
    "class Solution:\n",
    "    \n",
    "    # Time Complexity： O(logn)\n",
    "    # Space Complexity： O(1)     \n",
    "    def searchRange(self, nums: 'List[int]', target: 'int') -> 'List[int]':\n",
    "        return [self.findStartingIndex(nums, target), self.findEndingIndex(nums, target)]\n",
    "        \n",
    "        \n",
    "        \n",
    "    def findStartingIndex(self, nums, target):\n",
    "        index = -1\n",
    "        l, r = 0, len(nums) - 1 \n",
    "\n",
    "        while l <= r:\n",
    "            mid = (l + r) // 2\n",
    "\n",
    "            if nums[mid] == target:\n",
    "                index = mid\n",
    "                r = mid - 1\n",
    "            elif nums[mid] > target:\n",
    "                r = mid - 1\n",
    "            else:\n",
    "                l = mid + 1\n",
    "\n",
    "        return index\n",
    "\n",
    "\n",
    "    def findEndingIndex(self, nums, target):\n",
    "        index = -1\n",
    "        l, r = 0, len(nums) - 1 \n",
    "\n",
    "        while l <= r:\n",
    "            mid = (l + r) // 2\n",
    "\n",
    "            if nums[mid] == target:\n",
    "                index = mid\n",
    "                l = mid + 1\n",
    "            elif nums[mid] > target:\n",
    "                r = mid - 1\n",
    "            else:\n",
    "                l = mid + 1\n",
    "\n",
    "        return index"
   ]
  },
  {
   "cell_type": "code",
   "execution_count": 4,
   "metadata": {},
   "outputs": [
    {
     "name": "stdout",
     "output_type": "stream",
     "text": [
      "Case 1: [3, 4]\n",
      "Case 2: [-1, -1]\n",
      "Case 3: [-1, -1]\n"
     ]
    }
   ],
   "source": [
    "# Test on Cases\n",
    "S = Solution()\n",
    "\n",
    "print(f\"Case 1: {S.searchRange([5,7,7,8,8,10], 8)}\")\n",
    "print(f\"Case 2: {S.searchRange([5,7,7,8,8,10], 6)}\")\n",
    "print(f\"Case 3: {S.searchRange([], 0)}\")"
   ]
  },
  {
   "cell_type": "code",
   "execution_count": null,
   "metadata": {},
   "outputs": [],
   "source": []
  }
 ],
 "metadata": {
  "kernelspec": {
   "display_name": "Python 3",
   "language": "python",
   "name": "python3"
  },
  "language_info": {
   "codemirror_mode": {
    "name": "ipython",
    "version": 3
   },
   "file_extension": ".py",
   "mimetype": "text/x-python",
   "name": "python",
   "nbconvert_exporter": "python",
   "pygments_lexer": "ipython3",
   "version": "3.7.7"
  }
 },
 "nbformat": 4,
 "nbformat_minor": 4
}
