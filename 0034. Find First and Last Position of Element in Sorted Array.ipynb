{
 "cells": [
  {
   "cell_type": "markdown",
   "source": [
    "`# Array` `# Binary Search`"
   ],
   "metadata": {}
  },
  {
   "cell_type": "markdown",
   "source": [
    "Given an array of integers `nums` sorted in ascending order, find the starting and ending position of a given `target` value.\n",
    "\n",
    "If `target` is not found in the array, return `[-1, -1]`."
   ],
   "metadata": {}
  },
  {
   "cell_type": "markdown",
   "source": [
    "**Example 1:**\n",
    "\n",
    "> Input: nums = [5,7,7,8,8,10], target = 8  \n",
    "Output: [3,4]\n",
    "\n",
    "**Example 2:**\n",
    "\n",
    "> Input: nums = [5,7,7,8,8,10], target = 6  \n",
    "Output: [-1,-1]\n",
    "\n",
    "**Example 3:**\n",
    "\n",
    "> Input: nums = [], target = 0  \n",
    "Output: [-1,-1]"
   ],
   "metadata": {}
  },
  {
   "cell_type": "code",
   "execution_count": 3,
   "source": [
    "class Solution:\r\n",
    "    \r\n",
    "    # Time Complexity： O(logn)\r\n",
    "    # Space Complexity： O(1)     \r\n",
    "    def searchRange(self, nums: 'List[int]', target: 'int') -> 'List[int]':\r\n",
    "        return [self.findStartingIndex(nums, target), self.findEndingIndex(nums, target)]\r\n",
    "        \r\n",
    "        \r\n",
    "        \r\n",
    "    def findStartingIndex(self, nums, target):\r\n",
    "        index = -1\r\n",
    "        l, r = 0, len(nums) - 1 \r\n",
    "\r\n",
    "        while l <= r:\r\n",
    "            mid = (l + r) // 2\r\n",
    "\r\n",
    "            if nums[mid] == target:\r\n",
    "                index = mid\r\n",
    "                r = mid - 1\r\n",
    "            elif nums[mid] > target:\r\n",
    "                r = mid - 1\r\n",
    "            else:\r\n",
    "                l = mid + 1\r\n",
    "\r\n",
    "        return index\r\n",
    "\r\n",
    "\r\n",
    "    def findEndingIndex(self, nums, target):\r\n",
    "        index = -1\r\n",
    "        l, r = 0, len(nums) - 1 \r\n",
    "\r\n",
    "        while l <= r:\r\n",
    "            mid = (l + r) // 2\r\n",
    "\r\n",
    "            if nums[mid] == target:\r\n",
    "                index = mid\r\n",
    "                l = mid + 1\r\n",
    "            elif nums[mid] > target:\r\n",
    "                r = mid - 1\r\n",
    "            else:\r\n",
    "                l = mid + 1\r\n",
    "\r\n",
    "        return index"
   ],
   "outputs": [],
   "metadata": {}
  },
  {
   "cell_type": "code",
   "execution_count": 4,
   "source": [
    "# Test on Cases\r\n",
    "S = Solution()\r\n",
    "\r\n",
    "print(f\"Case 1: {S.searchRange([5,7,7,8,8,10], 8)}\")\r\n",
    "print(f\"Case 2: {S.searchRange([5,7,7,8,8,10], 6)}\")\r\n",
    "print(f\"Case 3: {S.searchRange([], 0)}\")"
   ],
   "outputs": [
    {
     "output_type": "stream",
     "name": "stdout",
     "text": [
      "Case 1: [3, 4]\n",
      "Case 2: [-1, -1]\n",
      "Case 3: [-1, -1]\n"
     ]
    }
   ],
   "metadata": {}
  }
 ],
 "metadata": {
  "kernelspec": {
   "display_name": "Python 3",
   "language": "python",
   "name": "python3"
  },
  "language_info": {
   "codemirror_mode": {
    "name": "ipython",
    "version": 3
   },
   "file_extension": ".py",
   "mimetype": "text/x-python",
   "name": "python",
   "nbconvert_exporter": "python",
   "pygments_lexer": "ipython3",
   "version": "3.7.7"
  }
 },
 "nbformat": 4,
 "nbformat_minor": 4
}