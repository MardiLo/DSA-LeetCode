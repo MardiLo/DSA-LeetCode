{
 "cells": [
  {
   "cell_type": "markdown",
   "source": [
    "`# Math`"
   ],
   "metadata": {}
  },
  {
   "cell_type": "markdown",
   "source": [
    "Given an integer `n`, return a string array answer (1-indexed) where:\n",
    "\n",
    "answer[i] == \"FizzBuzz\" if i is divisible by 3 and 5.  \n",
    "answer[i] == \"Fizz\" if i is divisible by 3.  \n",
    "answer[i] == \"Buzz\" if i is divisible by 5.  \n",
    "answer[i] == i if non of the above conditions are true."
   ],
   "metadata": {}
  },
  {
   "cell_type": "markdown",
   "source": [
    "**Example 1:**\n",
    "\n",
    "> Input: n = 3  \n",
    "Output: [\"1\",\"2\",\"Fizz\"]\n",
    "\n",
    "**Example 2:**\n",
    "\n",
    "> Input: n = 5    \n",
    "Output: [\"1\",\"2\",\"Fizz\",\"4\",\"Buzz\"]\n",
    "\n",
    "**Example 3:**\n",
    "\n",
    "> n = 15,  \n",
    "Return:  \n",
    "[\"1\", \"2\", \"Fizz\", \"4\", \"Buzz\", \"Fizz\", \"7\", \"8\", \"Fizz\", \"Buzz\", \"11\", \"Fizz\", \"13\", \"14\", \"FizzBuzz\"]"
   ],
   "metadata": {}
  },
  {
   "cell_type": "code",
   "execution_count": 1,
   "source": [
    "class Solution:\r\n",
    "    def fizzBuzz(self, n: 'int') -> 'List[str]':\r\n",
    "        res = []\r\n",
    "        \r\n",
    "        for i in range(1, n+1):\r\n",
    "            if i % 15 == 0:\r\n",
    "                res.append(\"FizzBuzz\")\r\n",
    "            elif i % 3 == 0:\r\n",
    "                res.append(\"Fizz\")\r\n",
    "            elif i % 5 == 0:\r\n",
    "                res.append(\"Buzz\")\r\n",
    "            else:\r\n",
    "                res.append(str(i))\r\n",
    "        \r\n",
    "        return res"
   ],
   "outputs": [],
   "metadata": {}
  },
  {
   "cell_type": "code",
   "execution_count": 3,
   "source": [
    "# Test on Cases\r\n",
    "S = Solution()\r\n",
    "\r\n",
    "print(f\"Case 1: {S.fizzBuzz(3)}\")\r\n",
    "print(f\"Case 2: {S.fizzBuzz(5)}\")\r\n",
    "print(f\"Case 3: {S.fizzBuzz(15)}\")"
   ],
   "outputs": [
    {
     "output_type": "stream",
     "name": "stdout",
     "text": [
      "Case 1: ['1', '2', 'Fizz']\n",
      "Case 2: ['1', '2', 'Fizz', '4', 'Buzz']\n",
      "Case 3: ['1', '2', 'Fizz', '4', 'Buzz', 'Fizz', '7', '8', 'Fizz', 'Buzz', '11', 'Fizz', '13', '14', 'FizzBuzz']\n"
     ]
    }
   ],
   "metadata": {}
  }
 ],
 "metadata": {
  "kernelspec": {
   "display_name": "Python 3",
   "language": "python",
   "name": "python3"
  },
  "language_info": {
   "codemirror_mode": {
    "name": "ipython",
    "version": 3
   },
   "file_extension": ".py",
   "mimetype": "text/x-python",
   "name": "python",
   "nbconvert_exporter": "python",
   "pygments_lexer": "ipython3",
   "version": "3.7.7"
  }
 },
 "nbformat": 4,
 "nbformat_minor": 4
}