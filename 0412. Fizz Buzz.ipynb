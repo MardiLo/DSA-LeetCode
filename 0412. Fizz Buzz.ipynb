{
 "cells": [
  {
   "cell_type": "markdown",
   "metadata": {},
   "source": [
    "`# Math`"
   ]
  },
  {
   "cell_type": "markdown",
   "metadata": {},
   "source": [
    "Given an integer `n`, return a string array answer (1-indexed) where:\n",
    "\n",
    "answer[i] == \"FizzBuzz\" if i is divisible by 3 and 5.  \n",
    "answer[i] == \"Fizz\" if i is divisible by 3.  \n",
    "answer[i] == \"Buzz\" if i is divisible by 5.  \n",
    "answer[i] == i if non of the above conditions are true."
   ]
  },
  {
   "cell_type": "markdown",
   "metadata": {},
   "source": [
    "**Example 1:**\n",
    "\n",
    "> Input: n = 3  \n",
    "Output: [\"1\",\"2\",\"Fizz\"]\n",
    "\n",
    "**Example 2:**\n",
    "\n",
    "> Input: n = 5    \n",
    "Output: [\"1\",\"2\",\"Fizz\",\"4\",\"Buzz\"]\n",
    "\n",
    "**Example 3:**\n",
    "\n",
    "> n = 15,  \n",
    "Return:  \n",
    "[\"1\", \"2\", \"Fizz\", \"4\", \"Buzz\", \"Fizz\", \"7\", \"8\", \"Fizz\", \"Buzz\", \"11\", \"Fizz\", \"13\", \"14\", \"FizzBuzz\"]"
   ]
  },
  {
   "cell_type": "code",
   "execution_count": 1,
   "metadata": {},
   "outputs": [],
   "source": [
    "class Solution:\n",
    "    def fizzBuzz(self, n: 'int') -> 'List[str]':\n",
    "        res = []\n",
    "        \n",
    "        for i in range(1, n+1):\n",
    "            if i % 15 == 0:\n",
    "                res.append(\"FizzBuzz\")\n",
    "            elif i % 3 == 0:\n",
    "                res.append(\"Fizz\")\n",
    "            elif i % 5 == 0:\n",
    "                res.append(\"Buzz\")\n",
    "            else:\n",
    "                res.append(str(i))\n",
    "        \n",
    "        return res"
   ]
  },
  {
   "cell_type": "code",
   "execution_count": 3,
   "metadata": {},
   "outputs": [
    {
     "name": "stdout",
     "output_type": "stream",
     "text": [
      "Case 1: ['1', '2', 'Fizz']\n",
      "Case 2: ['1', '2', 'Fizz', '4', 'Buzz']\n",
      "Case 3: ['1', '2', 'Fizz', '4', 'Buzz', 'Fizz', '7', '8', 'Fizz', 'Buzz', '11', 'Fizz', '13', '14', 'FizzBuzz']\n"
     ]
    }
   ],
   "source": [
    "# Test on Cases\n",
    "S = Solution()\n",
    "\n",
    "print(f\"Case 1: {S.fizzBuzz(3)}\")\n",
    "print(f\"Case 2: {S.fizzBuzz(5)}\")\n",
    "print(f\"Case 3: {S.fizzBuzz(15)}\")"
   ]
  },
  {
   "cell_type": "code",
   "execution_count": null,
   "metadata": {},
   "outputs": [],
   "source": []
  }
 ],
 "metadata": {
  "kernelspec": {
   "display_name": "Python 3",
   "language": "python",
   "name": "python3"
  },
  "language_info": {
   "codemirror_mode": {
    "name": "ipython",
    "version": 3
   },
   "file_extension": ".py",
   "mimetype": "text/x-python",
   "name": "python",
   "nbconvert_exporter": "python",
   "pygments_lexer": "ipython3",
   "version": "3.7.7"
  }
 },
 "nbformat": 4,
 "nbformat_minor": 4
}
