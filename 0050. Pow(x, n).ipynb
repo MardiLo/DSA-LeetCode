{
 "cells": [
  {
   "cell_type": "markdown",
   "metadata": {},
   "source": [
    "`# Math` `# Recursion`"
   ]
  },
  {
   "cell_type": "markdown",
   "metadata": {},
   "source": [
    "Implement `pow(x, n)`*, which calculates* `x` *raised to the power* `n` *(i.e.,* `x`<sup>`n`</sup>*)*."
   ]
  },
  {
   "cell_type": "markdown",
   "metadata": {},
   "source": [
    "**Example 1:**\n",
    "\n",
    "> Input: x = 2.00000, n = 10  \n",
    "> Output: 1024.00000  \n",
    "\n",
    "**Example 2:**\n",
    "\n",
    "> Input: x = 2.10000, n = 3  \n",
    "> Output: 9.26100  \n",
    "\n",
    "**Example 3:**\n",
    "\n",
    "> Input: x = 2.00000, n = -2  \n",
    "> Output: 0.25000  \n",
    "> Explanation: 2<sup>-2</sup> = 1/2<sup>2</sup> = 1/4 = 0.25  "
   ]
  },
  {
   "cell_type": "code",
   "execution_count": 15,
   "metadata": {},
   "outputs": [],
   "source": [
    "class Solution:\n",
    "    \n",
    "    # Time Complexity： O(logn)\n",
    "    # Space Complexity： O(logn)    \n",
    "    def myPow_doubleX(self, x: float, n: int) -> float:\n",
    "        if n < 0: x, n = 1/x, -n\n",
    "\n",
    "        return (dfs := lambda x, n: (dfs(x*x, n//2) if not n % 2 else x*dfs(x*x, n//2)) if n else 1)(x, n)\n",
    "    \n",
    "    def myPow_doubleDFS(self, x: float, n: int) -> float:\n",
    "        if n < 0: x, n = 1/x, -n\n",
    "\n",
    "        def dfs(x: float, n: int) -> float:\n",
    "            return ((h := dfs(x, n//2))*h if not n % 2 else x*(h := dfs(x, n//2))*h) if n else 1\n",
    "        \n",
    "        return dfs(x, n)"
   ]
  },
  {
   "cell_type": "code",
   "execution_count": 16,
   "metadata": {},
   "outputs": [
    {
     "name": "stdout",
     "output_type": "stream",
     "text": [
      "---myPow_doubleX---\n",
      "Case 1: 1024.0\n",
      "Case 2: 9.261000000000001\n",
      "Case 3: 0.25\n",
      "\n",
      "---myPow_doubleDFS---\n",
      "Case 1: 1024.0\n",
      "Case 2: 9.261000000000001\n",
      "Case 3: 0.25\n"
     ]
    }
   ],
   "source": [
    "# Test on Cases\n",
    "S = Solution()\n",
    "\n",
    "print(\"---myPow_doubleX---\")\n",
    "print(f\"Case 1: {S.myPow_doubleX(2.0, 10)}\")\n",
    "print(f\"Case 2: {S.myPow_doubleX(2.1, 3)}\")\n",
    "print(f\"Case 3: {S.myPow_doubleX(2.0, -2)}\\n\")\n",
    "\n",
    "print(\"---myPow_doubleDFS---\")\n",
    "print(f\"Case 1: {S.myPow_doubleDFS(2.0, 10)}\")\n",
    "print(f\"Case 2: {S.myPow_doubleDFS(2.1, 3)}\")\n",
    "print(f\"Case 3: {S.myPow_doubleDFS(2.0, -2)}\")"
   ]
  },
  {
   "cell_type": "markdown",
   "metadata": {},
   "source": [
    "**Ref**\n",
    "1. [Shortest Python - Guaranteed](https://leetcode.com/problems/powx-n/discuss/19560/Shortest-Python-Guaranteed)"
   ]
  }
 ],
 "metadata": {
  "kernelspec": {
   "display_name": "Python 3 (ipykernel)",
   "language": "python",
   "name": "python3"
  },
  "language_info": {
   "codemirror_mode": {
    "name": "ipython",
    "version": 3
   },
   "file_extension": ".py",
   "mimetype": "text/x-python",
   "name": "python",
   "nbconvert_exporter": "python",
   "pygments_lexer": "ipython3",
   "version": "3.10.4"
  },
  "vscode": {
   "interpreter": {
    "hash": "21d8332eb27bea95342760850bd7426f517b6a483537194bbba87e10eeabf6ff"
   }
  }
 },
 "nbformat": 4,
 "nbformat_minor": 4
}
