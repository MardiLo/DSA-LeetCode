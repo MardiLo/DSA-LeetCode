{
 "cells": [
  {
   "cell_type": "markdown",
   "metadata": {},
   "source": [
    "`# Counting` `# Hash Table` `# String` "
   ]
  },
  {
   "cell_type": "markdown",
   "metadata": {},
   "source": [
    "You are given an array of strings `words` (**0-indexed**).\n",
    "\n",
    "In one operation, pick two **distinct** indices `i` and `j`, where `words[i]` is a non-empty string, and move **any** character from `words[i]` to **any** position in `words[j]`.\n",
    "\n",
    "Return `true` *if you can make ***every*** string in* `words` ***equal*** *using ***any*** number of operations, and* `false` *otherwise*."
   ]
  },
  {
   "cell_type": "markdown",
   "metadata": {},
   "source": [
    "**Example 1:**\n",
    "\n",
    "> Input: words = [\"abc\",\"aabc\",\"bc\"]  \n",
    "Output: true  \n",
    "Explanation: Move the first 'a' in words[1] to the front of words[2],  \n",
    "to make words[1] = \"abc\" and words[2] = \"abc\".  \n",
    "All the strings are now equal to \"abc\", so return true.\n",
    "\n",
    "**Example 2:**\n",
    "\n",
    "> Input: words = [\"ab\",\"a\"]  \n",
    "Output: false  \n",
    "Explanation: It is impossible to make all the strings equal using the operation."
   ]
  },
  {
   "cell_type": "code",
   "execution_count": 1,
   "metadata": {},
   "outputs": [],
   "source": [
    "class Solution:\n",
    "    \n",
    "    # Time Complexity： O(wn), where w is the len of each word in words, n is the no. of word in words\n",
    "    # Space Complexity： O(26)    \n",
    "    def makeEqual(self, words: list[str]) -> bool:\n",
    "        from collections import Counter\n",
    "\n",
    "        return all(not v % len(words) for v in Counter((''.join(words))).values())"
   ]
  },
  {
   "cell_type": "code",
   "execution_count": 2,
   "metadata": {},
   "outputs": [
    {
     "name": "stdout",
     "output_type": "stream",
     "text": [
      "Case 1: True\n",
      "Case 2: False\n"
     ]
    }
   ],
   "source": [
    "# Test on Cases\n",
    "S = Solution()\n",
    "\n",
    "print(f\"Case 1: {S.makeEqual(['abc','aabc','bc'])}\")\n",
    "print(f\"Case 2: {S.makeEqual(['ab','a'])}\")"
   ]
  }
 ],
 "metadata": {
  "interpreter": {
   "hash": "21d8332eb27bea95342760850bd7426f517b6a483537194bbba87e10eeabf6ff"
  },
  "kernelspec": {
   "display_name": "Python 3.10.4 ('leetcode')",
   "language": "python",
   "name": "python3"
  },
  "language_info": {
   "codemirror_mode": {
    "name": "ipython",
    "version": 3
   },
   "file_extension": ".py",
   "mimetype": "text/x-python",
   "name": "python",
   "nbconvert_exporter": "python",
   "pygments_lexer": "ipython3",
   "version": "3.10.4"
  }
 },
 "nbformat": 4,
 "nbformat_minor": 4
}
