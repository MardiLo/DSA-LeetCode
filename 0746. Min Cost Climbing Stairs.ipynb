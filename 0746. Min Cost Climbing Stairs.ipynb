{
 "cells": [
  {
   "cell_type": "markdown",
   "metadata": {},
   "source": [
    "`# Array` `# Dynamic Programming`"
   ]
  },
  {
   "cell_type": "markdown",
   "metadata": {},
   "source": [
    "You are given an integer array `cost` where `cost[i]` is the cost of `i`<sup>`th`</sup> step on a staircase. Once you pay the cost, you can either climb one or two steps.\n",
    "\n",
    "You can either start from the step with index `0`, or the step with index `1`.\n",
    "\n",
    "Return the *minimum cost to reach the top of the floor.*"
   ]
  },
  {
   "cell_type": "markdown",
   "metadata": {},
   "source": [
    "**Example 1:**\n",
    "\n",
    "> Input: cost = [10,15,20]  \n",
    "> Output: 15  \n",
    "> Explanation: You will start at index 1.  \n",
    "> Pay 15 and climb two steps to reach the top.  \n",
    "> The total cost is 15.   \n",
    "\n",
    "**Example 2:**\n",
    "\n",
    "> Input: cost = [1,100,1,1,1,100,1,1,100,1]  \n",
    "> Output: 6  \n",
    "> Explanation: You will start at index 0.  \n",
    "> Pay 1 and climb two steps to reach index 2.  \n",
    "> Pay 1 and climb two steps to reach index 4.  \n",
    "> Pay 1 and climb two steps to reach index 6.  \n",
    "> Pay 1 and climb one step to reach index 7.  \n",
    "> Pay 1 and climb two steps to reach index 9.  \n",
    "> Pay 1 and climb one step to reach the top.  \n",
    "> The total cost is 6.  "
   ]
  },
  {
   "cell_type": "code",
   "execution_count": 5,
   "metadata": {},
   "outputs": [],
   "source": [
    "class Solution:\n",
    "    # Time Complexity： O(n)\n",
    "    # Space Complexity： O(n)       \n",
    "    def minCostClimbingStairs(self, cost: list[int]) -> int:\n",
    "        dp = [0, 0]\n",
    "        \n",
    "        for i in range(2, (n := len(cost))+1):\n",
    "            dp.append(min(dp[i-1] + cost[i-1], dp[i-2] + cost[i-2]))\n",
    "            \n",
    "        return dp[n] \n",
    "\n",
    "    # Time Complexity： O(n)\n",
    "    # Space Complexity： O(1)    \n",
    "    def climbStairs_spaceOpt(self, cost: list[int]) -> int:\n",
    "        dp1 = dp2 = 0 \n",
    "        \n",
    "        for i in range(2, len(cost)+1):\n",
    "            dp1, dp2 = min(dp1 + cost[i-1], dp2 + cost[i-2]), dp1\n",
    "        \n",
    "        return dp1"
   ]
  },
  {
   "cell_type": "code",
   "execution_count": 6,
   "metadata": {},
   "outputs": [
    {
     "name": "stdout",
     "output_type": "stream",
     "text": [
      "---minCostClimbingStairs---\n",
      "Case 1: 15\n",
      "Case 2: 6\n",
      "\n",
      "---climbStairs_spaceOpt---\n",
      "Case 1: 15\n",
      "Case 2: 6\n"
     ]
    }
   ],
   "source": [
    "# Test on Cases\n",
    "S = Solution()\n",
    "\n",
    "print(\"---minCostClimbingStairs---\")\n",
    "print(f\"Case 1: {S.minCostClimbingStairs([10,15,20])}\")\n",
    "print(f\"Case 2: {S.minCostClimbingStairs([1,100,1,1,1,100,1,1,100,1])}\\n\")\n",
    "\n",
    "print(\"---climbStairs_spaceOpt---\")\n",
    "print(f\"Case 1: {S.climbStairs_spaceOpt([10,15,20])}\")\n",
    "print(f\"Case 2: {S.climbStairs_spaceOpt([1,100,1,1,1,100,1,1,100,1])}\")"
   ]
  }
 ],
 "metadata": {
  "kernelspec": {
   "display_name": "Python 3 (ipykernel)",
   "language": "python",
   "name": "python3"
  },
  "language_info": {
   "codemirror_mode": {
    "name": "ipython",
    "version": 3
   },
   "file_extension": ".py",
   "mimetype": "text/x-python",
   "name": "python",
   "nbconvert_exporter": "python",
   "pygments_lexer": "ipython3",
   "version": "3.10.4"
  },
  "vscode": {
   "interpreter": {
    "hash": "21d8332eb27bea95342760850bd7426f517b6a483537194bbba87e10eeabf6ff"
   }
  }
 },
 "nbformat": 4,
 "nbformat_minor": 4
}
