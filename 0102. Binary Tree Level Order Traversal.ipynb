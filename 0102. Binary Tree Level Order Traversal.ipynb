{
 "cells": [
  {
   "cell_type": "markdown",
   "source": [
    "`# Binary Tree` `# Breadth-First Search` `# Tree`"
   ],
   "metadata": {}
  },
  {
   "cell_type": "markdown",
   "source": [
    "Given the `root` of a binary tree, return *the ***level order traversal*** of its nodes' values*. (i.e., from left to right, level by level)."
   ],
   "metadata": {}
  },
  {
   "cell_type": "markdown",
   "source": [
    "**Example 1:**  \r\n",
    "![Image of leetcode 0102 problem example 1](https://assets.leetcode.com/uploads/2021/02/19/tree1.jpg)\r\n",
    "> root = [3,9,20,null,null,15,7]  \r\n",
    "Output: [[3],[9,20],[15,7]]  \r\n",
    "\r\n",
    "**Example 2:**\r\n",
    "\r\n",
    "> Input: root = [1]  \r\n",
    "Output: [[1]]  \r\n",
    "\r\n",
    "**Example 3:**\r\n",
    "\r\n",
    "> Input: root = []  \r\n",
    "Output: []  "
   ],
   "metadata": {}
  },
  {
   "cell_type": "code",
   "execution_count": 6,
   "source": [
    "class TreeNode:\r\n",
    "    def __init__(self, val=0, left=None, right=None):\r\n",
    "        self.val = val\r\n",
    "        self.left = left\r\n",
    "        self.right = right\r\n",
    "\r\n",
    "class Solution:   \r\n",
    "    \r\n",
    "    # Time Complexity： O(n)\r\n",
    "    # Space Complexity： O(n)  \r\n",
    "    def levelOrder_BFS(self, root: 'Optional[TreeNode]') -> 'List[List[int]]':\r\n",
    "        from collections import deque\r\n",
    "        \r\n",
    "        if not root:\r\n",
    "            return []\r\n",
    "        \r\n",
    "        queue, res = deque([root]), []    \r\n",
    "        while queue:\r\n",
    "            sameLevelNode, sameLevelNodeCnt = [], len(queue)\r\n",
    "            \r\n",
    "            for i in range(sameLevelNodeCnt):\r\n",
    "                node = queue.popleft()\r\n",
    "\r\n",
    "                if node.left:\r\n",
    "                    queue.append(node.left)\r\n",
    "                if node.right:\r\n",
    "                    queue.append(node.right)\r\n",
    "                sameLevelNode.append(node.val)\r\n",
    "                \r\n",
    "            res.append(sameLevelNode)\r\n",
    "                \r\n",
    "        return res"
   ],
   "outputs": [],
   "metadata": {}
  },
  {
   "cell_type": "code",
   "execution_count": 9,
   "source": [
    "# Test on Cases\r\n",
    "S = Solution()\r\n",
    "\r\n",
    "print(f\"Case 1: {S.levelOrder_BFS(TreeNode(3, TreeNode(9), TreeNode(20, TreeNode(15), TreeNode(17))))}\")\r\n",
    "print(f\"Case 2: {S.levelOrder_BFS(TreeNode(1))}\")\r\n",
    "print(f\"Case 3: {S.levelOrder_BFS([])}\")"
   ],
   "outputs": [
    {
     "output_type": "stream",
     "name": "stdout",
     "text": [
      "Case 1: [[3], [9, 20], [15, 17]]\n",
      "Case 2: [[1]]\n",
      "Case 3: []\n"
     ]
    }
   ],
   "metadata": {}
  }
 ],
 "metadata": {
  "kernelspec": {
   "display_name": "Python 3",
   "language": "python",
   "name": "python3"
  },
  "language_info": {
   "codemirror_mode": {
    "name": "ipython",
    "version": 3
   },
   "file_extension": ".py",
   "mimetype": "text/x-python",
   "name": "python",
   "nbconvert_exporter": "python",
   "pygments_lexer": "ipython3",
   "version": "3.7.7"
  }
 },
 "nbformat": 4,
 "nbformat_minor": 4
}