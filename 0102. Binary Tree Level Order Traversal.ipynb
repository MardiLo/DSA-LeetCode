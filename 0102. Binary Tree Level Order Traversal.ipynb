{
 "cells": [
  {
   "cell_type": "markdown",
   "metadata": {},
   "source": [
    "`# Binary Tree` `# Breadth-First Search` `# Tree`"
   ]
  },
  {
   "cell_type": "markdown",
   "metadata": {},
   "source": [
    "Given the `root` of a binary tree, return *the ***level order traversal*** of its nodes' values*. (i.e., from left to right, level by level)."
   ]
  },
  {
   "cell_type": "markdown",
   "metadata": {},
   "source": [
    "**Example 1:**  \n",
    "![Image of leetcode 0102 problem example 1](https://assets.leetcode.com/uploads/2021/02/19/tree1.jpg)\n",
    "> Input: root = [3,9,20,null,null,15,7]  \n",
    "Output: [[3],[9,20],[15,7]]  \n",
    "\n",
    "**Example 2:**\n",
    "\n",
    "> Input: root = [1]  \n",
    "Output: [[1]]  \n",
    "\n",
    "**Example 3:**\n",
    "\n",
    "> Input: root = []  \n",
    "Output: []  "
   ]
  },
  {
   "cell_type": "code",
   "execution_count": 5,
   "metadata": {},
   "outputs": [],
   "source": [
    "class TreeNode:\n",
    "    def __init__(self, val=0, left=None, right=None):\n",
    "        self.val = val\n",
    "        self.left = left\n",
    "        self.right = right\n",
    "\n",
    "class Solution:   \n",
    "    \n",
    "    # Time Complexity： O(n)\n",
    "    # Space Complexity： O(w)  \n",
    "    def levelOrder(self, root: TreeNode) -> list[list[int]]:\n",
    "        from collections import deque\n",
    "        \n",
    "        if not root: return []\n",
    "        \n",
    "        queue, bfs = deque([(1, root)]), []\n",
    "        while queue:\n",
    "            level, root = queue.popleft()\n",
    "            \n",
    "            if root:\n",
    "                if len(bfs) != level: bfs.append([])\n",
    "                bfs[level-1].append(root.val)\n",
    "                \n",
    "                queue.extend([(level+1, root.left), (level+1, root.right)])\n",
    "                \n",
    "        return bfs"
   ]
  },
  {
   "cell_type": "code",
   "execution_count": 6,
   "metadata": {},
   "outputs": [
    {
     "name": "stdout",
     "output_type": "stream",
     "text": [
      "Case 1: [[3], [9, 20], [15, 17]]\n",
      "Case 2: [[1]]\n",
      "Case 3: []\n"
     ]
    }
   ],
   "source": [
    "# Test on Cases\n",
    "S = Solution()\n",
    "\n",
    "print(f\"Case 1: {S.levelOrder(TreeNode(3, TreeNode(9), TreeNode(20, TreeNode(15), TreeNode(17))))}\")\n",
    "print(f\"Case 2: {S.levelOrder(TreeNode(1))}\")\n",
    "print(f\"Case 3: {S.levelOrder([])}\")"
   ]
  }
 ],
 "metadata": {
  "kernelspec": {
   "display_name": "Python 3.10.4 ('leetcode')",
   "language": "python",
   "name": "python3"
  },
  "language_info": {
   "codemirror_mode": {
    "name": "ipython",
    "version": 3
   },
   "file_extension": ".py",
   "mimetype": "text/x-python",
   "name": "python",
   "nbconvert_exporter": "python",
   "pygments_lexer": "ipython3",
   "version": "3.10.4"
  },
  "vscode": {
   "interpreter": {
    "hash": "21d8332eb27bea95342760850bd7426f517b6a483537194bbba87e10eeabf6ff"
   }
  }
 },
 "nbformat": 4,
 "nbformat_minor": 4
}
