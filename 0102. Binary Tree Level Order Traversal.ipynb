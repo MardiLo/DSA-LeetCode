{
 "cells": [
  {
   "cell_type": "markdown",
   "metadata": {},
   "source": [
    "`# Binary Tree` `# Breadth-First Search` `# Tree`"
   ]
  },
  {
   "cell_type": "markdown",
   "metadata": {},
   "source": [
    "Given the `root` of a binary tree, return *the ***level order traversal*** of its nodes' values*. (i.e., from left to right, level by level)."
   ]
  },
  {
   "cell_type": "markdown",
   "metadata": {},
   "source": [
    "**Example 1:**  \n",
    "![Image of leetcode 0102 problem example 1](https://assets.leetcode.com/uploads/2021/02/19/tree1.jpg)\n",
    "> Input: root = [3,9,20,null,null,15,7]  \n",
    "Output: [[3],[9,20],[15,7]]  \n",
    "\n",
    "**Example 2:**\n",
    "\n",
    "> Input: root = [1]  \n",
    "Output: [[1]]  \n",
    "\n",
    "**Example 3:**\n",
    "\n",
    "> Input: root = []  \n",
    "Output: []  "
   ]
  },
  {
   "cell_type": "code",
   "execution_count": 6,
   "metadata": {},
   "outputs": [],
   "source": [
    "class TreeNode:\n",
    "    def __init__(self, val=0, left=None, right=None):\n",
    "        self.val = val\n",
    "        self.left = left\n",
    "        self.right = right\n",
    "\n",
    "class Solution:   \n",
    "    \n",
    "    # Time Complexity： O(n)\n",
    "    # Space Complexity： O(n)  \n",
    "    def levelOrder_BFS(self, root: 'TreeNode') -> 'List[List[int]]':\n",
    "        from collections import deque\n",
    "        \n",
    "        if not root: return []\n",
    "        \n",
    "        queue, res = deque([root]), []    \n",
    "        while queue:\n",
    "            sameLevelNode, sameLevelNodeCnt = [], len(queue)\n",
    "            \n",
    "            for _ in range(sameLevelNodeCnt):\n",
    "                node = queue.popleft()\n",
    "                sameLevelNode.append(node.val)\n",
    "\n",
    "                if node.left: queue.append(node.left)\n",
    "                if node.right: queue.append(node.right)\n",
    "                \n",
    "            res.append(sameLevelNode)\n",
    "                \n",
    "        return res"
   ]
  },
  {
   "cell_type": "code",
   "execution_count": 9,
   "metadata": {},
   "outputs": [
    {
     "name": "stdout",
     "output_type": "stream",
     "text": [
      "Case 1: [[3], [9, 20], [15, 17]]\n",
      "Case 2: [[1]]\n",
      "Case 3: []\n"
     ]
    }
   ],
   "source": [
    "# Test on Cases\n",
    "S = Solution()\n",
    "\n",
    "print(f\"Case 1: {S.levelOrder_BFS(TreeNode(3, TreeNode(9), TreeNode(20, TreeNode(15), TreeNode(17))))}\")\n",
    "print(f\"Case 2: {S.levelOrder_BFS(TreeNode(1))}\")\n",
    "print(f\"Case 3: {S.levelOrder_BFS([])}\")"
   ]
  }
 ],
 "metadata": {
  "kernelspec": {
   "display_name": "Python 3",
   "language": "python",
   "name": "python3"
  },
  "language_info": {
   "codemirror_mode": {
    "name": "ipython",
    "version": 3
   },
   "file_extension": ".py",
   "mimetype": "text/x-python",
   "name": "python",
   "nbconvert_exporter": "python",
   "pygments_lexer": "ipython3",
   "version": "3.7.7"
  }
 },
 "nbformat": 4,
 "nbformat_minor": 4
}
