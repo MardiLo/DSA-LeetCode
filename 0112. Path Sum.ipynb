{
 "cells": [
  {
   "cell_type": "markdown",
   "metadata": {},
   "source": [
    "`# Binary Tree` `# Breadth-First Search` `# Depth-First Search` `# Tree`"
   ]
  },
  {
   "cell_type": "markdown",
   "metadata": {},
   "source": [
    "Given the `root` of a binary tree and an integer `targetSum`, return `true` if the tree has a **root-to-leaf** path such that adding up all the values along the path equals `targetSum`.\n",
    "\n",
    "A **leaf** is a node with no children."
   ]
  },
  {
   "cell_type": "markdown",
   "metadata": {},
   "source": [
    "**Example 1:**  \n",
    "![Image of leetcode 0112 problem example 1](https://assets.leetcode.com/uploads/2021/01/18/pathsum1.jpg)\n",
    "> Input: root = [5,4,8,11,null,13,4,7,2,null,null,null,1], targetSum = 22  \n",
    "> Output: true  \n",
    "> Explanation: The root-to-leaf path with the target sum is shown.\n",
    "\n",
    "**Example 2:**  \n",
    "![Image of leetcode 0112 problem example 2](https://assets.leetcode.com/uploads/2021/01/18/pathsum2.jpg)\n",
    "> Input: root = [1,2,3], targetSum = 5  \n",
    "> Output: false  \n",
    "> Explanation: There two root-to-leaf paths in the tree:  \n",
    "> (1 --> 2): The sum is 3.  \n",
    "> (1 --> 3): The sum is 4.  \n",
    "> There is no root-to-leaf path with sum = 5.\n",
    "\n",
    "**Example 3:**\n",
    "\n",
    "> Input: root = [], targetSum = 0   \n",
    "> Output: false  \n",
    "> Explanation: Since the tree is empty, there are no root-to-leaf paths."
   ]
  },
  {
   "cell_type": "code",
   "execution_count": 13,
   "metadata": {},
   "outputs": [],
   "source": [
    "class TreeNode:\n",
    "    def __init__(self, val=0, left=None, right=None):\n",
    "        self.val = val\n",
    "        self.left = left\n",
    "        self.right = right\n",
    "\n",
    "class Solution:   \n",
    "    \n",
    "    # Time Complexity： O(n)\n",
    "    # Space Complexity： O(h)\n",
    "    def hasPathSum_DFS_recursion(self, root: TreeNode, targetSum: int) -> bool:\n",
    "        if root and not root.left and not root.right and root.val == targetSum: return True\n",
    "        return self.hasPathSum_DFS_recursion(root.left, targetSum-root.val) or self.hasPathSum_DFS_recursion(root.right, targetSum-root.val) if root else False\n",
    "\n",
    "    # Time Complexity： O(n)\n",
    "    # Space Complexity： O(w)\n",
    "    def hasPathSum_BFS(self, root: TreeNode, targetSum: int) -> bool:\n",
    "        from collections import deque\n",
    "\n",
    "        queue = deque([(targetSum-root.val, root)]) if root else []\n",
    "\n",
    "        while queue:\n",
    "            target, root = queue.popleft()\n",
    "\n",
    "            if root:\n",
    "                if not any((root.left, root.right, target)): return True\n",
    "                if root.left: queue.append((target-root.left.val, root.left))\n",
    "                if root.right: queue.append((target-root.right.val, root.right))\n",
    "        \n",
    "        return False\n",
    "\n",
    "    # Time Complexity： O(n)\n",
    "    # Space Complexity： O(h)\n",
    "    def hasPathSum_DFS_iteration(self, root: TreeNode, targetSum: int) -> bool:\n",
    "        stack = [(targetSum-root.val, root)] if root else []\n",
    "\n",
    "        while stack:\n",
    "            target, root = stack.pop()\n",
    "\n",
    "            if root:\n",
    "                if not any((root.left, root.right, target)): return True\n",
    "                if root.left: stack.append((target-root.left.val, root.left))\n",
    "                if root.right: stack.append((target-root.right.val, root.right))\n",
    "        \n",
    "        return False\n",
    "                "
   ]
  },
  {
   "cell_type": "code",
   "execution_count": 14,
   "metadata": {},
   "outputs": [
    {
     "name": "stdout",
     "output_type": "stream",
     "text": [
      "---hasPathSum_DFS_recursion---\n",
      "Case 1: True\n",
      "Case 2: False\n",
      "Case 3: False\n",
      "\n",
      "---hasPathSum_BFS---\n",
      "Case 1: True\n",
      "Case 2: False\n",
      "Case 3: False\n",
      "\n",
      "---hasPathSum_DFS_iteration---\n",
      "Case 1: True\n",
      "Case 2: False\n",
      "Case 3: False\n"
     ]
    }
   ],
   "source": [
    "# Test on Cases\n",
    "S = Solution()\n",
    "\n",
    "print(\"---hasPathSum_DFS_recursion---\")\n",
    "print(f\"Case 1: {S.hasPathSum_DFS_recursion(TreeNode(5, TreeNode(4, TreeNode(11, TreeNode(7), TreeNode(2))), TreeNode(8, TreeNode(13), TreeNode(4, None, TreeNode(1)))), 22)}\")\n",
    "print(f\"Case 2: {S.hasPathSum_DFS_recursion(TreeNode(1, TreeNode(2), TreeNode(3)), 5)}\")\n",
    "print(f\"Case 3: {S.hasPathSum_DFS_recursion([], 0)}\\n\")\n",
    "\n",
    "print(\"---hasPathSum_BFS---\")\n",
    "print(f\"Case 1: {S.hasPathSum_BFS(TreeNode(5, TreeNode(4, TreeNode(11, TreeNode(7), TreeNode(2))), TreeNode(8, TreeNode(13), TreeNode(4, None, TreeNode(1)))), 22)}\")\n",
    "print(f\"Case 2: {S.hasPathSum_BFS(TreeNode(1, TreeNode(2), TreeNode(3)), 5)}\")\n",
    "print(f\"Case 3: {S.hasPathSum_BFS([], 0)}\\n\")\n",
    "\n",
    "print(\"---hasPathSum_DFS_iteration---\")\n",
    "print(f\"Case 1: {S.hasPathSum_DFS_iteration(TreeNode(5, TreeNode(4, TreeNode(11, TreeNode(7), TreeNode(2))), TreeNode(8, TreeNode(13), TreeNode(4, None, TreeNode(1)))), 22)}\")\n",
    "print(f\"Case 2: {S.hasPathSum_DFS_iteration(TreeNode(1, TreeNode(2), TreeNode(3)), 5)}\")\n",
    "print(f\"Case 3: {S.hasPathSum_DFS_iteration([], 0)}\")"
   ]
  }
 ],
 "metadata": {
  "kernelspec": {
   "display_name": "Python 3 (ipykernel)",
   "language": "python",
   "name": "python3"
  },
  "language_info": {
   "codemirror_mode": {
    "name": "ipython",
    "version": 3
   },
   "file_extension": ".py",
   "mimetype": "text/x-python",
   "name": "python",
   "nbconvert_exporter": "python",
   "pygments_lexer": "ipython3",
   "version": "3.10.4"
  },
  "vscode": {
   "interpreter": {
    "hash": "21d8332eb27bea95342760850bd7426f517b6a483537194bbba87e10eeabf6ff"
   }
  }
 },
 "nbformat": 4,
 "nbformat_minor": 4
}
