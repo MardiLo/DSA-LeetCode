{
 "cells": [
  {
   "cell_type": "markdown",
   "metadata": {},
   "source": [
    "`# Binary Tree` `# Breadth-First Search` `# Depth-First Search` `# Tree`"
   ]
  },
  {
   "cell_type": "markdown",
   "metadata": {},
   "source": [
    "Given the `root` of a binary tree and an integer `targetSum`, return `true` if the tree has a **root-to-leaf** path such that adding up all the values along the path equals `targetSum`.\n",
    "\n",
    "A **leaf** is a node with no children."
   ]
  },
  {
   "cell_type": "markdown",
   "metadata": {},
   "source": [
    "**Example 1:**  \n",
    "![Image of leetcode 0112 problem example 1](https://assets.leetcode.com/uploads/2021/01/18/pathsum1.jpg)\n",
    "> Input: root = [5,4,8,11,null,13,4,7,2,null,null,null,1], targetSum = 22  \n",
    "Output: true  \n",
    "Explanation: The root-to-leaf path with the target sum is shown.\n",
    "\n",
    "**Example 2:**  \n",
    "![Image of leetcode 0112 problem example 2](https://assets.leetcode.com/uploads/2021/01/18/pathsum2.jpg)\n",
    "> Input: root = [1,2,3], targetSum = 5  \n",
    "Output: false  \n",
    "Explanation: There two root-to-leaf paths in the tree:  \n",
    "(1 --> 2): The sum is 3.  \n",
    "(1 --> 3): The sum is 4.  \n",
    "There is no root-to-leaf path with sum = 5.\n",
    "\n",
    "**Example 3:**\n",
    "\n",
    "> Input: root = [], targetSum = 0   \n",
    "Output: false  \n",
    "Explanation: Since the tree is empty, there are no root-to-leaf paths."
   ]
  },
  {
   "cell_type": "code",
   "execution_count": 15,
   "metadata": {},
   "outputs": [],
   "source": [
    "class TreeNode:\n",
    "    def __init__(self, val=0, left=None, right=None):\n",
    "        self.val = val\n",
    "        self.left = left\n",
    "        self.right = right\n",
    "\n",
    "class Solution:   \n",
    "    \n",
    "    # Time Complexity： O(n)\n",
    "    # Space Complexity： O(h)\n",
    "    def hasPathSum_recursion(self, root: TreeNode, targetSum: int) -> bool:\n",
    "        if root and not root.left and not root.right and root.val == targetSum: return True\n",
    "        return self.hasPathSum_recursion(root.left, targetSum-root.val) or self.hasPathSum_recursion(root.right, targetSum-root.val) if root else False"
   ]
  },
  {
   "cell_type": "code",
   "execution_count": 16,
   "metadata": {},
   "outputs": [
    {
     "name": "stdout",
     "output_type": "stream",
     "text": [
      "---hasPathSum_recursion---\n",
      "Case 1: True\n",
      "Case 2: False\n",
      "Case 3: False\n"
     ]
    }
   ],
   "source": [
    "# Test on Cases\n",
    "S = Solution()\n",
    "\n",
    "print(\"---hasPathSum_recursion---\")\n",
    "print(f\"Case 1: {S.hasPathSum_recursion(TreeNode(5, TreeNode(4, TreeNode(11, TreeNode(7), TreeNode(2))), TreeNode(8, TreeNode(13), TreeNode(4, None, TreeNode(1)))), 22)}\")\n",
    "print(f\"Case 2: {S.hasPathSum_recursion(TreeNode(1, TreeNode(2), TreeNode(3)), 5)}\")\n",
    "print(f\"Case 3: {S.hasPathSum_recursion([], 0)}\")"
   ]
  }
 ],
 "metadata": {
  "kernelspec": {
   "display_name": "Python 3.10.4 ('leetcode')",
   "language": "python",
   "name": "python3"
  },
  "language_info": {
   "codemirror_mode": {
    "name": "ipython",
    "version": 3
   },
   "file_extension": ".py",
   "mimetype": "text/x-python",
   "name": "python",
   "nbconvert_exporter": "python",
   "pygments_lexer": "ipython3",
   "version": "3.10.4"
  },
  "vscode": {
   "interpreter": {
    "hash": "21d8332eb27bea95342760850bd7426f517b6a483537194bbba87e10eeabf6ff"
   }
  }
 },
 "nbformat": 4,
 "nbformat_minor": 4
}
