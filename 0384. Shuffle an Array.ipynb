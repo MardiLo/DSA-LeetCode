{
 "cells": [
  {
   "cell_type": "markdown",
   "metadata": {},
   "source": [
    "`# Array` `# Math` `# Randomized`"
   ]
  },
  {
   "cell_type": "markdown",
   "metadata": {},
   "source": [
    "Given an integer array `nums`, *design an algorithm to randomly shuffle the array*. All permutations of the array should be **equally likely** as a result of the shuffling.\n",
    "\n",
    "Implement the `Solution` class:\n",
    "\n",
    "- `Solution(int[] nums)` Initializes the object with the integer array nums.\n",
    "- `int[] reset()` Resets the array to its original configuration and returns it.\n",
    "- `int[] shuffle()` Returns a random shuffling of the array."
   ]
  },
  {
   "cell_type": "markdown",
   "metadata": {},
   "source": [
    "**Example 1:**\n",
    "\n",
    "> Input\n",
    "[\"Solution\", \"shuffle\", \"reset\", \"shuffle\"]  \n",
    "[[[1, 2, 3]], [], [], []]  \n",
    "<br>\n",
    "Output  \n",
    "[null, [3, 1, 2], [1, 2, 3], [1, 3, 2]]  \n",
    "<br>\n",
    "Explanation  \n",
    "Solution solution = new Solution([1, 2, 3]);  \n",
    "solution.shuffle();&emsp;// Shuffle the array [1,2,3] and return its result.  \n",
    "&emsp;&emsp;&emsp;&emsp;&emsp;&emsp;&emsp;&emsp;&ensp;// Any permutation of [1,2,3] must be equally likely to be returned.  \n",
    "&emsp;&emsp;&emsp;&emsp;&emsp;&emsp;&emsp;&emsp;&ensp;// Example: return [3, 1, 2]  \n",
    "solution.reset();&emsp;&ensp;&nbsp;// Resets the array back to its original configuration [1,2,3]. Return [1, 2, 3]  \n",
    "solution.shuffle();&emsp;// Returns the random shuffling of array [1,2,3]. Example: return [1, 3, 2]  "
   ]
  },
  {
   "cell_type": "code",
   "execution_count": 5,
   "metadata": {},
   "outputs": [],
   "source": [
    "class Solution:\n",
    "\n",
    "    # Time Complexity： O(n)\n",
    "    # Space Complexity： O(n)   \n",
    "    def __init__(self, nums: list[int]):\n",
    "        self.copy = nums[:]                    # SC： O(n) \n",
    "        self.nums = nums[:]\n",
    "\n",
    "    def reset(self) -> list[int]:\n",
    "        return self.copy\n",
    "\n",
    "    def shuffle(self) -> list[int]:\n",
    "        from random import randint\n",
    "        \n",
    "        # Fisher-Yates algorithm\n",
    "        for i in range(len(self.nums)):        # TC： O(n) \n",
    "            j = randint(i, len(self.nums)-1)\n",
    "            self.nums[i], self.nums[j] = self.nums[j], self.nums[i]\n",
    "        \n",
    "        return self.nums"
   ]
  },
  {
   "cell_type": "code",
   "execution_count": 6,
   "metadata": {},
   "outputs": [
    {
     "name": "stdout",
     "output_type": "stream",
     "text": [
      "[2, 1, 3]\n",
      "[1, 2, 3]\n",
      "[2, 3, 1]\n"
     ]
    }
   ],
   "source": [
    "# Test on Cases\n",
    "\n",
    "S = Solution([1, 2, 3])\n",
    "print(S.shuffle())\n",
    "print(S.reset())\n",
    "print(S.shuffle())"
   ]
  },
  {
   "cell_type": "markdown",
   "metadata": {},
   "source": [
    "**Ref**\n",
    "1. [[Python] Fisher-Yates algorithm, explained](https://leetcode.com/problems/shuffle-an-array/discuss/1350213/Python-Fisher-Yates-algorithm-explained)"
   ]
  }
 ],
 "metadata": {
  "interpreter": {
   "hash": "6ab137a14910b4ee65d0ea442464c53c8571f8241496146388c5db8c59915964"
  },
  "kernelspec": {
   "display_name": "Python 3.7.7 64-bit ('spark': conda)",
   "name": "python3"
  },
  "language_info": {
   "codemirror_mode": {
    "name": "ipython",
    "version": 3
   },
   "file_extension": ".py",
   "mimetype": "text/x-python",
   "name": "python",
   "nbconvert_exporter": "python",
   "pygments_lexer": "ipython3",
   "version": "3.7.7"
  }
 },
 "nbformat": 4,
 "nbformat_minor": 4
}
