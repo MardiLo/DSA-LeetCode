{
 "cells": [
  {
   "attachments": {},
   "cell_type": "markdown",
   "metadata": {},
   "source": [
    "`# Dynamic Programming` `# Math` `# Memoization`"
   ]
  },
  {
   "attachments": {},
   "cell_type": "markdown",
   "metadata": {},
   "source": [
    "The Tribonacci sequence `T`<sub>`n`</sub> is defined as follows: \n",
    "\n",
    "`T`<sub>`0`</sub> `= 0`, `T`<sub>`1`</sub> `= 1`, `T`<sub>`2`</sub> `= 1`, and `T`<sub>`n+3`</sub> `=` `T`<sub>`n`</sub> `+` `T`<sub>`n+1`</sub> `+` `T`<sub>`n+2`</sub> for n >= 0.\n",
    "\n",
    "Given `n`, return the value of `T`<sub>`n`</sub>.\n"
   ]
  },
  {
   "attachments": {},
   "cell_type": "markdown",
   "metadata": {},
   "source": [
    "**Example 1:**\n",
    "\n",
    "> Input: n = 4  \n",
    "> Output: 4  \n",
    "> Explanation:  \n",
    "> T_3 = 0 + 1 + 1 = 2  \n",
    "> T_4 = 1 + 1 + 2 = 4\n",
    "\n",
    "**Example 2:**\n",
    "\n",
    "> Input: n = 25  \n",
    "> Output: 1389537"
   ]
  },
  {
   "cell_type": "code",
   "execution_count": 1,
   "metadata": {},
   "outputs": [],
   "source": [
    "class Solution:\n",
    "     \n",
    "    # Time Complexity： O(n)\n",
    "    # Space Complexity： O(n)       \n",
    "    def tribonacci(self, n: int) -> int:\n",
    "        dp = [0, 1, 1] + [0] * (n-2)\n",
    "\n",
    "        for i in range(3, n+1):\n",
    "            dp[i] = dp[i-1] + dp[i-2] + dp[i-3]\n",
    "        \n",
    "        return dp[n]\n",
    "\n",
    "    # Time Complexity： O(n)\n",
    "    # Space Complexity： O(1)    \n",
    "    def tribonacci_spaceOpt(self, n: int) -> int:\n",
    "        dp0, dp1, dp2, dp3 = 0, 1, 1, 0\n",
    "\n",
    "        for _ in range(3, n+1):\n",
    "            dp0 = dp1 + dp2 + dp3\n",
    "            dp0, dp1, dp2, dp3 = 0, dp0, dp1, dp2\n",
    "        \n",
    "        return dp1 * bool(n)"
   ]
  },
  {
   "cell_type": "code",
   "execution_count": 2,
   "metadata": {},
   "outputs": [
    {
     "name": "stdout",
     "output_type": "stream",
     "text": [
      "---tribonacci---\n",
      "Case 1: 4\n",
      "Case 2: 1389537\n",
      "\n",
      "---tribonacci_spaceOpt---\n",
      "Case 1: 4\n",
      "Case 2: 1389537\n"
     ]
    }
   ],
   "source": [
    "# Test on Cases\n",
    "S = Solution()\n",
    "\n",
    "print(\"---tribonacci---\")\n",
    "print(f\"Case 1: {S.tribonacci(4)}\")\n",
    "print(f\"Case 2: {S.tribonacci(25)}\\n\")\n",
    "\n",
    "print(\"---tribonacci_spaceOpt---\")\n",
    "print(f\"Case 1: {S.tribonacci_spaceOpt(4)}\")\n",
    "print(f\"Case 2: {S.tribonacci_spaceOpt(25)}\")"
   ]
  }
 ],
 "metadata": {
  "kernelspec": {
   "display_name": "Python 3 (ipykernel)",
   "language": "python",
   "name": "python3"
  },
  "language_info": {
   "codemirror_mode": {
    "name": "ipython",
    "version": 3
   },
   "file_extension": ".py",
   "mimetype": "text/x-python",
   "name": "python",
   "nbconvert_exporter": "python",
   "pygments_lexer": "ipython3",
   "version": "3.10.4"
  },
  "vscode": {
   "interpreter": {
    "hash": "21d8332eb27bea95342760850bd7426f517b6a483537194bbba87e10eeabf6ff"
   }
  }
 },
 "nbformat": 4,
 "nbformat_minor": 4
}
