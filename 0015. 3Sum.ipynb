{
 "cells": [
  {
   "cell_type": "markdown",
   "metadata": {},
   "source": [
    "`# Array` `# Sorting` `# Two Pointers`"
   ]
  },
  {
   "cell_type": "markdown",
   "metadata": {},
   "source": [
    "Given an integer array `nums`, return *all the triplets* `[nums[i], nums[j], nums[k]]` *such that* `i != j`, `i != k`, *and* `j != k`, *and* `nums[i] + nums[j] + nums[k] == 0`.\n",
    "\n",
    "Notice that the solution set must **not contain duplicate triplets**."
   ]
  },
  {
   "cell_type": "markdown",
   "metadata": {},
   "source": [
    "**Example 1:**\n",
    "\n",
    "> Input: nums = [-1,0,1,2,-1,-4]  \n",
    "Output: [[-1,-1,2],[-1,0,1]]\n",
    "\n",
    "**Example 2**\n",
    "\n",
    "> Input: nums = []  \n",
    "Output: [] \n",
    "\n",
    "**Example 3:**\n",
    "\n",
    "> Input: nums = [0]  \n",
    "Output: []"
   ]
  },
  {
   "cell_type": "code",
   "execution_count": 3,
   "metadata": {},
   "outputs": [],
   "source": [
    "class Solution:\n",
    "    \n",
    "    # Time Complexity： O(n^2)\n",
    "    # Space Complexity： O(n)\n",
    "    def threeSum_hashTable(self, nums: list[int]) -> list[list[int]]:\n",
    "        def twoSum(nums: list[int], target: int, res: set) -> list[int]:\n",
    "            s = set()\n",
    "\n",
    "            for num in nums:                                # TC: O(n)\n",
    "                if target - num in s:\n",
    "                    res.add((-target, target - num, num))\n",
    "                else:\n",
    "                    s.add(num)                              # SC: O(n); TC: O(1)\n",
    "                    \n",
    "        nums.sort(); res = set()                            # TC: O(n)\n",
    "        \n",
    "        for i in range(len(nums)-2):                        # TC: O(n)\n",
    "            target = nums[i]\n",
    "            twoSum(nums[i+1:], -target, res)\n",
    "            \n",
    "        return list(map(list, res))\n",
    "                \n",
    "                \n",
    "    # Time Complexity： O(n^2)\n",
    "    # Space Complexity： O(n)\n",
    "    def threeSum_twoPointers(self, nums: list[int]) -> list[list[int]]:\n",
    "        nums.sort(); res = set()                            # TC: O(nlogn); SC: O(n), cause building a temp array. It's a little bit faster than sorted()\n",
    "        \n",
    "        for i in range(len(nums)-2):                        # TC: O(n)\n",
    "            l, r = i+1, len(nums)-1\n",
    "\n",
    "            while l < r:                                    # TC: O(n)\n",
    "                if (s := nums[i] + nums[l] + nums[r]) < 0: l += 1\n",
    "                elif s > 0: r -= 1\n",
    "                else: res.add((nums[i], nums[l], nums[r])); l += 1; r -= 1\n",
    "                    \n",
    "        return list(map(list, res))"
   ]
  },
  {
   "cell_type": "code",
   "execution_count": 4,
   "metadata": {},
   "outputs": [
    {
     "name": "stdout",
     "output_type": "stream",
     "text": [
      "---threeSum_hashTable---\n",
      "Case 1: [[-1, 0, 1], [-1, -1, 2]]\n",
      "Case 2: []\n",
      "Case 3: []\n",
      "\n",
      "---threeSum_twoPointers---\n",
      "Case 1: [[-1, 0, 1], [-1, -1, 2]]\n",
      "Case 2: []\n",
      "Case 3: []\n"
     ]
    }
   ],
   "source": [
    "# Test on Cases\n",
    "S = Solution()\n",
    "\n",
    "print(\"---threeSum_hashTable---\")\n",
    "print(f\"Case 1: {S.threeSum_hashTable([-1,0,1,2,-1,-4])}\")\n",
    "print(f\"Case 2: {S.threeSum_hashTable([])}\")\n",
    "print(f\"Case 3: {S.threeSum_hashTable([0])}\\n\")\n",
    "\n",
    "print(\"---threeSum_twoPointers---\")\n",
    "print(f\"Case 1: {S.threeSum_twoPointers([-1,0,1,2,-1,-4])}\")\n",
    "print(f\"Case 2: {S.threeSum_twoPointers([])}\")\n",
    "print(f\"Case 3: {S.threeSum_twoPointers([0])}\")"
   ]
  },
  {
   "cell_type": "markdown",
   "metadata": {},
   "source": [
    "**Ref**\n",
    "1. [[Python] 2 Pointers O(n^2) solution, explained](https://leetcode.com/problems/3sum/discuss/725581/Python-2-Pointers-O(n2)-solution-explained)"
   ]
  }
 ],
 "metadata": {
  "kernelspec": {
   "display_name": "Python 3.10.4 ('leetcode')",
   "language": "python",
   "name": "python3"
  },
  "language_info": {
   "codemirror_mode": {
    "name": "ipython",
    "version": 3
   },
   "file_extension": ".py",
   "mimetype": "text/x-python",
   "name": "python",
   "nbconvert_exporter": "python",
   "pygments_lexer": "ipython3",
   "version": "3.10.4 | packaged by conda-forge | (main, Mar 30 2022, 08:38:02) [MSC v.1916 64 bit (AMD64)]"
  },
  "vscode": {
   "interpreter": {
    "hash": "21d8332eb27bea95342760850bd7426f517b6a483537194bbba87e10eeabf6ff"
   }
  }
 },
 "nbformat": 4,
 "nbformat_minor": 4
}
