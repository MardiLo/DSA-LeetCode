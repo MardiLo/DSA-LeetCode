{
 "cells": [
  {
   "cell_type": "markdown",
   "source": [
    "`# Array` `# Sorting` `# Two Pointers`"
   ],
   "metadata": {}
  },
  {
   "cell_type": "markdown",
   "source": [
    "Given an integer array `nums`, return *all the triplets* `[nums[i], nums[j], nums[k]]` *such that* `i != j`, `i != k`, *and* `j != k`, *and* `nums[i] + nums[j] + nums[k] == 0`.\n",
    "\n",
    "Notice that the solution set must **not contain duplicate triplets**."
   ],
   "metadata": {}
  },
  {
   "cell_type": "markdown",
   "source": [
    "**Example 1:**\n",
    "\n",
    "> Input: nums = [-1,0,1,2,-1,-4]  \n",
    "Output: [[-1,-1,2],[-1,0,1]]\n",
    "\n",
    "**Example 2**\n",
    "\n",
    "> Input: nums = []  \n",
    "Output: [] \n",
    "\n",
    "**Example 3:**\n",
    "\n",
    "> Input: nums = [0]  \n",
    "Output: []"
   ],
   "metadata": {}
  },
  {
   "cell_type": "code",
   "execution_count": 1,
   "source": [
    "class Solution:\r\n",
    "    \r\n",
    "    # Time Complexity： O(n^2)\r\n",
    "    # Space Complexity： O(n)\r\n",
    "    def threeSum_hashTable(self, nums: 'List[int]') -> 'List[List[int]]':\r\n",
    "        def twoSum(nums: 'List[int]', target: 'int', res: 'set') -> 'List[int]':\r\n",
    "            s = set()\r\n",
    "\r\n",
    "            for num in nums:            # TC: O(n)\r\n",
    "                if target - num in s:\r\n",
    "                    res.add((-target, target - num, num))\r\n",
    "                else:\r\n",
    "                    s.add(num)          # SC: O(n); TC: O(1)\r\n",
    "                    \r\n",
    "        nums.sort()                     # TC: O(n)\r\n",
    "        res = set()\r\n",
    "        \r\n",
    "        for i in range(len(nums)-2):    # TC: O(n)\r\n",
    "            target = nums[i]\r\n",
    "            twoSum(nums[i+1:], -target, res)\r\n",
    "            \r\n",
    "        return res\r\n",
    "                \r\n",
    "                \r\n",
    "    # Time Complexity： O(n^2)\r\n",
    "    # Space Complexity： O(n)\r\n",
    "    def threeSum_twoPointers(self, nums: 'List[int]') -> 'List[List[int]]':\r\n",
    "        nums.sort()                                  # SC: O(n); TC:(nlogn)\r\n",
    "        res = []\r\n",
    "        \r\n",
    "        for i in range(len(nums)-2):                 # TC: O(n)\r\n",
    "            if i > 0 and nums[i] == nums[i-1]:\r\n",
    "                continue\r\n",
    "            \r\n",
    "            l, r = i+1, len(nums)-1\r\n",
    "            while l < r:                             # TC: O(n)\r\n",
    "                s = nums[i] + nums[l] + nums[r]\r\n",
    "                \r\n",
    "                if s < 0:\r\n",
    "                    l += 1\r\n",
    "                elif s > 0:\r\n",
    "                    r -= 1\r\n",
    "                else:\r\n",
    "                    res.append((nums[i], nums[l], nums[r]))\r\n",
    "                    l += 1\r\n",
    "                    r -= 1\r\n",
    "                    \r\n",
    "        return set(res)                              # TC: O(n)\r\n"
   ],
   "outputs": [],
   "metadata": {}
  },
  {
   "cell_type": "code",
   "execution_count": 2,
   "source": [
    "# Test on Cases\r\n",
    "S = Solution()\r\n",
    "\r\n",
    "print(\"---threeSum_hashTable---\")\r\n",
    "print(f\"Case 1: {S.threeSum_hashTable([-1,0,1,2,-1,-4])}\")\r\n",
    "print(f\"Case 2: {S.threeSum_hashTable([])}\")\r\n",
    "print(f\"Case 3: {S.threeSum_hashTable([0])}\\n\")\r\n",
    "\r\n",
    "print(\"---threeSum_twoPointers---\")\r\n",
    "print(f\"Case 1: {S.threeSum_twoPointers([-1,0,1,2,-1,-4])}\")\r\n",
    "print(f\"Case 2: {S.threeSum_twoPointers([])}\")\r\n",
    "print(f\"Case 3: {S.threeSum_twoPointers([0])}\")"
   ],
   "outputs": [
    {
     "output_type": "stream",
     "name": "stdout",
     "text": [
      "---threeSum_hashTable---\n",
      "Case 1: {(-1, -1, 2), (-1, 0, 1)}\n",
      "Case 2: set()\n",
      "Case 3: set()\n",
      "\n",
      "---threeSum_twoPointers---\n",
      "Case 1: {(-1, -1, 2), (-1, 0, 1)}\n",
      "Case 2: set()\n",
      "Case 3: set()\n"
     ]
    }
   ],
   "metadata": {}
  },
  {
   "cell_type": "markdown",
   "source": [
    "**Ref**\n",
    "1. [[Python] 2 Pointers O(n^2) solution, explained](https://leetcode.com/problems/3sum/discuss/725581/Python-2-Pointers-O(n2)-solution-explained)"
   ],
   "metadata": {}
  }
 ],
 "metadata": {
  "kernelspec": {
   "name": "python3",
   "display_name": "Python 3.7.7 64-bit ('spark': conda)"
  },
  "language_info": {
   "codemirror_mode": {
    "name": "ipython",
    "version": 3
   },
   "file_extension": ".py",
   "mimetype": "text/x-python",
   "name": "python",
   "nbconvert_exporter": "python",
   "pygments_lexer": "ipython3",
   "version": "3.7.7"
  },
  "interpreter": {
   "hash": "6ab137a14910b4ee65d0ea442464c53c8571f8241496146388c5db8c59915964"
  }
 },
 "nbformat": 4,
 "nbformat_minor": 4
}