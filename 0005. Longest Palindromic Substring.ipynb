{
 "cells": [
  {
   "cell_type": "markdown",
   "metadata": {},
   "source": [
    "`# Dynamic Programming` `# String` "
   ]
  },
  {
   "cell_type": "markdown",
   "metadata": {},
   "source": [
    "Given a string `s`, return *the longest palindromic substring in* `s`."
   ]
  },
  {
   "cell_type": "markdown",
   "metadata": {},
   "source": [
    "**Example 1:**  \n",
    "\n",
    "> Input: s = \"babad\"  \n",
    "Output: \"bab\"  \n",
    "Note: \"aba\" is also a valid answer.   \n",
    "\n",
    "**Example 2:**  \n",
    "\n",
    "> Input: s = \"cbbd\"  \n",
    "Output: \"bb\"  \n",
    "\n",
    "**Example 3:**  \n",
    "\n",
    "> Input: s = \"a\"  \n",
    "Output: \"a\"  \n",
    "\n",
    "**Example 4:**  \n",
    "\n",
    "> Input: s = \"ac\"  \n",
    "Output: \"a\"  "
   ]
  },
  {
   "cell_type": "code",
   "execution_count": 1,
   "metadata": {},
   "outputs": [],
   "source": [
    "class Solution:\n",
    "\n",
    "    # Time Complexity： O(n^2)\n",
    "    # Space Complexity： O(1)\n",
    "    def longestPalindrome(self, s: 'str') -> 'str':\n",
    "        def updateLongestPalindrome(s: 'str', l: 'int', r: 'int') -> 'None':    # TC: O(n)\n",
    "            while l >= 0 and r < len(s) and s[l] == s[r]:\n",
    "                lenOfCurrPal = r - l + 1\n",
    "                if lenOfCurrPal > self.lenOfLongestPal:\n",
    "                    self.longestPal, self.lenOfLongestPal = s[l:r+1], lenOfCurrPal\n",
    "                l -= 1; r += 1  \n",
    "\n",
    "        self.longestPal, self.lenOfLongestPal = '', 0\n",
    "        for i in range(len(s)):\n",
    "            l = r = i\n",
    "            updateLongestPalindrome(s, l, r)     # for odd expansion (1 -> 3 -> 5... )\n",
    "            updateLongestPalindrome(s, l, r+1)   # for even expansion (2 -> 4 -> 6... )\n",
    "        \n",
    "        return self.longestPal"
   ]
  },
  {
   "cell_type": "code",
   "execution_count": 2,
   "metadata": {},
   "outputs": [
    {
     "name": "stdout",
     "output_type": "stream",
     "text": [
      "Case 1: bab\n",
      "Case 2: bb\n",
      "Case 3: a\n",
      "Case 4: a\n"
     ]
    }
   ],
   "source": [
    "# Test on Cases\n",
    "S = Solution()\n",
    "\n",
    "print(f\"Case 1: {S.longestPalindrome('babad')}\")\n",
    "print(f\"Case 2: {S.longestPalindrome('cbbd')}\")\n",
    "print(f\"Case 3: {S.longestPalindrome('a')}\")\n",
    "print(f\"Case 4: {S.longestPalindrome('ac')}\")"
   ]
  },
  {
   "cell_type": "markdown",
   "metadata": {},
   "source": [
    "**Ref**  \n",
    "1. [Longest Palindromic Substring - Python - Leetcode 5](https://www.youtube.com/watch?v=XYQecbcd6_c&ab_channel=NeetCode)"
   ]
  }
 ],
 "metadata": {
  "interpreter": {
   "hash": "a1465031eeae0bed8511463faaa157119e7e6b7b1fbf4ef49fce31064cee3326"
  },
  "kernelspec": {
   "display_name": "Python 3.8.3 64-bit ('base': conda)",
   "name": "python3"
  },
  "language_info": {
   "codemirror_mode": {
    "name": "ipython",
    "version": 3
   },
   "file_extension": ".py",
   "mimetype": "text/x-python",
   "name": "python",
   "nbconvert_exporter": "python",
   "pygments_lexer": "ipython3",
   "version": "3.8.3"
  }
 },
 "nbformat": 4,
 "nbformat_minor": 4
}
