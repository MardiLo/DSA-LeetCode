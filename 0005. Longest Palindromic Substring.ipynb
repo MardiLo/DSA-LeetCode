{
 "cells": [
  {
   "cell_type": "markdown",
   "metadata": {},
   "source": [
    "`# Dynamic Programming` `# String` "
   ]
  },
  {
   "cell_type": "markdown",
   "metadata": {},
   "source": [
    "Given a string `s`, return *the longest palindromic substring in* `s`."
   ]
  },
  {
   "cell_type": "markdown",
   "metadata": {},
   "source": [
    "**Example 1:**  \n",
    "\n",
    "> Input: s = \"babad\"  \n",
    "Output: \"bab\"  \n",
    "Note: \"aba\" is also a valid answer.   \n",
    "\n",
    "**Example 2:**  \n",
    "\n",
    "> Input: s = \"cbbd\"  \n",
    "Output: \"bb\"  \n",
    "\n",
    "**Example 3:**  \n",
    "\n",
    "> Input: s = \"a\"  \n",
    "Output: \"a\"  \n",
    "\n",
    "**Example 4:**  \n",
    "\n",
    "> Input: s = \"ac\"  \n",
    "Output: \"a\"  "
   ]
  },
  {
   "cell_type": "code",
   "execution_count": 1,
   "metadata": {},
   "outputs": [],
   "source": [
    "class Solution:\n",
    "\n",
    "    # Time Complexity： O(n^2)\n",
    "    # Space Complexity： O(n)\n",
    "    def longestPalindrome(self, s: str) -> str:\n",
    "        def updateLongestPalindrome(s: str, l: int, r: int) -> str:    # TC: O(n)\n",
    "            while l >= 0 and r < len(s) and s[l] == s[r]:\n",
    "                l -= 1; r += 1  \n",
    "\n",
    "            return s[l+1:r]\n",
    "\n",
    "        longestPal = ''\n",
    "        for i in range(len(s)):\n",
    "            odd, even = updateLongestPalindrome(s, i, i), updateLongestPalindrome(s, i, i+1)    # for odd & even expansion: (1 -> 3 -> 5... ), (2 -> 4 -> 6... )\n",
    "            longestPal = max(longestPal, odd, even, key=len)\n",
    "\n",
    "        return longestPal"
   ]
  },
  {
   "cell_type": "code",
   "execution_count": 2,
   "metadata": {},
   "outputs": [
    {
     "name": "stdout",
     "output_type": "stream",
     "text": [
      "Case 1: bab\n",
      "Case 2: bb\n",
      "Case 3: a\n",
      "Case 4: a\n"
     ]
    }
   ],
   "source": [
    "# Test on Cases\n",
    "S = Solution()\n",
    "\n",
    "print(f\"Case 1: {S.longestPalindrome('babad')}\")\n",
    "print(f\"Case 2: {S.longestPalindrome('cbbd')}\")\n",
    "print(f\"Case 3: {S.longestPalindrome('a')}\")\n",
    "print(f\"Case 4: {S.longestPalindrome('ac')}\")"
   ]
  },
  {
   "cell_type": "markdown",
   "metadata": {},
   "source": [
    "**Ref**  \n",
    "1. [Longest Palindromic Substring - Python - Leetcode 5](https://www.youtube.com/watch?v=XYQecbcd6_c&ab_channel=NeetCode)"
   ]
  }
 ],
 "metadata": {
  "kernelspec": {
   "display_name": "Python 3.10.4 ('leetcode')",
   "language": "python",
   "name": "python3"
  },
  "language_info": {
   "codemirror_mode": {
    "name": "ipython",
    "version": 3
   },
   "file_extension": ".py",
   "mimetype": "text/x-python",
   "name": "python",
   "nbconvert_exporter": "python",
   "pygments_lexer": "ipython3",
   "version": "3.10.4"
  },
  "vscode": {
   "interpreter": {
    "hash": "21d8332eb27bea95342760850bd7426f517b6a483537194bbba87e10eeabf6ff"
   }
  }
 },
 "nbformat": 4,
 "nbformat_minor": 4
}
