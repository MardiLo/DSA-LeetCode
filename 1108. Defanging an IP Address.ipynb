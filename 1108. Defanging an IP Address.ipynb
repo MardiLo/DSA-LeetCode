{
 "cells": [
  {
   "cell_type": "markdown",
   "metadata": {},
   "source": [
    "`# String`"
   ]
  },
  {
   "cell_type": "markdown",
   "metadata": {},
   "source": [
    "Given a valid (IPv4) IP `address`, return a defanged version of that IP address.\n",
    "\n",
    "A *defanged IP address* replaces every period `\".\"` with `\"[.]\"`."
   ]
  },
  {
   "cell_type": "markdown",
   "metadata": {},
   "source": [
    "**Example 1:**\n",
    "\n",
    "> Input: address = \"1.1.1.1\"  \n",
    "Output: \"1[.]1[.]1[.]1\"\n",
    "\n",
    "**Example 2:**\n",
    "\n",
    "> Input: address = \"255.100.50.0\"  \n",
    "Output: \"255[.]100[.]50[.]0\""
   ]
  },
  {
   "cell_type": "code",
   "execution_count": 5,
   "metadata": {},
   "outputs": [],
   "source": [
    "class Solution:\n",
    "\n",
    "    # Time Complexity： O(n)\n",
    "    # Space Complexity： O(1)\n",
    "    def defangIPaddr(self, address: str) -> str:\n",
    "        res = ''\n",
    "        \n",
    "        for c in address:\n",
    "            if c == '.': res += '[.]'\n",
    "            else: res += c\n",
    "        \n",
    "        return res\n",
    "\n",
    "    # Time Complexity： O(n)\n",
    "    # Space Complexity： O(1)\n",
    "    def defangIPaddr_lib(self, address: str) -> str:\n",
    "        return address.replace('.', '[.]')\n"
   ]
  },
  {
   "cell_type": "code",
   "execution_count": 6,
   "metadata": {},
   "outputs": [
    {
     "name": "stdout",
     "output_type": "stream",
     "text": [
      "---defangIPaddr---\n",
      "Case 1: 1[.]1[.]1[.]1\n",
      "Case 2: 255[.]100[.]50[.]0\n",
      "\n",
      "---defangIPaddr_lib---\n",
      "Case 1: 1[.]1[.]1[.]1\n",
      "Case 2: 255[.]100[.]50[.]0\n"
     ]
    }
   ],
   "source": [
    "# Test on Cases\n",
    "S = Solution()\n",
    "\n",
    "print(\"---defangIPaddr---\")\n",
    "print(f\"Case 1: {S.defangIPaddr('1.1.1.1')}\")\n",
    "print(f\"Case 2: {S.defangIPaddr('255.100.50.0')}\\n\")\n",
    "\n",
    "print(\"---defangIPaddr_lib---\")\n",
    "print(f\"Case 1: {S.defangIPaddr_lib('1.1.1.1')}\")\n",
    "print(f\"Case 2: {S.defangIPaddr_lib('255.100.50.0')}\")"
   ]
  }
 ],
 "metadata": {
  "kernelspec": {
   "display_name": "Python 3.10.4 ('leetcode')",
   "language": "python",
   "name": "python3"
  },
  "language_info": {
   "codemirror_mode": {
    "name": "ipython",
    "version": 3
   },
   "file_extension": ".py",
   "mimetype": "text/x-python",
   "name": "python",
   "nbconvert_exporter": "python",
   "pygments_lexer": "ipython3",
   "version": "3.10.4"
  },
  "vscode": {
   "interpreter": {
    "hash": "21d8332eb27bea95342760850bd7426f517b6a483537194bbba87e10eeabf6ff"
   }
  }
 },
 "nbformat": 4,
 "nbformat_minor": 4
}
