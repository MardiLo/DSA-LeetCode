{
 "cells": [
  {
   "cell_type": "markdown",
   "metadata": {},
   "source": [
    "`# Array` `# Binary Tree` `# Divide and Conquer` `# Hash Table` `# Tree`"
   ]
  },
  {
   "cell_type": "markdown",
   "metadata": {},
   "source": [
    "Given two integer arrays `inorder` and `postorder` where `inorder` is the inorder traversal of a binary tree and `postorder` is the postorder traversal of the same tree, construct and *return the binary tree*."
   ]
  },
  {
   "cell_type": "markdown",
   "metadata": {},
   "source": [
    "**Example 1:**  \n",
    "![Image of leetcode 0106 problem example 1](https://assets.leetcode.com/uploads/2021/02/19/tree.jpg)\n",
    "> Input: inorder = [9,3,15,20,7], postorder = [9,15,7,20,3]  \n",
    "Output: [3,9,20,null,null,15,7]\n",
    "\n",
    "**Example 2:**  \n",
    "\n",
    "> Input: preorder = [-1], inorder = [-1]  \n",
    "Output: [-1]  "
   ]
  },
  {
   "cell_type": "code",
   "execution_count": 1,
   "metadata": {},
   "outputs": [],
   "source": [
    "class TreeNode:\n",
    "    def __init__(self, val=0, left=None, right=None):\n",
    "        self.val = val\n",
    "        self.left = left\n",
    "        self.right = right\n",
    "\n",
    "class Solution:\n",
    "    \n",
    "    # Time Complexity： O(n)\n",
    "    # Space Complexity： O(h+n)\n",
    "    def buildTree(self, inorder: list[int], postorder: list[int]) -> TreeNode:\n",
    "        self.rootIdx, self.inorderMap = len(postorder)-1, {val: i for i, val in enumerate(inorder)}\n",
    "        \n",
    "        def build(inorderLeft: int, inorderRight: int) -> TreeNode:\n",
    "            if inorderLeft > inorderRight: return\n",
    "            \n",
    "            root = TreeNode(postorder[self.rootIdx])\n",
    "            self.rootIdx -= 1\n",
    "            root.right, root.left = build(self.inorderMap[root.val]+1, inorderRight), build(inorderLeft, self.inorderMap[root.val]-1)\n",
    "            \n",
    "            return root\n",
    "            \n",
    "        return build(0, len(inorder)-1)"
   ]
  },
  {
   "cell_type": "code",
   "execution_count": 2,
   "metadata": {},
   "outputs": [
    {
     "name": "stdout",
     "output_type": "stream",
     "text": [
      "Case 1: [3, 9, 20, 15, 7]\n",
      "Case 2: [-1]\n"
     ]
    }
   ],
   "source": [
    "# Test on Cases\n",
    "from leetcodepractice import Print\n",
    "\n",
    "S, P = Solution(), Print()\n",
    "\n",
    "print(f\"Case 1: {P.TreeTraversalBFS(S.buildTree([9,3,15,20,7], [9,15,7,20,3]))}\")\n",
    "print(f\"Case 2: {P.TreeTraversalBFS(S.buildTree([-1], [-1]))}\")"
   ]
  }
 ],
 "metadata": {
  "kernelspec": {
   "display_name": "Python 3.10.4 ('leetcode')",
   "language": "python",
   "name": "python3"
  },
  "language_info": {
   "codemirror_mode": {
    "name": "ipython",
    "version": 3
   },
   "file_extension": ".py",
   "mimetype": "text/x-python",
   "name": "python",
   "nbconvert_exporter": "python",
   "pygments_lexer": "ipython3",
   "version": "3.10.4"
  },
  "vscode": {
   "interpreter": {
    "hash": "21d8332eb27bea95342760850bd7426f517b6a483537194bbba87e10eeabf6ff"
   }
  }
 },
 "nbformat": 4,
 "nbformat_minor": 2
}
