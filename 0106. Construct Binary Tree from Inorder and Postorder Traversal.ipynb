{
 "cells": [
  {
   "cell_type": "markdown",
   "source": [
    "`# Array` `# Binary Tree` `# Divide and Conquer` `# Hash Table` `# Tree`"
   ],
   "metadata": {}
  },
  {
   "cell_type": "markdown",
   "source": [
    "Given two integer arrays `inorder` and `postorder` where `inorder` is the inorder traversal of a binary tree and `postorder` is the postorder traversal of the same tree, construct and *return the binary tree*."
   ],
   "metadata": {}
  },
  {
   "cell_type": "markdown",
   "source": [
    "**Example 1:**  \r\n",
    "![Image of leetcode 0106 problem example 1](https://assets.leetcode.com/uploads/2021/02/19/tree.jpg)\r\n",
    "> Input: inorder = [9,3,15,20,7], postorder = [9,15,7,20,3]  \r\n",
    "Output: [3,9,20,null,null,15,7]\r\n",
    "\r\n",
    "**Example 2:**  \r\n",
    "\r\n",
    "> Input: preorder = [-1], inorder = [-1]  \r\n",
    "Output: [-1]  "
   ],
   "metadata": {}
  },
  {
   "cell_type": "code",
   "execution_count": 10,
   "source": [
    "class TreeNode:\r\n",
    "    def __init__(self, val=0, left=None, right=None):\r\n",
    "        self.val = val\r\n",
    "        self.left = left\r\n",
    "        self.right = right\r\n",
    "\r\n",
    "class Solution:\r\n",
    "    \r\n",
    "    # Time Complexity： O(n)\r\n",
    "    # Space Complexity： O(n)\r\n",
    "    def buildTree(self, inorder: 'List[int]', postorder: 'List[int]') -> 'TreeNode':\r\n",
    "        inorderMap = {val: i for i, val in enumerate(inorder)}     # TC: O(n); SC: O(n)\r\n",
    "        \r\n",
    "        def helper(inorderMap, postorder, left, right):            # TC: O(n)\r\n",
    "            if left > right: \r\n",
    "                return \r\n",
    "            \r\n",
    "            # postorder: Left -> Right -> Root\r\n",
    "            root = TreeNode(postorder.pop())\r\n",
    "            rootIdx = inorderMap[root.val]\r\n",
    "            root.right = helper(inorderMap, postorder, rootIdx+1, right)\r\n",
    "            root.left = helper(inorderMap, postorder, left, rootIdx-1)\r\n",
    "\r\n",
    "            return root\r\n",
    "        \r\n",
    "        return helper(inorderMap, postorder, 0, len(inorder)-1)"
   ],
   "outputs": [],
   "metadata": {}
  },
  {
   "cell_type": "code",
   "execution_count": 11,
   "source": [
    "# Test on Cases\r\n",
    "from leetcodepractice import Print\r\n",
    "\r\n",
    "S, P = Solution(), Print()\r\n",
    "\r\n",
    "print(f\"Case 1: {P.TreeTraversalBFS(S.buildTree([9,3,15,20,7], [9,15,7,20,3]))}\")\r\n",
    "print(f\"Case 2: {P.TreeTraversalBFS(S.buildTree([-1], [-1]))}\")"
   ],
   "outputs": [
    {
     "output_type": "stream",
     "name": "stdout",
     "text": [
      "Case 1: [3, 9, 20, 15, 7]\n",
      "Case 2: [-1]\n"
     ]
    }
   ],
   "metadata": {}
  }
 ],
 "metadata": {
  "kernelspec": {
   "display_name": "Python 3",
   "language": "python",
   "name": "python3"
  },
  "language_info": {
   "codemirror_mode": {
    "name": "ipython",
    "version": 3
   },
   "file_extension": ".py",
   "mimetype": "text/x-python",
   "name": "python",
   "nbconvert_exporter": "python",
   "pygments_lexer": "ipython3",
   "version": "3.7.7"
  }
 },
 "nbformat": 4,
 "nbformat_minor": 2
}