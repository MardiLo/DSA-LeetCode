{
 "cells": [
  {
   "cell_type": "markdown",
   "source": [
    "`# Array`"
   ],
   "metadata": {}
  },
  {
   "cell_type": "markdown",
   "source": [
    "Say you have an array `prices` for which the *ith* element is the price of a given stock on day *i*.\n",
    "\n",
    "Design an algorithm to find the maximum profit. You may complete as many transactions as you like (i.e., buy one and sell one share of the stock multiple times).\n",
    "\n",
    "Note: You may not engage in multiple transactions at the same time (i.e., you must sell the stock before you buy again)."
   ],
   "metadata": {}
  },
  {
   "cell_type": "markdown",
   "source": [
    "**Example 1:**\n",
    "\n",
    "> Input: [7,1,5,3,6,4]  \n",
    "Output: 7  \n",
    "Explanation: Buy on day 2 (price = 1) and sell on day 3 (price = 5), profit = 5-1 = 4.\n",
    "             Then buy on day 4 (price = 3) and sell on day 5 (price = 6), profit = 6-3 = 3.\n",
    "             \n",
    "**Example 2:**\n",
    "\n",
    "> Input: [1,2,3,4,5]  \n",
    "Output: 4  \n",
    "Explanation: Buy on day 1 (price = 1) and sell on day 5 (price = 5), profit = 5-1 = 4.\n",
    "             Note that you cannot buy on day 1, buy on day 2 and sell them later, as you are\n",
    "             engaging multiple transactions at the same time. You must sell before buying again.\n",
    "             \n",
    "**Example 3:**\n",
    "\n",
    "> Input: [7,6,4,3,1]  \n",
    "Output: 0  \n",
    "Explanation: In this case, no transaction is done, i.e. max profit = 0."
   ],
   "metadata": {}
  },
  {
   "cell_type": "code",
   "execution_count": 18,
   "source": [
    "class Solution:\r\n",
    "    \r\n",
    "    # Time Complexity： O(n)\r\n",
    "    # Space Complexity： O(1)\r\n",
    "    def maxProfit(self, prices: 'List[int]') -> 'int':\r\n",
    "        sum_profit = 0\r\n",
    "        \r\n",
    "        for i in range(1, len(prices)):\r\n",
    "            sum_profit += max(prices[i] - prices[i-1], 0)\r\n",
    "        \r\n",
    "        return sum_profit"
   ],
   "outputs": [],
   "metadata": {}
  },
  {
   "cell_type": "code",
   "execution_count": 19,
   "source": [
    "# Test on Cases\r\n",
    "S = Solution()\r\n",
    "\r\n",
    "print(f\"Case 1: {S.maxProfit([7,1,5,3,6,4])}\")\r\n",
    "print(f\"Case 2: {S.maxProfit([1,2,3,4,5])}\")\r\n",
    "print(f\"Case 3: {S.maxProfit([7,6,4,3,1])}\")"
   ],
   "outputs": [
    {
     "output_type": "stream",
     "name": "stdout",
     "text": [
      "Case 1: 7\n",
      "Case 2: 4\n",
      "Case 3: 0\n"
     ]
    }
   ],
   "metadata": {}
  }
 ],
 "metadata": {
  "kernelspec": {
   "display_name": "Python 3",
   "language": "python",
   "name": "python3"
  },
  "language_info": {
   "codemirror_mode": {
    "name": "ipython",
    "version": 3
   },
   "file_extension": ".py",
   "mimetype": "text/x-python",
   "name": "python",
   "nbconvert_exporter": "python",
   "pygments_lexer": "ipython3",
   "version": "3.7.7"
  }
 },
 "nbformat": 4,
 "nbformat_minor": 4
}