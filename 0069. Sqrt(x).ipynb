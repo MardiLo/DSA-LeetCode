{
 "cells": [
  {
   "cell_type": "markdown",
   "source": [
    "`# Math` `# Binary Search`"
   ],
   "metadata": {}
  },
  {
   "cell_type": "markdown",
   "source": [
    "Given a *non-negative integer* `x`, compute and return *the square root of* `x`.\r\n",
    "\r\n",
    "Since the return type is an integer, the decimal digits are **truncated**, and only **the integer part** of the result is returned.\r\n",
    "\r\n",
    "Note: You are not allowed to use any built-in exponent function or operator, such as `pow(x, 0.5)` or `x ** 0.5`."
   ],
   "metadata": {}
  },
  {
   "cell_type": "markdown",
   "source": [
    "**Example 1:**\n",
    "\n",
    "> Input: x = 4  \n",
    "Output: 2\n",
    "\n",
    "**Example 2:**\n",
    "\n",
    "> Input: x = 8  \n",
    "Output: 2  \n",
    "Explanation: The square root of 8 is 2.82842..., and since the decimal part is truncated, 2 is returned."
   ],
   "metadata": {}
  },
  {
   "cell_type": "code",
   "execution_count": 5,
   "source": [
    "class Solution:\r\n",
    "    \r\n",
    "    # Time Complexity： O(log(n))\r\n",
    "    # Space Complexity： O(1)    \r\n",
    "    def mySqrt_newtonsMethod(self, x: 'int') -> 'int':\r\n",
    "        \"\"\"\r\n",
    "        Newton's Method: \r\n",
    "            x_nplusone = x_n - f(x_n) / f'(x_n) where f(x_n) = (x_n)^2 - x = 0\r\n",
    "            => x_nplusone = (x_n + x/x_n) / 2\r\n",
    "        \"\"\"     \r\n",
    "        \r\n",
    "        r = x\r\n",
    "        \r\n",
    "        while not (r*r <= x < (r+1)*(r+1)):    # TC: O(log(n))\r\n",
    "            r = (r + x/r) // 2\r\n",
    "        \r\n",
    "        return int(r)\r\n",
    "    \r\n",
    "    \r\n",
    "    # Time Complexity： O(log(n))\r\n",
    "    # Space Complexity： O(1)    \r\n",
    "    def mySqrt_binarySearch(self, x: 'int') -> 'int':    \r\n",
    "        # handle edge case: x = 0 or 1\r\n",
    "        if x <= 1: return x   \r\n",
    "\r\n",
    "        l, r = 0, x\r\n",
    "        \r\n",
    "        while l < r:                          # TC: O(log(n))\r\n",
    "            mid = (l+r) // 2\r\n",
    "            \r\n",
    "            if mid*mid <= x < (mid+1)*(mid+1):\r\n",
    "                return int(mid)\r\n",
    "            elif x < mid*mid:\r\n",
    "                r = mid\r\n",
    "            else:\r\n",
    "                l = mid"
   ],
   "outputs": [],
   "metadata": {}
  },
  {
   "cell_type": "code",
   "execution_count": 9,
   "source": [
    "# Test on Cases\r\n",
    "S = Solution()\r\n",
    "\r\n",
    "print(\"---mySqrt_newtonsMethod---\")\r\n",
    "print(f\"Case 1: {S.mySqrt_newtonsMethod(4)}\")\r\n",
    "print(f\"Case 2: {S.mySqrt_newtonsMethod(8)}\\n\")\r\n",
    "\r\n",
    "print(\"---mySqrt_binarySearch---\")\r\n",
    "print(f\"Case 1: {S.mySqrt_binarySearch(4)}\")\r\n",
    "print(f\"Case 2: {S.mySqrt_binarySearch(8)}\\n\")"
   ],
   "outputs": [
    {
     "output_type": "stream",
     "name": "stdout",
     "text": [
      "---mySqrt_newtonsMethod---\n",
      "Case 1: 2\n",
      "Case 2: 2\n",
      "\n",
      "---mySqrt_binarySearch---\n",
      "Case 1: 2\n",
      "Case 2: 2\n",
      "\n"
     ]
    }
   ],
   "metadata": {}
  }
 ],
 "metadata": {
  "kernelspec": {
   "display_name": "Python 3",
   "language": "python",
   "name": "python3"
  },
  "language_info": {
   "codemirror_mode": {
    "name": "ipython",
    "version": 3
   },
   "file_extension": ".py",
   "mimetype": "text/x-python",
   "name": "python",
   "nbconvert_exporter": "python",
   "pygments_lexer": "ipython3",
   "version": "3.7.7"
  }
 },
 "nbformat": 4,
 "nbformat_minor": 4
}