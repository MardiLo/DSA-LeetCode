{
 "cells": [
  {
   "cell_type": "markdown",
   "metadata": {},
   "source": [
    "`# Math` `# Binary Search`"
   ]
  },
  {
   "cell_type": "markdown",
   "metadata": {},
   "source": [
    "Given a *non-negative integer* `x`, compute and return *the square root of* `x`.\n",
    "\n",
    "Since the return type is an integer, the decimal digits are **truncated**, and only **the integer part** of the result is returned.\n",
    "\n",
    "Note: You are not allowed to use any built-in exponent function or operator, such as `pow(x, 0.5)` or `x ** 0.5`."
   ]
  },
  {
   "cell_type": "markdown",
   "metadata": {},
   "source": [
    "**Example 1:**\n",
    "\n",
    "> Input: x = 4  \n",
    "Output: 2\n",
    "\n",
    "**Example 2:**\n",
    "\n",
    "> Input: x = 8  \n",
    "Output: 2  \n",
    "Explanation: The square root of 8 is 2.82842..., and since the decimal part is truncated, 2 is returned."
   ]
  },
  {
   "cell_type": "code",
   "execution_count": 1,
   "metadata": {},
   "outputs": [],
   "source": [
    "class Solution:\n",
    "    \n",
    "    # Time Complexity： O(log(n))\n",
    "    # Space Complexity： O(1)    \n",
    "    def mySqrt_newtonsMethod(self, x: int) -> int:\n",
    "        \"\"\"\n",
    "        Newton's Method: \n",
    "            x_nplusone = x_n - f(x_n) / f'(x_n) where f(x_n) = (x_n)^2 - x = 0\n",
    "            => x_nplusone = (x_n + x/x_n) / 2\n",
    "        \"\"\"     \n",
    "        \n",
    "        r = x\n",
    "        \n",
    "        while not (r*r <= x < (r+1)*(r+1)):    # TC: O(log(n))\n",
    "            r = (r + x/r) // 2\n",
    "        \n",
    "        return int(r)\n",
    "    \n",
    "    \n",
    "    # Time Complexity： O(log(n))\n",
    "    # Space Complexity： O(1)    \n",
    "    def mySqrt_binarySearch(self, x: int) -> int:   \n",
    "        l, r = 0, x\n",
    "        \n",
    "        while l <= r:                          # TC: O(log(n))\n",
    "            m = (l + r) // 2\n",
    "            \n",
    "            if x < m*m: r = m - 1\n",
    "            elif (m+1)*(m+1) <= x: l = m + 1\n",
    "            else: return m"
   ]
  },
  {
   "cell_type": "code",
   "execution_count": 2,
   "metadata": {},
   "outputs": [
    {
     "name": "stdout",
     "output_type": "stream",
     "text": [
      "---mySqrt_newtonsMethod---\n",
      "Case 1: 2\n",
      "Case 2: 2\n",
      "\n",
      "---mySqrt_binarySearch---\n",
      "Case 1: 2\n",
      "Case 2: 2\n"
     ]
    }
   ],
   "source": [
    "# Test on Cases\n",
    "S = Solution()\n",
    "\n",
    "print(\"---mySqrt_newtonsMethod---\")\n",
    "print(f\"Case 1: {S.mySqrt_newtonsMethod(4)}\")\n",
    "print(f\"Case 2: {S.mySqrt_newtonsMethod(8)}\\n\")\n",
    "\n",
    "print(\"---mySqrt_binarySearch---\")\n",
    "print(f\"Case 1: {S.mySqrt_binarySearch(4)}\")\n",
    "print(f\"Case 2: {S.mySqrt_binarySearch(8)}\")"
   ]
  }
 ],
 "metadata": {
  "kernelspec": {
   "display_name": "Python 3.10.4 ('leetcode')",
   "language": "python",
   "name": "python3"
  },
  "language_info": {
   "codemirror_mode": {
    "name": "ipython",
    "version": 3
   },
   "file_extension": ".py",
   "mimetype": "text/x-python",
   "name": "python",
   "nbconvert_exporter": "python",
   "pygments_lexer": "ipython3",
   "version": "3.10.4"
  },
  "vscode": {
   "interpreter": {
    "hash": "21d8332eb27bea95342760850bd7426f517b6a483537194bbba87e10eeabf6ff"
   }
  }
 },
 "nbformat": 4,
 "nbformat_minor": 4
}
