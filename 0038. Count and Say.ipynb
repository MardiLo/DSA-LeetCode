{
 "cells": [
  {
   "cell_type": "markdown",
   "source": [
    "`# String`"
   ],
   "metadata": {}
  },
  {
   "cell_type": "markdown",
   "source": [
    "The **count-and-say** sequence is a sequence of digit strings defined by the recursive formula:\n",
    "\n",
    "- `countAndSay(1) = \"1\"`\n",
    "- `countAndSay(n)` is the way you would \"say\" the digit string from `countAndSay(n-1)`, which is then converted into a different digit string.\n",
    "To determine how you \"say\" a digit string, split it into the **minimal** number of groups so that each group is a contiguous section all of the **same character**. Then for each group, say the number of characters, then say the character. To convert the saying into a digit string, replace the counts with a number and concatenate every saying.\n",
    "\n",
    "For example, the saying and conversion for digit string `\"3322251\"`:\n",
    "\n",
    "\n",
    "Given a positive integer `n`, return the `nth` term of the ***count-and-say*** sequence."
   ],
   "metadata": {}
  },
  {
   "cell_type": "markdown",
   "source": [
    "**Example 1:**\n",
    "\n",
    "> Input: n = 1  \n",
    "Output: \"1\"  \n",
    "Explanation: This is the base case.\n",
    "\n",
    "**Example 2:**\n",
    "\n",
    "> Input: n = 4  \n",
    "Output: \"1211\"  \n",
    "Explanation:  \n",
    "countAndSay(1) = \"1\"  \n",
    "countAndSay(2) = say \"1\" = one 1 = \"11\"  \n",
    "countAndSay(3) = say \"11\" = two 1's = \"21\"  \n",
    "countAndSay(4) = say \"21\" = one 2 + one 1 = \"12\" + \"11\" = \"1211\""
   ],
   "metadata": {}
  },
  {
   "cell_type": "code",
   "execution_count": 25,
   "source": [
    "class Solution:\r\n",
    "    def countAndSay(self, n: 'int') -> 'str':\r\n",
    "        s = '1'\r\n",
    "        \r\n",
    "        for _ in range(n-1):\r\n",
    "            s = ''.join(str(len(list(group))) + digit for digit, group in itertools.groupby(s))\r\n",
    "            \r\n",
    "        return s"
   ],
   "outputs": [],
   "metadata": {}
  },
  {
   "cell_type": "code",
   "execution_count": 26,
   "source": [
    "# Test on Cases\r\n",
    "S = Solution()\r\n",
    "\r\n",
    "print(f\"Case 1: {S.countAndSay(1)}\")\r\n",
    "print(f\"Case 2: {S.countAndSay(4)}\")"
   ],
   "outputs": [
    {
     "output_type": "stream",
     "name": "stdout",
     "text": [
      "Case 1: 1\n",
      "Case 2: 1211\n"
     ]
    }
   ],
   "metadata": {}
  }
 ],
 "metadata": {
  "kernelspec": {
   "display_name": "Python 3",
   "language": "python",
   "name": "python3"
  },
  "language_info": {
   "codemirror_mode": {
    "name": "ipython",
    "version": 3
   },
   "file_extension": ".py",
   "mimetype": "text/x-python",
   "name": "python",
   "nbconvert_exporter": "python",
   "pygments_lexer": "ipython3",
   "version": "3.7.7"
  }
 },
 "nbformat": 4,
 "nbformat_minor": 4
}