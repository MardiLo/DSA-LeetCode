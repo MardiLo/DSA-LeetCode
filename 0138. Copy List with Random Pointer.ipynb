{
 "cells": [
  {
   "cell_type": "markdown",
   "metadata": {},
   "source": [
    "`# Hash Table` `# Linked List`"
   ]
  },
  {
   "cell_type": "markdown",
   "metadata": {},
   "source": [
    "A linked list of length `n` is given such that each node contains an additional random pointer, which could point to any node in the list, or `null`.\n",
    "\n",
    "Construct a deep copy of the list. The deep copy should consist of exactly `n` brand new nodes, where each new node has its value set to the value of its corresponding original node. Both the `next` and `random` pointer of the new nodes should point to new nodes in the copied list such that the pointers in the original list and copied list represent the same list state. **None of the pointers in the new list should point to nodes in the original list.**\n",
    "\n",
    "For example, if there are two nodes `X` and `Y` in the original list, where `X.random --> Y`, then for the corresponding two nodes `x` and `y` in the copied list, `x.random --> y`.\n",
    "\n",
    "Return *the head of the copied linked list*.\n",
    "\n",
    "The linked list is represented in the input/output as a list of `n` nodes. Each node is represented as a pair of `[val, random_index]` where:\n",
    "\n",
    "- `val`: an integer representing `Node.val`\n",
    "- `random_index`: the index of the node (range from `0` to `n-1`) that the `random` pointer points to, or `null` if it does not point to any node.\n",
    "\n",
    "Your code will only be given the `head` of the original linked list.\n",
    "\n",
    " "
   ]
  },
  {
   "cell_type": "markdown",
   "metadata": {},
   "source": [
    "**Example 1:**  \n",
    "![Image of leetcode 0138 problem example 1](https://assets.leetcode.com/uploads/2019/12/18/e1.png)\n",
    "> Input: head = [[7,null],[13,0],[11,4],[10,2],[1,0]]    \n",
    "Output: [[7,null],[13,0],[11,4],[10,2],[1,0]]    \n",
    "\n",
    "**Example 2:**  \n",
    "![Image of leetcode 0138 problem example 2](https://assets.leetcode.com/uploads/2019/12/18/e2.png)\n",
    "> Input: head = [[1,1],[2,1]]  \n",
    "Output: [[1,1],[2,1]]  \n",
    "\n",
    "**Example 3:**  \n",
    "![Image of leetcode 0138 problem example 3](https://assets.leetcode.com/uploads/2019/12/18/e3.png)\n",
    "> Input: head = [[3,null],[3,0],[3,null]]  \n",
    "Output: [[3,null],[3,0],[3,null]]  \n",
    "\n",
    "**Example 4:**  \n",
    "\n",
    "> Input: head = []  \n",
    "Output: []  \n",
    "Explanation: The given linked list is empty (null pointer), so return null.  "
   ]
  },
  {
   "cell_type": "code",
   "execution_count": 1,
   "metadata": {},
   "outputs": [],
   "source": [
    "from __future__ import annotations\n",
    "\n",
    "class Node:\n",
    "    def __init__(self, x: int, next: Node = None, random: Node = None):\n",
    "        self.val = int(x)\n",
    "        self.next = next\n",
    "        self.random = random\n",
    "\n",
    "\n",
    "class Solution:\n",
    "\n",
    "    # Time Complexity： O(n)\n",
    "    # Space Complexity： O(n)\n",
    "    def copyRandomList(self, head: Node) -> Node:       \n",
    "        dic = {None: None}\n",
    "        \n",
    "        original = head\n",
    "        while original:\n",
    "            dic[original] = Node(original.val)\n",
    "            original = original.next\n",
    "            \n",
    "        original = head\n",
    "        while original:\n",
    "            dic[original].next = dic[original.next]\n",
    "            dic[original].random = dic[original.random]\n",
    "            original = original.next\n",
    "        \n",
    "        return dic[head]"
   ]
  },
  {
   "cell_type": "markdown",
   "metadata": {},
   "source": [
    "**Ref**\n",
    "1. [Copy List with Random Pointer - Linked List - Leetcode 138](https://www.youtube.com/watch?v=5Y2EiZST97Y&ab_channel=NeetCode)"
   ]
  }
 ],
 "metadata": {
  "kernelspec": {
   "display_name": "Python 3.10.4 ('leetcode')",
   "language": "python",
   "name": "python3"
  },
  "language_info": {
   "codemirror_mode": {
    "name": "ipython",
    "version": 3
   },
   "file_extension": ".py",
   "mimetype": "text/x-python",
   "name": "python",
   "nbconvert_exporter": "python",
   "pygments_lexer": "ipython3",
   "version": "3.10.4"
  },
  "vscode": {
   "interpreter": {
    "hash": "21d8332eb27bea95342760850bd7426f517b6a483537194bbba87e10eeabf6ff"
   }
  }
 },
 "nbformat": 4,
 "nbformat_minor": 4
}
