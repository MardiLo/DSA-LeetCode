{
 "cells": [
  {
   "cell_type": "markdown",
   "metadata": {},
   "source": [
    "`# Array`"
   ]
  },
  {
   "cell_type": "markdown",
   "metadata": {},
   "source": [
    "Given a **0-indexed** integer array `nums`, return *the* ***smallest*** *index* `i` *of* `nums` *such that* `i mod 10 == nums[i]`*, or* `-1` *if such index does not exist*.\n",
    "\n",
    "`x mod y` denotes the **remainder** when `x` is divided by `y`."
   ]
  },
  {
   "cell_type": "markdown",
   "metadata": {},
   "source": [
    "**Example 1:**  \n",
    "\n",
    "> Input: nums = [0,1,2]  \n",
    "> Output: 0  \n",
    "> Explanation:   \n",
    "> i=0: 0 mod 10 = 0 == nums[0].  \n",
    "> i=1: 1 mod 10 = 1 == nums[1].  \n",
    "> i=2: 2 mod 10 = 2 == nums[2].  \n",
    "> All indices have i mod 10 == nums[i], so we return the smallest index 0.\n",
    "\n",
    "**Example 2:**\n",
    "\n",
    "> Input: nums = [4,3,2,1]  \n",
    "> Output: 2  \n",
    "> Explanation:   \n",
    "> i=0: 0 mod 10 = 0 != nums[0].  \n",
    "> i=1: 1 mod 10 = 1 != nums[1].  \n",
    "> i=2: 2 mod 10 = 2 == nums[2].  \n",
    "> i=3: 3 mod 10 = 3 != nums[3].  \n",
    "> 2 is the only index which has i mod 10 == nums[i].\n",
    "\n",
    "**Example 3:**\n",
    "\n",
    "> Input: nums = [1,2,3,4,5,6,7,8,9,0]  \n",
    "> Output: -1  \n",
    "> Explanation: No index satisfies i mod 10 == nums[i]."
   ]
  },
  {
   "cell_type": "code",
   "execution_count": 1,
   "metadata": {},
   "outputs": [],
   "source": [
    "class Solution:\n",
    "    \n",
    "    # Time Complexity： O(n)\n",
    "    # Space Complexity： O(1)      \n",
    "    def smallestEqual(self, nums: list[int]) -> int:\n",
    "        return next((i for i, num in enumerate(nums) if i % 10 == num), -1)"
   ]
  },
  {
   "cell_type": "code",
   "execution_count": 2,
   "metadata": {},
   "outputs": [
    {
     "name": "stdout",
     "output_type": "stream",
     "text": [
      "Case 1: 0\n",
      "Case 2: 2\n",
      "Case 3: -1\n"
     ]
    }
   ],
   "source": [
    "# Test on Cases\n",
    "S = Solution()\n",
    "\n",
    "print(f\"Case 1: {S.smallestEqual([0,1,2])}\")\n",
    "print(f\"Case 2: {S.smallestEqual([4,3,2,1])}\")\n",
    "print(f\"Case 3: {S.smallestEqual([1,2,3,4,5,6,7,8,9,0])}\")"
   ]
  }
 ],
 "metadata": {
  "kernelspec": {
   "display_name": "Python 3 (ipykernel)",
   "language": "python",
   "name": "python3"
  },
  "language_info": {
   "codemirror_mode": {
    "name": "ipython",
    "version": 3
   },
   "file_extension": ".py",
   "mimetype": "text/x-python",
   "name": "python",
   "nbconvert_exporter": "python",
   "pygments_lexer": "ipython3",
   "version": "3.10.4"
  },
  "vscode": {
   "interpreter": {
    "hash": "21d8332eb27bea95342760850bd7426f517b6a483537194bbba87e10eeabf6ff"
   }
  }
 },
 "nbformat": 4,
 "nbformat_minor": 4
}
