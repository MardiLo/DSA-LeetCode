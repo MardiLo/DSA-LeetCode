{
 "cells": [
  {
   "cell_type": "markdown",
   "metadata": {},
   "source": [
    "`# Array` `# Two Pointers` `# Sorting`"
   ]
  },
  {
   "cell_type": "markdown",
   "metadata": {},
   "source": [
    "Given an array of integers `nums`, half of the integers in `nums` are **odd**, and the other half are **even**.\n",
    "\n",
    "Sort the array so that whenever `nums[i]` is odd, `i` is **odd**, and whenever `nums[i]` is even, `i` is **even**.\n",
    "\n",
    "Return *any answer array that satisfies this condition.*"
   ]
  },
  {
   "cell_type": "markdown",
   "metadata": {},
   "source": [
    "**Example 1:**\n",
    "\n",
    "> Input: nums = [4,2,5,7]  \n",
    "Output: [4,5,2,7]  \n",
    "Explanation: [4,7,2,5], [2,5,4,7], [2,7,4,5] would also have been accepted.\n",
    "\n",
    "**Example 2:**\n",
    "\n",
    "> Input: nums = [2,3]  \n",
    "Output: [2,3]"
   ]
  },
  {
   "cell_type": "code",
   "execution_count": 1,
   "metadata": {},
   "outputs": [],
   "source": [
    "class Solution:\n",
    "    \n",
    "    # Time Complexity： O(n)\n",
    "    # Space Complexity： O(1)\n",
    "    def sortArrayByParityII(self, nums: list[int]) -> list[int]:\n",
    "        l1, l2 = 0, 1\n",
    "        \n",
    "        while l1 < len(nums) and l2 < len(nums): \n",
    "            if not nums[l1] % 2: l1 += 2\n",
    "            elif nums[l2] % 2: l2 += 2\n",
    "            else: nums[l1], nums[l2] = nums[l2], nums[l1]\n",
    "\n",
    "        return nums"
   ]
  },
  {
   "cell_type": "code",
   "execution_count": 2,
   "metadata": {},
   "outputs": [
    {
     "name": "stdout",
     "output_type": "stream",
     "text": [
      "Case 1: [4, 5, 2, 7]\n",
      "Case 2: [2, 3]\n"
     ]
    }
   ],
   "source": [
    "# Test on Cases\n",
    "S = Solution()\n",
    "\n",
    "print(f\"Case 1: {S.sortArrayByParityII([4,2,5,7])}\")\n",
    "print(f\"Case 2: {S.sortArrayByParityII([2,3])}\")"
   ]
  }
 ],
 "metadata": {
  "kernelspec": {
   "display_name": "Python 3.10.4 ('leetcode')",
   "language": "python",
   "name": "python3"
  },
  "language_info": {
   "codemirror_mode": {
    "name": "ipython",
    "version": 3
   },
   "file_extension": ".py",
   "mimetype": "text/x-python",
   "name": "python",
   "nbconvert_exporter": "python",
   "pygments_lexer": "ipython3",
   "version": "3.10.4"
  },
  "vscode": {
   "interpreter": {
    "hash": "21d8332eb27bea95342760850bd7426f517b6a483537194bbba87e10eeabf6ff"
   }
  }
 },
 "nbformat": 4,
 "nbformat_minor": 4
}
