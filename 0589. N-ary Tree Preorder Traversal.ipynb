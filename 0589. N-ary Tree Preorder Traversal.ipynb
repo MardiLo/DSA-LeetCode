{
 "cells": [
  {
   "cell_type": "markdown",
   "source": [
    "`# Depth-First Search` `# Stack` `# Tree`"
   ],
   "metadata": {}
  },
  {
   "cell_type": "markdown",
   "source": [
    "Given the `root` of an n-ary tree, return *the ***preorder traversal*** of its nodes' values*.\n",
    "\n",
    "Nary-Tree input serialization is represented in their level order traversal. Each group of children is separated by the null value (See examples)"
   ],
   "metadata": {}
  },
  {
   "cell_type": "markdown",
   "source": [
    "**Example 1:**  \r\n",
    "![Image of leetcode 0590 problem example 1](https://assets.leetcode.com/uploads/2018/10/12/narytreeexample.png)\r\n",
    "> Input: root = [1,null,3,2,4,null,5,6]  \r\n",
    "Output: [1,3,5,6,2,4]\r\n",
    "\r\n",
    "**Example 2:**  \r\n",
    "![Image of leetcode 0590 problem example 2](https://assets.leetcode.com/uploads/2019/11/08/sample_4_964.png)\r\n",
    "> Input: root = [1,null,2,3,4,5,null,null,6,7,null,8,null,9,10,null,null,11,null,12,null,13,null,null,14]  \r\n",
    "Output: [1,2,3,6,7,11,14,4,8,12,5,9,13,10]"
   ],
   "metadata": {}
  },
  {
   "cell_type": "code",
   "execution_count": 6,
   "source": [
    "class Node:\r\n",
    "    def __init__(self, val=None, children=None):\r\n",
    "        self.val = val\r\n",
    "        self.children = children\r\n",
    "\r\n",
    "class Solution:   \r\n",
    "    \r\n",
    "    # Time Complexity： O(n)\r\n",
    "    # Space Complexity： O(n)  \r\n",
    "    def preorder(self, root: 'Node') -> 'List[int]':\r\n",
    "        if not root:\r\n",
    "            return []\r\n",
    "        \r\n",
    "        res = [] \r\n",
    "        res.append(root.val)\r\n",
    "        for child in root.children:\r\n",
    "            res += self.preorder(child)\r\n",
    "        \r\n",
    "        return res"
   ],
   "outputs": [],
   "metadata": {}
  },
  {
   "cell_type": "code",
   "execution_count": 7,
   "source": [
    "# Test on Cases\r\n",
    "S = Solution()\r\n",
    "\r\n",
    "print(f\"Case 1: {S.preorder(Node(1, [Node(3, [Node(5, []), Node(6, [])]), Node(2, []), Node(4, [])]))}\")\r\n",
    "print(f\"Case 2: {S.preorder(Node(1, [Node(2, []), Node(3, [Node(6, []), Node(7, [Node(11, [Node(14, [])])])]), Node(4, [Node(8, [Node(12, [])])]), Node(5, [Node(9, [Node(13, [])]), Node(10, [])])]))}\")"
   ],
   "outputs": [
    {
     "output_type": "stream",
     "name": "stdout",
     "text": [
      "Case 1: [1, 3, 5, 6, 2, 4]\n",
      "Case 2: [1, 2, 3, 6, 7, 11, 14, 4, 8, 12, 5, 9, 13, 10]\n"
     ]
    }
   ],
   "metadata": {}
  }
 ],
 "metadata": {
  "kernelspec": {
   "display_name": "Python 3",
   "language": "python",
   "name": "python3"
  },
  "language_info": {
   "codemirror_mode": {
    "name": "ipython",
    "version": 3
   },
   "file_extension": ".py",
   "mimetype": "text/x-python",
   "name": "python",
   "nbconvert_exporter": "python",
   "pygments_lexer": "ipython3",
   "version": "3.7.7"
  }
 },
 "nbformat": 4,
 "nbformat_minor": 4
}