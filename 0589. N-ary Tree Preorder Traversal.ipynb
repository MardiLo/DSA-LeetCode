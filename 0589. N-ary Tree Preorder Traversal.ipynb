{
 "cells": [
  {
   "cell_type": "markdown",
   "metadata": {},
   "source": [
    "`# Depth-First Search` `# Stack` `# Tree`"
   ]
  },
  {
   "cell_type": "markdown",
   "metadata": {},
   "source": [
    "Given the `root` of an n-ary tree, return *the* **preorder traversal** *of its nodes' values*.\n",
    "\n",
    "Nary-Tree input serialization is represented in their level order traversal. Each group of children is separated by the null value (See examples)"
   ]
  },
  {
   "cell_type": "markdown",
   "metadata": {},
   "source": [
    "**Example 1:**  \n",
    "![Image of leetcode 0590 problem example 1](https://assets.leetcode.com/uploads/2018/10/12/narytreeexample.png)\n",
    "> Input: root = [1,null,3,2,4,null,5,6]  \n",
    "> Output: [1,3,5,6,2,4]\n",
    "\n",
    "**Example 2:**  \n",
    "![Image of leetcode 0590 problem example 2](https://assets.leetcode.com/uploads/2019/11/08/sample_4_964.png)\n",
    "> Input: root = [1,null,2,3,4,5,null,null,6,7,null,8,null,9,10,null,null,11,null,12,null,13,null,null,14]  \n",
    "> Output: [1,2,3,6,7,11,14,4,8,12,5,9,13,10]"
   ]
  },
  {
   "cell_type": "code",
   "execution_count": 7,
   "metadata": {},
   "outputs": [],
   "source": [
    "class Node:\n",
    "    def __init__(self, val=None, children=None):\n",
    "        self.val = val\n",
    "        self.children = children\n",
    "\n",
    "class Solution:   \n",
    "    \n",
    "    # Time Complexity： O(n)\n",
    "    # Space Complexity： O(h)  \n",
    "    def preorder_DFS_recursion(self, root: Node) -> list[int]:\n",
    "        from itertools import chain\n",
    "\n",
    "        return [root.val] + list(chain(*map(self.preorder_DFS_recursion, root.children))) if root else []     # preorder_DFS_recursion() returns a list contain the node.val\n",
    "\n",
    "        # res = []\n",
    "        \n",
    "        # if root:\n",
    "        #     res.extend([root.val] + list(chain(*[self.preorder_DFS_recursion(child) for child in root.children])))\n",
    "\n",
    "        # return res\n",
    "\n",
    "    # Time Complexity： O(n)\n",
    "    # Space Complexity： O(h)     \n",
    "    def preorder_DFS_iteration(self, root: Node) -> list[int]:\n",
    "        stack, res = [(0, root)], []\n",
    "\n",
    "        while stack:\n",
    "            visited, root = stack.pop()\n",
    "\n",
    "            if root:\n",
    "                if not visited: stack.extend([(0, child) for child in root.children][::-1] + [(1, root)])\n",
    "                else: res.append(root.val)\n",
    "        \n",
    "        return res"
   ]
  },
  {
   "cell_type": "code",
   "execution_count": 8,
   "metadata": {},
   "outputs": [
    {
     "name": "stdout",
     "output_type": "stream",
     "text": [
      "---preorder_DFS_recursion---\n",
      "Case 1: [1, 3, 5, 6, 2, 4]\n",
      "Case 2: [1, 2, 3, 6, 7, 11, 14, 4, 8, 12, 5, 9, 13, 10]\n",
      "\n",
      "---preorder_DFS_iteration---\n",
      "Case 1: [1, 3, 5, 6, 2, 4]\n",
      "Case 2: [1, 2, 3, 6, 7, 11, 14, 4, 8, 12, 5, 9, 13, 10]\n"
     ]
    }
   ],
   "source": [
    "# Test on Cases\n",
    "S = Solution()\n",
    "\n",
    "print(\"---preorder_DFS_recursion---\")\n",
    "print(f\"Case 1: {S.preorder_DFS_recursion(Node(1, [Node(3, [Node(5, []), Node(6, [])]), Node(2, []), Node(4, [])]))}\")\n",
    "print(f\"Case 2: {S.preorder_DFS_recursion(Node(1, [Node(2, []), Node(3, [Node(6, []), Node(7, [Node(11, [Node(14, [])])])]), Node(4, [Node(8, [Node(12, [])])]), Node(5, [Node(9, [Node(13, [])]), Node(10, [])])]))}\\n\")\n",
    "\n",
    "print(\"---preorder_DFS_iteration---\")\n",
    "print(f\"Case 1: {S.preorder_DFS_iteration(Node(1, [Node(3, [Node(5, []), Node(6, [])]), Node(2, []), Node(4, [])]))}\")\n",
    "print(f\"Case 2: {S.preorder_DFS_iteration(Node(1, [Node(2, []), Node(3, [Node(6, []), Node(7, [Node(11, [Node(14, [])])])]), Node(4, [Node(8, [Node(12, [])])]), Node(5, [Node(9, [Node(13, [])]), Node(10, [])])]))}\")"
   ]
  }
 ],
 "metadata": {
  "kernelspec": {
   "display_name": "Python 3 (ipykernel)",
   "language": "python",
   "name": "python3"
  },
  "language_info": {
   "codemirror_mode": {
    "name": "ipython",
    "version": 3
   },
   "file_extension": ".py",
   "mimetype": "text/x-python",
   "name": "python",
   "nbconvert_exporter": "python",
   "pygments_lexer": "ipython3",
   "version": "3.10.4"
  },
  "vscode": {
   "interpreter": {
    "hash": "21d8332eb27bea95342760850bd7426f517b6a483537194bbba87e10eeabf6ff"
   }
  }
 },
 "nbformat": 4,
 "nbformat_minor": 4
}
