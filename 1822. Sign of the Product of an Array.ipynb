{
 "cells": [
  {
   "attachments": {},
   "cell_type": "markdown",
   "metadata": {},
   "source": [
    "`# Array` `# Math`"
   ]
  },
  {
   "attachments": {},
   "cell_type": "markdown",
   "metadata": {},
   "source": [
    "There is a function `signFunc(x)` that returns:\n",
    "\n",
    "- `1` if `x` is positive.\n",
    "- `-1` if `x` is negative.\n",
    "- `0` if `x` is equal to `0`.\n",
    "\n",
    "You are given an integer array `nums`. Let product be the `product` of all values in the array `nums`.\n",
    "\n",
    "Return `signFunc(product)`."
   ]
  },
  {
   "attachments": {},
   "cell_type": "markdown",
   "metadata": {},
   "source": [
    "**Example 1:**\n",
    "\n",
    "> Input: nums = [-1,-2,-3,-4,3,2,1]  \n",
    "> Output: 1  \n",
    "> Explanation: The product of all values in the array is 144, and signFunc(144) = 1\n",
    "\n",
    "**Example 2:**\n",
    "\n",
    "> Input: nums = [1,5,0,2,-3]  \n",
    "> Output: 0  \n",
    "> Explanation: The product of all values in the array is 0, and signFunc(0) = 0\n",
    "\n",
    "**Example 3:**\n",
    "\n",
    "> Input: nums = [-1,1,-1,1,-1]  \n",
    "> Output: -1  \n",
    "> Explanation: The product of all values in the array is -1, and signFunc(-1) = -1"
   ]
  },
  {
   "cell_type": "code",
   "execution_count": 3,
   "metadata": {},
   "outputs": [],
   "source": [
    "class Solution:\n",
    "\n",
    "    # Time Complexity： O(n)\n",
    "    # Space Complexity： O(1)\n",
    "    def arraySign(self, nums: list[int]) -> int:\n",
    "        from functools import reduce\n",
    "        \n",
    "        return reduce(lambda x, y: x * (-1 if y < 0 else bool(y)), nums, 1)"
   ]
  },
  {
   "cell_type": "code",
   "execution_count": 4,
   "metadata": {},
   "outputs": [
    {
     "name": "stdout",
     "output_type": "stream",
     "text": [
      "Case 1: 1\n",
      "Case 2: 0\n",
      "Case 3: -1\n"
     ]
    }
   ],
   "source": [
    "# Test on Cases\n",
    "S = Solution()\n",
    "\n",
    "print(f\"Case 1: {S.arraySign([-1,-2,-3,-4,3,2,1])}\")\n",
    "print(f\"Case 2: {S.arraySign([1,5,0,2,-3])}\")\n",
    "print(f\"Case 3: {S.arraySign([-1,1,-1,1,-1])}\")"
   ]
  }
 ],
 "metadata": {
  "kernelspec": {
   "display_name": "Python 3 (ipykernel)",
   "language": "python",
   "name": "python3"
  },
  "language_info": {
   "codemirror_mode": {
    "name": "ipython",
    "version": 3
   },
   "file_extension": ".py",
   "mimetype": "text/x-python",
   "name": "python",
   "nbconvert_exporter": "python",
   "pygments_lexer": "ipython3",
   "version": "3.10.4"
  },
  "vscode": {
   "interpreter": {
    "hash": "21d8332eb27bea95342760850bd7426f517b6a483537194bbba87e10eeabf6ff"
   }
  }
 },
 "nbformat": 4,
 "nbformat_minor": 4
}
