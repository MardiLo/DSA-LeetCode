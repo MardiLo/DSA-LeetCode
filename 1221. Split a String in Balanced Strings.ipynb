{
 "cells": [
  {
   "cell_type": "markdown",
   "metadata": {},
   "source": [
    "`# Counting` `# Greedy` `# String`"
   ]
  },
  {
   "cell_type": "markdown",
   "metadata": {},
   "source": [
    "**Balanced** strings are those that have an equal quantity of `'L'` and `'R'` characters.\n",
    "\n",
    "Given a **balanced** string `s`, split it into some number of substrings such that:\n",
    "\n",
    "- Each substring is balanced.  \n",
    "\n",
    "Return *the ***maximum*** number of balanced strings you can obtain.*"
   ]
  },
  {
   "cell_type": "markdown",
   "metadata": {},
   "source": [
    "**Example 1:**\n",
    "\n",
    "> Input: s = \"RLRRLLRLRL\"  \n",
    "Output: 4  \n",
    "Explanation: s can be split into \"RL\", \"RRLL\", \"RL\", \"RL\", each substring contains same number of 'L' and 'R'.\n",
    "\n",
    "**Example 2:**\n",
    "\n",
    "> Input: s = \"RLRRRLLRLL\"  \n",
    "Output: 2  \n",
    "Explanation: s can be split into \"RL\", \"RRRLLRLL\", each substring contains same number of 'L' and 'R'.  \n",
    "Note that s cannot be split into \"RL\", \"RR\", \"RL\", \"LR\", \"LL\", because the 2nd and 5th substrings are not balanced.\n",
    "\n",
    "**Example 3:**\n",
    "\n",
    "> Input: s = \"LLLLRRRR\"  \n",
    "Output: 1  \n",
    "Explanation: s can be split into \"LLLLRRRR\"."
   ]
  },
  {
   "cell_type": "code",
   "execution_count": 5,
   "metadata": {},
   "outputs": [],
   "source": [
    "class Solution:\n",
    "    \n",
    "    # Time Complexity： O(n)\n",
    "    # Space Complexity： O(n)    \n",
    "    def balancedStringSplit(self, s: str) -> int:\n",
    "        from itertools import accumulate\n",
    "\n",
    "        return list(accumulate({'R': 1, 'L': -1}[c] for c in s)).count(0)"
   ]
  },
  {
   "cell_type": "code",
   "execution_count": 6,
   "metadata": {},
   "outputs": [
    {
     "name": "stdout",
     "output_type": "stream",
     "text": [
      "Case 1: 4\n",
      "Case 2: 2\n",
      "Case 3: 1\n"
     ]
    }
   ],
   "source": [
    "# Test on Cases\n",
    "S = Solution()\n",
    "\n",
    "print(f\"Case 1: {S.balancedStringSplit('RLRRLLRLRL')}\")\n",
    "print(f\"Case 2: {S.balancedStringSplit('RLRRRLLRLL')}\")\n",
    "print(f\"Case 3: {S.balancedStringSplit('LLLLRRRR')}\")"
   ]
  }
 ],
 "metadata": {
  "kernelspec": {
   "display_name": "Python 3.10.4 ('leetcode')",
   "language": "python",
   "name": "python3"
  },
  "language_info": {
   "codemirror_mode": {
    "name": "ipython",
    "version": 3
   },
   "file_extension": ".py",
   "mimetype": "text/x-python",
   "name": "python",
   "nbconvert_exporter": "python",
   "pygments_lexer": "ipython3",
   "version": "3.10.4"
  },
  "vscode": {
   "interpreter": {
    "hash": "21d8332eb27bea95342760850bd7426f517b6a483537194bbba87e10eeabf6ff"
   }
  }
 },
 "nbformat": 4,
 "nbformat_minor": 4
}
