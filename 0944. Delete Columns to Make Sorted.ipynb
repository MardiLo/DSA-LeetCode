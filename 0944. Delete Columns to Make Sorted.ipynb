{
 "cells": [
  {
   "attachments": {},
   "cell_type": "markdown",
   "metadata": {},
   "source": [
    "`# Array` `# String`"
   ]
  },
  {
   "attachments": {},
   "cell_type": "markdown",
   "metadata": {},
   "source": [
    "You are given an array of `n` strings `strs`, all of the same length.\n",
    "\n",
    "The strings can be arranged such that there is one on each line, making a grid.\n",
    "\n",
    "- For example, `strs = [\"abc\", \"bce\", \"cae\"]` can be arranged as follows:\n",
    "> abc  \n",
    "> bce  \n",
    "> cae\n",
    "\n",
    "You want to **delete** the columns that are **not sorted lexicographically**. In the above example **(0-indexed)**, columns 0 (`'a'`, `'b'`, `'c'`) and 2 (`'c'`, `'e'`, `'e'`) are sorted, while column 1 (`'b'`, `'c'`, `'a'`) is not, so you would delete column 1.\n",
    "\n",
    "Return *the number of columns that you will delete.*"
   ]
  },
  {
   "attachments": {},
   "cell_type": "markdown",
   "metadata": {},
   "source": [
    "**Example 1:**\n",
    "\n",
    "> Input: strs = [\"cba\",\"daf\",\"ghi\"]  \n",
    "> Output: 1  \n",
    "> Explanation: The grid looks as follows:  \n",
    ">   cba  \n",
    ">   daf  \n",
    ">   ghi  \n",
    "> Columns 0 and 2 are sorted, but column 1 is not, so you only need to delete 1 column.\n",
    "\n",
    "**Example 2:**\n",
    "\n",
    "> Input: strs = [\"a\",\"b\"]  \n",
    "> Output: 0  \n",
    "> Explanation: The grid looks as follows:  \n",
    ">   a  \n",
    ">   b  \n",
    "> Column 0 is the only column and is sorted, so you will not delete any columns.\n",
    "\n",
    "**Example 3:**\n",
    "\n",
    "> Input: strs = [\"zyx\",\"wvu\",\"tsr\"]  \n",
    "> Output: 3  \n",
    "> Explanation: The grid looks as follows:  \n",
    ">   zyx  \n",
    ">   wvu  \n",
    ">   tsr   \n",
    "> All 3 columns are not sorted, so you will delete all 3."
   ]
  },
  {
   "cell_type": "code",
   "execution_count": 3,
   "metadata": {},
   "outputs": [],
   "source": [
    "class Solution:\n",
    "\n",
    "    # Time Complexity： O(nmlogm), where n = len(str); m = len(strs)\n",
    "    # Space Complexity： O(m)\n",
    "    def minDeletionSize(self, strs: list[str]) -> int:\n",
    "        return sum(list(s) != sorted(s) for s in zip(*strs))"
   ]
  },
  {
   "cell_type": "code",
   "execution_count": 4,
   "metadata": {},
   "outputs": [
    {
     "name": "stdout",
     "output_type": "stream",
     "text": [
      "Case 1: 1\n",
      "Case 2: 0\n",
      "Case 3: 3\n"
     ]
    }
   ],
   "source": [
    "# Test on Cases\n",
    "S = Solution()\n",
    "\n",
    "print(f\"Case 1: {S.minDeletionSize(['cba','daf','ghi'])}\")\n",
    "print(f\"Case 2: {S.minDeletionSize(['a','b'])}\")\n",
    "print(f\"Case 3: {S.minDeletionSize(['zyx','wvu','tsr'])}\")"
   ]
  }
 ],
 "metadata": {
  "kernelspec": {
   "display_name": "Python 3 (ipykernel)",
   "language": "python",
   "name": "python3"
  },
  "language_info": {
   "codemirror_mode": {
    "name": "ipython",
    "version": 3
   },
   "file_extension": ".py",
   "mimetype": "text/x-python",
   "name": "python",
   "nbconvert_exporter": "python",
   "pygments_lexer": "ipython3",
   "version": "3.10.4 | packaged by conda-forge | (main, Mar 30 2022, 08:38:02) [MSC v.1916 64 bit (AMD64)]"
  },
  "vscode": {
   "interpreter": {
    "hash": "21d8332eb27bea95342760850bd7426f517b6a483537194bbba87e10eeabf6ff"
   }
  }
 },
 "nbformat": 4,
 "nbformat_minor": 4
}
