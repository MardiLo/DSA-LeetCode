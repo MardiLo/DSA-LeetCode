{
 "cells": [
  {
   "cell_type": "markdown",
   "metadata": {},
   "source": [
    "`# Array` `# Breadth-First Search` `# Dynamic Programming` "
   ]
  },
  {
   "cell_type": "markdown",
   "metadata": {},
   "source": [
    "You are given an integer array `coins` representing coins of different denominations and an integer `amount` representing a total amount of money.\n",
    "\n",
    "Return *the fewest number of coins that you need to make up that amount*. If that amount of money cannot be made up by any combination of the coins, return `-1`.\n",
    "\n",
    "You may assume that you have an infinite number of each kind of coin."
   ]
  },
  {
   "cell_type": "markdown",
   "metadata": {},
   "source": [
    "**Example 1:**\n",
    "\n",
    "> Input: coins = [1,2,5], amount = 11  \n",
    "> Output: 3  \n",
    "> Explanation: 11 = 5 + 5 + 1  \n",
    "\n",
    "**Example 2:**\n",
    "\n",
    "> Input: coins = [2], amount = 3  \n",
    "> Output: -1  \n",
    "\n",
    "**Example 3:**\n",
    "\n",
    "> Input: coins = [1], amount = 0  \n",
    "> Output: 0   \n",
    "\n",
    "**Example 4:**\n",
    "\n",
    "> Input: coins = [1], amount = 1  \n",
    "> Output: 1  \n",
    "\n",
    "**Example 5:**\n",
    "\n",
    "> Input: coins = [1], amount = 2  \n",
    "> Output: 2  "
   ]
  },
  {
   "cell_type": "code",
   "execution_count": 7,
   "metadata": {},
   "outputs": [],
   "source": [
    "class Solution:\n",
    "    \n",
    "    # Time Complexity： O(mn)\n",
    "    # Space Complexity： O(m)\n",
    "    def coinChange_DP(self, coins: list[int], amount: int) -> int:\n",
    "        \"\"\"\n",
    "        A Bottom-Up solution, starts from 0 to the target amount and stores the shortest path to the current amt in an dp arrary.\n",
    "        Like dp[2] could be reached by (1 + dp[1]) or (1 + dp[0]). To save the shortest path, we need to take the minimum \n",
    "        between the possible solutions that means dp[2] = min((1 + dp[1]), (1 + dp[0]))\n",
    "        \"\"\"\n",
    "        \n",
    "        dp = [0] + [float('inf')] * amount                      # TC: O(m); SC: O(m), where m = amount\n",
    "\n",
    "        for i in range(1, amount+1):                            # TC: O(mn); SC: O(1)\n",
    "            dp[i] = min((dp[i-coin]+1 for coin in coins if i >= coin), default=float('inf'))\n",
    "\n",
    "        return dp[-1] if dp[-1] != float('inf') else -1\n",
    "\n",
    "    # Time Complexity： O(mn)\n",
    "    # Space Complexity： O(m)\n",
    "    def coinChange_DFS(self, coins: list[int], amount: int) -> int:\n",
    "        \"\"\"A Top-down solution, starts from the target amount to 0.\"\"\"\n",
    "        from functools import cache\n",
    "\n",
    "        @cache\n",
    "        def dfs(amt: int) -> int:\n",
    "            if not amt: return 0\n",
    "\n",
    "            path = float('inf')\n",
    "            for coin in coins:\n",
    "                if amt - coin >= 0:\n",
    "                    path = min(path, dfs(amt-coin) + 1)         # call dfs amount times if coin = 1 as the worst case\n",
    "            \n",
    "            return path\n",
    "\n",
    "        path = dfs(amount)                                      # TC: O(mn), where m = amount and n = len(coins)\n",
    "        return path if path != float('inf') else -1"
   ]
  },
  {
   "cell_type": "code",
   "execution_count": 8,
   "metadata": {},
   "outputs": [
    {
     "name": "stdout",
     "output_type": "stream",
     "text": [
      "---coinChange_DP---\n",
      "Case 1: 3\n",
      "Case 2: -1\n",
      "Case 3: 0\n",
      "Case 4: 1\n",
      "Case 5: 2\n",
      "\n",
      "---coinChange_DFS---\n",
      "Case 1: 3\n",
      "Case 2: -1\n",
      "Case 3: 0\n",
      "Case 4: 1\n",
      "Case 5: 2\n"
     ]
    }
   ],
   "source": [
    "# Test on Cases\n",
    "S = Solution()\n",
    "\n",
    "print(\"---coinChange_DP---\")\n",
    "print(f\"Case 1: {S.coinChange_DP([1,2,5], 11)}\")\n",
    "print(f\"Case 2: {S.coinChange_DP([2], 3)}\")\n",
    "print(f\"Case 3: {S.coinChange_DP([1], 0)}\")\n",
    "print(f\"Case 4: {S.coinChange_DP([1], 1)}\")\n",
    "print(f\"Case 5: {S.coinChange_DP([1], 2)}\\n\")\n",
    "\n",
    "print(\"---coinChange_DFS---\")\n",
    "print(f\"Case 1: {S.coinChange_DFS([1,2,5], 11)}\")\n",
    "print(f\"Case 2: {S.coinChange_DFS([2], 3)}\")\n",
    "print(f\"Case 3: {S.coinChange_DFS([1], 0)}\")\n",
    "print(f\"Case 4: {S.coinChange_DFS([1], 1)}\")\n",
    "print(f\"Case 5: {S.coinChange_DFS([1], 2)}\")"
   ]
  },
  {
   "cell_type": "markdown",
   "metadata": {},
   "source": [
    "**Ref**\n",
    "1. [Clean dp python code](https://leetcode.com/problems/coin-change/discuss/77372/Clean-dp-python-code)"
   ]
  }
 ],
 "metadata": {
  "kernelspec": {
   "display_name": "Python 3 (ipykernel)",
   "language": "python",
   "name": "python3"
  },
  "language_info": {
   "codemirror_mode": {
    "name": "ipython",
    "version": 3
   },
   "file_extension": ".py",
   "mimetype": "text/x-python",
   "name": "python",
   "nbconvert_exporter": "python",
   "pygments_lexer": "ipython3",
   "version": "3.10.4"
  },
  "vscode": {
   "interpreter": {
    "hash": "21d8332eb27bea95342760850bd7426f517b6a483537194bbba87e10eeabf6ff"
   }
  }
 },
 "nbformat": 4,
 "nbformat_minor": 4
}
