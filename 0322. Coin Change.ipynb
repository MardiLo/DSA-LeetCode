{
 "cells": [
  {
   "cell_type": "markdown",
   "metadata": {},
   "source": [
    "`# Array` `# Breadth-First Search` `# Dynamic Programming` "
   ]
  },
  {
   "cell_type": "markdown",
   "metadata": {},
   "source": [
    "You are given an integer array `coins` representing coins of different denominations and an integer `amount` representing a total amount of money.\n",
    "\n",
    "Return *the fewest number of coins that you need to make up that amount*. If that amount of money cannot be made up by any combination of the coins, return `-1`.\n",
    "\n",
    "You may assume that you have an infinite number of each kind of coin."
   ]
  },
  {
   "cell_type": "markdown",
   "metadata": {},
   "source": [
    "**Example 1:**\n",
    "\n",
    "> Input: coins = [1,2,5], amount = 11  \n",
    "Output: 3  \n",
    "Explanation: 11 = 5 + 5 + 1  \n",
    "\n",
    "**Example 2:**\n",
    "\n",
    "> Input: coins = [2], amount = 3  \n",
    "Output: -1  \n",
    "\n",
    "**Example 3:**\n",
    "\n",
    "> Input: coins = [1], amount = 0  \n",
    "Output: 0   \n",
    "\n",
    "**Example 4:**\n",
    "\n",
    "> Input: coins = [1], amount = 1  \n",
    "Output: 1  \n",
    "\n",
    "**Example 5:**\n",
    "\n",
    "> Input: coins = [1], amount = 2  \n",
    "Output: 2  "
   ]
  },
  {
   "cell_type": "code",
   "execution_count": 1,
   "metadata": {},
   "outputs": [],
   "source": [
    "class Solution:\n",
    "    \n",
    "    # Time Complexity： O(mn)\n",
    "    # Space Complexity： O(m)\n",
    "    def coinChange(self, coins: 'List[int]', amount: 'int') -> 'int':\n",
    "        from itertools import product\n",
    "\n",
    "        dp = [0] + [float('inf')] * amount                    # SC: O(m), where m = amount\n",
    "\n",
    "        for i, coin in product(range(1, amount+1), coins):    # TC: O(mn), where n = len(coins)\n",
    "            if i >= coin:\n",
    "                dp[i] = min(dp[i], dp[i-coin] + 1)\n",
    "\n",
    "        return dp[-1] if dp[-1] != float('inf') else -1"
   ]
  },
  {
   "cell_type": "code",
   "execution_count": 2,
   "metadata": {},
   "outputs": [
    {
     "name": "stdout",
     "output_type": "stream",
     "text": [
      "Case 1: 3\n",
      "Case 2: -1\n",
      "Case 3: 0\n",
      "Case 4: 1\n",
      "Case 5: 2\n"
     ]
    }
   ],
   "source": [
    "# Test on Cases\n",
    "S = Solution()\n",
    "\n",
    "print(f\"Case 1: {S.coinChange([1,2,5], 11)}\")\n",
    "print(f\"Case 2: {S.coinChange([2], 3)}\")\n",
    "print(f\"Case 3: {S.coinChange([1], 0)}\")\n",
    "print(f\"Case 4: {S.coinChange([1], 1)}\")\n",
    "print(f\"Case 5: {S.coinChange([1], 2)}\")"
   ]
  },
  {
   "cell_type": "markdown",
   "metadata": {},
   "source": [
    "**Ref**\n",
    "1. [Clean dp python code](https://leetcode.com/problems/coin-change/discuss/77372/Clean-dp-python-code)"
   ]
  }
 ],
 "metadata": {
  "interpreter": {
   "hash": "ba9359eadc070f03edd6183a4af22ffcaf60363daf070b8f22fbedba67666dbe"
  },
  "kernelspec": {
   "display_name": "Python 3.7.7 64-bit ('flask': conda)",
   "name": "python3"
  },
  "language_info": {
   "codemirror_mode": {
    "name": "ipython",
    "version": 3
   },
   "file_extension": ".py",
   "mimetype": "text/x-python",
   "name": "python",
   "nbconvert_exporter": "python",
   "pygments_lexer": "ipython3",
   "version": "3.7.7"
  }
 },
 "nbformat": 4,
 "nbformat_minor": 4
}
