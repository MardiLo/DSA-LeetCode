{
 "cells": [
  {
   "cell_type": "markdown",
   "metadata": {},
   "source": [
    "`# Binary Tree` `# Breadth-First Search` `# Depth-First Search` `# Tree`"
   ]
  },
  {
   "cell_type": "markdown",
   "metadata": {},
   "source": [
    "Given the `root` of a binary tree, flatten the tree into a \"linked list\":\n",
    "\n",
    "- The \"linked list\" should use the same `TreeNode` class where the right `child` pointer points to the next node in the list and the left `child` pointer is always `null`.\n",
    "- The \"linked list\" should be in the same order as a **pre-order traversal** of the binary tree."
   ]
  },
  {
   "cell_type": "markdown",
   "metadata": {},
   "source": [
    "**Example 1:**  \n",
    "![Image of leetcode 0114 problem example 1](https://assets.leetcode.com/uploads/2021/01/14/flaten.jpg)\n",
    "> Input: root = [1,2,5,3,4,null,6]  \n",
    "Output: [1,null,2,null,3,null,4,null,5,null,6]  \n",
    "\n",
    "**Example 2:**  \n",
    "\n",
    "> Input: root = []  \n",
    "Output: []  \n",
    "\n",
    "**Example 3:**\n",
    "\n",
    "> Input: root = [0]  \n",
    "Output: [0]  "
   ]
  },
  {
   "cell_type": "code",
   "execution_count": 15,
   "metadata": {},
   "outputs": [],
   "source": [
    "class TreeNode:\n",
    "    def __init__(self, val=0, left=None, right=None):\n",
    "        self.val = val\n",
    "        self.left = left\n",
    "        self.right = right\n",
    "\n",
    "class Solution:\n",
    "    \n",
    "    # Time Complexity： O(n), it's Morris Traversal\n",
    "    # Space Complexity： O(1)     \n",
    "    def flatten(self, root: 'TreeNode') -> 'None':\n",
    "        \"\"\"\n",
    "        Do not return anything, modify root in-place instead.\n",
    "        \"\"\"\n",
    "        curr = root\n",
    "        \n",
    "        while curr:\n",
    "            if curr.left:\n",
    "                pivot = curr.left\n",
    "                \n",
    "                while pivot.right:\n",
    "                    pivot = pivot.right\n",
    "                    \n",
    "                pivot.right = curr.right\n",
    "                curr.right = curr.left\n",
    "                curr.left = None\n",
    "                \n",
    "            curr = curr.right\n",
    "        \n",
    "        return root"
   ]
  },
  {
   "cell_type": "code",
   "execution_count": 16,
   "metadata": {},
   "outputs": [
    {
     "name": "stdout",
     "output_type": "stream",
     "text": [
      "Case 1: [1, 2, 3, 4, 5, None, 6]\n",
      "Case 2: []\n",
      "Case 3: [0]\n"
     ]
    }
   ],
   "source": [
    "# Test on Cases\n",
    "from leetcodepractice import Print\n",
    "\n",
    "S, P = Solution(), Print()\n",
    "\n",
    "print(f\"Case 1: {P.TreeTraversalBFS(S.flatten(TreeNode(1, TreeNode(2, TreeNode(3), TreeNode(4)), TreeNode(5, TreeNode(None), TreeNode(6)))))}\")\n",
    "print(f\"Case 2: {P.TreeTraversalBFS(S.flatten([]))}\")\n",
    "print(f\"Case 3: {P.TreeTraversalBFS(S.flatten(TreeNode(0)))}\")"
   ]
  },
  {
   "cell_type": "markdown",
   "metadata": {},
   "source": [
    "**Ref**\n",
    "1. [Extremely Intuitive O(1) Space solution with Simple explanation [Python]](https://leetcode.com/problems/flatten-binary-tree-to-linked-list/discuss/1208004/Extremely-Intuitive-O(1)-Space-solution-with-Simple-explanation-Python)\n",
    "2. [JS, Python, Java, C++ | Simple O(1) Space & Recursive Solutions w/ Explanation](https://leetcode.com/problems/flatten-binary-tree-to-linked-list/discuss/1207642/JS-Python-Java-C%2B%2B-or-Simple-O(1)-Space-and-Recursive-Solutions-w-Explanation)"
   ]
  }
 ],
 "metadata": {
  "interpreter": {
   "hash": "a1465031eeae0bed8511463faaa157119e7e6b7b1fbf4ef49fce31064cee3326"
  },
  "kernelspec": {
   "display_name": "Python 3.8.3 64-bit ('base': conda)",
   "name": "python3"
  },
  "language_info": {
   "codemirror_mode": {
    "name": "ipython",
    "version": 3
   },
   "file_extension": ".py",
   "mimetype": "text/x-python",
   "name": "python",
   "nbconvert_exporter": "python",
   "pygments_lexer": "ipython3",
   "version": "3.8.3"
  }
 },
 "nbformat": 4,
 "nbformat_minor": 4
}
