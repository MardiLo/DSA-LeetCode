{
 "cells": [
  {
   "cell_type": "markdown",
   "metadata": {},
   "source": [
    "`# Linked List`"
   ]
  },
  {
   "cell_type": "markdown",
   "metadata": {},
   "source": [
    "Given the `head` of a singly linked list, group all the nodes with odd indices together followed by the nodes with even indices, and return *the reordered list*.\n",
    "\n",
    "The **first node** is considered **odd**, and the **second node** is **even**, and so on.\n",
    "\n",
    "Note that the relative order inside both the even and odd groups should remain as it was in the input.\n",
    "\n",
    "You must solve the problem in `O(1)` *extra space complexity* and `O(n)` *time complexity*."
   ]
  },
  {
   "cell_type": "markdown",
   "metadata": {},
   "source": [
    "**Example 1:**  \n",
    "![Image of leetcode 0328 problem example 1](https://assets.leetcode.com/uploads/2021/03/10/oddeven-linked-list.jpg)\n",
    "> Input: head = [1,2,3,4,5]  \n",
    "Output: [1,3,5,2,4]  \n",
    "\n",
    "**Example 2:**  \n",
    "![Image of leetcode 0328 problem example 2](https://assets.leetcode.com/uploads/2021/03/10/oddeven2-linked-list.jpg)\n",
    "> Input: head = [2,1,3,5,6,4,7]  \n",
    "Output: [2,3,6,7,1,5,4]"
   ]
  },
  {
   "cell_type": "code",
   "execution_count": 1,
   "metadata": {},
   "outputs": [],
   "source": [
    "class ListNode:\n",
    "    def __init__(self, val=0, next=None):\n",
    "        self.val = val\n",
    "        self.next = next\n",
    "        \n",
    "    def list2LinkedList(self, lst):\n",
    "        if not lst: return []\n",
    "        \n",
    "        cur = dummy = ListNode(0)\n",
    "        for node in lst:\n",
    "            cur.next = ListNode(node)\n",
    "            cur = cur.next\n",
    "\n",
    "        return dummy.next\n",
    "\n",
    "\n",
    "class Solution:\n",
    "\n",
    "    # Time Complexity： O(n)\n",
    "    # Space Complexity： O(1)\n",
    "    def oddEvenList(self, head: 'ListNode') -> 'ListNode':\n",
    "        if not head: return head\n",
    "        \n",
    "        odd = head\n",
    "        even = evenHead = head.next\n",
    "        \n",
    "        while even and even.next:     # TC: O(n)\n",
    "            odd.next, even.next = odd.next.next, even.next.next\n",
    "            odd, even = odd.next, even.next\n",
    "            \n",
    "        odd.next = evenHead\n",
    "        \n",
    "        return head"
   ]
  },
  {
   "cell_type": "code",
   "execution_count": 2,
   "metadata": {},
   "outputs": [
    {
     "name": "stdout",
     "output_type": "stream",
     "text": [
      "Case 1: [1, 3, 5, 2, 4]\n",
      "Case 2: [2, 3, 6, 7, 1, 5, 4]\n"
     ]
    }
   ],
   "source": [
    "# Test on Cases\n",
    "from leetcodepractice import Print\n",
    "\n",
    "S, P, L = Solution(), Print(), ListNode()\n",
    "\n",
    "print(f\"Case 1: {P.LinkedListTraversal(S.oddEvenList(L.list2LinkedList([1,2,3,4,5])))}\")\n",
    "print(f\"Case 2: {P.LinkedListTraversal(S.oddEvenList(L.list2LinkedList([2,1,3,5,6,4,7])))}\")"
   ]
  },
  {
   "cell_type": "markdown",
   "metadata": {},
   "source": [
    "**Ref**\n",
    "1. [With detailed explanation | Python](https://leetcode.com/problems/odd-even-linked-list/discuss/133345/With-detailed-explanation-or-Python)"
   ]
  }
 ],
 "metadata": {
  "interpreter": {
   "hash": "ba9359eadc070f03edd6183a4af22ffcaf60363daf070b8f22fbedba67666dbe"
  },
  "kernelspec": {
   "display_name": "Python 3.7.7 64-bit ('flask': conda)",
   "name": "python3"
  },
  "language_info": {
   "codemirror_mode": {
    "name": "ipython",
    "version": 3
   },
   "file_extension": ".py",
   "mimetype": "text/x-python",
   "name": "python",
   "nbconvert_exporter": "python",
   "pygments_lexer": "ipython3",
   "version": "3.7.7"
  }
 },
 "nbformat": 4,
 "nbformat_minor": 4
}
